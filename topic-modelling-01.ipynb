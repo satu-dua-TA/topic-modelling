{
 "cells": [
  {
   "cell_type": "code",
   "execution_count": 1,
   "id": "e4b7ae2a",
   "metadata": {},
   "outputs": [],
   "source": [
    "import os\n",
    "import pandas as pd\n",
    "import numpy as np\n",
    "import matplotlib.pyplot as plt\n",
    "from bertopic import BERTopic\n",
    "from bertopic.vectorizers import ClassTfidfTransformer\n",
    "from bertopic.dimensionality import BaseDimensionalityReduction\n",
    "from sklearn.feature_extraction.text import CountVectorizer\n",
    "from umap import UMAP\n",
    "from hdbscan import HDBSCAN\n",
    "from sentence_transformers import SentenceTransformer"
   ]
  },
  {
   "cell_type": "code",
   "execution_count": 2,
   "metadata": {},
   "outputs": [],
   "source": [
    "df_01 = pd.read_csv('data/stemmed_merged_kubu_01.csv')\n",
    "df_02 = pd.read_csv('data/stemmed_merged_kubu_02.csv')\n",
    "df_03 = pd.read_csv('data/stemmed_merged_kubu_03.csv')"
   ]
  },
  {
   "cell_type": "code",
   "execution_count": 3,
   "id": "0dd53691",
   "metadata": {},
   "outputs": [],
   "source": [
    "indo_stopwords = [\n",
    "    # Basic Indonesian stopwords (keep these)\n",
    "    \"yang\", \"dan\", \"di\", \"dengan\", \"untuk\", \"dari\", \"ke\", \"pada\", \"ini\", \"itu\",\n",
    "    \"atau\", \"ada\", \"juga\", \"dalam\", \"saya\", \"kamu\", \"anda\", \"mereka\", \"kita\", \"kami\",\n",
    "    \"dia\", \"nya\", \"adalah\", \"akan\", \"oleh\", \"seperti\", \"telah\", \"sudah\", \"bisa\", \"dapat\",\n",
    "    \"tidak\", \"tak\", \"jangan\", \"ya\", \"via\", \"yg\", \"dgn\", \"utk\", \"dr\", \"pd\", \"dlm\", \"sdh\", \"tdk\",\n",
    "    \n",
    "    # All candidate names and variations (since they appear everywhere)\n",
    "    \"anies\", \"baswedan\", \"rasyid\", \"muhaimin\", \"iskandar\", \"cak\", \"imin\", \"gus\", \n",
    "    \"prabowo\", \"subianto\", \"gibran\", \"rakabuming\", \"raka\", \"ganjar\", \"pranowo\", \n",
    "    \"mahfud\", \"md\", \"gama\", \"mawi\", \"abdurrahman\", \"abdul\", \"amin\"\n",
    "    \n",
    "    # Titles and name prefixes\n",
    "    \"mas\", \"pak\", \"bu\", \"bapak\", \"ibu\", \"om\", \"tante\", \"mbak\", \"bro\", \"sis\", \"bang\", \n",
    "    \"abang\", \"kak\", \"adek\", \"adik\", \"kakak\", \"bung\", \"prof\", \"dr\", \"haji\", \"hajah\", \"h\",\n",
    "    \n",
    "    # Social media expressions\n",
    "    \"rt\", \"dm\", \"pm\", \"cc\", \"wkwk\", \"haha\", \"woi\", \"hey\", \"ah\", \"eh\", \"oh\", \"hmm\", \"btw\",\n",
    "    \"omg\", \"lol\", \"sih\", \"aja\", \"gitu\", \"banget\", \"kok\", \"deh\", \"ih\", \"yuk\", \"mantap\",\n",
    "    \"insya\", \"insyaallah\", \"alhamdulillah\", \"bismillah\", \"amin\", \"allahuma\", \"allah\",\n",
    "    \n",
    "    # Locations\n",
    "    \"jakarta\", \"jawa\", \"barat\", \"timur\", \"tengah\", \"utara\", \"selatan\", \"sumatra\", \"bali\", \n",
    "    \"aceh\", \"kota\", \"desa\", \"daerah\", \"wilayah\", \"provinsi\", \"kabupaten\", \"kawasan\",\n",
    "    \"bandung\", \"surabaya\", \"makassar\", \"balikpapan\", \"semarang\", \"yogyakarta\", \"solo\",\n",
    "    \n",
    "    \n",
    "\n",
    "]"
   ]
  },
  {
   "cell_type": "code",
   "execution_count": 4,
   "id": "5c41bd7b",
   "metadata": {},
   "outputs": [
    {
     "name": "stderr",
     "output_type": "stream",
     "text": [
      "2025-05-22 19:20:11,413 - BERTopic - Embedding - Transforming documents to embeddings.\n"
     ]
    },
    {
     "data": {
      "application/vnd.jupyter.widget-view+json": {
       "model_id": "727778845050416287cb72ff0b1737b2",
       "version_major": 2,
       "version_minor": 0
      },
      "text/plain": [
       "Batches:   0%|          | 0/934 [00:00<?, ?it/s]"
      ]
     },
     "metadata": {},
     "output_type": "display_data"
    },
    {
     "name": "stderr",
     "output_type": "stream",
     "text": [
      "2025-05-22 19:20:16,568 - BERTopic - Embedding - Completed ✓\n",
      "2025-05-22 19:20:16,569 - BERTopic - Dimensionality - Fitting the dimensionality reduction algorithm\n",
      "2025-05-22 19:20:41,717 - BERTopic - Dimensionality - Completed ✓\n",
      "2025-05-22 19:20:41,718 - BERTopic - Cluster - Start clustering the reduced embeddings\n",
      "2025-05-22 19:24:36,406 - BERTopic - Cluster - Completed ✓\n",
      "2025-05-22 19:24:36,407 - BERTopic - Representation - Extracting topics using c-TF-IDF for topic reduction.\n",
      "2025-05-22 19:24:37,005 - BERTopic - Representation - Completed ✓\n",
      "2025-05-22 19:24:37,006 - BERTopic - Topic reduction - Reducing number of topics\n",
      "2025-05-22 19:24:37,021 - BERTopic - Representation - Fine-tuning topics using representation models.\n",
      "2025-05-22 19:24:37,454 - BERTopic - Representation - Completed ✓\n",
      "2025-05-22 19:24:37,456 - BERTopic - Topic reduction - Reduced number of topics from 371 to 15\n"
     ]
    }
   ],
   "source": [
    "\n",
    "vectorizer = CountVectorizer(\n",
    "    stop_words=indo_stopwords,\n",
    "    ngram_range=(1, 3),  # Keep bigrams and trigrams for political phrases\n",
    "    min_df=5,            # Lower threshold to capture more specific topics\n",
    "    max_df=0.7           # Stricter upper bound to remove very common terms\n",
    ")\n",
    "\n",
    "# Configure UMAP for better clustering of political content\n",
    "umap_model = UMAP(\n",
    "    n_neighbors=15,      # Smaller neighborhood for more specific clusters\n",
    "    n_components=5,      \n",
    "    min_dist=0.0,        # Adjusted for better separation\n",
    "    metric='cosine',\n",
    "    random_state=42\n",
    ")\n",
    "\n",
    "# More sensitive clustering for political topics\n",
    "hdbscan_model = HDBSCAN(\n",
    "    min_cluster_size=10,  # Smaller clusters to capture specific campaign themes\n",
    "    min_samples=5,       # More lenient sample requirement\n",
    "    metric='euclidean',\n",
    "    cluster_selection_method='eom',\n",
    "    prediction_data=True\n",
    ")\n",
    "\n",
    "# Improved c-TF-IDF weighting\n",
    "ctfidf_model = ClassTfidfTransformer(\n",
    "    reduce_frequent_words=True,\n",
    "    bm25_weighting=True\n",
    ")\n",
    "\n",
    "embedding_model = SentenceTransformer(\n",
    "    'distiluse-base-multilingual-cased-v1'\n",
    ")\n",
    "\n",
    "# Configure BERTopic for Indonesian political content\n",
    "topic_model = BERTopic(\n",
    "    language=\"multilingual\",  # Keep multilingual for Indonesian\n",
    "    calculate_probabilities=True,\n",
    "    verbose=True,\n",
    "    nr_topics=15,             # Reduced from 15 to get more focused topics\n",
    "    min_topic_size=5,         # Smaller topics to capture campaign themes\n",
    "    umap_model=umap_model,\n",
    "    hdbscan_model=hdbscan_model,\n",
    "    ctfidf_model=ctfidf_model,\n",
    "    vectorizer_model=vectorizer,\n",
    "    embedding_model=embedding_model,\n",
    ")\n",
    "\n",
    "\n",
    "# Fit the model\n",
    "topics, probs = topic_model.fit_transform(df_01['full_text'].tolist())"
   ]
  },
  {
   "cell_type": "code",
   "execution_count": 5,
   "id": "65cea3ca",
   "metadata": {},
   "outputs": [],
   "source": [
    "# Generate more intuitive topic labels\n",
    "topic_labels = {}\n",
    "for topic_id in topic_model.get_topic_info()[\"Topic\"]:\n",
    "    if topic_id == -1:\n",
    "        topic_labels[topic_id] = \"outlier\"\n",
    "        continue\n",
    "        \n",
    "    # Get top words\n",
    "    words = [word for word, _ in topic_model.get_topic(topic_id)[:5]]\n",
    "    \n",
    "    # Map topics to campaign themes based on keywords\n",
    "    if any(term in words for term in [\"palestina\", \"doa\", \"gelar\", \"bukittinggi\"]):\n",
    "        topic_labels[topic_id] = \"Kampanye Palestina\"\n",
    "    elif any(term in words for term in [\"aceh\", \"warga\", \"sambut\", \"bandara\", \"kedatagan\"]):\n",
    "        topic_labels[topic_id] = \"Kunjungan ke Aceh\"\n",
    "    elif any(term in words for term in [\"sumbar\", \"sumatra\", \"barat\", \"safari\"]):\n",
    "        topic_labels[topic_id] = \"Kampanye Sumatra Barat\"\n",
    "    elif any(term in words for term in [\"adil\", \"makmur\", \"sejahtera\", \"rakyat\"]):\n",
    "        topic_labels[topic_id] = \"Visi Keadilan & Kemakmuran\"\n",
    "    elif any(term in words for term in [\"menang\", \"indonesia\", \"senang\", \"bismillah\"]):\n",
    "        topic_labels[topic_id] = \"Dukungan Kemenangan\"\n",
    "    elif any(term in words for term in [\"pesantren\", \"santri\", \"tenanan\", \"kiai\"]):\n",
    "        topic_labels[topic_id] = \"Dukungan Pesantren & Santri\"\n",
    "    elif any(term in words for term in [\"partai\", \"bangkit\", \"bangsa\"]):\n",
    "        topic_labels[topic_id] = \"Dukungan Partai Politik\"\n",
    "    else:\n",
    "        # Use top 3 words as label for other topics\n",
    "        topic_labels[topic_id] = \" & \".join(words[:3])\n",
    "\n",
    "# Apply custom labels\n",
    "topic_model.set_topic_labels(topic_labels)"
   ]
  },
  {
   "cell_type": "code",
   "execution_count": 6,
   "id": "f070c15b",
   "metadata": {},
   "outputs": [],
   "source": [
    "\n",
    "from wordcloud import WordCloud"
   ]
  },
  {
   "cell_type": "code",
   "execution_count": 7,
   "id": "8d1b189d",
   "metadata": {},
   "outputs": [
    {
     "name": "stdout",
     "output_type": "stream",
     "text": [
      "\n",
      "Improved Topic Information:\n",
      "   Topic  Count                                               Name  \\\n",
      "0     -1  10711                           -1_bicara_suka_isu_desak   \n",
      "1      0  10304        0_presiden 01_01 01_calon presiden 01_teman   \n",
      "2      1   4412   1_pilih presiden_makmur_adil makmur_menang pilih   \n",
      "3      2   1360              2_politik_demokrasi_partai_legislatif   \n",
      "4      3   1342                     3_debat_kritik_komentar_dialog   \n",
      "5      4    569                     4_video_videotron_film_youtube   \n",
      "6      5    334                  5_program_gratis_makan_program 01   \n",
      "7      6    279                6_twitter_berita_media_media sosial   \n",
      "8      7    214  7_01 pintar_orang pintar_pintar bicara_orang b...   \n",
      "9      8    145                      8_palestina_merdeka_aksi_free   \n",
      "\n",
      "                                 CustomName  \\\n",
      "0                                   outlier   \n",
      "1   presiden 01 & 01 01 & calon presiden 01   \n",
      "2                Visi Keadilan & Kemakmuran   \n",
      "3                   Dukungan Partai Politik   \n",
      "4                 debat & kritik & komentar   \n",
      "5                  video & videotron & film   \n",
      "6                  program & gratis & makan   \n",
      "7                  twitter & berita & media   \n",
      "8  01 pintar & orang pintar & pintar bicara   \n",
      "9                        Kampanye Palestina   \n",
      "\n",
      "                                      Representation  \\\n",
      "0  [bicara, suka, isu, desak, survei, pilih presi...   \n",
      "1  [presiden 01, 01 01, calon presiden 01, teman,...   \n",
      "2  [pilih presiden, makmur, adil makmur, menang p...   \n",
      "3  [politik, demokrasi, partai, legislatif, ident...   \n",
      "4  [debat, kritik, komentar, dialog, calon wakil ...   \n",
      "5  [video, videotron, film, youtube, potong, tont...   \n",
      "6  [program, gratis, makan, program 01, makan sia...   \n",
      "7  [twitter, berita, media, media sosial, sosial,...   \n",
      "8  [01 pintar, orang pintar, pintar bicara, orang...   \n",
      "9  [palestina, merdeka, aksi, free, bela, amerika...   \n",
      "\n",
      "                                 Representative_Docs  \n",
      "0  [calon presiden nomor urut 01 anies baswedan s...  \n",
      "1  [model kubu 01 isu bohong nyinyir fitnah benci...  \n",
      "2  [anies salah pilih pasang cak imin calon wakil...  \n",
      "3  [anies rasyid baswedan anies calon presiden us...  \n",
      "4  [debat calon presiden kemarin 01 onfire debat ...  \n",
      "5  [kompilasi video kampanye anies aceh wilayah p...  \n",
      "6  [bahan bakar minyak gratis 01 nelayan sulit so...  \n",
      "7  [ramai tim 01 media sosial sih bagus, buzzer 0...  \n",
      "8  [bilang 01 orang pintar pilih anis orang pinta...  \n",
      "9  [lapang medan merdeka anies kirim pesan merdek...  \n",
      "\n",
      "Campaign Themes for Ganjar-Mahfud:\n",
      "Theme: 0_presiden 01_01 01_calon presiden 01_teman\n",
      "Keywords: presiden 01, 01 01, calon presiden 01, teman, menang 01, 01 kayak, agama, buzzer 01\n",
      "Document count: 10304\n",
      "--------------------------------------------------\n",
      "Theme: 1_pilih presiden_makmur_adil makmur_menang pilih\n",
      "Keywords: pilih presiden, makmur, adil makmur, menang pilih, menang pilih presiden, wakil, wakil presiden, ri\n",
      "Document count: 4412\n",
      "--------------------------------------------------\n",
      "Theme: 2_politik_demokrasi_partai_legislatif\n",
      "Keywords: politik, demokrasi, partai, legislatif, identitas, nasional, juang, polisi\n",
      "Document count: 1360\n",
      "--------------------------------------------------\n",
      "Theme: 3_debat_kritik_komentar_dialog\n",
      "Keywords: debat, kritik, komentar, dialog, calon wakil presiden, calon wakil, wakil presiden, 01 debat\n",
      "Document count: 1342\n",
      "--------------------------------------------------\n",
      "Theme: 4_video_videotron_film_youtube\n",
      "Keywords: video, videotron, film, youtube, potong, tonton video, edit, 01 lihat\n",
      "Document count: 569\n",
      "--------------------------------------------------\n",
      "Theme: 5_program_gratis_makan_program 01\n",
      "Keywords: program, gratis, makan, program 01, makan siang, siang, susu, bakar minyak gratis\n",
      "Document count: 334\n",
      "--------------------------------------------------\n",
      "Theme: 6_twitter_berita_media_media sosial\n",
      "Keywords: twitter, berita, media, media sosial, sosial, baca berita, warga twitter, televisi\n",
      "Document count: 279\n",
      "--------------------------------------------------\n",
      "Theme: 7_01 pintar_orang pintar_pintar bicara_orang bodoh\n",
      "Keywords: 01 pintar, orang pintar, pintar bicara, orang bodoh, 01 aku, dukung 01 aku, olok, 01 orang\n",
      "Document count: 214\n",
      "--------------------------------------------------\n",
      "Theme: 8_palestina_merdeka_aksi_free\n",
      "Keywords: palestina, merdeka, aksi, free, bela, amerika, orasi, kirim\n",
      "Document count: 145\n",
      "--------------------------------------------------\n",
      "Theme: 9_strategi_swing_antisipasi_jauh\n",
      "Keywords: strategi, swing, antisipasi, jauh, joget, tim sukses, loncat, swing pilih\n",
      "Document count: 86\n",
      "--------------------------------------------------\n",
      "Theme: 10_viral_viralkan_ln_bis\n",
      "Keywords: viral, viralkan, ln, bis, jelek 01, angkut, komika, zaman\n",
      "Document count: 48\n",
      "--------------------------------------------------\n",
      "Theme: 11_investasi_investor_jangka_padat\n",
      "Keywords: investasi, investor, jangka, padat, asing, bidang, serap, tenaga kerja\n",
      "Document count: 22\n",
      "--------------------------------------------------\n",
      "Theme: 12_food estate_estate_food_blak\n",
      "Keywords: food estate, estate, food, blak, tani, jagung, blak blak, henti\n",
      "Document count: 21\n",
      "--------------------------------------------------\n",
      "Theme: 13_transportasi_kaki_listrik_transportasi publik\n",
      "Keywords: transportasi, kaki, listrik, transportasi publik, publikasi, tingkat kualitas, komitmen, implementasi\n",
      "Document count: 14\n",
      "--------------------------------------------------\n"
     ]
    },
    {
     "data": {
      "image/png": "[encoded data removed]",
      "text/plain": [
       "<Figure size 1200x600 with 1 Axes>"
      ]
     },
     "metadata": {},
     "output_type": "display_data"
    },
    {
     "data": {
      "application/vnd.plotly.v1+json": {
       "config": {
        "plotlyServerURL": "https://plot.ly"
       },
       "data": [
        {
         "customdata": [
          [
           0,
           "presiden 01 | 01 01 | calon presiden 01 | teman | menang 01",
           10304
          ],
          [
           1,
           "pilih presiden | makmur | adil makmur | menang pilih | menang pilih presiden",
           4412
          ],
          [
           2,
           "politik | demokrasi | partai | legislatif | identitas",
           1360
          ],
          [
           3,
           "debat | kritik | komentar | dialog | calon wakil presiden",
           1342
          ],
          [
           4,
           "video | videotron | film | youtube | potong",
           569
          ],
          [
           5,
           "program | gratis | makan | program 01 | makan siang",
           334
          ],
          [
           6,
           "twitter | berita | media | media sosial | sosial",
           279
          ],
          [
           7,
           "01 pintar | orang pintar | pintar bicara | orang bodoh | 01 aku",
           214
          ],
          [
           8,
           "palestina | merdeka | aksi | free | bela",
           145
          ],
          [
           9,
           "strategi | swing | antisipasi | jauh | joget",
           86
          ],
          [
           10,
           "viral | viralkan | ln | bis | jelek 01",
           48
          ],
          [
           11,
           "investasi | investor | jangka | padat | asing",
           22
          ],
          [
           12,
           "food estate | estate | food | blak | tani",
           21
          ],
          [
           13,
           "transportasi | kaki | listrik | transportasi publik | publikasi",
           14
          ]
         ],
         "hovertemplate": "<b>Topic %{customdata[0]}</b><br>%{customdata[1]}<br>Size: %{customdata[2]}",
         "legendgroup": "",
         "marker": {
          "color": "#B0BEC5",
          "line": {
           "color": "DarkSlateGrey",
           "width": 2
          },
          "size": {
           "bdata": "QCg8EVAFPgU5Ak4BFwHWAJEAVgAwABYAFQAOAA==",
           "dtype": "i2"
          },
          "sizemode": "area",
          "sizeref": 6.44,
          "symbol": "circle"
         },
         "mode": "markers",
         "name": "",
         "orientation": "v",
         "showlegend": false,
         "type": "scatter",
         "x": {
          "bdata": "GTlsv7pitMDRpsnA7c7QwFInq78ODsC/z3CGvwsBJ8BCNqTAJdINwNEzjMD15JzAxhyiwJ4/tsA=",
          "dtype": "f4"
         },
         "xaxis": "x",
         "y": {
          "bdata": "6VOUvu6E3UG/3tZBMxjUQSpWu7//q3q+3D03v8N1M7+iG9ZBAlrOv84W10GzH8xBb8jcQZxh2kE=",
          "dtype": "f4"
         },
         "yaxis": "y"
        }
       ],
       "layout": {
        "annotations": [
         {
          "showarrow": false,
          "text": "D1",
          "x": -7.5040483474731445,
          "y": 14.994726181030273,
          "yshift": 10
         },
         {
          "showarrow": false,
          "text": "D2",
          "x": -4.144191265106201,
          "xshift": 10,
          "y": 31.843393325805664
         }
        ],
        "height": 650,
        "hoverlabel": {
         "bgcolor": "white",
         "font": {
          "family": "Rockwell",
          "size": 16
         }
        },
        "legend": {
         "itemsizing": "constant",
         "tracegroupgap": 0
        },
        "margin": {
         "t": 60
        },
        "shapes": [
         {
          "line": {
           "color": "#CFD8DC",
           "width": 2
          },
          "type": "line",
          "x0": -4.144191265106201,
          "x1": -4.144191265106201,
          "y0": -1.8539401292800903,
          "y1": 31.843393325805664
         },
         {
          "line": {
           "color": "#9E9E9E",
           "width": 2
          },
          "type": "line",
          "x0": -7.5040483474731445,
          "x1": -0.7843343019485474,
          "y0": 14.994726181030273,
          "y1": 14.994726181030273
         }
        ],
        "sliders": [
         {
          "active": 0,
          "pad": {
           "t": 50
          },
          "steps": [
           {
            "args": [
             {
              "marker.color": [
               [
                "red",
                "#B0BEC5",
                "#B0BEC5",
                "#B0BEC5",
                "#B0BEC5",
                "#B0BEC5",
                "#B0BEC5",
                "#B0BEC5",
                "#B0BEC5",
                "#B0BEC5",
                "#B0BEC5",
                "#B0BEC5",
                "#B0BEC5",
                "#B0BEC5"
               ]
              ]
             }
            ],
            "label": "Topic 0",
            "method": "update"
           },
           {
            "args": [
             {
              "marker.color": [
               [
                "#B0BEC5",
                "red",
                "#B0BEC5",
                "#B0BEC5",
                "#B0BEC5",
                "#B0BEC5",
                "#B0BEC5",
                "#B0BEC5",
                "#B0BEC5",
                "#B0BEC5",
                "#B0BEC5",
                "#B0BEC5",
                "#B0BEC5",
                "#B0BEC5"
               ]
              ]
             }
            ],
            "label": "Topic 1",
            "method": "update"
           },
           {
            "args": [
             {
              "marker.color": [
               [
                "#B0BEC5",
                "#B0BEC5",
                "red",
                "#B0BEC5",
                "#B0BEC5",
                "#B0BEC5",
                "#B0BEC5",
                "#B0BEC5",
                "#B0BEC5",
                "#B0BEC5",
                "#B0BEC5",
                "#B0BEC5",
                "#B0BEC5",
                "#B0BEC5"
               ]
              ]
             }
            ],
            "label": "Topic 2",
            "method": "update"
           },
           {
            "args": [
             {
              "marker.color": [
               [
                "#B0BEC5",
                "#B0BEC5",
                "#B0BEC5",
                "red",
                "#B0BEC5",
                "#B0BEC5",
                "#B0BEC5",
                "#B0BEC5",
                "#B0BEC5",
                "#B0BEC5",
                "#B0BEC5",
                "#B0BEC5",
                "#B0BEC5",
                "#B0BEC5"
               ]
              ]
             }
            ],
            "label": "Topic 3",
            "method": "update"
           },
           {
            "args": [
             {
              "marker.color": [
               [
                "#B0BEC5",
                "#B0BEC5",
                "#B0BEC5",
                "#B0BEC5",
                "red",
                "#B0BEC5",
                "#B0BEC5",
                "#B0BEC5",
                "#B0BEC5",
                "#B0BEC5",
                "#B0BEC5",
                "#B0BEC5",
                "#B0BEC5",
                "#B0BEC5"
               ]
              ]
             }
            ],
            "label": "Topic 4",
            "method": "update"
           },
           {
            "args": [
             {
              "marker.color": [
               [
                "#B0BEC5",
                "#B0BEC5",
                "#B0BEC5",
                "#B0BEC5",
                "#B0BEC5",
                "red",
                "#B0BEC5",
                "#B0BEC5",
                "#B0BEC5",
                "#B0BEC5",
                "#B0BEC5",
                "#B0BEC5",
                "#B0BEC5",
                "#B0BEC5"
               ]
              ]
             }
            ],
            "label": "Topic 5",
            "method": "update"
           },
           {
            "args": [
             {
              "marker.color": [
               [
                "#B0BEC5",
                "#B0BEC5",
                "#B0BEC5",
                "#B0BEC5",
                "#B0BEC5",
                "#B0BEC5",
                "red",
                "#B0BEC5",
                "#B0BEC5",
                "#B0BEC5",
                "#B0BEC5",
                "#B0BEC5",
                "#B0BEC5",
                "#B0BEC5"
               ]
              ]
             }
            ],
            "label": "Topic 6",
            "method": "update"
           },
           {
            "args": [
             {
              "marker.color": [
               [
                "#B0BEC5",
                "#B0BEC5",
                "#B0BEC5",
                "#B0BEC5",
                "#B0BEC5",
                "#B0BEC5",
                "#B0BEC5",
                "red",
                "#B0BEC5",
                "#B0BEC5",
                "#B0BEC5",
                "#B0BEC5",
                "#B0BEC5",
                "#B0BEC5"
               ]
              ]
             }
            ],
            "label": "Topic 7",
            "method": "update"
           },
           {
            "args": [
             {
              "marker.color": [
               [
                "#B0BEC5",
                "#B0BEC5",
                "#B0BEC5",
                "#B0BEC5",
                "#B0BEC5",
                "#B0BEC5",
                "#B0BEC5",
                "#B0BEC5",
                "red",
                "#B0BEC5",
                "#B0BEC5",
                "#B0BEC5",
                "#B0BEC5",
                "#B0BEC5"
               ]
              ]
             }
            ],
            "label": "Topic 8",
            "method": "update"
           },
           {
            "args": [
             {
              "marker.color": [
               [
                "#B0BEC5",
                "#B0BEC5",
                "#B0BEC5",
                "#B0BEC5",
                "#B0BEC5",
                "#B0BEC5",
                "#B0BEC5",
                "#B0BEC5",
                "#B0BEC5",
                "red",
                "#B0BEC5",
                "#B0BEC5",
                "#B0BEC5",
                "#B0BEC5"
               ]
              ]
             }
            ],
            "label": "Topic 9",
            "method": "update"
           },
           {
            "args": [
             {
              "marker.color": [
               [
                "#B0BEC5",
                "#B0BEC5",
                "#B0BEC5",
                "#B0BEC5",
                "#B0BEC5",
                "#B0BEC5",
                "#B0BEC5",
                "#B0BEC5",
                "#B0BEC5",
                "#B0BEC5",
                "red",
                "#B0BEC5",
                "#B0BEC5",
                "#B0BEC5"
               ]
              ]
             }
            ],
            "label": "Topic 10",
            "method": "update"
           },
           {
            "args": [
             {
              "marker.color": [
               [
                "#B0BEC5",
                "#B0BEC5",
                "#B0BEC5",
                "#B0BEC5",
                "#B0BEC5",
                "#B0BEC5",
                "#B0BEC5",
                "#B0BEC5",
                "#B0BEC5",
                "#B0BEC5",
                "#B0BEC5",
                "red",
                "#B0BEC5",
                "#B0BEC5"
               ]
              ]
             }
            ],
            "label": "Topic 11",
            "method": "update"
           },
           {
            "args": [
             {
              "marker.color": [
               [
                "#B0BEC5",
                "#B0BEC5",
                "#B0BEC5",
                "#B0BEC5",
                "#B0BEC5",
                "#B0BEC5",
                "#B0BEC5",
                "#B0BEC5",
                "#B0BEC5",
                "#B0BEC5",
                "#B0BEC5",
                "#B0BEC5",
                "red",
                "#B0BEC5"
               ]
              ]
             }
            ],
            "label": "Topic 12",
            "method": "update"
           },
           {
            "args": [
             {
              "marker.color": [
               [
                "#B0BEC5",
                "#B0BEC5",
                "#B0BEC5",
                "#B0BEC5",
                "#B0BEC5",
                "#B0BEC5",
                "#B0BEC5",
                "#B0BEC5",
                "#B0BEC5",
                "#B0BEC5",
                "#B0BEC5",
                "#B0BEC5",
                "#B0BEC5",
                "red"
               ]
              ]
             }
            ],
            "label": "Topic 13",
            "method": "update"
           }
          ]
         }
        ],
        "template": {
         "data": {
          "bar": [
           {
            "error_x": {
             "color": "rgb(36,36,36)"
            },
            "error_y": {
             "color": "rgb(36,36,36)"
            },
            "marker": {
             "line": {
              "color": "white",
              "width": 0.5
             },
             "pattern": {
              "fillmode": "overlay",
              "size": 10,
              "solidity": 0.2
             }
            },
            "type": "bar"
           }
          ],
          "barpolar": [
           {
            "marker": {
             "line": {
              "color": "white",
              "width": 0.5
             },
             "pattern": {
              "fillmode": "overlay",
              "size": 10,
              "solidity": 0.2
             }
            },
            "type": "barpolar"
           }
          ],
          "carpet": [
           {
            "aaxis": {
             "endlinecolor": "rgb(36,36,36)",
             "gridcolor": "white",
             "linecolor": "white",
             "minorgridcolor": "white",
             "startlinecolor": "rgb(36,36,36)"
            },
            "baxis": {
             "endlinecolor": "rgb(36,36,36)",
             "gridcolor": "white",
             "linecolor": "white",
             "minorgridcolor": "white",
             "startlinecolor": "rgb(36,36,36)"
            },
            "type": "carpet"
           }
          ],
          "choropleth": [
           {
            "colorbar": {
             "outlinewidth": 1,
             "tickcolor": "rgb(36,36,36)",
             "ticks": "outside"
            },
            "type": "choropleth"
           }
          ],
          "contour": [
           {
            "colorbar": {
             "outlinewidth": 1,
             "tickcolor": "rgb(36,36,36)",
             "ticks": "outside"
            },
            "colorscale": [
             [
              0,
              "#440154"
             ],
             [
              0.1111111111111111,
              "#482878"
             ],
             [
              0.2222222222222222,
              "#3e4989"
             ],
             [
              0.3333333333333333,
              "#31688e"
             ],
             [
              0.4444444444444444,
              "#26828e"
             ],
             [
              0.5555555555555556,
              "#1f9e89"
             ],
             [
              0.6666666666666666,
              "#35b779"
             ],
             [
              0.7777777777777778,
              "#6ece58"
             ],
             [
              0.8888888888888888,
              "#b5de2b"
             ],
             [
              1,
              "#fde725"
             ]
            ],
            "type": "contour"
           }
          ],
          "contourcarpet": [
           {
            "colorbar": {
             "outlinewidth": 1,
             "tickcolor": "rgb(36,36,36)",
             "ticks": "outside"
            },
            "type": "contourcarpet"
           }
          ],
          "heatmap": [
           {
            "colorbar": {
             "outlinewidth": 1,
             "tickcolor": "rgb(36,36,36)",
             "ticks": "outside"
            },
            "colorscale": [
             [
              0,
              "#440154"
             ],
             [
              0.1111111111111111,
              "#482878"
             ],
             [
              0.2222222222222222,
              "#3e4989"
             ],
             [
              0.3333333333333333,
              "#31688e"
             ],
             [
              0.4444444444444444,
              "#26828e"
             ],
             [
              0.5555555555555556,
              "#1f9e89"
             ],
             [
              0.6666666666666666,
              "#35b779"
             ],
             [
              0.7777777777777778,
              "#6ece58"
             ],
             [
              0.8888888888888888,
              "#b5de2b"
             ],
             [
              1,
              "#fde725"
             ]
            ],
            "type": "heatmap"
           }
          ],
          "histogram": [
           {
            "marker": {
             "line": {
              "color": "white",
              "width": 0.6
             }
            },
            "type": "histogram"
           }
          ],
          "histogram2d": [
           {
            "colorbar": {
             "outlinewidth": 1,
             "tickcolor": "rgb(36,36,36)",
             "ticks": "outside"
            },
            "colorscale": [
             [
              0,
              "#440154"
             ],
             [
              0.1111111111111111,
              "#482878"
             ],
             [
              0.2222222222222222,
              "#3e4989"
             ],
             [
              0.3333333333333333,
              "#31688e"
             ],
             [
              0.4444444444444444,
              "#26828e"
             ],
             [
              0.5555555555555556,
              "#1f9e89"
             ],
             [
              0.6666666666666666,
              "#35b779"
             ],
             [
              0.7777777777777778,
              "#6ece58"
             ],
             [
              0.8888888888888888,
              "#b5de2b"
             ],
             [
              1,
              "#fde725"
             ]
            ],
            "type": "histogram2d"
           }
          ],
          "histogram2dcontour": [
           {
            "colorbar": {
             "outlinewidth": 1,
             "tickcolor": "rgb(36,36,36)",
             "ticks": "outside"
            },
            "colorscale": [
             [
              0,
              "#440154"
             ],
             [
              0.1111111111111111,
              "#482878"
             ],
             [
              0.2222222222222222,
              "#3e4989"
             ],
             [
              0.3333333333333333,
              "#31688e"
             ],
             [
              0.4444444444444444,
              "#26828e"
             ],
             [
              0.5555555555555556,
              "#1f9e89"
             ],
             [
              0.6666666666666666,
              "#35b779"
             ],
             [
              0.7777777777777778,
              "#6ece58"
             ],
             [
              0.8888888888888888,
              "#b5de2b"
             ],
             [
              1,
              "#fde725"
             ]
            ],
            "type": "histogram2dcontour"
           }
          ],
          "mesh3d": [
           {
            "colorbar": {
             "outlinewidth": 1,
             "tickcolor": "rgb(36,36,36)",
             "ticks": "outside"
            },
            "type": "mesh3d"
           }
          ],
          "parcoords": [
           {
            "line": {
             "colorbar": {
              "outlinewidth": 1,
              "tickcolor": "rgb(36,36,36)",
              "ticks": "outside"
             }
            },
            "type": "parcoords"
           }
          ],
          "pie": [
           {
            "automargin": true,
            "type": "pie"
           }
          ],
          "scatter": [
           {
            "fillpattern": {
             "fillmode": "overlay",
             "size": 10,
             "solidity": 0.2
            },
            "type": "scatter"
           }
          ],
          "scatter3d": [
           {
            "line": {
             "colorbar": {
              "outlinewidth": 1,
              "tickcolor": "rgb(36,36,36)",
              "ticks": "outside"
             }
            },
            "marker": {
             "colorbar": {
              "outlinewidth": 1,
              "tickcolor": "rgb(36,36,36)",
              "ticks": "outside"
             }
            },
            "type": "scatter3d"
           }
          ],
          "scattercarpet": [
           {
            "marker": {
             "colorbar": {
              "outlinewidth": 1,
              "tickcolor": "rgb(36,36,36)",
              "ticks": "outside"
             }
            },
            "type": "scattercarpet"
           }
          ],
          "scattergeo": [
           {
            "marker": {
             "colorbar": {
              "outlinewidth": 1,
              "tickcolor": "rgb(36,36,36)",
              "ticks": "outside"
             }
            },
            "type": "scattergeo"
           }
          ],
          "scattergl": [
           {
            "marker": {
             "colorbar": {
              "outlinewidth": 1,
              "tickcolor": "rgb(36,36,36)",
              "ticks": "outside"
             }
            },
            "type": "scattergl"
           }
          ],
          "scattermap": [
           {
            "marker": {
             "colorbar": {
              "outlinewidth": 1,
              "tickcolor": "rgb(36,36,36)",
              "ticks": "outside"
             }
            },
            "type": "scattermap"
           }
          ],
          "scattermapbox": [
           {
            "marker": {
             "colorbar": {
              "outlinewidth": 1,
              "tickcolor": "rgb(36,36,36)",
              "ticks": "outside"
             }
            },
            "type": "scattermapbox"
           }
          ],
          "scatterpolar": [
           {
            "marker": {
             "colorbar": {
              "outlinewidth": 1,
              "tickcolor": "rgb(36,36,36)",
              "ticks": "outside"
             }
            },
            "type": "scatterpolar"
           }
          ],
          "scatterpolargl": [
           {
            "marker": {
             "colorbar": {
              "outlinewidth": 1,
              "tickcolor": "rgb(36,36,36)",
              "ticks": "outside"
             }
            },
            "type": "scatterpolargl"
           }
          ],
          "scatterternary": [
           {
            "marker": {
             "colorbar": {
              "outlinewidth": 1,
              "tickcolor": "rgb(36,36,36)",
              "ticks": "outside"
             }
            },
            "type": "scatterternary"
           }
          ],
          "surface": [
           {
            "colorbar": {
             "outlinewidth": 1,
             "tickcolor": "rgb(36,36,36)",
             "ticks": "outside"
            },
            "colorscale": [
             [
              0,
              "#440154"
             ],
             [
              0.1111111111111111,
              "#482878"
             ],
             [
              0.2222222222222222,
              "#3e4989"
             ],
             [
              0.3333333333333333,
              "#31688e"
             ],
             [
              0.4444444444444444,
              "#26828e"
             ],
             [
              0.5555555555555556,
              "#1f9e89"
             ],
             [
              0.6666666666666666,
              "#35b779"
             ],
             [
              0.7777777777777778,
              "#6ece58"
             ],
             [
              0.8888888888888888,
              "#b5de2b"
             ],
             [
              1,
              "#fde725"
             ]
            ],
            "type": "surface"
           }
          ],
          "table": [
           {
            "cells": {
             "fill": {
              "color": "rgb(237,237,237)"
             },
             "line": {
              "color": "white"
             }
            },
            "header": {
             "fill": {
              "color": "rgb(217,217,217)"
             },
             "line": {
              "color": "white"
             }
            },
            "type": "table"
           }
          ]
         },
         "layout": {
          "annotationdefaults": {
           "arrowhead": 0,
           "arrowwidth": 1
          },
          "autotypenumbers": "strict",
          "coloraxis": {
           "colorbar": {
            "outlinewidth": 1,
            "tickcolor": "rgb(36,36,36)",
            "ticks": "outside"
           }
          },
          "colorscale": {
           "diverging": [
            [
             0,
             "rgb(103,0,31)"
            ],
            [
             0.1,
             "rgb(178,24,43)"
            ],
            [
             0.2,
             "rgb(214,96,77)"
            ],
            [
             0.3,
             "rgb(244,165,130)"
            ],
            [
             0.4,
             "rgb(253,219,199)"
            ],
            [
             0.5,
             "rgb(247,247,247)"
            ],
            [
             0.6,
             "rgb(209,229,240)"
            ],
            [
             0.7,
             "rgb(146,197,222)"
            ],
            [
             0.8,
             "rgb(67,147,195)"
            ],
            [
             0.9,
             "rgb(33,102,172)"
            ],
            [
             1,
             "rgb(5,48,97)"
            ]
           ],
           "sequential": [
            [
             0,
             "#440154"
            ],
            [
             0.1111111111111111,
             "#482878"
            ],
            [
             0.2222222222222222,
             "#3e4989"
            ],
            [
             0.3333333333333333,
             "#31688e"
            ],
            [
             0.4444444444444444,
             "#26828e"
            ],
            [
             0.5555555555555556,
             "#1f9e89"
            ],
            [
             0.6666666666666666,
             "#35b779"
            ],
            [
             0.7777777777777778,
             "#6ece58"
            ],
            [
             0.8888888888888888,
             "#b5de2b"
            ],
            [
             1,
             "#fde725"
            ]
           ],
           "sequentialminus": [
            [
             0,
             "#440154"
            ],
            [
             0.1111111111111111,
             "#482878"
            ],
            [
             0.2222222222222222,
             "#3e4989"
            ],
            [
             0.3333333333333333,
             "#31688e"
            ],
            [
             0.4444444444444444,
             "#26828e"
            ],
            [
             0.5555555555555556,
             "#1f9e89"
            ],
            [
             0.6666666666666666,
             "#35b779"
            ],
            [
             0.7777777777777778,
             "#6ece58"
            ],
            [
             0.8888888888888888,
             "#b5de2b"
            ],
            [
             1,
             "#fde725"
            ]
           ]
          },
          "colorway": [
           "#1F77B4",
           "#FF7F0E",
           "#2CA02C",
           "#D62728",
           "#9467BD",
           "#8C564B",
           "#E377C2",
           "#7F7F7F",
           "#BCBD22",
           "#17BECF"
          ],
          "font": {
           "color": "rgb(36,36,36)"
          },
          "geo": {
           "bgcolor": "white",
           "lakecolor": "white",
           "landcolor": "white",
           "showlakes": true,
           "showland": true,
           "subunitcolor": "white"
          },
          "hoverlabel": {
           "align": "left"
          },
          "hovermode": "closest",
          "mapbox": {
           "style": "light"
          },
          "paper_bgcolor": "white",
          "plot_bgcolor": "white",
          "polar": {
           "angularaxis": {
            "gridcolor": "rgb(232,232,232)",
            "linecolor": "rgb(36,36,36)",
            "showgrid": false,
            "showline": true,
            "ticks": "outside"
           },
           "bgcolor": "white",
           "radialaxis": {
            "gridcolor": "rgb(232,232,232)",
            "linecolor": "rgb(36,36,36)",
            "showgrid": false,
            "showline": true,
            "ticks": "outside"
           }
          },
          "scene": {
           "xaxis": {
            "backgroundcolor": "white",
            "gridcolor": "rgb(232,232,232)",
            "gridwidth": 2,
            "linecolor": "rgb(36,36,36)",
            "showbackground": true,
            "showgrid": false,
            "showline": true,
            "ticks": "outside",
            "zeroline": false,
            "zerolinecolor": "rgb(36,36,36)"
           },
           "yaxis": {
            "backgroundcolor": "white",
            "gridcolor": "rgb(232,232,232)",
            "gridwidth": 2,
            "linecolor": "rgb(36,36,36)",
            "showbackground": true,
            "showgrid": false,
            "showline": true,
            "ticks": "outside",
            "zeroline": false,
            "zerolinecolor": "rgb(36,36,36)"
           },
           "zaxis": {
            "backgroundcolor": "white",
            "gridcolor": "rgb(232,232,232)",
            "gridwidth": 2,
            "linecolor": "rgb(36,36,36)",
            "showbackground": true,
            "showgrid": false,
            "showline": true,
            "ticks": "outside",
            "zeroline": false,
            "zerolinecolor": "rgb(36,36,36)"
           }
          },
          "shapedefaults": {
           "fillcolor": "black",
           "line": {
            "width": 0
           },
           "opacity": 0.3
          },
          "ternary": {
           "aaxis": {
            "gridcolor": "rgb(232,232,232)",
            "linecolor": "rgb(36,36,36)",
            "showgrid": false,
            "showline": true,
            "ticks": "outside"
           },
           "baxis": {
            "gridcolor": "rgb(232,232,232)",
            "linecolor": "rgb(36,36,36)",
            "showgrid": false,
            "showline": true,
            "ticks": "outside"
           },
           "bgcolor": "white",
           "caxis": {
            "gridcolor": "rgb(232,232,232)",
            "linecolor": "rgb(36,36,36)",
            "showgrid": false,
            "showline": true,
            "ticks": "outside"
           }
          },
          "title": {
           "x": 0.05
          },
          "xaxis": {
           "automargin": true,
           "gridcolor": "rgb(232,232,232)",
           "linecolor": "rgb(36,36,36)",
           "showgrid": false,
           "showline": true,
           "ticks": "outside",
           "title": {
            "standoff": 15
           },
           "zeroline": false,
           "zerolinecolor": "rgb(36,36,36)"
          },
          "yaxis": {
           "automargin": true,
           "gridcolor": "rgb(232,232,232)",
           "linecolor": "rgb(36,36,36)",
           "showgrid": false,
           "showline": true,
           "ticks": "outside",
           "title": {
            "standoff": 15
           },
           "zeroline": false,
           "zerolinecolor": "rgb(36,36,36)"
          }
         }
        },
        "title": {
         "font": {
          "color": "Black",
          "size": 22
         },
         "text": "<b>Intertopic Distance Map</b>",
         "x": 0.5,
         "xanchor": "center",
         "y": 0.95,
         "yanchor": "top"
        },
        "width": 650,
        "xaxis": {
         "anchor": "y",
         "domain": [
          0,
          1
         ],
         "range": [
          -7.5040483474731445,
          -0.7843343019485474
         ],
         "title": {
          "text": ""
         },
         "visible": false
        },
        "yaxis": {
         "anchor": "x",
         "domain": [
          0,
          1
         ],
         "range": [
          -1.8539401292800903,
          31.843393325805664
         ],
         "title": {
          "text": ""
         },
         "visible": false
        }
       }
      }
     },
     "metadata": {},
     "output_type": "display_data"
    },
    {
     "data": {
      "application/vnd.plotly.v1+json": {
       "config": {
        "plotlyServerURL": "https://plot.ly"
       },
       "data": [
        {
         "hoverinfo": "text",
         "marker": {
          "color": "rgb(61,153,112)"
         },
         "mode": "lines",
         "type": "scatter",
         "x": {
          "bdata": "AAAAAAAAAADQVnXcoAjIP9BWddygCMg/AAAAAAAAAAA=",
          "dtype": "f8"
         },
         "xaxis": "x",
         "y": {
          "bdata": "AAAAAACARsAAAAAAAIBGwAAAAAAAgEvAAAAAAACAS8A=",
          "dtype": "f8"
         },
         "yaxis": "y"
        },
        {
         "hoverinfo": "text",
         "marker": {
          "color": "rgb(61,153,112)"
         },
         "mode": "lines",
         "type": "scatter",
         "x": {
          "bdata": "AAAAAAAAAAACPz8xru3JPwI/PzGu7ck/0FZ13KAIyD8=",
          "dtype": "f8"
         },
         "xaxis": "x",
         "y": {
          "bdata": "AAAAAACAQcAAAAAAAIBBwAAAAAAAAEnAAAAAAAAAScA=",
          "dtype": "f8"
         },
         "yaxis": "y"
        },
        {
         "hoverinfo": "text",
         "marker": {
          "color": "rgb(61,153,112)"
         },
         "mode": "lines",
         "type": "scatter",
         "x": {
          "bdata": "Aj8/Ma7tyT/fq2EtINzRP9+rYS0g3NE/AAAAAAAAAAA=",
          "dtype": "f8"
         },
         "xaxis": "x",
         "y": {
          "bdata": "AAAAAABARcAAAAAAAEBFwAAAAAAAQFDAAAAAAABAUMA=",
          "dtype": "f8"
         },
         "yaxis": "y"
        },
        {
         "hoverinfo": "text",
         "marker": {
          "color": "rgb(61,153,112)"
         },
         "mode": "lines",
         "type": "scatter",
         "x": {
          "bdata": "AAAAAAAAAACE8doKNyXdP4Tx2go3Jd0/36thLSDc0T8=",
          "dtype": "f8"
         },
         "xaxis": "x",
         "y": {
          "bdata": "AAAAAAAAOcAAAAAAAAA5wAAAAAAA4ErAAAAAAADgSsA=",
          "dtype": "f8"
         },
         "yaxis": "y"
        },
        {
         "hoverinfo": "text",
         "marker": {
          "color": "rgb(61,153,112)"
         },
         "mode": "lines",
         "type": "scatter",
         "x": {
          "bdata": "hPHaCjcl3T8kcg0yjRXkPyRyDTKNFeQ/AAAAAAAAAAA=",
          "dtype": "f8"
         },
         "xaxis": "x",
         "y": {
          "bdata": "AAAAAACwQ8AAAAAAALBDwAAAAAAAwFLAAAAAAADAUsA=",
          "dtype": "f8"
         },
         "yaxis": "y"
        },
        {
         "hoverinfo": "text",
         "marker": {
          "color": "rgb(61,153,112)"
         },
         "mode": "lines",
         "type": "scatter",
         "x": {
          "bdata": "AAAAAAAAAAC1qcvEibLmP7Wpy8SJsuY/JHINMo0V5D8=",
          "dtype": "f8"
         },
         "xaxis": "x",
         "y": {
          "bdata": "AAAAAAAALsAAAAAAAAAuwAAAAAAAmEzAAAAAAACYTMA=",
          "dtype": "f8"
         },
         "yaxis": "y"
        },
        {
         "hoverinfo": "text",
         "marker": {
          "color": "rgb(61,153,112)"
         },
         "mode": "lines",
         "type": "scatter",
         "x": {
          "bdata": "AAAAAAAAAACeuV0ycPLoP565XTJw8ug/tanLxImy5j8=",
          "dtype": "f8"
         },
         "xaxis": "x",
         "y": {
          "bdata": "AAAAAAAAFMAAAAAAAAAUwAAAAAAADELAAAAAAAAMQsA=",
          "dtype": "f8"
         },
         "yaxis": "y"
        },
        {
         "hoverinfo": "text",
         "marker": {
          "color": "rgb(61,153,112)"
         },
         "mode": "lines",
         "type": "scatter",
         "x": {
          "bdata": "AAAAAAAAAADqVcyxwIvrP+pVzLHAi+s/AAAAAAAAAAA=",
          "dtype": "f8"
         },
         "xaxis": "x",
         "y": {
          "bdata": "AAAAAABAVcAAAAAAAEBVwAAAAAAAwFfAAAAAAADAV8A=",
          "dtype": "f8"
         },
         "yaxis": "y"
        },
        {
         "hoverinfo": "text",
         "marker": {
          "color": "rgb(61,153,112)"
         },
         "mode": "lines",
         "type": "scatter",
         "x": {
          "bdata": "nrldMnDy6D8m6xfb6kbsPybrF9vqRuw/6lXMscCL6z8=",
          "dtype": "f8"
         },
         "xaxis": "x",
         "y": {
          "bdata": "AAAAAACMNMAAAAAAAIw0wAAAAAAAgFbAAAAAAACAVsA=",
          "dtype": "f8"
         },
         "yaxis": "y"
        },
        {
         "hoverinfo": "text",
         "marker": {
          "color": "rgb(255,65,54)"
         },
         "mode": "lines",
         "type": "scatter",
         "x": {
          "bdata": "AAAAAAAAAABqoKdhS9XuP2qgp2FL1e4/AAAAAAAAAAA=",
          "dtype": "f8"
         },
         "xaxis": "x",
         "y": {
          "bdata": "AAAAAADAXMAAAAAAAMBcwAAAAAAAQF/AAAAAAABAX8A=",
          "dtype": "f8"
         },
         "yaxis": "y"
        },
        {
         "hoverinfo": "text",
         "marker": {
          "color": "rgb(255,65,54)"
         },
         "mode": "lines",
         "type": "scatter",
         "x": {
          "bdata": "AAAAAAAAAAA/N7SxOGXvPz83tLE4Ze8/aqCnYUvV7j8=",
          "dtype": "f8"
         },
         "xaxis": "x",
         "y": {
          "bdata": "AAAAAABAWsAAAAAAAEBawAAAAAAAAF7AAAAAAAAAXsA=",
          "dtype": "f8"
         },
         "yaxis": "y"
        },
        {
         "hoverinfo": "text",
         "marker": {
          "color": "rgb(255,65,54)"
         },
         "mode": "lines",
         "type": "scatter",
         "x": {
          "bdata": "Pze0sThl7z8GEeokYdnvPwYR6iRh2e8/AAAAAAAAAAA=",
          "dtype": "f8"
         },
         "xaxis": "x",
         "y": {
          "bdata": "AAAAAAAgXMAAAAAAACBcwAAAAAAA4GDAAAAAAADgYMA=",
          "dtype": "f8"
         },
         "yaxis": "y"
        },
        {
         "hoverinfo": "text",
         "marker": {
          "color": "rgb(0,116,217)"
         },
         "mode": "lines",
         "type": "scatter",
         "x": {
          "bdata": "JusX2+pG7D+63ZlJbob0P7rdmUluhvQ/BhHqJGHZ7z8=",
          "dtype": "f8"
         },
         "xaxis": "x",
         "y": {
          "bdata": "AAAAAACjS8AAAAAAAKNLwAAAAAAA8F7AAAAAAADwXsA=",
          "dtype": "f8"
         },
         "yaxis": "y"
        }
       ],
       "layout": {
        "autosize": false,
        "height": 410,
        "hoverlabel": {
         "bgcolor": "white",
         "font": {
          "family": "Rockwell",
          "size": 16
         }
        },
        "hovermode": "closest",
        "plot_bgcolor": "#ECEFF1",
        "showlegend": false,
        "template": {
         "data": {
          "bar": [
           {
            "error_x": {
             "color": "#2a3f5f"
            },
            "error_y": {
             "color": "#2a3f5f"
            },
            "marker": {
             "line": {
              "color": "white",
              "width": 0.5
             },
             "pattern": {
              "fillmode": "overlay",
              "size": 10,
              "solidity": 0.2
             }
            },
            "type": "bar"
           }
          ],
          "barpolar": [
           {
            "marker": {
             "line": {
              "color": "white",
              "width": 0.5
             },
             "pattern": {
              "fillmode": "overlay",
              "size": 10,
              "solidity": 0.2
             }
            },
            "type": "barpolar"
           }
          ],
          "carpet": [
           {
            "aaxis": {
             "endlinecolor": "#2a3f5f",
             "gridcolor": "#C8D4E3",
             "linecolor": "#C8D4E3",
             "minorgridcolor": "#C8D4E3",
             "startlinecolor": "#2a3f5f"
            },
            "baxis": {
             "endlinecolor": "#2a3f5f",
             "gridcolor": "#C8D4E3",
             "linecolor": "#C8D4E3",
             "minorgridcolor": "#C8D4E3",
             "startlinecolor": "#2a3f5f"
            },
            "type": "carpet"
           }
          ],
          "choropleth": [
           {
            "colorbar": {
             "outlinewidth": 0,
             "ticks": ""
            },
            "type": "choropleth"
           }
          ],
          "contour": [
           {
            "colorbar": {
             "outlinewidth": 0,
             "ticks": ""
            },
            "colorscale": [
             [
              0,
              "#0d0887"
             ],
             [
              0.1111111111111111,
              "#46039f"
             ],
             [
              0.2222222222222222,
              "#7201a8"
             ],
             [
              0.3333333333333333,
              "#9c179e"
             ],
             [
              0.4444444444444444,
              "#bd3786"
             ],
             [
              0.5555555555555556,
              "#d8576b"
             ],
             [
              0.6666666666666666,
              "#ed7953"
             ],
             [
              0.7777777777777778,
              "#fb9f3a"
             ],
             [
              0.8888888888888888,
              "#fdca26"
             ],
             [
              1,
              "#f0f921"
             ]
            ],
            "type": "contour"
           }
          ],
          "contourcarpet": [
           {
            "colorbar": {
             "outlinewidth": 0,
             "ticks": ""
            },
            "type": "contourcarpet"
           }
          ],
          "heatmap": [
           {
            "colorbar": {
             "outlinewidth": 0,
             "ticks": ""
            },
            "colorscale": [
             [
              0,
              "#0d0887"
             ],
             [
              0.1111111111111111,
              "#46039f"
             ],
             [
              0.2222222222222222,
              "#7201a8"
             ],
             [
              0.3333333333333333,
              "#9c179e"
             ],
             [
              0.4444444444444444,
              "#bd3786"
             ],
             [
              0.5555555555555556,
              "#d8576b"
             ],
             [
              0.6666666666666666,
              "#ed7953"
             ],
             [
              0.7777777777777778,
              "#fb9f3a"
             ],
             [
              0.8888888888888888,
              "#fdca26"
             ],
             [
              1,
              "#f0f921"
             ]
            ],
            "type": "heatmap"
           }
          ],
          "histogram": [
           {
            "marker": {
             "pattern": {
              "fillmode": "overlay",
              "size": 10,
              "solidity": 0.2
             }
            },
            "type": "histogram"
           }
          ],
          "histogram2d": [
           {
            "colorbar": {
             "outlinewidth": 0,
             "ticks": ""
            },
            "colorscale": [
             [
              0,
              "#0d0887"
             ],
             [
              0.1111111111111111,
              "#46039f"
             ],
             [
              0.2222222222222222,
              "#7201a8"
             ],
             [
              0.3333333333333333,
              "#9c179e"
             ],
             [
              0.4444444444444444,
              "#bd3786"
             ],
             [
              0.5555555555555556,
              "#d8576b"
             ],
             [
              0.6666666666666666,
              "#ed7953"
             ],
             [
              0.7777777777777778,
              "#fb9f3a"
             ],
             [
              0.8888888888888888,
              "#fdca26"
             ],
             [
              1,
              "#f0f921"
             ]
            ],
            "type": "histogram2d"
           }
          ],
          "histogram2dcontour": [
           {
            "colorbar": {
             "outlinewidth": 0,
             "ticks": ""
            },
            "colorscale": [
             [
              0,
              "#0d0887"
             ],
             [
              0.1111111111111111,
              "#46039f"
             ],
             [
              0.2222222222222222,
              "#7201a8"
             ],
             [
              0.3333333333333333,
              "#9c179e"
             ],
             [
              0.4444444444444444,
              "#bd3786"
             ],
             [
              0.5555555555555556,
              "#d8576b"
             ],
             [
              0.6666666666666666,
              "#ed7953"
             ],
             [
              0.7777777777777778,
              "#fb9f3a"
             ],
             [
              0.8888888888888888,
              "#fdca26"
             ],
             [
              1,
              "#f0f921"
             ]
            ],
            "type": "histogram2dcontour"
           }
          ],
          "mesh3d": [
           {
            "colorbar": {
             "outlinewidth": 0,
             "ticks": ""
            },
            "type": "mesh3d"
           }
          ],
          "parcoords": [
           {
            "line": {
             "colorbar": {
              "outlinewidth": 0,
              "ticks": ""
             }
            },
            "type": "parcoords"
           }
          ],
          "pie": [
           {
            "automargin": true,
            "type": "pie"
           }
          ],
          "scatter": [
           {
            "fillpattern": {
             "fillmode": "overlay",
             "size": 10,
             "solidity": 0.2
            },
            "type": "scatter"
           }
          ],
          "scatter3d": [
           {
            "line": {
             "colorbar": {
              "outlinewidth": 0,
              "ticks": ""
             }
            },
            "marker": {
             "colorbar": {
              "outlinewidth": 0,
              "ticks": ""
             }
            },
            "type": "scatter3d"
           }
          ],
          "scattercarpet": [
           {
            "marker": {
             "colorbar": {
              "outlinewidth": 0,
              "ticks": ""
             }
            },
            "type": "scattercarpet"
           }
          ],
          "scattergeo": [
           {
            "marker": {
             "colorbar": {
              "outlinewidth": 0,
              "ticks": ""
             }
            },
            "type": "scattergeo"
           }
          ],
          "scattergl": [
           {
            "marker": {
             "colorbar": {
              "outlinewidth": 0,
              "ticks": ""
             }
            },
            "type": "scattergl"
           }
          ],
          "scattermap": [
           {
            "marker": {
             "colorbar": {
              "outlinewidth": 0,
              "ticks": ""
             }
            },
            "type": "scattermap"
           }
          ],
          "scattermapbox": [
           {
            "marker": {
             "colorbar": {
              "outlinewidth": 0,
              "ticks": ""
             }
            },
            "type": "scattermapbox"
           }
          ],
          "scatterpolar": [
           {
            "marker": {
             "colorbar": {
              "outlinewidth": 0,
              "ticks": ""
             }
            },
            "type": "scatterpolar"
           }
          ],
          "scatterpolargl": [
           {
            "marker": {
             "colorbar": {
              "outlinewidth": 0,
              "ticks": ""
             }
            },
            "type": "scatterpolargl"
           }
          ],
          "scatterternary": [
           {
            "marker": {
             "colorbar": {
              "outlinewidth": 0,
              "ticks": ""
             }
            },
            "type": "scatterternary"
           }
          ],
          "surface": [
           {
            "colorbar": {
             "outlinewidth": 0,
             "ticks": ""
            },
            "colorscale": [
             [
              0,
              "#0d0887"
             ],
             [
              0.1111111111111111,
              "#46039f"
             ],
             [
              0.2222222222222222,
              "#7201a8"
             ],
             [
              0.3333333333333333,
              "#9c179e"
             ],
             [
              0.4444444444444444,
              "#bd3786"
             ],
             [
              0.5555555555555556,
              "#d8576b"
             ],
             [
              0.6666666666666666,
              "#ed7953"
             ],
             [
              0.7777777777777778,
              "#fb9f3a"
             ],
             [
              0.8888888888888888,
              "#fdca26"
             ],
             [
              1,
              "#f0f921"
             ]
            ],
            "type": "surface"
           }
          ],
          "table": [
           {
            "cells": {
             "fill": {
              "color": "#EBF0F8"
             },
             "line": {
              "color": "white"
             }
            },
            "header": {
             "fill": {
              "color": "#C8D4E3"
             },
             "line": {
              "color": "white"
             }
            },
            "type": "table"
           }
          ]
         },
         "layout": {
          "annotationdefaults": {
           "arrowcolor": "#2a3f5f",
           "arrowhead": 0,
           "arrowwidth": 1
          },
          "autotypenumbers": "strict",
          "coloraxis": {
           "colorbar": {
            "outlinewidth": 0,
            "ticks": ""
           }
          },
          "colorscale": {
           "diverging": [
            [
             0,
             "#8e0152"
            ],
            [
             0.1,
             "#c51b7d"
            ],
            [
             0.2,
             "#de77ae"
            ],
            [
             0.3,
             "#f1b6da"
            ],
            [
             0.4,
             "#fde0ef"
            ],
            [
             0.5,
             "#f7f7f7"
            ],
            [
             0.6,
             "#e6f5d0"
            ],
            [
             0.7,
             "#b8e186"
            ],
            [
             0.8,
             "#7fbc41"
            ],
            [
             0.9,
             "#4d9221"
            ],
            [
             1,
             "#276419"
            ]
           ],
           "sequential": [
            [
             0,
             "#0d0887"
            ],
            [
             0.1111111111111111,
             "#46039f"
            ],
            [
             0.2222222222222222,
             "#7201a8"
            ],
            [
             0.3333333333333333,
             "#9c179e"
            ],
            [
             0.4444444444444444,
             "#bd3786"
            ],
            [
             0.5555555555555556,
             "#d8576b"
            ],
            [
             0.6666666666666666,
             "#ed7953"
            ],
            [
             0.7777777777777778,
             "#fb9f3a"
            ],
            [
             0.8888888888888888,
             "#fdca26"
            ],
            [
             1,
             "#f0f921"
            ]
           ],
           "sequentialminus": [
            [
             0,
             "#0d0887"
            ],
            [
             0.1111111111111111,
             "#46039f"
            ],
            [
             0.2222222222222222,
             "#7201a8"
            ],
            [
             0.3333333333333333,
             "#9c179e"
            ],
            [
             0.4444444444444444,
             "#bd3786"
            ],
            [
             0.5555555555555556,
             "#d8576b"
            ],
            [
             0.6666666666666666,
             "#ed7953"
            ],
            [
             0.7777777777777778,
             "#fb9f3a"
            ],
            [
             0.8888888888888888,
             "#fdca26"
            ],
            [
             1,
             "#f0f921"
            ]
           ]
          },
          "colorway": [
           "#636efa",
           "#EF553B",
           "#00cc96",
           "#ab63fa",
           "#FFA15A",
           "#19d3f3",
           "#FF6692",
           "#B6E880",
           "#FF97FF",
           "#FECB52"
          ],
          "font": {
           "color": "#2a3f5f"
          },
          "geo": {
           "bgcolor": "white",
           "lakecolor": "white",
           "landcolor": "white",
           "showlakes": true,
           "showland": true,
           "subunitcolor": "#C8D4E3"
          },
          "hoverlabel": {
           "align": "left"
          },
          "hovermode": "closest",
          "mapbox": {
           "style": "light"
          },
          "paper_bgcolor": "white",
          "plot_bgcolor": "white",
          "polar": {
           "angularaxis": {
            "gridcolor": "#EBF0F8",
            "linecolor": "#EBF0F8",
            "ticks": ""
           },
           "bgcolor": "white",
           "radialaxis": {
            "gridcolor": "#EBF0F8",
            "linecolor": "#EBF0F8",
            "ticks": ""
           }
          },
          "scene": {
           "xaxis": {
            "backgroundcolor": "white",
            "gridcolor": "#DFE8F3",
            "gridwidth": 2,
            "linecolor": "#EBF0F8",
            "showbackground": true,
            "ticks": "",
            "zerolinecolor": "#EBF0F8"
           },
           "yaxis": {
            "backgroundcolor": "white",
            "gridcolor": "#DFE8F3",
            "gridwidth": 2,
            "linecolor": "#EBF0F8",
            "showbackground": true,
            "ticks": "",
            "zerolinecolor": "#EBF0F8"
           },
           "zaxis": {
            "backgroundcolor": "white",
            "gridcolor": "#DFE8F3",
            "gridwidth": 2,
            "linecolor": "#EBF0F8",
            "showbackground": true,
            "ticks": "",
            "zerolinecolor": "#EBF0F8"
           }
          },
          "shapedefaults": {
           "line": {
            "color": "#2a3f5f"
           }
          },
          "ternary": {
           "aaxis": {
            "gridcolor": "#DFE8F3",
            "linecolor": "#A2B1C6",
            "ticks": ""
           },
           "baxis": {
            "gridcolor": "#DFE8F3",
            "linecolor": "#A2B1C6",
            "ticks": ""
           },
           "bgcolor": "white",
           "caxis": {
            "gridcolor": "#DFE8F3",
            "linecolor": "#A2B1C6",
            "ticks": ""
           }
          },
          "title": {
           "x": 0.05
          },
          "xaxis": {
           "automargin": true,
           "gridcolor": "#EBF0F8",
           "linecolor": "#EBF0F8",
           "ticks": "",
           "title": {
            "standoff": 15
           },
           "zerolinecolor": "#EBF0F8",
           "zerolinewidth": 2
          },
          "yaxis": {
           "automargin": true,
           "gridcolor": "#EBF0F8",
           "linecolor": "#EBF0F8",
           "ticks": "",
           "title": {
            "standoff": 15
           },
           "zerolinecolor": "#EBF0F8",
           "zerolinewidth": 2
          }
         }
        },
        "title": {
         "font": {
          "color": "Black",
          "size": 22
         },
         "text": "<b>Hierarchical Clustering</b>",
         "x": 0.5,
         "xanchor": "center",
         "yanchor": "top"
        },
        "width": 1000,
        "xaxis": {
         "mirror": "allticks",
         "rangemode": "tozero",
         "showgrid": false,
         "showline": true,
         "showticklabels": true,
         "ticks": "outside",
         "type": "linear",
         "zeroline": false
        },
        "yaxis": {
         "mirror": "allticks",
         "range": [
          -140,
          0
         ],
         "rangemode": "tozero",
         "showgrid": false,
         "showline": true,
         "showticklabels": true,
         "tickmode": "array",
         "ticks": "outside",
         "ticktext": [
          "7_01 pintar_orang pintar_pi...",
          "6_twitter_berita_media",
          "4_video_videotron_film",
          "2_politik_demokrasi_partai",
          "0_presiden 01_01 01_calon p...",
          "1_pilih presiden_makmur_adi...",
          "3_debat_kritik_komentar",
          "5_program_gratis_makan",
          "9_strategi_swing_antisipasi",
          "8_palestina_merdeka_aksi",
          "10_viral_viralkan_ln",
          "11_investasi_investor_jangka",
          "13_transportasi_kaki_listrik",
          "12_food estate_estate_food"
         ],
         "tickvals": [
          -5,
          -15,
          -25,
          -35,
          -45,
          -55,
          -65,
          -75,
          -85,
          -95,
          -105,
          -115,
          -125,
          -135
         ],
         "type": "linear",
         "zeroline": false
        }
       }
      }
     },
     "metadata": {},
     "output_type": "display_data"
    },
    {
     "data": {
      "application/vnd.plotly.v1+json": {
       "config": {
        "plotlyServerURL": "https://plot.ly"
       },
       "data": [
        {
         "coloraxis": "coloraxis",
         "hovertemplate": "x: %{x}<br>y: %{y}<br>Similarity Score: %{z}<extra></extra>",
         "name": "0",
         "type": "heatmap",
         "x": [
          "0_presiden 01_01 01_calon p...",
          "1_pilih presiden_makmur_adi...",
          "2_politik_demokrasi_partai",
          "3_debat_kritik_komentar",
          "4_video_videotron_film",
          "5_program_gratis_makan",
          "6_twitter_berita_media",
          "7_01 pintar_orang pintar_pi...",
          "8_palestina_merdeka_aksi",
          "9_strategi_swing_antisipasi",
          "10_viral_viralkan_ln",
          "11_investasi_investor_jangka",
          "12_food estate_estate_food",
          "13_transportasi_kaki_listrik"
         ],
         "xaxis": "x",
         "y": [
          "0_presiden 01_01 01_calon p...",
          "1_pilih presiden_makmur_adi...",
          "2_politik_demokrasi_partai",
          "3_debat_kritik_komentar",
          "4_video_videotron_film",
          "5_program_gratis_makan",
          "6_twitter_berita_media",
          "7_01 pintar_orang pintar_pi...",
          "8_palestina_merdeka_aksi",
          "9_strategi_swing_antisipasi",
          "10_viral_viralkan_ln",
          "11_investasi_investor_jangka",
          "12_food estate_estate_food",
          "13_transportasi_kaki_listrik"
         ],
         "yaxis": "y",
         "z": {
          "bdata": "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",
          "dtype": "f8",
          "shape": "14, 14"
         }
        }
       ],
       "layout": {
        "coloraxis": {
         "colorbar": {
          "title": {
           "text": "Similarity Score"
          }
         },
         "colorscale": [
          [
           0,
           "rgb(247,252,240)"
          ],
          [
           0.125,
           "rgb(224,243,219)"
          ],
          [
           0.25,
           "rgb(204,235,197)"
          ],
          [
           0.375,
           "rgb(168,221,181)"
          ],
          [
           0.5,
           "rgb(123,204,196)"
          ],
          [
           0.625,
           "rgb(78,179,211)"
          ],
          [
           0.75,
           "rgb(43,140,190)"
          ],
          [
           0.875,
           "rgb(8,104,172)"
          ],
          [
           1,
           "rgb(8,64,129)"
          ]
         ]
        },
        "height": 800,
        "hoverlabel": {
         "bgcolor": "white",
         "font": {
          "family": "Rockwell",
          "size": 16
         }
        },
        "legend": {
         "title": {
          "text": "Trend"
         }
        },
        "margin": {
         "t": 60
        },
        "showlegend": true,
        "template": {
         "data": {
          "bar": [
           {
            "error_x": {
             "color": "#2a3f5f"
            },
            "error_y": {
             "color": "#2a3f5f"
            },
            "marker": {
             "line": {
              "color": "#E5ECF6",
              "width": 0.5
             },
             "pattern": {
              "fillmode": "overlay",
              "size": 10,
              "solidity": 0.2
             }
            },
            "type": "bar"
           }
          ],
          "barpolar": [
           {
            "marker": {
             "line": {
              "color": "#E5ECF6",
              "width": 0.5
             },
             "pattern": {
              "fillmode": "overlay",
              "size": 10,
              "solidity": 0.2
             }
            },
            "type": "barpolar"
           }
          ],
          "carpet": [
           {
            "aaxis": {
             "endlinecolor": "#2a3f5f",
             "gridcolor": "white",
             "linecolor": "white",
             "minorgridcolor": "white",
             "startlinecolor": "#2a3f5f"
            },
            "baxis": {
             "endlinecolor": "#2a3f5f",
             "gridcolor": "white",
             "linecolor": "white",
             "minorgridcolor": "white",
             "startlinecolor": "#2a3f5f"
            },
            "type": "carpet"
           }
          ],
          "choropleth": [
           {
            "colorbar": {
             "outlinewidth": 0,
             "ticks": ""
            },
            "type": "choropleth"
           }
          ],
          "contour": [
           {
            "colorbar": {
             "outlinewidth": 0,
             "ticks": ""
            },
            "colorscale": [
             [
              0,
              "#0d0887"
             ],
             [
              0.1111111111111111,
              "#46039f"
             ],
             [
              0.2222222222222222,
              "#7201a8"
             ],
             [
              0.3333333333333333,
              "#9c179e"
             ],
             [
              0.4444444444444444,
              "#bd3786"
             ],
             [
              0.5555555555555556,
              "#d8576b"
             ],
             [
              0.6666666666666666,
              "#ed7953"
             ],
             [
              0.7777777777777778,
              "#fb9f3a"
             ],
             [
              0.8888888888888888,
              "#fdca26"
             ],
             [
              1,
              "#f0f921"
             ]
            ],
            "type": "contour"
           }
          ],
          "contourcarpet": [
           {
            "colorbar": {
             "outlinewidth": 0,
             "ticks": ""
            },
            "type": "contourcarpet"
           }
          ],
          "heatmap": [
           {
            "colorbar": {
             "outlinewidth": 0,
             "ticks": ""
            },
            "colorscale": [
             [
              0,
              "#0d0887"
             ],
             [
              0.1111111111111111,
              "#46039f"
             ],
             [
              0.2222222222222222,
              "#7201a8"
             ],
             [
              0.3333333333333333,
              "#9c179e"
             ],
             [
              0.4444444444444444,
              "#bd3786"
             ],
             [
              0.5555555555555556,
              "#d8576b"
             ],
             [
              0.6666666666666666,
              "#ed7953"
             ],
             [
              0.7777777777777778,
              "#fb9f3a"
             ],
             [
              0.8888888888888888,
              "#fdca26"
             ],
             [
              1,
              "#f0f921"
             ]
            ],
            "type": "heatmap"
           }
          ],
          "histogram": [
           {
            "marker": {
             "pattern": {
              "fillmode": "overlay",
              "size": 10,
              "solidity": 0.2
             }
            },
            "type": "histogram"
           }
          ],
          "histogram2d": [
           {
            "colorbar": {
             "outlinewidth": 0,
             "ticks": ""
            },
            "colorscale": [
             [
              0,
              "#0d0887"
             ],
             [
              0.1111111111111111,
              "#46039f"
             ],
             [
              0.2222222222222222,
              "#7201a8"
             ],
             [
              0.3333333333333333,
              "#9c179e"
             ],
             [
              0.4444444444444444,
              "#bd3786"
             ],
             [
              0.5555555555555556,
              "#d8576b"
             ],
             [
              0.6666666666666666,
              "#ed7953"
             ],
             [
              0.7777777777777778,
              "#fb9f3a"
             ],
             [
              0.8888888888888888,
              "#fdca26"
             ],
             [
              1,
              "#f0f921"
             ]
            ],
            "type": "histogram2d"
           }
          ],
          "histogram2dcontour": [
           {
            "colorbar": {
             "outlinewidth": 0,
             "ticks": ""
            },
            "colorscale": [
             [
              0,
              "#0d0887"
             ],
             [
              0.1111111111111111,
              "#46039f"
             ],
             [
              0.2222222222222222,
              "#7201a8"
             ],
             [
              0.3333333333333333,
              "#9c179e"
             ],
             [
              0.4444444444444444,
              "#bd3786"
             ],
             [
              0.5555555555555556,
              "#d8576b"
             ],
             [
              0.6666666666666666,
              "#ed7953"
             ],
             [
              0.7777777777777778,
              "#fb9f3a"
             ],
             [
              0.8888888888888888,
              "#fdca26"
             ],
             [
              1,
              "#f0f921"
             ]
            ],
            "type": "histogram2dcontour"
           }
          ],
          "mesh3d": [
           {
            "colorbar": {
             "outlinewidth": 0,
             "ticks": ""
            },
            "type": "mesh3d"
           }
          ],
          "parcoords": [
           {
            "line": {
             "colorbar": {
              "outlinewidth": 0,
              "ticks": ""
             }
            },
            "type": "parcoords"
           }
          ],
          "pie": [
           {
            "automargin": true,
            "type": "pie"
           }
          ],
          "scatter": [
           {
            "fillpattern": {
             "fillmode": "overlay",
             "size": 10,
             "solidity": 0.2
            },
            "type": "scatter"
           }
          ],
          "scatter3d": [
           {
            "line": {
             "colorbar": {
              "outlinewidth": 0,
              "ticks": ""
             }
            },
            "marker": {
             "colorbar": {
              "outlinewidth": 0,
              "ticks": ""
             }
            },
            "type": "scatter3d"
           }
          ],
          "scattercarpet": [
           {
            "marker": {
             "colorbar": {
              "outlinewidth": 0,
              "ticks": ""
             }
            },
            "type": "scattercarpet"
           }
          ],
          "scattergeo": [
           {
            "marker": {
             "colorbar": {
              "outlinewidth": 0,
              "ticks": ""
             }
            },
            "type": "scattergeo"
           }
          ],
          "scattergl": [
           {
            "marker": {
             "colorbar": {
              "outlinewidth": 0,
              "ticks": ""
             }
            },
            "type": "scattergl"
           }
          ],
          "scattermap": [
           {
            "marker": {
             "colorbar": {
              "outlinewidth": 0,
              "ticks": ""
             }
            },
            "type": "scattermap"
           }
          ],
          "scattermapbox": [
           {
            "marker": {
             "colorbar": {
              "outlinewidth": 0,
              "ticks": ""
             }
            },
            "type": "scattermapbox"
           }
          ],
          "scatterpolar": [
           {
            "marker": {
             "colorbar": {
              "outlinewidth": 0,
              "ticks": ""
             }
            },
            "type": "scatterpolar"
           }
          ],
          "scatterpolargl": [
           {
            "marker": {
             "colorbar": {
              "outlinewidth": 0,
              "ticks": ""
             }
            },
            "type": "scatterpolargl"
           }
          ],
          "scatterternary": [
           {
            "marker": {
             "colorbar": {
              "outlinewidth": 0,
              "ticks": ""
             }
            },
            "type": "scatterternary"
           }
          ],
          "surface": [
           {
            "colorbar": {
             "outlinewidth": 0,
             "ticks": ""
            },
            "colorscale": [
             [
              0,
              "#0d0887"
             ],
             [
              0.1111111111111111,
              "#46039f"
             ],
             [
              0.2222222222222222,
              "#7201a8"
             ],
             [
              0.3333333333333333,
              "#9c179e"
             ],
             [
              0.4444444444444444,
              "#bd3786"
             ],
             [
              0.5555555555555556,
              "#d8576b"
             ],
             [
              0.6666666666666666,
              "#ed7953"
             ],
             [
              0.7777777777777778,
              "#fb9f3a"
             ],
             [
              0.8888888888888888,
              "#fdca26"
             ],
             [
              1,
              "#f0f921"
             ]
            ],
            "type": "surface"
           }
          ],
          "table": [
           {
            "cells": {
             "fill": {
              "color": "#EBF0F8"
             },
             "line": {
              "color": "white"
             }
            },
            "header": {
             "fill": {
              "color": "#C8D4E3"
             },
             "line": {
              "color": "white"
             }
            },
            "type": "table"
           }
          ]
         },
         "layout": {
          "annotationdefaults": {
           "arrowcolor": "#2a3f5f",
           "arrowhead": 0,
           "arrowwidth": 1
          },
          "autotypenumbers": "strict",
          "coloraxis": {
           "colorbar": {
            "outlinewidth": 0,
            "ticks": ""
           }
          },
          "colorscale": {
           "diverging": [
            [
             0,
             "#8e0152"
            ],
            [
             0.1,
             "#c51b7d"
            ],
            [
             0.2,
             "#de77ae"
            ],
            [
             0.3,
             "#f1b6da"
            ],
            [
             0.4,
             "#fde0ef"
            ],
            [
             0.5,
             "#f7f7f7"
            ],
            [
             0.6,
             "#e6f5d0"
            ],
            [
             0.7,
             "#b8e186"
            ],
            [
             0.8,
             "#7fbc41"
            ],
            [
             0.9,
             "#4d9221"
            ],
            [
             1,
             "#276419"
            ]
           ],
           "sequential": [
            [
             0,
             "#0d0887"
            ],
            [
             0.1111111111111111,
             "#46039f"
            ],
            [
             0.2222222222222222,
             "#7201a8"
            ],
            [
             0.3333333333333333,
             "#9c179e"
            ],
            [
             0.4444444444444444,
             "#bd3786"
            ],
            [
             0.5555555555555556,
             "#d8576b"
            ],
            [
             0.6666666666666666,
             "#ed7953"
            ],
            [
             0.7777777777777778,
             "#fb9f3a"
            ],
            [
             0.8888888888888888,
             "#fdca26"
            ],
            [
             1,
             "#f0f921"
            ]
           ],
           "sequentialminus": [
            [
             0,
             "#0d0887"
            ],
            [
             0.1111111111111111,
             "#46039f"
            ],
            [
             0.2222222222222222,
             "#7201a8"
            ],
            [
             0.3333333333333333,
             "#9c179e"
            ],
            [
             0.4444444444444444,
             "#bd3786"
            ],
            [
             0.5555555555555556,
             "#d8576b"
            ],
            [
             0.6666666666666666,
             "#ed7953"
            ],
            [
             0.7777777777777778,
             "#fb9f3a"
            ],
            [
             0.8888888888888888,
             "#fdca26"
            ],
            [
             1,
             "#f0f921"
            ]
           ]
          },
          "colorway": [
           "#636efa",
           "#EF553B",
           "#00cc96",
           "#ab63fa",
           "#FFA15A",
           "#19d3f3",
           "#FF6692",
           "#B6E880",
           "#FF97FF",
           "#FECB52"
          ],
          "font": {
           "color": "#2a3f5f"
          },
          "geo": {
           "bgcolor": "white",
           "lakecolor": "white",
           "landcolor": "#E5ECF6",
           "showlakes": true,
           "showland": true,
           "subunitcolor": "white"
          },
          "hoverlabel": {
           "align": "left"
          },
          "hovermode": "closest",
          "mapbox": {
           "style": "light"
          },
          "paper_bgcolor": "white",
          "plot_bgcolor": "#E5ECF6",
          "polar": {
           "angularaxis": {
            "gridcolor": "white",
            "linecolor": "white",
            "ticks": ""
           },
           "bgcolor": "#E5ECF6",
           "radialaxis": {
            "gridcolor": "white",
            "linecolor": "white",
            "ticks": ""
           }
          },
          "scene": {
           "xaxis": {
            "backgroundcolor": "#E5ECF6",
            "gridcolor": "white",
            "gridwidth": 2,
            "linecolor": "white",
            "showbackground": true,
            "ticks": "",
            "zerolinecolor": "white"
           },
           "yaxis": {
            "backgroundcolor": "#E5ECF6",
            "gridcolor": "white",
            "gridwidth": 2,
            "linecolor": "white",
            "showbackground": true,
            "ticks": "",
            "zerolinecolor": "white"
           },
           "zaxis": {
            "backgroundcolor": "#E5ECF6",
            "gridcolor": "white",
            "gridwidth": 2,
            "linecolor": "white",
            "showbackground": true,
            "ticks": "",
            "zerolinecolor": "white"
           }
          },
          "shapedefaults": {
           "line": {
            "color": "#2a3f5f"
           }
          },
          "ternary": {
           "aaxis": {
            "gridcolor": "white",
            "linecolor": "white",
            "ticks": ""
           },
           "baxis": {
            "gridcolor": "white",
            "linecolor": "white",
            "ticks": ""
           },
           "bgcolor": "#E5ECF6",
           "caxis": {
            "gridcolor": "white",
            "linecolor": "white",
            "ticks": ""
           }
          },
          "title": {
           "x": 0.05
          },
          "xaxis": {
           "automargin": true,
           "gridcolor": "white",
           "linecolor": "white",
           "ticks": "",
           "title": {
            "standoff": 15
           },
           "zerolinecolor": "white",
           "zerolinewidth": 2
          },
          "yaxis": {
           "automargin": true,
           "gridcolor": "white",
           "linecolor": "white",
           "ticks": "",
           "title": {
            "standoff": 15
           },
           "zerolinecolor": "white",
           "zerolinewidth": 2
          }
         }
        },
        "title": {
         "font": {
          "color": "Black",
          "size": 22
         },
         "text": "<b>Similarity Matrix</b>",
         "x": 0.55,
         "xanchor": "center",
         "y": 0.95,
         "yanchor": "top"
        },
        "width": 800,
        "xaxis": {
         "anchor": "y",
         "constrain": "domain",
         "domain": [
          0,
          1
         ],
         "scaleanchor": "y"
        },
        "yaxis": {
         "anchor": "x",
         "autorange": "reversed",
         "constrain": "domain",
         "domain": [
          0,
          1
         ]
        }
       }
      }
     },
     "metadata": {},
     "output_type": "display_data"
    },
    {
     "data": {
      "image/png": "[encoded data removed]",
      "text/plain": [
       "<Figure size 1500x1000 with 3 Axes>"
      ]
     },
     "metadata": {},
     "output_type": "display_data"
    }
   ],
   "source": [
    "# Get the improved topic information\n",
    "topic_info = topic_model.get_topic_info()\n",
    "print(\"\\nImproved Topic Information:\")\n",
    "print(topic_info.head(10))\n",
    "\n",
    "# Print topics with their new labels\n",
    "print(\"\\nCampaign Themes for Ganjar-Mahfud:\")\n",
    "for index, row in topic_info.iterrows():\n",
    "    if row[\"Topic\"] != -1:  # Skip outlier topic\n",
    "        topic_id = row[\"Topic\"]\n",
    "        words = [word[0] for word in topic_model.get_topic(topic_id)[:8]]\n",
    "        print(f\"Theme: {row['Name']}\")\n",
    "        print(f\"Keywords: {', '.join(words)}\")\n",
    "        print(f\"Document count: {row['Count']}\")\n",
    "        print(\"-\" * 50)\n",
    "\n",
    "# Create a topic distribution visualization\n",
    "plt.figure(figsize=(12, 6))\n",
    "topic_counts = topic_info[topic_info[\"Topic\"] != -1][\"Count\"]\n",
    "topic_names = [label for topic, label in topic_labels.items() if topic != -1][:len(topic_counts)]\n",
    "\n",
    "# Plot with better color scheme\n",
    "bars = plt.bar(topic_names, topic_counts, color=plt.cm.viridis(np.linspace(0, 1, len(topic_counts))))\n",
    "\n",
    "# Add count labels on top of bars\n",
    "for bar in bars:\n",
    "    height = bar.get_height()\n",
    "    plt.text(bar.get_x() + bar.get_width()/2., height + 0.5,\n",
    "            f'{int(height)}', ha='center', va='bottom', fontweight='bold')\n",
    "\n",
    "plt.xticks(rotation=45, ha=\"right\")\n",
    "plt.title(\"Distribution of Campaign Themes in Ganjar-Mahfud Tweets\", fontsize=14, fontweight='bold')\n",
    "plt.xlabel(\"Campaign Themes\", fontsize=12)\n",
    "plt.ylabel(\"Number of Tweets\", fontsize=12)\n",
    "plt.tight_layout()\n",
    "plt.grid(axis='y', linestyle='--', alpha=0.7)\n",
    "plt.show()\n",
    "\n",
    "# Display interactive visualizations\n",
    "intertopic_map = topic_model.visualize_topics()\n",
    "display(intertopic_map)\n",
    "\n",
    "# Create hierarchical clustering visualization\n",
    "hierarchy = topic_model.visualize_hierarchy()\n",
    "display(hierarchy)\n",
    "\n",
    "# Create heatmap of topic similarities\n",
    "heatmap = topic_model.visualize_heatmap()\n",
    "display(heatmap)\n",
    "\n",
    "# Create word clouds for top 3 topics\n",
    "plt.figure(figsize=(15, 10))\n",
    "for i, topic_id in enumerate(topic_info[topic_info['Topic'] != -1]['Topic'][:3]):\n",
    "    plt.subplot(1, 3, i+1)\n",
    "    \n",
    "    # Get topic words and weights\n",
    "    words = dict(topic_model.get_topic(topic_id)[:15])\n",
    "    \n",
    "    # Create and display wordcloud\n",
    "    wordcloud = WordCloud(width=400, height=400, background_color='white', \n",
    "                          colormap='viridis', max_words=50).generate_from_frequencies(words)\n",
    "    \n",
    "    plt.imshow(wordcloud, interpolation='bilinear')\n",
    "    plt.title(f\"Topic: {topic_labels[topic_id]}\", fontsize=12)\n",
    "    plt.axis('off')\n",
    "\n",
    "plt.tight_layout()\n",
    "plt.show()"
   ]
  },
  {
   "cell_type": "code",
   "execution_count": 8,
   "id": "5827cffb",
   "metadata": {},
   "outputs": [],
   "source": [
    "from wordcloud import WordCloud\n",
    "import seaborn as sns"
   ]
  },
  {
   "cell_type": "code",
   "execution_count": 9,
   "id": "2ef88835",
   "metadata": {},
   "outputs": [
    {
     "name": "stdout",
     "output_type": "stream",
     "text": [
      "\n",
      "Representative tweets for key campaign themes:\n",
      "\n",
      "--- Theme: 0_presiden 01_01 01_calon presiden 01_teman ---\n",
      "1. model kubu 01 isu bohong nyinyir fitnah benci lain jago menang rendah lawan bikin prestasi...\n",
      "2. apa kakak kalah bangga lo baris 01 calon presiden calon wakil presiden taat atur kampanye harga akal pikir kalah hormat menang belakang...\n",
      "3. alah 01 partai adil sejahtera daerah pasar manis purwokerto kartu tanda duduk foto data mungut suara suruh pilih anis...\n",
      "\n",
      "--- Theme: 1_pilih presiden_makmur_adil makmur_menang pilih ---\n",
      "1. anies salah pilih pasang cak imin calon wakil presiden dada dipaksain surya paloh calon presiden calon wakil presiden 02 hebat wajib dipilir lurr...\n",
      "2. calon wakil presiden calon wakil presiden koalisi ubah muhaimin iskandar akrab sapa cak imin sindir anak muda suka instan pimpin instan...\n",
      "3. calon presiden calon presiden anies baswedan calon wakil presiden calon wakil presiden muhaimin iskandar cak imin amin terima kartu anggota muhammadiyah anggota hormat serah langsung ketua pimpin pusa...\n",
      "\n",
      "--- Theme: 2_politik_demokrasi_partai_legislatif ---\n",
      "1. anies rasyid baswedan anies calon presiden usung partai nasional demokrat partai bangkit bangsa partai adil sejahtera indonesia aktif kancah internasional...\n",
      "2. sejarah partai bangkit bangsa oposisi dok rapat cak imin oposisi partai demokrasi indonesia juang partai adil sejahtera nasional demokrat untung pilih presiden cak imin kalah suara partai rapat...\n",
      "3. jokowi gibran prabowo kalah kunci surya paloh nasional demokrat buk mega partai demokrasi indonesia juang cak imin partai bangkit bangsa partai adil sejahtera gus rommy pulang pergi pimpin kuasa indon...\n",
      "\n",
      "--- Theme: 3_debat_kritik_komentar_dialog ---\n",
      "1. debat calon presiden kemarin 01 onfire debat calon wakil presiden ohgitu deh haha...\n",
      "2. cak imin komisi pemelihan adil dukung debat calon presiden calon wakil presiden...\n",
      "3. debat calon wakil presiden cak imin underperform dukung 01 ngeroasting uang buka...\n",
      "\n",
      "--- Theme: 4_video_videotron_film_youtube ---\n",
      "1. kompilasi video kampanye anies aceh wilayah pecaahh...\n",
      "2. video ajar notebook kayak cak imin...\n",
      "3. lihat video 01 amin...\n"
     ]
    }
   ],
   "source": [
    "# Create topic distribution from the existing topic_info\n",
    "topic_distribution = topic_info.set_index(\"Topic\")[\"Count\"]\n",
    "\n",
    "# Get representative documents for key campaign themes\n",
    "print(\"\\nRepresentative tweets for key campaign themes:\")\n",
    "key_topics = [t for t in topic_distribution.index if t != -1][:5]\n",
    "\n",
    "for topic_id in key_topics:\n",
    "    theme_name = topic_model.get_topic_info().loc[topic_model.get_topic_info()[\"Topic\"] == topic_id, \"Name\"].values[0]\n",
    "    print(f\"\\n--- Theme: {theme_name} ---\")\n",
    "    rep_docs = topic_model.get_representative_docs(topic_id)\n",
    "    for i, doc in enumerate(rep_docs[:3]):\n",
    "        print(f\"{i+1}. {doc[:200]}...\")"
   ]
  },
  {
   "cell_type": "code",
   "execution_count": null,
   "id": "f8b8949e",
   "metadata": {},
   "outputs": [],
   "source": []
  }
 ],
 "metadata": {
  "kernelspec": {
   "display_name": "Python 3",
   "language": "python",
   "name": "python3"
  },
  "language_info": {
   "codemirror_mode": {
    "name": "ipython",
    "version": 3
   },
   "file_extension": ".py",
   "mimetype": "text/x-python",
   "name": "python",
   "nbconvert_exporter": "python",
   "pygments_lexer": "ipython3",
   "version": "3.10.10"
  }
 },
 "nbformat": 4,
 "nbformat_minor": 5
}
