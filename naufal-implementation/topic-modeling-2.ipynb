{
 "cells": [
  {
   "cell_type": "code",
   "execution_count": 1,
   "id": "be9df678",
   "metadata": {},
   "outputs": [],
   "source": [
    "from bertopic import BERTopic\n",
    "from sentence_transformers import SentenceTransformer\n",
    "from umap import UMAP\n",
    "import hdbscan\n",
    "from sklearn.decomposition import PCA\n",
    "import pandas as pd\n",
    "import matplotlib.pyplot as plt\n",
    "import seaborn as sns\n",
    "import torch"
   ]
  },
  {
   "cell_type": "code",
   "execution_count": 2,
   "id": "5011ae30",
   "metadata": {},
   "outputs": [
    {
     "name": "stdout",
     "output_type": "stream",
     "text": [
      "GPU available: True\n"
     ]
    }
   ],
   "source": [
    "print(\"GPU available:\", torch.cuda.is_available())"
   ]
  },
  {
   "cell_type": "code",
   "execution_count": 3,
   "id": "e786257c",
   "metadata": {},
   "outputs": [
    {
     "name": "stdout",
     "output_type": "stream",
     "text": [
      "Index(['created_at', 'id_str', 'full_text', 'lang', 'location'], dtype='object')\n"
     ]
    }
   ],
   "source": [
    "df = pd.read_csv(\"../data/stemmed_merged_kubu_02.csv\") \n",
    "print(df.columns)"
   ]
  },
  {
   "cell_type": "code",
   "execution_count": 4,
   "id": "182f365b",
   "metadata": {},
   "outputs": [],
   "source": [
    "df['full_text'] = df['full_text'].str.replace(r'(wk)+|\\bsih\\b|\\bya\\b', '', regex=True)"
   ]
  },
  {
   "cell_type": "code",
   "execution_count": 5,
   "id": "5f6c4214",
   "metadata": {},
   "outputs": [],
   "source": [
    "docs = df['full_text'].dropna().astype(str).tolist()"
   ]
  },
  {
   "cell_type": "code",
   "execution_count": 6,
   "id": "46e82f87",
   "metadata": {},
   "outputs": [
    {
     "data": {
      "text/plain": [
       "SentenceTransformer(\n",
       "  (0): Transformer({'max_seq_length': 128, 'do_lower_case': False}) with Transformer model: DistilBertModel \n",
       "  (1): Pooling({'word_embedding_dimension': 768, 'pooling_mode_cls_token': False, 'pooling_mode_mean_tokens': True, 'pooling_mode_max_tokens': False, 'pooling_mode_mean_sqrt_len_tokens': False, 'pooling_mode_weightedmean_tokens': False, 'pooling_mode_lasttoken': False, 'include_prompt': True})\n",
       "  (2): Dense({'in_features': 768, 'out_features': 512, 'bias': True, 'activation_function': 'torch.nn.modules.activation.Tanh'})\n",
       ")"
      ]
     },
     "execution_count": 6,
     "metadata": {},
     "output_type": "execute_result"
    }
   ],
   "source": [
    "embedding_model = SentenceTransformer(\"distiluse-base-multilingual-cased-v1\")\n",
    "embedding_model.to('cuda' if torch.cuda.is_available() else 'cpu')"
   ]
  },
  {
   "cell_type": "code",
   "execution_count": 7,
   "id": "ba63fd42",
   "metadata": {},
   "outputs": [],
   "source": [
    "pca_model = PCA(n_components=25)\n",
    "umap_model = UMAP(n_neighbors=15, n_components=5, min_dist=0.0, metric='cosine')\n",
    "\n",
    "hdbscan_model = hdbscan.HDBSCAN(\n",
    "    min_cluster_size=15,\n",
    "    metric='euclidean',\n",
    "    cluster_selection_method='eom',\n",
    "    prediction_data=True,\n",
    ")\n"
   ]
  },
  {
   "cell_type": "code",
   "execution_count": 8,
   "id": "19bd1c28",
   "metadata": {},
   "outputs": [
    {
     "name": "stderr",
     "output_type": "stream",
     "text": [
      "2025-05-22 12:06:15,772 - BERTopic - Embedding - Transforming documents to embeddings.\n"
     ]
    },
    {
     "data": {
      "application/vnd.jupyter.widget-view+json": {
       "model_id": "966bd467be054ec0b9324058f36abf34",
       "version_major": 2,
       "version_minor": 0
      },
      "text/plain": [
       "Batches:   0%|          | 0/2951 [00:00<?, ?it/s]"
      ]
     },
     "metadata": {},
     "output_type": "display_data"
    },
    {
     "name": "stderr",
     "output_type": "stream",
     "text": [
      "2025-05-22 12:06:31,089 - BERTopic - Embedding - Completed ✓\n",
      "2025-05-22 12:06:31,090 - BERTopic - Dimensionality - Fitting the dimensionality reduction algorithm\n",
      "2025-05-22 12:06:52,320 - BERTopic - Dimensionality - Completed ✓\n",
      "2025-05-22 12:06:52,321 - BERTopic - Cluster - Start clustering the reduced embeddings\n",
      "2025-05-22 12:41:28,218 - BERTopic - Cluster - Completed ✓\n",
      "2025-05-22 12:41:28,231 - BERTopic - Representation - Fine-tuning topics using representation models.\n",
      "2025-05-22 12:41:28,897 - BERTopic - Representation - Completed ✓\n",
      "2025-05-22 12:41:30,239 - BERTopic - Topic reduction - Reducing number of topics\n",
      "2025-05-22 12:41:30,277 - BERTopic - Representation - Fine-tuning topics using representation models.\n",
      "2025-05-22 12:41:30,612 - BERTopic - Representation - Completed ✓\n",
      "2025-05-22 12:41:30,617 - BERTopic - Topic reduction - Reduced number of topics from 544 to 15\n"
     ]
    },
    {
     "data": {
      "text/plain": [
       "<bertopic._bertopic.BERTopic at 0x14edd5213f0>"
      ]
     },
     "execution_count": 8,
     "metadata": {},
     "output_type": "execute_result"
    }
   ],
   "source": [
    "topic_model_hdbscan = BERTopic(\n",
    "    embedding_model=embedding_model,\n",
    "    umap_model=umap_model,\n",
    "    hdbscan_model=hdbscan_model,\n",
    "    calculate_probabilities=True,\n",
    "    verbose=True\n",
    ")\n",
    "\n",
    "topics_hdbscan, probs = topic_model_hdbscan.fit_transform(docs)\n",
    "\n",
    "topic_model_hdbscan.reduce_topics(docs, nr_topics=15)\n"
   ]
  },
  {
   "cell_type": "code",
   "execution_count": 9,
   "id": "76212730",
   "metadata": {},
   "outputs": [
    {
     "name": "stdout",
     "output_type": "stream",
     "text": [
      "    Topic  Count                                    Name  \\\n",
      "0      -1  32089              -1_prabowo_02_dukung_pilih   \n",
      "1       0  27601                0_02_dukung_pilih_pasang   \n",
      "2       1  16775      1_presiden_calon_indonesia_prabowo   \n",
      "3       2  11446           2_prabowo_gibran_jokowi_orang   \n",
      "4       3   4861             3_debat_data_calon_presiden   \n",
      "5       4    533          4_israel_palestina_dukung_bela   \n",
      "6       5    351           5_viral_dokter_porno_viralkan   \n",
      "7       6    212  6_ekonomi_tumbuh_prabowo_infrastruktur   \n",
      "8       7    126            7_online_message_direct_ojek   \n",
      "9       8    125              8_edit_reformasi_cape_orde   \n",
      "10      9     84               9_sistem_alat_utama_tahan   \n",
      "11     10     70       10_stres_teori_prabowo_konspirasi   \n",
      "12     11     68        11_energi_hijau_gibran_indonesia   \n",
      "13     12     47              12_tulis_tuli_prabowo_buta   \n",
      "14     13     22                    13_00am_jalan_tun_02   \n",
      "\n",
      "                                       Representation  \\\n",
      "0   [prabowo, 02, dukung, pilih, orang, calon, gib...   \n",
      "1   [02, dukung, pilih, pasang, menang, orang, kay...   \n",
      "2   [presiden, calon, indonesia, prabowo, gibran, ...   \n",
      "3   [prabowo, gibran, jokowi, orang, menang, pinta...   \n",
      "4   [debat, data, calon, presiden, media, berita, ...   \n",
      "5   [israel, palestina, dukung, bela, profesional,...   \n",
      "6   [viral, dokter, porno, viralkan, 02, prabowo, ...   \n",
      "7   [ekonomi, tumbuh, prabowo, infrastruktur, cipt...   \n",
      "8   [online, message, direct, ojek, judi, 02, prab...   \n",
      "9   [edit, reformasi, cape, orde, 02, prabowo, vot...   \n",
      "10  [sistem, alat, utama, tahan, beli, prabowo, ad...   \n",
      "11  [stres, teori, prabowo, konspirasi, 02, anak, ...   \n",
      "12  [energi, hijau, gibran, indonesia, semangat, i...   \n",
      "13  [tulis, tuli, prabowo, buta, buku, baca, mat, ...   \n",
      "14  [00am, jalan, tun, 02, azlan, semantan, samban...   \n",
      "\n",
      "                                  Representative_Docs  \n",
      "0   [prabowo dukung jokowi migrasi prabowo kasihan...  \n",
      "1   [orang all in 02 aneh banget otak banget, 02 m...  \n",
      "2   [pasang anies baswedan cak imin amin untung ki...  \n",
      "3   [jokowi pilih prabowo prabowo cocok calon pimp...  \n",
      "4   [menang debat anies ganjar menang pilih presid...  \n",
      "5   [oh kerja israel benar sok sok dukung palestin...  \n",
      "6   [viral 02 jis, prabowo deh viral haha, viral b...  \n",
      "7   [maklum uzur sambung otak 02 ekonomi ekonomi e...  \n",
      "8   [viral ojek online dukung 02 tolak naik pajak ...  \n",
      "9   [edit edit jago 02 viral masuk penjara gara ga...  \n",
      "10  [prabowo anggar alat utama sistem tahan bayar ...  \n",
      "11  [rawan 02 stres, ejek  gibran stres ikut stres...  \n",
      "12  [gibran visi energi hijau bikin indonesia, gib...  \n",
      "13  [pokok 02 tulis, bodoh tulis pasang calon 02, ...  \n",
      "14  [02 00am jalan kucing, 02 00am jalan istana, 0...  \n"
     ]
    },
    {
     "ename": "ValueError",
     "evalue": "Mime type rendering requires nbformat>=4.2.0 but it is not installed",
     "output_type": "error",
     "traceback": [
      "\u001b[1;31m---------------------------------------------------------------------------\u001b[0m",
      "\u001b[1;31mValueError\u001b[0m                                Traceback (most recent call last)",
      "File \u001b[1;32m~\\AppData\\Roaming\\Python\\Python310\\site-packages\\IPython\\core\\formatters.py:925\u001b[0m, in \u001b[0;36mIPythonDisplayFormatter.__call__\u001b[1;34m(self, obj)\u001b[0m\n\u001b[0;32m    923\u001b[0m method \u001b[38;5;241m=\u001b[39m get_real_method(obj, \u001b[38;5;28mself\u001b[39m\u001b[38;5;241m.\u001b[39mprint_method)\n\u001b[0;32m    924\u001b[0m \u001b[38;5;28;01mif\u001b[39;00m method \u001b[38;5;129;01mis\u001b[39;00m \u001b[38;5;129;01mnot\u001b[39;00m \u001b[38;5;28;01mNone\u001b[39;00m:\n\u001b[1;32m--> 925\u001b[0m     \u001b[43mmethod\u001b[49m\u001b[43m(\u001b[49m\u001b[43m)\u001b[49m\n\u001b[0;32m    926\u001b[0m     \u001b[38;5;28;01mreturn\u001b[39;00m \u001b[38;5;28;01mTrue\u001b[39;00m\n",
      "File \u001b[1;32mc:\\Users\\PC\\AppData\\Local\\Programs\\Python\\Python310\\lib\\site-packages\\plotly\\basedatatypes.py:846\u001b[0m, in \u001b[0;36mBaseFigure._ipython_display_\u001b[1;34m(self)\u001b[0m\n\u001b[0;32m    843\u001b[0m \u001b[38;5;28;01mimport\u001b[39;00m \u001b[38;5;21;01mplotly\u001b[39;00m\u001b[38;5;21;01m.\u001b[39;00m\u001b[38;5;21;01mio\u001b[39;00m \u001b[38;5;28;01mas\u001b[39;00m \u001b[38;5;21;01mpio\u001b[39;00m\n\u001b[0;32m    845\u001b[0m \u001b[38;5;28;01mif\u001b[39;00m pio\u001b[38;5;241m.\u001b[39mrenderers\u001b[38;5;241m.\u001b[39mrender_on_display \u001b[38;5;129;01mand\u001b[39;00m pio\u001b[38;5;241m.\u001b[39mrenderers\u001b[38;5;241m.\u001b[39mdefault:\n\u001b[1;32m--> 846\u001b[0m     \u001b[43mpio\u001b[49m\u001b[38;5;241;43m.\u001b[39;49m\u001b[43mshow\u001b[49m\u001b[43m(\u001b[49m\u001b[38;5;28;43mself\u001b[39;49m\u001b[43m)\u001b[49m\n\u001b[0;32m    847\u001b[0m \u001b[38;5;28;01melse\u001b[39;00m:\n\u001b[0;32m    848\u001b[0m     \u001b[38;5;28mprint\u001b[39m(\u001b[38;5;28mrepr\u001b[39m(\u001b[38;5;28mself\u001b[39m))\n",
      "File \u001b[1;32mc:\\Users\\PC\\AppData\\Local\\Programs\\Python\\Python310\\lib\\site-packages\\plotly\\io\\_renderers.py:425\u001b[0m, in \u001b[0;36mshow\u001b[1;34m(fig, renderer, validate, **kwargs)\u001b[0m\n\u001b[0;32m    420\u001b[0m     \u001b[38;5;28;01mraise\u001b[39;00m \u001b[38;5;167;01mValueError\u001b[39;00m(\n\u001b[0;32m    421\u001b[0m         \u001b[38;5;124m\"\u001b[39m\u001b[38;5;124mMime type rendering requires ipython but it is not installed\u001b[39m\u001b[38;5;124m\"\u001b[39m\n\u001b[0;32m    422\u001b[0m     )\n\u001b[0;32m    424\u001b[0m \u001b[38;5;28;01mif\u001b[39;00m \u001b[38;5;129;01mnot\u001b[39;00m nbformat \u001b[38;5;129;01mor\u001b[39;00m Version(nbformat\u001b[38;5;241m.\u001b[39m__version__) \u001b[38;5;241m<\u001b[39m Version(\u001b[38;5;124m\"\u001b[39m\u001b[38;5;124m4.2.0\u001b[39m\u001b[38;5;124m\"\u001b[39m):\n\u001b[1;32m--> 425\u001b[0m     \u001b[38;5;28;01mraise\u001b[39;00m \u001b[38;5;167;01mValueError\u001b[39;00m(\n\u001b[0;32m    426\u001b[0m         \u001b[38;5;124m\"\u001b[39m\u001b[38;5;124mMime type rendering requires nbformat>=4.2.0 but it is not installed\u001b[39m\u001b[38;5;124m\"\u001b[39m\n\u001b[0;32m    427\u001b[0m     )\n\u001b[0;32m    429\u001b[0m display_jupyter_version_warnings()\n\u001b[0;32m    431\u001b[0m ipython_display\u001b[38;5;241m.\u001b[39mdisplay(bundle, raw\u001b[38;5;241m=\u001b[39m\u001b[38;5;28;01mTrue\u001b[39;00m)\n",
      "\u001b[1;31mValueError\u001b[0m: Mime type rendering requires nbformat>=4.2.0 but it is not installed"
     ]
    },
    {
     "data": {
      "application/vnd.plotly.v1+json": {
       "config": {
        "plotlyServerURL": "https://plot.ly"
       },
       "data": [
        {
         "coloraxis": "coloraxis",
         "hovertemplate": "x: %{x}<br>y: %{y}<br>Similarity Score: %{z}<extra></extra>",
         "name": "0",
         "type": "heatmap",
         "x": [
          "0_02_dukung_pilih",
          "1_presiden_calon_indonesia",
          "2_prabowo_gibran_jokowi",
          "3_debat_data_calon",
          "4_israel_palestina_dukung",
          "5_viral_dokter_porno",
          "6_ekonomi_tumbuh_prabowo",
          "7_online_message_direct",
          "8_edit_reformasi_cape",
          "9_sistem_alat_utama",
          "10_stres_teori_prabowo",
          "11_energi_hijau_gibran",
          "12_tulis_tuli_prabowo",
          "13_00am_jalan_tun"
         ],
         "xaxis": "x",
         "y": [
          "0_02_dukung_pilih",
          "1_presiden_calon_indonesia",
          "2_prabowo_gibran_jokowi",
          "3_debat_data_calon",
          "4_israel_palestina_dukung",
          "5_viral_dokter_porno",
          "6_ekonomi_tumbuh_prabowo",
          "7_online_message_direct",
          "8_edit_reformasi_cape",
          "9_sistem_alat_utama",
          "10_stres_teori_prabowo",
          "11_energi_hijau_gibran",
          "12_tulis_tuli_prabowo",
          "13_00am_jalan_tun"
         ],
         "yaxis": "y",
         "z": {
          "bdata": "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",
          "dtype": "f8",
          "shape": "14, 14"
         }
        }
       ],
       "layout": {
        "coloraxis": {
         "colorbar": {
          "title": {
           "text": "Similarity Score"
          }
         },
         "colorscale": [
          [
           0,
           "rgb(247,252,240)"
          ],
          [
           0.125,
           "rgb(224,243,219)"
          ],
          [
           0.25,
           "rgb(204,235,197)"
          ],
          [
           0.375,
           "rgb(168,221,181)"
          ],
          [
           0.5,
           "rgb(123,204,196)"
          ],
          [
           0.625,
           "rgb(78,179,211)"
          ],
          [
           0.75,
           "rgb(43,140,190)"
          ],
          [
           0.875,
           "rgb(8,104,172)"
          ],
          [
           1,
           "rgb(8,64,129)"
          ]
         ]
        },
        "height": 800,
        "hoverlabel": {
         "bgcolor": "white",
         "font": {
          "family": "Rockwell",
          "size": 16
         }
        },
        "legend": {
         "title": {
          "text": "Trend"
         }
        },
        "margin": {
         "t": 60
        },
        "showlegend": true,
        "template": {
         "data": {
          "bar": [
           {
            "error_x": {
             "color": "#2a3f5f"
            },
            "error_y": {
             "color": "#2a3f5f"
            },
            "marker": {
             "line": {
              "color": "#E5ECF6",
              "width": 0.5
             },
             "pattern": {
              "fillmode": "overlay",
              "size": 10,
              "solidity": 0.2
             }
            },
            "type": "bar"
           }
          ],
          "barpolar": [
           {
            "marker": {
             "line": {
              "color": "#E5ECF6",
              "width": 0.5
             },
             "pattern": {
              "fillmode": "overlay",
              "size": 10,
              "solidity": 0.2
             }
            },
            "type": "barpolar"
           }
          ],
          "carpet": [
           {
            "aaxis": {
             "endlinecolor": "#2a3f5f",
             "gridcolor": "white",
             "linecolor": "white",
             "minorgridcolor": "white",
             "startlinecolor": "#2a3f5f"
            },
            "baxis": {
             "endlinecolor": "#2a3f5f",
             "gridcolor": "white",
             "linecolor": "white",
             "minorgridcolor": "white",
             "startlinecolor": "#2a3f5f"
            },
            "type": "carpet"
           }
          ],
          "choropleth": [
           {
            "colorbar": {
             "outlinewidth": 0,
             "ticks": ""
            },
            "type": "choropleth"
           }
          ],
          "contour": [
           {
            "colorbar": {
             "outlinewidth": 0,
             "ticks": ""
            },
            "colorscale": [
             [
              0,
              "#0d0887"
             ],
             [
              0.1111111111111111,
              "#46039f"
             ],
             [
              0.2222222222222222,
              "#7201a8"
             ],
             [
              0.3333333333333333,
              "#9c179e"
             ],
             [
              0.4444444444444444,
              "#bd3786"
             ],
             [
              0.5555555555555556,
              "#d8576b"
             ],
             [
              0.6666666666666666,
              "#ed7953"
             ],
             [
              0.7777777777777778,
              "#fb9f3a"
             ],
             [
              0.8888888888888888,
              "#fdca26"
             ],
             [
              1,
              "#f0f921"
             ]
            ],
            "type": "contour"
           }
          ],
          "contourcarpet": [
           {
            "colorbar": {
             "outlinewidth": 0,
             "ticks": ""
            },
            "type": "contourcarpet"
           }
          ],
          "heatmap": [
           {
            "colorbar": {
             "outlinewidth": 0,
             "ticks": ""
            },
            "colorscale": [
             [
              0,
              "#0d0887"
             ],
             [
              0.1111111111111111,
              "#46039f"
             ],
             [
              0.2222222222222222,
              "#7201a8"
             ],
             [
              0.3333333333333333,
              "#9c179e"
             ],
             [
              0.4444444444444444,
              "#bd3786"
             ],
             [
              0.5555555555555556,
              "#d8576b"
             ],
             [
              0.6666666666666666,
              "#ed7953"
             ],
             [
              0.7777777777777778,
              "#fb9f3a"
             ],
             [
              0.8888888888888888,
              "#fdca26"
             ],
             [
              1,
              "#f0f921"
             ]
            ],
            "type": "heatmap"
           }
          ],
          "histogram": [
           {
            "marker": {
             "pattern": {
              "fillmode": "overlay",
              "size": 10,
              "solidity": 0.2
             }
            },
            "type": "histogram"
           }
          ],
          "histogram2d": [
           {
            "colorbar": {
             "outlinewidth": 0,
             "ticks": ""
            },
            "colorscale": [
             [
              0,
              "#0d0887"
             ],
             [
              0.1111111111111111,
              "#46039f"
             ],
             [
              0.2222222222222222,
              "#7201a8"
             ],
             [
              0.3333333333333333,
              "#9c179e"
             ],
             [
              0.4444444444444444,
              "#bd3786"
             ],
             [
              0.5555555555555556,
              "#d8576b"
             ],
             [
              0.6666666666666666,
              "#ed7953"
             ],
             [
              0.7777777777777778,
              "#fb9f3a"
             ],
             [
              0.8888888888888888,
              "#fdca26"
             ],
             [
              1,
              "#f0f921"
             ]
            ],
            "type": "histogram2d"
           }
          ],
          "histogram2dcontour": [
           {
            "colorbar": {
             "outlinewidth": 0,
             "ticks": ""
            },
            "colorscale": [
             [
              0,
              "#0d0887"
             ],
             [
              0.1111111111111111,
              "#46039f"
             ],
             [
              0.2222222222222222,
              "#7201a8"
             ],
             [
              0.3333333333333333,
              "#9c179e"
             ],
             [
              0.4444444444444444,
              "#bd3786"
             ],
             [
              0.5555555555555556,
              "#d8576b"
             ],
             [
              0.6666666666666666,
              "#ed7953"
             ],
             [
              0.7777777777777778,
              "#fb9f3a"
             ],
             [
              0.8888888888888888,
              "#fdca26"
             ],
             [
              1,
              "#f0f921"
             ]
            ],
            "type": "histogram2dcontour"
           }
          ],
          "mesh3d": [
           {
            "colorbar": {
             "outlinewidth": 0,
             "ticks": ""
            },
            "type": "mesh3d"
           }
          ],
          "parcoords": [
           {
            "line": {
             "colorbar": {
              "outlinewidth": 0,
              "ticks": ""
             }
            },
            "type": "parcoords"
           }
          ],
          "pie": [
           {
            "automargin": true,
            "type": "pie"
           }
          ],
          "scatter": [
           {
            "fillpattern": {
             "fillmode": "overlay",
             "size": 10,
             "solidity": 0.2
            },
            "type": "scatter"
           }
          ],
          "scatter3d": [
           {
            "line": {
             "colorbar": {
              "outlinewidth": 0,
              "ticks": ""
             }
            },
            "marker": {
             "colorbar": {
              "outlinewidth": 0,
              "ticks": ""
             }
            },
            "type": "scatter3d"
           }
          ],
          "scattercarpet": [
           {
            "marker": {
             "colorbar": {
              "outlinewidth": 0,
              "ticks": ""
             }
            },
            "type": "scattercarpet"
           }
          ],
          "scattergeo": [
           {
            "marker": {
             "colorbar": {
              "outlinewidth": 0,
              "ticks": ""
             }
            },
            "type": "scattergeo"
           }
          ],
          "scattergl": [
           {
            "marker": {
             "colorbar": {
              "outlinewidth": 0,
              "ticks": ""
             }
            },
            "type": "scattergl"
           }
          ],
          "scattermap": [
           {
            "marker": {
             "colorbar": {
              "outlinewidth": 0,
              "ticks": ""
             }
            },
            "type": "scattermap"
           }
          ],
          "scattermapbox": [
           {
            "marker": {
             "colorbar": {
              "outlinewidth": 0,
              "ticks": ""
             }
            },
            "type": "scattermapbox"
           }
          ],
          "scatterpolar": [
           {
            "marker": {
             "colorbar": {
              "outlinewidth": 0,
              "ticks": ""
             }
            },
            "type": "scatterpolar"
           }
          ],
          "scatterpolargl": [
           {
            "marker": {
             "colorbar": {
              "outlinewidth": 0,
              "ticks": ""
             }
            },
            "type": "scatterpolargl"
           }
          ],
          "scatterternary": [
           {
            "marker": {
             "colorbar": {
              "outlinewidth": 0,
              "ticks": ""
             }
            },
            "type": "scatterternary"
           }
          ],
          "surface": [
           {
            "colorbar": {
             "outlinewidth": 0,
             "ticks": ""
            },
            "colorscale": [
             [
              0,
              "#0d0887"
             ],
             [
              0.1111111111111111,
              "#46039f"
             ],
             [
              0.2222222222222222,
              "#7201a8"
             ],
             [
              0.3333333333333333,
              "#9c179e"
             ],
             [
              0.4444444444444444,
              "#bd3786"
             ],
             [
              0.5555555555555556,
              "#d8576b"
             ],
             [
              0.6666666666666666,
              "#ed7953"
             ],
             [
              0.7777777777777778,
              "#fb9f3a"
             ],
             [
              0.8888888888888888,
              "#fdca26"
             ],
             [
              1,
              "#f0f921"
             ]
            ],
            "type": "surface"
           }
          ],
          "table": [
           {
            "cells": {
             "fill": {
              "color": "#EBF0F8"
             },
             "line": {
              "color": "white"
             }
            },
            "header": {
             "fill": {
              "color": "#C8D4E3"
             },
             "line": {
              "color": "white"
             }
            },
            "type": "table"
           }
          ]
         },
         "layout": {
          "annotationdefaults": {
           "arrowcolor": "#2a3f5f",
           "arrowhead": 0,
           "arrowwidth": 1
          },
          "autotypenumbers": "strict",
          "coloraxis": {
           "colorbar": {
            "outlinewidth": 0,
            "ticks": ""
           }
          },
          "colorscale": {
           "diverging": [
            [
             0,
             "#8e0152"
            ],
            [
             0.1,
             "#c51b7d"
            ],
            [
             0.2,
             "#de77ae"
            ],
            [
             0.3,
             "#f1b6da"
            ],
            [
             0.4,
             "#fde0ef"
            ],
            [
             0.5,
             "#f7f7f7"
            ],
            [
             0.6,
             "#e6f5d0"
            ],
            [
             0.7,
             "#b8e186"
            ],
            [
             0.8,
             "#7fbc41"
            ],
            [
             0.9,
             "#4d9221"
            ],
            [
             1,
             "#276419"
            ]
           ],
           "sequential": [
            [
             0,
             "#0d0887"
            ],
            [
             0.1111111111111111,
             "#46039f"
            ],
            [
             0.2222222222222222,
             "#7201a8"
            ],
            [
             0.3333333333333333,
             "#9c179e"
            ],
            [
             0.4444444444444444,
             "#bd3786"
            ],
            [
             0.5555555555555556,
             "#d8576b"
            ],
            [
             0.6666666666666666,
             "#ed7953"
            ],
            [
             0.7777777777777778,
             "#fb9f3a"
            ],
            [
             0.8888888888888888,
             "#fdca26"
            ],
            [
             1,
             "#f0f921"
            ]
           ],
           "sequentialminus": [
            [
             0,
             "#0d0887"
            ],
            [
             0.1111111111111111,
             "#46039f"
            ],
            [
             0.2222222222222222,
             "#7201a8"
            ],
            [
             0.3333333333333333,
             "#9c179e"
            ],
            [
             0.4444444444444444,
             "#bd3786"
            ],
            [
             0.5555555555555556,
             "#d8576b"
            ],
            [
             0.6666666666666666,
             "#ed7953"
            ],
            [
             0.7777777777777778,
             "#fb9f3a"
            ],
            [
             0.8888888888888888,
             "#fdca26"
            ],
            [
             1,
             "#f0f921"
            ]
           ]
          },
          "colorway": [
           "#636efa",
           "#EF553B",
           "#00cc96",
           "#ab63fa",
           "#FFA15A",
           "#19d3f3",
           "#FF6692",
           "#B6E880",
           "#FF97FF",
           "#FECB52"
          ],
          "font": {
           "color": "#2a3f5f"
          },
          "geo": {
           "bgcolor": "white",
           "lakecolor": "white",
           "landcolor": "#E5ECF6",
           "showlakes": true,
           "showland": true,
           "subunitcolor": "white"
          },
          "hoverlabel": {
           "align": "left"
          },
          "hovermode": "closest",
          "mapbox": {
           "style": "light"
          },
          "paper_bgcolor": "white",
          "plot_bgcolor": "#E5ECF6",
          "polar": {
           "angularaxis": {
            "gridcolor": "white",
            "linecolor": "white",
            "ticks": ""
           },
           "bgcolor": "#E5ECF6",
           "radialaxis": {
            "gridcolor": "white",
            "linecolor": "white",
            "ticks": ""
           }
          },
          "scene": {
           "xaxis": {
            "backgroundcolor": "#E5ECF6",
            "gridcolor": "white",
            "gridwidth": 2,
            "linecolor": "white",
            "showbackground": true,
            "ticks": "",
            "zerolinecolor": "white"
           },
           "yaxis": {
            "backgroundcolor": "#E5ECF6",
            "gridcolor": "white",
            "gridwidth": 2,
            "linecolor": "white",
            "showbackground": true,
            "ticks": "",
            "zerolinecolor": "white"
           },
           "zaxis": {
            "backgroundcolor": "#E5ECF6",
            "gridcolor": "white",
            "gridwidth": 2,
            "linecolor": "white",
            "showbackground": true,
            "ticks": "",
            "zerolinecolor": "white"
           }
          },
          "shapedefaults": {
           "line": {
            "color": "#2a3f5f"
           }
          },
          "ternary": {
           "aaxis": {
            "gridcolor": "white",
            "linecolor": "white",
            "ticks": ""
           },
           "baxis": {
            "gridcolor": "white",
            "linecolor": "white",
            "ticks": ""
           },
           "bgcolor": "#E5ECF6",
           "caxis": {
            "gridcolor": "white",
            "linecolor": "white",
            "ticks": ""
           }
          },
          "title": {
           "x": 0.05
          },
          "xaxis": {
           "automargin": true,
           "gridcolor": "white",
           "linecolor": "white",
           "ticks": "",
           "title": {
            "standoff": 15
           },
           "zerolinecolor": "white",
           "zerolinewidth": 2
          },
          "yaxis": {
           "automargin": true,
           "gridcolor": "white",
           "linecolor": "white",
           "ticks": "",
           "title": {
            "standoff": 15
           },
           "zerolinecolor": "white",
           "zerolinewidth": 2
          }
         }
        },
        "title": {
         "font": {
          "color": "Black",
          "size": 22
         },
         "text": "<b>Similarity Matrix</b>",
         "x": 0.55,
         "xanchor": "center",
         "y": 0.95,
         "yanchor": "top"
        },
        "width": 800,
        "xaxis": {
         "anchor": "y",
         "constrain": "domain",
         "domain": [
          0,
          1
         ],
         "scaleanchor": "y"
        },
        "yaxis": {
         "anchor": "x",
         "autorange": "reversed",
         "constrain": "domain",
         "domain": [
          0,
          1
         ]
        }
       }
      },
      "text/html": [
       "<div>                        <script type=\"text/javascript\">window.PlotlyConfig = {MathJaxConfig: 'local'};</script>\n",
       "        <script charset=\"utf-8\" src=\"https://cdn.plot.ly/plotly-3.0.1.min.js\"></script>                <div id=\"74d6bc4c-0fe2-42f3-8543-01d9938055cf\" class=\"plotly-graph-div\" style=\"height:800px; width:800px;\"></div>            <script type=\"text/javascript\">                window.PLOTLYENV=window.PLOTLYENV || {};                                if (document.getElementById(\"74d6bc4c-0fe2-42f3-8543-01d9938055cf\")) {                    Plotly.newPlot(                        \"74d6bc4c-0fe2-42f3-8543-01d9938055cf\",                        [{\"coloraxis\":\"coloraxis\",\"name\":\"0\",\"x\":[\"0_02_dukung_pilih\",\"1_presiden_calon_indonesia\",\"2_prabowo_gibran_jokowi\",\"3_debat_data_calon\",\"4_israel_palestina_dukung\",\"5_viral_dokter_porno\",\"6_ekonomi_tumbuh_prabowo\",\"7_online_message_direct\",\"8_edit_reformasi_cape\",\"9_sistem_alat_utama\",\"10_stres_teori_prabowo\",\"11_energi_hijau_gibran\",\"12_tulis_tuli_prabowo\",\"13_00am_jalan_tun\"],\"y\":[\"0_02_dukung_pilih\",\"1_presiden_calon_indonesia\",\"2_prabowo_gibran_jokowi\",\"3_debat_data_calon\",\"4_israel_palestina_dukung\",\"5_viral_dokter_porno\",\"6_ekonomi_tumbuh_prabowo\",\"7_online_message_direct\",\"8_edit_reformasi_cape\",\"9_sistem_alat_utama\",\"10_stres_teori_prabowo\",\"11_energi_hijau_gibran\",\"12_tulis_tuli_prabowo\",\"13_00am_jalan_tun\"],\"z\":{\"dtype\":\"f8\",\"bdata\":\"+\\u002f\\u002f\\u002f\\u002f\\u002f\\u002f\\u002f7z8sIhvyeYLnP\\u002fyhJ9b2COQ\\u002fTrPQoQdb6D+LT\\u002f8H+B\\u002fjP9s3zKCCmOc\\u002fwPUXDEAd3T+S8KS8V5rmP\\u002fhcxhbtA+g\\u002fOP7QdxGl3j\\u002fKj\\u002fa399vkP4UCDRnAYtg\\u002fVt1Hr3LJ4j+7PsiGLG\\u002fiPywiG\\u002fJ5guc\\u002fBAAAAAAA8D8RFy6pyNPoP+sJdCcdk+s\\u002fDYQteQM65T9UbzdDBmznPzH1ucype+U\\u002fatveJiF\\u002f4z9jtJewHDblP3OndZd2BOQ\\u002fIkeFspO14z\\u002fGTeZ\\u002fSfXeP+mp3Jb3Zd8\\u002fflP5UK\\u002fP1D\\u002f8oSfW9gjkPxEXLqnI0+g\\u002fAAAAAAAA8D9g1tBmAsbmP\\u002fDT3kytseQ\\u002fZRUuFr5X5j9WGS9niu\\u002fjPxudJ5Ey8uE\\u002fsq8HxFUB4z+Y3SqfRkvkP1BekHEdTuU\\u002f3uBnOsa74z+gQdrYBBLlP1ckY\\u002f1bjdI\\u002fTrPQoQdb6D\\u002frCXQnHZPrP2DW0GYCxuY\\u002fAAAAAAAA8D8WAC5ogP7jPwuPukwaxOY\\u002feHNnOIi34z\\u002fpqhKzBErkP62W5hc5bOU\\u002feCkrDp0k4j9+j4NmibvjP\\u002f7vWt1u3do\\u002faOR+IuLH3T\\u002fmWnP3umTUP4tP\\u002fwf4H+M\\u002fDYQteQM65T\\u002fw095MrbHkPxYALmiA\\u002fuM\\u002f\\u002fv\\u002f\\u002f\\u002f\\u002f\\u002f\\u002f7z+c\\u002fngIK5DjPx5wL+V7DOA\\u002fLXi5Zbny4D+oLfOwcoXgP86aIK9jId8\\u002f82YeauK+3z80V4gSvaTXPz8H5v9HIeE\\u002fW8XXMdfD0T\\u002fbN8yggpjnP1RvN0MGbOc\\u002fZRUuFr5X5j8Lj7pMGsTmP5z+eAgrkOM\\u002f9v\\u002f\\u002f\\u002f\\u002f\\u002f\\u002f7z\\u002fOqtCNgdLgP8g\\u002fGa\\u002fT\\u002fOM\\u002fmkxCz2Cb4z8x275lK2PgP8CRtVxUCuM\\u002f+rdOBvMS3D9B0I72B3HhP46UC6An0tU\\u002fwPUXDEAd3T8x9bnMqXvlP1YZL2eK7+M\\u002feHNnOIi34z8ecC\\u002flewzgP86q0I2B0uA\\u002fAAAAAAAA8D+19+K00\\u002fjcPyboMmOyg9w\\u002fXbSq84XI4j\\u002ftu9q9Dy7eP159Zc61Gto\\u002fRKDhQ2S\\u002f1j8AZmkbbZLEP5LwpLxXmuY\\u002fatveJiF\\u002f4z8bnSeRMvLhP+mqErMESuQ\\u002fLXi5Zbny4D\\u002fIPxmv0\\u002fzjP7X34rTT+Nw\\u002fAAAAAAAA8D+vpcILcfHhP8xrcg0HKt0\\u002fWGcyO5E44D8YKtrW9ZHWPyEsKKFMpNs\\u002fzJWlYXMG1z\\u002f4XMYW7QPoP2O0l7AcNuU\\u002fsq8HxFUB4z+tluYXOWzlP6gt87ByheA\\u002fmkxCz2Cb4z8m6DJjsoPcP6+lwgtx8eE\\u002fAAAAAAAA8D8kZ5tX17ndP0Tgz06qwuA\\u002fhhhVLfGO1j+5mbXA91XeP1xG9O8V7dg\\u002fOP7QdxGl3j9zp3WXdgTkP5jdKp9GS+Q\\u002feCkrDp0k4j\\u002fOmiCvYyHfPzHbvmUrY+A\\u002fXbSq84XI4j\\u002fMa3INByrdPyRnm1fXud0\\u002f\\u002f\\u002f\\u002f\\u002f\\u002f\\u002f\\u002f\\u002f7z+aLH2UBIXdP8CqKosBrdg\\u002f55zJ\\u002fTmh2T+97NXWrmHDP8qP9rf32+Q\\u002fIkeFspO14z9QXpBxHU7lP36Pg2aJu+M\\u002f82YeauK+3z\\u002fAkbVcVArjP+272r0PLt4\\u002fWGcyO5E44D9E4M9OqsLgP5osfZQEhd0\\u002f+\\u002f\\u002f\\u002f\\u002f\\u002f\\u002f\\u002f7z+3alAus9HcP0093YxD2N8\\u002fyuHRYpCR1T+FAg0ZwGLYP8ZN5n9J9d4\\u002f3uBnOsa74z\\u002f+71rdbt3aPzRXiBK9pNc\\u002f+rdOBvMS3D9efWXOtRraPxgq2tb1kdY\\u002fhhhVLfGO1j\\u002fAqiqLAa3YP7dqUC6z0dw\\u002fAAAAAAAA8D8ArA0JJpnYP+G6G6DCuck\\u002fVt1Hr3LJ4j\\u002fpqdyW92XfP6BB2tgEEuU\\u002faOR+IuLH3T8\\u002fB+b\\u002fRyHhP0HQjvYHceE\\u002fRKDhQ2S\\u002f1j8hLCihTKTbP7mZtcD3Vd4\\u002f55zJ\\u002fTmh2T9NPd2MQ9jfPwCsDQkmmdg\\u002f\\u002fP\\u002f\\u002f\\u002f\\u002f\\u002f\\u002f7z86uETqd\\u002fjVP7s+yIYsb+I\\u002fflP5UK\\u002fP1D9XJGP9W43SP+Zac\\u002fe6ZNQ\\u002fW8XXMdfD0T+OlAugJ9LVPwBmaRttksQ\\u002fzJWlYXMG1z9cRvTvFe3YP73s1dauYcM\\u002fyuHRYpCR1T\\u002fhuhugwrnJPzq4ROp3+NU\\u002fAgAAAAAA8D8=\",\"shape\":\"14, 14\"},\"type\":\"heatmap\",\"xaxis\":\"x\",\"yaxis\":\"y\",\"hovertemplate\":\"x: %{x}\\u003cbr\\u003ey: %{y}\\u003cbr\\u003eSimilarity Score: %{z}\\u003cextra\\u003e\\u003c\\u002fextra\\u003e\"}],                        {\"template\":{\"data\":{\"histogram2dcontour\":[{\"type\":\"histogram2dcontour\",\"colorbar\":{\"outlinewidth\":0,\"ticks\":\"\"},\"colorscale\":[[0.0,\"#0d0887\"],[0.1111111111111111,\"#46039f\"],[0.2222222222222222,\"#7201a8\"],[0.3333333333333333,\"#9c179e\"],[0.4444444444444444,\"#bd3786\"],[0.5555555555555556,\"#d8576b\"],[0.6666666666666666,\"#ed7953\"],[0.7777777777777778,\"#fb9f3a\"],[0.8888888888888888,\"#fdca26\"],[1.0,\"#f0f921\"]]}],\"choropleth\":[{\"type\":\"choropleth\",\"colorbar\":{\"outlinewidth\":0,\"ticks\":\"\"}}],\"histogram2d\":[{\"type\":\"histogram2d\",\"colorbar\":{\"outlinewidth\":0,\"ticks\":\"\"},\"colorscale\":[[0.0,\"#0d0887\"],[0.1111111111111111,\"#46039f\"],[0.2222222222222222,\"#7201a8\"],[0.3333333333333333,\"#9c179e\"],[0.4444444444444444,\"#bd3786\"],[0.5555555555555556,\"#d8576b\"],[0.6666666666666666,\"#ed7953\"],[0.7777777777777778,\"#fb9f3a\"],[0.8888888888888888,\"#fdca26\"],[1.0,\"#f0f921\"]]}],\"heatmap\":[{\"type\":\"heatmap\",\"colorbar\":{\"outlinewidth\":0,\"ticks\":\"\"},\"colorscale\":[[0.0,\"#0d0887\"],[0.1111111111111111,\"#46039f\"],[0.2222222222222222,\"#7201a8\"],[0.3333333333333333,\"#9c179e\"],[0.4444444444444444,\"#bd3786\"],[0.5555555555555556,\"#d8576b\"],[0.6666666666666666,\"#ed7953\"],[0.7777777777777778,\"#fb9f3a\"],[0.8888888888888888,\"#fdca26\"],[1.0,\"#f0f921\"]]}],\"contourcarpet\":[{\"type\":\"contourcarpet\",\"colorbar\":{\"outlinewidth\":0,\"ticks\":\"\"}}],\"contour\":[{\"type\":\"contour\",\"colorbar\":{\"outlinewidth\":0,\"ticks\":\"\"},\"colorscale\":[[0.0,\"#0d0887\"],[0.1111111111111111,\"#46039f\"],[0.2222222222222222,\"#7201a8\"],[0.3333333333333333,\"#9c179e\"],[0.4444444444444444,\"#bd3786\"],[0.5555555555555556,\"#d8576b\"],[0.6666666666666666,\"#ed7953\"],[0.7777777777777778,\"#fb9f3a\"],[0.8888888888888888,\"#fdca26\"],[1.0,\"#f0f921\"]]}],\"surface\":[{\"type\":\"surface\",\"colorbar\":{\"outlinewidth\":0,\"ticks\":\"\"},\"colorscale\":[[0.0,\"#0d0887\"],[0.1111111111111111,\"#46039f\"],[0.2222222222222222,\"#7201a8\"],[0.3333333333333333,\"#9c179e\"],[0.4444444444444444,\"#bd3786\"],[0.5555555555555556,\"#d8576b\"],[0.6666666666666666,\"#ed7953\"],[0.7777777777777778,\"#fb9f3a\"],[0.8888888888888888,\"#fdca26\"],[1.0,\"#f0f921\"]]}],\"mesh3d\":[{\"type\":\"mesh3d\",\"colorbar\":{\"outlinewidth\":0,\"ticks\":\"\"}}],\"scatter\":[{\"fillpattern\":{\"fillmode\":\"overlay\",\"size\":10,\"solidity\":0.2},\"type\":\"scatter\"}],\"parcoords\":[{\"type\":\"parcoords\",\"line\":{\"colorbar\":{\"outlinewidth\":0,\"ticks\":\"\"}}}],\"scatterpolargl\":[{\"type\":\"scatterpolargl\",\"marker\":{\"colorbar\":{\"outlinewidth\":0,\"ticks\":\"\"}}}],\"bar\":[{\"error_x\":{\"color\":\"#2a3f5f\"},\"error_y\":{\"color\":\"#2a3f5f\"},\"marker\":{\"line\":{\"color\":\"#E5ECF6\",\"width\":0.5},\"pattern\":{\"fillmode\":\"overlay\",\"size\":10,\"solidity\":0.2}},\"type\":\"bar\"}],\"scattergeo\":[{\"type\":\"scattergeo\",\"marker\":{\"colorbar\":{\"outlinewidth\":0,\"ticks\":\"\"}}}],\"scatterpolar\":[{\"type\":\"scatterpolar\",\"marker\":{\"colorbar\":{\"outlinewidth\":0,\"ticks\":\"\"}}}],\"histogram\":[{\"marker\":{\"pattern\":{\"fillmode\":\"overlay\",\"size\":10,\"solidity\":0.2}},\"type\":\"histogram\"}],\"scattergl\":[{\"type\":\"scattergl\",\"marker\":{\"colorbar\":{\"outlinewidth\":0,\"ticks\":\"\"}}}],\"scatter3d\":[{\"type\":\"scatter3d\",\"line\":{\"colorbar\":{\"outlinewidth\":0,\"ticks\":\"\"}},\"marker\":{\"colorbar\":{\"outlinewidth\":0,\"ticks\":\"\"}}}],\"scattermap\":[{\"type\":\"scattermap\",\"marker\":{\"colorbar\":{\"outlinewidth\":0,\"ticks\":\"\"}}}],\"scattermapbox\":[{\"type\":\"scattermapbox\",\"marker\":{\"colorbar\":{\"outlinewidth\":0,\"ticks\":\"\"}}}],\"scatterternary\":[{\"type\":\"scatterternary\",\"marker\":{\"colorbar\":{\"outlinewidth\":0,\"ticks\":\"\"}}}],\"scattercarpet\":[{\"type\":\"scattercarpet\",\"marker\":{\"colorbar\":{\"outlinewidth\":0,\"ticks\":\"\"}}}],\"carpet\":[{\"aaxis\":{\"endlinecolor\":\"#2a3f5f\",\"gridcolor\":\"white\",\"linecolor\":\"white\",\"minorgridcolor\":\"white\",\"startlinecolor\":\"#2a3f5f\"},\"baxis\":{\"endlinecolor\":\"#2a3f5f\",\"gridcolor\":\"white\",\"linecolor\":\"white\",\"minorgridcolor\":\"white\",\"startlinecolor\":\"#2a3f5f\"},\"type\":\"carpet\"}],\"table\":[{\"cells\":{\"fill\":{\"color\":\"#EBF0F8\"},\"line\":{\"color\":\"white\"}},\"header\":{\"fill\":{\"color\":\"#C8D4E3\"},\"line\":{\"color\":\"white\"}},\"type\":\"table\"}],\"barpolar\":[{\"marker\":{\"line\":{\"color\":\"#E5ECF6\",\"width\":0.5},\"pattern\":{\"fillmode\":\"overlay\",\"size\":10,\"solidity\":0.2}},\"type\":\"barpolar\"}],\"pie\":[{\"automargin\":true,\"type\":\"pie\"}]},\"layout\":{\"autotypenumbers\":\"strict\",\"colorway\":[\"#636efa\",\"#EF553B\",\"#00cc96\",\"#ab63fa\",\"#FFA15A\",\"#19d3f3\",\"#FF6692\",\"#B6E880\",\"#FF97FF\",\"#FECB52\"],\"font\":{\"color\":\"#2a3f5f\"},\"hovermode\":\"closest\",\"hoverlabel\":{\"align\":\"left\"},\"paper_bgcolor\":\"white\",\"plot_bgcolor\":\"#E5ECF6\",\"polar\":{\"bgcolor\":\"#E5ECF6\",\"angularaxis\":{\"gridcolor\":\"white\",\"linecolor\":\"white\",\"ticks\":\"\"},\"radialaxis\":{\"gridcolor\":\"white\",\"linecolor\":\"white\",\"ticks\":\"\"}},\"ternary\":{\"bgcolor\":\"#E5ECF6\",\"aaxis\":{\"gridcolor\":\"white\",\"linecolor\":\"white\",\"ticks\":\"\"},\"baxis\":{\"gridcolor\":\"white\",\"linecolor\":\"white\",\"ticks\":\"\"},\"caxis\":{\"gridcolor\":\"white\",\"linecolor\":\"white\",\"ticks\":\"\"}},\"coloraxis\":{\"colorbar\":{\"outlinewidth\":0,\"ticks\":\"\"}},\"colorscale\":{\"sequential\":[[0.0,\"#0d0887\"],[0.1111111111111111,\"#46039f\"],[0.2222222222222222,\"#7201a8\"],[0.3333333333333333,\"#9c179e\"],[0.4444444444444444,\"#bd3786\"],[0.5555555555555556,\"#d8576b\"],[0.6666666666666666,\"#ed7953\"],[0.7777777777777778,\"#fb9f3a\"],[0.8888888888888888,\"#fdca26\"],[1.0,\"#f0f921\"]],\"sequentialminus\":[[0.0,\"#0d0887\"],[0.1111111111111111,\"#46039f\"],[0.2222222222222222,\"#7201a8\"],[0.3333333333333333,\"#9c179e\"],[0.4444444444444444,\"#bd3786\"],[0.5555555555555556,\"#d8576b\"],[0.6666666666666666,\"#ed7953\"],[0.7777777777777778,\"#fb9f3a\"],[0.8888888888888888,\"#fdca26\"],[1.0,\"#f0f921\"]],\"diverging\":[[0,\"#8e0152\"],[0.1,\"#c51b7d\"],[0.2,\"#de77ae\"],[0.3,\"#f1b6da\"],[0.4,\"#fde0ef\"],[0.5,\"#f7f7f7\"],[0.6,\"#e6f5d0\"],[0.7,\"#b8e186\"],[0.8,\"#7fbc41\"],[0.9,\"#4d9221\"],[1,\"#276419\"]]},\"xaxis\":{\"gridcolor\":\"white\",\"linecolor\":\"white\",\"ticks\":\"\",\"title\":{\"standoff\":15},\"zerolinecolor\":\"white\",\"automargin\":true,\"zerolinewidth\":2},\"yaxis\":{\"gridcolor\":\"white\",\"linecolor\":\"white\",\"ticks\":\"\",\"title\":{\"standoff\":15},\"zerolinecolor\":\"white\",\"automargin\":true,\"zerolinewidth\":2},\"scene\":{\"xaxis\":{\"backgroundcolor\":\"#E5ECF6\",\"gridcolor\":\"white\",\"linecolor\":\"white\",\"showbackground\":true,\"ticks\":\"\",\"zerolinecolor\":\"white\",\"gridwidth\":2},\"yaxis\":{\"backgroundcolor\":\"#E5ECF6\",\"gridcolor\":\"white\",\"linecolor\":\"white\",\"showbackground\":true,\"ticks\":\"\",\"zerolinecolor\":\"white\",\"gridwidth\":2},\"zaxis\":{\"backgroundcolor\":\"#E5ECF6\",\"gridcolor\":\"white\",\"linecolor\":\"white\",\"showbackground\":true,\"ticks\":\"\",\"zerolinecolor\":\"white\",\"gridwidth\":2}},\"shapedefaults\":{\"line\":{\"color\":\"#2a3f5f\"}},\"annotationdefaults\":{\"arrowcolor\":\"#2a3f5f\",\"arrowhead\":0,\"arrowwidth\":1},\"geo\":{\"bgcolor\":\"white\",\"landcolor\":\"#E5ECF6\",\"subunitcolor\":\"white\",\"showland\":true,\"showlakes\":true,\"lakecolor\":\"white\"},\"title\":{\"x\":0.05},\"mapbox\":{\"style\":\"light\"}}},\"xaxis\":{\"anchor\":\"y\",\"domain\":[0.0,1.0],\"scaleanchor\":\"y\",\"constrain\":\"domain\"},\"yaxis\":{\"anchor\":\"x\",\"domain\":[0.0,1.0],\"autorange\":\"reversed\",\"constrain\":\"domain\"},\"coloraxis\":{\"colorbar\":{\"title\":{\"text\":\"Similarity Score\"}},\"colorscale\":[[0.0,\"rgb(247,252,240)\"],[0.125,\"rgb(224,243,219)\"],[0.25,\"rgb(204,235,197)\"],[0.375,\"rgb(168,221,181)\"],[0.5,\"rgb(123,204,196)\"],[0.625,\"rgb(78,179,211)\"],[0.75,\"rgb(43,140,190)\"],[0.875,\"rgb(8,104,172)\"],[1.0,\"rgb(8,64,129)\"]]},\"margin\":{\"t\":60},\"title\":{\"font\":{\"size\":22,\"color\":\"Black\"},\"text\":\"\\u003cb\\u003eSimilarity Matrix\\u003c\\u002fb\\u003e\",\"y\":0.95,\"x\":0.55,\"xanchor\":\"center\",\"yanchor\":\"top\"},\"hoverlabel\":{\"font\":{\"size\":16,\"family\":\"Rockwell\"},\"bgcolor\":\"white\"},\"width\":800,\"height\":800,\"showlegend\":true,\"legend\":{\"title\":{\"text\":\"Trend\"}}},                        {\"responsive\": true}                    )                };            </script>        </div>"
      ],
      "text/plain": [
       "Figure({\n",
       "    'data': [{'coloraxis': 'coloraxis',\n",
       "              'hovertemplate': 'x: %{x}<br>y: %{y}<br>Similarity Score: %{z}<extra></extra>',\n",
       "              'name': '0',\n",
       "              'type': 'heatmap',\n",
       "              'x': [0_02_dukung_pilih, 1_presiden_calon_indonesia,\n",
       "                    2_prabowo_gibran_jokowi, 3_debat_data_calon,\n",
       "                    4_israel_palestina_dukung, 5_viral_dokter_porno,\n",
       "                    6_ekonomi_tumbuh_prabowo, 7_online_message_direct,\n",
       "                    8_edit_reformasi_cape, 9_sistem_alat_utama,\n",
       "                    10_stres_teori_prabowo, 11_energi_hijau_gibran,\n",
       "                    12_tulis_tuli_prabowo, 13_00am_jalan_tun],\n",
       "              'xaxis': 'x',\n",
       "              'y': [0_02_dukung_pilih, 1_presiden_calon_indonesia,\n",
       "                    2_prabowo_gibran_jokowi, 3_debat_data_calon,\n",
       "                    4_israel_palestina_dukung, 5_viral_dokter_porno,\n",
       "                    6_ekonomi_tumbuh_prabowo, 7_online_message_direct,\n",
       "                    8_edit_reformasi_cape, 9_sistem_alat_utama,\n",
       "                    10_stres_teori_prabowo, 11_energi_hijau_gibran,\n",
       "                    12_tulis_tuli_prabowo, 13_00am_jalan_tun],\n",
       "              'yaxis': 'y',\n",
       "              'z': {'bdata': ('+///////7z8sIhvyeYLnP/yhJ9b2CO' ... 'ugwrnJPzq4ROp3+NU/AgAAAAAA8D8='),\n",
       "                    'dtype': 'f8',\n",
       "                    'shape': '14, 14'}}],\n",
       "    'layout': {'coloraxis': {'colorbar': {'title': {'text': 'Similarity Score'}},\n",
       "                             'colorscale': [[0.0, 'rgb(247,252,240)'], [0.125,\n",
       "                                            'rgb(224,243,219)'], [0.25,\n",
       "                                            'rgb(204,235,197)'], [0.375,\n",
       "                                            'rgb(168,221,181)'], [0.5,\n",
       "                                            'rgb(123,204,196)'], [0.625,\n",
       "                                            'rgb(78,179,211)'], [0.75,\n",
       "                                            'rgb(43,140,190)'], [0.875,\n",
       "                                            'rgb(8,104,172)'], [1.0,\n",
       "                                            'rgb(8,64,129)']]},\n",
       "               'height': 800,\n",
       "               'hoverlabel': {'bgcolor': 'white', 'font': {'family': 'Rockwell', 'size': 16}},\n",
       "               'legend': {'title': {'text': 'Trend'}},\n",
       "               'margin': {'t': 60},\n",
       "               'showlegend': True,\n",
       "               'template': '...',\n",
       "               'title': {'font': {'color': 'Black', 'size': 22},\n",
       "                         'text': '<b>Similarity Matrix</b>',\n",
       "                         'x': 0.55,\n",
       "                         'xanchor': 'center',\n",
       "                         'y': 0.95,\n",
       "                         'yanchor': 'top'},\n",
       "               'width': 800,\n",
       "               'xaxis': {'anchor': 'y', 'constrain': 'domain', 'domain': [0.0, 1.0], 'scaleanchor': 'y'},\n",
       "               'yaxis': {'anchor': 'x', 'autorange': 'reversed', 'constrain': 'domain', 'domain': [0.0, 1.0]}}\n",
       "})"
      ]
     },
     "execution_count": 9,
     "metadata": {},
     "output_type": "execute_result"
    }
   ],
   "source": [
    "# Topic summary table\n",
    "topic_info = topic_model_hdbscan.get_topic_info()\n",
    "print(topic_info)\n",
    "\n",
    "# Interactive visualizations\n",
    "topic_model_hdbscan.visualize_topics()\n",
    "topic_model_hdbscan.visualize_barchart(top_n_topics=15)\n",
    "topic_model_hdbscan.visualize_heatmap()\n"
   ]
  },
  {
   "cell_type": "code",
   "execution_count": 10,
   "id": "f8de4afc",
   "metadata": {},
   "outputs": [
    {
     "data": {
      "text/html": [
       "<div>\n",
       "<style scoped>\n",
       "    .dataframe tbody tr th:only-of-type {\n",
       "        vertical-align: middle;\n",
       "    }\n",
       "\n",
       "    .dataframe tbody tr th {\n",
       "        vertical-align: top;\n",
       "    }\n",
       "\n",
       "    .dataframe thead th {\n",
       "        text-align: right;\n",
       "    }\n",
       "</style>\n",
       "<table border=\"1\" class=\"dataframe\">\n",
       "  <thead>\n",
       "    <tr style=\"text-align: right;\">\n",
       "      <th></th>\n",
       "      <th>Topic</th>\n",
       "      <th>Count</th>\n",
       "      <th>Name</th>\n",
       "      <th>Representation</th>\n",
       "      <th>Representative_Docs</th>\n",
       "    </tr>\n",
       "  </thead>\n",
       "  <tbody>\n",
       "    <tr>\n",
       "      <th>0</th>\n",
       "      <td>-1</td>\n",
       "      <td>32089</td>\n",
       "      <td>-1_prabowo_02_dukung_pilih</td>\n",
       "      <td>[prabowo, 02, dukung, pilih, orang, calon, gib...</td>\n",
       "      <td>[prabowo dukung jokowi migrasi prabowo kasihan...</td>\n",
       "    </tr>\n",
       "    <tr>\n",
       "      <th>1</th>\n",
       "      <td>0</td>\n",
       "      <td>27601</td>\n",
       "      <td>0_02_dukung_pilih_pasang</td>\n",
       "      <td>[02, dukung, pilih, pasang, menang, orang, kay...</td>\n",
       "      <td>[orang all in 02 aneh banget otak banget, 02 m...</td>\n",
       "    </tr>\n",
       "    <tr>\n",
       "      <th>2</th>\n",
       "      <td>1</td>\n",
       "      <td>16775</td>\n",
       "      <td>1_presiden_calon_indonesia_prabowo</td>\n",
       "      <td>[presiden, calon, indonesia, prabowo, gibran, ...</td>\n",
       "      <td>[pasang anies baswedan cak imin amin untung ki...</td>\n",
       "    </tr>\n",
       "    <tr>\n",
       "      <th>3</th>\n",
       "      <td>2</td>\n",
       "      <td>11446</td>\n",
       "      <td>2_prabowo_gibran_jokowi_orang</td>\n",
       "      <td>[prabowo, gibran, jokowi, orang, menang, pinta...</td>\n",
       "      <td>[jokowi pilih prabowo prabowo cocok calon pimp...</td>\n",
       "    </tr>\n",
       "    <tr>\n",
       "      <th>4</th>\n",
       "      <td>3</td>\n",
       "      <td>4861</td>\n",
       "      <td>3_debat_data_calon_presiden</td>\n",
       "      <td>[debat, data, calon, presiden, media, berita, ...</td>\n",
       "      <td>[menang debat anies ganjar menang pilih presid...</td>\n",
       "    </tr>\n",
       "  </tbody>\n",
       "</table>\n",
       "</div>"
      ],
      "text/plain": [
       "   Topic  Count                                Name  \\\n",
       "0     -1  32089          -1_prabowo_02_dukung_pilih   \n",
       "1      0  27601            0_02_dukung_pilih_pasang   \n",
       "2      1  16775  1_presiden_calon_indonesia_prabowo   \n",
       "3      2  11446       2_prabowo_gibran_jokowi_orang   \n",
       "4      3   4861         3_debat_data_calon_presiden   \n",
       "\n",
       "                                      Representation  \\\n",
       "0  [prabowo, 02, dukung, pilih, orang, calon, gib...   \n",
       "1  [02, dukung, pilih, pasang, menang, orang, kay...   \n",
       "2  [presiden, calon, indonesia, prabowo, gibran, ...   \n",
       "3  [prabowo, gibran, jokowi, orang, menang, pinta...   \n",
       "4  [debat, data, calon, presiden, media, berita, ...   \n",
       "\n",
       "                                 Representative_Docs  \n",
       "0  [prabowo dukung jokowi migrasi prabowo kasihan...  \n",
       "1  [orang all in 02 aneh banget otak banget, 02 m...  \n",
       "2  [pasang anies baswedan cak imin amin untung ki...  \n",
       "3  [jokowi pilih prabowo prabowo cocok calon pimp...  \n",
       "4  [menang debat anies ganjar menang pilih presid...  "
      ]
     },
     "metadata": {},
     "output_type": "display_data"
    }
   ],
   "source": [
    "topic_info = topic_model_hdbscan.get_topic_info()\n",
    "display(topic_info.head())        "
   ]
  },
  {
   "cell_type": "code",
   "execution_count": 11,
   "id": "c8335c1c",
   "metadata": {},
   "outputs": [
    {
     "name": "stdout",
     "output_type": "stream",
     "text": [
      "\n",
      "Topic -1\n",
      "[('prabowo', np.float64(0.048411360836698156)), ('02', np.float64(0.0443228913237586)), ('dukung', np.float64(0.032564888804654656)), ('pilih', np.float64(0.023733999301318916)), ('orang', np.float64(0.0210147958841153)), ('calon', np.float64(0.02097682603843247)), ('gibran', np.float64(0.019343423066841264)), ('pasang', np.float64(0.018882681493277154)), ('banget', np.float64(0.01631506840623672)), ('presiden', np.float64(0.014204891493625556))]\n",
      "\n",
      "Topic 0\n",
      "[('02', np.float64(0.07923414359691722)), ('dukung', np.float64(0.03462402711014225)), ('pilih', np.float64(0.026399803860566038)), ('pasang', np.float64(0.023593626184067493)), ('menang', np.float64(0.023311378250516088)), ('orang', np.float64(0.020773619919621098)), ('kayak', np.float64(0.01819755357382016)), ('banget', np.float64(0.01800404514235515)), ('buzzer', np.float64(0.01785336787451907)), ('calon', np.float64(0.0173564457302666))]\n",
      "\n",
      "Topic 1\n",
      "[('presiden', np.float64(0.0731264222896784)), ('calon', np.float64(0.04910887996682675)), ('indonesia', np.float64(0.04757486618098415)), ('prabowo', np.float64(0.03943273634844632)), ('gibran', np.float64(0.03357399562592074)), ('pilih', np.float64(0.03299721355803214)), ('wakil', np.float64(0.03259417383191355)), ('politik', np.float64(0.029836034610754392)), ('02', np.float64(0.02686738340047532)), ('demokrasi', np.float64(0.025607403729390063))]\n",
      "\n",
      "Topic 2\n",
      "[('prabowo', np.float64(0.10561018217504031)), ('gibran', np.float64(0.03774895199479531)), ('jokowi', np.float64(0.028962939711494492)), ('orang', np.float64(0.024697295112851816)), ('menang', np.float64(0.02384089054092288)), ('pintar', np.float64(0.022119124548416684)), ('dukung', np.float64(0.01899914741253729)), ('pilih', np.float64(0.018770108452489817)), ('anies', np.float64(0.018313619073279816)), ('ganjar', np.float64(0.016665283908966048))]\n",
      "\n",
      "Topic 3\n",
      "[('debat', np.float64(0.10803819509149674)), ('data', np.float64(0.051980103359143603)), ('calon', np.float64(0.047501843074917366)), ('presiden', np.float64(0.047238830462088925)), ('media', np.float64(0.03994896897854089)), ('berita', np.float64(0.034869610483946704)), ('prabowo', np.float64(0.03470944188950076)), ('02', np.float64(0.03188674599881229)), ('wakil', np.float64(0.029294780761589787)), ('kritik', np.float64(0.026451808581162254))]\n",
      "\n",
      "Topic 4\n",
      "[('israel', np.float64(0.2565459630359976)), ('palestina', np.float64(0.253835425704882)), ('dukung', np.float64(0.06550930469745428)), ('bela', np.float64(0.051347958506190776)), ('profesional', np.float64(0.05031153708865114)), ('prabowo', np.float64(0.04807439715343875)), ('gaza', np.float64(0.039927822712536164)), ('janda', np.float64(0.035321030353030594)), ('abu', np.float64(0.0349640831731097)), ('zionis', np.float64(0.033036524690859735))]\n",
      "\n",
      "Topic 5\n",
      "[('viral', np.float64(0.18670748285798214)), ('dokter', np.float64(0.14407118766595176)), ('porno', np.float64(0.12420824943533298)), ('viralkan', np.float64(0.0634231571532998)), ('02', np.float64(0.038793955062043126)), ('prabowo', np.float64(0.0373250559305255)), ('tifa', np.float64(0.03542498927060636)), ('gibran', np.float64(0.029433792460396697)), ('rakabuming', np.float64(0.028099180513137423)), ('virus', np.float64(0.027300608695682155))]\n",
      "\n",
      "Topic 6\n",
      "[('ekonomi', np.float64(0.3760153989730988)), ('tumbuh', np.float64(0.05952933527613224)), ('prabowo', np.float64(0.05301379685953709)), ('infrastruktur', np.float64(0.0456075186162676)), ('cipta', np.float64(0.03926978817493411)), ('bangun', np.float64(0.03479728370896694)), ('masyarakat', np.float64(0.033888321442765906)), ('menteri', np.float64(0.03274386341506384)), ('gibran', np.float64(0.02768046765250468)), ('rakyat', np.float64(0.026743889513854372))]\n",
      "\n",
      "Topic 7\n",
      "[('online', np.float64(0.4065962485981941)), ('message', np.float64(0.2513600868451221)), ('direct', np.float64(0.250198868573545)), ('ojek', np.float64(0.24548721400221982)), ('judi', np.float64(0.09962959152190469)), ('02', np.float64(0.049734247002000964)), ('prabowo', np.float64(0.04007162944894859)), ('dukung', np.float64(0.0367772935394644)), ('id', np.float64(0.03443497189469554)), ('line', np.float64(0.032273852371165035))]\n",
      "\n",
      "Topic 8\n",
      "[('edit', np.float64(0.3773759993603859)), ('reformasi', np.float64(0.31045122851782225)), ('cape', np.float64(0.06409606013289851)), ('orde', np.float64(0.06277715751238744)), ('02', np.float64(0.0540627280291551)), ('prabowo', np.float64(0.04278130960144728)), ('voter', np.float64(0.04034292136878969)), ('foto', np.float64(0.038603852793771216)), ('rugi', np.float64(0.03567514140394043)), ('dukung', np.float64(0.034647688726445226))]\n",
      "\n",
      "Topic 9\n",
      "[('sistem', np.float64(0.4150672630136269)), ('alat', np.float64(0.28383407850807696)), ('utama', np.float64(0.2744089424344278)), ('tahan', np.float64(0.23768160884537612)), ('beli', np.float64(0.07960381243701535)), ('prabowo', np.float64(0.05176935830773832)), ('ada', np.float64(0.042041425073398496)), ('bekas', np.float64(0.03750178848457728)), ('pesawat', np.float64(0.029706669254614917)), ('pakai', np.float64(0.02103731014814847))]\n",
      "\n",
      "Topic 10\n",
      "[('stres', np.float64(0.5432086423537792)), ('teori', np.float64(0.25815735596205686)), ('prabowo', np.float64(0.06394735755758535)), ('konspirasi', np.float64(0.041351718182118975)), ('02', np.float64(0.04100639501001865)), ('anak', np.float64(0.035751511659318384)), ('orang', np.float64(0.03570430646753028)), ('pop', np.float64(0.03402239084832223)), ('teoritis', np.float64(0.033050581774612585)), ('berat', np.float64(0.031689691142622135))]\n",
      "\n",
      "Topic 11\n",
      "[('energi', np.float64(0.896030422927168)), ('hijau', np.float64(0.8166983607554077)), ('gibran', np.float64(0.2835791424214013)), ('indonesia', np.float64(0.16631571132096337)), ('semangat', np.float64(0.10148461975283402)), ('ide', np.float64(0.0936363270803475)), ('raja', np.float64(0.0753417068954175)), ('inspirasi', np.float64(0.07107297596447602)), ('bikin', np.float64(0.06054451543702409)), ('bawa', np.float64(0.05734298291408895))]\n",
      "\n",
      "Topic 12\n",
      "[('tulis', np.float64(0.8573679667869308)), ('tuli', np.float64(0.17000643589533687)), ('prabowo', np.float64(0.09892546962039034)), ('buta', np.float64(0.09792936502776688)), ('buku', np.float64(0.07046830130436325)), ('baca', np.float64(0.06335487474391066)), ('mat', np.float64(0.061764525630798574)), ('02', np.float64(0.056309323263572755)), ('berkat', np.float64(0.055245426437618726)), ('giring', np.float64(0.04409524654746256))]\n",
      "\n",
      "Topic 13\n",
      "[('00am', np.float64(1.7058395688025592)), ('jalan', np.float64(0.8537509381835686)), ('tun', np.float64(0.2937650737531122)), ('02', np.float64(0.16747520087266946)), ('azlan', np.float64(0.10869209964883018)), ('semantan', np.float64(0.10869209964883018)), ('sambanthan', np.float64(0.10869209964883018)), ('imbi', np.float64(0.10869209964883018)), ('cheras', np.float64(0.10869209964883018)), ('maharajalela', np.float64(0.10869209964883018))]\n"
     ]
    }
   ],
   "source": [
    "for tid in topic_info['Topic'][:15]:   # first 10 topics\n",
    "    print(f\"\\nTopic {tid}\")\n",
    "    print(topic_model_hdbscan.get_topic(tid)[:15])  # top-15 words\n"
   ]
  },
  {
   "cell_type": "code",
   "execution_count": 12,
   "id": "6ef6decf",
   "metadata": {},
   "outputs": [
    {
     "ename": "ValueError",
     "evalue": "Mime type rendering requires nbformat>=4.2.0 but it is not installed",
     "output_type": "error",
     "traceback": [
      "\u001b[1;31m---------------------------------------------------------------------------\u001b[0m",
      "\u001b[1;31mValueError\u001b[0m                                Traceback (most recent call last)",
      "File \u001b[1;32m~\\AppData\\Roaming\\Python\\Python310\\site-packages\\IPython\\core\\formatters.py:925\u001b[0m, in \u001b[0;36mIPythonDisplayFormatter.__call__\u001b[1;34m(self, obj)\u001b[0m\n\u001b[0;32m    923\u001b[0m method \u001b[38;5;241m=\u001b[39m get_real_method(obj, \u001b[38;5;28mself\u001b[39m\u001b[38;5;241m.\u001b[39mprint_method)\n\u001b[0;32m    924\u001b[0m \u001b[38;5;28;01mif\u001b[39;00m method \u001b[38;5;129;01mis\u001b[39;00m \u001b[38;5;129;01mnot\u001b[39;00m \u001b[38;5;28;01mNone\u001b[39;00m:\n\u001b[1;32m--> 925\u001b[0m     \u001b[43mmethod\u001b[49m\u001b[43m(\u001b[49m\u001b[43m)\u001b[49m\n\u001b[0;32m    926\u001b[0m     \u001b[38;5;28;01mreturn\u001b[39;00m \u001b[38;5;28;01mTrue\u001b[39;00m\n",
      "File \u001b[1;32mc:\\Users\\PC\\AppData\\Local\\Programs\\Python\\Python310\\lib\\site-packages\\plotly\\basedatatypes.py:846\u001b[0m, in \u001b[0;36mBaseFigure._ipython_display_\u001b[1;34m(self)\u001b[0m\n\u001b[0;32m    843\u001b[0m \u001b[38;5;28;01mimport\u001b[39;00m \u001b[38;5;21;01mplotly\u001b[39;00m\u001b[38;5;21;01m.\u001b[39;00m\u001b[38;5;21;01mio\u001b[39;00m \u001b[38;5;28;01mas\u001b[39;00m \u001b[38;5;21;01mpio\u001b[39;00m\n\u001b[0;32m    845\u001b[0m \u001b[38;5;28;01mif\u001b[39;00m pio\u001b[38;5;241m.\u001b[39mrenderers\u001b[38;5;241m.\u001b[39mrender_on_display \u001b[38;5;129;01mand\u001b[39;00m pio\u001b[38;5;241m.\u001b[39mrenderers\u001b[38;5;241m.\u001b[39mdefault:\n\u001b[1;32m--> 846\u001b[0m     \u001b[43mpio\u001b[49m\u001b[38;5;241;43m.\u001b[39;49m\u001b[43mshow\u001b[49m\u001b[43m(\u001b[49m\u001b[38;5;28;43mself\u001b[39;49m\u001b[43m)\u001b[49m\n\u001b[0;32m    847\u001b[0m \u001b[38;5;28;01melse\u001b[39;00m:\n\u001b[0;32m    848\u001b[0m     \u001b[38;5;28mprint\u001b[39m(\u001b[38;5;28mrepr\u001b[39m(\u001b[38;5;28mself\u001b[39m))\n",
      "File \u001b[1;32mc:\\Users\\PC\\AppData\\Local\\Programs\\Python\\Python310\\lib\\site-packages\\plotly\\io\\_renderers.py:425\u001b[0m, in \u001b[0;36mshow\u001b[1;34m(fig, renderer, validate, **kwargs)\u001b[0m\n\u001b[0;32m    420\u001b[0m     \u001b[38;5;28;01mraise\u001b[39;00m \u001b[38;5;167;01mValueError\u001b[39;00m(\n\u001b[0;32m    421\u001b[0m         \u001b[38;5;124m\"\u001b[39m\u001b[38;5;124mMime type rendering requires ipython but it is not installed\u001b[39m\u001b[38;5;124m\"\u001b[39m\n\u001b[0;32m    422\u001b[0m     )\n\u001b[0;32m    424\u001b[0m \u001b[38;5;28;01mif\u001b[39;00m \u001b[38;5;129;01mnot\u001b[39;00m nbformat \u001b[38;5;129;01mor\u001b[39;00m Version(nbformat\u001b[38;5;241m.\u001b[39m__version__) \u001b[38;5;241m<\u001b[39m Version(\u001b[38;5;124m\"\u001b[39m\u001b[38;5;124m4.2.0\u001b[39m\u001b[38;5;124m\"\u001b[39m):\n\u001b[1;32m--> 425\u001b[0m     \u001b[38;5;28;01mraise\u001b[39;00m \u001b[38;5;167;01mValueError\u001b[39;00m(\n\u001b[0;32m    426\u001b[0m         \u001b[38;5;124m\"\u001b[39m\u001b[38;5;124mMime type rendering requires nbformat>=4.2.0 but it is not installed\u001b[39m\u001b[38;5;124m\"\u001b[39m\n\u001b[0;32m    427\u001b[0m     )\n\u001b[0;32m    429\u001b[0m display_jupyter_version_warnings()\n\u001b[0;32m    431\u001b[0m ipython_display\u001b[38;5;241m.\u001b[39mdisplay(bundle, raw\u001b[38;5;241m=\u001b[39m\u001b[38;5;28;01mTrue\u001b[39;00m)\n",
      "\u001b[1;31mValueError\u001b[0m: Mime type rendering requires nbformat>=4.2.0 but it is not installed"
     ]
    },
    {
     "data": {
      "application/vnd.plotly.v1+json": {
       "config": {
        "plotlyServerURL": "https://plot.ly"
       },
       "data": [
        {
         "customdata": [
          [
           0,
           "02 | dukung | pilih | pasang | menang",
           27601
          ],
          [
           1,
           "presiden | calon | indonesia | prabowo | gibran",
           16775
          ],
          [
           2,
           "prabowo | gibran | jokowi | orang | menang",
           11446
          ],
          [
           3,
           "debat | data | calon | presiden | media",
           4861
          ],
          [
           4,
           "israel | palestina | dukung | bela | profesional",
           533
          ],
          [
           5,
           "viral | dokter | porno | viralkan | 02",
           351
          ],
          [
           6,
           "ekonomi | tumbuh | prabowo | infrastruktur | cipta",
           212
          ],
          [
           7,
           "online | message | direct | ojek | judi",
           126
          ],
          [
           8,
           "edit | reformasi | cape | orde | 02",
           125
          ],
          [
           9,
           "sistem | alat | utama | tahan | beli",
           84
          ],
          [
           10,
           "stres | teori | prabowo | konspirasi | 02",
           70
          ],
          [
           11,
           "energi | hijau | gibran | indonesia | semangat",
           68
          ],
          [
           12,
           "tulis | tuli | prabowo | buta | buku",
           47
          ],
          [
           13,
           "00am | jalan | tun | 02 | azlan",
           22
          ]
         ],
         "hovertemplate": "<b>Topic %{customdata[0]}</b><br>%{customdata[1]}<br>Size: %{customdata[2]}",
         "legendgroup": "",
         "marker": {
          "color": "#B0BEC5",
          "line": {
           "color": "DarkSlateGrey",
           "width": 2
          },
          "size": {
           "bdata": "0WuHQbYs/RIVAl8B1AB+AH0AVABGAEQALwAWAA==",
           "dtype": "i2"
          },
          "sizemode": "area",
          "sizeref": 17.250625,
          "symbol": "circle"
         },
         "mode": "markers",
         "name": "",
         "orientation": "v",
         "showlegend": false,
         "type": "scatter",
         "x": {
          "bdata": "OsgXQbibN0F0PXpBG+orQdnxP0G7Ew9BSjU+QVcWFUFhXANBgHN+QVOngEHI1XVBgniAQTh5BEE=",
          "dtype": "f4"
         },
         "xaxis": "x",
         "y": {
          "bdata": "T3MZQCE0+j80PixAIlYBQDFp0z80JiVAcnkUQPSGAkCvPYQ/AI+hP5/hJkChJBdAuyUMQJLC9j8=",
          "dtype": "f4"
         },
         "yaxis": "y"
        }
       ],
       "layout": {
        "annotations": [
         {
          "showarrow": false,
          "text": "D1",
          "x": 6.978545188903809,
          "y": 1.9865769147872925,
          "yshift": 10
         },
         {
          "showarrow": false,
          "text": "D2",
          "x": 12.736251831054688,
          "xshift": 10,
          "y": 3.0949912071228027
         }
        ],
        "height": 650,
        "hoverlabel": {
         "bgcolor": "white",
         "font": {
          "family": "Rockwell",
          "size": 16
         }
        },
        "legend": {
         "itemsizing": "constant",
         "tracegroupgap": 0
        },
        "margin": {
         "t": 60
        },
        "shapes": [
         {
          "line": {
           "color": "#CFD8DC",
           "width": 2
          },
          "type": "line",
          "x0": 12.736251831054688,
          "x1": 12.736251831054688,
          "y0": 0.8781625628471375,
          "y1": 3.0949912071228027
         },
         {
          "line": {
           "color": "#9E9E9E",
           "width": 2
          },
          "type": "line",
          "x0": 6.978545188903809,
          "x1": 18.49395751953125,
          "y0": 1.9865769147872925,
          "y1": 1.9865769147872925
         }
        ],
        "sliders": [
         {
          "active": 0,
          "pad": {
           "t": 50
          },
          "steps": [
           {
            "args": [
             {
              "marker.color": [
               [
                "red",
                "#B0BEC5",
                "#B0BEC5",
                "#B0BEC5",
                "#B0BEC5",
                "#B0BEC5",
                "#B0BEC5",
                "#B0BEC5",
                "#B0BEC5",
                "#B0BEC5",
                "#B0BEC5",
                "#B0BEC5",
                "#B0BEC5",
                "#B0BEC5"
               ]
              ]
             }
            ],
            "label": "Topic 0",
            "method": "update"
           },
           {
            "args": [
             {
              "marker.color": [
               [
                "#B0BEC5",
                "red",
                "#B0BEC5",
                "#B0BEC5",
                "#B0BEC5",
                "#B0BEC5",
                "#B0BEC5",
                "#B0BEC5",
                "#B0BEC5",
                "#B0BEC5",
                "#B0BEC5",
                "#B0BEC5",
                "#B0BEC5",
                "#B0BEC5"
               ]
              ]
             }
            ],
            "label": "Topic 1",
            "method": "update"
           },
           {
            "args": [
             {
              "marker.color": [
               [
                "#B0BEC5",
                "#B0BEC5",
                "red",
                "#B0BEC5",
                "#B0BEC5",
                "#B0BEC5",
                "#B0BEC5",
                "#B0BEC5",
                "#B0BEC5",
                "#B0BEC5",
                "#B0BEC5",
                "#B0BEC5",
                "#B0BEC5",
                "#B0BEC5"
               ]
              ]
             }
            ],
            "label": "Topic 2",
            "method": "update"
           },
           {
            "args": [
             {
              "marker.color": [
               [
                "#B0BEC5",
                "#B0BEC5",
                "#B0BEC5",
                "red",
                "#B0BEC5",
                "#B0BEC5",
                "#B0BEC5",
                "#B0BEC5",
                "#B0BEC5",
                "#B0BEC5",
                "#B0BEC5",
                "#B0BEC5",
                "#B0BEC5",
                "#B0BEC5"
               ]
              ]
             }
            ],
            "label": "Topic 3",
            "method": "update"
           },
           {
            "args": [
             {
              "marker.color": [
               [
                "#B0BEC5",
                "#B0BEC5",
                "#B0BEC5",
                "#B0BEC5",
                "red",
                "#B0BEC5",
                "#B0BEC5",
                "#B0BEC5",
                "#B0BEC5",
                "#B0BEC5",
                "#B0BEC5",
                "#B0BEC5",
                "#B0BEC5",
                "#B0BEC5"
               ]
              ]
             }
            ],
            "label": "Topic 4",
            "method": "update"
           },
           {
            "args": [
             {
              "marker.color": [
               [
                "#B0BEC5",
                "#B0BEC5",
                "#B0BEC5",
                "#B0BEC5",
                "#B0BEC5",
                "red",
                "#B0BEC5",
                "#B0BEC5",
                "#B0BEC5",
                "#B0BEC5",
                "#B0BEC5",
                "#B0BEC5",
                "#B0BEC5",
                "#B0BEC5"
               ]
              ]
             }
            ],
            "label": "Topic 5",
            "method": "update"
           },
           {
            "args": [
             {
              "marker.color": [
               [
                "#B0BEC5",
                "#B0BEC5",
                "#B0BEC5",
                "#B0BEC5",
                "#B0BEC5",
                "#B0BEC5",
                "red",
                "#B0BEC5",
                "#B0BEC5",
                "#B0BEC5",
                "#B0BEC5",
                "#B0BEC5",
                "#B0BEC5",
                "#B0BEC5"
               ]
              ]
             }
            ],
            "label": "Topic 6",
            "method": "update"
           },
           {
            "args": [
             {
              "marker.color": [
               [
                "#B0BEC5",
                "#B0BEC5",
                "#B0BEC5",
                "#B0BEC5",
                "#B0BEC5",
                "#B0BEC5",
                "#B0BEC5",
                "red",
                "#B0BEC5",
                "#B0BEC5",
                "#B0BEC5",
                "#B0BEC5",
                "#B0BEC5",
                "#B0BEC5"
               ]
              ]
             }
            ],
            "label": "Topic 7",
            "method": "update"
           },
           {
            "args": [
             {
              "marker.color": [
               [
                "#B0BEC5",
                "#B0BEC5",
                "#B0BEC5",
                "#B0BEC5",
                "#B0BEC5",
                "#B0BEC5",
                "#B0BEC5",
                "#B0BEC5",
                "red",
                "#B0BEC5",
                "#B0BEC5",
                "#B0BEC5",
                "#B0BEC5",
                "#B0BEC5"
               ]
              ]
             }
            ],
            "label": "Topic 8",
            "method": "update"
           },
           {
            "args": [
             {
              "marker.color": [
               [
                "#B0BEC5",
                "#B0BEC5",
                "#B0BEC5",
                "#B0BEC5",
                "#B0BEC5",
                "#B0BEC5",
                "#B0BEC5",
                "#B0BEC5",
                "#B0BEC5",
                "red",
                "#B0BEC5",
                "#B0BEC5",
                "#B0BEC5",
                "#B0BEC5"
               ]
              ]
             }
            ],
            "label": "Topic 9",
            "method": "update"
           },
           {
            "args": [
             {
              "marker.color": [
               [
                "#B0BEC5",
                "#B0BEC5",
                "#B0BEC5",
                "#B0BEC5",
                "#B0BEC5",
                "#B0BEC5",
                "#B0BEC5",
                "#B0BEC5",
                "#B0BEC5",
                "#B0BEC5",
                "red",
                "#B0BEC5",
                "#B0BEC5",
                "#B0BEC5"
               ]
              ]
             }
            ],
            "label": "Topic 10",
            "method": "update"
           },
           {
            "args": [
             {
              "marker.color": [
               [
                "#B0BEC5",
                "#B0BEC5",
                "#B0BEC5",
                "#B0BEC5",
                "#B0BEC5",
                "#B0BEC5",
                "#B0BEC5",
                "#B0BEC5",
                "#B0BEC5",
                "#B0BEC5",
                "#B0BEC5",
                "red",
                "#B0BEC5",
                "#B0BEC5"
               ]
              ]
             }
            ],
            "label": "Topic 11",
            "method": "update"
           },
           {
            "args": [
             {
              "marker.color": [
               [
                "#B0BEC5",
                "#B0BEC5",
                "#B0BEC5",
                "#B0BEC5",
                "#B0BEC5",
                "#B0BEC5",
                "#B0BEC5",
                "#B0BEC5",
                "#B0BEC5",
                "#B0BEC5",
                "#B0BEC5",
                "#B0BEC5",
                "red",
                "#B0BEC5"
               ]
              ]
             }
            ],
            "label": "Topic 12",
            "method": "update"
           },
           {
            "args": [
             {
              "marker.color": [
               [
                "#B0BEC5",
                "#B0BEC5",
                "#B0BEC5",
                "#B0BEC5",
                "#B0BEC5",
                "#B0BEC5",
                "#B0BEC5",
                "#B0BEC5",
                "#B0BEC5",
                "#B0BEC5",
                "#B0BEC5",
                "#B0BEC5",
                "#B0BEC5",
                "red"
               ]
              ]
             }
            ],
            "label": "Topic 13",
            "method": "update"
           }
          ]
         }
        ],
        "template": {
         "data": {
          "bar": [
           {
            "error_x": {
             "color": "rgb(36,36,36)"
            },
            "error_y": {
             "color": "rgb(36,36,36)"
            },
            "marker": {
             "line": {
              "color": "white",
              "width": 0.5
             },
             "pattern": {
              "fillmode": "overlay",
              "size": 10,
              "solidity": 0.2
             }
            },
            "type": "bar"
           }
          ],
          "barpolar": [
           {
            "marker": {
             "line": {
              "color": "white",
              "width": 0.5
             },
             "pattern": {
              "fillmode": "overlay",
              "size": 10,
              "solidity": 0.2
             }
            },
            "type": "barpolar"
           }
          ],
          "carpet": [
           {
            "aaxis": {
             "endlinecolor": "rgb(36,36,36)",
             "gridcolor": "white",
             "linecolor": "white",
             "minorgridcolor": "white",
             "startlinecolor": "rgb(36,36,36)"
            },
            "baxis": {
             "endlinecolor": "rgb(36,36,36)",
             "gridcolor": "white",
             "linecolor": "white",
             "minorgridcolor": "white",
             "startlinecolor": "rgb(36,36,36)"
            },
            "type": "carpet"
           }
          ],
          "choropleth": [
           {
            "colorbar": {
             "outlinewidth": 1,
             "tickcolor": "rgb(36,36,36)",
             "ticks": "outside"
            },
            "type": "choropleth"
           }
          ],
          "contour": [
           {
            "colorbar": {
             "outlinewidth": 1,
             "tickcolor": "rgb(36,36,36)",
             "ticks": "outside"
            },
            "colorscale": [
             [
              0,
              "#440154"
             ],
             [
              0.1111111111111111,
              "#482878"
             ],
             [
              0.2222222222222222,
              "#3e4989"
             ],
             [
              0.3333333333333333,
              "#31688e"
             ],
             [
              0.4444444444444444,
              "#26828e"
             ],
             [
              0.5555555555555556,
              "#1f9e89"
             ],
             [
              0.6666666666666666,
              "#35b779"
             ],
             [
              0.7777777777777778,
              "#6ece58"
             ],
             [
              0.8888888888888888,
              "#b5de2b"
             ],
             [
              1,
              "#fde725"
             ]
            ],
            "type": "contour"
           }
          ],
          "contourcarpet": [
           {
            "colorbar": {
             "outlinewidth": 1,
             "tickcolor": "rgb(36,36,36)",
             "ticks": "outside"
            },
            "type": "contourcarpet"
           }
          ],
          "heatmap": [
           {
            "colorbar": {
             "outlinewidth": 1,
             "tickcolor": "rgb(36,36,36)",
             "ticks": "outside"
            },
            "colorscale": [
             [
              0,
              "#440154"
             ],
             [
              0.1111111111111111,
              "#482878"
             ],
             [
              0.2222222222222222,
              "#3e4989"
             ],
             [
              0.3333333333333333,
              "#31688e"
             ],
             [
              0.4444444444444444,
              "#26828e"
             ],
             [
              0.5555555555555556,
              "#1f9e89"
             ],
             [
              0.6666666666666666,
              "#35b779"
             ],
             [
              0.7777777777777778,
              "#6ece58"
             ],
             [
              0.8888888888888888,
              "#b5de2b"
             ],
             [
              1,
              "#fde725"
             ]
            ],
            "type": "heatmap"
           }
          ],
          "histogram": [
           {
            "marker": {
             "line": {
              "color": "white",
              "width": 0.6
             }
            },
            "type": "histogram"
           }
          ],
          "histogram2d": [
           {
            "colorbar": {
             "outlinewidth": 1,
             "tickcolor": "rgb(36,36,36)",
             "ticks": "outside"
            },
            "colorscale": [
             [
              0,
              "#440154"
             ],
             [
              0.1111111111111111,
              "#482878"
             ],
             [
              0.2222222222222222,
              "#3e4989"
             ],
             [
              0.3333333333333333,
              "#31688e"
             ],
             [
              0.4444444444444444,
              "#26828e"
             ],
             [
              0.5555555555555556,
              "#1f9e89"
             ],
             [
              0.6666666666666666,
              "#35b779"
             ],
             [
              0.7777777777777778,
              "#6ece58"
             ],
             [
              0.8888888888888888,
              "#b5de2b"
             ],
             [
              1,
              "#fde725"
             ]
            ],
            "type": "histogram2d"
           }
          ],
          "histogram2dcontour": [
           {
            "colorbar": {
             "outlinewidth": 1,
             "tickcolor": "rgb(36,36,36)",
             "ticks": "outside"
            },
            "colorscale": [
             [
              0,
              "#440154"
             ],
             [
              0.1111111111111111,
              "#482878"
             ],
             [
              0.2222222222222222,
              "#3e4989"
             ],
             [
              0.3333333333333333,
              "#31688e"
             ],
             [
              0.4444444444444444,
              "#26828e"
             ],
             [
              0.5555555555555556,
              "#1f9e89"
             ],
             [
              0.6666666666666666,
              "#35b779"
             ],
             [
              0.7777777777777778,
              "#6ece58"
             ],
             [
              0.8888888888888888,
              "#b5de2b"
             ],
             [
              1,
              "#fde725"
             ]
            ],
            "type": "histogram2dcontour"
           }
          ],
          "mesh3d": [
           {
            "colorbar": {
             "outlinewidth": 1,
             "tickcolor": "rgb(36,36,36)",
             "ticks": "outside"
            },
            "type": "mesh3d"
           }
          ],
          "parcoords": [
           {
            "line": {
             "colorbar": {
              "outlinewidth": 1,
              "tickcolor": "rgb(36,36,36)",
              "ticks": "outside"
             }
            },
            "type": "parcoords"
           }
          ],
          "pie": [
           {
            "automargin": true,
            "type": "pie"
           }
          ],
          "scatter": [
           {
            "fillpattern": {
             "fillmode": "overlay",
             "size": 10,
             "solidity": 0.2
            },
            "type": "scatter"
           }
          ],
          "scatter3d": [
           {
            "line": {
             "colorbar": {
              "outlinewidth": 1,
              "tickcolor": "rgb(36,36,36)",
              "ticks": "outside"
             }
            },
            "marker": {
             "colorbar": {
              "outlinewidth": 1,
              "tickcolor": "rgb(36,36,36)",
              "ticks": "outside"
             }
            },
            "type": "scatter3d"
           }
          ],
          "scattercarpet": [
           {
            "marker": {
             "colorbar": {
              "outlinewidth": 1,
              "tickcolor": "rgb(36,36,36)",
              "ticks": "outside"
             }
            },
            "type": "scattercarpet"
           }
          ],
          "scattergeo": [
           {
            "marker": {
             "colorbar": {
              "outlinewidth": 1,
              "tickcolor": "rgb(36,36,36)",
              "ticks": "outside"
             }
            },
            "type": "scattergeo"
           }
          ],
          "scattergl": [
           {
            "marker": {
             "colorbar": {
              "outlinewidth": 1,
              "tickcolor": "rgb(36,36,36)",
              "ticks": "outside"
             }
            },
            "type": "scattergl"
           }
          ],
          "scattermap": [
           {
            "marker": {
             "colorbar": {
              "outlinewidth": 1,
              "tickcolor": "rgb(36,36,36)",
              "ticks": "outside"
             }
            },
            "type": "scattermap"
           }
          ],
          "scattermapbox": [
           {
            "marker": {
             "colorbar": {
              "outlinewidth": 1,
              "tickcolor": "rgb(36,36,36)",
              "ticks": "outside"
             }
            },
            "type": "scattermapbox"
           }
          ],
          "scatterpolar": [
           {
            "marker": {
             "colorbar": {
              "outlinewidth": 1,
              "tickcolor": "rgb(36,36,36)",
              "ticks": "outside"
             }
            },
            "type": "scatterpolar"
           }
          ],
          "scatterpolargl": [
           {
            "marker": {
             "colorbar": {
              "outlinewidth": 1,
              "tickcolor": "rgb(36,36,36)",
              "ticks": "outside"
             }
            },
            "type": "scatterpolargl"
           }
          ],
          "scatterternary": [
           {
            "marker": {
             "colorbar": {
              "outlinewidth": 1,
              "tickcolor": "rgb(36,36,36)",
              "ticks": "outside"
             }
            },
            "type": "scatterternary"
           }
          ],
          "surface": [
           {
            "colorbar": {
             "outlinewidth": 1,
             "tickcolor": "rgb(36,36,36)",
             "ticks": "outside"
            },
            "colorscale": [
             [
              0,
              "#440154"
             ],
             [
              0.1111111111111111,
              "#482878"
             ],
             [
              0.2222222222222222,
              "#3e4989"
             ],
             [
              0.3333333333333333,
              "#31688e"
             ],
             [
              0.4444444444444444,
              "#26828e"
             ],
             [
              0.5555555555555556,
              "#1f9e89"
             ],
             [
              0.6666666666666666,
              "#35b779"
             ],
             [
              0.7777777777777778,
              "#6ece58"
             ],
             [
              0.8888888888888888,
              "#b5de2b"
             ],
             [
              1,
              "#fde725"
             ]
            ],
            "type": "surface"
           }
          ],
          "table": [
           {
            "cells": {
             "fill": {
              "color": "rgb(237,237,237)"
             },
             "line": {
              "color": "white"
             }
            },
            "header": {
             "fill": {
              "color": "rgb(217,217,217)"
             },
             "line": {
              "color": "white"
             }
            },
            "type": "table"
           }
          ]
         },
         "layout": {
          "annotationdefaults": {
           "arrowhead": 0,
           "arrowwidth": 1
          },
          "autotypenumbers": "strict",
          "coloraxis": {
           "colorbar": {
            "outlinewidth": 1,
            "tickcolor": "rgb(36,36,36)",
            "ticks": "outside"
           }
          },
          "colorscale": {
           "diverging": [
            [
             0,
             "rgb(103,0,31)"
            ],
            [
             0.1,
             "rgb(178,24,43)"
            ],
            [
             0.2,
             "rgb(214,96,77)"
            ],
            [
             0.3,
             "rgb(244,165,130)"
            ],
            [
             0.4,
             "rgb(253,219,199)"
            ],
            [
             0.5,
             "rgb(247,247,247)"
            ],
            [
             0.6,
             "rgb(209,229,240)"
            ],
            [
             0.7,
             "rgb(146,197,222)"
            ],
            [
             0.8,
             "rgb(67,147,195)"
            ],
            [
             0.9,
             "rgb(33,102,172)"
            ],
            [
             1,
             "rgb(5,48,97)"
            ]
           ],
           "sequential": [
            [
             0,
             "#440154"
            ],
            [
             0.1111111111111111,
             "#482878"
            ],
            [
             0.2222222222222222,
             "#3e4989"
            ],
            [
             0.3333333333333333,
             "#31688e"
            ],
            [
             0.4444444444444444,
             "#26828e"
            ],
            [
             0.5555555555555556,
             "#1f9e89"
            ],
            [
             0.6666666666666666,
             "#35b779"
            ],
            [
             0.7777777777777778,
             "#6ece58"
            ],
            [
             0.8888888888888888,
             "#b5de2b"
            ],
            [
             1,
             "#fde725"
            ]
           ],
           "sequentialminus": [
            [
             0,
             "#440154"
            ],
            [
             0.1111111111111111,
             "#482878"
            ],
            [
             0.2222222222222222,
             "#3e4989"
            ],
            [
             0.3333333333333333,
             "#31688e"
            ],
            [
             0.4444444444444444,
             "#26828e"
            ],
            [
             0.5555555555555556,
             "#1f9e89"
            ],
            [
             0.6666666666666666,
             "#35b779"
            ],
            [
             0.7777777777777778,
             "#6ece58"
            ],
            [
             0.8888888888888888,
             "#b5de2b"
            ],
            [
             1,
             "#fde725"
            ]
           ]
          },
          "colorway": [
           "#1F77B4",
           "#FF7F0E",
           "#2CA02C",
           "#D62728",
           "#9467BD",
           "#8C564B",
           "#E377C2",
           "#7F7F7F",
           "#BCBD22",
           "#17BECF"
          ],
          "font": {
           "color": "rgb(36,36,36)"
          },
          "geo": {
           "bgcolor": "white",
           "lakecolor": "white",
           "landcolor": "white",
           "showlakes": true,
           "showland": true,
           "subunitcolor": "white"
          },
          "hoverlabel": {
           "align": "left"
          },
          "hovermode": "closest",
          "mapbox": {
           "style": "light"
          },
          "paper_bgcolor": "white",
          "plot_bgcolor": "white",
          "polar": {
           "angularaxis": {
            "gridcolor": "rgb(232,232,232)",
            "linecolor": "rgb(36,36,36)",
            "showgrid": false,
            "showline": true,
            "ticks": "outside"
           },
           "bgcolor": "white",
           "radialaxis": {
            "gridcolor": "rgb(232,232,232)",
            "linecolor": "rgb(36,36,36)",
            "showgrid": false,
            "showline": true,
            "ticks": "outside"
           }
          },
          "scene": {
           "xaxis": {
            "backgroundcolor": "white",
            "gridcolor": "rgb(232,232,232)",
            "gridwidth": 2,
            "linecolor": "rgb(36,36,36)",
            "showbackground": true,
            "showgrid": false,
            "showline": true,
            "ticks": "outside",
            "zeroline": false,
            "zerolinecolor": "rgb(36,36,36)"
           },
           "yaxis": {
            "backgroundcolor": "white",
            "gridcolor": "rgb(232,232,232)",
            "gridwidth": 2,
            "linecolor": "rgb(36,36,36)",
            "showbackground": true,
            "showgrid": false,
            "showline": true,
            "ticks": "outside",
            "zeroline": false,
            "zerolinecolor": "rgb(36,36,36)"
           },
           "zaxis": {
            "backgroundcolor": "white",
            "gridcolor": "rgb(232,232,232)",
            "gridwidth": 2,
            "linecolor": "rgb(36,36,36)",
            "showbackground": true,
            "showgrid": false,
            "showline": true,
            "ticks": "outside",
            "zeroline": false,
            "zerolinecolor": "rgb(36,36,36)"
           }
          },
          "shapedefaults": {
           "fillcolor": "black",
           "line": {
            "width": 0
           },
           "opacity": 0.3
          },
          "ternary": {
           "aaxis": {
            "gridcolor": "rgb(232,232,232)",
            "linecolor": "rgb(36,36,36)",
            "showgrid": false,
            "showline": true,
            "ticks": "outside"
           },
           "baxis": {
            "gridcolor": "rgb(232,232,232)",
            "linecolor": "rgb(36,36,36)",
            "showgrid": false,
            "showline": true,
            "ticks": "outside"
           },
           "bgcolor": "white",
           "caxis": {
            "gridcolor": "rgb(232,232,232)",
            "linecolor": "rgb(36,36,36)",
            "showgrid": false,
            "showline": true,
            "ticks": "outside"
           }
          },
          "title": {
           "x": 0.05
          },
          "xaxis": {
           "automargin": true,
           "gridcolor": "rgb(232,232,232)",
           "linecolor": "rgb(36,36,36)",
           "showgrid": false,
           "showline": true,
           "ticks": "outside",
           "title": {
            "standoff": 15
           },
           "zeroline": false,
           "zerolinecolor": "rgb(36,36,36)"
          },
          "yaxis": {
           "automargin": true,
           "gridcolor": "rgb(232,232,232)",
           "linecolor": "rgb(36,36,36)",
           "showgrid": false,
           "showline": true,
           "ticks": "outside",
           "title": {
            "standoff": 15
           },
           "zeroline": false,
           "zerolinecolor": "rgb(36,36,36)"
          }
         }
        },
        "title": {
         "font": {
          "color": "Black",
          "size": 22
         },
         "text": "<b>Intertopic Distance Map</b>",
         "x": 0.5,
         "xanchor": "center",
         "y": 0.95,
         "yanchor": "top"
        },
        "width": 650,
        "xaxis": {
         "anchor": "y",
         "domain": [
          0,
          1
         ],
         "range": [
          6.978545188903809,
          18.49395751953125
         ],
         "title": {
          "text": ""
         },
         "visible": false
        },
        "yaxis": {
         "anchor": "x",
         "domain": [
          0,
          1
         ],
         "range": [
          0.8781625628471375,
          3.0949912071228027
         ],
         "title": {
          "text": ""
         },
         "visible": false
        }
       }
      },
      "text/html": [
       "<div>                        <script type=\"text/javascript\">window.PlotlyConfig = {MathJaxConfig: 'local'};</script>\n",
       "        <script charset=\"utf-8\" src=\"https://cdn.plot.ly/plotly-3.0.1.min.js\"></script>                <div id=\"166bc79d-3d1f-4c87-8377-ef01dd37b43e\" class=\"plotly-graph-div\" style=\"height:650px; width:650px;\"></div>            <script type=\"text/javascript\">                window.PLOTLYENV=window.PLOTLYENV || {};                                if (document.getElementById(\"166bc79d-3d1f-4c87-8377-ef01dd37b43e\")) {                    Plotly.newPlot(                        \"166bc79d-3d1f-4c87-8377-ef01dd37b43e\",                        [{\"customdata\":[[0,\"02 | dukung | pilih | pasang | menang\",27601],[1,\"presiden | calon | indonesia | prabowo | gibran\",16775],[2,\"prabowo | gibran | jokowi | orang | menang\",11446],[3,\"debat | data | calon | presiden | media\",4861],[4,\"israel | palestina | dukung | bela | profesional\",533],[5,\"viral | dokter | porno | viralkan | 02\",351],[6,\"ekonomi | tumbuh | prabowo | infrastruktur | cipta\",212],[7,\"online | message | direct | ojek | judi\",126],[8,\"edit | reformasi | cape | orde | 02\",125],[9,\"sistem | alat | utama | tahan | beli\",84],[10,\"stres | teori | prabowo | konspirasi | 02\",70],[11,\"energi | hijau | gibran | indonesia | semangat\",68],[12,\"tulis | tuli | prabowo | buta | buku\",47],[13,\"00am | jalan | tun | 02 | azlan\",22]],\"hovertemplate\":\"\\u003cb\\u003eTopic %{customdata[0]}\\u003c\\u002fb\\u003e\\u003cbr\\u003e%{customdata[1]}\\u003cbr\\u003eSize: %{customdata[2]}\",\"legendgroup\":\"\",\"marker\":{\"color\":\"#B0BEC5\",\"size\":{\"dtype\":\"i2\",\"bdata\":\"0WuHQbYs\\u002fRIVAl8B1AB+AH0AVABGAEQALwAWAA==\"},\"sizemode\":\"area\",\"sizeref\":17.250625,\"symbol\":\"circle\",\"line\":{\"color\":\"DarkSlateGrey\",\"width\":2}},\"mode\":\"markers\",\"name\":\"\",\"orientation\":\"v\",\"showlegend\":false,\"x\":{\"dtype\":\"f4\",\"bdata\":\"OsgXQbibN0F0PXpBG+orQdnxP0G7Ew9BSjU+QVcWFUFhXANBgHN+QVOngEHI1XVBgniAQTh5BEE=\"},\"xaxis\":\"x\",\"y\":{\"dtype\":\"f4\",\"bdata\":\"T3MZQCE0+j80PixAIlYBQDFp0z80JiVAcnkUQPSGAkCvPYQ\\u002fAI+hP5\\u002fhJkChJBdAuyUMQJLC9j8=\"},\"yaxis\":\"y\",\"type\":\"scatter\"}],                        {\"template\":{\"data\":{\"barpolar\":[{\"marker\":{\"line\":{\"color\":\"white\",\"width\":0.5},\"pattern\":{\"fillmode\":\"overlay\",\"size\":10,\"solidity\":0.2}},\"type\":\"barpolar\"}],\"bar\":[{\"error_x\":{\"color\":\"rgb(36,36,36)\"},\"error_y\":{\"color\":\"rgb(36,36,36)\"},\"marker\":{\"line\":{\"color\":\"white\",\"width\":0.5},\"pattern\":{\"fillmode\":\"overlay\",\"size\":10,\"solidity\":0.2}},\"type\":\"bar\"}],\"carpet\":[{\"aaxis\":{\"endlinecolor\":\"rgb(36,36,36)\",\"gridcolor\":\"white\",\"linecolor\":\"white\",\"minorgridcolor\":\"white\",\"startlinecolor\":\"rgb(36,36,36)\"},\"baxis\":{\"endlinecolor\":\"rgb(36,36,36)\",\"gridcolor\":\"white\",\"linecolor\":\"white\",\"minorgridcolor\":\"white\",\"startlinecolor\":\"rgb(36,36,36)\"},\"type\":\"carpet\"}],\"choropleth\":[{\"colorbar\":{\"outlinewidth\":1,\"tickcolor\":\"rgb(36,36,36)\",\"ticks\":\"outside\"},\"type\":\"choropleth\"}],\"contourcarpet\":[{\"colorbar\":{\"outlinewidth\":1,\"tickcolor\":\"rgb(36,36,36)\",\"ticks\":\"outside\"},\"type\":\"contourcarpet\"}],\"contour\":[{\"colorbar\":{\"outlinewidth\":1,\"tickcolor\":\"rgb(36,36,36)\",\"ticks\":\"outside\"},\"colorscale\":[[0.0,\"#440154\"],[0.1111111111111111,\"#482878\"],[0.2222222222222222,\"#3e4989\"],[0.3333333333333333,\"#31688e\"],[0.4444444444444444,\"#26828e\"],[0.5555555555555556,\"#1f9e89\"],[0.6666666666666666,\"#35b779\"],[0.7777777777777778,\"#6ece58\"],[0.8888888888888888,\"#b5de2b\"],[1.0,\"#fde725\"]],\"type\":\"contour\"}],\"heatmap\":[{\"colorbar\":{\"outlinewidth\":1,\"tickcolor\":\"rgb(36,36,36)\",\"ticks\":\"outside\"},\"colorscale\":[[0.0,\"#440154\"],[0.1111111111111111,\"#482878\"],[0.2222222222222222,\"#3e4989\"],[0.3333333333333333,\"#31688e\"],[0.4444444444444444,\"#26828e\"],[0.5555555555555556,\"#1f9e89\"],[0.6666666666666666,\"#35b779\"],[0.7777777777777778,\"#6ece58\"],[0.8888888888888888,\"#b5de2b\"],[1.0,\"#fde725\"]],\"type\":\"heatmap\"}],\"histogram2dcontour\":[{\"colorbar\":{\"outlinewidth\":1,\"tickcolor\":\"rgb(36,36,36)\",\"ticks\":\"outside\"},\"colorscale\":[[0.0,\"#440154\"],[0.1111111111111111,\"#482878\"],[0.2222222222222222,\"#3e4989\"],[0.3333333333333333,\"#31688e\"],[0.4444444444444444,\"#26828e\"],[0.5555555555555556,\"#1f9e89\"],[0.6666666666666666,\"#35b779\"],[0.7777777777777778,\"#6ece58\"],[0.8888888888888888,\"#b5de2b\"],[1.0,\"#fde725\"]],\"type\":\"histogram2dcontour\"}],\"histogram2d\":[{\"colorbar\":{\"outlinewidth\":1,\"tickcolor\":\"rgb(36,36,36)\",\"ticks\":\"outside\"},\"colorscale\":[[0.0,\"#440154\"],[0.1111111111111111,\"#482878\"],[0.2222222222222222,\"#3e4989\"],[0.3333333333333333,\"#31688e\"],[0.4444444444444444,\"#26828e\"],[0.5555555555555556,\"#1f9e89\"],[0.6666666666666666,\"#35b779\"],[0.7777777777777778,\"#6ece58\"],[0.8888888888888888,\"#b5de2b\"],[1.0,\"#fde725\"]],\"type\":\"histogram2d\"}],\"histogram\":[{\"marker\":{\"line\":{\"color\":\"white\",\"width\":0.6}},\"type\":\"histogram\"}],\"mesh3d\":[{\"colorbar\":{\"outlinewidth\":1,\"tickcolor\":\"rgb(36,36,36)\",\"ticks\":\"outside\"},\"type\":\"mesh3d\"}],\"parcoords\":[{\"line\":{\"colorbar\":{\"outlinewidth\":1,\"tickcolor\":\"rgb(36,36,36)\",\"ticks\":\"outside\"}},\"type\":\"parcoords\"}],\"pie\":[{\"automargin\":true,\"type\":\"pie\"}],\"scatter3d\":[{\"line\":{\"colorbar\":{\"outlinewidth\":1,\"tickcolor\":\"rgb(36,36,36)\",\"ticks\":\"outside\"}},\"marker\":{\"colorbar\":{\"outlinewidth\":1,\"tickcolor\":\"rgb(36,36,36)\",\"ticks\":\"outside\"}},\"type\":\"scatter3d\"}],\"scattercarpet\":[{\"marker\":{\"colorbar\":{\"outlinewidth\":1,\"tickcolor\":\"rgb(36,36,36)\",\"ticks\":\"outside\"}},\"type\":\"scattercarpet\"}],\"scattergeo\":[{\"marker\":{\"colorbar\":{\"outlinewidth\":1,\"tickcolor\":\"rgb(36,36,36)\",\"ticks\":\"outside\"}},\"type\":\"scattergeo\"}],\"scattergl\":[{\"marker\":{\"colorbar\":{\"outlinewidth\":1,\"tickcolor\":\"rgb(36,36,36)\",\"ticks\":\"outside\"}},\"type\":\"scattergl\"}],\"scattermapbox\":[{\"marker\":{\"colorbar\":{\"outlinewidth\":1,\"tickcolor\":\"rgb(36,36,36)\",\"ticks\":\"outside\"}},\"type\":\"scattermapbox\"}],\"scattermap\":[{\"marker\":{\"colorbar\":{\"outlinewidth\":1,\"tickcolor\":\"rgb(36,36,36)\",\"ticks\":\"outside\"}},\"type\":\"scattermap\"}],\"scatterpolargl\":[{\"marker\":{\"colorbar\":{\"outlinewidth\":1,\"tickcolor\":\"rgb(36,36,36)\",\"ticks\":\"outside\"}},\"type\":\"scatterpolargl\"}],\"scatterpolar\":[{\"marker\":{\"colorbar\":{\"outlinewidth\":1,\"tickcolor\":\"rgb(36,36,36)\",\"ticks\":\"outside\"}},\"type\":\"scatterpolar\"}],\"scatter\":[{\"fillpattern\":{\"fillmode\":\"overlay\",\"size\":10,\"solidity\":0.2},\"type\":\"scatter\"}],\"scatterternary\":[{\"marker\":{\"colorbar\":{\"outlinewidth\":1,\"tickcolor\":\"rgb(36,36,36)\",\"ticks\":\"outside\"}},\"type\":\"scatterternary\"}],\"surface\":[{\"colorbar\":{\"outlinewidth\":1,\"tickcolor\":\"rgb(36,36,36)\",\"ticks\":\"outside\"},\"colorscale\":[[0.0,\"#440154\"],[0.1111111111111111,\"#482878\"],[0.2222222222222222,\"#3e4989\"],[0.3333333333333333,\"#31688e\"],[0.4444444444444444,\"#26828e\"],[0.5555555555555556,\"#1f9e89\"],[0.6666666666666666,\"#35b779\"],[0.7777777777777778,\"#6ece58\"],[0.8888888888888888,\"#b5de2b\"],[1.0,\"#fde725\"]],\"type\":\"surface\"}],\"table\":[{\"cells\":{\"fill\":{\"color\":\"rgb(237,237,237)\"},\"line\":{\"color\":\"white\"}},\"header\":{\"fill\":{\"color\":\"rgb(217,217,217)\"},\"line\":{\"color\":\"white\"}},\"type\":\"table\"}]},\"layout\":{\"annotationdefaults\":{\"arrowhead\":0,\"arrowwidth\":1},\"autotypenumbers\":\"strict\",\"coloraxis\":{\"colorbar\":{\"outlinewidth\":1,\"tickcolor\":\"rgb(36,36,36)\",\"ticks\":\"outside\"}},\"colorscale\":{\"diverging\":[[0.0,\"rgb(103,0,31)\"],[0.1,\"rgb(178,24,43)\"],[0.2,\"rgb(214,96,77)\"],[0.3,\"rgb(244,165,130)\"],[0.4,\"rgb(253,219,199)\"],[0.5,\"rgb(247,247,247)\"],[0.6,\"rgb(209,229,240)\"],[0.7,\"rgb(146,197,222)\"],[0.8,\"rgb(67,147,195)\"],[0.9,\"rgb(33,102,172)\"],[1.0,\"rgb(5,48,97)\"]],\"sequential\":[[0.0,\"#440154\"],[0.1111111111111111,\"#482878\"],[0.2222222222222222,\"#3e4989\"],[0.3333333333333333,\"#31688e\"],[0.4444444444444444,\"#26828e\"],[0.5555555555555556,\"#1f9e89\"],[0.6666666666666666,\"#35b779\"],[0.7777777777777778,\"#6ece58\"],[0.8888888888888888,\"#b5de2b\"],[1.0,\"#fde725\"]],\"sequentialminus\":[[0.0,\"#440154\"],[0.1111111111111111,\"#482878\"],[0.2222222222222222,\"#3e4989\"],[0.3333333333333333,\"#31688e\"],[0.4444444444444444,\"#26828e\"],[0.5555555555555556,\"#1f9e89\"],[0.6666666666666666,\"#35b779\"],[0.7777777777777778,\"#6ece58\"],[0.8888888888888888,\"#b5de2b\"],[1.0,\"#fde725\"]]},\"colorway\":[\"#1F77B4\",\"#FF7F0E\",\"#2CA02C\",\"#D62728\",\"#9467BD\",\"#8C564B\",\"#E377C2\",\"#7F7F7F\",\"#BCBD22\",\"#17BECF\"],\"font\":{\"color\":\"rgb(36,36,36)\"},\"geo\":{\"bgcolor\":\"white\",\"lakecolor\":\"white\",\"landcolor\":\"white\",\"showlakes\":true,\"showland\":true,\"subunitcolor\":\"white\"},\"hoverlabel\":{\"align\":\"left\"},\"hovermode\":\"closest\",\"mapbox\":{\"style\":\"light\"},\"paper_bgcolor\":\"white\",\"plot_bgcolor\":\"white\",\"polar\":{\"angularaxis\":{\"gridcolor\":\"rgb(232,232,232)\",\"linecolor\":\"rgb(36,36,36)\",\"showgrid\":false,\"showline\":true,\"ticks\":\"outside\"},\"bgcolor\":\"white\",\"radialaxis\":{\"gridcolor\":\"rgb(232,232,232)\",\"linecolor\":\"rgb(36,36,36)\",\"showgrid\":false,\"showline\":true,\"ticks\":\"outside\"}},\"scene\":{\"xaxis\":{\"backgroundcolor\":\"white\",\"gridcolor\":\"rgb(232,232,232)\",\"gridwidth\":2,\"linecolor\":\"rgb(36,36,36)\",\"showbackground\":true,\"showgrid\":false,\"showline\":true,\"ticks\":\"outside\",\"zeroline\":false,\"zerolinecolor\":\"rgb(36,36,36)\"},\"yaxis\":{\"backgroundcolor\":\"white\",\"gridcolor\":\"rgb(232,232,232)\",\"gridwidth\":2,\"linecolor\":\"rgb(36,36,36)\",\"showbackground\":true,\"showgrid\":false,\"showline\":true,\"ticks\":\"outside\",\"zeroline\":false,\"zerolinecolor\":\"rgb(36,36,36)\"},\"zaxis\":{\"backgroundcolor\":\"white\",\"gridcolor\":\"rgb(232,232,232)\",\"gridwidth\":2,\"linecolor\":\"rgb(36,36,36)\",\"showbackground\":true,\"showgrid\":false,\"showline\":true,\"ticks\":\"outside\",\"zeroline\":false,\"zerolinecolor\":\"rgb(36,36,36)\"}},\"shapedefaults\":{\"fillcolor\":\"black\",\"line\":{\"width\":0},\"opacity\":0.3},\"ternary\":{\"aaxis\":{\"gridcolor\":\"rgb(232,232,232)\",\"linecolor\":\"rgb(36,36,36)\",\"showgrid\":false,\"showline\":true,\"ticks\":\"outside\"},\"baxis\":{\"gridcolor\":\"rgb(232,232,232)\",\"linecolor\":\"rgb(36,36,36)\",\"showgrid\":false,\"showline\":true,\"ticks\":\"outside\"},\"bgcolor\":\"white\",\"caxis\":{\"gridcolor\":\"rgb(232,232,232)\",\"linecolor\":\"rgb(36,36,36)\",\"showgrid\":false,\"showline\":true,\"ticks\":\"outside\"}},\"title\":{\"x\":0.05},\"xaxis\":{\"automargin\":true,\"gridcolor\":\"rgb(232,232,232)\",\"linecolor\":\"rgb(36,36,36)\",\"showgrid\":false,\"showline\":true,\"ticks\":\"outside\",\"title\":{\"standoff\":15},\"zeroline\":false,\"zerolinecolor\":\"rgb(36,36,36)\"},\"yaxis\":{\"automargin\":true,\"gridcolor\":\"rgb(232,232,232)\",\"linecolor\":\"rgb(36,36,36)\",\"showgrid\":false,\"showline\":true,\"ticks\":\"outside\",\"title\":{\"standoff\":15},\"zeroline\":false,\"zerolinecolor\":\"rgb(36,36,36)\"}}},\"xaxis\":{\"anchor\":\"y\",\"domain\":[0.0,1.0],\"title\":{\"text\":\"\"},\"visible\":false,\"range\":[6.978545188903809,18.49395751953125]},\"yaxis\":{\"anchor\":\"x\",\"domain\":[0.0,1.0],\"title\":{\"text\":\"\"},\"visible\":false,\"range\":[0.8781625628471375,3.0949912071228027]},\"legend\":{\"tracegroupgap\":0,\"itemsizing\":\"constant\"},\"margin\":{\"t\":60},\"title\":{\"font\":{\"size\":22,\"color\":\"Black\"},\"text\":\"\\u003cb\\u003eIntertopic Distance Map\\u003c\\u002fb\\u003e\",\"y\":0.95,\"x\":0.5,\"xanchor\":\"center\",\"yanchor\":\"top\"},\"hoverlabel\":{\"font\":{\"size\":16,\"family\":\"Rockwell\"},\"bgcolor\":\"white\"},\"width\":650,\"height\":650,\"sliders\":[{\"active\":0,\"pad\":{\"t\":50},\"steps\":[{\"args\":[{\"marker.color\":[[\"red\",\"#B0BEC5\",\"#B0BEC5\",\"#B0BEC5\",\"#B0BEC5\",\"#B0BEC5\",\"#B0BEC5\",\"#B0BEC5\",\"#B0BEC5\",\"#B0BEC5\",\"#B0BEC5\",\"#B0BEC5\",\"#B0BEC5\",\"#B0BEC5\"]]}],\"label\":\"Topic 0\",\"method\":\"update\"},{\"args\":[{\"marker.color\":[[\"#B0BEC5\",\"red\",\"#B0BEC5\",\"#B0BEC5\",\"#B0BEC5\",\"#B0BEC5\",\"#B0BEC5\",\"#B0BEC5\",\"#B0BEC5\",\"#B0BEC5\",\"#B0BEC5\",\"#B0BEC5\",\"#B0BEC5\",\"#B0BEC5\"]]}],\"label\":\"Topic 1\",\"method\":\"update\"},{\"args\":[{\"marker.color\":[[\"#B0BEC5\",\"#B0BEC5\",\"red\",\"#B0BEC5\",\"#B0BEC5\",\"#B0BEC5\",\"#B0BEC5\",\"#B0BEC5\",\"#B0BEC5\",\"#B0BEC5\",\"#B0BEC5\",\"#B0BEC5\",\"#B0BEC5\",\"#B0BEC5\"]]}],\"label\":\"Topic 2\",\"method\":\"update\"},{\"args\":[{\"marker.color\":[[\"#B0BEC5\",\"#B0BEC5\",\"#B0BEC5\",\"red\",\"#B0BEC5\",\"#B0BEC5\",\"#B0BEC5\",\"#B0BEC5\",\"#B0BEC5\",\"#B0BEC5\",\"#B0BEC5\",\"#B0BEC5\",\"#B0BEC5\",\"#B0BEC5\"]]}],\"label\":\"Topic 3\",\"method\":\"update\"},{\"args\":[{\"marker.color\":[[\"#B0BEC5\",\"#B0BEC5\",\"#B0BEC5\",\"#B0BEC5\",\"red\",\"#B0BEC5\",\"#B0BEC5\",\"#B0BEC5\",\"#B0BEC5\",\"#B0BEC5\",\"#B0BEC5\",\"#B0BEC5\",\"#B0BEC5\",\"#B0BEC5\"]]}],\"label\":\"Topic 4\",\"method\":\"update\"},{\"args\":[{\"marker.color\":[[\"#B0BEC5\",\"#B0BEC5\",\"#B0BEC5\",\"#B0BEC5\",\"#B0BEC5\",\"red\",\"#B0BEC5\",\"#B0BEC5\",\"#B0BEC5\",\"#B0BEC5\",\"#B0BEC5\",\"#B0BEC5\",\"#B0BEC5\",\"#B0BEC5\"]]}],\"label\":\"Topic 5\",\"method\":\"update\"},{\"args\":[{\"marker.color\":[[\"#B0BEC5\",\"#B0BEC5\",\"#B0BEC5\",\"#B0BEC5\",\"#B0BEC5\",\"#B0BEC5\",\"red\",\"#B0BEC5\",\"#B0BEC5\",\"#B0BEC5\",\"#B0BEC5\",\"#B0BEC5\",\"#B0BEC5\",\"#B0BEC5\"]]}],\"label\":\"Topic 6\",\"method\":\"update\"},{\"args\":[{\"marker.color\":[[\"#B0BEC5\",\"#B0BEC5\",\"#B0BEC5\",\"#B0BEC5\",\"#B0BEC5\",\"#B0BEC5\",\"#B0BEC5\",\"red\",\"#B0BEC5\",\"#B0BEC5\",\"#B0BEC5\",\"#B0BEC5\",\"#B0BEC5\",\"#B0BEC5\"]]}],\"label\":\"Topic 7\",\"method\":\"update\"},{\"args\":[{\"marker.color\":[[\"#B0BEC5\",\"#B0BEC5\",\"#B0BEC5\",\"#B0BEC5\",\"#B0BEC5\",\"#B0BEC5\",\"#B0BEC5\",\"#B0BEC5\",\"red\",\"#B0BEC5\",\"#B0BEC5\",\"#B0BEC5\",\"#B0BEC5\",\"#B0BEC5\"]]}],\"label\":\"Topic 8\",\"method\":\"update\"},{\"args\":[{\"marker.color\":[[\"#B0BEC5\",\"#B0BEC5\",\"#B0BEC5\",\"#B0BEC5\",\"#B0BEC5\",\"#B0BEC5\",\"#B0BEC5\",\"#B0BEC5\",\"#B0BEC5\",\"red\",\"#B0BEC5\",\"#B0BEC5\",\"#B0BEC5\",\"#B0BEC5\"]]}],\"label\":\"Topic 9\",\"method\":\"update\"},{\"args\":[{\"marker.color\":[[\"#B0BEC5\",\"#B0BEC5\",\"#B0BEC5\",\"#B0BEC5\",\"#B0BEC5\",\"#B0BEC5\",\"#B0BEC5\",\"#B0BEC5\",\"#B0BEC5\",\"#B0BEC5\",\"red\",\"#B0BEC5\",\"#B0BEC5\",\"#B0BEC5\"]]}],\"label\":\"Topic 10\",\"method\":\"update\"},{\"args\":[{\"marker.color\":[[\"#B0BEC5\",\"#B0BEC5\",\"#B0BEC5\",\"#B0BEC5\",\"#B0BEC5\",\"#B0BEC5\",\"#B0BEC5\",\"#B0BEC5\",\"#B0BEC5\",\"#B0BEC5\",\"#B0BEC5\",\"red\",\"#B0BEC5\",\"#B0BEC5\"]]}],\"label\":\"Topic 11\",\"method\":\"update\"},{\"args\":[{\"marker.color\":[[\"#B0BEC5\",\"#B0BEC5\",\"#B0BEC5\",\"#B0BEC5\",\"#B0BEC5\",\"#B0BEC5\",\"#B0BEC5\",\"#B0BEC5\",\"#B0BEC5\",\"#B0BEC5\",\"#B0BEC5\",\"#B0BEC5\",\"red\",\"#B0BEC5\"]]}],\"label\":\"Topic 12\",\"method\":\"update\"},{\"args\":[{\"marker.color\":[[\"#B0BEC5\",\"#B0BEC5\",\"#B0BEC5\",\"#B0BEC5\",\"#B0BEC5\",\"#B0BEC5\",\"#B0BEC5\",\"#B0BEC5\",\"#B0BEC5\",\"#B0BEC5\",\"#B0BEC5\",\"#B0BEC5\",\"#B0BEC5\",\"red\"]]}],\"label\":\"Topic 13\",\"method\":\"update\"}]}],\"shapes\":[{\"line\":{\"color\":\"#CFD8DC\",\"width\":2},\"type\":\"line\",\"x0\":12.736251831054688,\"x1\":12.736251831054688,\"y0\":0.8781625628471375,\"y1\":3.0949912071228027},{\"line\":{\"color\":\"#9E9E9E\",\"width\":2},\"type\":\"line\",\"x0\":6.978545188903809,\"x1\":18.49395751953125,\"y0\":1.9865769147872925,\"y1\":1.9865769147872925}],\"annotations\":[{\"showarrow\":false,\"text\":\"D1\",\"x\":6.978545188903809,\"y\":1.9865769147872925,\"yshift\":10},{\"showarrow\":false,\"text\":\"D2\",\"x\":12.736251831054688,\"xshift\":10,\"y\":3.0949912071228027}]},                        {\"responsive\": true}                    )                };            </script>        </div>"
      ],
      "text/plain": [
       "Figure({\n",
       "    'data': [{'customdata': array([[0, '02 | dukung | pilih | pasang | menang', 27601],\n",
       "                                   [1, 'presiden | calon | indonesia | prabowo | gibran', 16775],\n",
       "                                   [2, 'prabowo | gibran | jokowi | orang | menang', 11446],\n",
       "                                   [3, 'debat | data | calon | presiden | media', 4861],\n",
       "                                   [4, 'israel | palestina | dukung | bela | profesional', 533],\n",
       "                                   [5, 'viral | dokter | porno | viralkan | 02', 351],\n",
       "                                   [6, 'ekonomi | tumbuh | prabowo | infrastruktur | cipta', 212],\n",
       "                                   [7, 'online | message | direct | ojek | judi', 126],\n",
       "                                   [8, 'edit | reformasi | cape | orde | 02', 125],\n",
       "                                   [9, 'sistem | alat | utama | tahan | beli', 84],\n",
       "                                   [10, 'stres | teori | prabowo | konspirasi | 02', 70],\n",
       "                                   [11, 'energi | hijau | gibran | indonesia | semangat', 68],\n",
       "                                   [12, 'tulis | tuli | prabowo | buta | buku', 47],\n",
       "                                   [13, '00am | jalan | tun | 02 | azlan', 22]], dtype=object),\n",
       "              'hovertemplate': '<b>Topic %{customdata[0]}</b><br>%{customdata[1]}<br>Size: %{customdata[2]}',\n",
       "              'legendgroup': '',\n",
       "              'marker': {'color': '#B0BEC5',\n",
       "                         'line': {'color': 'DarkSlateGrey', 'width': 2},\n",
       "                         'size': {'bdata': '0WuHQbYs/RIVAl8B1AB+AH0AVABGAEQALwAWAA==', 'dtype': 'i2'},\n",
       "                         'sizemode': 'area',\n",
       "                         'sizeref': 17.250625,\n",
       "                         'symbol': 'circle'},\n",
       "              'mode': 'markers',\n",
       "              'name': '',\n",
       "              'orientation': 'v',\n",
       "              'showlegend': False,\n",
       "              'type': 'scatter',\n",
       "              'x': {'bdata': 'OsgXQbibN0F0PXpBG+orQdnxP0G7Ew9BSjU+QVcWFUFhXANBgHN+QVOngEHI1XVBgniAQTh5BEE=',\n",
       "                    'dtype': 'f4'},\n",
       "              'xaxis': 'x',\n",
       "              'y': {'bdata': 'T3MZQCE0+j80PixAIlYBQDFp0z80JiVAcnkUQPSGAkCvPYQ/AI+hP5/hJkChJBdAuyUMQJLC9j8=',\n",
       "                    'dtype': 'f4'},\n",
       "              'yaxis': 'y'}],\n",
       "    'layout': {'annotations': [{'showarrow': False,\n",
       "                                'text': 'D1',\n",
       "                                'x': np.float32(6.978545),\n",
       "                                'y': np.float32(1.9865769),\n",
       "                                'yshift': 10},\n",
       "                               {'showarrow': False,\n",
       "                                'text': 'D2',\n",
       "                                'x': np.float32(12.736252),\n",
       "                                'xshift': 10,\n",
       "                                'y': np.float32(3.0949912)}],\n",
       "               'height': 650,\n",
       "               'hoverlabel': {'bgcolor': 'white', 'font': {'family': 'Rockwell', 'size': 16}},\n",
       "               'legend': {'itemsizing': 'constant', 'tracegroupgap': 0},\n",
       "               'margin': {'t': 60},\n",
       "               'shapes': [{'line': {'color': '#CFD8DC', 'width': 2},\n",
       "                           'type': 'line',\n",
       "                           'x0': np.float32(12.736252),\n",
       "                           'x1': np.float32(12.736252),\n",
       "                           'y0': np.float32(0.87816256),\n",
       "                           'y1': np.float32(3.0949912)},\n",
       "                          {'line': {'color': '#9E9E9E', 'width': 2},\n",
       "                           'type': 'line',\n",
       "                           'x0': np.float32(6.978545),\n",
       "                           'x1': np.float32(18.493958),\n",
       "                           'y0': np.float32(1.9865769),\n",
       "                           'y1': np.float32(1.9865769)}],\n",
       "               'sliders': [{'active': 0,\n",
       "                            'pad': {'t': 50},\n",
       "                            'steps': [{'args': [{'marker.color': [['red',\n",
       "                                                                  '#B0BEC5',\n",
       "                                                                  '#B0BEC5',\n",
       "                                                                  '#B0BEC5',\n",
       "                                                                  '#B0BEC5',\n",
       "                                                                  '#B0BEC5',\n",
       "                                                                  '#B0BEC5',\n",
       "                                                                  '#B0BEC5',\n",
       "                                                                  '#B0BEC5',\n",
       "                                                                  '#B0BEC5',\n",
       "                                                                  '#B0BEC5',\n",
       "                                                                  '#B0BEC5',\n",
       "                                                                  '#B0BEC5',\n",
       "                                                                  '#B0BEC5']]}],\n",
       "                                       'label': 'Topic 0',\n",
       "                                       'method': 'update'},\n",
       "                                      {'args': [{'marker.color': [['#B0BEC5',\n",
       "                                                                  'red', '#B0BEC5',\n",
       "                                                                  '#B0BEC5',\n",
       "                                                                  '#B0BEC5',\n",
       "                                                                  '#B0BEC5',\n",
       "                                                                  '#B0BEC5',\n",
       "                                                                  '#B0BEC5',\n",
       "                                                                  '#B0BEC5',\n",
       "                                                                  '#B0BEC5',\n",
       "                                                                  '#B0BEC5',\n",
       "                                                                  '#B0BEC5',\n",
       "                                                                  '#B0BEC5',\n",
       "                                                                  '#B0BEC5']]}],\n",
       "                                       'label': 'Topic 1',\n",
       "                                       'method': 'update'},\n",
       "                                      {'args': [{'marker.color': [['#B0BEC5',\n",
       "                                                                  '#B0BEC5', 'red',\n",
       "                                                                  '#B0BEC5',\n",
       "                                                                  '#B0BEC5',\n",
       "                                                                  '#B0BEC5',\n",
       "                                                                  '#B0BEC5',\n",
       "                                                                  '#B0BEC5',\n",
       "                                                                  '#B0BEC5',\n",
       "                                                                  '#B0BEC5',\n",
       "                                                                  '#B0BEC5',\n",
       "                                                                  '#B0BEC5',\n",
       "                                                                  '#B0BEC5',\n",
       "                                                                  '#B0BEC5']]}],\n",
       "                                       'label': 'Topic 2',\n",
       "                                       'method': 'update'},\n",
       "                                      {'args': [{'marker.color': [['#B0BEC5',\n",
       "                                                                  '#B0BEC5',\n",
       "                                                                  '#B0BEC5', 'red',\n",
       "                                                                  '#B0BEC5',\n",
       "                                                                  '#B0BEC5',\n",
       "                                                                  '#B0BEC5',\n",
       "                                                                  '#B0BEC5',\n",
       "                                                                  '#B0BEC5',\n",
       "                                                                  '#B0BEC5',\n",
       "                                                                  '#B0BEC5',\n",
       "                                                                  '#B0BEC5',\n",
       "                                                                  '#B0BEC5',\n",
       "                                                                  '#B0BEC5']]}],\n",
       "                                       'label': 'Topic 3',\n",
       "                                       'method': 'update'},\n",
       "                                      {'args': [{'marker.color': [['#B0BEC5',\n",
       "                                                                  '#B0BEC5',\n",
       "                                                                  '#B0BEC5',\n",
       "                                                                  '#B0BEC5', 'red',\n",
       "                                                                  '#B0BEC5',\n",
       "                                                                  '#B0BEC5',\n",
       "                                                                  '#B0BEC5',\n",
       "                                                                  '#B0BEC5',\n",
       "                                                                  '#B0BEC5',\n",
       "                                                                  '#B0BEC5',\n",
       "                                                                  '#B0BEC5',\n",
       "                                                                  '#B0BEC5',\n",
       "                                                                  '#B0BEC5']]}],\n",
       "                                       'label': 'Topic 4',\n",
       "                                       'method': 'update'},\n",
       "                                      {'args': [{'marker.color': [['#B0BEC5',\n",
       "                                                                  '#B0BEC5',\n",
       "                                                                  '#B0BEC5',\n",
       "                                                                  '#B0BEC5',\n",
       "                                                                  '#B0BEC5', 'red',\n",
       "                                                                  '#B0BEC5',\n",
       "                                                                  '#B0BEC5',\n",
       "                                                                  '#B0BEC5',\n",
       "                                                                  '#B0BEC5',\n",
       "                                                                  '#B0BEC5',\n",
       "                                                                  '#B0BEC5',\n",
       "                                                                  '#B0BEC5',\n",
       "                                                                  '#B0BEC5']]}],\n",
       "                                       'label': 'Topic 5',\n",
       "                                       'method': 'update'},\n",
       "                                      {'args': [{'marker.color': [['#B0BEC5',\n",
       "                                                                  '#B0BEC5',\n",
       "                                                                  '#B0BEC5',\n",
       "                                                                  '#B0BEC5',\n",
       "                                                                  '#B0BEC5',\n",
       "                                                                  '#B0BEC5', 'red',\n",
       "                                                                  '#B0BEC5',\n",
       "                                                                  '#B0BEC5',\n",
       "                                                                  '#B0BEC5',\n",
       "                                                                  '#B0BEC5',\n",
       "                                                                  '#B0BEC5',\n",
       "                                                                  '#B0BEC5',\n",
       "                                                                  '#B0BEC5']]}],\n",
       "                                       'label': 'Topic 6',\n",
       "                                       'method': 'update'},\n",
       "                                      {'args': [{'marker.color': [['#B0BEC5',\n",
       "                                                                  '#B0BEC5',\n",
       "                                                                  '#B0BEC5',\n",
       "                                                                  '#B0BEC5',\n",
       "                                                                  '#B0BEC5',\n",
       "                                                                  '#B0BEC5',\n",
       "                                                                  '#B0BEC5', 'red',\n",
       "                                                                  '#B0BEC5',\n",
       "                                                                  '#B0BEC5',\n",
       "                                                                  '#B0BEC5',\n",
       "                                                                  '#B0BEC5',\n",
       "                                                                  '#B0BEC5',\n",
       "                                                                  '#B0BEC5']]}],\n",
       "                                       'label': 'Topic 7',\n",
       "                                       'method': 'update'},\n",
       "                                      {'args': [{'marker.color': [['#B0BEC5',\n",
       "                                                                  '#B0BEC5',\n",
       "                                                                  '#B0BEC5',\n",
       "                                                                  '#B0BEC5',\n",
       "                                                                  '#B0BEC5',\n",
       "                                                                  '#B0BEC5',\n",
       "                                                                  '#B0BEC5',\n",
       "                                                                  '#B0BEC5', 'red',\n",
       "                                                                  '#B0BEC5',\n",
       "                                                                  '#B0BEC5',\n",
       "                                                                  '#B0BEC5',\n",
       "                                                                  '#B0BEC5',\n",
       "                                                                  '#B0BEC5']]}],\n",
       "                                       'label': 'Topic 8',\n",
       "                                       'method': 'update'},\n",
       "                                      {'args': [{'marker.color': [['#B0BEC5',\n",
       "                                                                  '#B0BEC5',\n",
       "                                                                  '#B0BEC5',\n",
       "                                                                  '#B0BEC5',\n",
       "                                                                  '#B0BEC5',\n",
       "                                                                  '#B0BEC5',\n",
       "                                                                  '#B0BEC5',\n",
       "                                                                  '#B0BEC5',\n",
       "                                                                  '#B0BEC5', 'red',\n",
       "                                                                  '#B0BEC5',\n",
       "                                                                  '#B0BEC5',\n",
       "                                                                  '#B0BEC5',\n",
       "                                                                  '#B0BEC5']]}],\n",
       "                                       'label': 'Topic 9',\n",
       "                                       'method': 'update'},\n",
       "                                      {'args': [{'marker.color': [['#B0BEC5',\n",
       "                                                                  '#B0BEC5',\n",
       "                                                                  '#B0BEC5',\n",
       "                                                                  '#B0BEC5',\n",
       "                                                                  '#B0BEC5',\n",
       "                                                                  '#B0BEC5',\n",
       "                                                                  '#B0BEC5',\n",
       "                                                                  '#B0BEC5',\n",
       "                                                                  '#B0BEC5',\n",
       "                                                                  '#B0BEC5', 'red',\n",
       "                                                                  '#B0BEC5',\n",
       "                                                                  '#B0BEC5',\n",
       "                                                                  '#B0BEC5']]}],\n",
       "                                       'label': 'Topic 10',\n",
       "                                       'method': 'update'},\n",
       "                                      {'args': [{'marker.color': [['#B0BEC5',\n",
       "                                                                  '#B0BEC5',\n",
       "                                                                  '#B0BEC5',\n",
       "                                                                  '#B0BEC5',\n",
       "                                                                  '#B0BEC5',\n",
       "                                                                  '#B0BEC5',\n",
       "                                                                  '#B0BEC5',\n",
       "                                                                  '#B0BEC5',\n",
       "                                                                  '#B0BEC5',\n",
       "                                                                  '#B0BEC5',\n",
       "                                                                  '#B0BEC5', 'red',\n",
       "                                                                  '#B0BEC5',\n",
       "                                                                  '#B0BEC5']]}],\n",
       "                                       'label': 'Topic 11',\n",
       "                                       'method': 'update'},\n",
       "                                      {'args': [{'marker.color': [['#B0BEC5',\n",
       "                                                                  '#B0BEC5',\n",
       "                                                                  '#B0BEC5',\n",
       "                                                                  '#B0BEC5',\n",
       "                                                                  '#B0BEC5',\n",
       "                                                                  '#B0BEC5',\n",
       "                                                                  '#B0BEC5',\n",
       "                                                                  '#B0BEC5',\n",
       "                                                                  '#B0BEC5',\n",
       "                                                                  '#B0BEC5',\n",
       "                                                                  '#B0BEC5',\n",
       "                                                                  '#B0BEC5', 'red',\n",
       "                                                                  '#B0BEC5']]}],\n",
       "                                       'label': 'Topic 12',\n",
       "                                       'method': 'update'},\n",
       "                                      {'args': [{'marker.color': [['#B0BEC5',\n",
       "                                                                  '#B0BEC5',\n",
       "                                                                  '#B0BEC5',\n",
       "                                                                  '#B0BEC5',\n",
       "                                                                  '#B0BEC5',\n",
       "                                                                  '#B0BEC5',\n",
       "                                                                  '#B0BEC5',\n",
       "                                                                  '#B0BEC5',\n",
       "                                                                  '#B0BEC5',\n",
       "                                                                  '#B0BEC5',\n",
       "                                                                  '#B0BEC5',\n",
       "                                                                  '#B0BEC5',\n",
       "                                                                  '#B0BEC5',\n",
       "                                                                  'red']]}],\n",
       "                                       'label': 'Topic 13',\n",
       "                                       'method': 'update'}]}],\n",
       "               'template': '...',\n",
       "               'title': {'font': {'color': 'Black', 'size': 22},\n",
       "                         'text': '<b>Intertopic Distance Map</b>',\n",
       "                         'x': 0.5,\n",
       "                         'xanchor': 'center',\n",
       "                         'y': 0.95,\n",
       "                         'yanchor': 'top'},\n",
       "               'width': 650,\n",
       "               'xaxis': {'anchor': 'y',\n",
       "                         'domain': [0.0, 1.0],\n",
       "                         'range': [6.978545188903809, 18.49395751953125],\n",
       "                         'title': {'text': ''},\n",
       "                         'visible': False},\n",
       "               'yaxis': {'anchor': 'x',\n",
       "                         'domain': [0.0, 1.0],\n",
       "                         'range': [0.8781625628471375, 3.0949912071228027],\n",
       "                         'title': {'text': ''},\n",
       "                         'visible': False}}\n",
       "})"
      ]
     },
     "execution_count": 12,
     "metadata": {},
     "output_type": "execute_result"
    }
   ],
   "source": [
    "topic_model_hdbscan.visualize_barchart(top_n_topics=15)\n",
    "topic_model_hdbscan.visualize_topics()"
   ]
  },
  {
   "cell_type": "code",
   "execution_count": 13,
   "id": "e3ecd171",
   "metadata": {},
   "outputs": [],
   "source": [
    "# df['created_at'] = pd.to_datetime(df['created_at'])"
   ]
  },
  {
   "cell_type": "code",
   "execution_count": 14,
   "id": "7f933a68",
   "metadata": {},
   "outputs": [],
   "source": [
    "# topics_over_time = topic_model_hdbscan.topics_over_time(\n",
    "#     docs=docs,\n",
    "#     topics=topics_hdbscan,\n",
    "#     timestamps=df['created_at'],\n",
    "#     nr_bins=20,  # Adjust to control time granularity\n",
    "#     evolution_tuning=True,\n",
    "#     global_tuning=True\n",
    "# )"
   ]
  },
  {
   "cell_type": "code",
   "execution_count": 15,
   "id": "abb52aa8",
   "metadata": {},
   "outputs": [],
   "source": [
    "# topic_model_hdbscan.visualize_topics_over_time(\n",
    "#     topics_over_time, \n",
    "#     top_n_topics=10  # Number of top topics to show\n",
    "# )\n"
   ]
  },
  {
   "cell_type": "code",
   "execution_count": 16,
   "id": "066d0783",
   "metadata": {},
   "outputs": [],
   "source": [
    "# Save results to CSV\n",
    "df_topics = pd.DataFrame({\"Document\": docs, \"Topic\": topics_hdbscan})\n",
    "df_topics.to_csv(\"topic_assignments_hdbscan.csv\", index=False)\n",
    "\n",
    "# Save model\n",
    "# topic_model.save(\"bertopic_model_hdbscan\")\n"
   ]
  },
  {
   "cell_type": "code",
   "execution_count": 17,
   "id": "c9ac13e6",
   "metadata": {},
   "outputs": [
    {
     "name": "stderr",
     "output_type": "stream",
     "text": [
      "2025-05-22 12:41:35,704 - BERTopic - Embedding - Transforming documents to embeddings.\n"
     ]
    },
    {
     "data": {
      "application/vnd.jupyter.widget-view+json": {
       "model_id": "b9650db9be264efda348b1cb63e4665f",
       "version_major": 2,
       "version_minor": 0
      },
      "text/plain": [
       "Batches:   0%|          | 0/2951 [00:00<?, ?it/s]"
      ]
     },
     "metadata": {},
     "output_type": "display_data"
    },
    {
     "name": "stderr",
     "output_type": "stream",
     "text": [
      "2025-05-22 12:41:51,971 - BERTopic - Embedding - Completed ✓\n",
      "2025-05-22 12:41:51,972 - BERTopic - Dimensionality - Fitting the dimensionality reduction algorithm\n",
      "2025-05-22 12:42:00,393 - BERTopic - Dimensionality - Completed ✓\n",
      "2025-05-22 12:42:00,396 - BERTopic - Cluster - Start clustering the reduced embeddings\n",
      "2025-05-22 12:42:00,648 - BERTopic - Cluster - Completed ✓\n",
      "2025-05-22 12:42:00,660 - BERTopic - Representation - Fine-tuning topics using representation models.\n",
      "2025-05-22 12:42:01,102 - BERTopic - Representation - Completed ✓\n"
     ]
    },
    {
     "ename": "ValueError",
     "evalue": "Mime type rendering requires nbformat>=4.2.0 but it is not installed",
     "output_type": "error",
     "traceback": [
      "\u001b[1;31m---------------------------------------------------------------------------\u001b[0m",
      "\u001b[1;31mValueError\u001b[0m                                Traceback (most recent call last)",
      "File \u001b[1;32m~\\AppData\\Roaming\\Python\\Python310\\site-packages\\IPython\\core\\formatters.py:925\u001b[0m, in \u001b[0;36mIPythonDisplayFormatter.__call__\u001b[1;34m(self, obj)\u001b[0m\n\u001b[0;32m    923\u001b[0m method \u001b[38;5;241m=\u001b[39m get_real_method(obj, \u001b[38;5;28mself\u001b[39m\u001b[38;5;241m.\u001b[39mprint_method)\n\u001b[0;32m    924\u001b[0m \u001b[38;5;28;01mif\u001b[39;00m method \u001b[38;5;129;01mis\u001b[39;00m \u001b[38;5;129;01mnot\u001b[39;00m \u001b[38;5;28;01mNone\u001b[39;00m:\n\u001b[1;32m--> 925\u001b[0m     \u001b[43mmethod\u001b[49m\u001b[43m(\u001b[49m\u001b[43m)\u001b[49m\n\u001b[0;32m    926\u001b[0m     \u001b[38;5;28;01mreturn\u001b[39;00m \u001b[38;5;28;01mTrue\u001b[39;00m\n",
      "File \u001b[1;32mc:\\Users\\PC\\AppData\\Local\\Programs\\Python\\Python310\\lib\\site-packages\\plotly\\basedatatypes.py:846\u001b[0m, in \u001b[0;36mBaseFigure._ipython_display_\u001b[1;34m(self)\u001b[0m\n\u001b[0;32m    843\u001b[0m \u001b[38;5;28;01mimport\u001b[39;00m \u001b[38;5;21;01mplotly\u001b[39;00m\u001b[38;5;21;01m.\u001b[39;00m\u001b[38;5;21;01mio\u001b[39;00m \u001b[38;5;28;01mas\u001b[39;00m \u001b[38;5;21;01mpio\u001b[39;00m\n\u001b[0;32m    845\u001b[0m \u001b[38;5;28;01mif\u001b[39;00m pio\u001b[38;5;241m.\u001b[39mrenderers\u001b[38;5;241m.\u001b[39mrender_on_display \u001b[38;5;129;01mand\u001b[39;00m pio\u001b[38;5;241m.\u001b[39mrenderers\u001b[38;5;241m.\u001b[39mdefault:\n\u001b[1;32m--> 846\u001b[0m     \u001b[43mpio\u001b[49m\u001b[38;5;241;43m.\u001b[39;49m\u001b[43mshow\u001b[49m\u001b[43m(\u001b[49m\u001b[38;5;28;43mself\u001b[39;49m\u001b[43m)\u001b[49m\n\u001b[0;32m    847\u001b[0m \u001b[38;5;28;01melse\u001b[39;00m:\n\u001b[0;32m    848\u001b[0m     \u001b[38;5;28mprint\u001b[39m(\u001b[38;5;28mrepr\u001b[39m(\u001b[38;5;28mself\u001b[39m))\n",
      "File \u001b[1;32mc:\\Users\\PC\\AppData\\Local\\Programs\\Python\\Python310\\lib\\site-packages\\plotly\\io\\_renderers.py:425\u001b[0m, in \u001b[0;36mshow\u001b[1;34m(fig, renderer, validate, **kwargs)\u001b[0m\n\u001b[0;32m    420\u001b[0m     \u001b[38;5;28;01mraise\u001b[39;00m \u001b[38;5;167;01mValueError\u001b[39;00m(\n\u001b[0;32m    421\u001b[0m         \u001b[38;5;124m\"\u001b[39m\u001b[38;5;124mMime type rendering requires ipython but it is not installed\u001b[39m\u001b[38;5;124m\"\u001b[39m\n\u001b[0;32m    422\u001b[0m     )\n\u001b[0;32m    424\u001b[0m \u001b[38;5;28;01mif\u001b[39;00m \u001b[38;5;129;01mnot\u001b[39;00m nbformat \u001b[38;5;129;01mor\u001b[39;00m Version(nbformat\u001b[38;5;241m.\u001b[39m__version__) \u001b[38;5;241m<\u001b[39m Version(\u001b[38;5;124m\"\u001b[39m\u001b[38;5;124m4.2.0\u001b[39m\u001b[38;5;124m\"\u001b[39m):\n\u001b[1;32m--> 425\u001b[0m     \u001b[38;5;28;01mraise\u001b[39;00m \u001b[38;5;167;01mValueError\u001b[39;00m(\n\u001b[0;32m    426\u001b[0m         \u001b[38;5;124m\"\u001b[39m\u001b[38;5;124mMime type rendering requires nbformat>=4.2.0 but it is not installed\u001b[39m\u001b[38;5;124m\"\u001b[39m\n\u001b[0;32m    427\u001b[0m     )\n\u001b[0;32m    429\u001b[0m display_jupyter_version_warnings()\n\u001b[0;32m    431\u001b[0m ipython_display\u001b[38;5;241m.\u001b[39mdisplay(bundle, raw\u001b[38;5;241m=\u001b[39m\u001b[38;5;28;01mTrue\u001b[39;00m)\n",
      "\u001b[1;31mValueError\u001b[0m: Mime type rendering requires nbformat>=4.2.0 but it is not installed"
     ]
    },
    {
     "data": {
      "application/vnd.plotly.v1+json": {
       "config": {
        "plotlyServerURL": "https://plot.ly"
       },
       "data": [
        {
         "marker": {
          "color": "#D55E00"
         },
         "orientation": "h",
         "type": "bar",
         "x": [
          0.02157002575293172,
          0.022511897939696122,
          0.022999731988196617,
          0.03637419656866257,
          0.1537778624996075
         ],
         "xaxis": "x",
         "y": [
          "jokowi  ",
          "orang  ",
          "dukung  ",
          "gibran  ",
          "prabowo  "
         ],
         "yaxis": "y"
        },
        {
         "marker": {
          "color": "#0072B2"
         },
         "orientation": "h",
         "type": "bar",
         "x": [
          0.022527001943444126,
          0.022783173581615072,
          0.02349582176145096,
          0.035369486444867086,
          0.08621333534597744
         ],
         "xaxis": "x2",
         "y": [
          "jokowi  ",
          "orang  ",
          "menang  ",
          "gibran  ",
          "prabowo  "
         ],
         "yaxis": "y2"
        },
        {
         "marker": {
          "color": "#CC79A7"
         },
         "orientation": "h",
         "type": "bar",
         "x": [
          0.0236106253024134,
          0.02639760647336985,
          0.03854952866626825,
          0.04270501963526907,
          0.06086855409374326
         ],
         "xaxis": "x3",
         "y": [
          "pilih  ",
          "pasang  ",
          "dukung  ",
          "orang  ",
          "02  "
         ],
         "yaxis": "y3"
        },
        {
         "marker": {
          "color": "#E69F00"
         },
         "orientation": "h",
         "type": "bar",
         "x": [
          0.02608581430326582,
          0.02939976801195413,
          0.03669365230017733,
          0.05164785732427692,
          0.09832469893794103
         ],
         "xaxis": "x4",
         "y": [
          "calon  ",
          "pilih  ",
          "pasang  ",
          "dukung  ",
          "02  "
         ],
         "yaxis": "y4"
        },
        {
         "marker": {
          "color": "#56B4E9"
         },
         "orientation": "h",
         "type": "bar",
         "x": [
          0.018675880920272964,
          0.03681139975224698,
          0.03686097941223856,
          0.060310030919203866,
          0.17103010684744294
         ],
         "xaxis": "x5",
         "y": [
          "banget  ",
          "buzzer  ",
          "pilih  ",
          "dukung  ",
          "02  "
         ],
         "yaxis": "y5"
        },
        {
         "marker": {
          "color": "#009E73"
         },
         "orientation": "h",
         "type": "bar",
         "x": [
          0.0336720330941432,
          0.03605039919159745,
          0.04096755697022014,
          0.04631079876923086,
          0.06668982706535977
         ],
         "xaxis": "x6",
         "y": [
          "kerja  ",
          "indonesia  ",
          "agama  ",
          "kampanye  ",
          "02  "
         ],
         "yaxis": "y6"
        },
        {
         "marker": {
          "color": "#F0E442"
         },
         "orientation": "h",
         "type": "bar",
         "x": [
          0.03272417877670968,
          0.04205940571338859,
          0.044160604099783236,
          0.06443767299101417,
          0.06592451537303817
         ],
         "xaxis": "x7",
         "y": [
          "video  ",
          "survei  ",
          "suara  ",
          "02  ",
          "kayak  "
         ],
         "yaxis": "y7"
        },
        {
         "marker": {
          "color": "#D55E00"
         },
         "orientation": "h",
         "type": "bar",
         "x": [
          0.060052657231724586,
          0.06294257834685688,
          0.06874355141964165,
          0.06952840268637189,
          0.07072482459580468
         ],
         "xaxis": "x8",
         "y": [
          "indonesia  ",
          "prabowo  ",
          "raka  ",
          "rakabuming  ",
          "gibran  "
         ],
         "yaxis": "y8"
        },
        {
         "marker": {
          "color": "#0072B2"
         },
         "orientation": "h",
         "type": "bar",
         "x": [
          0.038960334018858754,
          0.052678717566177286,
          0.06050589241932973,
          0.10385702562868596,
          0.1479025378710047
         ],
         "xaxis": "x9",
         "y": [
          "pilih  ",
          "02  ",
          "wakil  ",
          "calon  ",
          "presiden  "
         ],
         "yaxis": "y9"
        },
        {
         "marker": {
          "color": "#CC79A7"
         },
         "orientation": "h",
         "type": "bar",
         "x": [
          0.03784350628317558,
          0.04179602738532244,
          0.04847688987537243,
          0.05261004344496173,
          0.1354409228225501
         ],
         "xaxis": "x10",
         "y": [
          "gratis  ",
          "calon  ",
          "program  ",
          "02  ",
          "debat  "
         ],
         "yaxis": "y10"
        },
        {
         "marker": {
          "color": "#E69F00"
         },
         "orientation": "h",
         "type": "bar",
         "x": [
          0.04791725588904585,
          0.06163136379068181,
          0.06278963928855695,
          0.07290837245864708,
          0.1527312290190616
         ],
         "xaxis": "x11",
         "y": [
          "wakil  ",
          "pilih  ",
          "calon  ",
          "prabowo  ",
          "presiden  "
         ],
         "yaxis": "y11"
        },
        {
         "marker": {
          "color": "#56B4E9"
         },
         "orientation": "h",
         "type": "bar",
         "x": [
          0.04559789602940689,
          0.04880333275715046,
          0.061012031002670795,
          0.08340188947794182,
          0.14650399730432176
         ],
         "xaxis": "x12",
         "y": [
          "gara  ",
          "panik  ",
          "teman  ",
          "02  ",
          "menang  "
         ],
         "yaxis": "y12"
        },
        {
         "marker": {
          "color": "#009E73"
         },
         "orientation": "h",
         "type": "bar",
         "x": [
          0.040887624960181605,
          0.05195270810843981,
          0.060846711669930546,
          0.06365922161516108,
          0.13312281655646915
         ],
         "xaxis": "x13",
         "y": [
          "02  ",
          "polisi  ",
          "palestina  ",
          "israel  ",
          "politik  "
         ],
         "yaxis": "y13"
        },
        {
         "marker": {
          "color": "#F0E442"
         },
         "orientation": "h",
         "type": "bar",
         "x": [
          0.07245350167450597,
          0.08125795306447257,
          0.09272514756300058,
          0.11575624624264988,
          0.1909832933543296
         ],
         "xaxis": "x14",
         "y": [
          "demokrat  ",
          "indonesia  ",
          "juang  ",
          "partai  ",
          "demokrasi  "
         ],
         "yaxis": "y14"
        },
        {
         "marker": {
          "color": "#D55E00"
         },
         "orientation": "h",
         "type": "bar",
         "x": [
          0.05064981079212586,
          0.05146096697513196,
          0.062054788274355226,
          0.0657479370121362,
          0.20581389017991408
         ],
         "xaxis": "x15",
         "y": [
          "gibran  ",
          "calon  ",
          "presiden  ",
          "prabowo  ",
          "debat  "
         ],
         "yaxis": "y15"
        }
       ],
       "layout": {
        "annotations": [
         {
          "font": {
           "size": 16
          },
          "showarrow": false,
          "text": "Topic 0",
          "x": 0.0875,
          "xanchor": "center",
          "xref": "paper",
          "y": 1,
          "yanchor": "bottom",
          "yref": "paper"
         },
         {
          "font": {
           "size": 16
          },
          "showarrow": false,
          "text": "Topic 1",
          "x": 0.36250000000000004,
          "xanchor": "center",
          "xref": "paper",
          "y": 1,
          "yanchor": "bottom",
          "yref": "paper"
         },
         {
          "font": {
           "size": 16
          },
          "showarrow": false,
          "text": "Topic 2",
          "x": 0.6375000000000001,
          "xanchor": "center",
          "xref": "paper",
          "y": 1,
          "yanchor": "bottom",
          "yref": "paper"
         },
         {
          "font": {
           "size": 16
          },
          "showarrow": false,
          "text": "Topic 3",
          "x": 0.9125,
          "xanchor": "center",
          "xref": "paper",
          "y": 1,
          "yanchor": "bottom",
          "yref": "paper"
         },
         {
          "font": {
           "size": 16
          },
          "showarrow": false,
          "text": "Topic 4",
          "x": 0.0875,
          "xanchor": "center",
          "xref": "paper",
          "y": 0.7250000000000001,
          "yanchor": "bottom",
          "yref": "paper"
         },
         {
          "font": {
           "size": 16
          },
          "showarrow": false,
          "text": "Topic 5",
          "x": 0.36250000000000004,
          "xanchor": "center",
          "xref": "paper",
          "y": 0.7250000000000001,
          "yanchor": "bottom",
          "yref": "paper"
         },
         {
          "font": {
           "size": 16
          },
          "showarrow": false,
          "text": "Topic 6",
          "x": 0.6375000000000001,
          "xanchor": "center",
          "xref": "paper",
          "y": 0.7250000000000001,
          "yanchor": "bottom",
          "yref": "paper"
         },
         {
          "font": {
           "size": 16
          },
          "showarrow": false,
          "text": "Topic 7",
          "x": 0.9125,
          "xanchor": "center",
          "xref": "paper",
          "y": 0.7250000000000001,
          "yanchor": "bottom",
          "yref": "paper"
         },
         {
          "font": {
           "size": 16
          },
          "showarrow": false,
          "text": "Topic 8",
          "x": 0.0875,
          "xanchor": "center",
          "xref": "paper",
          "y": 0.45,
          "yanchor": "bottom",
          "yref": "paper"
         },
         {
          "font": {
           "size": 16
          },
          "showarrow": false,
          "text": "Topic 9",
          "x": 0.36250000000000004,
          "xanchor": "center",
          "xref": "paper",
          "y": 0.45,
          "yanchor": "bottom",
          "yref": "paper"
         },
         {
          "font": {
           "size": 16
          },
          "showarrow": false,
          "text": "Topic 10",
          "x": 0.6375000000000001,
          "xanchor": "center",
          "xref": "paper",
          "y": 0.45,
          "yanchor": "bottom",
          "yref": "paper"
         },
         {
          "font": {
           "size": 16
          },
          "showarrow": false,
          "text": "Topic 11",
          "x": 0.9125,
          "xanchor": "center",
          "xref": "paper",
          "y": 0.45,
          "yanchor": "bottom",
          "yref": "paper"
         },
         {
          "font": {
           "size": 16
          },
          "showarrow": false,
          "text": "Topic 12",
          "x": 0.0875,
          "xanchor": "center",
          "xref": "paper",
          "y": 0.175,
          "yanchor": "bottom",
          "yref": "paper"
         },
         {
          "font": {
           "size": 16
          },
          "showarrow": false,
          "text": "Topic 13",
          "x": 0.36250000000000004,
          "xanchor": "center",
          "xref": "paper",
          "y": 0.175,
          "yanchor": "bottom",
          "yref": "paper"
         },
         {
          "font": {
           "size": 16
          },
          "showarrow": false,
          "text": "Topic 14",
          "x": 0.6375000000000001,
          "xanchor": "center",
          "xref": "paper",
          "y": 0.175,
          "yanchor": "bottom",
          "yref": "paper"
         }
        ],
        "height": 1000,
        "hoverlabel": {
         "bgcolor": "white",
         "font": {
          "family": "Rockwell",
          "size": 16
         }
        },
        "showlegend": false,
        "template": {
         "data": {
          "bar": [
           {
            "error_x": {
             "color": "#2a3f5f"
            },
            "error_y": {
             "color": "#2a3f5f"
            },
            "marker": {
             "line": {
              "color": "white",
              "width": 0.5
             },
             "pattern": {
              "fillmode": "overlay",
              "size": 10,
              "solidity": 0.2
             }
            },
            "type": "bar"
           }
          ],
          "barpolar": [
           {
            "marker": {
             "line": {
              "color": "white",
              "width": 0.5
             },
             "pattern": {
              "fillmode": "overlay",
              "size": 10,
              "solidity": 0.2
             }
            },
            "type": "barpolar"
           }
          ],
          "carpet": [
           {
            "aaxis": {
             "endlinecolor": "#2a3f5f",
             "gridcolor": "#C8D4E3",
             "linecolor": "#C8D4E3",
             "minorgridcolor": "#C8D4E3",
             "startlinecolor": "#2a3f5f"
            },
            "baxis": {
             "endlinecolor": "#2a3f5f",
             "gridcolor": "#C8D4E3",
             "linecolor": "#C8D4E3",
             "minorgridcolor": "#C8D4E3",
             "startlinecolor": "#2a3f5f"
            },
            "type": "carpet"
           }
          ],
          "choropleth": [
           {
            "colorbar": {
             "outlinewidth": 0,
             "ticks": ""
            },
            "type": "choropleth"
           }
          ],
          "contour": [
           {
            "colorbar": {
             "outlinewidth": 0,
             "ticks": ""
            },
            "colorscale": [
             [
              0,
              "#0d0887"
             ],
             [
              0.1111111111111111,
              "#46039f"
             ],
             [
              0.2222222222222222,
              "#7201a8"
             ],
             [
              0.3333333333333333,
              "#9c179e"
             ],
             [
              0.4444444444444444,
              "#bd3786"
             ],
             [
              0.5555555555555556,
              "#d8576b"
             ],
             [
              0.6666666666666666,
              "#ed7953"
             ],
             [
              0.7777777777777778,
              "#fb9f3a"
             ],
             [
              0.8888888888888888,
              "#fdca26"
             ],
             [
              1,
              "#f0f921"
             ]
            ],
            "type": "contour"
           }
          ],
          "contourcarpet": [
           {
            "colorbar": {
             "outlinewidth": 0,
             "ticks": ""
            },
            "type": "contourcarpet"
           }
          ],
          "heatmap": [
           {
            "colorbar": {
             "outlinewidth": 0,
             "ticks": ""
            },
            "colorscale": [
             [
              0,
              "#0d0887"
             ],
             [
              0.1111111111111111,
              "#46039f"
             ],
             [
              0.2222222222222222,
              "#7201a8"
             ],
             [
              0.3333333333333333,
              "#9c179e"
             ],
             [
              0.4444444444444444,
              "#bd3786"
             ],
             [
              0.5555555555555556,
              "#d8576b"
             ],
             [
              0.6666666666666666,
              "#ed7953"
             ],
             [
              0.7777777777777778,
              "#fb9f3a"
             ],
             [
              0.8888888888888888,
              "#fdca26"
             ],
             [
              1,
              "#f0f921"
             ]
            ],
            "type": "heatmap"
           }
          ],
          "histogram": [
           {
            "marker": {
             "pattern": {
              "fillmode": "overlay",
              "size": 10,
              "solidity": 0.2
             }
            },
            "type": "histogram"
           }
          ],
          "histogram2d": [
           {
            "colorbar": {
             "outlinewidth": 0,
             "ticks": ""
            },
            "colorscale": [
             [
              0,
              "#0d0887"
             ],
             [
              0.1111111111111111,
              "#46039f"
             ],
             [
              0.2222222222222222,
              "#7201a8"
             ],
             [
              0.3333333333333333,
              "#9c179e"
             ],
             [
              0.4444444444444444,
              "#bd3786"
             ],
             [
              0.5555555555555556,
              "#d8576b"
             ],
             [
              0.6666666666666666,
              "#ed7953"
             ],
             [
              0.7777777777777778,
              "#fb9f3a"
             ],
             [
              0.8888888888888888,
              "#fdca26"
             ],
             [
              1,
              "#f0f921"
             ]
            ],
            "type": "histogram2d"
           }
          ],
          "histogram2dcontour": [
           {
            "colorbar": {
             "outlinewidth": 0,
             "ticks": ""
            },
            "colorscale": [
             [
              0,
              "#0d0887"
             ],
             [
              0.1111111111111111,
              "#46039f"
             ],
             [
              0.2222222222222222,
              "#7201a8"
             ],
             [
              0.3333333333333333,
              "#9c179e"
             ],
             [
              0.4444444444444444,
              "#bd3786"
             ],
             [
              0.5555555555555556,
              "#d8576b"
             ],
             [
              0.6666666666666666,
              "#ed7953"
             ],
             [
              0.7777777777777778,
              "#fb9f3a"
             ],
             [
              0.8888888888888888,
              "#fdca26"
             ],
             [
              1,
              "#f0f921"
             ]
            ],
            "type": "histogram2dcontour"
           }
          ],
          "mesh3d": [
           {
            "colorbar": {
             "outlinewidth": 0,
             "ticks": ""
            },
            "type": "mesh3d"
           }
          ],
          "parcoords": [
           {
            "line": {
             "colorbar": {
              "outlinewidth": 0,
              "ticks": ""
             }
            },
            "type": "parcoords"
           }
          ],
          "pie": [
           {
            "automargin": true,
            "type": "pie"
           }
          ],
          "scatter": [
           {
            "fillpattern": {
             "fillmode": "overlay",
             "size": 10,
             "solidity": 0.2
            },
            "type": "scatter"
           }
          ],
          "scatter3d": [
           {
            "line": {
             "colorbar": {
              "outlinewidth": 0,
              "ticks": ""
             }
            },
            "marker": {
             "colorbar": {
              "outlinewidth": 0,
              "ticks": ""
             }
            },
            "type": "scatter3d"
           }
          ],
          "scattercarpet": [
           {
            "marker": {
             "colorbar": {
              "outlinewidth": 0,
              "ticks": ""
             }
            },
            "type": "scattercarpet"
           }
          ],
          "scattergeo": [
           {
            "marker": {
             "colorbar": {
              "outlinewidth": 0,
              "ticks": ""
             }
            },
            "type": "scattergeo"
           }
          ],
          "scattergl": [
           {
            "marker": {
             "colorbar": {
              "outlinewidth": 0,
              "ticks": ""
             }
            },
            "type": "scattergl"
           }
          ],
          "scattermap": [
           {
            "marker": {
             "colorbar": {
              "outlinewidth": 0,
              "ticks": ""
             }
            },
            "type": "scattermap"
           }
          ],
          "scattermapbox": [
           {
            "marker": {
             "colorbar": {
              "outlinewidth": 0,
              "ticks": ""
             }
            },
            "type": "scattermapbox"
           }
          ],
          "scatterpolar": [
           {
            "marker": {
             "colorbar": {
              "outlinewidth": 0,
              "ticks": ""
             }
            },
            "type": "scatterpolar"
           }
          ],
          "scatterpolargl": [
           {
            "marker": {
             "colorbar": {
              "outlinewidth": 0,
              "ticks": ""
             }
            },
            "type": "scatterpolargl"
           }
          ],
          "scatterternary": [
           {
            "marker": {
             "colorbar": {
              "outlinewidth": 0,
              "ticks": ""
             }
            },
            "type": "scatterternary"
           }
          ],
          "surface": [
           {
            "colorbar": {
             "outlinewidth": 0,
             "ticks": ""
            },
            "colorscale": [
             [
              0,
              "#0d0887"
             ],
             [
              0.1111111111111111,
              "#46039f"
             ],
             [
              0.2222222222222222,
              "#7201a8"
             ],
             [
              0.3333333333333333,
              "#9c179e"
             ],
             [
              0.4444444444444444,
              "#bd3786"
             ],
             [
              0.5555555555555556,
              "#d8576b"
             ],
             [
              0.6666666666666666,
              "#ed7953"
             ],
             [
              0.7777777777777778,
              "#fb9f3a"
             ],
             [
              0.8888888888888888,
              "#fdca26"
             ],
             [
              1,
              "#f0f921"
             ]
            ],
            "type": "surface"
           }
          ],
          "table": [
           {
            "cells": {
             "fill": {
              "color": "#EBF0F8"
             },
             "line": {
              "color": "white"
             }
            },
            "header": {
             "fill": {
              "color": "#C8D4E3"
             },
             "line": {
              "color": "white"
             }
            },
            "type": "table"
           }
          ]
         },
         "layout": {
          "annotationdefaults": {
           "arrowcolor": "#2a3f5f",
           "arrowhead": 0,
           "arrowwidth": 1
          },
          "autotypenumbers": "strict",
          "coloraxis": {
           "colorbar": {
            "outlinewidth": 0,
            "ticks": ""
           }
          },
          "colorscale": {
           "diverging": [
            [
             0,
             "#8e0152"
            ],
            [
             0.1,
             "#c51b7d"
            ],
            [
             0.2,
             "#de77ae"
            ],
            [
             0.3,
             "#f1b6da"
            ],
            [
             0.4,
             "#fde0ef"
            ],
            [
             0.5,
             "#f7f7f7"
            ],
            [
             0.6,
             "#e6f5d0"
            ],
            [
             0.7,
             "#b8e186"
            ],
            [
             0.8,
             "#7fbc41"
            ],
            [
             0.9,
             "#4d9221"
            ],
            [
             1,
             "#276419"
            ]
           ],
           "sequential": [
            [
             0,
             "#0d0887"
            ],
            [
             0.1111111111111111,
             "#46039f"
            ],
            [
             0.2222222222222222,
             "#7201a8"
            ],
            [
             0.3333333333333333,
             "#9c179e"
            ],
            [
             0.4444444444444444,
             "#bd3786"
            ],
            [
             0.5555555555555556,
             "#d8576b"
            ],
            [
             0.6666666666666666,
             "#ed7953"
            ],
            [
             0.7777777777777778,
             "#fb9f3a"
            ],
            [
             0.8888888888888888,
             "#fdca26"
            ],
            [
             1,
             "#f0f921"
            ]
           ],
           "sequentialminus": [
            [
             0,
             "#0d0887"
            ],
            [
             0.1111111111111111,
             "#46039f"
            ],
            [
             0.2222222222222222,
             "#7201a8"
            ],
            [
             0.3333333333333333,
             "#9c179e"
            ],
            [
             0.4444444444444444,
             "#bd3786"
            ],
            [
             0.5555555555555556,
             "#d8576b"
            ],
            [
             0.6666666666666666,
             "#ed7953"
            ],
            [
             0.7777777777777778,
             "#fb9f3a"
            ],
            [
             0.8888888888888888,
             "#fdca26"
            ],
            [
             1,
             "#f0f921"
            ]
           ]
          },
          "colorway": [
           "#636efa",
           "#EF553B",
           "#00cc96",
           "#ab63fa",
           "#FFA15A",
           "#19d3f3",
           "#FF6692",
           "#B6E880",
           "#FF97FF",
           "#FECB52"
          ],
          "font": {
           "color": "#2a3f5f"
          },
          "geo": {
           "bgcolor": "white",
           "lakecolor": "white",
           "landcolor": "white",
           "showlakes": true,
           "showland": true,
           "subunitcolor": "#C8D4E3"
          },
          "hoverlabel": {
           "align": "left"
          },
          "hovermode": "closest",
          "mapbox": {
           "style": "light"
          },
          "paper_bgcolor": "white",
          "plot_bgcolor": "white",
          "polar": {
           "angularaxis": {
            "gridcolor": "#EBF0F8",
            "linecolor": "#EBF0F8",
            "ticks": ""
           },
           "bgcolor": "white",
           "radialaxis": {
            "gridcolor": "#EBF0F8",
            "linecolor": "#EBF0F8",
            "ticks": ""
           }
          },
          "scene": {
           "xaxis": {
            "backgroundcolor": "white",
            "gridcolor": "#DFE8F3",
            "gridwidth": 2,
            "linecolor": "#EBF0F8",
            "showbackground": true,
            "ticks": "",
            "zerolinecolor": "#EBF0F8"
           },
           "yaxis": {
            "backgroundcolor": "white",
            "gridcolor": "#DFE8F3",
            "gridwidth": 2,
            "linecolor": "#EBF0F8",
            "showbackground": true,
            "ticks": "",
            "zerolinecolor": "#EBF0F8"
           },
           "zaxis": {
            "backgroundcolor": "white",
            "gridcolor": "#DFE8F3",
            "gridwidth": 2,
            "linecolor": "#EBF0F8",
            "showbackground": true,
            "ticks": "",
            "zerolinecolor": "#EBF0F8"
           }
          },
          "shapedefaults": {
           "line": {
            "color": "#2a3f5f"
           }
          },
          "ternary": {
           "aaxis": {
            "gridcolor": "#DFE8F3",
            "linecolor": "#A2B1C6",
            "ticks": ""
           },
           "baxis": {
            "gridcolor": "#DFE8F3",
            "linecolor": "#A2B1C6",
            "ticks": ""
           },
           "bgcolor": "white",
           "caxis": {
            "gridcolor": "#DFE8F3",
            "linecolor": "#A2B1C6",
            "ticks": ""
           }
          },
          "title": {
           "x": 0.05
          },
          "xaxis": {
           "automargin": true,
           "gridcolor": "#EBF0F8",
           "linecolor": "#EBF0F8",
           "ticks": "",
           "title": {
            "standoff": 15
           },
           "zerolinecolor": "#EBF0F8",
           "zerolinewidth": 2
          },
          "yaxis": {
           "automargin": true,
           "gridcolor": "#EBF0F8",
           "linecolor": "#EBF0F8",
           "ticks": "",
           "title": {
            "standoff": 15
           },
           "zerolinecolor": "#EBF0F8",
           "zerolinewidth": 2
          }
         }
        },
        "title": {
         "font": {
          "color": "Black",
          "size": 22
         },
         "text": "Topic Word Scores",
         "x": 0.5,
         "xanchor": "center",
         "yanchor": "top"
        },
        "width": 1000,
        "xaxis": {
         "anchor": "y",
         "domain": [
          0,
          0.175
         ],
         "showgrid": true
        },
        "xaxis10": {
         "anchor": "y10",
         "domain": [
          0.275,
          0.45
         ],
         "showgrid": true
        },
        "xaxis11": {
         "anchor": "y11",
         "domain": [
          0.55,
          0.7250000000000001
         ],
         "showgrid": true
        },
        "xaxis12": {
         "anchor": "y12",
         "domain": [
          0.825,
          1
         ],
         "showgrid": true
        },
        "xaxis13": {
         "anchor": "y13",
         "domain": [
          0,
          0.175
         ],
         "showgrid": true
        },
        "xaxis14": {
         "anchor": "y14",
         "domain": [
          0.275,
          0.45
         ],
         "showgrid": true
        },
        "xaxis15": {
         "anchor": "y15",
         "domain": [
          0.55,
          0.7250000000000001
         ],
         "showgrid": true
        },
        "xaxis16": {
         "anchor": "y16",
         "domain": [
          0.825,
          1
         ],
         "showgrid": true
        },
        "xaxis2": {
         "anchor": "y2",
         "domain": [
          0.275,
          0.45
         ],
         "showgrid": true
        },
        "xaxis3": {
         "anchor": "y3",
         "domain": [
          0.55,
          0.7250000000000001
         ],
         "showgrid": true
        },
        "xaxis4": {
         "anchor": "y4",
         "domain": [
          0.825,
          1
         ],
         "showgrid": true
        },
        "xaxis5": {
         "anchor": "y5",
         "domain": [
          0,
          0.175
         ],
         "showgrid": true
        },
        "xaxis6": {
         "anchor": "y6",
         "domain": [
          0.275,
          0.45
         ],
         "showgrid": true
        },
        "xaxis7": {
         "anchor": "y7",
         "domain": [
          0.55,
          0.7250000000000001
         ],
         "showgrid": true
        },
        "xaxis8": {
         "anchor": "y8",
         "domain": [
          0.825,
          1
         ],
         "showgrid": true
        },
        "xaxis9": {
         "anchor": "y9",
         "domain": [
          0,
          0.175
         ],
         "showgrid": true
        },
        "yaxis": {
         "anchor": "x",
         "domain": [
          0.825,
          1
         ],
         "showgrid": true
        },
        "yaxis10": {
         "anchor": "x10",
         "domain": [
          0.275,
          0.45
         ],
         "showgrid": true
        },
        "yaxis11": {
         "anchor": "x11",
         "domain": [
          0.275,
          0.45
         ],
         "showgrid": true
        },
        "yaxis12": {
         "anchor": "x12",
         "domain": [
          0.275,
          0.45
         ],
         "showgrid": true
        },
        "yaxis13": {
         "anchor": "x13",
         "domain": [
          0,
          0.175
         ],
         "showgrid": true
        },
        "yaxis14": {
         "anchor": "x14",
         "domain": [
          0,
          0.175
         ],
         "showgrid": true
        },
        "yaxis15": {
         "anchor": "x15",
         "domain": [
          0,
          0.175
         ],
         "showgrid": true
        },
        "yaxis16": {
         "anchor": "x16",
         "domain": [
          0,
          0.175
         ],
         "showgrid": true
        },
        "yaxis2": {
         "anchor": "x2",
         "domain": [
          0.825,
          1
         ],
         "showgrid": true
        },
        "yaxis3": {
         "anchor": "x3",
         "domain": [
          0.825,
          1
         ],
         "showgrid": true
        },
        "yaxis4": {
         "anchor": "x4",
         "domain": [
          0.825,
          1
         ],
         "showgrid": true
        },
        "yaxis5": {
         "anchor": "x5",
         "domain": [
          0.55,
          0.7250000000000001
         ],
         "showgrid": true
        },
        "yaxis6": {
         "anchor": "x6",
         "domain": [
          0.55,
          0.7250000000000001
         ],
         "showgrid": true
        },
        "yaxis7": {
         "anchor": "x7",
         "domain": [
          0.55,
          0.7250000000000001
         ],
         "showgrid": true
        },
        "yaxis8": {
         "anchor": "x8",
         "domain": [
          0.55,
          0.7250000000000001
         ],
         "showgrid": true
        },
        "yaxis9": {
         "anchor": "x9",
         "domain": [
          0.275,
          0.45
         ],
         "showgrid": true
        }
       }
      },
      "text/html": [
       "<div>                        <script type=\"text/javascript\">window.PlotlyConfig = {MathJaxConfig: 'local'};</script>\n",
       "        <script charset=\"utf-8\" src=\"https://cdn.plot.ly/plotly-3.0.1.min.js\"></script>                <div id=\"8ccd2df4-668e-44a0-97b8-dceca3dd0e52\" class=\"plotly-graph-div\" style=\"height:1000px; width:1000px;\"></div>            <script type=\"text/javascript\">                window.PLOTLYENV=window.PLOTLYENV || {};                                if (document.getElementById(\"8ccd2df4-668e-44a0-97b8-dceca3dd0e52\")) {                    Plotly.newPlot(                        \"8ccd2df4-668e-44a0-97b8-dceca3dd0e52\",                        [{\"marker\":{\"color\":\"#D55E00\"},\"orientation\":\"h\",\"x\":[0.02157002575293172,0.022511897939696122,0.022999731988196617,0.03637419656866257,0.1537778624996075],\"y\":[\"jokowi  \",\"orang  \",\"dukung  \",\"gibran  \",\"prabowo  \"],\"type\":\"bar\",\"xaxis\":\"x\",\"yaxis\":\"y\"},{\"marker\":{\"color\":\"#0072B2\"},\"orientation\":\"h\",\"x\":[0.022527001943444126,0.022783173581615072,0.02349582176145096,0.035369486444867086,0.08621333534597744],\"y\":[\"jokowi  \",\"orang  \",\"menang  \",\"gibran  \",\"prabowo  \"],\"type\":\"bar\",\"xaxis\":\"x2\",\"yaxis\":\"y2\"},{\"marker\":{\"color\":\"#CC79A7\"},\"orientation\":\"h\",\"x\":[0.0236106253024134,0.02639760647336985,0.03854952866626825,0.04270501963526907,0.06086855409374326],\"y\":[\"pilih  \",\"pasang  \",\"dukung  \",\"orang  \",\"02  \"],\"type\":\"bar\",\"xaxis\":\"x3\",\"yaxis\":\"y3\"},{\"marker\":{\"color\":\"#E69F00\"},\"orientation\":\"h\",\"x\":[0.02608581430326582,0.02939976801195413,0.03669365230017733,0.05164785732427692,0.09832469893794103],\"y\":[\"calon  \",\"pilih  \",\"pasang  \",\"dukung  \",\"02  \"],\"type\":\"bar\",\"xaxis\":\"x4\",\"yaxis\":\"y4\"},{\"marker\":{\"color\":\"#56B4E9\"},\"orientation\":\"h\",\"x\":[0.018675880920272964,0.03681139975224698,0.03686097941223856,0.060310030919203866,0.17103010684744294],\"y\":[\"banget  \",\"buzzer  \",\"pilih  \",\"dukung  \",\"02  \"],\"type\":\"bar\",\"xaxis\":\"x5\",\"yaxis\":\"y5\"},{\"marker\":{\"color\":\"#009E73\"},\"orientation\":\"h\",\"x\":[0.0336720330941432,0.03605039919159745,0.04096755697022014,0.04631079876923086,0.06668982706535977],\"y\":[\"kerja  \",\"indonesia  \",\"agama  \",\"kampanye  \",\"02  \"],\"type\":\"bar\",\"xaxis\":\"x6\",\"yaxis\":\"y6\"},{\"marker\":{\"color\":\"#F0E442\"},\"orientation\":\"h\",\"x\":[0.03272417877670968,0.04205940571338859,0.044160604099783236,0.06443767299101417,0.06592451537303817],\"y\":[\"video  \",\"survei  \",\"suara  \",\"02  \",\"kayak  \"],\"type\":\"bar\",\"xaxis\":\"x7\",\"yaxis\":\"y7\"},{\"marker\":{\"color\":\"#D55E00\"},\"orientation\":\"h\",\"x\":[0.060052657231724586,0.06294257834685688,0.06874355141964165,0.06952840268637189,0.07072482459580468],\"y\":[\"indonesia  \",\"prabowo  \",\"raka  \",\"rakabuming  \",\"gibran  \"],\"type\":\"bar\",\"xaxis\":\"x8\",\"yaxis\":\"y8\"},{\"marker\":{\"color\":\"#0072B2\"},\"orientation\":\"h\",\"x\":[0.038960334018858754,0.052678717566177286,0.06050589241932973,0.10385702562868596,0.1479025378710047],\"y\":[\"pilih  \",\"02  \",\"wakil  \",\"calon  \",\"presiden  \"],\"type\":\"bar\",\"xaxis\":\"x9\",\"yaxis\":\"y9\"},{\"marker\":{\"color\":\"#CC79A7\"},\"orientation\":\"h\",\"x\":[0.03784350628317558,0.04179602738532244,0.04847688987537243,0.05261004344496173,0.1354409228225501],\"y\":[\"gratis  \",\"calon  \",\"program  \",\"02  \",\"debat  \"],\"type\":\"bar\",\"xaxis\":\"x10\",\"yaxis\":\"y10\"},{\"marker\":{\"color\":\"#E69F00\"},\"orientation\":\"h\",\"x\":[0.04791725588904585,0.06163136379068181,0.06278963928855695,0.07290837245864708,0.1527312290190616],\"y\":[\"wakil  \",\"pilih  \",\"calon  \",\"prabowo  \",\"presiden  \"],\"type\":\"bar\",\"xaxis\":\"x11\",\"yaxis\":\"y11\"},{\"marker\":{\"color\":\"#56B4E9\"},\"orientation\":\"h\",\"x\":[0.04559789602940689,0.04880333275715046,0.061012031002670795,0.08340188947794182,0.14650399730432176],\"y\":[\"gara  \",\"panik  \",\"teman  \",\"02  \",\"menang  \"],\"type\":\"bar\",\"xaxis\":\"x12\",\"yaxis\":\"y12\"},{\"marker\":{\"color\":\"#009E73\"},\"orientation\":\"h\",\"x\":[0.040887624960181605,0.05195270810843981,0.060846711669930546,0.06365922161516108,0.13312281655646915],\"y\":[\"02  \",\"polisi  \",\"palestina  \",\"israel  \",\"politik  \"],\"type\":\"bar\",\"xaxis\":\"x13\",\"yaxis\":\"y13\"},{\"marker\":{\"color\":\"#F0E442\"},\"orientation\":\"h\",\"x\":[0.07245350167450597,0.08125795306447257,0.09272514756300058,0.11575624624264988,0.1909832933543296],\"y\":[\"demokrat  \",\"indonesia  \",\"juang  \",\"partai  \",\"demokrasi  \"],\"type\":\"bar\",\"xaxis\":\"x14\",\"yaxis\":\"y14\"},{\"marker\":{\"color\":\"#D55E00\"},\"orientation\":\"h\",\"x\":[0.05064981079212586,0.05146096697513196,0.062054788274355226,0.0657479370121362,0.20581389017991408],\"y\":[\"gibran  \",\"calon  \",\"presiden  \",\"prabowo  \",\"debat  \"],\"type\":\"bar\",\"xaxis\":\"x15\",\"yaxis\":\"y15\"}],                        {\"template\":{\"data\":{\"barpolar\":[{\"marker\":{\"line\":{\"color\":\"white\",\"width\":0.5},\"pattern\":{\"fillmode\":\"overlay\",\"size\":10,\"solidity\":0.2}},\"type\":\"barpolar\"}],\"bar\":[{\"error_x\":{\"color\":\"#2a3f5f\"},\"error_y\":{\"color\":\"#2a3f5f\"},\"marker\":{\"line\":{\"color\":\"white\",\"width\":0.5},\"pattern\":{\"fillmode\":\"overlay\",\"size\":10,\"solidity\":0.2}},\"type\":\"bar\"}],\"carpet\":[{\"aaxis\":{\"endlinecolor\":\"#2a3f5f\",\"gridcolor\":\"#C8D4E3\",\"linecolor\":\"#C8D4E3\",\"minorgridcolor\":\"#C8D4E3\",\"startlinecolor\":\"#2a3f5f\"},\"baxis\":{\"endlinecolor\":\"#2a3f5f\",\"gridcolor\":\"#C8D4E3\",\"linecolor\":\"#C8D4E3\",\"minorgridcolor\":\"#C8D4E3\",\"startlinecolor\":\"#2a3f5f\"},\"type\":\"carpet\"}],\"choropleth\":[{\"colorbar\":{\"outlinewidth\":0,\"ticks\":\"\"},\"type\":\"choropleth\"}],\"contourcarpet\":[{\"colorbar\":{\"outlinewidth\":0,\"ticks\":\"\"},\"type\":\"contourcarpet\"}],\"contour\":[{\"colorbar\":{\"outlinewidth\":0,\"ticks\":\"\"},\"colorscale\":[[0.0,\"#0d0887\"],[0.1111111111111111,\"#46039f\"],[0.2222222222222222,\"#7201a8\"],[0.3333333333333333,\"#9c179e\"],[0.4444444444444444,\"#bd3786\"],[0.5555555555555556,\"#d8576b\"],[0.6666666666666666,\"#ed7953\"],[0.7777777777777778,\"#fb9f3a\"],[0.8888888888888888,\"#fdca26\"],[1.0,\"#f0f921\"]],\"type\":\"contour\"}],\"heatmap\":[{\"colorbar\":{\"outlinewidth\":0,\"ticks\":\"\"},\"colorscale\":[[0.0,\"#0d0887\"],[0.1111111111111111,\"#46039f\"],[0.2222222222222222,\"#7201a8\"],[0.3333333333333333,\"#9c179e\"],[0.4444444444444444,\"#bd3786\"],[0.5555555555555556,\"#d8576b\"],[0.6666666666666666,\"#ed7953\"],[0.7777777777777778,\"#fb9f3a\"],[0.8888888888888888,\"#fdca26\"],[1.0,\"#f0f921\"]],\"type\":\"heatmap\"}],\"histogram2dcontour\":[{\"colorbar\":{\"outlinewidth\":0,\"ticks\":\"\"},\"colorscale\":[[0.0,\"#0d0887\"],[0.1111111111111111,\"#46039f\"],[0.2222222222222222,\"#7201a8\"],[0.3333333333333333,\"#9c179e\"],[0.4444444444444444,\"#bd3786\"],[0.5555555555555556,\"#d8576b\"],[0.6666666666666666,\"#ed7953\"],[0.7777777777777778,\"#fb9f3a\"],[0.8888888888888888,\"#fdca26\"],[1.0,\"#f0f921\"]],\"type\":\"histogram2dcontour\"}],\"histogram2d\":[{\"colorbar\":{\"outlinewidth\":0,\"ticks\":\"\"},\"colorscale\":[[0.0,\"#0d0887\"],[0.1111111111111111,\"#46039f\"],[0.2222222222222222,\"#7201a8\"],[0.3333333333333333,\"#9c179e\"],[0.4444444444444444,\"#bd3786\"],[0.5555555555555556,\"#d8576b\"],[0.6666666666666666,\"#ed7953\"],[0.7777777777777778,\"#fb9f3a\"],[0.8888888888888888,\"#fdca26\"],[1.0,\"#f0f921\"]],\"type\":\"histogram2d\"}],\"histogram\":[{\"marker\":{\"pattern\":{\"fillmode\":\"overlay\",\"size\":10,\"solidity\":0.2}},\"type\":\"histogram\"}],\"mesh3d\":[{\"colorbar\":{\"outlinewidth\":0,\"ticks\":\"\"},\"type\":\"mesh3d\"}],\"parcoords\":[{\"line\":{\"colorbar\":{\"outlinewidth\":0,\"ticks\":\"\"}},\"type\":\"parcoords\"}],\"pie\":[{\"automargin\":true,\"type\":\"pie\"}],\"scatter3d\":[{\"line\":{\"colorbar\":{\"outlinewidth\":0,\"ticks\":\"\"}},\"marker\":{\"colorbar\":{\"outlinewidth\":0,\"ticks\":\"\"}},\"type\":\"scatter3d\"}],\"scattercarpet\":[{\"marker\":{\"colorbar\":{\"outlinewidth\":0,\"ticks\":\"\"}},\"type\":\"scattercarpet\"}],\"scattergeo\":[{\"marker\":{\"colorbar\":{\"outlinewidth\":0,\"ticks\":\"\"}},\"type\":\"scattergeo\"}],\"scattergl\":[{\"marker\":{\"colorbar\":{\"outlinewidth\":0,\"ticks\":\"\"}},\"type\":\"scattergl\"}],\"scattermapbox\":[{\"marker\":{\"colorbar\":{\"outlinewidth\":0,\"ticks\":\"\"}},\"type\":\"scattermapbox\"}],\"scattermap\":[{\"marker\":{\"colorbar\":{\"outlinewidth\":0,\"ticks\":\"\"}},\"type\":\"scattermap\"}],\"scatterpolargl\":[{\"marker\":{\"colorbar\":{\"outlinewidth\":0,\"ticks\":\"\"}},\"type\":\"scatterpolargl\"}],\"scatterpolar\":[{\"marker\":{\"colorbar\":{\"outlinewidth\":0,\"ticks\":\"\"}},\"type\":\"scatterpolar\"}],\"scatter\":[{\"fillpattern\":{\"fillmode\":\"overlay\",\"size\":10,\"solidity\":0.2},\"type\":\"scatter\"}],\"scatterternary\":[{\"marker\":{\"colorbar\":{\"outlinewidth\":0,\"ticks\":\"\"}},\"type\":\"scatterternary\"}],\"surface\":[{\"colorbar\":{\"outlinewidth\":0,\"ticks\":\"\"},\"colorscale\":[[0.0,\"#0d0887\"],[0.1111111111111111,\"#46039f\"],[0.2222222222222222,\"#7201a8\"],[0.3333333333333333,\"#9c179e\"],[0.4444444444444444,\"#bd3786\"],[0.5555555555555556,\"#d8576b\"],[0.6666666666666666,\"#ed7953\"],[0.7777777777777778,\"#fb9f3a\"],[0.8888888888888888,\"#fdca26\"],[1.0,\"#f0f921\"]],\"type\":\"surface\"}],\"table\":[{\"cells\":{\"fill\":{\"color\":\"#EBF0F8\"},\"line\":{\"color\":\"white\"}},\"header\":{\"fill\":{\"color\":\"#C8D4E3\"},\"line\":{\"color\":\"white\"}},\"type\":\"table\"}]},\"layout\":{\"annotationdefaults\":{\"arrowcolor\":\"#2a3f5f\",\"arrowhead\":0,\"arrowwidth\":1},\"autotypenumbers\":\"strict\",\"coloraxis\":{\"colorbar\":{\"outlinewidth\":0,\"ticks\":\"\"}},\"colorscale\":{\"diverging\":[[0,\"#8e0152\"],[0.1,\"#c51b7d\"],[0.2,\"#de77ae\"],[0.3,\"#f1b6da\"],[0.4,\"#fde0ef\"],[0.5,\"#f7f7f7\"],[0.6,\"#e6f5d0\"],[0.7,\"#b8e186\"],[0.8,\"#7fbc41\"],[0.9,\"#4d9221\"],[1,\"#276419\"]],\"sequential\":[[0.0,\"#0d0887\"],[0.1111111111111111,\"#46039f\"],[0.2222222222222222,\"#7201a8\"],[0.3333333333333333,\"#9c179e\"],[0.4444444444444444,\"#bd3786\"],[0.5555555555555556,\"#d8576b\"],[0.6666666666666666,\"#ed7953\"],[0.7777777777777778,\"#fb9f3a\"],[0.8888888888888888,\"#fdca26\"],[1.0,\"#f0f921\"]],\"sequentialminus\":[[0.0,\"#0d0887\"],[0.1111111111111111,\"#46039f\"],[0.2222222222222222,\"#7201a8\"],[0.3333333333333333,\"#9c179e\"],[0.4444444444444444,\"#bd3786\"],[0.5555555555555556,\"#d8576b\"],[0.6666666666666666,\"#ed7953\"],[0.7777777777777778,\"#fb9f3a\"],[0.8888888888888888,\"#fdca26\"],[1.0,\"#f0f921\"]]},\"colorway\":[\"#636efa\",\"#EF553B\",\"#00cc96\",\"#ab63fa\",\"#FFA15A\",\"#19d3f3\",\"#FF6692\",\"#B6E880\",\"#FF97FF\",\"#FECB52\"],\"font\":{\"color\":\"#2a3f5f\"},\"geo\":{\"bgcolor\":\"white\",\"lakecolor\":\"white\",\"landcolor\":\"white\",\"showlakes\":true,\"showland\":true,\"subunitcolor\":\"#C8D4E3\"},\"hoverlabel\":{\"align\":\"left\"},\"hovermode\":\"closest\",\"mapbox\":{\"style\":\"light\"},\"paper_bgcolor\":\"white\",\"plot_bgcolor\":\"white\",\"polar\":{\"angularaxis\":{\"gridcolor\":\"#EBF0F8\",\"linecolor\":\"#EBF0F8\",\"ticks\":\"\"},\"bgcolor\":\"white\",\"radialaxis\":{\"gridcolor\":\"#EBF0F8\",\"linecolor\":\"#EBF0F8\",\"ticks\":\"\"}},\"scene\":{\"xaxis\":{\"backgroundcolor\":\"white\",\"gridcolor\":\"#DFE8F3\",\"gridwidth\":2,\"linecolor\":\"#EBF0F8\",\"showbackground\":true,\"ticks\":\"\",\"zerolinecolor\":\"#EBF0F8\"},\"yaxis\":{\"backgroundcolor\":\"white\",\"gridcolor\":\"#DFE8F3\",\"gridwidth\":2,\"linecolor\":\"#EBF0F8\",\"showbackground\":true,\"ticks\":\"\",\"zerolinecolor\":\"#EBF0F8\"},\"zaxis\":{\"backgroundcolor\":\"white\",\"gridcolor\":\"#DFE8F3\",\"gridwidth\":2,\"linecolor\":\"#EBF0F8\",\"showbackground\":true,\"ticks\":\"\",\"zerolinecolor\":\"#EBF0F8\"}},\"shapedefaults\":{\"line\":{\"color\":\"#2a3f5f\"}},\"ternary\":{\"aaxis\":{\"gridcolor\":\"#DFE8F3\",\"linecolor\":\"#A2B1C6\",\"ticks\":\"\"},\"baxis\":{\"gridcolor\":\"#DFE8F3\",\"linecolor\":\"#A2B1C6\",\"ticks\":\"\"},\"bgcolor\":\"white\",\"caxis\":{\"gridcolor\":\"#DFE8F3\",\"linecolor\":\"#A2B1C6\",\"ticks\":\"\"}},\"title\":{\"x\":0.05},\"xaxis\":{\"automargin\":true,\"gridcolor\":\"#EBF0F8\",\"linecolor\":\"#EBF0F8\",\"ticks\":\"\",\"title\":{\"standoff\":15},\"zerolinecolor\":\"#EBF0F8\",\"zerolinewidth\":2},\"yaxis\":{\"automargin\":true,\"gridcolor\":\"#EBF0F8\",\"linecolor\":\"#EBF0F8\",\"ticks\":\"\",\"title\":{\"standoff\":15},\"zerolinecolor\":\"#EBF0F8\",\"zerolinewidth\":2}}},\"xaxis\":{\"anchor\":\"y\",\"domain\":[0.0,0.175],\"showgrid\":true},\"yaxis\":{\"anchor\":\"x\",\"domain\":[0.825,1.0],\"showgrid\":true},\"xaxis2\":{\"anchor\":\"y2\",\"domain\":[0.275,0.45],\"showgrid\":true},\"yaxis2\":{\"anchor\":\"x2\",\"domain\":[0.825,1.0],\"showgrid\":true},\"xaxis3\":{\"anchor\":\"y3\",\"domain\":[0.55,0.7250000000000001],\"showgrid\":true},\"yaxis3\":{\"anchor\":\"x3\",\"domain\":[0.825,1.0],\"showgrid\":true},\"xaxis4\":{\"anchor\":\"y4\",\"domain\":[0.825,1.0],\"showgrid\":true},\"yaxis4\":{\"anchor\":\"x4\",\"domain\":[0.825,1.0],\"showgrid\":true},\"xaxis5\":{\"anchor\":\"y5\",\"domain\":[0.0,0.175],\"showgrid\":true},\"yaxis5\":{\"anchor\":\"x5\",\"domain\":[0.55,0.7250000000000001],\"showgrid\":true},\"xaxis6\":{\"anchor\":\"y6\",\"domain\":[0.275,0.45],\"showgrid\":true},\"yaxis6\":{\"anchor\":\"x6\",\"domain\":[0.55,0.7250000000000001],\"showgrid\":true},\"xaxis7\":{\"anchor\":\"y7\",\"domain\":[0.55,0.7250000000000001],\"showgrid\":true},\"yaxis7\":{\"anchor\":\"x7\",\"domain\":[0.55,0.7250000000000001],\"showgrid\":true},\"xaxis8\":{\"anchor\":\"y8\",\"domain\":[0.825,1.0],\"showgrid\":true},\"yaxis8\":{\"anchor\":\"x8\",\"domain\":[0.55,0.7250000000000001],\"showgrid\":true},\"xaxis9\":{\"anchor\":\"y9\",\"domain\":[0.0,0.175],\"showgrid\":true},\"yaxis9\":{\"anchor\":\"x9\",\"domain\":[0.275,0.45],\"showgrid\":true},\"xaxis10\":{\"anchor\":\"y10\",\"domain\":[0.275,0.45],\"showgrid\":true},\"yaxis10\":{\"anchor\":\"x10\",\"domain\":[0.275,0.45],\"showgrid\":true},\"xaxis11\":{\"anchor\":\"y11\",\"domain\":[0.55,0.7250000000000001],\"showgrid\":true},\"yaxis11\":{\"anchor\":\"x11\",\"domain\":[0.275,0.45],\"showgrid\":true},\"xaxis12\":{\"anchor\":\"y12\",\"domain\":[0.825,1.0],\"showgrid\":true},\"yaxis12\":{\"anchor\":\"x12\",\"domain\":[0.275,0.45],\"showgrid\":true},\"xaxis13\":{\"anchor\":\"y13\",\"domain\":[0.0,0.175],\"showgrid\":true},\"yaxis13\":{\"anchor\":\"x13\",\"domain\":[0.0,0.175],\"showgrid\":true},\"xaxis14\":{\"anchor\":\"y14\",\"domain\":[0.275,0.45],\"showgrid\":true},\"yaxis14\":{\"anchor\":\"x14\",\"domain\":[0.0,0.175],\"showgrid\":true},\"xaxis15\":{\"anchor\":\"y15\",\"domain\":[0.55,0.7250000000000001],\"showgrid\":true},\"yaxis15\":{\"anchor\":\"x15\",\"domain\":[0.0,0.175],\"showgrid\":true},\"xaxis16\":{\"anchor\":\"y16\",\"domain\":[0.825,1.0],\"showgrid\":true},\"yaxis16\":{\"anchor\":\"x16\",\"domain\":[0.0,0.175],\"showgrid\":true},\"annotations\":[{\"font\":{\"size\":16},\"showarrow\":false,\"text\":\"Topic 0\",\"x\":0.0875,\"xanchor\":\"center\",\"xref\":\"paper\",\"y\":1.0,\"yanchor\":\"bottom\",\"yref\":\"paper\"},{\"font\":{\"size\":16},\"showarrow\":false,\"text\":\"Topic 1\",\"x\":0.36250000000000004,\"xanchor\":\"center\",\"xref\":\"paper\",\"y\":1.0,\"yanchor\":\"bottom\",\"yref\":\"paper\"},{\"font\":{\"size\":16},\"showarrow\":false,\"text\":\"Topic 2\",\"x\":0.6375000000000001,\"xanchor\":\"center\",\"xref\":\"paper\",\"y\":1.0,\"yanchor\":\"bottom\",\"yref\":\"paper\"},{\"font\":{\"size\":16},\"showarrow\":false,\"text\":\"Topic 3\",\"x\":0.9125,\"xanchor\":\"center\",\"xref\":\"paper\",\"y\":1.0,\"yanchor\":\"bottom\",\"yref\":\"paper\"},{\"font\":{\"size\":16},\"showarrow\":false,\"text\":\"Topic 4\",\"x\":0.0875,\"xanchor\":\"center\",\"xref\":\"paper\",\"y\":0.7250000000000001,\"yanchor\":\"bottom\",\"yref\":\"paper\"},{\"font\":{\"size\":16},\"showarrow\":false,\"text\":\"Topic 5\",\"x\":0.36250000000000004,\"xanchor\":\"center\",\"xref\":\"paper\",\"y\":0.7250000000000001,\"yanchor\":\"bottom\",\"yref\":\"paper\"},{\"font\":{\"size\":16},\"showarrow\":false,\"text\":\"Topic 6\",\"x\":0.6375000000000001,\"xanchor\":\"center\",\"xref\":\"paper\",\"y\":0.7250000000000001,\"yanchor\":\"bottom\",\"yref\":\"paper\"},{\"font\":{\"size\":16},\"showarrow\":false,\"text\":\"Topic 7\",\"x\":0.9125,\"xanchor\":\"center\",\"xref\":\"paper\",\"y\":0.7250000000000001,\"yanchor\":\"bottom\",\"yref\":\"paper\"},{\"font\":{\"size\":16},\"showarrow\":false,\"text\":\"Topic 8\",\"x\":0.0875,\"xanchor\":\"center\",\"xref\":\"paper\",\"y\":0.45,\"yanchor\":\"bottom\",\"yref\":\"paper\"},{\"font\":{\"size\":16},\"showarrow\":false,\"text\":\"Topic 9\",\"x\":0.36250000000000004,\"xanchor\":\"center\",\"xref\":\"paper\",\"y\":0.45,\"yanchor\":\"bottom\",\"yref\":\"paper\"},{\"font\":{\"size\":16},\"showarrow\":false,\"text\":\"Topic 10\",\"x\":0.6375000000000001,\"xanchor\":\"center\",\"xref\":\"paper\",\"y\":0.45,\"yanchor\":\"bottom\",\"yref\":\"paper\"},{\"font\":{\"size\":16},\"showarrow\":false,\"text\":\"Topic 11\",\"x\":0.9125,\"xanchor\":\"center\",\"xref\":\"paper\",\"y\":0.45,\"yanchor\":\"bottom\",\"yref\":\"paper\"},{\"font\":{\"size\":16},\"showarrow\":false,\"text\":\"Topic 12\",\"x\":0.0875,\"xanchor\":\"center\",\"xref\":\"paper\",\"y\":0.175,\"yanchor\":\"bottom\",\"yref\":\"paper\"},{\"font\":{\"size\":16},\"showarrow\":false,\"text\":\"Topic 13\",\"x\":0.36250000000000004,\"xanchor\":\"center\",\"xref\":\"paper\",\"y\":0.175,\"yanchor\":\"bottom\",\"yref\":\"paper\"},{\"font\":{\"size\":16},\"showarrow\":false,\"text\":\"Topic 14\",\"x\":0.6375000000000001,\"xanchor\":\"center\",\"xref\":\"paper\",\"y\":0.175,\"yanchor\":\"bottom\",\"yref\":\"paper\"}],\"title\":{\"font\":{\"size\":22,\"color\":\"Black\"},\"text\":\"Topic Word Scores\",\"x\":0.5,\"xanchor\":\"center\",\"yanchor\":\"top\"},\"hoverlabel\":{\"font\":{\"size\":16,\"family\":\"Rockwell\"},\"bgcolor\":\"white\"},\"showlegend\":false,\"width\":1000,\"height\":1000},                        {\"responsive\": true}                    )                };            </script>        </div>"
      ],
      "text/plain": [
       "Figure({\n",
       "    'data': [{'marker': {'color': '#D55E00'},\n",
       "              'orientation': 'h',\n",
       "              'type': 'bar',\n",
       "              'x': [0.02157002575293172, 0.022511897939696122,\n",
       "                    0.022999731988196617, 0.03637419656866257, 0.1537778624996075],\n",
       "              'xaxis': 'x',\n",
       "              'y': [jokowi  , orang  , dukung  , gibran  , prabowo  ],\n",
       "              'yaxis': 'y'},\n",
       "             {'marker': {'color': '#0072B2'},\n",
       "              'orientation': 'h',\n",
       "              'type': 'bar',\n",
       "              'x': [0.022527001943444126, 0.022783173581615072,\n",
       "                    0.02349582176145096, 0.035369486444867086, 0.08621333534597744],\n",
       "              'xaxis': 'x2',\n",
       "              'y': [jokowi  , orang  , menang  , gibran  , prabowo  ],\n",
       "              'yaxis': 'y2'},\n",
       "             {'marker': {'color': '#CC79A7'},\n",
       "              'orientation': 'h',\n",
       "              'type': 'bar',\n",
       "              'x': [0.0236106253024134, 0.02639760647336985, 0.03854952866626825,\n",
       "                    0.04270501963526907, 0.06086855409374326],\n",
       "              'xaxis': 'x3',\n",
       "              'y': [pilih  , pasang  , dukung  , orang  , 02  ],\n",
       "              'yaxis': 'y3'},\n",
       "             {'marker': {'color': '#E69F00'},\n",
       "              'orientation': 'h',\n",
       "              'type': 'bar',\n",
       "              'x': [0.02608581430326582, 0.02939976801195413, 0.03669365230017733,\n",
       "                    0.05164785732427692, 0.09832469893794103],\n",
       "              'xaxis': 'x4',\n",
       "              'y': [calon  , pilih  , pasang  , dukung  , 02  ],\n",
       "              'yaxis': 'y4'},\n",
       "             {'marker': {'color': '#56B4E9'},\n",
       "              'orientation': 'h',\n",
       "              'type': 'bar',\n",
       "              'x': [0.018675880920272964, 0.03681139975224698,\n",
       "                    0.03686097941223856, 0.060310030919203866, 0.17103010684744294],\n",
       "              'xaxis': 'x5',\n",
       "              'y': [banget  , buzzer  , pilih  , dukung  , 02  ],\n",
       "              'yaxis': 'y5'},\n",
       "             {'marker': {'color': '#009E73'},\n",
       "              'orientation': 'h',\n",
       "              'type': 'bar',\n",
       "              'x': [0.0336720330941432, 0.03605039919159745, 0.04096755697022014,\n",
       "                    0.04631079876923086, 0.06668982706535977],\n",
       "              'xaxis': 'x6',\n",
       "              'y': [kerja  , indonesia  , agama  , kampanye  , 02  ],\n",
       "              'yaxis': 'y6'},\n",
       "             {'marker': {'color': '#F0E442'},\n",
       "              'orientation': 'h',\n",
       "              'type': 'bar',\n",
       "              'x': [0.03272417877670968, 0.04205940571338859,\n",
       "                    0.044160604099783236, 0.06443767299101417, 0.06592451537303817],\n",
       "              'xaxis': 'x7',\n",
       "              'y': [video  , survei  , suara  , 02  , kayak  ],\n",
       "              'yaxis': 'y7'},\n",
       "             {'marker': {'color': '#D55E00'},\n",
       "              'orientation': 'h',\n",
       "              'type': 'bar',\n",
       "              'x': [0.060052657231724586, 0.06294257834685688,\n",
       "                    0.06874355141964165, 0.06952840268637189, 0.07072482459580468],\n",
       "              'xaxis': 'x8',\n",
       "              'y': [indonesia  , prabowo  , raka  , rakabuming  , gibran  ],\n",
       "              'yaxis': 'y8'},\n",
       "             {'marker': {'color': '#0072B2'},\n",
       "              'orientation': 'h',\n",
       "              'type': 'bar',\n",
       "              'x': [0.038960334018858754, 0.052678717566177286,\n",
       "                    0.06050589241932973, 0.10385702562868596, 0.1479025378710047],\n",
       "              'xaxis': 'x9',\n",
       "              'y': [pilih  , 02  , wakil  , calon  , presiden  ],\n",
       "              'yaxis': 'y9'},\n",
       "             {'marker': {'color': '#CC79A7'},\n",
       "              'orientation': 'h',\n",
       "              'type': 'bar',\n",
       "              'x': [0.03784350628317558, 0.04179602738532244, 0.04847688987537243,\n",
       "                    0.05261004344496173, 0.1354409228225501],\n",
       "              'xaxis': 'x10',\n",
       "              'y': [gratis  , calon  , program  , 02  , debat  ],\n",
       "              'yaxis': 'y10'},\n",
       "             {'marker': {'color': '#E69F00'},\n",
       "              'orientation': 'h',\n",
       "              'type': 'bar',\n",
       "              'x': [0.04791725588904585, 0.06163136379068181, 0.06278963928855695,\n",
       "                    0.07290837245864708, 0.1527312290190616],\n",
       "              'xaxis': 'x11',\n",
       "              'y': [wakil  , pilih  , calon  , prabowo  , presiden  ],\n",
       "              'yaxis': 'y11'},\n",
       "             {'marker': {'color': '#56B4E9'},\n",
       "              'orientation': 'h',\n",
       "              'type': 'bar',\n",
       "              'x': [0.04559789602940689, 0.04880333275715046,\n",
       "                    0.061012031002670795, 0.08340188947794182, 0.14650399730432176],\n",
       "              'xaxis': 'x12',\n",
       "              'y': [gara  , panik  , teman  , 02  , menang  ],\n",
       "              'yaxis': 'y12'},\n",
       "             {'marker': {'color': '#009E73'},\n",
       "              'orientation': 'h',\n",
       "              'type': 'bar',\n",
       "              'x': [0.040887624960181605, 0.05195270810843981,\n",
       "                    0.060846711669930546, 0.06365922161516108, 0.13312281655646915],\n",
       "              'xaxis': 'x13',\n",
       "              'y': [02  , polisi  , palestina  , israel  , politik  ],\n",
       "              'yaxis': 'y13'},\n",
       "             {'marker': {'color': '#F0E442'},\n",
       "              'orientation': 'h',\n",
       "              'type': 'bar',\n",
       "              'x': [0.07245350167450597, 0.08125795306447257, 0.09272514756300058,\n",
       "                    0.11575624624264988, 0.1909832933543296],\n",
       "              'xaxis': 'x14',\n",
       "              'y': [demokrat  , indonesia  , juang  , partai  , demokrasi  ],\n",
       "              'yaxis': 'y14'},\n",
       "             {'marker': {'color': '#D55E00'},\n",
       "              'orientation': 'h',\n",
       "              'type': 'bar',\n",
       "              'x': [0.05064981079212586, 0.05146096697513196,\n",
       "                    0.062054788274355226, 0.0657479370121362, 0.20581389017991408],\n",
       "              'xaxis': 'x15',\n",
       "              'y': [gibran  , calon  , presiden  , prabowo  , debat  ],\n",
       "              'yaxis': 'y15'}],\n",
       "    'layout': {'annotations': [{'font': {'size': 16},\n",
       "                                'showarrow': False,\n",
       "                                'text': 'Topic 0',\n",
       "                                'x': 0.0875,\n",
       "                                'xanchor': 'center',\n",
       "                                'xref': 'paper',\n",
       "                                'y': 1.0,\n",
       "                                'yanchor': 'bottom',\n",
       "                                'yref': 'paper'},\n",
       "                               {'font': {'size': 16},\n",
       "                                'showarrow': False,\n",
       "                                'text': 'Topic 1',\n",
       "                                'x': 0.36250000000000004,\n",
       "                                'xanchor': 'center',\n",
       "                                'xref': 'paper',\n",
       "                                'y': 1.0,\n",
       "                                'yanchor': 'bottom',\n",
       "                                'yref': 'paper'},\n",
       "                               {'font': {'size': 16},\n",
       "                                'showarrow': False,\n",
       "                                'text': 'Topic 2',\n",
       "                                'x': 0.6375000000000001,\n",
       "                                'xanchor': 'center',\n",
       "                                'xref': 'paper',\n",
       "                                'y': 1.0,\n",
       "                                'yanchor': 'bottom',\n",
       "                                'yref': 'paper'},\n",
       "                               {'font': {'size': 16},\n",
       "                                'showarrow': False,\n",
       "                                'text': 'Topic 3',\n",
       "                                'x': 0.9125,\n",
       "                                'xanchor': 'center',\n",
       "                                'xref': 'paper',\n",
       "                                'y': 1.0,\n",
       "                                'yanchor': 'bottom',\n",
       "                                'yref': 'paper'},\n",
       "                               {'font': {'size': 16},\n",
       "                                'showarrow': False,\n",
       "                                'text': 'Topic 4',\n",
       "                                'x': 0.0875,\n",
       "                                'xanchor': 'center',\n",
       "                                'xref': 'paper',\n",
       "                                'y': 0.7250000000000001,\n",
       "                                'yanchor': 'bottom',\n",
       "                                'yref': 'paper'},\n",
       "                               {'font': {'size': 16},\n",
       "                                'showarrow': False,\n",
       "                                'text': 'Topic 5',\n",
       "                                'x': 0.36250000000000004,\n",
       "                                'xanchor': 'center',\n",
       "                                'xref': 'paper',\n",
       "                                'y': 0.7250000000000001,\n",
       "                                'yanchor': 'bottom',\n",
       "                                'yref': 'paper'},\n",
       "                               {'font': {'size': 16},\n",
       "                                'showarrow': False,\n",
       "                                'text': 'Topic 6',\n",
       "                                'x': 0.6375000000000001,\n",
       "                                'xanchor': 'center',\n",
       "                                'xref': 'paper',\n",
       "                                'y': 0.7250000000000001,\n",
       "                                'yanchor': 'bottom',\n",
       "                                'yref': 'paper'},\n",
       "                               {'font': {'size': 16},\n",
       "                                'showarrow': False,\n",
       "                                'text': 'Topic 7',\n",
       "                                'x': 0.9125,\n",
       "                                'xanchor': 'center',\n",
       "                                'xref': 'paper',\n",
       "                                'y': 0.7250000000000001,\n",
       "                                'yanchor': 'bottom',\n",
       "                                'yref': 'paper'},\n",
       "                               {'font': {'size': 16},\n",
       "                                'showarrow': False,\n",
       "                                'text': 'Topic 8',\n",
       "                                'x': 0.0875,\n",
       "                                'xanchor': 'center',\n",
       "                                'xref': 'paper',\n",
       "                                'y': 0.45,\n",
       "                                'yanchor': 'bottom',\n",
       "                                'yref': 'paper'},\n",
       "                               {'font': {'size': 16},\n",
       "                                'showarrow': False,\n",
       "                                'text': 'Topic 9',\n",
       "                                'x': 0.36250000000000004,\n",
       "                                'xanchor': 'center',\n",
       "                                'xref': 'paper',\n",
       "                                'y': 0.45,\n",
       "                                'yanchor': 'bottom',\n",
       "                                'yref': 'paper'},\n",
       "                               {'font': {'size': 16},\n",
       "                                'showarrow': False,\n",
       "                                'text': 'Topic 10',\n",
       "                                'x': 0.6375000000000001,\n",
       "                                'xanchor': 'center',\n",
       "                                'xref': 'paper',\n",
       "                                'y': 0.45,\n",
       "                                'yanchor': 'bottom',\n",
       "                                'yref': 'paper'},\n",
       "                               {'font': {'size': 16},\n",
       "                                'showarrow': False,\n",
       "                                'text': 'Topic 11',\n",
       "                                'x': 0.9125,\n",
       "                                'xanchor': 'center',\n",
       "                                'xref': 'paper',\n",
       "                                'y': 0.45,\n",
       "                                'yanchor': 'bottom',\n",
       "                                'yref': 'paper'},\n",
       "                               {'font': {'size': 16},\n",
       "                                'showarrow': False,\n",
       "                                'text': 'Topic 12',\n",
       "                                'x': 0.0875,\n",
       "                                'xanchor': 'center',\n",
       "                                'xref': 'paper',\n",
       "                                'y': 0.175,\n",
       "                                'yanchor': 'bottom',\n",
       "                                'yref': 'paper'},\n",
       "                               {'font': {'size': 16},\n",
       "                                'showarrow': False,\n",
       "                                'text': 'Topic 13',\n",
       "                                'x': 0.36250000000000004,\n",
       "                                'xanchor': 'center',\n",
       "                                'xref': 'paper',\n",
       "                                'y': 0.175,\n",
       "                                'yanchor': 'bottom',\n",
       "                                'yref': 'paper'},\n",
       "                               {'font': {'size': 16},\n",
       "                                'showarrow': False,\n",
       "                                'text': 'Topic 14',\n",
       "                                'x': 0.6375000000000001,\n",
       "                                'xanchor': 'center',\n",
       "                                'xref': 'paper',\n",
       "                                'y': 0.175,\n",
       "                                'yanchor': 'bottom',\n",
       "                                'yref': 'paper'}],\n",
       "               'height': 1000,\n",
       "               'hoverlabel': {'bgcolor': 'white', 'font': {'family': 'Rockwell', 'size': 16}},\n",
       "               'showlegend': False,\n",
       "               'template': '...',\n",
       "               'title': {'font': {'color': 'Black', 'size': 22},\n",
       "                         'text': 'Topic Word Scores',\n",
       "                         'x': 0.5,\n",
       "                         'xanchor': 'center',\n",
       "                         'yanchor': 'top'},\n",
       "               'width': 1000,\n",
       "               'xaxis': {'anchor': 'y', 'domain': [0.0, 0.175], 'showgrid': True},\n",
       "               'xaxis10': {'anchor': 'y10', 'domain': [0.275, 0.45], 'showgrid': True},\n",
       "               'xaxis11': {'anchor': 'y11', 'domain': [0.55, 0.7250000000000001], 'showgrid': True},\n",
       "               'xaxis12': {'anchor': 'y12', 'domain': [0.825, 1.0], 'showgrid': True},\n",
       "               'xaxis13': {'anchor': 'y13', 'domain': [0.0, 0.175], 'showgrid': True},\n",
       "               'xaxis14': {'anchor': 'y14', 'domain': [0.275, 0.45], 'showgrid': True},\n",
       "               'xaxis15': {'anchor': 'y15', 'domain': [0.55, 0.7250000000000001], 'showgrid': True},\n",
       "               'xaxis16': {'anchor': 'y16', 'domain': [0.825, 1.0], 'showgrid': True},\n",
       "               'xaxis2': {'anchor': 'y2', 'domain': [0.275, 0.45], 'showgrid': True},\n",
       "               'xaxis3': {'anchor': 'y3', 'domain': [0.55, 0.7250000000000001], 'showgrid': True},\n",
       "               'xaxis4': {'anchor': 'y4', 'domain': [0.825, 1.0], 'showgrid': True},\n",
       "               'xaxis5': {'anchor': 'y5', 'domain': [0.0, 0.175], 'showgrid': True},\n",
       "               'xaxis6': {'anchor': 'y6', 'domain': [0.275, 0.45], 'showgrid': True},\n",
       "               'xaxis7': {'anchor': 'y7', 'domain': [0.55, 0.7250000000000001], 'showgrid': True},\n",
       "               'xaxis8': {'anchor': 'y8', 'domain': [0.825, 1.0], 'showgrid': True},\n",
       "               'xaxis9': {'anchor': 'y9', 'domain': [0.0, 0.175], 'showgrid': True},\n",
       "               'yaxis': {'anchor': 'x', 'domain': [0.825, 1.0], 'showgrid': True},\n",
       "               'yaxis10': {'anchor': 'x10', 'domain': [0.275, 0.45], 'showgrid': True},\n",
       "               'yaxis11': {'anchor': 'x11', 'domain': [0.275, 0.45], 'showgrid': True},\n",
       "               'yaxis12': {'anchor': 'x12', 'domain': [0.275, 0.45], 'showgrid': True},\n",
       "               'yaxis13': {'anchor': 'x13', 'domain': [0.0, 0.175], 'showgrid': True},\n",
       "               'yaxis14': {'anchor': 'x14', 'domain': [0.0, 0.175], 'showgrid': True},\n",
       "               'yaxis15': {'anchor': 'x15', 'domain': [0.0, 0.175], 'showgrid': True},\n",
       "               'yaxis16': {'anchor': 'x16', 'domain': [0.0, 0.175], 'showgrid': True},\n",
       "               'yaxis2': {'anchor': 'x2', 'domain': [0.825, 1.0], 'showgrid': True},\n",
       "               'yaxis3': {'anchor': 'x3', 'domain': [0.825, 1.0], 'showgrid': True},\n",
       "               'yaxis4': {'anchor': 'x4', 'domain': [0.825, 1.0], 'showgrid': True},\n",
       "               'yaxis5': {'anchor': 'x5', 'domain': [0.55, 0.7250000000000001], 'showgrid': True},\n",
       "               'yaxis6': {'anchor': 'x6', 'domain': [0.55, 0.7250000000000001], 'showgrid': True},\n",
       "               'yaxis7': {'anchor': 'x7', 'domain': [0.55, 0.7250000000000001], 'showgrid': True},\n",
       "               'yaxis8': {'anchor': 'x8', 'domain': [0.55, 0.7250000000000001], 'showgrid': True},\n",
       "               'yaxis9': {'anchor': 'x9', 'domain': [0.275, 0.45], 'showgrid': True}}\n",
       "})"
      ]
     },
     "execution_count": 17,
     "metadata": {},
     "output_type": "execute_result"
    }
   ],
   "source": [
    "from sklearn.cluster import KMeans\n",
    "\n",
    "num_topics = 15\n",
    "kmeans_model = KMeans(n_clusters=num_topics, random_state=42)\n",
    "\n",
    "topic_model_kmeans = BERTopic(\n",
    "    embedding_model=embedding_model,\n",
    "    umap_model=umap_model,\n",
    "    hdbscan_model=kmeans_model,\n",
    "    calculate_probabilities=False,\n",
    "    verbose=True\n",
    ")\n",
    "\n",
    "topics_kmeans, _ = topic_model_kmeans.fit_transform(docs)\n",
    "\n",
    "topic_model_kmeans.visualize_barchart(top_n_topics=15)"
   ]
  },
  {
   "cell_type": "code",
   "execution_count": 18,
   "id": "13e2eff0",
   "metadata": {},
   "outputs": [
    {
     "name": "stdout",
     "output_type": "stream",
     "text": [
      "    Topic  Count                                 Name  \\\n",
      "0       0  13797        0_prabowo_gibran_dukung_orang   \n",
      "1       1  10325        1_prabowo_gibran_menang_orang   \n",
      "2       2  10032             2_02_orang_dukung_pasang   \n",
      "3       3   9214             3_02_dukung_pasang_pilih   \n",
      "4       4   9089             4_02_dukung_pilih_buzzer   \n",
      "5       5   6783        5_02_kampanye_agama_indonesia   \n",
      "6       6   6692              6_kayak_02_suara_survei   \n",
      "7       7   6178     7_gibran_rakabuming_raka_prabowo   \n",
      "8       8   4486            8_presiden_calon_wakil_02   \n",
      "9       9   4091             9_debat_02_program_calon   \n",
      "10     10   3959      10_presiden_prabowo_calon_pilih   \n",
      "11     11   3697             11_menang_02_teman_panik   \n",
      "12     12   2157   12_politik_israel_palestina_polisi   \n",
      "13     13   2055  13_demokrasi_partai_juang_indonesia   \n",
      "14     14   1855      14_debat_prabowo_presiden_calon   \n",
      "\n",
      "                                       Representation  \\\n",
      "0   [prabowo, gibran, dukung, orang, jokowi, pilih...   \n",
      "1   [prabowo, gibran, menang, orang, jokowi, anies...   \n",
      "2   [02, orang, dukung, pasang, pilih, banget, cal...   \n",
      "3   [02, dukung, pasang, pilih, calon, buzzer, ban...   \n",
      "4   [02, dukung, pilih, buzzer, banget, bang, kala...   \n",
      "5   [02, kampanye, agama, indonesia, kerja, nista,...   \n",
      "6   [kayak, 02, suara, survei, video, data, dukung...   \n",
      "7   [gibran, rakabuming, raka, prabowo, indonesia,...   \n",
      "8   [presiden, calon, wakil, 02, pilih, dukung, pa...   \n",
      "9   [debat, 02, program, calon, gratis, makan, pre...   \n",
      "10  [presiden, prabowo, calon, pilih, wakil, gibra...   \n",
      "11  [menang, 02, teman, panik, gara, sukses, tim, ...   \n",
      "12  [politik, israel, palestina, polisi, 02, dukun...   \n",
      "13  [demokrasi, partai, juang, indonesia, demokrat...   \n",
      "14  [debat, prabowo, presiden, calon, gibran, waki...   \n",
      "\n",
      "                                  Representative_Docs  \n",
      "0   [pikir dukung prabowo gibran kasihan coba, duk...  \n",
      "1   [dukung ganjar amin alih prabowo gibran menang...  \n",
      "2   [prabowo orang pasang calon 02 mampu personal ...  \n",
      "3   [prabowo salah duit dukung 02, dukung dukung p...  \n",
      "4   [dukung 02 nyebokin banget, 02 pilih takut, sa...  \n",
      "5   [pas 02 nista agama, hati 02 nista agama, bang...  \n",
      "6   [aduh syarat dukung 02 kayak bodoh kayak, perc...  \n",
      "7   [wakil ketua dewan pakar tim kampanye nasional...  \n",
      "8   [benci banget edit tiktok calon presiden calon...  \n",
      "9   [ tinggal 02 kayak debat calon presiden debat ...  \n",
      "10  [prabowo pilih presiden putar menang gibran pr...  \n",
      "11  [pasang calon 02 menang curang, tenang tum 02 ...  \n",
      "12  [ langsung klaim jokowi politik dinasti proses...  \n",
      "13  [prabowo indonesia demokrasi nilai demokrasi t...  \n",
      "14  [aksi samsul debat calon wakil presiden debat ...  \n"
     ]
    },
    {
     "ename": "ValueError",
     "evalue": "Mime type rendering requires nbformat>=4.2.0 but it is not installed",
     "output_type": "error",
     "traceback": [
      "\u001b[1;31m---------------------------------------------------------------------------\u001b[0m",
      "\u001b[1;31mValueError\u001b[0m                                Traceback (most recent call last)",
      "File \u001b[1;32m~\\AppData\\Roaming\\Python\\Python310\\site-packages\\IPython\\core\\formatters.py:925\u001b[0m, in \u001b[0;36mIPythonDisplayFormatter.__call__\u001b[1;34m(self, obj)\u001b[0m\n\u001b[0;32m    923\u001b[0m method \u001b[38;5;241m=\u001b[39m get_real_method(obj, \u001b[38;5;28mself\u001b[39m\u001b[38;5;241m.\u001b[39mprint_method)\n\u001b[0;32m    924\u001b[0m \u001b[38;5;28;01mif\u001b[39;00m method \u001b[38;5;129;01mis\u001b[39;00m \u001b[38;5;129;01mnot\u001b[39;00m \u001b[38;5;28;01mNone\u001b[39;00m:\n\u001b[1;32m--> 925\u001b[0m     \u001b[43mmethod\u001b[49m\u001b[43m(\u001b[49m\u001b[43m)\u001b[49m\n\u001b[0;32m    926\u001b[0m     \u001b[38;5;28;01mreturn\u001b[39;00m \u001b[38;5;28;01mTrue\u001b[39;00m\n",
      "File \u001b[1;32mc:\\Users\\PC\\AppData\\Local\\Programs\\Python\\Python310\\lib\\site-packages\\plotly\\basedatatypes.py:846\u001b[0m, in \u001b[0;36mBaseFigure._ipython_display_\u001b[1;34m(self)\u001b[0m\n\u001b[0;32m    843\u001b[0m \u001b[38;5;28;01mimport\u001b[39;00m \u001b[38;5;21;01mplotly\u001b[39;00m\u001b[38;5;21;01m.\u001b[39;00m\u001b[38;5;21;01mio\u001b[39;00m \u001b[38;5;28;01mas\u001b[39;00m \u001b[38;5;21;01mpio\u001b[39;00m\n\u001b[0;32m    845\u001b[0m \u001b[38;5;28;01mif\u001b[39;00m pio\u001b[38;5;241m.\u001b[39mrenderers\u001b[38;5;241m.\u001b[39mrender_on_display \u001b[38;5;129;01mand\u001b[39;00m pio\u001b[38;5;241m.\u001b[39mrenderers\u001b[38;5;241m.\u001b[39mdefault:\n\u001b[1;32m--> 846\u001b[0m     \u001b[43mpio\u001b[49m\u001b[38;5;241;43m.\u001b[39;49m\u001b[43mshow\u001b[49m\u001b[43m(\u001b[49m\u001b[38;5;28;43mself\u001b[39;49m\u001b[43m)\u001b[49m\n\u001b[0;32m    847\u001b[0m \u001b[38;5;28;01melse\u001b[39;00m:\n\u001b[0;32m    848\u001b[0m     \u001b[38;5;28mprint\u001b[39m(\u001b[38;5;28mrepr\u001b[39m(\u001b[38;5;28mself\u001b[39m))\n",
      "File \u001b[1;32mc:\\Users\\PC\\AppData\\Local\\Programs\\Python\\Python310\\lib\\site-packages\\plotly\\io\\_renderers.py:425\u001b[0m, in \u001b[0;36mshow\u001b[1;34m(fig, renderer, validate, **kwargs)\u001b[0m\n\u001b[0;32m    420\u001b[0m     \u001b[38;5;28;01mraise\u001b[39;00m \u001b[38;5;167;01mValueError\u001b[39;00m(\n\u001b[0;32m    421\u001b[0m         \u001b[38;5;124m\"\u001b[39m\u001b[38;5;124mMime type rendering requires ipython but it is not installed\u001b[39m\u001b[38;5;124m\"\u001b[39m\n\u001b[0;32m    422\u001b[0m     )\n\u001b[0;32m    424\u001b[0m \u001b[38;5;28;01mif\u001b[39;00m \u001b[38;5;129;01mnot\u001b[39;00m nbformat \u001b[38;5;129;01mor\u001b[39;00m Version(nbformat\u001b[38;5;241m.\u001b[39m__version__) \u001b[38;5;241m<\u001b[39m Version(\u001b[38;5;124m\"\u001b[39m\u001b[38;5;124m4.2.0\u001b[39m\u001b[38;5;124m\"\u001b[39m):\n\u001b[1;32m--> 425\u001b[0m     \u001b[38;5;28;01mraise\u001b[39;00m \u001b[38;5;167;01mValueError\u001b[39;00m(\n\u001b[0;32m    426\u001b[0m         \u001b[38;5;124m\"\u001b[39m\u001b[38;5;124mMime type rendering requires nbformat>=4.2.0 but it is not installed\u001b[39m\u001b[38;5;124m\"\u001b[39m\n\u001b[0;32m    427\u001b[0m     )\n\u001b[0;32m    429\u001b[0m display_jupyter_version_warnings()\n\u001b[0;32m    431\u001b[0m ipython_display\u001b[38;5;241m.\u001b[39mdisplay(bundle, raw\u001b[38;5;241m=\u001b[39m\u001b[38;5;28;01mTrue\u001b[39;00m)\n",
      "\u001b[1;31mValueError\u001b[0m: Mime type rendering requires nbformat>=4.2.0 but it is not installed"
     ]
    },
    {
     "data": {
      "application/vnd.plotly.v1+json": {
       "config": {
        "plotlyServerURL": "https://plot.ly"
       },
       "data": [
        {
         "coloraxis": "coloraxis",
         "hovertemplate": "x: %{x}<br>y: %{y}<br>Similarity Score: %{z}<extra></extra>",
         "name": "0",
         "type": "heatmap",
         "x": [
          "0_prabowo_gibran_dukung",
          "1_prabowo_gibran_menang",
          "2_02_orang_dukung",
          "3_02_dukung_pasang",
          "4_02_dukung_pilih",
          "5_02_kampanye_agama",
          "6_kayak_02_suara",
          "7_gibran_rakabuming_raka",
          "8_presiden_calon_wakil",
          "9_debat_02_program",
          "10_presiden_prabowo_calon",
          "11_menang_02_teman",
          "12_politik_israel_palestina",
          "13_demokrasi_partai_juang",
          "14_debat_prabowo_presiden"
         ],
         "xaxis": "x",
         "y": [
          "0_prabowo_gibran_dukung",
          "1_prabowo_gibran_menang",
          "2_02_orang_dukung",
          "3_02_dukung_pasang",
          "4_02_dukung_pilih",
          "5_02_kampanye_agama",
          "6_kayak_02_suara",
          "7_gibran_rakabuming_raka",
          "8_presiden_calon_wakil",
          "9_debat_02_program",
          "10_presiden_prabowo_calon",
          "11_menang_02_teman",
          "12_politik_israel_palestina",
          "13_demokrasi_partai_juang",
          "14_debat_prabowo_presiden"
         ],
         "yaxis": "y",
         "z": {
          "bdata": "AQCAP2iSYD/0axg/VkkePwqCAD8YOQ8/6kgLP4ALPT8piPE+noDxPrl1KD++2Ac/zhQCP4J+9D6ntBk/aJJgPwEAgD8yOi0/cq0VP1sltj4CoCU/6wojP8Qpaj9jlxc/qXwaP0hXSj+cGRM/dEgoP45wJD+iuzo/9GsYPzI6LT8AAIA/0RV1P4QtUz+YoXg/ljR1P8nKGz8anE8/QkRaP3IGBz9OjGo/NE1LP3/DGj/2JwM/VkkeP3KtFT/RFXU/AQCAP84jbT8AZXE/pgxuPzWQ+z48r0A/5opLP0573j5aD24/HqQ2P0EyAz/iEt4+CoIAP1sltj6ELVM/ziNtPwAAgD8ip1I/oPxNP2o+hT6kch8/dgwoPzAafD4oV1k/mn0PP1bFuT6CAII+GDkPPwKgJT+YoXg/AGVxPyKnUj8BAIA/pXlyP83xGj+XuFE/qnxbPyEABT/CVGo/+9ROP8pgIj8ligI/6kgLP+sKIz+WNHU/pgxuP6D8TT+leXI/AwCAPwv5FD8yr00/eNVbP/ZbAT9TRGk/hlBHP6tQHj+72QQ/gAs9P8Qpaj/Jyhs/NZD7Pmo+hT7N8Ro/C/kUP/3/fz8FSSI/iuMZP2ZuUz9kx/0+XKc6P/jdNz/FMjs/KYjxPmOXFz8anE8/PK9AP6RyHz+XuFE/Mq9NPwVJIj8BAIA/+MJLP0opTz+pdUM/yj1LP8pzMz/sFBY/noDxPql8Gj9CRFo/5opLP3YMKD+qfFs/eNVbP4rjGT/4wks/AgCAP+SyDj90GlE/MW5FPxf6JD94bkk/uXUoP0hXSj9yBgc/TnvePjAafD4hAAU/9lsBP2ZuUz9KKU8/5LIOP/7/fz8qlOg+7K0kP1L5Lj/CQzc/vtgHP5wZEz9OjGo/Wg9uPyhXWT/CVGo/U0RpP2TH/T6pdUM/dBpRPyqU6D7//38/wdw3P+QJCj8mTvA+zhQCP3RIKD80TUs/HqQ2P5p9Dz/71E4/hlBHP1ynOj/KPUs/MW5FP+ytJD/B3Dc/AQCAP/g4PT+ezRY/gn70Po5wJD9/wxo/QTIDP1bFuT7KYCI/q1AeP/jdNz/KczM/F/okP1L5Lj/kCQo/+Dg9P/z/fz9nOhw/p7QZP6K7Oj/2JwM/4hLePoIAgj4ligI/u9kEP8UyOz/sFBY/eG5JP8JDNz8mTvA+ns0WP2c6HD8BAIA/",
          "dtype": "f4",
          "shape": "15, 15"
         }
        }
       ],
       "layout": {
        "coloraxis": {
         "colorbar": {
          "title": {
           "text": "Similarity Score"
          }
         },
         "colorscale": [
          [
           0,
           "rgb(247,252,240)"
          ],
          [
           0.125,
           "rgb(224,243,219)"
          ],
          [
           0.25,
           "rgb(204,235,197)"
          ],
          [
           0.375,
           "rgb(168,221,181)"
          ],
          [
           0.5,
           "rgb(123,204,196)"
          ],
          [
           0.625,
           "rgb(78,179,211)"
          ],
          [
           0.75,
           "rgb(43,140,190)"
          ],
          [
           0.875,
           "rgb(8,104,172)"
          ],
          [
           1,
           "rgb(8,64,129)"
          ]
         ]
        },
        "height": 800,
        "hoverlabel": {
         "bgcolor": "white",
         "font": {
          "family": "Rockwell",
          "size": 16
         }
        },
        "legend": {
         "title": {
          "text": "Trend"
         }
        },
        "margin": {
         "t": 60
        },
        "showlegend": true,
        "template": {
         "data": {
          "bar": [
           {
            "error_x": {
             "color": "#2a3f5f"
            },
            "error_y": {
             "color": "#2a3f5f"
            },
            "marker": {
             "line": {
              "color": "#E5ECF6",
              "width": 0.5
             },
             "pattern": {
              "fillmode": "overlay",
              "size": 10,
              "solidity": 0.2
             }
            },
            "type": "bar"
           }
          ],
          "barpolar": [
           {
            "marker": {
             "line": {
              "color": "#E5ECF6",
              "width": 0.5
             },
             "pattern": {
              "fillmode": "overlay",
              "size": 10,
              "solidity": 0.2
             }
            },
            "type": "barpolar"
           }
          ],
          "carpet": [
           {
            "aaxis": {
             "endlinecolor": "#2a3f5f",
             "gridcolor": "white",
             "linecolor": "white",
             "minorgridcolor": "white",
             "startlinecolor": "#2a3f5f"
            },
            "baxis": {
             "endlinecolor": "#2a3f5f",
             "gridcolor": "white",
             "linecolor": "white",
             "minorgridcolor": "white",
             "startlinecolor": "#2a3f5f"
            },
            "type": "carpet"
           }
          ],
          "choropleth": [
           {
            "colorbar": {
             "outlinewidth": 0,
             "ticks": ""
            },
            "type": "choropleth"
           }
          ],
          "contour": [
           {
            "colorbar": {
             "outlinewidth": 0,
             "ticks": ""
            },
            "colorscale": [
             [
              0,
              "#0d0887"
             ],
             [
              0.1111111111111111,
              "#46039f"
             ],
             [
              0.2222222222222222,
              "#7201a8"
             ],
             [
              0.3333333333333333,
              "#9c179e"
             ],
             [
              0.4444444444444444,
              "#bd3786"
             ],
             [
              0.5555555555555556,
              "#d8576b"
             ],
             [
              0.6666666666666666,
              "#ed7953"
             ],
             [
              0.7777777777777778,
              "#fb9f3a"
             ],
             [
              0.8888888888888888,
              "#fdca26"
             ],
             [
              1,
              "#f0f921"
             ]
            ],
            "type": "contour"
           }
          ],
          "contourcarpet": [
           {
            "colorbar": {
             "outlinewidth": 0,
             "ticks": ""
            },
            "type": "contourcarpet"
           }
          ],
          "heatmap": [
           {
            "colorbar": {
             "outlinewidth": 0,
             "ticks": ""
            },
            "colorscale": [
             [
              0,
              "#0d0887"
             ],
             [
              0.1111111111111111,
              "#46039f"
             ],
             [
              0.2222222222222222,
              "#7201a8"
             ],
             [
              0.3333333333333333,
              "#9c179e"
             ],
             [
              0.4444444444444444,
              "#bd3786"
             ],
             [
              0.5555555555555556,
              "#d8576b"
             ],
             [
              0.6666666666666666,
              "#ed7953"
             ],
             [
              0.7777777777777778,
              "#fb9f3a"
             ],
             [
              0.8888888888888888,
              "#fdca26"
             ],
             [
              1,
              "#f0f921"
             ]
            ],
            "type": "heatmap"
           }
          ],
          "histogram": [
           {
            "marker": {
             "pattern": {
              "fillmode": "overlay",
              "size": 10,
              "solidity": 0.2
             }
            },
            "type": "histogram"
           }
          ],
          "histogram2d": [
           {
            "colorbar": {
             "outlinewidth": 0,
             "ticks": ""
            },
            "colorscale": [
             [
              0,
              "#0d0887"
             ],
             [
              0.1111111111111111,
              "#46039f"
             ],
             [
              0.2222222222222222,
              "#7201a8"
             ],
             [
              0.3333333333333333,
              "#9c179e"
             ],
             [
              0.4444444444444444,
              "#bd3786"
             ],
             [
              0.5555555555555556,
              "#d8576b"
             ],
             [
              0.6666666666666666,
              "#ed7953"
             ],
             [
              0.7777777777777778,
              "#fb9f3a"
             ],
             [
              0.8888888888888888,
              "#fdca26"
             ],
             [
              1,
              "#f0f921"
             ]
            ],
            "type": "histogram2d"
           }
          ],
          "histogram2dcontour": [
           {
            "colorbar": {
             "outlinewidth": 0,
             "ticks": ""
            },
            "colorscale": [
             [
              0,
              "#0d0887"
             ],
             [
              0.1111111111111111,
              "#46039f"
             ],
             [
              0.2222222222222222,
              "#7201a8"
             ],
             [
              0.3333333333333333,
              "#9c179e"
             ],
             [
              0.4444444444444444,
              "#bd3786"
             ],
             [
              0.5555555555555556,
              "#d8576b"
             ],
             [
              0.6666666666666666,
              "#ed7953"
             ],
             [
              0.7777777777777778,
              "#fb9f3a"
             ],
             [
              0.8888888888888888,
              "#fdca26"
             ],
             [
              1,
              "#f0f921"
             ]
            ],
            "type": "histogram2dcontour"
           }
          ],
          "mesh3d": [
           {
            "colorbar": {
             "outlinewidth": 0,
             "ticks": ""
            },
            "type": "mesh3d"
           }
          ],
          "parcoords": [
           {
            "line": {
             "colorbar": {
              "outlinewidth": 0,
              "ticks": ""
             }
            },
            "type": "parcoords"
           }
          ],
          "pie": [
           {
            "automargin": true,
            "type": "pie"
           }
          ],
          "scatter": [
           {
            "fillpattern": {
             "fillmode": "overlay",
             "size": 10,
             "solidity": 0.2
            },
            "type": "scatter"
           }
          ],
          "scatter3d": [
           {
            "line": {
             "colorbar": {
              "outlinewidth": 0,
              "ticks": ""
             }
            },
            "marker": {
             "colorbar": {
              "outlinewidth": 0,
              "ticks": ""
             }
            },
            "type": "scatter3d"
           }
          ],
          "scattercarpet": [
           {
            "marker": {
             "colorbar": {
              "outlinewidth": 0,
              "ticks": ""
             }
            },
            "type": "scattercarpet"
           }
          ],
          "scattergeo": [
           {
            "marker": {
             "colorbar": {
              "outlinewidth": 0,
              "ticks": ""
             }
            },
            "type": "scattergeo"
           }
          ],
          "scattergl": [
           {
            "marker": {
             "colorbar": {
              "outlinewidth": 0,
              "ticks": ""
             }
            },
            "type": "scattergl"
           }
          ],
          "scattermap": [
           {
            "marker": {
             "colorbar": {
              "outlinewidth": 0,
              "ticks": ""
             }
            },
            "type": "scattermap"
           }
          ],
          "scattermapbox": [
           {
            "marker": {
             "colorbar": {
              "outlinewidth": 0,
              "ticks": ""
             }
            },
            "type": "scattermapbox"
           }
          ],
          "scatterpolar": [
           {
            "marker": {
             "colorbar": {
              "outlinewidth": 0,
              "ticks": ""
             }
            },
            "type": "scatterpolar"
           }
          ],
          "scatterpolargl": [
           {
            "marker": {
             "colorbar": {
              "outlinewidth": 0,
              "ticks": ""
             }
            },
            "type": "scatterpolargl"
           }
          ],
          "scatterternary": [
           {
            "marker": {
             "colorbar": {
              "outlinewidth": 0,
              "ticks": ""
             }
            },
            "type": "scatterternary"
           }
          ],
          "surface": [
           {
            "colorbar": {
             "outlinewidth": 0,
             "ticks": ""
            },
            "colorscale": [
             [
              0,
              "#0d0887"
             ],
             [
              0.1111111111111111,
              "#46039f"
             ],
             [
              0.2222222222222222,
              "#7201a8"
             ],
             [
              0.3333333333333333,
              "#9c179e"
             ],
             [
              0.4444444444444444,
              "#bd3786"
             ],
             [
              0.5555555555555556,
              "#d8576b"
             ],
             [
              0.6666666666666666,
              "#ed7953"
             ],
             [
              0.7777777777777778,
              "#fb9f3a"
             ],
             [
              0.8888888888888888,
              "#fdca26"
             ],
             [
              1,
              "#f0f921"
             ]
            ],
            "type": "surface"
           }
          ],
          "table": [
           {
            "cells": {
             "fill": {
              "color": "#EBF0F8"
             },
             "line": {
              "color": "white"
             }
            },
            "header": {
             "fill": {
              "color": "#C8D4E3"
             },
             "line": {
              "color": "white"
             }
            },
            "type": "table"
           }
          ]
         },
         "layout": {
          "annotationdefaults": {
           "arrowcolor": "#2a3f5f",
           "arrowhead": 0,
           "arrowwidth": 1
          },
          "autotypenumbers": "strict",
          "coloraxis": {
           "colorbar": {
            "outlinewidth": 0,
            "ticks": ""
           }
          },
          "colorscale": {
           "diverging": [
            [
             0,
             "#8e0152"
            ],
            [
             0.1,
             "#c51b7d"
            ],
            [
             0.2,
             "#de77ae"
            ],
            [
             0.3,
             "#f1b6da"
            ],
            [
             0.4,
             "#fde0ef"
            ],
            [
             0.5,
             "#f7f7f7"
            ],
            [
             0.6,
             "#e6f5d0"
            ],
            [
             0.7,
             "#b8e186"
            ],
            [
             0.8,
             "#7fbc41"
            ],
            [
             0.9,
             "#4d9221"
            ],
            [
             1,
             "#276419"
            ]
           ],
           "sequential": [
            [
             0,
             "#0d0887"
            ],
            [
             0.1111111111111111,
             "#46039f"
            ],
            [
             0.2222222222222222,
             "#7201a8"
            ],
            [
             0.3333333333333333,
             "#9c179e"
            ],
            [
             0.4444444444444444,
             "#bd3786"
            ],
            [
             0.5555555555555556,
             "#d8576b"
            ],
            [
             0.6666666666666666,
             "#ed7953"
            ],
            [
             0.7777777777777778,
             "#fb9f3a"
            ],
            [
             0.8888888888888888,
             "#fdca26"
            ],
            [
             1,
             "#f0f921"
            ]
           ],
           "sequentialminus": [
            [
             0,
             "#0d0887"
            ],
            [
             0.1111111111111111,
             "#46039f"
            ],
            [
             0.2222222222222222,
             "#7201a8"
            ],
            [
             0.3333333333333333,
             "#9c179e"
            ],
            [
             0.4444444444444444,
             "#bd3786"
            ],
            [
             0.5555555555555556,
             "#d8576b"
            ],
            [
             0.6666666666666666,
             "#ed7953"
            ],
            [
             0.7777777777777778,
             "#fb9f3a"
            ],
            [
             0.8888888888888888,
             "#fdca26"
            ],
            [
             1,
             "#f0f921"
            ]
           ]
          },
          "colorway": [
           "#636efa",
           "#EF553B",
           "#00cc96",
           "#ab63fa",
           "#FFA15A",
           "#19d3f3",
           "#FF6692",
           "#B6E880",
           "#FF97FF",
           "#FECB52"
          ],
          "font": {
           "color": "#2a3f5f"
          },
          "geo": {
           "bgcolor": "white",
           "lakecolor": "white",
           "landcolor": "#E5ECF6",
           "showlakes": true,
           "showland": true,
           "subunitcolor": "white"
          },
          "hoverlabel": {
           "align": "left"
          },
          "hovermode": "closest",
          "mapbox": {
           "style": "light"
          },
          "paper_bgcolor": "white",
          "plot_bgcolor": "#E5ECF6",
          "polar": {
           "angularaxis": {
            "gridcolor": "white",
            "linecolor": "white",
            "ticks": ""
           },
           "bgcolor": "#E5ECF6",
           "radialaxis": {
            "gridcolor": "white",
            "linecolor": "white",
            "ticks": ""
           }
          },
          "scene": {
           "xaxis": {
            "backgroundcolor": "#E5ECF6",
            "gridcolor": "white",
            "gridwidth": 2,
            "linecolor": "white",
            "showbackground": true,
            "ticks": "",
            "zerolinecolor": "white"
           },
           "yaxis": {
            "backgroundcolor": "#E5ECF6",
            "gridcolor": "white",
            "gridwidth": 2,
            "linecolor": "white",
            "showbackground": true,
            "ticks": "",
            "zerolinecolor": "white"
           },
           "zaxis": {
            "backgroundcolor": "#E5ECF6",
            "gridcolor": "white",
            "gridwidth": 2,
            "linecolor": "white",
            "showbackground": true,
            "ticks": "",
            "zerolinecolor": "white"
           }
          },
          "shapedefaults": {
           "line": {
            "color": "#2a3f5f"
           }
          },
          "ternary": {
           "aaxis": {
            "gridcolor": "white",
            "linecolor": "white",
            "ticks": ""
           },
           "baxis": {
            "gridcolor": "white",
            "linecolor": "white",
            "ticks": ""
           },
           "bgcolor": "#E5ECF6",
           "caxis": {
            "gridcolor": "white",
            "linecolor": "white",
            "ticks": ""
           }
          },
          "title": {
           "x": 0.05
          },
          "xaxis": {
           "automargin": true,
           "gridcolor": "white",
           "linecolor": "white",
           "ticks": "",
           "title": {
            "standoff": 15
           },
           "zerolinecolor": "white",
           "zerolinewidth": 2
          },
          "yaxis": {
           "automargin": true,
           "gridcolor": "white",
           "linecolor": "white",
           "ticks": "",
           "title": {
            "standoff": 15
           },
           "zerolinecolor": "white",
           "zerolinewidth": 2
          }
         }
        },
        "title": {
         "font": {
          "color": "Black",
          "size": 22
         },
         "text": "<b>Similarity Matrix</b>",
         "x": 0.55,
         "xanchor": "center",
         "y": 0.95,
         "yanchor": "top"
        },
        "width": 800,
        "xaxis": {
         "anchor": "y",
         "constrain": "domain",
         "domain": [
          0,
          1
         ],
         "scaleanchor": "y"
        },
        "yaxis": {
         "anchor": "x",
         "autorange": "reversed",
         "constrain": "domain",
         "domain": [
          0,
          1
         ]
        }
       }
      },
      "text/html": [
       "<div>                        <script type=\"text/javascript\">window.PlotlyConfig = {MathJaxConfig: 'local'};</script>\n",
       "        <script charset=\"utf-8\" src=\"https://cdn.plot.ly/plotly-3.0.1.min.js\"></script>                <div id=\"fab94db8-10c9-4d23-b6a6-219d42369d6c\" class=\"plotly-graph-div\" style=\"height:800px; width:800px;\"></div>            <script type=\"text/javascript\">                window.PLOTLYENV=window.PLOTLYENV || {};                                if (document.getElementById(\"fab94db8-10c9-4d23-b6a6-219d42369d6c\")) {                    Plotly.newPlot(                        \"fab94db8-10c9-4d23-b6a6-219d42369d6c\",                        [{\"coloraxis\":\"coloraxis\",\"name\":\"0\",\"x\":[\"0_prabowo_gibran_dukung\",\"1_prabowo_gibran_menang\",\"2_02_orang_dukung\",\"3_02_dukung_pasang\",\"4_02_dukung_pilih\",\"5_02_kampanye_agama\",\"6_kayak_02_suara\",\"7_gibran_rakabuming_raka\",\"8_presiden_calon_wakil\",\"9_debat_02_program\",\"10_presiden_prabowo_calon\",\"11_menang_02_teman\",\"12_politik_israel_palestina\",\"13_demokrasi_partai_juang\",\"14_debat_prabowo_presiden\"],\"y\":[\"0_prabowo_gibran_dukung\",\"1_prabowo_gibran_menang\",\"2_02_orang_dukung\",\"3_02_dukung_pasang\",\"4_02_dukung_pilih\",\"5_02_kampanye_agama\",\"6_kayak_02_suara\",\"7_gibran_rakabuming_raka\",\"8_presiden_calon_wakil\",\"9_debat_02_program\",\"10_presiden_prabowo_calon\",\"11_menang_02_teman\",\"12_politik_israel_palestina\",\"13_demokrasi_partai_juang\",\"14_debat_prabowo_presiden\"],\"z\":{\"dtype\":\"f4\",\"bdata\":\"AQCAP2iSYD\\u002f0axg\\u002fVkkePwqCAD8YOQ8\\u002f6kgLP4ALPT8piPE+noDxPrl1KD++2Ac\\u002fzhQCP4J+9D6ntBk\\u002faJJgPwEAgD8yOi0\\u002fcq0VP1sltj4CoCU\\u002f6wojP8Qpaj9jlxc\\u002fqXwaP0hXSj+cGRM\\u002fdEgoP45wJD+iuzo\\u002f9GsYPzI6LT8AAIA\\u002f0RV1P4QtUz+YoXg\\u002fljR1P8nKGz8anE8\\u002fQkRaP3IGBz9OjGo\\u002fNE1LP3\\u002fDGj\\u002f2JwM\\u002fVkkeP3KtFT\\u002fRFXU\\u002fAQCAP84jbT8AZXE\\u002fpgxuPzWQ+z48r0A\\u002f5opLP0573j5aD24\\u002fHqQ2P0EyAz\\u002fiEt4+CoIAP1sltj6ELVM\\u002fziNtPwAAgD8ip1I\\u002foPxNP2o+hT6kch8\\u002fdgwoPzAafD4oV1k\\u002fmn0PP1bFuT6CAII+GDkPPwKgJT+YoXg\\u002fAGVxPyKnUj8BAIA\\u002fpXlyP83xGj+XuFE\\u002fqnxbPyEABT\\u002fCVGo\\u002f+9ROP8pgIj8ligI\\u002f6kgLP+sKIz+WNHU\\u002fpgxuP6D8TT+leXI\\u002fAwCAPwv5FD8yr00\\u002feNVbP\\u002fZbAT9TRGk\\u002fhlBHP6tQHj+72QQ\\u002fgAs9P8Qpaj\\u002fJyhs\\u002fNZD7Pmo+hT7N8Ro\\u002fC\\u002fkUP\\u002f3\\u002ffz8FSSI\\u002fiuMZP2ZuUz9kx\\u002f0+XKc6P\\u002fjdNz\\u002fFMjs\\u002fKYjxPmOXFz8anE8\\u002fPK9AP6RyHz+XuFE\\u002fMq9NPwVJIj8BAIA\\u002f+MJLP0opTz+pdUM\\u002fyj1LP8pzMz\\u002fsFBY\\u002fnoDxPql8Gj9CRFo\\u002f5opLP3YMKD+qfFs\\u002feNVbP4rjGT\\u002f4wks\\u002fAgCAP+SyDj90GlE\\u002fMW5FPxf6JD94bkk\\u002fuXUoP0hXSj9yBgc\\u002fTnvePjAafD4hAAU\\u002f9lsBP2ZuUz9KKU8\\u002f5LIOP\\u002f7\\u002ffz8qlOg+7K0kP1L5Lj\\u002fCQzc\\u002fvtgHP5wZEz9OjGo\\u002fWg9uPyhXWT\\u002fCVGo\\u002fU0RpP2TH\\u002fT6pdUM\\u002fdBpRPyqU6D7\\u002f\\u002f38\\u002fwdw3P+QJCj8mTvA+zhQCP3RIKD80TUs\\u002fHqQ2P5p9Dz\\u002f71E4\\u002fhlBHP1ynOj\\u002fKPUs\\u002fMW5FP+ytJD\\u002fB3Dc\\u002fAQCAP\\u002fg4PT+ezRY\\u002fgn70Po5wJD9\\u002fwxo\\u002fQTIDP1bFuT7KYCI\\u002fq1AeP\\u002fjdNz\\u002fKczM\\u002fF\\u002fokP1L5Lj\\u002fkCQo\\u002f+Dg9P\\u002fz\\u002ffz9nOhw\\u002fp7QZP6K7Oj\\u002f2JwM\\u002f4hLePoIAgj4ligI\\u002fu9kEP8UyOz\\u002fsFBY\\u002feG5JP8JDNz8mTvA+ns0WP2c6HD8BAIA\\u002f\",\"shape\":\"15, 15\"},\"type\":\"heatmap\",\"xaxis\":\"x\",\"yaxis\":\"y\",\"hovertemplate\":\"x: %{x}\\u003cbr\\u003ey: %{y}\\u003cbr\\u003eSimilarity Score: %{z}\\u003cextra\\u003e\\u003c\\u002fextra\\u003e\"}],                        {\"template\":{\"data\":{\"histogram2dcontour\":[{\"type\":\"histogram2dcontour\",\"colorbar\":{\"outlinewidth\":0,\"ticks\":\"\"},\"colorscale\":[[0.0,\"#0d0887\"],[0.1111111111111111,\"#46039f\"],[0.2222222222222222,\"#7201a8\"],[0.3333333333333333,\"#9c179e\"],[0.4444444444444444,\"#bd3786\"],[0.5555555555555556,\"#d8576b\"],[0.6666666666666666,\"#ed7953\"],[0.7777777777777778,\"#fb9f3a\"],[0.8888888888888888,\"#fdca26\"],[1.0,\"#f0f921\"]]}],\"choropleth\":[{\"type\":\"choropleth\",\"colorbar\":{\"outlinewidth\":0,\"ticks\":\"\"}}],\"histogram2d\":[{\"type\":\"histogram2d\",\"colorbar\":{\"outlinewidth\":0,\"ticks\":\"\"},\"colorscale\":[[0.0,\"#0d0887\"],[0.1111111111111111,\"#46039f\"],[0.2222222222222222,\"#7201a8\"],[0.3333333333333333,\"#9c179e\"],[0.4444444444444444,\"#bd3786\"],[0.5555555555555556,\"#d8576b\"],[0.6666666666666666,\"#ed7953\"],[0.7777777777777778,\"#fb9f3a\"],[0.8888888888888888,\"#fdca26\"],[1.0,\"#f0f921\"]]}],\"heatmap\":[{\"type\":\"heatmap\",\"colorbar\":{\"outlinewidth\":0,\"ticks\":\"\"},\"colorscale\":[[0.0,\"#0d0887\"],[0.1111111111111111,\"#46039f\"],[0.2222222222222222,\"#7201a8\"],[0.3333333333333333,\"#9c179e\"],[0.4444444444444444,\"#bd3786\"],[0.5555555555555556,\"#d8576b\"],[0.6666666666666666,\"#ed7953\"],[0.7777777777777778,\"#fb9f3a\"],[0.8888888888888888,\"#fdca26\"],[1.0,\"#f0f921\"]]}],\"contourcarpet\":[{\"type\":\"contourcarpet\",\"colorbar\":{\"outlinewidth\":0,\"ticks\":\"\"}}],\"contour\":[{\"type\":\"contour\",\"colorbar\":{\"outlinewidth\":0,\"ticks\":\"\"},\"colorscale\":[[0.0,\"#0d0887\"],[0.1111111111111111,\"#46039f\"],[0.2222222222222222,\"#7201a8\"],[0.3333333333333333,\"#9c179e\"],[0.4444444444444444,\"#bd3786\"],[0.5555555555555556,\"#d8576b\"],[0.6666666666666666,\"#ed7953\"],[0.7777777777777778,\"#fb9f3a\"],[0.8888888888888888,\"#fdca26\"],[1.0,\"#f0f921\"]]}],\"surface\":[{\"type\":\"surface\",\"colorbar\":{\"outlinewidth\":0,\"ticks\":\"\"},\"colorscale\":[[0.0,\"#0d0887\"],[0.1111111111111111,\"#46039f\"],[0.2222222222222222,\"#7201a8\"],[0.3333333333333333,\"#9c179e\"],[0.4444444444444444,\"#bd3786\"],[0.5555555555555556,\"#d8576b\"],[0.6666666666666666,\"#ed7953\"],[0.7777777777777778,\"#fb9f3a\"],[0.8888888888888888,\"#fdca26\"],[1.0,\"#f0f921\"]]}],\"mesh3d\":[{\"type\":\"mesh3d\",\"colorbar\":{\"outlinewidth\":0,\"ticks\":\"\"}}],\"scatter\":[{\"fillpattern\":{\"fillmode\":\"overlay\",\"size\":10,\"solidity\":0.2},\"type\":\"scatter\"}],\"parcoords\":[{\"type\":\"parcoords\",\"line\":{\"colorbar\":{\"outlinewidth\":0,\"ticks\":\"\"}}}],\"scatterpolargl\":[{\"type\":\"scatterpolargl\",\"marker\":{\"colorbar\":{\"outlinewidth\":0,\"ticks\":\"\"}}}],\"bar\":[{\"error_x\":{\"color\":\"#2a3f5f\"},\"error_y\":{\"color\":\"#2a3f5f\"},\"marker\":{\"line\":{\"color\":\"#E5ECF6\",\"width\":0.5},\"pattern\":{\"fillmode\":\"overlay\",\"size\":10,\"solidity\":0.2}},\"type\":\"bar\"}],\"scattergeo\":[{\"type\":\"scattergeo\",\"marker\":{\"colorbar\":{\"outlinewidth\":0,\"ticks\":\"\"}}}],\"scatterpolar\":[{\"type\":\"scatterpolar\",\"marker\":{\"colorbar\":{\"outlinewidth\":0,\"ticks\":\"\"}}}],\"histogram\":[{\"marker\":{\"pattern\":{\"fillmode\":\"overlay\",\"size\":10,\"solidity\":0.2}},\"type\":\"histogram\"}],\"scattergl\":[{\"type\":\"scattergl\",\"marker\":{\"colorbar\":{\"outlinewidth\":0,\"ticks\":\"\"}}}],\"scatter3d\":[{\"type\":\"scatter3d\",\"line\":{\"colorbar\":{\"outlinewidth\":0,\"ticks\":\"\"}},\"marker\":{\"colorbar\":{\"outlinewidth\":0,\"ticks\":\"\"}}}],\"scattermap\":[{\"type\":\"scattermap\",\"marker\":{\"colorbar\":{\"outlinewidth\":0,\"ticks\":\"\"}}}],\"scattermapbox\":[{\"type\":\"scattermapbox\",\"marker\":{\"colorbar\":{\"outlinewidth\":0,\"ticks\":\"\"}}}],\"scatterternary\":[{\"type\":\"scatterternary\",\"marker\":{\"colorbar\":{\"outlinewidth\":0,\"ticks\":\"\"}}}],\"scattercarpet\":[{\"type\":\"scattercarpet\",\"marker\":{\"colorbar\":{\"outlinewidth\":0,\"ticks\":\"\"}}}],\"carpet\":[{\"aaxis\":{\"endlinecolor\":\"#2a3f5f\",\"gridcolor\":\"white\",\"linecolor\":\"white\",\"minorgridcolor\":\"white\",\"startlinecolor\":\"#2a3f5f\"},\"baxis\":{\"endlinecolor\":\"#2a3f5f\",\"gridcolor\":\"white\",\"linecolor\":\"white\",\"minorgridcolor\":\"white\",\"startlinecolor\":\"#2a3f5f\"},\"type\":\"carpet\"}],\"table\":[{\"cells\":{\"fill\":{\"color\":\"#EBF0F8\"},\"line\":{\"color\":\"white\"}},\"header\":{\"fill\":{\"color\":\"#C8D4E3\"},\"line\":{\"color\":\"white\"}},\"type\":\"table\"}],\"barpolar\":[{\"marker\":{\"line\":{\"color\":\"#E5ECF6\",\"width\":0.5},\"pattern\":{\"fillmode\":\"overlay\",\"size\":10,\"solidity\":0.2}},\"type\":\"barpolar\"}],\"pie\":[{\"automargin\":true,\"type\":\"pie\"}]},\"layout\":{\"autotypenumbers\":\"strict\",\"colorway\":[\"#636efa\",\"#EF553B\",\"#00cc96\",\"#ab63fa\",\"#FFA15A\",\"#19d3f3\",\"#FF6692\",\"#B6E880\",\"#FF97FF\",\"#FECB52\"],\"font\":{\"color\":\"#2a3f5f\"},\"hovermode\":\"closest\",\"hoverlabel\":{\"align\":\"left\"},\"paper_bgcolor\":\"white\",\"plot_bgcolor\":\"#E5ECF6\",\"polar\":{\"bgcolor\":\"#E5ECF6\",\"angularaxis\":{\"gridcolor\":\"white\",\"linecolor\":\"white\",\"ticks\":\"\"},\"radialaxis\":{\"gridcolor\":\"white\",\"linecolor\":\"white\",\"ticks\":\"\"}},\"ternary\":{\"bgcolor\":\"#E5ECF6\",\"aaxis\":{\"gridcolor\":\"white\",\"linecolor\":\"white\",\"ticks\":\"\"},\"baxis\":{\"gridcolor\":\"white\",\"linecolor\":\"white\",\"ticks\":\"\"},\"caxis\":{\"gridcolor\":\"white\",\"linecolor\":\"white\",\"ticks\":\"\"}},\"coloraxis\":{\"colorbar\":{\"outlinewidth\":0,\"ticks\":\"\"}},\"colorscale\":{\"sequential\":[[0.0,\"#0d0887\"],[0.1111111111111111,\"#46039f\"],[0.2222222222222222,\"#7201a8\"],[0.3333333333333333,\"#9c179e\"],[0.4444444444444444,\"#bd3786\"],[0.5555555555555556,\"#d8576b\"],[0.6666666666666666,\"#ed7953\"],[0.7777777777777778,\"#fb9f3a\"],[0.8888888888888888,\"#fdca26\"],[1.0,\"#f0f921\"]],\"sequentialminus\":[[0.0,\"#0d0887\"],[0.1111111111111111,\"#46039f\"],[0.2222222222222222,\"#7201a8\"],[0.3333333333333333,\"#9c179e\"],[0.4444444444444444,\"#bd3786\"],[0.5555555555555556,\"#d8576b\"],[0.6666666666666666,\"#ed7953\"],[0.7777777777777778,\"#fb9f3a\"],[0.8888888888888888,\"#fdca26\"],[1.0,\"#f0f921\"]],\"diverging\":[[0,\"#8e0152\"],[0.1,\"#c51b7d\"],[0.2,\"#de77ae\"],[0.3,\"#f1b6da\"],[0.4,\"#fde0ef\"],[0.5,\"#f7f7f7\"],[0.6,\"#e6f5d0\"],[0.7,\"#b8e186\"],[0.8,\"#7fbc41\"],[0.9,\"#4d9221\"],[1,\"#276419\"]]},\"xaxis\":{\"gridcolor\":\"white\",\"linecolor\":\"white\",\"ticks\":\"\",\"title\":{\"standoff\":15},\"zerolinecolor\":\"white\",\"automargin\":true,\"zerolinewidth\":2},\"yaxis\":{\"gridcolor\":\"white\",\"linecolor\":\"white\",\"ticks\":\"\",\"title\":{\"standoff\":15},\"zerolinecolor\":\"white\",\"automargin\":true,\"zerolinewidth\":2},\"scene\":{\"xaxis\":{\"backgroundcolor\":\"#E5ECF6\",\"gridcolor\":\"white\",\"linecolor\":\"white\",\"showbackground\":true,\"ticks\":\"\",\"zerolinecolor\":\"white\",\"gridwidth\":2},\"yaxis\":{\"backgroundcolor\":\"#E5ECF6\",\"gridcolor\":\"white\",\"linecolor\":\"white\",\"showbackground\":true,\"ticks\":\"\",\"zerolinecolor\":\"white\",\"gridwidth\":2},\"zaxis\":{\"backgroundcolor\":\"#E5ECF6\",\"gridcolor\":\"white\",\"linecolor\":\"white\",\"showbackground\":true,\"ticks\":\"\",\"zerolinecolor\":\"white\",\"gridwidth\":2}},\"shapedefaults\":{\"line\":{\"color\":\"#2a3f5f\"}},\"annotationdefaults\":{\"arrowcolor\":\"#2a3f5f\",\"arrowhead\":0,\"arrowwidth\":1},\"geo\":{\"bgcolor\":\"white\",\"landcolor\":\"#E5ECF6\",\"subunitcolor\":\"white\",\"showland\":true,\"showlakes\":true,\"lakecolor\":\"white\"},\"title\":{\"x\":0.05},\"mapbox\":{\"style\":\"light\"}}},\"xaxis\":{\"anchor\":\"y\",\"domain\":[0.0,1.0],\"scaleanchor\":\"y\",\"constrain\":\"domain\"},\"yaxis\":{\"anchor\":\"x\",\"domain\":[0.0,1.0],\"autorange\":\"reversed\",\"constrain\":\"domain\"},\"coloraxis\":{\"colorbar\":{\"title\":{\"text\":\"Similarity Score\"}},\"colorscale\":[[0.0,\"rgb(247,252,240)\"],[0.125,\"rgb(224,243,219)\"],[0.25,\"rgb(204,235,197)\"],[0.375,\"rgb(168,221,181)\"],[0.5,\"rgb(123,204,196)\"],[0.625,\"rgb(78,179,211)\"],[0.75,\"rgb(43,140,190)\"],[0.875,\"rgb(8,104,172)\"],[1.0,\"rgb(8,64,129)\"]]},\"margin\":{\"t\":60},\"title\":{\"font\":{\"size\":22,\"color\":\"Black\"},\"text\":\"\\u003cb\\u003eSimilarity Matrix\\u003c\\u002fb\\u003e\",\"y\":0.95,\"x\":0.55,\"xanchor\":\"center\",\"yanchor\":\"top\"},\"hoverlabel\":{\"font\":{\"size\":16,\"family\":\"Rockwell\"},\"bgcolor\":\"white\"},\"width\":800,\"height\":800,\"showlegend\":true,\"legend\":{\"title\":{\"text\":\"Trend\"}}},                        {\"responsive\": true}                    )                };            </script>        </div>"
      ],
      "text/plain": [
       "Figure({\n",
       "    'data': [{'coloraxis': 'coloraxis',\n",
       "              'hovertemplate': 'x: %{x}<br>y: %{y}<br>Similarity Score: %{z}<extra></extra>',\n",
       "              'name': '0',\n",
       "              'type': 'heatmap',\n",
       "              'x': [0_prabowo_gibran_dukung, 1_prabowo_gibran_menang,\n",
       "                    2_02_orang_dukung, 3_02_dukung_pasang, 4_02_dukung_pilih,\n",
       "                    5_02_kampanye_agama, 6_kayak_02_suara,\n",
       "                    7_gibran_rakabuming_raka, 8_presiden_calon_wakil,\n",
       "                    9_debat_02_program, 10_presiden_prabowo_calon,\n",
       "                    11_menang_02_teman, 12_politik_israel_palestina,\n",
       "                    13_demokrasi_partai_juang, 14_debat_prabowo_presiden],\n",
       "              'xaxis': 'x',\n",
       "              'y': [0_prabowo_gibran_dukung, 1_prabowo_gibran_menang,\n",
       "                    2_02_orang_dukung, 3_02_dukung_pasang, 4_02_dukung_pilih,\n",
       "                    5_02_kampanye_agama, 6_kayak_02_suara,\n",
       "                    7_gibran_rakabuming_raka, 8_presiden_calon_wakil,\n",
       "                    9_debat_02_program, 10_presiden_prabowo_calon,\n",
       "                    11_menang_02_teman, 12_politik_israel_palestina,\n",
       "                    13_demokrasi_partai_juang, 14_debat_prabowo_presiden],\n",
       "              'yaxis': 'y',\n",
       "              'z': {'bdata': ('AQCAP2iSYD/0axg/VkkePwqCAD8YOQ' ... '5JP8JDNz8mTvA+ns0WP2c6HD8BAIA/'),\n",
       "                    'dtype': 'f4',\n",
       "                    'shape': '15, 15'}}],\n",
       "    'layout': {'coloraxis': {'colorbar': {'title': {'text': 'Similarity Score'}},\n",
       "                             'colorscale': [[0.0, 'rgb(247,252,240)'], [0.125,\n",
       "                                            'rgb(224,243,219)'], [0.25,\n",
       "                                            'rgb(204,235,197)'], [0.375,\n",
       "                                            'rgb(168,221,181)'], [0.5,\n",
       "                                            'rgb(123,204,196)'], [0.625,\n",
       "                                            'rgb(78,179,211)'], [0.75,\n",
       "                                            'rgb(43,140,190)'], [0.875,\n",
       "                                            'rgb(8,104,172)'], [1.0,\n",
       "                                            'rgb(8,64,129)']]},\n",
       "               'height': 800,\n",
       "               'hoverlabel': {'bgcolor': 'white', 'font': {'family': 'Rockwell', 'size': 16}},\n",
       "               'legend': {'title': {'text': 'Trend'}},\n",
       "               'margin': {'t': 60},\n",
       "               'showlegend': True,\n",
       "               'template': '...',\n",
       "               'title': {'font': {'color': 'Black', 'size': 22},\n",
       "                         'text': '<b>Similarity Matrix</b>',\n",
       "                         'x': 0.55,\n",
       "                         'xanchor': 'center',\n",
       "                         'y': 0.95,\n",
       "                         'yanchor': 'top'},\n",
       "               'width': 800,\n",
       "               'xaxis': {'anchor': 'y', 'constrain': 'domain', 'domain': [0.0, 1.0], 'scaleanchor': 'y'},\n",
       "               'yaxis': {'anchor': 'x', 'autorange': 'reversed', 'constrain': 'domain', 'domain': [0.0, 1.0]}}\n",
       "})"
      ]
     },
     "execution_count": 18,
     "metadata": {},
     "output_type": "execute_result"
    }
   ],
   "source": [
    "# Topic summary table\n",
    "topic_info = topic_model_kmeans.get_topic_info()\n",
    "print(topic_info)\n",
    "\n",
    "# Interactive visualizations\n",
    "topic_model_kmeans.visualize_topics()\n",
    "topic_model_kmeans.visualize_barchart(top_n_topics=15)\n",
    "topic_model_kmeans.visualize_heatmap()\n"
   ]
  },
  {
   "cell_type": "code",
   "execution_count": 19,
   "id": "f546c217",
   "metadata": {},
   "outputs": [
    {
     "data": {
      "text/html": [
       "<div>\n",
       "<style scoped>\n",
       "    .dataframe tbody tr th:only-of-type {\n",
       "        vertical-align: middle;\n",
       "    }\n",
       "\n",
       "    .dataframe tbody tr th {\n",
       "        vertical-align: top;\n",
       "    }\n",
       "\n",
       "    .dataframe thead th {\n",
       "        text-align: right;\n",
       "    }\n",
       "</style>\n",
       "<table border=\"1\" class=\"dataframe\">\n",
       "  <thead>\n",
       "    <tr style=\"text-align: right;\">\n",
       "      <th></th>\n",
       "      <th>Topic</th>\n",
       "      <th>Count</th>\n",
       "      <th>Name</th>\n",
       "      <th>Representation</th>\n",
       "      <th>Representative_Docs</th>\n",
       "    </tr>\n",
       "  </thead>\n",
       "  <tbody>\n",
       "    <tr>\n",
       "      <th>0</th>\n",
       "      <td>0</td>\n",
       "      <td>13797</td>\n",
       "      <td>0_prabowo_gibran_dukung_orang</td>\n",
       "      <td>[prabowo, gibran, dukung, orang, jokowi, pilih...</td>\n",
       "      <td>[pikir dukung prabowo gibran kasihan coba, duk...</td>\n",
       "    </tr>\n",
       "    <tr>\n",
       "      <th>1</th>\n",
       "      <td>1</td>\n",
       "      <td>10325</td>\n",
       "      <td>1_prabowo_gibran_menang_orang</td>\n",
       "      <td>[prabowo, gibran, menang, orang, jokowi, anies...</td>\n",
       "      <td>[dukung ganjar amin alih prabowo gibran menang...</td>\n",
       "    </tr>\n",
       "    <tr>\n",
       "      <th>2</th>\n",
       "      <td>2</td>\n",
       "      <td>10032</td>\n",
       "      <td>2_02_orang_dukung_pasang</td>\n",
       "      <td>[02, orang, dukung, pasang, pilih, banget, cal...</td>\n",
       "      <td>[prabowo orang pasang calon 02 mampu personal ...</td>\n",
       "    </tr>\n",
       "    <tr>\n",
       "      <th>3</th>\n",
       "      <td>3</td>\n",
       "      <td>9214</td>\n",
       "      <td>3_02_dukung_pasang_pilih</td>\n",
       "      <td>[02, dukung, pasang, pilih, calon, buzzer, ban...</td>\n",
       "      <td>[prabowo salah duit dukung 02, dukung dukung p...</td>\n",
       "    </tr>\n",
       "    <tr>\n",
       "      <th>4</th>\n",
       "      <td>4</td>\n",
       "      <td>9089</td>\n",
       "      <td>4_02_dukung_pilih_buzzer</td>\n",
       "      <td>[02, dukung, pilih, buzzer, banget, bang, kala...</td>\n",
       "      <td>[dukung 02 nyebokin banget, 02 pilih takut, sa...</td>\n",
       "    </tr>\n",
       "  </tbody>\n",
       "</table>\n",
       "</div>"
      ],
      "text/plain": [
       "   Topic  Count                           Name  \\\n",
       "0      0  13797  0_prabowo_gibran_dukung_orang   \n",
       "1      1  10325  1_prabowo_gibran_menang_orang   \n",
       "2      2  10032       2_02_orang_dukung_pasang   \n",
       "3      3   9214       3_02_dukung_pasang_pilih   \n",
       "4      4   9089       4_02_dukung_pilih_buzzer   \n",
       "\n",
       "                                      Representation  \\\n",
       "0  [prabowo, gibran, dukung, orang, jokowi, pilih...   \n",
       "1  [prabowo, gibran, menang, orang, jokowi, anies...   \n",
       "2  [02, orang, dukung, pasang, pilih, banget, cal...   \n",
       "3  [02, dukung, pasang, pilih, calon, buzzer, ban...   \n",
       "4  [02, dukung, pilih, buzzer, banget, bang, kala...   \n",
       "\n",
       "                                 Representative_Docs  \n",
       "0  [pikir dukung prabowo gibran kasihan coba, duk...  \n",
       "1  [dukung ganjar amin alih prabowo gibran menang...  \n",
       "2  [prabowo orang pasang calon 02 mampu personal ...  \n",
       "3  [prabowo salah duit dukung 02, dukung dukung p...  \n",
       "4  [dukung 02 nyebokin banget, 02 pilih takut, sa...  "
      ]
     },
     "metadata": {},
     "output_type": "display_data"
    }
   ],
   "source": [
    "topic_info = topic_model_kmeans.get_topic_info()\n",
    "display(topic_info.head())        "
   ]
  },
  {
   "cell_type": "code",
   "execution_count": 20,
   "id": "465c7879",
   "metadata": {},
   "outputs": [
    {
     "name": "stdout",
     "output_type": "stream",
     "text": [
      "\n",
      "Topic 0\n",
      "[('prabowo', np.float64(0.1537778624996075)), ('gibran', np.float64(0.03637419656866257)), ('dukung', np.float64(0.022999731988196617)), ('orang', np.float64(0.022511897939696122)), ('jokowi', np.float64(0.02157002575293172)), ('pilih', np.float64(0.019958625829038668)), ('ganjar', np.float64(0.01908576024333069)), ('anies', np.float64(0.01744948740431866)), ('mas', np.float64(0.015853876317828444)), ('pimpin', np.float64(0.015451577629413748))]\n",
      "\n",
      "Topic 1\n",
      "[('prabowo', np.float64(0.08621333534597744)), ('gibran', np.float64(0.035369486444867086)), ('menang', np.float64(0.02349582176145096)), ('orang', np.float64(0.022783173581615072)), ('jokowi', np.float64(0.022527001943444126)), ('anies', np.float64(0.02073026287562034)), ('ganjar', np.float64(0.020071821097078755)), ('dukung', np.float64(0.018567712473022528)), ('pilih', np.float64(0.018179818587281547)), ('rakyat', np.float64(0.01777177858283392))]\n",
      "\n",
      "Topic 2\n",
      "[('02', np.float64(0.06086855409374326)), ('orang', np.float64(0.04270501963526907)), ('dukung', np.float64(0.03854952866626825)), ('pasang', np.float64(0.02639760647336985)), ('pilih', np.float64(0.0236106253024134)), ('banget', np.float64(0.01986873009973046)), ('calon', np.float64(0.018984795714006266)), ('main', np.float64(0.01678074029261658)), ('buzzer', np.float64(0.015657737117394953)), ('fakta', np.float64(0.014077521506021562))]\n",
      "\n",
      "Topic 3\n",
      "[('02', np.float64(0.09832469893794103)), ('dukung', np.float64(0.05164785732427692)), ('pasang', np.float64(0.03669365230017733)), ('pilih', np.float64(0.02939976801195413)), ('calon', np.float64(0.02608581430326582)), ('buzzer', np.float64(0.02418591886980083)), ('banget', np.float64(0.023236994950698184)), ('kubu', np.float64(0.022533862328118843)), ('salah', np.float64(0.017758427456704678)), ('biar', np.float64(0.015693813117159453))]\n",
      "\n",
      "Topic 4\n",
      "[('02', np.float64(0.17103010684744294)), ('dukung', np.float64(0.060310030919203866)), ('pilih', np.float64(0.03686097941223856)), ('buzzer', np.float64(0.03681139975224698)), ('banget', np.float64(0.018675880920272964)), ('bang', np.float64(0.01727420190960644)), ('kalah', np.float64(0.01681180582257853)), ('deh', np.float64(0.016612972881383206)), ('pasang', np.float64(0.016027812413997138)), ('bodoh', np.float64(0.013742790096558351))]\n",
      "\n",
      "Topic 5\n",
      "[('02', np.float64(0.06668982706535977)), ('kampanye', np.float64(0.04631079876923086)), ('agama', np.float64(0.04096755697022014)), ('indonesia', np.float64(0.03605039919159745)), ('kerja', np.float64(0.0336720330941432)), ('nista', np.float64(0.03306401095838622)), ('dukung', np.float64(0.0288913327989357)), ('pilih', np.float64(0.02619733323210367)), ('pasang', np.float64(0.02586360726194237)), ('pintar', np.float64(0.023221859042127865))]\n",
      "\n",
      "Topic 6\n",
      "[('kayak', np.float64(0.06592451537303817)), ('02', np.float64(0.06443767299101417)), ('suara', np.float64(0.044160604099783236)), ('survei', np.float64(0.04205940571338859)), ('video', np.float64(0.03272417877670968)), ('data', np.float64(0.031635494489296596)), ('dukung', np.float64(0.031339047594490854)), ('media', np.float64(0.030473576386923797)), ('berita', np.float64(0.024218753626197145)), ('pasang', np.float64(0.023720354320388572))]\n",
      "\n",
      "Topic 7\n",
      "[('gibran', np.float64(0.07072482459580468)), ('rakabuming', np.float64(0.06952840268637189)), ('raka', np.float64(0.06874355141964165)), ('prabowo', np.float64(0.06294257834685688)), ('indonesia', np.float64(0.060052657231724586)), ('subianto', np.float64(0.04373314858938136)), ('politik', np.float64(0.03782207042631375)), ('program', np.float64(0.02958177318148125)), ('presiden', np.float64(0.027355283234402145)), ('wakil', np.float64(0.024521604730011564))]\n",
      "\n",
      "Topic 8\n",
      "[('presiden', np.float64(0.1479025378710047)), ('calon', np.float64(0.10385702562868596)), ('wakil', np.float64(0.06050589241932973)), ('02', np.float64(0.052678717566177286)), ('pilih', np.float64(0.038960334018858754)), ('dukung', np.float64(0.025302637331746338)), ('pasang', np.float64(0.01823978155431816)), ('orang', np.float64(0.017566082066697675)), ('menang', np.float64(0.015161219591488414)), ('anak', np.float64(0.01477254740475629))]\n",
      "\n",
      "Topic 9\n",
      "[('debat', np.float64(0.1354409228225501)), ('02', np.float64(0.05261004344496173)), ('program', np.float64(0.04847688987537243)), ('calon', np.float64(0.04179602738532244)), ('gratis', np.float64(0.03784350628317558)), ('makan', np.float64(0.033209557156415014)), ('presiden', np.float64(0.02920135884519668)), ('pasang', np.float64(0.024239065657381906)), ('dukung', np.float64(0.023842200896590397)), ('strategi', np.float64(0.02087565497237477))]\n",
      "\n",
      "Topic 10\n",
      "[('presiden', np.float64(0.1527312290190616)), ('prabowo', np.float64(0.07290837245864708)), ('calon', np.float64(0.06278963928855695)), ('pilih', np.float64(0.06163136379068181)), ('wakil', np.float64(0.04791725588904585)), ('gibran', np.float64(0.039036281360937744)), ('jokowi', np.float64(0.03263298631524583)), ('menang', np.float64(0.020197337740680454)), ('ganjar', np.float64(0.01879820863896615)), ('kali', np.float64(0.018721580226431354))]\n",
      "\n",
      "Topic 11\n",
      "[('menang', np.float64(0.14650399730432176)), ('02', np.float64(0.08340188947794182)), ('teman', np.float64(0.061012031002670795)), ('panik', np.float64(0.04880333275715046)), ('gara', np.float64(0.04559789602940689)), ('sukses', np.float64(0.04351117636429414)), ('tim', np.float64(0.03937747242344034)), ('pilih', np.float64(0.025412511864405)), ('dukung', np.float64(0.025000574657104358)), ('pasang', np.float64(0.01996175086995486))]\n",
      "\n",
      "Topic 12\n",
      "[('politik', np.float64(0.13312281655646915)), ('israel', np.float64(0.06365922161516108)), ('palestina', np.float64(0.060846711669930546)), ('polisi', np.float64(0.05195270810843981)), ('02', np.float64(0.040887624960181605)), ('dukung', np.float64(0.032788001489638584)), ('indonesia', np.float64(0.030178979103700203)), ('republik', np.float64(0.026600616531702856)), ('pilih', np.float64(0.02204853533491518)), ('calon', np.float64(0.020659768375270962))]\n",
      "\n",
      "Topic 13\n",
      "[('demokrasi', np.float64(0.1909832933543296)), ('partai', np.float64(0.11575624624264988)), ('juang', np.float64(0.09272514756300058)), ('indonesia', np.float64(0.08125795306447257)), ('demokrat', np.float64(0.07245350167450597)), ('pilih', np.float64(0.029378043621759442)), ('jokowi', np.float64(0.028521056292895128)), ('prabowo', np.float64(0.027822772558130756)), ('02', np.float64(0.02575768706561441)), ('presiden', np.float64(0.024383238352521253))]\n",
      "\n",
      "Topic 14\n",
      "[('debat', np.float64(0.20581389017991408)), ('prabowo', np.float64(0.0657479370121362)), ('presiden', np.float64(0.062054788274355226)), ('calon', np.float64(0.05146096697513196)), ('gibran', np.float64(0.05064981079212586)), ('wakil', np.float64(0.04635359863531554)), ('rakabuming', np.float64(0.03512818837517806)), ('anies', np.float64(0.027362594886724687)), ('ganjar', np.float64(0.02419589589764291)), ('kemarin', np.float64(0.022365474141938194))]\n"
     ]
    }
   ],
   "source": [
    "for tid in topic_info['Topic'][:15]:   # first 10 topics\n",
    "    print(f\"\\nTopic {tid}\")\n",
    "    print(topic_model_kmeans.get_topic(tid)[:15])  # top-15 words\n"
   ]
  },
  {
   "cell_type": "code",
   "execution_count": 21,
   "id": "40d16664",
   "metadata": {},
   "outputs": [
    {
     "ename": "ValueError",
     "evalue": "Mime type rendering requires nbformat>=4.2.0 but it is not installed",
     "output_type": "error",
     "traceback": [
      "\u001b[1;31m---------------------------------------------------------------------------\u001b[0m",
      "\u001b[1;31mValueError\u001b[0m                                Traceback (most recent call last)",
      "File \u001b[1;32m~\\AppData\\Roaming\\Python\\Python310\\site-packages\\IPython\\core\\formatters.py:925\u001b[0m, in \u001b[0;36mIPythonDisplayFormatter.__call__\u001b[1;34m(self, obj)\u001b[0m\n\u001b[0;32m    923\u001b[0m method \u001b[38;5;241m=\u001b[39m get_real_method(obj, \u001b[38;5;28mself\u001b[39m\u001b[38;5;241m.\u001b[39mprint_method)\n\u001b[0;32m    924\u001b[0m \u001b[38;5;28;01mif\u001b[39;00m method \u001b[38;5;129;01mis\u001b[39;00m \u001b[38;5;129;01mnot\u001b[39;00m \u001b[38;5;28;01mNone\u001b[39;00m:\n\u001b[1;32m--> 925\u001b[0m     \u001b[43mmethod\u001b[49m\u001b[43m(\u001b[49m\u001b[43m)\u001b[49m\n\u001b[0;32m    926\u001b[0m     \u001b[38;5;28;01mreturn\u001b[39;00m \u001b[38;5;28;01mTrue\u001b[39;00m\n",
      "File \u001b[1;32mc:\\Users\\PC\\AppData\\Local\\Programs\\Python\\Python310\\lib\\site-packages\\plotly\\basedatatypes.py:846\u001b[0m, in \u001b[0;36mBaseFigure._ipython_display_\u001b[1;34m(self)\u001b[0m\n\u001b[0;32m    843\u001b[0m \u001b[38;5;28;01mimport\u001b[39;00m \u001b[38;5;21;01mplotly\u001b[39;00m\u001b[38;5;21;01m.\u001b[39;00m\u001b[38;5;21;01mio\u001b[39;00m \u001b[38;5;28;01mas\u001b[39;00m \u001b[38;5;21;01mpio\u001b[39;00m\n\u001b[0;32m    845\u001b[0m \u001b[38;5;28;01mif\u001b[39;00m pio\u001b[38;5;241m.\u001b[39mrenderers\u001b[38;5;241m.\u001b[39mrender_on_display \u001b[38;5;129;01mand\u001b[39;00m pio\u001b[38;5;241m.\u001b[39mrenderers\u001b[38;5;241m.\u001b[39mdefault:\n\u001b[1;32m--> 846\u001b[0m     \u001b[43mpio\u001b[49m\u001b[38;5;241;43m.\u001b[39;49m\u001b[43mshow\u001b[49m\u001b[43m(\u001b[49m\u001b[38;5;28;43mself\u001b[39;49m\u001b[43m)\u001b[49m\n\u001b[0;32m    847\u001b[0m \u001b[38;5;28;01melse\u001b[39;00m:\n\u001b[0;32m    848\u001b[0m     \u001b[38;5;28mprint\u001b[39m(\u001b[38;5;28mrepr\u001b[39m(\u001b[38;5;28mself\u001b[39m))\n",
      "File \u001b[1;32mc:\\Users\\PC\\AppData\\Local\\Programs\\Python\\Python310\\lib\\site-packages\\plotly\\io\\_renderers.py:425\u001b[0m, in \u001b[0;36mshow\u001b[1;34m(fig, renderer, validate, **kwargs)\u001b[0m\n\u001b[0;32m    420\u001b[0m     \u001b[38;5;28;01mraise\u001b[39;00m \u001b[38;5;167;01mValueError\u001b[39;00m(\n\u001b[0;32m    421\u001b[0m         \u001b[38;5;124m\"\u001b[39m\u001b[38;5;124mMime type rendering requires ipython but it is not installed\u001b[39m\u001b[38;5;124m\"\u001b[39m\n\u001b[0;32m    422\u001b[0m     )\n\u001b[0;32m    424\u001b[0m \u001b[38;5;28;01mif\u001b[39;00m \u001b[38;5;129;01mnot\u001b[39;00m nbformat \u001b[38;5;129;01mor\u001b[39;00m Version(nbformat\u001b[38;5;241m.\u001b[39m__version__) \u001b[38;5;241m<\u001b[39m Version(\u001b[38;5;124m\"\u001b[39m\u001b[38;5;124m4.2.0\u001b[39m\u001b[38;5;124m\"\u001b[39m):\n\u001b[1;32m--> 425\u001b[0m     \u001b[38;5;28;01mraise\u001b[39;00m \u001b[38;5;167;01mValueError\u001b[39;00m(\n\u001b[0;32m    426\u001b[0m         \u001b[38;5;124m\"\u001b[39m\u001b[38;5;124mMime type rendering requires nbformat>=4.2.0 but it is not installed\u001b[39m\u001b[38;5;124m\"\u001b[39m\n\u001b[0;32m    427\u001b[0m     )\n\u001b[0;32m    429\u001b[0m display_jupyter_version_warnings()\n\u001b[0;32m    431\u001b[0m ipython_display\u001b[38;5;241m.\u001b[39mdisplay(bundle, raw\u001b[38;5;241m=\u001b[39m\u001b[38;5;28;01mTrue\u001b[39;00m)\n",
      "\u001b[1;31mValueError\u001b[0m: Mime type rendering requires nbformat>=4.2.0 but it is not installed"
     ]
    },
    {
     "data": {
      "application/vnd.plotly.v1+json": {
       "config": {
        "plotlyServerURL": "https://plot.ly"
       },
       "data": [
        {
         "customdata": [
          [
           0,
           "prabowo | gibran | dukung | orang | jokowi",
           13797
          ],
          [
           1,
           "prabowo | gibran | menang | orang | jokowi",
           10325
          ],
          [
           2,
           "02 | orang | dukung | pasang | pilih",
           10032
          ],
          [
           3,
           "02 | dukung | pasang | pilih | calon",
           9214
          ],
          [
           4,
           "02 | dukung | pilih | buzzer | banget",
           9089
          ],
          [
           5,
           "02 | kampanye | agama | indonesia | kerja",
           6783
          ],
          [
           6,
           "kayak | 02 | suara | survei | video",
           6692
          ],
          [
           7,
           "gibran | rakabuming | raka | prabowo | indonesia",
           6178
          ],
          [
           8,
           "presiden | calon | wakil | 02 | pilih",
           4486
          ],
          [
           9,
           "debat | 02 | program | calon | gratis",
           4091
          ],
          [
           10,
           "presiden | prabowo | calon | pilih | wakil",
           3959
          ],
          [
           11,
           "menang | 02 | teman | panik | gara",
           3697
          ],
          [
           12,
           "politik | israel | palestina | polisi | 02",
           2157
          ],
          [
           13,
           "demokrasi | partai | juang | indonesia | demokrat",
           2055
          ],
          [
           14,
           "debat | prabowo | presiden | calon | gibran",
           1855
          ]
         ],
         "hovertemplate": "<b>Topic %{customdata[0]}</b><br>%{customdata[1]}<br>Size: %{customdata[2]}",
         "legendgroup": "",
         "marker": {
          "color": "#B0BEC5",
          "line": {
           "color": "DarkSlateGrey",
           "width": 2
          },
          "size": {
           "bdata": "5TVVKDAn/iOBI38aJBoiGIYR+w93D3EObQgHCD8H",
           "dtype": "i2"
          },
          "sizemode": "area",
          "sizeref": 8.623125,
          "symbol": "circle"
         },
         "mode": "markers",
         "name": "",
         "orientation": "v",
         "showlegend": false,
         "type": "scatter",
         "x": {
          "bdata": "3Z4NQTLBDUGbDktAJx0fQJdYKECppS1Ai52AQOcyCEEojhJAXLqOQLC4AUHlIApAas41QBKVM0DNyJZA",
          "dtype": "f4"
         },
         "xaxis": "x",
         "y": {
          "bdata": "TznGQMlnukDTlCTBOU00wc/AMcHBHRnB6iggwUxpr0DxrxfBWxIcwdrrs0ACGzjBgR0QwUPJCMFB2xfB",
          "dtype": "f4"
         },
         "yaxis": "y"
        }
       ],
       "layout": {
        "annotations": [
         {
          "showarrow": false,
          "text": "D1",
          "x": 1.8345190286636353,
          "y": -3.0544564723968506,
          "yshift": 10
         },
         {
          "showarrow": false,
          "text": "D2",
          "x": 6.011568069458008,
          "xshift": 10,
          "y": 7.1236701011657715
         }
        ],
        "height": 650,
        "hoverlabel": {
         "bgcolor": "white",
         "font": {
          "family": "Rockwell",
          "size": 16
         }
        },
        "legend": {
         "itemsizing": "constant",
         "tracegroupgap": 0
        },
        "margin": {
         "t": 60
        },
        "shapes": [
         {
          "line": {
           "color": "#CFD8DC",
           "width": 2
          },
          "type": "line",
          "x0": 6.011568069458008,
          "x1": 6.011568069458008,
          "y0": -13.232583045959473,
          "y1": 7.1236701011657715
         },
         {
          "line": {
           "color": "#9E9E9E",
           "width": 2
          },
          "type": "line",
          "x0": 1.8345190286636353,
          "x1": 10.188616752624512,
          "y0": -3.0544564723968506,
          "y1": -3.0544564723968506
         }
        ],
        "sliders": [
         {
          "active": 0,
          "pad": {
           "t": 50
          },
          "steps": [
           {
            "args": [
             {
              "marker.color": [
               [
                "red",
                "#B0BEC5",
                "#B0BEC5",
                "#B0BEC5",
                "#B0BEC5",
                "#B0BEC5",
                "#B0BEC5",
                "#B0BEC5",
                "#B0BEC5",
                "#B0BEC5",
                "#B0BEC5",
                "#B0BEC5",
                "#B0BEC5",
                "#B0BEC5",
                "#B0BEC5"
               ]
              ]
             }
            ],
            "label": "Topic 0",
            "method": "update"
           },
           {
            "args": [
             {
              "marker.color": [
               [
                "#B0BEC5",
                "red",
                "#B0BEC5",
                "#B0BEC5",
                "#B0BEC5",
                "#B0BEC5",
                "#B0BEC5",
                "#B0BEC5",
                "#B0BEC5",
                "#B0BEC5",
                "#B0BEC5",
                "#B0BEC5",
                "#B0BEC5",
                "#B0BEC5",
                "#B0BEC5"
               ]
              ]
             }
            ],
            "label": "Topic 1",
            "method": "update"
           },
           {
            "args": [
             {
              "marker.color": [
               [
                "#B0BEC5",
                "#B0BEC5",
                "red",
                "#B0BEC5",
                "#B0BEC5",
                "#B0BEC5",
                "#B0BEC5",
                "#B0BEC5",
                "#B0BEC5",
                "#B0BEC5",
                "#B0BEC5",
                "#B0BEC5",
                "#B0BEC5",
                "#B0BEC5",
                "#B0BEC5"
               ]
              ]
             }
            ],
            "label": "Topic 2",
            "method": "update"
           },
           {
            "args": [
             {
              "marker.color": [
               [
                "#B0BEC5",
                "#B0BEC5",
                "#B0BEC5",
                "red",
                "#B0BEC5",
                "#B0BEC5",
                "#B0BEC5",
                "#B0BEC5",
                "#B0BEC5",
                "#B0BEC5",
                "#B0BEC5",
                "#B0BEC5",
                "#B0BEC5",
                "#B0BEC5",
                "#B0BEC5"
               ]
              ]
             }
            ],
            "label": "Topic 3",
            "method": "update"
           },
           {
            "args": [
             {
              "marker.color": [
               [
                "#B0BEC5",
                "#B0BEC5",
                "#B0BEC5",
                "#B0BEC5",
                "red",
                "#B0BEC5",
                "#B0BEC5",
                "#B0BEC5",
                "#B0BEC5",
                "#B0BEC5",
                "#B0BEC5",
                "#B0BEC5",
                "#B0BEC5",
                "#B0BEC5",
                "#B0BEC5"
               ]
              ]
             }
            ],
            "label": "Topic 4",
            "method": "update"
           },
           {
            "args": [
             {
              "marker.color": [
               [
                "#B0BEC5",
                "#B0BEC5",
                "#B0BEC5",
                "#B0BEC5",
                "#B0BEC5",
                "red",
                "#B0BEC5",
                "#B0BEC5",
                "#B0BEC5",
                "#B0BEC5",
                "#B0BEC5",
                "#B0BEC5",
                "#B0BEC5",
                "#B0BEC5",
                "#B0BEC5"
               ]
              ]
             }
            ],
            "label": "Topic 5",
            "method": "update"
           },
           {
            "args": [
             {
              "marker.color": [
               [
                "#B0BEC5",
                "#B0BEC5",
                "#B0BEC5",
                "#B0BEC5",
                "#B0BEC5",
                "#B0BEC5",
                "red",
                "#B0BEC5",
                "#B0BEC5",
                "#B0BEC5",
                "#B0BEC5",
                "#B0BEC5",
                "#B0BEC5",
                "#B0BEC5",
                "#B0BEC5"
               ]
              ]
             }
            ],
            "label": "Topic 6",
            "method": "update"
           },
           {
            "args": [
             {
              "marker.color": [
               [
                "#B0BEC5",
                "#B0BEC5",
                "#B0BEC5",
                "#B0BEC5",
                "#B0BEC5",
                "#B0BEC5",
                "#B0BEC5",
                "red",
                "#B0BEC5",
                "#B0BEC5",
                "#B0BEC5",
                "#B0BEC5",
                "#B0BEC5",
                "#B0BEC5",
                "#B0BEC5"
               ]
              ]
             }
            ],
            "label": "Topic 7",
            "method": "update"
           },
           {
            "args": [
             {
              "marker.color": [
               [
                "#B0BEC5",
                "#B0BEC5",
                "#B0BEC5",
                "#B0BEC5",
                "#B0BEC5",
                "#B0BEC5",
                "#B0BEC5",
                "#B0BEC5",
                "red",
                "#B0BEC5",
                "#B0BEC5",
                "#B0BEC5",
                "#B0BEC5",
                "#B0BEC5",
                "#B0BEC5"
               ]
              ]
             }
            ],
            "label": "Topic 8",
            "method": "update"
           },
           {
            "args": [
             {
              "marker.color": [
               [
                "#B0BEC5",
                "#B0BEC5",
                "#B0BEC5",
                "#B0BEC5",
                "#B0BEC5",
                "#B0BEC5",
                "#B0BEC5",
                "#B0BEC5",
                "#B0BEC5",
                "red",
                "#B0BEC5",
                "#B0BEC5",
                "#B0BEC5",
                "#B0BEC5",
                "#B0BEC5"
               ]
              ]
             }
            ],
            "label": "Topic 9",
            "method": "update"
           },
           {
            "args": [
             {
              "marker.color": [
               [
                "#B0BEC5",
                "#B0BEC5",
                "#B0BEC5",
                "#B0BEC5",
                "#B0BEC5",
                "#B0BEC5",
                "#B0BEC5",
                "#B0BEC5",
                "#B0BEC5",
                "#B0BEC5",
                "red",
                "#B0BEC5",
                "#B0BEC5",
                "#B0BEC5",
                "#B0BEC5"
               ]
              ]
             }
            ],
            "label": "Topic 10",
            "method": "update"
           },
           {
            "args": [
             {
              "marker.color": [
               [
                "#B0BEC5",
                "#B0BEC5",
                "#B0BEC5",
                "#B0BEC5",
                "#B0BEC5",
                "#B0BEC5",
                "#B0BEC5",
                "#B0BEC5",
                "#B0BEC5",
                "#B0BEC5",
                "#B0BEC5",
                "red",
                "#B0BEC5",
                "#B0BEC5",
                "#B0BEC5"
               ]
              ]
             }
            ],
            "label": "Topic 11",
            "method": "update"
           },
           {
            "args": [
             {
              "marker.color": [
               [
                "#B0BEC5",
                "#B0BEC5",
                "#B0BEC5",
                "#B0BEC5",
                "#B0BEC5",
                "#B0BEC5",
                "#B0BEC5",
                "#B0BEC5",
                "#B0BEC5",
                "#B0BEC5",
                "#B0BEC5",
                "#B0BEC5",
                "red",
                "#B0BEC5",
                "#B0BEC5"
               ]
              ]
             }
            ],
            "label": "Topic 12",
            "method": "update"
           },
           {
            "args": [
             {
              "marker.color": [
               [
                "#B0BEC5",
                "#B0BEC5",
                "#B0BEC5",
                "#B0BEC5",
                "#B0BEC5",
                "#B0BEC5",
                "#B0BEC5",
                "#B0BEC5",
                "#B0BEC5",
                "#B0BEC5",
                "#B0BEC5",
                "#B0BEC5",
                "#B0BEC5",
                "red",
                "#B0BEC5"
               ]
              ]
             }
            ],
            "label": "Topic 13",
            "method": "update"
           },
           {
            "args": [
             {
              "marker.color": [
               [
                "#B0BEC5",
                "#B0BEC5",
                "#B0BEC5",
                "#B0BEC5",
                "#B0BEC5",
                "#B0BEC5",
                "#B0BEC5",
                "#B0BEC5",
                "#B0BEC5",
                "#B0BEC5",
                "#B0BEC5",
                "#B0BEC5",
                "#B0BEC5",
                "#B0BEC5",
                "red"
               ]
              ]
             }
            ],
            "label": "Topic 14",
            "method": "update"
           }
          ]
         }
        ],
        "template": {
         "data": {
          "bar": [
           {
            "error_x": {
             "color": "rgb(36,36,36)"
            },
            "error_y": {
             "color": "rgb(36,36,36)"
            },
            "marker": {
             "line": {
              "color": "white",
              "width": 0.5
             },
             "pattern": {
              "fillmode": "overlay",
              "size": 10,
              "solidity": 0.2
             }
            },
            "type": "bar"
           }
          ],
          "barpolar": [
           {
            "marker": {
             "line": {
              "color": "white",
              "width": 0.5
             },
             "pattern": {
              "fillmode": "overlay",
              "size": 10,
              "solidity": 0.2
             }
            },
            "type": "barpolar"
           }
          ],
          "carpet": [
           {
            "aaxis": {
             "endlinecolor": "rgb(36,36,36)",
             "gridcolor": "white",
             "linecolor": "white",
             "minorgridcolor": "white",
             "startlinecolor": "rgb(36,36,36)"
            },
            "baxis": {
             "endlinecolor": "rgb(36,36,36)",
             "gridcolor": "white",
             "linecolor": "white",
             "minorgridcolor": "white",
             "startlinecolor": "rgb(36,36,36)"
            },
            "type": "carpet"
           }
          ],
          "choropleth": [
           {
            "colorbar": {
             "outlinewidth": 1,
             "tickcolor": "rgb(36,36,36)",
             "ticks": "outside"
            },
            "type": "choropleth"
           }
          ],
          "contour": [
           {
            "colorbar": {
             "outlinewidth": 1,
             "tickcolor": "rgb(36,36,36)",
             "ticks": "outside"
            },
            "colorscale": [
             [
              0,
              "#440154"
             ],
             [
              0.1111111111111111,
              "#482878"
             ],
             [
              0.2222222222222222,
              "#3e4989"
             ],
             [
              0.3333333333333333,
              "#31688e"
             ],
             [
              0.4444444444444444,
              "#26828e"
             ],
             [
              0.5555555555555556,
              "#1f9e89"
             ],
             [
              0.6666666666666666,
              "#35b779"
             ],
             [
              0.7777777777777778,
              "#6ece58"
             ],
             [
              0.8888888888888888,
              "#b5de2b"
             ],
             [
              1,
              "#fde725"
             ]
            ],
            "type": "contour"
           }
          ],
          "contourcarpet": [
           {
            "colorbar": {
             "outlinewidth": 1,
             "tickcolor": "rgb(36,36,36)",
             "ticks": "outside"
            },
            "type": "contourcarpet"
           }
          ],
          "heatmap": [
           {
            "colorbar": {
             "outlinewidth": 1,
             "tickcolor": "rgb(36,36,36)",
             "ticks": "outside"
            },
            "colorscale": [
             [
              0,
              "#440154"
             ],
             [
              0.1111111111111111,
              "#482878"
             ],
             [
              0.2222222222222222,
              "#3e4989"
             ],
             [
              0.3333333333333333,
              "#31688e"
             ],
             [
              0.4444444444444444,
              "#26828e"
             ],
             [
              0.5555555555555556,
              "#1f9e89"
             ],
             [
              0.6666666666666666,
              "#35b779"
             ],
             [
              0.7777777777777778,
              "#6ece58"
             ],
             [
              0.8888888888888888,
              "#b5de2b"
             ],
             [
              1,
              "#fde725"
             ]
            ],
            "type": "heatmap"
           }
          ],
          "histogram": [
           {
            "marker": {
             "line": {
              "color": "white",
              "width": 0.6
             }
            },
            "type": "histogram"
           }
          ],
          "histogram2d": [
           {
            "colorbar": {
             "outlinewidth": 1,
             "tickcolor": "rgb(36,36,36)",
             "ticks": "outside"
            },
            "colorscale": [
             [
              0,
              "#440154"
             ],
             [
              0.1111111111111111,
              "#482878"
             ],
             [
              0.2222222222222222,
              "#3e4989"
             ],
             [
              0.3333333333333333,
              "#31688e"
             ],
             [
              0.4444444444444444,
              "#26828e"
             ],
             [
              0.5555555555555556,
              "#1f9e89"
             ],
             [
              0.6666666666666666,
              "#35b779"
             ],
             [
              0.7777777777777778,
              "#6ece58"
             ],
             [
              0.8888888888888888,
              "#b5de2b"
             ],
             [
              1,
              "#fde725"
             ]
            ],
            "type": "histogram2d"
           }
          ],
          "histogram2dcontour": [
           {
            "colorbar": {
             "outlinewidth": 1,
             "tickcolor": "rgb(36,36,36)",
             "ticks": "outside"
            },
            "colorscale": [
             [
              0,
              "#440154"
             ],
             [
              0.1111111111111111,
              "#482878"
             ],
             [
              0.2222222222222222,
              "#3e4989"
             ],
             [
              0.3333333333333333,
              "#31688e"
             ],
             [
              0.4444444444444444,
              "#26828e"
             ],
             [
              0.5555555555555556,
              "#1f9e89"
             ],
             [
              0.6666666666666666,
              "#35b779"
             ],
             [
              0.7777777777777778,
              "#6ece58"
             ],
             [
              0.8888888888888888,
              "#b5de2b"
             ],
             [
              1,
              "#fde725"
             ]
            ],
            "type": "histogram2dcontour"
           }
          ],
          "mesh3d": [
           {
            "colorbar": {
             "outlinewidth": 1,
             "tickcolor": "rgb(36,36,36)",
             "ticks": "outside"
            },
            "type": "mesh3d"
           }
          ],
          "parcoords": [
           {
            "line": {
             "colorbar": {
              "outlinewidth": 1,
              "tickcolor": "rgb(36,36,36)",
              "ticks": "outside"
             }
            },
            "type": "parcoords"
           }
          ],
          "pie": [
           {
            "automargin": true,
            "type": "pie"
           }
          ],
          "scatter": [
           {
            "fillpattern": {
             "fillmode": "overlay",
             "size": 10,
             "solidity": 0.2
            },
            "type": "scatter"
           }
          ],
          "scatter3d": [
           {
            "line": {
             "colorbar": {
              "outlinewidth": 1,
              "tickcolor": "rgb(36,36,36)",
              "ticks": "outside"
             }
            },
            "marker": {
             "colorbar": {
              "outlinewidth": 1,
              "tickcolor": "rgb(36,36,36)",
              "ticks": "outside"
             }
            },
            "type": "scatter3d"
           }
          ],
          "scattercarpet": [
           {
            "marker": {
             "colorbar": {
              "outlinewidth": 1,
              "tickcolor": "rgb(36,36,36)",
              "ticks": "outside"
             }
            },
            "type": "scattercarpet"
           }
          ],
          "scattergeo": [
           {
            "marker": {
             "colorbar": {
              "outlinewidth": 1,
              "tickcolor": "rgb(36,36,36)",
              "ticks": "outside"
             }
            },
            "type": "scattergeo"
           }
          ],
          "scattergl": [
           {
            "marker": {
             "colorbar": {
              "outlinewidth": 1,
              "tickcolor": "rgb(36,36,36)",
              "ticks": "outside"
             }
            },
            "type": "scattergl"
           }
          ],
          "scattermap": [
           {
            "marker": {
             "colorbar": {
              "outlinewidth": 1,
              "tickcolor": "rgb(36,36,36)",
              "ticks": "outside"
             }
            },
            "type": "scattermap"
           }
          ],
          "scattermapbox": [
           {
            "marker": {
             "colorbar": {
              "outlinewidth": 1,
              "tickcolor": "rgb(36,36,36)",
              "ticks": "outside"
             }
            },
            "type": "scattermapbox"
           }
          ],
          "scatterpolar": [
           {
            "marker": {
             "colorbar": {
              "outlinewidth": 1,
              "tickcolor": "rgb(36,36,36)",
              "ticks": "outside"
             }
            },
            "type": "scatterpolar"
           }
          ],
          "scatterpolargl": [
           {
            "marker": {
             "colorbar": {
              "outlinewidth": 1,
              "tickcolor": "rgb(36,36,36)",
              "ticks": "outside"
             }
            },
            "type": "scatterpolargl"
           }
          ],
          "scatterternary": [
           {
            "marker": {
             "colorbar": {
              "outlinewidth": 1,
              "tickcolor": "rgb(36,36,36)",
              "ticks": "outside"
             }
            },
            "type": "scatterternary"
           }
          ],
          "surface": [
           {
            "colorbar": {
             "outlinewidth": 1,
             "tickcolor": "rgb(36,36,36)",
             "ticks": "outside"
            },
            "colorscale": [
             [
              0,
              "#440154"
             ],
             [
              0.1111111111111111,
              "#482878"
             ],
             [
              0.2222222222222222,
              "#3e4989"
             ],
             [
              0.3333333333333333,
              "#31688e"
             ],
             [
              0.4444444444444444,
              "#26828e"
             ],
             [
              0.5555555555555556,
              "#1f9e89"
             ],
             [
              0.6666666666666666,
              "#35b779"
             ],
             [
              0.7777777777777778,
              "#6ece58"
             ],
             [
              0.8888888888888888,
              "#b5de2b"
             ],
             [
              1,
              "#fde725"
             ]
            ],
            "type": "surface"
           }
          ],
          "table": [
           {
            "cells": {
             "fill": {
              "color": "rgb(237,237,237)"
             },
             "line": {
              "color": "white"
             }
            },
            "header": {
             "fill": {
              "color": "rgb(217,217,217)"
             },
             "line": {
              "color": "white"
             }
            },
            "type": "table"
           }
          ]
         },
         "layout": {
          "annotationdefaults": {
           "arrowhead": 0,
           "arrowwidth": 1
          },
          "autotypenumbers": "strict",
          "coloraxis": {
           "colorbar": {
            "outlinewidth": 1,
            "tickcolor": "rgb(36,36,36)",
            "ticks": "outside"
           }
          },
          "colorscale": {
           "diverging": [
            [
             0,
             "rgb(103,0,31)"
            ],
            [
             0.1,
             "rgb(178,24,43)"
            ],
            [
             0.2,
             "rgb(214,96,77)"
            ],
            [
             0.3,
             "rgb(244,165,130)"
            ],
            [
             0.4,
             "rgb(253,219,199)"
            ],
            [
             0.5,
             "rgb(247,247,247)"
            ],
            [
             0.6,
             "rgb(209,229,240)"
            ],
            [
             0.7,
             "rgb(146,197,222)"
            ],
            [
             0.8,
             "rgb(67,147,195)"
            ],
            [
             0.9,
             "rgb(33,102,172)"
            ],
            [
             1,
             "rgb(5,48,97)"
            ]
           ],
           "sequential": [
            [
             0,
             "#440154"
            ],
            [
             0.1111111111111111,
             "#482878"
            ],
            [
             0.2222222222222222,
             "#3e4989"
            ],
            [
             0.3333333333333333,
             "#31688e"
            ],
            [
             0.4444444444444444,
             "#26828e"
            ],
            [
             0.5555555555555556,
             "#1f9e89"
            ],
            [
             0.6666666666666666,
             "#35b779"
            ],
            [
             0.7777777777777778,
             "#6ece58"
            ],
            [
             0.8888888888888888,
             "#b5de2b"
            ],
            [
             1,
             "#fde725"
            ]
           ],
           "sequentialminus": [
            [
             0,
             "#440154"
            ],
            [
             0.1111111111111111,
             "#482878"
            ],
            [
             0.2222222222222222,
             "#3e4989"
            ],
            [
             0.3333333333333333,
             "#31688e"
            ],
            [
             0.4444444444444444,
             "#26828e"
            ],
            [
             0.5555555555555556,
             "#1f9e89"
            ],
            [
             0.6666666666666666,
             "#35b779"
            ],
            [
             0.7777777777777778,
             "#6ece58"
            ],
            [
             0.8888888888888888,
             "#b5de2b"
            ],
            [
             1,
             "#fde725"
            ]
           ]
          },
          "colorway": [
           "#1F77B4",
           "#FF7F0E",
           "#2CA02C",
           "#D62728",
           "#9467BD",
           "#8C564B",
           "#E377C2",
           "#7F7F7F",
           "#BCBD22",
           "#17BECF"
          ],
          "font": {
           "color": "rgb(36,36,36)"
          },
          "geo": {
           "bgcolor": "white",
           "lakecolor": "white",
           "landcolor": "white",
           "showlakes": true,
           "showland": true,
           "subunitcolor": "white"
          },
          "hoverlabel": {
           "align": "left"
          },
          "hovermode": "closest",
          "mapbox": {
           "style": "light"
          },
          "paper_bgcolor": "white",
          "plot_bgcolor": "white",
          "polar": {
           "angularaxis": {
            "gridcolor": "rgb(232,232,232)",
            "linecolor": "rgb(36,36,36)",
            "showgrid": false,
            "showline": true,
            "ticks": "outside"
           },
           "bgcolor": "white",
           "radialaxis": {
            "gridcolor": "rgb(232,232,232)",
            "linecolor": "rgb(36,36,36)",
            "showgrid": false,
            "showline": true,
            "ticks": "outside"
           }
          },
          "scene": {
           "xaxis": {
            "backgroundcolor": "white",
            "gridcolor": "rgb(232,232,232)",
            "gridwidth": 2,
            "linecolor": "rgb(36,36,36)",
            "showbackground": true,
            "showgrid": false,
            "showline": true,
            "ticks": "outside",
            "zeroline": false,
            "zerolinecolor": "rgb(36,36,36)"
           },
           "yaxis": {
            "backgroundcolor": "white",
            "gridcolor": "rgb(232,232,232)",
            "gridwidth": 2,
            "linecolor": "rgb(36,36,36)",
            "showbackground": true,
            "showgrid": false,
            "showline": true,
            "ticks": "outside",
            "zeroline": false,
            "zerolinecolor": "rgb(36,36,36)"
           },
           "zaxis": {
            "backgroundcolor": "white",
            "gridcolor": "rgb(232,232,232)",
            "gridwidth": 2,
            "linecolor": "rgb(36,36,36)",
            "showbackground": true,
            "showgrid": false,
            "showline": true,
            "ticks": "outside",
            "zeroline": false,
            "zerolinecolor": "rgb(36,36,36)"
           }
          },
          "shapedefaults": {
           "fillcolor": "black",
           "line": {
            "width": 0
           },
           "opacity": 0.3
          },
          "ternary": {
           "aaxis": {
            "gridcolor": "rgb(232,232,232)",
            "linecolor": "rgb(36,36,36)",
            "showgrid": false,
            "showline": true,
            "ticks": "outside"
           },
           "baxis": {
            "gridcolor": "rgb(232,232,232)",
            "linecolor": "rgb(36,36,36)",
            "showgrid": false,
            "showline": true,
            "ticks": "outside"
           },
           "bgcolor": "white",
           "caxis": {
            "gridcolor": "rgb(232,232,232)",
            "linecolor": "rgb(36,36,36)",
            "showgrid": false,
            "showline": true,
            "ticks": "outside"
           }
          },
          "title": {
           "x": 0.05
          },
          "xaxis": {
           "automargin": true,
           "gridcolor": "rgb(232,232,232)",
           "linecolor": "rgb(36,36,36)",
           "showgrid": false,
           "showline": true,
           "ticks": "outside",
           "title": {
            "standoff": 15
           },
           "zeroline": false,
           "zerolinecolor": "rgb(36,36,36)"
          },
          "yaxis": {
           "automargin": true,
           "gridcolor": "rgb(232,232,232)",
           "linecolor": "rgb(36,36,36)",
           "showgrid": false,
           "showline": true,
           "ticks": "outside",
           "title": {
            "standoff": 15
           },
           "zeroline": false,
           "zerolinecolor": "rgb(36,36,36)"
          }
         }
        },
        "title": {
         "font": {
          "color": "Black",
          "size": 22
         },
         "text": "<b>Intertopic Distance Map</b>",
         "x": 0.5,
         "xanchor": "center",
         "y": 0.95,
         "yanchor": "top"
        },
        "width": 650,
        "xaxis": {
         "anchor": "y",
         "domain": [
          0,
          1
         ],
         "range": [
          1.8345190286636353,
          10.188616752624512
         ],
         "title": {
          "text": ""
         },
         "visible": false
        },
        "yaxis": {
         "anchor": "x",
         "domain": [
          0,
          1
         ],
         "range": [
          -13.232583045959473,
          7.1236701011657715
         ],
         "title": {
          "text": ""
         },
         "visible": false
        }
       }
      },
      "text/html": [
       "<div>                        <script type=\"text/javascript\">window.PlotlyConfig = {MathJaxConfig: 'local'};</script>\n",
       "        <script charset=\"utf-8\" src=\"https://cdn.plot.ly/plotly-3.0.1.min.js\"></script>                <div id=\"7096a405-56fc-4351-99aa-823bac384376\" class=\"plotly-graph-div\" style=\"height:650px; width:650px;\"></div>            <script type=\"text/javascript\">                window.PLOTLYENV=window.PLOTLYENV || {};                                if (document.getElementById(\"7096a405-56fc-4351-99aa-823bac384376\")) {                    Plotly.newPlot(                        \"7096a405-56fc-4351-99aa-823bac384376\",                        [{\"customdata\":[[0,\"prabowo | gibran | dukung | orang | jokowi\",13797],[1,\"prabowo | gibran | menang | orang | jokowi\",10325],[2,\"02 | orang | dukung | pasang | pilih\",10032],[3,\"02 | dukung | pasang | pilih | calon\",9214],[4,\"02 | dukung | pilih | buzzer | banget\",9089],[5,\"02 | kampanye | agama | indonesia | kerja\",6783],[6,\"kayak | 02 | suara | survei | video\",6692],[7,\"gibran | rakabuming | raka | prabowo | indonesia\",6178],[8,\"presiden | calon | wakil | 02 | pilih\",4486],[9,\"debat | 02 | program | calon | gratis\",4091],[10,\"presiden | prabowo | calon | pilih | wakil\",3959],[11,\"menang | 02 | teman | panik | gara\",3697],[12,\"politik | israel | palestina | polisi | 02\",2157],[13,\"demokrasi | partai | juang | indonesia | demokrat\",2055],[14,\"debat | prabowo | presiden | calon | gibran\",1855]],\"hovertemplate\":\"\\u003cb\\u003eTopic %{customdata[0]}\\u003c\\u002fb\\u003e\\u003cbr\\u003e%{customdata[1]}\\u003cbr\\u003eSize: %{customdata[2]}\",\"legendgroup\":\"\",\"marker\":{\"color\":\"#B0BEC5\",\"size\":{\"dtype\":\"i2\",\"bdata\":\"5TVVKDAn\\u002fiOBI38aJBoiGIYR+w93D3EObQgHCD8H\"},\"sizemode\":\"area\",\"sizeref\":8.623125,\"symbol\":\"circle\",\"line\":{\"color\":\"DarkSlateGrey\",\"width\":2}},\"mode\":\"markers\",\"name\":\"\",\"orientation\":\"v\",\"showlegend\":false,\"x\":{\"dtype\":\"f4\",\"bdata\":\"3Z4NQTLBDUGbDktAJx0fQJdYKECppS1Ai52AQOcyCEEojhJAXLqOQLC4AUHlIApAas41QBKVM0DNyJZA\"},\"xaxis\":\"x\",\"y\":{\"dtype\":\"f4\",\"bdata\":\"TznGQMlnukDTlCTBOU00wc\\u002fAMcHBHRnB6iggwUxpr0DxrxfBWxIcwdrrs0ACGzjBgR0QwUPJCMFB2xfB\"},\"yaxis\":\"y\",\"type\":\"scatter\"}],                        {\"template\":{\"data\":{\"barpolar\":[{\"marker\":{\"line\":{\"color\":\"white\",\"width\":0.5},\"pattern\":{\"fillmode\":\"overlay\",\"size\":10,\"solidity\":0.2}},\"type\":\"barpolar\"}],\"bar\":[{\"error_x\":{\"color\":\"rgb(36,36,36)\"},\"error_y\":{\"color\":\"rgb(36,36,36)\"},\"marker\":{\"line\":{\"color\":\"white\",\"width\":0.5},\"pattern\":{\"fillmode\":\"overlay\",\"size\":10,\"solidity\":0.2}},\"type\":\"bar\"}],\"carpet\":[{\"aaxis\":{\"endlinecolor\":\"rgb(36,36,36)\",\"gridcolor\":\"white\",\"linecolor\":\"white\",\"minorgridcolor\":\"white\",\"startlinecolor\":\"rgb(36,36,36)\"},\"baxis\":{\"endlinecolor\":\"rgb(36,36,36)\",\"gridcolor\":\"white\",\"linecolor\":\"white\",\"minorgridcolor\":\"white\",\"startlinecolor\":\"rgb(36,36,36)\"},\"type\":\"carpet\"}],\"choropleth\":[{\"colorbar\":{\"outlinewidth\":1,\"tickcolor\":\"rgb(36,36,36)\",\"ticks\":\"outside\"},\"type\":\"choropleth\"}],\"contourcarpet\":[{\"colorbar\":{\"outlinewidth\":1,\"tickcolor\":\"rgb(36,36,36)\",\"ticks\":\"outside\"},\"type\":\"contourcarpet\"}],\"contour\":[{\"colorbar\":{\"outlinewidth\":1,\"tickcolor\":\"rgb(36,36,36)\",\"ticks\":\"outside\"},\"colorscale\":[[0.0,\"#440154\"],[0.1111111111111111,\"#482878\"],[0.2222222222222222,\"#3e4989\"],[0.3333333333333333,\"#31688e\"],[0.4444444444444444,\"#26828e\"],[0.5555555555555556,\"#1f9e89\"],[0.6666666666666666,\"#35b779\"],[0.7777777777777778,\"#6ece58\"],[0.8888888888888888,\"#b5de2b\"],[1.0,\"#fde725\"]],\"type\":\"contour\"}],\"heatmap\":[{\"colorbar\":{\"outlinewidth\":1,\"tickcolor\":\"rgb(36,36,36)\",\"ticks\":\"outside\"},\"colorscale\":[[0.0,\"#440154\"],[0.1111111111111111,\"#482878\"],[0.2222222222222222,\"#3e4989\"],[0.3333333333333333,\"#31688e\"],[0.4444444444444444,\"#26828e\"],[0.5555555555555556,\"#1f9e89\"],[0.6666666666666666,\"#35b779\"],[0.7777777777777778,\"#6ece58\"],[0.8888888888888888,\"#b5de2b\"],[1.0,\"#fde725\"]],\"type\":\"heatmap\"}],\"histogram2dcontour\":[{\"colorbar\":{\"outlinewidth\":1,\"tickcolor\":\"rgb(36,36,36)\",\"ticks\":\"outside\"},\"colorscale\":[[0.0,\"#440154\"],[0.1111111111111111,\"#482878\"],[0.2222222222222222,\"#3e4989\"],[0.3333333333333333,\"#31688e\"],[0.4444444444444444,\"#26828e\"],[0.5555555555555556,\"#1f9e89\"],[0.6666666666666666,\"#35b779\"],[0.7777777777777778,\"#6ece58\"],[0.8888888888888888,\"#b5de2b\"],[1.0,\"#fde725\"]],\"type\":\"histogram2dcontour\"}],\"histogram2d\":[{\"colorbar\":{\"outlinewidth\":1,\"tickcolor\":\"rgb(36,36,36)\",\"ticks\":\"outside\"},\"colorscale\":[[0.0,\"#440154\"],[0.1111111111111111,\"#482878\"],[0.2222222222222222,\"#3e4989\"],[0.3333333333333333,\"#31688e\"],[0.4444444444444444,\"#26828e\"],[0.5555555555555556,\"#1f9e89\"],[0.6666666666666666,\"#35b779\"],[0.7777777777777778,\"#6ece58\"],[0.8888888888888888,\"#b5de2b\"],[1.0,\"#fde725\"]],\"type\":\"histogram2d\"}],\"histogram\":[{\"marker\":{\"line\":{\"color\":\"white\",\"width\":0.6}},\"type\":\"histogram\"}],\"mesh3d\":[{\"colorbar\":{\"outlinewidth\":1,\"tickcolor\":\"rgb(36,36,36)\",\"ticks\":\"outside\"},\"type\":\"mesh3d\"}],\"parcoords\":[{\"line\":{\"colorbar\":{\"outlinewidth\":1,\"tickcolor\":\"rgb(36,36,36)\",\"ticks\":\"outside\"}},\"type\":\"parcoords\"}],\"pie\":[{\"automargin\":true,\"type\":\"pie\"}],\"scatter3d\":[{\"line\":{\"colorbar\":{\"outlinewidth\":1,\"tickcolor\":\"rgb(36,36,36)\",\"ticks\":\"outside\"}},\"marker\":{\"colorbar\":{\"outlinewidth\":1,\"tickcolor\":\"rgb(36,36,36)\",\"ticks\":\"outside\"}},\"type\":\"scatter3d\"}],\"scattercarpet\":[{\"marker\":{\"colorbar\":{\"outlinewidth\":1,\"tickcolor\":\"rgb(36,36,36)\",\"ticks\":\"outside\"}},\"type\":\"scattercarpet\"}],\"scattergeo\":[{\"marker\":{\"colorbar\":{\"outlinewidth\":1,\"tickcolor\":\"rgb(36,36,36)\",\"ticks\":\"outside\"}},\"type\":\"scattergeo\"}],\"scattergl\":[{\"marker\":{\"colorbar\":{\"outlinewidth\":1,\"tickcolor\":\"rgb(36,36,36)\",\"ticks\":\"outside\"}},\"type\":\"scattergl\"}],\"scattermapbox\":[{\"marker\":{\"colorbar\":{\"outlinewidth\":1,\"tickcolor\":\"rgb(36,36,36)\",\"ticks\":\"outside\"}},\"type\":\"scattermapbox\"}],\"scattermap\":[{\"marker\":{\"colorbar\":{\"outlinewidth\":1,\"tickcolor\":\"rgb(36,36,36)\",\"ticks\":\"outside\"}},\"type\":\"scattermap\"}],\"scatterpolargl\":[{\"marker\":{\"colorbar\":{\"outlinewidth\":1,\"tickcolor\":\"rgb(36,36,36)\",\"ticks\":\"outside\"}},\"type\":\"scatterpolargl\"}],\"scatterpolar\":[{\"marker\":{\"colorbar\":{\"outlinewidth\":1,\"tickcolor\":\"rgb(36,36,36)\",\"ticks\":\"outside\"}},\"type\":\"scatterpolar\"}],\"scatter\":[{\"fillpattern\":{\"fillmode\":\"overlay\",\"size\":10,\"solidity\":0.2},\"type\":\"scatter\"}],\"scatterternary\":[{\"marker\":{\"colorbar\":{\"outlinewidth\":1,\"tickcolor\":\"rgb(36,36,36)\",\"ticks\":\"outside\"}},\"type\":\"scatterternary\"}],\"surface\":[{\"colorbar\":{\"outlinewidth\":1,\"tickcolor\":\"rgb(36,36,36)\",\"ticks\":\"outside\"},\"colorscale\":[[0.0,\"#440154\"],[0.1111111111111111,\"#482878\"],[0.2222222222222222,\"#3e4989\"],[0.3333333333333333,\"#31688e\"],[0.4444444444444444,\"#26828e\"],[0.5555555555555556,\"#1f9e89\"],[0.6666666666666666,\"#35b779\"],[0.7777777777777778,\"#6ece58\"],[0.8888888888888888,\"#b5de2b\"],[1.0,\"#fde725\"]],\"type\":\"surface\"}],\"table\":[{\"cells\":{\"fill\":{\"color\":\"rgb(237,237,237)\"},\"line\":{\"color\":\"white\"}},\"header\":{\"fill\":{\"color\":\"rgb(217,217,217)\"},\"line\":{\"color\":\"white\"}},\"type\":\"table\"}]},\"layout\":{\"annotationdefaults\":{\"arrowhead\":0,\"arrowwidth\":1},\"autotypenumbers\":\"strict\",\"coloraxis\":{\"colorbar\":{\"outlinewidth\":1,\"tickcolor\":\"rgb(36,36,36)\",\"ticks\":\"outside\"}},\"colorscale\":{\"diverging\":[[0.0,\"rgb(103,0,31)\"],[0.1,\"rgb(178,24,43)\"],[0.2,\"rgb(214,96,77)\"],[0.3,\"rgb(244,165,130)\"],[0.4,\"rgb(253,219,199)\"],[0.5,\"rgb(247,247,247)\"],[0.6,\"rgb(209,229,240)\"],[0.7,\"rgb(146,197,222)\"],[0.8,\"rgb(67,147,195)\"],[0.9,\"rgb(33,102,172)\"],[1.0,\"rgb(5,48,97)\"]],\"sequential\":[[0.0,\"#440154\"],[0.1111111111111111,\"#482878\"],[0.2222222222222222,\"#3e4989\"],[0.3333333333333333,\"#31688e\"],[0.4444444444444444,\"#26828e\"],[0.5555555555555556,\"#1f9e89\"],[0.6666666666666666,\"#35b779\"],[0.7777777777777778,\"#6ece58\"],[0.8888888888888888,\"#b5de2b\"],[1.0,\"#fde725\"]],\"sequentialminus\":[[0.0,\"#440154\"],[0.1111111111111111,\"#482878\"],[0.2222222222222222,\"#3e4989\"],[0.3333333333333333,\"#31688e\"],[0.4444444444444444,\"#26828e\"],[0.5555555555555556,\"#1f9e89\"],[0.6666666666666666,\"#35b779\"],[0.7777777777777778,\"#6ece58\"],[0.8888888888888888,\"#b5de2b\"],[1.0,\"#fde725\"]]},\"colorway\":[\"#1F77B4\",\"#FF7F0E\",\"#2CA02C\",\"#D62728\",\"#9467BD\",\"#8C564B\",\"#E377C2\",\"#7F7F7F\",\"#BCBD22\",\"#17BECF\"],\"font\":{\"color\":\"rgb(36,36,36)\"},\"geo\":{\"bgcolor\":\"white\",\"lakecolor\":\"white\",\"landcolor\":\"white\",\"showlakes\":true,\"showland\":true,\"subunitcolor\":\"white\"},\"hoverlabel\":{\"align\":\"left\"},\"hovermode\":\"closest\",\"mapbox\":{\"style\":\"light\"},\"paper_bgcolor\":\"white\",\"plot_bgcolor\":\"white\",\"polar\":{\"angularaxis\":{\"gridcolor\":\"rgb(232,232,232)\",\"linecolor\":\"rgb(36,36,36)\",\"showgrid\":false,\"showline\":true,\"ticks\":\"outside\"},\"bgcolor\":\"white\",\"radialaxis\":{\"gridcolor\":\"rgb(232,232,232)\",\"linecolor\":\"rgb(36,36,36)\",\"showgrid\":false,\"showline\":true,\"ticks\":\"outside\"}},\"scene\":{\"xaxis\":{\"backgroundcolor\":\"white\",\"gridcolor\":\"rgb(232,232,232)\",\"gridwidth\":2,\"linecolor\":\"rgb(36,36,36)\",\"showbackground\":true,\"showgrid\":false,\"showline\":true,\"ticks\":\"outside\",\"zeroline\":false,\"zerolinecolor\":\"rgb(36,36,36)\"},\"yaxis\":{\"backgroundcolor\":\"white\",\"gridcolor\":\"rgb(232,232,232)\",\"gridwidth\":2,\"linecolor\":\"rgb(36,36,36)\",\"showbackground\":true,\"showgrid\":false,\"showline\":true,\"ticks\":\"outside\",\"zeroline\":false,\"zerolinecolor\":\"rgb(36,36,36)\"},\"zaxis\":{\"backgroundcolor\":\"white\",\"gridcolor\":\"rgb(232,232,232)\",\"gridwidth\":2,\"linecolor\":\"rgb(36,36,36)\",\"showbackground\":true,\"showgrid\":false,\"showline\":true,\"ticks\":\"outside\",\"zeroline\":false,\"zerolinecolor\":\"rgb(36,36,36)\"}},\"shapedefaults\":{\"fillcolor\":\"black\",\"line\":{\"width\":0},\"opacity\":0.3},\"ternary\":{\"aaxis\":{\"gridcolor\":\"rgb(232,232,232)\",\"linecolor\":\"rgb(36,36,36)\",\"showgrid\":false,\"showline\":true,\"ticks\":\"outside\"},\"baxis\":{\"gridcolor\":\"rgb(232,232,232)\",\"linecolor\":\"rgb(36,36,36)\",\"showgrid\":false,\"showline\":true,\"ticks\":\"outside\"},\"bgcolor\":\"white\",\"caxis\":{\"gridcolor\":\"rgb(232,232,232)\",\"linecolor\":\"rgb(36,36,36)\",\"showgrid\":false,\"showline\":true,\"ticks\":\"outside\"}},\"title\":{\"x\":0.05},\"xaxis\":{\"automargin\":true,\"gridcolor\":\"rgb(232,232,232)\",\"linecolor\":\"rgb(36,36,36)\",\"showgrid\":false,\"showline\":true,\"ticks\":\"outside\",\"title\":{\"standoff\":15},\"zeroline\":false,\"zerolinecolor\":\"rgb(36,36,36)\"},\"yaxis\":{\"automargin\":true,\"gridcolor\":\"rgb(232,232,232)\",\"linecolor\":\"rgb(36,36,36)\",\"showgrid\":false,\"showline\":true,\"ticks\":\"outside\",\"title\":{\"standoff\":15},\"zeroline\":false,\"zerolinecolor\":\"rgb(36,36,36)\"}}},\"xaxis\":{\"anchor\":\"y\",\"domain\":[0.0,1.0],\"title\":{\"text\":\"\"},\"visible\":false,\"range\":[1.8345190286636353,10.188616752624512]},\"yaxis\":{\"anchor\":\"x\",\"domain\":[0.0,1.0],\"title\":{\"text\":\"\"},\"visible\":false,\"range\":[-13.232583045959473,7.1236701011657715]},\"legend\":{\"tracegroupgap\":0,\"itemsizing\":\"constant\"},\"margin\":{\"t\":60},\"title\":{\"font\":{\"size\":22,\"color\":\"Black\"},\"text\":\"\\u003cb\\u003eIntertopic Distance Map\\u003c\\u002fb\\u003e\",\"y\":0.95,\"x\":0.5,\"xanchor\":\"center\",\"yanchor\":\"top\"},\"hoverlabel\":{\"font\":{\"size\":16,\"family\":\"Rockwell\"},\"bgcolor\":\"white\"},\"width\":650,\"height\":650,\"sliders\":[{\"active\":0,\"pad\":{\"t\":50},\"steps\":[{\"args\":[{\"marker.color\":[[\"red\",\"#B0BEC5\",\"#B0BEC5\",\"#B0BEC5\",\"#B0BEC5\",\"#B0BEC5\",\"#B0BEC5\",\"#B0BEC5\",\"#B0BEC5\",\"#B0BEC5\",\"#B0BEC5\",\"#B0BEC5\",\"#B0BEC5\",\"#B0BEC5\",\"#B0BEC5\"]]}],\"label\":\"Topic 0\",\"method\":\"update\"},{\"args\":[{\"marker.color\":[[\"#B0BEC5\",\"red\",\"#B0BEC5\",\"#B0BEC5\",\"#B0BEC5\",\"#B0BEC5\",\"#B0BEC5\",\"#B0BEC5\",\"#B0BEC5\",\"#B0BEC5\",\"#B0BEC5\",\"#B0BEC5\",\"#B0BEC5\",\"#B0BEC5\",\"#B0BEC5\"]]}],\"label\":\"Topic 1\",\"method\":\"update\"},{\"args\":[{\"marker.color\":[[\"#B0BEC5\",\"#B0BEC5\",\"red\",\"#B0BEC5\",\"#B0BEC5\",\"#B0BEC5\",\"#B0BEC5\",\"#B0BEC5\",\"#B0BEC5\",\"#B0BEC5\",\"#B0BEC5\",\"#B0BEC5\",\"#B0BEC5\",\"#B0BEC5\",\"#B0BEC5\"]]}],\"label\":\"Topic 2\",\"method\":\"update\"},{\"args\":[{\"marker.color\":[[\"#B0BEC5\",\"#B0BEC5\",\"#B0BEC5\",\"red\",\"#B0BEC5\",\"#B0BEC5\",\"#B0BEC5\",\"#B0BEC5\",\"#B0BEC5\",\"#B0BEC5\",\"#B0BEC5\",\"#B0BEC5\",\"#B0BEC5\",\"#B0BEC5\",\"#B0BEC5\"]]}],\"label\":\"Topic 3\",\"method\":\"update\"},{\"args\":[{\"marker.color\":[[\"#B0BEC5\",\"#B0BEC5\",\"#B0BEC5\",\"#B0BEC5\",\"red\",\"#B0BEC5\",\"#B0BEC5\",\"#B0BEC5\",\"#B0BEC5\",\"#B0BEC5\",\"#B0BEC5\",\"#B0BEC5\",\"#B0BEC5\",\"#B0BEC5\",\"#B0BEC5\"]]}],\"label\":\"Topic 4\",\"method\":\"update\"},{\"args\":[{\"marker.color\":[[\"#B0BEC5\",\"#B0BEC5\",\"#B0BEC5\",\"#B0BEC5\",\"#B0BEC5\",\"red\",\"#B0BEC5\",\"#B0BEC5\",\"#B0BEC5\",\"#B0BEC5\",\"#B0BEC5\",\"#B0BEC5\",\"#B0BEC5\",\"#B0BEC5\",\"#B0BEC5\"]]}],\"label\":\"Topic 5\",\"method\":\"update\"},{\"args\":[{\"marker.color\":[[\"#B0BEC5\",\"#B0BEC5\",\"#B0BEC5\",\"#B0BEC5\",\"#B0BEC5\",\"#B0BEC5\",\"red\",\"#B0BEC5\",\"#B0BEC5\",\"#B0BEC5\",\"#B0BEC5\",\"#B0BEC5\",\"#B0BEC5\",\"#B0BEC5\",\"#B0BEC5\"]]}],\"label\":\"Topic 6\",\"method\":\"update\"},{\"args\":[{\"marker.color\":[[\"#B0BEC5\",\"#B0BEC5\",\"#B0BEC5\",\"#B0BEC5\",\"#B0BEC5\",\"#B0BEC5\",\"#B0BEC5\",\"red\",\"#B0BEC5\",\"#B0BEC5\",\"#B0BEC5\",\"#B0BEC5\",\"#B0BEC5\",\"#B0BEC5\",\"#B0BEC5\"]]}],\"label\":\"Topic 7\",\"method\":\"update\"},{\"args\":[{\"marker.color\":[[\"#B0BEC5\",\"#B0BEC5\",\"#B0BEC5\",\"#B0BEC5\",\"#B0BEC5\",\"#B0BEC5\",\"#B0BEC5\",\"#B0BEC5\",\"red\",\"#B0BEC5\",\"#B0BEC5\",\"#B0BEC5\",\"#B0BEC5\",\"#B0BEC5\",\"#B0BEC5\"]]}],\"label\":\"Topic 8\",\"method\":\"update\"},{\"args\":[{\"marker.color\":[[\"#B0BEC5\",\"#B0BEC5\",\"#B0BEC5\",\"#B0BEC5\",\"#B0BEC5\",\"#B0BEC5\",\"#B0BEC5\",\"#B0BEC5\",\"#B0BEC5\",\"red\",\"#B0BEC5\",\"#B0BEC5\",\"#B0BEC5\",\"#B0BEC5\",\"#B0BEC5\"]]}],\"label\":\"Topic 9\",\"method\":\"update\"},{\"args\":[{\"marker.color\":[[\"#B0BEC5\",\"#B0BEC5\",\"#B0BEC5\",\"#B0BEC5\",\"#B0BEC5\",\"#B0BEC5\",\"#B0BEC5\",\"#B0BEC5\",\"#B0BEC5\",\"#B0BEC5\",\"red\",\"#B0BEC5\",\"#B0BEC5\",\"#B0BEC5\",\"#B0BEC5\"]]}],\"label\":\"Topic 10\",\"method\":\"update\"},{\"args\":[{\"marker.color\":[[\"#B0BEC5\",\"#B0BEC5\",\"#B0BEC5\",\"#B0BEC5\",\"#B0BEC5\",\"#B0BEC5\",\"#B0BEC5\",\"#B0BEC5\",\"#B0BEC5\",\"#B0BEC5\",\"#B0BEC5\",\"red\",\"#B0BEC5\",\"#B0BEC5\",\"#B0BEC5\"]]}],\"label\":\"Topic 11\",\"method\":\"update\"},{\"args\":[{\"marker.color\":[[\"#B0BEC5\",\"#B0BEC5\",\"#B0BEC5\",\"#B0BEC5\",\"#B0BEC5\",\"#B0BEC5\",\"#B0BEC5\",\"#B0BEC5\",\"#B0BEC5\",\"#B0BEC5\",\"#B0BEC5\",\"#B0BEC5\",\"red\",\"#B0BEC5\",\"#B0BEC5\"]]}],\"label\":\"Topic 12\",\"method\":\"update\"},{\"args\":[{\"marker.color\":[[\"#B0BEC5\",\"#B0BEC5\",\"#B0BEC5\",\"#B0BEC5\",\"#B0BEC5\",\"#B0BEC5\",\"#B0BEC5\",\"#B0BEC5\",\"#B0BEC5\",\"#B0BEC5\",\"#B0BEC5\",\"#B0BEC5\",\"#B0BEC5\",\"red\",\"#B0BEC5\"]]}],\"label\":\"Topic 13\",\"method\":\"update\"},{\"args\":[{\"marker.color\":[[\"#B0BEC5\",\"#B0BEC5\",\"#B0BEC5\",\"#B0BEC5\",\"#B0BEC5\",\"#B0BEC5\",\"#B0BEC5\",\"#B0BEC5\",\"#B0BEC5\",\"#B0BEC5\",\"#B0BEC5\",\"#B0BEC5\",\"#B0BEC5\",\"#B0BEC5\",\"red\"]]}],\"label\":\"Topic 14\",\"method\":\"update\"}]}],\"shapes\":[{\"line\":{\"color\":\"#CFD8DC\",\"width\":2},\"type\":\"line\",\"x0\":6.011568069458008,\"x1\":6.011568069458008,\"y0\":-13.232583045959473,\"y1\":7.1236701011657715},{\"line\":{\"color\":\"#9E9E9E\",\"width\":2},\"type\":\"line\",\"x0\":1.8345190286636353,\"x1\":10.188616752624512,\"y0\":-3.0544564723968506,\"y1\":-3.0544564723968506}],\"annotations\":[{\"showarrow\":false,\"text\":\"D1\",\"x\":1.8345190286636353,\"y\":-3.0544564723968506,\"yshift\":10},{\"showarrow\":false,\"text\":\"D2\",\"x\":6.011568069458008,\"xshift\":10,\"y\":7.1236701011657715}]},                        {\"responsive\": true}                    )                };            </script>        </div>"
      ],
      "text/plain": [
       "Figure({\n",
       "    'data': [{'customdata': array([[0, 'prabowo | gibran | dukung | orang | jokowi', 13797],\n",
       "                                   [1, 'prabowo | gibran | menang | orang | jokowi', 10325],\n",
       "                                   [2, '02 | orang | dukung | pasang | pilih', 10032],\n",
       "                                   [3, '02 | dukung | pasang | pilih | calon', 9214],\n",
       "                                   [4, '02 | dukung | pilih | buzzer | banget', 9089],\n",
       "                                   [5, '02 | kampanye | agama | indonesia | kerja', 6783],\n",
       "                                   [6, 'kayak | 02 | suara | survei | video', 6692],\n",
       "                                   [7, 'gibran | rakabuming | raka | prabowo | indonesia', 6178],\n",
       "                                   [8, 'presiden | calon | wakil | 02 | pilih', 4486],\n",
       "                                   [9, 'debat | 02 | program | calon | gratis', 4091],\n",
       "                                   [10, 'presiden | prabowo | calon | pilih | wakil', 3959],\n",
       "                                   [11, 'menang | 02 | teman | panik | gara', 3697],\n",
       "                                   [12, 'politik | israel | palestina | polisi | 02', 2157],\n",
       "                                   [13, 'demokrasi | partai | juang | indonesia | demokrat', 2055],\n",
       "                                   [14, 'debat | prabowo | presiden | calon | gibran', 1855]], dtype=object),\n",
       "              'hovertemplate': '<b>Topic %{customdata[0]}</b><br>%{customdata[1]}<br>Size: %{customdata[2]}',\n",
       "              'legendgroup': '',\n",
       "              'marker': {'color': '#B0BEC5',\n",
       "                         'line': {'color': 'DarkSlateGrey', 'width': 2},\n",
       "                         'size': {'bdata': '5TVVKDAn/iOBI38aJBoiGIYR+w93D3EObQgHCD8H', 'dtype': 'i2'},\n",
       "                         'sizemode': 'area',\n",
       "                         'sizeref': 8.623125,\n",
       "                         'symbol': 'circle'},\n",
       "              'mode': 'markers',\n",
       "              'name': '',\n",
       "              'orientation': 'v',\n",
       "              'showlegend': False,\n",
       "              'type': 'scatter',\n",
       "              'x': {'bdata': '3Z4NQTLBDUGbDktAJx0fQJdYKECppS1Ai52AQOcyCEEojhJAXLqOQLC4AUHlIApAas41QBKVM0DNyJZA',\n",
       "                    'dtype': 'f4'},\n",
       "              'xaxis': 'x',\n",
       "              'y': {'bdata': 'TznGQMlnukDTlCTBOU00wc/AMcHBHRnB6iggwUxpr0DxrxfBWxIcwdrrs0ACGzjBgR0QwUPJCMFB2xfB',\n",
       "                    'dtype': 'f4'},\n",
       "              'yaxis': 'y'}],\n",
       "    'layout': {'annotations': [{'showarrow': False,\n",
       "                                'text': 'D1',\n",
       "                                'x': np.float32(1.834519),\n",
       "                                'y': np.float32(-3.0544565),\n",
       "                                'yshift': 10},\n",
       "                               {'showarrow': False,\n",
       "                                'text': 'D2',\n",
       "                                'x': np.float32(6.011568),\n",
       "                                'xshift': 10,\n",
       "                                'y': np.float32(7.12367)}],\n",
       "               'height': 650,\n",
       "               'hoverlabel': {'bgcolor': 'white', 'font': {'family': 'Rockwell', 'size': 16}},\n",
       "               'legend': {'itemsizing': 'constant', 'tracegroupgap': 0},\n",
       "               'margin': {'t': 60},\n",
       "               'shapes': [{'line': {'color': '#CFD8DC', 'width': 2},\n",
       "                           'type': 'line',\n",
       "                           'x0': np.float32(6.011568),\n",
       "                           'x1': np.float32(6.011568),\n",
       "                           'y0': np.float32(-13.232583),\n",
       "                           'y1': np.float32(7.12367)},\n",
       "                          {'line': {'color': '#9E9E9E', 'width': 2},\n",
       "                           'type': 'line',\n",
       "                           'x0': np.float32(1.834519),\n",
       "                           'x1': np.float32(10.188617),\n",
       "                           'y0': np.float32(-3.0544565),\n",
       "                           'y1': np.float32(-3.0544565)}],\n",
       "               'sliders': [{'active': 0,\n",
       "                            'pad': {'t': 50},\n",
       "                            'steps': [{'args': [{'marker.color': [['red',\n",
       "                                                                  '#B0BEC5',\n",
       "                                                                  '#B0BEC5',\n",
       "                                                                  '#B0BEC5',\n",
       "                                                                  '#B0BEC5',\n",
       "                                                                  '#B0BEC5',\n",
       "                                                                  '#B0BEC5',\n",
       "                                                                  '#B0BEC5',\n",
       "                                                                  '#B0BEC5',\n",
       "                                                                  '#B0BEC5',\n",
       "                                                                  '#B0BEC5',\n",
       "                                                                  '#B0BEC5',\n",
       "                                                                  '#B0BEC5',\n",
       "                                                                  '#B0BEC5',\n",
       "                                                                  '#B0BEC5']]}],\n",
       "                                       'label': 'Topic 0',\n",
       "                                       'method': 'update'},\n",
       "                                      {'args': [{'marker.color': [['#B0BEC5',\n",
       "                                                                  'red', '#B0BEC5',\n",
       "                                                                  '#B0BEC5',\n",
       "                                                                  '#B0BEC5',\n",
       "                                                                  '#B0BEC5',\n",
       "                                                                  '#B0BEC5',\n",
       "                                                                  '#B0BEC5',\n",
       "                                                                  '#B0BEC5',\n",
       "                                                                  '#B0BEC5',\n",
       "                                                                  '#B0BEC5',\n",
       "                                                                  '#B0BEC5',\n",
       "                                                                  '#B0BEC5',\n",
       "                                                                  '#B0BEC5',\n",
       "                                                                  '#B0BEC5']]}],\n",
       "                                       'label': 'Topic 1',\n",
       "                                       'method': 'update'},\n",
       "                                      {'args': [{'marker.color': [['#B0BEC5',\n",
       "                                                                  '#B0BEC5', 'red',\n",
       "                                                                  '#B0BEC5',\n",
       "                                                                  '#B0BEC5',\n",
       "                                                                  '#B0BEC5',\n",
       "                                                                  '#B0BEC5',\n",
       "                                                                  '#B0BEC5',\n",
       "                                                                  '#B0BEC5',\n",
       "                                                                  '#B0BEC5',\n",
       "                                                                  '#B0BEC5',\n",
       "                                                                  '#B0BEC5',\n",
       "                                                                  '#B0BEC5',\n",
       "                                                                  '#B0BEC5',\n",
       "                                                                  '#B0BEC5']]}],\n",
       "                                       'label': 'Topic 2',\n",
       "                                       'method': 'update'},\n",
       "                                      {'args': [{'marker.color': [['#B0BEC5',\n",
       "                                                                  '#B0BEC5',\n",
       "                                                                  '#B0BEC5', 'red',\n",
       "                                                                  '#B0BEC5',\n",
       "                                                                  '#B0BEC5',\n",
       "                                                                  '#B0BEC5',\n",
       "                                                                  '#B0BEC5',\n",
       "                                                                  '#B0BEC5',\n",
       "                                                                  '#B0BEC5',\n",
       "                                                                  '#B0BEC5',\n",
       "                                                                  '#B0BEC5',\n",
       "                                                                  '#B0BEC5',\n",
       "                                                                  '#B0BEC5',\n",
       "                                                                  '#B0BEC5']]}],\n",
       "                                       'label': 'Topic 3',\n",
       "                                       'method': 'update'},\n",
       "                                      {'args': [{'marker.color': [['#B0BEC5',\n",
       "                                                                  '#B0BEC5',\n",
       "                                                                  '#B0BEC5',\n",
       "                                                                  '#B0BEC5', 'red',\n",
       "                                                                  '#B0BEC5',\n",
       "                                                                  '#B0BEC5',\n",
       "                                                                  '#B0BEC5',\n",
       "                                                                  '#B0BEC5',\n",
       "                                                                  '#B0BEC5',\n",
       "                                                                  '#B0BEC5',\n",
       "                                                                  '#B0BEC5',\n",
       "                                                                  '#B0BEC5',\n",
       "                                                                  '#B0BEC5',\n",
       "                                                                  '#B0BEC5']]}],\n",
       "                                       'label': 'Topic 4',\n",
       "                                       'method': 'update'},\n",
       "                                      {'args': [{'marker.color': [['#B0BEC5',\n",
       "                                                                  '#B0BEC5',\n",
       "                                                                  '#B0BEC5',\n",
       "                                                                  '#B0BEC5',\n",
       "                                                                  '#B0BEC5', 'red',\n",
       "                                                                  '#B0BEC5',\n",
       "                                                                  '#B0BEC5',\n",
       "                                                                  '#B0BEC5',\n",
       "                                                                  '#B0BEC5',\n",
       "                                                                  '#B0BEC5',\n",
       "                                                                  '#B0BEC5',\n",
       "                                                                  '#B0BEC5',\n",
       "                                                                  '#B0BEC5',\n",
       "                                                                  '#B0BEC5']]}],\n",
       "                                       'label': 'Topic 5',\n",
       "                                       'method': 'update'},\n",
       "                                      {'args': [{'marker.color': [['#B0BEC5',\n",
       "                                                                  '#B0BEC5',\n",
       "                                                                  '#B0BEC5',\n",
       "                                                                  '#B0BEC5',\n",
       "                                                                  '#B0BEC5',\n",
       "                                                                  '#B0BEC5', 'red',\n",
       "                                                                  '#B0BEC5',\n",
       "                                                                  '#B0BEC5',\n",
       "                                                                  '#B0BEC5',\n",
       "                                                                  '#B0BEC5',\n",
       "                                                                  '#B0BEC5',\n",
       "                                                                  '#B0BEC5',\n",
       "                                                                  '#B0BEC5',\n",
       "                                                                  '#B0BEC5']]}],\n",
       "                                       'label': 'Topic 6',\n",
       "                                       'method': 'update'},\n",
       "                                      {'args': [{'marker.color': [['#B0BEC5',\n",
       "                                                                  '#B0BEC5',\n",
       "                                                                  '#B0BEC5',\n",
       "                                                                  '#B0BEC5',\n",
       "                                                                  '#B0BEC5',\n",
       "                                                                  '#B0BEC5',\n",
       "                                                                  '#B0BEC5', 'red',\n",
       "                                                                  '#B0BEC5',\n",
       "                                                                  '#B0BEC5',\n",
       "                                                                  '#B0BEC5',\n",
       "                                                                  '#B0BEC5',\n",
       "                                                                  '#B0BEC5',\n",
       "                                                                  '#B0BEC5',\n",
       "                                                                  '#B0BEC5']]}],\n",
       "                                       'label': 'Topic 7',\n",
       "                                       'method': 'update'},\n",
       "                                      {'args': [{'marker.color': [['#B0BEC5',\n",
       "                                                                  '#B0BEC5',\n",
       "                                                                  '#B0BEC5',\n",
       "                                                                  '#B0BEC5',\n",
       "                                                                  '#B0BEC5',\n",
       "                                                                  '#B0BEC5',\n",
       "                                                                  '#B0BEC5',\n",
       "                                                                  '#B0BEC5', 'red',\n",
       "                                                                  '#B0BEC5',\n",
       "                                                                  '#B0BEC5',\n",
       "                                                                  '#B0BEC5',\n",
       "                                                                  '#B0BEC5',\n",
       "                                                                  '#B0BEC5',\n",
       "                                                                  '#B0BEC5']]}],\n",
       "                                       'label': 'Topic 8',\n",
       "                                       'method': 'update'},\n",
       "                                      {'args': [{'marker.color': [['#B0BEC5',\n",
       "                                                                  '#B0BEC5',\n",
       "                                                                  '#B0BEC5',\n",
       "                                                                  '#B0BEC5',\n",
       "                                                                  '#B0BEC5',\n",
       "                                                                  '#B0BEC5',\n",
       "                                                                  '#B0BEC5',\n",
       "                                                                  '#B0BEC5',\n",
       "                                                                  '#B0BEC5', 'red',\n",
       "                                                                  '#B0BEC5',\n",
       "                                                                  '#B0BEC5',\n",
       "                                                                  '#B0BEC5',\n",
       "                                                                  '#B0BEC5',\n",
       "                                                                  '#B0BEC5']]}],\n",
       "                                       'label': 'Topic 9',\n",
       "                                       'method': 'update'},\n",
       "                                      {'args': [{'marker.color': [['#B0BEC5',\n",
       "                                                                  '#B0BEC5',\n",
       "                                                                  '#B0BEC5',\n",
       "                                                                  '#B0BEC5',\n",
       "                                                                  '#B0BEC5',\n",
       "                                                                  '#B0BEC5',\n",
       "                                                                  '#B0BEC5',\n",
       "                                                                  '#B0BEC5',\n",
       "                                                                  '#B0BEC5',\n",
       "                                                                  '#B0BEC5', 'red',\n",
       "                                                                  '#B0BEC5',\n",
       "                                                                  '#B0BEC5',\n",
       "                                                                  '#B0BEC5',\n",
       "                                                                  '#B0BEC5']]}],\n",
       "                                       'label': 'Topic 10',\n",
       "                                       'method': 'update'},\n",
       "                                      {'args': [{'marker.color': [['#B0BEC5',\n",
       "                                                                  '#B0BEC5',\n",
       "                                                                  '#B0BEC5',\n",
       "                                                                  '#B0BEC5',\n",
       "                                                                  '#B0BEC5',\n",
       "                                                                  '#B0BEC5',\n",
       "                                                                  '#B0BEC5',\n",
       "                                                                  '#B0BEC5',\n",
       "                                                                  '#B0BEC5',\n",
       "                                                                  '#B0BEC5',\n",
       "                                                                  '#B0BEC5', 'red',\n",
       "                                                                  '#B0BEC5',\n",
       "                                                                  '#B0BEC5',\n",
       "                                                                  '#B0BEC5']]}],\n",
       "                                       'label': 'Topic 11',\n",
       "                                       'method': 'update'},\n",
       "                                      {'args': [{'marker.color': [['#B0BEC5',\n",
       "                                                                  '#B0BEC5',\n",
       "                                                                  '#B0BEC5',\n",
       "                                                                  '#B0BEC5',\n",
       "                                                                  '#B0BEC5',\n",
       "                                                                  '#B0BEC5',\n",
       "                                                                  '#B0BEC5',\n",
       "                                                                  '#B0BEC5',\n",
       "                                                                  '#B0BEC5',\n",
       "                                                                  '#B0BEC5',\n",
       "                                                                  '#B0BEC5',\n",
       "                                                                  '#B0BEC5', 'red',\n",
       "                                                                  '#B0BEC5',\n",
       "                                                                  '#B0BEC5']]}],\n",
       "                                       'label': 'Topic 12',\n",
       "                                       'method': 'update'},\n",
       "                                      {'args': [{'marker.color': [['#B0BEC5',\n",
       "                                                                  '#B0BEC5',\n",
       "                                                                  '#B0BEC5',\n",
       "                                                                  '#B0BEC5',\n",
       "                                                                  '#B0BEC5',\n",
       "                                                                  '#B0BEC5',\n",
       "                                                                  '#B0BEC5',\n",
       "                                                                  '#B0BEC5',\n",
       "                                                                  '#B0BEC5',\n",
       "                                                                  '#B0BEC5',\n",
       "                                                                  '#B0BEC5',\n",
       "                                                                  '#B0BEC5',\n",
       "                                                                  '#B0BEC5', 'red',\n",
       "                                                                  '#B0BEC5']]}],\n",
       "                                       'label': 'Topic 13',\n",
       "                                       'method': 'update'},\n",
       "                                      {'args': [{'marker.color': [['#B0BEC5',\n",
       "                                                                  '#B0BEC5',\n",
       "                                                                  '#B0BEC5',\n",
       "                                                                  '#B0BEC5',\n",
       "                                                                  '#B0BEC5',\n",
       "                                                                  '#B0BEC5',\n",
       "                                                                  '#B0BEC5',\n",
       "                                                                  '#B0BEC5',\n",
       "                                                                  '#B0BEC5',\n",
       "                                                                  '#B0BEC5',\n",
       "                                                                  '#B0BEC5',\n",
       "                                                                  '#B0BEC5',\n",
       "                                                                  '#B0BEC5',\n",
       "                                                                  '#B0BEC5',\n",
       "                                                                  'red']]}],\n",
       "                                       'label': 'Topic 14',\n",
       "                                       'method': 'update'}]}],\n",
       "               'template': '...',\n",
       "               'title': {'font': {'color': 'Black', 'size': 22},\n",
       "                         'text': '<b>Intertopic Distance Map</b>',\n",
       "                         'x': 0.5,\n",
       "                         'xanchor': 'center',\n",
       "                         'y': 0.95,\n",
       "                         'yanchor': 'top'},\n",
       "               'width': 650,\n",
       "               'xaxis': {'anchor': 'y',\n",
       "                         'domain': [0.0, 1.0],\n",
       "                         'range': [1.8345190286636353, 10.188616752624512],\n",
       "                         'title': {'text': ''},\n",
       "                         'visible': False},\n",
       "               'yaxis': {'anchor': 'x',\n",
       "                         'domain': [0.0, 1.0],\n",
       "                         'range': [-13.232583045959473, 7.1236701011657715],\n",
       "                         'title': {'text': ''},\n",
       "                         'visible': False}}\n",
       "})"
      ]
     },
     "execution_count": 21,
     "metadata": {},
     "output_type": "execute_result"
    }
   ],
   "source": [
    "topic_model_kmeans.visualize_barchart(top_n_topics=15)\n",
    "topic_model_kmeans.visualize_topics()"
   ]
  },
  {
   "cell_type": "code",
   "execution_count": 22,
   "id": "a95e4cb5",
   "metadata": {},
   "outputs": [],
   "source": [
    "# Save results to CSV\n",
    "df_topics = pd.DataFrame({\"Document\": docs, \"Topic\": topics_kmeans})\n",
    "df_topics.to_csv(\"topic_assignments_kmeans.csv\", index=False)\n",
    "\n",
    "# Save model\n",
    "# topic_model.save(\"bertopic_model_kmeans\")"
   ]
  },
  {
   "cell_type": "code",
   "execution_count": 23,
   "id": "8f54d160",
   "metadata": {},
   "outputs": [
    {
     "name": "stderr",
     "output_type": "stream",
     "text": [
      "0it [00:00, ?it/s]\n"
     ]
    },
    {
     "ename": "IndexError",
     "evalue": "index (540) out of range",
     "output_type": "error",
     "traceback": [
      "\u001b[1;31m---------------------------------------------------------------------------\u001b[0m",
      "\u001b[1;31mIndexError\u001b[0m                                Traceback (most recent call last)",
      "Cell \u001b[1;32mIn[23], line 1\u001b[0m\n\u001b[1;32m----> 1\u001b[0m topics_over_time_kmeans \u001b[38;5;241m=\u001b[39m \u001b[43mtopic_model_kmeans\u001b[49m\u001b[38;5;241;43m.\u001b[39;49m\u001b[43mtopics_over_time\u001b[49m\u001b[43m(\u001b[49m\n\u001b[0;32m      2\u001b[0m \u001b[43m    \u001b[49m\u001b[43mdocs\u001b[49m\u001b[38;5;241;43m=\u001b[39;49m\u001b[43mdocs\u001b[49m\u001b[43m,\u001b[49m\n\u001b[0;32m      3\u001b[0m \u001b[43m    \u001b[49m\u001b[43mtopics\u001b[49m\u001b[38;5;241;43m=\u001b[39;49m\u001b[43mtopics_hdbscan\u001b[49m\u001b[43m,\u001b[49m\n\u001b[0;32m      4\u001b[0m \u001b[43m    \u001b[49m\u001b[43mtimestamps\u001b[49m\u001b[38;5;241;43m=\u001b[39;49m\u001b[43mdf\u001b[49m\u001b[43m[\u001b[49m\u001b[38;5;124;43m'\u001b[39;49m\u001b[38;5;124;43mcreated_at\u001b[39;49m\u001b[38;5;124;43m'\u001b[39;49m\u001b[43m]\u001b[49m\u001b[43m,\u001b[49m\n\u001b[0;32m      5\u001b[0m \u001b[43m    \u001b[49m\u001b[43mnr_bins\u001b[49m\u001b[38;5;241;43m=\u001b[39;49m\u001b[38;5;241;43m20\u001b[39;49m\u001b[43m,\u001b[49m\n\u001b[0;32m      6\u001b[0m \u001b[43m    \u001b[49m\u001b[43mevolution_tuning\u001b[49m\u001b[38;5;241;43m=\u001b[39;49m\u001b[38;5;28;43;01mTrue\u001b[39;49;00m\u001b[43m,\u001b[49m\n\u001b[0;32m      7\u001b[0m \u001b[43m    \u001b[49m\u001b[43mglobal_tuning\u001b[49m\u001b[38;5;241;43m=\u001b[39;49m\u001b[38;5;28;43;01mTrue\u001b[39;49;00m\n\u001b[0;32m      8\u001b[0m \u001b[43m)\u001b[49m\n\u001b[0;32m     10\u001b[0m topic_model_hdbscan\u001b[38;5;241m.\u001b[39mvisualize_topics_over_time(topics_over_time_kmeans, top_n_topics\u001b[38;5;241m=\u001b[39m\u001b[38;5;241m10\u001b[39m)\n",
      "File \u001b[1;32mc:\\Users\\PC\\AppData\\Local\\Programs\\Python\\Python310\\lib\\site-packages\\bertopic\\_bertopic.py:925\u001b[0m, in \u001b[0;36mBERTopic.topics_over_time\u001b[1;34m(self, docs, timestamps, topics, nr_bins, datetime_format, evolution_tuning, global_tuning)\u001b[0m\n\u001b[0;32m    923\u001b[0m \u001b[38;5;28;01mif\u001b[39;00m global_tuning:\n\u001b[0;32m    924\u001b[0m     selected_topics \u001b[38;5;241m=\u001b[39m [all_topics_indices[topic] \u001b[38;5;28;01mfor\u001b[39;00m topic \u001b[38;5;129;01min\u001b[39;00m documents_per_topic\u001b[38;5;241m.\u001b[39mTopic\u001b[38;5;241m.\u001b[39mvalues]\n\u001b[1;32m--> 925\u001b[0m     c_tf_idf \u001b[38;5;241m=\u001b[39m (\u001b[43mglobal_c_tf_idf\u001b[49m\u001b[43m[\u001b[49m\u001b[43mselected_topics\u001b[49m\u001b[43m]\u001b[49m \u001b[38;5;241m+\u001b[39m c_tf_idf) \u001b[38;5;241m/\u001b[39m \u001b[38;5;241m2.0\u001b[39m\n\u001b[0;32m    927\u001b[0m \u001b[38;5;66;03m# Extract the words per topic\u001b[39;00m\n\u001b[0;32m    928\u001b[0m words_per_topic \u001b[38;5;241m=\u001b[39m \u001b[38;5;28mself\u001b[39m\u001b[38;5;241m.\u001b[39m_extract_words_per_topic(words, selection, c_tf_idf, calculate_aspects\u001b[38;5;241m=\u001b[39m\u001b[38;5;28;01mFalse\u001b[39;00m)\n",
      "File \u001b[1;32mc:\\Users\\PC\\AppData\\Local\\Programs\\Python\\Python310\\lib\\site-packages\\scipy\\sparse\\_csr.py:24\u001b[0m, in \u001b[0;36m_csr_base.__getitem__\u001b[1;34m(self, key)\u001b[0m\n\u001b[0;32m     22\u001b[0m \u001b[38;5;28;01mdef\u001b[39;00m \u001b[38;5;21m__getitem__\u001b[39m(\u001b[38;5;28mself\u001b[39m, key):\n\u001b[0;32m     23\u001b[0m     \u001b[38;5;28;01mif\u001b[39;00m \u001b[38;5;28mself\u001b[39m\u001b[38;5;241m.\u001b[39mndim \u001b[38;5;241m==\u001b[39m \u001b[38;5;241m2\u001b[39m:\n\u001b[1;32m---> 24\u001b[0m         \u001b[38;5;28;01mreturn\u001b[39;00m \u001b[38;5;28;43msuper\u001b[39;49m\u001b[43m(\u001b[49m\u001b[43m)\u001b[49m\u001b[38;5;241;43m.\u001b[39;49m\u001b[38;5;21;43m__getitem__\u001b[39;49m\u001b[43m(\u001b[49m\u001b[43mkey\u001b[49m\u001b[43m)\u001b[49m\n\u001b[0;32m     26\u001b[0m     \u001b[38;5;28;01mif\u001b[39;00m \u001b[38;5;28misinstance\u001b[39m(key, \u001b[38;5;28mtuple\u001b[39m) \u001b[38;5;129;01mand\u001b[39;00m \u001b[38;5;28mlen\u001b[39m(key) \u001b[38;5;241m==\u001b[39m \u001b[38;5;241m1\u001b[39m:\n\u001b[0;32m     27\u001b[0m         key \u001b[38;5;241m=\u001b[39m key[\u001b[38;5;241m0\u001b[39m]\n",
      "File \u001b[1;32mc:\\Users\\PC\\AppData\\Local\\Programs\\Python\\Python310\\lib\\site-packages\\scipy\\sparse\\_index.py:52\u001b[0m, in \u001b[0;36mIndexMixin.__getitem__\u001b[1;34m(self, key)\u001b[0m\n\u001b[0;32m     51\u001b[0m \u001b[38;5;28;01mdef\u001b[39;00m \u001b[38;5;21m__getitem__\u001b[39m(\u001b[38;5;28mself\u001b[39m, key):\n\u001b[1;32m---> 52\u001b[0m     row, col \u001b[38;5;241m=\u001b[39m \u001b[38;5;28;43mself\u001b[39;49m\u001b[38;5;241;43m.\u001b[39;49m\u001b[43m_validate_indices\u001b[49m\u001b[43m(\u001b[49m\u001b[43mkey\u001b[49m\u001b[43m)\u001b[49m\n\u001b[0;32m     54\u001b[0m     \u001b[38;5;66;03m# Dispatch to specialized methods.\u001b[39;00m\n\u001b[0;32m     55\u001b[0m     \u001b[38;5;28;01mif\u001b[39;00m \u001b[38;5;28misinstance\u001b[39m(row, INT_TYPES):\n",
      "File \u001b[1;32mc:\\Users\\PC\\AppData\\Local\\Programs\\Python\\Python310\\lib\\site-packages\\scipy\\sparse\\_index.py:186\u001b[0m, in \u001b[0;36mIndexMixin._validate_indices\u001b[1;34m(self, key)\u001b[0m\n\u001b[0;32m    184\u001b[0m     row \u001b[38;5;241m=\u001b[39m _validate_bool_idx(bool_row, M, \u001b[38;5;124m\"\u001b[39m\u001b[38;5;124mrow\u001b[39m\u001b[38;5;124m\"\u001b[39m)\n\u001b[0;32m    185\u001b[0m \u001b[38;5;28;01melif\u001b[39;00m \u001b[38;5;129;01mnot\u001b[39;00m \u001b[38;5;28misinstance\u001b[39m(row, \u001b[38;5;28mslice\u001b[39m):\n\u001b[1;32m--> 186\u001b[0m     row \u001b[38;5;241m=\u001b[39m \u001b[38;5;28;43mself\u001b[39;49m\u001b[38;5;241;43m.\u001b[39;49m\u001b[43m_asindices\u001b[49m\u001b[43m(\u001b[49m\u001b[43mrow\u001b[49m\u001b[43m,\u001b[49m\u001b[43m \u001b[49m\u001b[43mM\u001b[49m\u001b[43m)\u001b[49m\n\u001b[0;32m    188\u001b[0m \u001b[38;5;28;01mif\u001b[39;00m isintlike(col):\n\u001b[0;32m    189\u001b[0m     col \u001b[38;5;241m=\u001b[39m \u001b[38;5;28mint\u001b[39m(col)\n",
      "File \u001b[1;32mc:\\Users\\PC\\AppData\\Local\\Programs\\Python\\Python310\\lib\\site-packages\\scipy\\sparse\\_index.py:220\u001b[0m, in \u001b[0;36mIndexMixin._asindices\u001b[1;34m(self, idx, length)\u001b[0m\n\u001b[0;32m    218\u001b[0m max_indx \u001b[38;5;241m=\u001b[39m x\u001b[38;5;241m.\u001b[39mmax()\n\u001b[0;32m    219\u001b[0m \u001b[38;5;28;01mif\u001b[39;00m max_indx \u001b[38;5;241m>\u001b[39m\u001b[38;5;241m=\u001b[39m length:\n\u001b[1;32m--> 220\u001b[0m     \u001b[38;5;28;01mraise\u001b[39;00m \u001b[38;5;167;01mIndexError\u001b[39;00m(\u001b[38;5;124m'\u001b[39m\u001b[38;5;124mindex (\u001b[39m\u001b[38;5;132;01m%d\u001b[39;00m\u001b[38;5;124m) out of range\u001b[39m\u001b[38;5;124m'\u001b[39m \u001b[38;5;241m%\u001b[39m max_indx)\n\u001b[0;32m    222\u001b[0m min_indx \u001b[38;5;241m=\u001b[39m x\u001b[38;5;241m.\u001b[39mmin()\n\u001b[0;32m    223\u001b[0m \u001b[38;5;28;01mif\u001b[39;00m min_indx \u001b[38;5;241m<\u001b[39m \u001b[38;5;241m0\u001b[39m:\n",
      "\u001b[1;31mIndexError\u001b[0m: index (540) out of range"
     ]
    }
   ],
   "source": [
    "topics_over_time_kmeans = topic_model_kmeans.topics_over_time(\n",
    "    docs=docs,\n",
    "    topics=topics_hdbscan,\n",
    "    timestamps=df['created_at'],\n",
    "    nr_bins=20,\n",
    "    evolution_tuning=True,\n",
    "    global_tuning=True\n",
    ")\n",
    "\n",
    "topic_model_hdbscan.visualize_topics_over_time(topics_over_time_kmeans, top_n_topics=10)"
   ]
  },
  {
   "cell_type": "code",
   "execution_count": null,
   "id": "f4d6a4bd",
   "metadata": {},
   "outputs": [
    {
     "name": "stdout",
     "output_type": "stream",
     "text": [
      "HDBSCAN Topics: 205\n",
      "KMeans Topics: 15\n",
      "HDBSCAN Outliers: 9996\n"
     ]
    }
   ],
   "source": [
    "print(\"HDBSCAN Topics:\", len(set(topics_hdbscan)) - (1 if -1 in topics_hdbscan else 0))\n",
    "print(\"KMeans Topics:\", len(set(topics_kmeans)))\n",
    "\n",
    "# Outlier analysis\n",
    "print(\"HDBSCAN Outliers:\", topics_hdbscan.count(-1))  # KMeans won't have outliers"
   ]
  },
  {
   "cell_type": "code",
   "execution_count": null,
   "id": "5838f40d",
   "metadata": {},
   "outputs": [
    {
     "data": {
      "text/html": [
       "<div>\n",
       "<style scoped>\n",
       "    .dataframe tbody tr th:only-of-type {\n",
       "        vertical-align: middle;\n",
       "    }\n",
       "\n",
       "    .dataframe tbody tr th {\n",
       "        vertical-align: top;\n",
       "    }\n",
       "\n",
       "    .dataframe thead th {\n",
       "        text-align: right;\n",
       "    }\n",
       "</style>\n",
       "<table border=\"1\" class=\"dataframe\">\n",
       "  <thead>\n",
       "    <tr style=\"text-align: right;\">\n",
       "      <th></th>\n",
       "      <th>HDBSCAN</th>\n",
       "      <th>KMeans</th>\n",
       "    </tr>\n",
       "  </thead>\n",
       "  <tbody>\n",
       "    <tr>\n",
       "      <th>-1</th>\n",
       "      <td>9996</td>\n",
       "      <td>0</td>\n",
       "    </tr>\n",
       "    <tr>\n",
       "      <th>0</th>\n",
       "      <td>941</td>\n",
       "      <td>3525</td>\n",
       "    </tr>\n",
       "    <tr>\n",
       "      <th>1</th>\n",
       "      <td>903</td>\n",
       "      <td>3463</td>\n",
       "    </tr>\n",
       "    <tr>\n",
       "      <th>2</th>\n",
       "      <td>792</td>\n",
       "      <td>3304</td>\n",
       "    </tr>\n",
       "    <tr>\n",
       "      <th>3</th>\n",
       "      <td>789</td>\n",
       "      <td>2851</td>\n",
       "    </tr>\n",
       "    <tr>\n",
       "      <th>...</th>\n",
       "      <td>...</td>\n",
       "      <td>...</td>\n",
       "    </tr>\n",
       "    <tr>\n",
       "      <th>200</th>\n",
       "      <td>16</td>\n",
       "      <td>0</td>\n",
       "    </tr>\n",
       "    <tr>\n",
       "      <th>201</th>\n",
       "      <td>16</td>\n",
       "      <td>0</td>\n",
       "    </tr>\n",
       "    <tr>\n",
       "      <th>202</th>\n",
       "      <td>15</td>\n",
       "      <td>0</td>\n",
       "    </tr>\n",
       "    <tr>\n",
       "      <th>203</th>\n",
       "      <td>15</td>\n",
       "      <td>0</td>\n",
       "    </tr>\n",
       "    <tr>\n",
       "      <th>204</th>\n",
       "      <td>15</td>\n",
       "      <td>0</td>\n",
       "    </tr>\n",
       "  </tbody>\n",
       "</table>\n",
       "<p>206 rows × 2 columns</p>\n",
       "</div>"
      ],
      "text/plain": [
       "      HDBSCAN  KMeans\n",
       "-1       9996       0\n",
       " 0        941    3525\n",
       " 1        903    3463\n",
       " 2        792    3304\n",
       " 3        789    2851\n",
       "...       ...     ...\n",
       " 200       16       0\n",
       " 201       16       0\n",
       " 202       15       0\n",
       " 203       15       0\n",
       " 204       15       0\n",
       "\n",
       "[206 rows x 2 columns]"
      ]
     },
     "execution_count": 71,
     "metadata": {},
     "output_type": "execute_result"
    }
   ],
   "source": [
    "import pandas as pd\n",
    "from collections import Counter\n",
    "\n",
    "# Count documents per topic\n",
    "hdbscan_counts = Counter(topics_hdbscan)\n",
    "kmeans_counts = Counter(topics_kmeans)\n",
    "\n",
    "# Create DataFrame to compare\n",
    "comparison_df = pd.DataFrame({\n",
    "    \"HDBSCAN\": pd.Series(hdbscan_counts),\n",
    "    \"KMeans\": pd.Series(kmeans_counts)\n",
    "}).fillna(0).astype(int)\n",
    "\n",
    "comparison_df.sort_index()\n"
   ]
  }
 ],
 "metadata": {
  "kernelspec": {
   "display_name": "Python 3",
   "language": "python",
   "name": "python3"
  },
  "language_info": {
   "codemirror_mode": {
    "name": "ipython",
    "version": 3
   },
   "file_extension": ".py",
   "mimetype": "text/x-python",
   "name": "python",
   "nbconvert_exporter": "python",
   "pygments_lexer": "ipython3",
   "version": "3.10.10"
  }
 },
 "nbformat": 4,
 "nbformat_minor": 5
}
