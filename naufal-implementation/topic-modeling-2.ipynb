{
 "cells": [
  {
   "cell_type": "code",
   "execution_count": 1,
   "id": "be9df678",
   "metadata": {},
   "outputs": [
    {
     "name": "stderr",
     "output_type": "stream",
     "text": [
      "f:\\UI\\Semester 8\\Tugas Akhir\\topic-modelling\\env\\Lib\\site-packages\\tqdm\\auto.py:21: TqdmWarning: IProgress not found. Please update jupyter and ipywidgets. See https://ipywidgets.readthedocs.io/en/stable/user_install.html\n",
      "  from .autonotebook import tqdm as notebook_tqdm\n"
     ]
    }
   ],
   "source": [
    "from bertopic import BERTopic\n",
    "from sentence_transformers import SentenceTransformer\n",
    "from umap import UMAP\n",
    "import hdbscan\n",
    "from sklearn.decomposition import PCA\n",
    "import pandas as pd\n",
    "import matplotlib.pyplot as plt\n",
    "import seaborn as sns\n",
    "import torch"
   ]
  },
  {
   "cell_type": "code",
   "execution_count": 2,
   "id": "5011ae30",
   "metadata": {},
   "outputs": [
    {
     "name": "stdout",
     "output_type": "stream",
     "text": [
      "GPU available: False\n"
     ]
    }
   ],
   "source": [
    "print(\"GPU available:\", torch.cuda.is_available())"
   ]
  },
  {
   "cell_type": "code",
   "execution_count": null,
   "id": "e786257c",
   "metadata": {},
   "outputs": [
    {
     "name": "stdout",
     "output_type": "stream",
     "text": [
      "Index(['created_at', 'id_str', 'full_text', 'lang', 'location'], dtype='object')\n"
     ]
    }
   ],
   "source": [
    "df = pd.read_csv(\"../data/stemmed_merged_kubu_02.csv\") \n",
    "print(df.columns)"
   ]
  },
  {
   "cell_type": "code",
   "execution_count": 4,
   "id": "182f365b",
   "metadata": {},
   "outputs": [],
   "source": [
    "df['full_text'] = df['full_text'].str.replace(r'(wk)+|\\bsih\\b|\\bya\\b', '', regex=True)"
   ]
  },
  {
   "cell_type": "code",
   "execution_count": 5,
   "id": "5f6c4214",
   "metadata": {},
   "outputs": [],
   "source": [
    "docs = df['full_text'].dropna().astype(str).tolist()"
   ]
  },
  {
   "cell_type": "code",
   "execution_count": 20,
   "id": "46e82f87",
   "metadata": {},
   "outputs": [
    {
     "data": {
      "text/plain": [
       "SentenceTransformer(\n",
       "  (0): Transformer({'max_seq_length': 128, 'do_lower_case': False}) with Transformer model: DistilBertModel \n",
       "  (1): Pooling({'word_embedding_dimension': 768, 'pooling_mode_cls_token': False, 'pooling_mode_mean_tokens': True, 'pooling_mode_max_tokens': False, 'pooling_mode_mean_sqrt_len_tokens': False, 'pooling_mode_weightedmean_tokens': False, 'pooling_mode_lasttoken': False, 'include_prompt': True})\n",
       "  (2): Dense({'in_features': 768, 'out_features': 512, 'bias': True, 'activation_function': 'torch.nn.modules.activation.Tanh'})\n",
       ")"
      ]
     },
     "execution_count": 20,
     "metadata": {},
     "output_type": "execute_result"
    }
   ],
   "source": [
    "embedding_model = SentenceTransformer(\"distiluse-base-multilingual-cased-v1\")\n",
    "embedding_model.to('cuda' if torch.cuda.is_available() else 'cpu')"
   ]
  },
  {
   "cell_type": "code",
   "execution_count": 21,
   "id": "ba63fd42",
   "metadata": {},
   "outputs": [],
   "source": [
    "pca_model = PCA(n_components=25)\n",
    "umap_model = UMAP(n_neighbors=15, n_components=5, min_dist=0.0, metric='cosine')\n",
    "\n",
    "hdbscan_model = hdbscan.HDBSCAN(\n",
    "    min_cluster_size=15,\n",
    "    metric='euclidean',\n",
    "    cluster_selection_method='eom',\n",
    "    prediction_data=True,\n",
    ")\n"
   ]
  },
  {
   "cell_type": "code",
   "execution_count": 23,
   "id": "19bd1c28",
   "metadata": {},
   "outputs": [
    {
     "name": "stderr",
     "output_type": "stream",
     "text": [
      "2025-05-21 21:26:16,399 - BERTopic - Embedding - Transforming documents to embeddings.\n"
     ]
    },
    {
     "name": "stderr",
     "output_type": "stream",
     "text": [
      "Batches: 100%|██████████| 934/934 [05:31<00:00,  2.82it/s]\n",
      "2025-05-21 21:31:48,000 - BERTopic - Embedding - Completed ✓\n",
      "2025-05-21 21:31:48,002 - BERTopic - Dimensionality - Fitting the dimensionality reduction algorithm\n",
      "2025-05-21 21:32:09,055 - BERTopic - Dimensionality - Completed ✓\n",
      "2025-05-21 21:32:09,057 - BERTopic - Cluster - Start clustering the reduced embeddings\n",
      "2025-05-21 21:34:03,614 - BERTopic - Cluster - Completed ✓\n",
      "2025-05-21 21:34:03,622 - BERTopic - Representation - Fine-tuning topics using representation models.\n",
      "2025-05-21 21:34:04,081 - BERTopic - Representation - Completed ✓\n",
      "2025-05-21 21:34:04,717 - BERTopic - Topic reduction - Reducing number of topics\n",
      "2025-05-21 21:34:04,743 - BERTopic - Representation - Fine-tuning topics using representation models.\n",
      "2025-05-21 21:34:05,040 - BERTopic - Representation - Completed ✓\n",
      "2025-05-21 21:34:05,045 - BERTopic - Topic reduction - Reduced number of topics from 210 to 15\n"
     ]
    },
    {
     "data": {
      "text/plain": [
       "<bertopic._bertopic.BERTopic at 0x2281c402ba0>"
      ]
     },
     "execution_count": 23,
     "metadata": {},
     "output_type": "execute_result"
    }
   ],
   "source": [
    "topic_model_hdbscan = BERTopic(\n",
    "    embedding_model=embedding_model,\n",
    "    umap_model=umap_model,\n",
    "    hdbscan_model=hdbscan_model,\n",
    "    calculate_probabilities=True,\n",
    "    verbose=True\n",
    ")\n",
    "\n",
    "topics_hdbscan, probs = topic_model_hdbscan.fit_transform(docs)\n",
    "\n",
    "topic_model_hdbscan.reduce_topics(docs, nr_topics=15)\n"
   ]
  },
  {
   "cell_type": "code",
   "execution_count": 24,
   "id": "76212730",
   "metadata": {},
   "outputs": [
    {
     "name": "stdout",
     "output_type": "stream",
     "text": [
      "    Topic  Count                                 Name  \\\n",
      "0      -1  10285              -1_01_anies_dukung_imin   \n",
      "1       0   9630              0_01_dukung_pilih_calon   \n",
      "2       1   4131      1_anies_presiden_baswedan_pilih   \n",
      "3       2   1643        2_debat_calon_presiden_kritik   \n",
      "4       3   1532  3_politik_partai_demokrasi_demokrat   \n",
      "5       4    917              4_cak_imin_anies_banget   \n",
      "6       5    641          5_video_videotron_pop_korea   \n",
      "7       6    446        6_twitter_media_berita_sosial   \n",
      "8       7    219              7_program_anies_01_misi   \n",
      "9       8    136      8_palestina_israel_merdeka_aksi   \n",
      "10      9     98                9_data_fakta_01_pakai   \n",
      "11     10     61    10_strategi_01_strategy_strategis   \n",
      "12     11     52          11_respons_reply_respon_cak   \n",
      "13     12     51          12_viral_viralkan_ham_virus   \n",
      "14     13     19              13_store_app_unduh_play   \n",
      "\n",
      "                                       Representation  \\\n",
      "0   [01, anies, dukung, imin, cak, pilih, calon, a...   \n",
      "1   [01, dukung, pilih, calon, orang, menang, pasa...   \n",
      "2   [anies, presiden, baswedan, pilih, imin, cak, ...   \n",
      "3   [debat, calon, presiden, kritik, cak, imin, wa...   \n",
      "4   [politik, partai, demokrasi, demokrat, pilih, ...   \n",
      "5   [cak, imin, anies, banget, foto, live, orang, ...   \n",
      "6   [video, videotron, pop, korea, 01, film, lihat...   \n",
      "7   [twitter, media, berita, sosial, 01, dukung, t...   \n",
      "8   [program, anies, 01, misi, visi, kerja, bagus,...   \n",
      "9   [palestina, israel, merdeka, aksi, bela, free,...   \n",
      "10  [data, fakta, 01, pakai, luhut, anies, valid, ...   \n",
      "11  [strategi, 01, strategy, strategis, tim, joget...   \n",
      "12  [respons, reply, respon, cak, imin, positif, r...   \n",
      "13  [viral, viralkan, ham, virus, anies, curang, v...   \n",
      "14  [store, app, unduh, play, urut, nomor, anies, ...   \n",
      "\n",
      "                                  Representative_Docs  \n",
      "0   [bodoh rakyat malas pilih anies rasyid basweda...  \n",
      "1   [pilih  pasang calon 01 visi misi orang, wajib...  \n",
      "2   [anies anies baswedan gus muhaimin iskandar ba...  \n",
      "3   [berani debat calon wakil presiden pasang 01 ,...  \n",
      "4   [kampanye nasional demokrat partai bangkit ban...  \n",
      "5   [anies anies cak imin utama, cak imin tidur mi...  \n",
      "6   [video bukti curang pilih 01, kasih video desa...  \n",
      "7   [media sosial pilih anies pasang calon 01 alas...  \n",
      "8   [ubah rubah program program profesional rakyat...  \n",
      "9   [salah visi misi anies muhaimin amin aktor lib...  \n",
      "10  [dukung 01 inj  bicara data bukti keti pakai d...  \n",
      "11  [strategi 01 agama mayoritas, strategi cari pi...  \n",
      "12  [anies rasyid baswedan respons positif wargane...  \n",
      "13  [viral massa pakai baju prabowo gibran pilih a...  \n",
      "14  [mahasiswa lampung lanjut bangun ikn anies bas...  \n"
     ]
    },
    {
     "data": {
      "application/vnd.plotly.v1+json": {
       "config": {
        "plotlyServerURL": "https://plot.ly"
       },
       "data": [
        {
         "coloraxis": "coloraxis",
         "hovertemplate": "x: %{x}<br>y: %{y}<br>Similarity Score: %{z}<extra></extra>",
         "name": "0",
         "type": "heatmap",
         "x": [
          "0_01_dukung_pilih",
          "1_anies_presiden_baswedan",
          "2_debat_calon_presiden",
          "3_politik_partai_demokrasi",
          "4_cak_imin_anies",
          "5_video_videotron_pop",
          "6_twitter_media_berita",
          "7_program_anies_01",
          "8_palestina_israel_merdeka",
          "9_data_fakta_01",
          "10_strategi_01_strategy",
          "11_respons_reply_respon",
          "12_viral_viralkan_ham",
          "13_store_app_unduh"
         ],
         "xaxis": "x",
         "y": [
          "0_01_dukung_pilih",
          "1_anies_presiden_baswedan",
          "2_debat_calon_presiden",
          "3_politik_partai_demokrasi",
          "4_cak_imin_anies",
          "5_video_videotron_pop",
          "6_twitter_media_berita",
          "7_program_anies_01",
          "8_palestina_israel_merdeka",
          "9_data_fakta_01",
          "10_strategi_01_strategy",
          "11_respons_reply_respon",
          "12_viral_viralkan_ham",
          "13_store_app_unduh"
         ],
         "yaxis": "y",
         "z": {
          "bdata": "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",
          "dtype": "f8",
          "shape": "14, 14"
         }
        }
       ],
       "layout": {
        "coloraxis": {
         "colorbar": {
          "title": {
           "text": "Similarity Score"
          }
         },
         "colorscale": [
          [
           0,
           "rgb(247,252,240)"
          ],
          [
           0.125,
           "rgb(224,243,219)"
          ],
          [
           0.25,
           "rgb(204,235,197)"
          ],
          [
           0.375,
           "rgb(168,221,181)"
          ],
          [
           0.5,
           "rgb(123,204,196)"
          ],
          [
           0.625,
           "rgb(78,179,211)"
          ],
          [
           0.75,
           "rgb(43,140,190)"
          ],
          [
           0.875,
           "rgb(8,104,172)"
          ],
          [
           1,
           "rgb(8,64,129)"
          ]
         ]
        },
        "height": 800,
        "hoverlabel": {
         "bgcolor": "white",
         "font": {
          "family": "Rockwell",
          "size": 16
         }
        },
        "legend": {
         "title": {
          "text": "Trend"
         }
        },
        "margin": {
         "t": 60
        },
        "showlegend": true,
        "template": {
         "data": {
          "bar": [
           {
            "error_x": {
             "color": "#2a3f5f"
            },
            "error_y": {
             "color": "#2a3f5f"
            },
            "marker": {
             "line": {
              "color": "#E5ECF6",
              "width": 0.5
             },
             "pattern": {
              "fillmode": "overlay",
              "size": 10,
              "solidity": 0.2
             }
            },
            "type": "bar"
           }
          ],
          "barpolar": [
           {
            "marker": {
             "line": {
              "color": "#E5ECF6",
              "width": 0.5
             },
             "pattern": {
              "fillmode": "overlay",
              "size": 10,
              "solidity": 0.2
             }
            },
            "type": "barpolar"
           }
          ],
          "carpet": [
           {
            "aaxis": {
             "endlinecolor": "#2a3f5f",
             "gridcolor": "white",
             "linecolor": "white",
             "minorgridcolor": "white",
             "startlinecolor": "#2a3f5f"
            },
            "baxis": {
             "endlinecolor": "#2a3f5f",
             "gridcolor": "white",
             "linecolor": "white",
             "minorgridcolor": "white",
             "startlinecolor": "#2a3f5f"
            },
            "type": "carpet"
           }
          ],
          "choropleth": [
           {
            "colorbar": {
             "outlinewidth": 0,
             "ticks": ""
            },
            "type": "choropleth"
           }
          ],
          "contour": [
           {
            "colorbar": {
             "outlinewidth": 0,
             "ticks": ""
            },
            "colorscale": [
             [
              0,
              "#0d0887"
             ],
             [
              0.1111111111111111,
              "#46039f"
             ],
             [
              0.2222222222222222,
              "#7201a8"
             ],
             [
              0.3333333333333333,
              "#9c179e"
             ],
             [
              0.4444444444444444,
              "#bd3786"
             ],
             [
              0.5555555555555556,
              "#d8576b"
             ],
             [
              0.6666666666666666,
              "#ed7953"
             ],
             [
              0.7777777777777778,
              "#fb9f3a"
             ],
             [
              0.8888888888888888,
              "#fdca26"
             ],
             [
              1,
              "#f0f921"
             ]
            ],
            "type": "contour"
           }
          ],
          "contourcarpet": [
           {
            "colorbar": {
             "outlinewidth": 0,
             "ticks": ""
            },
            "type": "contourcarpet"
           }
          ],
          "heatmap": [
           {
            "colorbar": {
             "outlinewidth": 0,
             "ticks": ""
            },
            "colorscale": [
             [
              0,
              "#0d0887"
             ],
             [
              0.1111111111111111,
              "#46039f"
             ],
             [
              0.2222222222222222,
              "#7201a8"
             ],
             [
              0.3333333333333333,
              "#9c179e"
             ],
             [
              0.4444444444444444,
              "#bd3786"
             ],
             [
              0.5555555555555556,
              "#d8576b"
             ],
             [
              0.6666666666666666,
              "#ed7953"
             ],
             [
              0.7777777777777778,
              "#fb9f3a"
             ],
             [
              0.8888888888888888,
              "#fdca26"
             ],
             [
              1,
              "#f0f921"
             ]
            ],
            "type": "heatmap"
           }
          ],
          "histogram": [
           {
            "marker": {
             "pattern": {
              "fillmode": "overlay",
              "size": 10,
              "solidity": 0.2
             }
            },
            "type": "histogram"
           }
          ],
          "histogram2d": [
           {
            "colorbar": {
             "outlinewidth": 0,
             "ticks": ""
            },
            "colorscale": [
             [
              0,
              "#0d0887"
             ],
             [
              0.1111111111111111,
              "#46039f"
             ],
             [
              0.2222222222222222,
              "#7201a8"
             ],
             [
              0.3333333333333333,
              "#9c179e"
             ],
             [
              0.4444444444444444,
              "#bd3786"
             ],
             [
              0.5555555555555556,
              "#d8576b"
             ],
             [
              0.6666666666666666,
              "#ed7953"
             ],
             [
              0.7777777777777778,
              "#fb9f3a"
             ],
             [
              0.8888888888888888,
              "#fdca26"
             ],
             [
              1,
              "#f0f921"
             ]
            ],
            "type": "histogram2d"
           }
          ],
          "histogram2dcontour": [
           {
            "colorbar": {
             "outlinewidth": 0,
             "ticks": ""
            },
            "colorscale": [
             [
              0,
              "#0d0887"
             ],
             [
              0.1111111111111111,
              "#46039f"
             ],
             [
              0.2222222222222222,
              "#7201a8"
             ],
             [
              0.3333333333333333,
              "#9c179e"
             ],
             [
              0.4444444444444444,
              "#bd3786"
             ],
             [
              0.5555555555555556,
              "#d8576b"
             ],
             [
              0.6666666666666666,
              "#ed7953"
             ],
             [
              0.7777777777777778,
              "#fb9f3a"
             ],
             [
              0.8888888888888888,
              "#fdca26"
             ],
             [
              1,
              "#f0f921"
             ]
            ],
            "type": "histogram2dcontour"
           }
          ],
          "mesh3d": [
           {
            "colorbar": {
             "outlinewidth": 0,
             "ticks": ""
            },
            "type": "mesh3d"
           }
          ],
          "parcoords": [
           {
            "line": {
             "colorbar": {
              "outlinewidth": 0,
              "ticks": ""
             }
            },
            "type": "parcoords"
           }
          ],
          "pie": [
           {
            "automargin": true,
            "type": "pie"
           }
          ],
          "scatter": [
           {
            "fillpattern": {
             "fillmode": "overlay",
             "size": 10,
             "solidity": 0.2
            },
            "type": "scatter"
           }
          ],
          "scatter3d": [
           {
            "line": {
             "colorbar": {
              "outlinewidth": 0,
              "ticks": ""
             }
            },
            "marker": {
             "colorbar": {
              "outlinewidth": 0,
              "ticks": ""
             }
            },
            "type": "scatter3d"
           }
          ],
          "scattercarpet": [
           {
            "marker": {
             "colorbar": {
              "outlinewidth": 0,
              "ticks": ""
             }
            },
            "type": "scattercarpet"
           }
          ],
          "scattergeo": [
           {
            "marker": {
             "colorbar": {
              "outlinewidth": 0,
              "ticks": ""
             }
            },
            "type": "scattergeo"
           }
          ],
          "scattergl": [
           {
            "marker": {
             "colorbar": {
              "outlinewidth": 0,
              "ticks": ""
             }
            },
            "type": "scattergl"
           }
          ],
          "scattermap": [
           {
            "marker": {
             "colorbar": {
              "outlinewidth": 0,
              "ticks": ""
             }
            },
            "type": "scattermap"
           }
          ],
          "scattermapbox": [
           {
            "marker": {
             "colorbar": {
              "outlinewidth": 0,
              "ticks": ""
             }
            },
            "type": "scattermapbox"
           }
          ],
          "scatterpolar": [
           {
            "marker": {
             "colorbar": {
              "outlinewidth": 0,
              "ticks": ""
             }
            },
            "type": "scatterpolar"
           }
          ],
          "scatterpolargl": [
           {
            "marker": {
             "colorbar": {
              "outlinewidth": 0,
              "ticks": ""
             }
            },
            "type": "scatterpolargl"
           }
          ],
          "scatterternary": [
           {
            "marker": {
             "colorbar": {
              "outlinewidth": 0,
              "ticks": ""
             }
            },
            "type": "scatterternary"
           }
          ],
          "surface": [
           {
            "colorbar": {
             "outlinewidth": 0,
             "ticks": ""
            },
            "colorscale": [
             [
              0,
              "#0d0887"
             ],
             [
              0.1111111111111111,
              "#46039f"
             ],
             [
              0.2222222222222222,
              "#7201a8"
             ],
             [
              0.3333333333333333,
              "#9c179e"
             ],
             [
              0.4444444444444444,
              "#bd3786"
             ],
             [
              0.5555555555555556,
              "#d8576b"
             ],
             [
              0.6666666666666666,
              "#ed7953"
             ],
             [
              0.7777777777777778,
              "#fb9f3a"
             ],
             [
              0.8888888888888888,
              "#fdca26"
             ],
             [
              1,
              "#f0f921"
             ]
            ],
            "type": "surface"
           }
          ],
          "table": [
           {
            "cells": {
             "fill": {
              "color": "#EBF0F8"
             },
             "line": {
              "color": "white"
             }
            },
            "header": {
             "fill": {
              "color": "#C8D4E3"
             },
             "line": {
              "color": "white"
             }
            },
            "type": "table"
           }
          ]
         },
         "layout": {
          "annotationdefaults": {
           "arrowcolor": "#2a3f5f",
           "arrowhead": 0,
           "arrowwidth": 1
          },
          "autotypenumbers": "strict",
          "coloraxis": {
           "colorbar": {
            "outlinewidth": 0,
            "ticks": ""
           }
          },
          "colorscale": {
           "diverging": [
            [
             0,
             "#8e0152"
            ],
            [
             0.1,
             "#c51b7d"
            ],
            [
             0.2,
             "#de77ae"
            ],
            [
             0.3,
             "#f1b6da"
            ],
            [
             0.4,
             "#fde0ef"
            ],
            [
             0.5,
             "#f7f7f7"
            ],
            [
             0.6,
             "#e6f5d0"
            ],
            [
             0.7,
             "#b8e186"
            ],
            [
             0.8,
             "#7fbc41"
            ],
            [
             0.9,
             "#4d9221"
            ],
            [
             1,
             "#276419"
            ]
           ],
           "sequential": [
            [
             0,
             "#0d0887"
            ],
            [
             0.1111111111111111,
             "#46039f"
            ],
            [
             0.2222222222222222,
             "#7201a8"
            ],
            [
             0.3333333333333333,
             "#9c179e"
            ],
            [
             0.4444444444444444,
             "#bd3786"
            ],
            [
             0.5555555555555556,
             "#d8576b"
            ],
            [
             0.6666666666666666,
             "#ed7953"
            ],
            [
             0.7777777777777778,
             "#fb9f3a"
            ],
            [
             0.8888888888888888,
             "#fdca26"
            ],
            [
             1,
             "#f0f921"
            ]
           ],
           "sequentialminus": [
            [
             0,
             "#0d0887"
            ],
            [
             0.1111111111111111,
             "#46039f"
            ],
            [
             0.2222222222222222,
             "#7201a8"
            ],
            [
             0.3333333333333333,
             "#9c179e"
            ],
            [
             0.4444444444444444,
             "#bd3786"
            ],
            [
             0.5555555555555556,
             "#d8576b"
            ],
            [
             0.6666666666666666,
             "#ed7953"
            ],
            [
             0.7777777777777778,
             "#fb9f3a"
            ],
            [
             0.8888888888888888,
             "#fdca26"
            ],
            [
             1,
             "#f0f921"
            ]
           ]
          },
          "colorway": [
           "#636efa",
           "#EF553B",
           "#00cc96",
           "#ab63fa",
           "#FFA15A",
           "#19d3f3",
           "#FF6692",
           "#B6E880",
           "#FF97FF",
           "#FECB52"
          ],
          "font": {
           "color": "#2a3f5f"
          },
          "geo": {
           "bgcolor": "white",
           "lakecolor": "white",
           "landcolor": "#E5ECF6",
           "showlakes": true,
           "showland": true,
           "subunitcolor": "white"
          },
          "hoverlabel": {
           "align": "left"
          },
          "hovermode": "closest",
          "mapbox": {
           "style": "light"
          },
          "paper_bgcolor": "white",
          "plot_bgcolor": "#E5ECF6",
          "polar": {
           "angularaxis": {
            "gridcolor": "white",
            "linecolor": "white",
            "ticks": ""
           },
           "bgcolor": "#E5ECF6",
           "radialaxis": {
            "gridcolor": "white",
            "linecolor": "white",
            "ticks": ""
           }
          },
          "scene": {
           "xaxis": {
            "backgroundcolor": "#E5ECF6",
            "gridcolor": "white",
            "gridwidth": 2,
            "linecolor": "white",
            "showbackground": true,
            "ticks": "",
            "zerolinecolor": "white"
           },
           "yaxis": {
            "backgroundcolor": "#E5ECF6",
            "gridcolor": "white",
            "gridwidth": 2,
            "linecolor": "white",
            "showbackground": true,
            "ticks": "",
            "zerolinecolor": "white"
           },
           "zaxis": {
            "backgroundcolor": "#E5ECF6",
            "gridcolor": "white",
            "gridwidth": 2,
            "linecolor": "white",
            "showbackground": true,
            "ticks": "",
            "zerolinecolor": "white"
           }
          },
          "shapedefaults": {
           "line": {
            "color": "#2a3f5f"
           }
          },
          "ternary": {
           "aaxis": {
            "gridcolor": "white",
            "linecolor": "white",
            "ticks": ""
           },
           "baxis": {
            "gridcolor": "white",
            "linecolor": "white",
            "ticks": ""
           },
           "bgcolor": "#E5ECF6",
           "caxis": {
            "gridcolor": "white",
            "linecolor": "white",
            "ticks": ""
           }
          },
          "title": {
           "x": 0.05
          },
          "xaxis": {
           "automargin": true,
           "gridcolor": "white",
           "linecolor": "white",
           "ticks": "",
           "title": {
            "standoff": 15
           },
           "zerolinecolor": "white",
           "zerolinewidth": 2
          },
          "yaxis": {
           "automargin": true,
           "gridcolor": "white",
           "linecolor": "white",
           "ticks": "",
           "title": {
            "standoff": 15
           },
           "zerolinecolor": "white",
           "zerolinewidth": 2
          }
         }
        },
        "title": {
         "font": {
          "color": "Black",
          "size": 22
         },
         "text": "<b>Similarity Matrix</b>",
         "x": 0.55,
         "xanchor": "center",
         "y": 0.95,
         "yanchor": "top"
        },
        "width": 800,
        "xaxis": {
         "anchor": "y",
         "constrain": "domain",
         "domain": [
          0,
          1
         ],
         "scaleanchor": "y"
        },
        "yaxis": {
         "anchor": "x",
         "autorange": "reversed",
         "constrain": "domain",
         "domain": [
          0,
          1
         ]
        }
       }
      }
     },
     "metadata": {},
     "output_type": "display_data"
    }
   ],
   "source": [
    "# Topic summary table\n",
    "topic_info = topic_model_hdbscan.get_topic_info()\n",
    "print(topic_info)\n",
    "\n",
    "# Interactive visualizations\n",
    "topic_model_hdbscan.visualize_topics()\n",
    "topic_model_hdbscan.visualize_barchart(top_n_topics=15)\n",
    "topic_model_hdbscan.visualize_heatmap()\n"
   ]
  },
  {
   "cell_type": "code",
   "execution_count": 25,
   "id": "f8de4afc",
   "metadata": {},
   "outputs": [
    {
     "data": {
      "text/html": [
       "<div>\n",
       "<style scoped>\n",
       "    .dataframe tbody tr th:only-of-type {\n",
       "        vertical-align: middle;\n",
       "    }\n",
       "\n",
       "    .dataframe tbody tr th {\n",
       "        vertical-align: top;\n",
       "    }\n",
       "\n",
       "    .dataframe thead th {\n",
       "        text-align: right;\n",
       "    }\n",
       "</style>\n",
       "<table border=\"1\" class=\"dataframe\">\n",
       "  <thead>\n",
       "    <tr style=\"text-align: right;\">\n",
       "      <th></th>\n",
       "      <th>Topic</th>\n",
       "      <th>Count</th>\n",
       "      <th>Name</th>\n",
       "      <th>Representation</th>\n",
       "      <th>Representative_Docs</th>\n",
       "    </tr>\n",
       "  </thead>\n",
       "  <tbody>\n",
       "    <tr>\n",
       "      <th>0</th>\n",
       "      <td>-1</td>\n",
       "      <td>10285</td>\n",
       "      <td>-1_01_anies_dukung_imin</td>\n",
       "      <td>[01, anies, dukung, imin, cak, pilih, calon, a...</td>\n",
       "      <td>[bodoh rakyat malas pilih anies rasyid basweda...</td>\n",
       "    </tr>\n",
       "    <tr>\n",
       "      <th>1</th>\n",
       "      <td>0</td>\n",
       "      <td>9630</td>\n",
       "      <td>0_01_dukung_pilih_calon</td>\n",
       "      <td>[01, dukung, pilih, calon, orang, menang, pasa...</td>\n",
       "      <td>[pilih  pasang calon 01 visi misi orang, wajib...</td>\n",
       "    </tr>\n",
       "    <tr>\n",
       "      <th>2</th>\n",
       "      <td>1</td>\n",
       "      <td>4131</td>\n",
       "      <td>1_anies_presiden_baswedan_pilih</td>\n",
       "      <td>[anies, presiden, baswedan, pilih, imin, cak, ...</td>\n",
       "      <td>[anies anies baswedan gus muhaimin iskandar ba...</td>\n",
       "    </tr>\n",
       "    <tr>\n",
       "      <th>3</th>\n",
       "      <td>2</td>\n",
       "      <td>1643</td>\n",
       "      <td>2_debat_calon_presiden_kritik</td>\n",
       "      <td>[debat, calon, presiden, kritik, cak, imin, wa...</td>\n",
       "      <td>[berani debat calon wakil presiden pasang 01 ,...</td>\n",
       "    </tr>\n",
       "    <tr>\n",
       "      <th>4</th>\n",
       "      <td>3</td>\n",
       "      <td>1532</td>\n",
       "      <td>3_politik_partai_demokrasi_demokrat</td>\n",
       "      <td>[politik, partai, demokrasi, demokrat, pilih, ...</td>\n",
       "      <td>[kampanye nasional demokrat partai bangkit ban...</td>\n",
       "    </tr>\n",
       "  </tbody>\n",
       "</table>\n",
       "</div>"
      ],
      "text/plain": [
       "   Topic  Count                                 Name  \\\n",
       "0     -1  10285              -1_01_anies_dukung_imin   \n",
       "1      0   9630              0_01_dukung_pilih_calon   \n",
       "2      1   4131      1_anies_presiden_baswedan_pilih   \n",
       "3      2   1643        2_debat_calon_presiden_kritik   \n",
       "4      3   1532  3_politik_partai_demokrasi_demokrat   \n",
       "\n",
       "                                      Representation  \\\n",
       "0  [01, anies, dukung, imin, cak, pilih, calon, a...   \n",
       "1  [01, dukung, pilih, calon, orang, menang, pasa...   \n",
       "2  [anies, presiden, baswedan, pilih, imin, cak, ...   \n",
       "3  [debat, calon, presiden, kritik, cak, imin, wa...   \n",
       "4  [politik, partai, demokrasi, demokrat, pilih, ...   \n",
       "\n",
       "                                 Representative_Docs  \n",
       "0  [bodoh rakyat malas pilih anies rasyid basweda...  \n",
       "1  [pilih  pasang calon 01 visi misi orang, wajib...  \n",
       "2  [anies anies baswedan gus muhaimin iskandar ba...  \n",
       "3  [berani debat calon wakil presiden pasang 01 ,...  \n",
       "4  [kampanye nasional demokrat partai bangkit ban...  "
      ]
     },
     "metadata": {},
     "output_type": "display_data"
    }
   ],
   "source": [
    "topic_info = topic_model_hdbscan.get_topic_info()\n",
    "display(topic_info.head())        "
   ]
  },
  {
   "cell_type": "code",
   "execution_count": 26,
   "id": "c8335c1c",
   "metadata": {},
   "outputs": [
    {
     "name": "stdout",
     "output_type": "stream",
     "text": [
      "\n",
      "Topic -1\n",
      "[('01', np.float64(0.04890438519889406)), ('anies', np.float64(0.03579503385857373)), ('dukung', np.float64(0.03236362162071922)), ('imin', np.float64(0.02788732722813066)), ('cak', np.float64(0.02755967197237106)), ('pilih', np.float64(0.022611938136390872)), ('calon', np.float64(0.019170190770975096)), ('amin', np.float64(0.019057496947465263)), ('orang', np.float64(0.018737337311561048)), ('pasang', np.float64(0.0176480992051348))]\n",
      "\n",
      "Topic 0\n",
      "[('01', np.float64(0.07773952590163129)), ('dukung', np.float64(0.03791428150165297)), ('pilih', np.float64(0.029938787591593564)), ('calon', np.float64(0.028133333415361585)), ('orang', np.float64(0.024996824995156874)), ('menang', np.float64(0.02490594450086572)), ('pasang', np.float64(0.023301238832070498)), ('kayak', np.float64(0.021378630836556858)), ('banget', np.float64(0.01775913753213697)), ('presiden', np.float64(0.016860084702665704))]\n",
      "\n",
      "Topic 1\n",
      "[('anies', np.float64(0.07414402235701806)), ('presiden', np.float64(0.05759720944164914)), ('baswedan', np.float64(0.04769264446685391)), ('pilih', np.float64(0.037899959290708454)), ('imin', np.float64(0.03770097179419796)), ('cak', np.float64(0.036442413842998546)), ('rasyid', np.float64(0.034341677790538594)), ('indonesia', np.float64(0.03400135663406389)), ('amin', np.float64(0.02662159830365194)), ('calon', np.float64(0.02252017559304946))]\n",
      "\n",
      "Topic 2\n",
      "[('debat', np.float64(0.15557368693768045)), ('calon', np.float64(0.051099760024995056)), ('presiden', np.float64(0.04986467894047619)), ('kritik', np.float64(0.04136389116361389)), ('cak', np.float64(0.03685308286689601)), ('imin', np.float64(0.036799155746533675)), ('wakil', np.float64(0.03170503037983895)), ('anies', np.float64(0.03083230185761995)), ('01', np.float64(0.029475248803539623)), ('dialog', np.float64(0.024422346284693808))]\n",
      "\n",
      "Topic 3\n",
      "[('politik', np.float64(0.1020658770364911)), ('partai', np.float64(0.06813899295494344)), ('demokrasi', np.float64(0.06650714974420875)), ('demokrat', np.float64(0.04787830448143545)), ('pilih', np.float64(0.03403814753931829)), ('anies', np.float64(0.03377839745094709)), ('indonesia', np.float64(0.032935478750688356)), ('nasional', np.float64(0.030857458359281092)), ('identitas', np.float64(0.028666255399144747)), ('calon', np.float64(0.02841361723836668))]\n",
      "\n",
      "Topic 4\n",
      "[('cak', np.float64(0.2248227916964865)), ('imin', np.float64(0.21882626663756286)), ('anies', np.float64(0.07988465437149318)), ('banget', np.float64(0.0349120335432113)), ('foto', np.float64(0.02882507054984456)), ('live', np.float64(0.02513571592079989)), ('orang', np.float64(0.022588635458654426)), ('lihat', np.float64(0.022397281077687143)), ('blunder', np.float64(0.018414824122900096)), ('lucu', np.float64(0.01836122117769567))]\n",
      "\n",
      "Topic 5\n",
      "[('video', np.float64(0.18000383463744807)), ('videotron', np.float64(0.05723736426276537)), ('pop', np.float64(0.04908485695151168)), ('korea', np.float64(0.04895346455402326)), ('01', np.float64(0.04212693908177803)), ('film', np.float64(0.0361626214682137)), ('lihat', np.float64(0.028788104448976167)), ('anies', np.float64(0.02692671603968469)), ('dukung', np.float64(0.026725748894350865)), ('kpopers', np.float64(0.021916630557900996))]\n",
      "\n",
      "Topic 6\n",
      "[('twitter', np.float64(0.14638358728267345)), ('media', np.float64(0.1365341219613978)), ('berita', np.float64(0.11742622025156935)), ('sosial', np.float64(0.09140033089918631)), ('01', np.float64(0.05164405408813416)), ('dukung', np.float64(0.032255969356314244)), ('tiktok', np.float64(0.02475070199029487)), ('orang', np.float64(0.024312079648836197)), ('banget', np.float64(0.023373529973115915)), ('isu', np.float64(0.02195152531644111))]\n",
      "\n",
      "Topic 7\n",
      "[('program', np.float64(0.32351014291689156)), ('anies', np.float64(0.03587361459916143)), ('01', np.float64(0.03431174387910149)), ('misi', np.float64(0.031380202552903615)), ('visi', np.float64(0.03117031263282383)), ('kerja', np.float64(0.03029560321119828)), ('bagus', np.float64(0.026546373555044557)), ('rakyat', np.float64(0.02257475058154677)), ('pasang', np.float64(0.02180132735422101)), ('ubah', np.float64(0.02007948336746198))]\n",
      "\n",
      "Topic 8\n",
      "[('palestina', np.float64(0.3924754757458726)), ('israel', np.float64(0.11415314830843228)), ('merdeka', np.float64(0.09054052499748719)), ('aksi', np.float64(0.06398805224689078)), ('bela', np.float64(0.05774613414138798)), ('free', np.float64(0.051400541370638576)), ('anies', np.float64(0.047125996577019005)), ('baswedan', np.float64(0.04093300859418056)), ('orasi', np.float64(0.03903871736253134)), ('monas', np.float64(0.03658355153631774))]\n",
      "\n",
      "Topic 9\n",
      "[('data', np.float64(0.43634297356773316)), ('fakta', np.float64(0.07706545968230637)), ('01', np.float64(0.045963745863495366)), ('pakai', np.float64(0.037636543870422236)), ('luhut', np.float64(0.03687835989478117)), ('anies', np.float64(0.03505287486971398)), ('valid', np.float64(0.03497299533092438)), ('salah', np.float64(0.03252244532296633)), ('isu', np.float64(0.031631472723553655)), ('dukung', np.float64(0.030853010256320715))]\n",
      "\n",
      "Topic 10\n",
      "[('strategi', np.float64(0.34238518315047956)), ('01', np.float64(0.05834677190728475)), ('strategy', np.float64(0.05679250766690707)), ('strategis', np.float64(0.037430605583672324)), ('tim', np.float64(0.03512523885261496)), ('joget', np.float64(0.0285625181905408)), ('anies', np.float64(0.02785170786839202)), ('serang', np.float64(0.027105746476724518)), ('menang', np.float64(0.027028174344287868)), ('kampanye', np.float64(0.025383599899473516))]\n",
      "\n",
      "Topic 11\n",
      "[('respons', np.float64(0.21567309449604163)), ('reply', np.float64(0.19150011854176635)), ('respon', np.float64(0.13183390762217917)), ('cak', np.float64(0.11945446770674577)), ('imin', np.float64(0.11719111543796848)), ('positif', np.float64(0.0813821067742862)), ('reaksi', np.float64(0.07238030113579455)), ('twit', np.float64(0.0589212712681626)), ('dukung', np.float64(0.039602650714209674)), ('anies', np.float64(0.03817635371514626))]\n",
      "\n",
      "Topic 12\n",
      "[('viral', np.float64(0.2901934694676314)), ('viralkan', np.float64(0.1575589138067317)), ('ham', np.float64(0.04444958930921878)), ('virus', np.float64(0.04222452764392196)), ('anies', np.float64(0.040705161397261755)), ('curang', np.float64(0.03356916968756082)), ('vaccine', np.float64(0.029426602634721907)), ('01', np.float64(0.029174139106758513)), ('baswedan', np.float64(0.029036293410465087)), ('mandatory', np.float64(0.028149685095947976))]\n",
      "\n",
      "Topic 13\n",
      "[('store', np.float64(0.5985165287414247)), ('app', np.float64(0.312154347196854)), ('unduh', np.float64(0.2981426421103055)), ('play', np.float64(0.26932556342563524)), ('urut', np.float64(0.09015062969140658)), ('nomor', np.float64(0.08133081675465344)), ('anies', np.float64(0.07585760784304922)), ('baswedan', np.float64(0.06338078421003082)), ('presiden', np.float64(0.062386705993992965)), ('timnas', np.float64(0.05608308114370342))]\n"
     ]
    }
   ],
   "source": [
    "for tid in topic_info['Topic'][:15]:   # first 10 topics\n",
    "    print(f\"\\nTopic {tid}\")\n",
    "    print(topic_model_hdbscan.get_topic(tid)[:15])  # top-15 words\n"
   ]
  },
  {
   "cell_type": "code",
   "execution_count": 27,
   "id": "6ef6decf",
   "metadata": {},
   "outputs": [
    {
     "data": {
      "application/vnd.plotly.v1+json": {
       "config": {
        "plotlyServerURL": "https://plot.ly"
       },
       "data": [
        {
         "customdata": [
          [
           0,
           "01 | dukung | pilih | calon | orang",
           9630
          ],
          [
           1,
           "anies | presiden | baswedan | pilih | imin",
           4131
          ],
          [
           2,
           "debat | calon | presiden | kritik | cak",
           1643
          ],
          [
           3,
           "politik | partai | demokrasi | demokrat | pilih",
           1532
          ],
          [
           4,
           "cak | imin | anies | banget | foto",
           917
          ],
          [
           5,
           "video | videotron | pop | korea | 01",
           641
          ],
          [
           6,
           "twitter | media | berita | sosial | 01",
           446
          ],
          [
           7,
           "program | anies | 01 | misi | visi",
           219
          ],
          [
           8,
           "palestina | israel | merdeka | aksi | bela",
           136
          ],
          [
           9,
           "data | fakta | 01 | pakai | luhut",
           98
          ],
          [
           10,
           "strategi | 01 | strategy | strategis | tim",
           61
          ],
          [
           11,
           "respons | reply | respon | cak | imin",
           52
          ],
          [
           12,
           "viral | viralkan | ham | virus | anies",
           51
          ],
          [
           13,
           "store | app | unduh | play | urut",
           19
          ]
         ],
         "hovertemplate": "<b>Topic %{customdata[0]}</b><br>%{customdata[1]}<br>Size: %{customdata[2]}",
         "legendgroup": "",
         "marker": {
          "color": "#B0BEC5",
          "line": {
           "color": "DarkSlateGrey",
           "width": 2
          },
          "size": {
           "bdata": "niUjEGsG/AWVA4ECvgHbAIgAYgA9ADQAMwATAA==",
           "dtype": "i2"
          },
          "sizemode": "area",
          "sizeref": 6.01875,
          "symbol": "circle"
         },
         "mode": "markers",
         "name": "",
         "orientation": "v",
         "showlegend": false,
         "type": "scatter",
         "x": {
          "bdata": "tZ8yQWSgDcGmpALBncAFwep+FsEwazJB+DE1QVw3Q0Eu9hPB6QI5QTlSQEE0VhvBFGofwQ8aE8E=",
          "dtype": "f4"
         },
         "xaxis": "x",
         "y": {
          "bdata": "Xe36vZTILr+thMs+C0jju4o/tL/3kgu/Buqvv6AIpr9VgxK/AI/qvUf2Ib/v09O/6r0bvpLS0L0=",
          "dtype": "f4"
         },
         "yaxis": "y"
        }
       ],
       "layout": {
        "annotations": [
         {
          "showarrow": false,
          "text": "D1",
          "x": -11.457907676696777,
          "y": -0.7230099439620972,
          "yshift": 10
         },
         {
          "showarrow": false,
          "text": "D2",
          "x": 1.2866301536560059,
          "xshift": 10,
          "y": 0.4571211040019989
         }
        ],
        "height": 650,
        "hoverlabel": {
         "bgcolor": "white",
         "font": {
          "family": "Rockwell",
          "size": 16
         }
        },
        "legend": {
         "itemsizing": "constant",
         "tracegroupgap": 0
        },
        "margin": {
         "t": 60
        },
        "shapes": [
         {
          "line": {
           "color": "#CFD8DC",
           "width": 2
          },
          "type": "line",
          "x0": 1.2866301536560059,
          "x1": 1.2866301536560059,
          "y0": -1.9031410217285156,
          "y1": 0.4571211040019989
         },
         {
          "line": {
           "color": "#9E9E9E",
           "width": 2
          },
          "type": "line",
          "x0": -11.457907676696777,
          "x1": 14.031167984008789,
          "y0": -0.7230099439620972,
          "y1": -0.7230099439620972
         }
        ],
        "sliders": [
         {
          "active": 0,
          "pad": {
           "t": 50
          },
          "steps": [
           {
            "args": [
             {
              "marker.color": [
               [
                "red",
                "#B0BEC5",
                "#B0BEC5",
                "#B0BEC5",
                "#B0BEC5",
                "#B0BEC5",
                "#B0BEC5",
                "#B0BEC5",
                "#B0BEC5",
                "#B0BEC5",
                "#B0BEC5",
                "#B0BEC5",
                "#B0BEC5",
                "#B0BEC5"
               ]
              ]
             }
            ],
            "label": "Topic 0",
            "method": "update"
           },
           {
            "args": [
             {
              "marker.color": [
               [
                "#B0BEC5",
                "red",
                "#B0BEC5",
                "#B0BEC5",
                "#B0BEC5",
                "#B0BEC5",
                "#B0BEC5",
                "#B0BEC5",
                "#B0BEC5",
                "#B0BEC5",
                "#B0BEC5",
                "#B0BEC5",
                "#B0BEC5",
                "#B0BEC5"
               ]
              ]
             }
            ],
            "label": "Topic 1",
            "method": "update"
           },
           {
            "args": [
             {
              "marker.color": [
               [
                "#B0BEC5",
                "#B0BEC5",
                "red",
                "#B0BEC5",
                "#B0BEC5",
                "#B0BEC5",
                "#B0BEC5",
                "#B0BEC5",
                "#B0BEC5",
                "#B0BEC5",
                "#B0BEC5",
                "#B0BEC5",
                "#B0BEC5",
                "#B0BEC5"
               ]
              ]
             }
            ],
            "label": "Topic 2",
            "method": "update"
           },
           {
            "args": [
             {
              "marker.color": [
               [
                "#B0BEC5",
                "#B0BEC5",
                "#B0BEC5",
                "red",
                "#B0BEC5",
                "#B0BEC5",
                "#B0BEC5",
                "#B0BEC5",
                "#B0BEC5",
                "#B0BEC5",
                "#B0BEC5",
                "#B0BEC5",
                "#B0BEC5",
                "#B0BEC5"
               ]
              ]
             }
            ],
            "label": "Topic 3",
            "method": "update"
           },
           {
            "args": [
             {
              "marker.color": [
               [
                "#B0BEC5",
                "#B0BEC5",
                "#B0BEC5",
                "#B0BEC5",
                "red",
                "#B0BEC5",
                "#B0BEC5",
                "#B0BEC5",
                "#B0BEC5",
                "#B0BEC5",
                "#B0BEC5",
                "#B0BEC5",
                "#B0BEC5",
                "#B0BEC5"
               ]
              ]
             }
            ],
            "label": "Topic 4",
            "method": "update"
           },
           {
            "args": [
             {
              "marker.color": [
               [
                "#B0BEC5",
                "#B0BEC5",
                "#B0BEC5",
                "#B0BEC5",
                "#B0BEC5",
                "red",
                "#B0BEC5",
                "#B0BEC5",
                "#B0BEC5",
                "#B0BEC5",
                "#B0BEC5",
                "#B0BEC5",
                "#B0BEC5",
                "#B0BEC5"
               ]
              ]
             }
            ],
            "label": "Topic 5",
            "method": "update"
           },
           {
            "args": [
             {
              "marker.color": [
               [
                "#B0BEC5",
                "#B0BEC5",
                "#B0BEC5",
                "#B0BEC5",
                "#B0BEC5",
                "#B0BEC5",
                "red",
                "#B0BEC5",
                "#B0BEC5",
                "#B0BEC5",
                "#B0BEC5",
                "#B0BEC5",
                "#B0BEC5",
                "#B0BEC5"
               ]
              ]
             }
            ],
            "label": "Topic 6",
            "method": "update"
           },
           {
            "args": [
             {
              "marker.color": [
               [
                "#B0BEC5",
                "#B0BEC5",
                "#B0BEC5",
                "#B0BEC5",
                "#B0BEC5",
                "#B0BEC5",
                "#B0BEC5",
                "red",
                "#B0BEC5",
                "#B0BEC5",
                "#B0BEC5",
                "#B0BEC5",
                "#B0BEC5",
                "#B0BEC5"
               ]
              ]
             }
            ],
            "label": "Topic 7",
            "method": "update"
           },
           {
            "args": [
             {
              "marker.color": [
               [
                "#B0BEC5",
                "#B0BEC5",
                "#B0BEC5",
                "#B0BEC5",
                "#B0BEC5",
                "#B0BEC5",
                "#B0BEC5",
                "#B0BEC5",
                "red",
                "#B0BEC5",
                "#B0BEC5",
                "#B0BEC5",
                "#B0BEC5",
                "#B0BEC5"
               ]
              ]
             }
            ],
            "label": "Topic 8",
            "method": "update"
           },
           {
            "args": [
             {
              "marker.color": [
               [
                "#B0BEC5",
                "#B0BEC5",
                "#B0BEC5",
                "#B0BEC5",
                "#B0BEC5",
                "#B0BEC5",
                "#B0BEC5",
                "#B0BEC5",
                "#B0BEC5",
                "red",
                "#B0BEC5",
                "#B0BEC5",
                "#B0BEC5",
                "#B0BEC5"
               ]
              ]
             }
            ],
            "label": "Topic 9",
            "method": "update"
           },
           {
            "args": [
             {
              "marker.color": [
               [
                "#B0BEC5",
                "#B0BEC5",
                "#B0BEC5",
                "#B0BEC5",
                "#B0BEC5",
                "#B0BEC5",
                "#B0BEC5",
                "#B0BEC5",
                "#B0BEC5",
                "#B0BEC5",
                "red",
                "#B0BEC5",
                "#B0BEC5",
                "#B0BEC5"
               ]
              ]
             }
            ],
            "label": "Topic 10",
            "method": "update"
           },
           {
            "args": [
             {
              "marker.color": [
               [
                "#B0BEC5",
                "#B0BEC5",
                "#B0BEC5",
                "#B0BEC5",
                "#B0BEC5",
                "#B0BEC5",
                "#B0BEC5",
                "#B0BEC5",
                "#B0BEC5",
                "#B0BEC5",
                "#B0BEC5",
                "red",
                "#B0BEC5",
                "#B0BEC5"
               ]
              ]
             }
            ],
            "label": "Topic 11",
            "method": "update"
           },
           {
            "args": [
             {
              "marker.color": [
               [
                "#B0BEC5",
                "#B0BEC5",
                "#B0BEC5",
                "#B0BEC5",
                "#B0BEC5",
                "#B0BEC5",
                "#B0BEC5",
                "#B0BEC5",
                "#B0BEC5",
                "#B0BEC5",
                "#B0BEC5",
                "#B0BEC5",
                "red",
                "#B0BEC5"
               ]
              ]
             }
            ],
            "label": "Topic 12",
            "method": "update"
           },
           {
            "args": [
             {
              "marker.color": [
               [
                "#B0BEC5",
                "#B0BEC5",
                "#B0BEC5",
                "#B0BEC5",
                "#B0BEC5",
                "#B0BEC5",
                "#B0BEC5",
                "#B0BEC5",
                "#B0BEC5",
                "#B0BEC5",
                "#B0BEC5",
                "#B0BEC5",
                "#B0BEC5",
                "red"
               ]
              ]
             }
            ],
            "label": "Topic 13",
            "method": "update"
           }
          ]
         }
        ],
        "template": {
         "data": {
          "bar": [
           {
            "error_x": {
             "color": "rgb(36,36,36)"
            },
            "error_y": {
             "color": "rgb(36,36,36)"
            },
            "marker": {
             "line": {
              "color": "white",
              "width": 0.5
             },
             "pattern": {
              "fillmode": "overlay",
              "size": 10,
              "solidity": 0.2
             }
            },
            "type": "bar"
           }
          ],
          "barpolar": [
           {
            "marker": {
             "line": {
              "color": "white",
              "width": 0.5
             },
             "pattern": {
              "fillmode": "overlay",
              "size": 10,
              "solidity": 0.2
             }
            },
            "type": "barpolar"
           }
          ],
          "carpet": [
           {
            "aaxis": {
             "endlinecolor": "rgb(36,36,36)",
             "gridcolor": "white",
             "linecolor": "white",
             "minorgridcolor": "white",
             "startlinecolor": "rgb(36,36,36)"
            },
            "baxis": {
             "endlinecolor": "rgb(36,36,36)",
             "gridcolor": "white",
             "linecolor": "white",
             "minorgridcolor": "white",
             "startlinecolor": "rgb(36,36,36)"
            },
            "type": "carpet"
           }
          ],
          "choropleth": [
           {
            "colorbar": {
             "outlinewidth": 1,
             "tickcolor": "rgb(36,36,36)",
             "ticks": "outside"
            },
            "type": "choropleth"
           }
          ],
          "contour": [
           {
            "colorbar": {
             "outlinewidth": 1,
             "tickcolor": "rgb(36,36,36)",
             "ticks": "outside"
            },
            "colorscale": [
             [
              0,
              "#440154"
             ],
             [
              0.1111111111111111,
              "#482878"
             ],
             [
              0.2222222222222222,
              "#3e4989"
             ],
             [
              0.3333333333333333,
              "#31688e"
             ],
             [
              0.4444444444444444,
              "#26828e"
             ],
             [
              0.5555555555555556,
              "#1f9e89"
             ],
             [
              0.6666666666666666,
              "#35b779"
             ],
             [
              0.7777777777777778,
              "#6ece58"
             ],
             [
              0.8888888888888888,
              "#b5de2b"
             ],
             [
              1,
              "#fde725"
             ]
            ],
            "type": "contour"
           }
          ],
          "contourcarpet": [
           {
            "colorbar": {
             "outlinewidth": 1,
             "tickcolor": "rgb(36,36,36)",
             "ticks": "outside"
            },
            "type": "contourcarpet"
           }
          ],
          "heatmap": [
           {
            "colorbar": {
             "outlinewidth": 1,
             "tickcolor": "rgb(36,36,36)",
             "ticks": "outside"
            },
            "colorscale": [
             [
              0,
              "#440154"
             ],
             [
              0.1111111111111111,
              "#482878"
             ],
             [
              0.2222222222222222,
              "#3e4989"
             ],
             [
              0.3333333333333333,
              "#31688e"
             ],
             [
              0.4444444444444444,
              "#26828e"
             ],
             [
              0.5555555555555556,
              "#1f9e89"
             ],
             [
              0.6666666666666666,
              "#35b779"
             ],
             [
              0.7777777777777778,
              "#6ece58"
             ],
             [
              0.8888888888888888,
              "#b5de2b"
             ],
             [
              1,
              "#fde725"
             ]
            ],
            "type": "heatmap"
           }
          ],
          "histogram": [
           {
            "marker": {
             "line": {
              "color": "white",
              "width": 0.6
             }
            },
            "type": "histogram"
           }
          ],
          "histogram2d": [
           {
            "colorbar": {
             "outlinewidth": 1,
             "tickcolor": "rgb(36,36,36)",
             "ticks": "outside"
            },
            "colorscale": [
             [
              0,
              "#440154"
             ],
             [
              0.1111111111111111,
              "#482878"
             ],
             [
              0.2222222222222222,
              "#3e4989"
             ],
             [
              0.3333333333333333,
              "#31688e"
             ],
             [
              0.4444444444444444,
              "#26828e"
             ],
             [
              0.5555555555555556,
              "#1f9e89"
             ],
             [
              0.6666666666666666,
              "#35b779"
             ],
             [
              0.7777777777777778,
              "#6ece58"
             ],
             [
              0.8888888888888888,
              "#b5de2b"
             ],
             [
              1,
              "#fde725"
             ]
            ],
            "type": "histogram2d"
           }
          ],
          "histogram2dcontour": [
           {
            "colorbar": {
             "outlinewidth": 1,
             "tickcolor": "rgb(36,36,36)",
             "ticks": "outside"
            },
            "colorscale": [
             [
              0,
              "#440154"
             ],
             [
              0.1111111111111111,
              "#482878"
             ],
             [
              0.2222222222222222,
              "#3e4989"
             ],
             [
              0.3333333333333333,
              "#31688e"
             ],
             [
              0.4444444444444444,
              "#26828e"
             ],
             [
              0.5555555555555556,
              "#1f9e89"
             ],
             [
              0.6666666666666666,
              "#35b779"
             ],
             [
              0.7777777777777778,
              "#6ece58"
             ],
             [
              0.8888888888888888,
              "#b5de2b"
             ],
             [
              1,
              "#fde725"
             ]
            ],
            "type": "histogram2dcontour"
           }
          ],
          "mesh3d": [
           {
            "colorbar": {
             "outlinewidth": 1,
             "tickcolor": "rgb(36,36,36)",
             "ticks": "outside"
            },
            "type": "mesh3d"
           }
          ],
          "parcoords": [
           {
            "line": {
             "colorbar": {
              "outlinewidth": 1,
              "tickcolor": "rgb(36,36,36)",
              "ticks": "outside"
             }
            },
            "type": "parcoords"
           }
          ],
          "pie": [
           {
            "automargin": true,
            "type": "pie"
           }
          ],
          "scatter": [
           {
            "fillpattern": {
             "fillmode": "overlay",
             "size": 10,
             "solidity": 0.2
            },
            "type": "scatter"
           }
          ],
          "scatter3d": [
           {
            "line": {
             "colorbar": {
              "outlinewidth": 1,
              "tickcolor": "rgb(36,36,36)",
              "ticks": "outside"
             }
            },
            "marker": {
             "colorbar": {
              "outlinewidth": 1,
              "tickcolor": "rgb(36,36,36)",
              "ticks": "outside"
             }
            },
            "type": "scatter3d"
           }
          ],
          "scattercarpet": [
           {
            "marker": {
             "colorbar": {
              "outlinewidth": 1,
              "tickcolor": "rgb(36,36,36)",
              "ticks": "outside"
             }
            },
            "type": "scattercarpet"
           }
          ],
          "scattergeo": [
           {
            "marker": {
             "colorbar": {
              "outlinewidth": 1,
              "tickcolor": "rgb(36,36,36)",
              "ticks": "outside"
             }
            },
            "type": "scattergeo"
           }
          ],
          "scattergl": [
           {
            "marker": {
             "colorbar": {
              "outlinewidth": 1,
              "tickcolor": "rgb(36,36,36)",
              "ticks": "outside"
             }
            },
            "type": "scattergl"
           }
          ],
          "scattermap": [
           {
            "marker": {
             "colorbar": {
              "outlinewidth": 1,
              "tickcolor": "rgb(36,36,36)",
              "ticks": "outside"
             }
            },
            "type": "scattermap"
           }
          ],
          "scattermapbox": [
           {
            "marker": {
             "colorbar": {
              "outlinewidth": 1,
              "tickcolor": "rgb(36,36,36)",
              "ticks": "outside"
             }
            },
            "type": "scattermapbox"
           }
          ],
          "scatterpolar": [
           {
            "marker": {
             "colorbar": {
              "outlinewidth": 1,
              "tickcolor": "rgb(36,36,36)",
              "ticks": "outside"
             }
            },
            "type": "scatterpolar"
           }
          ],
          "scatterpolargl": [
           {
            "marker": {
             "colorbar": {
              "outlinewidth": 1,
              "tickcolor": "rgb(36,36,36)",
              "ticks": "outside"
             }
            },
            "type": "scatterpolargl"
           }
          ],
          "scatterternary": [
           {
            "marker": {
             "colorbar": {
              "outlinewidth": 1,
              "tickcolor": "rgb(36,36,36)",
              "ticks": "outside"
             }
            },
            "type": "scatterternary"
           }
          ],
          "surface": [
           {
            "colorbar": {
             "outlinewidth": 1,
             "tickcolor": "rgb(36,36,36)",
             "ticks": "outside"
            },
            "colorscale": [
             [
              0,
              "#440154"
             ],
             [
              0.1111111111111111,
              "#482878"
             ],
             [
              0.2222222222222222,
              "#3e4989"
             ],
             [
              0.3333333333333333,
              "#31688e"
             ],
             [
              0.4444444444444444,
              "#26828e"
             ],
             [
              0.5555555555555556,
              "#1f9e89"
             ],
             [
              0.6666666666666666,
              "#35b779"
             ],
             [
              0.7777777777777778,
              "#6ece58"
             ],
             [
              0.8888888888888888,
              "#b5de2b"
             ],
             [
              1,
              "#fde725"
             ]
            ],
            "type": "surface"
           }
          ],
          "table": [
           {
            "cells": {
             "fill": {
              "color": "rgb(237,237,237)"
             },
             "line": {
              "color": "white"
             }
            },
            "header": {
             "fill": {
              "color": "rgb(217,217,217)"
             },
             "line": {
              "color": "white"
             }
            },
            "type": "table"
           }
          ]
         },
         "layout": {
          "annotationdefaults": {
           "arrowhead": 0,
           "arrowwidth": 1
          },
          "autotypenumbers": "strict",
          "coloraxis": {
           "colorbar": {
            "outlinewidth": 1,
            "tickcolor": "rgb(36,36,36)",
            "ticks": "outside"
           }
          },
          "colorscale": {
           "diverging": [
            [
             0,
             "rgb(103,0,31)"
            ],
            [
             0.1,
             "rgb(178,24,43)"
            ],
            [
             0.2,
             "rgb(214,96,77)"
            ],
            [
             0.3,
             "rgb(244,165,130)"
            ],
            [
             0.4,
             "rgb(253,219,199)"
            ],
            [
             0.5,
             "rgb(247,247,247)"
            ],
            [
             0.6,
             "rgb(209,229,240)"
            ],
            [
             0.7,
             "rgb(146,197,222)"
            ],
            [
             0.8,
             "rgb(67,147,195)"
            ],
            [
             0.9,
             "rgb(33,102,172)"
            ],
            [
             1,
             "rgb(5,48,97)"
            ]
           ],
           "sequential": [
            [
             0,
             "#440154"
            ],
            [
             0.1111111111111111,
             "#482878"
            ],
            [
             0.2222222222222222,
             "#3e4989"
            ],
            [
             0.3333333333333333,
             "#31688e"
            ],
            [
             0.4444444444444444,
             "#26828e"
            ],
            [
             0.5555555555555556,
             "#1f9e89"
            ],
            [
             0.6666666666666666,
             "#35b779"
            ],
            [
             0.7777777777777778,
             "#6ece58"
            ],
            [
             0.8888888888888888,
             "#b5de2b"
            ],
            [
             1,
             "#fde725"
            ]
           ],
           "sequentialminus": [
            [
             0,
             "#440154"
            ],
            [
             0.1111111111111111,
             "#482878"
            ],
            [
             0.2222222222222222,
             "#3e4989"
            ],
            [
             0.3333333333333333,
             "#31688e"
            ],
            [
             0.4444444444444444,
             "#26828e"
            ],
            [
             0.5555555555555556,
             "#1f9e89"
            ],
            [
             0.6666666666666666,
             "#35b779"
            ],
            [
             0.7777777777777778,
             "#6ece58"
            ],
            [
             0.8888888888888888,
             "#b5de2b"
            ],
            [
             1,
             "#fde725"
            ]
           ]
          },
          "colorway": [
           "#1F77B4",
           "#FF7F0E",
           "#2CA02C",
           "#D62728",
           "#9467BD",
           "#8C564B",
           "#E377C2",
           "#7F7F7F",
           "#BCBD22",
           "#17BECF"
          ],
          "font": {
           "color": "rgb(36,36,36)"
          },
          "geo": {
           "bgcolor": "white",
           "lakecolor": "white",
           "landcolor": "white",
           "showlakes": true,
           "showland": true,
           "subunitcolor": "white"
          },
          "hoverlabel": {
           "align": "left"
          },
          "hovermode": "closest",
          "mapbox": {
           "style": "light"
          },
          "paper_bgcolor": "white",
          "plot_bgcolor": "white",
          "polar": {
           "angularaxis": {
            "gridcolor": "rgb(232,232,232)",
            "linecolor": "rgb(36,36,36)",
            "showgrid": false,
            "showline": true,
            "ticks": "outside"
           },
           "bgcolor": "white",
           "radialaxis": {
            "gridcolor": "rgb(232,232,232)",
            "linecolor": "rgb(36,36,36)",
            "showgrid": false,
            "showline": true,
            "ticks": "outside"
           }
          },
          "scene": {
           "xaxis": {
            "backgroundcolor": "white",
            "gridcolor": "rgb(232,232,232)",
            "gridwidth": 2,
            "linecolor": "rgb(36,36,36)",
            "showbackground": true,
            "showgrid": false,
            "showline": true,
            "ticks": "outside",
            "zeroline": false,
            "zerolinecolor": "rgb(36,36,36)"
           },
           "yaxis": {
            "backgroundcolor": "white",
            "gridcolor": "rgb(232,232,232)",
            "gridwidth": 2,
            "linecolor": "rgb(36,36,36)",
            "showbackground": true,
            "showgrid": false,
            "showline": true,
            "ticks": "outside",
            "zeroline": false,
            "zerolinecolor": "rgb(36,36,36)"
           },
           "zaxis": {
            "backgroundcolor": "white",
            "gridcolor": "rgb(232,232,232)",
            "gridwidth": 2,
            "linecolor": "rgb(36,36,36)",
            "showbackground": true,
            "showgrid": false,
            "showline": true,
            "ticks": "outside",
            "zeroline": false,
            "zerolinecolor": "rgb(36,36,36)"
           }
          },
          "shapedefaults": {
           "fillcolor": "black",
           "line": {
            "width": 0
           },
           "opacity": 0.3
          },
          "ternary": {
           "aaxis": {
            "gridcolor": "rgb(232,232,232)",
            "linecolor": "rgb(36,36,36)",
            "showgrid": false,
            "showline": true,
            "ticks": "outside"
           },
           "baxis": {
            "gridcolor": "rgb(232,232,232)",
            "linecolor": "rgb(36,36,36)",
            "showgrid": false,
            "showline": true,
            "ticks": "outside"
           },
           "bgcolor": "white",
           "caxis": {
            "gridcolor": "rgb(232,232,232)",
            "linecolor": "rgb(36,36,36)",
            "showgrid": false,
            "showline": true,
            "ticks": "outside"
           }
          },
          "title": {
           "x": 0.05
          },
          "xaxis": {
           "automargin": true,
           "gridcolor": "rgb(232,232,232)",
           "linecolor": "rgb(36,36,36)",
           "showgrid": false,
           "showline": true,
           "ticks": "outside",
           "title": {
            "standoff": 15
           },
           "zeroline": false,
           "zerolinecolor": "rgb(36,36,36)"
          },
          "yaxis": {
           "automargin": true,
           "gridcolor": "rgb(232,232,232)",
           "linecolor": "rgb(36,36,36)",
           "showgrid": false,
           "showline": true,
           "ticks": "outside",
           "title": {
            "standoff": 15
           },
           "zeroline": false,
           "zerolinecolor": "rgb(36,36,36)"
          }
         }
        },
        "title": {
         "font": {
          "color": "Black",
          "size": 22
         },
         "text": "<b>Intertopic Distance Map</b>",
         "x": 0.5,
         "xanchor": "center",
         "y": 0.95,
         "yanchor": "top"
        },
        "width": 650,
        "xaxis": {
         "anchor": "y",
         "domain": [
          0,
          1
         ],
         "range": [
          -11.457907676696777,
          14.031167984008789
         ],
         "title": {
          "text": ""
         },
         "visible": false
        },
        "yaxis": {
         "anchor": "x",
         "domain": [
          0,
          1
         ],
         "range": [
          -1.9031410217285156,
          0.4571211040019989
         ],
         "title": {
          "text": ""
         },
         "visible": false
        }
       }
      }
     },
     "metadata": {},
     "output_type": "display_data"
    }
   ],
   "source": [
    "topic_model_hdbscan.visualize_barchart(top_n_topics=15)\n",
    "topic_model_hdbscan.visualize_topics()"
   ]
  },
  {
   "cell_type": "code",
   "execution_count": null,
   "id": "e3ecd171",
   "metadata": {},
   "outputs": [],
   "source": [
    "# df['created_at'] = pd.to_datetime(df['created_at'])"
   ]
  },
  {
   "cell_type": "code",
   "execution_count": null,
   "id": "7f933a68",
   "metadata": {},
   "outputs": [
    {
     "name": "stderr",
     "output_type": "stream",
     "text": [
      "0it [00:00, ?it/s]\n"
     ]
    },
    {
     "ename": "IndexError",
     "evalue": "index (206) out of range",
     "output_type": "error",
     "traceback": [
      "\u001b[31m---------------------------------------------------------------------------\u001b[39m",
      "\u001b[31mIndexError\u001b[39m                                Traceback (most recent call last)",
      "\u001b[36mCell\u001b[39m\u001b[36m \u001b[39m\u001b[32mIn[31]\u001b[39m\u001b[32m, line 1\u001b[39m\n\u001b[32m----> \u001b[39m\u001b[32m1\u001b[39m topics_over_time = \u001b[43mtopic_model_hdbscan\u001b[49m\u001b[43m.\u001b[49m\u001b[43mtopics_over_time\u001b[49m\u001b[43m(\u001b[49m\n\u001b[32m      2\u001b[39m \u001b[43m    \u001b[49m\u001b[43mdocs\u001b[49m\u001b[43m=\u001b[49m\u001b[43mdocs\u001b[49m\u001b[43m,\u001b[49m\n\u001b[32m      3\u001b[39m \u001b[43m    \u001b[49m\u001b[43mtopics\u001b[49m\u001b[43m=\u001b[49m\u001b[43mtopics_hdbscan\u001b[49m\u001b[43m,\u001b[49m\n\u001b[32m      4\u001b[39m \u001b[43m    \u001b[49m\u001b[43mtimestamps\u001b[49m\u001b[43m=\u001b[49m\u001b[43mdf\u001b[49m\u001b[43m[\u001b[49m\u001b[33;43m'\u001b[39;49m\u001b[33;43mcreated_at\u001b[39;49m\u001b[33;43m'\u001b[39;49m\u001b[43m]\u001b[49m\u001b[43m,\u001b[49m\n\u001b[32m      5\u001b[39m \u001b[43m    \u001b[49m\u001b[43mnr_bins\u001b[49m\u001b[43m=\u001b[49m\u001b[32;43m20\u001b[39;49m\u001b[43m,\u001b[49m\u001b[43m  \u001b[49m\u001b[38;5;66;43;03m# Adjust to control time granularity\u001b[39;49;00m\n\u001b[32m      6\u001b[39m \u001b[43m    \u001b[49m\u001b[43mevolution_tuning\u001b[49m\u001b[43m=\u001b[49m\u001b[38;5;28;43;01mTrue\u001b[39;49;00m\u001b[43m,\u001b[49m\n\u001b[32m      7\u001b[39m \u001b[43m    \u001b[49m\u001b[43mglobal_tuning\u001b[49m\u001b[43m=\u001b[49m\u001b[38;5;28;43;01mTrue\u001b[39;49;00m\n\u001b[32m      8\u001b[39m \u001b[43m)\u001b[49m\n",
      "\u001b[36mFile \u001b[39m\u001b[32mf:\\UI\\Semester 8\\Tugas Akhir\\topic-modelling\\env\\Lib\\site-packages\\bertopic\\_bertopic.py:925\u001b[39m, in \u001b[36mBERTopic.topics_over_time\u001b[39m\u001b[34m(self, docs, timestamps, topics, nr_bins, datetime_format, evolution_tuning, global_tuning)\u001b[39m\n\u001b[32m    923\u001b[39m \u001b[38;5;28;01mif\u001b[39;00m global_tuning:\n\u001b[32m    924\u001b[39m     selected_topics = [all_topics_indices[topic] \u001b[38;5;28;01mfor\u001b[39;00m topic \u001b[38;5;129;01min\u001b[39;00m documents_per_topic.Topic.values]\n\u001b[32m--> \u001b[39m\u001b[32m925\u001b[39m     c_tf_idf = (\u001b[43mglobal_c_tf_idf\u001b[49m\u001b[43m[\u001b[49m\u001b[43mselected_topics\u001b[49m\u001b[43m]\u001b[49m + c_tf_idf) / \u001b[32m2.0\u001b[39m\n\u001b[32m    927\u001b[39m \u001b[38;5;66;03m# Extract the words per topic\u001b[39;00m\n\u001b[32m    928\u001b[39m words_per_topic = \u001b[38;5;28mself\u001b[39m._extract_words_per_topic(words, selection, c_tf_idf, calculate_aspects=\u001b[38;5;28;01mFalse\u001b[39;00m)\n",
      "\u001b[36mFile \u001b[39m\u001b[32mf:\\UI\\Semester 8\\Tugas Akhir\\topic-modelling\\env\\Lib\\site-packages\\scipy\\sparse\\_index.py:30\u001b[39m, in \u001b[36mIndexMixin.__getitem__\u001b[39m\u001b[34m(self, key)\u001b[39m\n\u001b[32m     29\u001b[39m \u001b[38;5;28;01mdef\u001b[39;00m\u001b[38;5;250m \u001b[39m\u001b[34m__getitem__\u001b[39m(\u001b[38;5;28mself\u001b[39m, key):\n\u001b[32m---> \u001b[39m\u001b[32m30\u001b[39m     index, new_shape = \u001b[38;5;28;43mself\u001b[39;49m\u001b[43m.\u001b[49m\u001b[43m_validate_indices\u001b[49m\u001b[43m(\u001b[49m\u001b[43mkey\u001b[49m\u001b[43m)\u001b[49m\n\u001b[32m     32\u001b[39m     \u001b[38;5;66;03m# 1D array\u001b[39;00m\n\u001b[32m     33\u001b[39m     \u001b[38;5;28;01mif\u001b[39;00m \u001b[38;5;28mlen\u001b[39m(index) == \u001b[32m1\u001b[39m:\n",
      "\u001b[36mFile \u001b[39m\u001b[32mf:\\UI\\Semester 8\\Tugas Akhir\\topic-modelling\\env\\Lib\\site-packages\\scipy\\sparse\\_index.py:288\u001b[39m, in \u001b[36mIndexMixin._validate_indices\u001b[39m\u001b[34m(self, key)\u001b[39m\n\u001b[32m    286\u001b[39m \u001b[38;5;28;01melse\u001b[39;00m:  \u001b[38;5;66;03m# dense array\u001b[39;00m\n\u001b[32m    287\u001b[39m     N = \u001b[38;5;28mself\u001b[39m._shape[index_ndim]\n\u001b[32m--> \u001b[39m\u001b[32m288\u001b[39m     idx = \u001b[38;5;28;43mself\u001b[39;49m\u001b[43m.\u001b[49m\u001b[43m_asindices\u001b[49m\u001b[43m(\u001b[49m\u001b[43midx\u001b[49m\u001b[43m,\u001b[49m\u001b[43m \u001b[49m\u001b[43mN\u001b[49m\u001b[43m)\u001b[49m\n\u001b[32m    289\u001b[39m     index.append(idx)\n\u001b[32m    290\u001b[39m     array_indices.append(index_ndim)\n",
      "\u001b[36mFile \u001b[39m\u001b[32mf:\\UI\\Semester 8\\Tugas Akhir\\topic-modelling\\env\\Lib\\site-packages\\scipy\\sparse\\_index.py:332\u001b[39m, in \u001b[36mIndexMixin._asindices\u001b[39m\u001b[34m(self, idx, length)\u001b[39m\n\u001b[32m    330\u001b[39m max_indx = x.max()\n\u001b[32m    331\u001b[39m \u001b[38;5;28;01mif\u001b[39;00m max_indx >= length:\n\u001b[32m--> \u001b[39m\u001b[32m332\u001b[39m     \u001b[38;5;28;01mraise\u001b[39;00m \u001b[38;5;167;01mIndexError\u001b[39;00m(\u001b[33m'\u001b[39m\u001b[33mindex (\u001b[39m\u001b[38;5;132;01m%d\u001b[39;00m\u001b[33m) out of range\u001b[39m\u001b[33m'\u001b[39m % max_indx)\n\u001b[32m    334\u001b[39m min_indx = x.min()\n\u001b[32m    335\u001b[39m \u001b[38;5;28;01mif\u001b[39;00m min_indx < \u001b[32m0\u001b[39m:\n",
      "\u001b[31mIndexError\u001b[39m: index (206) out of range"
     ]
    }
   ],
   "source": [
    "# topics_over_time = topic_model_hdbscan.topics_over_time(\n",
    "#     docs=docs,\n",
    "#     topics=topics_hdbscan,\n",
    "#     timestamps=df['created_at'],\n",
    "#     nr_bins=20,  # Adjust to control time granularity\n",
    "#     evolution_tuning=True,\n",
    "#     global_tuning=True\n",
    "# )"
   ]
  },
  {
   "cell_type": "code",
   "execution_count": null,
   "id": "abb52aa8",
   "metadata": {},
   "outputs": [],
   "source": [
    "# topic_model_hdbscan.visualize_topics_over_time(\n",
    "#     topics_over_time, \n",
    "#     top_n_topics=10  # Number of top topics to show\n",
    "# )\n"
   ]
  },
  {
   "cell_type": "code",
   "execution_count": null,
   "id": "066d0783",
   "metadata": {},
   "outputs": [],
   "source": [
    "# Save results to CSV\n",
    "df_topics = pd.DataFrame({\"Document\": docs, \"Topic\": topics_hdbscan})\n",
    "df_topics.to_csv(\"topic_assignments_hdbscan.csv\", index=False)\n",
    "\n",
    "# Save model\n",
    "# topic_model.save(\"bertopic_model_hdbscan\")\n"
   ]
  },
  {
   "cell_type": "code",
   "execution_count": null,
   "id": "c9ac13e6",
   "metadata": {},
   "outputs": [
    {
     "name": "stderr",
     "output_type": "stream",
     "text": [
      "2025-05-20 19:36:19,776 - BERTopic - Embedding - Transforming documents to embeddings.\n",
      "Batches: 100%|██████████| 934/934 [04:49<00:00,  3.23it/s]\n",
      "2025-05-20 19:41:09,173 - BERTopic - Embedding - Completed ✓\n",
      "2025-05-20 19:41:09,174 - BERTopic - Dimensionality - Fitting the dimensionality reduction algorithm\n",
      "2025-05-20 19:41:14,917 - BERTopic - Dimensionality - Completed ✓\n",
      "2025-05-20 19:41:14,920 - BERTopic - Cluster - Start clustering the reduced embeddings\n",
      "2025-05-20 19:41:14,978 - BERTopic - Cluster - Completed ✓\n",
      "2025-05-20 19:41:14,986 - BERTopic - Representation - Fine-tuning topics using representation models.\n",
      "2025-05-20 19:41:15,365 - BERTopic - Representation - Completed ✓\n"
     ]
    },
    {
     "data": {
      "application/vnd.plotly.v1+json": {
       "config": {
        "plotlyServerURL": "https://plot.ly"
       },
       "data": [
        {
         "marker": {
          "color": "#D55E00"
         },
         "orientation": "h",
         "type": "bar",
         "x": [
          0.02219320211689753,
          0.02456071220150472,
          0.038002265207892454,
          0.05316047423135683,
          0.17999234753117513
         ],
         "xaxis": "x",
         "y": [
          "buzzer  ",
          "amin  ",
          "pilih  ",
          "dukung  ",
          "01  "
         ],
         "yaxis": "y"
        },
        {
         "marker": {
          "color": "#0072B2"
         },
         "orientation": "h",
         "type": "bar",
         "x": [
          0.028660519732379448,
          0.03055361364644349,
          0.04154855264352592,
          0.042540085387303604,
          0.06116502636690249
         ],
         "xaxis": "x2",
         "y": [
          "pasang  ",
          "pilih  ",
          "orang  ",
          "dukung  ",
          "01  "
         ],
         "yaxis": "y2"
        },
        {
         "marker": {
          "color": "#CC79A7"
         },
         "orientation": "h",
         "type": "bar",
         "x": [
          0.026188286895223796,
          0.0308155642371844,
          0.030997799044969,
          0.06065905724951994,
          0.1029656144038641
         ],
         "xaxis": "x3",
         "y": [
          "banget  ",
          "pilih  ",
          "pasang  ",
          "dukung  ",
          "01  "
         ],
         "yaxis": "y3"
        },
        {
         "marker": {
          "color": "#E69F00"
         },
         "orientation": "h",
         "type": "bar",
         "x": [
          0.04340948086454466,
          0.04458408128267943,
          0.046673623185873835,
          0.05887167916822326,
          0.08098097640368279
         ],
         "xaxis": "x4",
         "y": [
          "rasyid  ",
          "cak  ",
          "imin  ",
          "baswedan  ",
          "anies  "
         ],
         "yaxis": "y4"
        },
        {
         "marker": {
          "color": "#56B4E9"
         },
         "orientation": "h",
         "type": "bar",
         "x": [
          0.03709618003498818,
          0.039297555951380785,
          0.060262285887479256,
          0.06989519560246267,
          0.10440987588953116
         ],
         "xaxis": "x5",
         "y": [
          "baswedan  ",
          "calon  ",
          "pilih  ",
          "anies  ",
          "presiden  "
         ],
         "yaxis": "y5"
        },
        {
         "marker": {
          "color": "#009E73"
         },
         "orientation": "h",
         "type": "bar",
         "x": [
          0.025318954440260916,
          0.0286383334921495,
          0.03400423009368923,
          0.039651199879839394,
          0.05326713283283925
         ],
         "xaxis": "x6",
         "y": [
          "orang  ",
          "kerja  ",
          "dukung  ",
          "kampanye  ",
          "01  "
         ],
         "yaxis": "y6"
        },
        {
         "marker": {
          "color": "#F0E442"
         },
         "orientation": "h",
         "type": "bar",
         "x": [
          0.04034403275281866,
          0.04464773424174751,
          0.04493148132114328,
          0.05362632358906224,
          0.06848418315519776
         ],
         "xaxis": "x7",
         "y": [
          "baswedan  ",
          "cak  ",
          "imin  ",
          "indonesia  ",
          "anies  "
         ],
         "yaxis": "y7"
        },
        {
         "marker": {
          "color": "#D55E00"
         },
         "orientation": "h",
         "type": "bar",
         "x": [
          0.017287786392053528,
          0.02825124632843225,
          0.07165898494972285,
          0.18691262185227375,
          0.19357407421740805
         ],
         "xaxis": "x8",
         "y": [
          "gibran  ",
          "banget  ",
          "anies  ",
          "imin  ",
          "cak  "
         ],
         "yaxis": "y8"
        },
        {
         "marker": {
          "color": "#0072B2"
         },
         "orientation": "h",
         "type": "bar",
         "x": [
          0.051139224168379606,
          0.060954286703769005,
          0.06229501250033408,
          0.07065341610193823,
          0.08907074487739401
         ],
         "xaxis": "x9",
         "y": [
          "pintar  ",
          "indonesia  ",
          "01  ",
          "suara  ",
          "kayak  "
         ],
         "yaxis": "y9"
        },
        {
         "marker": {
          "color": "#CC79A7"
         },
         "orientation": "h",
         "type": "bar",
         "x": [
          0.03693848205774296,
          0.05216284337654013,
          0.0525462309394331,
          0.1040291691705228,
          0.1353196293101706
         ],
         "xaxis": "x10",
         "y": [
          "pilih  ",
          "01  ",
          "wakil  ",
          "calon  ",
          "presiden  "
         ],
         "yaxis": "y10"
        },
        {
         "marker": {
          "color": "#E69F00"
         },
         "orientation": "h",
         "type": "bar",
         "x": [
          0.03348053420326139,
          0.048467879152601895,
          0.05688344656000186,
          0.08245022092186031,
          0.16940801008127182
         ],
         "xaxis": "x11",
         "y": [
          "amin  ",
          "gara  ",
          "survei  ",
          "01  ",
          "menang  "
         ],
         "yaxis": "y11"
        },
        {
         "marker": {
          "color": "#56B4E9"
         },
         "orientation": "h",
         "type": "bar",
         "x": [
          0.04902098700740897,
          0.054786401815847964,
          0.058590604411174765,
          0.060448209198677036,
          0.08351061579987931
         ],
         "xaxis": "x12",
         "y": [
          "media  ",
          "twitter  ",
          "01  ",
          "program  ",
          "video  "
         ],
         "yaxis": "y12"
        },
        {
         "marker": {
          "color": "#009E73"
         },
         "orientation": "h",
         "type": "bar",
         "x": [
          0.04521978494552802,
          0.045715639763189014,
          0.0664448619326919,
          0.07758792215932324,
          0.10733374407546623
         ],
         "xaxis": "x13",
         "y": [
          "demokrat  ",
          "01  ",
          "partai  ",
          "demokrasi  ",
          "politik  "
         ],
         "yaxis": "y13"
        },
        {
         "marker": {
          "color": "#F0E442"
         },
         "orientation": "h",
         "type": "bar",
         "x": [
          0.03379484705857714,
          0.03998509488472506,
          0.05022153988656096,
          0.05193694046793636,
          0.1717657329395302
         ],
         "xaxis": "x14",
         "y": [
          "strategi  ",
          "presiden  ",
          "01  ",
          "calon  ",
          "debat  "
         ],
         "yaxis": "y14"
        },
        {
         "marker": {
          "color": "#D55E00"
         },
         "orientation": "h",
         "type": "bar",
         "x": [
          0.04994041631801265,
          0.06476301029481023,
          0.06845633194803494,
          0.06895945667982091,
          0.18170672482743822
         ],
         "xaxis": "x15",
         "y": [
          "anies  ",
          "presiden  ",
          "imin  ",
          "cak  ",
          "debat  "
         ],
         "yaxis": "y15"
        }
       ],
       "layout": {
        "annotations": [
         {
          "font": {
           "size": 16
          },
          "showarrow": false,
          "text": "Topic 0",
          "x": 0.0875,
          "xanchor": "center",
          "xref": "paper",
          "y": 1,
          "yanchor": "bottom",
          "yref": "paper"
         },
         {
          "font": {
           "size": 16
          },
          "showarrow": false,
          "text": "Topic 1",
          "x": 0.36250000000000004,
          "xanchor": "center",
          "xref": "paper",
          "y": 1,
          "yanchor": "bottom",
          "yref": "paper"
         },
         {
          "font": {
           "size": 16
          },
          "showarrow": false,
          "text": "Topic 2",
          "x": 0.6375000000000001,
          "xanchor": "center",
          "xref": "paper",
          "y": 1,
          "yanchor": "bottom",
          "yref": "paper"
         },
         {
          "font": {
           "size": 16
          },
          "showarrow": false,
          "text": "Topic 3",
          "x": 0.9125,
          "xanchor": "center",
          "xref": "paper",
          "y": 1,
          "yanchor": "bottom",
          "yref": "paper"
         },
         {
          "font": {
           "size": 16
          },
          "showarrow": false,
          "text": "Topic 4",
          "x": 0.0875,
          "xanchor": "center",
          "xref": "paper",
          "y": 0.7250000000000001,
          "yanchor": "bottom",
          "yref": "paper"
         },
         {
          "font": {
           "size": 16
          },
          "showarrow": false,
          "text": "Topic 5",
          "x": 0.36250000000000004,
          "xanchor": "center",
          "xref": "paper",
          "y": 0.7250000000000001,
          "yanchor": "bottom",
          "yref": "paper"
         },
         {
          "font": {
           "size": 16
          },
          "showarrow": false,
          "text": "Topic 6",
          "x": 0.6375000000000001,
          "xanchor": "center",
          "xref": "paper",
          "y": 0.7250000000000001,
          "yanchor": "bottom",
          "yref": "paper"
         },
         {
          "font": {
           "size": 16
          },
          "showarrow": false,
          "text": "Topic 7",
          "x": 0.9125,
          "xanchor": "center",
          "xref": "paper",
          "y": 0.7250000000000001,
          "yanchor": "bottom",
          "yref": "paper"
         },
         {
          "font": {
           "size": 16
          },
          "showarrow": false,
          "text": "Topic 8",
          "x": 0.0875,
          "xanchor": "center",
          "xref": "paper",
          "y": 0.45,
          "yanchor": "bottom",
          "yref": "paper"
         },
         {
          "font": {
           "size": 16
          },
          "showarrow": false,
          "text": "Topic 9",
          "x": 0.36250000000000004,
          "xanchor": "center",
          "xref": "paper",
          "y": 0.45,
          "yanchor": "bottom",
          "yref": "paper"
         },
         {
          "font": {
           "size": 16
          },
          "showarrow": false,
          "text": "Topic 10",
          "x": 0.6375000000000001,
          "xanchor": "center",
          "xref": "paper",
          "y": 0.45,
          "yanchor": "bottom",
          "yref": "paper"
         },
         {
          "font": {
           "size": 16
          },
          "showarrow": false,
          "text": "Topic 11",
          "x": 0.9125,
          "xanchor": "center",
          "xref": "paper",
          "y": 0.45,
          "yanchor": "bottom",
          "yref": "paper"
         },
         {
          "font": {
           "size": 16
          },
          "showarrow": false,
          "text": "Topic 12",
          "x": 0.0875,
          "xanchor": "center",
          "xref": "paper",
          "y": 0.175,
          "yanchor": "bottom",
          "yref": "paper"
         },
         {
          "font": {
           "size": 16
          },
          "showarrow": false,
          "text": "Topic 13",
          "x": 0.36250000000000004,
          "xanchor": "center",
          "xref": "paper",
          "y": 0.175,
          "yanchor": "bottom",
          "yref": "paper"
         },
         {
          "font": {
           "size": 16
          },
          "showarrow": false,
          "text": "Topic 14",
          "x": 0.6375000000000001,
          "xanchor": "center",
          "xref": "paper",
          "y": 0.175,
          "yanchor": "bottom",
          "yref": "paper"
         }
        ],
        "height": 1000,
        "hoverlabel": {
         "bgcolor": "white",
         "font": {
          "family": "Rockwell",
          "size": 16
         }
        },
        "showlegend": false,
        "template": {
         "data": {
          "bar": [
           {
            "error_x": {
             "color": "#2a3f5f"
            },
            "error_y": {
             "color": "#2a3f5f"
            },
            "marker": {
             "line": {
              "color": "white",
              "width": 0.5
             },
             "pattern": {
              "fillmode": "overlay",
              "size": 10,
              "solidity": 0.2
             }
            },
            "type": "bar"
           }
          ],
          "barpolar": [
           {
            "marker": {
             "line": {
              "color": "white",
              "width": 0.5
             },
             "pattern": {
              "fillmode": "overlay",
              "size": 10,
              "solidity": 0.2
             }
            },
            "type": "barpolar"
           }
          ],
          "carpet": [
           {
            "aaxis": {
             "endlinecolor": "#2a3f5f",
             "gridcolor": "#C8D4E3",
             "linecolor": "#C8D4E3",
             "minorgridcolor": "#C8D4E3",
             "startlinecolor": "#2a3f5f"
            },
            "baxis": {
             "endlinecolor": "#2a3f5f",
             "gridcolor": "#C8D4E3",
             "linecolor": "#C8D4E3",
             "minorgridcolor": "#C8D4E3",
             "startlinecolor": "#2a3f5f"
            },
            "type": "carpet"
           }
          ],
          "choropleth": [
           {
            "colorbar": {
             "outlinewidth": 0,
             "ticks": ""
            },
            "type": "choropleth"
           }
          ],
          "contour": [
           {
            "colorbar": {
             "outlinewidth": 0,
             "ticks": ""
            },
            "colorscale": [
             [
              0,
              "#0d0887"
             ],
             [
              0.1111111111111111,
              "#46039f"
             ],
             [
              0.2222222222222222,
              "#7201a8"
             ],
             [
              0.3333333333333333,
              "#9c179e"
             ],
             [
              0.4444444444444444,
              "#bd3786"
             ],
             [
              0.5555555555555556,
              "#d8576b"
             ],
             [
              0.6666666666666666,
              "#ed7953"
             ],
             [
              0.7777777777777778,
              "#fb9f3a"
             ],
             [
              0.8888888888888888,
              "#fdca26"
             ],
             [
              1,
              "#f0f921"
             ]
            ],
            "type": "contour"
           }
          ],
          "contourcarpet": [
           {
            "colorbar": {
             "outlinewidth": 0,
             "ticks": ""
            },
            "type": "contourcarpet"
           }
          ],
          "heatmap": [
           {
            "colorbar": {
             "outlinewidth": 0,
             "ticks": ""
            },
            "colorscale": [
             [
              0,
              "#0d0887"
             ],
             [
              0.1111111111111111,
              "#46039f"
             ],
             [
              0.2222222222222222,
              "#7201a8"
             ],
             [
              0.3333333333333333,
              "#9c179e"
             ],
             [
              0.4444444444444444,
              "#bd3786"
             ],
             [
              0.5555555555555556,
              "#d8576b"
             ],
             [
              0.6666666666666666,
              "#ed7953"
             ],
             [
              0.7777777777777778,
              "#fb9f3a"
             ],
             [
              0.8888888888888888,
              "#fdca26"
             ],
             [
              1,
              "#f0f921"
             ]
            ],
            "type": "heatmap"
           }
          ],
          "histogram": [
           {
            "marker": {
             "pattern": {
              "fillmode": "overlay",
              "size": 10,
              "solidity": 0.2
             }
            },
            "type": "histogram"
           }
          ],
          "histogram2d": [
           {
            "colorbar": {
             "outlinewidth": 0,
             "ticks": ""
            },
            "colorscale": [
             [
              0,
              "#0d0887"
             ],
             [
              0.1111111111111111,
              "#46039f"
             ],
             [
              0.2222222222222222,
              "#7201a8"
             ],
             [
              0.3333333333333333,
              "#9c179e"
             ],
             [
              0.4444444444444444,
              "#bd3786"
             ],
             [
              0.5555555555555556,
              "#d8576b"
             ],
             [
              0.6666666666666666,
              "#ed7953"
             ],
             [
              0.7777777777777778,
              "#fb9f3a"
             ],
             [
              0.8888888888888888,
              "#fdca26"
             ],
             [
              1,
              "#f0f921"
             ]
            ],
            "type": "histogram2d"
           }
          ],
          "histogram2dcontour": [
           {
            "colorbar": {
             "outlinewidth": 0,
             "ticks": ""
            },
            "colorscale": [
             [
              0,
              "#0d0887"
             ],
             [
              0.1111111111111111,
              "#46039f"
             ],
             [
              0.2222222222222222,
              "#7201a8"
             ],
             [
              0.3333333333333333,
              "#9c179e"
             ],
             [
              0.4444444444444444,
              "#bd3786"
             ],
             [
              0.5555555555555556,
              "#d8576b"
             ],
             [
              0.6666666666666666,
              "#ed7953"
             ],
             [
              0.7777777777777778,
              "#fb9f3a"
             ],
             [
              0.8888888888888888,
              "#fdca26"
             ],
             [
              1,
              "#f0f921"
             ]
            ],
            "type": "histogram2dcontour"
           }
          ],
          "mesh3d": [
           {
            "colorbar": {
             "outlinewidth": 0,
             "ticks": ""
            },
            "type": "mesh3d"
           }
          ],
          "parcoords": [
           {
            "line": {
             "colorbar": {
              "outlinewidth": 0,
              "ticks": ""
             }
            },
            "type": "parcoords"
           }
          ],
          "pie": [
           {
            "automargin": true,
            "type": "pie"
           }
          ],
          "scatter": [
           {
            "fillpattern": {
             "fillmode": "overlay",
             "size": 10,
             "solidity": 0.2
            },
            "type": "scatter"
           }
          ],
          "scatter3d": [
           {
            "line": {
             "colorbar": {
              "outlinewidth": 0,
              "ticks": ""
             }
            },
            "marker": {
             "colorbar": {
              "outlinewidth": 0,
              "ticks": ""
             }
            },
            "type": "scatter3d"
           }
          ],
          "scattercarpet": [
           {
            "marker": {
             "colorbar": {
              "outlinewidth": 0,
              "ticks": ""
             }
            },
            "type": "scattercarpet"
           }
          ],
          "scattergeo": [
           {
            "marker": {
             "colorbar": {
              "outlinewidth": 0,
              "ticks": ""
             }
            },
            "type": "scattergeo"
           }
          ],
          "scattergl": [
           {
            "marker": {
             "colorbar": {
              "outlinewidth": 0,
              "ticks": ""
             }
            },
            "type": "scattergl"
           }
          ],
          "scattermap": [
           {
            "marker": {
             "colorbar": {
              "outlinewidth": 0,
              "ticks": ""
             }
            },
            "type": "scattermap"
           }
          ],
          "scattermapbox": [
           {
            "marker": {
             "colorbar": {
              "outlinewidth": 0,
              "ticks": ""
             }
            },
            "type": "scattermapbox"
           }
          ],
          "scatterpolar": [
           {
            "marker": {
             "colorbar": {
              "outlinewidth": 0,
              "ticks": ""
             }
            },
            "type": "scatterpolar"
           }
          ],
          "scatterpolargl": [
           {
            "marker": {
             "colorbar": {
              "outlinewidth": 0,
              "ticks": ""
             }
            },
            "type": "scatterpolargl"
           }
          ],
          "scatterternary": [
           {
            "marker": {
             "colorbar": {
              "outlinewidth": 0,
              "ticks": ""
             }
            },
            "type": "scatterternary"
           }
          ],
          "surface": [
           {
            "colorbar": {
             "outlinewidth": 0,
             "ticks": ""
            },
            "colorscale": [
             [
              0,
              "#0d0887"
             ],
             [
              0.1111111111111111,
              "#46039f"
             ],
             [
              0.2222222222222222,
              "#7201a8"
             ],
             [
              0.3333333333333333,
              "#9c179e"
             ],
             [
              0.4444444444444444,
              "#bd3786"
             ],
             [
              0.5555555555555556,
              "#d8576b"
             ],
             [
              0.6666666666666666,
              "#ed7953"
             ],
             [
              0.7777777777777778,
              "#fb9f3a"
             ],
             [
              0.8888888888888888,
              "#fdca26"
             ],
             [
              1,
              "#f0f921"
             ]
            ],
            "type": "surface"
           }
          ],
          "table": [
           {
            "cells": {
             "fill": {
              "color": "#EBF0F8"
             },
             "line": {
              "color": "white"
             }
            },
            "header": {
             "fill": {
              "color": "#C8D4E3"
             },
             "line": {
              "color": "white"
             }
            },
            "type": "table"
           }
          ]
         },
         "layout": {
          "annotationdefaults": {
           "arrowcolor": "#2a3f5f",
           "arrowhead": 0,
           "arrowwidth": 1
          },
          "autotypenumbers": "strict",
          "coloraxis": {
           "colorbar": {
            "outlinewidth": 0,
            "ticks": ""
           }
          },
          "colorscale": {
           "diverging": [
            [
             0,
             "#8e0152"
            ],
            [
             0.1,
             "#c51b7d"
            ],
            [
             0.2,
             "#de77ae"
            ],
            [
             0.3,
             "#f1b6da"
            ],
            [
             0.4,
             "#fde0ef"
            ],
            [
             0.5,
             "#f7f7f7"
            ],
            [
             0.6,
             "#e6f5d0"
            ],
            [
             0.7,
             "#b8e186"
            ],
            [
             0.8,
             "#7fbc41"
            ],
            [
             0.9,
             "#4d9221"
            ],
            [
             1,
             "#276419"
            ]
           ],
           "sequential": [
            [
             0,
             "#0d0887"
            ],
            [
             0.1111111111111111,
             "#46039f"
            ],
            [
             0.2222222222222222,
             "#7201a8"
            ],
            [
             0.3333333333333333,
             "#9c179e"
            ],
            [
             0.4444444444444444,
             "#bd3786"
            ],
            [
             0.5555555555555556,
             "#d8576b"
            ],
            [
             0.6666666666666666,
             "#ed7953"
            ],
            [
             0.7777777777777778,
             "#fb9f3a"
            ],
            [
             0.8888888888888888,
             "#fdca26"
            ],
            [
             1,
             "#f0f921"
            ]
           ],
           "sequentialminus": [
            [
             0,
             "#0d0887"
            ],
            [
             0.1111111111111111,
             "#46039f"
            ],
            [
             0.2222222222222222,
             "#7201a8"
            ],
            [
             0.3333333333333333,
             "#9c179e"
            ],
            [
             0.4444444444444444,
             "#bd3786"
            ],
            [
             0.5555555555555556,
             "#d8576b"
            ],
            [
             0.6666666666666666,
             "#ed7953"
            ],
            [
             0.7777777777777778,
             "#fb9f3a"
            ],
            [
             0.8888888888888888,
             "#fdca26"
            ],
            [
             1,
             "#f0f921"
            ]
           ]
          },
          "colorway": [
           "#636efa",
           "#EF553B",
           "#00cc96",
           "#ab63fa",
           "#FFA15A",
           "#19d3f3",
           "#FF6692",
           "#B6E880",
           "#FF97FF",
           "#FECB52"
          ],
          "font": {
           "color": "#2a3f5f"
          },
          "geo": {
           "bgcolor": "white",
           "lakecolor": "white",
           "landcolor": "white",
           "showlakes": true,
           "showland": true,
           "subunitcolor": "#C8D4E3"
          },
          "hoverlabel": {
           "align": "left"
          },
          "hovermode": "closest",
          "mapbox": {
           "style": "light"
          },
          "paper_bgcolor": "white",
          "plot_bgcolor": "white",
          "polar": {
           "angularaxis": {
            "gridcolor": "#EBF0F8",
            "linecolor": "#EBF0F8",
            "ticks": ""
           },
           "bgcolor": "white",
           "radialaxis": {
            "gridcolor": "#EBF0F8",
            "linecolor": "#EBF0F8",
            "ticks": ""
           }
          },
          "scene": {
           "xaxis": {
            "backgroundcolor": "white",
            "gridcolor": "#DFE8F3",
            "gridwidth": 2,
            "linecolor": "#EBF0F8",
            "showbackground": true,
            "ticks": "",
            "zerolinecolor": "#EBF0F8"
           },
           "yaxis": {
            "backgroundcolor": "white",
            "gridcolor": "#DFE8F3",
            "gridwidth": 2,
            "linecolor": "#EBF0F8",
            "showbackground": true,
            "ticks": "",
            "zerolinecolor": "#EBF0F8"
           },
           "zaxis": {
            "backgroundcolor": "white",
            "gridcolor": "#DFE8F3",
            "gridwidth": 2,
            "linecolor": "#EBF0F8",
            "showbackground": true,
            "ticks": "",
            "zerolinecolor": "#EBF0F8"
           }
          },
          "shapedefaults": {
           "line": {
            "color": "#2a3f5f"
           }
          },
          "ternary": {
           "aaxis": {
            "gridcolor": "#DFE8F3",
            "linecolor": "#A2B1C6",
            "ticks": ""
           },
           "baxis": {
            "gridcolor": "#DFE8F3",
            "linecolor": "#A2B1C6",
            "ticks": ""
           },
           "bgcolor": "white",
           "caxis": {
            "gridcolor": "#DFE8F3",
            "linecolor": "#A2B1C6",
            "ticks": ""
           }
          },
          "title": {
           "x": 0.05
          },
          "xaxis": {
           "automargin": true,
           "gridcolor": "#EBF0F8",
           "linecolor": "#EBF0F8",
           "ticks": "",
           "title": {
            "standoff": 15
           },
           "zerolinecolor": "#EBF0F8",
           "zerolinewidth": 2
          },
          "yaxis": {
           "automargin": true,
           "gridcolor": "#EBF0F8",
           "linecolor": "#EBF0F8",
           "ticks": "",
           "title": {
            "standoff": 15
           },
           "zerolinecolor": "#EBF0F8",
           "zerolinewidth": 2
          }
         }
        },
        "title": {
         "font": {
          "color": "Black",
          "size": 22
         },
         "text": "Topic Word Scores",
         "x": 0.5,
         "xanchor": "center",
         "yanchor": "top"
        },
        "width": 1000,
        "xaxis": {
         "anchor": "y",
         "domain": [
          0,
          0.175
         ],
         "showgrid": true
        },
        "xaxis10": {
         "anchor": "y10",
         "domain": [
          0.275,
          0.45
         ],
         "showgrid": true
        },
        "xaxis11": {
         "anchor": "y11",
         "domain": [
          0.55,
          0.7250000000000001
         ],
         "showgrid": true
        },
        "xaxis12": {
         "anchor": "y12",
         "domain": [
          0.825,
          1
         ],
         "showgrid": true
        },
        "xaxis13": {
         "anchor": "y13",
         "domain": [
          0,
          0.175
         ],
         "showgrid": true
        },
        "xaxis14": {
         "anchor": "y14",
         "domain": [
          0.275,
          0.45
         ],
         "showgrid": true
        },
        "xaxis15": {
         "anchor": "y15",
         "domain": [
          0.55,
          0.7250000000000001
         ],
         "showgrid": true
        },
        "xaxis16": {
         "anchor": "y16",
         "domain": [
          0.825,
          1
         ],
         "showgrid": true
        },
        "xaxis2": {
         "anchor": "y2",
         "domain": [
          0.275,
          0.45
         ],
         "showgrid": true
        },
        "xaxis3": {
         "anchor": "y3",
         "domain": [
          0.55,
          0.7250000000000001
         ],
         "showgrid": true
        },
        "xaxis4": {
         "anchor": "y4",
         "domain": [
          0.825,
          1
         ],
         "showgrid": true
        },
        "xaxis5": {
         "anchor": "y5",
         "domain": [
          0,
          0.175
         ],
         "showgrid": true
        },
        "xaxis6": {
         "anchor": "y6",
         "domain": [
          0.275,
          0.45
         ],
         "showgrid": true
        },
        "xaxis7": {
         "anchor": "y7",
         "domain": [
          0.55,
          0.7250000000000001
         ],
         "showgrid": true
        },
        "xaxis8": {
         "anchor": "y8",
         "domain": [
          0.825,
          1
         ],
         "showgrid": true
        },
        "xaxis9": {
         "anchor": "y9",
         "domain": [
          0,
          0.175
         ],
         "showgrid": true
        },
        "yaxis": {
         "anchor": "x",
         "domain": [
          0.825,
          1
         ],
         "showgrid": true
        },
        "yaxis10": {
         "anchor": "x10",
         "domain": [
          0.275,
          0.45
         ],
         "showgrid": true
        },
        "yaxis11": {
         "anchor": "x11",
         "domain": [
          0.275,
          0.45
         ],
         "showgrid": true
        },
        "yaxis12": {
         "anchor": "x12",
         "domain": [
          0.275,
          0.45
         ],
         "showgrid": true
        },
        "yaxis13": {
         "anchor": "x13",
         "domain": [
          0,
          0.175
         ],
         "showgrid": true
        },
        "yaxis14": {
         "anchor": "x14",
         "domain": [
          0,
          0.175
         ],
         "showgrid": true
        },
        "yaxis15": {
         "anchor": "x15",
         "domain": [
          0,
          0.175
         ],
         "showgrid": true
        },
        "yaxis16": {
         "anchor": "x16",
         "domain": [
          0,
          0.175
         ],
         "showgrid": true
        },
        "yaxis2": {
         "anchor": "x2",
         "domain": [
          0.825,
          1
         ],
         "showgrid": true
        },
        "yaxis3": {
         "anchor": "x3",
         "domain": [
          0.825,
          1
         ],
         "showgrid": true
        },
        "yaxis4": {
         "anchor": "x4",
         "domain": [
          0.825,
          1
         ],
         "showgrid": true
        },
        "yaxis5": {
         "anchor": "x5",
         "domain": [
          0.55,
          0.7250000000000001
         ],
         "showgrid": true
        },
        "yaxis6": {
         "anchor": "x6",
         "domain": [
          0.55,
          0.7250000000000001
         ],
         "showgrid": true
        },
        "yaxis7": {
         "anchor": "x7",
         "domain": [
          0.55,
          0.7250000000000001
         ],
         "showgrid": true
        },
        "yaxis8": {
         "anchor": "x8",
         "domain": [
          0.55,
          0.7250000000000001
         ],
         "showgrid": true
        },
        "yaxis9": {
         "anchor": "x9",
         "domain": [
          0.275,
          0.45
         ],
         "showgrid": true
        }
       }
      }
     },
     "metadata": {},
     "output_type": "display_data"
    }
   ],
   "source": [
    "from sklearn.cluster import KMeans\n",
    "\n",
    "num_topics = 15\n",
    "kmeans_model = KMeans(n_clusters=num_topics, random_state=42)\n",
    "\n",
    "topic_model_kmeans = BERTopic(\n",
    "    embedding_model=embedding_model,\n",
    "    umap_model=umap_model,\n",
    "    hdbscan_model=kmeans_model,\n",
    "    calculate_probabilities=False,\n",
    "    verbose=True\n",
    ")\n",
    "\n",
    "topics_kmeans, _ = topic_model_kmeans.fit_transform(docs)\n",
    "\n",
    "topic_model_kmeans.visualize_barchart(top_n_topics=15)"
   ]
  },
  {
   "cell_type": "code",
   "execution_count": null,
   "id": "13e2eff0",
   "metadata": {},
   "outputs": [
    {
     "name": "stdout",
     "output_type": "stream",
     "text": [
      "    Topic  Count                            Name  \\\n",
      "0       0   3525          0_01_dukung_pilih_amin   \n",
      "1       1   3463         1_01_dukung_orang_pilih   \n",
      "2       2   3304        2_01_dukung_pasang_pilih   \n",
      "3       3   2851       3_anies_baswedan_imin_cak   \n",
      "4       4   2314    4_presiden_anies_pilih_calon   \n",
      "5       5   2271      5_01_kampanye_dukung_kerja   \n",
      "6       6   2269      6_anies_indonesia_imin_cak   \n",
      "7       7   2033         7_cak_imin_anies_banget   \n",
      "8       8   1730      8_kayak_suara_01_indonesia   \n",
      "9       9   1416       9_presiden_calon_wakil_01   \n",
      "10     10   1286        10_menang_01_survei_gara   \n",
      "11     11   1056     11_video_program_01_twitter   \n",
      "12     12    871  12_politik_demokrasi_partai_01   \n",
      "13     13    762      13_debat_calon_01_presiden   \n",
      "14     14    710      14_debat_cak_imin_presiden   \n",
      "\n",
      "                                       Representation  \\\n",
      "0   [01, dukung, pilih, amin, buzzer, coblos, kubu...   \n",
      "1   [01, dukung, orang, pilih, pasang, calon, bang...   \n",
      "2   [01, dukung, pasang, pilih, banget, buzzer, ca...   \n",
      "3   [anies, baswedan, imin, cak, rasyid, ayah, ami...   \n",
      "4   [presiden, anies, pilih, calon, baswedan, waki...   \n",
      "5   [01, kampanye, dukung, kerja, orang, pasang, a...   \n",
      "6   [anies, indonesia, imin, cak, baswedan, amin, ...   \n",
      "7   [cak, imin, anies, banget, gibran, lucu, terta...   \n",
      "8   [kayak, suara, 01, indonesia, pintar, dukung, ...   \n",
      "9   [presiden, calon, wakil, 01, pilih, dukung, le...   \n",
      "10  [menang, 01, survei, gara, amin, sukses, tim, ...   \n",
      "11  [video, program, 01, twitter, media, berita, s...   \n",
      "12  [politik, demokrasi, partai, 01, demokrat, ide...   \n",
      "13  [debat, calon, 01, presiden, strategi, dukung,...   \n",
      "14  [debat, cak, imin, presiden, anies, calon, wak...   \n",
      "\n",
      "                                  Representative_Docs  \n",
      "0   [lucu dukung 01, pas pilih amin 01, coblos 01 ...  \n",
      "1   [wajib alas pilih pasang calon deh dukung pasa...  \n",
      "2   [dukung 01 banyak korban buzzer deh, komen duk...  \n",
      "3   [anak sebut lengkap anies rasyid baswedan tema...  \n",
      "4   [cak imin sebut santri calon presiden calon wa...  \n",
      "5   [dukung 01 dengar anies bisa jelek orang pilih...  \n",
      "6   [mas anies amin indonesia pokok indonesia amin...  \n",
      "7   [cak imin cak imin mbok diam anies keras, anie...  \n",
      "8   [tim 01 kayak , pasang calon 01 awal suara kay...  \n",
      "9   [suka 01 dukung calon presiden calon wakil pre...  \n",
      "10  [harap  01 menang, pengaruh insyaallah 01 mena...  \n",
      "11  [buzzer 01 banget media sosial, berita foto vi...  \n",
      "12  [doa pas 01 kalah moga partai demokrasi indone...  \n",
      "13  [debat 01 asa debat intoleran, calon presiden ...  \n",
      "14  [calon wakil presiden cak imin gibran mahfud m...  \n"
     ]
    },
    {
     "data": {
      "application/vnd.plotly.v1+json": {
       "config": {
        "plotlyServerURL": "https://plot.ly"
       },
       "data": [
        {
         "coloraxis": "coloraxis",
         "hovertemplate": "x: %{x}<br>y: %{y}<br>Similarity Score: %{z}<extra></extra>",
         "name": "0",
         "type": "heatmap",
         "x": [
          "0_01_dukung_pilih",
          "1_01_dukung_orang",
          "2_01_dukung_pasang",
          "3_anies_baswedan_imin",
          "4_presiden_anies_pilih",
          "5_01_kampanye_dukung",
          "6_anies_indonesia_imin",
          "7_cak_imin_anies",
          "8_kayak_suara_01",
          "9_presiden_calon_wakil",
          "10_menang_01_survei",
          "11_video_program_01",
          "12_politik_demokrasi_partai",
          "13_debat_calon_01",
          "14_debat_cak_imin"
         ],
         "xaxis": "x",
         "y": [
          "0_01_dukung_pilih",
          "1_01_dukung_orang",
          "2_01_dukung_pasang",
          "3_anies_baswedan_imin",
          "4_presiden_anies_pilih",
          "5_01_kampanye_dukung",
          "6_anies_indonesia_imin",
          "7_cak_imin_anies",
          "8_kayak_suara_01",
          "9_presiden_calon_wakil",
          "10_menang_01_survei",
          "11_video_program_01",
          "12_politik_demokrasi_partai",
          "13_debat_calon_01",
          "14_debat_cak_imin"
         ],
         "yaxis": "y",
         "z": {
          "bdata": "/v9/P2ELSD/qcmo/kPeLPl4MPz5TyT0/Pr15PoCg7j7BCUU/CU8bPx3cTz/Kjzc/pFkJP65lEz8wG1E+YQtIP/z/fz8ycHA/xNouP5kWDz9qv3k/NAosP/C9GT/XeXI/uKdQP7RQZD+mUGk/uCdGPwLcSj9hjwc/6nJqPzJwcD/8/38/kCMHP27gzT60AWY/bpT/PlwBGz+JT2g/Kq4+P8huaD+7Glw/NJotPyXNOD+E/c8+kPeLPsTaLj+QIwc/AwCAP87xUT86MCw/8NJ2P7jpUT+cDR8/KMgSP/A4Bz9aVhU/Ou4SPzxbDD8FHTc/Xgw/PpkWDz9u4M0+zvFRPwIAgD+7nhU/gPhZP5JqID+Ybgs/2HVIP8Eq6D5MdwY/ADc1Py6mFT+6F0Y/U8k9P2q/eT+0AWY/OjAsP7ueFT/8/38/RvAwPyYyDT8a+G4/bgRUP+APYT8YXWo/5kJPP4zpTj9akAw/Pr15PjQKLD9ulP8+8NJ2P4D4WT9G8DA/AQCAPyChRD+U1yg/JB4cP6ZABD8Uix4/CpAhP0LsFD82fz4/gKDuPvC9GT9cARs/uOlRP5JqID8mMg0/IKFEPwEAgD9/+xA/zV/uProbBD8O7QI/Q7DYPnZb5T6MQRc/wQlFP9d5cj+JT2g/nA0fP5huCz8a+G4/lNcoP3/7ED/+/38/wGVNPx+oXz9g/2I/MqhJP+DDRz80CwU/CU8bP7inUD8qrj4/KMgSP9h1SD9uBFQ/JB4cP81f7j7AZU0/AQCAP5qCQT8u7Eo/sbdRP4JcRj/PiB4/HdxPP7RQZD/Ibmg/8DgHP8Eq6D7gD2E/pkAEP7obBD8fqF8/moJBP/r/fz/5nVc/KkkzPyAjQj8mFeo+yo83P6ZQaT+7Glw/WlYVP0x3Bj8YXWo/FIsePw7tAj9g/2I/LuxKP/mdVz8AAIA/cORBP878ST+Ongc/pFkJP7gnRj80mi0/Ou4SPwA3NT/mQk8/CpAhP0Ow2D4yqEk/sbdRPypJMz9w5EE/AQCAP0yjQT9ZORY/rmUTPwLcSj8lzTg/PFsMPy6mFT+M6U4/QuwUP3Zb5T7gw0c/glxGPyAjQj/O/Ek/TKNBP/3/fz+9JlU/MBtRPmGPBz+E/c8+BR03P7oXRj9akAw/Nn8+P4xBFz80CwU/z4gePyYV6j6Ongc/WTkWP70mVT///38/",
          "dtype": "f4",
          "shape": "15, 15"
         }
        }
       ],
       "layout": {
        "coloraxis": {
         "colorbar": {
          "title": {
           "text": "Similarity Score"
          }
         },
         "colorscale": [
          [
           0,
           "rgb(247,252,240)"
          ],
          [
           0.125,
           "rgb(224,243,219)"
          ],
          [
           0.25,
           "rgb(204,235,197)"
          ],
          [
           0.375,
           "rgb(168,221,181)"
          ],
          [
           0.5,
           "rgb(123,204,196)"
          ],
          [
           0.625,
           "rgb(78,179,211)"
          ],
          [
           0.75,
           "rgb(43,140,190)"
          ],
          [
           0.875,
           "rgb(8,104,172)"
          ],
          [
           1,
           "rgb(8,64,129)"
          ]
         ]
        },
        "height": 800,
        "hoverlabel": {
         "bgcolor": "white",
         "font": {
          "family": "Rockwell",
          "size": 16
         }
        },
        "legend": {
         "title": {
          "text": "Trend"
         }
        },
        "margin": {
         "t": 60
        },
        "showlegend": true,
        "template": {
         "data": {
          "bar": [
           {
            "error_x": {
             "color": "#2a3f5f"
            },
            "error_y": {
             "color": "#2a3f5f"
            },
            "marker": {
             "line": {
              "color": "#E5ECF6",
              "width": 0.5
             },
             "pattern": {
              "fillmode": "overlay",
              "size": 10,
              "solidity": 0.2
             }
            },
            "type": "bar"
           }
          ],
          "barpolar": [
           {
            "marker": {
             "line": {
              "color": "#E5ECF6",
              "width": 0.5
             },
             "pattern": {
              "fillmode": "overlay",
              "size": 10,
              "solidity": 0.2
             }
            },
            "type": "barpolar"
           }
          ],
          "carpet": [
           {
            "aaxis": {
             "endlinecolor": "#2a3f5f",
             "gridcolor": "white",
             "linecolor": "white",
             "minorgridcolor": "white",
             "startlinecolor": "#2a3f5f"
            },
            "baxis": {
             "endlinecolor": "#2a3f5f",
             "gridcolor": "white",
             "linecolor": "white",
             "minorgridcolor": "white",
             "startlinecolor": "#2a3f5f"
            },
            "type": "carpet"
           }
          ],
          "choropleth": [
           {
            "colorbar": {
             "outlinewidth": 0,
             "ticks": ""
            },
            "type": "choropleth"
           }
          ],
          "contour": [
           {
            "colorbar": {
             "outlinewidth": 0,
             "ticks": ""
            },
            "colorscale": [
             [
              0,
              "#0d0887"
             ],
             [
              0.1111111111111111,
              "#46039f"
             ],
             [
              0.2222222222222222,
              "#7201a8"
             ],
             [
              0.3333333333333333,
              "#9c179e"
             ],
             [
              0.4444444444444444,
              "#bd3786"
             ],
             [
              0.5555555555555556,
              "#d8576b"
             ],
             [
              0.6666666666666666,
              "#ed7953"
             ],
             [
              0.7777777777777778,
              "#fb9f3a"
             ],
             [
              0.8888888888888888,
              "#fdca26"
             ],
             [
              1,
              "#f0f921"
             ]
            ],
            "type": "contour"
           }
          ],
          "contourcarpet": [
           {
            "colorbar": {
             "outlinewidth": 0,
             "ticks": ""
            },
            "type": "contourcarpet"
           }
          ],
          "heatmap": [
           {
            "colorbar": {
             "outlinewidth": 0,
             "ticks": ""
            },
            "colorscale": [
             [
              0,
              "#0d0887"
             ],
             [
              0.1111111111111111,
              "#46039f"
             ],
             [
              0.2222222222222222,
              "#7201a8"
             ],
             [
              0.3333333333333333,
              "#9c179e"
             ],
             [
              0.4444444444444444,
              "#bd3786"
             ],
             [
              0.5555555555555556,
              "#d8576b"
             ],
             [
              0.6666666666666666,
              "#ed7953"
             ],
             [
              0.7777777777777778,
              "#fb9f3a"
             ],
             [
              0.8888888888888888,
              "#fdca26"
             ],
             [
              1,
              "#f0f921"
             ]
            ],
            "type": "heatmap"
           }
          ],
          "histogram": [
           {
            "marker": {
             "pattern": {
              "fillmode": "overlay",
              "size": 10,
              "solidity": 0.2
             }
            },
            "type": "histogram"
           }
          ],
          "histogram2d": [
           {
            "colorbar": {
             "outlinewidth": 0,
             "ticks": ""
            },
            "colorscale": [
             [
              0,
              "#0d0887"
             ],
             [
              0.1111111111111111,
              "#46039f"
             ],
             [
              0.2222222222222222,
              "#7201a8"
             ],
             [
              0.3333333333333333,
              "#9c179e"
             ],
             [
              0.4444444444444444,
              "#bd3786"
             ],
             [
              0.5555555555555556,
              "#d8576b"
             ],
             [
              0.6666666666666666,
              "#ed7953"
             ],
             [
              0.7777777777777778,
              "#fb9f3a"
             ],
             [
              0.8888888888888888,
              "#fdca26"
             ],
             [
              1,
              "#f0f921"
             ]
            ],
            "type": "histogram2d"
           }
          ],
          "histogram2dcontour": [
           {
            "colorbar": {
             "outlinewidth": 0,
             "ticks": ""
            },
            "colorscale": [
             [
              0,
              "#0d0887"
             ],
             [
              0.1111111111111111,
              "#46039f"
             ],
             [
              0.2222222222222222,
              "#7201a8"
             ],
             [
              0.3333333333333333,
              "#9c179e"
             ],
             [
              0.4444444444444444,
              "#bd3786"
             ],
             [
              0.5555555555555556,
              "#d8576b"
             ],
             [
              0.6666666666666666,
              "#ed7953"
             ],
             [
              0.7777777777777778,
              "#fb9f3a"
             ],
             [
              0.8888888888888888,
              "#fdca26"
             ],
             [
              1,
              "#f0f921"
             ]
            ],
            "type": "histogram2dcontour"
           }
          ],
          "mesh3d": [
           {
            "colorbar": {
             "outlinewidth": 0,
             "ticks": ""
            },
            "type": "mesh3d"
           }
          ],
          "parcoords": [
           {
            "line": {
             "colorbar": {
              "outlinewidth": 0,
              "ticks": ""
             }
            },
            "type": "parcoords"
           }
          ],
          "pie": [
           {
            "automargin": true,
            "type": "pie"
           }
          ],
          "scatter": [
           {
            "fillpattern": {
             "fillmode": "overlay",
             "size": 10,
             "solidity": 0.2
            },
            "type": "scatter"
           }
          ],
          "scatter3d": [
           {
            "line": {
             "colorbar": {
              "outlinewidth": 0,
              "ticks": ""
             }
            },
            "marker": {
             "colorbar": {
              "outlinewidth": 0,
              "ticks": ""
             }
            },
            "type": "scatter3d"
           }
          ],
          "scattercarpet": [
           {
            "marker": {
             "colorbar": {
              "outlinewidth": 0,
              "ticks": ""
             }
            },
            "type": "scattercarpet"
           }
          ],
          "scattergeo": [
           {
            "marker": {
             "colorbar": {
              "outlinewidth": 0,
              "ticks": ""
             }
            },
            "type": "scattergeo"
           }
          ],
          "scattergl": [
           {
            "marker": {
             "colorbar": {
              "outlinewidth": 0,
              "ticks": ""
             }
            },
            "type": "scattergl"
           }
          ],
          "scattermap": [
           {
            "marker": {
             "colorbar": {
              "outlinewidth": 0,
              "ticks": ""
             }
            },
            "type": "scattermap"
           }
          ],
          "scattermapbox": [
           {
            "marker": {
             "colorbar": {
              "outlinewidth": 0,
              "ticks": ""
             }
            },
            "type": "scattermapbox"
           }
          ],
          "scatterpolar": [
           {
            "marker": {
             "colorbar": {
              "outlinewidth": 0,
              "ticks": ""
             }
            },
            "type": "scatterpolar"
           }
          ],
          "scatterpolargl": [
           {
            "marker": {
             "colorbar": {
              "outlinewidth": 0,
              "ticks": ""
             }
            },
            "type": "scatterpolargl"
           }
          ],
          "scatterternary": [
           {
            "marker": {
             "colorbar": {
              "outlinewidth": 0,
              "ticks": ""
             }
            },
            "type": "scatterternary"
           }
          ],
          "surface": [
           {
            "colorbar": {
             "outlinewidth": 0,
             "ticks": ""
            },
            "colorscale": [
             [
              0,
              "#0d0887"
             ],
             [
              0.1111111111111111,
              "#46039f"
             ],
             [
              0.2222222222222222,
              "#7201a8"
             ],
             [
              0.3333333333333333,
              "#9c179e"
             ],
             [
              0.4444444444444444,
              "#bd3786"
             ],
             [
              0.5555555555555556,
              "#d8576b"
             ],
             [
              0.6666666666666666,
              "#ed7953"
             ],
             [
              0.7777777777777778,
              "#fb9f3a"
             ],
             [
              0.8888888888888888,
              "#fdca26"
             ],
             [
              1,
              "#f0f921"
             ]
            ],
            "type": "surface"
           }
          ],
          "table": [
           {
            "cells": {
             "fill": {
              "color": "#EBF0F8"
             },
             "line": {
              "color": "white"
             }
            },
            "header": {
             "fill": {
              "color": "#C8D4E3"
             },
             "line": {
              "color": "white"
             }
            },
            "type": "table"
           }
          ]
         },
         "layout": {
          "annotationdefaults": {
           "arrowcolor": "#2a3f5f",
           "arrowhead": 0,
           "arrowwidth": 1
          },
          "autotypenumbers": "strict",
          "coloraxis": {
           "colorbar": {
            "outlinewidth": 0,
            "ticks": ""
           }
          },
          "colorscale": {
           "diverging": [
            [
             0,
             "#8e0152"
            ],
            [
             0.1,
             "#c51b7d"
            ],
            [
             0.2,
             "#de77ae"
            ],
            [
             0.3,
             "#f1b6da"
            ],
            [
             0.4,
             "#fde0ef"
            ],
            [
             0.5,
             "#f7f7f7"
            ],
            [
             0.6,
             "#e6f5d0"
            ],
            [
             0.7,
             "#b8e186"
            ],
            [
             0.8,
             "#7fbc41"
            ],
            [
             0.9,
             "#4d9221"
            ],
            [
             1,
             "#276419"
            ]
           ],
           "sequential": [
            [
             0,
             "#0d0887"
            ],
            [
             0.1111111111111111,
             "#46039f"
            ],
            [
             0.2222222222222222,
             "#7201a8"
            ],
            [
             0.3333333333333333,
             "#9c179e"
            ],
            [
             0.4444444444444444,
             "#bd3786"
            ],
            [
             0.5555555555555556,
             "#d8576b"
            ],
            [
             0.6666666666666666,
             "#ed7953"
            ],
            [
             0.7777777777777778,
             "#fb9f3a"
            ],
            [
             0.8888888888888888,
             "#fdca26"
            ],
            [
             1,
             "#f0f921"
            ]
           ],
           "sequentialminus": [
            [
             0,
             "#0d0887"
            ],
            [
             0.1111111111111111,
             "#46039f"
            ],
            [
             0.2222222222222222,
             "#7201a8"
            ],
            [
             0.3333333333333333,
             "#9c179e"
            ],
            [
             0.4444444444444444,
             "#bd3786"
            ],
            [
             0.5555555555555556,
             "#d8576b"
            ],
            [
             0.6666666666666666,
             "#ed7953"
            ],
            [
             0.7777777777777778,
             "#fb9f3a"
            ],
            [
             0.8888888888888888,
             "#fdca26"
            ],
            [
             1,
             "#f0f921"
            ]
           ]
          },
          "colorway": [
           "#636efa",
           "#EF553B",
           "#00cc96",
           "#ab63fa",
           "#FFA15A",
           "#19d3f3",
           "#FF6692",
           "#B6E880",
           "#FF97FF",
           "#FECB52"
          ],
          "font": {
           "color": "#2a3f5f"
          },
          "geo": {
           "bgcolor": "white",
           "lakecolor": "white",
           "landcolor": "#E5ECF6",
           "showlakes": true,
           "showland": true,
           "subunitcolor": "white"
          },
          "hoverlabel": {
           "align": "left"
          },
          "hovermode": "closest",
          "mapbox": {
           "style": "light"
          },
          "paper_bgcolor": "white",
          "plot_bgcolor": "#E5ECF6",
          "polar": {
           "angularaxis": {
            "gridcolor": "white",
            "linecolor": "white",
            "ticks": ""
           },
           "bgcolor": "#E5ECF6",
           "radialaxis": {
            "gridcolor": "white",
            "linecolor": "white",
            "ticks": ""
           }
          },
          "scene": {
           "xaxis": {
            "backgroundcolor": "#E5ECF6",
            "gridcolor": "white",
            "gridwidth": 2,
            "linecolor": "white",
            "showbackground": true,
            "ticks": "",
            "zerolinecolor": "white"
           },
           "yaxis": {
            "backgroundcolor": "#E5ECF6",
            "gridcolor": "white",
            "gridwidth": 2,
            "linecolor": "white",
            "showbackground": true,
            "ticks": "",
            "zerolinecolor": "white"
           },
           "zaxis": {
            "backgroundcolor": "#E5ECF6",
            "gridcolor": "white",
            "gridwidth": 2,
            "linecolor": "white",
            "showbackground": true,
            "ticks": "",
            "zerolinecolor": "white"
           }
          },
          "shapedefaults": {
           "line": {
            "color": "#2a3f5f"
           }
          },
          "ternary": {
           "aaxis": {
            "gridcolor": "white",
            "linecolor": "white",
            "ticks": ""
           },
           "baxis": {
            "gridcolor": "white",
            "linecolor": "white",
            "ticks": ""
           },
           "bgcolor": "#E5ECF6",
           "caxis": {
            "gridcolor": "white",
            "linecolor": "white",
            "ticks": ""
           }
          },
          "title": {
           "x": 0.05
          },
          "xaxis": {
           "automargin": true,
           "gridcolor": "white",
           "linecolor": "white",
           "ticks": "",
           "title": {
            "standoff": 15
           },
           "zerolinecolor": "white",
           "zerolinewidth": 2
          },
          "yaxis": {
           "automargin": true,
           "gridcolor": "white",
           "linecolor": "white",
           "ticks": "",
           "title": {
            "standoff": 15
           },
           "zerolinecolor": "white",
           "zerolinewidth": 2
          }
         }
        },
        "title": {
         "font": {
          "color": "Black",
          "size": 22
         },
         "text": "<b>Similarity Matrix</b>",
         "x": 0.55,
         "xanchor": "center",
         "y": 0.95,
         "yanchor": "top"
        },
        "width": 800,
        "xaxis": {
         "anchor": "y",
         "constrain": "domain",
         "domain": [
          0,
          1
         ],
         "scaleanchor": "y"
        },
        "yaxis": {
         "anchor": "x",
         "autorange": "reversed",
         "constrain": "domain",
         "domain": [
          0,
          1
         ]
        }
       }
      }
     },
     "metadata": {},
     "output_type": "display_data"
    }
   ],
   "source": [
    "# Topic summary table\n",
    "topic_info = topic_model_kmeans.get_topic_info()\n",
    "print(topic_info)\n",
    "\n",
    "# Interactive visualizations\n",
    "topic_model_kmeans.visualize_topics()\n",
    "topic_model_kmeans.visualize_barchart(top_n_topics=15)\n",
    "topic_model_kmeans.visualize_heatmap()\n"
   ]
  },
  {
   "cell_type": "code",
   "execution_count": null,
   "id": "f546c217",
   "metadata": {},
   "outputs": [
    {
     "data": {
      "text/html": [
       "<div>\n",
       "<style scoped>\n",
       "    .dataframe tbody tr th:only-of-type {\n",
       "        vertical-align: middle;\n",
       "    }\n",
       "\n",
       "    .dataframe tbody tr th {\n",
       "        vertical-align: top;\n",
       "    }\n",
       "\n",
       "    .dataframe thead th {\n",
       "        text-align: right;\n",
       "    }\n",
       "</style>\n",
       "<table border=\"1\" class=\"dataframe\">\n",
       "  <thead>\n",
       "    <tr style=\"text-align: right;\">\n",
       "      <th></th>\n",
       "      <th>Topic</th>\n",
       "      <th>Count</th>\n",
       "      <th>Name</th>\n",
       "      <th>Representation</th>\n",
       "      <th>Representative_Docs</th>\n",
       "    </tr>\n",
       "  </thead>\n",
       "  <tbody>\n",
       "    <tr>\n",
       "      <th>0</th>\n",
       "      <td>0</td>\n",
       "      <td>3525</td>\n",
       "      <td>0_01_dukung_pilih_amin</td>\n",
       "      <td>[01, dukung, pilih, amin, buzzer, coblos, kubu...</td>\n",
       "      <td>[lucu dukung 01, pas pilih amin 01, coblos 01 ...</td>\n",
       "    </tr>\n",
       "    <tr>\n",
       "      <th>1</th>\n",
       "      <td>1</td>\n",
       "      <td>3463</td>\n",
       "      <td>1_01_dukung_orang_pilih</td>\n",
       "      <td>[01, dukung, orang, pilih, pasang, calon, bang...</td>\n",
       "      <td>[wajib alas pilih pasang calon deh dukung pasa...</td>\n",
       "    </tr>\n",
       "    <tr>\n",
       "      <th>2</th>\n",
       "      <td>2</td>\n",
       "      <td>3304</td>\n",
       "      <td>2_01_dukung_pasang_pilih</td>\n",
       "      <td>[01, dukung, pasang, pilih, banget, buzzer, ca...</td>\n",
       "      <td>[dukung 01 banyak korban buzzer deh, komen duk...</td>\n",
       "    </tr>\n",
       "    <tr>\n",
       "      <th>3</th>\n",
       "      <td>3</td>\n",
       "      <td>2851</td>\n",
       "      <td>3_anies_baswedan_imin_cak</td>\n",
       "      <td>[anies, baswedan, imin, cak, rasyid, ayah, ami...</td>\n",
       "      <td>[anak sebut lengkap anies rasyid baswedan tema...</td>\n",
       "    </tr>\n",
       "    <tr>\n",
       "      <th>4</th>\n",
       "      <td>4</td>\n",
       "      <td>2314</td>\n",
       "      <td>4_presiden_anies_pilih_calon</td>\n",
       "      <td>[presiden, anies, pilih, calon, baswedan, waki...</td>\n",
       "      <td>[cak imin sebut santri calon presiden calon wa...</td>\n",
       "    </tr>\n",
       "  </tbody>\n",
       "</table>\n",
       "</div>"
      ],
      "text/plain": [
       "   Topic  Count                          Name  \\\n",
       "0      0   3525        0_01_dukung_pilih_amin   \n",
       "1      1   3463       1_01_dukung_orang_pilih   \n",
       "2      2   3304      2_01_dukung_pasang_pilih   \n",
       "3      3   2851     3_anies_baswedan_imin_cak   \n",
       "4      4   2314  4_presiden_anies_pilih_calon   \n",
       "\n",
       "                                      Representation  \\\n",
       "0  [01, dukung, pilih, amin, buzzer, coblos, kubu...   \n",
       "1  [01, dukung, orang, pilih, pasang, calon, bang...   \n",
       "2  [01, dukung, pasang, pilih, banget, buzzer, ca...   \n",
       "3  [anies, baswedan, imin, cak, rasyid, ayah, ami...   \n",
       "4  [presiden, anies, pilih, calon, baswedan, waki...   \n",
       "\n",
       "                                 Representative_Docs  \n",
       "0  [lucu dukung 01, pas pilih amin 01, coblos 01 ...  \n",
       "1  [wajib alas pilih pasang calon deh dukung pasa...  \n",
       "2  [dukung 01 banyak korban buzzer deh, komen duk...  \n",
       "3  [anak sebut lengkap anies rasyid baswedan tema...  \n",
       "4  [cak imin sebut santri calon presiden calon wa...  "
      ]
     },
     "metadata": {},
     "output_type": "display_data"
    }
   ],
   "source": [
    "topic_info = topic_model_kmeans.get_topic_info()\n",
    "display(topic_info.head())        "
   ]
  },
  {
   "cell_type": "code",
   "execution_count": null,
   "id": "465c7879",
   "metadata": {},
   "outputs": [
    {
     "name": "stdout",
     "output_type": "stream",
     "text": [
      "\n",
      "Topic 0\n",
      "[('01', np.float64(0.17999234753117513)), ('dukung', np.float64(0.05316047423135683)), ('pilih', np.float64(0.038002265207892454)), ('amin', np.float64(0.02456071220150472)), ('buzzer', np.float64(0.02219320211689753)), ('coblos', np.float64(0.02117551507583413)), ('kubu', np.float64(0.0188911609046937)), ('bang', np.float64(0.018724551401291385)), ('banget', np.float64(0.01695381068698922)), ('all', np.float64(0.015265770499369108))]\n",
      "\n",
      "Topic 1\n",
      "[('01', np.float64(0.06116502636690249)), ('dukung', np.float64(0.042540085387303604)), ('orang', np.float64(0.04154855264352592)), ('pilih', np.float64(0.03055361364644349)), ('pasang', np.float64(0.028660519732379448)), ('calon', np.float64(0.0212359306588387)), ('banget', np.float64(0.019680014415701514)), ('teman', np.float64(0.019485637074210575)), ('bilang', np.float64(0.01640976637701461)), ('anies', np.float64(0.014695961789340933))]\n",
      "\n",
      "Topic 2\n",
      "[('01', np.float64(0.1029656144038641)), ('dukung', np.float64(0.06065905724951994)), ('pasang', np.float64(0.030997799044969)), ('pilih', np.float64(0.0308155642371844)), ('banget', np.float64(0.026188286895223796)), ('buzzer', np.float64(0.025344387576558606)), ('calon', np.float64(0.023148990639579096)), ('bang', np.float64(0.020469848650140426)), ('ubah', np.float64(0.018441995859511996)), ('biar', np.float64(0.018132726366705848))]\n",
      "\n",
      "Topic 3\n",
      "[('anies', np.float64(0.08098097640368279)), ('baswedan', np.float64(0.05887167916822326)), ('imin', np.float64(0.046673623185873835)), ('cak', np.float64(0.04458408128267943)), ('rasyid', np.float64(0.04340948086454466)), ('ayah', np.float64(0.02997994558921272)), ('amin', np.float64(0.02718463002348775)), ('muhaimin', np.float64(0.020395405331085706)), ('anak', np.float64(0.01755569137671949)), ('pimpin', np.float64(0.017195067162174515))]\n",
      "\n",
      "Topic 4\n",
      "[('presiden', np.float64(0.10440987588953116)), ('anies', np.float64(0.06989519560246267)), ('pilih', np.float64(0.060262285887479256)), ('calon', np.float64(0.039297555951380785)), ('baswedan', np.float64(0.03709618003498818)), ('wakil', np.float64(0.02960860699860303)), ('imin', np.float64(0.029160701428629632)), ('politik', np.float64(0.028411842479608162)), ('cak', np.float64(0.02725481477557248)), ('partai', np.float64(0.026221386807207987))]\n",
      "\n",
      "Topic 5\n",
      "[('01', np.float64(0.05326713283283925)), ('kampanye', np.float64(0.039651199879839394)), ('dukung', np.float64(0.03400423009368923)), ('kerja', np.float64(0.0286383334921495)), ('orang', np.float64(0.025318954440260916)), ('pasang', np.float64(0.025189552508290153)), ('agama', np.float64(0.024954116296681168)), ('makan', np.float64(0.022864478982343443)), ('pilih', np.float64(0.022561890604359952)), ('calon', np.float64(0.02016714133709007))]\n",
      "\n",
      "Topic 6\n",
      "[('anies', np.float64(0.06848418315519776)), ('indonesia', np.float64(0.05362632358906224)), ('imin', np.float64(0.04493148132114328)), ('cak', np.float64(0.04464773424174751)), ('baswedan', np.float64(0.04034403275281866)), ('amin', np.float64(0.027666625725021647)), ('kampanye', np.float64(0.02674509537628984)), ('rasyid', np.float64(0.02461596552879419)), ('kayak', np.float64(0.01961478373005763)), ('adil', np.float64(0.01936301032526172))]\n",
      "\n",
      "Topic 7\n",
      "[('cak', np.float64(0.19357407421740805)), ('imin', np.float64(0.18691262185227375)), ('anies', np.float64(0.07165898494972285)), ('banget', np.float64(0.02825124632843225)), ('gibran', np.float64(0.017287786392053528)), ('lucu', np.float64(0.016382401285059706)), ('tertawa', np.float64(0.01585624480714211)), ('baswedan', np.float64(0.01530474716813301)), ('prabowo', np.float64(0.014197129922140278)), ('lihat', np.float64(0.013289019637313191))]\n",
      "\n",
      "Topic 8\n",
      "[('kayak', np.float64(0.08907074487739401)), ('suara', np.float64(0.07065341610193823)), ('01', np.float64(0.06229501250033408)), ('indonesia', np.float64(0.060954286703769005)), ('pintar', np.float64(0.051139224168379606)), ('dukung', np.float64(0.036040125663482844)), ('orang', np.float64(0.03124780714766784)), ('pilih', np.float64(0.029399573418426056)), ('mungut', np.float64(0.024207983844458176)), ('pasang', np.float64(0.0206211868385502))]\n",
      "\n",
      "Topic 9\n",
      "[('presiden', np.float64(0.1353196293101706)), ('calon', np.float64(0.1040291691705228)), ('wakil', np.float64(0.0525462309394331)), ('01', np.float64(0.05216284337654013)), ('pilih', np.float64(0.03693848205774296)), ('dukung', np.float64(0.027117329056022696)), ('legislatif', np.float64(0.020713025897080503)), ('anies', np.float64(0.018689877552547203)), ('pasang', np.float64(0.017949916252967296)), ('orang', np.float64(0.01612870793496447))]\n"
     ]
    }
   ],
   "source": [
    "for tid in topic_info['Topic'][:15]:   # first 10 topics\n",
    "    print(f\"\\nTopic {tid}\")\n",
    "    print(topic_model_kmeans.get_topic(tid)[:15])  # top-15 words\n"
   ]
  },
  {
   "cell_type": "code",
   "execution_count": null,
   "id": "40d16664",
   "metadata": {},
   "outputs": [
    {
     "data": {
      "application/vnd.plotly.v1+json": {
       "config": {
        "plotlyServerURL": "https://plot.ly"
       },
       "data": [
        {
         "customdata": [
          [
           0,
           "01 | dukung | pilih | amin | buzzer",
           3525
          ],
          [
           1,
           "01 | dukung | orang | pilih | pasang",
           3463
          ],
          [
           2,
           "01 | dukung | pasang | pilih | banget",
           3304
          ],
          [
           3,
           "anies | baswedan | imin | cak | rasyid",
           2851
          ],
          [
           4,
           "presiden | anies | pilih | calon | baswedan",
           2314
          ],
          [
           5,
           "01 | kampanye | dukung | kerja | orang",
           2271
          ],
          [
           6,
           "anies | indonesia | imin | cak | baswedan",
           2269
          ],
          [
           7,
           "cak | imin | anies | banget | gibran",
           2033
          ],
          [
           8,
           "kayak | suara | 01 | indonesia | pintar",
           1730
          ],
          [
           9,
           "presiden | calon | wakil | 01 | pilih",
           1416
          ],
          [
           10,
           "menang | 01 | survei | gara | amin",
           1286
          ],
          [
           11,
           "video | program | 01 | twitter | media",
           1056
          ],
          [
           12,
           "politik | demokrasi | partai | 01 | demokrat",
           871
          ],
          [
           13,
           "debat | calon | 01 | presiden | strategi",
           762
          ],
          [
           14,
           "debat | cak | imin | presiden | anies",
           710
          ]
         ],
         "hovertemplate": "<b>Topic %{customdata[0]}</b><br>%{customdata[1]}<br>Size: %{customdata[2]}",
         "legendgroup": "",
         "marker": {
          "color": "#B0BEC5",
          "line": {
           "color": "DarkSlateGrey",
           "width": 2
          },
          "size": {
           "bdata": "xQ2HDegMIwsKCd8I3QjxB8IGiAUGBSAEZwP6AsYC",
           "dtype": "i2"
          },
          "sizemode": "area",
          "sizeref": 2.203125,
          "symbol": "circle"
         },
         "mode": "markers",
         "name": "",
         "orientation": "v",
         "showlegend": false,
         "type": "scatter",
         "x": {
          "bdata": "byrcQTGuaEEEA9lBeiCIwNzcZsBk9mBBbkZ5wGPzkcDGcWxB35ZYQepj10E34VxBJDFVQX+2dEECpHhB",
          "dtype": "f4"
         },
         "xaxis": "x",
         "y": {
          "bdata": "F0x5QdroNEHUa3xBhPJZQXD4Y0FaVi1B04hfQXUTVUGVwjpBvp0mQWqQgEHAHTRBesgiQcNhG8E/Tx/B",
          "dtype": "f4"
         },
         "yaxis": "y"
        }
       ],
       "layout": {
        "annotations": [
         {
          "showarrow": false,
          "text": "D1",
          "x": -5.2451043128967285,
          "y": 3.5153589248657227,
          "yshift": 10
         },
         {
          "showarrow": false,
          "text": "D2",
          "x": 13.201861381530762,
          "xshift": 10,
          "y": 18.48109245300293
         }
        ],
        "height": 650,
        "hoverlabel": {
         "bgcolor": "white",
         "font": {
          "family": "Rockwell",
          "size": 16
         }
        },
        "legend": {
         "itemsizing": "constant",
         "tracegroupgap": 0
        },
        "margin": {
         "t": 60
        },
        "shapes": [
         {
          "line": {
           "color": "#CFD8DC",
           "width": 2
          },
          "type": "line",
          "x0": 13.201861381530762,
          "x1": 13.201861381530762,
          "y0": -11.450374603271484,
          "y1": 18.48109245300293
         },
         {
          "line": {
           "color": "#9E9E9E",
           "width": 2
          },
          "type": "line",
          "x0": -5.2451043128967285,
          "x1": 31.648826599121094,
          "y0": 3.5153589248657227,
          "y1": 3.5153589248657227
         }
        ],
        "sliders": [
         {
          "active": 0,
          "pad": {
           "t": 50
          },
          "steps": [
           {
            "args": [
             {
              "marker.color": [
               [
                "red",
                "#B0BEC5",
                "#B0BEC5",
                "#B0BEC5",
                "#B0BEC5",
                "#B0BEC5",
                "#B0BEC5",
                "#B0BEC5",
                "#B0BEC5",
                "#B0BEC5",
                "#B0BEC5",
                "#B0BEC5",
                "#B0BEC5",
                "#B0BEC5",
                "#B0BEC5"
               ]
              ]
             }
            ],
            "label": "Topic 0",
            "method": "update"
           },
           {
            "args": [
             {
              "marker.color": [
               [
                "#B0BEC5",
                "red",
                "#B0BEC5",
                "#B0BEC5",
                "#B0BEC5",
                "#B0BEC5",
                "#B0BEC5",
                "#B0BEC5",
                "#B0BEC5",
                "#B0BEC5",
                "#B0BEC5",
                "#B0BEC5",
                "#B0BEC5",
                "#B0BEC5",
                "#B0BEC5"
               ]
              ]
             }
            ],
            "label": "Topic 1",
            "method": "update"
           },
           {
            "args": [
             {
              "marker.color": [
               [
                "#B0BEC5",
                "#B0BEC5",
                "red",
                "#B0BEC5",
                "#B0BEC5",
                "#B0BEC5",
                "#B0BEC5",
                "#B0BEC5",
                "#B0BEC5",
                "#B0BEC5",
                "#B0BEC5",
                "#B0BEC5",
                "#B0BEC5",
                "#B0BEC5",
                "#B0BEC5"
               ]
              ]
             }
            ],
            "label": "Topic 2",
            "method": "update"
           },
           {
            "args": [
             {
              "marker.color": [
               [
                "#B0BEC5",
                "#B0BEC5",
                "#B0BEC5",
                "red",
                "#B0BEC5",
                "#B0BEC5",
                "#B0BEC5",
                "#B0BEC5",
                "#B0BEC5",
                "#B0BEC5",
                "#B0BEC5",
                "#B0BEC5",
                "#B0BEC5",
                "#B0BEC5",
                "#B0BEC5"
               ]
              ]
             }
            ],
            "label": "Topic 3",
            "method": "update"
           },
           {
            "args": [
             {
              "marker.color": [
               [
                "#B0BEC5",
                "#B0BEC5",
                "#B0BEC5",
                "#B0BEC5",
                "red",
                "#B0BEC5",
                "#B0BEC5",
                "#B0BEC5",
                "#B0BEC5",
                "#B0BEC5",
                "#B0BEC5",
                "#B0BEC5",
                "#B0BEC5",
                "#B0BEC5",
                "#B0BEC5"
               ]
              ]
             }
            ],
            "label": "Topic 4",
            "method": "update"
           },
           {
            "args": [
             {
              "marker.color": [
               [
                "#B0BEC5",
                "#B0BEC5",
                "#B0BEC5",
                "#B0BEC5",
                "#B0BEC5",
                "red",
                "#B0BEC5",
                "#B0BEC5",
                "#B0BEC5",
                "#B0BEC5",
                "#B0BEC5",
                "#B0BEC5",
                "#B0BEC5",
                "#B0BEC5",
                "#B0BEC5"
               ]
              ]
             }
            ],
            "label": "Topic 5",
            "method": "update"
           },
           {
            "args": [
             {
              "marker.color": [
               [
                "#B0BEC5",
                "#B0BEC5",
                "#B0BEC5",
                "#B0BEC5",
                "#B0BEC5",
                "#B0BEC5",
                "red",
                "#B0BEC5",
                "#B0BEC5",
                "#B0BEC5",
                "#B0BEC5",
                "#B0BEC5",
                "#B0BEC5",
                "#B0BEC5",
                "#B0BEC5"
               ]
              ]
             }
            ],
            "label": "Topic 6",
            "method": "update"
           },
           {
            "args": [
             {
              "marker.color": [
               [
                "#B0BEC5",
                "#B0BEC5",
                "#B0BEC5",
                "#B0BEC5",
                "#B0BEC5",
                "#B0BEC5",
                "#B0BEC5",
                "red",
                "#B0BEC5",
                "#B0BEC5",
                "#B0BEC5",
                "#B0BEC5",
                "#B0BEC5",
                "#B0BEC5",
                "#B0BEC5"
               ]
              ]
             }
            ],
            "label": "Topic 7",
            "method": "update"
           },
           {
            "args": [
             {
              "marker.color": [
               [
                "#B0BEC5",
                "#B0BEC5",
                "#B0BEC5",
                "#B0BEC5",
                "#B0BEC5",
                "#B0BEC5",
                "#B0BEC5",
                "#B0BEC5",
                "red",
                "#B0BEC5",
                "#B0BEC5",
                "#B0BEC5",
                "#B0BEC5",
                "#B0BEC5",
                "#B0BEC5"
               ]
              ]
             }
            ],
            "label": "Topic 8",
            "method": "update"
           },
           {
            "args": [
             {
              "marker.color": [
               [
                "#B0BEC5",
                "#B0BEC5",
                "#B0BEC5",
                "#B0BEC5",
                "#B0BEC5",
                "#B0BEC5",
                "#B0BEC5",
                "#B0BEC5",
                "#B0BEC5",
                "red",
                "#B0BEC5",
                "#B0BEC5",
                "#B0BEC5",
                "#B0BEC5",
                "#B0BEC5"
               ]
              ]
             }
            ],
            "label": "Topic 9",
            "method": "update"
           },
           {
            "args": [
             {
              "marker.color": [
               [
                "#B0BEC5",
                "#B0BEC5",
                "#B0BEC5",
                "#B0BEC5",
                "#B0BEC5",
                "#B0BEC5",
                "#B0BEC5",
                "#B0BEC5",
                "#B0BEC5",
                "#B0BEC5",
                "red",
                "#B0BEC5",
                "#B0BEC5",
                "#B0BEC5",
                "#B0BEC5"
               ]
              ]
             }
            ],
            "label": "Topic 10",
            "method": "update"
           },
           {
            "args": [
             {
              "marker.color": [
               [
                "#B0BEC5",
                "#B0BEC5",
                "#B0BEC5",
                "#B0BEC5",
                "#B0BEC5",
                "#B0BEC5",
                "#B0BEC5",
                "#B0BEC5",
                "#B0BEC5",
                "#B0BEC5",
                "#B0BEC5",
                "red",
                "#B0BEC5",
                "#B0BEC5",
                "#B0BEC5"
               ]
              ]
             }
            ],
            "label": "Topic 11",
            "method": "update"
           },
           {
            "args": [
             {
              "marker.color": [
               [
                "#B0BEC5",
                "#B0BEC5",
                "#B0BEC5",
                "#B0BEC5",
                "#B0BEC5",
                "#B0BEC5",
                "#B0BEC5",
                "#B0BEC5",
                "#B0BEC5",
                "#B0BEC5",
                "#B0BEC5",
                "#B0BEC5",
                "red",
                "#B0BEC5",
                "#B0BEC5"
               ]
              ]
             }
            ],
            "label": "Topic 12",
            "method": "update"
           },
           {
            "args": [
             {
              "marker.color": [
               [
                "#B0BEC5",
                "#B0BEC5",
                "#B0BEC5",
                "#B0BEC5",
                "#B0BEC5",
                "#B0BEC5",
                "#B0BEC5",
                "#B0BEC5",
                "#B0BEC5",
                "#B0BEC5",
                "#B0BEC5",
                "#B0BEC5",
                "#B0BEC5",
                "red",
                "#B0BEC5"
               ]
              ]
             }
            ],
            "label": "Topic 13",
            "method": "update"
           },
           {
            "args": [
             {
              "marker.color": [
               [
                "#B0BEC5",
                "#B0BEC5",
                "#B0BEC5",
                "#B0BEC5",
                "#B0BEC5",
                "#B0BEC5",
                "#B0BEC5",
                "#B0BEC5",
                "#B0BEC5",
                "#B0BEC5",
                "#B0BEC5",
                "#B0BEC5",
                "#B0BEC5",
                "#B0BEC5",
                "red"
               ]
              ]
             }
            ],
            "label": "Topic 14",
            "method": "update"
           }
          ]
         }
        ],
        "template": {
         "data": {
          "bar": [
           {
            "error_x": {
             "color": "rgb(36,36,36)"
            },
            "error_y": {
             "color": "rgb(36,36,36)"
            },
            "marker": {
             "line": {
              "color": "white",
              "width": 0.5
             },
             "pattern": {
              "fillmode": "overlay",
              "size": 10,
              "solidity": 0.2
             }
            },
            "type": "bar"
           }
          ],
          "barpolar": [
           {
            "marker": {
             "line": {
              "color": "white",
              "width": 0.5
             },
             "pattern": {
              "fillmode": "overlay",
              "size": 10,
              "solidity": 0.2
             }
            },
            "type": "barpolar"
           }
          ],
          "carpet": [
           {
            "aaxis": {
             "endlinecolor": "rgb(36,36,36)",
             "gridcolor": "white",
             "linecolor": "white",
             "minorgridcolor": "white",
             "startlinecolor": "rgb(36,36,36)"
            },
            "baxis": {
             "endlinecolor": "rgb(36,36,36)",
             "gridcolor": "white",
             "linecolor": "white",
             "minorgridcolor": "white",
             "startlinecolor": "rgb(36,36,36)"
            },
            "type": "carpet"
           }
          ],
          "choropleth": [
           {
            "colorbar": {
             "outlinewidth": 1,
             "tickcolor": "rgb(36,36,36)",
             "ticks": "outside"
            },
            "type": "choropleth"
           }
          ],
          "contour": [
           {
            "colorbar": {
             "outlinewidth": 1,
             "tickcolor": "rgb(36,36,36)",
             "ticks": "outside"
            },
            "colorscale": [
             [
              0,
              "#440154"
             ],
             [
              0.1111111111111111,
              "#482878"
             ],
             [
              0.2222222222222222,
              "#3e4989"
             ],
             [
              0.3333333333333333,
              "#31688e"
             ],
             [
              0.4444444444444444,
              "#26828e"
             ],
             [
              0.5555555555555556,
              "#1f9e89"
             ],
             [
              0.6666666666666666,
              "#35b779"
             ],
             [
              0.7777777777777778,
              "#6ece58"
             ],
             [
              0.8888888888888888,
              "#b5de2b"
             ],
             [
              1,
              "#fde725"
             ]
            ],
            "type": "contour"
           }
          ],
          "contourcarpet": [
           {
            "colorbar": {
             "outlinewidth": 1,
             "tickcolor": "rgb(36,36,36)",
             "ticks": "outside"
            },
            "type": "contourcarpet"
           }
          ],
          "heatmap": [
           {
            "colorbar": {
             "outlinewidth": 1,
             "tickcolor": "rgb(36,36,36)",
             "ticks": "outside"
            },
            "colorscale": [
             [
              0,
              "#440154"
             ],
             [
              0.1111111111111111,
              "#482878"
             ],
             [
              0.2222222222222222,
              "#3e4989"
             ],
             [
              0.3333333333333333,
              "#31688e"
             ],
             [
              0.4444444444444444,
              "#26828e"
             ],
             [
              0.5555555555555556,
              "#1f9e89"
             ],
             [
              0.6666666666666666,
              "#35b779"
             ],
             [
              0.7777777777777778,
              "#6ece58"
             ],
             [
              0.8888888888888888,
              "#b5de2b"
             ],
             [
              1,
              "#fde725"
             ]
            ],
            "type": "heatmap"
           }
          ],
          "histogram": [
           {
            "marker": {
             "line": {
              "color": "white",
              "width": 0.6
             }
            },
            "type": "histogram"
           }
          ],
          "histogram2d": [
           {
            "colorbar": {
             "outlinewidth": 1,
             "tickcolor": "rgb(36,36,36)",
             "ticks": "outside"
            },
            "colorscale": [
             [
              0,
              "#440154"
             ],
             [
              0.1111111111111111,
              "#482878"
             ],
             [
              0.2222222222222222,
              "#3e4989"
             ],
             [
              0.3333333333333333,
              "#31688e"
             ],
             [
              0.4444444444444444,
              "#26828e"
             ],
             [
              0.5555555555555556,
              "#1f9e89"
             ],
             [
              0.6666666666666666,
              "#35b779"
             ],
             [
              0.7777777777777778,
              "#6ece58"
             ],
             [
              0.8888888888888888,
              "#b5de2b"
             ],
             [
              1,
              "#fde725"
             ]
            ],
            "type": "histogram2d"
           }
          ],
          "histogram2dcontour": [
           {
            "colorbar": {
             "outlinewidth": 1,
             "tickcolor": "rgb(36,36,36)",
             "ticks": "outside"
            },
            "colorscale": [
             [
              0,
              "#440154"
             ],
             [
              0.1111111111111111,
              "#482878"
             ],
             [
              0.2222222222222222,
              "#3e4989"
             ],
             [
              0.3333333333333333,
              "#31688e"
             ],
             [
              0.4444444444444444,
              "#26828e"
             ],
             [
              0.5555555555555556,
              "#1f9e89"
             ],
             [
              0.6666666666666666,
              "#35b779"
             ],
             [
              0.7777777777777778,
              "#6ece58"
             ],
             [
              0.8888888888888888,
              "#b5de2b"
             ],
             [
              1,
              "#fde725"
             ]
            ],
            "type": "histogram2dcontour"
           }
          ],
          "mesh3d": [
           {
            "colorbar": {
             "outlinewidth": 1,
             "tickcolor": "rgb(36,36,36)",
             "ticks": "outside"
            },
            "type": "mesh3d"
           }
          ],
          "parcoords": [
           {
            "line": {
             "colorbar": {
              "outlinewidth": 1,
              "tickcolor": "rgb(36,36,36)",
              "ticks": "outside"
             }
            },
            "type": "parcoords"
           }
          ],
          "pie": [
           {
            "automargin": true,
            "type": "pie"
           }
          ],
          "scatter": [
           {
            "fillpattern": {
             "fillmode": "overlay",
             "size": 10,
             "solidity": 0.2
            },
            "type": "scatter"
           }
          ],
          "scatter3d": [
           {
            "line": {
             "colorbar": {
              "outlinewidth": 1,
              "tickcolor": "rgb(36,36,36)",
              "ticks": "outside"
             }
            },
            "marker": {
             "colorbar": {
              "outlinewidth": 1,
              "tickcolor": "rgb(36,36,36)",
              "ticks": "outside"
             }
            },
            "type": "scatter3d"
           }
          ],
          "scattercarpet": [
           {
            "marker": {
             "colorbar": {
              "outlinewidth": 1,
              "tickcolor": "rgb(36,36,36)",
              "ticks": "outside"
             }
            },
            "type": "scattercarpet"
           }
          ],
          "scattergeo": [
           {
            "marker": {
             "colorbar": {
              "outlinewidth": 1,
              "tickcolor": "rgb(36,36,36)",
              "ticks": "outside"
             }
            },
            "type": "scattergeo"
           }
          ],
          "scattergl": [
           {
            "marker": {
             "colorbar": {
              "outlinewidth": 1,
              "tickcolor": "rgb(36,36,36)",
              "ticks": "outside"
             }
            },
            "type": "scattergl"
           }
          ],
          "scattermap": [
           {
            "marker": {
             "colorbar": {
              "outlinewidth": 1,
              "tickcolor": "rgb(36,36,36)",
              "ticks": "outside"
             }
            },
            "type": "scattermap"
           }
          ],
          "scattermapbox": [
           {
            "marker": {
             "colorbar": {
              "outlinewidth": 1,
              "tickcolor": "rgb(36,36,36)",
              "ticks": "outside"
             }
            },
            "type": "scattermapbox"
           }
          ],
          "scatterpolar": [
           {
            "marker": {
             "colorbar": {
              "outlinewidth": 1,
              "tickcolor": "rgb(36,36,36)",
              "ticks": "outside"
             }
            },
            "type": "scatterpolar"
           }
          ],
          "scatterpolargl": [
           {
            "marker": {
             "colorbar": {
              "outlinewidth": 1,
              "tickcolor": "rgb(36,36,36)",
              "ticks": "outside"
             }
            },
            "type": "scatterpolargl"
           }
          ],
          "scatterternary": [
           {
            "marker": {
             "colorbar": {
              "outlinewidth": 1,
              "tickcolor": "rgb(36,36,36)",
              "ticks": "outside"
             }
            },
            "type": "scatterternary"
           }
          ],
          "surface": [
           {
            "colorbar": {
             "outlinewidth": 1,
             "tickcolor": "rgb(36,36,36)",
             "ticks": "outside"
            },
            "colorscale": [
             [
              0,
              "#440154"
             ],
             [
              0.1111111111111111,
              "#482878"
             ],
             [
              0.2222222222222222,
              "#3e4989"
             ],
             [
              0.3333333333333333,
              "#31688e"
             ],
             [
              0.4444444444444444,
              "#26828e"
             ],
             [
              0.5555555555555556,
              "#1f9e89"
             ],
             [
              0.6666666666666666,
              "#35b779"
             ],
             [
              0.7777777777777778,
              "#6ece58"
             ],
             [
              0.8888888888888888,
              "#b5de2b"
             ],
             [
              1,
              "#fde725"
             ]
            ],
            "type": "surface"
           }
          ],
          "table": [
           {
            "cells": {
             "fill": {
              "color": "rgb(237,237,237)"
             },
             "line": {
              "color": "white"
             }
            },
            "header": {
             "fill": {
              "color": "rgb(217,217,217)"
             },
             "line": {
              "color": "white"
             }
            },
            "type": "table"
           }
          ]
         },
         "layout": {
          "annotationdefaults": {
           "arrowhead": 0,
           "arrowwidth": 1
          },
          "autotypenumbers": "strict",
          "coloraxis": {
           "colorbar": {
            "outlinewidth": 1,
            "tickcolor": "rgb(36,36,36)",
            "ticks": "outside"
           }
          },
          "colorscale": {
           "diverging": [
            [
             0,
             "rgb(103,0,31)"
            ],
            [
             0.1,
             "rgb(178,24,43)"
            ],
            [
             0.2,
             "rgb(214,96,77)"
            ],
            [
             0.3,
             "rgb(244,165,130)"
            ],
            [
             0.4,
             "rgb(253,219,199)"
            ],
            [
             0.5,
             "rgb(247,247,247)"
            ],
            [
             0.6,
             "rgb(209,229,240)"
            ],
            [
             0.7,
             "rgb(146,197,222)"
            ],
            [
             0.8,
             "rgb(67,147,195)"
            ],
            [
             0.9,
             "rgb(33,102,172)"
            ],
            [
             1,
             "rgb(5,48,97)"
            ]
           ],
           "sequential": [
            [
             0,
             "#440154"
            ],
            [
             0.1111111111111111,
             "#482878"
            ],
            [
             0.2222222222222222,
             "#3e4989"
            ],
            [
             0.3333333333333333,
             "#31688e"
            ],
            [
             0.4444444444444444,
             "#26828e"
            ],
            [
             0.5555555555555556,
             "#1f9e89"
            ],
            [
             0.6666666666666666,
             "#35b779"
            ],
            [
             0.7777777777777778,
             "#6ece58"
            ],
            [
             0.8888888888888888,
             "#b5de2b"
            ],
            [
             1,
             "#fde725"
            ]
           ],
           "sequentialminus": [
            [
             0,
             "#440154"
            ],
            [
             0.1111111111111111,
             "#482878"
            ],
            [
             0.2222222222222222,
             "#3e4989"
            ],
            [
             0.3333333333333333,
             "#31688e"
            ],
            [
             0.4444444444444444,
             "#26828e"
            ],
            [
             0.5555555555555556,
             "#1f9e89"
            ],
            [
             0.6666666666666666,
             "#35b779"
            ],
            [
             0.7777777777777778,
             "#6ece58"
            ],
            [
             0.8888888888888888,
             "#b5de2b"
            ],
            [
             1,
             "#fde725"
            ]
           ]
          },
          "colorway": [
           "#1F77B4",
           "#FF7F0E",
           "#2CA02C",
           "#D62728",
           "#9467BD",
           "#8C564B",
           "#E377C2",
           "#7F7F7F",
           "#BCBD22",
           "#17BECF"
          ],
          "font": {
           "color": "rgb(36,36,36)"
          },
          "geo": {
           "bgcolor": "white",
           "lakecolor": "white",
           "landcolor": "white",
           "showlakes": true,
           "showland": true,
           "subunitcolor": "white"
          },
          "hoverlabel": {
           "align": "left"
          },
          "hovermode": "closest",
          "mapbox": {
           "style": "light"
          },
          "paper_bgcolor": "white",
          "plot_bgcolor": "white",
          "polar": {
           "angularaxis": {
            "gridcolor": "rgb(232,232,232)",
            "linecolor": "rgb(36,36,36)",
            "showgrid": false,
            "showline": true,
            "ticks": "outside"
           },
           "bgcolor": "white",
           "radialaxis": {
            "gridcolor": "rgb(232,232,232)",
            "linecolor": "rgb(36,36,36)",
            "showgrid": false,
            "showline": true,
            "ticks": "outside"
           }
          },
          "scene": {
           "xaxis": {
            "backgroundcolor": "white",
            "gridcolor": "rgb(232,232,232)",
            "gridwidth": 2,
            "linecolor": "rgb(36,36,36)",
            "showbackground": true,
            "showgrid": false,
            "showline": true,
            "ticks": "outside",
            "zeroline": false,
            "zerolinecolor": "rgb(36,36,36)"
           },
           "yaxis": {
            "backgroundcolor": "white",
            "gridcolor": "rgb(232,232,232)",
            "gridwidth": 2,
            "linecolor": "rgb(36,36,36)",
            "showbackground": true,
            "showgrid": false,
            "showline": true,
            "ticks": "outside",
            "zeroline": false,
            "zerolinecolor": "rgb(36,36,36)"
           },
           "zaxis": {
            "backgroundcolor": "white",
            "gridcolor": "rgb(232,232,232)",
            "gridwidth": 2,
            "linecolor": "rgb(36,36,36)",
            "showbackground": true,
            "showgrid": false,
            "showline": true,
            "ticks": "outside",
            "zeroline": false,
            "zerolinecolor": "rgb(36,36,36)"
           }
          },
          "shapedefaults": {
           "fillcolor": "black",
           "line": {
            "width": 0
           },
           "opacity": 0.3
          },
          "ternary": {
           "aaxis": {
            "gridcolor": "rgb(232,232,232)",
            "linecolor": "rgb(36,36,36)",
            "showgrid": false,
            "showline": true,
            "ticks": "outside"
           },
           "baxis": {
            "gridcolor": "rgb(232,232,232)",
            "linecolor": "rgb(36,36,36)",
            "showgrid": false,
            "showline": true,
            "ticks": "outside"
           },
           "bgcolor": "white",
           "caxis": {
            "gridcolor": "rgb(232,232,232)",
            "linecolor": "rgb(36,36,36)",
            "showgrid": false,
            "showline": true,
            "ticks": "outside"
           }
          },
          "title": {
           "x": 0.05
          },
          "xaxis": {
           "automargin": true,
           "gridcolor": "rgb(232,232,232)",
           "linecolor": "rgb(36,36,36)",
           "showgrid": false,
           "showline": true,
           "ticks": "outside",
           "title": {
            "standoff": 15
           },
           "zeroline": false,
           "zerolinecolor": "rgb(36,36,36)"
          },
          "yaxis": {
           "automargin": true,
           "gridcolor": "rgb(232,232,232)",
           "linecolor": "rgb(36,36,36)",
           "showgrid": false,
           "showline": true,
           "ticks": "outside",
           "title": {
            "standoff": 15
           },
           "zeroline": false,
           "zerolinecolor": "rgb(36,36,36)"
          }
         }
        },
        "title": {
         "font": {
          "color": "Black",
          "size": 22
         },
         "text": "<b>Intertopic Distance Map</b>",
         "x": 0.5,
         "xanchor": "center",
         "y": 0.95,
         "yanchor": "top"
        },
        "width": 650,
        "xaxis": {
         "anchor": "y",
         "domain": [
          0,
          1
         ],
         "range": [
          -5.2451043128967285,
          31.648826599121094
         ],
         "title": {
          "text": ""
         },
         "visible": false
        },
        "yaxis": {
         "anchor": "x",
         "domain": [
          0,
          1
         ],
         "range": [
          -11.450374603271484,
          18.48109245300293
         ],
         "title": {
          "text": ""
         },
         "visible": false
        }
       }
      }
     },
     "metadata": {},
     "output_type": "display_data"
    }
   ],
   "source": [
    "topic_model_kmeans.visualize_barchart(top_n_topics=15)\n",
    "topic_model_kmeans.visualize_topics()"
   ]
  },
  {
   "cell_type": "code",
   "execution_count": null,
   "id": "a95e4cb5",
   "metadata": {},
   "outputs": [],
   "source": [
    "# Save results to CSV\n",
    "df_topics = pd.DataFrame({\"Document\": docs, \"Topic\": topics_kmeans})\n",
    "df_topics.to_csv(\"topic_assignments_kmeans.csv\", index=False)\n",
    "\n",
    "# Save model\n",
    "# topic_model.save(\"bertopic_model_kmeans\")"
   ]
  },
  {
   "cell_type": "code",
   "execution_count": null,
   "id": "8f54d160",
   "metadata": {},
   "outputs": [],
   "source": [
    "topics_over_time_kmeans = topic_model_kmeans.topics_over_time(\n",
    "    docs=docs,\n",
    "    topics=topics_hdbscan,\n",
    "    timestamps=df['created_at'],\n",
    "    nr_bins=20,\n",
    "    evolution_tuning=True,\n",
    "    global_tuning=True\n",
    ")\n",
    "\n",
    "topic_model_hdbscan.visualize_topics_over_time(topics_over_time_kmeans, top_n_topics=10)"
   ]
  },
  {
   "cell_type": "code",
   "execution_count": null,
   "id": "f4d6a4bd",
   "metadata": {},
   "outputs": [
    {
     "name": "stdout",
     "output_type": "stream",
     "text": [
      "HDBSCAN Topics: 205\n",
      "KMeans Topics: 15\n",
      "HDBSCAN Outliers: 9996\n"
     ]
    }
   ],
   "source": [
    "print(\"HDBSCAN Topics:\", len(set(topics_hdbscan)) - (1 if -1 in topics_hdbscan else 0))\n",
    "print(\"KMeans Topics:\", len(set(topics_kmeans)))\n",
    "\n",
    "# Outlier analysis\n",
    "print(\"HDBSCAN Outliers:\", topics_hdbscan.count(-1))  # KMeans won't have outliers"
   ]
  },
  {
   "cell_type": "code",
   "execution_count": null,
   "id": "5838f40d",
   "metadata": {},
   "outputs": [
    {
     "data": {
      "text/html": [
       "<div>\n",
       "<style scoped>\n",
       "    .dataframe tbody tr th:only-of-type {\n",
       "        vertical-align: middle;\n",
       "    }\n",
       "\n",
       "    .dataframe tbody tr th {\n",
       "        vertical-align: top;\n",
       "    }\n",
       "\n",
       "    .dataframe thead th {\n",
       "        text-align: right;\n",
       "    }\n",
       "</style>\n",
       "<table border=\"1\" class=\"dataframe\">\n",
       "  <thead>\n",
       "    <tr style=\"text-align: right;\">\n",
       "      <th></th>\n",
       "      <th>HDBSCAN</th>\n",
       "      <th>KMeans</th>\n",
       "    </tr>\n",
       "  </thead>\n",
       "  <tbody>\n",
       "    <tr>\n",
       "      <th>-1</th>\n",
       "      <td>9996</td>\n",
       "      <td>0</td>\n",
       "    </tr>\n",
       "    <tr>\n",
       "      <th>0</th>\n",
       "      <td>941</td>\n",
       "      <td>3525</td>\n",
       "    </tr>\n",
       "    <tr>\n",
       "      <th>1</th>\n",
       "      <td>903</td>\n",
       "      <td>3463</td>\n",
       "    </tr>\n",
       "    <tr>\n",
       "      <th>2</th>\n",
       "      <td>792</td>\n",
       "      <td>3304</td>\n",
       "    </tr>\n",
       "    <tr>\n",
       "      <th>3</th>\n",
       "      <td>789</td>\n",
       "      <td>2851</td>\n",
       "    </tr>\n",
       "    <tr>\n",
       "      <th>...</th>\n",
       "      <td>...</td>\n",
       "      <td>...</td>\n",
       "    </tr>\n",
       "    <tr>\n",
       "      <th>200</th>\n",
       "      <td>16</td>\n",
       "      <td>0</td>\n",
       "    </tr>\n",
       "    <tr>\n",
       "      <th>201</th>\n",
       "      <td>16</td>\n",
       "      <td>0</td>\n",
       "    </tr>\n",
       "    <tr>\n",
       "      <th>202</th>\n",
       "      <td>15</td>\n",
       "      <td>0</td>\n",
       "    </tr>\n",
       "    <tr>\n",
       "      <th>203</th>\n",
       "      <td>15</td>\n",
       "      <td>0</td>\n",
       "    </tr>\n",
       "    <tr>\n",
       "      <th>204</th>\n",
       "      <td>15</td>\n",
       "      <td>0</td>\n",
       "    </tr>\n",
       "  </tbody>\n",
       "</table>\n",
       "<p>206 rows × 2 columns</p>\n",
       "</div>"
      ],
      "text/plain": [
       "      HDBSCAN  KMeans\n",
       "-1       9996       0\n",
       " 0        941    3525\n",
       " 1        903    3463\n",
       " 2        792    3304\n",
       " 3        789    2851\n",
       "...       ...     ...\n",
       " 200       16       0\n",
       " 201       16       0\n",
       " 202       15       0\n",
       " 203       15       0\n",
       " 204       15       0\n",
       "\n",
       "[206 rows x 2 columns]"
      ]
     },
     "execution_count": 71,
     "metadata": {},
     "output_type": "execute_result"
    }
   ],
   "source": [
    "import pandas as pd\n",
    "from collections import Counter\n",
    "\n",
    "# Count documents per topic\n",
    "hdbscan_counts = Counter(topics_hdbscan)\n",
    "kmeans_counts = Counter(topics_kmeans)\n",
    "\n",
    "# Create DataFrame to compare\n",
    "comparison_df = pd.DataFrame({\n",
    "    \"HDBSCAN\": pd.Series(hdbscan_counts),\n",
    "    \"KMeans\": pd.Series(kmeans_counts)\n",
    "}).fillna(0).astype(int)\n",
    "\n",
    "comparison_df.sort_index()\n"
   ]
  }
 ],
 "metadata": {
  "kernelspec": {
   "display_name": "env",
   "language": "python",
   "name": "python3"
  },
  "language_info": {
   "codemirror_mode": {
    "name": "ipython",
    "version": 3
   },
   "file_extension": ".py",
   "mimetype": "text/x-python",
   "name": "python",
   "nbconvert_exporter": "python",
   "pygments_lexer": "ipython3",
   "version": "3.12.3"
  }
 },
 "nbformat": 4,
 "nbformat_minor": 5
}
