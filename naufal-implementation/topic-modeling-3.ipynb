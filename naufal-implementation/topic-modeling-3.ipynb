{
 "cells": [
  {
   "cell_type": "code",
   "execution_count": 1,
   "id": "be9df678",
   "metadata": {},
   "outputs": [
    {
     "name": "stderr",
     "output_type": "stream",
     "text": [
      "f:\\UI\\Semester 8\\Tugas Akhir\\topic-modelling\\env\\Lib\\site-packages\\tqdm\\auto.py:21: TqdmWarning: IProgress not found. Please update jupyter and ipywidgets. See https://ipywidgets.readthedocs.io/en/stable/user_install.html\n",
      "  from .autonotebook import tqdm as notebook_tqdm\n"
     ]
    }
   ],
   "source": [
    "from bertopic import BERTopic\n",
    "from sentence_transformers import SentenceTransformer\n",
    "from umap import UMAP\n",
    "import hdbscan\n",
    "from sklearn.decomposition import PCA\n",
    "import pandas as pd\n",
    "import matplotlib.pyplot as plt\n",
    "import seaborn as sns\n",
    "import torch"
   ]
  },
  {
   "cell_type": "code",
   "execution_count": 2,
   "id": "5011ae30",
   "metadata": {},
   "outputs": [
    {
     "name": "stdout",
     "output_type": "stream",
     "text": [
      "GPU available: False\n"
     ]
    }
   ],
   "source": [
    "print(\"GPU available:\", torch.cuda.is_available())"
   ]
  },
  {
   "cell_type": "code",
   "execution_count": 3,
   "id": "e786257c",
   "metadata": {},
   "outputs": [
    {
     "name": "stdout",
     "output_type": "stream",
     "text": [
      "Index(['created_at', 'id_str', 'full_text', 'lang', 'location'], dtype='object')\n"
     ]
    }
   ],
   "source": [
    "df = pd.read_csv(\"../data/stemmed_merged_kubu_03.csv\") \n",
    "print(df.columns)"
   ]
  },
  {
   "cell_type": "code",
   "execution_count": 4,
   "id": "182f365b",
   "metadata": {},
   "outputs": [],
   "source": [
    "df['full_text'] = df['full_text'].str.replace(r'(wk)+|\\bsih\\b|\\bya\\b', '', regex=True)"
   ]
  },
  {
   "cell_type": "code",
   "execution_count": 5,
   "id": "5f6c4214",
   "metadata": {},
   "outputs": [],
   "source": [
    "docs = df['full_text'].dropna().astype(str).tolist()"
   ]
  },
  {
   "cell_type": "code",
   "execution_count": 6,
   "id": "46e82f87",
   "metadata": {},
   "outputs": [
    {
     "data": {
      "text/plain": [
       "SentenceTransformer(\n",
       "  (0): Transformer({'max_seq_length': 128, 'do_lower_case': False}) with Transformer model: DistilBertModel \n",
       "  (1): Pooling({'word_embedding_dimension': 768, 'pooling_mode_cls_token': False, 'pooling_mode_mean_tokens': True, 'pooling_mode_max_tokens': False, 'pooling_mode_mean_sqrt_len_tokens': False, 'pooling_mode_weightedmean_tokens': False, 'pooling_mode_lasttoken': False, 'include_prompt': True})\n",
       "  (2): Dense({'in_features': 768, 'out_features': 512, 'bias': True, 'activation_function': 'torch.nn.modules.activation.Tanh'})\n",
       ")"
      ]
     },
     "execution_count": 6,
     "metadata": {},
     "output_type": "execute_result"
    }
   ],
   "source": [
    "embedding_model = SentenceTransformer(\"distiluse-base-multilingual-cased-v1\")\n",
    "embedding_model.to('cuda' if torch.cuda.is_available() else 'cpu')"
   ]
  },
  {
   "cell_type": "code",
   "execution_count": 7,
   "id": "ba63fd42",
   "metadata": {},
   "outputs": [],
   "source": [
    "pca_model = PCA(n_components=25)\n",
    "umap_model = UMAP(n_neighbors=15, n_components=5, min_dist=0.0, metric='cosine')\n",
    "\n",
    "hdbscan_model = hdbscan.HDBSCAN(\n",
    "    min_cluster_size=15,\n",
    "    metric='euclidean',\n",
    "    cluster_selection_method='eom',\n",
    "    prediction_data=True,\n",
    ")\n"
   ]
  },
  {
   "cell_type": "code",
   "execution_count": 8,
   "id": "19bd1c28",
   "metadata": {},
   "outputs": [
    {
     "name": "stderr",
     "output_type": "stream",
     "text": [
      "2025-05-21 23:29:54,689 - BERTopic - Embedding - Transforming documents to embeddings.\n"
     ]
    },
    {
     "name": "stderr",
     "output_type": "stream",
     "text": [
      "Batches: 100%|██████████| 1183/1183 [06:23<00:00,  3.08it/s]\n",
      "2025-05-21 23:36:18,999 - BERTopic - Embedding - Completed ✓\n",
      "2025-05-21 23:36:19,000 - BERTopic - Dimensionality - Fitting the dimensionality reduction algorithm\n",
      "2025-05-21 23:36:48,969 - BERTopic - Dimensionality - Completed ✓\n",
      "2025-05-21 23:36:48,971 - BERTopic - Cluster - Start clustering the reduced embeddings\n",
      "2025-05-21 23:40:15,273 - BERTopic - Cluster - Completed ✓\n",
      "2025-05-21 23:40:15,286 - BERTopic - Representation - Fine-tuning topics using representation models.\n",
      "2025-05-21 23:40:15,885 - BERTopic - Representation - Completed ✓\n",
      "2025-05-21 23:40:16,913 - BERTopic - Topic reduction - Reducing number of topics\n",
      "2025-05-21 23:40:16,952 - BERTopic - Representation - Fine-tuning topics using representation models.\n",
      "2025-05-21 23:40:17,229 - BERTopic - Representation - Completed ✓\n",
      "2025-05-21 23:40:17,229 - BERTopic - Topic reduction - Reduced number of topics from 279 to 15\n"
     ]
    },
    {
     "data": {
      "text/plain": [
       "<bertopic._bertopic.BERTopic at 0x2305a30be00>"
      ]
     },
     "execution_count": 8,
     "metadata": {},
     "output_type": "execute_result"
    }
   ],
   "source": [
    "topic_model_hdbscan = BERTopic(\n",
    "    embedding_model=embedding_model,\n",
    "    umap_model=umap_model,\n",
    "    hdbscan_model=hdbscan_model,\n",
    "    calculate_probabilities=True,\n",
    "    verbose=True\n",
    ")\n",
    "\n",
    "topics_hdbscan, probs = topic_model_hdbscan.fit_transform(docs)\n",
    "\n",
    "topic_model_hdbscan.reduce_topics(docs, nr_topics=15)\n"
   ]
  },
  {
   "cell_type": "code",
   "execution_count": 9,
   "id": "76212730",
   "metadata": {},
   "outputs": [
    {
     "name": "stdout",
     "output_type": "stream",
     "text": [
      "    Topic  Count                                      Name  \\\n",
      "0      -1  10771                -1_ganjar_03_mahfud_dukung   \n",
      "1       0  15368          0_ganjar_mahfud_dukung_indonesia   \n",
      "2       1   4600                   1_03_calon_kayak_pasang   \n",
      "3       2   3452            2_presiden_program_calon_pilih   \n",
      "4       3   1605          3_demokrasi_partai_juang_politik   \n",
      "5       4    720             4_debat_calon_presiden_kritik   \n",
      "6       5    339           5_ekonomi_mahfud_digital_tumbuh   \n",
      "7       6    234                 6_porno_video_tonton_suka   \n",
      "8       7    168       7_strategi_strategis_terobos_ganjar   \n",
      "9       8    162                8_berita_media_sosial_baca   \n",
      "10      9    148                9_mikro_tengah_usaha_lokal   \n",
      "11     10     94  10_infrastruktur_reformasi_bangun_mahfud   \n",
      "12     11     81            11_kartu_duduk_tanda_elektonik   \n",
      "13     12     48              12_produk_lokal_keren_ganjar   \n",
      "14     13     45                 13_data_omon_fakta_bantah   \n",
      "\n",
      "                                       Representation  \\\n",
      "0   [ganjar, 03, mahfud, dukung, rakyat, pilih, pi...   \n",
      "1   [ganjar, mahfud, dukung, indonesia, rakyat, pi...   \n",
      "2   [03, calon, kayak, pasang, menang, presiden, p...   \n",
      "3   [presiden, program, calon, pilih, ganjar, grat...   \n",
      "4   [demokrasi, partai, juang, politik, indonesia,...   \n",
      "5   [debat, calon, presiden, kritik, wakil, 03, ma...   \n",
      "6   [ekonomi, mahfud, digital, tumbuh, set, sat, j...   \n",
      "7   [porno, video, tonton, suka, film, ganjar, vir...   \n",
      "8   [strategi, strategis, terobos, ganjar, langkah...   \n",
      "9   [berita, media, sosial, baca, ganjar, news, 03...   \n",
      "10  [mikro, tengah, usaha, lokal, ganjar, laku, pr...   \n",
      "11  [infrastruktur, reformasi, bangun, mahfud, jua...   \n",
      "12  [kartu, duduk, tanda, elektonik, korupsi, liba...   \n",
      "13  [produk, lokal, keren, ganjar, cinta, indonesi...   \n",
      "14  [data, omon, fakta, bantah, 03, serang, ulang,...   \n",
      "\n",
      "                                  Representative_Docs  \n",
      "0   [ganjar mahfud pimpin peduli rakyat beliau but...  \n",
      "1   [ganjar semangat bangun indonesia ganjar prano...  \n",
      "2   [lihat masyarakat kampanye putar pasang calon ...  \n",
      "3   [ganjar dukung mantap ganjar mahfud pilih pres...  \n",
      "4   [keluarga jokowi tinggal partai demokrasi indo...  \n",
      "5   [bahas ganjar debat calon presiden ganjar, deb...  \n",
      "6   [calon presiden indonesia ganjar pranowo komit...  \n",
      "7   [nikmat film porno dukung ganjar porno satu ba...  \n",
      "8   [strategi ganjar kalah kayak, ganjar salah ter...  \n",
      "9   [haha norak tum salah kubu 03 salah media medi...  \n",
      "10  [ganjar semangat ganjar maju usaha mikro tenga...  \n",
      "11  [ganjar mahfud mari bangun infrastruktur moder...  \n",
      "12  [novel baswedan sidik utama e kartu tanda dudu...  \n",
      "13  [ganjar ganjar cinta produk lokal, ganjar ganj...  \n",
      "14  [ulang 3kali data 31ribu coblos pasang calon n...  \n"
     ]
    },
    {
     "data": {
      "application/vnd.plotly.v1+json": {
       "config": {
        "plotlyServerURL": "https://plot.ly"
       },
       "data": [
        {
         "coloraxis": "coloraxis",
         "hovertemplate": "x: %{x}<br>y: %{y}<br>Similarity Score: %{z}<extra></extra>",
         "name": "0",
         "type": "heatmap",
         "x": [
          "0_ganjar_mahfud_dukung",
          "1_03_calon_kayak",
          "2_presiden_program_calon",
          "3_demokrasi_partai_juang",
          "4_debat_calon_presiden",
          "5_ekonomi_mahfud_digital",
          "6_porno_video_tonton",
          "7_strategi_strategis_terobos",
          "8_berita_media_sosial",
          "9_mikro_tengah_usaha",
          "10_infrastruktur_reformasi_...",
          "11_kartu_duduk_tanda",
          "12_produk_lokal_keren",
          "13_data_omon_fakta"
         ],
         "xaxis": "x",
         "y": [
          "0_ganjar_mahfud_dukung",
          "1_03_calon_kayak",
          "2_presiden_program_calon",
          "3_demokrasi_partai_juang",
          "4_debat_calon_presiden",
          "5_ekonomi_mahfud_digital",
          "6_porno_video_tonton",
          "7_strategi_strategis_terobos",
          "8_berita_media_sosial",
          "9_mikro_tengah_usaha",
          "10_infrastruktur_reformasi_...",
          "11_kartu_duduk_tanda",
          "12_produk_lokal_keren",
          "13_data_omon_fakta"
         ],
         "yaxis": "y",
         "z": {
          "bdata": "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",
          "dtype": "f8",
          "shape": "14, 14"
         }
        }
       ],
       "layout": {
        "coloraxis": {
         "colorbar": {
          "title": {
           "text": "Similarity Score"
          }
         },
         "colorscale": [
          [
           0,
           "rgb(247,252,240)"
          ],
          [
           0.125,
           "rgb(224,243,219)"
          ],
          [
           0.25,
           "rgb(204,235,197)"
          ],
          [
           0.375,
           "rgb(168,221,181)"
          ],
          [
           0.5,
           "rgb(123,204,196)"
          ],
          [
           0.625,
           "rgb(78,179,211)"
          ],
          [
           0.75,
           "rgb(43,140,190)"
          ],
          [
           0.875,
           "rgb(8,104,172)"
          ],
          [
           1,
           "rgb(8,64,129)"
          ]
         ]
        },
        "height": 800,
        "hoverlabel": {
         "bgcolor": "white",
         "font": {
          "family": "Rockwell",
          "size": 16
         }
        },
        "legend": {
         "title": {
          "text": "Trend"
         }
        },
        "margin": {
         "t": 60
        },
        "showlegend": true,
        "template": {
         "data": {
          "bar": [
           {
            "error_x": {
             "color": "#2a3f5f"
            },
            "error_y": {
             "color": "#2a3f5f"
            },
            "marker": {
             "line": {
              "color": "#E5ECF6",
              "width": 0.5
             },
             "pattern": {
              "fillmode": "overlay",
              "size": 10,
              "solidity": 0.2
             }
            },
            "type": "bar"
           }
          ],
          "barpolar": [
           {
            "marker": {
             "line": {
              "color": "#E5ECF6",
              "width": 0.5
             },
             "pattern": {
              "fillmode": "overlay",
              "size": 10,
              "solidity": 0.2
             }
            },
            "type": "barpolar"
           }
          ],
          "carpet": [
           {
            "aaxis": {
             "endlinecolor": "#2a3f5f",
             "gridcolor": "white",
             "linecolor": "white",
             "minorgridcolor": "white",
             "startlinecolor": "#2a3f5f"
            },
            "baxis": {
             "endlinecolor": "#2a3f5f",
             "gridcolor": "white",
             "linecolor": "white",
             "minorgridcolor": "white",
             "startlinecolor": "#2a3f5f"
            },
            "type": "carpet"
           }
          ],
          "choropleth": [
           {
            "colorbar": {
             "outlinewidth": 0,
             "ticks": ""
            },
            "type": "choropleth"
           }
          ],
          "contour": [
           {
            "colorbar": {
             "outlinewidth": 0,
             "ticks": ""
            },
            "colorscale": [
             [
              0,
              "#0d0887"
             ],
             [
              0.1111111111111111,
              "#46039f"
             ],
             [
              0.2222222222222222,
              "#7201a8"
             ],
             [
              0.3333333333333333,
              "#9c179e"
             ],
             [
              0.4444444444444444,
              "#bd3786"
             ],
             [
              0.5555555555555556,
              "#d8576b"
             ],
             [
              0.6666666666666666,
              "#ed7953"
             ],
             [
              0.7777777777777778,
              "#fb9f3a"
             ],
             [
              0.8888888888888888,
              "#fdca26"
             ],
             [
              1,
              "#f0f921"
             ]
            ],
            "type": "contour"
           }
          ],
          "contourcarpet": [
           {
            "colorbar": {
             "outlinewidth": 0,
             "ticks": ""
            },
            "type": "contourcarpet"
           }
          ],
          "heatmap": [
           {
            "colorbar": {
             "outlinewidth": 0,
             "ticks": ""
            },
            "colorscale": [
             [
              0,
              "#0d0887"
             ],
             [
              0.1111111111111111,
              "#46039f"
             ],
             [
              0.2222222222222222,
              "#7201a8"
             ],
             [
              0.3333333333333333,
              "#9c179e"
             ],
             [
              0.4444444444444444,
              "#bd3786"
             ],
             [
              0.5555555555555556,
              "#d8576b"
             ],
             [
              0.6666666666666666,
              "#ed7953"
             ],
             [
              0.7777777777777778,
              "#fb9f3a"
             ],
             [
              0.8888888888888888,
              "#fdca26"
             ],
             [
              1,
              "#f0f921"
             ]
            ],
            "type": "heatmap"
           }
          ],
          "histogram": [
           {
            "marker": {
             "pattern": {
              "fillmode": "overlay",
              "size": 10,
              "solidity": 0.2
             }
            },
            "type": "histogram"
           }
          ],
          "histogram2d": [
           {
            "colorbar": {
             "outlinewidth": 0,
             "ticks": ""
            },
            "colorscale": [
             [
              0,
              "#0d0887"
             ],
             [
              0.1111111111111111,
              "#46039f"
             ],
             [
              0.2222222222222222,
              "#7201a8"
             ],
             [
              0.3333333333333333,
              "#9c179e"
             ],
             [
              0.4444444444444444,
              "#bd3786"
             ],
             [
              0.5555555555555556,
              "#d8576b"
             ],
             [
              0.6666666666666666,
              "#ed7953"
             ],
             [
              0.7777777777777778,
              "#fb9f3a"
             ],
             [
              0.8888888888888888,
              "#fdca26"
             ],
             [
              1,
              "#f0f921"
             ]
            ],
            "type": "histogram2d"
           }
          ],
          "histogram2dcontour": [
           {
            "colorbar": {
             "outlinewidth": 0,
             "ticks": ""
            },
            "colorscale": [
             [
              0,
              "#0d0887"
             ],
             [
              0.1111111111111111,
              "#46039f"
             ],
             [
              0.2222222222222222,
              "#7201a8"
             ],
             [
              0.3333333333333333,
              "#9c179e"
             ],
             [
              0.4444444444444444,
              "#bd3786"
             ],
             [
              0.5555555555555556,
              "#d8576b"
             ],
             [
              0.6666666666666666,
              "#ed7953"
             ],
             [
              0.7777777777777778,
              "#fb9f3a"
             ],
             [
              0.8888888888888888,
              "#fdca26"
             ],
             [
              1,
              "#f0f921"
             ]
            ],
            "type": "histogram2dcontour"
           }
          ],
          "mesh3d": [
           {
            "colorbar": {
             "outlinewidth": 0,
             "ticks": ""
            },
            "type": "mesh3d"
           }
          ],
          "parcoords": [
           {
            "line": {
             "colorbar": {
              "outlinewidth": 0,
              "ticks": ""
             }
            },
            "type": "parcoords"
           }
          ],
          "pie": [
           {
            "automargin": true,
            "type": "pie"
           }
          ],
          "scatter": [
           {
            "fillpattern": {
             "fillmode": "overlay",
             "size": 10,
             "solidity": 0.2
            },
            "type": "scatter"
           }
          ],
          "scatter3d": [
           {
            "line": {
             "colorbar": {
              "outlinewidth": 0,
              "ticks": ""
             }
            },
            "marker": {
             "colorbar": {
              "outlinewidth": 0,
              "ticks": ""
             }
            },
            "type": "scatter3d"
           }
          ],
          "scattercarpet": [
           {
            "marker": {
             "colorbar": {
              "outlinewidth": 0,
              "ticks": ""
             }
            },
            "type": "scattercarpet"
           }
          ],
          "scattergeo": [
           {
            "marker": {
             "colorbar": {
              "outlinewidth": 0,
              "ticks": ""
             }
            },
            "type": "scattergeo"
           }
          ],
          "scattergl": [
           {
            "marker": {
             "colorbar": {
              "outlinewidth": 0,
              "ticks": ""
             }
            },
            "type": "scattergl"
           }
          ],
          "scattermap": [
           {
            "marker": {
             "colorbar": {
              "outlinewidth": 0,
              "ticks": ""
             }
            },
            "type": "scattermap"
           }
          ],
          "scattermapbox": [
           {
            "marker": {
             "colorbar": {
              "outlinewidth": 0,
              "ticks": ""
             }
            },
            "type": "scattermapbox"
           }
          ],
          "scatterpolar": [
           {
            "marker": {
             "colorbar": {
              "outlinewidth": 0,
              "ticks": ""
             }
            },
            "type": "scatterpolar"
           }
          ],
          "scatterpolargl": [
           {
            "marker": {
             "colorbar": {
              "outlinewidth": 0,
              "ticks": ""
             }
            },
            "type": "scatterpolargl"
           }
          ],
          "scatterternary": [
           {
            "marker": {
             "colorbar": {
              "outlinewidth": 0,
              "ticks": ""
             }
            },
            "type": "scatterternary"
           }
          ],
          "surface": [
           {
            "colorbar": {
             "outlinewidth": 0,
             "ticks": ""
            },
            "colorscale": [
             [
              0,
              "#0d0887"
             ],
             [
              0.1111111111111111,
              "#46039f"
             ],
             [
              0.2222222222222222,
              "#7201a8"
             ],
             [
              0.3333333333333333,
              "#9c179e"
             ],
             [
              0.4444444444444444,
              "#bd3786"
             ],
             [
              0.5555555555555556,
              "#d8576b"
             ],
             [
              0.6666666666666666,
              "#ed7953"
             ],
             [
              0.7777777777777778,
              "#fb9f3a"
             ],
             [
              0.8888888888888888,
              "#fdca26"
             ],
             [
              1,
              "#f0f921"
             ]
            ],
            "type": "surface"
           }
          ],
          "table": [
           {
            "cells": {
             "fill": {
              "color": "#EBF0F8"
             },
             "line": {
              "color": "white"
             }
            },
            "header": {
             "fill": {
              "color": "#C8D4E3"
             },
             "line": {
              "color": "white"
             }
            },
            "type": "table"
           }
          ]
         },
         "layout": {
          "annotationdefaults": {
           "arrowcolor": "#2a3f5f",
           "arrowhead": 0,
           "arrowwidth": 1
          },
          "autotypenumbers": "strict",
          "coloraxis": {
           "colorbar": {
            "outlinewidth": 0,
            "ticks": ""
           }
          },
          "colorscale": {
           "diverging": [
            [
             0,
             "#8e0152"
            ],
            [
             0.1,
             "#c51b7d"
            ],
            [
             0.2,
             "#de77ae"
            ],
            [
             0.3,
             "#f1b6da"
            ],
            [
             0.4,
             "#fde0ef"
            ],
            [
             0.5,
             "#f7f7f7"
            ],
            [
             0.6,
             "#e6f5d0"
            ],
            [
             0.7,
             "#b8e186"
            ],
            [
             0.8,
             "#7fbc41"
            ],
            [
             0.9,
             "#4d9221"
            ],
            [
             1,
             "#276419"
            ]
           ],
           "sequential": [
            [
             0,
             "#0d0887"
            ],
            [
             0.1111111111111111,
             "#46039f"
            ],
            [
             0.2222222222222222,
             "#7201a8"
            ],
            [
             0.3333333333333333,
             "#9c179e"
            ],
            [
             0.4444444444444444,
             "#bd3786"
            ],
            [
             0.5555555555555556,
             "#d8576b"
            ],
            [
             0.6666666666666666,
             "#ed7953"
            ],
            [
             0.7777777777777778,
             "#fb9f3a"
            ],
            [
             0.8888888888888888,
             "#fdca26"
            ],
            [
             1,
             "#f0f921"
            ]
           ],
           "sequentialminus": [
            [
             0,
             "#0d0887"
            ],
            [
             0.1111111111111111,
             "#46039f"
            ],
            [
             0.2222222222222222,
             "#7201a8"
            ],
            [
             0.3333333333333333,
             "#9c179e"
            ],
            [
             0.4444444444444444,
             "#bd3786"
            ],
            [
             0.5555555555555556,
             "#d8576b"
            ],
            [
             0.6666666666666666,
             "#ed7953"
            ],
            [
             0.7777777777777778,
             "#fb9f3a"
            ],
            [
             0.8888888888888888,
             "#fdca26"
            ],
            [
             1,
             "#f0f921"
            ]
           ]
          },
          "colorway": [
           "#636efa",
           "#EF553B",
           "#00cc96",
           "#ab63fa",
           "#FFA15A",
           "#19d3f3",
           "#FF6692",
           "#B6E880",
           "#FF97FF",
           "#FECB52"
          ],
          "font": {
           "color": "#2a3f5f"
          },
          "geo": {
           "bgcolor": "white",
           "lakecolor": "white",
           "landcolor": "#E5ECF6",
           "showlakes": true,
           "showland": true,
           "subunitcolor": "white"
          },
          "hoverlabel": {
           "align": "left"
          },
          "hovermode": "closest",
          "mapbox": {
           "style": "light"
          },
          "paper_bgcolor": "white",
          "plot_bgcolor": "#E5ECF6",
          "polar": {
           "angularaxis": {
            "gridcolor": "white",
            "linecolor": "white",
            "ticks": ""
           },
           "bgcolor": "#E5ECF6",
           "radialaxis": {
            "gridcolor": "white",
            "linecolor": "white",
            "ticks": ""
           }
          },
          "scene": {
           "xaxis": {
            "backgroundcolor": "#E5ECF6",
            "gridcolor": "white",
            "gridwidth": 2,
            "linecolor": "white",
            "showbackground": true,
            "ticks": "",
            "zerolinecolor": "white"
           },
           "yaxis": {
            "backgroundcolor": "#E5ECF6",
            "gridcolor": "white",
            "gridwidth": 2,
            "linecolor": "white",
            "showbackground": true,
            "ticks": "",
            "zerolinecolor": "white"
           },
           "zaxis": {
            "backgroundcolor": "#E5ECF6",
            "gridcolor": "white",
            "gridwidth": 2,
            "linecolor": "white",
            "showbackground": true,
            "ticks": "",
            "zerolinecolor": "white"
           }
          },
          "shapedefaults": {
           "line": {
            "color": "#2a3f5f"
           }
          },
          "ternary": {
           "aaxis": {
            "gridcolor": "white",
            "linecolor": "white",
            "ticks": ""
           },
           "baxis": {
            "gridcolor": "white",
            "linecolor": "white",
            "ticks": ""
           },
           "bgcolor": "#E5ECF6",
           "caxis": {
            "gridcolor": "white",
            "linecolor": "white",
            "ticks": ""
           }
          },
          "title": {
           "x": 0.05
          },
          "xaxis": {
           "automargin": true,
           "gridcolor": "white",
           "linecolor": "white",
           "ticks": "",
           "title": {
            "standoff": 15
           },
           "zerolinecolor": "white",
           "zerolinewidth": 2
          },
          "yaxis": {
           "automargin": true,
           "gridcolor": "white",
           "linecolor": "white",
           "ticks": "",
           "title": {
            "standoff": 15
           },
           "zerolinecolor": "white",
           "zerolinewidth": 2
          }
         }
        },
        "title": {
         "font": {
          "color": "Black",
          "size": 22
         },
         "text": "<b>Similarity Matrix</b>",
         "x": 0.55,
         "xanchor": "center",
         "y": 0.95,
         "yanchor": "top"
        },
        "width": 800,
        "xaxis": {
         "anchor": "y",
         "constrain": "domain",
         "domain": [
          0,
          1
         ],
         "scaleanchor": "y"
        },
        "yaxis": {
         "anchor": "x",
         "autorange": "reversed",
         "constrain": "domain",
         "domain": [
          0,
          1
         ]
        }
       }
      }
     },
     "metadata": {},
     "output_type": "display_data"
    }
   ],
   "source": [
    "# Topic summary table\n",
    "topic_info = topic_model_hdbscan.get_topic_info()\n",
    "print(topic_info)\n",
    "\n",
    "# Interactive visualizations\n",
    "topic_model_hdbscan.visualize_topics()\n",
    "topic_model_hdbscan.visualize_barchart(top_n_topics=15)\n",
    "topic_model_hdbscan.visualize_heatmap()\n"
   ]
  },
  {
   "cell_type": "code",
   "execution_count": 10,
   "id": "f8de4afc",
   "metadata": {},
   "outputs": [
    {
     "data": {
      "text/html": [
       "<div>\n",
       "<style scoped>\n",
       "    .dataframe tbody tr th:only-of-type {\n",
       "        vertical-align: middle;\n",
       "    }\n",
       "\n",
       "    .dataframe tbody tr th {\n",
       "        vertical-align: top;\n",
       "    }\n",
       "\n",
       "    .dataframe thead th {\n",
       "        text-align: right;\n",
       "    }\n",
       "</style>\n",
       "<table border=\"1\" class=\"dataframe\">\n",
       "  <thead>\n",
       "    <tr style=\"text-align: right;\">\n",
       "      <th></th>\n",
       "      <th>Topic</th>\n",
       "      <th>Count</th>\n",
       "      <th>Name</th>\n",
       "      <th>Representation</th>\n",
       "      <th>Representative_Docs</th>\n",
       "    </tr>\n",
       "  </thead>\n",
       "  <tbody>\n",
       "    <tr>\n",
       "      <th>0</th>\n",
       "      <td>-1</td>\n",
       "      <td>10771</td>\n",
       "      <td>-1_ganjar_03_mahfud_dukung</td>\n",
       "      <td>[ganjar, 03, mahfud, dukung, rakyat, pilih, pi...</td>\n",
       "      <td>[ganjar mahfud pimpin peduli rakyat beliau but...</td>\n",
       "    </tr>\n",
       "    <tr>\n",
       "      <th>1</th>\n",
       "      <td>0</td>\n",
       "      <td>15368</td>\n",
       "      <td>0_ganjar_mahfud_dukung_indonesia</td>\n",
       "      <td>[ganjar, mahfud, dukung, indonesia, rakyat, pi...</td>\n",
       "      <td>[ganjar semangat bangun indonesia ganjar prano...</td>\n",
       "    </tr>\n",
       "    <tr>\n",
       "      <th>2</th>\n",
       "      <td>1</td>\n",
       "      <td>4600</td>\n",
       "      <td>1_03_calon_kayak_pasang</td>\n",
       "      <td>[03, calon, kayak, pasang, menang, presiden, p...</td>\n",
       "      <td>[lihat masyarakat kampanye putar pasang calon ...</td>\n",
       "    </tr>\n",
       "    <tr>\n",
       "      <th>3</th>\n",
       "      <td>2</td>\n",
       "      <td>3452</td>\n",
       "      <td>2_presiden_program_calon_pilih</td>\n",
       "      <td>[presiden, program, calon, pilih, ganjar, grat...</td>\n",
       "      <td>[ganjar dukung mantap ganjar mahfud pilih pres...</td>\n",
       "    </tr>\n",
       "    <tr>\n",
       "      <th>4</th>\n",
       "      <td>3</td>\n",
       "      <td>1605</td>\n",
       "      <td>3_demokrasi_partai_juang_politik</td>\n",
       "      <td>[demokrasi, partai, juang, politik, indonesia,...</td>\n",
       "      <td>[keluarga jokowi tinggal partai demokrasi indo...</td>\n",
       "    </tr>\n",
       "  </tbody>\n",
       "</table>\n",
       "</div>"
      ],
      "text/plain": [
       "   Topic  Count                              Name  \\\n",
       "0     -1  10771        -1_ganjar_03_mahfud_dukung   \n",
       "1      0  15368  0_ganjar_mahfud_dukung_indonesia   \n",
       "2      1   4600           1_03_calon_kayak_pasang   \n",
       "3      2   3452    2_presiden_program_calon_pilih   \n",
       "4      3   1605  3_demokrasi_partai_juang_politik   \n",
       "\n",
       "                                      Representation  \\\n",
       "0  [ganjar, 03, mahfud, dukung, rakyat, pilih, pi...   \n",
       "1  [ganjar, mahfud, dukung, indonesia, rakyat, pi...   \n",
       "2  [03, calon, kayak, pasang, menang, presiden, p...   \n",
       "3  [presiden, program, calon, pilih, ganjar, grat...   \n",
       "4  [demokrasi, partai, juang, politik, indonesia,...   \n",
       "\n",
       "                                 Representative_Docs  \n",
       "0  [ganjar mahfud pimpin peduli rakyat beliau but...  \n",
       "1  [ganjar semangat bangun indonesia ganjar prano...  \n",
       "2  [lihat masyarakat kampanye putar pasang calon ...  \n",
       "3  [ganjar dukung mantap ganjar mahfud pilih pres...  \n",
       "4  [keluarga jokowi tinggal partai demokrasi indo...  "
      ]
     },
     "metadata": {},
     "output_type": "display_data"
    }
   ],
   "source": [
    "topic_info = topic_model_hdbscan.get_topic_info()\n",
    "display(topic_info.head())        "
   ]
  },
  {
   "cell_type": "code",
   "execution_count": 11,
   "id": "c8335c1c",
   "metadata": {},
   "outputs": [
    {
     "name": "stdout",
     "output_type": "stream",
     "text": [
      "\n",
      "Topic -1\n",
      "[('ganjar', np.float64(0.05652350243096272)), ('03', np.float64(0.043262546079148985)), ('mahfud', np.float64(0.027998730435209413)), ('dukung', np.float64(0.027836977424174594)), ('rakyat', np.float64(0.024898435693233134)), ('pilih', np.float64(0.0219970167831874)), ('pimpin', np.float64(0.020395864919268647)), ('banget', np.float64(0.01950344588555811)), ('masyarakat', np.float64(0.01606574386561848)), ('indonesia', np.float64(0.015224138469174307))]\n",
      "\n",
      "Topic 0\n",
      "[('ganjar', np.float64(0.06847348166283955)), ('mahfud', np.float64(0.04339154903346606)), ('dukung', np.float64(0.02852798716683141)), ('indonesia', np.float64(0.026145666455745835)), ('rakyat', np.float64(0.02579178714921937)), ('pimpin', np.float64(0.024357290543456738)), ('menang', np.float64(0.02225396487880074)), ('orang', np.float64(0.02081044715717578)), ('pranowo', np.float64(0.020026716804087498)), ('masyarakat', np.float64(0.01902181268175712))]\n",
      "\n",
      "Topic 1\n",
      "[('03', np.float64(0.1290682381423728)), ('calon', np.float64(0.045394729593074196)), ('kayak', np.float64(0.035851332644825804)), ('pasang', np.float64(0.03328153817169468)), ('menang', np.float64(0.030950534276026117)), ('presiden', np.float64(0.028512934686328237)), ('pilih', np.float64(0.026898550796862798)), ('dukung', np.float64(0.026712109373848426)), ('suara', np.float64(0.025251477833338417)), ('mahfud', np.float64(0.017505453502263953))]\n",
      "\n",
      "Topic 2\n",
      "[('presiden', np.float64(0.12384252823251812)), ('program', np.float64(0.07407441676242646)), ('calon', np.float64(0.054811903993952575)), ('pilih', np.float64(0.05061807669203644)), ('ganjar', np.float64(0.04894599027987945)), ('gratis', np.float64(0.04325248949772499)), ('internet', np.float64(0.04193572335407966)), ('wakil', np.float64(0.030866131916208895)), ('mahfud', np.float64(0.0252685169995345)), ('prabowo', np.float64(0.02246993710758126))]\n",
      "\n",
      "Topic 3\n",
      "[('demokrasi', np.float64(0.12928202960137497)), ('partai', np.float64(0.10406376418485955)), ('juang', np.float64(0.0814706856183671)), ('politik', np.float64(0.08010033536286428)), ('indonesia', np.float64(0.07515968144406758)), ('jokowi', np.float64(0.03462731171062614)), ('ganjar', np.float64(0.0327917669797324)), ('pilih', np.float64(0.02812788811160364)), ('mahfud', np.float64(0.02312935026581249)), ('polisi', np.float64(0.022772977266748005))]\n",
      "\n",
      "Topic 4\n",
      "[('debat', np.float64(0.24212180914190223)), ('calon', np.float64(0.059372657236900564)), ('presiden', np.float64(0.058820737042671996)), ('kritik', np.float64(0.04127351417944798)), ('wakil', np.float64(0.03898931771425467)), ('03', np.float64(0.034861360241412544)), ('mahfud', np.float64(0.03285990850044729)), ('dialog', np.float64(0.03139771058892679)), ('ganjar', np.float64(0.029992951511239062)), ('anies', np.float64(0.028611785336572923))]\n",
      "\n",
      "Topic 5\n",
      "[('ekonomi', np.float64(0.30464281414064565)), ('mahfud', np.float64(0.07190590581127783)), ('digital', np.float64(0.07158654120774534)), ('tumbuh', np.float64(0.06135674859688759)), ('set', np.float64(0.05544250382220249)), ('sat', np.float64(0.05533091065537156)), ('juara', np.float64(0.04740569414114063)), ('top', np.float64(0.043513153572954044)), ('ganjar', np.float64(0.04046605856454259)), ('dagang', np.float64(0.03670178717557644))]\n",
      "\n",
      "Topic 6\n",
      "[('porno', np.float64(0.3045423872397051)), ('video', np.float64(0.14914650052040018)), ('tonton', np.float64(0.07943956756660697)), ('suka', np.float64(0.06948696324564689)), ('film', np.float64(0.05263984304818053)), ('ganjar', np.float64(0.04083567929470057)), ('viral', np.float64(0.038952532990084346)), ('hobi', np.float64(0.027135580259482345)), ('buzzer', np.float64(0.024686092588009374)), ('prabowo', np.float64(0.023977504619839354))]\n",
      "\n",
      "Topic 7\n",
      "[('strategi', np.float64(0.2601990241098854)), ('strategis', np.float64(0.1601148406025347)), ('terobos', np.float64(0.0743039836442389)), ('ganjar', np.float64(0.04094004823045741)), ('langkah', np.float64(0.03456997410289818)), ('salah', np.float64(0.030880004876567335)), ('jokowi', np.float64(0.02948683842161545)), ('proyek', np.float64(0.028758541982345683)), ('mahfud', np.float64(0.0264251521518834)), ('03', np.float64(0.024674020959555912))]\n",
      "\n",
      "Topic 8\n",
      "[('berita', np.float64(0.22546042137357103)), ('media', np.float64(0.2252052505600166)), ('sosial', np.float64(0.14282568077434282)), ('baca', np.float64(0.04372702741467534)), ('ganjar', np.float64(0.03381370424186762)), ('news', np.float64(0.028731111335821555)), ('03', np.float64(0.028612240782889264)), ('dukung', np.float64(0.02811946809831393)), ('bohong', np.float64(0.02664318658275593)), ('tim', np.float64(0.022674216476506887))]\n",
      "\n",
      "Topic 9\n",
      "[('mikro', np.float64(0.3879336504260997)), ('tengah', np.float64(0.34380377028933157)), ('usaha', np.float64(0.3258335193231647)), ('lokal', np.float64(0.05845058968846542)), ('ganjar', np.float64(0.051785524205213734)), ('laku', np.float64(0.047361538266294384)), ('produk', np.float64(0.04507841980130484)), ('maju', np.float64(0.04438739650756604)), ('ekonomi', np.float64(0.0419150809303494)), ('samarinda', np.float64(0.03863632050532417))]\n",
      "\n",
      "Topic 10\n",
      "[('infrastruktur', np.float64(0.28719193861857806)), ('reformasi', np.float64(0.1955240139852314)), ('bangun', np.float64(0.07149743289365504)), ('mahfud', np.float64(0.05098581186099453)), ('juara', np.float64(0.04981960702452056)), ('ganjar', np.float64(0.0438402654973058)), ('gpmmd', np.float64(0.04226862640011495)), ('set', np.float64(0.041234154846164196)), ('sat', np.float64(0.04115115985849847)), ('lanjut', np.float64(0.03856176013731601))]\n",
      "\n",
      "Topic 11\n",
      "[('kartu', np.float64(0.39650626790264687)), ('duduk', np.float64(0.3644721703789885)), ('tanda', np.float64(0.3452353775702876)), ('elektonik', np.float64(0.11969496023997399)), ('korupsi', np.float64(0.11189385974162645)), ('libat', np.float64(0.09226061230933506)), ('sakti', np.float64(0.07573213752261831)), ('komisi', np.float64(0.04860378742230674)), ('bukti', np.float64(0.04810172981752144)), ('berantas', np.float64(0.04548709553983439))]\n",
      "\n",
      "Topic 12\n",
      "[('produk', np.float64(0.5994516962970047)), ('lokal', np.float64(0.4411394736733701)), ('keren', np.float64(0.09274779573657053)), ('ganjar', np.float64(0.08083352453125303)), ('cinta', np.float64(0.08063154772525669)), ('indonesia', np.float64(0.06477412715150792)), ('pakai', np.float64(0.05740898126497394)), ('bangga', np.float64(0.05340647003624363)), ('tingkat', np.float64(0.05282866651240379)), ('produk2', np.float64(0.05027481981864235))]\n",
      "\n",
      "Topic 13\n",
      "[('data', np.float64(0.491391735650934)), ('omon', np.float64(0.07953965625421712)), ('fakta', np.float64(0.06320207079505702)), ('bantah', np.float64(0.062423752002419605)), ('03', np.float64(0.05639862825227241)), ('serang', np.float64(0.04305522973827413)), ('ulang', np.float64(0.039342916934723735)), ('undang', np.float64(0.03110446506812295)), ('salah', np.float64(0.03109055036436211)), ('pakai', np.float64(0.029107099072527048))]\n"
     ]
    }
   ],
   "source": [
    "for tid in topic_info['Topic'][:15]:   # first 10 topics\n",
    "    print(f\"\\nTopic {tid}\")\n",
    "    print(topic_model_hdbscan.get_topic(tid)[:15])  # top-15 words\n"
   ]
  },
  {
   "cell_type": "code",
   "execution_count": 12,
   "id": "6ef6decf",
   "metadata": {},
   "outputs": [
    {
     "data": {
      "application/vnd.plotly.v1+json": {
       "config": {
        "plotlyServerURL": "https://plot.ly"
       },
       "data": [
        {
         "customdata": [
          [
           0,
           "ganjar | mahfud | dukung | indonesia | rakyat",
           15368
          ],
          [
           1,
           "03 | calon | kayak | pasang | menang",
           4600
          ],
          [
           2,
           "presiden | program | calon | pilih | ganjar",
           3452
          ],
          [
           3,
           "demokrasi | partai | juang | politik | indonesia",
           1605
          ],
          [
           4,
           "debat | calon | presiden | kritik | wakil",
           720
          ],
          [
           5,
           "ekonomi | mahfud | digital | tumbuh | set",
           339
          ],
          [
           6,
           "porno | video | tonton | suka | film",
           234
          ],
          [
           7,
           "strategi | strategis | terobos | ganjar | langkah",
           168
          ],
          [
           8,
           "berita | media | sosial | baca | ganjar",
           162
          ],
          [
           9,
           "mikro | tengah | usaha | lokal | ganjar",
           148
          ],
          [
           10,
           "infrastruktur | reformasi | bangun | mahfud | juara",
           94
          ],
          [
           11,
           "kartu | duduk | tanda | elektonik | korupsi",
           81
          ],
          [
           12,
           "produk | lokal | keren | ganjar | cinta",
           48
          ],
          [
           13,
           "data | omon | fakta | bantah | 03",
           45
          ]
         ],
         "hovertemplate": "<b>Topic %{customdata[0]}</b><br>%{customdata[1]}<br>Size: %{customdata[2]}",
         "legendgroup": "",
         "marker": {
          "color": "#B0BEC5",
          "line": {
           "color": "DarkSlateGrey",
           "width": 2
          },
          "size": {
           "bdata": "CDz4EXwNRQbQAlMB6gCoAKIAlABeAFEAMAAtAA==",
           "dtype": "i2"
          },
          "sizemode": "area",
          "sizeref": 9.605,
          "symbol": "circle"
         },
         "mode": "markers",
         "name": "",
         "orientation": "v",
         "showlegend": false,
         "type": "scatter",
         "x": {
          "bdata": "jZm8v83Zs8FxuT++A8ZLvtsTnz4uQf+/PttVwPgIYsDhtxrAG9fYv+gxz7+DEhrA35QxwL4Is8E=",
          "dtype": "f4"
         },
         "xaxis": "x",
         "y": {
          "bdata": "klxhv9wTeMGym1K/u0ahv/jCTL/y0oW/U+U2v6f1zz7bT0q+VaPMvsMaKT9Jtuk+yRBEv8JydsE=",
          "dtype": "f4"
         },
         "yaxis": "y"
        }
       ],
       "layout": {
        "annotations": [
         {
          "showarrow": false,
          "text": "D1",
          "x": -25.85354995727539,
          "y": -8.535463333129883,
          "yshift": 10
         },
         {
          "showarrow": false,
          "text": "D2",
          "x": -12.748123168945312,
          "xshift": 10,
          "y": 0.7596492767333984
         }
        ],
        "height": 650,
        "hoverlabel": {
         "bgcolor": "white",
         "font": {
          "family": "Rockwell",
          "size": 16
         }
        },
        "legend": {
         "itemsizing": "constant",
         "tracegroupgap": 0
        },
        "margin": {
         "t": 60
        },
        "shapes": [
         {
          "line": {
           "color": "#CFD8DC",
           "width": 2
          },
          "type": "line",
          "x0": -12.748123168945312,
          "x1": -12.748123168945312,
          "y0": -17.830575942993164,
          "y1": 0.7596492767333984
         },
         {
          "line": {
           "color": "#9E9E9E",
           "width": 2
          },
          "type": "line",
          "x0": -25.85354995727539,
          "x1": 0.35730311274528503,
          "y0": -8.535463333129883,
          "y1": -8.535463333129883
         }
        ],
        "sliders": [
         {
          "active": 0,
          "pad": {
           "t": 50
          },
          "steps": [
           {
            "args": [
             {
              "marker.color": [
               [
                "red",
                "#B0BEC5",
                "#B0BEC5",
                "#B0BEC5",
                "#B0BEC5",
                "#B0BEC5",
                "#B0BEC5",
                "#B0BEC5",
                "#B0BEC5",
                "#B0BEC5",
                "#B0BEC5",
                "#B0BEC5",
                "#B0BEC5",
                "#B0BEC5"
               ]
              ]
             }
            ],
            "label": "Topic 0",
            "method": "update"
           },
           {
            "args": [
             {
              "marker.color": [
               [
                "#B0BEC5",
                "red",
                "#B0BEC5",
                "#B0BEC5",
                "#B0BEC5",
                "#B0BEC5",
                "#B0BEC5",
                "#B0BEC5",
                "#B0BEC5",
                "#B0BEC5",
                "#B0BEC5",
                "#B0BEC5",
                "#B0BEC5",
                "#B0BEC5"
               ]
              ]
             }
            ],
            "label": "Topic 1",
            "method": "update"
           },
           {
            "args": [
             {
              "marker.color": [
               [
                "#B0BEC5",
                "#B0BEC5",
                "red",
                "#B0BEC5",
                "#B0BEC5",
                "#B0BEC5",
                "#B0BEC5",
                "#B0BEC5",
                "#B0BEC5",
                "#B0BEC5",
                "#B0BEC5",
                "#B0BEC5",
                "#B0BEC5",
                "#B0BEC5"
               ]
              ]
             }
            ],
            "label": "Topic 2",
            "method": "update"
           },
           {
            "args": [
             {
              "marker.color": [
               [
                "#B0BEC5",
                "#B0BEC5",
                "#B0BEC5",
                "red",
                "#B0BEC5",
                "#B0BEC5",
                "#B0BEC5",
                "#B0BEC5",
                "#B0BEC5",
                "#B0BEC5",
                "#B0BEC5",
                "#B0BEC5",
                "#B0BEC5",
                "#B0BEC5"
               ]
              ]
             }
            ],
            "label": "Topic 3",
            "method": "update"
           },
           {
            "args": [
             {
              "marker.color": [
               [
                "#B0BEC5",
                "#B0BEC5",
                "#B0BEC5",
                "#B0BEC5",
                "red",
                "#B0BEC5",
                "#B0BEC5",
                "#B0BEC5",
                "#B0BEC5",
                "#B0BEC5",
                "#B0BEC5",
                "#B0BEC5",
                "#B0BEC5",
                "#B0BEC5"
               ]
              ]
             }
            ],
            "label": "Topic 4",
            "method": "update"
           },
           {
            "args": [
             {
              "marker.color": [
               [
                "#B0BEC5",
                "#B0BEC5",
                "#B0BEC5",
                "#B0BEC5",
                "#B0BEC5",
                "red",
                "#B0BEC5",
                "#B0BEC5",
                "#B0BEC5",
                "#B0BEC5",
                "#B0BEC5",
                "#B0BEC5",
                "#B0BEC5",
                "#B0BEC5"
               ]
              ]
             }
            ],
            "label": "Topic 5",
            "method": "update"
           },
           {
            "args": [
             {
              "marker.color": [
               [
                "#B0BEC5",
                "#B0BEC5",
                "#B0BEC5",
                "#B0BEC5",
                "#B0BEC5",
                "#B0BEC5",
                "red",
                "#B0BEC5",
                "#B0BEC5",
                "#B0BEC5",
                "#B0BEC5",
                "#B0BEC5",
                "#B0BEC5",
                "#B0BEC5"
               ]
              ]
             }
            ],
            "label": "Topic 6",
            "method": "update"
           },
           {
            "args": [
             {
              "marker.color": [
               [
                "#B0BEC5",
                "#B0BEC5",
                "#B0BEC5",
                "#B0BEC5",
                "#B0BEC5",
                "#B0BEC5",
                "#B0BEC5",
                "red",
                "#B0BEC5",
                "#B0BEC5",
                "#B0BEC5",
                "#B0BEC5",
                "#B0BEC5",
                "#B0BEC5"
               ]
              ]
             }
            ],
            "label": "Topic 7",
            "method": "update"
           },
           {
            "args": [
             {
              "marker.color": [
               [
                "#B0BEC5",
                "#B0BEC5",
                "#B0BEC5",
                "#B0BEC5",
                "#B0BEC5",
                "#B0BEC5",
                "#B0BEC5",
                "#B0BEC5",
                "red",
                "#B0BEC5",
                "#B0BEC5",
                "#B0BEC5",
                "#B0BEC5",
                "#B0BEC5"
               ]
              ]
             }
            ],
            "label": "Topic 8",
            "method": "update"
           },
           {
            "args": [
             {
              "marker.color": [
               [
                "#B0BEC5",
                "#B0BEC5",
                "#B0BEC5",
                "#B0BEC5",
                "#B0BEC5",
                "#B0BEC5",
                "#B0BEC5",
                "#B0BEC5",
                "#B0BEC5",
                "red",
                "#B0BEC5",
                "#B0BEC5",
                "#B0BEC5",
                "#B0BEC5"
               ]
              ]
             }
            ],
            "label": "Topic 9",
            "method": "update"
           },
           {
            "args": [
             {
              "marker.color": [
               [
                "#B0BEC5",
                "#B0BEC5",
                "#B0BEC5",
                "#B0BEC5",
                "#B0BEC5",
                "#B0BEC5",
                "#B0BEC5",
                "#B0BEC5",
                "#B0BEC5",
                "#B0BEC5",
                "red",
                "#B0BEC5",
                "#B0BEC5",
                "#B0BEC5"
               ]
              ]
             }
            ],
            "label": "Topic 10",
            "method": "update"
           },
           {
            "args": [
             {
              "marker.color": [
               [
                "#B0BEC5",
                "#B0BEC5",
                "#B0BEC5",
                "#B0BEC5",
                "#B0BEC5",
                "#B0BEC5",
                "#B0BEC5",
                "#B0BEC5",
                "#B0BEC5",
                "#B0BEC5",
                "#B0BEC5",
                "red",
                "#B0BEC5",
                "#B0BEC5"
               ]
              ]
             }
            ],
            "label": "Topic 11",
            "method": "update"
           },
           {
            "args": [
             {
              "marker.color": [
               [
                "#B0BEC5",
                "#B0BEC5",
                "#B0BEC5",
                "#B0BEC5",
                "#B0BEC5",
                "#B0BEC5",
                "#B0BEC5",
                "#B0BEC5",
                "#B0BEC5",
                "#B0BEC5",
                "#B0BEC5",
                "#B0BEC5",
                "red",
                "#B0BEC5"
               ]
              ]
             }
            ],
            "label": "Topic 12",
            "method": "update"
           },
           {
            "args": [
             {
              "marker.color": [
               [
                "#B0BEC5",
                "#B0BEC5",
                "#B0BEC5",
                "#B0BEC5",
                "#B0BEC5",
                "#B0BEC5",
                "#B0BEC5",
                "#B0BEC5",
                "#B0BEC5",
                "#B0BEC5",
                "#B0BEC5",
                "#B0BEC5",
                "#B0BEC5",
                "red"
               ]
              ]
             }
            ],
            "label": "Topic 13",
            "method": "update"
           }
          ]
         }
        ],
        "template": {
         "data": {
          "bar": [
           {
            "error_x": {
             "color": "rgb(36,36,36)"
            },
            "error_y": {
             "color": "rgb(36,36,36)"
            },
            "marker": {
             "line": {
              "color": "white",
              "width": 0.5
             },
             "pattern": {
              "fillmode": "overlay",
              "size": 10,
              "solidity": 0.2
             }
            },
            "type": "bar"
           }
          ],
          "barpolar": [
           {
            "marker": {
             "line": {
              "color": "white",
              "width": 0.5
             },
             "pattern": {
              "fillmode": "overlay",
              "size": 10,
              "solidity": 0.2
             }
            },
            "type": "barpolar"
           }
          ],
          "carpet": [
           {
            "aaxis": {
             "endlinecolor": "rgb(36,36,36)",
             "gridcolor": "white",
             "linecolor": "white",
             "minorgridcolor": "white",
             "startlinecolor": "rgb(36,36,36)"
            },
            "baxis": {
             "endlinecolor": "rgb(36,36,36)",
             "gridcolor": "white",
             "linecolor": "white",
             "minorgridcolor": "white",
             "startlinecolor": "rgb(36,36,36)"
            },
            "type": "carpet"
           }
          ],
          "choropleth": [
           {
            "colorbar": {
             "outlinewidth": 1,
             "tickcolor": "rgb(36,36,36)",
             "ticks": "outside"
            },
            "type": "choropleth"
           }
          ],
          "contour": [
           {
            "colorbar": {
             "outlinewidth": 1,
             "tickcolor": "rgb(36,36,36)",
             "ticks": "outside"
            },
            "colorscale": [
             [
              0,
              "#440154"
             ],
             [
              0.1111111111111111,
              "#482878"
             ],
             [
              0.2222222222222222,
              "#3e4989"
             ],
             [
              0.3333333333333333,
              "#31688e"
             ],
             [
              0.4444444444444444,
              "#26828e"
             ],
             [
              0.5555555555555556,
              "#1f9e89"
             ],
             [
              0.6666666666666666,
              "#35b779"
             ],
             [
              0.7777777777777778,
              "#6ece58"
             ],
             [
              0.8888888888888888,
              "#b5de2b"
             ],
             [
              1,
              "#fde725"
             ]
            ],
            "type": "contour"
           }
          ],
          "contourcarpet": [
           {
            "colorbar": {
             "outlinewidth": 1,
             "tickcolor": "rgb(36,36,36)",
             "ticks": "outside"
            },
            "type": "contourcarpet"
           }
          ],
          "heatmap": [
           {
            "colorbar": {
             "outlinewidth": 1,
             "tickcolor": "rgb(36,36,36)",
             "ticks": "outside"
            },
            "colorscale": [
             [
              0,
              "#440154"
             ],
             [
              0.1111111111111111,
              "#482878"
             ],
             [
              0.2222222222222222,
              "#3e4989"
             ],
             [
              0.3333333333333333,
              "#31688e"
             ],
             [
              0.4444444444444444,
              "#26828e"
             ],
             [
              0.5555555555555556,
              "#1f9e89"
             ],
             [
              0.6666666666666666,
              "#35b779"
             ],
             [
              0.7777777777777778,
              "#6ece58"
             ],
             [
              0.8888888888888888,
              "#b5de2b"
             ],
             [
              1,
              "#fde725"
             ]
            ],
            "type": "heatmap"
           }
          ],
          "histogram": [
           {
            "marker": {
             "line": {
              "color": "white",
              "width": 0.6
             }
            },
            "type": "histogram"
           }
          ],
          "histogram2d": [
           {
            "colorbar": {
             "outlinewidth": 1,
             "tickcolor": "rgb(36,36,36)",
             "ticks": "outside"
            },
            "colorscale": [
             [
              0,
              "#440154"
             ],
             [
              0.1111111111111111,
              "#482878"
             ],
             [
              0.2222222222222222,
              "#3e4989"
             ],
             [
              0.3333333333333333,
              "#31688e"
             ],
             [
              0.4444444444444444,
              "#26828e"
             ],
             [
              0.5555555555555556,
              "#1f9e89"
             ],
             [
              0.6666666666666666,
              "#35b779"
             ],
             [
              0.7777777777777778,
              "#6ece58"
             ],
             [
              0.8888888888888888,
              "#b5de2b"
             ],
             [
              1,
              "#fde725"
             ]
            ],
            "type": "histogram2d"
           }
          ],
          "histogram2dcontour": [
           {
            "colorbar": {
             "outlinewidth": 1,
             "tickcolor": "rgb(36,36,36)",
             "ticks": "outside"
            },
            "colorscale": [
             [
              0,
              "#440154"
             ],
             [
              0.1111111111111111,
              "#482878"
             ],
             [
              0.2222222222222222,
              "#3e4989"
             ],
             [
              0.3333333333333333,
              "#31688e"
             ],
             [
              0.4444444444444444,
              "#26828e"
             ],
             [
              0.5555555555555556,
              "#1f9e89"
             ],
             [
              0.6666666666666666,
              "#35b779"
             ],
             [
              0.7777777777777778,
              "#6ece58"
             ],
             [
              0.8888888888888888,
              "#b5de2b"
             ],
             [
              1,
              "#fde725"
             ]
            ],
            "type": "histogram2dcontour"
           }
          ],
          "mesh3d": [
           {
            "colorbar": {
             "outlinewidth": 1,
             "tickcolor": "rgb(36,36,36)",
             "ticks": "outside"
            },
            "type": "mesh3d"
           }
          ],
          "parcoords": [
           {
            "line": {
             "colorbar": {
              "outlinewidth": 1,
              "tickcolor": "rgb(36,36,36)",
              "ticks": "outside"
             }
            },
            "type": "parcoords"
           }
          ],
          "pie": [
           {
            "automargin": true,
            "type": "pie"
           }
          ],
          "scatter": [
           {
            "fillpattern": {
             "fillmode": "overlay",
             "size": 10,
             "solidity": 0.2
            },
            "type": "scatter"
           }
          ],
          "scatter3d": [
           {
            "line": {
             "colorbar": {
              "outlinewidth": 1,
              "tickcolor": "rgb(36,36,36)",
              "ticks": "outside"
             }
            },
            "marker": {
             "colorbar": {
              "outlinewidth": 1,
              "tickcolor": "rgb(36,36,36)",
              "ticks": "outside"
             }
            },
            "type": "scatter3d"
           }
          ],
          "scattercarpet": [
           {
            "marker": {
             "colorbar": {
              "outlinewidth": 1,
              "tickcolor": "rgb(36,36,36)",
              "ticks": "outside"
             }
            },
            "type": "scattercarpet"
           }
          ],
          "scattergeo": [
           {
            "marker": {
             "colorbar": {
              "outlinewidth": 1,
              "tickcolor": "rgb(36,36,36)",
              "ticks": "outside"
             }
            },
            "type": "scattergeo"
           }
          ],
          "scattergl": [
           {
            "marker": {
             "colorbar": {
              "outlinewidth": 1,
              "tickcolor": "rgb(36,36,36)",
              "ticks": "outside"
             }
            },
            "type": "scattergl"
           }
          ],
          "scattermap": [
           {
            "marker": {
             "colorbar": {
              "outlinewidth": 1,
              "tickcolor": "rgb(36,36,36)",
              "ticks": "outside"
             }
            },
            "type": "scattermap"
           }
          ],
          "scattermapbox": [
           {
            "marker": {
             "colorbar": {
              "outlinewidth": 1,
              "tickcolor": "rgb(36,36,36)",
              "ticks": "outside"
             }
            },
            "type": "scattermapbox"
           }
          ],
          "scatterpolar": [
           {
            "marker": {
             "colorbar": {
              "outlinewidth": 1,
              "tickcolor": "rgb(36,36,36)",
              "ticks": "outside"
             }
            },
            "type": "scatterpolar"
           }
          ],
          "scatterpolargl": [
           {
            "marker": {
             "colorbar": {
              "outlinewidth": 1,
              "tickcolor": "rgb(36,36,36)",
              "ticks": "outside"
             }
            },
            "type": "scatterpolargl"
           }
          ],
          "scatterternary": [
           {
            "marker": {
             "colorbar": {
              "outlinewidth": 1,
              "tickcolor": "rgb(36,36,36)",
              "ticks": "outside"
             }
            },
            "type": "scatterternary"
           }
          ],
          "surface": [
           {
            "colorbar": {
             "outlinewidth": 1,
             "tickcolor": "rgb(36,36,36)",
             "ticks": "outside"
            },
            "colorscale": [
             [
              0,
              "#440154"
             ],
             [
              0.1111111111111111,
              "#482878"
             ],
             [
              0.2222222222222222,
              "#3e4989"
             ],
             [
              0.3333333333333333,
              "#31688e"
             ],
             [
              0.4444444444444444,
              "#26828e"
             ],
             [
              0.5555555555555556,
              "#1f9e89"
             ],
             [
              0.6666666666666666,
              "#35b779"
             ],
             [
              0.7777777777777778,
              "#6ece58"
             ],
             [
              0.8888888888888888,
              "#b5de2b"
             ],
             [
              1,
              "#fde725"
             ]
            ],
            "type": "surface"
           }
          ],
          "table": [
           {
            "cells": {
             "fill": {
              "color": "rgb(237,237,237)"
             },
             "line": {
              "color": "white"
             }
            },
            "header": {
             "fill": {
              "color": "rgb(217,217,217)"
             },
             "line": {
              "color": "white"
             }
            },
            "type": "table"
           }
          ]
         },
         "layout": {
          "annotationdefaults": {
           "arrowhead": 0,
           "arrowwidth": 1
          },
          "autotypenumbers": "strict",
          "coloraxis": {
           "colorbar": {
            "outlinewidth": 1,
            "tickcolor": "rgb(36,36,36)",
            "ticks": "outside"
           }
          },
          "colorscale": {
           "diverging": [
            [
             0,
             "rgb(103,0,31)"
            ],
            [
             0.1,
             "rgb(178,24,43)"
            ],
            [
             0.2,
             "rgb(214,96,77)"
            ],
            [
             0.3,
             "rgb(244,165,130)"
            ],
            [
             0.4,
             "rgb(253,219,199)"
            ],
            [
             0.5,
             "rgb(247,247,247)"
            ],
            [
             0.6,
             "rgb(209,229,240)"
            ],
            [
             0.7,
             "rgb(146,197,222)"
            ],
            [
             0.8,
             "rgb(67,147,195)"
            ],
            [
             0.9,
             "rgb(33,102,172)"
            ],
            [
             1,
             "rgb(5,48,97)"
            ]
           ],
           "sequential": [
            [
             0,
             "#440154"
            ],
            [
             0.1111111111111111,
             "#482878"
            ],
            [
             0.2222222222222222,
             "#3e4989"
            ],
            [
             0.3333333333333333,
             "#31688e"
            ],
            [
             0.4444444444444444,
             "#26828e"
            ],
            [
             0.5555555555555556,
             "#1f9e89"
            ],
            [
             0.6666666666666666,
             "#35b779"
            ],
            [
             0.7777777777777778,
             "#6ece58"
            ],
            [
             0.8888888888888888,
             "#b5de2b"
            ],
            [
             1,
             "#fde725"
            ]
           ],
           "sequentialminus": [
            [
             0,
             "#440154"
            ],
            [
             0.1111111111111111,
             "#482878"
            ],
            [
             0.2222222222222222,
             "#3e4989"
            ],
            [
             0.3333333333333333,
             "#31688e"
            ],
            [
             0.4444444444444444,
             "#26828e"
            ],
            [
             0.5555555555555556,
             "#1f9e89"
            ],
            [
             0.6666666666666666,
             "#35b779"
            ],
            [
             0.7777777777777778,
             "#6ece58"
            ],
            [
             0.8888888888888888,
             "#b5de2b"
            ],
            [
             1,
             "#fde725"
            ]
           ]
          },
          "colorway": [
           "#1F77B4",
           "#FF7F0E",
           "#2CA02C",
           "#D62728",
           "#9467BD",
           "#8C564B",
           "#E377C2",
           "#7F7F7F",
           "#BCBD22",
           "#17BECF"
          ],
          "font": {
           "color": "rgb(36,36,36)"
          },
          "geo": {
           "bgcolor": "white",
           "lakecolor": "white",
           "landcolor": "white",
           "showlakes": true,
           "showland": true,
           "subunitcolor": "white"
          },
          "hoverlabel": {
           "align": "left"
          },
          "hovermode": "closest",
          "mapbox": {
           "style": "light"
          },
          "paper_bgcolor": "white",
          "plot_bgcolor": "white",
          "polar": {
           "angularaxis": {
            "gridcolor": "rgb(232,232,232)",
            "linecolor": "rgb(36,36,36)",
            "showgrid": false,
            "showline": true,
            "ticks": "outside"
           },
           "bgcolor": "white",
           "radialaxis": {
            "gridcolor": "rgb(232,232,232)",
            "linecolor": "rgb(36,36,36)",
            "showgrid": false,
            "showline": true,
            "ticks": "outside"
           }
          },
          "scene": {
           "xaxis": {
            "backgroundcolor": "white",
            "gridcolor": "rgb(232,232,232)",
            "gridwidth": 2,
            "linecolor": "rgb(36,36,36)",
            "showbackground": true,
            "showgrid": false,
            "showline": true,
            "ticks": "outside",
            "zeroline": false,
            "zerolinecolor": "rgb(36,36,36)"
           },
           "yaxis": {
            "backgroundcolor": "white",
            "gridcolor": "rgb(232,232,232)",
            "gridwidth": 2,
            "linecolor": "rgb(36,36,36)",
            "showbackground": true,
            "showgrid": false,
            "showline": true,
            "ticks": "outside",
            "zeroline": false,
            "zerolinecolor": "rgb(36,36,36)"
           },
           "zaxis": {
            "backgroundcolor": "white",
            "gridcolor": "rgb(232,232,232)",
            "gridwidth": 2,
            "linecolor": "rgb(36,36,36)",
            "showbackground": true,
            "showgrid": false,
            "showline": true,
            "ticks": "outside",
            "zeroline": false,
            "zerolinecolor": "rgb(36,36,36)"
           }
          },
          "shapedefaults": {
           "fillcolor": "black",
           "line": {
            "width": 0
           },
           "opacity": 0.3
          },
          "ternary": {
           "aaxis": {
            "gridcolor": "rgb(232,232,232)",
            "linecolor": "rgb(36,36,36)",
            "showgrid": false,
            "showline": true,
            "ticks": "outside"
           },
           "baxis": {
            "gridcolor": "rgb(232,232,232)",
            "linecolor": "rgb(36,36,36)",
            "showgrid": false,
            "showline": true,
            "ticks": "outside"
           },
           "bgcolor": "white",
           "caxis": {
            "gridcolor": "rgb(232,232,232)",
            "linecolor": "rgb(36,36,36)",
            "showgrid": false,
            "showline": true,
            "ticks": "outside"
           }
          },
          "title": {
           "x": 0.05
          },
          "xaxis": {
           "automargin": true,
           "gridcolor": "rgb(232,232,232)",
           "linecolor": "rgb(36,36,36)",
           "showgrid": false,
           "showline": true,
           "ticks": "outside",
           "title": {
            "standoff": 15
           },
           "zeroline": false,
           "zerolinecolor": "rgb(36,36,36)"
          },
          "yaxis": {
           "automargin": true,
           "gridcolor": "rgb(232,232,232)",
           "linecolor": "rgb(36,36,36)",
           "showgrid": false,
           "showline": true,
           "ticks": "outside",
           "title": {
            "standoff": 15
           },
           "zeroline": false,
           "zerolinecolor": "rgb(36,36,36)"
          }
         }
        },
        "title": {
         "font": {
          "color": "Black",
          "size": 22
         },
         "text": "<b>Intertopic Distance Map</b>",
         "x": 0.5,
         "xanchor": "center",
         "y": 0.95,
         "yanchor": "top"
        },
        "width": 650,
        "xaxis": {
         "anchor": "y",
         "domain": [
          0,
          1
         ],
         "range": [
          -25.85354995727539,
          0.35730311274528503
         ],
         "title": {
          "text": ""
         },
         "visible": false
        },
        "yaxis": {
         "anchor": "x",
         "domain": [
          0,
          1
         ],
         "range": [
          -17.830575942993164,
          0.7596492767333984
         ],
         "title": {
          "text": ""
         },
         "visible": false
        }
       }
      }
     },
     "metadata": {},
     "output_type": "display_data"
    }
   ],
   "source": [
    "topic_model_hdbscan.visualize_barchart(top_n_topics=15)\n",
    "topic_model_hdbscan.visualize_topics()"
   ]
  },
  {
   "cell_type": "code",
   "execution_count": 13,
   "id": "e3ecd171",
   "metadata": {},
   "outputs": [],
   "source": [
    "# df['created_at'] = pd.to_datetime(df['created_at'])"
   ]
  },
  {
   "cell_type": "code",
   "execution_count": 14,
   "id": "7f933a68",
   "metadata": {},
   "outputs": [],
   "source": [
    "# topics_over_time = topic_model_hdbscan.topics_over_time(\n",
    "#     docs=docs,\n",
    "#     topics=topics_hdbscan,\n",
    "#     timestamps=df['created_at'],\n",
    "#     nr_bins=20,  # Adjust to control time granularity\n",
    "#     evolution_tuning=True,\n",
    "#     global_tuning=True\n",
    "# )"
   ]
  },
  {
   "cell_type": "code",
   "execution_count": 15,
   "id": "abb52aa8",
   "metadata": {},
   "outputs": [],
   "source": [
    "# topic_model_hdbscan.visualize_topics_over_time(\n",
    "#     topics_over_time, \n",
    "#     top_n_topics=10  # Number of top topics to show\n",
    "# )\n"
   ]
  },
  {
   "cell_type": "code",
   "execution_count": 16,
   "id": "066d0783",
   "metadata": {},
   "outputs": [],
   "source": [
    "# Save results to CSV\n",
    "df_topics = pd.DataFrame({\"Document\": docs, \"Topic\": topics_hdbscan})\n",
    "df_topics.to_csv(\"topic_assignments_hdbscan.csv\", index=False)\n",
    "\n",
    "# Save model\n",
    "# topic_model.save(\"bertopic_model_hdbscan\")\n"
   ]
  },
  {
   "cell_type": "code",
   "execution_count": 17,
   "id": "c9ac13e6",
   "metadata": {},
   "outputs": [
    {
     "name": "stderr",
     "output_type": "stream",
     "text": [
      "2025-05-21 23:40:24,190 - BERTopic - Embedding - Transforming documents to embeddings.\n",
      "Batches: 100%|██████████| 1183/1183 [06:19<00:00,  3.12it/s]\n",
      "2025-05-21 23:46:44,177 - BERTopic - Embedding - Completed ✓\n",
      "2025-05-21 23:46:44,178 - BERTopic - Dimensionality - Fitting the dimensionality reduction algorithm\n",
      "2025-05-21 23:46:53,326 - BERTopic - Dimensionality - Completed ✓\n",
      "2025-05-21 23:46:53,329 - BERTopic - Cluster - Start clustering the reduced embeddings\n",
      "2025-05-21 23:46:55,315 - BERTopic - Cluster - Completed ✓\n",
      "2025-05-21 23:46:55,326 - BERTopic - Representation - Fine-tuning topics using representation models.\n",
      "2025-05-21 23:46:55,718 - BERTopic - Representation - Completed ✓\n"
     ]
    },
    {
     "data": {
      "application/vnd.plotly.v1+json": {
       "config": {
        "plotlyServerURL": "https://plot.ly"
       },
       "data": [
        {
         "marker": {
          "color": "#D55E00"
         },
         "orientation": "h",
         "type": "bar",
         "x": [
          0.029443217793787196,
          0.037079257542527215,
          0.03776063621588905,
          0.04058778577884403,
          0.10188270265106636
         ],
         "xaxis": "x",
         "y": [
          "pimpin  ",
          "rakyat  ",
          "mahfud  ",
          "dukung  ",
          "ganjar  "
         ],
         "yaxis": "y"
        },
        {
         "marker": {
          "color": "#0072B2"
         },
         "orientation": "h",
         "type": "bar",
         "x": [
          0.02704393159365117,
          0.03381059868859819,
          0.035643537659914674,
          0.03648038200840639,
          0.06806972721198605
         ],
         "xaxis": "x2",
         "y": [
          "dukung  ",
          "mahfud  ",
          "orang  ",
          "menang  ",
          "ganjar  "
         ],
         "yaxis": "y2"
        },
        {
         "marker": {
          "color": "#CC79A7"
         },
         "orientation": "h",
         "type": "bar",
         "x": [
          0.027820238135446165,
          0.037353964367640054,
          0.03743346747168825,
          0.03921740653445935,
          0.24363197038931647
         ],
         "xaxis": "x3",
         "y": [
          "calon  ",
          "dukung  ",
          "pasang  ",
          "pilih  ",
          "03  "
         ],
         "yaxis": "y3"
        },
        {
         "marker": {
          "color": "#E69F00"
         },
         "orientation": "h",
         "type": "bar",
         "x": [
          0.025444282097106342,
          0.030660785414238813,
          0.03474570485281118,
          0.0396552449971946,
          0.09924561002129349
         ],
         "xaxis": "x4",
         "y": [
          "menang  ",
          "calon  ",
          "suara  ",
          "pasang  ",
          "03  "
         ],
         "yaxis": "y4"
        },
        {
         "marker": {
          "color": "#56B4E9"
         },
         "orientation": "h",
         "type": "bar",
         "x": [
          0.03514100646032049,
          0.03800263885904079,
          0.04859903945348221,
          0.052776483601534724,
          0.05826355606775582
         ],
         "xaxis": "x5",
         "y": [
          "jalan  ",
          "kampanye  ",
          "kerja  ",
          "mahfud  ",
          "ganjar  "
         ],
         "yaxis": "y5"
        },
        {
         "marker": {
          "color": "#009E73"
         },
         "orientation": "h",
         "type": "bar",
         "x": [
          0.04310146785901293,
          0.04500925944631277,
          0.06689358804638276,
          0.07423869059570304,
          0.17331967094236306
         ],
         "xaxis": "x6",
         "y": [
          "wakil  ",
          "ganjar  ",
          "pilih  ",
          "calon  ",
          "presiden  "
         ],
         "yaxis": "y6"
        },
        {
         "marker": {
          "color": "#F0E442"
         },
         "orientation": "h",
         "type": "bar",
         "x": [
          0.049856841375332486,
          0.05189722612704887,
          0.05423841865066924,
          0.061470711039259995,
          0.07913585165435678
         ],
         "xaxis": "x7",
         "y": [
          "ganjar  ",
          "prof  ",
          "ekonomi  ",
          "mahfud  ",
          "positif  "
         ],
         "yaxis": "y7"
        },
        {
         "marker": {
          "color": "#D55E00"
         },
         "orientation": "h",
         "type": "bar",
         "x": [
          0.040021862414845705,
          0.04536288079812643,
          0.05591950071111792,
          0.06679019132818952,
          0.19819899669695515
         ],
         "xaxis": "x8",
         "y": [
          "maju  ",
          "pimpin  ",
          "mahfud  ",
          "ganjar  ",
          "indonesia  "
         ],
         "yaxis": "y8"
        },
        {
         "marker": {
          "color": "#0072B2"
         },
         "orientation": "h",
         "type": "bar",
         "x": [
          0.04336142095593665,
          0.04355173313171038,
          0.047630234417954796,
          0.054517649068740216,
          0.05452478250098437
         ],
         "xaxis": "x9",
         "y": [
          "fokus  ",
          "rumah  ",
          "survei  ",
          "ganjar  ",
          "kayak  "
         ],
         "yaxis": "y9"
        },
        {
         "marker": {
          "color": "#CC79A7"
         },
         "orientation": "h",
         "type": "bar",
         "x": [
          0.043309985970198694,
          0.05629776490965375,
          0.09784680819015786,
          0.1051196452227967,
          0.20554291661452084
         ],
         "xaxis": "x10",
         "y": [
          "mikro  ",
          "ganjar  ",
          "internet  ",
          "gratis  ",
          "program  "
         ],
         "yaxis": "y10"
        },
        {
         "marker": {
          "color": "#E69F00"
         },
         "orientation": "h",
         "type": "bar",
         "x": [
          0.05732452843612112,
          0.062112818550744464,
          0.09175271123702389,
          0.1022465196360132,
          0.13915042462388888
         ],
         "xaxis": "x11",
         "y": [
          "wakil  ",
          "03  ",
          "calon  ",
          "presiden  ",
          "debat  "
         ],
         "yaxis": "y11"
        },
        {
         "marker": {
          "color": "#56B4E9"
         },
         "orientation": "h",
         "type": "bar",
         "x": [
          0.039174017541776296,
          0.10479090698453775,
          0.12149791795577548,
          0.15795140672749772,
          0.2013730311026732
         ],
         "xaxis": "x12",
         "y": [
          "jokowi  ",
          "indonesia  ",
          "juang  ",
          "partai  ",
          "demokrasi  "
         ],
         "yaxis": "y12"
        },
        {
         "marker": {
          "color": "#009E73"
         },
         "orientation": "h",
         "type": "bar",
         "x": [
          0.056190257218395205,
          0.06144311985053403,
          0.06533752348761937,
          0.06836732956379346,
          0.13744412589336172
         ],
         "xaxis": "x13",
         "y": [
          "ganjar  ",
          "israel  ",
          "palestina  ",
          "agama  ",
          "suara  "
         ],
         "yaxis": "y13"
        },
        {
         "marker": {
          "color": "#F0E442"
         },
         "orientation": "h",
         "type": "bar",
         "x": [
          0.025425495033604414,
          0.028137693758461237,
          0.031646239526549394,
          0.04903411071556452,
          0.20380173014353287
         ],
         "xaxis": "x14",
         "y": [
          "presiden  ",
          "mahfud  ",
          "ganjar  ",
          "polisi  ",
          "politik  "
         ],
         "yaxis": "y14"
        },
        {
         "marker": {
          "color": "#D55E00"
         },
         "orientation": "h",
         "type": "bar",
         "x": [
          0.06055222296935007,
          0.09529347145069003,
          0.2571344947844857,
          0.2877392491975766,
          0.4660883051114306
         ],
         "xaxis": "x15",
         "y": [
          "berantas  ",
          "korupsi  ",
          "penjara  ",
          "nusakambangan  ",
          "koruptor  "
         ],
         "yaxis": "y15"
        }
       ],
       "layout": {
        "annotations": [
         {
          "font": {
           "size": 16
          },
          "showarrow": false,
          "text": "Topic 0",
          "x": 0.0875,
          "xanchor": "center",
          "xref": "paper",
          "y": 1,
          "yanchor": "bottom",
          "yref": "paper"
         },
         {
          "font": {
           "size": 16
          },
          "showarrow": false,
          "text": "Topic 1",
          "x": 0.36250000000000004,
          "xanchor": "center",
          "xref": "paper",
          "y": 1,
          "yanchor": "bottom",
          "yref": "paper"
         },
         {
          "font": {
           "size": 16
          },
          "showarrow": false,
          "text": "Topic 2",
          "x": 0.6375000000000001,
          "xanchor": "center",
          "xref": "paper",
          "y": 1,
          "yanchor": "bottom",
          "yref": "paper"
         },
         {
          "font": {
           "size": 16
          },
          "showarrow": false,
          "text": "Topic 3",
          "x": 0.9125,
          "xanchor": "center",
          "xref": "paper",
          "y": 1,
          "yanchor": "bottom",
          "yref": "paper"
         },
         {
          "font": {
           "size": 16
          },
          "showarrow": false,
          "text": "Topic 4",
          "x": 0.0875,
          "xanchor": "center",
          "xref": "paper",
          "y": 0.7250000000000001,
          "yanchor": "bottom",
          "yref": "paper"
         },
         {
          "font": {
           "size": 16
          },
          "showarrow": false,
          "text": "Topic 5",
          "x": 0.36250000000000004,
          "xanchor": "center",
          "xref": "paper",
          "y": 0.7250000000000001,
          "yanchor": "bottom",
          "yref": "paper"
         },
         {
          "font": {
           "size": 16
          },
          "showarrow": false,
          "text": "Topic 6",
          "x": 0.6375000000000001,
          "xanchor": "center",
          "xref": "paper",
          "y": 0.7250000000000001,
          "yanchor": "bottom",
          "yref": "paper"
         },
         {
          "font": {
           "size": 16
          },
          "showarrow": false,
          "text": "Topic 7",
          "x": 0.9125,
          "xanchor": "center",
          "xref": "paper",
          "y": 0.7250000000000001,
          "yanchor": "bottom",
          "yref": "paper"
         },
         {
          "font": {
           "size": 16
          },
          "showarrow": false,
          "text": "Topic 8",
          "x": 0.0875,
          "xanchor": "center",
          "xref": "paper",
          "y": 0.45,
          "yanchor": "bottom",
          "yref": "paper"
         },
         {
          "font": {
           "size": 16
          },
          "showarrow": false,
          "text": "Topic 9",
          "x": 0.36250000000000004,
          "xanchor": "center",
          "xref": "paper",
          "y": 0.45,
          "yanchor": "bottom",
          "yref": "paper"
         },
         {
          "font": {
           "size": 16
          },
          "showarrow": false,
          "text": "Topic 10",
          "x": 0.6375000000000001,
          "xanchor": "center",
          "xref": "paper",
          "y": 0.45,
          "yanchor": "bottom",
          "yref": "paper"
         },
         {
          "font": {
           "size": 16
          },
          "showarrow": false,
          "text": "Topic 11",
          "x": 0.9125,
          "xanchor": "center",
          "xref": "paper",
          "y": 0.45,
          "yanchor": "bottom",
          "yref": "paper"
         },
         {
          "font": {
           "size": 16
          },
          "showarrow": false,
          "text": "Topic 12",
          "x": 0.0875,
          "xanchor": "center",
          "xref": "paper",
          "y": 0.175,
          "yanchor": "bottom",
          "yref": "paper"
         },
         {
          "font": {
           "size": 16
          },
          "showarrow": false,
          "text": "Topic 13",
          "x": 0.36250000000000004,
          "xanchor": "center",
          "xref": "paper",
          "y": 0.175,
          "yanchor": "bottom",
          "yref": "paper"
         },
         {
          "font": {
           "size": 16
          },
          "showarrow": false,
          "text": "Topic 14",
          "x": 0.6375000000000001,
          "xanchor": "center",
          "xref": "paper",
          "y": 0.175,
          "yanchor": "bottom",
          "yref": "paper"
         }
        ],
        "height": 1000,
        "hoverlabel": {
         "bgcolor": "white",
         "font": {
          "family": "Rockwell",
          "size": 16
         }
        },
        "showlegend": false,
        "template": {
         "data": {
          "bar": [
           {
            "error_x": {
             "color": "#2a3f5f"
            },
            "error_y": {
             "color": "#2a3f5f"
            },
            "marker": {
             "line": {
              "color": "white",
              "width": 0.5
             },
             "pattern": {
              "fillmode": "overlay",
              "size": 10,
              "solidity": 0.2
             }
            },
            "type": "bar"
           }
          ],
          "barpolar": [
           {
            "marker": {
             "line": {
              "color": "white",
              "width": 0.5
             },
             "pattern": {
              "fillmode": "overlay",
              "size": 10,
              "solidity": 0.2
             }
            },
            "type": "barpolar"
           }
          ],
          "carpet": [
           {
            "aaxis": {
             "endlinecolor": "#2a3f5f",
             "gridcolor": "#C8D4E3",
             "linecolor": "#C8D4E3",
             "minorgridcolor": "#C8D4E3",
             "startlinecolor": "#2a3f5f"
            },
            "baxis": {
             "endlinecolor": "#2a3f5f",
             "gridcolor": "#C8D4E3",
             "linecolor": "#C8D4E3",
             "minorgridcolor": "#C8D4E3",
             "startlinecolor": "#2a3f5f"
            },
            "type": "carpet"
           }
          ],
          "choropleth": [
           {
            "colorbar": {
             "outlinewidth": 0,
             "ticks": ""
            },
            "type": "choropleth"
           }
          ],
          "contour": [
           {
            "colorbar": {
             "outlinewidth": 0,
             "ticks": ""
            },
            "colorscale": [
             [
              0,
              "#0d0887"
             ],
             [
              0.1111111111111111,
              "#46039f"
             ],
             [
              0.2222222222222222,
              "#7201a8"
             ],
             [
              0.3333333333333333,
              "#9c179e"
             ],
             [
              0.4444444444444444,
              "#bd3786"
             ],
             [
              0.5555555555555556,
              "#d8576b"
             ],
             [
              0.6666666666666666,
              "#ed7953"
             ],
             [
              0.7777777777777778,
              "#fb9f3a"
             ],
             [
              0.8888888888888888,
              "#fdca26"
             ],
             [
              1,
              "#f0f921"
             ]
            ],
            "type": "contour"
           }
          ],
          "contourcarpet": [
           {
            "colorbar": {
             "outlinewidth": 0,
             "ticks": ""
            },
            "type": "contourcarpet"
           }
          ],
          "heatmap": [
           {
            "colorbar": {
             "outlinewidth": 0,
             "ticks": ""
            },
            "colorscale": [
             [
              0,
              "#0d0887"
             ],
             [
              0.1111111111111111,
              "#46039f"
             ],
             [
              0.2222222222222222,
              "#7201a8"
             ],
             [
              0.3333333333333333,
              "#9c179e"
             ],
             [
              0.4444444444444444,
              "#bd3786"
             ],
             [
              0.5555555555555556,
              "#d8576b"
             ],
             [
              0.6666666666666666,
              "#ed7953"
             ],
             [
              0.7777777777777778,
              "#fb9f3a"
             ],
             [
              0.8888888888888888,
              "#fdca26"
             ],
             [
              1,
              "#f0f921"
             ]
            ],
            "type": "heatmap"
           }
          ],
          "histogram": [
           {
            "marker": {
             "pattern": {
              "fillmode": "overlay",
              "size": 10,
              "solidity": 0.2
             }
            },
            "type": "histogram"
           }
          ],
          "histogram2d": [
           {
            "colorbar": {
             "outlinewidth": 0,
             "ticks": ""
            },
            "colorscale": [
             [
              0,
              "#0d0887"
             ],
             [
              0.1111111111111111,
              "#46039f"
             ],
             [
              0.2222222222222222,
              "#7201a8"
             ],
             [
              0.3333333333333333,
              "#9c179e"
             ],
             [
              0.4444444444444444,
              "#bd3786"
             ],
             [
              0.5555555555555556,
              "#d8576b"
             ],
             [
              0.6666666666666666,
              "#ed7953"
             ],
             [
              0.7777777777777778,
              "#fb9f3a"
             ],
             [
              0.8888888888888888,
              "#fdca26"
             ],
             [
              1,
              "#f0f921"
             ]
            ],
            "type": "histogram2d"
           }
          ],
          "histogram2dcontour": [
           {
            "colorbar": {
             "outlinewidth": 0,
             "ticks": ""
            },
            "colorscale": [
             [
              0,
              "#0d0887"
             ],
             [
              0.1111111111111111,
              "#46039f"
             ],
             [
              0.2222222222222222,
              "#7201a8"
             ],
             [
              0.3333333333333333,
              "#9c179e"
             ],
             [
              0.4444444444444444,
              "#bd3786"
             ],
             [
              0.5555555555555556,
              "#d8576b"
             ],
             [
              0.6666666666666666,
              "#ed7953"
             ],
             [
              0.7777777777777778,
              "#fb9f3a"
             ],
             [
              0.8888888888888888,
              "#fdca26"
             ],
             [
              1,
              "#f0f921"
             ]
            ],
            "type": "histogram2dcontour"
           }
          ],
          "mesh3d": [
           {
            "colorbar": {
             "outlinewidth": 0,
             "ticks": ""
            },
            "type": "mesh3d"
           }
          ],
          "parcoords": [
           {
            "line": {
             "colorbar": {
              "outlinewidth": 0,
              "ticks": ""
             }
            },
            "type": "parcoords"
           }
          ],
          "pie": [
           {
            "automargin": true,
            "type": "pie"
           }
          ],
          "scatter": [
           {
            "fillpattern": {
             "fillmode": "overlay",
             "size": 10,
             "solidity": 0.2
            },
            "type": "scatter"
           }
          ],
          "scatter3d": [
           {
            "line": {
             "colorbar": {
              "outlinewidth": 0,
              "ticks": ""
             }
            },
            "marker": {
             "colorbar": {
              "outlinewidth": 0,
              "ticks": ""
             }
            },
            "type": "scatter3d"
           }
          ],
          "scattercarpet": [
           {
            "marker": {
             "colorbar": {
              "outlinewidth": 0,
              "ticks": ""
             }
            },
            "type": "scattercarpet"
           }
          ],
          "scattergeo": [
           {
            "marker": {
             "colorbar": {
              "outlinewidth": 0,
              "ticks": ""
             }
            },
            "type": "scattergeo"
           }
          ],
          "scattergl": [
           {
            "marker": {
             "colorbar": {
              "outlinewidth": 0,
              "ticks": ""
             }
            },
            "type": "scattergl"
           }
          ],
          "scattermap": [
           {
            "marker": {
             "colorbar": {
              "outlinewidth": 0,
              "ticks": ""
             }
            },
            "type": "scattermap"
           }
          ],
          "scattermapbox": [
           {
            "marker": {
             "colorbar": {
              "outlinewidth": 0,
              "ticks": ""
             }
            },
            "type": "scattermapbox"
           }
          ],
          "scatterpolar": [
           {
            "marker": {
             "colorbar": {
              "outlinewidth": 0,
              "ticks": ""
             }
            },
            "type": "scatterpolar"
           }
          ],
          "scatterpolargl": [
           {
            "marker": {
             "colorbar": {
              "outlinewidth": 0,
              "ticks": ""
             }
            },
            "type": "scatterpolargl"
           }
          ],
          "scatterternary": [
           {
            "marker": {
             "colorbar": {
              "outlinewidth": 0,
              "ticks": ""
             }
            },
            "type": "scatterternary"
           }
          ],
          "surface": [
           {
            "colorbar": {
             "outlinewidth": 0,
             "ticks": ""
            },
            "colorscale": [
             [
              0,
              "#0d0887"
             ],
             [
              0.1111111111111111,
              "#46039f"
             ],
             [
              0.2222222222222222,
              "#7201a8"
             ],
             [
              0.3333333333333333,
              "#9c179e"
             ],
             [
              0.4444444444444444,
              "#bd3786"
             ],
             [
              0.5555555555555556,
              "#d8576b"
             ],
             [
              0.6666666666666666,
              "#ed7953"
             ],
             [
              0.7777777777777778,
              "#fb9f3a"
             ],
             [
              0.8888888888888888,
              "#fdca26"
             ],
             [
              1,
              "#f0f921"
             ]
            ],
            "type": "surface"
           }
          ],
          "table": [
           {
            "cells": {
             "fill": {
              "color": "#EBF0F8"
             },
             "line": {
              "color": "white"
             }
            },
            "header": {
             "fill": {
              "color": "#C8D4E3"
             },
             "line": {
              "color": "white"
             }
            },
            "type": "table"
           }
          ]
         },
         "layout": {
          "annotationdefaults": {
           "arrowcolor": "#2a3f5f",
           "arrowhead": 0,
           "arrowwidth": 1
          },
          "autotypenumbers": "strict",
          "coloraxis": {
           "colorbar": {
            "outlinewidth": 0,
            "ticks": ""
           }
          },
          "colorscale": {
           "diverging": [
            [
             0,
             "#8e0152"
            ],
            [
             0.1,
             "#c51b7d"
            ],
            [
             0.2,
             "#de77ae"
            ],
            [
             0.3,
             "#f1b6da"
            ],
            [
             0.4,
             "#fde0ef"
            ],
            [
             0.5,
             "#f7f7f7"
            ],
            [
             0.6,
             "#e6f5d0"
            ],
            [
             0.7,
             "#b8e186"
            ],
            [
             0.8,
             "#7fbc41"
            ],
            [
             0.9,
             "#4d9221"
            ],
            [
             1,
             "#276419"
            ]
           ],
           "sequential": [
            [
             0,
             "#0d0887"
            ],
            [
             0.1111111111111111,
             "#46039f"
            ],
            [
             0.2222222222222222,
             "#7201a8"
            ],
            [
             0.3333333333333333,
             "#9c179e"
            ],
            [
             0.4444444444444444,
             "#bd3786"
            ],
            [
             0.5555555555555556,
             "#d8576b"
            ],
            [
             0.6666666666666666,
             "#ed7953"
            ],
            [
             0.7777777777777778,
             "#fb9f3a"
            ],
            [
             0.8888888888888888,
             "#fdca26"
            ],
            [
             1,
             "#f0f921"
            ]
           ],
           "sequentialminus": [
            [
             0,
             "#0d0887"
            ],
            [
             0.1111111111111111,
             "#46039f"
            ],
            [
             0.2222222222222222,
             "#7201a8"
            ],
            [
             0.3333333333333333,
             "#9c179e"
            ],
            [
             0.4444444444444444,
             "#bd3786"
            ],
            [
             0.5555555555555556,
             "#d8576b"
            ],
            [
             0.6666666666666666,
             "#ed7953"
            ],
            [
             0.7777777777777778,
             "#fb9f3a"
            ],
            [
             0.8888888888888888,
             "#fdca26"
            ],
            [
             1,
             "#f0f921"
            ]
           ]
          },
          "colorway": [
           "#636efa",
           "#EF553B",
           "#00cc96",
           "#ab63fa",
           "#FFA15A",
           "#19d3f3",
           "#FF6692",
           "#B6E880",
           "#FF97FF",
           "#FECB52"
          ],
          "font": {
           "color": "#2a3f5f"
          },
          "geo": {
           "bgcolor": "white",
           "lakecolor": "white",
           "landcolor": "white",
           "showlakes": true,
           "showland": true,
           "subunitcolor": "#C8D4E3"
          },
          "hoverlabel": {
           "align": "left"
          },
          "hovermode": "closest",
          "mapbox": {
           "style": "light"
          },
          "paper_bgcolor": "white",
          "plot_bgcolor": "white",
          "polar": {
           "angularaxis": {
            "gridcolor": "#EBF0F8",
            "linecolor": "#EBF0F8",
            "ticks": ""
           },
           "bgcolor": "white",
           "radialaxis": {
            "gridcolor": "#EBF0F8",
            "linecolor": "#EBF0F8",
            "ticks": ""
           }
          },
          "scene": {
           "xaxis": {
            "backgroundcolor": "white",
            "gridcolor": "#DFE8F3",
            "gridwidth": 2,
            "linecolor": "#EBF0F8",
            "showbackground": true,
            "ticks": "",
            "zerolinecolor": "#EBF0F8"
           },
           "yaxis": {
            "backgroundcolor": "white",
            "gridcolor": "#DFE8F3",
            "gridwidth": 2,
            "linecolor": "#EBF0F8",
            "showbackground": true,
            "ticks": "",
            "zerolinecolor": "#EBF0F8"
           },
           "zaxis": {
            "backgroundcolor": "white",
            "gridcolor": "#DFE8F3",
            "gridwidth": 2,
            "linecolor": "#EBF0F8",
            "showbackground": true,
            "ticks": "",
            "zerolinecolor": "#EBF0F8"
           }
          },
          "shapedefaults": {
           "line": {
            "color": "#2a3f5f"
           }
          },
          "ternary": {
           "aaxis": {
            "gridcolor": "#DFE8F3",
            "linecolor": "#A2B1C6",
            "ticks": ""
           },
           "baxis": {
            "gridcolor": "#DFE8F3",
            "linecolor": "#A2B1C6",
            "ticks": ""
           },
           "bgcolor": "white",
           "caxis": {
            "gridcolor": "#DFE8F3",
            "linecolor": "#A2B1C6",
            "ticks": ""
           }
          },
          "title": {
           "x": 0.05
          },
          "xaxis": {
           "automargin": true,
           "gridcolor": "#EBF0F8",
           "linecolor": "#EBF0F8",
           "ticks": "",
           "title": {
            "standoff": 15
           },
           "zerolinecolor": "#EBF0F8",
           "zerolinewidth": 2
          },
          "yaxis": {
           "automargin": true,
           "gridcolor": "#EBF0F8",
           "linecolor": "#EBF0F8",
           "ticks": "",
           "title": {
            "standoff": 15
           },
           "zerolinecolor": "#EBF0F8",
           "zerolinewidth": 2
          }
         }
        },
        "title": {
         "font": {
          "color": "Black",
          "size": 22
         },
         "text": "Topic Word Scores",
         "x": 0.5,
         "xanchor": "center",
         "yanchor": "top"
        },
        "width": 1000,
        "xaxis": {
         "anchor": "y",
         "domain": [
          0,
          0.175
         ],
         "showgrid": true
        },
        "xaxis10": {
         "anchor": "y10",
         "domain": [
          0.275,
          0.45
         ],
         "showgrid": true
        },
        "xaxis11": {
         "anchor": "y11",
         "domain": [
          0.55,
          0.7250000000000001
         ],
         "showgrid": true
        },
        "xaxis12": {
         "anchor": "y12",
         "domain": [
          0.825,
          1
         ],
         "showgrid": true
        },
        "xaxis13": {
         "anchor": "y13",
         "domain": [
          0,
          0.175
         ],
         "showgrid": true
        },
        "xaxis14": {
         "anchor": "y14",
         "domain": [
          0.275,
          0.45
         ],
         "showgrid": true
        },
        "xaxis15": {
         "anchor": "y15",
         "domain": [
          0.55,
          0.7250000000000001
         ],
         "showgrid": true
        },
        "xaxis16": {
         "anchor": "y16",
         "domain": [
          0.825,
          1
         ],
         "showgrid": true
        },
        "xaxis2": {
         "anchor": "y2",
         "domain": [
          0.275,
          0.45
         ],
         "showgrid": true
        },
        "xaxis3": {
         "anchor": "y3",
         "domain": [
          0.55,
          0.7250000000000001
         ],
         "showgrid": true
        },
        "xaxis4": {
         "anchor": "y4",
         "domain": [
          0.825,
          1
         ],
         "showgrid": true
        },
        "xaxis5": {
         "anchor": "y5",
         "domain": [
          0,
          0.175
         ],
         "showgrid": true
        },
        "xaxis6": {
         "anchor": "y6",
         "domain": [
          0.275,
          0.45
         ],
         "showgrid": true
        },
        "xaxis7": {
         "anchor": "y7",
         "domain": [
          0.55,
          0.7250000000000001
         ],
         "showgrid": true
        },
        "xaxis8": {
         "anchor": "y8",
         "domain": [
          0.825,
          1
         ],
         "showgrid": true
        },
        "xaxis9": {
         "anchor": "y9",
         "domain": [
          0,
          0.175
         ],
         "showgrid": true
        },
        "yaxis": {
         "anchor": "x",
         "domain": [
          0.825,
          1
         ],
         "showgrid": true
        },
        "yaxis10": {
         "anchor": "x10",
         "domain": [
          0.275,
          0.45
         ],
         "showgrid": true
        },
        "yaxis11": {
         "anchor": "x11",
         "domain": [
          0.275,
          0.45
         ],
         "showgrid": true
        },
        "yaxis12": {
         "anchor": "x12",
         "domain": [
          0.275,
          0.45
         ],
         "showgrid": true
        },
        "yaxis13": {
         "anchor": "x13",
         "domain": [
          0,
          0.175
         ],
         "showgrid": true
        },
        "yaxis14": {
         "anchor": "x14",
         "domain": [
          0,
          0.175
         ],
         "showgrid": true
        },
        "yaxis15": {
         "anchor": "x15",
         "domain": [
          0,
          0.175
         ],
         "showgrid": true
        },
        "yaxis16": {
         "anchor": "x16",
         "domain": [
          0,
          0.175
         ],
         "showgrid": true
        },
        "yaxis2": {
         "anchor": "x2",
         "domain": [
          0.825,
          1
         ],
         "showgrid": true
        },
        "yaxis3": {
         "anchor": "x3",
         "domain": [
          0.825,
          1
         ],
         "showgrid": true
        },
        "yaxis4": {
         "anchor": "x4",
         "domain": [
          0.825,
          1
         ],
         "showgrid": true
        },
        "yaxis5": {
         "anchor": "x5",
         "domain": [
          0.55,
          0.7250000000000001
         ],
         "showgrid": true
        },
        "yaxis6": {
         "anchor": "x6",
         "domain": [
          0.55,
          0.7250000000000001
         ],
         "showgrid": true
        },
        "yaxis7": {
         "anchor": "x7",
         "domain": [
          0.55,
          0.7250000000000001
         ],
         "showgrid": true
        },
        "yaxis8": {
         "anchor": "x8",
         "domain": [
          0.55,
          0.7250000000000001
         ],
         "showgrid": true
        },
        "yaxis9": {
         "anchor": "x9",
         "domain": [
          0.275,
          0.45
         ],
         "showgrid": true
        }
       }
      }
     },
     "metadata": {},
     "output_type": "display_data"
    }
   ],
   "source": [
    "from sklearn.cluster import KMeans\n",
    "\n",
    "num_topics = 15\n",
    "kmeans_model = KMeans(n_clusters=num_topics, random_state=42)\n",
    "\n",
    "topic_model_kmeans = BERTopic(\n",
    "    embedding_model=embedding_model,\n",
    "    umap_model=umap_model,\n",
    "    hdbscan_model=kmeans_model,\n",
    "    calculate_probabilities=False,\n",
    "    verbose=True\n",
    ")\n",
    "\n",
    "topics_kmeans, _ = topic_model_kmeans.fit_transform(docs)\n",
    "\n",
    "topic_model_kmeans.visualize_barchart(top_n_topics=15)"
   ]
  },
  {
   "cell_type": "code",
   "execution_count": 18,
   "id": "13e2eff0",
   "metadata": {},
   "outputs": [
    {
     "name": "stdout",
     "output_type": "stream",
     "text": [
      "    Topic  Count                                       Name  \\\n",
      "0       0   7390              0_ganjar_dukung_mahfud_rakyat   \n",
      "1       1   6753               1_ganjar_menang_orang_mahfud   \n",
      "2       2   3807                   2_03_pilih_pasang_dukung   \n",
      "3       3   2779                    3_03_pasang_suara_calon   \n",
      "4       4   2667             4_ganjar_mahfud_kerja_kampanye   \n",
      "5       5   2251              5_presiden_calon_pilih_ganjar   \n",
      "6       6   2011              6_positif_mahfud_ekonomi_prof   \n",
      "7       7   2003           7_indonesia_ganjar_mahfud_pimpin   \n",
      "8       8   1887                8_kayak_ganjar_survei_rumah   \n",
      "9       9   1662           9_program_gratis_internet_ganjar   \n",
      "10     10   1236                 10_debat_presiden_calon_03   \n",
      "11     11   1174        11_demokrasi_partai_juang_indonesia   \n",
      "12     12   1138            12_suara_agama_palestina_israel   \n",
      "13     13    825            13_politik_polisi_ganjar_mahfud   \n",
      "14     14    252  14_koruptor_nusakambangan_penjara_korupsi   \n",
      "\n",
      "                                       Representation  \\\n",
      "0   [ganjar, dukung, mahfud, rakyat, pimpin, bange...   \n",
      "1   [ganjar, menang, orang, mahfud, dukung, anak, ...   \n",
      "2   [03, pilih, pasang, dukung, calon, coblos, men...   \n",
      "3   [03, pasang, suara, calon, menang, dukung, sej...   \n",
      "4   [ganjar, mahfud, kerja, kampanye, jalan, hukum...   \n",
      "5   [presiden, calon, pilih, ganjar, wakil, prabow...   \n",
      "6   [positif, mahfud, ekonomi, prof, ganjar, prano...   \n",
      "7   [indonesia, ganjar, mahfud, pimpin, maju, seja...   \n",
      "8   [kayak, ganjar, survei, rumah, fokus, dukung, ...   \n",
      "9   [program, gratis, internet, ganjar, mikro, ten...   \n",
      "10  [debat, presiden, calon, 03, wakil, pilih, mah...   \n",
      "11  [demokrasi, partai, juang, indonesia, jokowi, ...   \n",
      "12  [suara, agama, palestina, israel, ganjar, porn...   \n",
      "13  [politik, polisi, ganjar, mahfud, presiden, jo...   \n",
      "14  [koruptor, nusakambangan, penjara, korupsi, be...   \n",
      "\n",
      "                                  Representative_Docs  \n",
      "0   [ganjar baik ganjar pilih rakyat ganjar pranow...  \n",
      "1   [ganjar mahfud menang orang milik alam hebat p...  \n",
      "2      [no 03 menang, percaya  03, dukung 03 banget ]  \n",
      "3   [semangat masyarakat energi menang pasang calo...  \n",
      "4   [dukung penuh rakyat jawa barat ganjar mahfud ...  \n",
      "5   [ganjar banget ganjar menang pilih presiden, p...  \n",
      "6   [dukung penuh rakyat jawa barat ganjar mahfud ...  \n",
      "7   [ganjar ganjar pimpin baik rakyat indonesia, g...  \n",
      "8   [rakyat kayak baliho ganjar copot paksa silah ...  \n",
      "9   [ganjar moga program internet gratis ganjar su...  \n",
      "10  [siap debat calon wakil presiden mahfud md, ga...  \n",
      "11  [densi ganjar pranowo partai demokrasi indones...  \n",
      "12  [ganjar suara rakyat suara benar ganjar profes...  \n",
      "13  [dinasti sungguh ganjar mahfud lihat ibuk seti...  \n",
      "14  [ganjar pilih ganjar beliau tegas koruptor nus...  \n"
     ]
    },
    {
     "data": {
      "application/vnd.plotly.v1+json": {
       "config": {
        "plotlyServerURL": "https://plot.ly"
       },
       "data": [
        {
         "coloraxis": "coloraxis",
         "hovertemplate": "x: %{x}<br>y: %{y}<br>Similarity Score: %{z}<extra></extra>",
         "name": "0",
         "type": "heatmap",
         "x": [
          "0_ganjar_dukung_mahfud",
          "1_ganjar_menang_orang",
          "2_03_pilih_pasang",
          "3_03_pasang_suara",
          "4_ganjar_mahfud_kerja",
          "5_presiden_calon_pilih",
          "6_positif_mahfud_ekonomi",
          "7_indonesia_ganjar_mahfud",
          "8_kayak_ganjar_survei",
          "9_program_gratis_internet",
          "10_debat_presiden_calon",
          "11_demokrasi_partai_juang",
          "12_suara_agama_palestina",
          "13_politik_polisi_ganjar",
          "14_koruptor_nusakambangan_p..."
         ],
         "xaxis": "x",
         "y": [
          "0_ganjar_dukung_mahfud",
          "1_ganjar_menang_orang",
          "2_03_pilih_pasang",
          "3_03_pasang_suara",
          "4_ganjar_mahfud_kerja",
          "5_presiden_calon_pilih",
          "6_positif_mahfud_ekonomi",
          "7_indonesia_ganjar_mahfud",
          "8_kayak_ganjar_survei",
          "9_program_gratis_internet",
          "10_debat_presiden_calon",
          "11_demokrasi_partai_juang",
          "12_suara_agama_palestina",
          "13_politik_polisi_ganjar",
          "14_koruptor_nusakambangan_p..."
         ],
         "yaxis": "y",
         "z": {
          "bdata": "AQCAP/HIcD+o1Ao/nl8oP2DhZj+cgjY/ylpTPzfvTT/FvWY/iB07P6b0IT8rfA4/B6hYPwc1Gj92PDM/8chwP/7/fz+qv/g+bJI6P9Gadz8rbkw/bAJrPyJIXD+MjHU/jnhLP8IKOD84Tic/dk1qP440Nj+uD0U/qNQKP6q/+D4AAIA/moVcPxGi5z6SPcA+tPvaPjw40z5KW/4+YrnOPoAHIj/E+60+LBPlPn42tT4n3qw+nl8oP2ySOj+ahVw/AACAP4rpNz8VASA/svc1P2avKD9Amj4/yE4iP06YUT/AlRw/GUM5P1DxHT+acBM/YOFmP9Gadz8Rouc+iuk3P/z/fz+Dwks/DEhxP4noVz/C4HE/AYdPP7AHOD/qByo/oNBnP7zVOj85okk/nII2PytuTD+SPcA+FQEgP4PCSz/3/38/qR1HP9kXPj+ICkk/W9QtPz7VVD8wKDk/Ov9GP2OPQD9otDg/ylpTP2wCaz+0+9o+svc1PwxIcT+pHUc/+v9/P8aPWD/4YGU/00hOP2KRNz/YYy0/lqhfPxBhPj9UzEU/N+9NPyJIXD88ONM+Zq8oP4noVz/ZFz4/xo9YP/7/fz90dFQ/N4o5P9jfJj/T0Tg/aRhRP9jYKD+xbDQ/xb1mP4yMdT9KW/4+QJo+P8LgcT+ICkk/+GBlP3R0VD///38/psZKPx6YOj8GWCU/ZRlkP4fCNj/aRkQ/iB07P454Sz9iuc4+yE4iPwGHTz9b1C0/00hOPzeKOT+mxko/AACAP2DAIj/XCBY/MndBP8eFID9/jS4/pvQhP8IKOD+AByI/TphRP7AHOD8+1VQ/YpE3P9jfJj8emDo/YMAiPwIAgD9pxjA/qBg8PwDdNz+M6CI/K3wOPzhOJz/E+60+wJUcP+oHKj8wKDk/2GMtP9PROD8GWCU/1wgWP2nGMD/6/38/DrU/P87LOT8G8iY/B6hYP3ZNaj8sE+U+GUM5P6DQZz86/0Y/lqhfP2kYUT9lGWQ/MndBP6gYPD8OtT8/AgCAPxJ0Nj+gjT0/BzUaP440Nj9+NrU+UPEdP7zVOj9jj0A/EGE+P9jYKD+HwjY/x4UgPwDdNz/Oyzk/EnQ2PwEAgD9KZjI/djwzP64PRT8n3qw+mnATPzmiST9otDg/VMxFP7FsND/aRkQ/f40uP4zoIj8G8iY/oI09P0pmMj8AAIA/",
          "dtype": "f4",
          "shape": "15, 15"
         }
        }
       ],
       "layout": {
        "coloraxis": {
         "colorbar": {
          "title": {
           "text": "Similarity Score"
          }
         },
         "colorscale": [
          [
           0,
           "rgb(247,252,240)"
          ],
          [
           0.125,
           "rgb(224,243,219)"
          ],
          [
           0.25,
           "rgb(204,235,197)"
          ],
          [
           0.375,
           "rgb(168,221,181)"
          ],
          [
           0.5,
           "rgb(123,204,196)"
          ],
          [
           0.625,
           "rgb(78,179,211)"
          ],
          [
           0.75,
           "rgb(43,140,190)"
          ],
          [
           0.875,
           "rgb(8,104,172)"
          ],
          [
           1,
           "rgb(8,64,129)"
          ]
         ]
        },
        "height": 800,
        "hoverlabel": {
         "bgcolor": "white",
         "font": {
          "family": "Rockwell",
          "size": 16
         }
        },
        "legend": {
         "title": {
          "text": "Trend"
         }
        },
        "margin": {
         "t": 60
        },
        "showlegend": true,
        "template": {
         "data": {
          "bar": [
           {
            "error_x": {
             "color": "#2a3f5f"
            },
            "error_y": {
             "color": "#2a3f5f"
            },
            "marker": {
             "line": {
              "color": "#E5ECF6",
              "width": 0.5
             },
             "pattern": {
              "fillmode": "overlay",
              "size": 10,
              "solidity": 0.2
             }
            },
            "type": "bar"
           }
          ],
          "barpolar": [
           {
            "marker": {
             "line": {
              "color": "#E5ECF6",
              "width": 0.5
             },
             "pattern": {
              "fillmode": "overlay",
              "size": 10,
              "solidity": 0.2
             }
            },
            "type": "barpolar"
           }
          ],
          "carpet": [
           {
            "aaxis": {
             "endlinecolor": "#2a3f5f",
             "gridcolor": "white",
             "linecolor": "white",
             "minorgridcolor": "white",
             "startlinecolor": "#2a3f5f"
            },
            "baxis": {
             "endlinecolor": "#2a3f5f",
             "gridcolor": "white",
             "linecolor": "white",
             "minorgridcolor": "white",
             "startlinecolor": "#2a3f5f"
            },
            "type": "carpet"
           }
          ],
          "choropleth": [
           {
            "colorbar": {
             "outlinewidth": 0,
             "ticks": ""
            },
            "type": "choropleth"
           }
          ],
          "contour": [
           {
            "colorbar": {
             "outlinewidth": 0,
             "ticks": ""
            },
            "colorscale": [
             [
              0,
              "#0d0887"
             ],
             [
              0.1111111111111111,
              "#46039f"
             ],
             [
              0.2222222222222222,
              "#7201a8"
             ],
             [
              0.3333333333333333,
              "#9c179e"
             ],
             [
              0.4444444444444444,
              "#bd3786"
             ],
             [
              0.5555555555555556,
              "#d8576b"
             ],
             [
              0.6666666666666666,
              "#ed7953"
             ],
             [
              0.7777777777777778,
              "#fb9f3a"
             ],
             [
              0.8888888888888888,
              "#fdca26"
             ],
             [
              1,
              "#f0f921"
             ]
            ],
            "type": "contour"
           }
          ],
          "contourcarpet": [
           {
            "colorbar": {
             "outlinewidth": 0,
             "ticks": ""
            },
            "type": "contourcarpet"
           }
          ],
          "heatmap": [
           {
            "colorbar": {
             "outlinewidth": 0,
             "ticks": ""
            },
            "colorscale": [
             [
              0,
              "#0d0887"
             ],
             [
              0.1111111111111111,
              "#46039f"
             ],
             [
              0.2222222222222222,
              "#7201a8"
             ],
             [
              0.3333333333333333,
              "#9c179e"
             ],
             [
              0.4444444444444444,
              "#bd3786"
             ],
             [
              0.5555555555555556,
              "#d8576b"
             ],
             [
              0.6666666666666666,
              "#ed7953"
             ],
             [
              0.7777777777777778,
              "#fb9f3a"
             ],
             [
              0.8888888888888888,
              "#fdca26"
             ],
             [
              1,
              "#f0f921"
             ]
            ],
            "type": "heatmap"
           }
          ],
          "histogram": [
           {
            "marker": {
             "pattern": {
              "fillmode": "overlay",
              "size": 10,
              "solidity": 0.2
             }
            },
            "type": "histogram"
           }
          ],
          "histogram2d": [
           {
            "colorbar": {
             "outlinewidth": 0,
             "ticks": ""
            },
            "colorscale": [
             [
              0,
              "#0d0887"
             ],
             [
              0.1111111111111111,
              "#46039f"
             ],
             [
              0.2222222222222222,
              "#7201a8"
             ],
             [
              0.3333333333333333,
              "#9c179e"
             ],
             [
              0.4444444444444444,
              "#bd3786"
             ],
             [
              0.5555555555555556,
              "#d8576b"
             ],
             [
              0.6666666666666666,
              "#ed7953"
             ],
             [
              0.7777777777777778,
              "#fb9f3a"
             ],
             [
              0.8888888888888888,
              "#fdca26"
             ],
             [
              1,
              "#f0f921"
             ]
            ],
            "type": "histogram2d"
           }
          ],
          "histogram2dcontour": [
           {
            "colorbar": {
             "outlinewidth": 0,
             "ticks": ""
            },
            "colorscale": [
             [
              0,
              "#0d0887"
             ],
             [
              0.1111111111111111,
              "#46039f"
             ],
             [
              0.2222222222222222,
              "#7201a8"
             ],
             [
              0.3333333333333333,
              "#9c179e"
             ],
             [
              0.4444444444444444,
              "#bd3786"
             ],
             [
              0.5555555555555556,
              "#d8576b"
             ],
             [
              0.6666666666666666,
              "#ed7953"
             ],
             [
              0.7777777777777778,
              "#fb9f3a"
             ],
             [
              0.8888888888888888,
              "#fdca26"
             ],
             [
              1,
              "#f0f921"
             ]
            ],
            "type": "histogram2dcontour"
           }
          ],
          "mesh3d": [
           {
            "colorbar": {
             "outlinewidth": 0,
             "ticks": ""
            },
            "type": "mesh3d"
           }
          ],
          "parcoords": [
           {
            "line": {
             "colorbar": {
              "outlinewidth": 0,
              "ticks": ""
             }
            },
            "type": "parcoords"
           }
          ],
          "pie": [
           {
            "automargin": true,
            "type": "pie"
           }
          ],
          "scatter": [
           {
            "fillpattern": {
             "fillmode": "overlay",
             "size": 10,
             "solidity": 0.2
            },
            "type": "scatter"
           }
          ],
          "scatter3d": [
           {
            "line": {
             "colorbar": {
              "outlinewidth": 0,
              "ticks": ""
             }
            },
            "marker": {
             "colorbar": {
              "outlinewidth": 0,
              "ticks": ""
             }
            },
            "type": "scatter3d"
           }
          ],
          "scattercarpet": [
           {
            "marker": {
             "colorbar": {
              "outlinewidth": 0,
              "ticks": ""
             }
            },
            "type": "scattercarpet"
           }
          ],
          "scattergeo": [
           {
            "marker": {
             "colorbar": {
              "outlinewidth": 0,
              "ticks": ""
             }
            },
            "type": "scattergeo"
           }
          ],
          "scattergl": [
           {
            "marker": {
             "colorbar": {
              "outlinewidth": 0,
              "ticks": ""
             }
            },
            "type": "scattergl"
           }
          ],
          "scattermap": [
           {
            "marker": {
             "colorbar": {
              "outlinewidth": 0,
              "ticks": ""
             }
            },
            "type": "scattermap"
           }
          ],
          "scattermapbox": [
           {
            "marker": {
             "colorbar": {
              "outlinewidth": 0,
              "ticks": ""
             }
            },
            "type": "scattermapbox"
           }
          ],
          "scatterpolar": [
           {
            "marker": {
             "colorbar": {
              "outlinewidth": 0,
              "ticks": ""
             }
            },
            "type": "scatterpolar"
           }
          ],
          "scatterpolargl": [
           {
            "marker": {
             "colorbar": {
              "outlinewidth": 0,
              "ticks": ""
             }
            },
            "type": "scatterpolargl"
           }
          ],
          "scatterternary": [
           {
            "marker": {
             "colorbar": {
              "outlinewidth": 0,
              "ticks": ""
             }
            },
            "type": "scatterternary"
           }
          ],
          "surface": [
           {
            "colorbar": {
             "outlinewidth": 0,
             "ticks": ""
            },
            "colorscale": [
             [
              0,
              "#0d0887"
             ],
             [
              0.1111111111111111,
              "#46039f"
             ],
             [
              0.2222222222222222,
              "#7201a8"
             ],
             [
              0.3333333333333333,
              "#9c179e"
             ],
             [
              0.4444444444444444,
              "#bd3786"
             ],
             [
              0.5555555555555556,
              "#d8576b"
             ],
             [
              0.6666666666666666,
              "#ed7953"
             ],
             [
              0.7777777777777778,
              "#fb9f3a"
             ],
             [
              0.8888888888888888,
              "#fdca26"
             ],
             [
              1,
              "#f0f921"
             ]
            ],
            "type": "surface"
           }
          ],
          "table": [
           {
            "cells": {
             "fill": {
              "color": "#EBF0F8"
             },
             "line": {
              "color": "white"
             }
            },
            "header": {
             "fill": {
              "color": "#C8D4E3"
             },
             "line": {
              "color": "white"
             }
            },
            "type": "table"
           }
          ]
         },
         "layout": {
          "annotationdefaults": {
           "arrowcolor": "#2a3f5f",
           "arrowhead": 0,
           "arrowwidth": 1
          },
          "autotypenumbers": "strict",
          "coloraxis": {
           "colorbar": {
            "outlinewidth": 0,
            "ticks": ""
           }
          },
          "colorscale": {
           "diverging": [
            [
             0,
             "#8e0152"
            ],
            [
             0.1,
             "#c51b7d"
            ],
            [
             0.2,
             "#de77ae"
            ],
            [
             0.3,
             "#f1b6da"
            ],
            [
             0.4,
             "#fde0ef"
            ],
            [
             0.5,
             "#f7f7f7"
            ],
            [
             0.6,
             "#e6f5d0"
            ],
            [
             0.7,
             "#b8e186"
            ],
            [
             0.8,
             "#7fbc41"
            ],
            [
             0.9,
             "#4d9221"
            ],
            [
             1,
             "#276419"
            ]
           ],
           "sequential": [
            [
             0,
             "#0d0887"
            ],
            [
             0.1111111111111111,
             "#46039f"
            ],
            [
             0.2222222222222222,
             "#7201a8"
            ],
            [
             0.3333333333333333,
             "#9c179e"
            ],
            [
             0.4444444444444444,
             "#bd3786"
            ],
            [
             0.5555555555555556,
             "#d8576b"
            ],
            [
             0.6666666666666666,
             "#ed7953"
            ],
            [
             0.7777777777777778,
             "#fb9f3a"
            ],
            [
             0.8888888888888888,
             "#fdca26"
            ],
            [
             1,
             "#f0f921"
            ]
           ],
           "sequentialminus": [
            [
             0,
             "#0d0887"
            ],
            [
             0.1111111111111111,
             "#46039f"
            ],
            [
             0.2222222222222222,
             "#7201a8"
            ],
            [
             0.3333333333333333,
             "#9c179e"
            ],
            [
             0.4444444444444444,
             "#bd3786"
            ],
            [
             0.5555555555555556,
             "#d8576b"
            ],
            [
             0.6666666666666666,
             "#ed7953"
            ],
            [
             0.7777777777777778,
             "#fb9f3a"
            ],
            [
             0.8888888888888888,
             "#fdca26"
            ],
            [
             1,
             "#f0f921"
            ]
           ]
          },
          "colorway": [
           "#636efa",
           "#EF553B",
           "#00cc96",
           "#ab63fa",
           "#FFA15A",
           "#19d3f3",
           "#FF6692",
           "#B6E880",
           "#FF97FF",
           "#FECB52"
          ],
          "font": {
           "color": "#2a3f5f"
          },
          "geo": {
           "bgcolor": "white",
           "lakecolor": "white",
           "landcolor": "#E5ECF6",
           "showlakes": true,
           "showland": true,
           "subunitcolor": "white"
          },
          "hoverlabel": {
           "align": "left"
          },
          "hovermode": "closest",
          "mapbox": {
           "style": "light"
          },
          "paper_bgcolor": "white",
          "plot_bgcolor": "#E5ECF6",
          "polar": {
           "angularaxis": {
            "gridcolor": "white",
            "linecolor": "white",
            "ticks": ""
           },
           "bgcolor": "#E5ECF6",
           "radialaxis": {
            "gridcolor": "white",
            "linecolor": "white",
            "ticks": ""
           }
          },
          "scene": {
           "xaxis": {
            "backgroundcolor": "#E5ECF6",
            "gridcolor": "white",
            "gridwidth": 2,
            "linecolor": "white",
            "showbackground": true,
            "ticks": "",
            "zerolinecolor": "white"
           },
           "yaxis": {
            "backgroundcolor": "#E5ECF6",
            "gridcolor": "white",
            "gridwidth": 2,
            "linecolor": "white",
            "showbackground": true,
            "ticks": "",
            "zerolinecolor": "white"
           },
           "zaxis": {
            "backgroundcolor": "#E5ECF6",
            "gridcolor": "white",
            "gridwidth": 2,
            "linecolor": "white",
            "showbackground": true,
            "ticks": "",
            "zerolinecolor": "white"
           }
          },
          "shapedefaults": {
           "line": {
            "color": "#2a3f5f"
           }
          },
          "ternary": {
           "aaxis": {
            "gridcolor": "white",
            "linecolor": "white",
            "ticks": ""
           },
           "baxis": {
            "gridcolor": "white",
            "linecolor": "white",
            "ticks": ""
           },
           "bgcolor": "#E5ECF6",
           "caxis": {
            "gridcolor": "white",
            "linecolor": "white",
            "ticks": ""
           }
          },
          "title": {
           "x": 0.05
          },
          "xaxis": {
           "automargin": true,
           "gridcolor": "white",
           "linecolor": "white",
           "ticks": "",
           "title": {
            "standoff": 15
           },
           "zerolinecolor": "white",
           "zerolinewidth": 2
          },
          "yaxis": {
           "automargin": true,
           "gridcolor": "white",
           "linecolor": "white",
           "ticks": "",
           "title": {
            "standoff": 15
           },
           "zerolinecolor": "white",
           "zerolinewidth": 2
          }
         }
        },
        "title": {
         "font": {
          "color": "Black",
          "size": 22
         },
         "text": "<b>Similarity Matrix</b>",
         "x": 0.55,
         "xanchor": "center",
         "y": 0.95,
         "yanchor": "top"
        },
        "width": 800,
        "xaxis": {
         "anchor": "y",
         "constrain": "domain",
         "domain": [
          0,
          1
         ],
         "scaleanchor": "y"
        },
        "yaxis": {
         "anchor": "x",
         "autorange": "reversed",
         "constrain": "domain",
         "domain": [
          0,
          1
         ]
        }
       }
      }
     },
     "metadata": {},
     "output_type": "display_data"
    }
   ],
   "source": [
    "# Topic summary table\n",
    "topic_info = topic_model_kmeans.get_topic_info()\n",
    "print(topic_info)\n",
    "\n",
    "# Interactive visualizations\n",
    "topic_model_kmeans.visualize_topics()\n",
    "topic_model_kmeans.visualize_barchart(top_n_topics=15)\n",
    "topic_model_kmeans.visualize_heatmap()\n"
   ]
  },
  {
   "cell_type": "code",
   "execution_count": 19,
   "id": "f546c217",
   "metadata": {},
   "outputs": [
    {
     "data": {
      "text/html": [
       "<div>\n",
       "<style scoped>\n",
       "    .dataframe tbody tr th:only-of-type {\n",
       "        vertical-align: middle;\n",
       "    }\n",
       "\n",
       "    .dataframe tbody tr th {\n",
       "        vertical-align: top;\n",
       "    }\n",
       "\n",
       "    .dataframe thead th {\n",
       "        text-align: right;\n",
       "    }\n",
       "</style>\n",
       "<table border=\"1\" class=\"dataframe\">\n",
       "  <thead>\n",
       "    <tr style=\"text-align: right;\">\n",
       "      <th></th>\n",
       "      <th>Topic</th>\n",
       "      <th>Count</th>\n",
       "      <th>Name</th>\n",
       "      <th>Representation</th>\n",
       "      <th>Representative_Docs</th>\n",
       "    </tr>\n",
       "  </thead>\n",
       "  <tbody>\n",
       "    <tr>\n",
       "      <th>0</th>\n",
       "      <td>0</td>\n",
       "      <td>7390</td>\n",
       "      <td>0_ganjar_dukung_mahfud_rakyat</td>\n",
       "      <td>[ganjar, dukung, mahfud, rakyat, pimpin, bange...</td>\n",
       "      <td>[ganjar baik ganjar pilih rakyat ganjar pranow...</td>\n",
       "    </tr>\n",
       "    <tr>\n",
       "      <th>1</th>\n",
       "      <td>1</td>\n",
       "      <td>6753</td>\n",
       "      <td>1_ganjar_menang_orang_mahfud</td>\n",
       "      <td>[ganjar, menang, orang, mahfud, dukung, anak, ...</td>\n",
       "      <td>[ganjar mahfud menang orang milik alam hebat p...</td>\n",
       "    </tr>\n",
       "    <tr>\n",
       "      <th>2</th>\n",
       "      <td>2</td>\n",
       "      <td>3807</td>\n",
       "      <td>2_03_pilih_pasang_dukung</td>\n",
       "      <td>[03, pilih, pasang, dukung, calon, coblos, men...</td>\n",
       "      <td>[no 03 menang, percaya  03, dukung 03 banget ]</td>\n",
       "    </tr>\n",
       "    <tr>\n",
       "      <th>3</th>\n",
       "      <td>3</td>\n",
       "      <td>2779</td>\n",
       "      <td>3_03_pasang_suara_calon</td>\n",
       "      <td>[03, pasang, suara, calon, menang, dukung, sej...</td>\n",
       "      <td>[semangat masyarakat energi menang pasang calo...</td>\n",
       "    </tr>\n",
       "    <tr>\n",
       "      <th>4</th>\n",
       "      <td>4</td>\n",
       "      <td>2667</td>\n",
       "      <td>4_ganjar_mahfud_kerja_kampanye</td>\n",
       "      <td>[ganjar, mahfud, kerja, kampanye, jalan, hukum...</td>\n",
       "      <td>[dukung penuh rakyat jawa barat ganjar mahfud ...</td>\n",
       "    </tr>\n",
       "  </tbody>\n",
       "</table>\n",
       "</div>"
      ],
      "text/plain": [
       "   Topic  Count                            Name  \\\n",
       "0      0   7390   0_ganjar_dukung_mahfud_rakyat   \n",
       "1      1   6753    1_ganjar_menang_orang_mahfud   \n",
       "2      2   3807        2_03_pilih_pasang_dukung   \n",
       "3      3   2779         3_03_pasang_suara_calon   \n",
       "4      4   2667  4_ganjar_mahfud_kerja_kampanye   \n",
       "\n",
       "                                      Representation  \\\n",
       "0  [ganjar, dukung, mahfud, rakyat, pimpin, bange...   \n",
       "1  [ganjar, menang, orang, mahfud, dukung, anak, ...   \n",
       "2  [03, pilih, pasang, dukung, calon, coblos, men...   \n",
       "3  [03, pasang, suara, calon, menang, dukung, sej...   \n",
       "4  [ganjar, mahfud, kerja, kampanye, jalan, hukum...   \n",
       "\n",
       "                                 Representative_Docs  \n",
       "0  [ganjar baik ganjar pilih rakyat ganjar pranow...  \n",
       "1  [ganjar mahfud menang orang milik alam hebat p...  \n",
       "2     [no 03 menang, percaya  03, dukung 03 banget ]  \n",
       "3  [semangat masyarakat energi menang pasang calo...  \n",
       "4  [dukung penuh rakyat jawa barat ganjar mahfud ...  "
      ]
     },
     "metadata": {},
     "output_type": "display_data"
    }
   ],
   "source": [
    "topic_info = topic_model_kmeans.get_topic_info()\n",
    "display(topic_info.head())        "
   ]
  },
  {
   "cell_type": "code",
   "execution_count": 20,
   "id": "465c7879",
   "metadata": {},
   "outputs": [
    {
     "name": "stdout",
     "output_type": "stream",
     "text": [
      "\n",
      "Topic 0\n",
      "[('ganjar', np.float64(0.10188270265106636)), ('dukung', np.float64(0.04058778577884403)), ('mahfud', np.float64(0.03776063621588905)), ('rakyat', np.float64(0.037079257542527215)), ('pimpin', np.float64(0.029443217793787196)), ('banget', np.float64(0.02723951667765711)), ('masyarakat', np.float64(0.025477968643717916)), ('pilih', np.float64(0.02492776571291783)), ('moga', np.float64(0.021029463617865764)), ('semangat', np.float64(0.018481215987589606))]\n",
      "\n",
      "Topic 1\n",
      "[('ganjar', np.float64(0.06806972721198605)), ('menang', np.float64(0.03648038200840639)), ('orang', np.float64(0.035643537659914674)), ('mahfud', np.float64(0.03381059868859819)), ('dukung', np.float64(0.02704393159365117)), ('anak', np.float64(0.025625435469087524)), ('bal', np.float64(0.025098862542817884)), ('rakyat', np.float64(0.023440659117470244)), ('pimpin', np.float64(0.02212536915999303)), ('masyarakat', np.float64(0.020762407489783738))]\n",
      "\n",
      "Topic 2\n",
      "[('03', np.float64(0.24363197038931647)), ('pilih', np.float64(0.03921740653445935)), ('pasang', np.float64(0.03743346747168825)), ('dukung', np.float64(0.037353964367640054)), ('calon', np.float64(0.027820238135446165)), ('coblos', np.float64(0.02739009238016484)), ('menang', np.float64(0.02506346790960641)), ('banget', np.float64(0.021585392592900408)), ('buzzer', np.float64(0.01878902769822902)), ('deh', np.float64(0.015300134388555158))]\n",
      "\n",
      "Topic 3\n",
      "[('03', np.float64(0.09924561002129349)), ('pasang', np.float64(0.0396552449971946)), ('suara', np.float64(0.03474570485281118)), ('calon', np.float64(0.030660785414238813)), ('menang', np.float64(0.025444282097106342)), ('dukung', np.float64(0.023976227803066893)), ('sejahtera', np.float64(0.023959505682388357)), ('kayak', np.float64(0.023424985877937312)), ('pilih', np.float64(0.020013926477256496)), ('mahfud', np.float64(0.019972360448351514))]\n",
      "\n",
      "Topic 4\n",
      "[('ganjar', np.float64(0.05826355606775582)), ('mahfud', np.float64(0.052776483601534724)), ('kerja', np.float64(0.04859903945348221)), ('kampanye', np.float64(0.03800263885904079)), ('jalan', np.float64(0.03514100646032049)), ('hukum', np.float64(0.030829681193421866)), ('rakyat', np.float64(0.02864322506405096)), ('pimpin', np.float64(0.02794645033555473)), ('barat', np.float64(0.02557986478663363)), ('jawa', np.float64(0.025430418360499245))]\n",
      "\n",
      "Topic 5\n",
      "[('presiden', np.float64(0.17331967094236306)), ('calon', np.float64(0.07423869059570304)), ('pilih', np.float64(0.06689358804638276)), ('ganjar', np.float64(0.04500925944631277)), ('wakil', np.float64(0.04310146785901293)), ('prabowo', np.float64(0.027395491600682602)), ('menang', np.float64(0.024814366164327445)), ('jokowi', np.float64(0.024596580567587713)), ('mahfud', np.float64(0.02382144834610619)), ('dukung', np.float64(0.021548306962464257))]\n",
      "\n",
      "Topic 6\n",
      "[('positif', np.float64(0.07913585165435678)), ('mahfud', np.float64(0.061470711039259995)), ('ekonomi', np.float64(0.05423841865066924)), ('prof', np.float64(0.05189722612704887)), ('ganjar', np.float64(0.049856841375332486)), ('pranowo', np.float64(0.034013947640709453)), ('ubah', np.float64(0.030363489224522193)), ('cipta', np.float64(0.02823678118269295)), ('sat', np.float64(0.027370333537220685)), ('set', np.float64(0.02725728009408627))]\n",
      "\n",
      "Topic 7\n",
      "[('indonesia', np.float64(0.19819899669695515)), ('ganjar', np.float64(0.06679019132818952)), ('mahfud', np.float64(0.05591950071111792)), ('pimpin', np.float64(0.04536288079812643)), ('maju', np.float64(0.040021862414845705)), ('sejahtera', np.float64(0.03602926366260291)), ('rakyat', np.float64(0.03193026930510714)), ('dukung', np.float64(0.023187027471791778)), ('moga', np.float64(0.02170917033067731)), ('satu', np.float64(0.020971374588361097))]\n",
      "\n",
      "Topic 8\n",
      "[('kayak', np.float64(0.05452478250098437)), ('ganjar', np.float64(0.054517649068740216)), ('survei', np.float64(0.047630234417954796)), ('rumah', np.float64(0.04355173313171038)), ('fokus', np.float64(0.04336142095593665)), ('dukung', np.float64(0.030945732075883622)), ('baliho', np.float64(0.02895102928245032)), ('mahfud', np.float64(0.026808806596074226)), ('kartu', np.float64(0.02152067301510899)), ('duduk', np.float64(0.020954265090981698))]\n",
      "\n",
      "Topic 9\n",
      "[('program', np.float64(0.20554291661452084)), ('gratis', np.float64(0.1051196452227967)), ('internet', np.float64(0.09784680819015786)), ('ganjar', np.float64(0.05629776490965375)), ('mikro', np.float64(0.043309985970198694)), ('tengah', np.float64(0.04258609612228986)), ('usaha', np.float64(0.037921126275281256)), ('digital', np.float64(0.03345314815594864)), ('disabilitas', np.float64(0.03218898480335097)), ('mahfud', np.float64(0.028652414281396747))]\n",
      "\n",
      "Topic 10\n",
      "[('debat', np.float64(0.13915042462388888)), ('presiden', np.float64(0.1022465196360132)), ('calon', np.float64(0.09175271123702389)), ('03', np.float64(0.062112818550744464)), ('wakil', np.float64(0.05732452843612112)), ('pilih', np.float64(0.02525634144373838)), ('mahfud', np.float64(0.025097170258378782)), ('pasang', np.float64(0.021710989647835945)), ('ganjar', np.float64(0.02050201790695182)), ('dialog', np.float64(0.019671036838791824))]\n",
      "\n",
      "Topic 11\n",
      "[('demokrasi', np.float64(0.2013730311026732)), ('partai', np.float64(0.15795140672749772)), ('juang', np.float64(0.12149791795577548)), ('indonesia', np.float64(0.10479090698453775)), ('jokowi', np.float64(0.039174017541776296)), ('pilih', np.float64(0.033762665003701266)), ('ganjar', np.float64(0.026940575038886517)), ('presiden', np.float64(0.026075805937679074)), ('dukung', np.float64(0.020223013191937814)), ('calon', np.float64(0.019536339926589392))]\n",
      "\n",
      "Topic 12\n",
      "[('suara', np.float64(0.13744412589336172)), ('agama', np.float64(0.06836732956379346)), ('palestina', np.float64(0.06533752348761937)), ('israel', np.float64(0.06144311985053403)), ('ganjar', np.float64(0.056190257218395205)), ('porno', np.float64(0.05263361350953584)), ('tolak', np.float64(0.033371893707065656)), ('dukung', np.float64(0.029257771215720624)), ('toleransi', np.float64(0.029043650693605344)), ('berita', np.float64(0.026837359472861356))]\n",
      "\n",
      "Topic 13\n",
      "[('politik', np.float64(0.20380173014353287)), ('polisi', np.float64(0.04903411071556452)), ('ganjar', np.float64(0.031646239526549394)), ('mahfud', np.float64(0.028137693758461237)), ('presiden', np.float64(0.025425495033604414)), ('jokowi', np.float64(0.02409929215587996)), ('pilih', np.float64(0.02353335544916973)), ('hukum', np.float64(0.021307629349575627)), ('pranowo', np.float64(0.020678356845890703)), ('dukung', np.float64(0.020314881034292104))]\n",
      "\n",
      "Topic 14\n",
      "[('koruptor', np.float64(0.4660883051114306)), ('nusakambangan', np.float64(0.2877392491975766)), ('penjara', np.float64(0.2571344947844857)), ('korupsi', np.float64(0.09529347145069003)), ('berantas', np.float64(0.06055222296935007)), ('ganjar', np.float64(0.05648497686250238)), ('ide', np.float64(0.0552799863157748)), ('hukum', np.float64(0.05500915901629114)), ('tindak', np.float64(0.033626453337832575)), ('mahfud', np.float64(0.031236435847829817))]\n"
     ]
    }
   ],
   "source": [
    "for tid in topic_info['Topic'][:15]:   # first 10 topics\n",
    "    print(f\"\\nTopic {tid}\")\n",
    "    print(topic_model_kmeans.get_topic(tid)[:15])  # top-15 words\n"
   ]
  },
  {
   "cell_type": "code",
   "execution_count": 21,
   "id": "40d16664",
   "metadata": {},
   "outputs": [
    {
     "data": {
      "application/vnd.plotly.v1+json": {
       "config": {
        "plotlyServerURL": "https://plot.ly"
       },
       "data": [
        {
         "customdata": [
          [
           0,
           "ganjar | dukung | mahfud | rakyat | pimpin",
           7390
          ],
          [
           1,
           "ganjar | menang | orang | mahfud | dukung",
           6753
          ],
          [
           2,
           "03 | pilih | pasang | dukung | calon",
           3807
          ],
          [
           3,
           "03 | pasang | suara | calon | menang",
           2779
          ],
          [
           4,
           "ganjar | mahfud | kerja | kampanye | jalan",
           2667
          ],
          [
           5,
           "presiden | calon | pilih | ganjar | wakil",
           2251
          ],
          [
           6,
           "positif | mahfud | ekonomi | prof | ganjar",
           2011
          ],
          [
           7,
           "indonesia | ganjar | mahfud | pimpin | maju",
           2003
          ],
          [
           8,
           "kayak | ganjar | survei | rumah | fokus",
           1887
          ],
          [
           9,
           "program | gratis | internet | ganjar | mikro",
           1662
          ],
          [
           10,
           "debat | presiden | calon | 03 | wakil",
           1236
          ],
          [
           11,
           "demokrasi | partai | juang | indonesia | jokowi",
           1174
          ],
          [
           12,
           "suara | agama | palestina | israel | ganjar",
           1138
          ],
          [
           13,
           "politik | polisi | ganjar | mahfud | presiden",
           825
          ],
          [
           14,
           "koruptor | nusakambangan | penjara | korupsi | berantas",
           252
          ]
         ],
         "hovertemplate": "<b>Topic %{customdata[0]}</b><br>%{customdata[1]}<br>Size: %{customdata[2]}",
         "legendgroup": "",
         "marker": {
          "color": "#B0BEC5",
          "line": {
           "color": "DarkSlateGrey",
           "width": 2
          },
          "size": {
           "bdata": "3hxhGt8O2wprCssI2wfTB18HfgbUBJYEcgQ5A/wA",
           "dtype": "i2"
          },
          "sizemode": "area",
          "sizeref": 4.61875,
          "symbol": "circle"
         },
         "mode": "markers",
         "name": "",
         "orientation": "v",
         "showlegend": false,
         "type": "scatter",
         "x": {
          "bdata": "SofTQFejyEA+nqG/gyfAv/kp70C7GVRBWRIAQTsj6UDvztZAhhbsQHauWEHm9RJBdl8MQcA/UUGp0/BA",
          "dtype": "f4"
         },
         "xaxis": "x",
         "y": {
          "bdata": "kYzHQGyVu0BnXbJB8kW0QfSZAkHhWN7AK60DQVcRukBtO7RApuD9QDKB58ArqL5ALy+/QNqj2MA87whB",
          "dtype": "f4"
         },
         "yaxis": "y"
        }
       ],
       "layout": {
        "annotations": [
         {
          "showarrow": false,
          "text": "D1",
          "x": -1.7263866662979126,
          "y": 8.79728889465332,
          "yshift": 10
         },
         {
          "showarrow": false,
          "text": "D2",
          "x": 6.923797607421875,
          "xshift": 10,
          "y": 25.914276123046875
         }
        ],
        "height": 650,
        "hoverlabel": {
         "bgcolor": "white",
         "font": {
          "family": "Rockwell",
          "size": 16
         }
        },
        "legend": {
         "itemsizing": "constant",
         "tracegroupgap": 0
        },
        "margin": {
         "t": 60
        },
        "shapes": [
         {
          "line": {
           "color": "#CFD8DC",
           "width": 2
          },
          "type": "line",
          "x0": 6.923797607421875,
          "x1": 6.923797607421875,
          "y0": -8.31969928741455,
          "y1": 25.914276123046875
         },
         {
          "line": {
           "color": "#9E9E9E",
           "width": 2
          },
          "type": "line",
          "x0": -1.7263866662979126,
          "x1": 15.573982238769531,
          "y0": 8.79728889465332,
          "y1": 8.79728889465332
         }
        ],
        "sliders": [
         {
          "active": 0,
          "pad": {
           "t": 50
          },
          "steps": [
           {
            "args": [
             {
              "marker.color": [
               [
                "red",
                "#B0BEC5",
                "#B0BEC5",
                "#B0BEC5",
                "#B0BEC5",
                "#B0BEC5",
                "#B0BEC5",
                "#B0BEC5",
                "#B0BEC5",
                "#B0BEC5",
                "#B0BEC5",
                "#B0BEC5",
                "#B0BEC5",
                "#B0BEC5",
                "#B0BEC5"
               ]
              ]
             }
            ],
            "label": "Topic 0",
            "method": "update"
           },
           {
            "args": [
             {
              "marker.color": [
               [
                "#B0BEC5",
                "red",
                "#B0BEC5",
                "#B0BEC5",
                "#B0BEC5",
                "#B0BEC5",
                "#B0BEC5",
                "#B0BEC5",
                "#B0BEC5",
                "#B0BEC5",
                "#B0BEC5",
                "#B0BEC5",
                "#B0BEC5",
                "#B0BEC5",
                "#B0BEC5"
               ]
              ]
             }
            ],
            "label": "Topic 1",
            "method": "update"
           },
           {
            "args": [
             {
              "marker.color": [
               [
                "#B0BEC5",
                "#B0BEC5",
                "red",
                "#B0BEC5",
                "#B0BEC5",
                "#B0BEC5",
                "#B0BEC5",
                "#B0BEC5",
                "#B0BEC5",
                "#B0BEC5",
                "#B0BEC5",
                "#B0BEC5",
                "#B0BEC5",
                "#B0BEC5",
                "#B0BEC5"
               ]
              ]
             }
            ],
            "label": "Topic 2",
            "method": "update"
           },
           {
            "args": [
             {
              "marker.color": [
               [
                "#B0BEC5",
                "#B0BEC5",
                "#B0BEC5",
                "red",
                "#B0BEC5",
                "#B0BEC5",
                "#B0BEC5",
                "#B0BEC5",
                "#B0BEC5",
                "#B0BEC5",
                "#B0BEC5",
                "#B0BEC5",
                "#B0BEC5",
                "#B0BEC5",
                "#B0BEC5"
               ]
              ]
             }
            ],
            "label": "Topic 3",
            "method": "update"
           },
           {
            "args": [
             {
              "marker.color": [
               [
                "#B0BEC5",
                "#B0BEC5",
                "#B0BEC5",
                "#B0BEC5",
                "red",
                "#B0BEC5",
                "#B0BEC5",
                "#B0BEC5",
                "#B0BEC5",
                "#B0BEC5",
                "#B0BEC5",
                "#B0BEC5",
                "#B0BEC5",
                "#B0BEC5",
                "#B0BEC5"
               ]
              ]
             }
            ],
            "label": "Topic 4",
            "method": "update"
           },
           {
            "args": [
             {
              "marker.color": [
               [
                "#B0BEC5",
                "#B0BEC5",
                "#B0BEC5",
                "#B0BEC5",
                "#B0BEC5",
                "red",
                "#B0BEC5",
                "#B0BEC5",
                "#B0BEC5",
                "#B0BEC5",
                "#B0BEC5",
                "#B0BEC5",
                "#B0BEC5",
                "#B0BEC5",
                "#B0BEC5"
               ]
              ]
             }
            ],
            "label": "Topic 5",
            "method": "update"
           },
           {
            "args": [
             {
              "marker.color": [
               [
                "#B0BEC5",
                "#B0BEC5",
                "#B0BEC5",
                "#B0BEC5",
                "#B0BEC5",
                "#B0BEC5",
                "red",
                "#B0BEC5",
                "#B0BEC5",
                "#B0BEC5",
                "#B0BEC5",
                "#B0BEC5",
                "#B0BEC5",
                "#B0BEC5",
                "#B0BEC5"
               ]
              ]
             }
            ],
            "label": "Topic 6",
            "method": "update"
           },
           {
            "args": [
             {
              "marker.color": [
               [
                "#B0BEC5",
                "#B0BEC5",
                "#B0BEC5",
                "#B0BEC5",
                "#B0BEC5",
                "#B0BEC5",
                "#B0BEC5",
                "red",
                "#B0BEC5",
                "#B0BEC5",
                "#B0BEC5",
                "#B0BEC5",
                "#B0BEC5",
                "#B0BEC5",
                "#B0BEC5"
               ]
              ]
             }
            ],
            "label": "Topic 7",
            "method": "update"
           },
           {
            "args": [
             {
              "marker.color": [
               [
                "#B0BEC5",
                "#B0BEC5",
                "#B0BEC5",
                "#B0BEC5",
                "#B0BEC5",
                "#B0BEC5",
                "#B0BEC5",
                "#B0BEC5",
                "red",
                "#B0BEC5",
                "#B0BEC5",
                "#B0BEC5",
                "#B0BEC5",
                "#B0BEC5",
                "#B0BEC5"
               ]
              ]
             }
            ],
            "label": "Topic 8",
            "method": "update"
           },
           {
            "args": [
             {
              "marker.color": [
               [
                "#B0BEC5",
                "#B0BEC5",
                "#B0BEC5",
                "#B0BEC5",
                "#B0BEC5",
                "#B0BEC5",
                "#B0BEC5",
                "#B0BEC5",
                "#B0BEC5",
                "red",
                "#B0BEC5",
                "#B0BEC5",
                "#B0BEC5",
                "#B0BEC5",
                "#B0BEC5"
               ]
              ]
             }
            ],
            "label": "Topic 9",
            "method": "update"
           },
           {
            "args": [
             {
              "marker.color": [
               [
                "#B0BEC5",
                "#B0BEC5",
                "#B0BEC5",
                "#B0BEC5",
                "#B0BEC5",
                "#B0BEC5",
                "#B0BEC5",
                "#B0BEC5",
                "#B0BEC5",
                "#B0BEC5",
                "red",
                "#B0BEC5",
                "#B0BEC5",
                "#B0BEC5",
                "#B0BEC5"
               ]
              ]
             }
            ],
            "label": "Topic 10",
            "method": "update"
           },
           {
            "args": [
             {
              "marker.color": [
               [
                "#B0BEC5",
                "#B0BEC5",
                "#B0BEC5",
                "#B0BEC5",
                "#B0BEC5",
                "#B0BEC5",
                "#B0BEC5",
                "#B0BEC5",
                "#B0BEC5",
                "#B0BEC5",
                "#B0BEC5",
                "red",
                "#B0BEC5",
                "#B0BEC5",
                "#B0BEC5"
               ]
              ]
             }
            ],
            "label": "Topic 11",
            "method": "update"
           },
           {
            "args": [
             {
              "marker.color": [
               [
                "#B0BEC5",
                "#B0BEC5",
                "#B0BEC5",
                "#B0BEC5",
                "#B0BEC5",
                "#B0BEC5",
                "#B0BEC5",
                "#B0BEC5",
                "#B0BEC5",
                "#B0BEC5",
                "#B0BEC5",
                "#B0BEC5",
                "red",
                "#B0BEC5",
                "#B0BEC5"
               ]
              ]
             }
            ],
            "label": "Topic 12",
            "method": "update"
           },
           {
            "args": [
             {
              "marker.color": [
               [
                "#B0BEC5",
                "#B0BEC5",
                "#B0BEC5",
                "#B0BEC5",
                "#B0BEC5",
                "#B0BEC5",
                "#B0BEC5",
                "#B0BEC5",
                "#B0BEC5",
                "#B0BEC5",
                "#B0BEC5",
                "#B0BEC5",
                "#B0BEC5",
                "red",
                "#B0BEC5"
               ]
              ]
             }
            ],
            "label": "Topic 13",
            "method": "update"
           },
           {
            "args": [
             {
              "marker.color": [
               [
                "#B0BEC5",
                "#B0BEC5",
                "#B0BEC5",
                "#B0BEC5",
                "#B0BEC5",
                "#B0BEC5",
                "#B0BEC5",
                "#B0BEC5",
                "#B0BEC5",
                "#B0BEC5",
                "#B0BEC5",
                "#B0BEC5",
                "#B0BEC5",
                "#B0BEC5",
                "red"
               ]
              ]
             }
            ],
            "label": "Topic 14",
            "method": "update"
           }
          ]
         }
        ],
        "template": {
         "data": {
          "bar": [
           {
            "error_x": {
             "color": "rgb(36,36,36)"
            },
            "error_y": {
             "color": "rgb(36,36,36)"
            },
            "marker": {
             "line": {
              "color": "white",
              "width": 0.5
             },
             "pattern": {
              "fillmode": "overlay",
              "size": 10,
              "solidity": 0.2
             }
            },
            "type": "bar"
           }
          ],
          "barpolar": [
           {
            "marker": {
             "line": {
              "color": "white",
              "width": 0.5
             },
             "pattern": {
              "fillmode": "overlay",
              "size": 10,
              "solidity": 0.2
             }
            },
            "type": "barpolar"
           }
          ],
          "carpet": [
           {
            "aaxis": {
             "endlinecolor": "rgb(36,36,36)",
             "gridcolor": "white",
             "linecolor": "white",
             "minorgridcolor": "white",
             "startlinecolor": "rgb(36,36,36)"
            },
            "baxis": {
             "endlinecolor": "rgb(36,36,36)",
             "gridcolor": "white",
             "linecolor": "white",
             "minorgridcolor": "white",
             "startlinecolor": "rgb(36,36,36)"
            },
            "type": "carpet"
           }
          ],
          "choropleth": [
           {
            "colorbar": {
             "outlinewidth": 1,
             "tickcolor": "rgb(36,36,36)",
             "ticks": "outside"
            },
            "type": "choropleth"
           }
          ],
          "contour": [
           {
            "colorbar": {
             "outlinewidth": 1,
             "tickcolor": "rgb(36,36,36)",
             "ticks": "outside"
            },
            "colorscale": [
             [
              0,
              "#440154"
             ],
             [
              0.1111111111111111,
              "#482878"
             ],
             [
              0.2222222222222222,
              "#3e4989"
             ],
             [
              0.3333333333333333,
              "#31688e"
             ],
             [
              0.4444444444444444,
              "#26828e"
             ],
             [
              0.5555555555555556,
              "#1f9e89"
             ],
             [
              0.6666666666666666,
              "#35b779"
             ],
             [
              0.7777777777777778,
              "#6ece58"
             ],
             [
              0.8888888888888888,
              "#b5de2b"
             ],
             [
              1,
              "#fde725"
             ]
            ],
            "type": "contour"
           }
          ],
          "contourcarpet": [
           {
            "colorbar": {
             "outlinewidth": 1,
             "tickcolor": "rgb(36,36,36)",
             "ticks": "outside"
            },
            "type": "contourcarpet"
           }
          ],
          "heatmap": [
           {
            "colorbar": {
             "outlinewidth": 1,
             "tickcolor": "rgb(36,36,36)",
             "ticks": "outside"
            },
            "colorscale": [
             [
              0,
              "#440154"
             ],
             [
              0.1111111111111111,
              "#482878"
             ],
             [
              0.2222222222222222,
              "#3e4989"
             ],
             [
              0.3333333333333333,
              "#31688e"
             ],
             [
              0.4444444444444444,
              "#26828e"
             ],
             [
              0.5555555555555556,
              "#1f9e89"
             ],
             [
              0.6666666666666666,
              "#35b779"
             ],
             [
              0.7777777777777778,
              "#6ece58"
             ],
             [
              0.8888888888888888,
              "#b5de2b"
             ],
             [
              1,
              "#fde725"
             ]
            ],
            "type": "heatmap"
           }
          ],
          "histogram": [
           {
            "marker": {
             "line": {
              "color": "white",
              "width": 0.6
             }
            },
            "type": "histogram"
           }
          ],
          "histogram2d": [
           {
            "colorbar": {
             "outlinewidth": 1,
             "tickcolor": "rgb(36,36,36)",
             "ticks": "outside"
            },
            "colorscale": [
             [
              0,
              "#440154"
             ],
             [
              0.1111111111111111,
              "#482878"
             ],
             [
              0.2222222222222222,
              "#3e4989"
             ],
             [
              0.3333333333333333,
              "#31688e"
             ],
             [
              0.4444444444444444,
              "#26828e"
             ],
             [
              0.5555555555555556,
              "#1f9e89"
             ],
             [
              0.6666666666666666,
              "#35b779"
             ],
             [
              0.7777777777777778,
              "#6ece58"
             ],
             [
              0.8888888888888888,
              "#b5de2b"
             ],
             [
              1,
              "#fde725"
             ]
            ],
            "type": "histogram2d"
           }
          ],
          "histogram2dcontour": [
           {
            "colorbar": {
             "outlinewidth": 1,
             "tickcolor": "rgb(36,36,36)",
             "ticks": "outside"
            },
            "colorscale": [
             [
              0,
              "#440154"
             ],
             [
              0.1111111111111111,
              "#482878"
             ],
             [
              0.2222222222222222,
              "#3e4989"
             ],
             [
              0.3333333333333333,
              "#31688e"
             ],
             [
              0.4444444444444444,
              "#26828e"
             ],
             [
              0.5555555555555556,
              "#1f9e89"
             ],
             [
              0.6666666666666666,
              "#35b779"
             ],
             [
              0.7777777777777778,
              "#6ece58"
             ],
             [
              0.8888888888888888,
              "#b5de2b"
             ],
             [
              1,
              "#fde725"
             ]
            ],
            "type": "histogram2dcontour"
           }
          ],
          "mesh3d": [
           {
            "colorbar": {
             "outlinewidth": 1,
             "tickcolor": "rgb(36,36,36)",
             "ticks": "outside"
            },
            "type": "mesh3d"
           }
          ],
          "parcoords": [
           {
            "line": {
             "colorbar": {
              "outlinewidth": 1,
              "tickcolor": "rgb(36,36,36)",
              "ticks": "outside"
             }
            },
            "type": "parcoords"
           }
          ],
          "pie": [
           {
            "automargin": true,
            "type": "pie"
           }
          ],
          "scatter": [
           {
            "fillpattern": {
             "fillmode": "overlay",
             "size": 10,
             "solidity": 0.2
            },
            "type": "scatter"
           }
          ],
          "scatter3d": [
           {
            "line": {
             "colorbar": {
              "outlinewidth": 1,
              "tickcolor": "rgb(36,36,36)",
              "ticks": "outside"
             }
            },
            "marker": {
             "colorbar": {
              "outlinewidth": 1,
              "tickcolor": "rgb(36,36,36)",
              "ticks": "outside"
             }
            },
            "type": "scatter3d"
           }
          ],
          "scattercarpet": [
           {
            "marker": {
             "colorbar": {
              "outlinewidth": 1,
              "tickcolor": "rgb(36,36,36)",
              "ticks": "outside"
             }
            },
            "type": "scattercarpet"
           }
          ],
          "scattergeo": [
           {
            "marker": {
             "colorbar": {
              "outlinewidth": 1,
              "tickcolor": "rgb(36,36,36)",
              "ticks": "outside"
             }
            },
            "type": "scattergeo"
           }
          ],
          "scattergl": [
           {
            "marker": {
             "colorbar": {
              "outlinewidth": 1,
              "tickcolor": "rgb(36,36,36)",
              "ticks": "outside"
             }
            },
            "type": "scattergl"
           }
          ],
          "scattermap": [
           {
            "marker": {
             "colorbar": {
              "outlinewidth": 1,
              "tickcolor": "rgb(36,36,36)",
              "ticks": "outside"
             }
            },
            "type": "scattermap"
           }
          ],
          "scattermapbox": [
           {
            "marker": {
             "colorbar": {
              "outlinewidth": 1,
              "tickcolor": "rgb(36,36,36)",
              "ticks": "outside"
             }
            },
            "type": "scattermapbox"
           }
          ],
          "scatterpolar": [
           {
            "marker": {
             "colorbar": {
              "outlinewidth": 1,
              "tickcolor": "rgb(36,36,36)",
              "ticks": "outside"
             }
            },
            "type": "scatterpolar"
           }
          ],
          "scatterpolargl": [
           {
            "marker": {
             "colorbar": {
              "outlinewidth": 1,
              "tickcolor": "rgb(36,36,36)",
              "ticks": "outside"
             }
            },
            "type": "scatterpolargl"
           }
          ],
          "scatterternary": [
           {
            "marker": {
             "colorbar": {
              "outlinewidth": 1,
              "tickcolor": "rgb(36,36,36)",
              "ticks": "outside"
             }
            },
            "type": "scatterternary"
           }
          ],
          "surface": [
           {
            "colorbar": {
             "outlinewidth": 1,
             "tickcolor": "rgb(36,36,36)",
             "ticks": "outside"
            },
            "colorscale": [
             [
              0,
              "#440154"
             ],
             [
              0.1111111111111111,
              "#482878"
             ],
             [
              0.2222222222222222,
              "#3e4989"
             ],
             [
              0.3333333333333333,
              "#31688e"
             ],
             [
              0.4444444444444444,
              "#26828e"
             ],
             [
              0.5555555555555556,
              "#1f9e89"
             ],
             [
              0.6666666666666666,
              "#35b779"
             ],
             [
              0.7777777777777778,
              "#6ece58"
             ],
             [
              0.8888888888888888,
              "#b5de2b"
             ],
             [
              1,
              "#fde725"
             ]
            ],
            "type": "surface"
           }
          ],
          "table": [
           {
            "cells": {
             "fill": {
              "color": "rgb(237,237,237)"
             },
             "line": {
              "color": "white"
             }
            },
            "header": {
             "fill": {
              "color": "rgb(217,217,217)"
             },
             "line": {
              "color": "white"
             }
            },
            "type": "table"
           }
          ]
         },
         "layout": {
          "annotationdefaults": {
           "arrowhead": 0,
           "arrowwidth": 1
          },
          "autotypenumbers": "strict",
          "coloraxis": {
           "colorbar": {
            "outlinewidth": 1,
            "tickcolor": "rgb(36,36,36)",
            "ticks": "outside"
           }
          },
          "colorscale": {
           "diverging": [
            [
             0,
             "rgb(103,0,31)"
            ],
            [
             0.1,
             "rgb(178,24,43)"
            ],
            [
             0.2,
             "rgb(214,96,77)"
            ],
            [
             0.3,
             "rgb(244,165,130)"
            ],
            [
             0.4,
             "rgb(253,219,199)"
            ],
            [
             0.5,
             "rgb(247,247,247)"
            ],
            [
             0.6,
             "rgb(209,229,240)"
            ],
            [
             0.7,
             "rgb(146,197,222)"
            ],
            [
             0.8,
             "rgb(67,147,195)"
            ],
            [
             0.9,
             "rgb(33,102,172)"
            ],
            [
             1,
             "rgb(5,48,97)"
            ]
           ],
           "sequential": [
            [
             0,
             "#440154"
            ],
            [
             0.1111111111111111,
             "#482878"
            ],
            [
             0.2222222222222222,
             "#3e4989"
            ],
            [
             0.3333333333333333,
             "#31688e"
            ],
            [
             0.4444444444444444,
             "#26828e"
            ],
            [
             0.5555555555555556,
             "#1f9e89"
            ],
            [
             0.6666666666666666,
             "#35b779"
            ],
            [
             0.7777777777777778,
             "#6ece58"
            ],
            [
             0.8888888888888888,
             "#b5de2b"
            ],
            [
             1,
             "#fde725"
            ]
           ],
           "sequentialminus": [
            [
             0,
             "#440154"
            ],
            [
             0.1111111111111111,
             "#482878"
            ],
            [
             0.2222222222222222,
             "#3e4989"
            ],
            [
             0.3333333333333333,
             "#31688e"
            ],
            [
             0.4444444444444444,
             "#26828e"
            ],
            [
             0.5555555555555556,
             "#1f9e89"
            ],
            [
             0.6666666666666666,
             "#35b779"
            ],
            [
             0.7777777777777778,
             "#6ece58"
            ],
            [
             0.8888888888888888,
             "#b5de2b"
            ],
            [
             1,
             "#fde725"
            ]
           ]
          },
          "colorway": [
           "#1F77B4",
           "#FF7F0E",
           "#2CA02C",
           "#D62728",
           "#9467BD",
           "#8C564B",
           "#E377C2",
           "#7F7F7F",
           "#BCBD22",
           "#17BECF"
          ],
          "font": {
           "color": "rgb(36,36,36)"
          },
          "geo": {
           "bgcolor": "white",
           "lakecolor": "white",
           "landcolor": "white",
           "showlakes": true,
           "showland": true,
           "subunitcolor": "white"
          },
          "hoverlabel": {
           "align": "left"
          },
          "hovermode": "closest",
          "mapbox": {
           "style": "light"
          },
          "paper_bgcolor": "white",
          "plot_bgcolor": "white",
          "polar": {
           "angularaxis": {
            "gridcolor": "rgb(232,232,232)",
            "linecolor": "rgb(36,36,36)",
            "showgrid": false,
            "showline": true,
            "ticks": "outside"
           },
           "bgcolor": "white",
           "radialaxis": {
            "gridcolor": "rgb(232,232,232)",
            "linecolor": "rgb(36,36,36)",
            "showgrid": false,
            "showline": true,
            "ticks": "outside"
           }
          },
          "scene": {
           "xaxis": {
            "backgroundcolor": "white",
            "gridcolor": "rgb(232,232,232)",
            "gridwidth": 2,
            "linecolor": "rgb(36,36,36)",
            "showbackground": true,
            "showgrid": false,
            "showline": true,
            "ticks": "outside",
            "zeroline": false,
            "zerolinecolor": "rgb(36,36,36)"
           },
           "yaxis": {
            "backgroundcolor": "white",
            "gridcolor": "rgb(232,232,232)",
            "gridwidth": 2,
            "linecolor": "rgb(36,36,36)",
            "showbackground": true,
            "showgrid": false,
            "showline": true,
            "ticks": "outside",
            "zeroline": false,
            "zerolinecolor": "rgb(36,36,36)"
           },
           "zaxis": {
            "backgroundcolor": "white",
            "gridcolor": "rgb(232,232,232)",
            "gridwidth": 2,
            "linecolor": "rgb(36,36,36)",
            "showbackground": true,
            "showgrid": false,
            "showline": true,
            "ticks": "outside",
            "zeroline": false,
            "zerolinecolor": "rgb(36,36,36)"
           }
          },
          "shapedefaults": {
           "fillcolor": "black",
           "line": {
            "width": 0
           },
           "opacity": 0.3
          },
          "ternary": {
           "aaxis": {
            "gridcolor": "rgb(232,232,232)",
            "linecolor": "rgb(36,36,36)",
            "showgrid": false,
            "showline": true,
            "ticks": "outside"
           },
           "baxis": {
            "gridcolor": "rgb(232,232,232)",
            "linecolor": "rgb(36,36,36)",
            "showgrid": false,
            "showline": true,
            "ticks": "outside"
           },
           "bgcolor": "white",
           "caxis": {
            "gridcolor": "rgb(232,232,232)",
            "linecolor": "rgb(36,36,36)",
            "showgrid": false,
            "showline": true,
            "ticks": "outside"
           }
          },
          "title": {
           "x": 0.05
          },
          "xaxis": {
           "automargin": true,
           "gridcolor": "rgb(232,232,232)",
           "linecolor": "rgb(36,36,36)",
           "showgrid": false,
           "showline": true,
           "ticks": "outside",
           "title": {
            "standoff": 15
           },
           "zeroline": false,
           "zerolinecolor": "rgb(36,36,36)"
          },
          "yaxis": {
           "automargin": true,
           "gridcolor": "rgb(232,232,232)",
           "linecolor": "rgb(36,36,36)",
           "showgrid": false,
           "showline": true,
           "ticks": "outside",
           "title": {
            "standoff": 15
           },
           "zeroline": false,
           "zerolinecolor": "rgb(36,36,36)"
          }
         }
        },
        "title": {
         "font": {
          "color": "Black",
          "size": 22
         },
         "text": "<b>Intertopic Distance Map</b>",
         "x": 0.5,
         "xanchor": "center",
         "y": 0.95,
         "yanchor": "top"
        },
        "width": 650,
        "xaxis": {
         "anchor": "y",
         "domain": [
          0,
          1
         ],
         "range": [
          -1.7263866662979126,
          15.573982238769531
         ],
         "title": {
          "text": ""
         },
         "visible": false
        },
        "yaxis": {
         "anchor": "x",
         "domain": [
          0,
          1
         ],
         "range": [
          -8.31969928741455,
          25.914276123046875
         ],
         "title": {
          "text": ""
         },
         "visible": false
        }
       }
      }
     },
     "metadata": {},
     "output_type": "display_data"
    }
   ],
   "source": [
    "topic_model_kmeans.visualize_barchart(top_n_topics=15)\n",
    "topic_model_kmeans.visualize_topics()"
   ]
  },
  {
   "cell_type": "code",
   "execution_count": 22,
   "id": "a95e4cb5",
   "metadata": {},
   "outputs": [],
   "source": [
    "# Save results to CSV\n",
    "df_topics = pd.DataFrame({\"Document\": docs, \"Topic\": topics_kmeans})\n",
    "df_topics.to_csv(\"topic_assignments_kmeans.csv\", index=False)\n",
    "\n",
    "# Save model\n",
    "# topic_model.save(\"bertopic_model_kmeans\")"
   ]
  },
  {
   "cell_type": "code",
   "execution_count": 23,
   "id": "8f54d160",
   "metadata": {},
   "outputs": [
    {
     "name": "stderr",
     "output_type": "stream",
     "text": [
      "0it [00:00, ?it/s]\n"
     ]
    },
    {
     "ename": "IndexError",
     "evalue": "index (276) out of range",
     "output_type": "error",
     "traceback": [
      "\u001b[31m---------------------------------------------------------------------------\u001b[39m",
      "\u001b[31mIndexError\u001b[39m                                Traceback (most recent call last)",
      "\u001b[36mCell\u001b[39m\u001b[36m \u001b[39m\u001b[32mIn[23]\u001b[39m\u001b[32m, line 1\u001b[39m\n\u001b[32m----> \u001b[39m\u001b[32m1\u001b[39m topics_over_time_kmeans = \u001b[43mtopic_model_kmeans\u001b[49m\u001b[43m.\u001b[49m\u001b[43mtopics_over_time\u001b[49m\u001b[43m(\u001b[49m\n\u001b[32m      2\u001b[39m \u001b[43m    \u001b[49m\u001b[43mdocs\u001b[49m\u001b[43m=\u001b[49m\u001b[43mdocs\u001b[49m\u001b[43m,\u001b[49m\n\u001b[32m      3\u001b[39m \u001b[43m    \u001b[49m\u001b[43mtopics\u001b[49m\u001b[43m=\u001b[49m\u001b[43mtopics_hdbscan\u001b[49m\u001b[43m,\u001b[49m\n\u001b[32m      4\u001b[39m \u001b[43m    \u001b[49m\u001b[43mtimestamps\u001b[49m\u001b[43m=\u001b[49m\u001b[43mdf\u001b[49m\u001b[43m[\u001b[49m\u001b[33;43m'\u001b[39;49m\u001b[33;43mcreated_at\u001b[39;49m\u001b[33;43m'\u001b[39;49m\u001b[43m]\u001b[49m\u001b[43m,\u001b[49m\n\u001b[32m      5\u001b[39m \u001b[43m    \u001b[49m\u001b[43mnr_bins\u001b[49m\u001b[43m=\u001b[49m\u001b[32;43m20\u001b[39;49m\u001b[43m,\u001b[49m\n\u001b[32m      6\u001b[39m \u001b[43m    \u001b[49m\u001b[43mevolution_tuning\u001b[49m\u001b[43m=\u001b[49m\u001b[38;5;28;43;01mTrue\u001b[39;49;00m\u001b[43m,\u001b[49m\n\u001b[32m      7\u001b[39m \u001b[43m    \u001b[49m\u001b[43mglobal_tuning\u001b[49m\u001b[43m=\u001b[49m\u001b[38;5;28;43;01mTrue\u001b[39;49;00m\n\u001b[32m      8\u001b[39m \u001b[43m)\u001b[49m\n\u001b[32m     10\u001b[39m topic_model_hdbscan.visualize_topics_over_time(topics_over_time_kmeans, top_n_topics=\u001b[32m10\u001b[39m)\n",
      "\u001b[36mFile \u001b[39m\u001b[32mf:\\UI\\Semester 8\\Tugas Akhir\\topic-modelling\\env\\Lib\\site-packages\\bertopic\\_bertopic.py:925\u001b[39m, in \u001b[36mBERTopic.topics_over_time\u001b[39m\u001b[34m(self, docs, timestamps, topics, nr_bins, datetime_format, evolution_tuning, global_tuning)\u001b[39m\n\u001b[32m    923\u001b[39m \u001b[38;5;28;01mif\u001b[39;00m global_tuning:\n\u001b[32m    924\u001b[39m     selected_topics = [all_topics_indices[topic] \u001b[38;5;28;01mfor\u001b[39;00m topic \u001b[38;5;129;01min\u001b[39;00m documents_per_topic.Topic.values]\n\u001b[32m--> \u001b[39m\u001b[32m925\u001b[39m     c_tf_idf = (\u001b[43mglobal_c_tf_idf\u001b[49m\u001b[43m[\u001b[49m\u001b[43mselected_topics\u001b[49m\u001b[43m]\u001b[49m + c_tf_idf) / \u001b[32m2.0\u001b[39m\n\u001b[32m    927\u001b[39m \u001b[38;5;66;03m# Extract the words per topic\u001b[39;00m\n\u001b[32m    928\u001b[39m words_per_topic = \u001b[38;5;28mself\u001b[39m._extract_words_per_topic(words, selection, c_tf_idf, calculate_aspects=\u001b[38;5;28;01mFalse\u001b[39;00m)\n",
      "\u001b[36mFile \u001b[39m\u001b[32mf:\\UI\\Semester 8\\Tugas Akhir\\topic-modelling\\env\\Lib\\site-packages\\scipy\\sparse\\_index.py:30\u001b[39m, in \u001b[36mIndexMixin.__getitem__\u001b[39m\u001b[34m(self, key)\u001b[39m\n\u001b[32m     29\u001b[39m \u001b[38;5;28;01mdef\u001b[39;00m\u001b[38;5;250m \u001b[39m\u001b[34m__getitem__\u001b[39m(\u001b[38;5;28mself\u001b[39m, key):\n\u001b[32m---> \u001b[39m\u001b[32m30\u001b[39m     index, new_shape = \u001b[38;5;28;43mself\u001b[39;49m\u001b[43m.\u001b[49m\u001b[43m_validate_indices\u001b[49m\u001b[43m(\u001b[49m\u001b[43mkey\u001b[49m\u001b[43m)\u001b[49m\n\u001b[32m     32\u001b[39m     \u001b[38;5;66;03m# 1D array\u001b[39;00m\n\u001b[32m     33\u001b[39m     \u001b[38;5;28;01mif\u001b[39;00m \u001b[38;5;28mlen\u001b[39m(index) == \u001b[32m1\u001b[39m:\n",
      "\u001b[36mFile \u001b[39m\u001b[32mf:\\UI\\Semester 8\\Tugas Akhir\\topic-modelling\\env\\Lib\\site-packages\\scipy\\sparse\\_index.py:288\u001b[39m, in \u001b[36mIndexMixin._validate_indices\u001b[39m\u001b[34m(self, key)\u001b[39m\n\u001b[32m    286\u001b[39m \u001b[38;5;28;01melse\u001b[39;00m:  \u001b[38;5;66;03m# dense array\u001b[39;00m\n\u001b[32m    287\u001b[39m     N = \u001b[38;5;28mself\u001b[39m._shape[index_ndim]\n\u001b[32m--> \u001b[39m\u001b[32m288\u001b[39m     idx = \u001b[38;5;28;43mself\u001b[39;49m\u001b[43m.\u001b[49m\u001b[43m_asindices\u001b[49m\u001b[43m(\u001b[49m\u001b[43midx\u001b[49m\u001b[43m,\u001b[49m\u001b[43m \u001b[49m\u001b[43mN\u001b[49m\u001b[43m)\u001b[49m\n\u001b[32m    289\u001b[39m     index.append(idx)\n\u001b[32m    290\u001b[39m     array_indices.append(index_ndim)\n",
      "\u001b[36mFile \u001b[39m\u001b[32mf:\\UI\\Semester 8\\Tugas Akhir\\topic-modelling\\env\\Lib\\site-packages\\scipy\\sparse\\_index.py:332\u001b[39m, in \u001b[36mIndexMixin._asindices\u001b[39m\u001b[34m(self, idx, length)\u001b[39m\n\u001b[32m    330\u001b[39m max_indx = x.max()\n\u001b[32m    331\u001b[39m \u001b[38;5;28;01mif\u001b[39;00m max_indx >= length:\n\u001b[32m--> \u001b[39m\u001b[32m332\u001b[39m     \u001b[38;5;28;01mraise\u001b[39;00m \u001b[38;5;167;01mIndexError\u001b[39;00m(\u001b[33m'\u001b[39m\u001b[33mindex (\u001b[39m\u001b[38;5;132;01m%d\u001b[39;00m\u001b[33m) out of range\u001b[39m\u001b[33m'\u001b[39m % max_indx)\n\u001b[32m    334\u001b[39m min_indx = x.min()\n\u001b[32m    335\u001b[39m \u001b[38;5;28;01mif\u001b[39;00m min_indx < \u001b[32m0\u001b[39m:\n",
      "\u001b[31mIndexError\u001b[39m: index (276) out of range"
     ]
    }
   ],
   "source": [
    "topics_over_time_kmeans = topic_model_kmeans.topics_over_time(\n",
    "    docs=docs,\n",
    "    topics=topics_hdbscan,\n",
    "    timestamps=df['created_at'],\n",
    "    nr_bins=20,\n",
    "    evolution_tuning=True,\n",
    "    global_tuning=True\n",
    ")\n",
    "\n",
    "topic_model_hdbscan.visualize_topics_over_time(topics_over_time_kmeans, top_n_topics=10)"
   ]
  },
  {
   "cell_type": "code",
   "execution_count": null,
   "id": "f4d6a4bd",
   "metadata": {},
   "outputs": [
    {
     "name": "stdout",
     "output_type": "stream",
     "text": [
      "HDBSCAN Topics: 205\n",
      "KMeans Topics: 15\n",
      "HDBSCAN Outliers: 9996\n"
     ]
    }
   ],
   "source": [
    "print(\"HDBSCAN Topics:\", len(set(topics_hdbscan)) - (1 if -1 in topics_hdbscan else 0))\n",
    "print(\"KMeans Topics:\", len(set(topics_kmeans)))\n",
    "\n",
    "# Outlier analysis\n",
    "print(\"HDBSCAN Outliers:\", topics_hdbscan.count(-1))  # KMeans won't have outliers"
   ]
  },
  {
   "cell_type": "code",
   "execution_count": null,
   "id": "5838f40d",
   "metadata": {},
   "outputs": [
    {
     "data": {
      "text/html": [
       "<div>\n",
       "<style scoped>\n",
       "    .dataframe tbody tr th:only-of-type {\n",
       "        vertical-align: middle;\n",
       "    }\n",
       "\n",
       "    .dataframe tbody tr th {\n",
       "        vertical-align: top;\n",
       "    }\n",
       "\n",
       "    .dataframe thead th {\n",
       "        text-align: right;\n",
       "    }\n",
       "</style>\n",
       "<table border=\"1\" class=\"dataframe\">\n",
       "  <thead>\n",
       "    <tr style=\"text-align: right;\">\n",
       "      <th></th>\n",
       "      <th>HDBSCAN</th>\n",
       "      <th>KMeans</th>\n",
       "    </tr>\n",
       "  </thead>\n",
       "  <tbody>\n",
       "    <tr>\n",
       "      <th>-1</th>\n",
       "      <td>9996</td>\n",
       "      <td>0</td>\n",
       "    </tr>\n",
       "    <tr>\n",
       "      <th>0</th>\n",
       "      <td>941</td>\n",
       "      <td>3525</td>\n",
       "    </tr>\n",
       "    <tr>\n",
       "      <th>1</th>\n",
       "      <td>903</td>\n",
       "      <td>3463</td>\n",
       "    </tr>\n",
       "    <tr>\n",
       "      <th>2</th>\n",
       "      <td>792</td>\n",
       "      <td>3304</td>\n",
       "    </tr>\n",
       "    <tr>\n",
       "      <th>3</th>\n",
       "      <td>789</td>\n",
       "      <td>2851</td>\n",
       "    </tr>\n",
       "    <tr>\n",
       "      <th>...</th>\n",
       "      <td>...</td>\n",
       "      <td>...</td>\n",
       "    </tr>\n",
       "    <tr>\n",
       "      <th>200</th>\n",
       "      <td>16</td>\n",
       "      <td>0</td>\n",
       "    </tr>\n",
       "    <tr>\n",
       "      <th>201</th>\n",
       "      <td>16</td>\n",
       "      <td>0</td>\n",
       "    </tr>\n",
       "    <tr>\n",
       "      <th>202</th>\n",
       "      <td>15</td>\n",
       "      <td>0</td>\n",
       "    </tr>\n",
       "    <tr>\n",
       "      <th>203</th>\n",
       "      <td>15</td>\n",
       "      <td>0</td>\n",
       "    </tr>\n",
       "    <tr>\n",
       "      <th>204</th>\n",
       "      <td>15</td>\n",
       "      <td>0</td>\n",
       "    </tr>\n",
       "  </tbody>\n",
       "</table>\n",
       "<p>206 rows × 2 columns</p>\n",
       "</div>"
      ],
      "text/plain": [
       "      HDBSCAN  KMeans\n",
       "-1       9996       0\n",
       " 0        941    3525\n",
       " 1        903    3463\n",
       " 2        792    3304\n",
       " 3        789    2851\n",
       "...       ...     ...\n",
       " 200       16       0\n",
       " 201       16       0\n",
       " 202       15       0\n",
       " 203       15       0\n",
       " 204       15       0\n",
       "\n",
       "[206 rows x 2 columns]"
      ]
     },
     "execution_count": 71,
     "metadata": {},
     "output_type": "execute_result"
    }
   ],
   "source": [
    "import pandas as pd\n",
    "from collections import Counter\n",
    "\n",
    "# Count documents per topic\n",
    "hdbscan_counts = Counter(topics_hdbscan)\n",
    "kmeans_counts = Counter(topics_kmeans)\n",
    "\n",
    "# Create DataFrame to compare\n",
    "comparison_df = pd.DataFrame({\n",
    "    \"HDBSCAN\": pd.Series(hdbscan_counts),\n",
    "    \"KMeans\": pd.Series(kmeans_counts)\n",
    "}).fillna(0).astype(int)\n",
    "\n",
    "comparison_df.sort_index()\n"
   ]
  }
 ],
 "metadata": {
  "kernelspec": {
   "display_name": "env",
   "language": "python",
   "name": "python3"
  },
  "language_info": {
   "codemirror_mode": {
    "name": "ipython",
    "version": 3
   },
   "file_extension": ".py",
   "mimetype": "text/x-python",
   "name": "python",
   "nbconvert_exporter": "python",
   "pygments_lexer": "ipython3",
   "version": "3.12.3"
  }
 },
 "nbformat": 4,
 "nbformat_minor": 5
}
