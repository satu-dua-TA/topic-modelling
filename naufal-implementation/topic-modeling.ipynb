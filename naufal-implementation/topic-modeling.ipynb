{
 "cells": [
  {
   "cell_type": "code",
   "execution_count": 17,
   "id": "be9df678",
   "metadata": {},
   "outputs": [],
   "source": [
    "from bertopic import BERTopic\n",
    "from sentence_transformers import SentenceTransformer\n",
    "from umap import UMAP\n",
    "import hdbscan\n",
    "from sklearn.decomposition import PCA\n",
    "import pandas as pd\n",
    "import matplotlib.pyplot as plt\n",
    "import seaborn as sns\n",
    "import torch"
   ]
  },
  {
   "cell_type": "code",
   "execution_count": 18,
   "id": "5011ae30",
   "metadata": {},
   "outputs": [
    {
     "name": "stdout",
     "output_type": "stream",
     "text": [
      "GPU available: False\n"
     ]
    }
   ],
   "source": [
    "print(\"GPU available:\", torch.cuda.is_available())"
   ]
  },
  {
   "cell_type": "code",
   "execution_count": 19,
   "id": "e786257c",
   "metadata": {},
   "outputs": [
    {
     "name": "stdout",
     "output_type": "stream",
     "text": [
      "Index(['created_at', 'id_str', 'full_text', 'lang', 'location'], dtype='object')\n"
     ]
    }
   ],
   "source": [
    "df = pd.read_csv(\"../data/stemmed_merged_kubu_01.csv\") \n",
    "print(df.columns)"
   ]
  },
  {
   "cell_type": "code",
   "execution_count": 20,
   "id": "182f365b",
   "metadata": {},
   "outputs": [],
   "source": [
    "df['full_text'] = df['full_text'].str.replace(r'(wk)+|\\bsih\\b', '', regex=True)"
   ]
  },
  {
   "cell_type": "code",
   "execution_count": 21,
   "id": "5f6c4214",
   "metadata": {},
   "outputs": [],
   "source": [
    "docs = df['full_text'].dropna().astype(str).tolist()"
   ]
  },
  {
   "cell_type": "code",
   "execution_count": 22,
   "id": "46e82f87",
   "metadata": {},
   "outputs": [
    {
     "data": {
      "text/plain": [
       "SentenceTransformer(\n",
       "  (0): Transformer({'max_seq_length': 128, 'do_lower_case': False}) with Transformer model: DistilBertModel \n",
       "  (1): Pooling({'word_embedding_dimension': 768, 'pooling_mode_cls_token': False, 'pooling_mode_mean_tokens': True, 'pooling_mode_max_tokens': False, 'pooling_mode_mean_sqrt_len_tokens': False, 'pooling_mode_weightedmean_tokens': False, 'pooling_mode_lasttoken': False, 'include_prompt': True})\n",
       "  (2): Dense({'in_features': 768, 'out_features': 512, 'bias': True, 'activation_function': 'torch.nn.modules.activation.Tanh'})\n",
       ")"
      ]
     },
     "execution_count": 22,
     "metadata": {},
     "output_type": "execute_result"
    }
   ],
   "source": [
    "embedding_model = SentenceTransformer(\"distiluse-base-multilingual-cased-v1\")\n",
    "embedding_model.to('cuda' if torch.cuda.is_available() else 'cpu')"
   ]
  },
  {
   "cell_type": "code",
   "execution_count": 23,
   "id": "ba63fd42",
   "metadata": {},
   "outputs": [],
   "source": [
    "pca_model = PCA(n_components=25)\n",
    "umap_model = UMAP(n_neighbors=15, n_components=5, min_dist=0.0, metric='cosine')\n",
    "\n",
    "hdbscan_model = hdbscan.HDBSCAN(\n",
    "    min_cluster_size=15,\n",
    "    metric='euclidean',\n",
    "    cluster_selection_method='eom',\n",
    "    prediction_data=True,\n",
    ")\n"
   ]
  },
  {
   "cell_type": "code",
   "execution_count": 28,
   "id": "19bd1c28",
   "metadata": {},
   "outputs": [
    {
     "name": "stderr",
     "output_type": "stream",
     "text": [
      "2025-05-20 18:45:42,901 - BERTopic - Embedding - Transforming documents to embeddings.\n"
     ]
    },
    {
     "name": "stderr",
     "output_type": "stream",
     "text": [
      "Batches: 100%|██████████| 934/934 [05:56<00:00,  2.62it/s]\n",
      "2025-05-20 18:51:39,219 - BERTopic - Embedding - Completed ✓\n",
      "2025-05-20 18:51:39,220 - BERTopic - Dimensionality - Fitting the dimensionality reduction algorithm\n",
      "2025-05-20 18:51:46,793 - BERTopic - Dimensionality - Completed ✓\n",
      "2025-05-20 18:51:46,796 - BERTopic - Cluster - Start clustering the reduced embeddings\n",
      "2025-05-20 18:53:28,179 - BERTopic - Cluster - Completed ✓\n",
      "2025-05-20 18:53:28,189 - BERTopic - Representation - Fine-tuning topics using representation models.\n",
      "2025-05-20 18:53:28,774 - BERTopic - Representation - Completed ✓\n",
      "2025-05-20 18:53:29,563 - BERTopic - Topic reduction - Reducing number of topics\n",
      "2025-05-20 18:53:29,593 - BERTopic - Representation - Fine-tuning topics using representation models.\n",
      "2025-05-20 18:53:29,938 - BERTopic - Representation - Completed ✓\n",
      "2025-05-20 18:53:29,943 - BERTopic - Topic reduction - Reduced number of topics from 201 to 30\n"
     ]
    },
    {
     "data": {
      "text/plain": [
       "<bertopic._bertopic.BERTopic at 0x19d26e9e510>"
      ]
     },
     "execution_count": 28,
     "metadata": {},
     "output_type": "execute_result"
    }
   ],
   "source": [
    "topic_model_hdbscan = BERTopic(\n",
    "    embedding_model=embedding_model,\n",
    "    umap_model=umap_model,\n",
    "    hdbscan_model=hdbscan_model,\n",
    "    calculate_probabilities=True,\n",
    "    verbose=True\n",
    ")\n",
    "\n",
    "topics_hdbscan, probs = topic_model_hdbscan.fit_transform(docs)\n",
    "\n",
    "topic_model_hdbscan.reduce_topics(docs, nr_topics=30)\n"
   ]
  },
  {
   "cell_type": "code",
   "execution_count": 29,
   "id": "76212730",
   "metadata": {},
   "outputs": [
    {
     "name": "stdout",
     "output_type": "stream",
     "text": [
      "    Topic  Count                                            Name  \\\n",
      "0      -1   8850                        -1_01_dukung_anies_pilih   \n",
      "1       0   7897                         0_01_dukung_orang_pilih   \n",
      "2       1   4350                       1_cak_imin_anies_baswedan   \n",
      "3       2   2041                2_presiden_anies_indonesia_pilih   \n",
      "4       3   1383                   3_presiden_calon_indonesia_01   \n",
      "5       4   1348             4_politik_demokrasi_partai_demokrat   \n",
      "6       5   1302                    5_debat_presiden_calon_wakil   \n",
      "7       6    567                    6_video_videotron_film_lihat   \n",
      "8       7    314                  7_kritik_komentar_opini_dukung   \n",
      "9       8    305                      8_twitter_berita_01_tiktok   \n",
      "10      9    231                       9_program_misi_visi_kerja   \n",
      "11     10    211                       10_pintar_orang_dukung_01   \n",
      "12     11    149                11_palestina_israel_merdeka_aksi   \n",
      "13     12    141                         12_kayak_cak_imin_lihat   \n",
      "14     13    102                       13_media_sosial_01_banget   \n",
      "15     14     89                14_legislatif_calon_partai_dewan   \n",
      "16     15     73                     15_pop_korea_kpopers_fandom   \n",
      "17     16     68                            16_jalan_00am_on_way   \n",
      "18     17     61               17_strategi_strategy_01_strategis   \n",
      "19     18     52                      18_viral_viralkan_ham_etik   \n",
      "20     19     52                     19_model_template_dukung_01   \n",
      "21     20     51                  20_reply_respons_respon_reaksi   \n",
      "22     21     49                        21_foto_blunder_cak_imin   \n",
      "23     22     33                    22_data_luhut_cherry_tambang   \n",
      "24     23     33                    23_bot_polling_robot_serobot   \n",
      "25     24     27                     24_konsep_gene_bosman_bagus   \n",
      "26     25     25  25_stadion_international_stadium_internasional   \n",
      "27     26     21                        26_estate_food_tani_blak   \n",
      "28     27     20                         27_store_app_unduh_play   \n",
      "29     28     16           28_handphone_sita_handphonenya_tolong   \n",
      "\n",
      "                                       Representation  \\\n",
      "0   [01, dukung, anies, pilih, pasang, calon, amin...   \n",
      "1   [01, dukung, orang, pilih, kayak, menang, pasa...   \n",
      "2   [cak, imin, anies, baswedan, rasyid, amin, aya...   \n",
      "3   [presiden, anies, indonesia, pilih, baswedan, ...   \n",
      "4   [presiden, calon, indonesia, 01, wakil, pilih,...   \n",
      "5   [politik, demokrasi, partai, demokrat, nasiona...   \n",
      "6   [debat, presiden, calon, wakil, imin, cak, dia...   \n",
      "7   [video, videotron, film, lihat, 01, anies, ton...   \n",
      "8   [kritik, komentar, opini, dukung, 01, pasang, ...   \n",
      "9   [twitter, berita, 01, tiktok, instagram, twit,...   \n",
      "10  [program, misi, visi, kerja, anies, bagus, 01,...   \n",
      "11  [pintar, orang, dukung, 01, bodoh, sok, aku, p...   \n",
      "12  [palestina, israel, merdeka, aksi, bela, free,...   \n",
      "13  [kayak, cak, imin, lihat, anies, orang, banget...   \n",
      "14  [media, sosial, 01, banget, televisi, dukung, ...   \n",
      "15  [legislatif, calon, partai, dewan, hukum, seja...   \n",
      "16  [pop, korea, kpopers, fandom, idol, bawa, fan,...   \n",
      "17  [jalan, 00am, on, way, the, 01, jamberapa, mob...   \n",
      "18  [strategi, strategy, 01, strategis, tim, joget...   \n",
      "19  [viral, viralkan, ham, etik, vaccine, mandator...   \n",
      "20  [model, template, dukung, 01, bikin, kampanye,...   \n",
      "21  [reply, respons, respon, reaksi, cak, imin, tw...   \n",
      "22  [foto, blunder, cak, imin, fadil, lihat, ls, m...   \n",
      "23  [data, luhut, cherry, tambang, picking, adu, c...   \n",
      "24  [bot, polling, robot, serobot, 01, duit, akun,...   \n",
      "25  [konsep, gene, bosman, bagus, navy, datengin, ...   \n",
      "26  [stadion, international, stadium, internasiona...   \n",
      "27  [estate, food, tani, blak, imin, gagal, cak, h...   \n",
      "28  [store, app, unduh, play, urut, nomor, basweda...   \n",
      "29  [handphone, sita, handphonenya, tolong, cak, i...   \n",
      "\n",
      "                                  Representative_Docs  \n",
      "0   [orang pikir waras pilih pasang calon 01 anies...  \n",
      "1   [pasang calon 01 awal suara kayak, orang cerda...  \n",
      "2   [tutup kampanye jis cak imin menang sambut pel...  \n",
      "3   [pilih presiden selesai presiden anies rasyid ...  \n",
      "4   [pilih pasang calon 01 calon presiden doang , ...  \n",
      "5   [ayo partai demokrasi indonesia juang rapat 01...  \n",
      "6   [cak imin ungkit debat calon wakil presiden de...  \n",
      "7   [video teriak anies, video kampanye 01 kena, l...  \n",
      "8   [bukti kritik pasang calon 01 opini fakta, ant...  \n",
      "9   [twitter banyak 01, masuk twitter cak imin, bu...  \n",
      "10  [ubah rubah program program profesional rakyat...  \n",
      "11  [pintar pintar pasang calon no 01 indonesia, p...  \n",
      "12  [cak imin menang pilih presiden palestina merd...  \n",
      "13  [butuh sosok kayak anies kayak cak imin , kaya...  \n",
      "14  [media sosial pilih anies pasang calon 01 alas...  \n",
      "15  [anies mantap calon legislatif gambar amin bed...  \n",
      "16  [awas bilang korea pop dukung 01, hati hati ko...  \n",
      "17  [01 00am jalan pasar, 01 00am jalan raja, 01 a...  \n",
      "18  [strategi 01 agama mayoritas, strategi cari pi...  \n",
      "19  [viral prabowo ndasmu etik cak imin komentar, ...  \n",
      "20  [banyak model dukung 01 cerdas, malas dukung 0...  \n",
      "21  [reply atas tim 01 , respons anies cak imin jo...  \n",
      "22  [maaf salah fokus foto cak imin, semenjak sala...  \n",
      "23  [heran heran anies fakta data fakta santun tud...  \n",
      "24              [ 01 pakai bot, debat bot 01, bot 01]  \n",
      "25  [kayak erti konsep ubah bawa pasang calon 01 b...  \n",
      "26  [lapang jis genang anies federation of interna...  \n",
      "27  [perintah rencana food estate tim anies cak im...  \n",
      "28  [calon wakil presiden nomor urut muhaimin iska...  \n",
      "29  [bingung cak imin live please timnas handphone...  \n"
     ]
    },
    {
     "data": {
      "application/vnd.plotly.v1+json": {
       "config": {
        "plotlyServerURL": "https://plot.ly"
       },
       "data": [
        {
         "coloraxis": "coloraxis",
         "hovertemplate": "x: %{x}<br>y: %{y}<br>Similarity Score: %{z}<extra></extra>",
         "name": "0",
         "type": "heatmap",
         "x": [
          "0_01_dukung_orang",
          "1_cak_imin_anies",
          "2_presiden_anies_indonesia",
          "3_presiden_calon_indonesia",
          "4_politik_demokrasi_partai",
          "5_debat_presiden_calon",
          "6_video_videotron_film",
          "7_kritik_komentar_opini",
          "8_twitter_berita_01",
          "9_program_misi_visi",
          "10_pintar_orang_dukung",
          "11_palestina_israel_merdeka",
          "12_kayak_cak_imin",
          "13_media_sosial_01",
          "14_legislatif_calon_partai",
          "15_pop_korea_kpopers",
          "16_jalan_00am_on",
          "17_strategi_strategy_01",
          "18_viral_viralkan_ham",
          "19_model_template_dukung",
          "20_reply_respons_respon",
          "21_foto_blunder_cak",
          "22_data_luhut_cherry",
          "23_bot_polling_robot",
          "24_konsep_gene_bosman",
          "25_stadion_international_st...",
          "26_estate_food_tani",
          "27_store_app_unduh",
          "28_handphone_sita_handphone..."
         ],
         "xaxis": "x",
         "y": [
          "0_01_dukung_orang",
          "1_cak_imin_anies",
          "2_presiden_anies_indonesia",
          "3_presiden_calon_indonesia",
          "4_politik_demokrasi_partai",
          "5_debat_presiden_calon",
          "6_video_videotron_film",
          "7_kritik_komentar_opini",
          "8_twitter_berita_01",
          "9_program_misi_visi",
          "10_pintar_orang_dukung",
          "11_palestina_israel_merdeka",
          "12_kayak_cak_imin",
          "13_media_sosial_01",
          "14_legislatif_calon_partai",
          "15_pop_korea_kpopers",
          "16_jalan_00am_on",
          "17_strategi_strategy_01",
          "18_viral_viralkan_ham",
          "19_model_template_dukung",
          "20_reply_respons_respon",
          "21_foto_blunder_cak",
          "22_data_luhut_cherry",
          "23_bot_polling_robot",
          "24_konsep_gene_bosman",
          "25_stadion_international_st...",
          "26_estate_food_tani",
          "27_store_app_unduh",
          "28_handphone_sita_handphone..."
         ],
         "yaxis": "y",
         "z": {
          "bdata": "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",
          "dtype": "f8",
          "shape": "29, 29"
         }
        }
       ],
       "layout": {
        "coloraxis": {
         "colorbar": {
          "title": {
           "text": "Similarity Score"
          }
         },
         "colorscale": [
          [
           0,
           "rgb(247,252,240)"
          ],
          [
           0.125,
           "rgb(224,243,219)"
          ],
          [
           0.25,
           "rgb(204,235,197)"
          ],
          [
           0.375,
           "rgb(168,221,181)"
          ],
          [
           0.5,
           "rgb(123,204,196)"
          ],
          [
           0.625,
           "rgb(78,179,211)"
          ],
          [
           0.75,
           "rgb(43,140,190)"
          ],
          [
           0.875,
           "rgb(8,104,172)"
          ],
          [
           1,
           "rgb(8,64,129)"
          ]
         ]
        },
        "height": 800,
        "hoverlabel": {
         "bgcolor": "white",
         "font": {
          "family": "Rockwell",
          "size": 16
         }
        },
        "legend": {
         "title": {
          "text": "Trend"
         }
        },
        "margin": {
         "t": 60
        },
        "showlegend": true,
        "template": {
         "data": {
          "bar": [
           {
            "error_x": {
             "color": "#2a3f5f"
            },
            "error_y": {
             "color": "#2a3f5f"
            },
            "marker": {
             "line": {
              "color": "#E5ECF6",
              "width": 0.5
             },
             "pattern": {
              "fillmode": "overlay",
              "size": 10,
              "solidity": 0.2
             }
            },
            "type": "bar"
           }
          ],
          "barpolar": [
           {
            "marker": {
             "line": {
              "color": "#E5ECF6",
              "width": 0.5
             },
             "pattern": {
              "fillmode": "overlay",
              "size": 10,
              "solidity": 0.2
             }
            },
            "type": "barpolar"
           }
          ],
          "carpet": [
           {
            "aaxis": {
             "endlinecolor": "#2a3f5f",
             "gridcolor": "white",
             "linecolor": "white",
             "minorgridcolor": "white",
             "startlinecolor": "#2a3f5f"
            },
            "baxis": {
             "endlinecolor": "#2a3f5f",
             "gridcolor": "white",
             "linecolor": "white",
             "minorgridcolor": "white",
             "startlinecolor": "#2a3f5f"
            },
            "type": "carpet"
           }
          ],
          "choropleth": [
           {
            "colorbar": {
             "outlinewidth": 0,
             "ticks": ""
            },
            "type": "choropleth"
           }
          ],
          "contour": [
           {
            "colorbar": {
             "outlinewidth": 0,
             "ticks": ""
            },
            "colorscale": [
             [
              0,
              "#0d0887"
             ],
             [
              0.1111111111111111,
              "#46039f"
             ],
             [
              0.2222222222222222,
              "#7201a8"
             ],
             [
              0.3333333333333333,
              "#9c179e"
             ],
             [
              0.4444444444444444,
              "#bd3786"
             ],
             [
              0.5555555555555556,
              "#d8576b"
             ],
             [
              0.6666666666666666,
              "#ed7953"
             ],
             [
              0.7777777777777778,
              "#fb9f3a"
             ],
             [
              0.8888888888888888,
              "#fdca26"
             ],
             [
              1,
              "#f0f921"
             ]
            ],
            "type": "contour"
           }
          ],
          "contourcarpet": [
           {
            "colorbar": {
             "outlinewidth": 0,
             "ticks": ""
            },
            "type": "contourcarpet"
           }
          ],
          "heatmap": [
           {
            "colorbar": {
             "outlinewidth": 0,
             "ticks": ""
            },
            "colorscale": [
             [
              0,
              "#0d0887"
             ],
             [
              0.1111111111111111,
              "#46039f"
             ],
             [
              0.2222222222222222,
              "#7201a8"
             ],
             [
              0.3333333333333333,
              "#9c179e"
             ],
             [
              0.4444444444444444,
              "#bd3786"
             ],
             [
              0.5555555555555556,
              "#d8576b"
             ],
             [
              0.6666666666666666,
              "#ed7953"
             ],
             [
              0.7777777777777778,
              "#fb9f3a"
             ],
             [
              0.8888888888888888,
              "#fdca26"
             ],
             [
              1,
              "#f0f921"
             ]
            ],
            "type": "heatmap"
           }
          ],
          "histogram": [
           {
            "marker": {
             "pattern": {
              "fillmode": "overlay",
              "size": 10,
              "solidity": 0.2
             }
            },
            "type": "histogram"
           }
          ],
          "histogram2d": [
           {
            "colorbar": {
             "outlinewidth": 0,
             "ticks": ""
            },
            "colorscale": [
             [
              0,
              "#0d0887"
             ],
             [
              0.1111111111111111,
              "#46039f"
             ],
             [
              0.2222222222222222,
              "#7201a8"
             ],
             [
              0.3333333333333333,
              "#9c179e"
             ],
             [
              0.4444444444444444,
              "#bd3786"
             ],
             [
              0.5555555555555556,
              "#d8576b"
             ],
             [
              0.6666666666666666,
              "#ed7953"
             ],
             [
              0.7777777777777778,
              "#fb9f3a"
             ],
             [
              0.8888888888888888,
              "#fdca26"
             ],
             [
              1,
              "#f0f921"
             ]
            ],
            "type": "histogram2d"
           }
          ],
          "histogram2dcontour": [
           {
            "colorbar": {
             "outlinewidth": 0,
             "ticks": ""
            },
            "colorscale": [
             [
              0,
              "#0d0887"
             ],
             [
              0.1111111111111111,
              "#46039f"
             ],
             [
              0.2222222222222222,
              "#7201a8"
             ],
             [
              0.3333333333333333,
              "#9c179e"
             ],
             [
              0.4444444444444444,
              "#bd3786"
             ],
             [
              0.5555555555555556,
              "#d8576b"
             ],
             [
              0.6666666666666666,
              "#ed7953"
             ],
             [
              0.7777777777777778,
              "#fb9f3a"
             ],
             [
              0.8888888888888888,
              "#fdca26"
             ],
             [
              1,
              "#f0f921"
             ]
            ],
            "type": "histogram2dcontour"
           }
          ],
          "mesh3d": [
           {
            "colorbar": {
             "outlinewidth": 0,
             "ticks": ""
            },
            "type": "mesh3d"
           }
          ],
          "parcoords": [
           {
            "line": {
             "colorbar": {
              "outlinewidth": 0,
              "ticks": ""
             }
            },
            "type": "parcoords"
           }
          ],
          "pie": [
           {
            "automargin": true,
            "type": "pie"
           }
          ],
          "scatter": [
           {
            "fillpattern": {
             "fillmode": "overlay",
             "size": 10,
             "solidity": 0.2
            },
            "type": "scatter"
           }
          ],
          "scatter3d": [
           {
            "line": {
             "colorbar": {
              "outlinewidth": 0,
              "ticks": ""
             }
            },
            "marker": {
             "colorbar": {
              "outlinewidth": 0,
              "ticks": ""
             }
            },
            "type": "scatter3d"
           }
          ],
          "scattercarpet": [
           {
            "marker": {
             "colorbar": {
              "outlinewidth": 0,
              "ticks": ""
             }
            },
            "type": "scattercarpet"
           }
          ],
          "scattergeo": [
           {
            "marker": {
             "colorbar": {
              "outlinewidth": 0,
              "ticks": ""
             }
            },
            "type": "scattergeo"
           }
          ],
          "scattergl": [
           {
            "marker": {
             "colorbar": {
              "outlinewidth": 0,
              "ticks": ""
             }
            },
            "type": "scattergl"
           }
          ],
          "scattermap": [
           {
            "marker": {
             "colorbar": {
              "outlinewidth": 0,
              "ticks": ""
             }
            },
            "type": "scattermap"
           }
          ],
          "scattermapbox": [
           {
            "marker": {
             "colorbar": {
              "outlinewidth": 0,
              "ticks": ""
             }
            },
            "type": "scattermapbox"
           }
          ],
          "scatterpolar": [
           {
            "marker": {
             "colorbar": {
              "outlinewidth": 0,
              "ticks": ""
             }
            },
            "type": "scatterpolar"
           }
          ],
          "scatterpolargl": [
           {
            "marker": {
             "colorbar": {
              "outlinewidth": 0,
              "ticks": ""
             }
            },
            "type": "scatterpolargl"
           }
          ],
          "scatterternary": [
           {
            "marker": {
             "colorbar": {
              "outlinewidth": 0,
              "ticks": ""
             }
            },
            "type": "scatterternary"
           }
          ],
          "surface": [
           {
            "colorbar": {
             "outlinewidth": 0,
             "ticks": ""
            },
            "colorscale": [
             [
              0,
              "#0d0887"
             ],
             [
              0.1111111111111111,
              "#46039f"
             ],
             [
              0.2222222222222222,
              "#7201a8"
             ],
             [
              0.3333333333333333,
              "#9c179e"
             ],
             [
              0.4444444444444444,
              "#bd3786"
             ],
             [
              0.5555555555555556,
              "#d8576b"
             ],
             [
              0.6666666666666666,
              "#ed7953"
             ],
             [
              0.7777777777777778,
              "#fb9f3a"
             ],
             [
              0.8888888888888888,
              "#fdca26"
             ],
             [
              1,
              "#f0f921"
             ]
            ],
            "type": "surface"
           }
          ],
          "table": [
           {
            "cells": {
             "fill": {
              "color": "#EBF0F8"
             },
             "line": {
              "color": "white"
             }
            },
            "header": {
             "fill": {
              "color": "#C8D4E3"
             },
             "line": {
              "color": "white"
             }
            },
            "type": "table"
           }
          ]
         },
         "layout": {
          "annotationdefaults": {
           "arrowcolor": "#2a3f5f",
           "arrowhead": 0,
           "arrowwidth": 1
          },
          "autotypenumbers": "strict",
          "coloraxis": {
           "colorbar": {
            "outlinewidth": 0,
            "ticks": ""
           }
          },
          "colorscale": {
           "diverging": [
            [
             0,
             "#8e0152"
            ],
            [
             0.1,
             "#c51b7d"
            ],
            [
             0.2,
             "#de77ae"
            ],
            [
             0.3,
             "#f1b6da"
            ],
            [
             0.4,
             "#fde0ef"
            ],
            [
             0.5,
             "#f7f7f7"
            ],
            [
             0.6,
             "#e6f5d0"
            ],
            [
             0.7,
             "#b8e186"
            ],
            [
             0.8,
             "#7fbc41"
            ],
            [
             0.9,
             "#4d9221"
            ],
            [
             1,
             "#276419"
            ]
           ],
           "sequential": [
            [
             0,
             "#0d0887"
            ],
            [
             0.1111111111111111,
             "#46039f"
            ],
            [
             0.2222222222222222,
             "#7201a8"
            ],
            [
             0.3333333333333333,
             "#9c179e"
            ],
            [
             0.4444444444444444,
             "#bd3786"
            ],
            [
             0.5555555555555556,
             "#d8576b"
            ],
            [
             0.6666666666666666,
             "#ed7953"
            ],
            [
             0.7777777777777778,
             "#fb9f3a"
            ],
            [
             0.8888888888888888,
             "#fdca26"
            ],
            [
             1,
             "#f0f921"
            ]
           ],
           "sequentialminus": [
            [
             0,
             "#0d0887"
            ],
            [
             0.1111111111111111,
             "#46039f"
            ],
            [
             0.2222222222222222,
             "#7201a8"
            ],
            [
             0.3333333333333333,
             "#9c179e"
            ],
            [
             0.4444444444444444,
             "#bd3786"
            ],
            [
             0.5555555555555556,
             "#d8576b"
            ],
            [
             0.6666666666666666,
             "#ed7953"
            ],
            [
             0.7777777777777778,
             "#fb9f3a"
            ],
            [
             0.8888888888888888,
             "#fdca26"
            ],
            [
             1,
             "#f0f921"
            ]
           ]
          },
          "colorway": [
           "#636efa",
           "#EF553B",
           "#00cc96",
           "#ab63fa",
           "#FFA15A",
           "#19d3f3",
           "#FF6692",
           "#B6E880",
           "#FF97FF",
           "#FECB52"
          ],
          "font": {
           "color": "#2a3f5f"
          },
          "geo": {
           "bgcolor": "white",
           "lakecolor": "white",
           "landcolor": "#E5ECF6",
           "showlakes": true,
           "showland": true,
           "subunitcolor": "white"
          },
          "hoverlabel": {
           "align": "left"
          },
          "hovermode": "closest",
          "mapbox": {
           "style": "light"
          },
          "paper_bgcolor": "white",
          "plot_bgcolor": "#E5ECF6",
          "polar": {
           "angularaxis": {
            "gridcolor": "white",
            "linecolor": "white",
            "ticks": ""
           },
           "bgcolor": "#E5ECF6",
           "radialaxis": {
            "gridcolor": "white",
            "linecolor": "white",
            "ticks": ""
           }
          },
          "scene": {
           "xaxis": {
            "backgroundcolor": "#E5ECF6",
            "gridcolor": "white",
            "gridwidth": 2,
            "linecolor": "white",
            "showbackground": true,
            "ticks": "",
            "zerolinecolor": "white"
           },
           "yaxis": {
            "backgroundcolor": "#E5ECF6",
            "gridcolor": "white",
            "gridwidth": 2,
            "linecolor": "white",
            "showbackground": true,
            "ticks": "",
            "zerolinecolor": "white"
           },
           "zaxis": {
            "backgroundcolor": "#E5ECF6",
            "gridcolor": "white",
            "gridwidth": 2,
            "linecolor": "white",
            "showbackground": true,
            "ticks": "",
            "zerolinecolor": "white"
           }
          },
          "shapedefaults": {
           "line": {
            "color": "#2a3f5f"
           }
          },
          "ternary": {
           "aaxis": {
            "gridcolor": "white",
            "linecolor": "white",
            "ticks": ""
           },
           "baxis": {
            "gridcolor": "white",
            "linecolor": "white",
            "ticks": ""
           },
           "bgcolor": "#E5ECF6",
           "caxis": {
            "gridcolor": "white",
            "linecolor": "white",
            "ticks": ""
           }
          },
          "title": {
           "x": 0.05
          },
          "xaxis": {
           "automargin": true,
           "gridcolor": "white",
           "linecolor": "white",
           "ticks": "",
           "title": {
            "standoff": 15
           },
           "zerolinecolor": "white",
           "zerolinewidth": 2
          },
          "yaxis": {
           "automargin": true,
           "gridcolor": "white",
           "linecolor": "white",
           "ticks": "",
           "title": {
            "standoff": 15
           },
           "zerolinecolor": "white",
           "zerolinewidth": 2
          }
         }
        },
        "title": {
         "font": {
          "color": "Black",
          "size": 22
         },
         "text": "<b>Similarity Matrix</b>",
         "x": 0.55,
         "xanchor": "center",
         "y": 0.95,
         "yanchor": "top"
        },
        "width": 800,
        "xaxis": {
         "anchor": "y",
         "constrain": "domain",
         "domain": [
          0,
          1
         ],
         "scaleanchor": "y"
        },
        "yaxis": {
         "anchor": "x",
         "autorange": "reversed",
         "constrain": "domain",
         "domain": [
          0,
          1
         ]
        }
       }
      }
     },
     "metadata": {},
     "output_type": "display_data"
    }
   ],
   "source": [
    "# Topic summary table\n",
    "topic_info = topic_model_hdbscan.get_topic_info()\n",
    "print(topic_info)\n",
    "\n",
    "# Interactive visualizations\n",
    "topic_model_hdbscan.visualize_topics()\n",
    "topic_model_hdbscan.visualize_barchart(top_n_topics=10)\n",
    "topic_model_hdbscan.visualize_heatmap()\n"
   ]
  },
  {
   "cell_type": "code",
   "execution_count": 30,
   "id": "f8de4afc",
   "metadata": {},
   "outputs": [
    {
     "data": {
      "text/html": [
       "<div>\n",
       "<style scoped>\n",
       "    .dataframe tbody tr th:only-of-type {\n",
       "        vertical-align: middle;\n",
       "    }\n",
       "\n",
       "    .dataframe tbody tr th {\n",
       "        vertical-align: top;\n",
       "    }\n",
       "\n",
       "    .dataframe thead th {\n",
       "        text-align: right;\n",
       "    }\n",
       "</style>\n",
       "<table border=\"1\" class=\"dataframe\">\n",
       "  <thead>\n",
       "    <tr style=\"text-align: right;\">\n",
       "      <th></th>\n",
       "      <th>Topic</th>\n",
       "      <th>Count</th>\n",
       "      <th>Name</th>\n",
       "      <th>Representation</th>\n",
       "      <th>Representative_Docs</th>\n",
       "    </tr>\n",
       "  </thead>\n",
       "  <tbody>\n",
       "    <tr>\n",
       "      <th>0</th>\n",
       "      <td>-1</td>\n",
       "      <td>8850</td>\n",
       "      <td>-1_01_dukung_anies_pilih</td>\n",
       "      <td>[01, dukung, anies, pilih, pasang, calon, amin...</td>\n",
       "      <td>[orang pikir waras pilih pasang calon 01 anies...</td>\n",
       "    </tr>\n",
       "    <tr>\n",
       "      <th>1</th>\n",
       "      <td>0</td>\n",
       "      <td>7897</td>\n",
       "      <td>0_01_dukung_orang_pilih</td>\n",
       "      <td>[01, dukung, orang, pilih, kayak, menang, pasa...</td>\n",
       "      <td>[pasang calon 01 awal suara kayak, orang cerda...</td>\n",
       "    </tr>\n",
       "    <tr>\n",
       "      <th>2</th>\n",
       "      <td>1</td>\n",
       "      <td>4350</td>\n",
       "      <td>1_cak_imin_anies_baswedan</td>\n",
       "      <td>[cak, imin, anies, baswedan, rasyid, amin, aya...</td>\n",
       "      <td>[tutup kampanye jis cak imin menang sambut pel...</td>\n",
       "    </tr>\n",
       "    <tr>\n",
       "      <th>3</th>\n",
       "      <td>2</td>\n",
       "      <td>2041</td>\n",
       "      <td>2_presiden_anies_indonesia_pilih</td>\n",
       "      <td>[presiden, anies, indonesia, pilih, baswedan, ...</td>\n",
       "      <td>[pilih presiden selesai presiden anies rasyid ...</td>\n",
       "    </tr>\n",
       "    <tr>\n",
       "      <th>4</th>\n",
       "      <td>3</td>\n",
       "      <td>1383</td>\n",
       "      <td>3_presiden_calon_indonesia_01</td>\n",
       "      <td>[presiden, calon, indonesia, 01, wakil, pilih,...</td>\n",
       "      <td>[pilih pasang calon 01 calon presiden doang , ...</td>\n",
       "    </tr>\n",
       "  </tbody>\n",
       "</table>\n",
       "</div>"
      ],
      "text/plain": [
       "   Topic  Count                              Name  \\\n",
       "0     -1   8850          -1_01_dukung_anies_pilih   \n",
       "1      0   7897           0_01_dukung_orang_pilih   \n",
       "2      1   4350         1_cak_imin_anies_baswedan   \n",
       "3      2   2041  2_presiden_anies_indonesia_pilih   \n",
       "4      3   1383     3_presiden_calon_indonesia_01   \n",
       "\n",
       "                                      Representation  \\\n",
       "0  [01, dukung, anies, pilih, pasang, calon, amin...   \n",
       "1  [01, dukung, orang, pilih, kayak, menang, pasa...   \n",
       "2  [cak, imin, anies, baswedan, rasyid, amin, aya...   \n",
       "3  [presiden, anies, indonesia, pilih, baswedan, ...   \n",
       "4  [presiden, calon, indonesia, 01, wakil, pilih,...   \n",
       "\n",
       "                                 Representative_Docs  \n",
       "0  [orang pikir waras pilih pasang calon 01 anies...  \n",
       "1  [pasang calon 01 awal suara kayak, orang cerda...  \n",
       "2  [tutup kampanye jis cak imin menang sambut pel...  \n",
       "3  [pilih presiden selesai presiden anies rasyid ...  \n",
       "4  [pilih pasang calon 01 calon presiden doang , ...  "
      ]
     },
     "metadata": {},
     "output_type": "display_data"
    }
   ],
   "source": [
    "topic_info = topic_model_hdbscan.get_topic_info()\n",
    "display(topic_info.head())        "
   ]
  },
  {
   "cell_type": "code",
   "execution_count": 31,
   "id": "c8335c1c",
   "metadata": {},
   "outputs": [
    {
     "name": "stdout",
     "output_type": "stream",
     "text": [
      "\n",
      "Topic -1\n",
      "[('01', np.float64(0.033769738953936826)), ('dukung', np.float64(0.023431180737116898)), ('anies', np.float64(0.017041645121952026)), ('pilih', np.float64(0.016082903248091775)), ('pasang', np.float64(0.014483684313922142)), ('calon', np.float64(0.013865910187683232)), ('amin', np.float64(0.013206987635296596)), ('imin', np.float64(0.013178019222805513)), ('orang', np.float64(0.012978840935215657)), ('banget', np.float64(0.012872053105648712))]\n",
      "\n",
      "Topic 0\n",
      "[('01', np.float64(0.0490007585834405)), ('dukung', np.float64(0.026941556660253677)), ('orang', np.float64(0.020828194056245843)), ('pilih', np.float64(0.02056598326767903)), ('kayak', np.float64(0.020138182561019864)), ('menang', np.float64(0.017681476923224172)), ('pasang', np.float64(0.017467365055288835)), ('suara', np.float64(0.016226352416607345)), ('banget', np.float64(0.01395728994742787)), ('calon', np.float64(0.012562618820492123))]\n",
      "\n",
      "Topic 1\n",
      "[('cak', np.float64(0.05253600116134086)), ('imin', np.float64(0.05213808198914288)), ('anies', np.float64(0.05079218507006599)), ('baswedan', np.float64(0.03767430459370237)), ('rasyid', np.float64(0.029051445855710966)), ('amin', np.float64(0.01786633942152763)), ('ayah', np.float64(0.015531095038122698)), ('muhaimin', np.float64(0.014361203653262385)), ('allah', np.float64(0.013384471707470235)), ('kampanye', np.float64(0.012060274766766741))]\n",
      "\n",
      "Topic 2\n",
      "[('presiden', np.float64(0.07151333503135843)), ('anies', np.float64(0.047702855222345505)), ('indonesia', np.float64(0.04524898702456515)), ('pilih', np.float64(0.03842947670499705)), ('baswedan', np.float64(0.03225831802108238)), ('calon', np.float64(0.025794133725456043)), ('wakil', np.float64(0.02311551073269793)), ('rasyid', np.float64(0.021519044333111026)), ('amin', np.float64(0.019872660121360283)), ('menang', np.float64(0.017733864113135184))]\n",
      "\n",
      "Topic 3\n",
      "[('presiden', np.float64(0.07537660385875149)), ('calon', np.float64(0.05775164060320212)), ('indonesia', np.float64(0.05067340064694517)), ('01', np.float64(0.033888408544990936)), ('wakil', np.float64(0.03225678894315569)), ('pilih', np.float64(0.02456499606526436)), ('dukung', np.float64(0.01859152503959268)), ('amin', np.float64(0.017109773493555358)), ('rakyat', np.float64(0.0160010982234785)), ('pasang', np.float64(0.01552925514448464))]\n",
      "\n",
      "Topic 4\n",
      "[('politik', np.float64(0.08520255338347459)), ('demokrasi', np.float64(0.06155641724839861)), ('partai', np.float64(0.05515078373074738)), ('demokrat', np.float64(0.046160062633217175)), ('nasional', np.float64(0.028546202210435925)), ('identitas', np.float64(0.026934322003392693)), ('indonesia', np.float64(0.026431996779733506)), ('juang', np.float64(0.025957590420669925)), ('pilih', np.float64(0.023309219345313683)), ('anies', np.float64(0.021564478531159517))]\n",
      "\n",
      "Topic 5\n",
      "[('debat', np.float64(0.14437407870532243)), ('presiden', np.float64(0.039699693698130194)), ('calon', np.float64(0.03832587874624991)), ('wakil', np.float64(0.0280473789952328)), ('imin', np.float64(0.02629417279065838)), ('cak', np.float64(0.026233273573737354)), ('dialog', np.float64(0.02514626547836475)), ('anies', np.float64(0.020511652316122245)), ('kemarin', np.float64(0.018456974363323535)), ('gibran', np.float64(0.01804349464674711))]\n",
      "\n",
      "Topic 6\n",
      "[('video', np.float64(0.17240306945197748)), ('videotron', np.float64(0.05514739428423426)), ('film', np.float64(0.03483131363149864)), ('lihat', np.float64(0.024640497445068698)), ('01', np.float64(0.024505358221406905)), ('anies', np.float64(0.01789578776600451)), ('tonton', np.float64(0.01675726709784303)), ('tiktok', np.float64(0.016694414556493557)), ('dukung', np.float64(0.016219020701904847)), ('bikin', np.float64(0.015251698976539062))]\n",
      "\n",
      "Topic 7\n",
      "[('kritik', np.float64(0.17728226188397717)), ('komentar', np.float64(0.08931984828323071)), ('opini', np.float64(0.04420068391843292)), ('dukung', np.float64(0.03235790068545594)), ('01', np.float64(0.027291398121341296)), ('pasang', np.float64(0.024249343696502012)), ('kritis', np.float64(0.023267213952686626)), ('calon', np.float64(0.023002896484408928)), ('anti', np.float64(0.020535801803701636)), ('giring', np.float64(0.02033483819298919))]\n",
      "\n",
      "Topic 8\n",
      "[('twitter', np.float64(0.1908522700858365)), ('berita', np.float64(0.15323721191256498)), ('01', np.float64(0.03252900380839977)), ('tiktok', np.float64(0.03223177323773578)), ('instagram', np.float64(0.024870054316120188)), ('twit', np.float64(0.024604708353184505)), ('dukung', np.float64(0.02316644446106224)), ('baca', np.float64(0.021226617444240016)), ('bohong', np.float64(0.021109925403942322)), ('isu', np.float64(0.02069121243817514))]\n"
     ]
    }
   ],
   "source": [
    "for tid in topic_info['Topic'][:10]:   # first 10 topics\n",
    "    print(f\"\\nTopic {tid}\")\n",
    "    print(topic_model_hdbscan.get_topic(tid)[:15])  # top-15 words\n"
   ]
  },
  {
   "cell_type": "code",
   "execution_count": 32,
   "id": "6ef6decf",
   "metadata": {},
   "outputs": [
    {
     "data": {
      "application/vnd.plotly.v1+json": {
       "config": {
        "plotlyServerURL": "https://plot.ly"
       },
       "data": [
        {
         "customdata": [
          [
           0,
           "01 | dukung | orang | pilih | kayak",
           7897
          ],
          [
           1,
           "cak | imin | anies | baswedan | rasyid",
           4350
          ],
          [
           2,
           "presiden | anies | indonesia | pilih | baswedan",
           2041
          ],
          [
           3,
           "presiden | calon | indonesia | 01 | wakil",
           1383
          ],
          [
           4,
           "politik | demokrasi | partai | demokrat | nasional",
           1348
          ],
          [
           5,
           "debat | presiden | calon | wakil | imin",
           1302
          ],
          [
           6,
           "video | videotron | film | lihat | 01",
           567
          ],
          [
           7,
           "kritik | komentar | opini | dukung | 01",
           314
          ],
          [
           8,
           "twitter | berita | 01 | tiktok | instagram",
           305
          ],
          [
           9,
           "program | misi | visi | kerja | anies",
           231
          ],
          [
           10,
           "pintar | orang | dukung | 01 | bodoh",
           211
          ],
          [
           11,
           "palestina | israel | merdeka | aksi | bela",
           149
          ],
          [
           12,
           "kayak | cak | imin | lihat | anies",
           141
          ],
          [
           13,
           "media | sosial | 01 | banget | televisi",
           102
          ],
          [
           14,
           "legislatif | calon | partai | dewan | hukum",
           89
          ],
          [
           15,
           "pop | korea | kpopers | fandom | idol",
           73
          ],
          [
           16,
           "jalan | 00am | on | way | the",
           68
          ],
          [
           17,
           "strategi | strategy | 01 | strategis | tim",
           61
          ],
          [
           18,
           "viral | viralkan | ham | etik | vaccine",
           52
          ],
          [
           19,
           "model | template | dukung | 01 | bikin",
           52
          ],
          [
           20,
           "reply | respons | respon | reaksi | cak",
           51
          ],
          [
           21,
           "foto | blunder | cak | imin | fadil",
           49
          ],
          [
           22,
           "data | luhut | cherry | tambang | picking",
           33
          ],
          [
           23,
           "bot | polling | robot | serobot | 01",
           33
          ],
          [
           24,
           "konsep | gene | bosman | bagus | navy",
           27
          ],
          [
           25,
           "stadion | international | stadium | internasional | association",
           25
          ],
          [
           26,
           "estate | food | tani | blak | imin",
           21
          ],
          [
           27,
           "store | app | unduh | play | urut",
           20
          ],
          [
           28,
           "handphone | sita | handphonenya | tolong | cak",
           16
          ]
         ],
         "hovertemplate": "<b>Topic %{customdata[0]}</b><br>%{customdata[1]}<br>Size: %{customdata[2]}",
         "legendgroup": "",
         "marker": {
          "color": "#B0BEC5",
          "line": {
           "color": "DarkSlateGrey",
           "width": 2
          },
          "size": {
           "bdata": "2R7+EPkHZwVEBRYFNwI6ATEB5wDTAJUAjQBmAFkASQBEAD0ANAA0ADMAMQAhACEAGwAZABUAFAAQAA==",
           "dtype": "i2"
          },
          "sizemode": "area",
          "sizeref": 4.935625,
          "symbol": "circle"
         },
         "mode": "markers",
         "name": "",
         "orientation": "v",
         "showlegend": false,
         "type": "scatter",
         "x": {
          "bdata": "F0m9QGcz6kCCZ/JAdD67QC8QtkBEtrhAxMm0QLpqskBi4+5AkQ3GQAkix0Axof1AuYMFQV4q9ECcB7VA8yDFQEJXuEBQ6a5AG5rmQCFbqkA7BvdAVzD8QC7sAkHHhcVAaF6dQFO2+kAiHfJAtbvyQIer8EA=",
          "dtype": "f4"
         },
         "xaxis": "x",
         "y": {
          "bdata": "kTdOQclpMMCjWDG/eg40QSfDKEF8hHJBenZOQTNqbEG5WFpBcHI3QW1uV0EmasG+DDA5wJaSXEE9TSdBGUAwQQytV0Fd7VtBhvtOwK39UkFazSzAOXdKwGjsZcA2r1JBp8pZQbZZN7+NUkHAPuFSvgm2aMA=",
          "dtype": "f4"
         },
         "yaxis": "y"
        }
       ],
       "layout": {
        "annotations": [
         {
          "showarrow": false,
          "text": "D1",
          "x": 4.180108070373535,
          "y": 6.624709606170654,
          "yshift": 10
         },
         {
          "showarrow": false,
          "text": "D2",
          "x": 6.888232707977295,
          "xshift": 10,
          "y": 17.430946350097656
         }
        ],
        "height": 650,
        "hoverlabel": {
         "bgcolor": "white",
         "font": {
          "family": "Rockwell",
          "size": 16
         }
        },
        "legend": {
         "itemsizing": "constant",
         "tracegroupgap": 0
        },
        "margin": {
         "t": 60
        },
        "shapes": [
         {
          "line": {
           "color": "#CFD8DC",
           "width": 2
          },
          "type": "line",
          "x0": 6.888232707977295,
          "x1": 6.888232707977295,
          "y0": -4.181527137756348,
          "y1": 17.430946350097656
         },
         {
          "line": {
           "color": "#9E9E9E",
           "width": 2
          },
          "type": "line",
          "x0": 4.180108070373535,
          "x1": 9.596357345581055,
          "y0": 6.624709606170654,
          "y1": 6.624709606170654
         }
        ],
        "sliders": [
         {
          "active": 0,
          "pad": {
           "t": 50
          },
          "steps": [
           {
            "args": [
             {
              "marker.color": [
               [
                "red",
                "#B0BEC5",
                "#B0BEC5",
                "#B0BEC5",
                "#B0BEC5",
                "#B0BEC5",
                "#B0BEC5",
                "#B0BEC5",
                "#B0BEC5",
                "#B0BEC5",
                "#B0BEC5",
                "#B0BEC5",
                "#B0BEC5",
                "#B0BEC5",
                "#B0BEC5",
                "#B0BEC5",
                "#B0BEC5",
                "#B0BEC5",
                "#B0BEC5",
                "#B0BEC5",
                "#B0BEC5",
                "#B0BEC5",
                "#B0BEC5",
                "#B0BEC5",
                "#B0BEC5",
                "#B0BEC5",
                "#B0BEC5",
                "#B0BEC5",
                "#B0BEC5"
               ]
              ]
             }
            ],
            "label": "Topic 0",
            "method": "update"
           },
           {
            "args": [
             {
              "marker.color": [
               [
                "#B0BEC5",
                "red",
                "#B0BEC5",
                "#B0BEC5",
                "#B0BEC5",
                "#B0BEC5",
                "#B0BEC5",
                "#B0BEC5",
                "#B0BEC5",
                "#B0BEC5",
                "#B0BEC5",
                "#B0BEC5",
                "#B0BEC5",
                "#B0BEC5",
                "#B0BEC5",
                "#B0BEC5",
                "#B0BEC5",
                "#B0BEC5",
                "#B0BEC5",
                "#B0BEC5",
                "#B0BEC5",
                "#B0BEC5",
                "#B0BEC5",
                "#B0BEC5",
                "#B0BEC5",
                "#B0BEC5",
                "#B0BEC5",
                "#B0BEC5",
                "#B0BEC5"
               ]
              ]
             }
            ],
            "label": "Topic 1",
            "method": "update"
           },
           {
            "args": [
             {
              "marker.color": [
               [
                "#B0BEC5",
                "#B0BEC5",
                "red",
                "#B0BEC5",
                "#B0BEC5",
                "#B0BEC5",
                "#B0BEC5",
                "#B0BEC5",
                "#B0BEC5",
                "#B0BEC5",
                "#B0BEC5",
                "#B0BEC5",
                "#B0BEC5",
                "#B0BEC5",
                "#B0BEC5",
                "#B0BEC5",
                "#B0BEC5",
                "#B0BEC5",
                "#B0BEC5",
                "#B0BEC5",
                "#B0BEC5",
                "#B0BEC5",
                "#B0BEC5",
                "#B0BEC5",
                "#B0BEC5",
                "#B0BEC5",
                "#B0BEC5",
                "#B0BEC5",
                "#B0BEC5"
               ]
              ]
             }
            ],
            "label": "Topic 2",
            "method": "update"
           },
           {
            "args": [
             {
              "marker.color": [
               [
                "#B0BEC5",
                "#B0BEC5",
                "#B0BEC5",
                "red",
                "#B0BEC5",
                "#B0BEC5",
                "#B0BEC5",
                "#B0BEC5",
                "#B0BEC5",
                "#B0BEC5",
                "#B0BEC5",
                "#B0BEC5",
                "#B0BEC5",
                "#B0BEC5",
                "#B0BEC5",
                "#B0BEC5",
                "#B0BEC5",
                "#B0BEC5",
                "#B0BEC5",
                "#B0BEC5",
                "#B0BEC5",
                "#B0BEC5",
                "#B0BEC5",
                "#B0BEC5",
                "#B0BEC5",
                "#B0BEC5",
                "#B0BEC5",
                "#B0BEC5",
                "#B0BEC5"
               ]
              ]
             }
            ],
            "label": "Topic 3",
            "method": "update"
           },
           {
            "args": [
             {
              "marker.color": [
               [
                "#B0BEC5",
                "#B0BEC5",
                "#B0BEC5",
                "#B0BEC5",
                "red",
                "#B0BEC5",
                "#B0BEC5",
                "#B0BEC5",
                "#B0BEC5",
                "#B0BEC5",
                "#B0BEC5",
                "#B0BEC5",
                "#B0BEC5",
                "#B0BEC5",
                "#B0BEC5",
                "#B0BEC5",
                "#B0BEC5",
                "#B0BEC5",
                "#B0BEC5",
                "#B0BEC5",
                "#B0BEC5",
                "#B0BEC5",
                "#B0BEC5",
                "#B0BEC5",
                "#B0BEC5",
                "#B0BEC5",
                "#B0BEC5",
                "#B0BEC5",
                "#B0BEC5"
               ]
              ]
             }
            ],
            "label": "Topic 4",
            "method": "update"
           },
           {
            "args": [
             {
              "marker.color": [
               [
                "#B0BEC5",
                "#B0BEC5",
                "#B0BEC5",
                "#B0BEC5",
                "#B0BEC5",
                "red",
                "#B0BEC5",
                "#B0BEC5",
                "#B0BEC5",
                "#B0BEC5",
                "#B0BEC5",
                "#B0BEC5",
                "#B0BEC5",
                "#B0BEC5",
                "#B0BEC5",
                "#B0BEC5",
                "#B0BEC5",
                "#B0BEC5",
                "#B0BEC5",
                "#B0BEC5",
                "#B0BEC5",
                "#B0BEC5",
                "#B0BEC5",
                "#B0BEC5",
                "#B0BEC5",
                "#B0BEC5",
                "#B0BEC5",
                "#B0BEC5",
                "#B0BEC5"
               ]
              ]
             }
            ],
            "label": "Topic 5",
            "method": "update"
           },
           {
            "args": [
             {
              "marker.color": [
               [
                "#B0BEC5",
                "#B0BEC5",
                "#B0BEC5",
                "#B0BEC5",
                "#B0BEC5",
                "#B0BEC5",
                "red",
                "#B0BEC5",
                "#B0BEC5",
                "#B0BEC5",
                "#B0BEC5",
                "#B0BEC5",
                "#B0BEC5",
                "#B0BEC5",
                "#B0BEC5",
                "#B0BEC5",
                "#B0BEC5",
                "#B0BEC5",
                "#B0BEC5",
                "#B0BEC5",
                "#B0BEC5",
                "#B0BEC5",
                "#B0BEC5",
                "#B0BEC5",
                "#B0BEC5",
                "#B0BEC5",
                "#B0BEC5",
                "#B0BEC5",
                "#B0BEC5"
               ]
              ]
             }
            ],
            "label": "Topic 6",
            "method": "update"
           },
           {
            "args": [
             {
              "marker.color": [
               [
                "#B0BEC5",
                "#B0BEC5",
                "#B0BEC5",
                "#B0BEC5",
                "#B0BEC5",
                "#B0BEC5",
                "#B0BEC5",
                "red",
                "#B0BEC5",
                "#B0BEC5",
                "#B0BEC5",
                "#B0BEC5",
                "#B0BEC5",
                "#B0BEC5",
                "#B0BEC5",
                "#B0BEC5",
                "#B0BEC5",
                "#B0BEC5",
                "#B0BEC5",
                "#B0BEC5",
                "#B0BEC5",
                "#B0BEC5",
                "#B0BEC5",
                "#B0BEC5",
                "#B0BEC5",
                "#B0BEC5",
                "#B0BEC5",
                "#B0BEC5",
                "#B0BEC5"
               ]
              ]
             }
            ],
            "label": "Topic 7",
            "method": "update"
           },
           {
            "args": [
             {
              "marker.color": [
               [
                "#B0BEC5",
                "#B0BEC5",
                "#B0BEC5",
                "#B0BEC5",
                "#B0BEC5",
                "#B0BEC5",
                "#B0BEC5",
                "#B0BEC5",
                "red",
                "#B0BEC5",
                "#B0BEC5",
                "#B0BEC5",
                "#B0BEC5",
                "#B0BEC5",
                "#B0BEC5",
                "#B0BEC5",
                "#B0BEC5",
                "#B0BEC5",
                "#B0BEC5",
                "#B0BEC5",
                "#B0BEC5",
                "#B0BEC5",
                "#B0BEC5",
                "#B0BEC5",
                "#B0BEC5",
                "#B0BEC5",
                "#B0BEC5",
                "#B0BEC5",
                "#B0BEC5"
               ]
              ]
             }
            ],
            "label": "Topic 8",
            "method": "update"
           },
           {
            "args": [
             {
              "marker.color": [
               [
                "#B0BEC5",
                "#B0BEC5",
                "#B0BEC5",
                "#B0BEC5",
                "#B0BEC5",
                "#B0BEC5",
                "#B0BEC5",
                "#B0BEC5",
                "#B0BEC5",
                "red",
                "#B0BEC5",
                "#B0BEC5",
                "#B0BEC5",
                "#B0BEC5",
                "#B0BEC5",
                "#B0BEC5",
                "#B0BEC5",
                "#B0BEC5",
                "#B0BEC5",
                "#B0BEC5",
                "#B0BEC5",
                "#B0BEC5",
                "#B0BEC5",
                "#B0BEC5",
                "#B0BEC5",
                "#B0BEC5",
                "#B0BEC5",
                "#B0BEC5",
                "#B0BEC5"
               ]
              ]
             }
            ],
            "label": "Topic 9",
            "method": "update"
           },
           {
            "args": [
             {
              "marker.color": [
               [
                "#B0BEC5",
                "#B0BEC5",
                "#B0BEC5",
                "#B0BEC5",
                "#B0BEC5",
                "#B0BEC5",
                "#B0BEC5",
                "#B0BEC5",
                "#B0BEC5",
                "#B0BEC5",
                "red",
                "#B0BEC5",
                "#B0BEC5",
                "#B0BEC5",
                "#B0BEC5",
                "#B0BEC5",
                "#B0BEC5",
                "#B0BEC5",
                "#B0BEC5",
                "#B0BEC5",
                "#B0BEC5",
                "#B0BEC5",
                "#B0BEC5",
                "#B0BEC5",
                "#B0BEC5",
                "#B0BEC5",
                "#B0BEC5",
                "#B0BEC5",
                "#B0BEC5"
               ]
              ]
             }
            ],
            "label": "Topic 10",
            "method": "update"
           },
           {
            "args": [
             {
              "marker.color": [
               [
                "#B0BEC5",
                "#B0BEC5",
                "#B0BEC5",
                "#B0BEC5",
                "#B0BEC5",
                "#B0BEC5",
                "#B0BEC5",
                "#B0BEC5",
                "#B0BEC5",
                "#B0BEC5",
                "#B0BEC5",
                "red",
                "#B0BEC5",
                "#B0BEC5",
                "#B0BEC5",
                "#B0BEC5",
                "#B0BEC5",
                "#B0BEC5",
                "#B0BEC5",
                "#B0BEC5",
                "#B0BEC5",
                "#B0BEC5",
                "#B0BEC5",
                "#B0BEC5",
                "#B0BEC5",
                "#B0BEC5",
                "#B0BEC5",
                "#B0BEC5",
                "#B0BEC5"
               ]
              ]
             }
            ],
            "label": "Topic 11",
            "method": "update"
           },
           {
            "args": [
             {
              "marker.color": [
               [
                "#B0BEC5",
                "#B0BEC5",
                "#B0BEC5",
                "#B0BEC5",
                "#B0BEC5",
                "#B0BEC5",
                "#B0BEC5",
                "#B0BEC5",
                "#B0BEC5",
                "#B0BEC5",
                "#B0BEC5",
                "#B0BEC5",
                "red",
                "#B0BEC5",
                "#B0BEC5",
                "#B0BEC5",
                "#B0BEC5",
                "#B0BEC5",
                "#B0BEC5",
                "#B0BEC5",
                "#B0BEC5",
                "#B0BEC5",
                "#B0BEC5",
                "#B0BEC5",
                "#B0BEC5",
                "#B0BEC5",
                "#B0BEC5",
                "#B0BEC5",
                "#B0BEC5"
               ]
              ]
             }
            ],
            "label": "Topic 12",
            "method": "update"
           },
           {
            "args": [
             {
              "marker.color": [
               [
                "#B0BEC5",
                "#B0BEC5",
                "#B0BEC5",
                "#B0BEC5",
                "#B0BEC5",
                "#B0BEC5",
                "#B0BEC5",
                "#B0BEC5",
                "#B0BEC5",
                "#B0BEC5",
                "#B0BEC5",
                "#B0BEC5",
                "#B0BEC5",
                "red",
                "#B0BEC5",
                "#B0BEC5",
                "#B0BEC5",
                "#B0BEC5",
                "#B0BEC5",
                "#B0BEC5",
                "#B0BEC5",
                "#B0BEC5",
                "#B0BEC5",
                "#B0BEC5",
                "#B0BEC5",
                "#B0BEC5",
                "#B0BEC5",
                "#B0BEC5",
                "#B0BEC5"
               ]
              ]
             }
            ],
            "label": "Topic 13",
            "method": "update"
           },
           {
            "args": [
             {
              "marker.color": [
               [
                "#B0BEC5",
                "#B0BEC5",
                "#B0BEC5",
                "#B0BEC5",
                "#B0BEC5",
                "#B0BEC5",
                "#B0BEC5",
                "#B0BEC5",
                "#B0BEC5",
                "#B0BEC5",
                "#B0BEC5",
                "#B0BEC5",
                "#B0BEC5",
                "#B0BEC5",
                "red",
                "#B0BEC5",
                "#B0BEC5",
                "#B0BEC5",
                "#B0BEC5",
                "#B0BEC5",
                "#B0BEC5",
                "#B0BEC5",
                "#B0BEC5",
                "#B0BEC5",
                "#B0BEC5",
                "#B0BEC5",
                "#B0BEC5",
                "#B0BEC5",
                "#B0BEC5"
               ]
              ]
             }
            ],
            "label": "Topic 14",
            "method": "update"
           },
           {
            "args": [
             {
              "marker.color": [
               [
                "#B0BEC5",
                "#B0BEC5",
                "#B0BEC5",
                "#B0BEC5",
                "#B0BEC5",
                "#B0BEC5",
                "#B0BEC5",
                "#B0BEC5",
                "#B0BEC5",
                "#B0BEC5",
                "#B0BEC5",
                "#B0BEC5",
                "#B0BEC5",
                "#B0BEC5",
                "#B0BEC5",
                "red",
                "#B0BEC5",
                "#B0BEC5",
                "#B0BEC5",
                "#B0BEC5",
                "#B0BEC5",
                "#B0BEC5",
                "#B0BEC5",
                "#B0BEC5",
                "#B0BEC5",
                "#B0BEC5",
                "#B0BEC5",
                "#B0BEC5",
                "#B0BEC5"
               ]
              ]
             }
            ],
            "label": "Topic 15",
            "method": "update"
           },
           {
            "args": [
             {
              "marker.color": [
               [
                "#B0BEC5",
                "#B0BEC5",
                "#B0BEC5",
                "#B0BEC5",
                "#B0BEC5",
                "#B0BEC5",
                "#B0BEC5",
                "#B0BEC5",
                "#B0BEC5",
                "#B0BEC5",
                "#B0BEC5",
                "#B0BEC5",
                "#B0BEC5",
                "#B0BEC5",
                "#B0BEC5",
                "#B0BEC5",
                "red",
                "#B0BEC5",
                "#B0BEC5",
                "#B0BEC5",
                "#B0BEC5",
                "#B0BEC5",
                "#B0BEC5",
                "#B0BEC5",
                "#B0BEC5",
                "#B0BEC5",
                "#B0BEC5",
                "#B0BEC5",
                "#B0BEC5"
               ]
              ]
             }
            ],
            "label": "Topic 16",
            "method": "update"
           },
           {
            "args": [
             {
              "marker.color": [
               [
                "#B0BEC5",
                "#B0BEC5",
                "#B0BEC5",
                "#B0BEC5",
                "#B0BEC5",
                "#B0BEC5",
                "#B0BEC5",
                "#B0BEC5",
                "#B0BEC5",
                "#B0BEC5",
                "#B0BEC5",
                "#B0BEC5",
                "#B0BEC5",
                "#B0BEC5",
                "#B0BEC5",
                "#B0BEC5",
                "#B0BEC5",
                "red",
                "#B0BEC5",
                "#B0BEC5",
                "#B0BEC5",
                "#B0BEC5",
                "#B0BEC5",
                "#B0BEC5",
                "#B0BEC5",
                "#B0BEC5",
                "#B0BEC5",
                "#B0BEC5",
                "#B0BEC5"
               ]
              ]
             }
            ],
            "label": "Topic 17",
            "method": "update"
           },
           {
            "args": [
             {
              "marker.color": [
               [
                "#B0BEC5",
                "#B0BEC5",
                "#B0BEC5",
                "#B0BEC5",
                "#B0BEC5",
                "#B0BEC5",
                "#B0BEC5",
                "#B0BEC5",
                "#B0BEC5",
                "#B0BEC5",
                "#B0BEC5",
                "#B0BEC5",
                "#B0BEC5",
                "#B0BEC5",
                "#B0BEC5",
                "#B0BEC5",
                "#B0BEC5",
                "#B0BEC5",
                "red",
                "#B0BEC5",
                "#B0BEC5",
                "#B0BEC5",
                "#B0BEC5",
                "#B0BEC5",
                "#B0BEC5",
                "#B0BEC5",
                "#B0BEC5",
                "#B0BEC5",
                "#B0BEC5"
               ]
              ]
             }
            ],
            "label": "Topic 18",
            "method": "update"
           },
           {
            "args": [
             {
              "marker.color": [
               [
                "#B0BEC5",
                "#B0BEC5",
                "#B0BEC5",
                "#B0BEC5",
                "#B0BEC5",
                "#B0BEC5",
                "#B0BEC5",
                "#B0BEC5",
                "#B0BEC5",
                "#B0BEC5",
                "#B0BEC5",
                "#B0BEC5",
                "#B0BEC5",
                "#B0BEC5",
                "#B0BEC5",
                "#B0BEC5",
                "#B0BEC5",
                "#B0BEC5",
                "#B0BEC5",
                "red",
                "#B0BEC5",
                "#B0BEC5",
                "#B0BEC5",
                "#B0BEC5",
                "#B0BEC5",
                "#B0BEC5",
                "#B0BEC5",
                "#B0BEC5",
                "#B0BEC5"
               ]
              ]
             }
            ],
            "label": "Topic 19",
            "method": "update"
           },
           {
            "args": [
             {
              "marker.color": [
               [
                "#B0BEC5",
                "#B0BEC5",
                "#B0BEC5",
                "#B0BEC5",
                "#B0BEC5",
                "#B0BEC5",
                "#B0BEC5",
                "#B0BEC5",
                "#B0BEC5",
                "#B0BEC5",
                "#B0BEC5",
                "#B0BEC5",
                "#B0BEC5",
                "#B0BEC5",
                "#B0BEC5",
                "#B0BEC5",
                "#B0BEC5",
                "#B0BEC5",
                "#B0BEC5",
                "#B0BEC5",
                "red",
                "#B0BEC5",
                "#B0BEC5",
                "#B0BEC5",
                "#B0BEC5",
                "#B0BEC5",
                "#B0BEC5",
                "#B0BEC5",
                "#B0BEC5"
               ]
              ]
             }
            ],
            "label": "Topic 20",
            "method": "update"
           },
           {
            "args": [
             {
              "marker.color": [
               [
                "#B0BEC5",
                "#B0BEC5",
                "#B0BEC5",
                "#B0BEC5",
                "#B0BEC5",
                "#B0BEC5",
                "#B0BEC5",
                "#B0BEC5",
                "#B0BEC5",
                "#B0BEC5",
                "#B0BEC5",
                "#B0BEC5",
                "#B0BEC5",
                "#B0BEC5",
                "#B0BEC5",
                "#B0BEC5",
                "#B0BEC5",
                "#B0BEC5",
                "#B0BEC5",
                "#B0BEC5",
                "#B0BEC5",
                "red",
                "#B0BEC5",
                "#B0BEC5",
                "#B0BEC5",
                "#B0BEC5",
                "#B0BEC5",
                "#B0BEC5",
                "#B0BEC5"
               ]
              ]
             }
            ],
            "label": "Topic 21",
            "method": "update"
           },
           {
            "args": [
             {
              "marker.color": [
               [
                "#B0BEC5",
                "#B0BEC5",
                "#B0BEC5",
                "#B0BEC5",
                "#B0BEC5",
                "#B0BEC5",
                "#B0BEC5",
                "#B0BEC5",
                "#B0BEC5",
                "#B0BEC5",
                "#B0BEC5",
                "#B0BEC5",
                "#B0BEC5",
                "#B0BEC5",
                "#B0BEC5",
                "#B0BEC5",
                "#B0BEC5",
                "#B0BEC5",
                "#B0BEC5",
                "#B0BEC5",
                "#B0BEC5",
                "#B0BEC5",
                "red",
                "#B0BEC5",
                "#B0BEC5",
                "#B0BEC5",
                "#B0BEC5",
                "#B0BEC5",
                "#B0BEC5"
               ]
              ]
             }
            ],
            "label": "Topic 22",
            "method": "update"
           },
           {
            "args": [
             {
              "marker.color": [
               [
                "#B0BEC5",
                "#B0BEC5",
                "#B0BEC5",
                "#B0BEC5",
                "#B0BEC5",
                "#B0BEC5",
                "#B0BEC5",
                "#B0BEC5",
                "#B0BEC5",
                "#B0BEC5",
                "#B0BEC5",
                "#B0BEC5",
                "#B0BEC5",
                "#B0BEC5",
                "#B0BEC5",
                "#B0BEC5",
                "#B0BEC5",
                "#B0BEC5",
                "#B0BEC5",
                "#B0BEC5",
                "#B0BEC5",
                "#B0BEC5",
                "#B0BEC5",
                "red",
                "#B0BEC5",
                "#B0BEC5",
                "#B0BEC5",
                "#B0BEC5",
                "#B0BEC5"
               ]
              ]
             }
            ],
            "label": "Topic 23",
            "method": "update"
           },
           {
            "args": [
             {
              "marker.color": [
               [
                "#B0BEC5",
                "#B0BEC5",
                "#B0BEC5",
                "#B0BEC5",
                "#B0BEC5",
                "#B0BEC5",
                "#B0BEC5",
                "#B0BEC5",
                "#B0BEC5",
                "#B0BEC5",
                "#B0BEC5",
                "#B0BEC5",
                "#B0BEC5",
                "#B0BEC5",
                "#B0BEC5",
                "#B0BEC5",
                "#B0BEC5",
                "#B0BEC5",
                "#B0BEC5",
                "#B0BEC5",
                "#B0BEC5",
                "#B0BEC5",
                "#B0BEC5",
                "#B0BEC5",
                "red",
                "#B0BEC5",
                "#B0BEC5",
                "#B0BEC5",
                "#B0BEC5"
               ]
              ]
             }
            ],
            "label": "Topic 24",
            "method": "update"
           },
           {
            "args": [
             {
              "marker.color": [
               [
                "#B0BEC5",
                "#B0BEC5",
                "#B0BEC5",
                "#B0BEC5",
                "#B0BEC5",
                "#B0BEC5",
                "#B0BEC5",
                "#B0BEC5",
                "#B0BEC5",
                "#B0BEC5",
                "#B0BEC5",
                "#B0BEC5",
                "#B0BEC5",
                "#B0BEC5",
                "#B0BEC5",
                "#B0BEC5",
                "#B0BEC5",
                "#B0BEC5",
                "#B0BEC5",
                "#B0BEC5",
                "#B0BEC5",
                "#B0BEC5",
                "#B0BEC5",
                "#B0BEC5",
                "#B0BEC5",
                "red",
                "#B0BEC5",
                "#B0BEC5",
                "#B0BEC5"
               ]
              ]
             }
            ],
            "label": "Topic 25",
            "method": "update"
           },
           {
            "args": [
             {
              "marker.color": [
               [
                "#B0BEC5",
                "#B0BEC5",
                "#B0BEC5",
                "#B0BEC5",
                "#B0BEC5",
                "#B0BEC5",
                "#B0BEC5",
                "#B0BEC5",
                "#B0BEC5",
                "#B0BEC5",
                "#B0BEC5",
                "#B0BEC5",
                "#B0BEC5",
                "#B0BEC5",
                "#B0BEC5",
                "#B0BEC5",
                "#B0BEC5",
                "#B0BEC5",
                "#B0BEC5",
                "#B0BEC5",
                "#B0BEC5",
                "#B0BEC5",
                "#B0BEC5",
                "#B0BEC5",
                "#B0BEC5",
                "#B0BEC5",
                "red",
                "#B0BEC5",
                "#B0BEC5"
               ]
              ]
             }
            ],
            "label": "Topic 26",
            "method": "update"
           },
           {
            "args": [
             {
              "marker.color": [
               [
                "#B0BEC5",
                "#B0BEC5",
                "#B0BEC5",
                "#B0BEC5",
                "#B0BEC5",
                "#B0BEC5",
                "#B0BEC5",
                "#B0BEC5",
                "#B0BEC5",
                "#B0BEC5",
                "#B0BEC5",
                "#B0BEC5",
                "#B0BEC5",
                "#B0BEC5",
                "#B0BEC5",
                "#B0BEC5",
                "#B0BEC5",
                "#B0BEC5",
                "#B0BEC5",
                "#B0BEC5",
                "#B0BEC5",
                "#B0BEC5",
                "#B0BEC5",
                "#B0BEC5",
                "#B0BEC5",
                "#B0BEC5",
                "#B0BEC5",
                "red",
                "#B0BEC5"
               ]
              ]
             }
            ],
            "label": "Topic 27",
            "method": "update"
           },
           {
            "args": [
             {
              "marker.color": [
               [
                "#B0BEC5",
                "#B0BEC5",
                "#B0BEC5",
                "#B0BEC5",
                "#B0BEC5",
                "#B0BEC5",
                "#B0BEC5",
                "#B0BEC5",
                "#B0BEC5",
                "#B0BEC5",
                "#B0BEC5",
                "#B0BEC5",
                "#B0BEC5",
                "#B0BEC5",
                "#B0BEC5",
                "#B0BEC5",
                "#B0BEC5",
                "#B0BEC5",
                "#B0BEC5",
                "#B0BEC5",
                "#B0BEC5",
                "#B0BEC5",
                "#B0BEC5",
                "#B0BEC5",
                "#B0BEC5",
                "#B0BEC5",
                "#B0BEC5",
                "#B0BEC5",
                "red"
               ]
              ]
             }
            ],
            "label": "Topic 28",
            "method": "update"
           }
          ]
         }
        ],
        "template": {
         "data": {
          "bar": [
           {
            "error_x": {
             "color": "rgb(36,36,36)"
            },
            "error_y": {
             "color": "rgb(36,36,36)"
            },
            "marker": {
             "line": {
              "color": "white",
              "width": 0.5
             },
             "pattern": {
              "fillmode": "overlay",
              "size": 10,
              "solidity": 0.2
             }
            },
            "type": "bar"
           }
          ],
          "barpolar": [
           {
            "marker": {
             "line": {
              "color": "white",
              "width": 0.5
             },
             "pattern": {
              "fillmode": "overlay",
              "size": 10,
              "solidity": 0.2
             }
            },
            "type": "barpolar"
           }
          ],
          "carpet": [
           {
            "aaxis": {
             "endlinecolor": "rgb(36,36,36)",
             "gridcolor": "white",
             "linecolor": "white",
             "minorgridcolor": "white",
             "startlinecolor": "rgb(36,36,36)"
            },
            "baxis": {
             "endlinecolor": "rgb(36,36,36)",
             "gridcolor": "white",
             "linecolor": "white",
             "minorgridcolor": "white",
             "startlinecolor": "rgb(36,36,36)"
            },
            "type": "carpet"
           }
          ],
          "choropleth": [
           {
            "colorbar": {
             "outlinewidth": 1,
             "tickcolor": "rgb(36,36,36)",
             "ticks": "outside"
            },
            "type": "choropleth"
           }
          ],
          "contour": [
           {
            "colorbar": {
             "outlinewidth": 1,
             "tickcolor": "rgb(36,36,36)",
             "ticks": "outside"
            },
            "colorscale": [
             [
              0,
              "#440154"
             ],
             [
              0.1111111111111111,
              "#482878"
             ],
             [
              0.2222222222222222,
              "#3e4989"
             ],
             [
              0.3333333333333333,
              "#31688e"
             ],
             [
              0.4444444444444444,
              "#26828e"
             ],
             [
              0.5555555555555556,
              "#1f9e89"
             ],
             [
              0.6666666666666666,
              "#35b779"
             ],
             [
              0.7777777777777778,
              "#6ece58"
             ],
             [
              0.8888888888888888,
              "#b5de2b"
             ],
             [
              1,
              "#fde725"
             ]
            ],
            "type": "contour"
           }
          ],
          "contourcarpet": [
           {
            "colorbar": {
             "outlinewidth": 1,
             "tickcolor": "rgb(36,36,36)",
             "ticks": "outside"
            },
            "type": "contourcarpet"
           }
          ],
          "heatmap": [
           {
            "colorbar": {
             "outlinewidth": 1,
             "tickcolor": "rgb(36,36,36)",
             "ticks": "outside"
            },
            "colorscale": [
             [
              0,
              "#440154"
             ],
             [
              0.1111111111111111,
              "#482878"
             ],
             [
              0.2222222222222222,
              "#3e4989"
             ],
             [
              0.3333333333333333,
              "#31688e"
             ],
             [
              0.4444444444444444,
              "#26828e"
             ],
             [
              0.5555555555555556,
              "#1f9e89"
             ],
             [
              0.6666666666666666,
              "#35b779"
             ],
             [
              0.7777777777777778,
              "#6ece58"
             ],
             [
              0.8888888888888888,
              "#b5de2b"
             ],
             [
              1,
              "#fde725"
             ]
            ],
            "type": "heatmap"
           }
          ],
          "histogram": [
           {
            "marker": {
             "line": {
              "color": "white",
              "width": 0.6
             }
            },
            "type": "histogram"
           }
          ],
          "histogram2d": [
           {
            "colorbar": {
             "outlinewidth": 1,
             "tickcolor": "rgb(36,36,36)",
             "ticks": "outside"
            },
            "colorscale": [
             [
              0,
              "#440154"
             ],
             [
              0.1111111111111111,
              "#482878"
             ],
             [
              0.2222222222222222,
              "#3e4989"
             ],
             [
              0.3333333333333333,
              "#31688e"
             ],
             [
              0.4444444444444444,
              "#26828e"
             ],
             [
              0.5555555555555556,
              "#1f9e89"
             ],
             [
              0.6666666666666666,
              "#35b779"
             ],
             [
              0.7777777777777778,
              "#6ece58"
             ],
             [
              0.8888888888888888,
              "#b5de2b"
             ],
             [
              1,
              "#fde725"
             ]
            ],
            "type": "histogram2d"
           }
          ],
          "histogram2dcontour": [
           {
            "colorbar": {
             "outlinewidth": 1,
             "tickcolor": "rgb(36,36,36)",
             "ticks": "outside"
            },
            "colorscale": [
             [
              0,
              "#440154"
             ],
             [
              0.1111111111111111,
              "#482878"
             ],
             [
              0.2222222222222222,
              "#3e4989"
             ],
             [
              0.3333333333333333,
              "#31688e"
             ],
             [
              0.4444444444444444,
              "#26828e"
             ],
             [
              0.5555555555555556,
              "#1f9e89"
             ],
             [
              0.6666666666666666,
              "#35b779"
             ],
             [
              0.7777777777777778,
              "#6ece58"
             ],
             [
              0.8888888888888888,
              "#b5de2b"
             ],
             [
              1,
              "#fde725"
             ]
            ],
            "type": "histogram2dcontour"
           }
          ],
          "mesh3d": [
           {
            "colorbar": {
             "outlinewidth": 1,
             "tickcolor": "rgb(36,36,36)",
             "ticks": "outside"
            },
            "type": "mesh3d"
           }
          ],
          "parcoords": [
           {
            "line": {
             "colorbar": {
              "outlinewidth": 1,
              "tickcolor": "rgb(36,36,36)",
              "ticks": "outside"
             }
            },
            "type": "parcoords"
           }
          ],
          "pie": [
           {
            "automargin": true,
            "type": "pie"
           }
          ],
          "scatter": [
           {
            "fillpattern": {
             "fillmode": "overlay",
             "size": 10,
             "solidity": 0.2
            },
            "type": "scatter"
           }
          ],
          "scatter3d": [
           {
            "line": {
             "colorbar": {
              "outlinewidth": 1,
              "tickcolor": "rgb(36,36,36)",
              "ticks": "outside"
             }
            },
            "marker": {
             "colorbar": {
              "outlinewidth": 1,
              "tickcolor": "rgb(36,36,36)",
              "ticks": "outside"
             }
            },
            "type": "scatter3d"
           }
          ],
          "scattercarpet": [
           {
            "marker": {
             "colorbar": {
              "outlinewidth": 1,
              "tickcolor": "rgb(36,36,36)",
              "ticks": "outside"
             }
            },
            "type": "scattercarpet"
           }
          ],
          "scattergeo": [
           {
            "marker": {
             "colorbar": {
              "outlinewidth": 1,
              "tickcolor": "rgb(36,36,36)",
              "ticks": "outside"
             }
            },
            "type": "scattergeo"
           }
          ],
          "scattergl": [
           {
            "marker": {
             "colorbar": {
              "outlinewidth": 1,
              "tickcolor": "rgb(36,36,36)",
              "ticks": "outside"
             }
            },
            "type": "scattergl"
           }
          ],
          "scattermap": [
           {
            "marker": {
             "colorbar": {
              "outlinewidth": 1,
              "tickcolor": "rgb(36,36,36)",
              "ticks": "outside"
             }
            },
            "type": "scattermap"
           }
          ],
          "scattermapbox": [
           {
            "marker": {
             "colorbar": {
              "outlinewidth": 1,
              "tickcolor": "rgb(36,36,36)",
              "ticks": "outside"
             }
            },
            "type": "scattermapbox"
           }
          ],
          "scatterpolar": [
           {
            "marker": {
             "colorbar": {
              "outlinewidth": 1,
              "tickcolor": "rgb(36,36,36)",
              "ticks": "outside"
             }
            },
            "type": "scatterpolar"
           }
          ],
          "scatterpolargl": [
           {
            "marker": {
             "colorbar": {
              "outlinewidth": 1,
              "tickcolor": "rgb(36,36,36)",
              "ticks": "outside"
             }
            },
            "type": "scatterpolargl"
           }
          ],
          "scatterternary": [
           {
            "marker": {
             "colorbar": {
              "outlinewidth": 1,
              "tickcolor": "rgb(36,36,36)",
              "ticks": "outside"
             }
            },
            "type": "scatterternary"
           }
          ],
          "surface": [
           {
            "colorbar": {
             "outlinewidth": 1,
             "tickcolor": "rgb(36,36,36)",
             "ticks": "outside"
            },
            "colorscale": [
             [
              0,
              "#440154"
             ],
             [
              0.1111111111111111,
              "#482878"
             ],
             [
              0.2222222222222222,
              "#3e4989"
             ],
             [
              0.3333333333333333,
              "#31688e"
             ],
             [
              0.4444444444444444,
              "#26828e"
             ],
             [
              0.5555555555555556,
              "#1f9e89"
             ],
             [
              0.6666666666666666,
              "#35b779"
             ],
             [
              0.7777777777777778,
              "#6ece58"
             ],
             [
              0.8888888888888888,
              "#b5de2b"
             ],
             [
              1,
              "#fde725"
             ]
            ],
            "type": "surface"
           }
          ],
          "table": [
           {
            "cells": {
             "fill": {
              "color": "rgb(237,237,237)"
             },
             "line": {
              "color": "white"
             }
            },
            "header": {
             "fill": {
              "color": "rgb(217,217,217)"
             },
             "line": {
              "color": "white"
             }
            },
            "type": "table"
           }
          ]
         },
         "layout": {
          "annotationdefaults": {
           "arrowhead": 0,
           "arrowwidth": 1
          },
          "autotypenumbers": "strict",
          "coloraxis": {
           "colorbar": {
            "outlinewidth": 1,
            "tickcolor": "rgb(36,36,36)",
            "ticks": "outside"
           }
          },
          "colorscale": {
           "diverging": [
            [
             0,
             "rgb(103,0,31)"
            ],
            [
             0.1,
             "rgb(178,24,43)"
            ],
            [
             0.2,
             "rgb(214,96,77)"
            ],
            [
             0.3,
             "rgb(244,165,130)"
            ],
            [
             0.4,
             "rgb(253,219,199)"
            ],
            [
             0.5,
             "rgb(247,247,247)"
            ],
            [
             0.6,
             "rgb(209,229,240)"
            ],
            [
             0.7,
             "rgb(146,197,222)"
            ],
            [
             0.8,
             "rgb(67,147,195)"
            ],
            [
             0.9,
             "rgb(33,102,172)"
            ],
            [
             1,
             "rgb(5,48,97)"
            ]
           ],
           "sequential": [
            [
             0,
             "#440154"
            ],
            [
             0.1111111111111111,
             "#482878"
            ],
            [
             0.2222222222222222,
             "#3e4989"
            ],
            [
             0.3333333333333333,
             "#31688e"
            ],
            [
             0.4444444444444444,
             "#26828e"
            ],
            [
             0.5555555555555556,
             "#1f9e89"
            ],
            [
             0.6666666666666666,
             "#35b779"
            ],
            [
             0.7777777777777778,
             "#6ece58"
            ],
            [
             0.8888888888888888,
             "#b5de2b"
            ],
            [
             1,
             "#fde725"
            ]
           ],
           "sequentialminus": [
            [
             0,
             "#440154"
            ],
            [
             0.1111111111111111,
             "#482878"
            ],
            [
             0.2222222222222222,
             "#3e4989"
            ],
            [
             0.3333333333333333,
             "#31688e"
            ],
            [
             0.4444444444444444,
             "#26828e"
            ],
            [
             0.5555555555555556,
             "#1f9e89"
            ],
            [
             0.6666666666666666,
             "#35b779"
            ],
            [
             0.7777777777777778,
             "#6ece58"
            ],
            [
             0.8888888888888888,
             "#b5de2b"
            ],
            [
             1,
             "#fde725"
            ]
           ]
          },
          "colorway": [
           "#1F77B4",
           "#FF7F0E",
           "#2CA02C",
           "#D62728",
           "#9467BD",
           "#8C564B",
           "#E377C2",
           "#7F7F7F",
           "#BCBD22",
           "#17BECF"
          ],
          "font": {
           "color": "rgb(36,36,36)"
          },
          "geo": {
           "bgcolor": "white",
           "lakecolor": "white",
           "landcolor": "white",
           "showlakes": true,
           "showland": true,
           "subunitcolor": "white"
          },
          "hoverlabel": {
           "align": "left"
          },
          "hovermode": "closest",
          "mapbox": {
           "style": "light"
          },
          "paper_bgcolor": "white",
          "plot_bgcolor": "white",
          "polar": {
           "angularaxis": {
            "gridcolor": "rgb(232,232,232)",
            "linecolor": "rgb(36,36,36)",
            "showgrid": false,
            "showline": true,
            "ticks": "outside"
           },
           "bgcolor": "white",
           "radialaxis": {
            "gridcolor": "rgb(232,232,232)",
            "linecolor": "rgb(36,36,36)",
            "showgrid": false,
            "showline": true,
            "ticks": "outside"
           }
          },
          "scene": {
           "xaxis": {
            "backgroundcolor": "white",
            "gridcolor": "rgb(232,232,232)",
            "gridwidth": 2,
            "linecolor": "rgb(36,36,36)",
            "showbackground": true,
            "showgrid": false,
            "showline": true,
            "ticks": "outside",
            "zeroline": false,
            "zerolinecolor": "rgb(36,36,36)"
           },
           "yaxis": {
            "backgroundcolor": "white",
            "gridcolor": "rgb(232,232,232)",
            "gridwidth": 2,
            "linecolor": "rgb(36,36,36)",
            "showbackground": true,
            "showgrid": false,
            "showline": true,
            "ticks": "outside",
            "zeroline": false,
            "zerolinecolor": "rgb(36,36,36)"
           },
           "zaxis": {
            "backgroundcolor": "white",
            "gridcolor": "rgb(232,232,232)",
            "gridwidth": 2,
            "linecolor": "rgb(36,36,36)",
            "showbackground": true,
            "showgrid": false,
            "showline": true,
            "ticks": "outside",
            "zeroline": false,
            "zerolinecolor": "rgb(36,36,36)"
           }
          },
          "shapedefaults": {
           "fillcolor": "black",
           "line": {
            "width": 0
           },
           "opacity": 0.3
          },
          "ternary": {
           "aaxis": {
            "gridcolor": "rgb(232,232,232)",
            "linecolor": "rgb(36,36,36)",
            "showgrid": false,
            "showline": true,
            "ticks": "outside"
           },
           "baxis": {
            "gridcolor": "rgb(232,232,232)",
            "linecolor": "rgb(36,36,36)",
            "showgrid": false,
            "showline": true,
            "ticks": "outside"
           },
           "bgcolor": "white",
           "caxis": {
            "gridcolor": "rgb(232,232,232)",
            "linecolor": "rgb(36,36,36)",
            "showgrid": false,
            "showline": true,
            "ticks": "outside"
           }
          },
          "title": {
           "x": 0.05
          },
          "xaxis": {
           "automargin": true,
           "gridcolor": "rgb(232,232,232)",
           "linecolor": "rgb(36,36,36)",
           "showgrid": false,
           "showline": true,
           "ticks": "outside",
           "title": {
            "standoff": 15
           },
           "zeroline": false,
           "zerolinecolor": "rgb(36,36,36)"
          },
          "yaxis": {
           "automargin": true,
           "gridcolor": "rgb(232,232,232)",
           "linecolor": "rgb(36,36,36)",
           "showgrid": false,
           "showline": true,
           "ticks": "outside",
           "title": {
            "standoff": 15
           },
           "zeroline": false,
           "zerolinecolor": "rgb(36,36,36)"
          }
         }
        },
        "title": {
         "font": {
          "color": "Black",
          "size": 22
         },
         "text": "<b>Intertopic Distance Map</b>",
         "x": 0.5,
         "xanchor": "center",
         "y": 0.95,
         "yanchor": "top"
        },
        "width": 650,
        "xaxis": {
         "anchor": "y",
         "domain": [
          0,
          1
         ],
         "range": [
          4.180108070373535,
          9.596357345581055
         ],
         "title": {
          "text": ""
         },
         "visible": false
        },
        "yaxis": {
         "anchor": "x",
         "domain": [
          0,
          1
         ],
         "range": [
          -4.181527137756348,
          17.430946350097656
         ],
         "title": {
          "text": ""
         },
         "visible": false
        }
       }
      }
     },
     "metadata": {},
     "output_type": "display_data"
    }
   ],
   "source": [
    "topic_model_hdbscan.visualize_barchart(top_n_topics=30)\n",
    "topic_model_hdbscan.visualize_topics()"
   ]
  },
  {
   "cell_type": "code",
   "execution_count": 33,
   "id": "066d0783",
   "metadata": {},
   "outputs": [],
   "source": [
    "# Save results to CSV\n",
    "df_topics = pd.DataFrame({\"Document\": docs, \"Topic\": topics_hdbscan})\n",
    "df_topics.to_csv(\"topic_assignments_hdbscan.csv\", index=False)\n",
    "\n",
    "# Save model\n",
    "# topic_model.save(\"bertopic_model_hdbscan\")\n"
   ]
  },
  {
   "cell_type": "code",
   "execution_count": 34,
   "id": "c9ac13e6",
   "metadata": {},
   "outputs": [
    {
     "name": "stderr",
     "output_type": "stream",
     "text": [
      "2025-05-20 18:53:30,648 - BERTopic - Embedding - Transforming documents to embeddings.\n",
      "Batches: 100%|██████████| 934/934 [05:39<00:00,  2.75it/s]\n",
      "2025-05-20 18:59:09,936 - BERTopic - Embedding - Completed ✓\n",
      "2025-05-20 18:59:09,937 - BERTopic - Dimensionality - Fitting the dimensionality reduction algorithm\n",
      "2025-05-20 18:59:16,860 - BERTopic - Dimensionality - Completed ✓\n",
      "2025-05-20 18:59:16,863 - BERTopic - Cluster - Start clustering the reduced embeddings\n",
      "2025-05-20 18:59:16,963 - BERTopic - Cluster - Completed ✓\n",
      "2025-05-20 18:59:16,970 - BERTopic - Representation - Fine-tuning topics using representation models.\n",
      "2025-05-20 18:59:17,405 - BERTopic - Representation - Completed ✓\n"
     ]
    },
    {
     "data": {
      "application/vnd.plotly.v1+json": {
       "config": {
        "plotlyServerURL": "https://plot.ly"
       },
       "data": [
        {
         "marker": {
          "color": "#D55E00"
         },
         "orientation": "h",
         "type": "bar",
         "x": [
          0.02250656713954992,
          0.026065499717887713,
          0.039840589590172525,
          0.040829760668721835,
          0.08859477740870374
         ],
         "xaxis": "x",
         "y": [
          "coblos  ",
          "buzzer  ",
          "pilih  ",
          "dukung  ",
          "01  "
         ],
         "yaxis": "y"
        },
        {
         "marker": {
          "color": "#0072B2"
         },
         "orientation": "h",
         "type": "bar",
         "x": [
          0.04246926226151545,
          0.04304652759100552,
          0.0448971324756731,
          0.05549028503222567,
          0.06333527283920057
         ],
         "xaxis": "x2",
         "y": [
          "cak  ",
          "imin  ",
          "rasyid  ",
          "baswedan  ",
          "anies  "
         ],
         "yaxis": "y2"
        },
        {
         "marker": {
          "color": "#CC79A7"
         },
         "orientation": "h",
         "type": "bar",
         "x": [
          0.018412062364538306,
          0.01846289397693042,
          0.02622465949805492,
          0.04255688806894271,
          0.06128277482908749
         ],
         "xaxis": "x3",
         "y": [
          "banget  ",
          "buzzer  ",
          "pasang  ",
          "dukung  ",
          "01  "
         ],
         "yaxis": "y3"
        },
        {
         "marker": {
          "color": "#E69F00"
         },
         "orientation": "h",
         "type": "bar",
         "x": [
          0.021386372764221038,
          0.026017892122517674,
          0.0271889892871117,
          0.03136550287845972,
          0.04350787677675341
         ],
         "xaxis": "x4",
         "y": [
          "rasyid  ",
          "cak  ",
          "imin  ",
          "baswedan  ",
          "anies  "
         ],
         "yaxis": "y4"
        },
        {
         "marker": {
          "color": "#56B4E9"
         },
         "orientation": "h",
         "type": "bar",
         "x": [
          0.02110644019400015,
          0.021168045681802326,
          0.021927004199673972,
          0.02258783724744979,
          0.02743524076883753
         ],
         "xaxis": "x5",
         "y": [
          "pasang  ",
          "teman  ",
          "orang  ",
          "dukung  ",
          "01  "
         ],
         "yaxis": "y5"
        },
        {
         "marker": {
          "color": "#009E73"
         },
         "orientation": "h",
         "type": "bar",
         "x": [
          0.020274513593298654,
          0.02487387385161134,
          0.035711810403261816,
          0.0420814904464689,
          0.045970449438369455
         ],
         "xaxis": "x6",
         "y": [
          "pasang  ",
          "pilih  ",
          "dukung  ",
          "orang  ",
          "01  "
         ],
         "yaxis": "y6"
        },
        {
         "marker": {
          "color": "#F0E442"
         },
         "orientation": "h",
         "type": "bar",
         "x": [
          0.02939557654578684,
          0.033293909507474,
          0.04593936278897677,
          0.04759506827259408,
          0.09289548164746818
         ],
         "xaxis": "x7",
         "y": [
          "wakil  ",
          "calon  ",
          "anies  ",
          "pilih  ",
          "presiden  "
         ],
         "yaxis": "y7"
        },
        {
         "marker": {
          "color": "#D55E00"
         },
         "orientation": "h",
         "type": "bar",
         "x": [
          0.015342215444375298,
          0.020768548917472325,
          0.027276408232929185,
          0.027530809692882553,
          0.1287267489111367
         ],
         "xaxis": "x8",
         "y": [
          "ya  ",
          "grup  ",
          "dukung  ",
          "line  ",
          "01  "
         ],
         "yaxis": "y8"
        },
        {
         "marker": {
          "color": "#0072B2"
         },
         "orientation": "h",
         "type": "bar",
         "x": [
          0.019133538550099936,
          0.02479700953615869,
          0.03493932494567643,
          0.1540658568549499,
          0.16040399774137137
         ],
         "xaxis": "x9",
         "y": [
          "lucu  ",
          "banget  ",
          "anies  ",
          "imin  ",
          "cak  "
         ],
         "yaxis": "y9"
        },
        {
         "marker": {
          "color": "#CC79A7"
         },
         "orientation": "h",
         "type": "bar",
         "x": [
          0.030718456743503184,
          0.04096541745209889,
          0.048983411308605763,
          0.04983363512595958,
          0.13426079603048582
         ],
         "xaxis": "x10",
         "y": [
          "sukses  ",
          "gara  ",
          "01  ",
          "survei  ",
          "menang  "
         ],
         "yaxis": "y10"
        },
        {
         "marker": {
          "color": "#E69F00"
         },
         "orientation": "h",
         "type": "bar",
         "x": [
          0.02883887065504084,
          0.03150458486215204,
          0.03339927576422316,
          0.049489216212111144,
          0.06353387198666027
         ],
         "xaxis": "x11",
         "y": [
          "makan  ",
          "data  ",
          "01  ",
          "kerja  ",
          "kampanye  "
         ],
         "yaxis": "y11"
        },
        {
         "marker": {
          "color": "#56B4E9"
         },
         "orientation": "h",
         "type": "bar",
         "x": [
          0.024622757519273505,
          0.024881051215949874,
          0.03445750002784567,
          0.06393515219086479,
          0.0762102903750882
         ],
         "xaxis": "x12",
         "y": [
          "legislatif  ",
          "pilih  ",
          "wakil  ",
          "calon  ",
          "presiden  "
         ],
         "yaxis": "y12"
        },
        {
         "marker": {
          "color": "#009E73"
         },
         "orientation": "h",
         "type": "bar",
         "x": [
          0.040534646202069785,
          0.042409886521652396,
          0.04245454007566007,
          0.05886001929156794,
          0.06596539051307718
         ],
         "xaxis": "x13",
         "y": [
          "korea  ",
          "sosial  ",
          "kritik  ",
          "media  ",
          "twitter  "
         ],
         "yaxis": "y13"
        },
        {
         "marker": {
          "color": "#F0E442"
         },
         "orientation": "h",
         "type": "bar",
         "x": [
          0.033876914112755174,
          0.03454794779480182,
          0.047974830531337505,
          0.0562285987437353,
          0.05816274782388571
         ],
         "xaxis": "x14",
         "y": [
          "suara  ",
          "anies  ",
          "kayak  ",
          "imin  ",
          "cak  "
         ],
         "yaxis": "y14"
        },
        {
         "marker": {
          "color": "#D55E00"
         },
         "orientation": "h",
         "type": "bar",
         "x": [
          0.027668896747067316,
          0.029462853763698657,
          0.029928230173977426,
          0.03583286287405546,
          0.13302959683158644
         ],
         "xaxis": "x15",
         "y": [
          "presiden  ",
          "strategi  ",
          "01  ",
          "calon  ",
          "debat  "
         ],
         "yaxis": "y15"
        },
        {
         "marker": {
          "color": "#0072B2"
         },
         "orientation": "h",
         "type": "bar",
         "x": [
          0.03293242736156733,
          0.033112190461687556,
          0.039813332912112843,
          0.04986269198573567,
          0.10945461828897955
         ],
         "xaxis": "x16",
         "y": [
          "adil  ",
          "makmur  ",
          "baswedan  ",
          "anies  ",
          "indonesia  "
         ],
         "yaxis": "y16"
        },
        {
         "marker": {
          "color": "#CC79A7"
         },
         "orientation": "h",
         "type": "bar",
         "x": [
          0.034282793938809196,
          0.045379828531478685,
          0.04782858023747976,
          0.04827685671721543,
          0.1404952212493612
         ],
         "xaxis": "x17",
         "y": [
          "calon  ",
          "presiden  ",
          "imin  ",
          "cak  ",
          "debat  "
         ],
         "yaxis": "y17"
        },
        {
         "marker": {
          "color": "#E69F00"
         },
         "orientation": "h",
         "type": "bar",
         "x": [
          0.024699125763041556,
          0.03191540495274962,
          0.03916870826722954,
          0.0400317092351337,
          0.1899470186679122
         ],
         "xaxis": "x18",
         "y": [
          "orang  ",
          "dukung  ",
          "model  ",
          "01  ",
          "kayak  "
         ],
         "yaxis": "y18"
        },
        {
         "marker": {
          "color": "#56B4E9"
         },
         "orientation": "h",
         "type": "bar",
         "x": [
          0.04036869511328042,
          0.04677984464472575,
          0.04849282072980156,
          0.051270058162708576,
          0.07894888317124064
         ],
         "xaxis": "x19",
         "y": [
          "anies  ",
          "demokrat  ",
          "partai  ",
          "demokrasi  ",
          "politik  "
         ],
         "yaxis": "y19"
        },
        {
         "marker": {
          "color": "#009E73"
         },
         "orientation": "h",
         "type": "bar",
         "x": [
          0.025472668276430556,
          0.048987871313865096,
          0.058864300139881635,
          0.09350260077957905,
          0.1423459330888539
         ],
         "xaxis": "x20",
         "y": [
          "pilih  ",
          "01  ",
          "wakil  ",
          "calon  ",
          "presiden  "
         ],
         "yaxis": "y20"
        },
        {
         "marker": {
          "color": "#F0E442"
         },
         "orientation": "h",
         "type": "bar",
         "x": [
          0.03298563487767033,
          0.033055979733615765,
          0.03399038846906776,
          0.07382416066047123,
          0.09442462939421481
         ],
         "xaxis": "x21",
         "y": [
          "imam  ",
          "muslim  ",
          "01  ",
          "islam  ",
          "agama  "
         ],
         "yaxis": "y21"
        },
        {
         "marker": {
          "color": "#D55E00"
         },
         "orientation": "h",
         "type": "bar",
         "x": [
          0.044541644294487336,
          0.04707402284332347,
          0.059219602538524686,
          0.06394656804094302,
          0.07277545575659815
         ],
         "xaxis": "x22",
         "y": [
          "misi  ",
          "visi  ",
          "01  ",
          "jalan  ",
          "fakta  "
         ],
         "yaxis": "y22"
        },
        {
         "marker": {
          "color": "#0072B2"
         },
         "orientation": "h",
         "type": "bar",
         "x": [
          0.0199602789410775,
          0.0236517219166095,
          0.027998288325252356,
          0.059944580636389654,
          0.15792993956678736
         ],
         "xaxis": "x23",
         "y": [
          "calon  ",
          "polisi  ",
          "01  ",
          "identitas  ",
          "politik  "
         ],
         "yaxis": "y23"
        },
        {
         "marker": {
          "color": "#CC79A7"
         },
         "orientation": "h",
         "type": "bar",
         "x": [
          0.028042198369769594,
          0.028326987363661713,
          0.03692634861116835,
          0.07500639076071497,
          0.2080894201360918
         ],
         "xaxis": "x24",
         "y": [
          "voter  ",
          "coblos  ",
          "01  ",
          "mungut  ",
          "suara  "
         ],
         "yaxis": "y24"
        },
        {
         "marker": {
          "color": "#E69F00"
         },
         "orientation": "h",
         "type": "bar",
         "x": [
          0.030974038241920073,
          0.032779420682795955,
          0.03365024965836197,
          0.03785547232783885,
          0.15629993391285968
         ],
         "xaxis": "x25",
         "y": [
          "ubah  ",
          "01  ",
          "amin  ",
          "republik  ",
          "indonesia  "
         ],
         "yaxis": "y25"
        },
        {
         "marker": {
          "color": "#56B4E9"
         },
         "orientation": "h",
         "type": "bar",
         "x": [
          0.034133329541999775,
          0.03559134743532611,
          0.04091063819433884,
          0.04614164615140819,
          0.17049700077517282
         ],
         "xaxis": "x26",
         "y": [
          "01  ",
          "organik  ",
          "videotron  ",
          "film  ",
          "video  "
         ],
         "yaxis": "y26"
        },
        {
         "marker": {
          "color": "#009E73"
         },
         "orientation": "h",
         "type": "bar",
         "x": [
          0.048421769280163666,
          0.05048054995512958,
          0.08038546686307904,
          0.08888774858293409,
          0.1340405722072277
         ],
         "xaxis": "x27",
         "y": [
          "nasional  ",
          "juang  ",
          "demokrat  ",
          "partai  ",
          "demokrasi  "
         ],
         "yaxis": "y27"
        },
        {
         "marker": {
          "color": "#F0E442"
         },
         "orientation": "h",
         "type": "bar",
         "x": [
          0.03105316159669844,
          0.04821886568466939,
          0.0835443411368673,
          0.08582179625028642,
          0.1290161581228663
         ],
         "xaxis": "x28",
         "y": [
          "01  ",
          "makan  ",
          "gratis  ",
          "berita  ",
          "program  "
         ],
         "yaxis": "y28"
        },
        {
         "marker": {
          "color": "#D55E00"
         },
         "orientation": "h",
         "type": "bar",
         "x": [
          0.05149088056822723,
          0.06280785511247589,
          0.08768329704121043,
          0.09695093951505668,
          0.10480637191230142
         ],
         "xaxis": "x29",
         "y": [
          "galak  ",
          "01  ",
          "intelek  ",
          "gas  ",
          "fan  "
         ],
         "yaxis": "y29"
        },
        {
         "marker": {
          "color": "#0072B2"
         },
         "orientation": "h",
         "type": "bar",
         "x": [
          0.03806167055765363,
          0.04139810052865622,
          0.0470000994469676,
          0.056023281424921086,
          0.3858554792922615
         ],
         "xaxis": "x30",
         "y": [
          "bodoh  ",
          "01  ",
          "dukung  ",
          "orang  ",
          "pintar  "
         ],
         "yaxis": "y30"
        }
       ],
       "layout": {
        "annotations": [
         {
          "font": {
           "size": 16
          },
          "showarrow": false,
          "text": "Topic 0",
          "x": 0.0875,
          "xanchor": "center",
          "xref": "paper",
          "y": 1,
          "yanchor": "bottom",
          "yref": "paper"
         },
         {
          "font": {
           "size": 16
          },
          "showarrow": false,
          "text": "Topic 1",
          "x": 0.36250000000000004,
          "xanchor": "center",
          "xref": "paper",
          "y": 1,
          "yanchor": "bottom",
          "yref": "paper"
         },
         {
          "font": {
           "size": 16
          },
          "showarrow": false,
          "text": "Topic 2",
          "x": 0.6375000000000001,
          "xanchor": "center",
          "xref": "paper",
          "y": 1,
          "yanchor": "bottom",
          "yref": "paper"
         },
         {
          "font": {
           "size": 16
          },
          "showarrow": false,
          "text": "Topic 3",
          "x": 0.9125,
          "xanchor": "center",
          "xref": "paper",
          "y": 1,
          "yanchor": "bottom",
          "yref": "paper"
         },
         {
          "font": {
           "size": 16
          },
          "showarrow": false,
          "text": "Topic 4",
          "x": 0.0875,
          "xanchor": "center",
          "xref": "paper",
          "y": 0.8687499999999999,
          "yanchor": "bottom",
          "yref": "paper"
         },
         {
          "font": {
           "size": 16
          },
          "showarrow": false,
          "text": "Topic 5",
          "x": 0.36250000000000004,
          "xanchor": "center",
          "xref": "paper",
          "y": 0.8687499999999999,
          "yanchor": "bottom",
          "yref": "paper"
         },
         {
          "font": {
           "size": 16
          },
          "showarrow": false,
          "text": "Topic 6",
          "x": 0.6375000000000001,
          "xanchor": "center",
          "xref": "paper",
          "y": 0.8687499999999999,
          "yanchor": "bottom",
          "yref": "paper"
         },
         {
          "font": {
           "size": 16
          },
          "showarrow": false,
          "text": "Topic 7",
          "x": 0.9125,
          "xanchor": "center",
          "xref": "paper",
          "y": 0.8687499999999999,
          "yanchor": "bottom",
          "yref": "paper"
         },
         {
          "font": {
           "size": 16
          },
          "showarrow": false,
          "text": "Topic 8",
          "x": 0.0875,
          "xanchor": "center",
          "xref": "paper",
          "y": 0.7375,
          "yanchor": "bottom",
          "yref": "paper"
         },
         {
          "font": {
           "size": 16
          },
          "showarrow": false,
          "text": "Topic 9",
          "x": 0.36250000000000004,
          "xanchor": "center",
          "xref": "paper",
          "y": 0.7375,
          "yanchor": "bottom",
          "yref": "paper"
         },
         {
          "font": {
           "size": 16
          },
          "showarrow": false,
          "text": "Topic 10",
          "x": 0.6375000000000001,
          "xanchor": "center",
          "xref": "paper",
          "y": 0.7375,
          "yanchor": "bottom",
          "yref": "paper"
         },
         {
          "font": {
           "size": 16
          },
          "showarrow": false,
          "text": "Topic 11",
          "x": 0.9125,
          "xanchor": "center",
          "xref": "paper",
          "y": 0.7375,
          "yanchor": "bottom",
          "yref": "paper"
         },
         {
          "font": {
           "size": 16
          },
          "showarrow": false,
          "text": "Topic 12",
          "x": 0.0875,
          "xanchor": "center",
          "xref": "paper",
          "y": 0.60625,
          "yanchor": "bottom",
          "yref": "paper"
         },
         {
          "font": {
           "size": 16
          },
          "showarrow": false,
          "text": "Topic 13",
          "x": 0.36250000000000004,
          "xanchor": "center",
          "xref": "paper",
          "y": 0.60625,
          "yanchor": "bottom",
          "yref": "paper"
         },
         {
          "font": {
           "size": 16
          },
          "showarrow": false,
          "text": "Topic 14",
          "x": 0.6375000000000001,
          "xanchor": "center",
          "xref": "paper",
          "y": 0.60625,
          "yanchor": "bottom",
          "yref": "paper"
         },
         {
          "font": {
           "size": 16
          },
          "showarrow": false,
          "text": "Topic 15",
          "x": 0.9125,
          "xanchor": "center",
          "xref": "paper",
          "y": 0.60625,
          "yanchor": "bottom",
          "yref": "paper"
         },
         {
          "font": {
           "size": 16
          },
          "showarrow": false,
          "text": "Topic 16",
          "x": 0.0875,
          "xanchor": "center",
          "xref": "paper",
          "y": 0.475,
          "yanchor": "bottom",
          "yref": "paper"
         },
         {
          "font": {
           "size": 16
          },
          "showarrow": false,
          "text": "Topic 17",
          "x": 0.36250000000000004,
          "xanchor": "center",
          "xref": "paper",
          "y": 0.475,
          "yanchor": "bottom",
          "yref": "paper"
         },
         {
          "font": {
           "size": 16
          },
          "showarrow": false,
          "text": "Topic 18",
          "x": 0.6375000000000001,
          "xanchor": "center",
          "xref": "paper",
          "y": 0.475,
          "yanchor": "bottom",
          "yref": "paper"
         },
         {
          "font": {
           "size": 16
          },
          "showarrow": false,
          "text": "Topic 19",
          "x": 0.9125,
          "xanchor": "center",
          "xref": "paper",
          "y": 0.475,
          "yanchor": "bottom",
          "yref": "paper"
         },
         {
          "font": {
           "size": 16
          },
          "showarrow": false,
          "text": "Topic 20",
          "x": 0.0875,
          "xanchor": "center",
          "xref": "paper",
          "y": 0.34374999999999994,
          "yanchor": "bottom",
          "yref": "paper"
         },
         {
          "font": {
           "size": 16
          },
          "showarrow": false,
          "text": "Topic 21",
          "x": 0.36250000000000004,
          "xanchor": "center",
          "xref": "paper",
          "y": 0.34374999999999994,
          "yanchor": "bottom",
          "yref": "paper"
         },
         {
          "font": {
           "size": 16
          },
          "showarrow": false,
          "text": "Topic 22",
          "x": 0.6375000000000001,
          "xanchor": "center",
          "xref": "paper",
          "y": 0.34374999999999994,
          "yanchor": "bottom",
          "yref": "paper"
         },
         {
          "font": {
           "size": 16
          },
          "showarrow": false,
          "text": "Topic 23",
          "x": 0.9125,
          "xanchor": "center",
          "xref": "paper",
          "y": 0.34374999999999994,
          "yanchor": "bottom",
          "yref": "paper"
         },
         {
          "font": {
           "size": 16
          },
          "showarrow": false,
          "text": "Topic 24",
          "x": 0.0875,
          "xanchor": "center",
          "xref": "paper",
          "y": 0.21249999999999997,
          "yanchor": "bottom",
          "yref": "paper"
         },
         {
          "font": {
           "size": 16
          },
          "showarrow": false,
          "text": "Topic 25",
          "x": 0.36250000000000004,
          "xanchor": "center",
          "xref": "paper",
          "y": 0.21249999999999997,
          "yanchor": "bottom",
          "yref": "paper"
         },
         {
          "font": {
           "size": 16
          },
          "showarrow": false,
          "text": "Topic 26",
          "x": 0.6375000000000001,
          "xanchor": "center",
          "xref": "paper",
          "y": 0.21249999999999997,
          "yanchor": "bottom",
          "yref": "paper"
         },
         {
          "font": {
           "size": 16
          },
          "showarrow": false,
          "text": "Topic 27",
          "x": 0.9125,
          "xanchor": "center",
          "xref": "paper",
          "y": 0.21249999999999997,
          "yanchor": "bottom",
          "yref": "paper"
         },
         {
          "font": {
           "size": 16
          },
          "showarrow": false,
          "text": "Topic 28",
          "x": 0.0875,
          "xanchor": "center",
          "xref": "paper",
          "y": 0.08124999999999999,
          "yanchor": "bottom",
          "yref": "paper"
         },
         {
          "font": {
           "size": 16
          },
          "showarrow": false,
          "text": "Topic 29",
          "x": 0.36250000000000004,
          "xanchor": "center",
          "xref": "paper",
          "y": 0.08124999999999999,
          "yanchor": "bottom",
          "yref": "paper"
         }
        ],
        "height": 2000,
        "hoverlabel": {
         "bgcolor": "white",
         "font": {
          "family": "Rockwell",
          "size": 16
         }
        },
        "showlegend": false,
        "template": {
         "data": {
          "bar": [
           {
            "error_x": {
             "color": "#2a3f5f"
            },
            "error_y": {
             "color": "#2a3f5f"
            },
            "marker": {
             "line": {
              "color": "white",
              "width": 0.5
             },
             "pattern": {
              "fillmode": "overlay",
              "size": 10,
              "solidity": 0.2
             }
            },
            "type": "bar"
           }
          ],
          "barpolar": [
           {
            "marker": {
             "line": {
              "color": "white",
              "width": 0.5
             },
             "pattern": {
              "fillmode": "overlay",
              "size": 10,
              "solidity": 0.2
             }
            },
            "type": "barpolar"
           }
          ],
          "carpet": [
           {
            "aaxis": {
             "endlinecolor": "#2a3f5f",
             "gridcolor": "#C8D4E3",
             "linecolor": "#C8D4E3",
             "minorgridcolor": "#C8D4E3",
             "startlinecolor": "#2a3f5f"
            },
            "baxis": {
             "endlinecolor": "#2a3f5f",
             "gridcolor": "#C8D4E3",
             "linecolor": "#C8D4E3",
             "minorgridcolor": "#C8D4E3",
             "startlinecolor": "#2a3f5f"
            },
            "type": "carpet"
           }
          ],
          "choropleth": [
           {
            "colorbar": {
             "outlinewidth": 0,
             "ticks": ""
            },
            "type": "choropleth"
           }
          ],
          "contour": [
           {
            "colorbar": {
             "outlinewidth": 0,
             "ticks": ""
            },
            "colorscale": [
             [
              0,
              "#0d0887"
             ],
             [
              0.1111111111111111,
              "#46039f"
             ],
             [
              0.2222222222222222,
              "#7201a8"
             ],
             [
              0.3333333333333333,
              "#9c179e"
             ],
             [
              0.4444444444444444,
              "#bd3786"
             ],
             [
              0.5555555555555556,
              "#d8576b"
             ],
             [
              0.6666666666666666,
              "#ed7953"
             ],
             [
              0.7777777777777778,
              "#fb9f3a"
             ],
             [
              0.8888888888888888,
              "#fdca26"
             ],
             [
              1,
              "#f0f921"
             ]
            ],
            "type": "contour"
           }
          ],
          "contourcarpet": [
           {
            "colorbar": {
             "outlinewidth": 0,
             "ticks": ""
            },
            "type": "contourcarpet"
           }
          ],
          "heatmap": [
           {
            "colorbar": {
             "outlinewidth": 0,
             "ticks": ""
            },
            "colorscale": [
             [
              0,
              "#0d0887"
             ],
             [
              0.1111111111111111,
              "#46039f"
             ],
             [
              0.2222222222222222,
              "#7201a8"
             ],
             [
              0.3333333333333333,
              "#9c179e"
             ],
             [
              0.4444444444444444,
              "#bd3786"
             ],
             [
              0.5555555555555556,
              "#d8576b"
             ],
             [
              0.6666666666666666,
              "#ed7953"
             ],
             [
              0.7777777777777778,
              "#fb9f3a"
             ],
             [
              0.8888888888888888,
              "#fdca26"
             ],
             [
              1,
              "#f0f921"
             ]
            ],
            "type": "heatmap"
           }
          ],
          "histogram": [
           {
            "marker": {
             "pattern": {
              "fillmode": "overlay",
              "size": 10,
              "solidity": 0.2
             }
            },
            "type": "histogram"
           }
          ],
          "histogram2d": [
           {
            "colorbar": {
             "outlinewidth": 0,
             "ticks": ""
            },
            "colorscale": [
             [
              0,
              "#0d0887"
             ],
             [
              0.1111111111111111,
              "#46039f"
             ],
             [
              0.2222222222222222,
              "#7201a8"
             ],
             [
              0.3333333333333333,
              "#9c179e"
             ],
             [
              0.4444444444444444,
              "#bd3786"
             ],
             [
              0.5555555555555556,
              "#d8576b"
             ],
             [
              0.6666666666666666,
              "#ed7953"
             ],
             [
              0.7777777777777778,
              "#fb9f3a"
             ],
             [
              0.8888888888888888,
              "#fdca26"
             ],
             [
              1,
              "#f0f921"
             ]
            ],
            "type": "histogram2d"
           }
          ],
          "histogram2dcontour": [
           {
            "colorbar": {
             "outlinewidth": 0,
             "ticks": ""
            },
            "colorscale": [
             [
              0,
              "#0d0887"
             ],
             [
              0.1111111111111111,
              "#46039f"
             ],
             [
              0.2222222222222222,
              "#7201a8"
             ],
             [
              0.3333333333333333,
              "#9c179e"
             ],
             [
              0.4444444444444444,
              "#bd3786"
             ],
             [
              0.5555555555555556,
              "#d8576b"
             ],
             [
              0.6666666666666666,
              "#ed7953"
             ],
             [
              0.7777777777777778,
              "#fb9f3a"
             ],
             [
              0.8888888888888888,
              "#fdca26"
             ],
             [
              1,
              "#f0f921"
             ]
            ],
            "type": "histogram2dcontour"
           }
          ],
          "mesh3d": [
           {
            "colorbar": {
             "outlinewidth": 0,
             "ticks": ""
            },
            "type": "mesh3d"
           }
          ],
          "parcoords": [
           {
            "line": {
             "colorbar": {
              "outlinewidth": 0,
              "ticks": ""
             }
            },
            "type": "parcoords"
           }
          ],
          "pie": [
           {
            "automargin": true,
            "type": "pie"
           }
          ],
          "scatter": [
           {
            "fillpattern": {
             "fillmode": "overlay",
             "size": 10,
             "solidity": 0.2
            },
            "type": "scatter"
           }
          ],
          "scatter3d": [
           {
            "line": {
             "colorbar": {
              "outlinewidth": 0,
              "ticks": ""
             }
            },
            "marker": {
             "colorbar": {
              "outlinewidth": 0,
              "ticks": ""
             }
            },
            "type": "scatter3d"
           }
          ],
          "scattercarpet": [
           {
            "marker": {
             "colorbar": {
              "outlinewidth": 0,
              "ticks": ""
             }
            },
            "type": "scattercarpet"
           }
          ],
          "scattergeo": [
           {
            "marker": {
             "colorbar": {
              "outlinewidth": 0,
              "ticks": ""
             }
            },
            "type": "scattergeo"
           }
          ],
          "scattergl": [
           {
            "marker": {
             "colorbar": {
              "outlinewidth": 0,
              "ticks": ""
             }
            },
            "type": "scattergl"
           }
          ],
          "scattermap": [
           {
            "marker": {
             "colorbar": {
              "outlinewidth": 0,
              "ticks": ""
             }
            },
            "type": "scattermap"
           }
          ],
          "scattermapbox": [
           {
            "marker": {
             "colorbar": {
              "outlinewidth": 0,
              "ticks": ""
             }
            },
            "type": "scattermapbox"
           }
          ],
          "scatterpolar": [
           {
            "marker": {
             "colorbar": {
              "outlinewidth": 0,
              "ticks": ""
             }
            },
            "type": "scatterpolar"
           }
          ],
          "scatterpolargl": [
           {
            "marker": {
             "colorbar": {
              "outlinewidth": 0,
              "ticks": ""
             }
            },
            "type": "scatterpolargl"
           }
          ],
          "scatterternary": [
           {
            "marker": {
             "colorbar": {
              "outlinewidth": 0,
              "ticks": ""
             }
            },
            "type": "scatterternary"
           }
          ],
          "surface": [
           {
            "colorbar": {
             "outlinewidth": 0,
             "ticks": ""
            },
            "colorscale": [
             [
              0,
              "#0d0887"
             ],
             [
              0.1111111111111111,
              "#46039f"
             ],
             [
              0.2222222222222222,
              "#7201a8"
             ],
             [
              0.3333333333333333,
              "#9c179e"
             ],
             [
              0.4444444444444444,
              "#bd3786"
             ],
             [
              0.5555555555555556,
              "#d8576b"
             ],
             [
              0.6666666666666666,
              "#ed7953"
             ],
             [
              0.7777777777777778,
              "#fb9f3a"
             ],
             [
              0.8888888888888888,
              "#fdca26"
             ],
             [
              1,
              "#f0f921"
             ]
            ],
            "type": "surface"
           }
          ],
          "table": [
           {
            "cells": {
             "fill": {
              "color": "#EBF0F8"
             },
             "line": {
              "color": "white"
             }
            },
            "header": {
             "fill": {
              "color": "#C8D4E3"
             },
             "line": {
              "color": "white"
             }
            },
            "type": "table"
           }
          ]
         },
         "layout": {
          "annotationdefaults": {
           "arrowcolor": "#2a3f5f",
           "arrowhead": 0,
           "arrowwidth": 1
          },
          "autotypenumbers": "strict",
          "coloraxis": {
           "colorbar": {
            "outlinewidth": 0,
            "ticks": ""
           }
          },
          "colorscale": {
           "diverging": [
            [
             0,
             "#8e0152"
            ],
            [
             0.1,
             "#c51b7d"
            ],
            [
             0.2,
             "#de77ae"
            ],
            [
             0.3,
             "#f1b6da"
            ],
            [
             0.4,
             "#fde0ef"
            ],
            [
             0.5,
             "#f7f7f7"
            ],
            [
             0.6,
             "#e6f5d0"
            ],
            [
             0.7,
             "#b8e186"
            ],
            [
             0.8,
             "#7fbc41"
            ],
            [
             0.9,
             "#4d9221"
            ],
            [
             1,
             "#276419"
            ]
           ],
           "sequential": [
            [
             0,
             "#0d0887"
            ],
            [
             0.1111111111111111,
             "#46039f"
            ],
            [
             0.2222222222222222,
             "#7201a8"
            ],
            [
             0.3333333333333333,
             "#9c179e"
            ],
            [
             0.4444444444444444,
             "#bd3786"
            ],
            [
             0.5555555555555556,
             "#d8576b"
            ],
            [
             0.6666666666666666,
             "#ed7953"
            ],
            [
             0.7777777777777778,
             "#fb9f3a"
            ],
            [
             0.8888888888888888,
             "#fdca26"
            ],
            [
             1,
             "#f0f921"
            ]
           ],
           "sequentialminus": [
            [
             0,
             "#0d0887"
            ],
            [
             0.1111111111111111,
             "#46039f"
            ],
            [
             0.2222222222222222,
             "#7201a8"
            ],
            [
             0.3333333333333333,
             "#9c179e"
            ],
            [
             0.4444444444444444,
             "#bd3786"
            ],
            [
             0.5555555555555556,
             "#d8576b"
            ],
            [
             0.6666666666666666,
             "#ed7953"
            ],
            [
             0.7777777777777778,
             "#fb9f3a"
            ],
            [
             0.8888888888888888,
             "#fdca26"
            ],
            [
             1,
             "#f0f921"
            ]
           ]
          },
          "colorway": [
           "#636efa",
           "#EF553B",
           "#00cc96",
           "#ab63fa",
           "#FFA15A",
           "#19d3f3",
           "#FF6692",
           "#B6E880",
           "#FF97FF",
           "#FECB52"
          ],
          "font": {
           "color": "#2a3f5f"
          },
          "geo": {
           "bgcolor": "white",
           "lakecolor": "white",
           "landcolor": "white",
           "showlakes": true,
           "showland": true,
           "subunitcolor": "#C8D4E3"
          },
          "hoverlabel": {
           "align": "left"
          },
          "hovermode": "closest",
          "mapbox": {
           "style": "light"
          },
          "paper_bgcolor": "white",
          "plot_bgcolor": "white",
          "polar": {
           "angularaxis": {
            "gridcolor": "#EBF0F8",
            "linecolor": "#EBF0F8",
            "ticks": ""
           },
           "bgcolor": "white",
           "radialaxis": {
            "gridcolor": "#EBF0F8",
            "linecolor": "#EBF0F8",
            "ticks": ""
           }
          },
          "scene": {
           "xaxis": {
            "backgroundcolor": "white",
            "gridcolor": "#DFE8F3",
            "gridwidth": 2,
            "linecolor": "#EBF0F8",
            "showbackground": true,
            "ticks": "",
            "zerolinecolor": "#EBF0F8"
           },
           "yaxis": {
            "backgroundcolor": "white",
            "gridcolor": "#DFE8F3",
            "gridwidth": 2,
            "linecolor": "#EBF0F8",
            "showbackground": true,
            "ticks": "",
            "zerolinecolor": "#EBF0F8"
           },
           "zaxis": {
            "backgroundcolor": "white",
            "gridcolor": "#DFE8F3",
            "gridwidth": 2,
            "linecolor": "#EBF0F8",
            "showbackground": true,
            "ticks": "",
            "zerolinecolor": "#EBF0F8"
           }
          },
          "shapedefaults": {
           "line": {
            "color": "#2a3f5f"
           }
          },
          "ternary": {
           "aaxis": {
            "gridcolor": "#DFE8F3",
            "linecolor": "#A2B1C6",
            "ticks": ""
           },
           "baxis": {
            "gridcolor": "#DFE8F3",
            "linecolor": "#A2B1C6",
            "ticks": ""
           },
           "bgcolor": "white",
           "caxis": {
            "gridcolor": "#DFE8F3",
            "linecolor": "#A2B1C6",
            "ticks": ""
           }
          },
          "title": {
           "x": 0.05
          },
          "xaxis": {
           "automargin": true,
           "gridcolor": "#EBF0F8",
           "linecolor": "#EBF0F8",
           "ticks": "",
           "title": {
            "standoff": 15
           },
           "zerolinecolor": "#EBF0F8",
           "zerolinewidth": 2
          },
          "yaxis": {
           "automargin": true,
           "gridcolor": "#EBF0F8",
           "linecolor": "#EBF0F8",
           "ticks": "",
           "title": {
            "standoff": 15
           },
           "zerolinecolor": "#EBF0F8",
           "zerolinewidth": 2
          }
         }
        },
        "title": {
         "font": {
          "color": "Black",
          "size": 22
         },
         "text": "Topic Word Scores",
         "x": 0.5,
         "xanchor": "center",
         "yanchor": "top"
        },
        "width": 1000,
        "xaxis": {
         "anchor": "y",
         "domain": [
          0,
          0.175
         ],
         "showgrid": true
        },
        "xaxis10": {
         "anchor": "y10",
         "domain": [
          0.275,
          0.45
         ],
         "showgrid": true
        },
        "xaxis11": {
         "anchor": "y11",
         "domain": [
          0.55,
          0.7250000000000001
         ],
         "showgrid": true
        },
        "xaxis12": {
         "anchor": "y12",
         "domain": [
          0.825,
          1
         ],
         "showgrid": true
        },
        "xaxis13": {
         "anchor": "y13",
         "domain": [
          0,
          0.175
         ],
         "showgrid": true
        },
        "xaxis14": {
         "anchor": "y14",
         "domain": [
          0.275,
          0.45
         ],
         "showgrid": true
        },
        "xaxis15": {
         "anchor": "y15",
         "domain": [
          0.55,
          0.7250000000000001
         ],
         "showgrid": true
        },
        "xaxis16": {
         "anchor": "y16",
         "domain": [
          0.825,
          1
         ],
         "showgrid": true
        },
        "xaxis17": {
         "anchor": "y17",
         "domain": [
          0,
          0.175
         ],
         "showgrid": true
        },
        "xaxis18": {
         "anchor": "y18",
         "domain": [
          0.275,
          0.45
         ],
         "showgrid": true
        },
        "xaxis19": {
         "anchor": "y19",
         "domain": [
          0.55,
          0.7250000000000001
         ],
         "showgrid": true
        },
        "xaxis2": {
         "anchor": "y2",
         "domain": [
          0.275,
          0.45
         ],
         "showgrid": true
        },
        "xaxis20": {
         "anchor": "y20",
         "domain": [
          0.825,
          1
         ],
         "showgrid": true
        },
        "xaxis21": {
         "anchor": "y21",
         "domain": [
          0,
          0.175
         ],
         "showgrid": true
        },
        "xaxis22": {
         "anchor": "y22",
         "domain": [
          0.275,
          0.45
         ],
         "showgrid": true
        },
        "xaxis23": {
         "anchor": "y23",
         "domain": [
          0.55,
          0.7250000000000001
         ],
         "showgrid": true
        },
        "xaxis24": {
         "anchor": "y24",
         "domain": [
          0.825,
          1
         ],
         "showgrid": true
        },
        "xaxis25": {
         "anchor": "y25",
         "domain": [
          0,
          0.175
         ],
         "showgrid": true
        },
        "xaxis26": {
         "anchor": "y26",
         "domain": [
          0.275,
          0.45
         ],
         "showgrid": true
        },
        "xaxis27": {
         "anchor": "y27",
         "domain": [
          0.55,
          0.7250000000000001
         ],
         "showgrid": true
        },
        "xaxis28": {
         "anchor": "y28",
         "domain": [
          0.825,
          1
         ],
         "showgrid": true
        },
        "xaxis29": {
         "anchor": "y29",
         "domain": [
          0,
          0.175
         ],
         "showgrid": true
        },
        "xaxis3": {
         "anchor": "y3",
         "domain": [
          0.55,
          0.7250000000000001
         ],
         "showgrid": true
        },
        "xaxis30": {
         "anchor": "y30",
         "domain": [
          0.275,
          0.45
         ],
         "showgrid": true
        },
        "xaxis31": {
         "anchor": "y31",
         "domain": [
          0.55,
          0.7250000000000001
         ],
         "showgrid": true
        },
        "xaxis32": {
         "anchor": "y32",
         "domain": [
          0.825,
          1
         ],
         "showgrid": true
        },
        "xaxis4": {
         "anchor": "y4",
         "domain": [
          0.825,
          1
         ],
         "showgrid": true
        },
        "xaxis5": {
         "anchor": "y5",
         "domain": [
          0,
          0.175
         ],
         "showgrid": true
        },
        "xaxis6": {
         "anchor": "y6",
         "domain": [
          0.275,
          0.45
         ],
         "showgrid": true
        },
        "xaxis7": {
         "anchor": "y7",
         "domain": [
          0.55,
          0.7250000000000001
         ],
         "showgrid": true
        },
        "xaxis8": {
         "anchor": "y8",
         "domain": [
          0.825,
          1
         ],
         "showgrid": true
        },
        "xaxis9": {
         "anchor": "y9",
         "domain": [
          0,
          0.175
         ],
         "showgrid": true
        },
        "yaxis": {
         "anchor": "x",
         "domain": [
          0.91875,
          1
         ],
         "showgrid": true
        },
        "yaxis10": {
         "anchor": "x10",
         "domain": [
          0.65625,
          0.7375
         ],
         "showgrid": true
        },
        "yaxis11": {
         "anchor": "x11",
         "domain": [
          0.65625,
          0.7375
         ],
         "showgrid": true
        },
        "yaxis12": {
         "anchor": "x12",
         "domain": [
          0.65625,
          0.7375
         ],
         "showgrid": true
        },
        "yaxis13": {
         "anchor": "x13",
         "domain": [
          0.5249999999999999,
          0.60625
         ],
         "showgrid": true
        },
        "yaxis14": {
         "anchor": "x14",
         "domain": [
          0.5249999999999999,
          0.60625
         ],
         "showgrid": true
        },
        "yaxis15": {
         "anchor": "x15",
         "domain": [
          0.5249999999999999,
          0.60625
         ],
         "showgrid": true
        },
        "yaxis16": {
         "anchor": "x16",
         "domain": [
          0.5249999999999999,
          0.60625
         ],
         "showgrid": true
        },
        "yaxis17": {
         "anchor": "x17",
         "domain": [
          0.39375,
          0.475
         ],
         "showgrid": true
        },
        "yaxis18": {
         "anchor": "x18",
         "domain": [
          0.39375,
          0.475
         ],
         "showgrid": true
        },
        "yaxis19": {
         "anchor": "x19",
         "domain": [
          0.39375,
          0.475
         ],
         "showgrid": true
        },
        "yaxis2": {
         "anchor": "x2",
         "domain": [
          0.91875,
          1
         ],
         "showgrid": true
        },
        "yaxis20": {
         "anchor": "x20",
         "domain": [
          0.39375,
          0.475
         ],
         "showgrid": true
        },
        "yaxis21": {
         "anchor": "x21",
         "domain": [
          0.26249999999999996,
          0.34374999999999994
         ],
         "showgrid": true
        },
        "yaxis22": {
         "anchor": "x22",
         "domain": [
          0.26249999999999996,
          0.34374999999999994
         ],
         "showgrid": true
        },
        "yaxis23": {
         "anchor": "x23",
         "domain": [
          0.26249999999999996,
          0.34374999999999994
         ],
         "showgrid": true
        },
        "yaxis24": {
         "anchor": "x24",
         "domain": [
          0.26249999999999996,
          0.34374999999999994
         ],
         "showgrid": true
        },
        "yaxis25": {
         "anchor": "x25",
         "domain": [
          0.13124999999999998,
          0.21249999999999997
         ],
         "showgrid": true
        },
        "yaxis26": {
         "anchor": "x26",
         "domain": [
          0.13124999999999998,
          0.21249999999999997
         ],
         "showgrid": true
        },
        "yaxis27": {
         "anchor": "x27",
         "domain": [
          0.13124999999999998,
          0.21249999999999997
         ],
         "showgrid": true
        },
        "yaxis28": {
         "anchor": "x28",
         "domain": [
          0.13124999999999998,
          0.21249999999999997
         ],
         "showgrid": true
        },
        "yaxis29": {
         "anchor": "x29",
         "domain": [
          0,
          0.08124999999999999
         ],
         "showgrid": true
        },
        "yaxis3": {
         "anchor": "x3",
         "domain": [
          0.91875,
          1
         ],
         "showgrid": true
        },
        "yaxis30": {
         "anchor": "x30",
         "domain": [
          0,
          0.08124999999999999
         ],
         "showgrid": true
        },
        "yaxis31": {
         "anchor": "x31",
         "domain": [
          0,
          0.08124999999999999
         ],
         "showgrid": true
        },
        "yaxis32": {
         "anchor": "x32",
         "domain": [
          0,
          0.08124999999999999
         ],
         "showgrid": true
        },
        "yaxis4": {
         "anchor": "x4",
         "domain": [
          0.91875,
          1
         ],
         "showgrid": true
        },
        "yaxis5": {
         "anchor": "x5",
         "domain": [
          0.7875,
          0.8687499999999999
         ],
         "showgrid": true
        },
        "yaxis6": {
         "anchor": "x6",
         "domain": [
          0.7875,
          0.8687499999999999
         ],
         "showgrid": true
        },
        "yaxis7": {
         "anchor": "x7",
         "domain": [
          0.7875,
          0.8687499999999999
         ],
         "showgrid": true
        },
        "yaxis8": {
         "anchor": "x8",
         "domain": [
          0.7875,
          0.8687499999999999
         ],
         "showgrid": true
        },
        "yaxis9": {
         "anchor": "x9",
         "domain": [
          0.65625,
          0.7375
         ],
         "showgrid": true
        }
       }
      }
     },
     "metadata": {},
     "output_type": "display_data"
    }
   ],
   "source": [
    "from sklearn.cluster import KMeans\n",
    "\n",
    "num_topics = 30\n",
    "kmeans_model = KMeans(n_clusters=num_topics, random_state=42)\n",
    "\n",
    "topic_model_kmeans = BERTopic(\n",
    "    embedding_model=embedding_model,\n",
    "    umap_model=umap_model,\n",
    "    hdbscan_model=kmeans_model,\n",
    "    calculate_probabilities=False,\n",
    "    verbose=True\n",
    ")\n",
    "\n",
    "topics_kmeans, _ = topic_model_kmeans.fit_transform(docs)\n",
    "\n",
    "topic_model_kmeans.visualize_barchart(top_n_topics=30)"
   ]
  },
  {
   "cell_type": "code",
   "execution_count": 35,
   "id": "13e2eff0",
   "metadata": {},
   "outputs": [
    {
     "name": "stdout",
     "output_type": "stream",
     "text": [
      "    Topic  Count                                  Name  \\\n",
      "0       0   2415              0_01_dukung_pilih_buzzer   \n",
      "1       1   2115          1_anies_baswedan_rasyid_imin   \n",
      "2       2   2107             2_01_dukung_pasang_buzzer   \n",
      "3       3   1970             3_anies_baswedan_imin_cak   \n",
      "4       4   1934               4_01_dukung_orang_teman   \n",
      "5       5   1735               5_01_orang_dukung_pilih   \n",
      "6       6   1689          6_presiden_pilih_anies_calon   \n",
      "7       7   1592                 7_01_line_dukung_grup   \n",
      "8       8   1551               8_cak_imin_anies_banget   \n",
      "9       9   1192               9_menang_survei_01_gara   \n",
      "10     10   1023             10_kampanye_kerja_01_data   \n",
      "11     11    798         11_presiden_calon_wakil_pilih   \n",
      "12     12    794        12_twitter_media_kritik_sosial   \n",
      "13     13    767               13_cak_imin_kayak_anies   \n",
      "14     14    761            14_debat_calon_01_strategi   \n",
      "15     15    749    15_indonesia_anies_baswedan_makmur   \n",
      "16     16    711            16_debat_cak_imin_presiden   \n",
      "17     17    640              17_kayak_01_model_dukung   \n",
      "18     18    622  18_politik_demokrasi_partai_demokrat   \n",
      "19     19    620            19_presiden_calon_wakil_01   \n",
      "20     20    529              20_agama_islam_01_muslim   \n",
      "21     21    470                21_fakta_jalan_01_visi   \n",
      "22     22    468        22_politik_identitas_01_polisi   \n",
      "23     23    462             23_suara_mungut_01_coblos   \n",
      "24     24    438         24_indonesia_republik_amin_01   \n",
      "25     25    415       25_video_film_videotron_organik   \n",
      "26     26    401    26_demokrasi_partai_demokrat_juang   \n",
      "27     27    371        27_program_berita_gratis_makan   \n",
      "28     28    332                 28_fan_gas_intelek_01   \n",
      "29     29    190             29_pintar_orang_dukung_01   \n",
      "\n",
      "                                       Representation  \\\n",
      "0   [01, dukung, pilih, buzzer, coblos, kubu, amin...   \n",
      "1   [anies, baswedan, rasyid, imin, cak, ayah, ami...   \n",
      "2   [01, dukung, pasang, buzzer, banget, bang, sal...   \n",
      "3   [anies, baswedan, imin, cak, rasyid, amin, kam...   \n",
      "4   [01, dukung, orang, teman, pasang, pilih, calo...   \n",
      "5   [01, orang, dukung, pilih, pasang, banget, kem...   \n",
      "6   [presiden, pilih, anies, calon, wakil, basweda...   \n",
      "7   [01, line, dukung, grup, ya, amin, kak, deh, k...   \n",
      "8   [cak, imin, anies, banget, lucu, tertawa, gibr...   \n",
      "9   [menang, survei, 01, gara, sukses, tim, amin, ...   \n",
      "10  [kampanye, kerja, 01, data, makan, dukung, pas...   \n",
      "11  [presiden, calon, wakil, pilih, legislatif, 01...   \n",
      "12  [twitter, media, kritik, sosial, korea, pop, 0...   \n",
      "13  [cak, imin, kayak, anies, suara, video, kritik...   \n",
      "14  [debat, calon, 01, strategi, presiden, dialog,...   \n",
      "15  [indonesia, anies, baswedan, makmur, adil, ami...   \n",
      "16  [debat, cak, imin, presiden, calon, anies, wak...   \n",
      "17  [kayak, 01, model, dukung, orang, banget, deh,...   \n",
      "18  [politik, demokrasi, partai, demokrat, anies, ...   \n",
      "19  [presiden, calon, wakil, 01, pilih, dukung, pa...   \n",
      "20  [agama, islam, 01, muslim, imam, palestina, ma...   \n",
      "21  [fakta, jalan, 01, visi, misi, bot, real, 00am...   \n",
      "22  [politik, identitas, 01, polisi, calon, agama,...   \n",
      "23  [suara, mungut, 01, coblos, voter, pilih, swin...   \n",
      "24  [indonesia, republik, amin, 01, ubah, pimpin, ...   \n",
      "25  [video, film, videotron, organik, 01, lihat, d...   \n",
      "26  [demokrasi, partai, demokrat, juang, nasional,...   \n",
      "27  [program, berita, gratis, makan, 01, digital, ...   \n",
      "28  [fan, gas, intelek, 01, galak, dukung, buzzer,...   \n",
      "29  [pintar, orang, dukung, 01, bodoh, aku, sok, p...   \n",
      "\n",
      "                                  Representative_Docs  \n",
      "0   [alhamdulillah banget  dukung 01 serang, bawa ...  \n",
      "1   [lupa dukung ayah anies rasyid baswedan mana, ...  \n",
      "2   [dukung 01 cari salah, hasil tarik dukung pasa...  \n",
      "3   [anies rasyid baswedan berani mantap banget an...  \n",
      "4   [muak dukung 01 aneh dukung pasang calon kena ...  \n",
      "5   [keren dukung pasang calon puas orang pilih co...  \n",
      "6   [pilih calon presiden pilih komentar anies ani...  \n",
      "7   [dukung 01 tolong, amin 01 hati, line 01 tertawa]  \n",
      "8   [cak imin tidur minum cak semangat cak, tuju c...  \n",
      "9   [pengaruh insyaallah 01 menang menang putar, p...  \n",
      "10  [01 dukung orang kerja a a kerja, dukung 01 ka...  \n",
      "11  [kali kali pilih presiden pilih presiden kali ...  \n",
      "12  [media sosial pilih anies pasang calon 01 alas...  \n",
      "13  [video cak imin kayak adu kakak , tarik cak im...  \n",
      "14  [calon presiden anies imin deh banding pasang ...  \n",
      "15  [ubah amin menang indonesia senang rakyat adil...  \n",
      "16  [debat menang amin calon presiden anies baswed...  \n",
      "17  [ya akun dukung 01 kayak, kayak pilih amin 01,...  \n",
      "18  [cak imin partai demokrasi indonesia p partai ...  \n",
      "19  [anies 01 amin presiden wakil presiden insyaal...  \n",
      "20  [lucu teman pilih 01 gara gara islam islam kay...  \n",
      "21  [01 banget  ikut visi misi, diam bang lihat fa...  \n",
      "22  [pasang calon 01 dukung main politik identitas...  \n",
      "23  [apa mungut suara coblos 01 menang , juang jag...  \n",
      "24  [01 amin etika adab bangsa negara satu republi...  \n",
      "25  [video bukti curang pilih 01, anies bikin vide...  \n",
      "26  [pulang pergi koalisi partai demokrasi indones...  \n",
      "27  [ kak program 01 kuota gratis bahan bakar miny...  \n",
      "28  [lawan oleng oke gas oke gas 01 ayo gas, ganti...  \n",
      "29  [pintar pintar pasang calon no 01 indonesia, p...  \n"
     ]
    },
    {
     "data": {
      "application/vnd.plotly.v1+json": {
       "config": {
        "plotlyServerURL": "https://plot.ly"
       },
       "data": [
        {
         "coloraxis": "coloraxis",
         "hovertemplate": "x: %{x}<br>y: %{y}<br>Similarity Score: %{z}<extra></extra>",
         "name": "0",
         "type": "heatmap",
         "x": [
          "0_01_dukung_pilih",
          "1_anies_baswedan_rasyid",
          "2_01_dukung_pasang",
          "3_anies_baswedan_imin",
          "4_01_dukung_orang",
          "5_01_orang_dukung",
          "6_presiden_pilih_anies",
          "7_01_line_dukung",
          "8_cak_imin_anies",
          "9_menang_survei_01",
          "10_kampanye_kerja_01",
          "11_presiden_calon_wakil",
          "12_twitter_media_kritik",
          "13_cak_imin_kayak",
          "14_debat_calon_01",
          "15_indonesia_anies_baswedan",
          "16_debat_cak_imin",
          "17_kayak_01_model",
          "18_politik_demokrasi_partai",
          "19_presiden_calon_wakil",
          "20_agama_islam_01",
          "21_fakta_jalan_01",
          "22_politik_identitas_01",
          "23_suara_mungut_01",
          "24_indonesia_republik_amin",
          "25_video_film_videotron",
          "26_demokrasi_partai_demokrat",
          "27_program_berita_gratis",
          "28_fan_gas_intelek",
          "29_pintar_orang_dukung"
         ],
         "xaxis": "x",
         "y": [
          "0_01_dukung_pilih",
          "1_anies_baswedan_rasyid",
          "2_01_dukung_pasang",
          "3_anies_baswedan_imin",
          "4_01_dukung_orang",
          "5_01_orang_dukung",
          "6_presiden_pilih_anies",
          "7_01_line_dukung",
          "8_cak_imin_anies",
          "9_menang_survei_01",
          "10_kampanye_kerja_01",
          "11_presiden_calon_wakil",
          "12_twitter_media_kritik",
          "13_cak_imin_kayak",
          "14_debat_calon_01",
          "15_indonesia_anies_baswedan",
          "16_debat_cak_imin",
          "17_kayak_01_model",
          "18_politik_demokrasi_partai",
          "19_presiden_calon_wakil",
          "20_agama_islam_01",
          "21_fakta_jalan_01",
          "22_politik_identitas_01",
          "23_suara_mungut_01",
          "24_indonesia_republik_amin",
          "25_video_film_videotron",
          "26_demokrasi_partai_demokrat",
          "27_program_berita_gratis",
          "28_fan_gas_intelek",
          "29_pintar_orang_dukung"
         ],
         "yaxis": "y",
         "z": {
          "bdata": "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",
          "dtype": "f4",
          "shape": "30, 30"
         }
        }
       ],
       "layout": {
        "coloraxis": {
         "colorbar": {
          "title": {
           "text": "Similarity Score"
          }
         },
         "colorscale": [
          [
           0,
           "rgb(247,252,240)"
          ],
          [
           0.125,
           "rgb(224,243,219)"
          ],
          [
           0.25,
           "rgb(204,235,197)"
          ],
          [
           0.375,
           "rgb(168,221,181)"
          ],
          [
           0.5,
           "rgb(123,204,196)"
          ],
          [
           0.625,
           "rgb(78,179,211)"
          ],
          [
           0.75,
           "rgb(43,140,190)"
          ],
          [
           0.875,
           "rgb(8,104,172)"
          ],
          [
           1,
           "rgb(8,64,129)"
          ]
         ]
        },
        "height": 800,
        "hoverlabel": {
         "bgcolor": "white",
         "font": {
          "family": "Rockwell",
          "size": 16
         }
        },
        "legend": {
         "title": {
          "text": "Trend"
         }
        },
        "margin": {
         "t": 60
        },
        "showlegend": true,
        "template": {
         "data": {
          "bar": [
           {
            "error_x": {
             "color": "#2a3f5f"
            },
            "error_y": {
             "color": "#2a3f5f"
            },
            "marker": {
             "line": {
              "color": "#E5ECF6",
              "width": 0.5
             },
             "pattern": {
              "fillmode": "overlay",
              "size": 10,
              "solidity": 0.2
             }
            },
            "type": "bar"
           }
          ],
          "barpolar": [
           {
            "marker": {
             "line": {
              "color": "#E5ECF6",
              "width": 0.5
             },
             "pattern": {
              "fillmode": "overlay",
              "size": 10,
              "solidity": 0.2
             }
            },
            "type": "barpolar"
           }
          ],
          "carpet": [
           {
            "aaxis": {
             "endlinecolor": "#2a3f5f",
             "gridcolor": "white",
             "linecolor": "white",
             "minorgridcolor": "white",
             "startlinecolor": "#2a3f5f"
            },
            "baxis": {
             "endlinecolor": "#2a3f5f",
             "gridcolor": "white",
             "linecolor": "white",
             "minorgridcolor": "white",
             "startlinecolor": "#2a3f5f"
            },
            "type": "carpet"
           }
          ],
          "choropleth": [
           {
            "colorbar": {
             "outlinewidth": 0,
             "ticks": ""
            },
            "type": "choropleth"
           }
          ],
          "contour": [
           {
            "colorbar": {
             "outlinewidth": 0,
             "ticks": ""
            },
            "colorscale": [
             [
              0,
              "#0d0887"
             ],
             [
              0.1111111111111111,
              "#46039f"
             ],
             [
              0.2222222222222222,
              "#7201a8"
             ],
             [
              0.3333333333333333,
              "#9c179e"
             ],
             [
              0.4444444444444444,
              "#bd3786"
             ],
             [
              0.5555555555555556,
              "#d8576b"
             ],
             [
              0.6666666666666666,
              "#ed7953"
             ],
             [
              0.7777777777777778,
              "#fb9f3a"
             ],
             [
              0.8888888888888888,
              "#fdca26"
             ],
             [
              1,
              "#f0f921"
             ]
            ],
            "type": "contour"
           }
          ],
          "contourcarpet": [
           {
            "colorbar": {
             "outlinewidth": 0,
             "ticks": ""
            },
            "type": "contourcarpet"
           }
          ],
          "heatmap": [
           {
            "colorbar": {
             "outlinewidth": 0,
             "ticks": ""
            },
            "colorscale": [
             [
              0,
              "#0d0887"
             ],
             [
              0.1111111111111111,
              "#46039f"
             ],
             [
              0.2222222222222222,
              "#7201a8"
             ],
             [
              0.3333333333333333,
              "#9c179e"
             ],
             [
              0.4444444444444444,
              "#bd3786"
             ],
             [
              0.5555555555555556,
              "#d8576b"
             ],
             [
              0.6666666666666666,
              "#ed7953"
             ],
             [
              0.7777777777777778,
              "#fb9f3a"
             ],
             [
              0.8888888888888888,
              "#fdca26"
             ],
             [
              1,
              "#f0f921"
             ]
            ],
            "type": "heatmap"
           }
          ],
          "histogram": [
           {
            "marker": {
             "pattern": {
              "fillmode": "overlay",
              "size": 10,
              "solidity": 0.2
             }
            },
            "type": "histogram"
           }
          ],
          "histogram2d": [
           {
            "colorbar": {
             "outlinewidth": 0,
             "ticks": ""
            },
            "colorscale": [
             [
              0,
              "#0d0887"
             ],
             [
              0.1111111111111111,
              "#46039f"
             ],
             [
              0.2222222222222222,
              "#7201a8"
             ],
             [
              0.3333333333333333,
              "#9c179e"
             ],
             [
              0.4444444444444444,
              "#bd3786"
             ],
             [
              0.5555555555555556,
              "#d8576b"
             ],
             [
              0.6666666666666666,
              "#ed7953"
             ],
             [
              0.7777777777777778,
              "#fb9f3a"
             ],
             [
              0.8888888888888888,
              "#fdca26"
             ],
             [
              1,
              "#f0f921"
             ]
            ],
            "type": "histogram2d"
           }
          ],
          "histogram2dcontour": [
           {
            "colorbar": {
             "outlinewidth": 0,
             "ticks": ""
            },
            "colorscale": [
             [
              0,
              "#0d0887"
             ],
             [
              0.1111111111111111,
              "#46039f"
             ],
             [
              0.2222222222222222,
              "#7201a8"
             ],
             [
              0.3333333333333333,
              "#9c179e"
             ],
             [
              0.4444444444444444,
              "#bd3786"
             ],
             [
              0.5555555555555556,
              "#d8576b"
             ],
             [
              0.6666666666666666,
              "#ed7953"
             ],
             [
              0.7777777777777778,
              "#fb9f3a"
             ],
             [
              0.8888888888888888,
              "#fdca26"
             ],
             [
              1,
              "#f0f921"
             ]
            ],
            "type": "histogram2dcontour"
           }
          ],
          "mesh3d": [
           {
            "colorbar": {
             "outlinewidth": 0,
             "ticks": ""
            },
            "type": "mesh3d"
           }
          ],
          "parcoords": [
           {
            "line": {
             "colorbar": {
              "outlinewidth": 0,
              "ticks": ""
             }
            },
            "type": "parcoords"
           }
          ],
          "pie": [
           {
            "automargin": true,
            "type": "pie"
           }
          ],
          "scatter": [
           {
            "fillpattern": {
             "fillmode": "overlay",
             "size": 10,
             "solidity": 0.2
            },
            "type": "scatter"
           }
          ],
          "scatter3d": [
           {
            "line": {
             "colorbar": {
              "outlinewidth": 0,
              "ticks": ""
             }
            },
            "marker": {
             "colorbar": {
              "outlinewidth": 0,
              "ticks": ""
             }
            },
            "type": "scatter3d"
           }
          ],
          "scattercarpet": [
           {
            "marker": {
             "colorbar": {
              "outlinewidth": 0,
              "ticks": ""
             }
            },
            "type": "scattercarpet"
           }
          ],
          "scattergeo": [
           {
            "marker": {
             "colorbar": {
              "outlinewidth": 0,
              "ticks": ""
             }
            },
            "type": "scattergeo"
           }
          ],
          "scattergl": [
           {
            "marker": {
             "colorbar": {
              "outlinewidth": 0,
              "ticks": ""
             }
            },
            "type": "scattergl"
           }
          ],
          "scattermap": [
           {
            "marker": {
             "colorbar": {
              "outlinewidth": 0,
              "ticks": ""
             }
            },
            "type": "scattermap"
           }
          ],
          "scattermapbox": [
           {
            "marker": {
             "colorbar": {
              "outlinewidth": 0,
              "ticks": ""
             }
            },
            "type": "scattermapbox"
           }
          ],
          "scatterpolar": [
           {
            "marker": {
             "colorbar": {
              "outlinewidth": 0,
              "ticks": ""
             }
            },
            "type": "scatterpolar"
           }
          ],
          "scatterpolargl": [
           {
            "marker": {
             "colorbar": {
              "outlinewidth": 0,
              "ticks": ""
             }
            },
            "type": "scatterpolargl"
           }
          ],
          "scatterternary": [
           {
            "marker": {
             "colorbar": {
              "outlinewidth": 0,
              "ticks": ""
             }
            },
            "type": "scatterternary"
           }
          ],
          "surface": [
           {
            "colorbar": {
             "outlinewidth": 0,
             "ticks": ""
            },
            "colorscale": [
             [
              0,
              "#0d0887"
             ],
             [
              0.1111111111111111,
              "#46039f"
             ],
             [
              0.2222222222222222,
              "#7201a8"
             ],
             [
              0.3333333333333333,
              "#9c179e"
             ],
             [
              0.4444444444444444,
              "#bd3786"
             ],
             [
              0.5555555555555556,
              "#d8576b"
             ],
             [
              0.6666666666666666,
              "#ed7953"
             ],
             [
              0.7777777777777778,
              "#fb9f3a"
             ],
             [
              0.8888888888888888,
              "#fdca26"
             ],
             [
              1,
              "#f0f921"
             ]
            ],
            "type": "surface"
           }
          ],
          "table": [
           {
            "cells": {
             "fill": {
              "color": "#EBF0F8"
             },
             "line": {
              "color": "white"
             }
            },
            "header": {
             "fill": {
              "color": "#C8D4E3"
             },
             "line": {
              "color": "white"
             }
            },
            "type": "table"
           }
          ]
         },
         "layout": {
          "annotationdefaults": {
           "arrowcolor": "#2a3f5f",
           "arrowhead": 0,
           "arrowwidth": 1
          },
          "autotypenumbers": "strict",
          "coloraxis": {
           "colorbar": {
            "outlinewidth": 0,
            "ticks": ""
           }
          },
          "colorscale": {
           "diverging": [
            [
             0,
             "#8e0152"
            ],
            [
             0.1,
             "#c51b7d"
            ],
            [
             0.2,
             "#de77ae"
            ],
            [
             0.3,
             "#f1b6da"
            ],
            [
             0.4,
             "#fde0ef"
            ],
            [
             0.5,
             "#f7f7f7"
            ],
            [
             0.6,
             "#e6f5d0"
            ],
            [
             0.7,
             "#b8e186"
            ],
            [
             0.8,
             "#7fbc41"
            ],
            [
             0.9,
             "#4d9221"
            ],
            [
             1,
             "#276419"
            ]
           ],
           "sequential": [
            [
             0,
             "#0d0887"
            ],
            [
             0.1111111111111111,
             "#46039f"
            ],
            [
             0.2222222222222222,
             "#7201a8"
            ],
            [
             0.3333333333333333,
             "#9c179e"
            ],
            [
             0.4444444444444444,
             "#bd3786"
            ],
            [
             0.5555555555555556,
             "#d8576b"
            ],
            [
             0.6666666666666666,
             "#ed7953"
            ],
            [
             0.7777777777777778,
             "#fb9f3a"
            ],
            [
             0.8888888888888888,
             "#fdca26"
            ],
            [
             1,
             "#f0f921"
            ]
           ],
           "sequentialminus": [
            [
             0,
             "#0d0887"
            ],
            [
             0.1111111111111111,
             "#46039f"
            ],
            [
             0.2222222222222222,
             "#7201a8"
            ],
            [
             0.3333333333333333,
             "#9c179e"
            ],
            [
             0.4444444444444444,
             "#bd3786"
            ],
            [
             0.5555555555555556,
             "#d8576b"
            ],
            [
             0.6666666666666666,
             "#ed7953"
            ],
            [
             0.7777777777777778,
             "#fb9f3a"
            ],
            [
             0.8888888888888888,
             "#fdca26"
            ],
            [
             1,
             "#f0f921"
            ]
           ]
          },
          "colorway": [
           "#636efa",
           "#EF553B",
           "#00cc96",
           "#ab63fa",
           "#FFA15A",
           "#19d3f3",
           "#FF6692",
           "#B6E880",
           "#FF97FF",
           "#FECB52"
          ],
          "font": {
           "color": "#2a3f5f"
          },
          "geo": {
           "bgcolor": "white",
           "lakecolor": "white",
           "landcolor": "#E5ECF6",
           "showlakes": true,
           "showland": true,
           "subunitcolor": "white"
          },
          "hoverlabel": {
           "align": "left"
          },
          "hovermode": "closest",
          "mapbox": {
           "style": "light"
          },
          "paper_bgcolor": "white",
          "plot_bgcolor": "#E5ECF6",
          "polar": {
           "angularaxis": {
            "gridcolor": "white",
            "linecolor": "white",
            "ticks": ""
           },
           "bgcolor": "#E5ECF6",
           "radialaxis": {
            "gridcolor": "white",
            "linecolor": "white",
            "ticks": ""
           }
          },
          "scene": {
           "xaxis": {
            "backgroundcolor": "#E5ECF6",
            "gridcolor": "white",
            "gridwidth": 2,
            "linecolor": "white",
            "showbackground": true,
            "ticks": "",
            "zerolinecolor": "white"
           },
           "yaxis": {
            "backgroundcolor": "#E5ECF6",
            "gridcolor": "white",
            "gridwidth": 2,
            "linecolor": "white",
            "showbackground": true,
            "ticks": "",
            "zerolinecolor": "white"
           },
           "zaxis": {
            "backgroundcolor": "#E5ECF6",
            "gridcolor": "white",
            "gridwidth": 2,
            "linecolor": "white",
            "showbackground": true,
            "ticks": "",
            "zerolinecolor": "white"
           }
          },
          "shapedefaults": {
           "line": {
            "color": "#2a3f5f"
           }
          },
          "ternary": {
           "aaxis": {
            "gridcolor": "white",
            "linecolor": "white",
            "ticks": ""
           },
           "baxis": {
            "gridcolor": "white",
            "linecolor": "white",
            "ticks": ""
           },
           "bgcolor": "#E5ECF6",
           "caxis": {
            "gridcolor": "white",
            "linecolor": "white",
            "ticks": ""
           }
          },
          "title": {
           "x": 0.05
          },
          "xaxis": {
           "automargin": true,
           "gridcolor": "white",
           "linecolor": "white",
           "ticks": "",
           "title": {
            "standoff": 15
           },
           "zerolinecolor": "white",
           "zerolinewidth": 2
          },
          "yaxis": {
           "automargin": true,
           "gridcolor": "white",
           "linecolor": "white",
           "ticks": "",
           "title": {
            "standoff": 15
           },
           "zerolinecolor": "white",
           "zerolinewidth": 2
          }
         }
        },
        "title": {
         "font": {
          "color": "Black",
          "size": 22
         },
         "text": "<b>Similarity Matrix</b>",
         "x": 0.55,
         "xanchor": "center",
         "y": 0.95,
         "yanchor": "top"
        },
        "width": 800,
        "xaxis": {
         "anchor": "y",
         "constrain": "domain",
         "domain": [
          0,
          1
         ],
         "scaleanchor": "y"
        },
        "yaxis": {
         "anchor": "x",
         "autorange": "reversed",
         "constrain": "domain",
         "domain": [
          0,
          1
         ]
        }
       }
      }
     },
     "metadata": {},
     "output_type": "display_data"
    }
   ],
   "source": [
    "# Topic summary table\n",
    "topic_info = topic_model_kmeans.get_topic_info()\n",
    "print(topic_info)\n",
    "\n",
    "# Interactive visualizations\n",
    "topic_model_kmeans.visualize_topics()\n",
    "topic_model_kmeans.visualize_barchart(top_n_topics=10)\n",
    "topic_model_kmeans.visualize_heatmap()\n"
   ]
  },
  {
   "cell_type": "code",
   "execution_count": 36,
   "id": "f546c217",
   "metadata": {},
   "outputs": [
    {
     "data": {
      "text/html": [
       "<div>\n",
       "<style scoped>\n",
       "    .dataframe tbody tr th:only-of-type {\n",
       "        vertical-align: middle;\n",
       "    }\n",
       "\n",
       "    .dataframe tbody tr th {\n",
       "        vertical-align: top;\n",
       "    }\n",
       "\n",
       "    .dataframe thead th {\n",
       "        text-align: right;\n",
       "    }\n",
       "</style>\n",
       "<table border=\"1\" class=\"dataframe\">\n",
       "  <thead>\n",
       "    <tr style=\"text-align: right;\">\n",
       "      <th></th>\n",
       "      <th>Topic</th>\n",
       "      <th>Count</th>\n",
       "      <th>Name</th>\n",
       "      <th>Representation</th>\n",
       "      <th>Representative_Docs</th>\n",
       "    </tr>\n",
       "  </thead>\n",
       "  <tbody>\n",
       "    <tr>\n",
       "      <th>0</th>\n",
       "      <td>0</td>\n",
       "      <td>2415</td>\n",
       "      <td>0_01_dukung_pilih_buzzer</td>\n",
       "      <td>[01, dukung, pilih, buzzer, coblos, kubu, amin...</td>\n",
       "      <td>[alhamdulillah banget  dukung 01 serang, bawa ...</td>\n",
       "    </tr>\n",
       "    <tr>\n",
       "      <th>1</th>\n",
       "      <td>1</td>\n",
       "      <td>2115</td>\n",
       "      <td>1_anies_baswedan_rasyid_imin</td>\n",
       "      <td>[anies, baswedan, rasyid, imin, cak, ayah, ami...</td>\n",
       "      <td>[lupa dukung ayah anies rasyid baswedan mana, ...</td>\n",
       "    </tr>\n",
       "    <tr>\n",
       "      <th>2</th>\n",
       "      <td>2</td>\n",
       "      <td>2107</td>\n",
       "      <td>2_01_dukung_pasang_buzzer</td>\n",
       "      <td>[01, dukung, pasang, buzzer, banget, bang, sal...</td>\n",
       "      <td>[dukung 01 cari salah, hasil tarik dukung pasa...</td>\n",
       "    </tr>\n",
       "    <tr>\n",
       "      <th>3</th>\n",
       "      <td>3</td>\n",
       "      <td>1970</td>\n",
       "      <td>3_anies_baswedan_imin_cak</td>\n",
       "      <td>[anies, baswedan, imin, cak, rasyid, amin, kam...</td>\n",
       "      <td>[anies rasyid baswedan berani mantap banget an...</td>\n",
       "    </tr>\n",
       "    <tr>\n",
       "      <th>4</th>\n",
       "      <td>4</td>\n",
       "      <td>1934</td>\n",
       "      <td>4_01_dukung_orang_teman</td>\n",
       "      <td>[01, dukung, orang, teman, pasang, pilih, calo...</td>\n",
       "      <td>[muak dukung 01 aneh dukung pasang calon kena ...</td>\n",
       "    </tr>\n",
       "  </tbody>\n",
       "</table>\n",
       "</div>"
      ],
      "text/plain": [
       "   Topic  Count                          Name  \\\n",
       "0      0   2415      0_01_dukung_pilih_buzzer   \n",
       "1      1   2115  1_anies_baswedan_rasyid_imin   \n",
       "2      2   2107     2_01_dukung_pasang_buzzer   \n",
       "3      3   1970     3_anies_baswedan_imin_cak   \n",
       "4      4   1934       4_01_dukung_orang_teman   \n",
       "\n",
       "                                      Representation  \\\n",
       "0  [01, dukung, pilih, buzzer, coblos, kubu, amin...   \n",
       "1  [anies, baswedan, rasyid, imin, cak, ayah, ami...   \n",
       "2  [01, dukung, pasang, buzzer, banget, bang, sal...   \n",
       "3  [anies, baswedan, imin, cak, rasyid, amin, kam...   \n",
       "4  [01, dukung, orang, teman, pasang, pilih, calo...   \n",
       "\n",
       "                                 Representative_Docs  \n",
       "0  [alhamdulillah banget  dukung 01 serang, bawa ...  \n",
       "1  [lupa dukung ayah anies rasyid baswedan mana, ...  \n",
       "2  [dukung 01 cari salah, hasil tarik dukung pasa...  \n",
       "3  [anies rasyid baswedan berani mantap banget an...  \n",
       "4  [muak dukung 01 aneh dukung pasang calon kena ...  "
      ]
     },
     "metadata": {},
     "output_type": "display_data"
    }
   ],
   "source": [
    "topic_info = topic_model_kmeans.get_topic_info()\n",
    "display(topic_info.head())        "
   ]
  },
  {
   "cell_type": "code",
   "execution_count": 37,
   "id": "465c7879",
   "metadata": {},
   "outputs": [
    {
     "name": "stdout",
     "output_type": "stream",
     "text": [
      "\n",
      "Topic 0\n",
      "[('01', np.float64(0.08859477740870374)), ('dukung', np.float64(0.040829760668721835)), ('pilih', np.float64(0.039840589590172525)), ('buzzer', np.float64(0.026065499717887713)), ('coblos', np.float64(0.02250656713954992)), ('kubu', np.float64(0.021475226436417617)), ('amin', np.float64(0.01868922014666655)), ('banget', np.float64(0.017590316775865533)), ('bang', np.float64(0.016965965028355484)), ('all', np.float64(0.015148760090962332))]\n",
      "\n",
      "Topic 1\n",
      "[('anies', np.float64(0.06333527283920057)), ('baswedan', np.float64(0.05549028503222567)), ('rasyid', np.float64(0.0448971324756731)), ('imin', np.float64(0.04304652759100552)), ('cak', np.float64(0.04246926226151545)), ('ayah', np.float64(0.028705829862894824)), ('amin', np.float64(0.017879642902794878)), ('sambut', np.float64(0.014069924788707344)), ('muhaimin', np.float64(0.013505356311437932)), ('anak', np.float64(0.01347297779697965))]\n",
      "\n",
      "Topic 2\n",
      "[('01', np.float64(0.06128277482908749)), ('dukung', np.float64(0.04255688806894271)), ('pasang', np.float64(0.02622465949805492)), ('buzzer', np.float64(0.01846289397693042)), ('banget', np.float64(0.018412062364538306)), ('bang', np.float64(0.018311031551282685)), ('salah', np.float64(0.01822572067824326)), ('calon', np.float64(0.018202897984028018)), ('pilih', np.float64(0.017003543938802722)), ('ubah', np.float64(0.016231953681424546))]\n",
      "\n",
      "Topic 3\n",
      "[('anies', np.float64(0.04350787677675341)), ('baswedan', np.float64(0.03136550287845972)), ('imin', np.float64(0.0271889892871117)), ('cak', np.float64(0.026017892122517674)), ('rasyid', np.float64(0.021386372764221038)), ('amin', np.float64(0.01995265907784663)), ('kampanye', np.float64(0.018208338608120777)), ('muhaimin', np.float64(0.016571348501822087)), ('ayah', np.float64(0.015753518921334864)), ('allah', np.float64(0.013665698214883152))]\n",
      "\n",
      "Topic 4\n",
      "[('01', np.float64(0.02743524076883753)), ('dukung', np.float64(0.02258783724744979)), ('orang', np.float64(0.021927004199673972)), ('teman', np.float64(0.021168045681802326)), ('pasang', np.float64(0.02110644019400015)), ('pilih', np.float64(0.018744296004111906)), ('calon', np.float64(0.01504373944441784)), ('banget', np.float64(0.014308148922909906)), ('bilang', np.float64(0.01231633123420525)), ('pakai', np.float64(0.010566132486310331))]\n",
      "\n",
      "Topic 5\n",
      "[('01', np.float64(0.045970449438369455)), ('orang', np.float64(0.0420814904464689)), ('dukung', np.float64(0.035711810403261816)), ('pilih', np.float64(0.02487387385161134)), ('pasang', np.float64(0.020274513593298654)), ('banget', np.float64(0.018191245281138836)), ('kemarin', np.float64(0.015879805628764294)), ('calon', np.float64(0.013790248860414377)), ('ubah', np.float64(0.013593563867376906)), ('cerdas', np.float64(0.013295935785916568))]\n",
      "\n",
      "Topic 6\n",
      "[('presiden', np.float64(0.09289548164746818)), ('pilih', np.float64(0.04759506827259408)), ('anies', np.float64(0.04593936278897677)), ('calon', np.float64(0.033293909507474)), ('wakil', np.float64(0.02939557654578684)), ('baswedan', np.float64(0.02930541030320872)), ('palestina', np.float64(0.01990082869074405)), ('prabowo', np.float64(0.01963628329057713)), ('rasyid', np.float64(0.01900161716795987)), ('imin', np.float64(0.01847833304949003))]\n",
      "\n",
      "Topic 7\n",
      "[('01', np.float64(0.1287267489111367)), ('line', np.float64(0.027530809692882553)), ('dukung', np.float64(0.027276408232929185)), ('grup', np.float64(0.020768548917472325)), ('ya', np.float64(0.015342215444375298)), ('amin', np.float64(0.014817711510990445)), ('kak', np.float64(0.012508042980446095)), ('deh', np.float64(0.012489903977878202)), ('kalah', np.float64(0.012063666451482576)), ('apa', np.float64(0.011970586753196405))]\n",
      "\n",
      "Topic 8\n",
      "[('cak', np.float64(0.16040399774137137)), ('imin', np.float64(0.1540658568549499)), ('anies', np.float64(0.03493932494567643)), ('banget', np.float64(0.02479700953615869)), ('lucu', np.float64(0.019133538550099936)), ('tertawa', np.float64(0.016912085849421537)), ('gibran', np.float64(0.012182737745822353)), ('lihat', np.float64(0.01199226633095482)), ('foto', np.float64(0.011957731901262708)), ('tolong', np.float64(0.011755322993886546))]\n",
      "\n",
      "Topic 9\n",
      "[('menang', np.float64(0.13426079603048582)), ('survei', np.float64(0.04983363512595958)), ('01', np.float64(0.048983411308605763)), ('gara', np.float64(0.04096541745209889)), ('sukses', np.float64(0.030718456743503184)), ('tim', np.float64(0.025375089441015557)), ('amin', np.float64(0.025279367435434304)), ('putar', np.float64(0.023418581986720578)), ('fokus', np.float64(0.021864733174523785)), ('panik', np.float64(0.02057807379708889))]\n"
     ]
    }
   ],
   "source": [
    "for tid in topic_info['Topic'][:10]:   # first 10 topics\n",
    "    print(f\"\\nTopic {tid}\")\n",
    "    print(topic_model_kmeans.get_topic(tid)[:15])  # top-15 words\n"
   ]
  },
  {
   "cell_type": "code",
   "execution_count": 38,
   "id": "40d16664",
   "metadata": {},
   "outputs": [
    {
     "data": {
      "application/vnd.plotly.v1+json": {
       "config": {
        "plotlyServerURL": "https://plot.ly"
       },
       "data": [
        {
         "customdata": [
          [
           0,
           "01 | dukung | pilih | buzzer | coblos",
           2415
          ],
          [
           1,
           "anies | baswedan | rasyid | imin | cak",
           2115
          ],
          [
           2,
           "01 | dukung | pasang | buzzer | banget",
           2107
          ],
          [
           3,
           "anies | baswedan | imin | cak | rasyid",
           1970
          ],
          [
           4,
           "01 | dukung | orang | teman | pasang",
           1934
          ],
          [
           5,
           "01 | orang | dukung | pilih | pasang",
           1735
          ],
          [
           6,
           "presiden | pilih | anies | calon | wakil",
           1689
          ],
          [
           7,
           "01 | line | dukung | grup | ya",
           1592
          ],
          [
           8,
           "cak | imin | anies | banget | lucu",
           1551
          ],
          [
           9,
           "menang | survei | 01 | gara | sukses",
           1192
          ],
          [
           10,
           "kampanye | kerja | 01 | data | makan",
           1023
          ],
          [
           11,
           "presiden | calon | wakil | pilih | legislatif",
           798
          ],
          [
           12,
           "twitter | media | kritik | sosial | korea",
           794
          ],
          [
           13,
           "cak | imin | kayak | anies | suara",
           767
          ],
          [
           14,
           "debat | calon | 01 | strategi | presiden",
           761
          ],
          [
           15,
           "indonesia | anies | baswedan | makmur | adil",
           749
          ],
          [
           16,
           "debat | cak | imin | presiden | calon",
           711
          ],
          [
           17,
           "kayak | 01 | model | dukung | orang",
           640
          ],
          [
           18,
           "politik | demokrasi | partai | demokrat | anies",
           622
          ],
          [
           19,
           "presiden | calon | wakil | 01 | pilih",
           620
          ],
          [
           20,
           "agama | islam | 01 | muslim | imam",
           529
          ],
          [
           21,
           "fakta | jalan | 01 | visi | misi",
           470
          ],
          [
           22,
           "politik | identitas | 01 | polisi | calon",
           468
          ],
          [
           23,
           "suara | mungut | 01 | coblos | voter",
           462
          ],
          [
           24,
           "indonesia | republik | amin | 01 | ubah",
           438
          ],
          [
           25,
           "video | film | videotron | organik | 01",
           415
          ],
          [
           26,
           "demokrasi | partai | demokrat | juang | nasional",
           401
          ],
          [
           27,
           "program | berita | gratis | makan | 01",
           371
          ],
          [
           28,
           "fan | gas | intelek | 01 | galak",
           332
          ],
          [
           29,
           "pintar | orang | dukung | 01 | bodoh",
           190
          ]
         ],
         "hovertemplate": "<b>Topic %{customdata[0]}</b><br>%{customdata[1]}<br>Size: %{customdata[2]}",
         "legendgroup": "",
         "marker": {
          "color": "#B0BEC5",
          "line": {
           "color": "DarkSlateGrey",
           "width": 2
          },
          "size": {
           "bdata": "bwlDCDsIsgeOB8cGmQY4Bg8GqAT/Ax4DGgP/AvkC7QLHAoACbgJsAhEC1gHUAc4BtgGfAZEBcwFMAb4A",
           "dtype": "i2"
          },
          "sizemode": "area",
          "sizeref": 1.509375,
          "symbol": "circle"
         },
         "mode": "markers",
         "name": "",
         "orientation": "v",
         "showlegend": false,
         "type": "scatter",
         "x": {
          "bdata": "7MTeQBDFTkG/HNhAJcNMQc5K9j860P5AJxAIQPRh20Ady1FBKMH2QLQ8CUD4pihA5fAAQUAMVEGTXY+/OoZKQcaIer9j5vVAEkvrP2J9LEA6U8A/Ag7iQCcmGUB8jfRAzarcPz+EAEGB3j9ALLYUQBHl3EA/FwJB",
          "dtype": "f4"
         },
         "xaxis": "x",
         "y": {
          "bdata": "WI29v1GotEGxVVG/OaezQVOAiEAWlXo/zC2Ywf+3079HK7ZBNRmJvzeBkUCTBJfBQVnJPxJMt0H+qKbAiIiyQTsiosDmIjY/S+mVwWXclcG49ItAQuyGvzTxksFrXJ4/bvuBQBRc5j+H+JbBuW+YQOdhNr+jhmw/",
          "dtype": "f4"
         },
         "yaxis": "y"
        }
       ],
       "layout": {
        "annotations": [
         {
          "showarrow": false,
          "text": "D1",
          "x": -1.2880496978759766,
          "y": 2.236623764038086,
          "yshift": 10
         },
         {
          "showarrow": false,
          "text": "D2",
          "x": 6.976444721221924,
          "xshift": 10,
          "y": 26.34896469116211
         }
        ],
        "height": 650,
        "hoverlabel": {
         "bgcolor": "white",
         "font": {
          "family": "Rockwell",
          "size": 16
         }
        },
        "legend": {
         "itemsizing": "constant",
         "tracegroupgap": 0
        },
        "margin": {
         "t": 60
        },
        "shapes": [
         {
          "line": {
           "color": "#CFD8DC",
           "width": 2
          },
          "type": "line",
          "x0": 6.976444721221924,
          "x1": 6.976444721221924,
          "y0": -21.875717163085938,
          "y1": 26.34896469116211
         },
         {
          "line": {
           "color": "#9E9E9E",
           "width": 2
          },
          "type": "line",
          "x0": -1.2880496978759766,
          "x1": 15.240939140319824,
          "y0": 2.236623764038086,
          "y1": 2.236623764038086
         }
        ],
        "sliders": [
         {
          "active": 0,
          "pad": {
           "t": 50
          },
          "steps": [
           {
            "args": [
             {
              "marker.color": [
               [
                "red",
                "#B0BEC5",
                "#B0BEC5",
                "#B0BEC5",
                "#B0BEC5",
                "#B0BEC5",
                "#B0BEC5",
                "#B0BEC5",
                "#B0BEC5",
                "#B0BEC5",
                "#B0BEC5",
                "#B0BEC5",
                "#B0BEC5",
                "#B0BEC5",
                "#B0BEC5",
                "#B0BEC5",
                "#B0BEC5",
                "#B0BEC5",
                "#B0BEC5",
                "#B0BEC5",
                "#B0BEC5",
                "#B0BEC5",
                "#B0BEC5",
                "#B0BEC5",
                "#B0BEC5",
                "#B0BEC5",
                "#B0BEC5",
                "#B0BEC5",
                "#B0BEC5",
                "#B0BEC5"
               ]
              ]
             }
            ],
            "label": "Topic 0",
            "method": "update"
           },
           {
            "args": [
             {
              "marker.color": [
               [
                "#B0BEC5",
                "red",
                "#B0BEC5",
                "#B0BEC5",
                "#B0BEC5",
                "#B0BEC5",
                "#B0BEC5",
                "#B0BEC5",
                "#B0BEC5",
                "#B0BEC5",
                "#B0BEC5",
                "#B0BEC5",
                "#B0BEC5",
                "#B0BEC5",
                "#B0BEC5",
                "#B0BEC5",
                "#B0BEC5",
                "#B0BEC5",
                "#B0BEC5",
                "#B0BEC5",
                "#B0BEC5",
                "#B0BEC5",
                "#B0BEC5",
                "#B0BEC5",
                "#B0BEC5",
                "#B0BEC5",
                "#B0BEC5",
                "#B0BEC5",
                "#B0BEC5",
                "#B0BEC5"
               ]
              ]
             }
            ],
            "label": "Topic 1",
            "method": "update"
           },
           {
            "args": [
             {
              "marker.color": [
               [
                "#B0BEC5",
                "#B0BEC5",
                "red",
                "#B0BEC5",
                "#B0BEC5",
                "#B0BEC5",
                "#B0BEC5",
                "#B0BEC5",
                "#B0BEC5",
                "#B0BEC5",
                "#B0BEC5",
                "#B0BEC5",
                "#B0BEC5",
                "#B0BEC5",
                "#B0BEC5",
                "#B0BEC5",
                "#B0BEC5",
                "#B0BEC5",
                "#B0BEC5",
                "#B0BEC5",
                "#B0BEC5",
                "#B0BEC5",
                "#B0BEC5",
                "#B0BEC5",
                "#B0BEC5",
                "#B0BEC5",
                "#B0BEC5",
                "#B0BEC5",
                "#B0BEC5",
                "#B0BEC5"
               ]
              ]
             }
            ],
            "label": "Topic 2",
            "method": "update"
           },
           {
            "args": [
             {
              "marker.color": [
               [
                "#B0BEC5",
                "#B0BEC5",
                "#B0BEC5",
                "red",
                "#B0BEC5",
                "#B0BEC5",
                "#B0BEC5",
                "#B0BEC5",
                "#B0BEC5",
                "#B0BEC5",
                "#B0BEC5",
                "#B0BEC5",
                "#B0BEC5",
                "#B0BEC5",
                "#B0BEC5",
                "#B0BEC5",
                "#B0BEC5",
                "#B0BEC5",
                "#B0BEC5",
                "#B0BEC5",
                "#B0BEC5",
                "#B0BEC5",
                "#B0BEC5",
                "#B0BEC5",
                "#B0BEC5",
                "#B0BEC5",
                "#B0BEC5",
                "#B0BEC5",
                "#B0BEC5",
                "#B0BEC5"
               ]
              ]
             }
            ],
            "label": "Topic 3",
            "method": "update"
           },
           {
            "args": [
             {
              "marker.color": [
               [
                "#B0BEC5",
                "#B0BEC5",
                "#B0BEC5",
                "#B0BEC5",
                "red",
                "#B0BEC5",
                "#B0BEC5",
                "#B0BEC5",
                "#B0BEC5",
                "#B0BEC5",
                "#B0BEC5",
                "#B0BEC5",
                "#B0BEC5",
                "#B0BEC5",
                "#B0BEC5",
                "#B0BEC5",
                "#B0BEC5",
                "#B0BEC5",
                "#B0BEC5",
                "#B0BEC5",
                "#B0BEC5",
                "#B0BEC5",
                "#B0BEC5",
                "#B0BEC5",
                "#B0BEC5",
                "#B0BEC5",
                "#B0BEC5",
                "#B0BEC5",
                "#B0BEC5",
                "#B0BEC5"
               ]
              ]
             }
            ],
            "label": "Topic 4",
            "method": "update"
           },
           {
            "args": [
             {
              "marker.color": [
               [
                "#B0BEC5",
                "#B0BEC5",
                "#B0BEC5",
                "#B0BEC5",
                "#B0BEC5",
                "red",
                "#B0BEC5",
                "#B0BEC5",
                "#B0BEC5",
                "#B0BEC5",
                "#B0BEC5",
                "#B0BEC5",
                "#B0BEC5",
                "#B0BEC5",
                "#B0BEC5",
                "#B0BEC5",
                "#B0BEC5",
                "#B0BEC5",
                "#B0BEC5",
                "#B0BEC5",
                "#B0BEC5",
                "#B0BEC5",
                "#B0BEC5",
                "#B0BEC5",
                "#B0BEC5",
                "#B0BEC5",
                "#B0BEC5",
                "#B0BEC5",
                "#B0BEC5",
                "#B0BEC5"
               ]
              ]
             }
            ],
            "label": "Topic 5",
            "method": "update"
           },
           {
            "args": [
             {
              "marker.color": [
               [
                "#B0BEC5",
                "#B0BEC5",
                "#B0BEC5",
                "#B0BEC5",
                "#B0BEC5",
                "#B0BEC5",
                "red",
                "#B0BEC5",
                "#B0BEC5",
                "#B0BEC5",
                "#B0BEC5",
                "#B0BEC5",
                "#B0BEC5",
                "#B0BEC5",
                "#B0BEC5",
                "#B0BEC5",
                "#B0BEC5",
                "#B0BEC5",
                "#B0BEC5",
                "#B0BEC5",
                "#B0BEC5",
                "#B0BEC5",
                "#B0BEC5",
                "#B0BEC5",
                "#B0BEC5",
                "#B0BEC5",
                "#B0BEC5",
                "#B0BEC5",
                "#B0BEC5",
                "#B0BEC5"
               ]
              ]
             }
            ],
            "label": "Topic 6",
            "method": "update"
           },
           {
            "args": [
             {
              "marker.color": [
               [
                "#B0BEC5",
                "#B0BEC5",
                "#B0BEC5",
                "#B0BEC5",
                "#B0BEC5",
                "#B0BEC5",
                "#B0BEC5",
                "red",
                "#B0BEC5",
                "#B0BEC5",
                "#B0BEC5",
                "#B0BEC5",
                "#B0BEC5",
                "#B0BEC5",
                "#B0BEC5",
                "#B0BEC5",
                "#B0BEC5",
                "#B0BEC5",
                "#B0BEC5",
                "#B0BEC5",
                "#B0BEC5",
                "#B0BEC5",
                "#B0BEC5",
                "#B0BEC5",
                "#B0BEC5",
                "#B0BEC5",
                "#B0BEC5",
                "#B0BEC5",
                "#B0BEC5",
                "#B0BEC5"
               ]
              ]
             }
            ],
            "label": "Topic 7",
            "method": "update"
           },
           {
            "args": [
             {
              "marker.color": [
               [
                "#B0BEC5",
                "#B0BEC5",
                "#B0BEC5",
                "#B0BEC5",
                "#B0BEC5",
                "#B0BEC5",
                "#B0BEC5",
                "#B0BEC5",
                "red",
                "#B0BEC5",
                "#B0BEC5",
                "#B0BEC5",
                "#B0BEC5",
                "#B0BEC5",
                "#B0BEC5",
                "#B0BEC5",
                "#B0BEC5",
                "#B0BEC5",
                "#B0BEC5",
                "#B0BEC5",
                "#B0BEC5",
                "#B0BEC5",
                "#B0BEC5",
                "#B0BEC5",
                "#B0BEC5",
                "#B0BEC5",
                "#B0BEC5",
                "#B0BEC5",
                "#B0BEC5",
                "#B0BEC5"
               ]
              ]
             }
            ],
            "label": "Topic 8",
            "method": "update"
           },
           {
            "args": [
             {
              "marker.color": [
               [
                "#B0BEC5",
                "#B0BEC5",
                "#B0BEC5",
                "#B0BEC5",
                "#B0BEC5",
                "#B0BEC5",
                "#B0BEC5",
                "#B0BEC5",
                "#B0BEC5",
                "red",
                "#B0BEC5",
                "#B0BEC5",
                "#B0BEC5",
                "#B0BEC5",
                "#B0BEC5",
                "#B0BEC5",
                "#B0BEC5",
                "#B0BEC5",
                "#B0BEC5",
                "#B0BEC5",
                "#B0BEC5",
                "#B0BEC5",
                "#B0BEC5",
                "#B0BEC5",
                "#B0BEC5",
                "#B0BEC5",
                "#B0BEC5",
                "#B0BEC5",
                "#B0BEC5",
                "#B0BEC5"
               ]
              ]
             }
            ],
            "label": "Topic 9",
            "method": "update"
           },
           {
            "args": [
             {
              "marker.color": [
               [
                "#B0BEC5",
                "#B0BEC5",
                "#B0BEC5",
                "#B0BEC5",
                "#B0BEC5",
                "#B0BEC5",
                "#B0BEC5",
                "#B0BEC5",
                "#B0BEC5",
                "#B0BEC5",
                "red",
                "#B0BEC5",
                "#B0BEC5",
                "#B0BEC5",
                "#B0BEC5",
                "#B0BEC5",
                "#B0BEC5",
                "#B0BEC5",
                "#B0BEC5",
                "#B0BEC5",
                "#B0BEC5",
                "#B0BEC5",
                "#B0BEC5",
                "#B0BEC5",
                "#B0BEC5",
                "#B0BEC5",
                "#B0BEC5",
                "#B0BEC5",
                "#B0BEC5",
                "#B0BEC5"
               ]
              ]
             }
            ],
            "label": "Topic 10",
            "method": "update"
           },
           {
            "args": [
             {
              "marker.color": [
               [
                "#B0BEC5",
                "#B0BEC5",
                "#B0BEC5",
                "#B0BEC5",
                "#B0BEC5",
                "#B0BEC5",
                "#B0BEC5",
                "#B0BEC5",
                "#B0BEC5",
                "#B0BEC5",
                "#B0BEC5",
                "red",
                "#B0BEC5",
                "#B0BEC5",
                "#B0BEC5",
                "#B0BEC5",
                "#B0BEC5",
                "#B0BEC5",
                "#B0BEC5",
                "#B0BEC5",
                "#B0BEC5",
                "#B0BEC5",
                "#B0BEC5",
                "#B0BEC5",
                "#B0BEC5",
                "#B0BEC5",
                "#B0BEC5",
                "#B0BEC5",
                "#B0BEC5",
                "#B0BEC5"
               ]
              ]
             }
            ],
            "label": "Topic 11",
            "method": "update"
           },
           {
            "args": [
             {
              "marker.color": [
               [
                "#B0BEC5",
                "#B0BEC5",
                "#B0BEC5",
                "#B0BEC5",
                "#B0BEC5",
                "#B0BEC5",
                "#B0BEC5",
                "#B0BEC5",
                "#B0BEC5",
                "#B0BEC5",
                "#B0BEC5",
                "#B0BEC5",
                "red",
                "#B0BEC5",
                "#B0BEC5",
                "#B0BEC5",
                "#B0BEC5",
                "#B0BEC5",
                "#B0BEC5",
                "#B0BEC5",
                "#B0BEC5",
                "#B0BEC5",
                "#B0BEC5",
                "#B0BEC5",
                "#B0BEC5",
                "#B0BEC5",
                "#B0BEC5",
                "#B0BEC5",
                "#B0BEC5",
                "#B0BEC5"
               ]
              ]
             }
            ],
            "label": "Topic 12",
            "method": "update"
           },
           {
            "args": [
             {
              "marker.color": [
               [
                "#B0BEC5",
                "#B0BEC5",
                "#B0BEC5",
                "#B0BEC5",
                "#B0BEC5",
                "#B0BEC5",
                "#B0BEC5",
                "#B0BEC5",
                "#B0BEC5",
                "#B0BEC5",
                "#B0BEC5",
                "#B0BEC5",
                "#B0BEC5",
                "red",
                "#B0BEC5",
                "#B0BEC5",
                "#B0BEC5",
                "#B0BEC5",
                "#B0BEC5",
                "#B0BEC5",
                "#B0BEC5",
                "#B0BEC5",
                "#B0BEC5",
                "#B0BEC5",
                "#B0BEC5",
                "#B0BEC5",
                "#B0BEC5",
                "#B0BEC5",
                "#B0BEC5",
                "#B0BEC5"
               ]
              ]
             }
            ],
            "label": "Topic 13",
            "method": "update"
           },
           {
            "args": [
             {
              "marker.color": [
               [
                "#B0BEC5",
                "#B0BEC5",
                "#B0BEC5",
                "#B0BEC5",
                "#B0BEC5",
                "#B0BEC5",
                "#B0BEC5",
                "#B0BEC5",
                "#B0BEC5",
                "#B0BEC5",
                "#B0BEC5",
                "#B0BEC5",
                "#B0BEC5",
                "#B0BEC5",
                "red",
                "#B0BEC5",
                "#B0BEC5",
                "#B0BEC5",
                "#B0BEC5",
                "#B0BEC5",
                "#B0BEC5",
                "#B0BEC5",
                "#B0BEC5",
                "#B0BEC5",
                "#B0BEC5",
                "#B0BEC5",
                "#B0BEC5",
                "#B0BEC5",
                "#B0BEC5",
                "#B0BEC5"
               ]
              ]
             }
            ],
            "label": "Topic 14",
            "method": "update"
           },
           {
            "args": [
             {
              "marker.color": [
               [
                "#B0BEC5",
                "#B0BEC5",
                "#B0BEC5",
                "#B0BEC5",
                "#B0BEC5",
                "#B0BEC5",
                "#B0BEC5",
                "#B0BEC5",
                "#B0BEC5",
                "#B0BEC5",
                "#B0BEC5",
                "#B0BEC5",
                "#B0BEC5",
                "#B0BEC5",
                "#B0BEC5",
                "red",
                "#B0BEC5",
                "#B0BEC5",
                "#B0BEC5",
                "#B0BEC5",
                "#B0BEC5",
                "#B0BEC5",
                "#B0BEC5",
                "#B0BEC5",
                "#B0BEC5",
                "#B0BEC5",
                "#B0BEC5",
                "#B0BEC5",
                "#B0BEC5",
                "#B0BEC5"
               ]
              ]
             }
            ],
            "label": "Topic 15",
            "method": "update"
           },
           {
            "args": [
             {
              "marker.color": [
               [
                "#B0BEC5",
                "#B0BEC5",
                "#B0BEC5",
                "#B0BEC5",
                "#B0BEC5",
                "#B0BEC5",
                "#B0BEC5",
                "#B0BEC5",
                "#B0BEC5",
                "#B0BEC5",
                "#B0BEC5",
                "#B0BEC5",
                "#B0BEC5",
                "#B0BEC5",
                "#B0BEC5",
                "#B0BEC5",
                "red",
                "#B0BEC5",
                "#B0BEC5",
                "#B0BEC5",
                "#B0BEC5",
                "#B0BEC5",
                "#B0BEC5",
                "#B0BEC5",
                "#B0BEC5",
                "#B0BEC5",
                "#B0BEC5",
                "#B0BEC5",
                "#B0BEC5",
                "#B0BEC5"
               ]
              ]
             }
            ],
            "label": "Topic 16",
            "method": "update"
           },
           {
            "args": [
             {
              "marker.color": [
               [
                "#B0BEC5",
                "#B0BEC5",
                "#B0BEC5",
                "#B0BEC5",
                "#B0BEC5",
                "#B0BEC5",
                "#B0BEC5",
                "#B0BEC5",
                "#B0BEC5",
                "#B0BEC5",
                "#B0BEC5",
                "#B0BEC5",
                "#B0BEC5",
                "#B0BEC5",
                "#B0BEC5",
                "#B0BEC5",
                "#B0BEC5",
                "red",
                "#B0BEC5",
                "#B0BEC5",
                "#B0BEC5",
                "#B0BEC5",
                "#B0BEC5",
                "#B0BEC5",
                "#B0BEC5",
                "#B0BEC5",
                "#B0BEC5",
                "#B0BEC5",
                "#B0BEC5",
                "#B0BEC5"
               ]
              ]
             }
            ],
            "label": "Topic 17",
            "method": "update"
           },
           {
            "args": [
             {
              "marker.color": [
               [
                "#B0BEC5",
                "#B0BEC5",
                "#B0BEC5",
                "#B0BEC5",
                "#B0BEC5",
                "#B0BEC5",
                "#B0BEC5",
                "#B0BEC5",
                "#B0BEC5",
                "#B0BEC5",
                "#B0BEC5",
                "#B0BEC5",
                "#B0BEC5",
                "#B0BEC5",
                "#B0BEC5",
                "#B0BEC5",
                "#B0BEC5",
                "#B0BEC5",
                "red",
                "#B0BEC5",
                "#B0BEC5",
                "#B0BEC5",
                "#B0BEC5",
                "#B0BEC5",
                "#B0BEC5",
                "#B0BEC5",
                "#B0BEC5",
                "#B0BEC5",
                "#B0BEC5",
                "#B0BEC5"
               ]
              ]
             }
            ],
            "label": "Topic 18",
            "method": "update"
           },
           {
            "args": [
             {
              "marker.color": [
               [
                "#B0BEC5",
                "#B0BEC5",
                "#B0BEC5",
                "#B0BEC5",
                "#B0BEC5",
                "#B0BEC5",
                "#B0BEC5",
                "#B0BEC5",
                "#B0BEC5",
                "#B0BEC5",
                "#B0BEC5",
                "#B0BEC5",
                "#B0BEC5",
                "#B0BEC5",
                "#B0BEC5",
                "#B0BEC5",
                "#B0BEC5",
                "#B0BEC5",
                "#B0BEC5",
                "red",
                "#B0BEC5",
                "#B0BEC5",
                "#B0BEC5",
                "#B0BEC5",
                "#B0BEC5",
                "#B0BEC5",
                "#B0BEC5",
                "#B0BEC5",
                "#B0BEC5",
                "#B0BEC5"
               ]
              ]
             }
            ],
            "label": "Topic 19",
            "method": "update"
           },
           {
            "args": [
             {
              "marker.color": [
               [
                "#B0BEC5",
                "#B0BEC5",
                "#B0BEC5",
                "#B0BEC5",
                "#B0BEC5",
                "#B0BEC5",
                "#B0BEC5",
                "#B0BEC5",
                "#B0BEC5",
                "#B0BEC5",
                "#B0BEC5",
                "#B0BEC5",
                "#B0BEC5",
                "#B0BEC5",
                "#B0BEC5",
                "#B0BEC5",
                "#B0BEC5",
                "#B0BEC5",
                "#B0BEC5",
                "#B0BEC5",
                "red",
                "#B0BEC5",
                "#B0BEC5",
                "#B0BEC5",
                "#B0BEC5",
                "#B0BEC5",
                "#B0BEC5",
                "#B0BEC5",
                "#B0BEC5",
                "#B0BEC5"
               ]
              ]
             }
            ],
            "label": "Topic 20",
            "method": "update"
           },
           {
            "args": [
             {
              "marker.color": [
               [
                "#B0BEC5",
                "#B0BEC5",
                "#B0BEC5",
                "#B0BEC5",
                "#B0BEC5",
                "#B0BEC5",
                "#B0BEC5",
                "#B0BEC5",
                "#B0BEC5",
                "#B0BEC5",
                "#B0BEC5",
                "#B0BEC5",
                "#B0BEC5",
                "#B0BEC5",
                "#B0BEC5",
                "#B0BEC5",
                "#B0BEC5",
                "#B0BEC5",
                "#B0BEC5",
                "#B0BEC5",
                "#B0BEC5",
                "red",
                "#B0BEC5",
                "#B0BEC5",
                "#B0BEC5",
                "#B0BEC5",
                "#B0BEC5",
                "#B0BEC5",
                "#B0BEC5",
                "#B0BEC5"
               ]
              ]
             }
            ],
            "label": "Topic 21",
            "method": "update"
           },
           {
            "args": [
             {
              "marker.color": [
               [
                "#B0BEC5",
                "#B0BEC5",
                "#B0BEC5",
                "#B0BEC5",
                "#B0BEC5",
                "#B0BEC5",
                "#B0BEC5",
                "#B0BEC5",
                "#B0BEC5",
                "#B0BEC5",
                "#B0BEC5",
                "#B0BEC5",
                "#B0BEC5",
                "#B0BEC5",
                "#B0BEC5",
                "#B0BEC5",
                "#B0BEC5",
                "#B0BEC5",
                "#B0BEC5",
                "#B0BEC5",
                "#B0BEC5",
                "#B0BEC5",
                "red",
                "#B0BEC5",
                "#B0BEC5",
                "#B0BEC5",
                "#B0BEC5",
                "#B0BEC5",
                "#B0BEC5",
                "#B0BEC5"
               ]
              ]
             }
            ],
            "label": "Topic 22",
            "method": "update"
           },
           {
            "args": [
             {
              "marker.color": [
               [
                "#B0BEC5",
                "#B0BEC5",
                "#B0BEC5",
                "#B0BEC5",
                "#B0BEC5",
                "#B0BEC5",
                "#B0BEC5",
                "#B0BEC5",
                "#B0BEC5",
                "#B0BEC5",
                "#B0BEC5",
                "#B0BEC5",
                "#B0BEC5",
                "#B0BEC5",
                "#B0BEC5",
                "#B0BEC5",
                "#B0BEC5",
                "#B0BEC5",
                "#B0BEC5",
                "#B0BEC5",
                "#B0BEC5",
                "#B0BEC5",
                "#B0BEC5",
                "red",
                "#B0BEC5",
                "#B0BEC5",
                "#B0BEC5",
                "#B0BEC5",
                "#B0BEC5",
                "#B0BEC5"
               ]
              ]
             }
            ],
            "label": "Topic 23",
            "method": "update"
           },
           {
            "args": [
             {
              "marker.color": [
               [
                "#B0BEC5",
                "#B0BEC5",
                "#B0BEC5",
                "#B0BEC5",
                "#B0BEC5",
                "#B0BEC5",
                "#B0BEC5",
                "#B0BEC5",
                "#B0BEC5",
                "#B0BEC5",
                "#B0BEC5",
                "#B0BEC5",
                "#B0BEC5",
                "#B0BEC5",
                "#B0BEC5",
                "#B0BEC5",
                "#B0BEC5",
                "#B0BEC5",
                "#B0BEC5",
                "#B0BEC5",
                "#B0BEC5",
                "#B0BEC5",
                "#B0BEC5",
                "#B0BEC5",
                "red",
                "#B0BEC5",
                "#B0BEC5",
                "#B0BEC5",
                "#B0BEC5",
                "#B0BEC5"
               ]
              ]
             }
            ],
            "label": "Topic 24",
            "method": "update"
           },
           {
            "args": [
             {
              "marker.color": [
               [
                "#B0BEC5",
                "#B0BEC5",
                "#B0BEC5",
                "#B0BEC5",
                "#B0BEC5",
                "#B0BEC5",
                "#B0BEC5",
                "#B0BEC5",
                "#B0BEC5",
                "#B0BEC5",
                "#B0BEC5",
                "#B0BEC5",
                "#B0BEC5",
                "#B0BEC5",
                "#B0BEC5",
                "#B0BEC5",
                "#B0BEC5",
                "#B0BEC5",
                "#B0BEC5",
                "#B0BEC5",
                "#B0BEC5",
                "#B0BEC5",
                "#B0BEC5",
                "#B0BEC5",
                "#B0BEC5",
                "red",
                "#B0BEC5",
                "#B0BEC5",
                "#B0BEC5",
                "#B0BEC5"
               ]
              ]
             }
            ],
            "label": "Topic 25",
            "method": "update"
           },
           {
            "args": [
             {
              "marker.color": [
               [
                "#B0BEC5",
                "#B0BEC5",
                "#B0BEC5",
                "#B0BEC5",
                "#B0BEC5",
                "#B0BEC5",
                "#B0BEC5",
                "#B0BEC5",
                "#B0BEC5",
                "#B0BEC5",
                "#B0BEC5",
                "#B0BEC5",
                "#B0BEC5",
                "#B0BEC5",
                "#B0BEC5",
                "#B0BEC5",
                "#B0BEC5",
                "#B0BEC5",
                "#B0BEC5",
                "#B0BEC5",
                "#B0BEC5",
                "#B0BEC5",
                "#B0BEC5",
                "#B0BEC5",
                "#B0BEC5",
                "#B0BEC5",
                "red",
                "#B0BEC5",
                "#B0BEC5",
                "#B0BEC5"
               ]
              ]
             }
            ],
            "label": "Topic 26",
            "method": "update"
           },
           {
            "args": [
             {
              "marker.color": [
               [
                "#B0BEC5",
                "#B0BEC5",
                "#B0BEC5",
                "#B0BEC5",
                "#B0BEC5",
                "#B0BEC5",
                "#B0BEC5",
                "#B0BEC5",
                "#B0BEC5",
                "#B0BEC5",
                "#B0BEC5",
                "#B0BEC5",
                "#B0BEC5",
                "#B0BEC5",
                "#B0BEC5",
                "#B0BEC5",
                "#B0BEC5",
                "#B0BEC5",
                "#B0BEC5",
                "#B0BEC5",
                "#B0BEC5",
                "#B0BEC5",
                "#B0BEC5",
                "#B0BEC5",
                "#B0BEC5",
                "#B0BEC5",
                "#B0BEC5",
                "red",
                "#B0BEC5",
                "#B0BEC5"
               ]
              ]
             }
            ],
            "label": "Topic 27",
            "method": "update"
           },
           {
            "args": [
             {
              "marker.color": [
               [
                "#B0BEC5",
                "#B0BEC5",
                "#B0BEC5",
                "#B0BEC5",
                "#B0BEC5",
                "#B0BEC5",
                "#B0BEC5",
                "#B0BEC5",
                "#B0BEC5",
                "#B0BEC5",
                "#B0BEC5",
                "#B0BEC5",
                "#B0BEC5",
                "#B0BEC5",
                "#B0BEC5",
                "#B0BEC5",
                "#B0BEC5",
                "#B0BEC5",
                "#B0BEC5",
                "#B0BEC5",
                "#B0BEC5",
                "#B0BEC5",
                "#B0BEC5",
                "#B0BEC5",
                "#B0BEC5",
                "#B0BEC5",
                "#B0BEC5",
                "#B0BEC5",
                "red",
                "#B0BEC5"
               ]
              ]
             }
            ],
            "label": "Topic 28",
            "method": "update"
           },
           {
            "args": [
             {
              "marker.color": [
               [
                "#B0BEC5",
                "#B0BEC5",
                "#B0BEC5",
                "#B0BEC5",
                "#B0BEC5",
                "#B0BEC5",
                "#B0BEC5",
                "#B0BEC5",
                "#B0BEC5",
                "#B0BEC5",
                "#B0BEC5",
                "#B0BEC5",
                "#B0BEC5",
                "#B0BEC5",
                "#B0BEC5",
                "#B0BEC5",
                "#B0BEC5",
                "#B0BEC5",
                "#B0BEC5",
                "#B0BEC5",
                "#B0BEC5",
                "#B0BEC5",
                "#B0BEC5",
                "#B0BEC5",
                "#B0BEC5",
                "#B0BEC5",
                "#B0BEC5",
                "#B0BEC5",
                "#B0BEC5",
                "red"
               ]
              ]
             }
            ],
            "label": "Topic 29",
            "method": "update"
           }
          ]
         }
        ],
        "template": {
         "data": {
          "bar": [
           {
            "error_x": {
             "color": "rgb(36,36,36)"
            },
            "error_y": {
             "color": "rgb(36,36,36)"
            },
            "marker": {
             "line": {
              "color": "white",
              "width": 0.5
             },
             "pattern": {
              "fillmode": "overlay",
              "size": 10,
              "solidity": 0.2
             }
            },
            "type": "bar"
           }
          ],
          "barpolar": [
           {
            "marker": {
             "line": {
              "color": "white",
              "width": 0.5
             },
             "pattern": {
              "fillmode": "overlay",
              "size": 10,
              "solidity": 0.2
             }
            },
            "type": "barpolar"
           }
          ],
          "carpet": [
           {
            "aaxis": {
             "endlinecolor": "rgb(36,36,36)",
             "gridcolor": "white",
             "linecolor": "white",
             "minorgridcolor": "white",
             "startlinecolor": "rgb(36,36,36)"
            },
            "baxis": {
             "endlinecolor": "rgb(36,36,36)",
             "gridcolor": "white",
             "linecolor": "white",
             "minorgridcolor": "white",
             "startlinecolor": "rgb(36,36,36)"
            },
            "type": "carpet"
           }
          ],
          "choropleth": [
           {
            "colorbar": {
             "outlinewidth": 1,
             "tickcolor": "rgb(36,36,36)",
             "ticks": "outside"
            },
            "type": "choropleth"
           }
          ],
          "contour": [
           {
            "colorbar": {
             "outlinewidth": 1,
             "tickcolor": "rgb(36,36,36)",
             "ticks": "outside"
            },
            "colorscale": [
             [
              0,
              "#440154"
             ],
             [
              0.1111111111111111,
              "#482878"
             ],
             [
              0.2222222222222222,
              "#3e4989"
             ],
             [
              0.3333333333333333,
              "#31688e"
             ],
             [
              0.4444444444444444,
              "#26828e"
             ],
             [
              0.5555555555555556,
              "#1f9e89"
             ],
             [
              0.6666666666666666,
              "#35b779"
             ],
             [
              0.7777777777777778,
              "#6ece58"
             ],
             [
              0.8888888888888888,
              "#b5de2b"
             ],
             [
              1,
              "#fde725"
             ]
            ],
            "type": "contour"
           }
          ],
          "contourcarpet": [
           {
            "colorbar": {
             "outlinewidth": 1,
             "tickcolor": "rgb(36,36,36)",
             "ticks": "outside"
            },
            "type": "contourcarpet"
           }
          ],
          "heatmap": [
           {
            "colorbar": {
             "outlinewidth": 1,
             "tickcolor": "rgb(36,36,36)",
             "ticks": "outside"
            },
            "colorscale": [
             [
              0,
              "#440154"
             ],
             [
              0.1111111111111111,
              "#482878"
             ],
             [
              0.2222222222222222,
              "#3e4989"
             ],
             [
              0.3333333333333333,
              "#31688e"
             ],
             [
              0.4444444444444444,
              "#26828e"
             ],
             [
              0.5555555555555556,
              "#1f9e89"
             ],
             [
              0.6666666666666666,
              "#35b779"
             ],
             [
              0.7777777777777778,
              "#6ece58"
             ],
             [
              0.8888888888888888,
              "#b5de2b"
             ],
             [
              1,
              "#fde725"
             ]
            ],
            "type": "heatmap"
           }
          ],
          "histogram": [
           {
            "marker": {
             "line": {
              "color": "white",
              "width": 0.6
             }
            },
            "type": "histogram"
           }
          ],
          "histogram2d": [
           {
            "colorbar": {
             "outlinewidth": 1,
             "tickcolor": "rgb(36,36,36)",
             "ticks": "outside"
            },
            "colorscale": [
             [
              0,
              "#440154"
             ],
             [
              0.1111111111111111,
              "#482878"
             ],
             [
              0.2222222222222222,
              "#3e4989"
             ],
             [
              0.3333333333333333,
              "#31688e"
             ],
             [
              0.4444444444444444,
              "#26828e"
             ],
             [
              0.5555555555555556,
              "#1f9e89"
             ],
             [
              0.6666666666666666,
              "#35b779"
             ],
             [
              0.7777777777777778,
              "#6ece58"
             ],
             [
              0.8888888888888888,
              "#b5de2b"
             ],
             [
              1,
              "#fde725"
             ]
            ],
            "type": "histogram2d"
           }
          ],
          "histogram2dcontour": [
           {
            "colorbar": {
             "outlinewidth": 1,
             "tickcolor": "rgb(36,36,36)",
             "ticks": "outside"
            },
            "colorscale": [
             [
              0,
              "#440154"
             ],
             [
              0.1111111111111111,
              "#482878"
             ],
             [
              0.2222222222222222,
              "#3e4989"
             ],
             [
              0.3333333333333333,
              "#31688e"
             ],
             [
              0.4444444444444444,
              "#26828e"
             ],
             [
              0.5555555555555556,
              "#1f9e89"
             ],
             [
              0.6666666666666666,
              "#35b779"
             ],
             [
              0.7777777777777778,
              "#6ece58"
             ],
             [
              0.8888888888888888,
              "#b5de2b"
             ],
             [
              1,
              "#fde725"
             ]
            ],
            "type": "histogram2dcontour"
           }
          ],
          "mesh3d": [
           {
            "colorbar": {
             "outlinewidth": 1,
             "tickcolor": "rgb(36,36,36)",
             "ticks": "outside"
            },
            "type": "mesh3d"
           }
          ],
          "parcoords": [
           {
            "line": {
             "colorbar": {
              "outlinewidth": 1,
              "tickcolor": "rgb(36,36,36)",
              "ticks": "outside"
             }
            },
            "type": "parcoords"
           }
          ],
          "pie": [
           {
            "automargin": true,
            "type": "pie"
           }
          ],
          "scatter": [
           {
            "fillpattern": {
             "fillmode": "overlay",
             "size": 10,
             "solidity": 0.2
            },
            "type": "scatter"
           }
          ],
          "scatter3d": [
           {
            "line": {
             "colorbar": {
              "outlinewidth": 1,
              "tickcolor": "rgb(36,36,36)",
              "ticks": "outside"
             }
            },
            "marker": {
             "colorbar": {
              "outlinewidth": 1,
              "tickcolor": "rgb(36,36,36)",
              "ticks": "outside"
             }
            },
            "type": "scatter3d"
           }
          ],
          "scattercarpet": [
           {
            "marker": {
             "colorbar": {
              "outlinewidth": 1,
              "tickcolor": "rgb(36,36,36)",
              "ticks": "outside"
             }
            },
            "type": "scattercarpet"
           }
          ],
          "scattergeo": [
           {
            "marker": {
             "colorbar": {
              "outlinewidth": 1,
              "tickcolor": "rgb(36,36,36)",
              "ticks": "outside"
             }
            },
            "type": "scattergeo"
           }
          ],
          "scattergl": [
           {
            "marker": {
             "colorbar": {
              "outlinewidth": 1,
              "tickcolor": "rgb(36,36,36)",
              "ticks": "outside"
             }
            },
            "type": "scattergl"
           }
          ],
          "scattermap": [
           {
            "marker": {
             "colorbar": {
              "outlinewidth": 1,
              "tickcolor": "rgb(36,36,36)",
              "ticks": "outside"
             }
            },
            "type": "scattermap"
           }
          ],
          "scattermapbox": [
           {
            "marker": {
             "colorbar": {
              "outlinewidth": 1,
              "tickcolor": "rgb(36,36,36)",
              "ticks": "outside"
             }
            },
            "type": "scattermapbox"
           }
          ],
          "scatterpolar": [
           {
            "marker": {
             "colorbar": {
              "outlinewidth": 1,
              "tickcolor": "rgb(36,36,36)",
              "ticks": "outside"
             }
            },
            "type": "scatterpolar"
           }
          ],
          "scatterpolargl": [
           {
            "marker": {
             "colorbar": {
              "outlinewidth": 1,
              "tickcolor": "rgb(36,36,36)",
              "ticks": "outside"
             }
            },
            "type": "scatterpolargl"
           }
          ],
          "scatterternary": [
           {
            "marker": {
             "colorbar": {
              "outlinewidth": 1,
              "tickcolor": "rgb(36,36,36)",
              "ticks": "outside"
             }
            },
            "type": "scatterternary"
           }
          ],
          "surface": [
           {
            "colorbar": {
             "outlinewidth": 1,
             "tickcolor": "rgb(36,36,36)",
             "ticks": "outside"
            },
            "colorscale": [
             [
              0,
              "#440154"
             ],
             [
              0.1111111111111111,
              "#482878"
             ],
             [
              0.2222222222222222,
              "#3e4989"
             ],
             [
              0.3333333333333333,
              "#31688e"
             ],
             [
              0.4444444444444444,
              "#26828e"
             ],
             [
              0.5555555555555556,
              "#1f9e89"
             ],
             [
              0.6666666666666666,
              "#35b779"
             ],
             [
              0.7777777777777778,
              "#6ece58"
             ],
             [
              0.8888888888888888,
              "#b5de2b"
             ],
             [
              1,
              "#fde725"
             ]
            ],
            "type": "surface"
           }
          ],
          "table": [
           {
            "cells": {
             "fill": {
              "color": "rgb(237,237,237)"
             },
             "line": {
              "color": "white"
             }
            },
            "header": {
             "fill": {
              "color": "rgb(217,217,217)"
             },
             "line": {
              "color": "white"
             }
            },
            "type": "table"
           }
          ]
         },
         "layout": {
          "annotationdefaults": {
           "arrowhead": 0,
           "arrowwidth": 1
          },
          "autotypenumbers": "strict",
          "coloraxis": {
           "colorbar": {
            "outlinewidth": 1,
            "tickcolor": "rgb(36,36,36)",
            "ticks": "outside"
           }
          },
          "colorscale": {
           "diverging": [
            [
             0,
             "rgb(103,0,31)"
            ],
            [
             0.1,
             "rgb(178,24,43)"
            ],
            [
             0.2,
             "rgb(214,96,77)"
            ],
            [
             0.3,
             "rgb(244,165,130)"
            ],
            [
             0.4,
             "rgb(253,219,199)"
            ],
            [
             0.5,
             "rgb(247,247,247)"
            ],
            [
             0.6,
             "rgb(209,229,240)"
            ],
            [
             0.7,
             "rgb(146,197,222)"
            ],
            [
             0.8,
             "rgb(67,147,195)"
            ],
            [
             0.9,
             "rgb(33,102,172)"
            ],
            [
             1,
             "rgb(5,48,97)"
            ]
           ],
           "sequential": [
            [
             0,
             "#440154"
            ],
            [
             0.1111111111111111,
             "#482878"
            ],
            [
             0.2222222222222222,
             "#3e4989"
            ],
            [
             0.3333333333333333,
             "#31688e"
            ],
            [
             0.4444444444444444,
             "#26828e"
            ],
            [
             0.5555555555555556,
             "#1f9e89"
            ],
            [
             0.6666666666666666,
             "#35b779"
            ],
            [
             0.7777777777777778,
             "#6ece58"
            ],
            [
             0.8888888888888888,
             "#b5de2b"
            ],
            [
             1,
             "#fde725"
            ]
           ],
           "sequentialminus": [
            [
             0,
             "#440154"
            ],
            [
             0.1111111111111111,
             "#482878"
            ],
            [
             0.2222222222222222,
             "#3e4989"
            ],
            [
             0.3333333333333333,
             "#31688e"
            ],
            [
             0.4444444444444444,
             "#26828e"
            ],
            [
             0.5555555555555556,
             "#1f9e89"
            ],
            [
             0.6666666666666666,
             "#35b779"
            ],
            [
             0.7777777777777778,
             "#6ece58"
            ],
            [
             0.8888888888888888,
             "#b5de2b"
            ],
            [
             1,
             "#fde725"
            ]
           ]
          },
          "colorway": [
           "#1F77B4",
           "#FF7F0E",
           "#2CA02C",
           "#D62728",
           "#9467BD",
           "#8C564B",
           "#E377C2",
           "#7F7F7F",
           "#BCBD22",
           "#17BECF"
          ],
          "font": {
           "color": "rgb(36,36,36)"
          },
          "geo": {
           "bgcolor": "white",
           "lakecolor": "white",
           "landcolor": "white",
           "showlakes": true,
           "showland": true,
           "subunitcolor": "white"
          },
          "hoverlabel": {
           "align": "left"
          },
          "hovermode": "closest",
          "mapbox": {
           "style": "light"
          },
          "paper_bgcolor": "white",
          "plot_bgcolor": "white",
          "polar": {
           "angularaxis": {
            "gridcolor": "rgb(232,232,232)",
            "linecolor": "rgb(36,36,36)",
            "showgrid": false,
            "showline": true,
            "ticks": "outside"
           },
           "bgcolor": "white",
           "radialaxis": {
            "gridcolor": "rgb(232,232,232)",
            "linecolor": "rgb(36,36,36)",
            "showgrid": false,
            "showline": true,
            "ticks": "outside"
           }
          },
          "scene": {
           "xaxis": {
            "backgroundcolor": "white",
            "gridcolor": "rgb(232,232,232)",
            "gridwidth": 2,
            "linecolor": "rgb(36,36,36)",
            "showbackground": true,
            "showgrid": false,
            "showline": true,
            "ticks": "outside",
            "zeroline": false,
            "zerolinecolor": "rgb(36,36,36)"
           },
           "yaxis": {
            "backgroundcolor": "white",
            "gridcolor": "rgb(232,232,232)",
            "gridwidth": 2,
            "linecolor": "rgb(36,36,36)",
            "showbackground": true,
            "showgrid": false,
            "showline": true,
            "ticks": "outside",
            "zeroline": false,
            "zerolinecolor": "rgb(36,36,36)"
           },
           "zaxis": {
            "backgroundcolor": "white",
            "gridcolor": "rgb(232,232,232)",
            "gridwidth": 2,
            "linecolor": "rgb(36,36,36)",
            "showbackground": true,
            "showgrid": false,
            "showline": true,
            "ticks": "outside",
            "zeroline": false,
            "zerolinecolor": "rgb(36,36,36)"
           }
          },
          "shapedefaults": {
           "fillcolor": "black",
           "line": {
            "width": 0
           },
           "opacity": 0.3
          },
          "ternary": {
           "aaxis": {
            "gridcolor": "rgb(232,232,232)",
            "linecolor": "rgb(36,36,36)",
            "showgrid": false,
            "showline": true,
            "ticks": "outside"
           },
           "baxis": {
            "gridcolor": "rgb(232,232,232)",
            "linecolor": "rgb(36,36,36)",
            "showgrid": false,
            "showline": true,
            "ticks": "outside"
           },
           "bgcolor": "white",
           "caxis": {
            "gridcolor": "rgb(232,232,232)",
            "linecolor": "rgb(36,36,36)",
            "showgrid": false,
            "showline": true,
            "ticks": "outside"
           }
          },
          "title": {
           "x": 0.05
          },
          "xaxis": {
           "automargin": true,
           "gridcolor": "rgb(232,232,232)",
           "linecolor": "rgb(36,36,36)",
           "showgrid": false,
           "showline": true,
           "ticks": "outside",
           "title": {
            "standoff": 15
           },
           "zeroline": false,
           "zerolinecolor": "rgb(36,36,36)"
          },
          "yaxis": {
           "automargin": true,
           "gridcolor": "rgb(232,232,232)",
           "linecolor": "rgb(36,36,36)",
           "showgrid": false,
           "showline": true,
           "ticks": "outside",
           "title": {
            "standoff": 15
           },
           "zeroline": false,
           "zerolinecolor": "rgb(36,36,36)"
          }
         }
        },
        "title": {
         "font": {
          "color": "Black",
          "size": 22
         },
         "text": "<b>Intertopic Distance Map</b>",
         "x": 0.5,
         "xanchor": "center",
         "y": 0.95,
         "yanchor": "top"
        },
        "width": 650,
        "xaxis": {
         "anchor": "y",
         "domain": [
          0,
          1
         ],
         "range": [
          -1.2880496978759766,
          15.240939140319824
         ],
         "title": {
          "text": ""
         },
         "visible": false
        },
        "yaxis": {
         "anchor": "x",
         "domain": [
          0,
          1
         ],
         "range": [
          -21.875717163085938,
          26.34896469116211
         ],
         "title": {
          "text": ""
         },
         "visible": false
        }
       }
      }
     },
     "metadata": {},
     "output_type": "display_data"
    }
   ],
   "source": [
    "topic_model_kmeans.visualize_barchart(top_n_topics=30)\n",
    "topic_model_kmeans.visualize_topics()"
   ]
  },
  {
   "cell_type": "code",
   "execution_count": 39,
   "id": "a95e4cb5",
   "metadata": {},
   "outputs": [],
   "source": [
    "# Save results to CSV\n",
    "df_topics = pd.DataFrame({\"Document\": docs, \"Topic\": topics_kmeans})\n",
    "df_topics.to_csv(\"topic_assignments_kmeans.csv\", index=False)\n",
    "\n",
    "# Save model\n",
    "# topic_model.save(\"bertopic_model_kmeans\")"
   ]
  },
  {
   "cell_type": "code",
   "execution_count": 40,
   "id": "f4d6a4bd",
   "metadata": {},
   "outputs": [
    {
     "name": "stdout",
     "output_type": "stream",
     "text": [
      "HDBSCAN Topics: 200\n",
      "KMeans Topics: 30\n",
      "HDBSCAN Outliers: 8850\n"
     ]
    }
   ],
   "source": [
    "print(\"HDBSCAN Topics:\", len(set(topics_hdbscan)) - (1 if -1 in topics_hdbscan else 0))\n",
    "print(\"KMeans Topics:\", len(set(topics_kmeans)))\n",
    "\n",
    "# Outlier analysis\n",
    "print(\"HDBSCAN Outliers:\", topics_hdbscan.count(-1))  # KMeans won't have outliers"
   ]
  },
  {
   "cell_type": "code",
   "execution_count": 41,
   "id": "5838f40d",
   "metadata": {},
   "outputs": [
    {
     "data": {
      "text/html": [
       "<div>\n",
       "<style scoped>\n",
       "    .dataframe tbody tr th:only-of-type {\n",
       "        vertical-align: middle;\n",
       "    }\n",
       "\n",
       "    .dataframe tbody tr th {\n",
       "        vertical-align: top;\n",
       "    }\n",
       "\n",
       "    .dataframe thead th {\n",
       "        text-align: right;\n",
       "    }\n",
       "</style>\n",
       "<table border=\"1\" class=\"dataframe\">\n",
       "  <thead>\n",
       "    <tr style=\"text-align: right;\">\n",
       "      <th></th>\n",
       "      <th>HDBSCAN</th>\n",
       "      <th>KMeans</th>\n",
       "    </tr>\n",
       "  </thead>\n",
       "  <tbody>\n",
       "    <tr>\n",
       "      <th>-1</th>\n",
       "      <td>8850</td>\n",
       "      <td>0</td>\n",
       "    </tr>\n",
       "    <tr>\n",
       "      <th>0</th>\n",
       "      <td>3175</td>\n",
       "      <td>2415</td>\n",
       "    </tr>\n",
       "    <tr>\n",
       "      <th>1</th>\n",
       "      <td>1335</td>\n",
       "      <td>2115</td>\n",
       "    </tr>\n",
       "    <tr>\n",
       "      <th>2</th>\n",
       "      <td>922</td>\n",
       "      <td>2107</td>\n",
       "    </tr>\n",
       "    <tr>\n",
       "      <th>3</th>\n",
       "      <td>561</td>\n",
       "      <td>1970</td>\n",
       "    </tr>\n",
       "    <tr>\n",
       "      <th>...</th>\n",
       "      <td>...</td>\n",
       "      <td>...</td>\n",
       "    </tr>\n",
       "    <tr>\n",
       "      <th>195</th>\n",
       "      <td>16</td>\n",
       "      <td>0</td>\n",
       "    </tr>\n",
       "    <tr>\n",
       "      <th>196</th>\n",
       "      <td>16</td>\n",
       "      <td>0</td>\n",
       "    </tr>\n",
       "    <tr>\n",
       "      <th>197</th>\n",
       "      <td>16</td>\n",
       "      <td>0</td>\n",
       "    </tr>\n",
       "    <tr>\n",
       "      <th>198</th>\n",
       "      <td>15</td>\n",
       "      <td>0</td>\n",
       "    </tr>\n",
       "    <tr>\n",
       "      <th>199</th>\n",
       "      <td>15</td>\n",
       "      <td>0</td>\n",
       "    </tr>\n",
       "  </tbody>\n",
       "</table>\n",
       "<p>201 rows × 2 columns</p>\n",
       "</div>"
      ],
      "text/plain": [
       "      HDBSCAN  KMeans\n",
       "-1       8850       0\n",
       " 0       3175    2415\n",
       " 1       1335    2115\n",
       " 2        922    2107\n",
       " 3        561    1970\n",
       "...       ...     ...\n",
       " 195       16       0\n",
       " 196       16       0\n",
       " 197       16       0\n",
       " 198       15       0\n",
       " 199       15       0\n",
       "\n",
       "[201 rows x 2 columns]"
      ]
     },
     "execution_count": 41,
     "metadata": {},
     "output_type": "execute_result"
    }
   ],
   "source": [
    "import pandas as pd\n",
    "from collections import Counter\n",
    "\n",
    "# Count documents per topic\n",
    "hdbscan_counts = Counter(topics_hdbscan)\n",
    "kmeans_counts = Counter(topics_kmeans)\n",
    "\n",
    "# Create DataFrame to compare\n",
    "comparison_df = pd.DataFrame({\n",
    "    \"HDBSCAN\": pd.Series(hdbscan_counts),\n",
    "    \"KMeans\": pd.Series(kmeans_counts)\n",
    "}).fillna(0).astype(int)\n",
    "\n",
    "comparison_df.sort_index()\n"
   ]
  },
  {
   "cell_type": "code",
   "execution_count": 42,
   "id": "8df6259c",
   "metadata": {},
   "outputs": [
    {
     "ename": "KeyError",
     "evalue": "False",
     "output_type": "error",
     "traceback": [
      "\u001b[31m---------------------------------------------------------------------------\u001b[39m",
      "\u001b[31mKeyError\u001b[39m                                  Traceback (most recent call last)",
      "\u001b[36mFile \u001b[39m\u001b[32mf:\\UI\\Semester 8\\Tugas Akhir\\topic-modelling\\env\\Lib\\site-packages\\pandas\\core\\indexes\\base.py:3805\u001b[39m, in \u001b[36mIndex.get_loc\u001b[39m\u001b[34m(self, key)\u001b[39m\n\u001b[32m   3804\u001b[39m \u001b[38;5;28;01mtry\u001b[39;00m:\n\u001b[32m-> \u001b[39m\u001b[32m3805\u001b[39m     \u001b[38;5;28;01mreturn\u001b[39;00m \u001b[38;5;28;43mself\u001b[39;49m\u001b[43m.\u001b[49m\u001b[43m_engine\u001b[49m\u001b[43m.\u001b[49m\u001b[43mget_loc\u001b[49m\u001b[43m(\u001b[49m\u001b[43mcasted_key\u001b[49m\u001b[43m)\u001b[49m\n\u001b[32m   3806\u001b[39m \u001b[38;5;28;01mexcept\u001b[39;00m \u001b[38;5;167;01mKeyError\u001b[39;00m \u001b[38;5;28;01mas\u001b[39;00m err:\n",
      "\u001b[36mFile \u001b[39m\u001b[32mindex.pyx:167\u001b[39m, in \u001b[36mpandas._libs.index.IndexEngine.get_loc\u001b[39m\u001b[34m()\u001b[39m\n",
      "\u001b[36mFile \u001b[39m\u001b[32mindex.pyx:196\u001b[39m, in \u001b[36mpandas._libs.index.IndexEngine.get_loc\u001b[39m\u001b[34m()\u001b[39m\n",
      "\u001b[36mFile \u001b[39m\u001b[32mpandas\\\\_libs\\\\hashtable_class_helper.pxi:7081\u001b[39m, in \u001b[36mpandas._libs.hashtable.PyObjectHashTable.get_item\u001b[39m\u001b[34m()\u001b[39m\n",
      "\u001b[36mFile \u001b[39m\u001b[32mpandas\\\\_libs\\\\hashtable_class_helper.pxi:7089\u001b[39m, in \u001b[36mpandas._libs.hashtable.PyObjectHashTable.get_item\u001b[39m\u001b[34m()\u001b[39m\n",
      "\u001b[31mKeyError\u001b[39m: False",
      "\nThe above exception was the direct cause of the following exception:\n",
      "\u001b[31mKeyError\u001b[39m                                  Traceback (most recent call last)",
      "\u001b[36mCell\u001b[39m\u001b[36m \u001b[39m\u001b[32mIn[42]\u001b[39m\u001b[32m, line 2\u001b[39m\n\u001b[32m      1\u001b[39m topic_model_hdbscan.get_topic(\u001b[32m3\u001b[39m)\n\u001b[32m----> \u001b[39m\u001b[32m2\u001b[39m \u001b[43mdf\u001b[49m\u001b[43m[\u001b[49m\u001b[43mtopics_hdbscan\u001b[49m\u001b[43m \u001b[49m\u001b[43m==\u001b[49m\u001b[43m \u001b[49m\u001b[32;43m3\u001b[39;49m\u001b[43m]\u001b[49m.sample(\u001b[32m3\u001b[39m) \n\u001b[32m      4\u001b[39m topic_model_kmeans.get_topic(\u001b[32m3\u001b[39m)\n\u001b[32m      5\u001b[39m df[topics_kmeans == \u001b[32m3\u001b[39m].sample(\u001b[32m3\u001b[39m)\n",
      "\u001b[36mFile \u001b[39m\u001b[32mf:\\UI\\Semester 8\\Tugas Akhir\\topic-modelling\\env\\Lib\\site-packages\\pandas\\core\\frame.py:4102\u001b[39m, in \u001b[36mDataFrame.__getitem__\u001b[39m\u001b[34m(self, key)\u001b[39m\n\u001b[32m   4100\u001b[39m \u001b[38;5;28;01mif\u001b[39;00m \u001b[38;5;28mself\u001b[39m.columns.nlevels > \u001b[32m1\u001b[39m:\n\u001b[32m   4101\u001b[39m     \u001b[38;5;28;01mreturn\u001b[39;00m \u001b[38;5;28mself\u001b[39m._getitem_multilevel(key)\n\u001b[32m-> \u001b[39m\u001b[32m4102\u001b[39m indexer = \u001b[38;5;28;43mself\u001b[39;49m\u001b[43m.\u001b[49m\u001b[43mcolumns\u001b[49m\u001b[43m.\u001b[49m\u001b[43mget_loc\u001b[49m\u001b[43m(\u001b[49m\u001b[43mkey\u001b[49m\u001b[43m)\u001b[49m\n\u001b[32m   4103\u001b[39m \u001b[38;5;28;01mif\u001b[39;00m is_integer(indexer):\n\u001b[32m   4104\u001b[39m     indexer = [indexer]\n",
      "\u001b[36mFile \u001b[39m\u001b[32mf:\\UI\\Semester 8\\Tugas Akhir\\topic-modelling\\env\\Lib\\site-packages\\pandas\\core\\indexes\\base.py:3812\u001b[39m, in \u001b[36mIndex.get_loc\u001b[39m\u001b[34m(self, key)\u001b[39m\n\u001b[32m   3807\u001b[39m     \u001b[38;5;28;01mif\u001b[39;00m \u001b[38;5;28misinstance\u001b[39m(casted_key, \u001b[38;5;28mslice\u001b[39m) \u001b[38;5;129;01mor\u001b[39;00m (\n\u001b[32m   3808\u001b[39m         \u001b[38;5;28misinstance\u001b[39m(casted_key, abc.Iterable)\n\u001b[32m   3809\u001b[39m         \u001b[38;5;129;01mand\u001b[39;00m \u001b[38;5;28many\u001b[39m(\u001b[38;5;28misinstance\u001b[39m(x, \u001b[38;5;28mslice\u001b[39m) \u001b[38;5;28;01mfor\u001b[39;00m x \u001b[38;5;129;01min\u001b[39;00m casted_key)\n\u001b[32m   3810\u001b[39m     ):\n\u001b[32m   3811\u001b[39m         \u001b[38;5;28;01mraise\u001b[39;00m InvalidIndexError(key)\n\u001b[32m-> \u001b[39m\u001b[32m3812\u001b[39m     \u001b[38;5;28;01mraise\u001b[39;00m \u001b[38;5;167;01mKeyError\u001b[39;00m(key) \u001b[38;5;28;01mfrom\u001b[39;00m\u001b[38;5;250m \u001b[39m\u001b[34;01merr\u001b[39;00m\n\u001b[32m   3813\u001b[39m \u001b[38;5;28;01mexcept\u001b[39;00m \u001b[38;5;167;01mTypeError\u001b[39;00m:\n\u001b[32m   3814\u001b[39m     \u001b[38;5;66;03m# If we have a listlike key, _check_indexing_error will raise\u001b[39;00m\n\u001b[32m   3815\u001b[39m     \u001b[38;5;66;03m#  InvalidIndexError. Otherwise we fall through and re-raise\u001b[39;00m\n\u001b[32m   3816\u001b[39m     \u001b[38;5;66;03m#  the TypeError.\u001b[39;00m\n\u001b[32m   3817\u001b[39m     \u001b[38;5;28mself\u001b[39m._check_indexing_error(key)\n",
      "\u001b[31mKeyError\u001b[39m: False"
     ]
    }
   ],
   "source": [
    "topic_model_hdbscan.get_topic(3)\n",
    "df[topics_hdbscan == 3].sample(3) \n",
    "\n",
    "topic_model_kmeans.get_topic(3)\n",
    "df[topics_kmeans == 3].sample(3)\n"
   ]
  }
 ],
 "metadata": {
  "kernelspec": {
   "display_name": "env",
   "language": "python",
   "name": "python3"
  },
  "language_info": {
   "codemirror_mode": {
    "name": "ipython",
    "version": 3
   },
   "file_extension": ".py",
   "mimetype": "text/x-python",
   "name": "python",
   "nbconvert_exporter": "python",
   "pygments_lexer": "ipython3",
   "version": "3.12.3"
  }
 },
 "nbformat": 4,
 "nbformat_minor": 5
}
