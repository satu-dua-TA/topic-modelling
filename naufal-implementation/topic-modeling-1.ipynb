{
 "cells": [
  {
   "cell_type": "code",
   "execution_count": 1,
   "id": "be9df678",
   "metadata": {},
   "outputs": [],
   "source": [
    "from bertopic import BERTopic\n",
    "from sentence_transformers import SentenceTransformer\n",
    "from umap import UMAP\n",
    "import hdbscan\n",
    "from sklearn.decomposition import PCA\n",
    "import pandas as pd\n",
    "import matplotlib.pyplot as plt\n",
    "import seaborn as sns\n",
    "import torch"
   ]
  },
  {
   "cell_type": "code",
   "execution_count": 2,
   "id": "5011ae30",
   "metadata": {},
   "outputs": [
    {
     "name": "stdout",
     "output_type": "stream",
     "text": [
      "GPU available: True\n"
     ]
    }
   ],
   "source": [
    "print(\"GPU available:\", torch.cuda.is_available())"
   ]
  },
  {
   "cell_type": "code",
   "execution_count": 3,
   "id": "e786257c",
   "metadata": {},
   "outputs": [
    {
     "name": "stdout",
     "output_type": "stream",
     "text": [
      "Index(['created_at', 'id_str', 'full_text', 'lang', 'location'], dtype='object')\n"
     ]
    }
   ],
   "source": [
    "df = pd.read_csv(\"../data/stemmed_merged_kubu_01.csv\") \n",
    "print(df.columns)"
   ]
  },
  {
   "cell_type": "code",
   "execution_count": 4,
   "id": "182f365b",
   "metadata": {},
   "outputs": [],
   "source": [
    "df['full_text'] = df['full_text'].str.replace(r'(wk)+|\\bsih\\b|\\bya\\b', '', regex=True)"
   ]
  },
  {
   "cell_type": "code",
   "execution_count": 5,
   "id": "5f6c4214",
   "metadata": {},
   "outputs": [],
   "source": [
    "docs = df['full_text'].dropna().astype(str).tolist()"
   ]
  },
  {
   "cell_type": "code",
   "execution_count": 6,
   "id": "46e82f87",
   "metadata": {},
   "outputs": [
    {
     "data": {
      "text/plain": [
       "SentenceTransformer(\n",
       "  (0): Transformer({'max_seq_length': 128, 'do_lower_case': False}) with Transformer model: DistilBertModel \n",
       "  (1): Pooling({'word_embedding_dimension': 768, 'pooling_mode_cls_token': False, 'pooling_mode_mean_tokens': True, 'pooling_mode_max_tokens': False, 'pooling_mode_mean_sqrt_len_tokens': False, 'pooling_mode_weightedmean_tokens': False, 'pooling_mode_lasttoken': False, 'include_prompt': True})\n",
       "  (2): Dense({'in_features': 768, 'out_features': 512, 'bias': True, 'activation_function': 'torch.nn.modules.activation.Tanh'})\n",
       ")"
      ]
     },
     "execution_count": 6,
     "metadata": {},
     "output_type": "execute_result"
    }
   ],
   "source": [
    "embedding_model = SentenceTransformer(\"distiluse-base-multilingual-cased-v1\")\n",
    "embedding_model.to('cuda' if torch.cuda.is_available() else 'cpu')"
   ]
  },
  {
   "cell_type": "code",
   "execution_count": 7,
   "id": "ba63fd42",
   "metadata": {},
   "outputs": [],
   "source": [
    "pca_model = PCA(n_components=25)\n",
    "umap_model = UMAP(n_neighbors=15, n_components=5, min_dist=0.0, metric='cosine')\n",
    "\n",
    "hdbscan_model = hdbscan.HDBSCAN(\n",
    "    min_cluster_size=15,\n",
    "    metric='euclidean',\n",
    "    cluster_selection_method='eom',\n",
    "    prediction_data=True,\n",
    ")\n"
   ]
  },
  {
   "cell_type": "code",
   "execution_count": 8,
   "id": "19bd1c28",
   "metadata": {},
   "outputs": [
    {
     "name": "stderr",
     "output_type": "stream",
     "text": [
      "2025-05-22 10:15:19,555 - BERTopic - Embedding - Transforming documents to embeddings.\n"
     ]
    },
    {
     "data": {
      "application/vnd.jupyter.widget-view+json": {
       "model_id": "266f81943aec4b3394e9e59b8cdcd5c7",
       "version_major": 2,
       "version_minor": 0
      },
      "text/plain": [
       "Batches:   0%|          | 0/934 [00:00<?, ?it/s]"
      ]
     },
     "metadata": {},
     "output_type": "display_data"
    },
    {
     "name": "stderr",
     "output_type": "stream",
     "text": [
      "2025-05-22 10:15:24,756 - BERTopic - Embedding - Completed ✓\n",
      "2025-05-22 10:15:24,756 - BERTopic - Dimensionality - Fitting the dimensionality reduction algorithm\n",
      "2025-05-22 10:15:39,738 - BERTopic - Dimensionality - Completed ✓\n",
      "2025-05-22 10:15:39,740 - BERTopic - Cluster - Start clustering the reduced embeddings\n",
      "2025-05-22 10:16:34,284 - BERTopic - Cluster - Completed ✓\n",
      "2025-05-22 10:16:34,289 - BERTopic - Representation - Fine-tuning topics using representation models.\n",
      "2025-05-22 10:16:34,516 - BERTopic - Representation - Completed ✓\n",
      "2025-05-22 10:16:34,842 - BERTopic - Topic reduction - Reducing number of topics\n",
      "2025-05-22 10:16:34,856 - BERTopic - Representation - Fine-tuning topics using representation models.\n",
      "2025-05-22 10:16:34,982 - BERTopic - Representation - Completed ✓\n",
      "2025-05-22 10:16:34,984 - BERTopic - Topic reduction - Reduced number of topics from 206 to 15\n"
     ]
    },
    {
     "data": {
      "text/plain": [
       "<bertopic._bertopic.BERTopic at 0x20819f24700>"
      ]
     },
     "execution_count": 8,
     "metadata": {},
     "output_type": "execute_result"
    }
   ],
   "source": [
    "topic_model_hdbscan = BERTopic(\n",
    "    embedding_model=embedding_model,\n",
    "    umap_model=umap_model,\n",
    "    hdbscan_model=hdbscan_model,\n",
    "    calculate_probabilities=True,\n",
    "    verbose=True\n",
    ")\n",
    "\n",
    "topics_hdbscan, probs = topic_model_hdbscan.fit_transform(docs)\n",
    "\n",
    "topic_model_hdbscan.reduce_topics(docs, nr_topics=15)\n"
   ]
  },
  {
   "cell_type": "code",
   "execution_count": 9,
   "id": "76212730",
   "metadata": {},
   "outputs": [
    {
     "name": "stdout",
     "output_type": "stream",
     "text": [
      "    Topic  Count                                 Name  \\\n",
      "0      -1   9870              -1_01_anies_dukung_imin   \n",
      "1       0  10382              0_01_dukung_calon_pilih   \n",
      "2       1   2979  1_anies_baswedan_indonesia_presiden   \n",
      "3       2   1680        2_debat_calon_presiden_kritik   \n",
      "4       3   1544  3_politik_partai_demokrasi_demokrat   \n",
      "5       4   1514               4_cak_imin_anies_kayak   \n",
      "6       5    559            5_video_videotron_01_film   \n",
      "7       6    433        6_twitter_media_berita_sosial   \n",
      "8       7    358                7_pop_korea_02_konsep   \n",
      "9       8    233              8_program_anies_01_misi   \n",
      "10      9    152      9_palestina_israel_merdeka_bela   \n",
      "11     10     52          10_respons_reply_respon_cak   \n",
      "12     11     51          11_viral_viralkan_ham_virus   \n",
      "13     12     33         12_data_luhut_cherry_tambang   \n",
      "14     13     21             13_estate_food_tani_blak   \n",
      "\n",
      "                                       Representation  \\\n",
      "0   [01, anies, dukung, imin, cak, pilih, calon, o...   \n",
      "1   [01, dukung, calon, pilih, pasang, orang, mena...   \n",
      "2   [anies, baswedan, indonesia, presiden, rasyid,...   \n",
      "3   [debat, calon, presiden, kritik, cak, imin, an...   \n",
      "4   [politik, partai, demokrasi, demokrat, anies, ...   \n",
      "5   [cak, imin, anies, kayak, baswedan, rasyid, ba...   \n",
      "6   [video, videotron, 01, film, lihat, anies, duk...   \n",
      "7   [twitter, media, berita, sosial, 01, dukung, t...   \n",
      "8   [pop, korea, 02, konsep, 01, dukung, kpopers, ...   \n",
      "9   [program, anies, 01, misi, visi, kerja, bagus,...   \n",
      "10  [palestina, israel, merdeka, bela, aksi, free,...   \n",
      "11  [respons, reply, respon, cak, imin, reaksi, po...   \n",
      "12  [viral, viralkan, ham, virus, anies, vaccine, ...   \n",
      "13  [data, luhut, cherry, tambang, cak, imin, adu,...   \n",
      "14  [estate, food, tani, blak, imin, cak, gagal, h...   \n",
      "\n",
      "                                  Representative_Docs  \n",
      "0   [presiden terima kasih tingkat standar kampany...  \n",
      "1   [asli haru banget rakyat indonesia jalan jis d...  \n",
      "2   [semangat indonesia milik pimpin rakyat anies ...  \n",
      "3   [bukti debat calon wakil presiden cak imin huj...  \n",
      "4   [ketua partai pegang partai demokrasi indonesi...  \n",
      "5   [pimpin negeri anies cak imin, cak imin  allah...  \n",
      "6   [video bukti curang pilih 01, kasih video desa...  \n",
      "7   [pikir media sosial banyak dukung 01 dukung  g...  \n",
      "8   [sangkut paut korea pop kampanye korea pop ban...  \n",
      "9   [ubah rubah program program profesional rakyat...  \n",
      "10  [bawa kak calon wakil presiden 01 pilih palest...  \n",
      "11  [respons nyata cak imin khofifah ketua pulang ...  \n",
      "12  [viral massa pakai baju prabowo gibran pilih a...  \n",
      "13  [heran heran anies fakta data fakta santun tud...  \n",
      "14  [perintah rencana food estate tim anies cak im...  \n"
     ]
    },
    {
     "ename": "ValueError",
     "evalue": "Mime type rendering requires nbformat>=4.2.0 but it is not installed",
     "output_type": "error",
     "traceback": [
      "\u001b[1;31m---------------------------------------------------------------------------\u001b[0m",
      "\u001b[1;31mValueError\u001b[0m                                Traceback (most recent call last)",
      "File \u001b[1;32m~\\AppData\\Roaming\\Python\\Python310\\site-packages\\IPython\\core\\formatters.py:925\u001b[0m, in \u001b[0;36mIPythonDisplayFormatter.__call__\u001b[1;34m(self, obj)\u001b[0m\n\u001b[0;32m    923\u001b[0m method \u001b[38;5;241m=\u001b[39m get_real_method(obj, \u001b[38;5;28mself\u001b[39m\u001b[38;5;241m.\u001b[39mprint_method)\n\u001b[0;32m    924\u001b[0m \u001b[38;5;28;01mif\u001b[39;00m method \u001b[38;5;129;01mis\u001b[39;00m \u001b[38;5;129;01mnot\u001b[39;00m \u001b[38;5;28;01mNone\u001b[39;00m:\n\u001b[1;32m--> 925\u001b[0m     \u001b[43mmethod\u001b[49m\u001b[43m(\u001b[49m\u001b[43m)\u001b[49m\n\u001b[0;32m    926\u001b[0m     \u001b[38;5;28;01mreturn\u001b[39;00m \u001b[38;5;28;01mTrue\u001b[39;00m\n",
      "File \u001b[1;32mc:\\Users\\PC\\AppData\\Local\\Programs\\Python\\Python310\\lib\\site-packages\\plotly\\basedatatypes.py:846\u001b[0m, in \u001b[0;36mBaseFigure._ipython_display_\u001b[1;34m(self)\u001b[0m\n\u001b[0;32m    843\u001b[0m \u001b[38;5;28;01mimport\u001b[39;00m \u001b[38;5;21;01mplotly\u001b[39;00m\u001b[38;5;21;01m.\u001b[39;00m\u001b[38;5;21;01mio\u001b[39;00m \u001b[38;5;28;01mas\u001b[39;00m \u001b[38;5;21;01mpio\u001b[39;00m\n\u001b[0;32m    845\u001b[0m \u001b[38;5;28;01mif\u001b[39;00m pio\u001b[38;5;241m.\u001b[39mrenderers\u001b[38;5;241m.\u001b[39mrender_on_display \u001b[38;5;129;01mand\u001b[39;00m pio\u001b[38;5;241m.\u001b[39mrenderers\u001b[38;5;241m.\u001b[39mdefault:\n\u001b[1;32m--> 846\u001b[0m     \u001b[43mpio\u001b[49m\u001b[38;5;241;43m.\u001b[39;49m\u001b[43mshow\u001b[49m\u001b[43m(\u001b[49m\u001b[38;5;28;43mself\u001b[39;49m\u001b[43m)\u001b[49m\n\u001b[0;32m    847\u001b[0m \u001b[38;5;28;01melse\u001b[39;00m:\n\u001b[0;32m    848\u001b[0m     \u001b[38;5;28mprint\u001b[39m(\u001b[38;5;28mrepr\u001b[39m(\u001b[38;5;28mself\u001b[39m))\n",
      "File \u001b[1;32mc:\\Users\\PC\\AppData\\Local\\Programs\\Python\\Python310\\lib\\site-packages\\plotly\\io\\_renderers.py:425\u001b[0m, in \u001b[0;36mshow\u001b[1;34m(fig, renderer, validate, **kwargs)\u001b[0m\n\u001b[0;32m    420\u001b[0m     \u001b[38;5;28;01mraise\u001b[39;00m \u001b[38;5;167;01mValueError\u001b[39;00m(\n\u001b[0;32m    421\u001b[0m         \u001b[38;5;124m\"\u001b[39m\u001b[38;5;124mMime type rendering requires ipython but it is not installed\u001b[39m\u001b[38;5;124m\"\u001b[39m\n\u001b[0;32m    422\u001b[0m     )\n\u001b[0;32m    424\u001b[0m \u001b[38;5;28;01mif\u001b[39;00m \u001b[38;5;129;01mnot\u001b[39;00m nbformat \u001b[38;5;129;01mor\u001b[39;00m Version(nbformat\u001b[38;5;241m.\u001b[39m__version__) \u001b[38;5;241m<\u001b[39m Version(\u001b[38;5;124m\"\u001b[39m\u001b[38;5;124m4.2.0\u001b[39m\u001b[38;5;124m\"\u001b[39m):\n\u001b[1;32m--> 425\u001b[0m     \u001b[38;5;28;01mraise\u001b[39;00m \u001b[38;5;167;01mValueError\u001b[39;00m(\n\u001b[0;32m    426\u001b[0m         \u001b[38;5;124m\"\u001b[39m\u001b[38;5;124mMime type rendering requires nbformat>=4.2.0 but it is not installed\u001b[39m\u001b[38;5;124m\"\u001b[39m\n\u001b[0;32m    427\u001b[0m     )\n\u001b[0;32m    429\u001b[0m display_jupyter_version_warnings()\n\u001b[0;32m    431\u001b[0m ipython_display\u001b[38;5;241m.\u001b[39mdisplay(bundle, raw\u001b[38;5;241m=\u001b[39m\u001b[38;5;28;01mTrue\u001b[39;00m)\n",
      "\u001b[1;31mValueError\u001b[0m: Mime type rendering requires nbformat>=4.2.0 but it is not installed"
     ]
    },
    {
     "data": {
      "application/vnd.plotly.v1+json": {
       "config": {
        "plotlyServerURL": "https://plot.ly"
       },
       "data": [
        {
         "coloraxis": "coloraxis",
         "hovertemplate": "x: %{x}<br>y: %{y}<br>Similarity Score: %{z}<extra></extra>",
         "name": "0",
         "type": "heatmap",
         "x": [
          "0_01_dukung_calon",
          "1_anies_baswedan_indonesia",
          "2_debat_calon_presiden",
          "3_politik_partai_demokrasi",
          "4_cak_imin_anies",
          "5_video_videotron_01",
          "6_twitter_media_berita",
          "7_pop_korea_02",
          "8_program_anies_01",
          "9_palestina_israel_merdeka",
          "10_respons_reply_respon",
          "11_viral_viralkan_ham",
          "12_data_luhut_cherry",
          "13_estate_food_tani"
         ],
         "xaxis": "x",
         "y": [
          "0_01_dukung_calon",
          "1_anies_baswedan_indonesia",
          "2_debat_calon_presiden",
          "3_politik_partai_demokrasi",
          "4_cak_imin_anies",
          "5_video_videotron_01",
          "6_twitter_media_berita",
          "7_pop_korea_02",
          "8_program_anies_01",
          "9_palestina_israel_merdeka",
          "10_respons_reply_respon",
          "11_viral_viralkan_ham",
          "12_data_luhut_cherry",
          "13_estate_food_tani"
         ],
         "yaxis": "y",
         "z": {
          "bdata": "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",
          "dtype": "f8",
          "shape": "14, 14"
         }
        }
       ],
       "layout": {
        "coloraxis": {
         "colorbar": {
          "title": {
           "text": "Similarity Score"
          }
         },
         "colorscale": [
          [
           0,
           "rgb(247,252,240)"
          ],
          [
           0.125,
           "rgb(224,243,219)"
          ],
          [
           0.25,
           "rgb(204,235,197)"
          ],
          [
           0.375,
           "rgb(168,221,181)"
          ],
          [
           0.5,
           "rgb(123,204,196)"
          ],
          [
           0.625,
           "rgb(78,179,211)"
          ],
          [
           0.75,
           "rgb(43,140,190)"
          ],
          [
           0.875,
           "rgb(8,104,172)"
          ],
          [
           1,
           "rgb(8,64,129)"
          ]
         ]
        },
        "height": 800,
        "hoverlabel": {
         "bgcolor": "white",
         "font": {
          "family": "Rockwell",
          "size": 16
         }
        },
        "legend": {
         "title": {
          "text": "Trend"
         }
        },
        "margin": {
         "t": 60
        },
        "showlegend": true,
        "template": {
         "data": {
          "bar": [
           {
            "error_x": {
             "color": "#2a3f5f"
            },
            "error_y": {
             "color": "#2a3f5f"
            },
            "marker": {
             "line": {
              "color": "#E5ECF6",
              "width": 0.5
             },
             "pattern": {
              "fillmode": "overlay",
              "size": 10,
              "solidity": 0.2
             }
            },
            "type": "bar"
           }
          ],
          "barpolar": [
           {
            "marker": {
             "line": {
              "color": "#E5ECF6",
              "width": 0.5
             },
             "pattern": {
              "fillmode": "overlay",
              "size": 10,
              "solidity": 0.2
             }
            },
            "type": "barpolar"
           }
          ],
          "carpet": [
           {
            "aaxis": {
             "endlinecolor": "#2a3f5f",
             "gridcolor": "white",
             "linecolor": "white",
             "minorgridcolor": "white",
             "startlinecolor": "#2a3f5f"
            },
            "baxis": {
             "endlinecolor": "#2a3f5f",
             "gridcolor": "white",
             "linecolor": "white",
             "minorgridcolor": "white",
             "startlinecolor": "#2a3f5f"
            },
            "type": "carpet"
           }
          ],
          "choropleth": [
           {
            "colorbar": {
             "outlinewidth": 0,
             "ticks": ""
            },
            "type": "choropleth"
           }
          ],
          "contour": [
           {
            "colorbar": {
             "outlinewidth": 0,
             "ticks": ""
            },
            "colorscale": [
             [
              0,
              "#0d0887"
             ],
             [
              0.1111111111111111,
              "#46039f"
             ],
             [
              0.2222222222222222,
              "#7201a8"
             ],
             [
              0.3333333333333333,
              "#9c179e"
             ],
             [
              0.4444444444444444,
              "#bd3786"
             ],
             [
              0.5555555555555556,
              "#d8576b"
             ],
             [
              0.6666666666666666,
              "#ed7953"
             ],
             [
              0.7777777777777778,
              "#fb9f3a"
             ],
             [
              0.8888888888888888,
              "#fdca26"
             ],
             [
              1,
              "#f0f921"
             ]
            ],
            "type": "contour"
           }
          ],
          "contourcarpet": [
           {
            "colorbar": {
             "outlinewidth": 0,
             "ticks": ""
            },
            "type": "contourcarpet"
           }
          ],
          "heatmap": [
           {
            "colorbar": {
             "outlinewidth": 0,
             "ticks": ""
            },
            "colorscale": [
             [
              0,
              "#0d0887"
             ],
             [
              0.1111111111111111,
              "#46039f"
             ],
             [
              0.2222222222222222,
              "#7201a8"
             ],
             [
              0.3333333333333333,
              "#9c179e"
             ],
             [
              0.4444444444444444,
              "#bd3786"
             ],
             [
              0.5555555555555556,
              "#d8576b"
             ],
             [
              0.6666666666666666,
              "#ed7953"
             ],
             [
              0.7777777777777778,
              "#fb9f3a"
             ],
             [
              0.8888888888888888,
              "#fdca26"
             ],
             [
              1,
              "#f0f921"
             ]
            ],
            "type": "heatmap"
           }
          ],
          "histogram": [
           {
            "marker": {
             "pattern": {
              "fillmode": "overlay",
              "size": 10,
              "solidity": 0.2
             }
            },
            "type": "histogram"
           }
          ],
          "histogram2d": [
           {
            "colorbar": {
             "outlinewidth": 0,
             "ticks": ""
            },
            "colorscale": [
             [
              0,
              "#0d0887"
             ],
             [
              0.1111111111111111,
              "#46039f"
             ],
             [
              0.2222222222222222,
              "#7201a8"
             ],
             [
              0.3333333333333333,
              "#9c179e"
             ],
             [
              0.4444444444444444,
              "#bd3786"
             ],
             [
              0.5555555555555556,
              "#d8576b"
             ],
             [
              0.6666666666666666,
              "#ed7953"
             ],
             [
              0.7777777777777778,
              "#fb9f3a"
             ],
             [
              0.8888888888888888,
              "#fdca26"
             ],
             [
              1,
              "#f0f921"
             ]
            ],
            "type": "histogram2d"
           }
          ],
          "histogram2dcontour": [
           {
            "colorbar": {
             "outlinewidth": 0,
             "ticks": ""
            },
            "colorscale": [
             [
              0,
              "#0d0887"
             ],
             [
              0.1111111111111111,
              "#46039f"
             ],
             [
              0.2222222222222222,
              "#7201a8"
             ],
             [
              0.3333333333333333,
              "#9c179e"
             ],
             [
              0.4444444444444444,
              "#bd3786"
             ],
             [
              0.5555555555555556,
              "#d8576b"
             ],
             [
              0.6666666666666666,
              "#ed7953"
             ],
             [
              0.7777777777777778,
              "#fb9f3a"
             ],
             [
              0.8888888888888888,
              "#fdca26"
             ],
             [
              1,
              "#f0f921"
             ]
            ],
            "type": "histogram2dcontour"
           }
          ],
          "mesh3d": [
           {
            "colorbar": {
             "outlinewidth": 0,
             "ticks": ""
            },
            "type": "mesh3d"
           }
          ],
          "parcoords": [
           {
            "line": {
             "colorbar": {
              "outlinewidth": 0,
              "ticks": ""
             }
            },
            "type": "parcoords"
           }
          ],
          "pie": [
           {
            "automargin": true,
            "type": "pie"
           }
          ],
          "scatter": [
           {
            "fillpattern": {
             "fillmode": "overlay",
             "size": 10,
             "solidity": 0.2
            },
            "type": "scatter"
           }
          ],
          "scatter3d": [
           {
            "line": {
             "colorbar": {
              "outlinewidth": 0,
              "ticks": ""
             }
            },
            "marker": {
             "colorbar": {
              "outlinewidth": 0,
              "ticks": ""
             }
            },
            "type": "scatter3d"
           }
          ],
          "scattercarpet": [
           {
            "marker": {
             "colorbar": {
              "outlinewidth": 0,
              "ticks": ""
             }
            },
            "type": "scattercarpet"
           }
          ],
          "scattergeo": [
           {
            "marker": {
             "colorbar": {
              "outlinewidth": 0,
              "ticks": ""
             }
            },
            "type": "scattergeo"
           }
          ],
          "scattergl": [
           {
            "marker": {
             "colorbar": {
              "outlinewidth": 0,
              "ticks": ""
             }
            },
            "type": "scattergl"
           }
          ],
          "scattermap": [
           {
            "marker": {
             "colorbar": {
              "outlinewidth": 0,
              "ticks": ""
             }
            },
            "type": "scattermap"
           }
          ],
          "scattermapbox": [
           {
            "marker": {
             "colorbar": {
              "outlinewidth": 0,
              "ticks": ""
             }
            },
            "type": "scattermapbox"
           }
          ],
          "scatterpolar": [
           {
            "marker": {
             "colorbar": {
              "outlinewidth": 0,
              "ticks": ""
             }
            },
            "type": "scatterpolar"
           }
          ],
          "scatterpolargl": [
           {
            "marker": {
             "colorbar": {
              "outlinewidth": 0,
              "ticks": ""
             }
            },
            "type": "scatterpolargl"
           }
          ],
          "scatterternary": [
           {
            "marker": {
             "colorbar": {
              "outlinewidth": 0,
              "ticks": ""
             }
            },
            "type": "scatterternary"
           }
          ],
          "surface": [
           {
            "colorbar": {
             "outlinewidth": 0,
             "ticks": ""
            },
            "colorscale": [
             [
              0,
              "#0d0887"
             ],
             [
              0.1111111111111111,
              "#46039f"
             ],
             [
              0.2222222222222222,
              "#7201a8"
             ],
             [
              0.3333333333333333,
              "#9c179e"
             ],
             [
              0.4444444444444444,
              "#bd3786"
             ],
             [
              0.5555555555555556,
              "#d8576b"
             ],
             [
              0.6666666666666666,
              "#ed7953"
             ],
             [
              0.7777777777777778,
              "#fb9f3a"
             ],
             [
              0.8888888888888888,
              "#fdca26"
             ],
             [
              1,
              "#f0f921"
             ]
            ],
            "type": "surface"
           }
          ],
          "table": [
           {
            "cells": {
             "fill": {
              "color": "#EBF0F8"
             },
             "line": {
              "color": "white"
             }
            },
            "header": {
             "fill": {
              "color": "#C8D4E3"
             },
             "line": {
              "color": "white"
             }
            },
            "type": "table"
           }
          ]
         },
         "layout": {
          "annotationdefaults": {
           "arrowcolor": "#2a3f5f",
           "arrowhead": 0,
           "arrowwidth": 1
          },
          "autotypenumbers": "strict",
          "coloraxis": {
           "colorbar": {
            "outlinewidth": 0,
            "ticks": ""
           }
          },
          "colorscale": {
           "diverging": [
            [
             0,
             "#8e0152"
            ],
            [
             0.1,
             "#c51b7d"
            ],
            [
             0.2,
             "#de77ae"
            ],
            [
             0.3,
             "#f1b6da"
            ],
            [
             0.4,
             "#fde0ef"
            ],
            [
             0.5,
             "#f7f7f7"
            ],
            [
             0.6,
             "#e6f5d0"
            ],
            [
             0.7,
             "#b8e186"
            ],
            [
             0.8,
             "#7fbc41"
            ],
            [
             0.9,
             "#4d9221"
            ],
            [
             1,
             "#276419"
            ]
           ],
           "sequential": [
            [
             0,
             "#0d0887"
            ],
            [
             0.1111111111111111,
             "#46039f"
            ],
            [
             0.2222222222222222,
             "#7201a8"
            ],
            [
             0.3333333333333333,
             "#9c179e"
            ],
            [
             0.4444444444444444,
             "#bd3786"
            ],
            [
             0.5555555555555556,
             "#d8576b"
            ],
            [
             0.6666666666666666,
             "#ed7953"
            ],
            [
             0.7777777777777778,
             "#fb9f3a"
            ],
            [
             0.8888888888888888,
             "#fdca26"
            ],
            [
             1,
             "#f0f921"
            ]
           ],
           "sequentialminus": [
            [
             0,
             "#0d0887"
            ],
            [
             0.1111111111111111,
             "#46039f"
            ],
            [
             0.2222222222222222,
             "#7201a8"
            ],
            [
             0.3333333333333333,
             "#9c179e"
            ],
            [
             0.4444444444444444,
             "#bd3786"
            ],
            [
             0.5555555555555556,
             "#d8576b"
            ],
            [
             0.6666666666666666,
             "#ed7953"
            ],
            [
             0.7777777777777778,
             "#fb9f3a"
            ],
            [
             0.8888888888888888,
             "#fdca26"
            ],
            [
             1,
             "#f0f921"
            ]
           ]
          },
          "colorway": [
           "#636efa",
           "#EF553B",
           "#00cc96",
           "#ab63fa",
           "#FFA15A",
           "#19d3f3",
           "#FF6692",
           "#B6E880",
           "#FF97FF",
           "#FECB52"
          ],
          "font": {
           "color": "#2a3f5f"
          },
          "geo": {
           "bgcolor": "white",
           "lakecolor": "white",
           "landcolor": "#E5ECF6",
           "showlakes": true,
           "showland": true,
           "subunitcolor": "white"
          },
          "hoverlabel": {
           "align": "left"
          },
          "hovermode": "closest",
          "mapbox": {
           "style": "light"
          },
          "paper_bgcolor": "white",
          "plot_bgcolor": "#E5ECF6",
          "polar": {
           "angularaxis": {
            "gridcolor": "white",
            "linecolor": "white",
            "ticks": ""
           },
           "bgcolor": "#E5ECF6",
           "radialaxis": {
            "gridcolor": "white",
            "linecolor": "white",
            "ticks": ""
           }
          },
          "scene": {
           "xaxis": {
            "backgroundcolor": "#E5ECF6",
            "gridcolor": "white",
            "gridwidth": 2,
            "linecolor": "white",
            "showbackground": true,
            "ticks": "",
            "zerolinecolor": "white"
           },
           "yaxis": {
            "backgroundcolor": "#E5ECF6",
            "gridcolor": "white",
            "gridwidth": 2,
            "linecolor": "white",
            "showbackground": true,
            "ticks": "",
            "zerolinecolor": "white"
           },
           "zaxis": {
            "backgroundcolor": "#E5ECF6",
            "gridcolor": "white",
            "gridwidth": 2,
            "linecolor": "white",
            "showbackground": true,
            "ticks": "",
            "zerolinecolor": "white"
           }
          },
          "shapedefaults": {
           "line": {
            "color": "#2a3f5f"
           }
          },
          "ternary": {
           "aaxis": {
            "gridcolor": "white",
            "linecolor": "white",
            "ticks": ""
           },
           "baxis": {
            "gridcolor": "white",
            "linecolor": "white",
            "ticks": ""
           },
           "bgcolor": "#E5ECF6",
           "caxis": {
            "gridcolor": "white",
            "linecolor": "white",
            "ticks": ""
           }
          },
          "title": {
           "x": 0.05
          },
          "xaxis": {
           "automargin": true,
           "gridcolor": "white",
           "linecolor": "white",
           "ticks": "",
           "title": {
            "standoff": 15
           },
           "zerolinecolor": "white",
           "zerolinewidth": 2
          },
          "yaxis": {
           "automargin": true,
           "gridcolor": "white",
           "linecolor": "white",
           "ticks": "",
           "title": {
            "standoff": 15
           },
           "zerolinecolor": "white",
           "zerolinewidth": 2
          }
         }
        },
        "title": {
         "font": {
          "color": "Black",
          "size": 22
         },
         "text": "<b>Similarity Matrix</b>",
         "x": 0.55,
         "xanchor": "center",
         "y": 0.95,
         "yanchor": "top"
        },
        "width": 800,
        "xaxis": {
         "anchor": "y",
         "constrain": "domain",
         "domain": [
          0,
          1
         ],
         "scaleanchor": "y"
        },
        "yaxis": {
         "anchor": "x",
         "autorange": "reversed",
         "constrain": "domain",
         "domain": [
          0,
          1
         ]
        }
       }
      },
      "text/html": [
       "<div>                        <script type=\"text/javascript\">window.PlotlyConfig = {MathJaxConfig: 'local'};</script>\n",
       "        <script charset=\"utf-8\" src=\"https://cdn.plot.ly/plotly-3.0.1.min.js\"></script>                <div id=\"2a3df4b1-070a-4ae1-8ff7-50d3cc152eaa\" class=\"plotly-graph-div\" style=\"height:800px; width:800px;\"></div>            <script type=\"text/javascript\">                window.PLOTLYENV=window.PLOTLYENV || {};                                if (document.getElementById(\"2a3df4b1-070a-4ae1-8ff7-50d3cc152eaa\")) {                    Plotly.newPlot(                        \"2a3df4b1-070a-4ae1-8ff7-50d3cc152eaa\",                        [{\"coloraxis\":\"coloraxis\",\"name\":\"0\",\"x\":[\"0_01_dukung_calon\",\"1_anies_baswedan_indonesia\",\"2_debat_calon_presiden\",\"3_politik_partai_demokrasi\",\"4_cak_imin_anies\",\"5_video_videotron_01\",\"6_twitter_media_berita\",\"7_pop_korea_02\",\"8_program_anies_01\",\"9_palestina_israel_merdeka\",\"10_respons_reply_respon\",\"11_viral_viralkan_ham\",\"12_data_luhut_cherry\",\"13_estate_food_tani\"],\"y\":[\"0_01_dukung_calon\",\"1_anies_baswedan_indonesia\",\"2_debat_calon_presiden\",\"3_politik_partai_demokrasi\",\"4_cak_imin_anies\",\"5_video_videotron_01\",\"6_twitter_media_berita\",\"7_pop_korea_02\",\"8_program_anies_01\",\"9_palestina_israel_merdeka\",\"10_respons_reply_respon\",\"11_viral_viralkan_ham\",\"12_data_luhut_cherry\",\"13_estate_food_tani\"],\"z\":{\"dtype\":\"f8\",\"bdata\":\"AAAAAAAA8D8WH80+jgTiP41pXejZYeY\\u002fAY+4Tr1v5T8eD7+t6TfiP3vBv1cYjuc\\u002f3o95hlnA6T+b57mwBeXqP7wy+P8jo+U\\u002fns5tt35P4T9oV3fUwLTkP7ygFmIsMOM\\u002fZoYOVXWw3j8vVVdvDJvbPxYfzT6OBOI\\u002fAQAAAAAA8D82Ctfx1Z\\u002fmP7iFZIJpSeg\\u002fHUf7wsIp6D+\\u002fNaeVHLzjPwStAoQSDuM\\u002fWLqN3PP\\u002f5j9pAvQyNHHiP\\u002f70eVVEz+Y\\u002fiM34b3YY4z\\u002fRtErUltfjP1rrbTdsBeU\\u002fZuv4jhls5T+NaV3o2WHmPzYK1\\u002fHVn+Y\\u002fAQAAAAAA8D8qyXu+XXDnPw\\u002f95mW3seE\\u002foa6LTdsr5T\\u002fJ6Ozr3rnmP2ZUfDprAec\\u002fBFAuzhsu4z9olGq9\\u002fbriP2xSkl32c+M\\u002f2Ghpu5Ej4j9yPGcOK27gPwiq+VOr6N8\\u002fAY+4Tr1v5T+4hWSCaUnoPyrJe75dcOc\\u002fAAAAAAAA8D+NNSzGwxLgP11G1+0Rn+M\\u002fLykBONTk5D\\u002fYm\\u002fZanN3lP\\u002f1kizPrq+M\\u002fsBTHW3U95D\\u002f8+I22NBPgP6wvLCSF4OE\\u002f+LlXjxYw3z8A9XoLnIfePx4Pv63pN+I\\u002fHUf7wsIp6D8P\\u002feZlt7HhP401LMbDEuA\\u002f+\\u002f\\u002f\\u002f\\u002f\\u002f\\u002f\\u002f7z8WipQU2dvgPzUWz4V3KOE\\u002fhmupp0TC5D\\u002fubz9N82nbP8huyi9BsN8\\u002fwOl6Q13C5T+45AR\\u002f7iziP3B2LIAD9OQ\\u002fybGSj1nt4z97wb9XGI7nP781p5UcvOM\\u002foa6LTdsr5T9dRtftEZ\\u002fjPxaKlBTZ2+A\\u002f\\u002fv\\u002f\\u002f\\u002f\\u002f\\u002f\\u002f7z8YBW5ebCDnPyDDOFBUt+c\\u002fepUTKW7l4j\\u002fZEkZYz6LhP4QRLRuwLeI\\u002fhuO0gJeK4z85fQU0E0DeP0wgl0xjet0\\u002f3o95hlnA6T8ErQKEEg7jP8no7OveueY\\u002fLykBONTk5D81Fs+FdyjhPxgFbl5sIOc\\u002f\\u002f\\u002f\\u002f\\u002f\\u002f\\u002f\\u002f\\u002f7z\\u002fAfbrzOnXoP20rZthf1uM\\u002frYss9JvB4T9Azg\\u002fcjcLjP7XFQACEf+M\\u002fN2Sztf7E3z+stZmqxCrdP5vnubAF5eo\\u002fWLqN3PP\\u002f5j9mVHw6awHnP9ib9lqc3eU\\u002fhmupp0TC5D8gwzhQVLfnP8B9uvM6deg\\u002f+P\\u002f\\u002f\\u002f\\u002f\\u002f\\u002f7z8pcM5h1sDkPyquRcQ0LOM\\u002f4Dd5IXoH5T+S1tMnrjXkPxFkRjNNbeI\\u002fm0IFvruk4T+8Mvj\\u002fI6PlP2kC9DI0ceI\\u002fBFAuzhsu4z\\u002f9ZIsz66vjP+5vP03zads\\u002fepUTKW7l4j9tK2bYX9bjPylwzmHWwOQ\\u002f\\u002ff\\u002f\\u002f\\u002f\\u002f\\u002f\\u002f7z\\u002fv\\u002fWdIMivgP4LN+GJgAt4\\u002fY3wjzBuJ4D8BnhOnZ+7cP0BZh2m6Xt8\\u002fns5tt35P4T\\u002f+9HlVRM\\u002fmP2iUar39uuI\\u002fsBTHW3U95D\\u002fIbsovQbDfP9kSRljPouE\\u002frYss9JvB4T8qrkXENCzjP+\\u002f9Z0gyK+A\\u002fAwAAAAAA8D+aRVWuImfdPx0PX4akZOA\\u002f8qjPJm8y3D+TM2Ftte7cP2hXd9TAtOQ\\u002fiM34b3YY4z9sUpJd9nPjP\\u002fz4jbY0E+A\\u002fwOl6Q13C5T+EES0bsC3iP0DOD9yNwuM\\u002f4Dd5IXoH5T+CzfhiYALeP5pFVa4iZ90\\u002f\\u002fP\\u002f\\u002f\\u002f\\u002f\\u002f\\u002f7z8UBLSIrKrhP\\u002fI06rzixeA\\u002fEUuJ3a054D+8oBZiLDDjP9G0StSW1+M\\u002f2Ghpu5Ej4j+sLywkheDhP7jkBH\\u002fuLOI\\u002fhuO0gJeK4z+1xUAAhH\\u002fjP5LW0yeuNeQ\\u002fY3wjzBuJ4D8dD1+GpGTgPxQEtIisquE\\u002f+f\\u002f\\u002f\\u002f\\u002f\\u002f\\u002f7z\\u002flMsqtmAPgPz8h6IIqU98\\u002fZoYOVXWw3j9a6203bAXlP3I8Zw4rbuA\\u002f+LlXjxYw3z9wdiyAA\\u002fTkPzl9BTQTQN4\\u002fN2Sztf7E3z8RZEYzTW3iPwGeE6dn7tw\\u002f8qjPJm8y3D\\u002fyNOq84sXgP+Uyyq2YA+A\\u002fBAAAAAAA8D8Y4Av1oxLhPy9VV28Mm9s\\u002fZuv4jhls5T8IqvlTq+jfPwD1eguch94\\u002fybGSj1nt4z9MIJdMY3rdP6y1marEKt0\\u002fm0IFvruk4T9AWYdpul7fP5MzYW217tw\\u002fEUuJ3a054D8\\u002fIeiCKlPfPxjgC\\u002fWjEuE\\u002fAgAAAAAA8D8=\",\"shape\":\"14, 14\"},\"type\":\"heatmap\",\"xaxis\":\"x\",\"yaxis\":\"y\",\"hovertemplate\":\"x: %{x}\\u003cbr\\u003ey: %{y}\\u003cbr\\u003eSimilarity Score: %{z}\\u003cextra\\u003e\\u003c\\u002fextra\\u003e\"}],                        {\"template\":{\"data\":{\"histogram2dcontour\":[{\"type\":\"histogram2dcontour\",\"colorbar\":{\"outlinewidth\":0,\"ticks\":\"\"},\"colorscale\":[[0.0,\"#0d0887\"],[0.1111111111111111,\"#46039f\"],[0.2222222222222222,\"#7201a8\"],[0.3333333333333333,\"#9c179e\"],[0.4444444444444444,\"#bd3786\"],[0.5555555555555556,\"#d8576b\"],[0.6666666666666666,\"#ed7953\"],[0.7777777777777778,\"#fb9f3a\"],[0.8888888888888888,\"#fdca26\"],[1.0,\"#f0f921\"]]}],\"choropleth\":[{\"type\":\"choropleth\",\"colorbar\":{\"outlinewidth\":0,\"ticks\":\"\"}}],\"histogram2d\":[{\"type\":\"histogram2d\",\"colorbar\":{\"outlinewidth\":0,\"ticks\":\"\"},\"colorscale\":[[0.0,\"#0d0887\"],[0.1111111111111111,\"#46039f\"],[0.2222222222222222,\"#7201a8\"],[0.3333333333333333,\"#9c179e\"],[0.4444444444444444,\"#bd3786\"],[0.5555555555555556,\"#d8576b\"],[0.6666666666666666,\"#ed7953\"],[0.7777777777777778,\"#fb9f3a\"],[0.8888888888888888,\"#fdca26\"],[1.0,\"#f0f921\"]]}],\"heatmap\":[{\"type\":\"heatmap\",\"colorbar\":{\"outlinewidth\":0,\"ticks\":\"\"},\"colorscale\":[[0.0,\"#0d0887\"],[0.1111111111111111,\"#46039f\"],[0.2222222222222222,\"#7201a8\"],[0.3333333333333333,\"#9c179e\"],[0.4444444444444444,\"#bd3786\"],[0.5555555555555556,\"#d8576b\"],[0.6666666666666666,\"#ed7953\"],[0.7777777777777778,\"#fb9f3a\"],[0.8888888888888888,\"#fdca26\"],[1.0,\"#f0f921\"]]}],\"contourcarpet\":[{\"type\":\"contourcarpet\",\"colorbar\":{\"outlinewidth\":0,\"ticks\":\"\"}}],\"contour\":[{\"type\":\"contour\",\"colorbar\":{\"outlinewidth\":0,\"ticks\":\"\"},\"colorscale\":[[0.0,\"#0d0887\"],[0.1111111111111111,\"#46039f\"],[0.2222222222222222,\"#7201a8\"],[0.3333333333333333,\"#9c179e\"],[0.4444444444444444,\"#bd3786\"],[0.5555555555555556,\"#d8576b\"],[0.6666666666666666,\"#ed7953\"],[0.7777777777777778,\"#fb9f3a\"],[0.8888888888888888,\"#fdca26\"],[1.0,\"#f0f921\"]]}],\"surface\":[{\"type\":\"surface\",\"colorbar\":{\"outlinewidth\":0,\"ticks\":\"\"},\"colorscale\":[[0.0,\"#0d0887\"],[0.1111111111111111,\"#46039f\"],[0.2222222222222222,\"#7201a8\"],[0.3333333333333333,\"#9c179e\"],[0.4444444444444444,\"#bd3786\"],[0.5555555555555556,\"#d8576b\"],[0.6666666666666666,\"#ed7953\"],[0.7777777777777778,\"#fb9f3a\"],[0.8888888888888888,\"#fdca26\"],[1.0,\"#f0f921\"]]}],\"mesh3d\":[{\"type\":\"mesh3d\",\"colorbar\":{\"outlinewidth\":0,\"ticks\":\"\"}}],\"scatter\":[{\"fillpattern\":{\"fillmode\":\"overlay\",\"size\":10,\"solidity\":0.2},\"type\":\"scatter\"}],\"parcoords\":[{\"type\":\"parcoords\",\"line\":{\"colorbar\":{\"outlinewidth\":0,\"ticks\":\"\"}}}],\"scatterpolargl\":[{\"type\":\"scatterpolargl\",\"marker\":{\"colorbar\":{\"outlinewidth\":0,\"ticks\":\"\"}}}],\"bar\":[{\"error_x\":{\"color\":\"#2a3f5f\"},\"error_y\":{\"color\":\"#2a3f5f\"},\"marker\":{\"line\":{\"color\":\"#E5ECF6\",\"width\":0.5},\"pattern\":{\"fillmode\":\"overlay\",\"size\":10,\"solidity\":0.2}},\"type\":\"bar\"}],\"scattergeo\":[{\"type\":\"scattergeo\",\"marker\":{\"colorbar\":{\"outlinewidth\":0,\"ticks\":\"\"}}}],\"scatterpolar\":[{\"type\":\"scatterpolar\",\"marker\":{\"colorbar\":{\"outlinewidth\":0,\"ticks\":\"\"}}}],\"histogram\":[{\"marker\":{\"pattern\":{\"fillmode\":\"overlay\",\"size\":10,\"solidity\":0.2}},\"type\":\"histogram\"}],\"scattergl\":[{\"type\":\"scattergl\",\"marker\":{\"colorbar\":{\"outlinewidth\":0,\"ticks\":\"\"}}}],\"scatter3d\":[{\"type\":\"scatter3d\",\"line\":{\"colorbar\":{\"outlinewidth\":0,\"ticks\":\"\"}},\"marker\":{\"colorbar\":{\"outlinewidth\":0,\"ticks\":\"\"}}}],\"scattermap\":[{\"type\":\"scattermap\",\"marker\":{\"colorbar\":{\"outlinewidth\":0,\"ticks\":\"\"}}}],\"scattermapbox\":[{\"type\":\"scattermapbox\",\"marker\":{\"colorbar\":{\"outlinewidth\":0,\"ticks\":\"\"}}}],\"scatterternary\":[{\"type\":\"scatterternary\",\"marker\":{\"colorbar\":{\"outlinewidth\":0,\"ticks\":\"\"}}}],\"scattercarpet\":[{\"type\":\"scattercarpet\",\"marker\":{\"colorbar\":{\"outlinewidth\":0,\"ticks\":\"\"}}}],\"carpet\":[{\"aaxis\":{\"endlinecolor\":\"#2a3f5f\",\"gridcolor\":\"white\",\"linecolor\":\"white\",\"minorgridcolor\":\"white\",\"startlinecolor\":\"#2a3f5f\"},\"baxis\":{\"endlinecolor\":\"#2a3f5f\",\"gridcolor\":\"white\",\"linecolor\":\"white\",\"minorgridcolor\":\"white\",\"startlinecolor\":\"#2a3f5f\"},\"type\":\"carpet\"}],\"table\":[{\"cells\":{\"fill\":{\"color\":\"#EBF0F8\"},\"line\":{\"color\":\"white\"}},\"header\":{\"fill\":{\"color\":\"#C8D4E3\"},\"line\":{\"color\":\"white\"}},\"type\":\"table\"}],\"barpolar\":[{\"marker\":{\"line\":{\"color\":\"#E5ECF6\",\"width\":0.5},\"pattern\":{\"fillmode\":\"overlay\",\"size\":10,\"solidity\":0.2}},\"type\":\"barpolar\"}],\"pie\":[{\"automargin\":true,\"type\":\"pie\"}]},\"layout\":{\"autotypenumbers\":\"strict\",\"colorway\":[\"#636efa\",\"#EF553B\",\"#00cc96\",\"#ab63fa\",\"#FFA15A\",\"#19d3f3\",\"#FF6692\",\"#B6E880\",\"#FF97FF\",\"#FECB52\"],\"font\":{\"color\":\"#2a3f5f\"},\"hovermode\":\"closest\",\"hoverlabel\":{\"align\":\"left\"},\"paper_bgcolor\":\"white\",\"plot_bgcolor\":\"#E5ECF6\",\"polar\":{\"bgcolor\":\"#E5ECF6\",\"angularaxis\":{\"gridcolor\":\"white\",\"linecolor\":\"white\",\"ticks\":\"\"},\"radialaxis\":{\"gridcolor\":\"white\",\"linecolor\":\"white\",\"ticks\":\"\"}},\"ternary\":{\"bgcolor\":\"#E5ECF6\",\"aaxis\":{\"gridcolor\":\"white\",\"linecolor\":\"white\",\"ticks\":\"\"},\"baxis\":{\"gridcolor\":\"white\",\"linecolor\":\"white\",\"ticks\":\"\"},\"caxis\":{\"gridcolor\":\"white\",\"linecolor\":\"white\",\"ticks\":\"\"}},\"coloraxis\":{\"colorbar\":{\"outlinewidth\":0,\"ticks\":\"\"}},\"colorscale\":{\"sequential\":[[0.0,\"#0d0887\"],[0.1111111111111111,\"#46039f\"],[0.2222222222222222,\"#7201a8\"],[0.3333333333333333,\"#9c179e\"],[0.4444444444444444,\"#bd3786\"],[0.5555555555555556,\"#d8576b\"],[0.6666666666666666,\"#ed7953\"],[0.7777777777777778,\"#fb9f3a\"],[0.8888888888888888,\"#fdca26\"],[1.0,\"#f0f921\"]],\"sequentialminus\":[[0.0,\"#0d0887\"],[0.1111111111111111,\"#46039f\"],[0.2222222222222222,\"#7201a8\"],[0.3333333333333333,\"#9c179e\"],[0.4444444444444444,\"#bd3786\"],[0.5555555555555556,\"#d8576b\"],[0.6666666666666666,\"#ed7953\"],[0.7777777777777778,\"#fb9f3a\"],[0.8888888888888888,\"#fdca26\"],[1.0,\"#f0f921\"]],\"diverging\":[[0,\"#8e0152\"],[0.1,\"#c51b7d\"],[0.2,\"#de77ae\"],[0.3,\"#f1b6da\"],[0.4,\"#fde0ef\"],[0.5,\"#f7f7f7\"],[0.6,\"#e6f5d0\"],[0.7,\"#b8e186\"],[0.8,\"#7fbc41\"],[0.9,\"#4d9221\"],[1,\"#276419\"]]},\"xaxis\":{\"gridcolor\":\"white\",\"linecolor\":\"white\",\"ticks\":\"\",\"title\":{\"standoff\":15},\"zerolinecolor\":\"white\",\"automargin\":true,\"zerolinewidth\":2},\"yaxis\":{\"gridcolor\":\"white\",\"linecolor\":\"white\",\"ticks\":\"\",\"title\":{\"standoff\":15},\"zerolinecolor\":\"white\",\"automargin\":true,\"zerolinewidth\":2},\"scene\":{\"xaxis\":{\"backgroundcolor\":\"#E5ECF6\",\"gridcolor\":\"white\",\"linecolor\":\"white\",\"showbackground\":true,\"ticks\":\"\",\"zerolinecolor\":\"white\",\"gridwidth\":2},\"yaxis\":{\"backgroundcolor\":\"#E5ECF6\",\"gridcolor\":\"white\",\"linecolor\":\"white\",\"showbackground\":true,\"ticks\":\"\",\"zerolinecolor\":\"white\",\"gridwidth\":2},\"zaxis\":{\"backgroundcolor\":\"#E5ECF6\",\"gridcolor\":\"white\",\"linecolor\":\"white\",\"showbackground\":true,\"ticks\":\"\",\"zerolinecolor\":\"white\",\"gridwidth\":2}},\"shapedefaults\":{\"line\":{\"color\":\"#2a3f5f\"}},\"annotationdefaults\":{\"arrowcolor\":\"#2a3f5f\",\"arrowhead\":0,\"arrowwidth\":1},\"geo\":{\"bgcolor\":\"white\",\"landcolor\":\"#E5ECF6\",\"subunitcolor\":\"white\",\"showland\":true,\"showlakes\":true,\"lakecolor\":\"white\"},\"title\":{\"x\":0.05},\"mapbox\":{\"style\":\"light\"}}},\"xaxis\":{\"anchor\":\"y\",\"domain\":[0.0,1.0],\"scaleanchor\":\"y\",\"constrain\":\"domain\"},\"yaxis\":{\"anchor\":\"x\",\"domain\":[0.0,1.0],\"autorange\":\"reversed\",\"constrain\":\"domain\"},\"coloraxis\":{\"colorbar\":{\"title\":{\"text\":\"Similarity Score\"}},\"colorscale\":[[0.0,\"rgb(247,252,240)\"],[0.125,\"rgb(224,243,219)\"],[0.25,\"rgb(204,235,197)\"],[0.375,\"rgb(168,221,181)\"],[0.5,\"rgb(123,204,196)\"],[0.625,\"rgb(78,179,211)\"],[0.75,\"rgb(43,140,190)\"],[0.875,\"rgb(8,104,172)\"],[1.0,\"rgb(8,64,129)\"]]},\"margin\":{\"t\":60},\"title\":{\"font\":{\"size\":22,\"color\":\"Black\"},\"text\":\"\\u003cb\\u003eSimilarity Matrix\\u003c\\u002fb\\u003e\",\"y\":0.95,\"x\":0.55,\"xanchor\":\"center\",\"yanchor\":\"top\"},\"hoverlabel\":{\"font\":{\"size\":16,\"family\":\"Rockwell\"},\"bgcolor\":\"white\"},\"width\":800,\"height\":800,\"showlegend\":true,\"legend\":{\"title\":{\"text\":\"Trend\"}}},                        {\"responsive\": true}                    )                };            </script>        </div>"
      ],
      "text/plain": [
       "Figure({\n",
       "    'data': [{'coloraxis': 'coloraxis',\n",
       "              'hovertemplate': 'x: %{x}<br>y: %{y}<br>Similarity Score: %{z}<extra></extra>',\n",
       "              'name': '0',\n",
       "              'type': 'heatmap',\n",
       "              'x': [0_01_dukung_calon, 1_anies_baswedan_indonesia,\n",
       "                    2_debat_calon_presiden, 3_politik_partai_demokrasi,\n",
       "                    4_cak_imin_anies, 5_video_videotron_01, 6_twitter_media_berita,\n",
       "                    7_pop_korea_02, 8_program_anies_01, 9_palestina_israel_merdeka,\n",
       "                    10_respons_reply_respon, 11_viral_viralkan_ham,\n",
       "                    12_data_luhut_cherry, 13_estate_food_tani],\n",
       "              'xaxis': 'x',\n",
       "              'y': [0_01_dukung_calon, 1_anies_baswedan_indonesia,\n",
       "                    2_debat_calon_presiden, 3_politik_partai_demokrasi,\n",
       "                    4_cak_imin_anies, 5_video_videotron_01, 6_twitter_media_berita,\n",
       "                    7_pop_korea_02, 8_program_anies_01, 9_palestina_israel_merdeka,\n",
       "                    10_respons_reply_respon, 11_viral_viralkan_ham,\n",
       "                    12_data_luhut_cherry, 13_estate_food_tani],\n",
       "              'yaxis': 'y',\n",
       "              'z': {'bdata': ('AAAAAAAA8D8WH80+jgTiP41pXejZYe' ... 'iCKlPfPxjgC/WjEuE/AgAAAAAA8D8='),\n",
       "                    'dtype': 'f8',\n",
       "                    'shape': '14, 14'}}],\n",
       "    'layout': {'coloraxis': {'colorbar': {'title': {'text': 'Similarity Score'}},\n",
       "                             'colorscale': [[0.0, 'rgb(247,252,240)'], [0.125,\n",
       "                                            'rgb(224,243,219)'], [0.25,\n",
       "                                            'rgb(204,235,197)'], [0.375,\n",
       "                                            'rgb(168,221,181)'], [0.5,\n",
       "                                            'rgb(123,204,196)'], [0.625,\n",
       "                                            'rgb(78,179,211)'], [0.75,\n",
       "                                            'rgb(43,140,190)'], [0.875,\n",
       "                                            'rgb(8,104,172)'], [1.0,\n",
       "                                            'rgb(8,64,129)']]},\n",
       "               'height': 800,\n",
       "               'hoverlabel': {'bgcolor': 'white', 'font': {'family': 'Rockwell', 'size': 16}},\n",
       "               'legend': {'title': {'text': 'Trend'}},\n",
       "               'margin': {'t': 60},\n",
       "               'showlegend': True,\n",
       "               'template': '...',\n",
       "               'title': {'font': {'color': 'Black', 'size': 22},\n",
       "                         'text': '<b>Similarity Matrix</b>',\n",
       "                         'x': 0.55,\n",
       "                         'xanchor': 'center',\n",
       "                         'y': 0.95,\n",
       "                         'yanchor': 'top'},\n",
       "               'width': 800,\n",
       "               'xaxis': {'anchor': 'y', 'constrain': 'domain', 'domain': [0.0, 1.0], 'scaleanchor': 'y'},\n",
       "               'yaxis': {'anchor': 'x', 'autorange': 'reversed', 'constrain': 'domain', 'domain': [0.0, 1.0]}}\n",
       "})"
      ]
     },
     "execution_count": 9,
     "metadata": {},
     "output_type": "execute_result"
    }
   ],
   "source": [
    "# Topic summary table\n",
    "topic_info = topic_model_hdbscan.get_topic_info()\n",
    "print(topic_info)\n",
    "\n",
    "# Interactive visualizations\n",
    "topic_model_hdbscan.visualize_topics()\n",
    "topic_model_hdbscan.visualize_barchart(top_n_topics=15)\n",
    "topic_model_hdbscan.visualize_heatmap()\n"
   ]
  },
  {
   "cell_type": "code",
   "execution_count": 10,
   "id": "f8de4afc",
   "metadata": {},
   "outputs": [
    {
     "data": {
      "text/html": [
       "<div>\n",
       "<style scoped>\n",
       "    .dataframe tbody tr th:only-of-type {\n",
       "        vertical-align: middle;\n",
       "    }\n",
       "\n",
       "    .dataframe tbody tr th {\n",
       "        vertical-align: top;\n",
       "    }\n",
       "\n",
       "    .dataframe thead th {\n",
       "        text-align: right;\n",
       "    }\n",
       "</style>\n",
       "<table border=\"1\" class=\"dataframe\">\n",
       "  <thead>\n",
       "    <tr style=\"text-align: right;\">\n",
       "      <th></th>\n",
       "      <th>Topic</th>\n",
       "      <th>Count</th>\n",
       "      <th>Name</th>\n",
       "      <th>Representation</th>\n",
       "      <th>Representative_Docs</th>\n",
       "    </tr>\n",
       "  </thead>\n",
       "  <tbody>\n",
       "    <tr>\n",
       "      <th>0</th>\n",
       "      <td>-1</td>\n",
       "      <td>9870</td>\n",
       "      <td>-1_01_anies_dukung_imin</td>\n",
       "      <td>[01, anies, dukung, imin, cak, pilih, calon, o...</td>\n",
       "      <td>[presiden terima kasih tingkat standar kampany...</td>\n",
       "    </tr>\n",
       "    <tr>\n",
       "      <th>1</th>\n",
       "      <td>0</td>\n",
       "      <td>10382</td>\n",
       "      <td>0_01_dukung_calon_pilih</td>\n",
       "      <td>[01, dukung, calon, pilih, pasang, orang, mena...</td>\n",
       "      <td>[asli haru banget rakyat indonesia jalan jis d...</td>\n",
       "    </tr>\n",
       "    <tr>\n",
       "      <th>2</th>\n",
       "      <td>1</td>\n",
       "      <td>2979</td>\n",
       "      <td>1_anies_baswedan_indonesia_presiden</td>\n",
       "      <td>[anies, baswedan, indonesia, presiden, rasyid,...</td>\n",
       "      <td>[semangat indonesia milik pimpin rakyat anies ...</td>\n",
       "    </tr>\n",
       "    <tr>\n",
       "      <th>3</th>\n",
       "      <td>2</td>\n",
       "      <td>1680</td>\n",
       "      <td>2_debat_calon_presiden_kritik</td>\n",
       "      <td>[debat, calon, presiden, kritik, cak, imin, an...</td>\n",
       "      <td>[bukti debat calon wakil presiden cak imin huj...</td>\n",
       "    </tr>\n",
       "    <tr>\n",
       "      <th>4</th>\n",
       "      <td>3</td>\n",
       "      <td>1544</td>\n",
       "      <td>3_politik_partai_demokrasi_demokrat</td>\n",
       "      <td>[politik, partai, demokrasi, demokrat, anies, ...</td>\n",
       "      <td>[ketua partai pegang partai demokrasi indonesi...</td>\n",
       "    </tr>\n",
       "  </tbody>\n",
       "</table>\n",
       "</div>"
      ],
      "text/plain": [
       "   Topic  Count                                 Name  \\\n",
       "0     -1   9870              -1_01_anies_dukung_imin   \n",
       "1      0  10382              0_01_dukung_calon_pilih   \n",
       "2      1   2979  1_anies_baswedan_indonesia_presiden   \n",
       "3      2   1680        2_debat_calon_presiden_kritik   \n",
       "4      3   1544  3_politik_partai_demokrasi_demokrat   \n",
       "\n",
       "                                      Representation  \\\n",
       "0  [01, anies, dukung, imin, cak, pilih, calon, o...   \n",
       "1  [01, dukung, calon, pilih, pasang, orang, mena...   \n",
       "2  [anies, baswedan, indonesia, presiden, rasyid,...   \n",
       "3  [debat, calon, presiden, kritik, cak, imin, an...   \n",
       "4  [politik, partai, demokrasi, demokrat, anies, ...   \n",
       "\n",
       "                                 Representative_Docs  \n",
       "0  [presiden terima kasih tingkat standar kampany...  \n",
       "1  [asli haru banget rakyat indonesia jalan jis d...  \n",
       "2  [semangat indonesia milik pimpin rakyat anies ...  \n",
       "3  [bukti debat calon wakil presiden cak imin huj...  \n",
       "4  [ketua partai pegang partai demokrasi indonesi...  "
      ]
     },
     "metadata": {},
     "output_type": "display_data"
    }
   ],
   "source": [
    "topic_info = topic_model_hdbscan.get_topic_info()\n",
    "display(topic_info.head())        "
   ]
  },
  {
   "cell_type": "code",
   "execution_count": 11,
   "id": "c8335c1c",
   "metadata": {},
   "outputs": [
    {
     "name": "stdout",
     "output_type": "stream",
     "text": [
      "\n",
      "Topic -1\n",
      "[('01', np.float64(0.044657594563075206)), ('anies', np.float64(0.03835662477102073)), ('dukung', np.float64(0.030574327089240915)), ('imin', np.float64(0.03004313859230322)), ('cak', np.float64(0.02951789471657971)), ('pilih', np.float64(0.02753467247489603)), ('calon', np.float64(0.019261171367582337)), ('orang', np.float64(0.01917101292149584)), ('amin', np.float64(0.018896133234297143)), ('presiden', np.float64(0.018584025074659095))]\n",
      "\n",
      "Topic 0\n",
      "[('01', np.float64(0.07526216246939593)), ('dukung', np.float64(0.03685685200245356)), ('calon', np.float64(0.03114196267161134)), ('pilih', np.float64(0.030023127656557364)), ('pasang', np.float64(0.023760180007082594)), ('orang', np.float64(0.023725092252510106)), ('menang', np.float64(0.023707664677412584)), ('presiden', np.float64(0.0216531265469141)), ('kayak', np.float64(0.01854468703828625)), ('banget', np.float64(0.017949223351798608))]\n",
      "\n",
      "Topic 1\n",
      "[('anies', np.float64(0.07736698961806611)), ('baswedan', np.float64(0.051277017033815604)), ('indonesia', np.float64(0.04479280836859906)), ('presiden', np.float64(0.044054403115467766)), ('rasyid', np.float64(0.035753176114900434)), ('amin', np.float64(0.031929569932750604)), ('imin', np.float64(0.03145666121890777)), ('pilih', np.float64(0.030868061753042873)), ('cak', np.float64(0.029510409118243822)), ('menang', np.float64(0.024529165986468843))]\n",
      "\n",
      "Topic 2\n",
      "[('debat', np.float64(0.15518779799959745)), ('calon', np.float64(0.05036659175520543)), ('presiden', np.float64(0.04946925405172401)), ('kritik', np.float64(0.04043516637867505)), ('cak', np.float64(0.037076475442499104)), ('imin', np.float64(0.03700110987384786)), ('anies', np.float64(0.03146177481842551)), ('wakil', np.float64(0.030858418717841955)), ('01', np.float64(0.028750544058256423)), ('dialog', np.float64(0.02540952665281677))]\n",
      "\n",
      "Topic 3\n",
      "[('politik', np.float64(0.09945397119401872)), ('partai', np.float64(0.06692683678323613)), ('demokrasi', np.float64(0.06536519660787031)), ('demokrat', np.float64(0.046950233258083146)), ('anies', np.float64(0.033890981258221924)), ('pilih', np.float64(0.03337835338892789)), ('indonesia', np.float64(0.03306375444518484)), ('nasional', np.float64(0.03041691918386999)), ('identitas', np.float64(0.028296752646956764)), ('calon', np.float64(0.027731109530590558))]\n",
      "\n",
      "Topic 4\n",
      "[('cak', np.float64(0.16369516725450667)), ('imin', np.float64(0.15677817054481694)), ('anies', np.float64(0.08869856060771668)), ('kayak', np.float64(0.04693644859085059)), ('baswedan', np.float64(0.04194256966534039)), ('rasyid', np.float64(0.03875755114922433)), ('banget', np.float64(0.02981029838216121)), ('malam', np.float64(0.02622786734508201)), ('live', np.float64(0.019076254494197892)), ('lihat', np.float64(0.01832749338672126))]\n",
      "\n",
      "Topic 5\n",
      "[('video', np.float64(0.21046602800961872)), ('videotron', np.float64(0.06464676907702938)), ('01', np.float64(0.04164887345158831)), ('film', np.float64(0.0399049505024794)), ('lihat', np.float64(0.03190479406560084)), ('anies', np.float64(0.02857775051767842)), ('dukung', np.float64(0.024478803787917)), ('tonton', np.float64(0.022043898574312062)), ('cak', np.float64(0.021106815738990033)), ('tiktok', np.float64(0.021011006025216338))]\n",
      "\n",
      "Topic 6\n",
      "[('twitter', np.float64(0.15277279301519336)), ('media', np.float64(0.13292372490016924)), ('berita', np.float64(0.1218512291082741)), ('sosial', np.float64(0.090647934424987)), ('01', np.float64(0.0517274130479069)), ('dukung', np.float64(0.032605839350324566)), ('tiktok', np.float64(0.026438784243119007)), ('banget', np.float64(0.0237878927190659)), ('orang', np.float64(0.02362644635080534)), ('bohong', np.float64(0.021797633086637142))]\n",
      "\n",
      "Topic 7\n",
      "[('pop', np.float64(0.08831509434175118)), ('korea', np.float64(0.0881317802383488)), ('02', np.float64(0.03974463342414818)), ('konsep', np.float64(0.03698839441889758)), ('01', np.float64(0.03641796956802721)), ('dukung', np.float64(0.03585331190157271)), ('kpopers', np.float64(0.033143791063867056)), ('imin', np.float64(0.03146715989529798)), ('cak', np.float64(0.03133754203344233)), ('anies', np.float64(0.030870192920138383))]\n",
      "\n",
      "Topic 8\n",
      "[('program', np.float64(0.32424287308379407)), ('anies', np.float64(0.03540574914172636)), ('01', np.float64(0.03517514873314871)), ('misi', np.float64(0.033138906225657634)), ('visi', np.float64(0.03174163684411913)), ('kerja', np.float64(0.028565643309124228)), ('bagus', np.float64(0.026118787497782972)), ('gratis', np.float64(0.023908525225071968)), ('pasang', np.float64(0.021841189134193563)), ('rakyat', np.float64(0.02128567199700275))]\n",
      "\n",
      "Topic 9\n",
      "[('palestina', np.float64(0.37298414611003267)), ('israel', np.float64(0.11138288323278091)), ('merdeka', np.float64(0.08221582126421204)), ('bela', np.float64(0.0645374700737082)), ('aksi', np.float64(0.06402722035406347)), ('free', np.float64(0.04827750818802636)), ('anies', np.float64(0.04784274909816792)), ('baswedan', np.float64(0.04305147651893729)), ('amerika', np.float64(0.03694621108769974)), ('monas', np.float64(0.0351417071151328))]\n",
      "\n",
      "Topic 10\n",
      "[('respons', np.float64(0.21705561433255477)), ('reply', np.float64(0.19272768340421353)), ('respon', np.float64(0.1326789967736034)), ('cak', np.float64(0.11270643888196566)), ('imin', np.float64(0.1105709442533717)), ('reaksi', np.float64(0.08741313291015189)), ('positif', np.float64(0.07020324595364248)), ('twit', np.float64(0.059298971725009794)), ('dukung', np.float64(0.04317789001479804)), ('anies', np.float64(0.03601975681056468))]\n",
      "\n",
      "Topic 11\n",
      "[('viral', np.float64(0.2976944315217221)), ('viralkan', np.float64(0.15008641050941268)), ('ham', np.float64(0.04559852861284964)), ('virus', np.float64(0.04331595323730282)), ('anies', np.float64(0.039941778796076896)), ('vaccine', np.float64(0.030187225643050746)), ('01', np.float64(0.02992823640192513)), ('baswedan', np.float64(0.02978682765047711)), ('mandatory', np.float64(0.028877302158201883)), ('cak', np.float64(0.02840420753729668))]\n",
      "\n",
      "Topic 12\n",
      "[('data', np.float64(0.40599292663745434)), ('luhut', np.float64(0.0944728929023692)), ('cherry', np.float64(0.08990864049639229)), ('tambang', np.float64(0.08865377404409917)), ('cak', np.float64(0.08443431523021835)), ('imin', np.float64(0.08283450399998356)), ('adu', np.float64(0.07204062144203453)), ('picking', np.float64(0.06986872198764314)), ('salah', np.float64(0.06185445045246241)), ('anies', np.float64(0.0603178300488778))]\n",
      "\n",
      "Topic 13\n",
      "[('estate', np.float64(0.5863548580127951)), ('food', np.float64(0.5686758629529353)), ('tani', np.float64(0.162015842680717)), ('blak', np.float64(0.13234115114718867)), ('imin', np.float64(0.1277708689150073)), ('cak', np.float64(0.11395873264732083)), ('gagal', np.float64(0.09471810512642559)), ('henti', np.float64(0.07806657867240098)), ('jagung', np.float64(0.07491113237586407)), ('anggar', np.float64(0.07481435343884173))]\n"
     ]
    }
   ],
   "source": [
    "for tid in topic_info['Topic'][:15]:   # first 10 topics\n",
    "    print(f\"\\nTopic {tid}\")\n",
    "    print(topic_model_hdbscan.get_topic(tid)[:15])  # top-15 words\n"
   ]
  },
  {
   "cell_type": "code",
   "execution_count": 12,
   "id": "6ef6decf",
   "metadata": {},
   "outputs": [
    {
     "ename": "ValueError",
     "evalue": "Mime type rendering requires nbformat>=4.2.0 but it is not installed",
     "output_type": "error",
     "traceback": [
      "\u001b[1;31m---------------------------------------------------------------------------\u001b[0m",
      "\u001b[1;31mValueError\u001b[0m                                Traceback (most recent call last)",
      "File \u001b[1;32m~\\AppData\\Roaming\\Python\\Python310\\site-packages\\IPython\\core\\formatters.py:925\u001b[0m, in \u001b[0;36mIPythonDisplayFormatter.__call__\u001b[1;34m(self, obj)\u001b[0m\n\u001b[0;32m    923\u001b[0m method \u001b[38;5;241m=\u001b[39m get_real_method(obj, \u001b[38;5;28mself\u001b[39m\u001b[38;5;241m.\u001b[39mprint_method)\n\u001b[0;32m    924\u001b[0m \u001b[38;5;28;01mif\u001b[39;00m method \u001b[38;5;129;01mis\u001b[39;00m \u001b[38;5;129;01mnot\u001b[39;00m \u001b[38;5;28;01mNone\u001b[39;00m:\n\u001b[1;32m--> 925\u001b[0m     \u001b[43mmethod\u001b[49m\u001b[43m(\u001b[49m\u001b[43m)\u001b[49m\n\u001b[0;32m    926\u001b[0m     \u001b[38;5;28;01mreturn\u001b[39;00m \u001b[38;5;28;01mTrue\u001b[39;00m\n",
      "File \u001b[1;32mc:\\Users\\PC\\AppData\\Local\\Programs\\Python\\Python310\\lib\\site-packages\\plotly\\basedatatypes.py:846\u001b[0m, in \u001b[0;36mBaseFigure._ipython_display_\u001b[1;34m(self)\u001b[0m\n\u001b[0;32m    843\u001b[0m \u001b[38;5;28;01mimport\u001b[39;00m \u001b[38;5;21;01mplotly\u001b[39;00m\u001b[38;5;21;01m.\u001b[39;00m\u001b[38;5;21;01mio\u001b[39;00m \u001b[38;5;28;01mas\u001b[39;00m \u001b[38;5;21;01mpio\u001b[39;00m\n\u001b[0;32m    845\u001b[0m \u001b[38;5;28;01mif\u001b[39;00m pio\u001b[38;5;241m.\u001b[39mrenderers\u001b[38;5;241m.\u001b[39mrender_on_display \u001b[38;5;129;01mand\u001b[39;00m pio\u001b[38;5;241m.\u001b[39mrenderers\u001b[38;5;241m.\u001b[39mdefault:\n\u001b[1;32m--> 846\u001b[0m     \u001b[43mpio\u001b[49m\u001b[38;5;241;43m.\u001b[39;49m\u001b[43mshow\u001b[49m\u001b[43m(\u001b[49m\u001b[38;5;28;43mself\u001b[39;49m\u001b[43m)\u001b[49m\n\u001b[0;32m    847\u001b[0m \u001b[38;5;28;01melse\u001b[39;00m:\n\u001b[0;32m    848\u001b[0m     \u001b[38;5;28mprint\u001b[39m(\u001b[38;5;28mrepr\u001b[39m(\u001b[38;5;28mself\u001b[39m))\n",
      "File \u001b[1;32mc:\\Users\\PC\\AppData\\Local\\Programs\\Python\\Python310\\lib\\site-packages\\plotly\\io\\_renderers.py:425\u001b[0m, in \u001b[0;36mshow\u001b[1;34m(fig, renderer, validate, **kwargs)\u001b[0m\n\u001b[0;32m    420\u001b[0m     \u001b[38;5;28;01mraise\u001b[39;00m \u001b[38;5;167;01mValueError\u001b[39;00m(\n\u001b[0;32m    421\u001b[0m         \u001b[38;5;124m\"\u001b[39m\u001b[38;5;124mMime type rendering requires ipython but it is not installed\u001b[39m\u001b[38;5;124m\"\u001b[39m\n\u001b[0;32m    422\u001b[0m     )\n\u001b[0;32m    424\u001b[0m \u001b[38;5;28;01mif\u001b[39;00m \u001b[38;5;129;01mnot\u001b[39;00m nbformat \u001b[38;5;129;01mor\u001b[39;00m Version(nbformat\u001b[38;5;241m.\u001b[39m__version__) \u001b[38;5;241m<\u001b[39m Version(\u001b[38;5;124m\"\u001b[39m\u001b[38;5;124m4.2.0\u001b[39m\u001b[38;5;124m\"\u001b[39m):\n\u001b[1;32m--> 425\u001b[0m     \u001b[38;5;28;01mraise\u001b[39;00m \u001b[38;5;167;01mValueError\u001b[39;00m(\n\u001b[0;32m    426\u001b[0m         \u001b[38;5;124m\"\u001b[39m\u001b[38;5;124mMime type rendering requires nbformat>=4.2.0 but it is not installed\u001b[39m\u001b[38;5;124m\"\u001b[39m\n\u001b[0;32m    427\u001b[0m     )\n\u001b[0;32m    429\u001b[0m display_jupyter_version_warnings()\n\u001b[0;32m    431\u001b[0m ipython_display\u001b[38;5;241m.\u001b[39mdisplay(bundle, raw\u001b[38;5;241m=\u001b[39m\u001b[38;5;28;01mTrue\u001b[39;00m)\n",
      "\u001b[1;31mValueError\u001b[0m: Mime type rendering requires nbformat>=4.2.0 but it is not installed"
     ]
    },
    {
     "data": {
      "application/vnd.plotly.v1+json": {
       "config": {
        "plotlyServerURL": "https://plot.ly"
       },
       "data": [
        {
         "customdata": [
          [
           0,
           "01 | dukung | calon | pilih | pasang",
           10382
          ],
          [
           1,
           "anies | baswedan | indonesia | presiden | rasyid",
           2979
          ],
          [
           2,
           "debat | calon | presiden | kritik | cak",
           1680
          ],
          [
           3,
           "politik | partai | demokrasi | demokrat | anies",
           1544
          ],
          [
           4,
           "cak | imin | anies | kayak | baswedan",
           1514
          ],
          [
           5,
           "video | videotron | 01 | film | lihat",
           559
          ],
          [
           6,
           "twitter | media | berita | sosial | 01",
           433
          ],
          [
           7,
           "pop | korea | 02 | konsep | 01",
           358
          ],
          [
           8,
           "program | anies | 01 | misi | visi",
           233
          ],
          [
           9,
           "palestina | israel | merdeka | bela | aksi",
           152
          ],
          [
           10,
           "respons | reply | respon | cak | imin",
           52
          ],
          [
           11,
           "viral | viralkan | ham | virus | anies",
           51
          ],
          [
           12,
           "data | luhut | cherry | tambang | cak",
           33
          ],
          [
           13,
           "estate | food | tani | blak | imin",
           21
          ]
         ],
         "hovertemplate": "<b>Topic %{customdata[0]}</b><br>%{customdata[1]}<br>Size: %{customdata[2]}",
         "legendgroup": "",
         "marker": {
          "color": "#B0BEC5",
          "line": {
           "color": "DarkSlateGrey",
           "width": 2
          },
          "size": {
           "bdata": "jiijC5AGCAbqBS8CsQFmAekAmAA0ADMAIQAVAA==",
           "dtype": "i2"
          },
          "sizemode": "area",
          "sizeref": 6.48875,
          "symbol": "circle"
         },
         "mode": "markers",
         "name": "",
         "orientation": "v",
         "showlegend": false,
         "type": "scatter",
         "x": {
          "bdata": "9xmgQYKJ7L/Vz4i/1SfJv6d+aL+52KRBJE+dQRbNoUEIs5tB0siwvxpfLr82qaVBkWSmvz15BsA=",
          "dtype": "f4"
         },
         "xaxis": "x",
         "y": {
          "bdata": "dlP3wMq060DKIwVBdb0AQUGTw0Db2fvAaHDswOGlBcEMQADBRPHgQImRvkBzNArBJ2ztQOZI3EA=",
          "dtype": "f4"
         },
         "yaxis": "y"
        }
       ],
       "layout": {
        "annotations": [
         {
          "showarrow": false,
          "text": "D1",
          "x": -2.4163222312927246,
          "y": -0.18202590942382812,
          "yshift": 10
         },
         {
          "showarrow": false,
          "text": "D2",
          "x": 10.698721885681152,
          "xshift": 10,
          "y": 9.56942367553711
         }
        ],
        "height": 650,
        "hoverlabel": {
         "bgcolor": "white",
         "font": {
          "family": "Rockwell",
          "size": 16
         }
        },
        "legend": {
         "itemsizing": "constant",
         "tracegroupgap": 0
        },
        "margin": {
         "t": 60
        },
        "shapes": [
         {
          "line": {
           "color": "#CFD8DC",
           "width": 2
          },
          "type": "line",
          "x0": 10.698721885681152,
          "x1": 10.698721885681152,
          "y0": -9.933475494384766,
          "y1": 9.56942367553711
         },
         {
          "line": {
           "color": "#9E9E9E",
           "width": 2
          },
          "type": "line",
          "x0": -2.4163222312927246,
          "x1": 23.813766479492188,
          "y0": -0.18202590942382812,
          "y1": -0.18202590942382812
         }
        ],
        "sliders": [
         {
          "active": 0,
          "pad": {
           "t": 50
          },
          "steps": [
           {
            "args": [
             {
              "marker.color": [
               [
                "red",
                "#B0BEC5",
                "#B0BEC5",
                "#B0BEC5",
                "#B0BEC5",
                "#B0BEC5",
                "#B0BEC5",
                "#B0BEC5",
                "#B0BEC5",
                "#B0BEC5",
                "#B0BEC5",
                "#B0BEC5",
                "#B0BEC5",
                "#B0BEC5"
               ]
              ]
             }
            ],
            "label": "Topic 0",
            "method": "update"
           },
           {
            "args": [
             {
              "marker.color": [
               [
                "#B0BEC5",
                "red",
                "#B0BEC5",
                "#B0BEC5",
                "#B0BEC5",
                "#B0BEC5",
                "#B0BEC5",
                "#B0BEC5",
                "#B0BEC5",
                "#B0BEC5",
                "#B0BEC5",
                "#B0BEC5",
                "#B0BEC5",
                "#B0BEC5"
               ]
              ]
             }
            ],
            "label": "Topic 1",
            "method": "update"
           },
           {
            "args": [
             {
              "marker.color": [
               [
                "#B0BEC5",
                "#B0BEC5",
                "red",
                "#B0BEC5",
                "#B0BEC5",
                "#B0BEC5",
                "#B0BEC5",
                "#B0BEC5",
                "#B0BEC5",
                "#B0BEC5",
                "#B0BEC5",
                "#B0BEC5",
                "#B0BEC5",
                "#B0BEC5"
               ]
              ]
             }
            ],
            "label": "Topic 2",
            "method": "update"
           },
           {
            "args": [
             {
              "marker.color": [
               [
                "#B0BEC5",
                "#B0BEC5",
                "#B0BEC5",
                "red",
                "#B0BEC5",
                "#B0BEC5",
                "#B0BEC5",
                "#B0BEC5",
                "#B0BEC5",
                "#B0BEC5",
                "#B0BEC5",
                "#B0BEC5",
                "#B0BEC5",
                "#B0BEC5"
               ]
              ]
             }
            ],
            "label": "Topic 3",
            "method": "update"
           },
           {
            "args": [
             {
              "marker.color": [
               [
                "#B0BEC5",
                "#B0BEC5",
                "#B0BEC5",
                "#B0BEC5",
                "red",
                "#B0BEC5",
                "#B0BEC5",
                "#B0BEC5",
                "#B0BEC5",
                "#B0BEC5",
                "#B0BEC5",
                "#B0BEC5",
                "#B0BEC5",
                "#B0BEC5"
               ]
              ]
             }
            ],
            "label": "Topic 4",
            "method": "update"
           },
           {
            "args": [
             {
              "marker.color": [
               [
                "#B0BEC5",
                "#B0BEC5",
                "#B0BEC5",
                "#B0BEC5",
                "#B0BEC5",
                "red",
                "#B0BEC5",
                "#B0BEC5",
                "#B0BEC5",
                "#B0BEC5",
                "#B0BEC5",
                "#B0BEC5",
                "#B0BEC5",
                "#B0BEC5"
               ]
              ]
             }
            ],
            "label": "Topic 5",
            "method": "update"
           },
           {
            "args": [
             {
              "marker.color": [
               [
                "#B0BEC5",
                "#B0BEC5",
                "#B0BEC5",
                "#B0BEC5",
                "#B0BEC5",
                "#B0BEC5",
                "red",
                "#B0BEC5",
                "#B0BEC5",
                "#B0BEC5",
                "#B0BEC5",
                "#B0BEC5",
                "#B0BEC5",
                "#B0BEC5"
               ]
              ]
             }
            ],
            "label": "Topic 6",
            "method": "update"
           },
           {
            "args": [
             {
              "marker.color": [
               [
                "#B0BEC5",
                "#B0BEC5",
                "#B0BEC5",
                "#B0BEC5",
                "#B0BEC5",
                "#B0BEC5",
                "#B0BEC5",
                "red",
                "#B0BEC5",
                "#B0BEC5",
                "#B0BEC5",
                "#B0BEC5",
                "#B0BEC5",
                "#B0BEC5"
               ]
              ]
             }
            ],
            "label": "Topic 7",
            "method": "update"
           },
           {
            "args": [
             {
              "marker.color": [
               [
                "#B0BEC5",
                "#B0BEC5",
                "#B0BEC5",
                "#B0BEC5",
                "#B0BEC5",
                "#B0BEC5",
                "#B0BEC5",
                "#B0BEC5",
                "red",
                "#B0BEC5",
                "#B0BEC5",
                "#B0BEC5",
                "#B0BEC5",
                "#B0BEC5"
               ]
              ]
             }
            ],
            "label": "Topic 8",
            "method": "update"
           },
           {
            "args": [
             {
              "marker.color": [
               [
                "#B0BEC5",
                "#B0BEC5",
                "#B0BEC5",
                "#B0BEC5",
                "#B0BEC5",
                "#B0BEC5",
                "#B0BEC5",
                "#B0BEC5",
                "#B0BEC5",
                "red",
                "#B0BEC5",
                "#B0BEC5",
                "#B0BEC5",
                "#B0BEC5"
               ]
              ]
             }
            ],
            "label": "Topic 9",
            "method": "update"
           },
           {
            "args": [
             {
              "marker.color": [
               [
                "#B0BEC5",
                "#B0BEC5",
                "#B0BEC5",
                "#B0BEC5",
                "#B0BEC5",
                "#B0BEC5",
                "#B0BEC5",
                "#B0BEC5",
                "#B0BEC5",
                "#B0BEC5",
                "red",
                "#B0BEC5",
                "#B0BEC5",
                "#B0BEC5"
               ]
              ]
             }
            ],
            "label": "Topic 10",
            "method": "update"
           },
           {
            "args": [
             {
              "marker.color": [
               [
                "#B0BEC5",
                "#B0BEC5",
                "#B0BEC5",
                "#B0BEC5",
                "#B0BEC5",
                "#B0BEC5",
                "#B0BEC5",
                "#B0BEC5",
                "#B0BEC5",
                "#B0BEC5",
                "#B0BEC5",
                "red",
                "#B0BEC5",
                "#B0BEC5"
               ]
              ]
             }
            ],
            "label": "Topic 11",
            "method": "update"
           },
           {
            "args": [
             {
              "marker.color": [
               [
                "#B0BEC5",
                "#B0BEC5",
                "#B0BEC5",
                "#B0BEC5",
                "#B0BEC5",
                "#B0BEC5",
                "#B0BEC5",
                "#B0BEC5",
                "#B0BEC5",
                "#B0BEC5",
                "#B0BEC5",
                "#B0BEC5",
                "red",
                "#B0BEC5"
               ]
              ]
             }
            ],
            "label": "Topic 12",
            "method": "update"
           },
           {
            "args": [
             {
              "marker.color": [
               [
                "#B0BEC5",
                "#B0BEC5",
                "#B0BEC5",
                "#B0BEC5",
                "#B0BEC5",
                "#B0BEC5",
                "#B0BEC5",
                "#B0BEC5",
                "#B0BEC5",
                "#B0BEC5",
                "#B0BEC5",
                "#B0BEC5",
                "#B0BEC5",
                "red"
               ]
              ]
             }
            ],
            "label": "Topic 13",
            "method": "update"
           }
          ]
         }
        ],
        "template": {
         "data": {
          "bar": [
           {
            "error_x": {
             "color": "rgb(36,36,36)"
            },
            "error_y": {
             "color": "rgb(36,36,36)"
            },
            "marker": {
             "line": {
              "color": "white",
              "width": 0.5
             },
             "pattern": {
              "fillmode": "overlay",
              "size": 10,
              "solidity": 0.2
             }
            },
            "type": "bar"
           }
          ],
          "barpolar": [
           {
            "marker": {
             "line": {
              "color": "white",
              "width": 0.5
             },
             "pattern": {
              "fillmode": "overlay",
              "size": 10,
              "solidity": 0.2
             }
            },
            "type": "barpolar"
           }
          ],
          "carpet": [
           {
            "aaxis": {
             "endlinecolor": "rgb(36,36,36)",
             "gridcolor": "white",
             "linecolor": "white",
             "minorgridcolor": "white",
             "startlinecolor": "rgb(36,36,36)"
            },
            "baxis": {
             "endlinecolor": "rgb(36,36,36)",
             "gridcolor": "white",
             "linecolor": "white",
             "minorgridcolor": "white",
             "startlinecolor": "rgb(36,36,36)"
            },
            "type": "carpet"
           }
          ],
          "choropleth": [
           {
            "colorbar": {
             "outlinewidth": 1,
             "tickcolor": "rgb(36,36,36)",
             "ticks": "outside"
            },
            "type": "choropleth"
           }
          ],
          "contour": [
           {
            "colorbar": {
             "outlinewidth": 1,
             "tickcolor": "rgb(36,36,36)",
             "ticks": "outside"
            },
            "colorscale": [
             [
              0,
              "#440154"
             ],
             [
              0.1111111111111111,
              "#482878"
             ],
             [
              0.2222222222222222,
              "#3e4989"
             ],
             [
              0.3333333333333333,
              "#31688e"
             ],
             [
              0.4444444444444444,
              "#26828e"
             ],
             [
              0.5555555555555556,
              "#1f9e89"
             ],
             [
              0.6666666666666666,
              "#35b779"
             ],
             [
              0.7777777777777778,
              "#6ece58"
             ],
             [
              0.8888888888888888,
              "#b5de2b"
             ],
             [
              1,
              "#fde725"
             ]
            ],
            "type": "contour"
           }
          ],
          "contourcarpet": [
           {
            "colorbar": {
             "outlinewidth": 1,
             "tickcolor": "rgb(36,36,36)",
             "ticks": "outside"
            },
            "type": "contourcarpet"
           }
          ],
          "heatmap": [
           {
            "colorbar": {
             "outlinewidth": 1,
             "tickcolor": "rgb(36,36,36)",
             "ticks": "outside"
            },
            "colorscale": [
             [
              0,
              "#440154"
             ],
             [
              0.1111111111111111,
              "#482878"
             ],
             [
              0.2222222222222222,
              "#3e4989"
             ],
             [
              0.3333333333333333,
              "#31688e"
             ],
             [
              0.4444444444444444,
              "#26828e"
             ],
             [
              0.5555555555555556,
              "#1f9e89"
             ],
             [
              0.6666666666666666,
              "#35b779"
             ],
             [
              0.7777777777777778,
              "#6ece58"
             ],
             [
              0.8888888888888888,
              "#b5de2b"
             ],
             [
              1,
              "#fde725"
             ]
            ],
            "type": "heatmap"
           }
          ],
          "histogram": [
           {
            "marker": {
             "line": {
              "color": "white",
              "width": 0.6
             }
            },
            "type": "histogram"
           }
          ],
          "histogram2d": [
           {
            "colorbar": {
             "outlinewidth": 1,
             "tickcolor": "rgb(36,36,36)",
             "ticks": "outside"
            },
            "colorscale": [
             [
              0,
              "#440154"
             ],
             [
              0.1111111111111111,
              "#482878"
             ],
             [
              0.2222222222222222,
              "#3e4989"
             ],
             [
              0.3333333333333333,
              "#31688e"
             ],
             [
              0.4444444444444444,
              "#26828e"
             ],
             [
              0.5555555555555556,
              "#1f9e89"
             ],
             [
              0.6666666666666666,
              "#35b779"
             ],
             [
              0.7777777777777778,
              "#6ece58"
             ],
             [
              0.8888888888888888,
              "#b5de2b"
             ],
             [
              1,
              "#fde725"
             ]
            ],
            "type": "histogram2d"
           }
          ],
          "histogram2dcontour": [
           {
            "colorbar": {
             "outlinewidth": 1,
             "tickcolor": "rgb(36,36,36)",
             "ticks": "outside"
            },
            "colorscale": [
             [
              0,
              "#440154"
             ],
             [
              0.1111111111111111,
              "#482878"
             ],
             [
              0.2222222222222222,
              "#3e4989"
             ],
             [
              0.3333333333333333,
              "#31688e"
             ],
             [
              0.4444444444444444,
              "#26828e"
             ],
             [
              0.5555555555555556,
              "#1f9e89"
             ],
             [
              0.6666666666666666,
              "#35b779"
             ],
             [
              0.7777777777777778,
              "#6ece58"
             ],
             [
              0.8888888888888888,
              "#b5de2b"
             ],
             [
              1,
              "#fde725"
             ]
            ],
            "type": "histogram2dcontour"
           }
          ],
          "mesh3d": [
           {
            "colorbar": {
             "outlinewidth": 1,
             "tickcolor": "rgb(36,36,36)",
             "ticks": "outside"
            },
            "type": "mesh3d"
           }
          ],
          "parcoords": [
           {
            "line": {
             "colorbar": {
              "outlinewidth": 1,
              "tickcolor": "rgb(36,36,36)",
              "ticks": "outside"
             }
            },
            "type": "parcoords"
           }
          ],
          "pie": [
           {
            "automargin": true,
            "type": "pie"
           }
          ],
          "scatter": [
           {
            "fillpattern": {
             "fillmode": "overlay",
             "size": 10,
             "solidity": 0.2
            },
            "type": "scatter"
           }
          ],
          "scatter3d": [
           {
            "line": {
             "colorbar": {
              "outlinewidth": 1,
              "tickcolor": "rgb(36,36,36)",
              "ticks": "outside"
             }
            },
            "marker": {
             "colorbar": {
              "outlinewidth": 1,
              "tickcolor": "rgb(36,36,36)",
              "ticks": "outside"
             }
            },
            "type": "scatter3d"
           }
          ],
          "scattercarpet": [
           {
            "marker": {
             "colorbar": {
              "outlinewidth": 1,
              "tickcolor": "rgb(36,36,36)",
              "ticks": "outside"
             }
            },
            "type": "scattercarpet"
           }
          ],
          "scattergeo": [
           {
            "marker": {
             "colorbar": {
              "outlinewidth": 1,
              "tickcolor": "rgb(36,36,36)",
              "ticks": "outside"
             }
            },
            "type": "scattergeo"
           }
          ],
          "scattergl": [
           {
            "marker": {
             "colorbar": {
              "outlinewidth": 1,
              "tickcolor": "rgb(36,36,36)",
              "ticks": "outside"
             }
            },
            "type": "scattergl"
           }
          ],
          "scattermap": [
           {
            "marker": {
             "colorbar": {
              "outlinewidth": 1,
              "tickcolor": "rgb(36,36,36)",
              "ticks": "outside"
             }
            },
            "type": "scattermap"
           }
          ],
          "scattermapbox": [
           {
            "marker": {
             "colorbar": {
              "outlinewidth": 1,
              "tickcolor": "rgb(36,36,36)",
              "ticks": "outside"
             }
            },
            "type": "scattermapbox"
           }
          ],
          "scatterpolar": [
           {
            "marker": {
             "colorbar": {
              "outlinewidth": 1,
              "tickcolor": "rgb(36,36,36)",
              "ticks": "outside"
             }
            },
            "type": "scatterpolar"
           }
          ],
          "scatterpolargl": [
           {
            "marker": {
             "colorbar": {
              "outlinewidth": 1,
              "tickcolor": "rgb(36,36,36)",
              "ticks": "outside"
             }
            },
            "type": "scatterpolargl"
           }
          ],
          "scatterternary": [
           {
            "marker": {
             "colorbar": {
              "outlinewidth": 1,
              "tickcolor": "rgb(36,36,36)",
              "ticks": "outside"
             }
            },
            "type": "scatterternary"
           }
          ],
          "surface": [
           {
            "colorbar": {
             "outlinewidth": 1,
             "tickcolor": "rgb(36,36,36)",
             "ticks": "outside"
            },
            "colorscale": [
             [
              0,
              "#440154"
             ],
             [
              0.1111111111111111,
              "#482878"
             ],
             [
              0.2222222222222222,
              "#3e4989"
             ],
             [
              0.3333333333333333,
              "#31688e"
             ],
             [
              0.4444444444444444,
              "#26828e"
             ],
             [
              0.5555555555555556,
              "#1f9e89"
             ],
             [
              0.6666666666666666,
              "#35b779"
             ],
             [
              0.7777777777777778,
              "#6ece58"
             ],
             [
              0.8888888888888888,
              "#b5de2b"
             ],
             [
              1,
              "#fde725"
             ]
            ],
            "type": "surface"
           }
          ],
          "table": [
           {
            "cells": {
             "fill": {
              "color": "rgb(237,237,237)"
             },
             "line": {
              "color": "white"
             }
            },
            "header": {
             "fill": {
              "color": "rgb(217,217,217)"
             },
             "line": {
              "color": "white"
             }
            },
            "type": "table"
           }
          ]
         },
         "layout": {
          "annotationdefaults": {
           "arrowhead": 0,
           "arrowwidth": 1
          },
          "autotypenumbers": "strict",
          "coloraxis": {
           "colorbar": {
            "outlinewidth": 1,
            "tickcolor": "rgb(36,36,36)",
            "ticks": "outside"
           }
          },
          "colorscale": {
           "diverging": [
            [
             0,
             "rgb(103,0,31)"
            ],
            [
             0.1,
             "rgb(178,24,43)"
            ],
            [
             0.2,
             "rgb(214,96,77)"
            ],
            [
             0.3,
             "rgb(244,165,130)"
            ],
            [
             0.4,
             "rgb(253,219,199)"
            ],
            [
             0.5,
             "rgb(247,247,247)"
            ],
            [
             0.6,
             "rgb(209,229,240)"
            ],
            [
             0.7,
             "rgb(146,197,222)"
            ],
            [
             0.8,
             "rgb(67,147,195)"
            ],
            [
             0.9,
             "rgb(33,102,172)"
            ],
            [
             1,
             "rgb(5,48,97)"
            ]
           ],
           "sequential": [
            [
             0,
             "#440154"
            ],
            [
             0.1111111111111111,
             "#482878"
            ],
            [
             0.2222222222222222,
             "#3e4989"
            ],
            [
             0.3333333333333333,
             "#31688e"
            ],
            [
             0.4444444444444444,
             "#26828e"
            ],
            [
             0.5555555555555556,
             "#1f9e89"
            ],
            [
             0.6666666666666666,
             "#35b779"
            ],
            [
             0.7777777777777778,
             "#6ece58"
            ],
            [
             0.8888888888888888,
             "#b5de2b"
            ],
            [
             1,
             "#fde725"
            ]
           ],
           "sequentialminus": [
            [
             0,
             "#440154"
            ],
            [
             0.1111111111111111,
             "#482878"
            ],
            [
             0.2222222222222222,
             "#3e4989"
            ],
            [
             0.3333333333333333,
             "#31688e"
            ],
            [
             0.4444444444444444,
             "#26828e"
            ],
            [
             0.5555555555555556,
             "#1f9e89"
            ],
            [
             0.6666666666666666,
             "#35b779"
            ],
            [
             0.7777777777777778,
             "#6ece58"
            ],
            [
             0.8888888888888888,
             "#b5de2b"
            ],
            [
             1,
             "#fde725"
            ]
           ]
          },
          "colorway": [
           "#1F77B4",
           "#FF7F0E",
           "#2CA02C",
           "#D62728",
           "#9467BD",
           "#8C564B",
           "#E377C2",
           "#7F7F7F",
           "#BCBD22",
           "#17BECF"
          ],
          "font": {
           "color": "rgb(36,36,36)"
          },
          "geo": {
           "bgcolor": "white",
           "lakecolor": "white",
           "landcolor": "white",
           "showlakes": true,
           "showland": true,
           "subunitcolor": "white"
          },
          "hoverlabel": {
           "align": "left"
          },
          "hovermode": "closest",
          "mapbox": {
           "style": "light"
          },
          "paper_bgcolor": "white",
          "plot_bgcolor": "white",
          "polar": {
           "angularaxis": {
            "gridcolor": "rgb(232,232,232)",
            "linecolor": "rgb(36,36,36)",
            "showgrid": false,
            "showline": true,
            "ticks": "outside"
           },
           "bgcolor": "white",
           "radialaxis": {
            "gridcolor": "rgb(232,232,232)",
            "linecolor": "rgb(36,36,36)",
            "showgrid": false,
            "showline": true,
            "ticks": "outside"
           }
          },
          "scene": {
           "xaxis": {
            "backgroundcolor": "white",
            "gridcolor": "rgb(232,232,232)",
            "gridwidth": 2,
            "linecolor": "rgb(36,36,36)",
            "showbackground": true,
            "showgrid": false,
            "showline": true,
            "ticks": "outside",
            "zeroline": false,
            "zerolinecolor": "rgb(36,36,36)"
           },
           "yaxis": {
            "backgroundcolor": "white",
            "gridcolor": "rgb(232,232,232)",
            "gridwidth": 2,
            "linecolor": "rgb(36,36,36)",
            "showbackground": true,
            "showgrid": false,
            "showline": true,
            "ticks": "outside",
            "zeroline": false,
            "zerolinecolor": "rgb(36,36,36)"
           },
           "zaxis": {
            "backgroundcolor": "white",
            "gridcolor": "rgb(232,232,232)",
            "gridwidth": 2,
            "linecolor": "rgb(36,36,36)",
            "showbackground": true,
            "showgrid": false,
            "showline": true,
            "ticks": "outside",
            "zeroline": false,
            "zerolinecolor": "rgb(36,36,36)"
           }
          },
          "shapedefaults": {
           "fillcolor": "black",
           "line": {
            "width": 0
           },
           "opacity": 0.3
          },
          "ternary": {
           "aaxis": {
            "gridcolor": "rgb(232,232,232)",
            "linecolor": "rgb(36,36,36)",
            "showgrid": false,
            "showline": true,
            "ticks": "outside"
           },
           "baxis": {
            "gridcolor": "rgb(232,232,232)",
            "linecolor": "rgb(36,36,36)",
            "showgrid": false,
            "showline": true,
            "ticks": "outside"
           },
           "bgcolor": "white",
           "caxis": {
            "gridcolor": "rgb(232,232,232)",
            "linecolor": "rgb(36,36,36)",
            "showgrid": false,
            "showline": true,
            "ticks": "outside"
           }
          },
          "title": {
           "x": 0.05
          },
          "xaxis": {
           "automargin": true,
           "gridcolor": "rgb(232,232,232)",
           "linecolor": "rgb(36,36,36)",
           "showgrid": false,
           "showline": true,
           "ticks": "outside",
           "title": {
            "standoff": 15
           },
           "zeroline": false,
           "zerolinecolor": "rgb(36,36,36)"
          },
          "yaxis": {
           "automargin": true,
           "gridcolor": "rgb(232,232,232)",
           "linecolor": "rgb(36,36,36)",
           "showgrid": false,
           "showline": true,
           "ticks": "outside",
           "title": {
            "standoff": 15
           },
           "zeroline": false,
           "zerolinecolor": "rgb(36,36,36)"
          }
         }
        },
        "title": {
         "font": {
          "color": "Black",
          "size": 22
         },
         "text": "<b>Intertopic Distance Map</b>",
         "x": 0.5,
         "xanchor": "center",
         "y": 0.95,
         "yanchor": "top"
        },
        "width": 650,
        "xaxis": {
         "anchor": "y",
         "domain": [
          0,
          1
         ],
         "range": [
          -2.4163222312927246,
          23.813766479492188
         ],
         "title": {
          "text": ""
         },
         "visible": false
        },
        "yaxis": {
         "anchor": "x",
         "domain": [
          0,
          1
         ],
         "range": [
          -9.933475494384766,
          9.56942367553711
         ],
         "title": {
          "text": ""
         },
         "visible": false
        }
       }
      },
      "text/html": [
       "<div>                        <script type=\"text/javascript\">window.PlotlyConfig = {MathJaxConfig: 'local'};</script>\n",
       "        <script charset=\"utf-8\" src=\"https://cdn.plot.ly/plotly-3.0.1.min.js\"></script>                <div id=\"3925a419-f6c4-4d6e-b3e0-d5f05ce03322\" class=\"plotly-graph-div\" style=\"height:650px; width:650px;\"></div>            <script type=\"text/javascript\">                window.PLOTLYENV=window.PLOTLYENV || {};                                if (document.getElementById(\"3925a419-f6c4-4d6e-b3e0-d5f05ce03322\")) {                    Plotly.newPlot(                        \"3925a419-f6c4-4d6e-b3e0-d5f05ce03322\",                        [{\"customdata\":[[0,\"01 | dukung | calon | pilih | pasang\",10382],[1,\"anies | baswedan | indonesia | presiden | rasyid\",2979],[2,\"debat | calon | presiden | kritik | cak\",1680],[3,\"politik | partai | demokrasi | demokrat | anies\",1544],[4,\"cak | imin | anies | kayak | baswedan\",1514],[5,\"video | videotron | 01 | film | lihat\",559],[6,\"twitter | media | berita | sosial | 01\",433],[7,\"pop | korea | 02 | konsep | 01\",358],[8,\"program | anies | 01 | misi | visi\",233],[9,\"palestina | israel | merdeka | bela | aksi\",152],[10,\"respons | reply | respon | cak | imin\",52],[11,\"viral | viralkan | ham | virus | anies\",51],[12,\"data | luhut | cherry | tambang | cak\",33],[13,\"estate | food | tani | blak | imin\",21]],\"hovertemplate\":\"\\u003cb\\u003eTopic %{customdata[0]}\\u003c\\u002fb\\u003e\\u003cbr\\u003e%{customdata[1]}\\u003cbr\\u003eSize: %{customdata[2]}\",\"legendgroup\":\"\",\"marker\":{\"color\":\"#B0BEC5\",\"size\":{\"dtype\":\"i2\",\"bdata\":\"jiijC5AGCAbqBS8CsQFmAekAmAA0ADMAIQAVAA==\"},\"sizemode\":\"area\",\"sizeref\":6.48875,\"symbol\":\"circle\",\"line\":{\"color\":\"DarkSlateGrey\",\"width\":2}},\"mode\":\"markers\",\"name\":\"\",\"orientation\":\"v\",\"showlegend\":false,\"x\":{\"dtype\":\"f4\",\"bdata\":\"9xmgQYKJ7L\\u002fVz4i\\u002f1SfJv6d+aL+52KRBJE+dQRbNoUEIs5tB0siwvxpfLr82qaVBkWSmvz15BsA=\"},\"xaxis\":\"x\",\"y\":{\"dtype\":\"f4\",\"bdata\":\"dlP3wMq060DKIwVBdb0AQUGTw0Db2fvAaHDswOGlBcEMQADBRPHgQImRvkBzNArBJ2ztQOZI3EA=\"},\"yaxis\":\"y\",\"type\":\"scatter\"}],                        {\"template\":{\"data\":{\"barpolar\":[{\"marker\":{\"line\":{\"color\":\"white\",\"width\":0.5},\"pattern\":{\"fillmode\":\"overlay\",\"size\":10,\"solidity\":0.2}},\"type\":\"barpolar\"}],\"bar\":[{\"error_x\":{\"color\":\"rgb(36,36,36)\"},\"error_y\":{\"color\":\"rgb(36,36,36)\"},\"marker\":{\"line\":{\"color\":\"white\",\"width\":0.5},\"pattern\":{\"fillmode\":\"overlay\",\"size\":10,\"solidity\":0.2}},\"type\":\"bar\"}],\"carpet\":[{\"aaxis\":{\"endlinecolor\":\"rgb(36,36,36)\",\"gridcolor\":\"white\",\"linecolor\":\"white\",\"minorgridcolor\":\"white\",\"startlinecolor\":\"rgb(36,36,36)\"},\"baxis\":{\"endlinecolor\":\"rgb(36,36,36)\",\"gridcolor\":\"white\",\"linecolor\":\"white\",\"minorgridcolor\":\"white\",\"startlinecolor\":\"rgb(36,36,36)\"},\"type\":\"carpet\"}],\"choropleth\":[{\"colorbar\":{\"outlinewidth\":1,\"tickcolor\":\"rgb(36,36,36)\",\"ticks\":\"outside\"},\"type\":\"choropleth\"}],\"contourcarpet\":[{\"colorbar\":{\"outlinewidth\":1,\"tickcolor\":\"rgb(36,36,36)\",\"ticks\":\"outside\"},\"type\":\"contourcarpet\"}],\"contour\":[{\"colorbar\":{\"outlinewidth\":1,\"tickcolor\":\"rgb(36,36,36)\",\"ticks\":\"outside\"},\"colorscale\":[[0.0,\"#440154\"],[0.1111111111111111,\"#482878\"],[0.2222222222222222,\"#3e4989\"],[0.3333333333333333,\"#31688e\"],[0.4444444444444444,\"#26828e\"],[0.5555555555555556,\"#1f9e89\"],[0.6666666666666666,\"#35b779\"],[0.7777777777777778,\"#6ece58\"],[0.8888888888888888,\"#b5de2b\"],[1.0,\"#fde725\"]],\"type\":\"contour\"}],\"heatmap\":[{\"colorbar\":{\"outlinewidth\":1,\"tickcolor\":\"rgb(36,36,36)\",\"ticks\":\"outside\"},\"colorscale\":[[0.0,\"#440154\"],[0.1111111111111111,\"#482878\"],[0.2222222222222222,\"#3e4989\"],[0.3333333333333333,\"#31688e\"],[0.4444444444444444,\"#26828e\"],[0.5555555555555556,\"#1f9e89\"],[0.6666666666666666,\"#35b779\"],[0.7777777777777778,\"#6ece58\"],[0.8888888888888888,\"#b5de2b\"],[1.0,\"#fde725\"]],\"type\":\"heatmap\"}],\"histogram2dcontour\":[{\"colorbar\":{\"outlinewidth\":1,\"tickcolor\":\"rgb(36,36,36)\",\"ticks\":\"outside\"},\"colorscale\":[[0.0,\"#440154\"],[0.1111111111111111,\"#482878\"],[0.2222222222222222,\"#3e4989\"],[0.3333333333333333,\"#31688e\"],[0.4444444444444444,\"#26828e\"],[0.5555555555555556,\"#1f9e89\"],[0.6666666666666666,\"#35b779\"],[0.7777777777777778,\"#6ece58\"],[0.8888888888888888,\"#b5de2b\"],[1.0,\"#fde725\"]],\"type\":\"histogram2dcontour\"}],\"histogram2d\":[{\"colorbar\":{\"outlinewidth\":1,\"tickcolor\":\"rgb(36,36,36)\",\"ticks\":\"outside\"},\"colorscale\":[[0.0,\"#440154\"],[0.1111111111111111,\"#482878\"],[0.2222222222222222,\"#3e4989\"],[0.3333333333333333,\"#31688e\"],[0.4444444444444444,\"#26828e\"],[0.5555555555555556,\"#1f9e89\"],[0.6666666666666666,\"#35b779\"],[0.7777777777777778,\"#6ece58\"],[0.8888888888888888,\"#b5de2b\"],[1.0,\"#fde725\"]],\"type\":\"histogram2d\"}],\"histogram\":[{\"marker\":{\"line\":{\"color\":\"white\",\"width\":0.6}},\"type\":\"histogram\"}],\"mesh3d\":[{\"colorbar\":{\"outlinewidth\":1,\"tickcolor\":\"rgb(36,36,36)\",\"ticks\":\"outside\"},\"type\":\"mesh3d\"}],\"parcoords\":[{\"line\":{\"colorbar\":{\"outlinewidth\":1,\"tickcolor\":\"rgb(36,36,36)\",\"ticks\":\"outside\"}},\"type\":\"parcoords\"}],\"pie\":[{\"automargin\":true,\"type\":\"pie\"}],\"scatter3d\":[{\"line\":{\"colorbar\":{\"outlinewidth\":1,\"tickcolor\":\"rgb(36,36,36)\",\"ticks\":\"outside\"}},\"marker\":{\"colorbar\":{\"outlinewidth\":1,\"tickcolor\":\"rgb(36,36,36)\",\"ticks\":\"outside\"}},\"type\":\"scatter3d\"}],\"scattercarpet\":[{\"marker\":{\"colorbar\":{\"outlinewidth\":1,\"tickcolor\":\"rgb(36,36,36)\",\"ticks\":\"outside\"}},\"type\":\"scattercarpet\"}],\"scattergeo\":[{\"marker\":{\"colorbar\":{\"outlinewidth\":1,\"tickcolor\":\"rgb(36,36,36)\",\"ticks\":\"outside\"}},\"type\":\"scattergeo\"}],\"scattergl\":[{\"marker\":{\"colorbar\":{\"outlinewidth\":1,\"tickcolor\":\"rgb(36,36,36)\",\"ticks\":\"outside\"}},\"type\":\"scattergl\"}],\"scattermapbox\":[{\"marker\":{\"colorbar\":{\"outlinewidth\":1,\"tickcolor\":\"rgb(36,36,36)\",\"ticks\":\"outside\"}},\"type\":\"scattermapbox\"}],\"scattermap\":[{\"marker\":{\"colorbar\":{\"outlinewidth\":1,\"tickcolor\":\"rgb(36,36,36)\",\"ticks\":\"outside\"}},\"type\":\"scattermap\"}],\"scatterpolargl\":[{\"marker\":{\"colorbar\":{\"outlinewidth\":1,\"tickcolor\":\"rgb(36,36,36)\",\"ticks\":\"outside\"}},\"type\":\"scatterpolargl\"}],\"scatterpolar\":[{\"marker\":{\"colorbar\":{\"outlinewidth\":1,\"tickcolor\":\"rgb(36,36,36)\",\"ticks\":\"outside\"}},\"type\":\"scatterpolar\"}],\"scatter\":[{\"fillpattern\":{\"fillmode\":\"overlay\",\"size\":10,\"solidity\":0.2},\"type\":\"scatter\"}],\"scatterternary\":[{\"marker\":{\"colorbar\":{\"outlinewidth\":1,\"tickcolor\":\"rgb(36,36,36)\",\"ticks\":\"outside\"}},\"type\":\"scatterternary\"}],\"surface\":[{\"colorbar\":{\"outlinewidth\":1,\"tickcolor\":\"rgb(36,36,36)\",\"ticks\":\"outside\"},\"colorscale\":[[0.0,\"#440154\"],[0.1111111111111111,\"#482878\"],[0.2222222222222222,\"#3e4989\"],[0.3333333333333333,\"#31688e\"],[0.4444444444444444,\"#26828e\"],[0.5555555555555556,\"#1f9e89\"],[0.6666666666666666,\"#35b779\"],[0.7777777777777778,\"#6ece58\"],[0.8888888888888888,\"#b5de2b\"],[1.0,\"#fde725\"]],\"type\":\"surface\"}],\"table\":[{\"cells\":{\"fill\":{\"color\":\"rgb(237,237,237)\"},\"line\":{\"color\":\"white\"}},\"header\":{\"fill\":{\"color\":\"rgb(217,217,217)\"},\"line\":{\"color\":\"white\"}},\"type\":\"table\"}]},\"layout\":{\"annotationdefaults\":{\"arrowhead\":0,\"arrowwidth\":1},\"autotypenumbers\":\"strict\",\"coloraxis\":{\"colorbar\":{\"outlinewidth\":1,\"tickcolor\":\"rgb(36,36,36)\",\"ticks\":\"outside\"}},\"colorscale\":{\"diverging\":[[0.0,\"rgb(103,0,31)\"],[0.1,\"rgb(178,24,43)\"],[0.2,\"rgb(214,96,77)\"],[0.3,\"rgb(244,165,130)\"],[0.4,\"rgb(253,219,199)\"],[0.5,\"rgb(247,247,247)\"],[0.6,\"rgb(209,229,240)\"],[0.7,\"rgb(146,197,222)\"],[0.8,\"rgb(67,147,195)\"],[0.9,\"rgb(33,102,172)\"],[1.0,\"rgb(5,48,97)\"]],\"sequential\":[[0.0,\"#440154\"],[0.1111111111111111,\"#482878\"],[0.2222222222222222,\"#3e4989\"],[0.3333333333333333,\"#31688e\"],[0.4444444444444444,\"#26828e\"],[0.5555555555555556,\"#1f9e89\"],[0.6666666666666666,\"#35b779\"],[0.7777777777777778,\"#6ece58\"],[0.8888888888888888,\"#b5de2b\"],[1.0,\"#fde725\"]],\"sequentialminus\":[[0.0,\"#440154\"],[0.1111111111111111,\"#482878\"],[0.2222222222222222,\"#3e4989\"],[0.3333333333333333,\"#31688e\"],[0.4444444444444444,\"#26828e\"],[0.5555555555555556,\"#1f9e89\"],[0.6666666666666666,\"#35b779\"],[0.7777777777777778,\"#6ece58\"],[0.8888888888888888,\"#b5de2b\"],[1.0,\"#fde725\"]]},\"colorway\":[\"#1F77B4\",\"#FF7F0E\",\"#2CA02C\",\"#D62728\",\"#9467BD\",\"#8C564B\",\"#E377C2\",\"#7F7F7F\",\"#BCBD22\",\"#17BECF\"],\"font\":{\"color\":\"rgb(36,36,36)\"},\"geo\":{\"bgcolor\":\"white\",\"lakecolor\":\"white\",\"landcolor\":\"white\",\"showlakes\":true,\"showland\":true,\"subunitcolor\":\"white\"},\"hoverlabel\":{\"align\":\"left\"},\"hovermode\":\"closest\",\"mapbox\":{\"style\":\"light\"},\"paper_bgcolor\":\"white\",\"plot_bgcolor\":\"white\",\"polar\":{\"angularaxis\":{\"gridcolor\":\"rgb(232,232,232)\",\"linecolor\":\"rgb(36,36,36)\",\"showgrid\":false,\"showline\":true,\"ticks\":\"outside\"},\"bgcolor\":\"white\",\"radialaxis\":{\"gridcolor\":\"rgb(232,232,232)\",\"linecolor\":\"rgb(36,36,36)\",\"showgrid\":false,\"showline\":true,\"ticks\":\"outside\"}},\"scene\":{\"xaxis\":{\"backgroundcolor\":\"white\",\"gridcolor\":\"rgb(232,232,232)\",\"gridwidth\":2,\"linecolor\":\"rgb(36,36,36)\",\"showbackground\":true,\"showgrid\":false,\"showline\":true,\"ticks\":\"outside\",\"zeroline\":false,\"zerolinecolor\":\"rgb(36,36,36)\"},\"yaxis\":{\"backgroundcolor\":\"white\",\"gridcolor\":\"rgb(232,232,232)\",\"gridwidth\":2,\"linecolor\":\"rgb(36,36,36)\",\"showbackground\":true,\"showgrid\":false,\"showline\":true,\"ticks\":\"outside\",\"zeroline\":false,\"zerolinecolor\":\"rgb(36,36,36)\"},\"zaxis\":{\"backgroundcolor\":\"white\",\"gridcolor\":\"rgb(232,232,232)\",\"gridwidth\":2,\"linecolor\":\"rgb(36,36,36)\",\"showbackground\":true,\"showgrid\":false,\"showline\":true,\"ticks\":\"outside\",\"zeroline\":false,\"zerolinecolor\":\"rgb(36,36,36)\"}},\"shapedefaults\":{\"fillcolor\":\"black\",\"line\":{\"width\":0},\"opacity\":0.3},\"ternary\":{\"aaxis\":{\"gridcolor\":\"rgb(232,232,232)\",\"linecolor\":\"rgb(36,36,36)\",\"showgrid\":false,\"showline\":true,\"ticks\":\"outside\"},\"baxis\":{\"gridcolor\":\"rgb(232,232,232)\",\"linecolor\":\"rgb(36,36,36)\",\"showgrid\":false,\"showline\":true,\"ticks\":\"outside\"},\"bgcolor\":\"white\",\"caxis\":{\"gridcolor\":\"rgb(232,232,232)\",\"linecolor\":\"rgb(36,36,36)\",\"showgrid\":false,\"showline\":true,\"ticks\":\"outside\"}},\"title\":{\"x\":0.05},\"xaxis\":{\"automargin\":true,\"gridcolor\":\"rgb(232,232,232)\",\"linecolor\":\"rgb(36,36,36)\",\"showgrid\":false,\"showline\":true,\"ticks\":\"outside\",\"title\":{\"standoff\":15},\"zeroline\":false,\"zerolinecolor\":\"rgb(36,36,36)\"},\"yaxis\":{\"automargin\":true,\"gridcolor\":\"rgb(232,232,232)\",\"linecolor\":\"rgb(36,36,36)\",\"showgrid\":false,\"showline\":true,\"ticks\":\"outside\",\"title\":{\"standoff\":15},\"zeroline\":false,\"zerolinecolor\":\"rgb(36,36,36)\"}}},\"xaxis\":{\"anchor\":\"y\",\"domain\":[0.0,1.0],\"title\":{\"text\":\"\"},\"visible\":false,\"range\":[-2.4163222312927246,23.813766479492188]},\"yaxis\":{\"anchor\":\"x\",\"domain\":[0.0,1.0],\"title\":{\"text\":\"\"},\"visible\":false,\"range\":[-9.933475494384766,9.56942367553711]},\"legend\":{\"tracegroupgap\":0,\"itemsizing\":\"constant\"},\"margin\":{\"t\":60},\"title\":{\"font\":{\"size\":22,\"color\":\"Black\"},\"text\":\"\\u003cb\\u003eIntertopic Distance Map\\u003c\\u002fb\\u003e\",\"y\":0.95,\"x\":0.5,\"xanchor\":\"center\",\"yanchor\":\"top\"},\"hoverlabel\":{\"font\":{\"size\":16,\"family\":\"Rockwell\"},\"bgcolor\":\"white\"},\"width\":650,\"height\":650,\"sliders\":[{\"active\":0,\"pad\":{\"t\":50},\"steps\":[{\"args\":[{\"marker.color\":[[\"red\",\"#B0BEC5\",\"#B0BEC5\",\"#B0BEC5\",\"#B0BEC5\",\"#B0BEC5\",\"#B0BEC5\",\"#B0BEC5\",\"#B0BEC5\",\"#B0BEC5\",\"#B0BEC5\",\"#B0BEC5\",\"#B0BEC5\",\"#B0BEC5\"]]}],\"label\":\"Topic 0\",\"method\":\"update\"},{\"args\":[{\"marker.color\":[[\"#B0BEC5\",\"red\",\"#B0BEC5\",\"#B0BEC5\",\"#B0BEC5\",\"#B0BEC5\",\"#B0BEC5\",\"#B0BEC5\",\"#B0BEC5\",\"#B0BEC5\",\"#B0BEC5\",\"#B0BEC5\",\"#B0BEC5\",\"#B0BEC5\"]]}],\"label\":\"Topic 1\",\"method\":\"update\"},{\"args\":[{\"marker.color\":[[\"#B0BEC5\",\"#B0BEC5\",\"red\",\"#B0BEC5\",\"#B0BEC5\",\"#B0BEC5\",\"#B0BEC5\",\"#B0BEC5\",\"#B0BEC5\",\"#B0BEC5\",\"#B0BEC5\",\"#B0BEC5\",\"#B0BEC5\",\"#B0BEC5\"]]}],\"label\":\"Topic 2\",\"method\":\"update\"},{\"args\":[{\"marker.color\":[[\"#B0BEC5\",\"#B0BEC5\",\"#B0BEC5\",\"red\",\"#B0BEC5\",\"#B0BEC5\",\"#B0BEC5\",\"#B0BEC5\",\"#B0BEC5\",\"#B0BEC5\",\"#B0BEC5\",\"#B0BEC5\",\"#B0BEC5\",\"#B0BEC5\"]]}],\"label\":\"Topic 3\",\"method\":\"update\"},{\"args\":[{\"marker.color\":[[\"#B0BEC5\",\"#B0BEC5\",\"#B0BEC5\",\"#B0BEC5\",\"red\",\"#B0BEC5\",\"#B0BEC5\",\"#B0BEC5\",\"#B0BEC5\",\"#B0BEC5\",\"#B0BEC5\",\"#B0BEC5\",\"#B0BEC5\",\"#B0BEC5\"]]}],\"label\":\"Topic 4\",\"method\":\"update\"},{\"args\":[{\"marker.color\":[[\"#B0BEC5\",\"#B0BEC5\",\"#B0BEC5\",\"#B0BEC5\",\"#B0BEC5\",\"red\",\"#B0BEC5\",\"#B0BEC5\",\"#B0BEC5\",\"#B0BEC5\",\"#B0BEC5\",\"#B0BEC5\",\"#B0BEC5\",\"#B0BEC5\"]]}],\"label\":\"Topic 5\",\"method\":\"update\"},{\"args\":[{\"marker.color\":[[\"#B0BEC5\",\"#B0BEC5\",\"#B0BEC5\",\"#B0BEC5\",\"#B0BEC5\",\"#B0BEC5\",\"red\",\"#B0BEC5\",\"#B0BEC5\",\"#B0BEC5\",\"#B0BEC5\",\"#B0BEC5\",\"#B0BEC5\",\"#B0BEC5\"]]}],\"label\":\"Topic 6\",\"method\":\"update\"},{\"args\":[{\"marker.color\":[[\"#B0BEC5\",\"#B0BEC5\",\"#B0BEC5\",\"#B0BEC5\",\"#B0BEC5\",\"#B0BEC5\",\"#B0BEC5\",\"red\",\"#B0BEC5\",\"#B0BEC5\",\"#B0BEC5\",\"#B0BEC5\",\"#B0BEC5\",\"#B0BEC5\"]]}],\"label\":\"Topic 7\",\"method\":\"update\"},{\"args\":[{\"marker.color\":[[\"#B0BEC5\",\"#B0BEC5\",\"#B0BEC5\",\"#B0BEC5\",\"#B0BEC5\",\"#B0BEC5\",\"#B0BEC5\",\"#B0BEC5\",\"red\",\"#B0BEC5\",\"#B0BEC5\",\"#B0BEC5\",\"#B0BEC5\",\"#B0BEC5\"]]}],\"label\":\"Topic 8\",\"method\":\"update\"},{\"args\":[{\"marker.color\":[[\"#B0BEC5\",\"#B0BEC5\",\"#B0BEC5\",\"#B0BEC5\",\"#B0BEC5\",\"#B0BEC5\",\"#B0BEC5\",\"#B0BEC5\",\"#B0BEC5\",\"red\",\"#B0BEC5\",\"#B0BEC5\",\"#B0BEC5\",\"#B0BEC5\"]]}],\"label\":\"Topic 9\",\"method\":\"update\"},{\"args\":[{\"marker.color\":[[\"#B0BEC5\",\"#B0BEC5\",\"#B0BEC5\",\"#B0BEC5\",\"#B0BEC5\",\"#B0BEC5\",\"#B0BEC5\",\"#B0BEC5\",\"#B0BEC5\",\"#B0BEC5\",\"red\",\"#B0BEC5\",\"#B0BEC5\",\"#B0BEC5\"]]}],\"label\":\"Topic 10\",\"method\":\"update\"},{\"args\":[{\"marker.color\":[[\"#B0BEC5\",\"#B0BEC5\",\"#B0BEC5\",\"#B0BEC5\",\"#B0BEC5\",\"#B0BEC5\",\"#B0BEC5\",\"#B0BEC5\",\"#B0BEC5\",\"#B0BEC5\",\"#B0BEC5\",\"red\",\"#B0BEC5\",\"#B0BEC5\"]]}],\"label\":\"Topic 11\",\"method\":\"update\"},{\"args\":[{\"marker.color\":[[\"#B0BEC5\",\"#B0BEC5\",\"#B0BEC5\",\"#B0BEC5\",\"#B0BEC5\",\"#B0BEC5\",\"#B0BEC5\",\"#B0BEC5\",\"#B0BEC5\",\"#B0BEC5\",\"#B0BEC5\",\"#B0BEC5\",\"red\",\"#B0BEC5\"]]}],\"label\":\"Topic 12\",\"method\":\"update\"},{\"args\":[{\"marker.color\":[[\"#B0BEC5\",\"#B0BEC5\",\"#B0BEC5\",\"#B0BEC5\",\"#B0BEC5\",\"#B0BEC5\",\"#B0BEC5\",\"#B0BEC5\",\"#B0BEC5\",\"#B0BEC5\",\"#B0BEC5\",\"#B0BEC5\",\"#B0BEC5\",\"red\"]]}],\"label\":\"Topic 13\",\"method\":\"update\"}]}],\"shapes\":[{\"line\":{\"color\":\"#CFD8DC\",\"width\":2},\"type\":\"line\",\"x0\":10.698721885681152,\"x1\":10.698721885681152,\"y0\":-9.933475494384766,\"y1\":9.56942367553711},{\"line\":{\"color\":\"#9E9E9E\",\"width\":2},\"type\":\"line\",\"x0\":-2.4163222312927246,\"x1\":23.813766479492188,\"y0\":-0.18202590942382812,\"y1\":-0.18202590942382812}],\"annotations\":[{\"showarrow\":false,\"text\":\"D1\",\"x\":-2.4163222312927246,\"y\":-0.18202590942382812,\"yshift\":10},{\"showarrow\":false,\"text\":\"D2\",\"x\":10.698721885681152,\"xshift\":10,\"y\":9.56942367553711}]},                        {\"responsive\": true}                    )                };            </script>        </div>"
      ],
      "text/plain": [
       "Figure({\n",
       "    'data': [{'customdata': array([[0, '01 | dukung | calon | pilih | pasang', 10382],\n",
       "                                   [1, 'anies | baswedan | indonesia | presiden | rasyid', 2979],\n",
       "                                   [2, 'debat | calon | presiden | kritik | cak', 1680],\n",
       "                                   [3, 'politik | partai | demokrasi | demokrat | anies', 1544],\n",
       "                                   [4, 'cak | imin | anies | kayak | baswedan', 1514],\n",
       "                                   [5, 'video | videotron | 01 | film | lihat', 559],\n",
       "                                   [6, 'twitter | media | berita | sosial | 01', 433],\n",
       "                                   [7, 'pop | korea | 02 | konsep | 01', 358],\n",
       "                                   [8, 'program | anies | 01 | misi | visi', 233],\n",
       "                                   [9, 'palestina | israel | merdeka | bela | aksi', 152],\n",
       "                                   [10, 'respons | reply | respon | cak | imin', 52],\n",
       "                                   [11, 'viral | viralkan | ham | virus | anies', 51],\n",
       "                                   [12, 'data | luhut | cherry | tambang | cak', 33],\n",
       "                                   [13, 'estate | food | tani | blak | imin', 21]], dtype=object),\n",
       "              'hovertemplate': '<b>Topic %{customdata[0]}</b><br>%{customdata[1]}<br>Size: %{customdata[2]}',\n",
       "              'legendgroup': '',\n",
       "              'marker': {'color': '#B0BEC5',\n",
       "                         'line': {'color': 'DarkSlateGrey', 'width': 2},\n",
       "                         'size': {'bdata': 'jiijC5AGCAbqBS8CsQFmAekAmAA0ADMAIQAVAA==', 'dtype': 'i2'},\n",
       "                         'sizemode': 'area',\n",
       "                         'sizeref': 6.48875,\n",
       "                         'symbol': 'circle'},\n",
       "              'mode': 'markers',\n",
       "              'name': '',\n",
       "              'orientation': 'v',\n",
       "              'showlegend': False,\n",
       "              'type': 'scatter',\n",
       "              'x': {'bdata': '9xmgQYKJ7L/Vz4i/1SfJv6d+aL+52KRBJE+dQRbNoUEIs5tB0siwvxpfLr82qaVBkWSmvz15BsA=',\n",
       "                    'dtype': 'f4'},\n",
       "              'xaxis': 'x',\n",
       "              'y': {'bdata': 'dlP3wMq060DKIwVBdb0AQUGTw0Db2fvAaHDswOGlBcEMQADBRPHgQImRvkBzNArBJ2ztQOZI3EA=',\n",
       "                    'dtype': 'f4'},\n",
       "              'yaxis': 'y'}],\n",
       "    'layout': {'annotations': [{'showarrow': False,\n",
       "                                'text': 'D1',\n",
       "                                'x': np.float32(-2.4163222),\n",
       "                                'y': np.float32(-0.18202591),\n",
       "                                'yshift': 10},\n",
       "                               {'showarrow': False,\n",
       "                                'text': 'D2',\n",
       "                                'x': np.float32(10.698722),\n",
       "                                'xshift': 10,\n",
       "                                'y': np.float32(9.569424)}],\n",
       "               'height': 650,\n",
       "               'hoverlabel': {'bgcolor': 'white', 'font': {'family': 'Rockwell', 'size': 16}},\n",
       "               'legend': {'itemsizing': 'constant', 'tracegroupgap': 0},\n",
       "               'margin': {'t': 60},\n",
       "               'shapes': [{'line': {'color': '#CFD8DC', 'width': 2},\n",
       "                           'type': 'line',\n",
       "                           'x0': np.float32(10.698722),\n",
       "                           'x1': np.float32(10.698722),\n",
       "                           'y0': np.float32(-9.9334755),\n",
       "                           'y1': np.float32(9.569424)},\n",
       "                          {'line': {'color': '#9E9E9E', 'width': 2},\n",
       "                           'type': 'line',\n",
       "                           'x0': np.float32(-2.4163222),\n",
       "                           'x1': np.float32(23.813766),\n",
       "                           'y0': np.float32(-0.18202591),\n",
       "                           'y1': np.float32(-0.18202591)}],\n",
       "               'sliders': [{'active': 0,\n",
       "                            'pad': {'t': 50},\n",
       "                            'steps': [{'args': [{'marker.color': [['red',\n",
       "                                                                  '#B0BEC5',\n",
       "                                                                  '#B0BEC5',\n",
       "                                                                  '#B0BEC5',\n",
       "                                                                  '#B0BEC5',\n",
       "                                                                  '#B0BEC5',\n",
       "                                                                  '#B0BEC5',\n",
       "                                                                  '#B0BEC5',\n",
       "                                                                  '#B0BEC5',\n",
       "                                                                  '#B0BEC5',\n",
       "                                                                  '#B0BEC5',\n",
       "                                                                  '#B0BEC5',\n",
       "                                                                  '#B0BEC5',\n",
       "                                                                  '#B0BEC5']]}],\n",
       "                                       'label': 'Topic 0',\n",
       "                                       'method': 'update'},\n",
       "                                      {'args': [{'marker.color': [['#B0BEC5',\n",
       "                                                                  'red', '#B0BEC5',\n",
       "                                                                  '#B0BEC5',\n",
       "                                                                  '#B0BEC5',\n",
       "                                                                  '#B0BEC5',\n",
       "                                                                  '#B0BEC5',\n",
       "                                                                  '#B0BEC5',\n",
       "                                                                  '#B0BEC5',\n",
       "                                                                  '#B0BEC5',\n",
       "                                                                  '#B0BEC5',\n",
       "                                                                  '#B0BEC5',\n",
       "                                                                  '#B0BEC5',\n",
       "                                                                  '#B0BEC5']]}],\n",
       "                                       'label': 'Topic 1',\n",
       "                                       'method': 'update'},\n",
       "                                      {'args': [{'marker.color': [['#B0BEC5',\n",
       "                                                                  '#B0BEC5', 'red',\n",
       "                                                                  '#B0BEC5',\n",
       "                                                                  '#B0BEC5',\n",
       "                                                                  '#B0BEC5',\n",
       "                                                                  '#B0BEC5',\n",
       "                                                                  '#B0BEC5',\n",
       "                                                                  '#B0BEC5',\n",
       "                                                                  '#B0BEC5',\n",
       "                                                                  '#B0BEC5',\n",
       "                                                                  '#B0BEC5',\n",
       "                                                                  '#B0BEC5',\n",
       "                                                                  '#B0BEC5']]}],\n",
       "                                       'label': 'Topic 2',\n",
       "                                       'method': 'update'},\n",
       "                                      {'args': [{'marker.color': [['#B0BEC5',\n",
       "                                                                  '#B0BEC5',\n",
       "                                                                  '#B0BEC5', 'red',\n",
       "                                                                  '#B0BEC5',\n",
       "                                                                  '#B0BEC5',\n",
       "                                                                  '#B0BEC5',\n",
       "                                                                  '#B0BEC5',\n",
       "                                                                  '#B0BEC5',\n",
       "                                                                  '#B0BEC5',\n",
       "                                                                  '#B0BEC5',\n",
       "                                                                  '#B0BEC5',\n",
       "                                                                  '#B0BEC5',\n",
       "                                                                  '#B0BEC5']]}],\n",
       "                                       'label': 'Topic 3',\n",
       "                                       'method': 'update'},\n",
       "                                      {'args': [{'marker.color': [['#B0BEC5',\n",
       "                                                                  '#B0BEC5',\n",
       "                                                                  '#B0BEC5',\n",
       "                                                                  '#B0BEC5', 'red',\n",
       "                                                                  '#B0BEC5',\n",
       "                                                                  '#B0BEC5',\n",
       "                                                                  '#B0BEC5',\n",
       "                                                                  '#B0BEC5',\n",
       "                                                                  '#B0BEC5',\n",
       "                                                                  '#B0BEC5',\n",
       "                                                                  '#B0BEC5',\n",
       "                                                                  '#B0BEC5',\n",
       "                                                                  '#B0BEC5']]}],\n",
       "                                       'label': 'Topic 4',\n",
       "                                       'method': 'update'},\n",
       "                                      {'args': [{'marker.color': [['#B0BEC5',\n",
       "                                                                  '#B0BEC5',\n",
       "                                                                  '#B0BEC5',\n",
       "                                                                  '#B0BEC5',\n",
       "                                                                  '#B0BEC5', 'red',\n",
       "                                                                  '#B0BEC5',\n",
       "                                                                  '#B0BEC5',\n",
       "                                                                  '#B0BEC5',\n",
       "                                                                  '#B0BEC5',\n",
       "                                                                  '#B0BEC5',\n",
       "                                                                  '#B0BEC5',\n",
       "                                                                  '#B0BEC5',\n",
       "                                                                  '#B0BEC5']]}],\n",
       "                                       'label': 'Topic 5',\n",
       "                                       'method': 'update'},\n",
       "                                      {'args': [{'marker.color': [['#B0BEC5',\n",
       "                                                                  '#B0BEC5',\n",
       "                                                                  '#B0BEC5',\n",
       "                                                                  '#B0BEC5',\n",
       "                                                                  '#B0BEC5',\n",
       "                                                                  '#B0BEC5', 'red',\n",
       "                                                                  '#B0BEC5',\n",
       "                                                                  '#B0BEC5',\n",
       "                                                                  '#B0BEC5',\n",
       "                                                                  '#B0BEC5',\n",
       "                                                                  '#B0BEC5',\n",
       "                                                                  '#B0BEC5',\n",
       "                                                                  '#B0BEC5']]}],\n",
       "                                       'label': 'Topic 6',\n",
       "                                       'method': 'update'},\n",
       "                                      {'args': [{'marker.color': [['#B0BEC5',\n",
       "                                                                  '#B0BEC5',\n",
       "                                                                  '#B0BEC5',\n",
       "                                                                  '#B0BEC5',\n",
       "                                                                  '#B0BEC5',\n",
       "                                                                  '#B0BEC5',\n",
       "                                                                  '#B0BEC5', 'red',\n",
       "                                                                  '#B0BEC5',\n",
       "                                                                  '#B0BEC5',\n",
       "                                                                  '#B0BEC5',\n",
       "                                                                  '#B0BEC5',\n",
       "                                                                  '#B0BEC5',\n",
       "                                                                  '#B0BEC5']]}],\n",
       "                                       'label': 'Topic 7',\n",
       "                                       'method': 'update'},\n",
       "                                      {'args': [{'marker.color': [['#B0BEC5',\n",
       "                                                                  '#B0BEC5',\n",
       "                                                                  '#B0BEC5',\n",
       "                                                                  '#B0BEC5',\n",
       "                                                                  '#B0BEC5',\n",
       "                                                                  '#B0BEC5',\n",
       "                                                                  '#B0BEC5',\n",
       "                                                                  '#B0BEC5', 'red',\n",
       "                                                                  '#B0BEC5',\n",
       "                                                                  '#B0BEC5',\n",
       "                                                                  '#B0BEC5',\n",
       "                                                                  '#B0BEC5',\n",
       "                                                                  '#B0BEC5']]}],\n",
       "                                       'label': 'Topic 8',\n",
       "                                       'method': 'update'},\n",
       "                                      {'args': [{'marker.color': [['#B0BEC5',\n",
       "                                                                  '#B0BEC5',\n",
       "                                                                  '#B0BEC5',\n",
       "                                                                  '#B0BEC5',\n",
       "                                                                  '#B0BEC5',\n",
       "                                                                  '#B0BEC5',\n",
       "                                                                  '#B0BEC5',\n",
       "                                                                  '#B0BEC5',\n",
       "                                                                  '#B0BEC5', 'red',\n",
       "                                                                  '#B0BEC5',\n",
       "                                                                  '#B0BEC5',\n",
       "                                                                  '#B0BEC5',\n",
       "                                                                  '#B0BEC5']]}],\n",
       "                                       'label': 'Topic 9',\n",
       "                                       'method': 'update'},\n",
       "                                      {'args': [{'marker.color': [['#B0BEC5',\n",
       "                                                                  '#B0BEC5',\n",
       "                                                                  '#B0BEC5',\n",
       "                                                                  '#B0BEC5',\n",
       "                                                                  '#B0BEC5',\n",
       "                                                                  '#B0BEC5',\n",
       "                                                                  '#B0BEC5',\n",
       "                                                                  '#B0BEC5',\n",
       "                                                                  '#B0BEC5',\n",
       "                                                                  '#B0BEC5', 'red',\n",
       "                                                                  '#B0BEC5',\n",
       "                                                                  '#B0BEC5',\n",
       "                                                                  '#B0BEC5']]}],\n",
       "                                       'label': 'Topic 10',\n",
       "                                       'method': 'update'},\n",
       "                                      {'args': [{'marker.color': [['#B0BEC5',\n",
       "                                                                  '#B0BEC5',\n",
       "                                                                  '#B0BEC5',\n",
       "                                                                  '#B0BEC5',\n",
       "                                                                  '#B0BEC5',\n",
       "                                                                  '#B0BEC5',\n",
       "                                                                  '#B0BEC5',\n",
       "                                                                  '#B0BEC5',\n",
       "                                                                  '#B0BEC5',\n",
       "                                                                  '#B0BEC5',\n",
       "                                                                  '#B0BEC5', 'red',\n",
       "                                                                  '#B0BEC5',\n",
       "                                                                  '#B0BEC5']]}],\n",
       "                                       'label': 'Topic 11',\n",
       "                                       'method': 'update'},\n",
       "                                      {'args': [{'marker.color': [['#B0BEC5',\n",
       "                                                                  '#B0BEC5',\n",
       "                                                                  '#B0BEC5',\n",
       "                                                                  '#B0BEC5',\n",
       "                                                                  '#B0BEC5',\n",
       "                                                                  '#B0BEC5',\n",
       "                                                                  '#B0BEC5',\n",
       "                                                                  '#B0BEC5',\n",
       "                                                                  '#B0BEC5',\n",
       "                                                                  '#B0BEC5',\n",
       "                                                                  '#B0BEC5',\n",
       "                                                                  '#B0BEC5', 'red',\n",
       "                                                                  '#B0BEC5']]}],\n",
       "                                       'label': 'Topic 12',\n",
       "                                       'method': 'update'},\n",
       "                                      {'args': [{'marker.color': [['#B0BEC5',\n",
       "                                                                  '#B0BEC5',\n",
       "                                                                  '#B0BEC5',\n",
       "                                                                  '#B0BEC5',\n",
       "                                                                  '#B0BEC5',\n",
       "                                                                  '#B0BEC5',\n",
       "                                                                  '#B0BEC5',\n",
       "                                                                  '#B0BEC5',\n",
       "                                                                  '#B0BEC5',\n",
       "                                                                  '#B0BEC5',\n",
       "                                                                  '#B0BEC5',\n",
       "                                                                  '#B0BEC5',\n",
       "                                                                  '#B0BEC5',\n",
       "                                                                  'red']]}],\n",
       "                                       'label': 'Topic 13',\n",
       "                                       'method': 'update'}]}],\n",
       "               'template': '...',\n",
       "               'title': {'font': {'color': 'Black', 'size': 22},\n",
       "                         'text': '<b>Intertopic Distance Map</b>',\n",
       "                         'x': 0.5,\n",
       "                         'xanchor': 'center',\n",
       "                         'y': 0.95,\n",
       "                         'yanchor': 'top'},\n",
       "               'width': 650,\n",
       "               'xaxis': {'anchor': 'y',\n",
       "                         'domain': [0.0, 1.0],\n",
       "                         'range': [-2.4163222312927246, 23.813766479492188],\n",
       "                         'title': {'text': ''},\n",
       "                         'visible': False},\n",
       "               'yaxis': {'anchor': 'x',\n",
       "                         'domain': [0.0, 1.0],\n",
       "                         'range': [-9.933475494384766, 9.56942367553711],\n",
       "                         'title': {'text': ''},\n",
       "                         'visible': False}}\n",
       "})"
      ]
     },
     "execution_count": 12,
     "metadata": {},
     "output_type": "execute_result"
    }
   ],
   "source": [
    "topic_model_hdbscan.visualize_barchart(top_n_topics=15)\n",
    "topic_model_hdbscan.visualize_topics()"
   ]
  },
  {
   "cell_type": "code",
   "execution_count": 13,
   "id": "e3ecd171",
   "metadata": {},
   "outputs": [],
   "source": [
    "# df['created_at'] = pd.to_datetime(df['created_at'])"
   ]
  },
  {
   "cell_type": "code",
   "execution_count": 14,
   "id": "7f933a68",
   "metadata": {},
   "outputs": [],
   "source": [
    "# topics_over_time = topic_model_hdbscan.topics_over_time(\n",
    "#     docs=docs,\n",
    "#     topics=topics_hdbscan,\n",
    "#     timestamps=df['created_at'],\n",
    "#     nr_bins=20,  # Adjust to control time granularity\n",
    "#     evolution_tuning=True,\n",
    "#     global_tuning=True\n",
    "# )"
   ]
  },
  {
   "cell_type": "code",
   "execution_count": 15,
   "id": "abb52aa8",
   "metadata": {},
   "outputs": [],
   "source": [
    "# topic_model_hdbscan.visualize_topics_over_time(\n",
    "#     topics_over_time, \n",
    "#     top_n_topics=10  # Number of top topics to show\n",
    "# )\n"
   ]
  },
  {
   "cell_type": "code",
   "execution_count": 16,
   "id": "066d0783",
   "metadata": {},
   "outputs": [],
   "source": [
    "# Save results to CSV\n",
    "df_topics = pd.DataFrame({\"Document\": docs, \"Topic\": topics_hdbscan})\n",
    "df_topics.to_csv(\"topic_assignments_hdbscan.csv\", index=False)\n",
    "\n",
    "# Save model\n",
    "# topic_model.save(\"bertopic_model_hdbscan\")\n"
   ]
  },
  {
   "cell_type": "code",
   "execution_count": 13,
   "id": "c9ac13e6",
   "metadata": {},
   "outputs": [
    {
     "name": "stderr",
     "output_type": "stream",
     "text": [
      "2025-05-22 12:04:33,346 - BERTopic - Embedding - Transforming documents to embeddings.\n"
     ]
    },
    {
     "data": {
      "application/vnd.jupyter.widget-view+json": {
       "model_id": "d43091e972f34fb78099611d1a0c4bf6",
       "version_major": 2,
       "version_minor": 0
      },
      "text/plain": [
       "Batches:   0%|          | 0/934 [00:00<?, ?it/s]"
      ]
     },
     "metadata": {},
     "output_type": "display_data"
    },
    {
     "name": "stderr",
     "output_type": "stream",
     "text": [
      "2025-05-22 12:04:38,509 - BERTopic - Embedding - Completed ✓\n",
      "2025-05-22 12:04:38,510 - BERTopic - Dimensionality - Fitting the dimensionality reduction algorithm\n",
      "2025-05-22 12:04:40,784 - BERTopic - Dimensionality - Completed ✓\n",
      "2025-05-22 12:04:40,786 - BERTopic - Cluster - Start clustering the reduced embeddings\n",
      "2025-05-22 12:04:40,939 - BERTopic - Cluster - Completed ✓\n",
      "2025-05-22 12:04:40,945 - BERTopic - Representation - Fine-tuning topics using representation models.\n",
      "2025-05-22 12:04:41,114 - BERTopic - Representation - Completed ✓\n"
     ]
    },
    {
     "ename": "ValueError",
     "evalue": "Mime type rendering requires nbformat>=4.2.0 but it is not installed",
     "output_type": "error",
     "traceback": [
      "\u001b[1;31m---------------------------------------------------------------------------\u001b[0m",
      "\u001b[1;31mValueError\u001b[0m                                Traceback (most recent call last)",
      "File \u001b[1;32m~\\AppData\\Roaming\\Python\\Python310\\site-packages\\IPython\\core\\formatters.py:925\u001b[0m, in \u001b[0;36mIPythonDisplayFormatter.__call__\u001b[1;34m(self, obj)\u001b[0m\n\u001b[0;32m    923\u001b[0m method \u001b[38;5;241m=\u001b[39m get_real_method(obj, \u001b[38;5;28mself\u001b[39m\u001b[38;5;241m.\u001b[39mprint_method)\n\u001b[0;32m    924\u001b[0m \u001b[38;5;28;01mif\u001b[39;00m method \u001b[38;5;129;01mis\u001b[39;00m \u001b[38;5;129;01mnot\u001b[39;00m \u001b[38;5;28;01mNone\u001b[39;00m:\n\u001b[1;32m--> 925\u001b[0m     \u001b[43mmethod\u001b[49m\u001b[43m(\u001b[49m\u001b[43m)\u001b[49m\n\u001b[0;32m    926\u001b[0m     \u001b[38;5;28;01mreturn\u001b[39;00m \u001b[38;5;28;01mTrue\u001b[39;00m\n",
      "File \u001b[1;32mc:\\Users\\PC\\AppData\\Local\\Programs\\Python\\Python310\\lib\\site-packages\\plotly\\basedatatypes.py:846\u001b[0m, in \u001b[0;36mBaseFigure._ipython_display_\u001b[1;34m(self)\u001b[0m\n\u001b[0;32m    843\u001b[0m \u001b[38;5;28;01mimport\u001b[39;00m \u001b[38;5;21;01mplotly\u001b[39;00m\u001b[38;5;21;01m.\u001b[39;00m\u001b[38;5;21;01mio\u001b[39;00m \u001b[38;5;28;01mas\u001b[39;00m \u001b[38;5;21;01mpio\u001b[39;00m\n\u001b[0;32m    845\u001b[0m \u001b[38;5;28;01mif\u001b[39;00m pio\u001b[38;5;241m.\u001b[39mrenderers\u001b[38;5;241m.\u001b[39mrender_on_display \u001b[38;5;129;01mand\u001b[39;00m pio\u001b[38;5;241m.\u001b[39mrenderers\u001b[38;5;241m.\u001b[39mdefault:\n\u001b[1;32m--> 846\u001b[0m     \u001b[43mpio\u001b[49m\u001b[38;5;241;43m.\u001b[39;49m\u001b[43mshow\u001b[49m\u001b[43m(\u001b[49m\u001b[38;5;28;43mself\u001b[39;49m\u001b[43m)\u001b[49m\n\u001b[0;32m    847\u001b[0m \u001b[38;5;28;01melse\u001b[39;00m:\n\u001b[0;32m    848\u001b[0m     \u001b[38;5;28mprint\u001b[39m(\u001b[38;5;28mrepr\u001b[39m(\u001b[38;5;28mself\u001b[39m))\n",
      "File \u001b[1;32mc:\\Users\\PC\\AppData\\Local\\Programs\\Python\\Python310\\lib\\site-packages\\plotly\\io\\_renderers.py:425\u001b[0m, in \u001b[0;36mshow\u001b[1;34m(fig, renderer, validate, **kwargs)\u001b[0m\n\u001b[0;32m    420\u001b[0m     \u001b[38;5;28;01mraise\u001b[39;00m \u001b[38;5;167;01mValueError\u001b[39;00m(\n\u001b[0;32m    421\u001b[0m         \u001b[38;5;124m\"\u001b[39m\u001b[38;5;124mMime type rendering requires ipython but it is not installed\u001b[39m\u001b[38;5;124m\"\u001b[39m\n\u001b[0;32m    422\u001b[0m     )\n\u001b[0;32m    424\u001b[0m \u001b[38;5;28;01mif\u001b[39;00m \u001b[38;5;129;01mnot\u001b[39;00m nbformat \u001b[38;5;129;01mor\u001b[39;00m Version(nbformat\u001b[38;5;241m.\u001b[39m__version__) \u001b[38;5;241m<\u001b[39m Version(\u001b[38;5;124m\"\u001b[39m\u001b[38;5;124m4.2.0\u001b[39m\u001b[38;5;124m\"\u001b[39m):\n\u001b[1;32m--> 425\u001b[0m     \u001b[38;5;28;01mraise\u001b[39;00m \u001b[38;5;167;01mValueError\u001b[39;00m(\n\u001b[0;32m    426\u001b[0m         \u001b[38;5;124m\"\u001b[39m\u001b[38;5;124mMime type rendering requires nbformat>=4.2.0 but it is not installed\u001b[39m\u001b[38;5;124m\"\u001b[39m\n\u001b[0;32m    427\u001b[0m     )\n\u001b[0;32m    429\u001b[0m display_jupyter_version_warnings()\n\u001b[0;32m    431\u001b[0m ipython_display\u001b[38;5;241m.\u001b[39mdisplay(bundle, raw\u001b[38;5;241m=\u001b[39m\u001b[38;5;28;01mTrue\u001b[39;00m)\n",
      "\u001b[1;31mValueError\u001b[0m: Mime type rendering requires nbformat>=4.2.0 but it is not installed"
     ]
    },
    {
     "data": {
      "application/vnd.plotly.v1+json": {
       "config": {
        "plotlyServerURL": "https://plot.ly"
       },
       "data": [
        {
         "marker": {
          "color": "#D55E00"
         },
         "orientation": "h",
         "type": "bar",
         "x": [
          0.02891636204398661,
          0.029205198271782782,
          0.037948476104567454,
          0.05080941147309609,
          0.0771922877941425
         ],
         "xaxis": "x",
         "y": [
          "pasang  ",
          "pilih  ",
          "orang  ",
          "dukung  ",
          "01  "
         ],
         "yaxis": "y"
        },
        {
         "marker": {
          "color": "#0072B2"
         },
         "orientation": "h",
         "type": "bar",
         "x": [
          0.027421154467304733,
          0.030602561745866348,
          0.035872245111182206,
          0.06138137985566899,
          0.11554277495623003
         ],
         "xaxis": "x2",
         "y": [
          "buzzer  ",
          "pasang  ",
          "pilih  ",
          "dukung  ",
          "01  "
         ],
         "yaxis": "y2"
        },
        {
         "marker": {
          "color": "#CC79A7"
         },
         "orientation": "h",
         "type": "bar",
         "x": [
          0.04209595079374513,
          0.04508020447036836,
          0.047310535139710216,
          0.056487032786511716,
          0.07949788701704243
         ],
         "xaxis": "x3",
         "y": [
          "rasyid  ",
          "cak  ",
          "imin  ",
          "baswedan  ",
          "anies  "
         ],
         "yaxis": "y3"
        },
        {
         "marker": {
          "color": "#E69F00"
         },
         "orientation": "h",
         "type": "bar",
         "x": [
          0.02131614622349928,
          0.02399918841722143,
          0.03466486855430646,
          0.0531542971346682,
          0.19632775559089122
         ],
         "xaxis": "x4",
         "y": [
          "bang  ",
          "amin  ",
          "pilih  ",
          "dukung  ",
          "01  "
         ],
         "yaxis": "y4"
        },
        {
         "marker": {
          "color": "#56B4E9"
         },
         "orientation": "h",
         "type": "bar",
         "x": [
          0.026318409920251522,
          0.02770067127609489,
          0.0281829790017286,
          0.03098110087946016,
          0.0475807452926366
         ],
         "xaxis": "x5",
         "y": [
          "pasang  ",
          "orang  ",
          "kampanye  ",
          "dukung  ",
          "01  "
         ],
         "yaxis": "y5"
        },
        {
         "marker": {
          "color": "#009E73"
         },
         "orientation": "h",
         "type": "bar",
         "x": [
          0.037319462726674676,
          0.0394670069279208,
          0.059978201999192016,
          0.06988712533422983,
          0.10413526080627769
         ],
         "xaxis": "x6",
         "y": [
          "baswedan  ",
          "calon  ",
          "pilih  ",
          "anies  ",
          "presiden  "
         ],
         "yaxis": "y6"
        },
        {
         "marker": {
          "color": "#F0E442"
         },
         "orientation": "h",
         "type": "bar",
         "x": [
          0.04011888289893154,
          0.04415990536663801,
          0.04427302822949799,
          0.05464400117949251,
          0.06865704159758221
         ],
         "xaxis": "x7",
         "y": [
          "baswedan  ",
          "cak  ",
          "imin  ",
          "indonesia  ",
          "anies  "
         ],
         "yaxis": "y7"
        },
        {
         "marker": {
          "color": "#D55E00"
         },
         "orientation": "h",
         "type": "bar",
         "x": [
          0.0222361915170638,
          0.02775800344796687,
          0.07473900577980004,
          0.18267903065599034,
          0.18944443315034068
         ],
         "xaxis": "x8",
         "y": [
          "baswedan  ",
          "banget  ",
          "anies  ",
          "imin  ",
          "cak  "
         ],
         "yaxis": "y8"
        },
        {
         "marker": {
          "color": "#0072B2"
         },
         "orientation": "h",
         "type": "bar",
         "x": [
          0.03533645135391245,
          0.041488034825448314,
          0.05355932605394615,
          0.06369332890736079,
          0.09057401566866607
         ],
         "xaxis": "x9",
         "y": [
          "twitter  ",
          "dukung  ",
          "video  ",
          "01  ",
          "kayak  "
         ],
         "yaxis": "y9"
        },
        {
         "marker": {
          "color": "#CC79A7"
         },
         "orientation": "h",
         "type": "bar",
         "x": [
          0.03759229914871937,
          0.0501473531624071,
          0.058450679149207645,
          0.06150959975096537,
          0.07119778928761121
         ],
         "xaxis": "x10",
         "y": [
          "agama  ",
          "pintar  ",
          "01  ",
          "indonesia  ",
          "suara  "
         ],
         "yaxis": "y10"
        },
        {
         "marker": {
          "color": "#E69F00"
         },
         "orientation": "h",
         "type": "bar",
         "x": [
          0.03563521312526459,
          0.04836617961392504,
          0.05214259916499659,
          0.09676439591645165,
          0.12313063310536726
         ],
         "xaxis": "x11",
         "y": [
          "pilih  ",
          "wakil  ",
          "01  ",
          "calon  ",
          "presiden  "
         ],
         "yaxis": "y11"
        },
        {
         "marker": {
          "color": "#56B4E9"
         },
         "orientation": "h",
         "type": "bar",
         "x": [
          0.03743921864573726,
          0.05189741774128115,
          0.06603133811904009,
          0.09047290881087512,
          0.18865773589216503
         ],
         "xaxis": "x12",
         "y": [
          "sukses  ",
          "gara  ",
          "survei  ",
          "01  ",
          "menang  "
         ],
         "yaxis": "y12"
        },
        {
         "marker": {
          "color": "#009E73"
         },
         "orientation": "h",
         "type": "bar",
         "x": [
          0.044212219357015255,
          0.04541794554570336,
          0.06553758436890038,
          0.0756002403087328,
          0.10828429280392676
         ],
         "xaxis": "x13",
         "y": [
          "demokrat  ",
          "01  ",
          "partai  ",
          "demokrasi  ",
          "politik  "
         ],
         "yaxis": "y13"
        },
        {
         "marker": {
          "color": "#F0E442"
         },
         "orientation": "h",
         "type": "bar",
         "x": [
          0.03426585608279747,
          0.04046790368615899,
          0.050732590840683864,
          0.05276859388491714,
          0.17255006262479206
         ],
         "xaxis": "x14",
         "y": [
          "strategi  ",
          "presiden  ",
          "01  ",
          "calon  ",
          "debat  "
         ],
         "yaxis": "y14"
        },
        {
         "marker": {
          "color": "#D55E00"
         },
         "orientation": "h",
         "type": "bar",
         "x": [
          0.0502153042521014,
          0.06484758885303106,
          0.06886754483124181,
          0.06937754187446969,
          0.18168034138832068
         ],
         "xaxis": "x15",
         "y": [
          "anies  ",
          "presiden  ",
          "imin  ",
          "cak  ",
          "debat  "
         ],
         "yaxis": "y15"
        }
       ],
       "layout": {
        "annotations": [
         {
          "font": {
           "size": 16
          },
          "showarrow": false,
          "text": "Topic 0",
          "x": 0.0875,
          "xanchor": "center",
          "xref": "paper",
          "y": 1,
          "yanchor": "bottom",
          "yref": "paper"
         },
         {
          "font": {
           "size": 16
          },
          "showarrow": false,
          "text": "Topic 1",
          "x": 0.36250000000000004,
          "xanchor": "center",
          "xref": "paper",
          "y": 1,
          "yanchor": "bottom",
          "yref": "paper"
         },
         {
          "font": {
           "size": 16
          },
          "showarrow": false,
          "text": "Topic 2",
          "x": 0.6375000000000001,
          "xanchor": "center",
          "xref": "paper",
          "y": 1,
          "yanchor": "bottom",
          "yref": "paper"
         },
         {
          "font": {
           "size": 16
          },
          "showarrow": false,
          "text": "Topic 3",
          "x": 0.9125,
          "xanchor": "center",
          "xref": "paper",
          "y": 1,
          "yanchor": "bottom",
          "yref": "paper"
         },
         {
          "font": {
           "size": 16
          },
          "showarrow": false,
          "text": "Topic 4",
          "x": 0.0875,
          "xanchor": "center",
          "xref": "paper",
          "y": 0.7250000000000001,
          "yanchor": "bottom",
          "yref": "paper"
         },
         {
          "font": {
           "size": 16
          },
          "showarrow": false,
          "text": "Topic 5",
          "x": 0.36250000000000004,
          "xanchor": "center",
          "xref": "paper",
          "y": 0.7250000000000001,
          "yanchor": "bottom",
          "yref": "paper"
         },
         {
          "font": {
           "size": 16
          },
          "showarrow": false,
          "text": "Topic 6",
          "x": 0.6375000000000001,
          "xanchor": "center",
          "xref": "paper",
          "y": 0.7250000000000001,
          "yanchor": "bottom",
          "yref": "paper"
         },
         {
          "font": {
           "size": 16
          },
          "showarrow": false,
          "text": "Topic 7",
          "x": 0.9125,
          "xanchor": "center",
          "xref": "paper",
          "y": 0.7250000000000001,
          "yanchor": "bottom",
          "yref": "paper"
         },
         {
          "font": {
           "size": 16
          },
          "showarrow": false,
          "text": "Topic 8",
          "x": 0.0875,
          "xanchor": "center",
          "xref": "paper",
          "y": 0.45,
          "yanchor": "bottom",
          "yref": "paper"
         },
         {
          "font": {
           "size": 16
          },
          "showarrow": false,
          "text": "Topic 9",
          "x": 0.36250000000000004,
          "xanchor": "center",
          "xref": "paper",
          "y": 0.45,
          "yanchor": "bottom",
          "yref": "paper"
         },
         {
          "font": {
           "size": 16
          },
          "showarrow": false,
          "text": "Topic 10",
          "x": 0.6375000000000001,
          "xanchor": "center",
          "xref": "paper",
          "y": 0.45,
          "yanchor": "bottom",
          "yref": "paper"
         },
         {
          "font": {
           "size": 16
          },
          "showarrow": false,
          "text": "Topic 11",
          "x": 0.9125,
          "xanchor": "center",
          "xref": "paper",
          "y": 0.45,
          "yanchor": "bottom",
          "yref": "paper"
         },
         {
          "font": {
           "size": 16
          },
          "showarrow": false,
          "text": "Topic 12",
          "x": 0.0875,
          "xanchor": "center",
          "xref": "paper",
          "y": 0.175,
          "yanchor": "bottom",
          "yref": "paper"
         },
         {
          "font": {
           "size": 16
          },
          "showarrow": false,
          "text": "Topic 13",
          "x": 0.36250000000000004,
          "xanchor": "center",
          "xref": "paper",
          "y": 0.175,
          "yanchor": "bottom",
          "yref": "paper"
         },
         {
          "font": {
           "size": 16
          },
          "showarrow": false,
          "text": "Topic 14",
          "x": 0.6375000000000001,
          "xanchor": "center",
          "xref": "paper",
          "y": 0.175,
          "yanchor": "bottom",
          "yref": "paper"
         }
        ],
        "height": 1000,
        "hoverlabel": {
         "bgcolor": "white",
         "font": {
          "family": "Rockwell",
          "size": 16
         }
        },
        "showlegend": false,
        "template": {
         "data": {
          "bar": [
           {
            "error_x": {
             "color": "#2a3f5f"
            },
            "error_y": {
             "color": "#2a3f5f"
            },
            "marker": {
             "line": {
              "color": "white",
              "width": 0.5
             },
             "pattern": {
              "fillmode": "overlay",
              "size": 10,
              "solidity": 0.2
             }
            },
            "type": "bar"
           }
          ],
          "barpolar": [
           {
            "marker": {
             "line": {
              "color": "white",
              "width": 0.5
             },
             "pattern": {
              "fillmode": "overlay",
              "size": 10,
              "solidity": 0.2
             }
            },
            "type": "barpolar"
           }
          ],
          "carpet": [
           {
            "aaxis": {
             "endlinecolor": "#2a3f5f",
             "gridcolor": "#C8D4E3",
             "linecolor": "#C8D4E3",
             "minorgridcolor": "#C8D4E3",
             "startlinecolor": "#2a3f5f"
            },
            "baxis": {
             "endlinecolor": "#2a3f5f",
             "gridcolor": "#C8D4E3",
             "linecolor": "#C8D4E3",
             "minorgridcolor": "#C8D4E3",
             "startlinecolor": "#2a3f5f"
            },
            "type": "carpet"
           }
          ],
          "choropleth": [
           {
            "colorbar": {
             "outlinewidth": 0,
             "ticks": ""
            },
            "type": "choropleth"
           }
          ],
          "contour": [
           {
            "colorbar": {
             "outlinewidth": 0,
             "ticks": ""
            },
            "colorscale": [
             [
              0,
              "#0d0887"
             ],
             [
              0.1111111111111111,
              "#46039f"
             ],
             [
              0.2222222222222222,
              "#7201a8"
             ],
             [
              0.3333333333333333,
              "#9c179e"
             ],
             [
              0.4444444444444444,
              "#bd3786"
             ],
             [
              0.5555555555555556,
              "#d8576b"
             ],
             [
              0.6666666666666666,
              "#ed7953"
             ],
             [
              0.7777777777777778,
              "#fb9f3a"
             ],
             [
              0.8888888888888888,
              "#fdca26"
             ],
             [
              1,
              "#f0f921"
             ]
            ],
            "type": "contour"
           }
          ],
          "contourcarpet": [
           {
            "colorbar": {
             "outlinewidth": 0,
             "ticks": ""
            },
            "type": "contourcarpet"
           }
          ],
          "heatmap": [
           {
            "colorbar": {
             "outlinewidth": 0,
             "ticks": ""
            },
            "colorscale": [
             [
              0,
              "#0d0887"
             ],
             [
              0.1111111111111111,
              "#46039f"
             ],
             [
              0.2222222222222222,
              "#7201a8"
             ],
             [
              0.3333333333333333,
              "#9c179e"
             ],
             [
              0.4444444444444444,
              "#bd3786"
             ],
             [
              0.5555555555555556,
              "#d8576b"
             ],
             [
              0.6666666666666666,
              "#ed7953"
             ],
             [
              0.7777777777777778,
              "#fb9f3a"
             ],
             [
              0.8888888888888888,
              "#fdca26"
             ],
             [
              1,
              "#f0f921"
             ]
            ],
            "type": "heatmap"
           }
          ],
          "histogram": [
           {
            "marker": {
             "pattern": {
              "fillmode": "overlay",
              "size": 10,
              "solidity": 0.2
             }
            },
            "type": "histogram"
           }
          ],
          "histogram2d": [
           {
            "colorbar": {
             "outlinewidth": 0,
             "ticks": ""
            },
            "colorscale": [
             [
              0,
              "#0d0887"
             ],
             [
              0.1111111111111111,
              "#46039f"
             ],
             [
              0.2222222222222222,
              "#7201a8"
             ],
             [
              0.3333333333333333,
              "#9c179e"
             ],
             [
              0.4444444444444444,
              "#bd3786"
             ],
             [
              0.5555555555555556,
              "#d8576b"
             ],
             [
              0.6666666666666666,
              "#ed7953"
             ],
             [
              0.7777777777777778,
              "#fb9f3a"
             ],
             [
              0.8888888888888888,
              "#fdca26"
             ],
             [
              1,
              "#f0f921"
             ]
            ],
            "type": "histogram2d"
           }
          ],
          "histogram2dcontour": [
           {
            "colorbar": {
             "outlinewidth": 0,
             "ticks": ""
            },
            "colorscale": [
             [
              0,
              "#0d0887"
             ],
             [
              0.1111111111111111,
              "#46039f"
             ],
             [
              0.2222222222222222,
              "#7201a8"
             ],
             [
              0.3333333333333333,
              "#9c179e"
             ],
             [
              0.4444444444444444,
              "#bd3786"
             ],
             [
              0.5555555555555556,
              "#d8576b"
             ],
             [
              0.6666666666666666,
              "#ed7953"
             ],
             [
              0.7777777777777778,
              "#fb9f3a"
             ],
             [
              0.8888888888888888,
              "#fdca26"
             ],
             [
              1,
              "#f0f921"
             ]
            ],
            "type": "histogram2dcontour"
           }
          ],
          "mesh3d": [
           {
            "colorbar": {
             "outlinewidth": 0,
             "ticks": ""
            },
            "type": "mesh3d"
           }
          ],
          "parcoords": [
           {
            "line": {
             "colorbar": {
              "outlinewidth": 0,
              "ticks": ""
             }
            },
            "type": "parcoords"
           }
          ],
          "pie": [
           {
            "automargin": true,
            "type": "pie"
           }
          ],
          "scatter": [
           {
            "fillpattern": {
             "fillmode": "overlay",
             "size": 10,
             "solidity": 0.2
            },
            "type": "scatter"
           }
          ],
          "scatter3d": [
           {
            "line": {
             "colorbar": {
              "outlinewidth": 0,
              "ticks": ""
             }
            },
            "marker": {
             "colorbar": {
              "outlinewidth": 0,
              "ticks": ""
             }
            },
            "type": "scatter3d"
           }
          ],
          "scattercarpet": [
           {
            "marker": {
             "colorbar": {
              "outlinewidth": 0,
              "ticks": ""
             }
            },
            "type": "scattercarpet"
           }
          ],
          "scattergeo": [
           {
            "marker": {
             "colorbar": {
              "outlinewidth": 0,
              "ticks": ""
             }
            },
            "type": "scattergeo"
           }
          ],
          "scattergl": [
           {
            "marker": {
             "colorbar": {
              "outlinewidth": 0,
              "ticks": ""
             }
            },
            "type": "scattergl"
           }
          ],
          "scattermap": [
           {
            "marker": {
             "colorbar": {
              "outlinewidth": 0,
              "ticks": ""
             }
            },
            "type": "scattermap"
           }
          ],
          "scattermapbox": [
           {
            "marker": {
             "colorbar": {
              "outlinewidth": 0,
              "ticks": ""
             }
            },
            "type": "scattermapbox"
           }
          ],
          "scatterpolar": [
           {
            "marker": {
             "colorbar": {
              "outlinewidth": 0,
              "ticks": ""
             }
            },
            "type": "scatterpolar"
           }
          ],
          "scatterpolargl": [
           {
            "marker": {
             "colorbar": {
              "outlinewidth": 0,
              "ticks": ""
             }
            },
            "type": "scatterpolargl"
           }
          ],
          "scatterternary": [
           {
            "marker": {
             "colorbar": {
              "outlinewidth": 0,
              "ticks": ""
             }
            },
            "type": "scatterternary"
           }
          ],
          "surface": [
           {
            "colorbar": {
             "outlinewidth": 0,
             "ticks": ""
            },
            "colorscale": [
             [
              0,
              "#0d0887"
             ],
             [
              0.1111111111111111,
              "#46039f"
             ],
             [
              0.2222222222222222,
              "#7201a8"
             ],
             [
              0.3333333333333333,
              "#9c179e"
             ],
             [
              0.4444444444444444,
              "#bd3786"
             ],
             [
              0.5555555555555556,
              "#d8576b"
             ],
             [
              0.6666666666666666,
              "#ed7953"
             ],
             [
              0.7777777777777778,
              "#fb9f3a"
             ],
             [
              0.8888888888888888,
              "#fdca26"
             ],
             [
              1,
              "#f0f921"
             ]
            ],
            "type": "surface"
           }
          ],
          "table": [
           {
            "cells": {
             "fill": {
              "color": "#EBF0F8"
             },
             "line": {
              "color": "white"
             }
            },
            "header": {
             "fill": {
              "color": "#C8D4E3"
             },
             "line": {
              "color": "white"
             }
            },
            "type": "table"
           }
          ]
         },
         "layout": {
          "annotationdefaults": {
           "arrowcolor": "#2a3f5f",
           "arrowhead": 0,
           "arrowwidth": 1
          },
          "autotypenumbers": "strict",
          "coloraxis": {
           "colorbar": {
            "outlinewidth": 0,
            "ticks": ""
           }
          },
          "colorscale": {
           "diverging": [
            [
             0,
             "#8e0152"
            ],
            [
             0.1,
             "#c51b7d"
            ],
            [
             0.2,
             "#de77ae"
            ],
            [
             0.3,
             "#f1b6da"
            ],
            [
             0.4,
             "#fde0ef"
            ],
            [
             0.5,
             "#f7f7f7"
            ],
            [
             0.6,
             "#e6f5d0"
            ],
            [
             0.7,
             "#b8e186"
            ],
            [
             0.8,
             "#7fbc41"
            ],
            [
             0.9,
             "#4d9221"
            ],
            [
             1,
             "#276419"
            ]
           ],
           "sequential": [
            [
             0,
             "#0d0887"
            ],
            [
             0.1111111111111111,
             "#46039f"
            ],
            [
             0.2222222222222222,
             "#7201a8"
            ],
            [
             0.3333333333333333,
             "#9c179e"
            ],
            [
             0.4444444444444444,
             "#bd3786"
            ],
            [
             0.5555555555555556,
             "#d8576b"
            ],
            [
             0.6666666666666666,
             "#ed7953"
            ],
            [
             0.7777777777777778,
             "#fb9f3a"
            ],
            [
             0.8888888888888888,
             "#fdca26"
            ],
            [
             1,
             "#f0f921"
            ]
           ],
           "sequentialminus": [
            [
             0,
             "#0d0887"
            ],
            [
             0.1111111111111111,
             "#46039f"
            ],
            [
             0.2222222222222222,
             "#7201a8"
            ],
            [
             0.3333333333333333,
             "#9c179e"
            ],
            [
             0.4444444444444444,
             "#bd3786"
            ],
            [
             0.5555555555555556,
             "#d8576b"
            ],
            [
             0.6666666666666666,
             "#ed7953"
            ],
            [
             0.7777777777777778,
             "#fb9f3a"
            ],
            [
             0.8888888888888888,
             "#fdca26"
            ],
            [
             1,
             "#f0f921"
            ]
           ]
          },
          "colorway": [
           "#636efa",
           "#EF553B",
           "#00cc96",
           "#ab63fa",
           "#FFA15A",
           "#19d3f3",
           "#FF6692",
           "#B6E880",
           "#FF97FF",
           "#FECB52"
          ],
          "font": {
           "color": "#2a3f5f"
          },
          "geo": {
           "bgcolor": "white",
           "lakecolor": "white",
           "landcolor": "white",
           "showlakes": true,
           "showland": true,
           "subunitcolor": "#C8D4E3"
          },
          "hoverlabel": {
           "align": "left"
          },
          "hovermode": "closest",
          "mapbox": {
           "style": "light"
          },
          "paper_bgcolor": "white",
          "plot_bgcolor": "white",
          "polar": {
           "angularaxis": {
            "gridcolor": "#EBF0F8",
            "linecolor": "#EBF0F8",
            "ticks": ""
           },
           "bgcolor": "white",
           "radialaxis": {
            "gridcolor": "#EBF0F8",
            "linecolor": "#EBF0F8",
            "ticks": ""
           }
          },
          "scene": {
           "xaxis": {
            "backgroundcolor": "white",
            "gridcolor": "#DFE8F3",
            "gridwidth": 2,
            "linecolor": "#EBF0F8",
            "showbackground": true,
            "ticks": "",
            "zerolinecolor": "#EBF0F8"
           },
           "yaxis": {
            "backgroundcolor": "white",
            "gridcolor": "#DFE8F3",
            "gridwidth": 2,
            "linecolor": "#EBF0F8",
            "showbackground": true,
            "ticks": "",
            "zerolinecolor": "#EBF0F8"
           },
           "zaxis": {
            "backgroundcolor": "white",
            "gridcolor": "#DFE8F3",
            "gridwidth": 2,
            "linecolor": "#EBF0F8",
            "showbackground": true,
            "ticks": "",
            "zerolinecolor": "#EBF0F8"
           }
          },
          "shapedefaults": {
           "line": {
            "color": "#2a3f5f"
           }
          },
          "ternary": {
           "aaxis": {
            "gridcolor": "#DFE8F3",
            "linecolor": "#A2B1C6",
            "ticks": ""
           },
           "baxis": {
            "gridcolor": "#DFE8F3",
            "linecolor": "#A2B1C6",
            "ticks": ""
           },
           "bgcolor": "white",
           "caxis": {
            "gridcolor": "#DFE8F3",
            "linecolor": "#A2B1C6",
            "ticks": ""
           }
          },
          "title": {
           "x": 0.05
          },
          "xaxis": {
           "automargin": true,
           "gridcolor": "#EBF0F8",
           "linecolor": "#EBF0F8",
           "ticks": "",
           "title": {
            "standoff": 15
           },
           "zerolinecolor": "#EBF0F8",
           "zerolinewidth": 2
          },
          "yaxis": {
           "automargin": true,
           "gridcolor": "#EBF0F8",
           "linecolor": "#EBF0F8",
           "ticks": "",
           "title": {
            "standoff": 15
           },
           "zerolinecolor": "#EBF0F8",
           "zerolinewidth": 2
          }
         }
        },
        "title": {
         "font": {
          "color": "Black",
          "size": 22
         },
         "text": "Topic Word Scores",
         "x": 0.5,
         "xanchor": "center",
         "yanchor": "top"
        },
        "width": 1000,
        "xaxis": {
         "anchor": "y",
         "domain": [
          0,
          0.175
         ],
         "showgrid": true
        },
        "xaxis10": {
         "anchor": "y10",
         "domain": [
          0.275,
          0.45
         ],
         "showgrid": true
        },
        "xaxis11": {
         "anchor": "y11",
         "domain": [
          0.55,
          0.7250000000000001
         ],
         "showgrid": true
        },
        "xaxis12": {
         "anchor": "y12",
         "domain": [
          0.825,
          1
         ],
         "showgrid": true
        },
        "xaxis13": {
         "anchor": "y13",
         "domain": [
          0,
          0.175
         ],
         "showgrid": true
        },
        "xaxis14": {
         "anchor": "y14",
         "domain": [
          0.275,
          0.45
         ],
         "showgrid": true
        },
        "xaxis15": {
         "anchor": "y15",
         "domain": [
          0.55,
          0.7250000000000001
         ],
         "showgrid": true
        },
        "xaxis16": {
         "anchor": "y16",
         "domain": [
          0.825,
          1
         ],
         "showgrid": true
        },
        "xaxis2": {
         "anchor": "y2",
         "domain": [
          0.275,
          0.45
         ],
         "showgrid": true
        },
        "xaxis3": {
         "anchor": "y3",
         "domain": [
          0.55,
          0.7250000000000001
         ],
         "showgrid": true
        },
        "xaxis4": {
         "anchor": "y4",
         "domain": [
          0.825,
          1
         ],
         "showgrid": true
        },
        "xaxis5": {
         "anchor": "y5",
         "domain": [
          0,
          0.175
         ],
         "showgrid": true
        },
        "xaxis6": {
         "anchor": "y6",
         "domain": [
          0.275,
          0.45
         ],
         "showgrid": true
        },
        "xaxis7": {
         "anchor": "y7",
         "domain": [
          0.55,
          0.7250000000000001
         ],
         "showgrid": true
        },
        "xaxis8": {
         "anchor": "y8",
         "domain": [
          0.825,
          1
         ],
         "showgrid": true
        },
        "xaxis9": {
         "anchor": "y9",
         "domain": [
          0,
          0.175
         ],
         "showgrid": true
        },
        "yaxis": {
         "anchor": "x",
         "domain": [
          0.825,
          1
         ],
         "showgrid": true
        },
        "yaxis10": {
         "anchor": "x10",
         "domain": [
          0.275,
          0.45
         ],
         "showgrid": true
        },
        "yaxis11": {
         "anchor": "x11",
         "domain": [
          0.275,
          0.45
         ],
         "showgrid": true
        },
        "yaxis12": {
         "anchor": "x12",
         "domain": [
          0.275,
          0.45
         ],
         "showgrid": true
        },
        "yaxis13": {
         "anchor": "x13",
         "domain": [
          0,
          0.175
         ],
         "showgrid": true
        },
        "yaxis14": {
         "anchor": "x14",
         "domain": [
          0,
          0.175
         ],
         "showgrid": true
        },
        "yaxis15": {
         "anchor": "x15",
         "domain": [
          0,
          0.175
         ],
         "showgrid": true
        },
        "yaxis16": {
         "anchor": "x16",
         "domain": [
          0,
          0.175
         ],
         "showgrid": true
        },
        "yaxis2": {
         "anchor": "x2",
         "domain": [
          0.825,
          1
         ],
         "showgrid": true
        },
        "yaxis3": {
         "anchor": "x3",
         "domain": [
          0.825,
          1
         ],
         "showgrid": true
        },
        "yaxis4": {
         "anchor": "x4",
         "domain": [
          0.825,
          1
         ],
         "showgrid": true
        },
        "yaxis5": {
         "anchor": "x5",
         "domain": [
          0.55,
          0.7250000000000001
         ],
         "showgrid": true
        },
        "yaxis6": {
         "anchor": "x6",
         "domain": [
          0.55,
          0.7250000000000001
         ],
         "showgrid": true
        },
        "yaxis7": {
         "anchor": "x7",
         "domain": [
          0.55,
          0.7250000000000001
         ],
         "showgrid": true
        },
        "yaxis8": {
         "anchor": "x8",
         "domain": [
          0.55,
          0.7250000000000001
         ],
         "showgrid": true
        },
        "yaxis9": {
         "anchor": "x9",
         "domain": [
          0.275,
          0.45
         ],
         "showgrid": true
        }
       }
      },
      "text/html": [
       "<div>                        <script type=\"text/javascript\">window.PlotlyConfig = {MathJaxConfig: 'local'};</script>\n",
       "        <script charset=\"utf-8\" src=\"https://cdn.plot.ly/plotly-3.0.1.min.js\"></script>                <div id=\"86f8eaf3-2156-4874-a649-c13fc90f2b5d\" class=\"plotly-graph-div\" style=\"height:1000px; width:1000px;\"></div>            <script type=\"text/javascript\">                window.PLOTLYENV=window.PLOTLYENV || {};                                if (document.getElementById(\"86f8eaf3-2156-4874-a649-c13fc90f2b5d\")) {                    Plotly.newPlot(                        \"86f8eaf3-2156-4874-a649-c13fc90f2b5d\",                        [{\"marker\":{\"color\":\"#D55E00\"},\"orientation\":\"h\",\"x\":[0.02891636204398661,0.029205198271782782,0.037948476104567454,0.05080941147309609,0.0771922877941425],\"y\":[\"pasang  \",\"pilih  \",\"orang  \",\"dukung  \",\"01  \"],\"type\":\"bar\",\"xaxis\":\"x\",\"yaxis\":\"y\"},{\"marker\":{\"color\":\"#0072B2\"},\"orientation\":\"h\",\"x\":[0.027421154467304733,0.030602561745866348,0.035872245111182206,0.06138137985566899,0.11554277495623003],\"y\":[\"buzzer  \",\"pasang  \",\"pilih  \",\"dukung  \",\"01  \"],\"type\":\"bar\",\"xaxis\":\"x2\",\"yaxis\":\"y2\"},{\"marker\":{\"color\":\"#CC79A7\"},\"orientation\":\"h\",\"x\":[0.04209595079374513,0.04508020447036836,0.047310535139710216,0.056487032786511716,0.07949788701704243],\"y\":[\"rasyid  \",\"cak  \",\"imin  \",\"baswedan  \",\"anies  \"],\"type\":\"bar\",\"xaxis\":\"x3\",\"yaxis\":\"y3\"},{\"marker\":{\"color\":\"#E69F00\"},\"orientation\":\"h\",\"x\":[0.02131614622349928,0.02399918841722143,0.03466486855430646,0.0531542971346682,0.19632775559089122],\"y\":[\"bang  \",\"amin  \",\"pilih  \",\"dukung  \",\"01  \"],\"type\":\"bar\",\"xaxis\":\"x4\",\"yaxis\":\"y4\"},{\"marker\":{\"color\":\"#56B4E9\"},\"orientation\":\"h\",\"x\":[0.026318409920251522,0.02770067127609489,0.0281829790017286,0.03098110087946016,0.0475807452926366],\"y\":[\"pasang  \",\"orang  \",\"kampanye  \",\"dukung  \",\"01  \"],\"type\":\"bar\",\"xaxis\":\"x5\",\"yaxis\":\"y5\"},{\"marker\":{\"color\":\"#009E73\"},\"orientation\":\"h\",\"x\":[0.037319462726674676,0.0394670069279208,0.059978201999192016,0.06988712533422983,0.10413526080627769],\"y\":[\"baswedan  \",\"calon  \",\"pilih  \",\"anies  \",\"presiden  \"],\"type\":\"bar\",\"xaxis\":\"x6\",\"yaxis\":\"y6\"},{\"marker\":{\"color\":\"#F0E442\"},\"orientation\":\"h\",\"x\":[0.04011888289893154,0.04415990536663801,0.04427302822949799,0.05464400117949251,0.06865704159758221],\"y\":[\"baswedan  \",\"cak  \",\"imin  \",\"indonesia  \",\"anies  \"],\"type\":\"bar\",\"xaxis\":\"x7\",\"yaxis\":\"y7\"},{\"marker\":{\"color\":\"#D55E00\"},\"orientation\":\"h\",\"x\":[0.0222361915170638,0.02775800344796687,0.07473900577980004,0.18267903065599034,0.18944443315034068],\"y\":[\"baswedan  \",\"banget  \",\"anies  \",\"imin  \",\"cak  \"],\"type\":\"bar\",\"xaxis\":\"x8\",\"yaxis\":\"y8\"},{\"marker\":{\"color\":\"#0072B2\"},\"orientation\":\"h\",\"x\":[0.03533645135391245,0.041488034825448314,0.05355932605394615,0.06369332890736079,0.09057401566866607],\"y\":[\"twitter  \",\"dukung  \",\"video  \",\"01  \",\"kayak  \"],\"type\":\"bar\",\"xaxis\":\"x9\",\"yaxis\":\"y9\"},{\"marker\":{\"color\":\"#CC79A7\"},\"orientation\":\"h\",\"x\":[0.03759229914871937,0.0501473531624071,0.058450679149207645,0.06150959975096537,0.07119778928761121],\"y\":[\"agama  \",\"pintar  \",\"01  \",\"indonesia  \",\"suara  \"],\"type\":\"bar\",\"xaxis\":\"x10\",\"yaxis\":\"y10\"},{\"marker\":{\"color\":\"#E69F00\"},\"orientation\":\"h\",\"x\":[0.03563521312526459,0.04836617961392504,0.05214259916499659,0.09676439591645165,0.12313063310536726],\"y\":[\"pilih  \",\"wakil  \",\"01  \",\"calon  \",\"presiden  \"],\"type\":\"bar\",\"xaxis\":\"x11\",\"yaxis\":\"y11\"},{\"marker\":{\"color\":\"#56B4E9\"},\"orientation\":\"h\",\"x\":[0.03743921864573726,0.05189741774128115,0.06603133811904009,0.09047290881087512,0.18865773589216503],\"y\":[\"sukses  \",\"gara  \",\"survei  \",\"01  \",\"menang  \"],\"type\":\"bar\",\"xaxis\":\"x12\",\"yaxis\":\"y12\"},{\"marker\":{\"color\":\"#009E73\"},\"orientation\":\"h\",\"x\":[0.044212219357015255,0.04541794554570336,0.06553758436890038,0.0756002403087328,0.10828429280392676],\"y\":[\"demokrat  \",\"01  \",\"partai  \",\"demokrasi  \",\"politik  \"],\"type\":\"bar\",\"xaxis\":\"x13\",\"yaxis\":\"y13\"},{\"marker\":{\"color\":\"#F0E442\"},\"orientation\":\"h\",\"x\":[0.03426585608279747,0.04046790368615899,0.050732590840683864,0.05276859388491714,0.17255006262479206],\"y\":[\"strategi  \",\"presiden  \",\"01  \",\"calon  \",\"debat  \"],\"type\":\"bar\",\"xaxis\":\"x14\",\"yaxis\":\"y14\"},{\"marker\":{\"color\":\"#D55E00\"},\"orientation\":\"h\",\"x\":[0.0502153042521014,0.06484758885303106,0.06886754483124181,0.06937754187446969,0.18168034138832068],\"y\":[\"anies  \",\"presiden  \",\"imin  \",\"cak  \",\"debat  \"],\"type\":\"bar\",\"xaxis\":\"x15\",\"yaxis\":\"y15\"}],                        {\"template\":{\"data\":{\"barpolar\":[{\"marker\":{\"line\":{\"color\":\"white\",\"width\":0.5},\"pattern\":{\"fillmode\":\"overlay\",\"size\":10,\"solidity\":0.2}},\"type\":\"barpolar\"}],\"bar\":[{\"error_x\":{\"color\":\"#2a3f5f\"},\"error_y\":{\"color\":\"#2a3f5f\"},\"marker\":{\"line\":{\"color\":\"white\",\"width\":0.5},\"pattern\":{\"fillmode\":\"overlay\",\"size\":10,\"solidity\":0.2}},\"type\":\"bar\"}],\"carpet\":[{\"aaxis\":{\"endlinecolor\":\"#2a3f5f\",\"gridcolor\":\"#C8D4E3\",\"linecolor\":\"#C8D4E3\",\"minorgridcolor\":\"#C8D4E3\",\"startlinecolor\":\"#2a3f5f\"},\"baxis\":{\"endlinecolor\":\"#2a3f5f\",\"gridcolor\":\"#C8D4E3\",\"linecolor\":\"#C8D4E3\",\"minorgridcolor\":\"#C8D4E3\",\"startlinecolor\":\"#2a3f5f\"},\"type\":\"carpet\"}],\"choropleth\":[{\"colorbar\":{\"outlinewidth\":0,\"ticks\":\"\"},\"type\":\"choropleth\"}],\"contourcarpet\":[{\"colorbar\":{\"outlinewidth\":0,\"ticks\":\"\"},\"type\":\"contourcarpet\"}],\"contour\":[{\"colorbar\":{\"outlinewidth\":0,\"ticks\":\"\"},\"colorscale\":[[0.0,\"#0d0887\"],[0.1111111111111111,\"#46039f\"],[0.2222222222222222,\"#7201a8\"],[0.3333333333333333,\"#9c179e\"],[0.4444444444444444,\"#bd3786\"],[0.5555555555555556,\"#d8576b\"],[0.6666666666666666,\"#ed7953\"],[0.7777777777777778,\"#fb9f3a\"],[0.8888888888888888,\"#fdca26\"],[1.0,\"#f0f921\"]],\"type\":\"contour\"}],\"heatmap\":[{\"colorbar\":{\"outlinewidth\":0,\"ticks\":\"\"},\"colorscale\":[[0.0,\"#0d0887\"],[0.1111111111111111,\"#46039f\"],[0.2222222222222222,\"#7201a8\"],[0.3333333333333333,\"#9c179e\"],[0.4444444444444444,\"#bd3786\"],[0.5555555555555556,\"#d8576b\"],[0.6666666666666666,\"#ed7953\"],[0.7777777777777778,\"#fb9f3a\"],[0.8888888888888888,\"#fdca26\"],[1.0,\"#f0f921\"]],\"type\":\"heatmap\"}],\"histogram2dcontour\":[{\"colorbar\":{\"outlinewidth\":0,\"ticks\":\"\"},\"colorscale\":[[0.0,\"#0d0887\"],[0.1111111111111111,\"#46039f\"],[0.2222222222222222,\"#7201a8\"],[0.3333333333333333,\"#9c179e\"],[0.4444444444444444,\"#bd3786\"],[0.5555555555555556,\"#d8576b\"],[0.6666666666666666,\"#ed7953\"],[0.7777777777777778,\"#fb9f3a\"],[0.8888888888888888,\"#fdca26\"],[1.0,\"#f0f921\"]],\"type\":\"histogram2dcontour\"}],\"histogram2d\":[{\"colorbar\":{\"outlinewidth\":0,\"ticks\":\"\"},\"colorscale\":[[0.0,\"#0d0887\"],[0.1111111111111111,\"#46039f\"],[0.2222222222222222,\"#7201a8\"],[0.3333333333333333,\"#9c179e\"],[0.4444444444444444,\"#bd3786\"],[0.5555555555555556,\"#d8576b\"],[0.6666666666666666,\"#ed7953\"],[0.7777777777777778,\"#fb9f3a\"],[0.8888888888888888,\"#fdca26\"],[1.0,\"#f0f921\"]],\"type\":\"histogram2d\"}],\"histogram\":[{\"marker\":{\"pattern\":{\"fillmode\":\"overlay\",\"size\":10,\"solidity\":0.2}},\"type\":\"histogram\"}],\"mesh3d\":[{\"colorbar\":{\"outlinewidth\":0,\"ticks\":\"\"},\"type\":\"mesh3d\"}],\"parcoords\":[{\"line\":{\"colorbar\":{\"outlinewidth\":0,\"ticks\":\"\"}},\"type\":\"parcoords\"}],\"pie\":[{\"automargin\":true,\"type\":\"pie\"}],\"scatter3d\":[{\"line\":{\"colorbar\":{\"outlinewidth\":0,\"ticks\":\"\"}},\"marker\":{\"colorbar\":{\"outlinewidth\":0,\"ticks\":\"\"}},\"type\":\"scatter3d\"}],\"scattercarpet\":[{\"marker\":{\"colorbar\":{\"outlinewidth\":0,\"ticks\":\"\"}},\"type\":\"scattercarpet\"}],\"scattergeo\":[{\"marker\":{\"colorbar\":{\"outlinewidth\":0,\"ticks\":\"\"}},\"type\":\"scattergeo\"}],\"scattergl\":[{\"marker\":{\"colorbar\":{\"outlinewidth\":0,\"ticks\":\"\"}},\"type\":\"scattergl\"}],\"scattermapbox\":[{\"marker\":{\"colorbar\":{\"outlinewidth\":0,\"ticks\":\"\"}},\"type\":\"scattermapbox\"}],\"scattermap\":[{\"marker\":{\"colorbar\":{\"outlinewidth\":0,\"ticks\":\"\"}},\"type\":\"scattermap\"}],\"scatterpolargl\":[{\"marker\":{\"colorbar\":{\"outlinewidth\":0,\"ticks\":\"\"}},\"type\":\"scatterpolargl\"}],\"scatterpolar\":[{\"marker\":{\"colorbar\":{\"outlinewidth\":0,\"ticks\":\"\"}},\"type\":\"scatterpolar\"}],\"scatter\":[{\"fillpattern\":{\"fillmode\":\"overlay\",\"size\":10,\"solidity\":0.2},\"type\":\"scatter\"}],\"scatterternary\":[{\"marker\":{\"colorbar\":{\"outlinewidth\":0,\"ticks\":\"\"}},\"type\":\"scatterternary\"}],\"surface\":[{\"colorbar\":{\"outlinewidth\":0,\"ticks\":\"\"},\"colorscale\":[[0.0,\"#0d0887\"],[0.1111111111111111,\"#46039f\"],[0.2222222222222222,\"#7201a8\"],[0.3333333333333333,\"#9c179e\"],[0.4444444444444444,\"#bd3786\"],[0.5555555555555556,\"#d8576b\"],[0.6666666666666666,\"#ed7953\"],[0.7777777777777778,\"#fb9f3a\"],[0.8888888888888888,\"#fdca26\"],[1.0,\"#f0f921\"]],\"type\":\"surface\"}],\"table\":[{\"cells\":{\"fill\":{\"color\":\"#EBF0F8\"},\"line\":{\"color\":\"white\"}},\"header\":{\"fill\":{\"color\":\"#C8D4E3\"},\"line\":{\"color\":\"white\"}},\"type\":\"table\"}]},\"layout\":{\"annotationdefaults\":{\"arrowcolor\":\"#2a3f5f\",\"arrowhead\":0,\"arrowwidth\":1},\"autotypenumbers\":\"strict\",\"coloraxis\":{\"colorbar\":{\"outlinewidth\":0,\"ticks\":\"\"}},\"colorscale\":{\"diverging\":[[0,\"#8e0152\"],[0.1,\"#c51b7d\"],[0.2,\"#de77ae\"],[0.3,\"#f1b6da\"],[0.4,\"#fde0ef\"],[0.5,\"#f7f7f7\"],[0.6,\"#e6f5d0\"],[0.7,\"#b8e186\"],[0.8,\"#7fbc41\"],[0.9,\"#4d9221\"],[1,\"#276419\"]],\"sequential\":[[0.0,\"#0d0887\"],[0.1111111111111111,\"#46039f\"],[0.2222222222222222,\"#7201a8\"],[0.3333333333333333,\"#9c179e\"],[0.4444444444444444,\"#bd3786\"],[0.5555555555555556,\"#d8576b\"],[0.6666666666666666,\"#ed7953\"],[0.7777777777777778,\"#fb9f3a\"],[0.8888888888888888,\"#fdca26\"],[1.0,\"#f0f921\"]],\"sequentialminus\":[[0.0,\"#0d0887\"],[0.1111111111111111,\"#46039f\"],[0.2222222222222222,\"#7201a8\"],[0.3333333333333333,\"#9c179e\"],[0.4444444444444444,\"#bd3786\"],[0.5555555555555556,\"#d8576b\"],[0.6666666666666666,\"#ed7953\"],[0.7777777777777778,\"#fb9f3a\"],[0.8888888888888888,\"#fdca26\"],[1.0,\"#f0f921\"]]},\"colorway\":[\"#636efa\",\"#EF553B\",\"#00cc96\",\"#ab63fa\",\"#FFA15A\",\"#19d3f3\",\"#FF6692\",\"#B6E880\",\"#FF97FF\",\"#FECB52\"],\"font\":{\"color\":\"#2a3f5f\"},\"geo\":{\"bgcolor\":\"white\",\"lakecolor\":\"white\",\"landcolor\":\"white\",\"showlakes\":true,\"showland\":true,\"subunitcolor\":\"#C8D4E3\"},\"hoverlabel\":{\"align\":\"left\"},\"hovermode\":\"closest\",\"mapbox\":{\"style\":\"light\"},\"paper_bgcolor\":\"white\",\"plot_bgcolor\":\"white\",\"polar\":{\"angularaxis\":{\"gridcolor\":\"#EBF0F8\",\"linecolor\":\"#EBF0F8\",\"ticks\":\"\"},\"bgcolor\":\"white\",\"radialaxis\":{\"gridcolor\":\"#EBF0F8\",\"linecolor\":\"#EBF0F8\",\"ticks\":\"\"}},\"scene\":{\"xaxis\":{\"backgroundcolor\":\"white\",\"gridcolor\":\"#DFE8F3\",\"gridwidth\":2,\"linecolor\":\"#EBF0F8\",\"showbackground\":true,\"ticks\":\"\",\"zerolinecolor\":\"#EBF0F8\"},\"yaxis\":{\"backgroundcolor\":\"white\",\"gridcolor\":\"#DFE8F3\",\"gridwidth\":2,\"linecolor\":\"#EBF0F8\",\"showbackground\":true,\"ticks\":\"\",\"zerolinecolor\":\"#EBF0F8\"},\"zaxis\":{\"backgroundcolor\":\"white\",\"gridcolor\":\"#DFE8F3\",\"gridwidth\":2,\"linecolor\":\"#EBF0F8\",\"showbackground\":true,\"ticks\":\"\",\"zerolinecolor\":\"#EBF0F8\"}},\"shapedefaults\":{\"line\":{\"color\":\"#2a3f5f\"}},\"ternary\":{\"aaxis\":{\"gridcolor\":\"#DFE8F3\",\"linecolor\":\"#A2B1C6\",\"ticks\":\"\"},\"baxis\":{\"gridcolor\":\"#DFE8F3\",\"linecolor\":\"#A2B1C6\",\"ticks\":\"\"},\"bgcolor\":\"white\",\"caxis\":{\"gridcolor\":\"#DFE8F3\",\"linecolor\":\"#A2B1C6\",\"ticks\":\"\"}},\"title\":{\"x\":0.05},\"xaxis\":{\"automargin\":true,\"gridcolor\":\"#EBF0F8\",\"linecolor\":\"#EBF0F8\",\"ticks\":\"\",\"title\":{\"standoff\":15},\"zerolinecolor\":\"#EBF0F8\",\"zerolinewidth\":2},\"yaxis\":{\"automargin\":true,\"gridcolor\":\"#EBF0F8\",\"linecolor\":\"#EBF0F8\",\"ticks\":\"\",\"title\":{\"standoff\":15},\"zerolinecolor\":\"#EBF0F8\",\"zerolinewidth\":2}}},\"xaxis\":{\"anchor\":\"y\",\"domain\":[0.0,0.175],\"showgrid\":true},\"yaxis\":{\"anchor\":\"x\",\"domain\":[0.825,1.0],\"showgrid\":true},\"xaxis2\":{\"anchor\":\"y2\",\"domain\":[0.275,0.45],\"showgrid\":true},\"yaxis2\":{\"anchor\":\"x2\",\"domain\":[0.825,1.0],\"showgrid\":true},\"xaxis3\":{\"anchor\":\"y3\",\"domain\":[0.55,0.7250000000000001],\"showgrid\":true},\"yaxis3\":{\"anchor\":\"x3\",\"domain\":[0.825,1.0],\"showgrid\":true},\"xaxis4\":{\"anchor\":\"y4\",\"domain\":[0.825,1.0],\"showgrid\":true},\"yaxis4\":{\"anchor\":\"x4\",\"domain\":[0.825,1.0],\"showgrid\":true},\"xaxis5\":{\"anchor\":\"y5\",\"domain\":[0.0,0.175],\"showgrid\":true},\"yaxis5\":{\"anchor\":\"x5\",\"domain\":[0.55,0.7250000000000001],\"showgrid\":true},\"xaxis6\":{\"anchor\":\"y6\",\"domain\":[0.275,0.45],\"showgrid\":true},\"yaxis6\":{\"anchor\":\"x6\",\"domain\":[0.55,0.7250000000000001],\"showgrid\":true},\"xaxis7\":{\"anchor\":\"y7\",\"domain\":[0.55,0.7250000000000001],\"showgrid\":true},\"yaxis7\":{\"anchor\":\"x7\",\"domain\":[0.55,0.7250000000000001],\"showgrid\":true},\"xaxis8\":{\"anchor\":\"y8\",\"domain\":[0.825,1.0],\"showgrid\":true},\"yaxis8\":{\"anchor\":\"x8\",\"domain\":[0.55,0.7250000000000001],\"showgrid\":true},\"xaxis9\":{\"anchor\":\"y9\",\"domain\":[0.0,0.175],\"showgrid\":true},\"yaxis9\":{\"anchor\":\"x9\",\"domain\":[0.275,0.45],\"showgrid\":true},\"xaxis10\":{\"anchor\":\"y10\",\"domain\":[0.275,0.45],\"showgrid\":true},\"yaxis10\":{\"anchor\":\"x10\",\"domain\":[0.275,0.45],\"showgrid\":true},\"xaxis11\":{\"anchor\":\"y11\",\"domain\":[0.55,0.7250000000000001],\"showgrid\":true},\"yaxis11\":{\"anchor\":\"x11\",\"domain\":[0.275,0.45],\"showgrid\":true},\"xaxis12\":{\"anchor\":\"y12\",\"domain\":[0.825,1.0],\"showgrid\":true},\"yaxis12\":{\"anchor\":\"x12\",\"domain\":[0.275,0.45],\"showgrid\":true},\"xaxis13\":{\"anchor\":\"y13\",\"domain\":[0.0,0.175],\"showgrid\":true},\"yaxis13\":{\"anchor\":\"x13\",\"domain\":[0.0,0.175],\"showgrid\":true},\"xaxis14\":{\"anchor\":\"y14\",\"domain\":[0.275,0.45],\"showgrid\":true},\"yaxis14\":{\"anchor\":\"x14\",\"domain\":[0.0,0.175],\"showgrid\":true},\"xaxis15\":{\"anchor\":\"y15\",\"domain\":[0.55,0.7250000000000001],\"showgrid\":true},\"yaxis15\":{\"anchor\":\"x15\",\"domain\":[0.0,0.175],\"showgrid\":true},\"xaxis16\":{\"anchor\":\"y16\",\"domain\":[0.825,1.0],\"showgrid\":true},\"yaxis16\":{\"anchor\":\"x16\",\"domain\":[0.0,0.175],\"showgrid\":true},\"annotations\":[{\"font\":{\"size\":16},\"showarrow\":false,\"text\":\"Topic 0\",\"x\":0.0875,\"xanchor\":\"center\",\"xref\":\"paper\",\"y\":1.0,\"yanchor\":\"bottom\",\"yref\":\"paper\"},{\"font\":{\"size\":16},\"showarrow\":false,\"text\":\"Topic 1\",\"x\":0.36250000000000004,\"xanchor\":\"center\",\"xref\":\"paper\",\"y\":1.0,\"yanchor\":\"bottom\",\"yref\":\"paper\"},{\"font\":{\"size\":16},\"showarrow\":false,\"text\":\"Topic 2\",\"x\":0.6375000000000001,\"xanchor\":\"center\",\"xref\":\"paper\",\"y\":1.0,\"yanchor\":\"bottom\",\"yref\":\"paper\"},{\"font\":{\"size\":16},\"showarrow\":false,\"text\":\"Topic 3\",\"x\":0.9125,\"xanchor\":\"center\",\"xref\":\"paper\",\"y\":1.0,\"yanchor\":\"bottom\",\"yref\":\"paper\"},{\"font\":{\"size\":16},\"showarrow\":false,\"text\":\"Topic 4\",\"x\":0.0875,\"xanchor\":\"center\",\"xref\":\"paper\",\"y\":0.7250000000000001,\"yanchor\":\"bottom\",\"yref\":\"paper\"},{\"font\":{\"size\":16},\"showarrow\":false,\"text\":\"Topic 5\",\"x\":0.36250000000000004,\"xanchor\":\"center\",\"xref\":\"paper\",\"y\":0.7250000000000001,\"yanchor\":\"bottom\",\"yref\":\"paper\"},{\"font\":{\"size\":16},\"showarrow\":false,\"text\":\"Topic 6\",\"x\":0.6375000000000001,\"xanchor\":\"center\",\"xref\":\"paper\",\"y\":0.7250000000000001,\"yanchor\":\"bottom\",\"yref\":\"paper\"},{\"font\":{\"size\":16},\"showarrow\":false,\"text\":\"Topic 7\",\"x\":0.9125,\"xanchor\":\"center\",\"xref\":\"paper\",\"y\":0.7250000000000001,\"yanchor\":\"bottom\",\"yref\":\"paper\"},{\"font\":{\"size\":16},\"showarrow\":false,\"text\":\"Topic 8\",\"x\":0.0875,\"xanchor\":\"center\",\"xref\":\"paper\",\"y\":0.45,\"yanchor\":\"bottom\",\"yref\":\"paper\"},{\"font\":{\"size\":16},\"showarrow\":false,\"text\":\"Topic 9\",\"x\":0.36250000000000004,\"xanchor\":\"center\",\"xref\":\"paper\",\"y\":0.45,\"yanchor\":\"bottom\",\"yref\":\"paper\"},{\"font\":{\"size\":16},\"showarrow\":false,\"text\":\"Topic 10\",\"x\":0.6375000000000001,\"xanchor\":\"center\",\"xref\":\"paper\",\"y\":0.45,\"yanchor\":\"bottom\",\"yref\":\"paper\"},{\"font\":{\"size\":16},\"showarrow\":false,\"text\":\"Topic 11\",\"x\":0.9125,\"xanchor\":\"center\",\"xref\":\"paper\",\"y\":0.45,\"yanchor\":\"bottom\",\"yref\":\"paper\"},{\"font\":{\"size\":16},\"showarrow\":false,\"text\":\"Topic 12\",\"x\":0.0875,\"xanchor\":\"center\",\"xref\":\"paper\",\"y\":0.175,\"yanchor\":\"bottom\",\"yref\":\"paper\"},{\"font\":{\"size\":16},\"showarrow\":false,\"text\":\"Topic 13\",\"x\":0.36250000000000004,\"xanchor\":\"center\",\"xref\":\"paper\",\"y\":0.175,\"yanchor\":\"bottom\",\"yref\":\"paper\"},{\"font\":{\"size\":16},\"showarrow\":false,\"text\":\"Topic 14\",\"x\":0.6375000000000001,\"xanchor\":\"center\",\"xref\":\"paper\",\"y\":0.175,\"yanchor\":\"bottom\",\"yref\":\"paper\"}],\"title\":{\"font\":{\"size\":22,\"color\":\"Black\"},\"text\":\"Topic Word Scores\",\"x\":0.5,\"xanchor\":\"center\",\"yanchor\":\"top\"},\"hoverlabel\":{\"font\":{\"size\":16,\"family\":\"Rockwell\"},\"bgcolor\":\"white\"},\"showlegend\":false,\"width\":1000,\"height\":1000},                        {\"responsive\": true}                    )                };            </script>        </div>"
      ],
      "text/plain": [
       "Figure({\n",
       "    'data': [{'marker': {'color': '#D55E00'},\n",
       "              'orientation': 'h',\n",
       "              'type': 'bar',\n",
       "              'x': [0.02891636204398661, 0.029205198271782782,\n",
       "                    0.037948476104567454, 0.05080941147309609, 0.0771922877941425],\n",
       "              'xaxis': 'x',\n",
       "              'y': [pasang  , pilih  , orang  , dukung  , 01  ],\n",
       "              'yaxis': 'y'},\n",
       "             {'marker': {'color': '#0072B2'},\n",
       "              'orientation': 'h',\n",
       "              'type': 'bar',\n",
       "              'x': [0.027421154467304733, 0.030602561745866348,\n",
       "                    0.035872245111182206, 0.06138137985566899, 0.11554277495623003],\n",
       "              'xaxis': 'x2',\n",
       "              'y': [buzzer  , pasang  , pilih  , dukung  , 01  ],\n",
       "              'yaxis': 'y2'},\n",
       "             {'marker': {'color': '#CC79A7'},\n",
       "              'orientation': 'h',\n",
       "              'type': 'bar',\n",
       "              'x': [0.04209595079374513, 0.04508020447036836,\n",
       "                    0.047310535139710216, 0.056487032786511716,\n",
       "                    0.07949788701704243],\n",
       "              'xaxis': 'x3',\n",
       "              'y': [rasyid  , cak  , imin  , baswedan  , anies  ],\n",
       "              'yaxis': 'y3'},\n",
       "             {'marker': {'color': '#E69F00'},\n",
       "              'orientation': 'h',\n",
       "              'type': 'bar',\n",
       "              'x': [0.02131614622349928, 0.02399918841722143, 0.03466486855430646,\n",
       "                    0.0531542971346682, 0.19632775559089122],\n",
       "              'xaxis': 'x4',\n",
       "              'y': [bang  , amin  , pilih  , dukung  , 01  ],\n",
       "              'yaxis': 'y4'},\n",
       "             {'marker': {'color': '#56B4E9'},\n",
       "              'orientation': 'h',\n",
       "              'type': 'bar',\n",
       "              'x': [0.026318409920251522, 0.02770067127609489, 0.0281829790017286,\n",
       "                    0.03098110087946016, 0.0475807452926366],\n",
       "              'xaxis': 'x5',\n",
       "              'y': [pasang  , orang  , kampanye  , dukung  , 01  ],\n",
       "              'yaxis': 'y5'},\n",
       "             {'marker': {'color': '#009E73'},\n",
       "              'orientation': 'h',\n",
       "              'type': 'bar',\n",
       "              'x': [0.037319462726674676, 0.0394670069279208,\n",
       "                    0.059978201999192016, 0.06988712533422983, 0.10413526080627769],\n",
       "              'xaxis': 'x6',\n",
       "              'y': [baswedan  , calon  , pilih  , anies  , presiden  ],\n",
       "              'yaxis': 'y6'},\n",
       "             {'marker': {'color': '#F0E442'},\n",
       "              'orientation': 'h',\n",
       "              'type': 'bar',\n",
       "              'x': [0.04011888289893154, 0.04415990536663801, 0.04427302822949799,\n",
       "                    0.05464400117949251, 0.06865704159758221],\n",
       "              'xaxis': 'x7',\n",
       "              'y': [baswedan  , cak  , imin  , indonesia  , anies  ],\n",
       "              'yaxis': 'y7'},\n",
       "             {'marker': {'color': '#D55E00'},\n",
       "              'orientation': 'h',\n",
       "              'type': 'bar',\n",
       "              'x': [0.0222361915170638, 0.02775800344796687, 0.07473900577980004,\n",
       "                    0.18267903065599034, 0.18944443315034068],\n",
       "              'xaxis': 'x8',\n",
       "              'y': [baswedan  , banget  , anies  , imin  , cak  ],\n",
       "              'yaxis': 'y8'},\n",
       "             {'marker': {'color': '#0072B2'},\n",
       "              'orientation': 'h',\n",
       "              'type': 'bar',\n",
       "              'x': [0.03533645135391245, 0.041488034825448314,\n",
       "                    0.05355932605394615, 0.06369332890736079, 0.09057401566866607],\n",
       "              'xaxis': 'x9',\n",
       "              'y': [twitter  , dukung  , video  , 01  , kayak  ],\n",
       "              'yaxis': 'y9'},\n",
       "             {'marker': {'color': '#CC79A7'},\n",
       "              'orientation': 'h',\n",
       "              'type': 'bar',\n",
       "              'x': [0.03759229914871937, 0.0501473531624071, 0.058450679149207645,\n",
       "                    0.06150959975096537, 0.07119778928761121],\n",
       "              'xaxis': 'x10',\n",
       "              'y': [agama  , pintar  , 01  , indonesia  , suara  ],\n",
       "              'yaxis': 'y10'},\n",
       "             {'marker': {'color': '#E69F00'},\n",
       "              'orientation': 'h',\n",
       "              'type': 'bar',\n",
       "              'x': [0.03563521312526459, 0.04836617961392504, 0.05214259916499659,\n",
       "                    0.09676439591645165, 0.12313063310536726],\n",
       "              'xaxis': 'x11',\n",
       "              'y': [pilih  , wakil  , 01  , calon  , presiden  ],\n",
       "              'yaxis': 'y11'},\n",
       "             {'marker': {'color': '#56B4E9'},\n",
       "              'orientation': 'h',\n",
       "              'type': 'bar',\n",
       "              'x': [0.03743921864573726, 0.05189741774128115, 0.06603133811904009,\n",
       "                    0.09047290881087512, 0.18865773589216503],\n",
       "              'xaxis': 'x12',\n",
       "              'y': [sukses  , gara  , survei  , 01  , menang  ],\n",
       "              'yaxis': 'y12'},\n",
       "             {'marker': {'color': '#009E73'},\n",
       "              'orientation': 'h',\n",
       "              'type': 'bar',\n",
       "              'x': [0.044212219357015255, 0.04541794554570336,\n",
       "                    0.06553758436890038, 0.0756002403087328, 0.10828429280392676],\n",
       "              'xaxis': 'x13',\n",
       "              'y': [demokrat  , 01  , partai  , demokrasi  , politik  ],\n",
       "              'yaxis': 'y13'},\n",
       "             {'marker': {'color': '#F0E442'},\n",
       "              'orientation': 'h',\n",
       "              'type': 'bar',\n",
       "              'x': [0.03426585608279747, 0.04046790368615899,\n",
       "                    0.050732590840683864, 0.05276859388491714, 0.17255006262479206],\n",
       "              'xaxis': 'x14',\n",
       "              'y': [strategi  , presiden  , 01  , calon  , debat  ],\n",
       "              'yaxis': 'y14'},\n",
       "             {'marker': {'color': '#D55E00'},\n",
       "              'orientation': 'h',\n",
       "              'type': 'bar',\n",
       "              'x': [0.0502153042521014, 0.06484758885303106, 0.06886754483124181,\n",
       "                    0.06937754187446969, 0.18168034138832068],\n",
       "              'xaxis': 'x15',\n",
       "              'y': [anies  , presiden  , imin  , cak  , debat  ],\n",
       "              'yaxis': 'y15'}],\n",
       "    'layout': {'annotations': [{'font': {'size': 16},\n",
       "                                'showarrow': False,\n",
       "                                'text': 'Topic 0',\n",
       "                                'x': 0.0875,\n",
       "                                'xanchor': 'center',\n",
       "                                'xref': 'paper',\n",
       "                                'y': 1.0,\n",
       "                                'yanchor': 'bottom',\n",
       "                                'yref': 'paper'},\n",
       "                               {'font': {'size': 16},\n",
       "                                'showarrow': False,\n",
       "                                'text': 'Topic 1',\n",
       "                                'x': 0.36250000000000004,\n",
       "                                'xanchor': 'center',\n",
       "                                'xref': 'paper',\n",
       "                                'y': 1.0,\n",
       "                                'yanchor': 'bottom',\n",
       "                                'yref': 'paper'},\n",
       "                               {'font': {'size': 16},\n",
       "                                'showarrow': False,\n",
       "                                'text': 'Topic 2',\n",
       "                                'x': 0.6375000000000001,\n",
       "                                'xanchor': 'center',\n",
       "                                'xref': 'paper',\n",
       "                                'y': 1.0,\n",
       "                                'yanchor': 'bottom',\n",
       "                                'yref': 'paper'},\n",
       "                               {'font': {'size': 16},\n",
       "                                'showarrow': False,\n",
       "                                'text': 'Topic 3',\n",
       "                                'x': 0.9125,\n",
       "                                'xanchor': 'center',\n",
       "                                'xref': 'paper',\n",
       "                                'y': 1.0,\n",
       "                                'yanchor': 'bottom',\n",
       "                                'yref': 'paper'},\n",
       "                               {'font': {'size': 16},\n",
       "                                'showarrow': False,\n",
       "                                'text': 'Topic 4',\n",
       "                                'x': 0.0875,\n",
       "                                'xanchor': 'center',\n",
       "                                'xref': 'paper',\n",
       "                                'y': 0.7250000000000001,\n",
       "                                'yanchor': 'bottom',\n",
       "                                'yref': 'paper'},\n",
       "                               {'font': {'size': 16},\n",
       "                                'showarrow': False,\n",
       "                                'text': 'Topic 5',\n",
       "                                'x': 0.36250000000000004,\n",
       "                                'xanchor': 'center',\n",
       "                                'xref': 'paper',\n",
       "                                'y': 0.7250000000000001,\n",
       "                                'yanchor': 'bottom',\n",
       "                                'yref': 'paper'},\n",
       "                               {'font': {'size': 16},\n",
       "                                'showarrow': False,\n",
       "                                'text': 'Topic 6',\n",
       "                                'x': 0.6375000000000001,\n",
       "                                'xanchor': 'center',\n",
       "                                'xref': 'paper',\n",
       "                                'y': 0.7250000000000001,\n",
       "                                'yanchor': 'bottom',\n",
       "                                'yref': 'paper'},\n",
       "                               {'font': {'size': 16},\n",
       "                                'showarrow': False,\n",
       "                                'text': 'Topic 7',\n",
       "                                'x': 0.9125,\n",
       "                                'xanchor': 'center',\n",
       "                                'xref': 'paper',\n",
       "                                'y': 0.7250000000000001,\n",
       "                                'yanchor': 'bottom',\n",
       "                                'yref': 'paper'},\n",
       "                               {'font': {'size': 16},\n",
       "                                'showarrow': False,\n",
       "                                'text': 'Topic 8',\n",
       "                                'x': 0.0875,\n",
       "                                'xanchor': 'center',\n",
       "                                'xref': 'paper',\n",
       "                                'y': 0.45,\n",
       "                                'yanchor': 'bottom',\n",
       "                                'yref': 'paper'},\n",
       "                               {'font': {'size': 16},\n",
       "                                'showarrow': False,\n",
       "                                'text': 'Topic 9',\n",
       "                                'x': 0.36250000000000004,\n",
       "                                'xanchor': 'center',\n",
       "                                'xref': 'paper',\n",
       "                                'y': 0.45,\n",
       "                                'yanchor': 'bottom',\n",
       "                                'yref': 'paper'},\n",
       "                               {'font': {'size': 16},\n",
       "                                'showarrow': False,\n",
       "                                'text': 'Topic 10',\n",
       "                                'x': 0.6375000000000001,\n",
       "                                'xanchor': 'center',\n",
       "                                'xref': 'paper',\n",
       "                                'y': 0.45,\n",
       "                                'yanchor': 'bottom',\n",
       "                                'yref': 'paper'},\n",
       "                               {'font': {'size': 16},\n",
       "                                'showarrow': False,\n",
       "                                'text': 'Topic 11',\n",
       "                                'x': 0.9125,\n",
       "                                'xanchor': 'center',\n",
       "                                'xref': 'paper',\n",
       "                                'y': 0.45,\n",
       "                                'yanchor': 'bottom',\n",
       "                                'yref': 'paper'},\n",
       "                               {'font': {'size': 16},\n",
       "                                'showarrow': False,\n",
       "                                'text': 'Topic 12',\n",
       "                                'x': 0.0875,\n",
       "                                'xanchor': 'center',\n",
       "                                'xref': 'paper',\n",
       "                                'y': 0.175,\n",
       "                                'yanchor': 'bottom',\n",
       "                                'yref': 'paper'},\n",
       "                               {'font': {'size': 16},\n",
       "                                'showarrow': False,\n",
       "                                'text': 'Topic 13',\n",
       "                                'x': 0.36250000000000004,\n",
       "                                'xanchor': 'center',\n",
       "                                'xref': 'paper',\n",
       "                                'y': 0.175,\n",
       "                                'yanchor': 'bottom',\n",
       "                                'yref': 'paper'},\n",
       "                               {'font': {'size': 16},\n",
       "                                'showarrow': False,\n",
       "                                'text': 'Topic 14',\n",
       "                                'x': 0.6375000000000001,\n",
       "                                'xanchor': 'center',\n",
       "                                'xref': 'paper',\n",
       "                                'y': 0.175,\n",
       "                                'yanchor': 'bottom',\n",
       "                                'yref': 'paper'}],\n",
       "               'height': 1000,\n",
       "               'hoverlabel': {'bgcolor': 'white', 'font': {'family': 'Rockwell', 'size': 16}},\n",
       "               'showlegend': False,\n",
       "               'template': '...',\n",
       "               'title': {'font': {'color': 'Black', 'size': 22},\n",
       "                         'text': 'Topic Word Scores',\n",
       "                         'x': 0.5,\n",
       "                         'xanchor': 'center',\n",
       "                         'yanchor': 'top'},\n",
       "               'width': 1000,\n",
       "               'xaxis': {'anchor': 'y', 'domain': [0.0, 0.175], 'showgrid': True},\n",
       "               'xaxis10': {'anchor': 'y10', 'domain': [0.275, 0.45], 'showgrid': True},\n",
       "               'xaxis11': {'anchor': 'y11', 'domain': [0.55, 0.7250000000000001], 'showgrid': True},\n",
       "               'xaxis12': {'anchor': 'y12', 'domain': [0.825, 1.0], 'showgrid': True},\n",
       "               'xaxis13': {'anchor': 'y13', 'domain': [0.0, 0.175], 'showgrid': True},\n",
       "               'xaxis14': {'anchor': 'y14', 'domain': [0.275, 0.45], 'showgrid': True},\n",
       "               'xaxis15': {'anchor': 'y15', 'domain': [0.55, 0.7250000000000001], 'showgrid': True},\n",
       "               'xaxis16': {'anchor': 'y16', 'domain': [0.825, 1.0], 'showgrid': True},\n",
       "               'xaxis2': {'anchor': 'y2', 'domain': [0.275, 0.45], 'showgrid': True},\n",
       "               'xaxis3': {'anchor': 'y3', 'domain': [0.55, 0.7250000000000001], 'showgrid': True},\n",
       "               'xaxis4': {'anchor': 'y4', 'domain': [0.825, 1.0], 'showgrid': True},\n",
       "               'xaxis5': {'anchor': 'y5', 'domain': [0.0, 0.175], 'showgrid': True},\n",
       "               'xaxis6': {'anchor': 'y6', 'domain': [0.275, 0.45], 'showgrid': True},\n",
       "               'xaxis7': {'anchor': 'y7', 'domain': [0.55, 0.7250000000000001], 'showgrid': True},\n",
       "               'xaxis8': {'anchor': 'y8', 'domain': [0.825, 1.0], 'showgrid': True},\n",
       "               'xaxis9': {'anchor': 'y9', 'domain': [0.0, 0.175], 'showgrid': True},\n",
       "               'yaxis': {'anchor': 'x', 'domain': [0.825, 1.0], 'showgrid': True},\n",
       "               'yaxis10': {'anchor': 'x10', 'domain': [0.275, 0.45], 'showgrid': True},\n",
       "               'yaxis11': {'anchor': 'x11', 'domain': [0.275, 0.45], 'showgrid': True},\n",
       "               'yaxis12': {'anchor': 'x12', 'domain': [0.275, 0.45], 'showgrid': True},\n",
       "               'yaxis13': {'anchor': 'x13', 'domain': [0.0, 0.175], 'showgrid': True},\n",
       "               'yaxis14': {'anchor': 'x14', 'domain': [0.0, 0.175], 'showgrid': True},\n",
       "               'yaxis15': {'anchor': 'x15', 'domain': [0.0, 0.175], 'showgrid': True},\n",
       "               'yaxis16': {'anchor': 'x16', 'domain': [0.0, 0.175], 'showgrid': True},\n",
       "               'yaxis2': {'anchor': 'x2', 'domain': [0.825, 1.0], 'showgrid': True},\n",
       "               'yaxis3': {'anchor': 'x3', 'domain': [0.825, 1.0], 'showgrid': True},\n",
       "               'yaxis4': {'anchor': 'x4', 'domain': [0.825, 1.0], 'showgrid': True},\n",
       "               'yaxis5': {'anchor': 'x5', 'domain': [0.55, 0.7250000000000001], 'showgrid': True},\n",
       "               'yaxis6': {'anchor': 'x6', 'domain': [0.55, 0.7250000000000001], 'showgrid': True},\n",
       "               'yaxis7': {'anchor': 'x7', 'domain': [0.55, 0.7250000000000001], 'showgrid': True},\n",
       "               'yaxis8': {'anchor': 'x8', 'domain': [0.55, 0.7250000000000001], 'showgrid': True},\n",
       "               'yaxis9': {'anchor': 'x9', 'domain': [0.275, 0.45], 'showgrid': True}}\n",
       "})"
      ]
     },
     "execution_count": 13,
     "metadata": {},
     "output_type": "execute_result"
    }
   ],
   "source": [
    "from sklearn.cluster import KMeans\n",
    "\n",
    "num_topics = 15\n",
    "kmeans_model = KMeans(n_clusters=num_topics, random_state=42)\n",
    "\n",
    "topic_model_kmeans = BERTopic(\n",
    "    embedding_model=embedding_model,\n",
    "    umap_model=umap_model,\n",
    "    hdbscan_model=kmeans_model,\n",
    "    calculate_probabilities=False,\n",
    "    verbose=True\n",
    ")\n",
    "\n",
    "topics_kmeans, _ = topic_model_kmeans.fit_transform(docs)\n",
    "\n",
    "topic_model_kmeans.visualize_barchart(top_n_topics=15)"
   ]
  },
  {
   "cell_type": "code",
   "execution_count": 14,
   "id": "13e2eff0",
   "metadata": {},
   "outputs": [
    {
     "name": "stdout",
     "output_type": "stream",
     "text": [
      "    Topic  Count                            Name  \\\n",
      "0       0   3249         0_01_dukung_orang_pilih   \n",
      "1       1   3151        1_01_dukung_pilih_pasang   \n",
      "2       2   2856       2_anies_baswedan_imin_cak   \n",
      "3       3   2752          3_01_dukung_pilih_amin   \n",
      "4       4   2696      4_01_dukung_kampanye_orang   \n",
      "5       5   2321    5_presiden_anies_pilih_calon   \n",
      "6       6   2203      6_anies_indonesia_imin_cak   \n",
      "7       7   2084         7_cak_imin_anies_banget   \n",
      "8       8   1801         8_kayak_01_video_dukung   \n",
      "9       9   1650     9_suara_indonesia_01_pintar   \n",
      "10     10   1555      10_presiden_calon_01_wakil   \n",
      "11     11   1199        11_menang_01_survei_gara   \n",
      "12     12    885  12_politik_demokrasi_partai_01   \n",
      "13     13    748      13_debat_calon_01_presiden   \n",
      "14     14    711      14_debat_cak_imin_presiden   \n",
      "\n",
      "                                       Representation  \\\n",
      "0   [01, dukung, orang, pilih, pasang, banget, tem...   \n",
      "1   [01, dukung, pilih, pasang, buzzer, banget, ca...   \n",
      "2   [anies, baswedan, imin, cak, rasyid, ayah, ami...   \n",
      "3   [01, dukung, pilih, amin, bang, buzzer, coblos...   \n",
      "4   [01, dukung, kampanye, orang, pasang, pilih, k...   \n",
      "5   [presiden, anies, pilih, calon, baswedan, waki...   \n",
      "6   [anies, indonesia, imin, cak, baswedan, amin, ...   \n",
      "7   [cak, imin, anies, banget, baswedan, gibran, l...   \n",
      "8   [kayak, 01, video, dukung, twitter, media, ber...   \n",
      "9   [suara, indonesia, 01, pintar, agama, dukung, ...   \n",
      "10  [presiden, calon, 01, wakil, pilih, program, d...   \n",
      "11  [menang, 01, survei, gara, sukses, amin, tim, ...   \n",
      "12  [politik, demokrasi, partai, 01, demokrat, ide...   \n",
      "13  [debat, calon, 01, presiden, strategi, dukung,...   \n",
      "14  [debat, cak, imin, presiden, anies, calon, wak...   \n",
      "\n",
      "                                  Representative_Docs  \n",
      "0   [orang malu pilih 01, orang pilih 01 dukung am...  \n",
      "1   [sopan banget dukung amin dukung 01, kasihan p...  \n",
      "2   [tim nasional timnas menang anies baswedan muh...  \n",
      "3   [ dukung 01 harap, asli dukung 01 amin, dukung...  \n",
      "4   [ribut pasang calon a b c omong bicara data co...  \n",
      "5   [dukung anis pilih presiden pilih , pilih pres...  \n",
      "6   [tuju banget cak imin maju cak imin ubah indon...  \n",
      "7   [contoh cak imin, pilih pas umum cak imin ragu...  \n",
      "8   [dukung 01 coblos ahok  orang kayak, anjing ka...  \n",
      "9   [pintar pintar pasang calon no 01 indonesia, o...  \n",
      "10  [calon presiden calon wakil presiden 01 bagus ...  \n",
      "11  [anies anies ubah dukung 01 moga menang putar,...  \n",
      "12  [01 main politik identitas, pilih 01 main poli...  \n",
      "13  [calon presiden anies imin deh banding pasang ...  \n",
      "14  [calon wakil presiden cak imin gibran mahfud m...  \n"
     ]
    },
    {
     "ename": "ValueError",
     "evalue": "Mime type rendering requires nbformat>=4.2.0 but it is not installed",
     "output_type": "error",
     "traceback": [
      "\u001b[1;31m---------------------------------------------------------------------------\u001b[0m",
      "\u001b[1;31mValueError\u001b[0m                                Traceback (most recent call last)",
      "File \u001b[1;32m~\\AppData\\Roaming\\Python\\Python310\\site-packages\\IPython\\core\\formatters.py:925\u001b[0m, in \u001b[0;36mIPythonDisplayFormatter.__call__\u001b[1;34m(self, obj)\u001b[0m\n\u001b[0;32m    923\u001b[0m method \u001b[38;5;241m=\u001b[39m get_real_method(obj, \u001b[38;5;28mself\u001b[39m\u001b[38;5;241m.\u001b[39mprint_method)\n\u001b[0;32m    924\u001b[0m \u001b[38;5;28;01mif\u001b[39;00m method \u001b[38;5;129;01mis\u001b[39;00m \u001b[38;5;129;01mnot\u001b[39;00m \u001b[38;5;28;01mNone\u001b[39;00m:\n\u001b[1;32m--> 925\u001b[0m     \u001b[43mmethod\u001b[49m\u001b[43m(\u001b[49m\u001b[43m)\u001b[49m\n\u001b[0;32m    926\u001b[0m     \u001b[38;5;28;01mreturn\u001b[39;00m \u001b[38;5;28;01mTrue\u001b[39;00m\n",
      "File \u001b[1;32mc:\\Users\\PC\\AppData\\Local\\Programs\\Python\\Python310\\lib\\site-packages\\plotly\\basedatatypes.py:846\u001b[0m, in \u001b[0;36mBaseFigure._ipython_display_\u001b[1;34m(self)\u001b[0m\n\u001b[0;32m    843\u001b[0m \u001b[38;5;28;01mimport\u001b[39;00m \u001b[38;5;21;01mplotly\u001b[39;00m\u001b[38;5;21;01m.\u001b[39;00m\u001b[38;5;21;01mio\u001b[39;00m \u001b[38;5;28;01mas\u001b[39;00m \u001b[38;5;21;01mpio\u001b[39;00m\n\u001b[0;32m    845\u001b[0m \u001b[38;5;28;01mif\u001b[39;00m pio\u001b[38;5;241m.\u001b[39mrenderers\u001b[38;5;241m.\u001b[39mrender_on_display \u001b[38;5;129;01mand\u001b[39;00m pio\u001b[38;5;241m.\u001b[39mrenderers\u001b[38;5;241m.\u001b[39mdefault:\n\u001b[1;32m--> 846\u001b[0m     \u001b[43mpio\u001b[49m\u001b[38;5;241;43m.\u001b[39;49m\u001b[43mshow\u001b[49m\u001b[43m(\u001b[49m\u001b[38;5;28;43mself\u001b[39;49m\u001b[43m)\u001b[49m\n\u001b[0;32m    847\u001b[0m \u001b[38;5;28;01melse\u001b[39;00m:\n\u001b[0;32m    848\u001b[0m     \u001b[38;5;28mprint\u001b[39m(\u001b[38;5;28mrepr\u001b[39m(\u001b[38;5;28mself\u001b[39m))\n",
      "File \u001b[1;32mc:\\Users\\PC\\AppData\\Local\\Programs\\Python\\Python310\\lib\\site-packages\\plotly\\io\\_renderers.py:425\u001b[0m, in \u001b[0;36mshow\u001b[1;34m(fig, renderer, validate, **kwargs)\u001b[0m\n\u001b[0;32m    420\u001b[0m     \u001b[38;5;28;01mraise\u001b[39;00m \u001b[38;5;167;01mValueError\u001b[39;00m(\n\u001b[0;32m    421\u001b[0m         \u001b[38;5;124m\"\u001b[39m\u001b[38;5;124mMime type rendering requires ipython but it is not installed\u001b[39m\u001b[38;5;124m\"\u001b[39m\n\u001b[0;32m    422\u001b[0m     )\n\u001b[0;32m    424\u001b[0m \u001b[38;5;28;01mif\u001b[39;00m \u001b[38;5;129;01mnot\u001b[39;00m nbformat \u001b[38;5;129;01mor\u001b[39;00m Version(nbformat\u001b[38;5;241m.\u001b[39m__version__) \u001b[38;5;241m<\u001b[39m Version(\u001b[38;5;124m\"\u001b[39m\u001b[38;5;124m4.2.0\u001b[39m\u001b[38;5;124m\"\u001b[39m):\n\u001b[1;32m--> 425\u001b[0m     \u001b[38;5;28;01mraise\u001b[39;00m \u001b[38;5;167;01mValueError\u001b[39;00m(\n\u001b[0;32m    426\u001b[0m         \u001b[38;5;124m\"\u001b[39m\u001b[38;5;124mMime type rendering requires nbformat>=4.2.0 but it is not installed\u001b[39m\u001b[38;5;124m\"\u001b[39m\n\u001b[0;32m    427\u001b[0m     )\n\u001b[0;32m    429\u001b[0m display_jupyter_version_warnings()\n\u001b[0;32m    431\u001b[0m ipython_display\u001b[38;5;241m.\u001b[39mdisplay(bundle, raw\u001b[38;5;241m=\u001b[39m\u001b[38;5;28;01mTrue\u001b[39;00m)\n",
      "\u001b[1;31mValueError\u001b[0m: Mime type rendering requires nbformat>=4.2.0 but it is not installed"
     ]
    },
    {
     "data": {
      "application/vnd.plotly.v1+json": {
       "config": {
        "plotlyServerURL": "https://plot.ly"
       },
       "data": [
        {
         "coloraxis": "coloraxis",
         "hovertemplate": "x: %{x}<br>y: %{y}<br>Similarity Score: %{z}<extra></extra>",
         "name": "0",
         "type": "heatmap",
         "x": [
          "0_01_dukung_orang",
          "1_01_dukung_pilih",
          "2_anies_baswedan_imin",
          "3_01_dukung_pilih",
          "4_01_dukung_kampanye",
          "5_presiden_anies_pilih",
          "6_anies_indonesia_imin",
          "7_cak_imin_anies",
          "8_kayak_01_video",
          "9_suara_indonesia_01",
          "10_presiden_calon_01",
          "11_menang_01_survei",
          "12_politik_demokrasi_partai",
          "13_debat_calon_01",
          "14_debat_cak_imin"
         ],
         "xaxis": "x",
         "y": [
          "0_01_dukung_orang",
          "1_01_dukung_pilih",
          "2_anies_baswedan_imin",
          "3_01_dukung_pilih",
          "4_01_dukung_kampanye",
          "5_presiden_anies_pilih",
          "6_anies_indonesia_imin",
          "7_cak_imin_anies",
          "8_kayak_01_video",
          "9_suara_indonesia_01",
          "10_presiden_calon_01",
          "11_menang_01_survei",
          "12_politik_demokrasi_partai",
          "13_debat_calon_01",
          "14_debat_cak_imin"
         ],
         "yaxis": "y",
         "z": {
          "bdata": "BACAP1CHdD8IpSE/VOdPP6K4cT+TWwE/FAYdP4lrHT/SNXA/tAFxP3AAUT+20mY/dgc+PzgWRz95evs+UId0PwEAgD8GGvI+5J9sPy5iVT/6LrU+UVjjPh0yFz9mamE/qqBdP7auOz+0JmY/vFElP1BBMj/kq7o+CKUhPwYa8j4AAIA/8olyPh5+NT9mP1I/+sh2P+TxUT+/Bxg/pxcpP0XjFD/UVv4+3GUTP4KwDD80cTc/VOdPP+SfbD/yiXI++P9/P1LLKz8KByQ+TPVYPhak3z4Txz0/tmk5P2W5GT9h500/Su8DPwaQDj9A4jY+orhxPy5iVT8efjU/UssrPwEAgD+a9xo/xLU4PzQhDT909Wo/awtxP14SVz8SDlY/tKlMP7DLSz++Dw4/k1sBP/outT5mP1I/CgckPpr3Gj8CAIA/pgBaP9QqIT/6qgM/OCEXP17cRT+ZP9o+JZA1P1YHFT9hD0Y/FAYdP1FY4z76yHY/TPVYPsS1OD+mAFo//P9/P2jZRD9gfR8/NNYwPz5yHj8y5vg+MO0hP7wQFT9srj4/iWsdPx0yFz/k8VE/FqTfPjQhDT/UKiE/aNlEP/r/fz9w+Q0/R1EPP3we8T7dQQI/JCjZPhWq5j6G5Bc/0jVwP2ZqYT+/Bxg/E8c9P3T1aj/6qgM/YH0fP3D5DT///38/No9oP0ihUD+Wjlw/OkBBPylVTD8h7wY/tAFxP6qgXT+nFyk/tmk5P2sLcT84IRc/NNYwP0dRDz82j2g/AQCAPxowVj86mFk/4uBSP3pRTD9qFQ0/cABRP7auOz9F4xQ/ZbkZP14SVz9e3EU/PnIeP3we8T5IoVA/GjBWPwAAgD/qvkE/IP9TP4xCST/5Rx4/ttJmP7QmZj/UVv4+YedNPxIOVj+ZP9o+Mub4Pt1BAj+Wjlw/OphZP+q+QT8BAIA/z3ouP/p3Pz8GFuA+dgc+P7xRJT/cZRM/Su8DP7SpTD8lkDU/MO0hPyQo2T46QEE/4uBSPyD/Uz/Pei4/AQCAP+KLQT/KOxc/OBZHP1BBMj+CsAw/BpAOP7DLSz9WBxU/vBAVPxWq5j4pVUw/elFMP4xCST/6dz8/4otBPwEAgD9K21Q/eXr7PuSruj40cTc/QOI2Pr4PDj9hD0Y/bK4+P4bkFz8h7wY/ahUNP/lHHj8GFuA+yjsXP0rbVD/+/38/",
          "dtype": "f4",
          "shape": "15, 15"
         }
        }
       ],
       "layout": {
        "coloraxis": {
         "colorbar": {
          "title": {
           "text": "Similarity Score"
          }
         },
         "colorscale": [
          [
           0,
           "rgb(247,252,240)"
          ],
          [
           0.125,
           "rgb(224,243,219)"
          ],
          [
           0.25,
           "rgb(204,235,197)"
          ],
          [
           0.375,
           "rgb(168,221,181)"
          ],
          [
           0.5,
           "rgb(123,204,196)"
          ],
          [
           0.625,
           "rgb(78,179,211)"
          ],
          [
           0.75,
           "rgb(43,140,190)"
          ],
          [
           0.875,
           "rgb(8,104,172)"
          ],
          [
           1,
           "rgb(8,64,129)"
          ]
         ]
        },
        "height": 800,
        "hoverlabel": {
         "bgcolor": "white",
         "font": {
          "family": "Rockwell",
          "size": 16
         }
        },
        "legend": {
         "title": {
          "text": "Trend"
         }
        },
        "margin": {
         "t": 60
        },
        "showlegend": true,
        "template": {
         "data": {
          "bar": [
           {
            "error_x": {
             "color": "#2a3f5f"
            },
            "error_y": {
             "color": "#2a3f5f"
            },
            "marker": {
             "line": {
              "color": "#E5ECF6",
              "width": 0.5
             },
             "pattern": {
              "fillmode": "overlay",
              "size": 10,
              "solidity": 0.2
             }
            },
            "type": "bar"
           }
          ],
          "barpolar": [
           {
            "marker": {
             "line": {
              "color": "#E5ECF6",
              "width": 0.5
             },
             "pattern": {
              "fillmode": "overlay",
              "size": 10,
              "solidity": 0.2
             }
            },
            "type": "barpolar"
           }
          ],
          "carpet": [
           {
            "aaxis": {
             "endlinecolor": "#2a3f5f",
             "gridcolor": "white",
             "linecolor": "white",
             "minorgridcolor": "white",
             "startlinecolor": "#2a3f5f"
            },
            "baxis": {
             "endlinecolor": "#2a3f5f",
             "gridcolor": "white",
             "linecolor": "white",
             "minorgridcolor": "white",
             "startlinecolor": "#2a3f5f"
            },
            "type": "carpet"
           }
          ],
          "choropleth": [
           {
            "colorbar": {
             "outlinewidth": 0,
             "ticks": ""
            },
            "type": "choropleth"
           }
          ],
          "contour": [
           {
            "colorbar": {
             "outlinewidth": 0,
             "ticks": ""
            },
            "colorscale": [
             [
              0,
              "#0d0887"
             ],
             [
              0.1111111111111111,
              "#46039f"
             ],
             [
              0.2222222222222222,
              "#7201a8"
             ],
             [
              0.3333333333333333,
              "#9c179e"
             ],
             [
              0.4444444444444444,
              "#bd3786"
             ],
             [
              0.5555555555555556,
              "#d8576b"
             ],
             [
              0.6666666666666666,
              "#ed7953"
             ],
             [
              0.7777777777777778,
              "#fb9f3a"
             ],
             [
              0.8888888888888888,
              "#fdca26"
             ],
             [
              1,
              "#f0f921"
             ]
            ],
            "type": "contour"
           }
          ],
          "contourcarpet": [
           {
            "colorbar": {
             "outlinewidth": 0,
             "ticks": ""
            },
            "type": "contourcarpet"
           }
          ],
          "heatmap": [
           {
            "colorbar": {
             "outlinewidth": 0,
             "ticks": ""
            },
            "colorscale": [
             [
              0,
              "#0d0887"
             ],
             [
              0.1111111111111111,
              "#46039f"
             ],
             [
              0.2222222222222222,
              "#7201a8"
             ],
             [
              0.3333333333333333,
              "#9c179e"
             ],
             [
              0.4444444444444444,
              "#bd3786"
             ],
             [
              0.5555555555555556,
              "#d8576b"
             ],
             [
              0.6666666666666666,
              "#ed7953"
             ],
             [
              0.7777777777777778,
              "#fb9f3a"
             ],
             [
              0.8888888888888888,
              "#fdca26"
             ],
             [
              1,
              "#f0f921"
             ]
            ],
            "type": "heatmap"
           }
          ],
          "histogram": [
           {
            "marker": {
             "pattern": {
              "fillmode": "overlay",
              "size": 10,
              "solidity": 0.2
             }
            },
            "type": "histogram"
           }
          ],
          "histogram2d": [
           {
            "colorbar": {
             "outlinewidth": 0,
             "ticks": ""
            },
            "colorscale": [
             [
              0,
              "#0d0887"
             ],
             [
              0.1111111111111111,
              "#46039f"
             ],
             [
              0.2222222222222222,
              "#7201a8"
             ],
             [
              0.3333333333333333,
              "#9c179e"
             ],
             [
              0.4444444444444444,
              "#bd3786"
             ],
             [
              0.5555555555555556,
              "#d8576b"
             ],
             [
              0.6666666666666666,
              "#ed7953"
             ],
             [
              0.7777777777777778,
              "#fb9f3a"
             ],
             [
              0.8888888888888888,
              "#fdca26"
             ],
             [
              1,
              "#f0f921"
             ]
            ],
            "type": "histogram2d"
           }
          ],
          "histogram2dcontour": [
           {
            "colorbar": {
             "outlinewidth": 0,
             "ticks": ""
            },
            "colorscale": [
             [
              0,
              "#0d0887"
             ],
             [
              0.1111111111111111,
              "#46039f"
             ],
             [
              0.2222222222222222,
              "#7201a8"
             ],
             [
              0.3333333333333333,
              "#9c179e"
             ],
             [
              0.4444444444444444,
              "#bd3786"
             ],
             [
              0.5555555555555556,
              "#d8576b"
             ],
             [
              0.6666666666666666,
              "#ed7953"
             ],
             [
              0.7777777777777778,
              "#fb9f3a"
             ],
             [
              0.8888888888888888,
              "#fdca26"
             ],
             [
              1,
              "#f0f921"
             ]
            ],
            "type": "histogram2dcontour"
           }
          ],
          "mesh3d": [
           {
            "colorbar": {
             "outlinewidth": 0,
             "ticks": ""
            },
            "type": "mesh3d"
           }
          ],
          "parcoords": [
           {
            "line": {
             "colorbar": {
              "outlinewidth": 0,
              "ticks": ""
             }
            },
            "type": "parcoords"
           }
          ],
          "pie": [
           {
            "automargin": true,
            "type": "pie"
           }
          ],
          "scatter": [
           {
            "fillpattern": {
             "fillmode": "overlay",
             "size": 10,
             "solidity": 0.2
            },
            "type": "scatter"
           }
          ],
          "scatter3d": [
           {
            "line": {
             "colorbar": {
              "outlinewidth": 0,
              "ticks": ""
             }
            },
            "marker": {
             "colorbar": {
              "outlinewidth": 0,
              "ticks": ""
             }
            },
            "type": "scatter3d"
           }
          ],
          "scattercarpet": [
           {
            "marker": {
             "colorbar": {
              "outlinewidth": 0,
              "ticks": ""
             }
            },
            "type": "scattercarpet"
           }
          ],
          "scattergeo": [
           {
            "marker": {
             "colorbar": {
              "outlinewidth": 0,
              "ticks": ""
             }
            },
            "type": "scattergeo"
           }
          ],
          "scattergl": [
           {
            "marker": {
             "colorbar": {
              "outlinewidth": 0,
              "ticks": ""
             }
            },
            "type": "scattergl"
           }
          ],
          "scattermap": [
           {
            "marker": {
             "colorbar": {
              "outlinewidth": 0,
              "ticks": ""
             }
            },
            "type": "scattermap"
           }
          ],
          "scattermapbox": [
           {
            "marker": {
             "colorbar": {
              "outlinewidth": 0,
              "ticks": ""
             }
            },
            "type": "scattermapbox"
           }
          ],
          "scatterpolar": [
           {
            "marker": {
             "colorbar": {
              "outlinewidth": 0,
              "ticks": ""
             }
            },
            "type": "scatterpolar"
           }
          ],
          "scatterpolargl": [
           {
            "marker": {
             "colorbar": {
              "outlinewidth": 0,
              "ticks": ""
             }
            },
            "type": "scatterpolargl"
           }
          ],
          "scatterternary": [
           {
            "marker": {
             "colorbar": {
              "outlinewidth": 0,
              "ticks": ""
             }
            },
            "type": "scatterternary"
           }
          ],
          "surface": [
           {
            "colorbar": {
             "outlinewidth": 0,
             "ticks": ""
            },
            "colorscale": [
             [
              0,
              "#0d0887"
             ],
             [
              0.1111111111111111,
              "#46039f"
             ],
             [
              0.2222222222222222,
              "#7201a8"
             ],
             [
              0.3333333333333333,
              "#9c179e"
             ],
             [
              0.4444444444444444,
              "#bd3786"
             ],
             [
              0.5555555555555556,
              "#d8576b"
             ],
             [
              0.6666666666666666,
              "#ed7953"
             ],
             [
              0.7777777777777778,
              "#fb9f3a"
             ],
             [
              0.8888888888888888,
              "#fdca26"
             ],
             [
              1,
              "#f0f921"
             ]
            ],
            "type": "surface"
           }
          ],
          "table": [
           {
            "cells": {
             "fill": {
              "color": "#EBF0F8"
             },
             "line": {
              "color": "white"
             }
            },
            "header": {
             "fill": {
              "color": "#C8D4E3"
             },
             "line": {
              "color": "white"
             }
            },
            "type": "table"
           }
          ]
         },
         "layout": {
          "annotationdefaults": {
           "arrowcolor": "#2a3f5f",
           "arrowhead": 0,
           "arrowwidth": 1
          },
          "autotypenumbers": "strict",
          "coloraxis": {
           "colorbar": {
            "outlinewidth": 0,
            "ticks": ""
           }
          },
          "colorscale": {
           "diverging": [
            [
             0,
             "#8e0152"
            ],
            [
             0.1,
             "#c51b7d"
            ],
            [
             0.2,
             "#de77ae"
            ],
            [
             0.3,
             "#f1b6da"
            ],
            [
             0.4,
             "#fde0ef"
            ],
            [
             0.5,
             "#f7f7f7"
            ],
            [
             0.6,
             "#e6f5d0"
            ],
            [
             0.7,
             "#b8e186"
            ],
            [
             0.8,
             "#7fbc41"
            ],
            [
             0.9,
             "#4d9221"
            ],
            [
             1,
             "#276419"
            ]
           ],
           "sequential": [
            [
             0,
             "#0d0887"
            ],
            [
             0.1111111111111111,
             "#46039f"
            ],
            [
             0.2222222222222222,
             "#7201a8"
            ],
            [
             0.3333333333333333,
             "#9c179e"
            ],
            [
             0.4444444444444444,
             "#bd3786"
            ],
            [
             0.5555555555555556,
             "#d8576b"
            ],
            [
             0.6666666666666666,
             "#ed7953"
            ],
            [
             0.7777777777777778,
             "#fb9f3a"
            ],
            [
             0.8888888888888888,
             "#fdca26"
            ],
            [
             1,
             "#f0f921"
            ]
           ],
           "sequentialminus": [
            [
             0,
             "#0d0887"
            ],
            [
             0.1111111111111111,
             "#46039f"
            ],
            [
             0.2222222222222222,
             "#7201a8"
            ],
            [
             0.3333333333333333,
             "#9c179e"
            ],
            [
             0.4444444444444444,
             "#bd3786"
            ],
            [
             0.5555555555555556,
             "#d8576b"
            ],
            [
             0.6666666666666666,
             "#ed7953"
            ],
            [
             0.7777777777777778,
             "#fb9f3a"
            ],
            [
             0.8888888888888888,
             "#fdca26"
            ],
            [
             1,
             "#f0f921"
            ]
           ]
          },
          "colorway": [
           "#636efa",
           "#EF553B",
           "#00cc96",
           "#ab63fa",
           "#FFA15A",
           "#19d3f3",
           "#FF6692",
           "#B6E880",
           "#FF97FF",
           "#FECB52"
          ],
          "font": {
           "color": "#2a3f5f"
          },
          "geo": {
           "bgcolor": "white",
           "lakecolor": "white",
           "landcolor": "#E5ECF6",
           "showlakes": true,
           "showland": true,
           "subunitcolor": "white"
          },
          "hoverlabel": {
           "align": "left"
          },
          "hovermode": "closest",
          "mapbox": {
           "style": "light"
          },
          "paper_bgcolor": "white",
          "plot_bgcolor": "#E5ECF6",
          "polar": {
           "angularaxis": {
            "gridcolor": "white",
            "linecolor": "white",
            "ticks": ""
           },
           "bgcolor": "#E5ECF6",
           "radialaxis": {
            "gridcolor": "white",
            "linecolor": "white",
            "ticks": ""
           }
          },
          "scene": {
           "xaxis": {
            "backgroundcolor": "#E5ECF6",
            "gridcolor": "white",
            "gridwidth": 2,
            "linecolor": "white",
            "showbackground": true,
            "ticks": "",
            "zerolinecolor": "white"
           },
           "yaxis": {
            "backgroundcolor": "#E5ECF6",
            "gridcolor": "white",
            "gridwidth": 2,
            "linecolor": "white",
            "showbackground": true,
            "ticks": "",
            "zerolinecolor": "white"
           },
           "zaxis": {
            "backgroundcolor": "#E5ECF6",
            "gridcolor": "white",
            "gridwidth": 2,
            "linecolor": "white",
            "showbackground": true,
            "ticks": "",
            "zerolinecolor": "white"
           }
          },
          "shapedefaults": {
           "line": {
            "color": "#2a3f5f"
           }
          },
          "ternary": {
           "aaxis": {
            "gridcolor": "white",
            "linecolor": "white",
            "ticks": ""
           },
           "baxis": {
            "gridcolor": "white",
            "linecolor": "white",
            "ticks": ""
           },
           "bgcolor": "#E5ECF6",
           "caxis": {
            "gridcolor": "white",
            "linecolor": "white",
            "ticks": ""
           }
          },
          "title": {
           "x": 0.05
          },
          "xaxis": {
           "automargin": true,
           "gridcolor": "white",
           "linecolor": "white",
           "ticks": "",
           "title": {
            "standoff": 15
           },
           "zerolinecolor": "white",
           "zerolinewidth": 2
          },
          "yaxis": {
           "automargin": true,
           "gridcolor": "white",
           "linecolor": "white",
           "ticks": "",
           "title": {
            "standoff": 15
           },
           "zerolinecolor": "white",
           "zerolinewidth": 2
          }
         }
        },
        "title": {
         "font": {
          "color": "Black",
          "size": 22
         },
         "text": "<b>Similarity Matrix</b>",
         "x": 0.55,
         "xanchor": "center",
         "y": 0.95,
         "yanchor": "top"
        },
        "width": 800,
        "xaxis": {
         "anchor": "y",
         "constrain": "domain",
         "domain": [
          0,
          1
         ],
         "scaleanchor": "y"
        },
        "yaxis": {
         "anchor": "x",
         "autorange": "reversed",
         "constrain": "domain",
         "domain": [
          0,
          1
         ]
        }
       }
      },
      "text/html": [
       "<div>                        <script type=\"text/javascript\">window.PlotlyConfig = {MathJaxConfig: 'local'};</script>\n",
       "        <script charset=\"utf-8\" src=\"https://cdn.plot.ly/plotly-3.0.1.min.js\"></script>                <div id=\"4d473f18-f422-410b-af28-9ad03129930c\" class=\"plotly-graph-div\" style=\"height:800px; width:800px;\"></div>            <script type=\"text/javascript\">                window.PLOTLYENV=window.PLOTLYENV || {};                                if (document.getElementById(\"4d473f18-f422-410b-af28-9ad03129930c\")) {                    Plotly.newPlot(                        \"4d473f18-f422-410b-af28-9ad03129930c\",                        [{\"coloraxis\":\"coloraxis\",\"name\":\"0\",\"x\":[\"0_01_dukung_orang\",\"1_01_dukung_pilih\",\"2_anies_baswedan_imin\",\"3_01_dukung_pilih\",\"4_01_dukung_kampanye\",\"5_presiden_anies_pilih\",\"6_anies_indonesia_imin\",\"7_cak_imin_anies\",\"8_kayak_01_video\",\"9_suara_indonesia_01\",\"10_presiden_calon_01\",\"11_menang_01_survei\",\"12_politik_demokrasi_partai\",\"13_debat_calon_01\",\"14_debat_cak_imin\"],\"y\":[\"0_01_dukung_orang\",\"1_01_dukung_pilih\",\"2_anies_baswedan_imin\",\"3_01_dukung_pilih\",\"4_01_dukung_kampanye\",\"5_presiden_anies_pilih\",\"6_anies_indonesia_imin\",\"7_cak_imin_anies\",\"8_kayak_01_video\",\"9_suara_indonesia_01\",\"10_presiden_calon_01\",\"11_menang_01_survei\",\"12_politik_demokrasi_partai\",\"13_debat_calon_01\",\"14_debat_cak_imin\"],\"z\":{\"dtype\":\"f4\",\"bdata\":\"BACAP1CHdD8IpSE\\u002fVOdPP6K4cT+TWwE\\u002fFAYdP4lrHT\\u002fSNXA\\u002ftAFxP3AAUT+20mY\\u002fdgc+PzgWRz95evs+UId0PwEAgD8GGvI+5J9sPy5iVT\\u002f6LrU+UVjjPh0yFz9mamE\\u002fqqBdP7auOz+0JmY\\u002fvFElP1BBMj\\u002fkq7o+CKUhPwYa8j4AAIA\\u002f8olyPh5+NT9mP1I\\u002f+sh2P+TxUT+\\u002fBxg\\u002fpxcpP0XjFD\\u002fUVv4+3GUTP4KwDD80cTc\\u002fVOdPP+SfbD\\u002fyiXI++P9\\u002fP1LLKz8KByQ+TPVYPhak3z4Txz0\\u002ftmk5P2W5GT9h500\\u002fSu8DPwaQDj9A4jY+orhxPy5iVT8efjU\\u002fUssrPwEAgD+a9xo\\u002fxLU4PzQhDT909Wo\\u002fawtxP14SVz8SDlY\\u002ftKlMP7DLSz++Dw4\\u002fk1sBP\\u002foutT5mP1I\\u002fCgckPpr3Gj8CAIA\\u002fpgBaP9QqIT\\u002f6qgM\\u002fOCEXP17cRT+ZP9o+JZA1P1YHFT9hD0Y\\u002fFAYdP1FY4z76yHY\\u002fTPVYPsS1OD+mAFo\\u002f\\u002fP9\\u002fP2jZRD9gfR8\\u002fNNYwPz5yHj8y5vg+MO0hP7wQFT9srj4\\u002fiWsdPx0yFz\\u002fk8VE\\u002fFqTfPjQhDT\\u002fUKiE\\u002faNlEP\\u002fr\\u002ffz9w+Q0\\u002fR1EPP3we8T7dQQI\\u002fJCjZPhWq5j6G5Bc\\u002f0jVwP2ZqYT+\\u002fBxg\\u002fE8c9P3T1aj\\u002f6qgM\\u002fYH0fP3D5DT\\u002f\\u002f\\u002f38\\u002fNo9oP0ihUD+Wjlw\\u002fOkBBPylVTD8h7wY\\u002ftAFxP6qgXT+nFyk\\u002ftmk5P2sLcT84IRc\\u002fNNYwP0dRDz82j2g\\u002fAQCAPxowVj86mFk\\u002f4uBSP3pRTD9qFQ0\\u002fcABRP7auOz9F4xQ\\u002fZbkZP14SVz9e3EU\\u002fPnIeP3we8T5IoVA\\u002fGjBWPwAAgD\\u002fqvkE\\u002fIP9TP4xCST\\u002f5Rx4\\u002fttJmP7QmZj\\u002fUVv4+YedNPxIOVj+ZP9o+Mub4Pt1BAj+Wjlw\\u002fOphZP+q+QT8BAIA\\u002fz3ouP\\u002fp3Pz8GFuA+dgc+P7xRJT\\u002fcZRM\\u002fSu8DP7SpTD8lkDU\\u002fMO0hPyQo2T46QEE\\u002f4uBSPyD\\u002fUz\\u002fPei4\\u002fAQCAP+KLQT\\u002fKOxc\\u002fOBZHP1BBMj+CsAw\\u002fBpAOP7DLSz9WBxU\\u002fvBAVPxWq5j4pVUw\\u002felFMP4xCST\\u002f6dz8\\u002f4otBPwEAgD9K21Q\\u002feXr7PuSruj40cTc\\u002fQOI2Pr4PDj9hD0Y\\u002fbK4+P4bkFz8h7wY\\u002fahUNP\\u002flHHj8GFuA+yjsXP0rbVD\\u002f+\\u002f38\\u002f\",\"shape\":\"15, 15\"},\"type\":\"heatmap\",\"xaxis\":\"x\",\"yaxis\":\"y\",\"hovertemplate\":\"x: %{x}\\u003cbr\\u003ey: %{y}\\u003cbr\\u003eSimilarity Score: %{z}\\u003cextra\\u003e\\u003c\\u002fextra\\u003e\"}],                        {\"template\":{\"data\":{\"histogram2dcontour\":[{\"type\":\"histogram2dcontour\",\"colorbar\":{\"outlinewidth\":0,\"ticks\":\"\"},\"colorscale\":[[0.0,\"#0d0887\"],[0.1111111111111111,\"#46039f\"],[0.2222222222222222,\"#7201a8\"],[0.3333333333333333,\"#9c179e\"],[0.4444444444444444,\"#bd3786\"],[0.5555555555555556,\"#d8576b\"],[0.6666666666666666,\"#ed7953\"],[0.7777777777777778,\"#fb9f3a\"],[0.8888888888888888,\"#fdca26\"],[1.0,\"#f0f921\"]]}],\"choropleth\":[{\"type\":\"choropleth\",\"colorbar\":{\"outlinewidth\":0,\"ticks\":\"\"}}],\"histogram2d\":[{\"type\":\"histogram2d\",\"colorbar\":{\"outlinewidth\":0,\"ticks\":\"\"},\"colorscale\":[[0.0,\"#0d0887\"],[0.1111111111111111,\"#46039f\"],[0.2222222222222222,\"#7201a8\"],[0.3333333333333333,\"#9c179e\"],[0.4444444444444444,\"#bd3786\"],[0.5555555555555556,\"#d8576b\"],[0.6666666666666666,\"#ed7953\"],[0.7777777777777778,\"#fb9f3a\"],[0.8888888888888888,\"#fdca26\"],[1.0,\"#f0f921\"]]}],\"heatmap\":[{\"type\":\"heatmap\",\"colorbar\":{\"outlinewidth\":0,\"ticks\":\"\"},\"colorscale\":[[0.0,\"#0d0887\"],[0.1111111111111111,\"#46039f\"],[0.2222222222222222,\"#7201a8\"],[0.3333333333333333,\"#9c179e\"],[0.4444444444444444,\"#bd3786\"],[0.5555555555555556,\"#d8576b\"],[0.6666666666666666,\"#ed7953\"],[0.7777777777777778,\"#fb9f3a\"],[0.8888888888888888,\"#fdca26\"],[1.0,\"#f0f921\"]]}],\"contourcarpet\":[{\"type\":\"contourcarpet\",\"colorbar\":{\"outlinewidth\":0,\"ticks\":\"\"}}],\"contour\":[{\"type\":\"contour\",\"colorbar\":{\"outlinewidth\":0,\"ticks\":\"\"},\"colorscale\":[[0.0,\"#0d0887\"],[0.1111111111111111,\"#46039f\"],[0.2222222222222222,\"#7201a8\"],[0.3333333333333333,\"#9c179e\"],[0.4444444444444444,\"#bd3786\"],[0.5555555555555556,\"#d8576b\"],[0.6666666666666666,\"#ed7953\"],[0.7777777777777778,\"#fb9f3a\"],[0.8888888888888888,\"#fdca26\"],[1.0,\"#f0f921\"]]}],\"surface\":[{\"type\":\"surface\",\"colorbar\":{\"outlinewidth\":0,\"ticks\":\"\"},\"colorscale\":[[0.0,\"#0d0887\"],[0.1111111111111111,\"#46039f\"],[0.2222222222222222,\"#7201a8\"],[0.3333333333333333,\"#9c179e\"],[0.4444444444444444,\"#bd3786\"],[0.5555555555555556,\"#d8576b\"],[0.6666666666666666,\"#ed7953\"],[0.7777777777777778,\"#fb9f3a\"],[0.8888888888888888,\"#fdca26\"],[1.0,\"#f0f921\"]]}],\"mesh3d\":[{\"type\":\"mesh3d\",\"colorbar\":{\"outlinewidth\":0,\"ticks\":\"\"}}],\"scatter\":[{\"fillpattern\":{\"fillmode\":\"overlay\",\"size\":10,\"solidity\":0.2},\"type\":\"scatter\"}],\"parcoords\":[{\"type\":\"parcoords\",\"line\":{\"colorbar\":{\"outlinewidth\":0,\"ticks\":\"\"}}}],\"scatterpolargl\":[{\"type\":\"scatterpolargl\",\"marker\":{\"colorbar\":{\"outlinewidth\":0,\"ticks\":\"\"}}}],\"bar\":[{\"error_x\":{\"color\":\"#2a3f5f\"},\"error_y\":{\"color\":\"#2a3f5f\"},\"marker\":{\"line\":{\"color\":\"#E5ECF6\",\"width\":0.5},\"pattern\":{\"fillmode\":\"overlay\",\"size\":10,\"solidity\":0.2}},\"type\":\"bar\"}],\"scattergeo\":[{\"type\":\"scattergeo\",\"marker\":{\"colorbar\":{\"outlinewidth\":0,\"ticks\":\"\"}}}],\"scatterpolar\":[{\"type\":\"scatterpolar\",\"marker\":{\"colorbar\":{\"outlinewidth\":0,\"ticks\":\"\"}}}],\"histogram\":[{\"marker\":{\"pattern\":{\"fillmode\":\"overlay\",\"size\":10,\"solidity\":0.2}},\"type\":\"histogram\"}],\"scattergl\":[{\"type\":\"scattergl\",\"marker\":{\"colorbar\":{\"outlinewidth\":0,\"ticks\":\"\"}}}],\"scatter3d\":[{\"type\":\"scatter3d\",\"line\":{\"colorbar\":{\"outlinewidth\":0,\"ticks\":\"\"}},\"marker\":{\"colorbar\":{\"outlinewidth\":0,\"ticks\":\"\"}}}],\"scattermap\":[{\"type\":\"scattermap\",\"marker\":{\"colorbar\":{\"outlinewidth\":0,\"ticks\":\"\"}}}],\"scattermapbox\":[{\"type\":\"scattermapbox\",\"marker\":{\"colorbar\":{\"outlinewidth\":0,\"ticks\":\"\"}}}],\"scatterternary\":[{\"type\":\"scatterternary\",\"marker\":{\"colorbar\":{\"outlinewidth\":0,\"ticks\":\"\"}}}],\"scattercarpet\":[{\"type\":\"scattercarpet\",\"marker\":{\"colorbar\":{\"outlinewidth\":0,\"ticks\":\"\"}}}],\"carpet\":[{\"aaxis\":{\"endlinecolor\":\"#2a3f5f\",\"gridcolor\":\"white\",\"linecolor\":\"white\",\"minorgridcolor\":\"white\",\"startlinecolor\":\"#2a3f5f\"},\"baxis\":{\"endlinecolor\":\"#2a3f5f\",\"gridcolor\":\"white\",\"linecolor\":\"white\",\"minorgridcolor\":\"white\",\"startlinecolor\":\"#2a3f5f\"},\"type\":\"carpet\"}],\"table\":[{\"cells\":{\"fill\":{\"color\":\"#EBF0F8\"},\"line\":{\"color\":\"white\"}},\"header\":{\"fill\":{\"color\":\"#C8D4E3\"},\"line\":{\"color\":\"white\"}},\"type\":\"table\"}],\"barpolar\":[{\"marker\":{\"line\":{\"color\":\"#E5ECF6\",\"width\":0.5},\"pattern\":{\"fillmode\":\"overlay\",\"size\":10,\"solidity\":0.2}},\"type\":\"barpolar\"}],\"pie\":[{\"automargin\":true,\"type\":\"pie\"}]},\"layout\":{\"autotypenumbers\":\"strict\",\"colorway\":[\"#636efa\",\"#EF553B\",\"#00cc96\",\"#ab63fa\",\"#FFA15A\",\"#19d3f3\",\"#FF6692\",\"#B6E880\",\"#FF97FF\",\"#FECB52\"],\"font\":{\"color\":\"#2a3f5f\"},\"hovermode\":\"closest\",\"hoverlabel\":{\"align\":\"left\"},\"paper_bgcolor\":\"white\",\"plot_bgcolor\":\"#E5ECF6\",\"polar\":{\"bgcolor\":\"#E5ECF6\",\"angularaxis\":{\"gridcolor\":\"white\",\"linecolor\":\"white\",\"ticks\":\"\"},\"radialaxis\":{\"gridcolor\":\"white\",\"linecolor\":\"white\",\"ticks\":\"\"}},\"ternary\":{\"bgcolor\":\"#E5ECF6\",\"aaxis\":{\"gridcolor\":\"white\",\"linecolor\":\"white\",\"ticks\":\"\"},\"baxis\":{\"gridcolor\":\"white\",\"linecolor\":\"white\",\"ticks\":\"\"},\"caxis\":{\"gridcolor\":\"white\",\"linecolor\":\"white\",\"ticks\":\"\"}},\"coloraxis\":{\"colorbar\":{\"outlinewidth\":0,\"ticks\":\"\"}},\"colorscale\":{\"sequential\":[[0.0,\"#0d0887\"],[0.1111111111111111,\"#46039f\"],[0.2222222222222222,\"#7201a8\"],[0.3333333333333333,\"#9c179e\"],[0.4444444444444444,\"#bd3786\"],[0.5555555555555556,\"#d8576b\"],[0.6666666666666666,\"#ed7953\"],[0.7777777777777778,\"#fb9f3a\"],[0.8888888888888888,\"#fdca26\"],[1.0,\"#f0f921\"]],\"sequentialminus\":[[0.0,\"#0d0887\"],[0.1111111111111111,\"#46039f\"],[0.2222222222222222,\"#7201a8\"],[0.3333333333333333,\"#9c179e\"],[0.4444444444444444,\"#bd3786\"],[0.5555555555555556,\"#d8576b\"],[0.6666666666666666,\"#ed7953\"],[0.7777777777777778,\"#fb9f3a\"],[0.8888888888888888,\"#fdca26\"],[1.0,\"#f0f921\"]],\"diverging\":[[0,\"#8e0152\"],[0.1,\"#c51b7d\"],[0.2,\"#de77ae\"],[0.3,\"#f1b6da\"],[0.4,\"#fde0ef\"],[0.5,\"#f7f7f7\"],[0.6,\"#e6f5d0\"],[0.7,\"#b8e186\"],[0.8,\"#7fbc41\"],[0.9,\"#4d9221\"],[1,\"#276419\"]]},\"xaxis\":{\"gridcolor\":\"white\",\"linecolor\":\"white\",\"ticks\":\"\",\"title\":{\"standoff\":15},\"zerolinecolor\":\"white\",\"automargin\":true,\"zerolinewidth\":2},\"yaxis\":{\"gridcolor\":\"white\",\"linecolor\":\"white\",\"ticks\":\"\",\"title\":{\"standoff\":15},\"zerolinecolor\":\"white\",\"automargin\":true,\"zerolinewidth\":2},\"scene\":{\"xaxis\":{\"backgroundcolor\":\"#E5ECF6\",\"gridcolor\":\"white\",\"linecolor\":\"white\",\"showbackground\":true,\"ticks\":\"\",\"zerolinecolor\":\"white\",\"gridwidth\":2},\"yaxis\":{\"backgroundcolor\":\"#E5ECF6\",\"gridcolor\":\"white\",\"linecolor\":\"white\",\"showbackground\":true,\"ticks\":\"\",\"zerolinecolor\":\"white\",\"gridwidth\":2},\"zaxis\":{\"backgroundcolor\":\"#E5ECF6\",\"gridcolor\":\"white\",\"linecolor\":\"white\",\"showbackground\":true,\"ticks\":\"\",\"zerolinecolor\":\"white\",\"gridwidth\":2}},\"shapedefaults\":{\"line\":{\"color\":\"#2a3f5f\"}},\"annotationdefaults\":{\"arrowcolor\":\"#2a3f5f\",\"arrowhead\":0,\"arrowwidth\":1},\"geo\":{\"bgcolor\":\"white\",\"landcolor\":\"#E5ECF6\",\"subunitcolor\":\"white\",\"showland\":true,\"showlakes\":true,\"lakecolor\":\"white\"},\"title\":{\"x\":0.05},\"mapbox\":{\"style\":\"light\"}}},\"xaxis\":{\"anchor\":\"y\",\"domain\":[0.0,1.0],\"scaleanchor\":\"y\",\"constrain\":\"domain\"},\"yaxis\":{\"anchor\":\"x\",\"domain\":[0.0,1.0],\"autorange\":\"reversed\",\"constrain\":\"domain\"},\"coloraxis\":{\"colorbar\":{\"title\":{\"text\":\"Similarity Score\"}},\"colorscale\":[[0.0,\"rgb(247,252,240)\"],[0.125,\"rgb(224,243,219)\"],[0.25,\"rgb(204,235,197)\"],[0.375,\"rgb(168,221,181)\"],[0.5,\"rgb(123,204,196)\"],[0.625,\"rgb(78,179,211)\"],[0.75,\"rgb(43,140,190)\"],[0.875,\"rgb(8,104,172)\"],[1.0,\"rgb(8,64,129)\"]]},\"margin\":{\"t\":60},\"title\":{\"font\":{\"size\":22,\"color\":\"Black\"},\"text\":\"\\u003cb\\u003eSimilarity Matrix\\u003c\\u002fb\\u003e\",\"y\":0.95,\"x\":0.55,\"xanchor\":\"center\",\"yanchor\":\"top\"},\"hoverlabel\":{\"font\":{\"size\":16,\"family\":\"Rockwell\"},\"bgcolor\":\"white\"},\"width\":800,\"height\":800,\"showlegend\":true,\"legend\":{\"title\":{\"text\":\"Trend\"}}},                        {\"responsive\": true}                    )                };            </script>        </div>"
      ],
      "text/plain": [
       "Figure({\n",
       "    'data': [{'coloraxis': 'coloraxis',\n",
       "              'hovertemplate': 'x: %{x}<br>y: %{y}<br>Similarity Score: %{z}<extra></extra>',\n",
       "              'name': '0',\n",
       "              'type': 'heatmap',\n",
       "              'x': [0_01_dukung_orang, 1_01_dukung_pilih, 2_anies_baswedan_imin,\n",
       "                    3_01_dukung_pilih, 4_01_dukung_kampanye,\n",
       "                    5_presiden_anies_pilih, 6_anies_indonesia_imin,\n",
       "                    7_cak_imin_anies, 8_kayak_01_video, 9_suara_indonesia_01,\n",
       "                    10_presiden_calon_01, 11_menang_01_survei,\n",
       "                    12_politik_demokrasi_partai, 13_debat_calon_01,\n",
       "                    14_debat_cak_imin],\n",
       "              'xaxis': 'x',\n",
       "              'y': [0_01_dukung_orang, 1_01_dukung_pilih, 2_anies_baswedan_imin,\n",
       "                    3_01_dukung_pilih, 4_01_dukung_kampanye,\n",
       "                    5_presiden_anies_pilih, 6_anies_indonesia_imin,\n",
       "                    7_cak_imin_anies, 8_kayak_01_video, 9_suara_indonesia_01,\n",
       "                    10_presiden_calon_01, 11_menang_01_survei,\n",
       "                    12_politik_demokrasi_partai, 13_debat_calon_01,\n",
       "                    14_debat_cak_imin],\n",
       "              'yaxis': 'y',\n",
       "              'z': {'bdata': ('BACAP1CHdD8IpSE/VOdPP6K4cT+TWw' ... 'UNP/lHHj8GFuA+yjsXP0rbVD/+/38/'),\n",
       "                    'dtype': 'f4',\n",
       "                    'shape': '15, 15'}}],\n",
       "    'layout': {'coloraxis': {'colorbar': {'title': {'text': 'Similarity Score'}},\n",
       "                             'colorscale': [[0.0, 'rgb(247,252,240)'], [0.125,\n",
       "                                            'rgb(224,243,219)'], [0.25,\n",
       "                                            'rgb(204,235,197)'], [0.375,\n",
       "                                            'rgb(168,221,181)'], [0.5,\n",
       "                                            'rgb(123,204,196)'], [0.625,\n",
       "                                            'rgb(78,179,211)'], [0.75,\n",
       "                                            'rgb(43,140,190)'], [0.875,\n",
       "                                            'rgb(8,104,172)'], [1.0,\n",
       "                                            'rgb(8,64,129)']]},\n",
       "               'height': 800,\n",
       "               'hoverlabel': {'bgcolor': 'white', 'font': {'family': 'Rockwell', 'size': 16}},\n",
       "               'legend': {'title': {'text': 'Trend'}},\n",
       "               'margin': {'t': 60},\n",
       "               'showlegend': True,\n",
       "               'template': '...',\n",
       "               'title': {'font': {'color': 'Black', 'size': 22},\n",
       "                         'text': '<b>Similarity Matrix</b>',\n",
       "                         'x': 0.55,\n",
       "                         'xanchor': 'center',\n",
       "                         'y': 0.95,\n",
       "                         'yanchor': 'top'},\n",
       "               'width': 800,\n",
       "               'xaxis': {'anchor': 'y', 'constrain': 'domain', 'domain': [0.0, 1.0], 'scaleanchor': 'y'},\n",
       "               'yaxis': {'anchor': 'x', 'autorange': 'reversed', 'constrain': 'domain', 'domain': [0.0, 1.0]}}\n",
       "})"
      ]
     },
     "execution_count": 14,
     "metadata": {},
     "output_type": "execute_result"
    }
   ],
   "source": [
    "# Topic summary table\n",
    "topic_info = topic_model_kmeans.get_topic_info()\n",
    "print(topic_info)\n",
    "\n",
    "# Interactive visualizations\n",
    "topic_model_kmeans.visualize_topics()\n",
    "topic_model_kmeans.visualize_barchart(top_n_topics=15)\n",
    "topic_model_kmeans.visualize_heatmap()\n"
   ]
  },
  {
   "cell_type": "code",
   "execution_count": 15,
   "id": "f546c217",
   "metadata": {},
   "outputs": [
    {
     "data": {
      "text/html": [
       "<div>\n",
       "<style scoped>\n",
       "    .dataframe tbody tr th:only-of-type {\n",
       "        vertical-align: middle;\n",
       "    }\n",
       "\n",
       "    .dataframe tbody tr th {\n",
       "        vertical-align: top;\n",
       "    }\n",
       "\n",
       "    .dataframe thead th {\n",
       "        text-align: right;\n",
       "    }\n",
       "</style>\n",
       "<table border=\"1\" class=\"dataframe\">\n",
       "  <thead>\n",
       "    <tr style=\"text-align: right;\">\n",
       "      <th></th>\n",
       "      <th>Topic</th>\n",
       "      <th>Count</th>\n",
       "      <th>Name</th>\n",
       "      <th>Representation</th>\n",
       "      <th>Representative_Docs</th>\n",
       "    </tr>\n",
       "  </thead>\n",
       "  <tbody>\n",
       "    <tr>\n",
       "      <th>0</th>\n",
       "      <td>0</td>\n",
       "      <td>3249</td>\n",
       "      <td>0_01_dukung_orang_pilih</td>\n",
       "      <td>[01, dukung, orang, pilih, pasang, banget, tem...</td>\n",
       "      <td>[orang malu pilih 01, orang pilih 01 dukung am...</td>\n",
       "    </tr>\n",
       "    <tr>\n",
       "      <th>1</th>\n",
       "      <td>1</td>\n",
       "      <td>3151</td>\n",
       "      <td>1_01_dukung_pilih_pasang</td>\n",
       "      <td>[01, dukung, pilih, pasang, buzzer, banget, ca...</td>\n",
       "      <td>[sopan banget dukung amin dukung 01, kasihan p...</td>\n",
       "    </tr>\n",
       "    <tr>\n",
       "      <th>2</th>\n",
       "      <td>2</td>\n",
       "      <td>2856</td>\n",
       "      <td>2_anies_baswedan_imin_cak</td>\n",
       "      <td>[anies, baswedan, imin, cak, rasyid, ayah, ami...</td>\n",
       "      <td>[tim nasional timnas menang anies baswedan muh...</td>\n",
       "    </tr>\n",
       "    <tr>\n",
       "      <th>3</th>\n",
       "      <td>3</td>\n",
       "      <td>2752</td>\n",
       "      <td>3_01_dukung_pilih_amin</td>\n",
       "      <td>[01, dukung, pilih, amin, bang, buzzer, coblos...</td>\n",
       "      <td>[ dukung 01 harap, asli dukung 01 amin, dukung...</td>\n",
       "    </tr>\n",
       "    <tr>\n",
       "      <th>4</th>\n",
       "      <td>4</td>\n",
       "      <td>2696</td>\n",
       "      <td>4_01_dukung_kampanye_orang</td>\n",
       "      <td>[01, dukung, kampanye, orang, pasang, pilih, k...</td>\n",
       "      <td>[ribut pasang calon a b c omong bicara data co...</td>\n",
       "    </tr>\n",
       "  </tbody>\n",
       "</table>\n",
       "</div>"
      ],
      "text/plain": [
       "   Topic  Count                        Name  \\\n",
       "0      0   3249     0_01_dukung_orang_pilih   \n",
       "1      1   3151    1_01_dukung_pilih_pasang   \n",
       "2      2   2856   2_anies_baswedan_imin_cak   \n",
       "3      3   2752      3_01_dukung_pilih_amin   \n",
       "4      4   2696  4_01_dukung_kampanye_orang   \n",
       "\n",
       "                                      Representation  \\\n",
       "0  [01, dukung, orang, pilih, pasang, banget, tem...   \n",
       "1  [01, dukung, pilih, pasang, buzzer, banget, ca...   \n",
       "2  [anies, baswedan, imin, cak, rasyid, ayah, ami...   \n",
       "3  [01, dukung, pilih, amin, bang, buzzer, coblos...   \n",
       "4  [01, dukung, kampanye, orang, pasang, pilih, k...   \n",
       "\n",
       "                                 Representative_Docs  \n",
       "0  [orang malu pilih 01, orang pilih 01 dukung am...  \n",
       "1  [sopan banget dukung amin dukung 01, kasihan p...  \n",
       "2  [tim nasional timnas menang anies baswedan muh...  \n",
       "3  [ dukung 01 harap, asli dukung 01 amin, dukung...  \n",
       "4  [ribut pasang calon a b c omong bicara data co...  "
      ]
     },
     "metadata": {},
     "output_type": "display_data"
    }
   ],
   "source": [
    "topic_info = topic_model_kmeans.get_topic_info()\n",
    "display(topic_info.head())        "
   ]
  },
  {
   "cell_type": "code",
   "execution_count": 16,
   "id": "465c7879",
   "metadata": {},
   "outputs": [
    {
     "name": "stdout",
     "output_type": "stream",
     "text": [
      "\n",
      "Topic 0\n",
      "[('01', np.float64(0.0771922877941425)), ('dukung', np.float64(0.05080941147309609)), ('orang', np.float64(0.037948476104567454)), ('pilih', np.float64(0.029205198271782782)), ('pasang', np.float64(0.02891636204398661)), ('banget', np.float64(0.024384181851401388)), ('teman', np.float64(0.02398189712478682)), ('calon', np.float64(0.021505741597132855)), ('buzzer', np.float64(0.01612408369899807)), ('bilang', np.float64(0.01574043530658533))]\n",
      "\n",
      "Topic 1\n",
      "[('01', np.float64(0.11554277495623003)), ('dukung', np.float64(0.06138137985566899)), ('pilih', np.float64(0.035872245111182206)), ('pasang', np.float64(0.030602561745866348)), ('buzzer', np.float64(0.027421154467304733)), ('banget', np.float64(0.023402408122674034)), ('calon', np.float64(0.02219665300763565)), ('bang', np.float64(0.019595020859839805)), ('amin', np.float64(0.01850916308741227)), ('kubu', np.float64(0.017474347201589323))]\n",
      "\n",
      "Topic 2\n",
      "[('anies', np.float64(0.07949788701704243)), ('baswedan', np.float64(0.056487032786511716)), ('imin', np.float64(0.047310535139710216)), ('cak', np.float64(0.04508020447036836)), ('rasyid', np.float64(0.04209595079374513)), ('ayah', np.float64(0.02966064935328479)), ('amin', np.float64(0.027374304899282435)), ('muhaimin', np.float64(0.02118709696621905)), ('pimpin', np.float64(0.017522292089267873)), ('anak', np.float64(0.017453858287978928))]\n",
      "\n",
      "Topic 3\n",
      "[('01', np.float64(0.19632775559089122)), ('dukung', np.float64(0.0531542971346682)), ('pilih', np.float64(0.03466486855430646)), ('amin', np.float64(0.02399918841722143)), ('bang', np.float64(0.02131614622349928)), ('buzzer', np.float64(0.02046455268250946)), ('coblos', np.float64(0.019143268867104653)), ('all', np.float64(0.018662298619139782)), ('in', np.float64(0.016803738108667032)), ('banget', np.float64(0.01486228153558572))]\n",
      "\n",
      "Topic 4\n",
      "[('01', np.float64(0.0475807452926366)), ('dukung', np.float64(0.03098110087946016)), ('kampanye', np.float64(0.0281829790017286)), ('orang', np.float64(0.02770067127609489)), ('pasang', np.float64(0.026318409920251522)), ('pilih', np.float64(0.024634882926094382)), ('kerja', np.float64(0.02052172203017265)), ('calon', np.float64(0.01981128239789411)), ('banget', np.float64(0.01810545729227714)), ('anies', np.float64(0.015520963871424086))]\n",
      "\n",
      "Topic 5\n",
      "[('presiden', np.float64(0.10413526080627769)), ('anies', np.float64(0.06988712533422983)), ('pilih', np.float64(0.059978201999192016)), ('calon', np.float64(0.0394670069279208)), ('baswedan', np.float64(0.037319462726674676)), ('wakil', np.float64(0.029731664052997677)), ('imin', np.float64(0.029322208122622043)), ('politik', np.float64(0.028477644699522686)), ('cak', np.float64(0.02733475222203744)), ('partai', np.float64(0.026116298135566856))]\n",
      "\n",
      "Topic 6\n",
      "[('anies', np.float64(0.06865704159758221)), ('indonesia', np.float64(0.05464400117949251)), ('imin', np.float64(0.04427302822949799)), ('cak', np.float64(0.04415990536663801)), ('baswedan', np.float64(0.04011888289893154)), ('amin', np.float64(0.027594707912297074)), ('kampanye', np.float64(0.027215351182338813)), ('rasyid', np.float64(0.024215721810142015)), ('adil', np.float64(0.01968955485353172)), ('ayah', np.float64(0.019311140908378256))]\n",
      "\n",
      "Topic 7\n",
      "[('cak', np.float64(0.18944443315034068)), ('imin', np.float64(0.18267903065599034)), ('anies', np.float64(0.07473900577980004)), ('banget', np.float64(0.02775800344796687)), ('baswedan', np.float64(0.0222361915170638)), ('gibran', np.float64(0.016609080350396876)), ('lucu', np.float64(0.015669287832745543)), ('rasyid', np.float64(0.01538707364789874)), ('tertawa', np.float64(0.015172103386984659)), ('prabowo', np.float64(0.01385626496746229))]\n",
      "\n",
      "Topic 8\n",
      "[('kayak', np.float64(0.09057401566866607)), ('01', np.float64(0.06369332890736079)), ('video', np.float64(0.05355932605394615)), ('dukung', np.float64(0.041488034825448314)), ('twitter', np.float64(0.03533645135391245)), ('media', np.float64(0.0316252067752074)), ('berita', np.float64(0.026800995327517698)), ('orang', np.float64(0.02565626649452756)), ('pasang', np.float64(0.023265351860894196)), ('sosial', np.float64(0.02230207612370791))]\n",
      "\n",
      "Topic 9\n",
      "[('suara', np.float64(0.07119778928761121)), ('indonesia', np.float64(0.06150959975096537)), ('01', np.float64(0.058450679149207645)), ('pintar', np.float64(0.0501473531624071)), ('agama', np.float64(0.03759229914871937)), ('dukung', np.float64(0.03273565556317482)), ('pilih', np.float64(0.03076546561600159)), ('orang', np.float64(0.029355293578923414)), ('islam', np.float64(0.029324729169896112)), ('gratis', np.float64(0.02535266433262665))]\n",
      "\n",
      "Topic 10\n",
      "[('presiden', np.float64(0.12313063310536726)), ('calon', np.float64(0.09676439591645165)), ('01', np.float64(0.05214259916499659)), ('wakil', np.float64(0.04836617961392504)), ('pilih', np.float64(0.03563521312526459)), ('program', np.float64(0.035052526750108955)), ('dukung', np.float64(0.025911256043092277)), ('pasang', np.float64(0.01953233775133145)), ('legislatif', np.float64(0.01885919380967816)), ('anies', np.float64(0.018096013973148414))]\n",
      "\n",
      "Topic 11\n",
      "[('menang', np.float64(0.18865773589216503)), ('01', np.float64(0.09047290881087512)), ('survei', np.float64(0.06603133811904009)), ('gara', np.float64(0.05189741774128115)), ('sukses', np.float64(0.03743921864573726)), ('amin', np.float64(0.034658068586314913)), ('tim', np.float64(0.03199958566522952)), ('putar', np.float64(0.031770235544491675)), ('gas', np.float64(0.027015227691463424)), ('dukung', np.float64(0.026397555611285185))]\n",
      "\n",
      "Topic 12\n",
      "[('politik', np.float64(0.10828429280392676)), ('demokrasi', np.float64(0.0756002403087328)), ('partai', np.float64(0.06553758436890038)), ('01', np.float64(0.04541794554570336)), ('demokrat', np.float64(0.044212219357015255)), ('identitas', np.float64(0.03634065177397969)), ('indonesia', np.float64(0.03404561346717337)), ('nasional', np.float64(0.028547748524264397)), ('juang', np.float64(0.028390459892728568)), ('pilih', np.float64(0.028294474583346902))]\n",
      "\n",
      "Topic 13\n",
      "[('debat', np.float64(0.17255006262479206)), ('calon', np.float64(0.05276859388491714)), ('01', np.float64(0.050732590840683864)), ('presiden', np.float64(0.04046790368615899)), ('strategi', np.float64(0.03426585608279747)), ('dukung', np.float64(0.028561487670566054)), ('kemarin', np.float64(0.027973046287041208)), ('wakil', np.float64(0.02672722198818244)), ('dialog', np.float64(0.025989734498106355)), ('serang', np.float64(0.023188343540689067))]\n",
      "\n",
      "Topic 14\n",
      "[('debat', np.float64(0.18168034138832068)), ('cak', np.float64(0.06937754187446969)), ('imin', np.float64(0.06886754483124181)), ('presiden', np.float64(0.06484758885303106)), ('anies', np.float64(0.0502153042521014)), ('calon', np.float64(0.049404733395268824)), ('wakil', np.float64(0.039400633182889166)), ('dialog', np.float64(0.03359571122429561)), ('gibran', np.float64(0.030386973558975475)), ('mahfud', np.float64(0.02661615809114276))]\n"
     ]
    }
   ],
   "source": [
    "for tid in topic_info['Topic'][:15]:   # first 10 topics\n",
    "    print(f\"\\nTopic {tid}\")\n",
    "    print(topic_model_kmeans.get_topic(tid)[:15])  # top-15 words\n"
   ]
  },
  {
   "cell_type": "code",
   "execution_count": 17,
   "id": "40d16664",
   "metadata": {},
   "outputs": [
    {
     "ename": "ValueError",
     "evalue": "Mime type rendering requires nbformat>=4.2.0 but it is not installed",
     "output_type": "error",
     "traceback": [
      "\u001b[1;31m---------------------------------------------------------------------------\u001b[0m",
      "\u001b[1;31mValueError\u001b[0m                                Traceback (most recent call last)",
      "File \u001b[1;32m~\\AppData\\Roaming\\Python\\Python310\\site-packages\\IPython\\core\\formatters.py:925\u001b[0m, in \u001b[0;36mIPythonDisplayFormatter.__call__\u001b[1;34m(self, obj)\u001b[0m\n\u001b[0;32m    923\u001b[0m method \u001b[38;5;241m=\u001b[39m get_real_method(obj, \u001b[38;5;28mself\u001b[39m\u001b[38;5;241m.\u001b[39mprint_method)\n\u001b[0;32m    924\u001b[0m \u001b[38;5;28;01mif\u001b[39;00m method \u001b[38;5;129;01mis\u001b[39;00m \u001b[38;5;129;01mnot\u001b[39;00m \u001b[38;5;28;01mNone\u001b[39;00m:\n\u001b[1;32m--> 925\u001b[0m     \u001b[43mmethod\u001b[49m\u001b[43m(\u001b[49m\u001b[43m)\u001b[49m\n\u001b[0;32m    926\u001b[0m     \u001b[38;5;28;01mreturn\u001b[39;00m \u001b[38;5;28;01mTrue\u001b[39;00m\n",
      "File \u001b[1;32mc:\\Users\\PC\\AppData\\Local\\Programs\\Python\\Python310\\lib\\site-packages\\plotly\\basedatatypes.py:846\u001b[0m, in \u001b[0;36mBaseFigure._ipython_display_\u001b[1;34m(self)\u001b[0m\n\u001b[0;32m    843\u001b[0m \u001b[38;5;28;01mimport\u001b[39;00m \u001b[38;5;21;01mplotly\u001b[39;00m\u001b[38;5;21;01m.\u001b[39;00m\u001b[38;5;21;01mio\u001b[39;00m \u001b[38;5;28;01mas\u001b[39;00m \u001b[38;5;21;01mpio\u001b[39;00m\n\u001b[0;32m    845\u001b[0m \u001b[38;5;28;01mif\u001b[39;00m pio\u001b[38;5;241m.\u001b[39mrenderers\u001b[38;5;241m.\u001b[39mrender_on_display \u001b[38;5;129;01mand\u001b[39;00m pio\u001b[38;5;241m.\u001b[39mrenderers\u001b[38;5;241m.\u001b[39mdefault:\n\u001b[1;32m--> 846\u001b[0m     \u001b[43mpio\u001b[49m\u001b[38;5;241;43m.\u001b[39;49m\u001b[43mshow\u001b[49m\u001b[43m(\u001b[49m\u001b[38;5;28;43mself\u001b[39;49m\u001b[43m)\u001b[49m\n\u001b[0;32m    847\u001b[0m \u001b[38;5;28;01melse\u001b[39;00m:\n\u001b[0;32m    848\u001b[0m     \u001b[38;5;28mprint\u001b[39m(\u001b[38;5;28mrepr\u001b[39m(\u001b[38;5;28mself\u001b[39m))\n",
      "File \u001b[1;32mc:\\Users\\PC\\AppData\\Local\\Programs\\Python\\Python310\\lib\\site-packages\\plotly\\io\\_renderers.py:425\u001b[0m, in \u001b[0;36mshow\u001b[1;34m(fig, renderer, validate, **kwargs)\u001b[0m\n\u001b[0;32m    420\u001b[0m     \u001b[38;5;28;01mraise\u001b[39;00m \u001b[38;5;167;01mValueError\u001b[39;00m(\n\u001b[0;32m    421\u001b[0m         \u001b[38;5;124m\"\u001b[39m\u001b[38;5;124mMime type rendering requires ipython but it is not installed\u001b[39m\u001b[38;5;124m\"\u001b[39m\n\u001b[0;32m    422\u001b[0m     )\n\u001b[0;32m    424\u001b[0m \u001b[38;5;28;01mif\u001b[39;00m \u001b[38;5;129;01mnot\u001b[39;00m nbformat \u001b[38;5;129;01mor\u001b[39;00m Version(nbformat\u001b[38;5;241m.\u001b[39m__version__) \u001b[38;5;241m<\u001b[39m Version(\u001b[38;5;124m\"\u001b[39m\u001b[38;5;124m4.2.0\u001b[39m\u001b[38;5;124m\"\u001b[39m):\n\u001b[1;32m--> 425\u001b[0m     \u001b[38;5;28;01mraise\u001b[39;00m \u001b[38;5;167;01mValueError\u001b[39;00m(\n\u001b[0;32m    426\u001b[0m         \u001b[38;5;124m\"\u001b[39m\u001b[38;5;124mMime type rendering requires nbformat>=4.2.0 but it is not installed\u001b[39m\u001b[38;5;124m\"\u001b[39m\n\u001b[0;32m    427\u001b[0m     )\n\u001b[0;32m    429\u001b[0m display_jupyter_version_warnings()\n\u001b[0;32m    431\u001b[0m ipython_display\u001b[38;5;241m.\u001b[39mdisplay(bundle, raw\u001b[38;5;241m=\u001b[39m\u001b[38;5;28;01mTrue\u001b[39;00m)\n",
      "\u001b[1;31mValueError\u001b[0m: Mime type rendering requires nbformat>=4.2.0 but it is not installed"
     ]
    },
    {
     "data": {
      "application/vnd.plotly.v1+json": {
       "config": {
        "plotlyServerURL": "https://plot.ly"
       },
       "data": [
        {
         "customdata": [
          [
           0,
           "01 | dukung | orang | pilih | pasang",
           3249
          ],
          [
           1,
           "01 | dukung | pilih | pasang | buzzer",
           3151
          ],
          [
           2,
           "anies | baswedan | imin | cak | rasyid",
           2856
          ],
          [
           3,
           "01 | dukung | pilih | amin | bang",
           2752
          ],
          [
           4,
           "01 | dukung | kampanye | orang | pasang",
           2696
          ],
          [
           5,
           "presiden | anies | pilih | calon | baswedan",
           2321
          ],
          [
           6,
           "anies | indonesia | imin | cak | baswedan",
           2203
          ],
          [
           7,
           "cak | imin | anies | banget | baswedan",
           2084
          ],
          [
           8,
           "kayak | 01 | video | dukung | twitter",
           1801
          ],
          [
           9,
           "suara | indonesia | 01 | pintar | agama",
           1650
          ],
          [
           10,
           "presiden | calon | 01 | wakil | pilih",
           1555
          ],
          [
           11,
           "menang | 01 | survei | gara | sukses",
           1199
          ],
          [
           12,
           "politik | demokrasi | partai | 01 | demokrat",
           885
          ],
          [
           13,
           "debat | calon | 01 | presiden | strategi",
           748
          ],
          [
           14,
           "debat | cak | imin | presiden | anies",
           711
          ]
         ],
         "hovertemplate": "<b>Topic %{customdata[0]}</b><br>%{customdata[1]}<br>Size: %{customdata[2]}",
         "legendgroup": "",
         "marker": {
          "color": "#B0BEC5",
          "line": {
           "color": "DarkSlateGrey",
           "width": 2
          },
          "size": {
           "bdata": "sQxPDCgLwAqIChEJmwgkCAkHcgYTBq8EdQPsAscC",
           "dtype": "i2"
          },
          "sizemode": "area",
          "sizeref": 2.030625,
          "symbol": "circle"
         },
         "mode": "markers",
         "name": "",
         "orientation": "v",
         "showlegend": false,
         "type": "scatter",
         "x": {
          "bdata": "kSpnQX+Pa0HiS8zAtNdyQdeAWkFaLdzA9RfWwJ7zw8AIGXZBZ2BfQfteVEEEaG1BRXZWQe+VaEDVjl5A",
          "dtype": "f4"
         },
         "xaxis": "x",
         "y": {
          "bdata": "SRCRwO+1ecDwMyFBJhJjwJ/epcDZhBlBsIAcQXJaJUElpI3AiwaxwAb3usCmSZvAQ/HHwDQTZECOGm5A",
          "dtype": "f4"
         },
         "yaxis": "y"
        }
       ],
       "layout": {
        "annotations": [
         {
          "showarrow": false,
          "text": "D1",
          "x": -7.912616729736328,
          "y": 2.3496687412261963,
          "yshift": 10
         },
         {
          "showarrow": false,
          "text": "D2",
          "x": 4.88783073425293,
          "xshift": 10,
          "y": 11.88476848602295
         }
        ],
        "height": 650,
        "hoverlabel": {
         "bgcolor": "white",
         "font": {
          "family": "Rockwell",
          "size": 16
         }
        },
        "legend": {
         "itemsizing": "constant",
         "tracegroupgap": 0
        },
        "margin": {
         "t": 60
        },
        "shapes": [
         {
          "line": {
           "color": "#CFD8DC",
           "width": 2
          },
          "type": "line",
          "x0": 4.88783073425293,
          "x1": 4.88783073425293,
          "y0": -7.185431003570557,
          "y1": 11.88476848602295
         },
         {
          "line": {
           "color": "#9E9E9E",
           "width": 2
          },
          "type": "line",
          "x0": -7.912616729736328,
          "x1": 17.688278198242188,
          "y0": 2.3496687412261963,
          "y1": 2.3496687412261963
         }
        ],
        "sliders": [
         {
          "active": 0,
          "pad": {
           "t": 50
          },
          "steps": [
           {
            "args": [
             {
              "marker.color": [
               [
                "red",
                "#B0BEC5",
                "#B0BEC5",
                "#B0BEC5",
                "#B0BEC5",
                "#B0BEC5",
                "#B0BEC5",
                "#B0BEC5",
                "#B0BEC5",
                "#B0BEC5",
                "#B0BEC5",
                "#B0BEC5",
                "#B0BEC5",
                "#B0BEC5",
                "#B0BEC5"
               ]
              ]
             }
            ],
            "label": "Topic 0",
            "method": "update"
           },
           {
            "args": [
             {
              "marker.color": [
               [
                "#B0BEC5",
                "red",
                "#B0BEC5",
                "#B0BEC5",
                "#B0BEC5",
                "#B0BEC5",
                "#B0BEC5",
                "#B0BEC5",
                "#B0BEC5",
                "#B0BEC5",
                "#B0BEC5",
                "#B0BEC5",
                "#B0BEC5",
                "#B0BEC5",
                "#B0BEC5"
               ]
              ]
             }
            ],
            "label": "Topic 1",
            "method": "update"
           },
           {
            "args": [
             {
              "marker.color": [
               [
                "#B0BEC5",
                "#B0BEC5",
                "red",
                "#B0BEC5",
                "#B0BEC5",
                "#B0BEC5",
                "#B0BEC5",
                "#B0BEC5",
                "#B0BEC5",
                "#B0BEC5",
                "#B0BEC5",
                "#B0BEC5",
                "#B0BEC5",
                "#B0BEC5",
                "#B0BEC5"
               ]
              ]
             }
            ],
            "label": "Topic 2",
            "method": "update"
           },
           {
            "args": [
             {
              "marker.color": [
               [
                "#B0BEC5",
                "#B0BEC5",
                "#B0BEC5",
                "red",
                "#B0BEC5",
                "#B0BEC5",
                "#B0BEC5",
                "#B0BEC5",
                "#B0BEC5",
                "#B0BEC5",
                "#B0BEC5",
                "#B0BEC5",
                "#B0BEC5",
                "#B0BEC5",
                "#B0BEC5"
               ]
              ]
             }
            ],
            "label": "Topic 3",
            "method": "update"
           },
           {
            "args": [
             {
              "marker.color": [
               [
                "#B0BEC5",
                "#B0BEC5",
                "#B0BEC5",
                "#B0BEC5",
                "red",
                "#B0BEC5",
                "#B0BEC5",
                "#B0BEC5",
                "#B0BEC5",
                "#B0BEC5",
                "#B0BEC5",
                "#B0BEC5",
                "#B0BEC5",
                "#B0BEC5",
                "#B0BEC5"
               ]
              ]
             }
            ],
            "label": "Topic 4",
            "method": "update"
           },
           {
            "args": [
             {
              "marker.color": [
               [
                "#B0BEC5",
                "#B0BEC5",
                "#B0BEC5",
                "#B0BEC5",
                "#B0BEC5",
                "red",
                "#B0BEC5",
                "#B0BEC5",
                "#B0BEC5",
                "#B0BEC5",
                "#B0BEC5",
                "#B0BEC5",
                "#B0BEC5",
                "#B0BEC5",
                "#B0BEC5"
               ]
              ]
             }
            ],
            "label": "Topic 5",
            "method": "update"
           },
           {
            "args": [
             {
              "marker.color": [
               [
                "#B0BEC5",
                "#B0BEC5",
                "#B0BEC5",
                "#B0BEC5",
                "#B0BEC5",
                "#B0BEC5",
                "red",
                "#B0BEC5",
                "#B0BEC5",
                "#B0BEC5",
                "#B0BEC5",
                "#B0BEC5",
                "#B0BEC5",
                "#B0BEC5",
                "#B0BEC5"
               ]
              ]
             }
            ],
            "label": "Topic 6",
            "method": "update"
           },
           {
            "args": [
             {
              "marker.color": [
               [
                "#B0BEC5",
                "#B0BEC5",
                "#B0BEC5",
                "#B0BEC5",
                "#B0BEC5",
                "#B0BEC5",
                "#B0BEC5",
                "red",
                "#B0BEC5",
                "#B0BEC5",
                "#B0BEC5",
                "#B0BEC5",
                "#B0BEC5",
                "#B0BEC5",
                "#B0BEC5"
               ]
              ]
             }
            ],
            "label": "Topic 7",
            "method": "update"
           },
           {
            "args": [
             {
              "marker.color": [
               [
                "#B0BEC5",
                "#B0BEC5",
                "#B0BEC5",
                "#B0BEC5",
                "#B0BEC5",
                "#B0BEC5",
                "#B0BEC5",
                "#B0BEC5",
                "red",
                "#B0BEC5",
                "#B0BEC5",
                "#B0BEC5",
                "#B0BEC5",
                "#B0BEC5",
                "#B0BEC5"
               ]
              ]
             }
            ],
            "label": "Topic 8",
            "method": "update"
           },
           {
            "args": [
             {
              "marker.color": [
               [
                "#B0BEC5",
                "#B0BEC5",
                "#B0BEC5",
                "#B0BEC5",
                "#B0BEC5",
                "#B0BEC5",
                "#B0BEC5",
                "#B0BEC5",
                "#B0BEC5",
                "red",
                "#B0BEC5",
                "#B0BEC5",
                "#B0BEC5",
                "#B0BEC5",
                "#B0BEC5"
               ]
              ]
             }
            ],
            "label": "Topic 9",
            "method": "update"
           },
           {
            "args": [
             {
              "marker.color": [
               [
                "#B0BEC5",
                "#B0BEC5",
                "#B0BEC5",
                "#B0BEC5",
                "#B0BEC5",
                "#B0BEC5",
                "#B0BEC5",
                "#B0BEC5",
                "#B0BEC5",
                "#B0BEC5",
                "red",
                "#B0BEC5",
                "#B0BEC5",
                "#B0BEC5",
                "#B0BEC5"
               ]
              ]
             }
            ],
            "label": "Topic 10",
            "method": "update"
           },
           {
            "args": [
             {
              "marker.color": [
               [
                "#B0BEC5",
                "#B0BEC5",
                "#B0BEC5",
                "#B0BEC5",
                "#B0BEC5",
                "#B0BEC5",
                "#B0BEC5",
                "#B0BEC5",
                "#B0BEC5",
                "#B0BEC5",
                "#B0BEC5",
                "red",
                "#B0BEC5",
                "#B0BEC5",
                "#B0BEC5"
               ]
              ]
             }
            ],
            "label": "Topic 11",
            "method": "update"
           },
           {
            "args": [
             {
              "marker.color": [
               [
                "#B0BEC5",
                "#B0BEC5",
                "#B0BEC5",
                "#B0BEC5",
                "#B0BEC5",
                "#B0BEC5",
                "#B0BEC5",
                "#B0BEC5",
                "#B0BEC5",
                "#B0BEC5",
                "#B0BEC5",
                "#B0BEC5",
                "red",
                "#B0BEC5",
                "#B0BEC5"
               ]
              ]
             }
            ],
            "label": "Topic 12",
            "method": "update"
           },
           {
            "args": [
             {
              "marker.color": [
               [
                "#B0BEC5",
                "#B0BEC5",
                "#B0BEC5",
                "#B0BEC5",
                "#B0BEC5",
                "#B0BEC5",
                "#B0BEC5",
                "#B0BEC5",
                "#B0BEC5",
                "#B0BEC5",
                "#B0BEC5",
                "#B0BEC5",
                "#B0BEC5",
                "red",
                "#B0BEC5"
               ]
              ]
             }
            ],
            "label": "Topic 13",
            "method": "update"
           },
           {
            "args": [
             {
              "marker.color": [
               [
                "#B0BEC5",
                "#B0BEC5",
                "#B0BEC5",
                "#B0BEC5",
                "#B0BEC5",
                "#B0BEC5",
                "#B0BEC5",
                "#B0BEC5",
                "#B0BEC5",
                "#B0BEC5",
                "#B0BEC5",
                "#B0BEC5",
                "#B0BEC5",
                "#B0BEC5",
                "red"
               ]
              ]
             }
            ],
            "label": "Topic 14",
            "method": "update"
           }
          ]
         }
        ],
        "template": {
         "data": {
          "bar": [
           {
            "error_x": {
             "color": "rgb(36,36,36)"
            },
            "error_y": {
             "color": "rgb(36,36,36)"
            },
            "marker": {
             "line": {
              "color": "white",
              "width": 0.5
             },
             "pattern": {
              "fillmode": "overlay",
              "size": 10,
              "solidity": 0.2
             }
            },
            "type": "bar"
           }
          ],
          "barpolar": [
           {
            "marker": {
             "line": {
              "color": "white",
              "width": 0.5
             },
             "pattern": {
              "fillmode": "overlay",
              "size": 10,
              "solidity": 0.2
             }
            },
            "type": "barpolar"
           }
          ],
          "carpet": [
           {
            "aaxis": {
             "endlinecolor": "rgb(36,36,36)",
             "gridcolor": "white",
             "linecolor": "white",
             "minorgridcolor": "white",
             "startlinecolor": "rgb(36,36,36)"
            },
            "baxis": {
             "endlinecolor": "rgb(36,36,36)",
             "gridcolor": "white",
             "linecolor": "white",
             "minorgridcolor": "white",
             "startlinecolor": "rgb(36,36,36)"
            },
            "type": "carpet"
           }
          ],
          "choropleth": [
           {
            "colorbar": {
             "outlinewidth": 1,
             "tickcolor": "rgb(36,36,36)",
             "ticks": "outside"
            },
            "type": "choropleth"
           }
          ],
          "contour": [
           {
            "colorbar": {
             "outlinewidth": 1,
             "tickcolor": "rgb(36,36,36)",
             "ticks": "outside"
            },
            "colorscale": [
             [
              0,
              "#440154"
             ],
             [
              0.1111111111111111,
              "#482878"
             ],
             [
              0.2222222222222222,
              "#3e4989"
             ],
             [
              0.3333333333333333,
              "#31688e"
             ],
             [
              0.4444444444444444,
              "#26828e"
             ],
             [
              0.5555555555555556,
              "#1f9e89"
             ],
             [
              0.6666666666666666,
              "#35b779"
             ],
             [
              0.7777777777777778,
              "#6ece58"
             ],
             [
              0.8888888888888888,
              "#b5de2b"
             ],
             [
              1,
              "#fde725"
             ]
            ],
            "type": "contour"
           }
          ],
          "contourcarpet": [
           {
            "colorbar": {
             "outlinewidth": 1,
             "tickcolor": "rgb(36,36,36)",
             "ticks": "outside"
            },
            "type": "contourcarpet"
           }
          ],
          "heatmap": [
           {
            "colorbar": {
             "outlinewidth": 1,
             "tickcolor": "rgb(36,36,36)",
             "ticks": "outside"
            },
            "colorscale": [
             [
              0,
              "#440154"
             ],
             [
              0.1111111111111111,
              "#482878"
             ],
             [
              0.2222222222222222,
              "#3e4989"
             ],
             [
              0.3333333333333333,
              "#31688e"
             ],
             [
              0.4444444444444444,
              "#26828e"
             ],
             [
              0.5555555555555556,
              "#1f9e89"
             ],
             [
              0.6666666666666666,
              "#35b779"
             ],
             [
              0.7777777777777778,
              "#6ece58"
             ],
             [
              0.8888888888888888,
              "#b5de2b"
             ],
             [
              1,
              "#fde725"
             ]
            ],
            "type": "heatmap"
           }
          ],
          "histogram": [
           {
            "marker": {
             "line": {
              "color": "white",
              "width": 0.6
             }
            },
            "type": "histogram"
           }
          ],
          "histogram2d": [
           {
            "colorbar": {
             "outlinewidth": 1,
             "tickcolor": "rgb(36,36,36)",
             "ticks": "outside"
            },
            "colorscale": [
             [
              0,
              "#440154"
             ],
             [
              0.1111111111111111,
              "#482878"
             ],
             [
              0.2222222222222222,
              "#3e4989"
             ],
             [
              0.3333333333333333,
              "#31688e"
             ],
             [
              0.4444444444444444,
              "#26828e"
             ],
             [
              0.5555555555555556,
              "#1f9e89"
             ],
             [
              0.6666666666666666,
              "#35b779"
             ],
             [
              0.7777777777777778,
              "#6ece58"
             ],
             [
              0.8888888888888888,
              "#b5de2b"
             ],
             [
              1,
              "#fde725"
             ]
            ],
            "type": "histogram2d"
           }
          ],
          "histogram2dcontour": [
           {
            "colorbar": {
             "outlinewidth": 1,
             "tickcolor": "rgb(36,36,36)",
             "ticks": "outside"
            },
            "colorscale": [
             [
              0,
              "#440154"
             ],
             [
              0.1111111111111111,
              "#482878"
             ],
             [
              0.2222222222222222,
              "#3e4989"
             ],
             [
              0.3333333333333333,
              "#31688e"
             ],
             [
              0.4444444444444444,
              "#26828e"
             ],
             [
              0.5555555555555556,
              "#1f9e89"
             ],
             [
              0.6666666666666666,
              "#35b779"
             ],
             [
              0.7777777777777778,
              "#6ece58"
             ],
             [
              0.8888888888888888,
              "#b5de2b"
             ],
             [
              1,
              "#fde725"
             ]
            ],
            "type": "histogram2dcontour"
           }
          ],
          "mesh3d": [
           {
            "colorbar": {
             "outlinewidth": 1,
             "tickcolor": "rgb(36,36,36)",
             "ticks": "outside"
            },
            "type": "mesh3d"
           }
          ],
          "parcoords": [
           {
            "line": {
             "colorbar": {
              "outlinewidth": 1,
              "tickcolor": "rgb(36,36,36)",
              "ticks": "outside"
             }
            },
            "type": "parcoords"
           }
          ],
          "pie": [
           {
            "automargin": true,
            "type": "pie"
           }
          ],
          "scatter": [
           {
            "fillpattern": {
             "fillmode": "overlay",
             "size": 10,
             "solidity": 0.2
            },
            "type": "scatter"
           }
          ],
          "scatter3d": [
           {
            "line": {
             "colorbar": {
              "outlinewidth": 1,
              "tickcolor": "rgb(36,36,36)",
              "ticks": "outside"
             }
            },
            "marker": {
             "colorbar": {
              "outlinewidth": 1,
              "tickcolor": "rgb(36,36,36)",
              "ticks": "outside"
             }
            },
            "type": "scatter3d"
           }
          ],
          "scattercarpet": [
           {
            "marker": {
             "colorbar": {
              "outlinewidth": 1,
              "tickcolor": "rgb(36,36,36)",
              "ticks": "outside"
             }
            },
            "type": "scattercarpet"
           }
          ],
          "scattergeo": [
           {
            "marker": {
             "colorbar": {
              "outlinewidth": 1,
              "tickcolor": "rgb(36,36,36)",
              "ticks": "outside"
             }
            },
            "type": "scattergeo"
           }
          ],
          "scattergl": [
           {
            "marker": {
             "colorbar": {
              "outlinewidth": 1,
              "tickcolor": "rgb(36,36,36)",
              "ticks": "outside"
             }
            },
            "type": "scattergl"
           }
          ],
          "scattermap": [
           {
            "marker": {
             "colorbar": {
              "outlinewidth": 1,
              "tickcolor": "rgb(36,36,36)",
              "ticks": "outside"
             }
            },
            "type": "scattermap"
           }
          ],
          "scattermapbox": [
           {
            "marker": {
             "colorbar": {
              "outlinewidth": 1,
              "tickcolor": "rgb(36,36,36)",
              "ticks": "outside"
             }
            },
            "type": "scattermapbox"
           }
          ],
          "scatterpolar": [
           {
            "marker": {
             "colorbar": {
              "outlinewidth": 1,
              "tickcolor": "rgb(36,36,36)",
              "ticks": "outside"
             }
            },
            "type": "scatterpolar"
           }
          ],
          "scatterpolargl": [
           {
            "marker": {
             "colorbar": {
              "outlinewidth": 1,
              "tickcolor": "rgb(36,36,36)",
              "ticks": "outside"
             }
            },
            "type": "scatterpolargl"
           }
          ],
          "scatterternary": [
           {
            "marker": {
             "colorbar": {
              "outlinewidth": 1,
              "tickcolor": "rgb(36,36,36)",
              "ticks": "outside"
             }
            },
            "type": "scatterternary"
           }
          ],
          "surface": [
           {
            "colorbar": {
             "outlinewidth": 1,
             "tickcolor": "rgb(36,36,36)",
             "ticks": "outside"
            },
            "colorscale": [
             [
              0,
              "#440154"
             ],
             [
              0.1111111111111111,
              "#482878"
             ],
             [
              0.2222222222222222,
              "#3e4989"
             ],
             [
              0.3333333333333333,
              "#31688e"
             ],
             [
              0.4444444444444444,
              "#26828e"
             ],
             [
              0.5555555555555556,
              "#1f9e89"
             ],
             [
              0.6666666666666666,
              "#35b779"
             ],
             [
              0.7777777777777778,
              "#6ece58"
             ],
             [
              0.8888888888888888,
              "#b5de2b"
             ],
             [
              1,
              "#fde725"
             ]
            ],
            "type": "surface"
           }
          ],
          "table": [
           {
            "cells": {
             "fill": {
              "color": "rgb(237,237,237)"
             },
             "line": {
              "color": "white"
             }
            },
            "header": {
             "fill": {
              "color": "rgb(217,217,217)"
             },
             "line": {
              "color": "white"
             }
            },
            "type": "table"
           }
          ]
         },
         "layout": {
          "annotationdefaults": {
           "arrowhead": 0,
           "arrowwidth": 1
          },
          "autotypenumbers": "strict",
          "coloraxis": {
           "colorbar": {
            "outlinewidth": 1,
            "tickcolor": "rgb(36,36,36)",
            "ticks": "outside"
           }
          },
          "colorscale": {
           "diverging": [
            [
             0,
             "rgb(103,0,31)"
            ],
            [
             0.1,
             "rgb(178,24,43)"
            ],
            [
             0.2,
             "rgb(214,96,77)"
            ],
            [
             0.3,
             "rgb(244,165,130)"
            ],
            [
             0.4,
             "rgb(253,219,199)"
            ],
            [
             0.5,
             "rgb(247,247,247)"
            ],
            [
             0.6,
             "rgb(209,229,240)"
            ],
            [
             0.7,
             "rgb(146,197,222)"
            ],
            [
             0.8,
             "rgb(67,147,195)"
            ],
            [
             0.9,
             "rgb(33,102,172)"
            ],
            [
             1,
             "rgb(5,48,97)"
            ]
           ],
           "sequential": [
            [
             0,
             "#440154"
            ],
            [
             0.1111111111111111,
             "#482878"
            ],
            [
             0.2222222222222222,
             "#3e4989"
            ],
            [
             0.3333333333333333,
             "#31688e"
            ],
            [
             0.4444444444444444,
             "#26828e"
            ],
            [
             0.5555555555555556,
             "#1f9e89"
            ],
            [
             0.6666666666666666,
             "#35b779"
            ],
            [
             0.7777777777777778,
             "#6ece58"
            ],
            [
             0.8888888888888888,
             "#b5de2b"
            ],
            [
             1,
             "#fde725"
            ]
           ],
           "sequentialminus": [
            [
             0,
             "#440154"
            ],
            [
             0.1111111111111111,
             "#482878"
            ],
            [
             0.2222222222222222,
             "#3e4989"
            ],
            [
             0.3333333333333333,
             "#31688e"
            ],
            [
             0.4444444444444444,
             "#26828e"
            ],
            [
             0.5555555555555556,
             "#1f9e89"
            ],
            [
             0.6666666666666666,
             "#35b779"
            ],
            [
             0.7777777777777778,
             "#6ece58"
            ],
            [
             0.8888888888888888,
             "#b5de2b"
            ],
            [
             1,
             "#fde725"
            ]
           ]
          },
          "colorway": [
           "#1F77B4",
           "#FF7F0E",
           "#2CA02C",
           "#D62728",
           "#9467BD",
           "#8C564B",
           "#E377C2",
           "#7F7F7F",
           "#BCBD22",
           "#17BECF"
          ],
          "font": {
           "color": "rgb(36,36,36)"
          },
          "geo": {
           "bgcolor": "white",
           "lakecolor": "white",
           "landcolor": "white",
           "showlakes": true,
           "showland": true,
           "subunitcolor": "white"
          },
          "hoverlabel": {
           "align": "left"
          },
          "hovermode": "closest",
          "mapbox": {
           "style": "light"
          },
          "paper_bgcolor": "white",
          "plot_bgcolor": "white",
          "polar": {
           "angularaxis": {
            "gridcolor": "rgb(232,232,232)",
            "linecolor": "rgb(36,36,36)",
            "showgrid": false,
            "showline": true,
            "ticks": "outside"
           },
           "bgcolor": "white",
           "radialaxis": {
            "gridcolor": "rgb(232,232,232)",
            "linecolor": "rgb(36,36,36)",
            "showgrid": false,
            "showline": true,
            "ticks": "outside"
           }
          },
          "scene": {
           "xaxis": {
            "backgroundcolor": "white",
            "gridcolor": "rgb(232,232,232)",
            "gridwidth": 2,
            "linecolor": "rgb(36,36,36)",
            "showbackground": true,
            "showgrid": false,
            "showline": true,
            "ticks": "outside",
            "zeroline": false,
            "zerolinecolor": "rgb(36,36,36)"
           },
           "yaxis": {
            "backgroundcolor": "white",
            "gridcolor": "rgb(232,232,232)",
            "gridwidth": 2,
            "linecolor": "rgb(36,36,36)",
            "showbackground": true,
            "showgrid": false,
            "showline": true,
            "ticks": "outside",
            "zeroline": false,
            "zerolinecolor": "rgb(36,36,36)"
           },
           "zaxis": {
            "backgroundcolor": "white",
            "gridcolor": "rgb(232,232,232)",
            "gridwidth": 2,
            "linecolor": "rgb(36,36,36)",
            "showbackground": true,
            "showgrid": false,
            "showline": true,
            "ticks": "outside",
            "zeroline": false,
            "zerolinecolor": "rgb(36,36,36)"
           }
          },
          "shapedefaults": {
           "fillcolor": "black",
           "line": {
            "width": 0
           },
           "opacity": 0.3
          },
          "ternary": {
           "aaxis": {
            "gridcolor": "rgb(232,232,232)",
            "linecolor": "rgb(36,36,36)",
            "showgrid": false,
            "showline": true,
            "ticks": "outside"
           },
           "baxis": {
            "gridcolor": "rgb(232,232,232)",
            "linecolor": "rgb(36,36,36)",
            "showgrid": false,
            "showline": true,
            "ticks": "outside"
           },
           "bgcolor": "white",
           "caxis": {
            "gridcolor": "rgb(232,232,232)",
            "linecolor": "rgb(36,36,36)",
            "showgrid": false,
            "showline": true,
            "ticks": "outside"
           }
          },
          "title": {
           "x": 0.05
          },
          "xaxis": {
           "automargin": true,
           "gridcolor": "rgb(232,232,232)",
           "linecolor": "rgb(36,36,36)",
           "showgrid": false,
           "showline": true,
           "ticks": "outside",
           "title": {
            "standoff": 15
           },
           "zeroline": false,
           "zerolinecolor": "rgb(36,36,36)"
          },
          "yaxis": {
           "automargin": true,
           "gridcolor": "rgb(232,232,232)",
           "linecolor": "rgb(36,36,36)",
           "showgrid": false,
           "showline": true,
           "ticks": "outside",
           "title": {
            "standoff": 15
           },
           "zeroline": false,
           "zerolinecolor": "rgb(36,36,36)"
          }
         }
        },
        "title": {
         "font": {
          "color": "Black",
          "size": 22
         },
         "text": "<b>Intertopic Distance Map</b>",
         "x": 0.5,
         "xanchor": "center",
         "y": 0.95,
         "yanchor": "top"
        },
        "width": 650,
        "xaxis": {
         "anchor": "y",
         "domain": [
          0,
          1
         ],
         "range": [
          -7.912616729736328,
          17.688278198242188
         ],
         "title": {
          "text": ""
         },
         "visible": false
        },
        "yaxis": {
         "anchor": "x",
         "domain": [
          0,
          1
         ],
         "range": [
          -7.185431003570557,
          11.88476848602295
         ],
         "title": {
          "text": ""
         },
         "visible": false
        }
       }
      },
      "text/html": [
       "<div>                        <script type=\"text/javascript\">window.PlotlyConfig = {MathJaxConfig: 'local'};</script>\n",
       "        <script charset=\"utf-8\" src=\"https://cdn.plot.ly/plotly-3.0.1.min.js\"></script>                <div id=\"8a02601f-1238-45bb-93f8-60a6a29e88b7\" class=\"plotly-graph-div\" style=\"height:650px; width:650px;\"></div>            <script type=\"text/javascript\">                window.PLOTLYENV=window.PLOTLYENV || {};                                if (document.getElementById(\"8a02601f-1238-45bb-93f8-60a6a29e88b7\")) {                    Plotly.newPlot(                        \"8a02601f-1238-45bb-93f8-60a6a29e88b7\",                        [{\"customdata\":[[0,\"01 | dukung | orang | pilih | pasang\",3249],[1,\"01 | dukung | pilih | pasang | buzzer\",3151],[2,\"anies | baswedan | imin | cak | rasyid\",2856],[3,\"01 | dukung | pilih | amin | bang\",2752],[4,\"01 | dukung | kampanye | orang | pasang\",2696],[5,\"presiden | anies | pilih | calon | baswedan\",2321],[6,\"anies | indonesia | imin | cak | baswedan\",2203],[7,\"cak | imin | anies | banget | baswedan\",2084],[8,\"kayak | 01 | video | dukung | twitter\",1801],[9,\"suara | indonesia | 01 | pintar | agama\",1650],[10,\"presiden | calon | 01 | wakil | pilih\",1555],[11,\"menang | 01 | survei | gara | sukses\",1199],[12,\"politik | demokrasi | partai | 01 | demokrat\",885],[13,\"debat | calon | 01 | presiden | strategi\",748],[14,\"debat | cak | imin | presiden | anies\",711]],\"hovertemplate\":\"\\u003cb\\u003eTopic %{customdata[0]}\\u003c\\u002fb\\u003e\\u003cbr\\u003e%{customdata[1]}\\u003cbr\\u003eSize: %{customdata[2]}\",\"legendgroup\":\"\",\"marker\":{\"color\":\"#B0BEC5\",\"size\":{\"dtype\":\"i2\",\"bdata\":\"sQxPDCgLwAqIChEJmwgkCAkHcgYTBq8EdQPsAscC\"},\"sizemode\":\"area\",\"sizeref\":2.030625,\"symbol\":\"circle\",\"line\":{\"color\":\"DarkSlateGrey\",\"width\":2}},\"mode\":\"markers\",\"name\":\"\",\"orientation\":\"v\",\"showlegend\":false,\"x\":{\"dtype\":\"f4\",\"bdata\":\"kSpnQX+Pa0HiS8zAtNdyQdeAWkFaLdzA9RfWwJ7zw8AIGXZBZ2BfQfteVEEEaG1BRXZWQe+VaEDVjl5A\"},\"xaxis\":\"x\",\"y\":{\"dtype\":\"f4\",\"bdata\":\"SRCRwO+1ecDwMyFBJhJjwJ\\u002fepcDZhBlBsIAcQXJaJUElpI3AiwaxwAb3usCmSZvAQ\\u002fHHwDQTZECOGm5A\"},\"yaxis\":\"y\",\"type\":\"scatter\"}],                        {\"template\":{\"data\":{\"barpolar\":[{\"marker\":{\"line\":{\"color\":\"white\",\"width\":0.5},\"pattern\":{\"fillmode\":\"overlay\",\"size\":10,\"solidity\":0.2}},\"type\":\"barpolar\"}],\"bar\":[{\"error_x\":{\"color\":\"rgb(36,36,36)\"},\"error_y\":{\"color\":\"rgb(36,36,36)\"},\"marker\":{\"line\":{\"color\":\"white\",\"width\":0.5},\"pattern\":{\"fillmode\":\"overlay\",\"size\":10,\"solidity\":0.2}},\"type\":\"bar\"}],\"carpet\":[{\"aaxis\":{\"endlinecolor\":\"rgb(36,36,36)\",\"gridcolor\":\"white\",\"linecolor\":\"white\",\"minorgridcolor\":\"white\",\"startlinecolor\":\"rgb(36,36,36)\"},\"baxis\":{\"endlinecolor\":\"rgb(36,36,36)\",\"gridcolor\":\"white\",\"linecolor\":\"white\",\"minorgridcolor\":\"white\",\"startlinecolor\":\"rgb(36,36,36)\"},\"type\":\"carpet\"}],\"choropleth\":[{\"colorbar\":{\"outlinewidth\":1,\"tickcolor\":\"rgb(36,36,36)\",\"ticks\":\"outside\"},\"type\":\"choropleth\"}],\"contourcarpet\":[{\"colorbar\":{\"outlinewidth\":1,\"tickcolor\":\"rgb(36,36,36)\",\"ticks\":\"outside\"},\"type\":\"contourcarpet\"}],\"contour\":[{\"colorbar\":{\"outlinewidth\":1,\"tickcolor\":\"rgb(36,36,36)\",\"ticks\":\"outside\"},\"colorscale\":[[0.0,\"#440154\"],[0.1111111111111111,\"#482878\"],[0.2222222222222222,\"#3e4989\"],[0.3333333333333333,\"#31688e\"],[0.4444444444444444,\"#26828e\"],[0.5555555555555556,\"#1f9e89\"],[0.6666666666666666,\"#35b779\"],[0.7777777777777778,\"#6ece58\"],[0.8888888888888888,\"#b5de2b\"],[1.0,\"#fde725\"]],\"type\":\"contour\"}],\"heatmap\":[{\"colorbar\":{\"outlinewidth\":1,\"tickcolor\":\"rgb(36,36,36)\",\"ticks\":\"outside\"},\"colorscale\":[[0.0,\"#440154\"],[0.1111111111111111,\"#482878\"],[0.2222222222222222,\"#3e4989\"],[0.3333333333333333,\"#31688e\"],[0.4444444444444444,\"#26828e\"],[0.5555555555555556,\"#1f9e89\"],[0.6666666666666666,\"#35b779\"],[0.7777777777777778,\"#6ece58\"],[0.8888888888888888,\"#b5de2b\"],[1.0,\"#fde725\"]],\"type\":\"heatmap\"}],\"histogram2dcontour\":[{\"colorbar\":{\"outlinewidth\":1,\"tickcolor\":\"rgb(36,36,36)\",\"ticks\":\"outside\"},\"colorscale\":[[0.0,\"#440154\"],[0.1111111111111111,\"#482878\"],[0.2222222222222222,\"#3e4989\"],[0.3333333333333333,\"#31688e\"],[0.4444444444444444,\"#26828e\"],[0.5555555555555556,\"#1f9e89\"],[0.6666666666666666,\"#35b779\"],[0.7777777777777778,\"#6ece58\"],[0.8888888888888888,\"#b5de2b\"],[1.0,\"#fde725\"]],\"type\":\"histogram2dcontour\"}],\"histogram2d\":[{\"colorbar\":{\"outlinewidth\":1,\"tickcolor\":\"rgb(36,36,36)\",\"ticks\":\"outside\"},\"colorscale\":[[0.0,\"#440154\"],[0.1111111111111111,\"#482878\"],[0.2222222222222222,\"#3e4989\"],[0.3333333333333333,\"#31688e\"],[0.4444444444444444,\"#26828e\"],[0.5555555555555556,\"#1f9e89\"],[0.6666666666666666,\"#35b779\"],[0.7777777777777778,\"#6ece58\"],[0.8888888888888888,\"#b5de2b\"],[1.0,\"#fde725\"]],\"type\":\"histogram2d\"}],\"histogram\":[{\"marker\":{\"line\":{\"color\":\"white\",\"width\":0.6}},\"type\":\"histogram\"}],\"mesh3d\":[{\"colorbar\":{\"outlinewidth\":1,\"tickcolor\":\"rgb(36,36,36)\",\"ticks\":\"outside\"},\"type\":\"mesh3d\"}],\"parcoords\":[{\"line\":{\"colorbar\":{\"outlinewidth\":1,\"tickcolor\":\"rgb(36,36,36)\",\"ticks\":\"outside\"}},\"type\":\"parcoords\"}],\"pie\":[{\"automargin\":true,\"type\":\"pie\"}],\"scatter3d\":[{\"line\":{\"colorbar\":{\"outlinewidth\":1,\"tickcolor\":\"rgb(36,36,36)\",\"ticks\":\"outside\"}},\"marker\":{\"colorbar\":{\"outlinewidth\":1,\"tickcolor\":\"rgb(36,36,36)\",\"ticks\":\"outside\"}},\"type\":\"scatter3d\"}],\"scattercarpet\":[{\"marker\":{\"colorbar\":{\"outlinewidth\":1,\"tickcolor\":\"rgb(36,36,36)\",\"ticks\":\"outside\"}},\"type\":\"scattercarpet\"}],\"scattergeo\":[{\"marker\":{\"colorbar\":{\"outlinewidth\":1,\"tickcolor\":\"rgb(36,36,36)\",\"ticks\":\"outside\"}},\"type\":\"scattergeo\"}],\"scattergl\":[{\"marker\":{\"colorbar\":{\"outlinewidth\":1,\"tickcolor\":\"rgb(36,36,36)\",\"ticks\":\"outside\"}},\"type\":\"scattergl\"}],\"scattermapbox\":[{\"marker\":{\"colorbar\":{\"outlinewidth\":1,\"tickcolor\":\"rgb(36,36,36)\",\"ticks\":\"outside\"}},\"type\":\"scattermapbox\"}],\"scattermap\":[{\"marker\":{\"colorbar\":{\"outlinewidth\":1,\"tickcolor\":\"rgb(36,36,36)\",\"ticks\":\"outside\"}},\"type\":\"scattermap\"}],\"scatterpolargl\":[{\"marker\":{\"colorbar\":{\"outlinewidth\":1,\"tickcolor\":\"rgb(36,36,36)\",\"ticks\":\"outside\"}},\"type\":\"scatterpolargl\"}],\"scatterpolar\":[{\"marker\":{\"colorbar\":{\"outlinewidth\":1,\"tickcolor\":\"rgb(36,36,36)\",\"ticks\":\"outside\"}},\"type\":\"scatterpolar\"}],\"scatter\":[{\"fillpattern\":{\"fillmode\":\"overlay\",\"size\":10,\"solidity\":0.2},\"type\":\"scatter\"}],\"scatterternary\":[{\"marker\":{\"colorbar\":{\"outlinewidth\":1,\"tickcolor\":\"rgb(36,36,36)\",\"ticks\":\"outside\"}},\"type\":\"scatterternary\"}],\"surface\":[{\"colorbar\":{\"outlinewidth\":1,\"tickcolor\":\"rgb(36,36,36)\",\"ticks\":\"outside\"},\"colorscale\":[[0.0,\"#440154\"],[0.1111111111111111,\"#482878\"],[0.2222222222222222,\"#3e4989\"],[0.3333333333333333,\"#31688e\"],[0.4444444444444444,\"#26828e\"],[0.5555555555555556,\"#1f9e89\"],[0.6666666666666666,\"#35b779\"],[0.7777777777777778,\"#6ece58\"],[0.8888888888888888,\"#b5de2b\"],[1.0,\"#fde725\"]],\"type\":\"surface\"}],\"table\":[{\"cells\":{\"fill\":{\"color\":\"rgb(237,237,237)\"},\"line\":{\"color\":\"white\"}},\"header\":{\"fill\":{\"color\":\"rgb(217,217,217)\"},\"line\":{\"color\":\"white\"}},\"type\":\"table\"}]},\"layout\":{\"annotationdefaults\":{\"arrowhead\":0,\"arrowwidth\":1},\"autotypenumbers\":\"strict\",\"coloraxis\":{\"colorbar\":{\"outlinewidth\":1,\"tickcolor\":\"rgb(36,36,36)\",\"ticks\":\"outside\"}},\"colorscale\":{\"diverging\":[[0.0,\"rgb(103,0,31)\"],[0.1,\"rgb(178,24,43)\"],[0.2,\"rgb(214,96,77)\"],[0.3,\"rgb(244,165,130)\"],[0.4,\"rgb(253,219,199)\"],[0.5,\"rgb(247,247,247)\"],[0.6,\"rgb(209,229,240)\"],[0.7,\"rgb(146,197,222)\"],[0.8,\"rgb(67,147,195)\"],[0.9,\"rgb(33,102,172)\"],[1.0,\"rgb(5,48,97)\"]],\"sequential\":[[0.0,\"#440154\"],[0.1111111111111111,\"#482878\"],[0.2222222222222222,\"#3e4989\"],[0.3333333333333333,\"#31688e\"],[0.4444444444444444,\"#26828e\"],[0.5555555555555556,\"#1f9e89\"],[0.6666666666666666,\"#35b779\"],[0.7777777777777778,\"#6ece58\"],[0.8888888888888888,\"#b5de2b\"],[1.0,\"#fde725\"]],\"sequentialminus\":[[0.0,\"#440154\"],[0.1111111111111111,\"#482878\"],[0.2222222222222222,\"#3e4989\"],[0.3333333333333333,\"#31688e\"],[0.4444444444444444,\"#26828e\"],[0.5555555555555556,\"#1f9e89\"],[0.6666666666666666,\"#35b779\"],[0.7777777777777778,\"#6ece58\"],[0.8888888888888888,\"#b5de2b\"],[1.0,\"#fde725\"]]},\"colorway\":[\"#1F77B4\",\"#FF7F0E\",\"#2CA02C\",\"#D62728\",\"#9467BD\",\"#8C564B\",\"#E377C2\",\"#7F7F7F\",\"#BCBD22\",\"#17BECF\"],\"font\":{\"color\":\"rgb(36,36,36)\"},\"geo\":{\"bgcolor\":\"white\",\"lakecolor\":\"white\",\"landcolor\":\"white\",\"showlakes\":true,\"showland\":true,\"subunitcolor\":\"white\"},\"hoverlabel\":{\"align\":\"left\"},\"hovermode\":\"closest\",\"mapbox\":{\"style\":\"light\"},\"paper_bgcolor\":\"white\",\"plot_bgcolor\":\"white\",\"polar\":{\"angularaxis\":{\"gridcolor\":\"rgb(232,232,232)\",\"linecolor\":\"rgb(36,36,36)\",\"showgrid\":false,\"showline\":true,\"ticks\":\"outside\"},\"bgcolor\":\"white\",\"radialaxis\":{\"gridcolor\":\"rgb(232,232,232)\",\"linecolor\":\"rgb(36,36,36)\",\"showgrid\":false,\"showline\":true,\"ticks\":\"outside\"}},\"scene\":{\"xaxis\":{\"backgroundcolor\":\"white\",\"gridcolor\":\"rgb(232,232,232)\",\"gridwidth\":2,\"linecolor\":\"rgb(36,36,36)\",\"showbackground\":true,\"showgrid\":false,\"showline\":true,\"ticks\":\"outside\",\"zeroline\":false,\"zerolinecolor\":\"rgb(36,36,36)\"},\"yaxis\":{\"backgroundcolor\":\"white\",\"gridcolor\":\"rgb(232,232,232)\",\"gridwidth\":2,\"linecolor\":\"rgb(36,36,36)\",\"showbackground\":true,\"showgrid\":false,\"showline\":true,\"ticks\":\"outside\",\"zeroline\":false,\"zerolinecolor\":\"rgb(36,36,36)\"},\"zaxis\":{\"backgroundcolor\":\"white\",\"gridcolor\":\"rgb(232,232,232)\",\"gridwidth\":2,\"linecolor\":\"rgb(36,36,36)\",\"showbackground\":true,\"showgrid\":false,\"showline\":true,\"ticks\":\"outside\",\"zeroline\":false,\"zerolinecolor\":\"rgb(36,36,36)\"}},\"shapedefaults\":{\"fillcolor\":\"black\",\"line\":{\"width\":0},\"opacity\":0.3},\"ternary\":{\"aaxis\":{\"gridcolor\":\"rgb(232,232,232)\",\"linecolor\":\"rgb(36,36,36)\",\"showgrid\":false,\"showline\":true,\"ticks\":\"outside\"},\"baxis\":{\"gridcolor\":\"rgb(232,232,232)\",\"linecolor\":\"rgb(36,36,36)\",\"showgrid\":false,\"showline\":true,\"ticks\":\"outside\"},\"bgcolor\":\"white\",\"caxis\":{\"gridcolor\":\"rgb(232,232,232)\",\"linecolor\":\"rgb(36,36,36)\",\"showgrid\":false,\"showline\":true,\"ticks\":\"outside\"}},\"title\":{\"x\":0.05},\"xaxis\":{\"automargin\":true,\"gridcolor\":\"rgb(232,232,232)\",\"linecolor\":\"rgb(36,36,36)\",\"showgrid\":false,\"showline\":true,\"ticks\":\"outside\",\"title\":{\"standoff\":15},\"zeroline\":false,\"zerolinecolor\":\"rgb(36,36,36)\"},\"yaxis\":{\"automargin\":true,\"gridcolor\":\"rgb(232,232,232)\",\"linecolor\":\"rgb(36,36,36)\",\"showgrid\":false,\"showline\":true,\"ticks\":\"outside\",\"title\":{\"standoff\":15},\"zeroline\":false,\"zerolinecolor\":\"rgb(36,36,36)\"}}},\"xaxis\":{\"anchor\":\"y\",\"domain\":[0.0,1.0],\"title\":{\"text\":\"\"},\"visible\":false,\"range\":[-7.912616729736328,17.688278198242188]},\"yaxis\":{\"anchor\":\"x\",\"domain\":[0.0,1.0],\"title\":{\"text\":\"\"},\"visible\":false,\"range\":[-7.185431003570557,11.88476848602295]},\"legend\":{\"tracegroupgap\":0,\"itemsizing\":\"constant\"},\"margin\":{\"t\":60},\"title\":{\"font\":{\"size\":22,\"color\":\"Black\"},\"text\":\"\\u003cb\\u003eIntertopic Distance Map\\u003c\\u002fb\\u003e\",\"y\":0.95,\"x\":0.5,\"xanchor\":\"center\",\"yanchor\":\"top\"},\"hoverlabel\":{\"font\":{\"size\":16,\"family\":\"Rockwell\"},\"bgcolor\":\"white\"},\"width\":650,\"height\":650,\"sliders\":[{\"active\":0,\"pad\":{\"t\":50},\"steps\":[{\"args\":[{\"marker.color\":[[\"red\",\"#B0BEC5\",\"#B0BEC5\",\"#B0BEC5\",\"#B0BEC5\",\"#B0BEC5\",\"#B0BEC5\",\"#B0BEC5\",\"#B0BEC5\",\"#B0BEC5\",\"#B0BEC5\",\"#B0BEC5\",\"#B0BEC5\",\"#B0BEC5\",\"#B0BEC5\"]]}],\"label\":\"Topic 0\",\"method\":\"update\"},{\"args\":[{\"marker.color\":[[\"#B0BEC5\",\"red\",\"#B0BEC5\",\"#B0BEC5\",\"#B0BEC5\",\"#B0BEC5\",\"#B0BEC5\",\"#B0BEC5\",\"#B0BEC5\",\"#B0BEC5\",\"#B0BEC5\",\"#B0BEC5\",\"#B0BEC5\",\"#B0BEC5\",\"#B0BEC5\"]]}],\"label\":\"Topic 1\",\"method\":\"update\"},{\"args\":[{\"marker.color\":[[\"#B0BEC5\",\"#B0BEC5\",\"red\",\"#B0BEC5\",\"#B0BEC5\",\"#B0BEC5\",\"#B0BEC5\",\"#B0BEC5\",\"#B0BEC5\",\"#B0BEC5\",\"#B0BEC5\",\"#B0BEC5\",\"#B0BEC5\",\"#B0BEC5\",\"#B0BEC5\"]]}],\"label\":\"Topic 2\",\"method\":\"update\"},{\"args\":[{\"marker.color\":[[\"#B0BEC5\",\"#B0BEC5\",\"#B0BEC5\",\"red\",\"#B0BEC5\",\"#B0BEC5\",\"#B0BEC5\",\"#B0BEC5\",\"#B0BEC5\",\"#B0BEC5\",\"#B0BEC5\",\"#B0BEC5\",\"#B0BEC5\",\"#B0BEC5\",\"#B0BEC5\"]]}],\"label\":\"Topic 3\",\"method\":\"update\"},{\"args\":[{\"marker.color\":[[\"#B0BEC5\",\"#B0BEC5\",\"#B0BEC5\",\"#B0BEC5\",\"red\",\"#B0BEC5\",\"#B0BEC5\",\"#B0BEC5\",\"#B0BEC5\",\"#B0BEC5\",\"#B0BEC5\",\"#B0BEC5\",\"#B0BEC5\",\"#B0BEC5\",\"#B0BEC5\"]]}],\"label\":\"Topic 4\",\"method\":\"update\"},{\"args\":[{\"marker.color\":[[\"#B0BEC5\",\"#B0BEC5\",\"#B0BEC5\",\"#B0BEC5\",\"#B0BEC5\",\"red\",\"#B0BEC5\",\"#B0BEC5\",\"#B0BEC5\",\"#B0BEC5\",\"#B0BEC5\",\"#B0BEC5\",\"#B0BEC5\",\"#B0BEC5\",\"#B0BEC5\"]]}],\"label\":\"Topic 5\",\"method\":\"update\"},{\"args\":[{\"marker.color\":[[\"#B0BEC5\",\"#B0BEC5\",\"#B0BEC5\",\"#B0BEC5\",\"#B0BEC5\",\"#B0BEC5\",\"red\",\"#B0BEC5\",\"#B0BEC5\",\"#B0BEC5\",\"#B0BEC5\",\"#B0BEC5\",\"#B0BEC5\",\"#B0BEC5\",\"#B0BEC5\"]]}],\"label\":\"Topic 6\",\"method\":\"update\"},{\"args\":[{\"marker.color\":[[\"#B0BEC5\",\"#B0BEC5\",\"#B0BEC5\",\"#B0BEC5\",\"#B0BEC5\",\"#B0BEC5\",\"#B0BEC5\",\"red\",\"#B0BEC5\",\"#B0BEC5\",\"#B0BEC5\",\"#B0BEC5\",\"#B0BEC5\",\"#B0BEC5\",\"#B0BEC5\"]]}],\"label\":\"Topic 7\",\"method\":\"update\"},{\"args\":[{\"marker.color\":[[\"#B0BEC5\",\"#B0BEC5\",\"#B0BEC5\",\"#B0BEC5\",\"#B0BEC5\",\"#B0BEC5\",\"#B0BEC5\",\"#B0BEC5\",\"red\",\"#B0BEC5\",\"#B0BEC5\",\"#B0BEC5\",\"#B0BEC5\",\"#B0BEC5\",\"#B0BEC5\"]]}],\"label\":\"Topic 8\",\"method\":\"update\"},{\"args\":[{\"marker.color\":[[\"#B0BEC5\",\"#B0BEC5\",\"#B0BEC5\",\"#B0BEC5\",\"#B0BEC5\",\"#B0BEC5\",\"#B0BEC5\",\"#B0BEC5\",\"#B0BEC5\",\"red\",\"#B0BEC5\",\"#B0BEC5\",\"#B0BEC5\",\"#B0BEC5\",\"#B0BEC5\"]]}],\"label\":\"Topic 9\",\"method\":\"update\"},{\"args\":[{\"marker.color\":[[\"#B0BEC5\",\"#B0BEC5\",\"#B0BEC5\",\"#B0BEC5\",\"#B0BEC5\",\"#B0BEC5\",\"#B0BEC5\",\"#B0BEC5\",\"#B0BEC5\",\"#B0BEC5\",\"red\",\"#B0BEC5\",\"#B0BEC5\",\"#B0BEC5\",\"#B0BEC5\"]]}],\"label\":\"Topic 10\",\"method\":\"update\"},{\"args\":[{\"marker.color\":[[\"#B0BEC5\",\"#B0BEC5\",\"#B0BEC5\",\"#B0BEC5\",\"#B0BEC5\",\"#B0BEC5\",\"#B0BEC5\",\"#B0BEC5\",\"#B0BEC5\",\"#B0BEC5\",\"#B0BEC5\",\"red\",\"#B0BEC5\",\"#B0BEC5\",\"#B0BEC5\"]]}],\"label\":\"Topic 11\",\"method\":\"update\"},{\"args\":[{\"marker.color\":[[\"#B0BEC5\",\"#B0BEC5\",\"#B0BEC5\",\"#B0BEC5\",\"#B0BEC5\",\"#B0BEC5\",\"#B0BEC5\",\"#B0BEC5\",\"#B0BEC5\",\"#B0BEC5\",\"#B0BEC5\",\"#B0BEC5\",\"red\",\"#B0BEC5\",\"#B0BEC5\"]]}],\"label\":\"Topic 12\",\"method\":\"update\"},{\"args\":[{\"marker.color\":[[\"#B0BEC5\",\"#B0BEC5\",\"#B0BEC5\",\"#B0BEC5\",\"#B0BEC5\",\"#B0BEC5\",\"#B0BEC5\",\"#B0BEC5\",\"#B0BEC5\",\"#B0BEC5\",\"#B0BEC5\",\"#B0BEC5\",\"#B0BEC5\",\"red\",\"#B0BEC5\"]]}],\"label\":\"Topic 13\",\"method\":\"update\"},{\"args\":[{\"marker.color\":[[\"#B0BEC5\",\"#B0BEC5\",\"#B0BEC5\",\"#B0BEC5\",\"#B0BEC5\",\"#B0BEC5\",\"#B0BEC5\",\"#B0BEC5\",\"#B0BEC5\",\"#B0BEC5\",\"#B0BEC5\",\"#B0BEC5\",\"#B0BEC5\",\"#B0BEC5\",\"red\"]]}],\"label\":\"Topic 14\",\"method\":\"update\"}]}],\"shapes\":[{\"line\":{\"color\":\"#CFD8DC\",\"width\":2},\"type\":\"line\",\"x0\":4.88783073425293,\"x1\":4.88783073425293,\"y0\":-7.185431003570557,\"y1\":11.88476848602295},{\"line\":{\"color\":\"#9E9E9E\",\"width\":2},\"type\":\"line\",\"x0\":-7.912616729736328,\"x1\":17.688278198242188,\"y0\":2.3496687412261963,\"y1\":2.3496687412261963}],\"annotations\":[{\"showarrow\":false,\"text\":\"D1\",\"x\":-7.912616729736328,\"y\":2.3496687412261963,\"yshift\":10},{\"showarrow\":false,\"text\":\"D2\",\"x\":4.88783073425293,\"xshift\":10,\"y\":11.88476848602295}]},                        {\"responsive\": true}                    )                };            </script>        </div>"
      ],
      "text/plain": [
       "Figure({\n",
       "    'data': [{'customdata': array([[0, '01 | dukung | orang | pilih | pasang', 3249],\n",
       "                                   [1, '01 | dukung | pilih | pasang | buzzer', 3151],\n",
       "                                   [2, 'anies | baswedan | imin | cak | rasyid', 2856],\n",
       "                                   [3, '01 | dukung | pilih | amin | bang', 2752],\n",
       "                                   [4, '01 | dukung | kampanye | orang | pasang', 2696],\n",
       "                                   [5, 'presiden | anies | pilih | calon | baswedan', 2321],\n",
       "                                   [6, 'anies | indonesia | imin | cak | baswedan', 2203],\n",
       "                                   [7, 'cak | imin | anies | banget | baswedan', 2084],\n",
       "                                   [8, 'kayak | 01 | video | dukung | twitter', 1801],\n",
       "                                   [9, 'suara | indonesia | 01 | pintar | agama', 1650],\n",
       "                                   [10, 'presiden | calon | 01 | wakil | pilih', 1555],\n",
       "                                   [11, 'menang | 01 | survei | gara | sukses', 1199],\n",
       "                                   [12, 'politik | demokrasi | partai | 01 | demokrat', 885],\n",
       "                                   [13, 'debat | calon | 01 | presiden | strategi', 748],\n",
       "                                   [14, 'debat | cak | imin | presiden | anies', 711]], dtype=object),\n",
       "              'hovertemplate': '<b>Topic %{customdata[0]}</b><br>%{customdata[1]}<br>Size: %{customdata[2]}',\n",
       "              'legendgroup': '',\n",
       "              'marker': {'color': '#B0BEC5',\n",
       "                         'line': {'color': 'DarkSlateGrey', 'width': 2},\n",
       "                         'size': {'bdata': 'sQxPDCgLwAqIChEJmwgkCAkHcgYTBq8EdQPsAscC', 'dtype': 'i2'},\n",
       "                         'sizemode': 'area',\n",
       "                         'sizeref': 2.030625,\n",
       "                         'symbol': 'circle'},\n",
       "              'mode': 'markers',\n",
       "              'name': '',\n",
       "              'orientation': 'v',\n",
       "              'showlegend': False,\n",
       "              'type': 'scatter',\n",
       "              'x': {'bdata': 'kSpnQX+Pa0HiS8zAtNdyQdeAWkFaLdzA9RfWwJ7zw8AIGXZBZ2BfQfteVEEEaG1BRXZWQe+VaEDVjl5A',\n",
       "                    'dtype': 'f4'},\n",
       "              'xaxis': 'x',\n",
       "              'y': {'bdata': 'SRCRwO+1ecDwMyFBJhJjwJ/epcDZhBlBsIAcQXJaJUElpI3AiwaxwAb3usCmSZvAQ/HHwDQTZECOGm5A',\n",
       "                    'dtype': 'f4'},\n",
       "              'yaxis': 'y'}],\n",
       "    'layout': {'annotations': [{'showarrow': False,\n",
       "                                'text': 'D1',\n",
       "                                'x': np.float32(-7.9126167),\n",
       "                                'y': np.float32(2.3496687),\n",
       "                                'yshift': 10},\n",
       "                               {'showarrow': False,\n",
       "                                'text': 'D2',\n",
       "                                'x': np.float32(4.8878307),\n",
       "                                'xshift': 10,\n",
       "                                'y': np.float32(11.8847685)}],\n",
       "               'height': 650,\n",
       "               'hoverlabel': {'bgcolor': 'white', 'font': {'family': 'Rockwell', 'size': 16}},\n",
       "               'legend': {'itemsizing': 'constant', 'tracegroupgap': 0},\n",
       "               'margin': {'t': 60},\n",
       "               'shapes': [{'line': {'color': '#CFD8DC', 'width': 2},\n",
       "                           'type': 'line',\n",
       "                           'x0': np.float32(4.8878307),\n",
       "                           'x1': np.float32(4.8878307),\n",
       "                           'y0': np.float32(-7.185431),\n",
       "                           'y1': np.float32(11.8847685)},\n",
       "                          {'line': {'color': '#9E9E9E', 'width': 2},\n",
       "                           'type': 'line',\n",
       "                           'x0': np.float32(-7.9126167),\n",
       "                           'x1': np.float32(17.688278),\n",
       "                           'y0': np.float32(2.3496687),\n",
       "                           'y1': np.float32(2.3496687)}],\n",
       "               'sliders': [{'active': 0,\n",
       "                            'pad': {'t': 50},\n",
       "                            'steps': [{'args': [{'marker.color': [['red',\n",
       "                                                                  '#B0BEC5',\n",
       "                                                                  '#B0BEC5',\n",
       "                                                                  '#B0BEC5',\n",
       "                                                                  '#B0BEC5',\n",
       "                                                                  '#B0BEC5',\n",
       "                                                                  '#B0BEC5',\n",
       "                                                                  '#B0BEC5',\n",
       "                                                                  '#B0BEC5',\n",
       "                                                                  '#B0BEC5',\n",
       "                                                                  '#B0BEC5',\n",
       "                                                                  '#B0BEC5',\n",
       "                                                                  '#B0BEC5',\n",
       "                                                                  '#B0BEC5',\n",
       "                                                                  '#B0BEC5']]}],\n",
       "                                       'label': 'Topic 0',\n",
       "                                       'method': 'update'},\n",
       "                                      {'args': [{'marker.color': [['#B0BEC5',\n",
       "                                                                  'red', '#B0BEC5',\n",
       "                                                                  '#B0BEC5',\n",
       "                                                                  '#B0BEC5',\n",
       "                                                                  '#B0BEC5',\n",
       "                                                                  '#B0BEC5',\n",
       "                                                                  '#B0BEC5',\n",
       "                                                                  '#B0BEC5',\n",
       "                                                                  '#B0BEC5',\n",
       "                                                                  '#B0BEC5',\n",
       "                                                                  '#B0BEC5',\n",
       "                                                                  '#B0BEC5',\n",
       "                                                                  '#B0BEC5',\n",
       "                                                                  '#B0BEC5']]}],\n",
       "                                       'label': 'Topic 1',\n",
       "                                       'method': 'update'},\n",
       "                                      {'args': [{'marker.color': [['#B0BEC5',\n",
       "                                                                  '#B0BEC5', 'red',\n",
       "                                                                  '#B0BEC5',\n",
       "                                                                  '#B0BEC5',\n",
       "                                                                  '#B0BEC5',\n",
       "                                                                  '#B0BEC5',\n",
       "                                                                  '#B0BEC5',\n",
       "                                                                  '#B0BEC5',\n",
       "                                                                  '#B0BEC5',\n",
       "                                                                  '#B0BEC5',\n",
       "                                                                  '#B0BEC5',\n",
       "                                                                  '#B0BEC5',\n",
       "                                                                  '#B0BEC5',\n",
       "                                                                  '#B0BEC5']]}],\n",
       "                                       'label': 'Topic 2',\n",
       "                                       'method': 'update'},\n",
       "                                      {'args': [{'marker.color': [['#B0BEC5',\n",
       "                                                                  '#B0BEC5',\n",
       "                                                                  '#B0BEC5', 'red',\n",
       "                                                                  '#B0BEC5',\n",
       "                                                                  '#B0BEC5',\n",
       "                                                                  '#B0BEC5',\n",
       "                                                                  '#B0BEC5',\n",
       "                                                                  '#B0BEC5',\n",
       "                                                                  '#B0BEC5',\n",
       "                                                                  '#B0BEC5',\n",
       "                                                                  '#B0BEC5',\n",
       "                                                                  '#B0BEC5',\n",
       "                                                                  '#B0BEC5',\n",
       "                                                                  '#B0BEC5']]}],\n",
       "                                       'label': 'Topic 3',\n",
       "                                       'method': 'update'},\n",
       "                                      {'args': [{'marker.color': [['#B0BEC5',\n",
       "                                                                  '#B0BEC5',\n",
       "                                                                  '#B0BEC5',\n",
       "                                                                  '#B0BEC5', 'red',\n",
       "                                                                  '#B0BEC5',\n",
       "                                                                  '#B0BEC5',\n",
       "                                                                  '#B0BEC5',\n",
       "                                                                  '#B0BEC5',\n",
       "                                                                  '#B0BEC5',\n",
       "                                                                  '#B0BEC5',\n",
       "                                                                  '#B0BEC5',\n",
       "                                                                  '#B0BEC5',\n",
       "                                                                  '#B0BEC5',\n",
       "                                                                  '#B0BEC5']]}],\n",
       "                                       'label': 'Topic 4',\n",
       "                                       'method': 'update'},\n",
       "                                      {'args': [{'marker.color': [['#B0BEC5',\n",
       "                                                                  '#B0BEC5',\n",
       "                                                                  '#B0BEC5',\n",
       "                                                                  '#B0BEC5',\n",
       "                                                                  '#B0BEC5', 'red',\n",
       "                                                                  '#B0BEC5',\n",
       "                                                                  '#B0BEC5',\n",
       "                                                                  '#B0BEC5',\n",
       "                                                                  '#B0BEC5',\n",
       "                                                                  '#B0BEC5',\n",
       "                                                                  '#B0BEC5',\n",
       "                                                                  '#B0BEC5',\n",
       "                                                                  '#B0BEC5',\n",
       "                                                                  '#B0BEC5']]}],\n",
       "                                       'label': 'Topic 5',\n",
       "                                       'method': 'update'},\n",
       "                                      {'args': [{'marker.color': [['#B0BEC5',\n",
       "                                                                  '#B0BEC5',\n",
       "                                                                  '#B0BEC5',\n",
       "                                                                  '#B0BEC5',\n",
       "                                                                  '#B0BEC5',\n",
       "                                                                  '#B0BEC5', 'red',\n",
       "                                                                  '#B0BEC5',\n",
       "                                                                  '#B0BEC5',\n",
       "                                                                  '#B0BEC5',\n",
       "                                                                  '#B0BEC5',\n",
       "                                                                  '#B0BEC5',\n",
       "                                                                  '#B0BEC5',\n",
       "                                                                  '#B0BEC5',\n",
       "                                                                  '#B0BEC5']]}],\n",
       "                                       'label': 'Topic 6',\n",
       "                                       'method': 'update'},\n",
       "                                      {'args': [{'marker.color': [['#B0BEC5',\n",
       "                                                                  '#B0BEC5',\n",
       "                                                                  '#B0BEC5',\n",
       "                                                                  '#B0BEC5',\n",
       "                                                                  '#B0BEC5',\n",
       "                                                                  '#B0BEC5',\n",
       "                                                                  '#B0BEC5', 'red',\n",
       "                                                                  '#B0BEC5',\n",
       "                                                                  '#B0BEC5',\n",
       "                                                                  '#B0BEC5',\n",
       "                                                                  '#B0BEC5',\n",
       "                                                                  '#B0BEC5',\n",
       "                                                                  '#B0BEC5',\n",
       "                                                                  '#B0BEC5']]}],\n",
       "                                       'label': 'Topic 7',\n",
       "                                       'method': 'update'},\n",
       "                                      {'args': [{'marker.color': [['#B0BEC5',\n",
       "                                                                  '#B0BEC5',\n",
       "                                                                  '#B0BEC5',\n",
       "                                                                  '#B0BEC5',\n",
       "                                                                  '#B0BEC5',\n",
       "                                                                  '#B0BEC5',\n",
       "                                                                  '#B0BEC5',\n",
       "                                                                  '#B0BEC5', 'red',\n",
       "                                                                  '#B0BEC5',\n",
       "                                                                  '#B0BEC5',\n",
       "                                                                  '#B0BEC5',\n",
       "                                                                  '#B0BEC5',\n",
       "                                                                  '#B0BEC5',\n",
       "                                                                  '#B0BEC5']]}],\n",
       "                                       'label': 'Topic 8',\n",
       "                                       'method': 'update'},\n",
       "                                      {'args': [{'marker.color': [['#B0BEC5',\n",
       "                                                                  '#B0BEC5',\n",
       "                                                                  '#B0BEC5',\n",
       "                                                                  '#B0BEC5',\n",
       "                                                                  '#B0BEC5',\n",
       "                                                                  '#B0BEC5',\n",
       "                                                                  '#B0BEC5',\n",
       "                                                                  '#B0BEC5',\n",
       "                                                                  '#B0BEC5', 'red',\n",
       "                                                                  '#B0BEC5',\n",
       "                                                                  '#B0BEC5',\n",
       "                                                                  '#B0BEC5',\n",
       "                                                                  '#B0BEC5',\n",
       "                                                                  '#B0BEC5']]}],\n",
       "                                       'label': 'Topic 9',\n",
       "                                       'method': 'update'},\n",
       "                                      {'args': [{'marker.color': [['#B0BEC5',\n",
       "                                                                  '#B0BEC5',\n",
       "                                                                  '#B0BEC5',\n",
       "                                                                  '#B0BEC5',\n",
       "                                                                  '#B0BEC5',\n",
       "                                                                  '#B0BEC5',\n",
       "                                                                  '#B0BEC5',\n",
       "                                                                  '#B0BEC5',\n",
       "                                                                  '#B0BEC5',\n",
       "                                                                  '#B0BEC5', 'red',\n",
       "                                                                  '#B0BEC5',\n",
       "                                                                  '#B0BEC5',\n",
       "                                                                  '#B0BEC5',\n",
       "                                                                  '#B0BEC5']]}],\n",
       "                                       'label': 'Topic 10',\n",
       "                                       'method': 'update'},\n",
       "                                      {'args': [{'marker.color': [['#B0BEC5',\n",
       "                                                                  '#B0BEC5',\n",
       "                                                                  '#B0BEC5',\n",
       "                                                                  '#B0BEC5',\n",
       "                                                                  '#B0BEC5',\n",
       "                                                                  '#B0BEC5',\n",
       "                                                                  '#B0BEC5',\n",
       "                                                                  '#B0BEC5',\n",
       "                                                                  '#B0BEC5',\n",
       "                                                                  '#B0BEC5',\n",
       "                                                                  '#B0BEC5', 'red',\n",
       "                                                                  '#B0BEC5',\n",
       "                                                                  '#B0BEC5',\n",
       "                                                                  '#B0BEC5']]}],\n",
       "                                       'label': 'Topic 11',\n",
       "                                       'method': 'update'},\n",
       "                                      {'args': [{'marker.color': [['#B0BEC5',\n",
       "                                                                  '#B0BEC5',\n",
       "                                                                  '#B0BEC5',\n",
       "                                                                  '#B0BEC5',\n",
       "                                                                  '#B0BEC5',\n",
       "                                                                  '#B0BEC5',\n",
       "                                                                  '#B0BEC5',\n",
       "                                                                  '#B0BEC5',\n",
       "                                                                  '#B0BEC5',\n",
       "                                                                  '#B0BEC5',\n",
       "                                                                  '#B0BEC5',\n",
       "                                                                  '#B0BEC5', 'red',\n",
       "                                                                  '#B0BEC5',\n",
       "                                                                  '#B0BEC5']]}],\n",
       "                                       'label': 'Topic 12',\n",
       "                                       'method': 'update'},\n",
       "                                      {'args': [{'marker.color': [['#B0BEC5',\n",
       "                                                                  '#B0BEC5',\n",
       "                                                                  '#B0BEC5',\n",
       "                                                                  '#B0BEC5',\n",
       "                                                                  '#B0BEC5',\n",
       "                                                                  '#B0BEC5',\n",
       "                                                                  '#B0BEC5',\n",
       "                                                                  '#B0BEC5',\n",
       "                                                                  '#B0BEC5',\n",
       "                                                                  '#B0BEC5',\n",
       "                                                                  '#B0BEC5',\n",
       "                                                                  '#B0BEC5',\n",
       "                                                                  '#B0BEC5', 'red',\n",
       "                                                                  '#B0BEC5']]}],\n",
       "                                       'label': 'Topic 13',\n",
       "                                       'method': 'update'},\n",
       "                                      {'args': [{'marker.color': [['#B0BEC5',\n",
       "                                                                  '#B0BEC5',\n",
       "                                                                  '#B0BEC5',\n",
       "                                                                  '#B0BEC5',\n",
       "                                                                  '#B0BEC5',\n",
       "                                                                  '#B0BEC5',\n",
       "                                                                  '#B0BEC5',\n",
       "                                                                  '#B0BEC5',\n",
       "                                                                  '#B0BEC5',\n",
       "                                                                  '#B0BEC5',\n",
       "                                                                  '#B0BEC5',\n",
       "                                                                  '#B0BEC5',\n",
       "                                                                  '#B0BEC5',\n",
       "                                                                  '#B0BEC5',\n",
       "                                                                  'red']]}],\n",
       "                                       'label': 'Topic 14',\n",
       "                                       'method': 'update'}]}],\n",
       "               'template': '...',\n",
       "               'title': {'font': {'color': 'Black', 'size': 22},\n",
       "                         'text': '<b>Intertopic Distance Map</b>',\n",
       "                         'x': 0.5,\n",
       "                         'xanchor': 'center',\n",
       "                         'y': 0.95,\n",
       "                         'yanchor': 'top'},\n",
       "               'width': 650,\n",
       "               'xaxis': {'anchor': 'y',\n",
       "                         'domain': [0.0, 1.0],\n",
       "                         'range': [-7.912616729736328, 17.688278198242188],\n",
       "                         'title': {'text': ''},\n",
       "                         'visible': False},\n",
       "               'yaxis': {'anchor': 'x',\n",
       "                         'domain': [0.0, 1.0],\n",
       "                         'range': [-7.185431003570557, 11.88476848602295],\n",
       "                         'title': {'text': ''},\n",
       "                         'visible': False}}\n",
       "})"
      ]
     },
     "execution_count": 17,
     "metadata": {},
     "output_type": "execute_result"
    }
   ],
   "source": [
    "topic_model_kmeans.visualize_barchart(top_n_topics=15)\n",
    "topic_model_kmeans.visualize_topics()"
   ]
  },
  {
   "cell_type": "code",
   "execution_count": 18,
   "id": "a95e4cb5",
   "metadata": {},
   "outputs": [],
   "source": [
    "# Save results to CSV\n",
    "df_topics = pd.DataFrame({\"Document\": docs, \"Topic\": topics_kmeans})\n",
    "df_topics.to_csv(\"topic_assignments_kmeans.csv\", index=False)\n",
    "\n",
    "# Save model\n",
    "# topic_model.save(\"bertopic_model_kmeans\")"
   ]
  },
  {
   "cell_type": "code",
   "execution_count": 19,
   "id": "8f54d160",
   "metadata": {},
   "outputs": [
    {
     "name": "stderr",
     "output_type": "stream",
     "text": [
      "0it [00:00, ?it/s]\n"
     ]
    },
    {
     "ename": "IndexError",
     "evalue": "index (184) out of range",
     "output_type": "error",
     "traceback": [
      "\u001b[1;31m---------------------------------------------------------------------------\u001b[0m",
      "\u001b[1;31mIndexError\u001b[0m                                Traceback (most recent call last)",
      "Cell \u001b[1;32mIn[19], line 1\u001b[0m\n\u001b[1;32m----> 1\u001b[0m topics_over_time_kmeans \u001b[38;5;241m=\u001b[39m \u001b[43mtopic_model_kmeans\u001b[49m\u001b[38;5;241;43m.\u001b[39;49m\u001b[43mtopics_over_time\u001b[49m\u001b[43m(\u001b[49m\n\u001b[0;32m      2\u001b[0m \u001b[43m    \u001b[49m\u001b[43mdocs\u001b[49m\u001b[38;5;241;43m=\u001b[39;49m\u001b[43mdocs\u001b[49m\u001b[43m,\u001b[49m\n\u001b[0;32m      3\u001b[0m \u001b[43m    \u001b[49m\u001b[43mtopics\u001b[49m\u001b[38;5;241;43m=\u001b[39;49m\u001b[43mtopics_hdbscan\u001b[49m\u001b[43m,\u001b[49m\n\u001b[0;32m      4\u001b[0m \u001b[43m    \u001b[49m\u001b[43mtimestamps\u001b[49m\u001b[38;5;241;43m=\u001b[39;49m\u001b[43mdf\u001b[49m\u001b[43m[\u001b[49m\u001b[38;5;124;43m'\u001b[39;49m\u001b[38;5;124;43mcreated_at\u001b[39;49m\u001b[38;5;124;43m'\u001b[39;49m\u001b[43m]\u001b[49m\u001b[43m,\u001b[49m\n\u001b[0;32m      5\u001b[0m \u001b[43m    \u001b[49m\u001b[43mnr_bins\u001b[49m\u001b[38;5;241;43m=\u001b[39;49m\u001b[38;5;241;43m20\u001b[39;49m\u001b[43m,\u001b[49m\n\u001b[0;32m      6\u001b[0m \u001b[43m    \u001b[49m\u001b[43mevolution_tuning\u001b[49m\u001b[38;5;241;43m=\u001b[39;49m\u001b[38;5;28;43;01mTrue\u001b[39;49;00m\u001b[43m,\u001b[49m\n\u001b[0;32m      7\u001b[0m \u001b[43m    \u001b[49m\u001b[43mglobal_tuning\u001b[49m\u001b[38;5;241;43m=\u001b[39;49m\u001b[38;5;28;43;01mTrue\u001b[39;49;00m\n\u001b[0;32m      8\u001b[0m \u001b[43m)\u001b[49m\n\u001b[0;32m     10\u001b[0m topic_model_hdbscan\u001b[38;5;241m.\u001b[39mvisualize_topics_over_time(topics_over_time_kmeans, top_n_topics\u001b[38;5;241m=\u001b[39m\u001b[38;5;241m10\u001b[39m)\n",
      "File \u001b[1;32mc:\\Users\\PC\\AppData\\Local\\Programs\\Python\\Python310\\lib\\site-packages\\bertopic\\_bertopic.py:925\u001b[0m, in \u001b[0;36mBERTopic.topics_over_time\u001b[1;34m(self, docs, timestamps, topics, nr_bins, datetime_format, evolution_tuning, global_tuning)\u001b[0m\n\u001b[0;32m    923\u001b[0m \u001b[38;5;28;01mif\u001b[39;00m global_tuning:\n\u001b[0;32m    924\u001b[0m     selected_topics \u001b[38;5;241m=\u001b[39m [all_topics_indices[topic] \u001b[38;5;28;01mfor\u001b[39;00m topic \u001b[38;5;129;01min\u001b[39;00m documents_per_topic\u001b[38;5;241m.\u001b[39mTopic\u001b[38;5;241m.\u001b[39mvalues]\n\u001b[1;32m--> 925\u001b[0m     c_tf_idf \u001b[38;5;241m=\u001b[39m (\u001b[43mglobal_c_tf_idf\u001b[49m\u001b[43m[\u001b[49m\u001b[43mselected_topics\u001b[49m\u001b[43m]\u001b[49m \u001b[38;5;241m+\u001b[39m c_tf_idf) \u001b[38;5;241m/\u001b[39m \u001b[38;5;241m2.0\u001b[39m\n\u001b[0;32m    927\u001b[0m \u001b[38;5;66;03m# Extract the words per topic\u001b[39;00m\n\u001b[0;32m    928\u001b[0m words_per_topic \u001b[38;5;241m=\u001b[39m \u001b[38;5;28mself\u001b[39m\u001b[38;5;241m.\u001b[39m_extract_words_per_topic(words, selection, c_tf_idf, calculate_aspects\u001b[38;5;241m=\u001b[39m\u001b[38;5;28;01mFalse\u001b[39;00m)\n",
      "File \u001b[1;32mc:\\Users\\PC\\AppData\\Local\\Programs\\Python\\Python310\\lib\\site-packages\\scipy\\sparse\\_csr.py:24\u001b[0m, in \u001b[0;36m_csr_base.__getitem__\u001b[1;34m(self, key)\u001b[0m\n\u001b[0;32m     22\u001b[0m \u001b[38;5;28;01mdef\u001b[39;00m \u001b[38;5;21m__getitem__\u001b[39m(\u001b[38;5;28mself\u001b[39m, key):\n\u001b[0;32m     23\u001b[0m     \u001b[38;5;28;01mif\u001b[39;00m \u001b[38;5;28mself\u001b[39m\u001b[38;5;241m.\u001b[39mndim \u001b[38;5;241m==\u001b[39m \u001b[38;5;241m2\u001b[39m:\n\u001b[1;32m---> 24\u001b[0m         \u001b[38;5;28;01mreturn\u001b[39;00m \u001b[38;5;28;43msuper\u001b[39;49m\u001b[43m(\u001b[49m\u001b[43m)\u001b[49m\u001b[38;5;241;43m.\u001b[39;49m\u001b[38;5;21;43m__getitem__\u001b[39;49m\u001b[43m(\u001b[49m\u001b[43mkey\u001b[49m\u001b[43m)\u001b[49m\n\u001b[0;32m     26\u001b[0m     \u001b[38;5;28;01mif\u001b[39;00m \u001b[38;5;28misinstance\u001b[39m(key, \u001b[38;5;28mtuple\u001b[39m) \u001b[38;5;129;01mand\u001b[39;00m \u001b[38;5;28mlen\u001b[39m(key) \u001b[38;5;241m==\u001b[39m \u001b[38;5;241m1\u001b[39m:\n\u001b[0;32m     27\u001b[0m         key \u001b[38;5;241m=\u001b[39m key[\u001b[38;5;241m0\u001b[39m]\n",
      "File \u001b[1;32mc:\\Users\\PC\\AppData\\Local\\Programs\\Python\\Python310\\lib\\site-packages\\scipy\\sparse\\_index.py:52\u001b[0m, in \u001b[0;36mIndexMixin.__getitem__\u001b[1;34m(self, key)\u001b[0m\n\u001b[0;32m     51\u001b[0m \u001b[38;5;28;01mdef\u001b[39;00m \u001b[38;5;21m__getitem__\u001b[39m(\u001b[38;5;28mself\u001b[39m, key):\n\u001b[1;32m---> 52\u001b[0m     row, col \u001b[38;5;241m=\u001b[39m \u001b[38;5;28;43mself\u001b[39;49m\u001b[38;5;241;43m.\u001b[39;49m\u001b[43m_validate_indices\u001b[49m\u001b[43m(\u001b[49m\u001b[43mkey\u001b[49m\u001b[43m)\u001b[49m\n\u001b[0;32m     54\u001b[0m     \u001b[38;5;66;03m# Dispatch to specialized methods.\u001b[39;00m\n\u001b[0;32m     55\u001b[0m     \u001b[38;5;28;01mif\u001b[39;00m \u001b[38;5;28misinstance\u001b[39m(row, INT_TYPES):\n",
      "File \u001b[1;32mc:\\Users\\PC\\AppData\\Local\\Programs\\Python\\Python310\\lib\\site-packages\\scipy\\sparse\\_index.py:186\u001b[0m, in \u001b[0;36mIndexMixin._validate_indices\u001b[1;34m(self, key)\u001b[0m\n\u001b[0;32m    184\u001b[0m     row \u001b[38;5;241m=\u001b[39m _validate_bool_idx(bool_row, M, \u001b[38;5;124m\"\u001b[39m\u001b[38;5;124mrow\u001b[39m\u001b[38;5;124m\"\u001b[39m)\n\u001b[0;32m    185\u001b[0m \u001b[38;5;28;01melif\u001b[39;00m \u001b[38;5;129;01mnot\u001b[39;00m \u001b[38;5;28misinstance\u001b[39m(row, \u001b[38;5;28mslice\u001b[39m):\n\u001b[1;32m--> 186\u001b[0m     row \u001b[38;5;241m=\u001b[39m \u001b[38;5;28;43mself\u001b[39;49m\u001b[38;5;241;43m.\u001b[39;49m\u001b[43m_asindices\u001b[49m\u001b[43m(\u001b[49m\u001b[43mrow\u001b[49m\u001b[43m,\u001b[49m\u001b[43m \u001b[49m\u001b[43mM\u001b[49m\u001b[43m)\u001b[49m\n\u001b[0;32m    188\u001b[0m \u001b[38;5;28;01mif\u001b[39;00m isintlike(col):\n\u001b[0;32m    189\u001b[0m     col \u001b[38;5;241m=\u001b[39m \u001b[38;5;28mint\u001b[39m(col)\n",
      "File \u001b[1;32mc:\\Users\\PC\\AppData\\Local\\Programs\\Python\\Python310\\lib\\site-packages\\scipy\\sparse\\_index.py:220\u001b[0m, in \u001b[0;36mIndexMixin._asindices\u001b[1;34m(self, idx, length)\u001b[0m\n\u001b[0;32m    218\u001b[0m max_indx \u001b[38;5;241m=\u001b[39m x\u001b[38;5;241m.\u001b[39mmax()\n\u001b[0;32m    219\u001b[0m \u001b[38;5;28;01mif\u001b[39;00m max_indx \u001b[38;5;241m>\u001b[39m\u001b[38;5;241m=\u001b[39m length:\n\u001b[1;32m--> 220\u001b[0m     \u001b[38;5;28;01mraise\u001b[39;00m \u001b[38;5;167;01mIndexError\u001b[39;00m(\u001b[38;5;124m'\u001b[39m\u001b[38;5;124mindex (\u001b[39m\u001b[38;5;132;01m%d\u001b[39;00m\u001b[38;5;124m) out of range\u001b[39m\u001b[38;5;124m'\u001b[39m \u001b[38;5;241m%\u001b[39m max_indx)\n\u001b[0;32m    222\u001b[0m min_indx \u001b[38;5;241m=\u001b[39m x\u001b[38;5;241m.\u001b[39mmin()\n\u001b[0;32m    223\u001b[0m \u001b[38;5;28;01mif\u001b[39;00m min_indx \u001b[38;5;241m<\u001b[39m \u001b[38;5;241m0\u001b[39m:\n",
      "\u001b[1;31mIndexError\u001b[0m: index (184) out of range"
     ]
    }
   ],
   "source": [
    "topics_over_time_kmeans = topic_model_kmeans.topics_over_time(\n",
    "    docs=docs,\n",
    "    topics=topics_hdbscan,\n",
    "    timestamps=df['created_at'],\n",
    "    nr_bins=20,\n",
    "    evolution_tuning=True,\n",
    "    global_tuning=True\n",
    ")\n",
    "\n",
    "topic_model_hdbscan.visualize_topics_over_time(topics_over_time_kmeans, top_n_topics=10)"
   ]
  },
  {
   "cell_type": "code",
   "execution_count": 20,
   "id": "f4d6a4bd",
   "metadata": {},
   "outputs": [
    {
     "name": "stdout",
     "output_type": "stream",
     "text": [
      "HDBSCAN Topics: 205\n",
      "KMeans Topics: 15\n",
      "HDBSCAN Outliers: 9870\n"
     ]
    }
   ],
   "source": [
    "print(\"HDBSCAN Topics:\", len(set(topics_hdbscan)) - (1 if -1 in topics_hdbscan else 0))\n",
    "print(\"KMeans Topics:\", len(set(topics_kmeans)))\n",
    "\n",
    "# Outlier analysis\n",
    "print(\"HDBSCAN Outliers:\", topics_hdbscan.count(-1))  # KMeans won't have outliers"
   ]
  },
  {
   "cell_type": "code",
   "execution_count": 21,
   "id": "5838f40d",
   "metadata": {},
   "outputs": [
    {
     "data": {
      "text/html": [
       "<div>\n",
       "<style scoped>\n",
       "    .dataframe tbody tr th:only-of-type {\n",
       "        vertical-align: middle;\n",
       "    }\n",
       "\n",
       "    .dataframe tbody tr th {\n",
       "        vertical-align: top;\n",
       "    }\n",
       "\n",
       "    .dataframe thead th {\n",
       "        text-align: right;\n",
       "    }\n",
       "</style>\n",
       "<table border=\"1\" class=\"dataframe\">\n",
       "  <thead>\n",
       "    <tr style=\"text-align: right;\">\n",
       "      <th></th>\n",
       "      <th>HDBSCAN</th>\n",
       "      <th>KMeans</th>\n",
       "    </tr>\n",
       "  </thead>\n",
       "  <tbody>\n",
       "    <tr>\n",
       "      <th>-1</th>\n",
       "      <td>9870</td>\n",
       "      <td>0</td>\n",
       "    </tr>\n",
       "    <tr>\n",
       "      <th>0</th>\n",
       "      <td>1015</td>\n",
       "      <td>3249</td>\n",
       "    </tr>\n",
       "    <tr>\n",
       "      <th>1</th>\n",
       "      <td>776</td>\n",
       "      <td>3151</td>\n",
       "    </tr>\n",
       "    <tr>\n",
       "      <th>2</th>\n",
       "      <td>568</td>\n",
       "      <td>2856</td>\n",
       "    </tr>\n",
       "    <tr>\n",
       "      <th>3</th>\n",
       "      <td>545</td>\n",
       "      <td>2752</td>\n",
       "    </tr>\n",
       "    <tr>\n",
       "      <th>...</th>\n",
       "      <td>...</td>\n",
       "      <td>...</td>\n",
       "    </tr>\n",
       "    <tr>\n",
       "      <th>200</th>\n",
       "      <td>16</td>\n",
       "      <td>0</td>\n",
       "    </tr>\n",
       "    <tr>\n",
       "      <th>201</th>\n",
       "      <td>16</td>\n",
       "      <td>0</td>\n",
       "    </tr>\n",
       "    <tr>\n",
       "      <th>202</th>\n",
       "      <td>16</td>\n",
       "      <td>0</td>\n",
       "    </tr>\n",
       "    <tr>\n",
       "      <th>203</th>\n",
       "      <td>15</td>\n",
       "      <td>0</td>\n",
       "    </tr>\n",
       "    <tr>\n",
       "      <th>204</th>\n",
       "      <td>15</td>\n",
       "      <td>0</td>\n",
       "    </tr>\n",
       "  </tbody>\n",
       "</table>\n",
       "<p>206 rows × 2 columns</p>\n",
       "</div>"
      ],
      "text/plain": [
       "      HDBSCAN  KMeans\n",
       "-1       9870       0\n",
       " 0       1015    3249\n",
       " 1        776    3151\n",
       " 2        568    2856\n",
       " 3        545    2752\n",
       "...       ...     ...\n",
       " 200       16       0\n",
       " 201       16       0\n",
       " 202       16       0\n",
       " 203       15       0\n",
       " 204       15       0\n",
       "\n",
       "[206 rows x 2 columns]"
      ]
     },
     "execution_count": 21,
     "metadata": {},
     "output_type": "execute_result"
    }
   ],
   "source": [
    "import pandas as pd\n",
    "from collections import Counter\n",
    "\n",
    "# Count documents per topic\n",
    "hdbscan_counts = Counter(topics_hdbscan)\n",
    "kmeans_counts = Counter(topics_kmeans)\n",
    "\n",
    "# Create DataFrame to compare\n",
    "comparison_df = pd.DataFrame({\n",
    "    \"HDBSCAN\": pd.Series(hdbscan_counts),\n",
    "    \"KMeans\": pd.Series(kmeans_counts)\n",
    "}).fillna(0).astype(int)\n",
    "\n",
    "comparison_df.sort_index()\n"
   ]
  }
 ],
 "metadata": {
  "kernelspec": {
   "display_name": "Python 3",
   "language": "python",
   "name": "python3"
  },
  "language_info": {
   "codemirror_mode": {
    "name": "ipython",
    "version": 3
   },
   "file_extension": ".py",
   "mimetype": "text/x-python",
   "name": "python",
   "nbconvert_exporter": "python",
   "pygments_lexer": "ipython3",
   "version": "3.10.10"
  }
 },
 "nbformat": 4,
 "nbformat_minor": 5
}
