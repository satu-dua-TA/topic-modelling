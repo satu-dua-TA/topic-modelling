{
 "cells": [
  {
   "cell_type": "code",
   "execution_count": 1,
   "id": "e4b7ae2a",
   "metadata": {},
   "outputs": [],
   "source": [
    "import os\n",
    "import pandas as pd\n",
    "import numpy as np\n",
    "import matplotlib.pyplot as plt\n",
    "from bertopic import BERTopic\n",
    "from bertopic.vectorizers import ClassTfidfTransformer\n",
    "from bertopic.dimensionality import BaseDimensionalityReduction\n",
    "from sklearn.feature_extraction.text import CountVectorizer\n",
    "from umap import UMAP\n",
    "from hdbscan import HDBSCAN\n",
    "from sentence_transformers import SentenceTransformer"
   ]
  },
  {
   "cell_type": "code",
   "execution_count": 2,
   "metadata": {},
   "outputs": [],
   "source": [
    "\n",
    "df_03 = pd.read_csv('data/stemmed_merged_kubu_03.csv')"
   ]
  },
  {
   "cell_type": "code",
   "execution_count": 3,
   "id": "0dd53691",
   "metadata": {},
   "outputs": [],
   "source": [
    "indo_stopwords = [\n",
    "    # Basic Indonesian stopwords\n",
    "    \"yang\", \"dan\", \"di\", \"dengan\", \"untuk\", \"dari\", \"ke\", \"pada\", \"ini\", \"itu\",\n",
    "    \"atau\", \"ada\", \"juga\", \"dalam\", \"saya\", \"kamu\", \"anda\", \"mereka\", \"kita\", \"kami\",\n",
    "    \"dia\", \"nya\", \"adalah\", \"akan\", \"oleh\", \"seperti\", \"telah\", \"sudah\", \"bisa\", \"dapat\",\n",
    "    \"tidak\", \"tak\", \"jangan\", \"ya\", \"via\", \"yg\", \"dgn\", \"utk\", \"dr\", \"pd\", \"dlm\", \"sdh\", \"tdk\",\n",
    "    \n",
    "    # Candidate names and references (since they appear in nearly every tweet)\n",
    "    \"ganjar\", \"pranowo\", \"mahfud\", \"md\", \"gp\", \"gama\", \"prabowo\", \"gibran\", \"megawati\",\n",
    "    \n",
    "    # Common Balinese campaign greeting (appears frequently)\n",
    "    \"rahajeng\", \"rawuh\", \"bal\", \"bali\", \"dewata\", \"pulau\",\n",
    "    \n",
    "    \n",
    "    # Location indicators\n",
    "    \"indonesia\", \"jakarta\", \"jawa\", \"timur\", \"barat\", \"tengah\", \"sumatra\", \"utara\", \n",
    "    \"selatan\", \"kota\", \"daerah\", \"provinsi\", \"wilayah\", \"region\",\n",
    "]"
   ]
  },
  {
   "cell_type": "code",
   "execution_count": 4,
   "id": "5c41bd7b",
   "metadata": {},
   "outputs": [
    {
     "name": "stderr",
     "output_type": "stream",
     "text": [
      "2025-05-22 22:08:52,965 - BERTopic - Embedding - Transforming documents to embeddings.\n"
     ]
    },
    {
     "data": {
      "application/vnd.jupyter.widget-view+json": {
       "model_id": "5dcbbaecc052444ea15f22cd78f61724",
       "version_major": 2,
       "version_minor": 0
      },
      "text/plain": [
       "Batches:   0%|          | 0/1183 [00:00<?, ?it/s]"
      ]
     },
     "metadata": {},
     "output_type": "display_data"
    },
    {
     "name": "stderr",
     "output_type": "stream",
     "text": [
      "2025-05-22 22:08:59,270 - BERTopic - Embedding - Completed ✓\n",
      "2025-05-22 22:08:59,271 - BERTopic - Dimensionality - Fitting the dimensionality reduction algorithm\n",
      "2025-05-22 22:09:28,740 - BERTopic - Dimensionality - Completed ✓\n",
      "2025-05-22 22:09:28,741 - BERTopic - Cluster - Start clustering the reduced embeddings\n",
      "2025-05-22 22:17:07,922 - BERTopic - Cluster - Completed ✓\n",
      "2025-05-22 22:17:07,923 - BERTopic - Representation - Extracting topics using c-TF-IDF for topic reduction.\n",
      "2025-05-22 22:17:08,636 - BERTopic - Representation - Completed ✓\n",
      "2025-05-22 22:17:08,637 - BERTopic - Topic reduction - Reducing number of topics\n",
      "2025-05-22 22:17:08,656 - BERTopic - Representation - Fine-tuning topics using representation models.\n",
      "2025-05-22 22:17:09,110 - BERTopic - Representation - Completed ✓\n",
      "2025-05-22 22:17:09,113 - BERTopic - Topic reduction - Reduced number of topics from 472 to 15\n"
     ]
    }
   ],
   "source": [
    "\n",
    "vectorizer = CountVectorizer(\n",
    "    stop_words=indo_stopwords,\n",
    "    ngram_range=(1, 3),  # Keep bigrams and trigrams for political phrases\n",
    "    min_df=5,            # Lower threshold to capture more specific topics\n",
    "    max_df=0.7           # Stricter upper bound to remove very common terms\n",
    ")\n",
    "\n",
    "# Configure UMAP for better clustering of political content\n",
    "umap_model = UMAP(\n",
    "    n_neighbors=15,      # Smaller neighborhood for more specific clusters\n",
    "    n_components=5,      \n",
    "    min_dist=0.0,        # Adjusted for better separation\n",
    "    metric='cosine',\n",
    "    random_state=42\n",
    ")\n",
    "\n",
    "# More sensitive clustering for political topics\n",
    "hdbscan_model = HDBSCAN(\n",
    "    min_cluster_size=10,  # Smaller clusters to capture specific campaign themes\n",
    "    min_samples=5,       # More lenient sample requirement\n",
    "    metric='euclidean',\n",
    "    cluster_selection_method='eom',\n",
    "    prediction_data=True\n",
    ")\n",
    "\n",
    "# Improved c-TF-IDF weighting\n",
    "ctfidf_model = ClassTfidfTransformer(\n",
    "    reduce_frequent_words=True,\n",
    "    bm25_weighting=True\n",
    ")\n",
    "\n",
    "embedding_model = SentenceTransformer(\n",
    "    'distiluse-base-multilingual-cased-v1'\n",
    ")\n",
    "\n",
    "# Configure BERTopic for Indonesian political content\n",
    "topic_model = BERTopic(\n",
    "    language=\"multilingual\",  # Keep multilingual for Indonesian\n",
    "    calculate_probabilities=True,\n",
    "    verbose=True,\n",
    "    nr_topics=15,             # Reduced from 15 to get more focused topics\n",
    "    min_topic_size=5,         # Smaller topics to capture campaign themes\n",
    "    umap_model=umap_model,\n",
    "    hdbscan_model=hdbscan_model,\n",
    "    ctfidf_model=ctfidf_model,\n",
    "    vectorizer_model=vectorizer,\n",
    "    embedding_model=embedding_model,\n",
    ")\n",
    "\n",
    "\n",
    "# Fit the model\n",
    "topics, probs = topic_model.fit_transform(df_03['full_text'].tolist())"
   ]
  },
  {
   "cell_type": "code",
   "execution_count": 5,
   "metadata": {},
   "outputs": [],
   "source": [
    "# Generate more intuitive topic labels for Ganjar's campaign\n",
    "topic_labels = {}\n",
    "for topic_id in topic_model.get_topic_info()[\"Topic\"]:\n",
    "    if topic_id == -1:\n",
    "        topic_labels[topic_id] = \"Outlier\"\n",
    "        continue\n",
    "        \n",
    "    # Get top words\n",
    "    words = [word for word, _ in topic_model.get_topic(topic_id)[:5]]\n",
    "    \n",
    "    # Map topics to Ganjar campaign themes based on keywords\n",
    "    if any(term in words for term in [\"bal\", \"bali\", \"rahajeng\", \"rawuh\"]):\n",
    "        topic_labels[topic_id] = \"Kampanye Bali\"\n",
    "    elif any(term in words for term in [\"jawa\", \"tengah\", \"jateng\", \"banteng\"]):\n",
    "        topic_labels[topic_id] = \"Basis Dukungan Jawa Tengah\"\n",
    "    elif any(term in words for term in [\"legislatif\", \"eksekutif\", \"yudikatif\", \"jejak\", \"rekam\"]):\n",
    "        topic_labels[topic_id] = \"Pengalaman Pemerintahan\"\n",
    "    elif any(term in words for term in [\"fokus\", \"dukung\", \"motivasi\", \"kembang\"]):\n",
    "        topic_labels[topic_id] = \"Dukungan & Motivasi\"\n",
    "    elif any(term in words for term in [\"demokrasi\", \"partai\", \"pdip\", \"banteng\", \"merah\"]):\n",
    "        topic_labels[topic_id] = \"Dukungan Partai PDI-P\"\n",
    "    elif any(term in words for term in [\"dame\", \"hati\", \"adem\", \"damai\", \"sejuk\"]):\n",
    "        topic_labels[topic_id] = \"Citra Kepemimpinan Adem\"\n",
    "    elif any(term in words for term in [\"aspirasi\", \"dengar\", \"blusuk\", \"jumpa\"]):\n",
    "        topic_labels[topic_id] = \"Pendekatan ke Masyarakat\"\n",
    "    elif any(term in words for term in [\"tegak\", \"lurus\", \"jujur\", \"bersih\"]):\n",
    "        topic_labels[topic_id] = \"Integritas & Kejujuran\"\n",
    "    elif any(term in words for term in [\"huru\", \"hara\", \"politik\", \"sembuh\", \"luka\"]):\n",
    "        topic_labels[topic_id] = \"Perbaikan Situasi Politik\"\n",
    "    elif any(term in words for term in [\"penjuru\", \"nusantara\", \"kenal\"]):\n",
    "        topic_labels[topic_id] = \"Popularitas Nasional\"\n",
    "    else:\n",
    "        # Use the first few words as a generic label\n",
    "        topic_labels[topic_id] = \" & \".join(words[:3])\n",
    "\n",
    "# Apply custom labels\n",
    "topic_model.set_topic_labels(topic_labels)"
   ]
  },
  {
   "cell_type": "code",
   "execution_count": 6,
   "id": "8b1ed28a",
   "metadata": {},
   "outputs": [],
   "source": [
    "# import wordcloud\n",
    "from wordcloud import WordCloud"
   ]
  },
  {
   "cell_type": "code",
   "execution_count": 7,
   "metadata": {},
   "outputs": [
    {
     "name": "stdout",
     "output_type": "stream",
     "text": [
      "\n",
      "Improved Topic Information:\n",
      "   Topic  Count                                               Name  \\\n",
      "0     -1  11686                      -1_pilih 03_sosok_allah_papua   \n",
      "1      0  18250           0_politik_cinta_sejahtera_wakil presiden   \n",
      "2      1   3159               1_03 menang_pilih 03_03 03_menang 03   \n",
      "3      2   1685           2_partai_juang_suara rakyat_dengar suara   \n",
      "4      3    741  3_program program_program kerja_program unggul...   \n",
      "5      4    728          4_debat_kritik_malam_calon wakil presiden   \n",
      "6      5    498          5_internet_gratis_internet gratis_digital   \n",
      "7      6    322               6_ekonomi_produk_infrastruktur_lokal   \n",
      "8      7    224                         7_porno_video_tonton_viral   \n",
      "9      8    171                8_strategi_strategis_terobos_proyek   \n",
      "\n",
      "                                         CustomName  \\\n",
      "0                                           Outlier   \n",
      "1                         Perbaikan Situasi Politik   \n",
      "2                      03 menang & pilih 03 & 03 03   \n",
      "3                             Dukungan Partai PDI-P   \n",
      "4  program program & program kerja & program unggul   \n",
      "5                            debat & kritik & malam   \n",
      "6               internet & gratis & internet gratis   \n",
      "7                  ekonomi & produk & infrastruktur   \n",
      "8                            porno & video & tonton   \n",
      "9                    strategi & strategis & terobos   \n",
      "\n",
      "                                      Representation  \\\n",
      "0  [pilih 03, sosok, allah, papua, peduli, salam,...   \n",
      "1  [politik, cinta, sejahtera, wakil presiden, ha...   \n",
      "2  [03 menang, pilih 03, 03 03, menang 03, kubu 0...   \n",
      "3  [partai, juang, suara rakyat, dengar suara, su...   \n",
      "4  [program program, program kerja, program unggu...   \n",
      "5  [debat, kritik, malam, calon wakil presiden, c...   \n",
      "6  [internet, gratis, internet gratis, digital, a...   \n",
      "7  [ekonomi, produk, infrastruktur, lokal, tumbuh...   \n",
      "8  [porno, video, tonton, viral, film, hobi, tont...   \n",
      "9  [strategi, strategis, terobos, proyek, posisi,...   \n",
      "\n",
      "                                 Representative_Docs  \n",
      "0  [ganjar kecewa tokoh pimpin cerdas rendah pili...  \n",
      "1  [fokus isu korupsi repot kubu parah kubu ganja...  \n",
      "2  [sukses konser salam m3tal 03 menang total mal...  \n",
      "3  [keluarga jokowi tinggal partai demokrasi indo...  \n",
      "4  [ganjar ganjar tuntas ikn program program ungg...  \n",
      "5  [ganjar mahfud md debat calon presiden calon w...  \n",
      "6  [strok ringan mahfud hebat internet gratis, in...  \n",
      "7  [pikir strategis ganjar mahfud yakin anggar da...  \n",
      "8  [idiot bangga hobi tonton film porno ngences k...  \n",
      "9  [ganjar sekolah tengah juru jawa bantu warga m...  \n",
      "\n",
      "Campaign Themes for Ganjar-Mahfud:\n",
      "Theme: 0_politik_cinta_sejahtera_wakil presiden\n",
      "Keywords: politik, cinta, sejahtera, wakil presiden, harap, koruptor, prof, wakil\n",
      "Document count: 18250\n",
      "--------------------------------------------------\n",
      "Theme: 1_03 menang_pilih 03_03 03_menang 03\n",
      "Keywords: 03 menang, pilih 03, 03 03, menang 03, kubu 03, coblos, konser, total\n",
      "Document count: 3159\n",
      "--------------------------------------------------\n",
      "Theme: 2_partai_juang_suara rakyat_dengar suara\n",
      "Keywords: partai, juang, suara rakyat, dengar suara, surat suara, dengar suara rakyat, kader, coblos\n",
      "Document count: 1685\n",
      "--------------------------------------------------\n",
      "Theme: 3_program program_program kerja_program unggul_lanjut program\n",
      "Keywords: program program, program kerja, program unggul, lanjut program, realisasi, manfaat, 03 program, sarjana\n",
      "Document count: 741\n",
      "--------------------------------------------------\n",
      "Theme: 4_debat_kritik_malam_calon wakil presiden\n",
      "Keywords: debat, kritik, malam, calon wakil presiden, calon wakil, forum, wakil presiden, kemarin\n",
      "Document count: 728\n",
      "--------------------------------------------------\n",
      "Theme: 5_internet_gratis_internet gratis_digital\n",
      "Keywords: internet, gratis, internet gratis, digital, akses, sekolah, rata, era\n",
      "Document count: 498\n",
      "--------------------------------------------------\n",
      "Theme: 6_ekonomi_produk_infrastruktur_lokal\n",
      "Keywords: ekonomi, produk, infrastruktur, lokal, tumbuh ekonomi, tumbuh, perata, juara\n",
      "Document count: 322\n",
      "--------------------------------------------------\n",
      "Theme: 7_porno_video_tonton_viral\n",
      "Keywords: porno, video, tonton, viral, film, hobi, tonton film, den\n",
      "Document count: 224\n",
      "--------------------------------------------------\n",
      "Theme: 8_strategi_strategis_terobos_proyek\n",
      "Keywords: strategi, strategis, terobos, proyek, posisi, daulat, sekolah juru, sekolah\n",
      "Document count: 171\n",
      "--------------------------------------------------\n",
      "Theme: 9_berita_media_media sosial_sosial\n",
      "Keywords: berita, media, media sosial, sosial, propaganda, potong, isu bohong, bohong\n",
      "Document count: 160\n",
      "--------------------------------------------------\n",
      "Theme: 10_mikro_usaha mikro_usaha_dukung usaha\n",
      "Keywords: mikro, usaha mikro, usaha, dukung usaha, laku usaha, kuliner, lokal, lapak\n",
      "Document count: 121\n",
      "--------------------------------------------------\n",
      "Theme: 11_data_bantah_fakta_valid\n",
      "Keywords: data, bantah, fakta, valid, rahasia, kirim, ulang, internal\n",
      "Document count: 53\n",
      "--------------------------------------------------\n",
      "Theme: 12_model_model kampanye_kiky_muka\n",
      "Keywords: model, model kampanye, kiky, muka, kayak bikin, menang anis, kampanye 03, aib\n",
      "Document count: 26\n",
      "--------------------------------------------------\n",
      "Theme: 13_record_of_only_of the\n",
      "Keywords: record, of, only, of the, tidur, bawa asa, daulat pangan, kristen\n",
      "Document count: 11\n",
      "--------------------------------------------------\n"
     ]
    },
    {
     "data": {
      "image/png": "[encoded data removed]",
      "text/plain": [
       "<Figure size 1200x600 with 1 Axes>"
      ]
     },
     "metadata": {},
     "output_type": "display_data"
    },
    {
     "data": {
      "application/vnd.plotly.v1+json": {
       "config": {
        "plotlyServerURL": "https://plot.ly"
       },
       "data": [
        {
         "customdata": [
          [
           0,
           "politik | cinta | sejahtera | wakil presiden | harap",
           18250
          ],
          [
           1,
           "03 menang | pilih 03 | 03 03 | menang 03 | kubu 03",
           3159
          ],
          [
           2,
           "partai | juang | suara rakyat | dengar suara | surat suara",
           1685
          ],
          [
           3,
           "program program | program kerja | program unggul | lanjut program | realisasi",
           741
          ],
          [
           4,
           "debat | kritik | malam | calon wakil presiden | calon wakil",
           728
          ],
          [
           5,
           "internet | gratis | internet gratis | digital | akses",
           498
          ],
          [
           6,
           "ekonomi | produk | infrastruktur | lokal | tumbuh ekonomi",
           322
          ],
          [
           7,
           "porno | video | tonton | viral | film",
           224
          ],
          [
           8,
           "strategi | strategis | terobos | proyek | posisi",
           171
          ],
          [
           9,
           "berita | media | media sosial | sosial | propaganda",
           160
          ],
          [
           10,
           "mikro | usaha mikro | usaha | dukung usaha | laku usaha",
           121
          ],
          [
           11,
           "data | bantah | fakta | valid | rahasia",
           53
          ],
          [
           12,
           "model | model kampanye | kiky | muka | kayak bikin",
           26
          ],
          [
           13,
           "record | of | only | of the | tidur",
           11
          ]
         ],
         "hovertemplate": "<b>Topic %{customdata[0]}</b><br>%{customdata[1]}<br>Size: %{customdata[2]}",
         "legendgroup": "",
         "marker": {
          "color": "#B0BEC5",
          "line": {
           "color": "DarkSlateGrey",
           "width": 2
          },
          "size": {
           "bdata": "SkdXDJUG5QLYAvIBQgHgAKsAoAB5ADUAGgALAA==",
           "dtype": "i2"
          },
          "sizemode": "area",
          "sizeref": 11.40625,
          "symbol": "circle"
         },
         "mode": "markers",
         "name": "",
         "orientation": "v",
         "showlegend": false,
         "type": "scatter",
         "x": {
          "bdata": "rZAVQUybKEE0BApBM1UPQU9pAUG7wg5BUVLZQM+IBEGSUxVBhtwFQcOnzkCQSCBBz7cuQa2eAUE=",
          "dtype": "f4"
         },
         "xaxis": "x",
         "y": {
          "bdata": "pFUiQU5YBkHt8CpBJb8TQd1+IkHeKCFBsdsQQcYkGkGsWilBSdcDQfTmEUHULApBYV4IQaUcEEE=",
          "dtype": "f4"
         },
         "yaxis": "y"
        }
       ],
       "layout": {
        "annotations": [
         {
          "showarrow": false,
          "text": "D1",
          "x": 5.48928165435791,
          "y": 9.645221710205078,
          "yshift": 10
         },
         {
          "showarrow": false,
          "text": "D2",
          "x": 9.023569107055664,
          "xshift": 10,
          "y": 12.286393165588379
         }
        ],
        "height": 650,
        "hoverlabel": {
         "bgcolor": "white",
         "font": {
          "family": "Rockwell",
          "size": 16
         }
        },
        "legend": {
         "itemsizing": "constant",
         "tracegroupgap": 0
        },
        "margin": {
         "t": 60
        },
        "shapes": [
         {
          "line": {
           "color": "#CFD8DC",
           "width": 2
          },
          "type": "line",
          "x0": 9.023569107055664,
          "x1": 9.023569107055664,
          "y0": 7.0040507316589355,
          "y1": 12.286393165588379
         },
         {
          "line": {
           "color": "#9E9E9E",
           "width": 2
          },
          "type": "line",
          "x0": 5.48928165435791,
          "x1": 12.557856559753418,
          "y0": 9.645221710205078,
          "y1": 9.645221710205078
         }
        ],
        "sliders": [
         {
          "active": 0,
          "pad": {
           "t": 50
          },
          "steps": [
           {
            "args": [
             {
              "marker.color": [
               [
                "red",
                "#B0BEC5",
                "#B0BEC5",
                "#B0BEC5",
                "#B0BEC5",
                "#B0BEC5",
                "#B0BEC5",
                "#B0BEC5",
                "#B0BEC5",
                "#B0BEC5",
                "#B0BEC5",
                "#B0BEC5",
                "#B0BEC5",
                "#B0BEC5"
               ]
              ]
             }
            ],
            "label": "Topic 0",
            "method": "update"
           },
           {
            "args": [
             {
              "marker.color": [
               [
                "#B0BEC5",
                "red",
                "#B0BEC5",
                "#B0BEC5",
                "#B0BEC5",
                "#B0BEC5",
                "#B0BEC5",
                "#B0BEC5",
                "#B0BEC5",
                "#B0BEC5",
                "#B0BEC5",
                "#B0BEC5",
                "#B0BEC5",
                "#B0BEC5"
               ]
              ]
             }
            ],
            "label": "Topic 1",
            "method": "update"
           },
           {
            "args": [
             {
              "marker.color": [
               [
                "#B0BEC5",
                "#B0BEC5",
                "red",
                "#B0BEC5",
                "#B0BEC5",
                "#B0BEC5",
                "#B0BEC5",
                "#B0BEC5",
                "#B0BEC5",
                "#B0BEC5",
                "#B0BEC5",
                "#B0BEC5",
                "#B0BEC5",
                "#B0BEC5"
               ]
              ]
             }
            ],
            "label": "Topic 2",
            "method": "update"
           },
           {
            "args": [
             {
              "marker.color": [
               [
                "#B0BEC5",
                "#B0BEC5",
                "#B0BEC5",
                "red",
                "#B0BEC5",
                "#B0BEC5",
                "#B0BEC5",
                "#B0BEC5",
                "#B0BEC5",
                "#B0BEC5",
                "#B0BEC5",
                "#B0BEC5",
                "#B0BEC5",
                "#B0BEC5"
               ]
              ]
             }
            ],
            "label": "Topic 3",
            "method": "update"
           },
           {
            "args": [
             {
              "marker.color": [
               [
                "#B0BEC5",
                "#B0BEC5",
                "#B0BEC5",
                "#B0BEC5",
                "red",
                "#B0BEC5",
                "#B0BEC5",
                "#B0BEC5",
                "#B0BEC5",
                "#B0BEC5",
                "#B0BEC5",
                "#B0BEC5",
                "#B0BEC5",
                "#B0BEC5"
               ]
              ]
             }
            ],
            "label": "Topic 4",
            "method": "update"
           },
           {
            "args": [
             {
              "marker.color": [
               [
                "#B0BEC5",
                "#B0BEC5",
                "#B0BEC5",
                "#B0BEC5",
                "#B0BEC5",
                "red",
                "#B0BEC5",
                "#B0BEC5",
                "#B0BEC5",
                "#B0BEC5",
                "#B0BEC5",
                "#B0BEC5",
                "#B0BEC5",
                "#B0BEC5"
               ]
              ]
             }
            ],
            "label": "Topic 5",
            "method": "update"
           },
           {
            "args": [
             {
              "marker.color": [
               [
                "#B0BEC5",
                "#B0BEC5",
                "#B0BEC5",
                "#B0BEC5",
                "#B0BEC5",
                "#B0BEC5",
                "red",
                "#B0BEC5",
                "#B0BEC5",
                "#B0BEC5",
                "#B0BEC5",
                "#B0BEC5",
                "#B0BEC5",
                "#B0BEC5"
               ]
              ]
             }
            ],
            "label": "Topic 6",
            "method": "update"
           },
           {
            "args": [
             {
              "marker.color": [
               [
                "#B0BEC5",
                "#B0BEC5",
                "#B0BEC5",
                "#B0BEC5",
                "#B0BEC5",
                "#B0BEC5",
                "#B0BEC5",
                "red",
                "#B0BEC5",
                "#B0BEC5",
                "#B0BEC5",
                "#B0BEC5",
                "#B0BEC5",
                "#B0BEC5"
               ]
              ]
             }
            ],
            "label": "Topic 7",
            "method": "update"
           },
           {
            "args": [
             {
              "marker.color": [
               [
                "#B0BEC5",
                "#B0BEC5",
                "#B0BEC5",
                "#B0BEC5",
                "#B0BEC5",
                "#B0BEC5",
                "#B0BEC5",
                "#B0BEC5",
                "red",
                "#B0BEC5",
                "#B0BEC5",
                "#B0BEC5",
                "#B0BEC5",
                "#B0BEC5"
               ]
              ]
             }
            ],
            "label": "Topic 8",
            "method": "update"
           },
           {
            "args": [
             {
              "marker.color": [
               [
                "#B0BEC5",
                "#B0BEC5",
                "#B0BEC5",
                "#B0BEC5",
                "#B0BEC5",
                "#B0BEC5",
                "#B0BEC5",
                "#B0BEC5",
                "#B0BEC5",
                "red",
                "#B0BEC5",
                "#B0BEC5",
                "#B0BEC5",
                "#B0BEC5"
               ]
              ]
             }
            ],
            "label": "Topic 9",
            "method": "update"
           },
           {
            "args": [
             {
              "marker.color": [
               [
                "#B0BEC5",
                "#B0BEC5",
                "#B0BEC5",
                "#B0BEC5",
                "#B0BEC5",
                "#B0BEC5",
                "#B0BEC5",
                "#B0BEC5",
                "#B0BEC5",
                "#B0BEC5",
                "red",
                "#B0BEC5",
                "#B0BEC5",
                "#B0BEC5"
               ]
              ]
             }
            ],
            "label": "Topic 10",
            "method": "update"
           },
           {
            "args": [
             {
              "marker.color": [
               [
                "#B0BEC5",
                "#B0BEC5",
                "#B0BEC5",
                "#B0BEC5",
                "#B0BEC5",
                "#B0BEC5",
                "#B0BEC5",
                "#B0BEC5",
                "#B0BEC5",
                "#B0BEC5",
                "#B0BEC5",
                "red",
                "#B0BEC5",
                "#B0BEC5"
               ]
              ]
             }
            ],
            "label": "Topic 11",
            "method": "update"
           },
           {
            "args": [
             {
              "marker.color": [
               [
                "#B0BEC5",
                "#B0BEC5",
                "#B0BEC5",
                "#B0BEC5",
                "#B0BEC5",
                "#B0BEC5",
                "#B0BEC5",
                "#B0BEC5",
                "#B0BEC5",
                "#B0BEC5",
                "#B0BEC5",
                "#B0BEC5",
                "red",
                "#B0BEC5"
               ]
              ]
             }
            ],
            "label": "Topic 12",
            "method": "update"
           },
           {
            "args": [
             {
              "marker.color": [
               [
                "#B0BEC5",
                "#B0BEC5",
                "#B0BEC5",
                "#B0BEC5",
                "#B0BEC5",
                "#B0BEC5",
                "#B0BEC5",
                "#B0BEC5",
                "#B0BEC5",
                "#B0BEC5",
                "#B0BEC5",
                "#B0BEC5",
                "#B0BEC5",
                "red"
               ]
              ]
             }
            ],
            "label": "Topic 13",
            "method": "update"
           }
          ]
         }
        ],
        "template": {
         "data": {
          "bar": [
           {
            "error_x": {
             "color": "rgb(36,36,36)"
            },
            "error_y": {
             "color": "rgb(36,36,36)"
            },
            "marker": {
             "line": {
              "color": "white",
              "width": 0.5
             },
             "pattern": {
              "fillmode": "overlay",
              "size": 10,
              "solidity": 0.2
             }
            },
            "type": "bar"
           }
          ],
          "barpolar": [
           {
            "marker": {
             "line": {
              "color": "white",
              "width": 0.5
             },
             "pattern": {
              "fillmode": "overlay",
              "size": 10,
              "solidity": 0.2
             }
            },
            "type": "barpolar"
           }
          ],
          "carpet": [
           {
            "aaxis": {
             "endlinecolor": "rgb(36,36,36)",
             "gridcolor": "white",
             "linecolor": "white",
             "minorgridcolor": "white",
             "startlinecolor": "rgb(36,36,36)"
            },
            "baxis": {
             "endlinecolor": "rgb(36,36,36)",
             "gridcolor": "white",
             "linecolor": "white",
             "minorgridcolor": "white",
             "startlinecolor": "rgb(36,36,36)"
            },
            "type": "carpet"
           }
          ],
          "choropleth": [
           {
            "colorbar": {
             "outlinewidth": 1,
             "tickcolor": "rgb(36,36,36)",
             "ticks": "outside"
            },
            "type": "choropleth"
           }
          ],
          "contour": [
           {
            "colorbar": {
             "outlinewidth": 1,
             "tickcolor": "rgb(36,36,36)",
             "ticks": "outside"
            },
            "colorscale": [
             [
              0,
              "#440154"
             ],
             [
              0.1111111111111111,
              "#482878"
             ],
             [
              0.2222222222222222,
              "#3e4989"
             ],
             [
              0.3333333333333333,
              "#31688e"
             ],
             [
              0.4444444444444444,
              "#26828e"
             ],
             [
              0.5555555555555556,
              "#1f9e89"
             ],
             [
              0.6666666666666666,
              "#35b779"
             ],
             [
              0.7777777777777778,
              "#6ece58"
             ],
             [
              0.8888888888888888,
              "#b5de2b"
             ],
             [
              1,
              "#fde725"
             ]
            ],
            "type": "contour"
           }
          ],
          "contourcarpet": [
           {
            "colorbar": {
             "outlinewidth": 1,
             "tickcolor": "rgb(36,36,36)",
             "ticks": "outside"
            },
            "type": "contourcarpet"
           }
          ],
          "heatmap": [
           {
            "colorbar": {
             "outlinewidth": 1,
             "tickcolor": "rgb(36,36,36)",
             "ticks": "outside"
            },
            "colorscale": [
             [
              0,
              "#440154"
             ],
             [
              0.1111111111111111,
              "#482878"
             ],
             [
              0.2222222222222222,
              "#3e4989"
             ],
             [
              0.3333333333333333,
              "#31688e"
             ],
             [
              0.4444444444444444,
              "#26828e"
             ],
             [
              0.5555555555555556,
              "#1f9e89"
             ],
             [
              0.6666666666666666,
              "#35b779"
             ],
             [
              0.7777777777777778,
              "#6ece58"
             ],
             [
              0.8888888888888888,
              "#b5de2b"
             ],
             [
              1,
              "#fde725"
             ]
            ],
            "type": "heatmap"
           }
          ],
          "histogram": [
           {
            "marker": {
             "line": {
              "color": "white",
              "width": 0.6
             }
            },
            "type": "histogram"
           }
          ],
          "histogram2d": [
           {
            "colorbar": {
             "outlinewidth": 1,
             "tickcolor": "rgb(36,36,36)",
             "ticks": "outside"
            },
            "colorscale": [
             [
              0,
              "#440154"
             ],
             [
              0.1111111111111111,
              "#482878"
             ],
             [
              0.2222222222222222,
              "#3e4989"
             ],
             [
              0.3333333333333333,
              "#31688e"
             ],
             [
              0.4444444444444444,
              "#26828e"
             ],
             [
              0.5555555555555556,
              "#1f9e89"
             ],
             [
              0.6666666666666666,
              "#35b779"
             ],
             [
              0.7777777777777778,
              "#6ece58"
             ],
             [
              0.8888888888888888,
              "#b5de2b"
             ],
             [
              1,
              "#fde725"
             ]
            ],
            "type": "histogram2d"
           }
          ],
          "histogram2dcontour": [
           {
            "colorbar": {
             "outlinewidth": 1,
             "tickcolor": "rgb(36,36,36)",
             "ticks": "outside"
            },
            "colorscale": [
             [
              0,
              "#440154"
             ],
             [
              0.1111111111111111,
              "#482878"
             ],
             [
              0.2222222222222222,
              "#3e4989"
             ],
             [
              0.3333333333333333,
              "#31688e"
             ],
             [
              0.4444444444444444,
              "#26828e"
             ],
             [
              0.5555555555555556,
              "#1f9e89"
             ],
             [
              0.6666666666666666,
              "#35b779"
             ],
             [
              0.7777777777777778,
              "#6ece58"
             ],
             [
              0.8888888888888888,
              "#b5de2b"
             ],
             [
              1,
              "#fde725"
             ]
            ],
            "type": "histogram2dcontour"
           }
          ],
          "mesh3d": [
           {
            "colorbar": {
             "outlinewidth": 1,
             "tickcolor": "rgb(36,36,36)",
             "ticks": "outside"
            },
            "type": "mesh3d"
           }
          ],
          "parcoords": [
           {
            "line": {
             "colorbar": {
              "outlinewidth": 1,
              "tickcolor": "rgb(36,36,36)",
              "ticks": "outside"
             }
            },
            "type": "parcoords"
           }
          ],
          "pie": [
           {
            "automargin": true,
            "type": "pie"
           }
          ],
          "scatter": [
           {
            "fillpattern": {
             "fillmode": "overlay",
             "size": 10,
             "solidity": 0.2
            },
            "type": "scatter"
           }
          ],
          "scatter3d": [
           {
            "line": {
             "colorbar": {
              "outlinewidth": 1,
              "tickcolor": "rgb(36,36,36)",
              "ticks": "outside"
             }
            },
            "marker": {
             "colorbar": {
              "outlinewidth": 1,
              "tickcolor": "rgb(36,36,36)",
              "ticks": "outside"
             }
            },
            "type": "scatter3d"
           }
          ],
          "scattercarpet": [
           {
            "marker": {
             "colorbar": {
              "outlinewidth": 1,
              "tickcolor": "rgb(36,36,36)",
              "ticks": "outside"
             }
            },
            "type": "scattercarpet"
           }
          ],
          "scattergeo": [
           {
            "marker": {
             "colorbar": {
              "outlinewidth": 1,
              "tickcolor": "rgb(36,36,36)",
              "ticks": "outside"
             }
            },
            "type": "scattergeo"
           }
          ],
          "scattergl": [
           {
            "marker": {
             "colorbar": {
              "outlinewidth": 1,
              "tickcolor": "rgb(36,36,36)",
              "ticks": "outside"
             }
            },
            "type": "scattergl"
           }
          ],
          "scattermap": [
           {
            "marker": {
             "colorbar": {
              "outlinewidth": 1,
              "tickcolor": "rgb(36,36,36)",
              "ticks": "outside"
             }
            },
            "type": "scattermap"
           }
          ],
          "scattermapbox": [
           {
            "marker": {
             "colorbar": {
              "outlinewidth": 1,
              "tickcolor": "rgb(36,36,36)",
              "ticks": "outside"
             }
            },
            "type": "scattermapbox"
           }
          ],
          "scatterpolar": [
           {
            "marker": {
             "colorbar": {
              "outlinewidth": 1,
              "tickcolor": "rgb(36,36,36)",
              "ticks": "outside"
             }
            },
            "type": "scatterpolar"
           }
          ],
          "scatterpolargl": [
           {
            "marker": {
             "colorbar": {
              "outlinewidth": 1,
              "tickcolor": "rgb(36,36,36)",
              "ticks": "outside"
             }
            },
            "type": "scatterpolargl"
           }
          ],
          "scatterternary": [
           {
            "marker": {
             "colorbar": {
              "outlinewidth": 1,
              "tickcolor": "rgb(36,36,36)",
              "ticks": "outside"
             }
            },
            "type": "scatterternary"
           }
          ],
          "surface": [
           {
            "colorbar": {
             "outlinewidth": 1,
             "tickcolor": "rgb(36,36,36)",
             "ticks": "outside"
            },
            "colorscale": [
             [
              0,
              "#440154"
             ],
             [
              0.1111111111111111,
              "#482878"
             ],
             [
              0.2222222222222222,
              "#3e4989"
             ],
             [
              0.3333333333333333,
              "#31688e"
             ],
             [
              0.4444444444444444,
              "#26828e"
             ],
             [
              0.5555555555555556,
              "#1f9e89"
             ],
             [
              0.6666666666666666,
              "#35b779"
             ],
             [
              0.7777777777777778,
              "#6ece58"
             ],
             [
              0.8888888888888888,
              "#b5de2b"
             ],
             [
              1,
              "#fde725"
             ]
            ],
            "type": "surface"
           }
          ],
          "table": [
           {
            "cells": {
             "fill": {
              "color": "rgb(237,237,237)"
             },
             "line": {
              "color": "white"
             }
            },
            "header": {
             "fill": {
              "color": "rgb(217,217,217)"
             },
             "line": {
              "color": "white"
             }
            },
            "type": "table"
           }
          ]
         },
         "layout": {
          "annotationdefaults": {
           "arrowhead": 0,
           "arrowwidth": 1
          },
          "autotypenumbers": "strict",
          "coloraxis": {
           "colorbar": {
            "outlinewidth": 1,
            "tickcolor": "rgb(36,36,36)",
            "ticks": "outside"
           }
          },
          "colorscale": {
           "diverging": [
            [
             0,
             "rgb(103,0,31)"
            ],
            [
             0.1,
             "rgb(178,24,43)"
            ],
            [
             0.2,
             "rgb(214,96,77)"
            ],
            [
             0.3,
             "rgb(244,165,130)"
            ],
            [
             0.4,
             "rgb(253,219,199)"
            ],
            [
             0.5,
             "rgb(247,247,247)"
            ],
            [
             0.6,
             "rgb(209,229,240)"
            ],
            [
             0.7,
             "rgb(146,197,222)"
            ],
            [
             0.8,
             "rgb(67,147,195)"
            ],
            [
             0.9,
             "rgb(33,102,172)"
            ],
            [
             1,
             "rgb(5,48,97)"
            ]
           ],
           "sequential": [
            [
             0,
             "#440154"
            ],
            [
             0.1111111111111111,
             "#482878"
            ],
            [
             0.2222222222222222,
             "#3e4989"
            ],
            [
             0.3333333333333333,
             "#31688e"
            ],
            [
             0.4444444444444444,
             "#26828e"
            ],
            [
             0.5555555555555556,
             "#1f9e89"
            ],
            [
             0.6666666666666666,
             "#35b779"
            ],
            [
             0.7777777777777778,
             "#6ece58"
            ],
            [
             0.8888888888888888,
             "#b5de2b"
            ],
            [
             1,
             "#fde725"
            ]
           ],
           "sequentialminus": [
            [
             0,
             "#440154"
            ],
            [
             0.1111111111111111,
             "#482878"
            ],
            [
             0.2222222222222222,
             "#3e4989"
            ],
            [
             0.3333333333333333,
             "#31688e"
            ],
            [
             0.4444444444444444,
             "#26828e"
            ],
            [
             0.5555555555555556,
             "#1f9e89"
            ],
            [
             0.6666666666666666,
             "#35b779"
            ],
            [
             0.7777777777777778,
             "#6ece58"
            ],
            [
             0.8888888888888888,
             "#b5de2b"
            ],
            [
             1,
             "#fde725"
            ]
           ]
          },
          "colorway": [
           "#1F77B4",
           "#FF7F0E",
           "#2CA02C",
           "#D62728",
           "#9467BD",
           "#8C564B",
           "#E377C2",
           "#7F7F7F",
           "#BCBD22",
           "#17BECF"
          ],
          "font": {
           "color": "rgb(36,36,36)"
          },
          "geo": {
           "bgcolor": "white",
           "lakecolor": "white",
           "landcolor": "white",
           "showlakes": true,
           "showland": true,
           "subunitcolor": "white"
          },
          "hoverlabel": {
           "align": "left"
          },
          "hovermode": "closest",
          "mapbox": {
           "style": "light"
          },
          "paper_bgcolor": "white",
          "plot_bgcolor": "white",
          "polar": {
           "angularaxis": {
            "gridcolor": "rgb(232,232,232)",
            "linecolor": "rgb(36,36,36)",
            "showgrid": false,
            "showline": true,
            "ticks": "outside"
           },
           "bgcolor": "white",
           "radialaxis": {
            "gridcolor": "rgb(232,232,232)",
            "linecolor": "rgb(36,36,36)",
            "showgrid": false,
            "showline": true,
            "ticks": "outside"
           }
          },
          "scene": {
           "xaxis": {
            "backgroundcolor": "white",
            "gridcolor": "rgb(232,232,232)",
            "gridwidth": 2,
            "linecolor": "rgb(36,36,36)",
            "showbackground": true,
            "showgrid": false,
            "showline": true,
            "ticks": "outside",
            "zeroline": false,
            "zerolinecolor": "rgb(36,36,36)"
           },
           "yaxis": {
            "backgroundcolor": "white",
            "gridcolor": "rgb(232,232,232)",
            "gridwidth": 2,
            "linecolor": "rgb(36,36,36)",
            "showbackground": true,
            "showgrid": false,
            "showline": true,
            "ticks": "outside",
            "zeroline": false,
            "zerolinecolor": "rgb(36,36,36)"
           },
           "zaxis": {
            "backgroundcolor": "white",
            "gridcolor": "rgb(232,232,232)",
            "gridwidth": 2,
            "linecolor": "rgb(36,36,36)",
            "showbackground": true,
            "showgrid": false,
            "showline": true,
            "ticks": "outside",
            "zeroline": false,
            "zerolinecolor": "rgb(36,36,36)"
           }
          },
          "shapedefaults": {
           "fillcolor": "black",
           "line": {
            "width": 0
           },
           "opacity": 0.3
          },
          "ternary": {
           "aaxis": {
            "gridcolor": "rgb(232,232,232)",
            "linecolor": "rgb(36,36,36)",
            "showgrid": false,
            "showline": true,
            "ticks": "outside"
           },
           "baxis": {
            "gridcolor": "rgb(232,232,232)",
            "linecolor": "rgb(36,36,36)",
            "showgrid": false,
            "showline": true,
            "ticks": "outside"
           },
           "bgcolor": "white",
           "caxis": {
            "gridcolor": "rgb(232,232,232)",
            "linecolor": "rgb(36,36,36)",
            "showgrid": false,
            "showline": true,
            "ticks": "outside"
           }
          },
          "title": {
           "x": 0.05
          },
          "xaxis": {
           "automargin": true,
           "gridcolor": "rgb(232,232,232)",
           "linecolor": "rgb(36,36,36)",
           "showgrid": false,
           "showline": true,
           "ticks": "outside",
           "title": {
            "standoff": 15
           },
           "zeroline": false,
           "zerolinecolor": "rgb(36,36,36)"
          },
          "yaxis": {
           "automargin": true,
           "gridcolor": "rgb(232,232,232)",
           "linecolor": "rgb(36,36,36)",
           "showgrid": false,
           "showline": true,
           "ticks": "outside",
           "title": {
            "standoff": 15
           },
           "zeroline": false,
           "zerolinecolor": "rgb(36,36,36)"
          }
         }
        },
        "title": {
         "font": {
          "color": "Black",
          "size": 22
         },
         "text": "<b>Intertopic Distance Map</b>",
         "x": 0.5,
         "xanchor": "center",
         "y": 0.95,
         "yanchor": "top"
        },
        "width": 650,
        "xaxis": {
         "anchor": "y",
         "domain": [
          0,
          1
         ],
         "range": [
          5.48928165435791,
          12.557856559753418
         ],
         "title": {
          "text": ""
         },
         "visible": false
        },
        "yaxis": {
         "anchor": "x",
         "domain": [
          0,
          1
         ],
         "range": [
          7.0040507316589355,
          12.286393165588379
         ],
         "title": {
          "text": ""
         },
         "visible": false
        }
       }
      }
     },
     "metadata": {},
     "output_type": "display_data"
    },
    {
     "data": {
      "application/vnd.plotly.v1+json": {
       "config": {
        "plotlyServerURL": "https://plot.ly"
       },
       "data": [
        {
         "hoverinfo": "text",
         "marker": {
          "color": "rgb(0,116,217)"
         },
         "mode": "lines",
         "type": "scatter",
         "x": {
          "bdata": "AAAAAAAAAAAAAAAAAADwPwAAAAAAAPA/AAAAAAAAAAA=",
          "dtype": "f8"
         },
         "xaxis": "x",
         "y": {
          "bdata": "AAAAAAAAFMAAAAAAAAAUwAAAAAAAAC7AAAAAAAAALsA=",
          "dtype": "f8"
         },
         "yaxis": "y"
        },
        {
         "hoverinfo": "text",
         "marker": {
          "color": "rgb(61,153,112)"
         },
         "mode": "lines",
         "type": "scatter",
         "x": {
          "bdata": "AAAAAAAAAAC+hPReA9jjP76E9F4D2OM/AAAAAAAAAAA=",
          "dtype": "f8"
         },
         "xaxis": "x",
         "y": {
          "bdata": "AAAAAAAAOcAAAAAAAAA5wAAAAAAAgEHAAAAAAACAQcA=",
          "dtype": "f8"
         },
         "yaxis": "y"
        },
        {
         "hoverinfo": "text",
         "marker": {
          "color": "rgb(61,153,112)"
         },
         "mode": "lines",
         "type": "scatter",
         "x": {
          "bdata": "AAAAAAAAAADMjkFmlPbhP8yOQWaU9uE/AAAAAAAAAAA=",
          "dtype": "f8"
         },
         "xaxis": "x",
         "y": {
          "bdata": "AAAAAACARsAAAAAAAIBGwAAAAAAAgEvAAAAAAACAS8A=",
          "dtype": "f8"
         },
         "yaxis": "y"
        },
        {
         "hoverinfo": "text",
         "marker": {
          "color": "rgb(61,153,112)"
         },
         "mode": "lines",
         "type": "scatter",
         "x": {
          "bdata": "zI5BZpT24T9PLI6l1HfnP08sjqXUd+c/AAAAAAAAAAA=",
          "dtype": "f8"
         },
         "xaxis": "x",
         "y": {
          "bdata": "AAAAAAAAScAAAAAAAABJwAAAAAAAQFDAAAAAAABAUMA=",
          "dtype": "f8"
         },
         "yaxis": "y"
        },
        {
         "hoverinfo": "text",
         "marker": {
          "color": "rgb(61,153,112)"
         },
         "mode": "lines",
         "type": "scatter",
         "x": {
          "bdata": "voT0XgPY4z8+G0vMU6LqPz4bS8xTouo/TyyOpdR35z8=",
          "dtype": "f8"
         },
         "xaxis": "x",
         "y": {
          "bdata": "AAAAAAAAPsAAAAAAAAA+wAAAAAAAwEzAAAAAAADATMA=",
          "dtype": "f8"
         },
         "yaxis": "y"
        },
        {
         "hoverinfo": "text",
         "marker": {
          "color": "rgb(255,65,54)"
         },
         "mode": "lines",
         "type": "scatter",
         "x": {
          "bdata": "AAAAAAAAAABMfR4bSxTJP0x9HhtLFMk/AAAAAAAAAAA=",
          "dtype": "f8"
         },
         "xaxis": "x",
         "y": {
          "bdata": "AAAAAADAV8AAAAAAAMBXwAAAAAAAQFrAAAAAAABAWsA=",
          "dtype": "f8"
         },
         "yaxis": "y"
        },
        {
         "hoverinfo": "text",
         "marker": {
          "color": "rgb(255,65,54)"
         },
         "mode": "lines",
         "type": "scatter",
         "x": {
          "bdata": "TH0eG0sUyT9gqEGr8XfNP2CoQavxd80/AAAAAAAAAAA=",
          "dtype": "f8"
         },
         "xaxis": "x",
         "y": {
          "bdata": "AAAAAAAAWcAAAAAAAABZwAAAAAAAwFzAAAAAAADAXMA=",
          "dtype": "f8"
         },
         "yaxis": "y"
        },
        {
         "hoverinfo": "text",
         "marker": {
          "color": "rgb(255,65,54)"
         },
         "mode": "lines",
         "type": "scatter",
         "x": {
          "bdata": "AAAAAAAAAACvVdCUnV/ZP69V0JSdX9k/YKhBq/F3zT8=",
          "dtype": "f8"
         },
         "xaxis": "x",
         "y": {
          "bdata": "AAAAAABAVcAAAAAAAEBVwAAAAAAA4FrAAAAAAADgWsA=",
          "dtype": "f8"
         },
         "yaxis": "y"
        },
        {
         "hoverinfo": "text",
         "marker": {
          "color": "rgb(255,65,54)"
         },
         "mode": "lines",
         "type": "scatter",
         "x": {
          "bdata": "r1XQlJ1f2T/04MVHR7DlP/TgxUdHsOU/AAAAAAAAAAA=",
          "dtype": "f8"
         },
         "xaxis": "x",
         "y": {
          "bdata": "AAAAAAAQWMAAAAAAABBYwAAAAAAAQF/AAAAAAABAX8A=",
          "dtype": "f8"
         },
         "yaxis": "y"
        },
        {
         "hoverinfo": "text",
         "marker": {
          "color": "rgb(255,65,54)"
         },
         "mode": "lines",
         "type": "scatter",
         "x": {
          "bdata": "AAAAAAAAAAByC+gMSDvnP3IL6AxIO+c/9ODFR0ew5T8=",
          "dtype": "f8"
         },
         "xaxis": "x",
         "y": {
          "bdata": "AAAAAADAUsAAAAAAAMBSwAAAAAAAqFvAAAAAAACoW8A=",
          "dtype": "f8"
         },
         "yaxis": "y"
        },
        {
         "hoverinfo": "text",
         "marker": {
          "color": "rgb(255,65,54)"
         },
         "mode": "lines",
         "type": "scatter",
         "x": {
          "bdata": "cgvoDEg75z/4nOjIJg7uP/ic6MgmDu4/AAAAAAAAAAA=",
          "dtype": "f8"
         },
         "xaxis": "x",
         "y": {
          "bdata": "AAAAAAA0V8AAAAAAADRXwAAAAAAA4GDAAAAAAADgYMA=",
          "dtype": "f8"
         },
         "yaxis": "y"
        },
        {
         "hoverinfo": "text",
         "marker": {
          "color": "rgb(0,116,217)"
         },
         "mode": "lines",
         "type": "scatter",
         "x": {
          "bdata": "PhtLzFOi6j96luo0LVfyP3qW6jQtV/I/+JzoyCYO7j8=",
          "dtype": "f8"
         },
         "xaxis": "x",
         "y": {
          "bdata": "AAAAAADgRcAAAAAAAOBFwAAAAAAAelzAAAAAAAB6XMA=",
          "dtype": "f8"
         },
         "yaxis": "y"
        },
        {
         "hoverinfo": "text",
         "marker": {
          "color": "rgb(0,116,217)"
         },
         "mode": "lines",
         "type": "scatter",
         "x": {
          "bdata": "AAAAAAAA8D9ERLvJiYTyP0REu8mJhPI/epbqNC1X8j8=",
          "dtype": "f8"
         },
         "xaxis": "x",
         "y": {
          "bdata": "AAAAAAAAJMAAAAAAAAAkwAAAAAAAtVPAAAAAAAC1U8A=",
          "dtype": "f8"
         },
         "yaxis": "y"
        }
       ],
       "layout": {
        "autosize": false,
        "height": 410,
        "hoverlabel": {
         "bgcolor": "white",
         "font": {
          "family": "Rockwell",
          "size": 16
         }
        },
        "hovermode": "closest",
        "plot_bgcolor": "#ECEFF1",
        "showlegend": false,
        "template": {
         "data": {
          "bar": [
           {
            "error_x": {
             "color": "#2a3f5f"
            },
            "error_y": {
             "color": "#2a3f5f"
            },
            "marker": {
             "line": {
              "color": "white",
              "width": 0.5
             },
             "pattern": {
              "fillmode": "overlay",
              "size": 10,
              "solidity": 0.2
             }
            },
            "type": "bar"
           }
          ],
          "barpolar": [
           {
            "marker": {
             "line": {
              "color": "white",
              "width": 0.5
             },
             "pattern": {
              "fillmode": "overlay",
              "size": 10,
              "solidity": 0.2
             }
            },
            "type": "barpolar"
           }
          ],
          "carpet": [
           {
            "aaxis": {
             "endlinecolor": "#2a3f5f",
             "gridcolor": "#C8D4E3",
             "linecolor": "#C8D4E3",
             "minorgridcolor": "#C8D4E3",
             "startlinecolor": "#2a3f5f"
            },
            "baxis": {
             "endlinecolor": "#2a3f5f",
             "gridcolor": "#C8D4E3",
             "linecolor": "#C8D4E3",
             "minorgridcolor": "#C8D4E3",
             "startlinecolor": "#2a3f5f"
            },
            "type": "carpet"
           }
          ],
          "choropleth": [
           {
            "colorbar": {
             "outlinewidth": 0,
             "ticks": ""
            },
            "type": "choropleth"
           }
          ],
          "contour": [
           {
            "colorbar": {
             "outlinewidth": 0,
             "ticks": ""
            },
            "colorscale": [
             [
              0,
              "#0d0887"
             ],
             [
              0.1111111111111111,
              "#46039f"
             ],
             [
              0.2222222222222222,
              "#7201a8"
             ],
             [
              0.3333333333333333,
              "#9c179e"
             ],
             [
              0.4444444444444444,
              "#bd3786"
             ],
             [
              0.5555555555555556,
              "#d8576b"
             ],
             [
              0.6666666666666666,
              "#ed7953"
             ],
             [
              0.7777777777777778,
              "#fb9f3a"
             ],
             [
              0.8888888888888888,
              "#fdca26"
             ],
             [
              1,
              "#f0f921"
             ]
            ],
            "type": "contour"
           }
          ],
          "contourcarpet": [
           {
            "colorbar": {
             "outlinewidth": 0,
             "ticks": ""
            },
            "type": "contourcarpet"
           }
          ],
          "heatmap": [
           {
            "colorbar": {
             "outlinewidth": 0,
             "ticks": ""
            },
            "colorscale": [
             [
              0,
              "#0d0887"
             ],
             [
              0.1111111111111111,
              "#46039f"
             ],
             [
              0.2222222222222222,
              "#7201a8"
             ],
             [
              0.3333333333333333,
              "#9c179e"
             ],
             [
              0.4444444444444444,
              "#bd3786"
             ],
             [
              0.5555555555555556,
              "#d8576b"
             ],
             [
              0.6666666666666666,
              "#ed7953"
             ],
             [
              0.7777777777777778,
              "#fb9f3a"
             ],
             [
              0.8888888888888888,
              "#fdca26"
             ],
             [
              1,
              "#f0f921"
             ]
            ],
            "type": "heatmap"
           }
          ],
          "histogram": [
           {
            "marker": {
             "pattern": {
              "fillmode": "overlay",
              "size": 10,
              "solidity": 0.2
             }
            },
            "type": "histogram"
           }
          ],
          "histogram2d": [
           {
            "colorbar": {
             "outlinewidth": 0,
             "ticks": ""
            },
            "colorscale": [
             [
              0,
              "#0d0887"
             ],
             [
              0.1111111111111111,
              "#46039f"
             ],
             [
              0.2222222222222222,
              "#7201a8"
             ],
             [
              0.3333333333333333,
              "#9c179e"
             ],
             [
              0.4444444444444444,
              "#bd3786"
             ],
             [
              0.5555555555555556,
              "#d8576b"
             ],
             [
              0.6666666666666666,
              "#ed7953"
             ],
             [
              0.7777777777777778,
              "#fb9f3a"
             ],
             [
              0.8888888888888888,
              "#fdca26"
             ],
             [
              1,
              "#f0f921"
             ]
            ],
            "type": "histogram2d"
           }
          ],
          "histogram2dcontour": [
           {
            "colorbar": {
             "outlinewidth": 0,
             "ticks": ""
            },
            "colorscale": [
             [
              0,
              "#0d0887"
             ],
             [
              0.1111111111111111,
              "#46039f"
             ],
             [
              0.2222222222222222,
              "#7201a8"
             ],
             [
              0.3333333333333333,
              "#9c179e"
             ],
             [
              0.4444444444444444,
              "#bd3786"
             ],
             [
              0.5555555555555556,
              "#d8576b"
             ],
             [
              0.6666666666666666,
              "#ed7953"
             ],
             [
              0.7777777777777778,
              "#fb9f3a"
             ],
             [
              0.8888888888888888,
              "#fdca26"
             ],
             [
              1,
              "#f0f921"
             ]
            ],
            "type": "histogram2dcontour"
           }
          ],
          "mesh3d": [
           {
            "colorbar": {
             "outlinewidth": 0,
             "ticks": ""
            },
            "type": "mesh3d"
           }
          ],
          "parcoords": [
           {
            "line": {
             "colorbar": {
              "outlinewidth": 0,
              "ticks": ""
             }
            },
            "type": "parcoords"
           }
          ],
          "pie": [
           {
            "automargin": true,
            "type": "pie"
           }
          ],
          "scatter": [
           {
            "fillpattern": {
             "fillmode": "overlay",
             "size": 10,
             "solidity": 0.2
            },
            "type": "scatter"
           }
          ],
          "scatter3d": [
           {
            "line": {
             "colorbar": {
              "outlinewidth": 0,
              "ticks": ""
             }
            },
            "marker": {
             "colorbar": {
              "outlinewidth": 0,
              "ticks": ""
             }
            },
            "type": "scatter3d"
           }
          ],
          "scattercarpet": [
           {
            "marker": {
             "colorbar": {
              "outlinewidth": 0,
              "ticks": ""
             }
            },
            "type": "scattercarpet"
           }
          ],
          "scattergeo": [
           {
            "marker": {
             "colorbar": {
              "outlinewidth": 0,
              "ticks": ""
             }
            },
            "type": "scattergeo"
           }
          ],
          "scattergl": [
           {
            "marker": {
             "colorbar": {
              "outlinewidth": 0,
              "ticks": ""
             }
            },
            "type": "scattergl"
           }
          ],
          "scattermap": [
           {
            "marker": {
             "colorbar": {
              "outlinewidth": 0,
              "ticks": ""
             }
            },
            "type": "scattermap"
           }
          ],
          "scattermapbox": [
           {
            "marker": {
             "colorbar": {
              "outlinewidth": 0,
              "ticks": ""
             }
            },
            "type": "scattermapbox"
           }
          ],
          "scatterpolar": [
           {
            "marker": {
             "colorbar": {
              "outlinewidth": 0,
              "ticks": ""
             }
            },
            "type": "scatterpolar"
           }
          ],
          "scatterpolargl": [
           {
            "marker": {
             "colorbar": {
              "outlinewidth": 0,
              "ticks": ""
             }
            },
            "type": "scatterpolargl"
           }
          ],
          "scatterternary": [
           {
            "marker": {
             "colorbar": {
              "outlinewidth": 0,
              "ticks": ""
             }
            },
            "type": "scatterternary"
           }
          ],
          "surface": [
           {
            "colorbar": {
             "outlinewidth": 0,
             "ticks": ""
            },
            "colorscale": [
             [
              0,
              "#0d0887"
             ],
             [
              0.1111111111111111,
              "#46039f"
             ],
             [
              0.2222222222222222,
              "#7201a8"
             ],
             [
              0.3333333333333333,
              "#9c179e"
             ],
             [
              0.4444444444444444,
              "#bd3786"
             ],
             [
              0.5555555555555556,
              "#d8576b"
             ],
             [
              0.6666666666666666,
              "#ed7953"
             ],
             [
              0.7777777777777778,
              "#fb9f3a"
             ],
             [
              0.8888888888888888,
              "#fdca26"
             ],
             [
              1,
              "#f0f921"
             ]
            ],
            "type": "surface"
           }
          ],
          "table": [
           {
            "cells": {
             "fill": {
              "color": "#EBF0F8"
             },
             "line": {
              "color": "white"
             }
            },
            "header": {
             "fill": {
              "color": "#C8D4E3"
             },
             "line": {
              "color": "white"
             }
            },
            "type": "table"
           }
          ]
         },
         "layout": {
          "annotationdefaults": {
           "arrowcolor": "#2a3f5f",
           "arrowhead": 0,
           "arrowwidth": 1
          },
          "autotypenumbers": "strict",
          "coloraxis": {
           "colorbar": {
            "outlinewidth": 0,
            "ticks": ""
           }
          },
          "colorscale": {
           "diverging": [
            [
             0,
             "#8e0152"
            ],
            [
             0.1,
             "#c51b7d"
            ],
            [
             0.2,
             "#de77ae"
            ],
            [
             0.3,
             "#f1b6da"
            ],
            [
             0.4,
             "#fde0ef"
            ],
            [
             0.5,
             "#f7f7f7"
            ],
            [
             0.6,
             "#e6f5d0"
            ],
            [
             0.7,
             "#b8e186"
            ],
            [
             0.8,
             "#7fbc41"
            ],
            [
             0.9,
             "#4d9221"
            ],
            [
             1,
             "#276419"
            ]
           ],
           "sequential": [
            [
             0,
             "#0d0887"
            ],
            [
             0.1111111111111111,
             "#46039f"
            ],
            [
             0.2222222222222222,
             "#7201a8"
            ],
            [
             0.3333333333333333,
             "#9c179e"
            ],
            [
             0.4444444444444444,
             "#bd3786"
            ],
            [
             0.5555555555555556,
             "#d8576b"
            ],
            [
             0.6666666666666666,
             "#ed7953"
            ],
            [
             0.7777777777777778,
             "#fb9f3a"
            ],
            [
             0.8888888888888888,
             "#fdca26"
            ],
            [
             1,
             "#f0f921"
            ]
           ],
           "sequentialminus": [
            [
             0,
             "#0d0887"
            ],
            [
             0.1111111111111111,
             "#46039f"
            ],
            [
             0.2222222222222222,
             "#7201a8"
            ],
            [
             0.3333333333333333,
             "#9c179e"
            ],
            [
             0.4444444444444444,
             "#bd3786"
            ],
            [
             0.5555555555555556,
             "#d8576b"
            ],
            [
             0.6666666666666666,
             "#ed7953"
            ],
            [
             0.7777777777777778,
             "#fb9f3a"
            ],
            [
             0.8888888888888888,
             "#fdca26"
            ],
            [
             1,
             "#f0f921"
            ]
           ]
          },
          "colorway": [
           "#636efa",
           "#EF553B",
           "#00cc96",
           "#ab63fa",
           "#FFA15A",
           "#19d3f3",
           "#FF6692",
           "#B6E880",
           "#FF97FF",
           "#FECB52"
          ],
          "font": {
           "color": "#2a3f5f"
          },
          "geo": {
           "bgcolor": "white",
           "lakecolor": "white",
           "landcolor": "white",
           "showlakes": true,
           "showland": true,
           "subunitcolor": "#C8D4E3"
          },
          "hoverlabel": {
           "align": "left"
          },
          "hovermode": "closest",
          "mapbox": {
           "style": "light"
          },
          "paper_bgcolor": "white",
          "plot_bgcolor": "white",
          "polar": {
           "angularaxis": {
            "gridcolor": "#EBF0F8",
            "linecolor": "#EBF0F8",
            "ticks": ""
           },
           "bgcolor": "white",
           "radialaxis": {
            "gridcolor": "#EBF0F8",
            "linecolor": "#EBF0F8",
            "ticks": ""
           }
          },
          "scene": {
           "xaxis": {
            "backgroundcolor": "white",
            "gridcolor": "#DFE8F3",
            "gridwidth": 2,
            "linecolor": "#EBF0F8",
            "showbackground": true,
            "ticks": "",
            "zerolinecolor": "#EBF0F8"
           },
           "yaxis": {
            "backgroundcolor": "white",
            "gridcolor": "#DFE8F3",
            "gridwidth": 2,
            "linecolor": "#EBF0F8",
            "showbackground": true,
            "ticks": "",
            "zerolinecolor": "#EBF0F8"
           },
           "zaxis": {
            "backgroundcolor": "white",
            "gridcolor": "#DFE8F3",
            "gridwidth": 2,
            "linecolor": "#EBF0F8",
            "showbackground": true,
            "ticks": "",
            "zerolinecolor": "#EBF0F8"
           }
          },
          "shapedefaults": {
           "line": {
            "color": "#2a3f5f"
           }
          },
          "ternary": {
           "aaxis": {
            "gridcolor": "#DFE8F3",
            "linecolor": "#A2B1C6",
            "ticks": ""
           },
           "baxis": {
            "gridcolor": "#DFE8F3",
            "linecolor": "#A2B1C6",
            "ticks": ""
           },
           "bgcolor": "white",
           "caxis": {
            "gridcolor": "#DFE8F3",
            "linecolor": "#A2B1C6",
            "ticks": ""
           }
          },
          "title": {
           "x": 0.05
          },
          "xaxis": {
           "automargin": true,
           "gridcolor": "#EBF0F8",
           "linecolor": "#EBF0F8",
           "ticks": "",
           "title": {
            "standoff": 15
           },
           "zerolinecolor": "#EBF0F8",
           "zerolinewidth": 2
          },
          "yaxis": {
           "automargin": true,
           "gridcolor": "#EBF0F8",
           "linecolor": "#EBF0F8",
           "ticks": "",
           "title": {
            "standoff": 15
           },
           "zerolinecolor": "#EBF0F8",
           "zerolinewidth": 2
          }
         }
        },
        "title": {
         "font": {
          "color": "Black",
          "size": 22
         },
         "text": "<b>Hierarchical Clustering</b>",
         "x": 0.5,
         "xanchor": "center",
         "yanchor": "top"
        },
        "width": 1000,
        "xaxis": {
         "mirror": "allticks",
         "rangemode": "tozero",
         "showgrid": false,
         "showline": true,
         "showticklabels": true,
         "ticks": "outside",
         "type": "linear",
         "zeroline": false
        },
        "yaxis": {
         "mirror": "allticks",
         "range": [
          -140,
          0
         ],
         "rangemode": "tozero",
         "showgrid": false,
         "showline": true,
         "showticklabels": true,
         "tickmode": "array",
         "ticks": "outside",
         "ticktext": [
          "13_record_of_only",
          "12_model_model kampanye_kiky",
          "10_mikro_usaha mikro_usaha",
          "6_ekonomi_produk_infrastruk...",
          "5_internet_gratis_internet ...",
          "3_program program_program k...",
          "8_strategi_strategis_terobos",
          "9_berita_media_media sosial",
          "4_debat_kritik_malam",
          "0_politik_cinta_sejahtera",
          "2_partai_juang_suara rakyat",
          "1_03 menang_pilih 03_03 03",
          "7_porno_video_tonton",
          "11_data_bantah_fakta"
         ],
         "tickvals": [
          -5,
          -15,
          -25,
          -35,
          -45,
          -55,
          -65,
          -75,
          -85,
          -95,
          -105,
          -115,
          -125,
          -135
         ],
         "type": "linear",
         "zeroline": false
        }
       }
      }
     },
     "metadata": {},
     "output_type": "display_data"
    },
    {
     "data": {
      "application/vnd.plotly.v1+json": {
       "config": {
        "plotlyServerURL": "https://plot.ly"
       },
       "data": [
        {
         "coloraxis": "coloraxis",
         "hovertemplate": "x: %{x}<br>y: %{y}<br>Similarity Score: %{z}<extra></extra>",
         "name": "0",
         "type": "heatmap",
         "x": [
          "0_politik_cinta_sejahtera",
          "1_03 menang_pilih 03_03 03",
          "2_partai_juang_suara rakyat",
          "3_program program_program k...",
          "4_debat_kritik_malam",
          "5_internet_gratis_internet ...",
          "6_ekonomi_produk_infrastruk...",
          "7_porno_video_tonton",
          "8_strategi_strategis_terobos",
          "9_berita_media_media sosial",
          "10_mikro_usaha mikro_usaha",
          "11_data_bantah_fakta",
          "12_model_model kampanye_kiky",
          "13_record_of_only"
         ],
         "xaxis": "x",
         "y": [
          "0_politik_cinta_sejahtera",
          "1_03 menang_pilih 03_03 03",
          "2_partai_juang_suara rakyat",
          "3_program program_program k...",
          "4_debat_kritik_malam",
          "5_internet_gratis_internet ...",
          "6_ekonomi_produk_infrastruk...",
          "7_porno_video_tonton",
          "8_strategi_strategis_terobos",
          "9_berita_media_media sosial",
          "10_mikro_usaha mikro_usaha",
          "11_data_bantah_fakta",
          "12_model_model kampanye_kiky",
          "13_record_of_only"
         ],
         "yaxis": "y",
         "z": {
          "bdata": "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",
          "dtype": "f8",
          "shape": "14, 14"
         }
        }
       ],
       "layout": {
        "coloraxis": {
         "colorbar": {
          "title": {
           "text": "Similarity Score"
          }
         },
         "colorscale": [
          [
           0,
           "rgb(247,252,240)"
          ],
          [
           0.125,
           "rgb(224,243,219)"
          ],
          [
           0.25,
           "rgb(204,235,197)"
          ],
          [
           0.375,
           "rgb(168,221,181)"
          ],
          [
           0.5,
           "rgb(123,204,196)"
          ],
          [
           0.625,
           "rgb(78,179,211)"
          ],
          [
           0.75,
           "rgb(43,140,190)"
          ],
          [
           0.875,
           "rgb(8,104,172)"
          ],
          [
           1,
           "rgb(8,64,129)"
          ]
         ]
        },
        "height": 800,
        "hoverlabel": {
         "bgcolor": "white",
         "font": {
          "family": "Rockwell",
          "size": 16
         }
        },
        "legend": {
         "title": {
          "text": "Trend"
         }
        },
        "margin": {
         "t": 60
        },
        "showlegend": true,
        "template": {
         "data": {
          "bar": [
           {
            "error_x": {
             "color": "#2a3f5f"
            },
            "error_y": {
             "color": "#2a3f5f"
            },
            "marker": {
             "line": {
              "color": "#E5ECF6",
              "width": 0.5
             },
             "pattern": {
              "fillmode": "overlay",
              "size": 10,
              "solidity": 0.2
             }
            },
            "type": "bar"
           }
          ],
          "barpolar": [
           {
            "marker": {
             "line": {
              "color": "#E5ECF6",
              "width": 0.5
             },
             "pattern": {
              "fillmode": "overlay",
              "size": 10,
              "solidity": 0.2
             }
            },
            "type": "barpolar"
           }
          ],
          "carpet": [
           {
            "aaxis": {
             "endlinecolor": "#2a3f5f",
             "gridcolor": "white",
             "linecolor": "white",
             "minorgridcolor": "white",
             "startlinecolor": "#2a3f5f"
            },
            "baxis": {
             "endlinecolor": "#2a3f5f",
             "gridcolor": "white",
             "linecolor": "white",
             "minorgridcolor": "white",
             "startlinecolor": "#2a3f5f"
            },
            "type": "carpet"
           }
          ],
          "choropleth": [
           {
            "colorbar": {
             "outlinewidth": 0,
             "ticks": ""
            },
            "type": "choropleth"
           }
          ],
          "contour": [
           {
            "colorbar": {
             "outlinewidth": 0,
             "ticks": ""
            },
            "colorscale": [
             [
              0,
              "#0d0887"
             ],
             [
              0.1111111111111111,
              "#46039f"
             ],
             [
              0.2222222222222222,
              "#7201a8"
             ],
             [
              0.3333333333333333,
              "#9c179e"
             ],
             [
              0.4444444444444444,
              "#bd3786"
             ],
             [
              0.5555555555555556,
              "#d8576b"
             ],
             [
              0.6666666666666666,
              "#ed7953"
             ],
             [
              0.7777777777777778,
              "#fb9f3a"
             ],
             [
              0.8888888888888888,
              "#fdca26"
             ],
             [
              1,
              "#f0f921"
             ]
            ],
            "type": "contour"
           }
          ],
          "contourcarpet": [
           {
            "colorbar": {
             "outlinewidth": 0,
             "ticks": ""
            },
            "type": "contourcarpet"
           }
          ],
          "heatmap": [
           {
            "colorbar": {
             "outlinewidth": 0,
             "ticks": ""
            },
            "colorscale": [
             [
              0,
              "#0d0887"
             ],
             [
              0.1111111111111111,
              "#46039f"
             ],
             [
              0.2222222222222222,
              "#7201a8"
             ],
             [
              0.3333333333333333,
              "#9c179e"
             ],
             [
              0.4444444444444444,
              "#bd3786"
             ],
             [
              0.5555555555555556,
              "#d8576b"
             ],
             [
              0.6666666666666666,
              "#ed7953"
             ],
             [
              0.7777777777777778,
              "#fb9f3a"
             ],
             [
              0.8888888888888888,
              "#fdca26"
             ],
             [
              1,
              "#f0f921"
             ]
            ],
            "type": "heatmap"
           }
          ],
          "histogram": [
           {
            "marker": {
             "pattern": {
              "fillmode": "overlay",
              "size": 10,
              "solidity": 0.2
             }
            },
            "type": "histogram"
           }
          ],
          "histogram2d": [
           {
            "colorbar": {
             "outlinewidth": 0,
             "ticks": ""
            },
            "colorscale": [
             [
              0,
              "#0d0887"
             ],
             [
              0.1111111111111111,
              "#46039f"
             ],
             [
              0.2222222222222222,
              "#7201a8"
             ],
             [
              0.3333333333333333,
              "#9c179e"
             ],
             [
              0.4444444444444444,
              "#bd3786"
             ],
             [
              0.5555555555555556,
              "#d8576b"
             ],
             [
              0.6666666666666666,
              "#ed7953"
             ],
             [
              0.7777777777777778,
              "#fb9f3a"
             ],
             [
              0.8888888888888888,
              "#fdca26"
             ],
             [
              1,
              "#f0f921"
             ]
            ],
            "type": "histogram2d"
           }
          ],
          "histogram2dcontour": [
           {
            "colorbar": {
             "outlinewidth": 0,
             "ticks": ""
            },
            "colorscale": [
             [
              0,
              "#0d0887"
             ],
             [
              0.1111111111111111,
              "#46039f"
             ],
             [
              0.2222222222222222,
              "#7201a8"
             ],
             [
              0.3333333333333333,
              "#9c179e"
             ],
             [
              0.4444444444444444,
              "#bd3786"
             ],
             [
              0.5555555555555556,
              "#d8576b"
             ],
             [
              0.6666666666666666,
              "#ed7953"
             ],
             [
              0.7777777777777778,
              "#fb9f3a"
             ],
             [
              0.8888888888888888,
              "#fdca26"
             ],
             [
              1,
              "#f0f921"
             ]
            ],
            "type": "histogram2dcontour"
           }
          ],
          "mesh3d": [
           {
            "colorbar": {
             "outlinewidth": 0,
             "ticks": ""
            },
            "type": "mesh3d"
           }
          ],
          "parcoords": [
           {
            "line": {
             "colorbar": {
              "outlinewidth": 0,
              "ticks": ""
             }
            },
            "type": "parcoords"
           }
          ],
          "pie": [
           {
            "automargin": true,
            "type": "pie"
           }
          ],
          "scatter": [
           {
            "fillpattern": {
             "fillmode": "overlay",
             "size": 10,
             "solidity": 0.2
            },
            "type": "scatter"
           }
          ],
          "scatter3d": [
           {
            "line": {
             "colorbar": {
              "outlinewidth": 0,
              "ticks": ""
             }
            },
            "marker": {
             "colorbar": {
              "outlinewidth": 0,
              "ticks": ""
             }
            },
            "type": "scatter3d"
           }
          ],
          "scattercarpet": [
           {
            "marker": {
             "colorbar": {
              "outlinewidth": 0,
              "ticks": ""
             }
            },
            "type": "scattercarpet"
           }
          ],
          "scattergeo": [
           {
            "marker": {
             "colorbar": {
              "outlinewidth": 0,
              "ticks": ""
             }
            },
            "type": "scattergeo"
           }
          ],
          "scattergl": [
           {
            "marker": {
             "colorbar": {
              "outlinewidth": 0,
              "ticks": ""
             }
            },
            "type": "scattergl"
           }
          ],
          "scattermap": [
           {
            "marker": {
             "colorbar": {
              "outlinewidth": 0,
              "ticks": ""
             }
            },
            "type": "scattermap"
           }
          ],
          "scattermapbox": [
           {
            "marker": {
             "colorbar": {
              "outlinewidth": 0,
              "ticks": ""
             }
            },
            "type": "scattermapbox"
           }
          ],
          "scatterpolar": [
           {
            "marker": {
             "colorbar": {
              "outlinewidth": 0,
              "ticks": ""
             }
            },
            "type": "scatterpolar"
           }
          ],
          "scatterpolargl": [
           {
            "marker": {
             "colorbar": {
              "outlinewidth": 0,
              "ticks": ""
             }
            },
            "type": "scatterpolargl"
           }
          ],
          "scatterternary": [
           {
            "marker": {
             "colorbar": {
              "outlinewidth": 0,
              "ticks": ""
             }
            },
            "type": "scatterternary"
           }
          ],
          "surface": [
           {
            "colorbar": {
             "outlinewidth": 0,
             "ticks": ""
            },
            "colorscale": [
             [
              0,
              "#0d0887"
             ],
             [
              0.1111111111111111,
              "#46039f"
             ],
             [
              0.2222222222222222,
              "#7201a8"
             ],
             [
              0.3333333333333333,
              "#9c179e"
             ],
             [
              0.4444444444444444,
              "#bd3786"
             ],
             [
              0.5555555555555556,
              "#d8576b"
             ],
             [
              0.6666666666666666,
              "#ed7953"
             ],
             [
              0.7777777777777778,
              "#fb9f3a"
             ],
             [
              0.8888888888888888,
              "#fdca26"
             ],
             [
              1,
              "#f0f921"
             ]
            ],
            "type": "surface"
           }
          ],
          "table": [
           {
            "cells": {
             "fill": {
              "color": "#EBF0F8"
             },
             "line": {
              "color": "white"
             }
            },
            "header": {
             "fill": {
              "color": "#C8D4E3"
             },
             "line": {
              "color": "white"
             }
            },
            "type": "table"
           }
          ]
         },
         "layout": {
          "annotationdefaults": {
           "arrowcolor": "#2a3f5f",
           "arrowhead": 0,
           "arrowwidth": 1
          },
          "autotypenumbers": "strict",
          "coloraxis": {
           "colorbar": {
            "outlinewidth": 0,
            "ticks": ""
           }
          },
          "colorscale": {
           "diverging": [
            [
             0,
             "#8e0152"
            ],
            [
             0.1,
             "#c51b7d"
            ],
            [
             0.2,
             "#de77ae"
            ],
            [
             0.3,
             "#f1b6da"
            ],
            [
             0.4,
             "#fde0ef"
            ],
            [
             0.5,
             "#f7f7f7"
            ],
            [
             0.6,
             "#e6f5d0"
            ],
            [
             0.7,
             "#b8e186"
            ],
            [
             0.8,
             "#7fbc41"
            ],
            [
             0.9,
             "#4d9221"
            ],
            [
             1,
             "#276419"
            ]
           ],
           "sequential": [
            [
             0,
             "#0d0887"
            ],
            [
             0.1111111111111111,
             "#46039f"
            ],
            [
             0.2222222222222222,
             "#7201a8"
            ],
            [
             0.3333333333333333,
             "#9c179e"
            ],
            [
             0.4444444444444444,
             "#bd3786"
            ],
            [
             0.5555555555555556,
             "#d8576b"
            ],
            [
             0.6666666666666666,
             "#ed7953"
            ],
            [
             0.7777777777777778,
             "#fb9f3a"
            ],
            [
             0.8888888888888888,
             "#fdca26"
            ],
            [
             1,
             "#f0f921"
            ]
           ],
           "sequentialminus": [
            [
             0,
             "#0d0887"
            ],
            [
             0.1111111111111111,
             "#46039f"
            ],
            [
             0.2222222222222222,
             "#7201a8"
            ],
            [
             0.3333333333333333,
             "#9c179e"
            ],
            [
             0.4444444444444444,
             "#bd3786"
            ],
            [
             0.5555555555555556,
             "#d8576b"
            ],
            [
             0.6666666666666666,
             "#ed7953"
            ],
            [
             0.7777777777777778,
             "#fb9f3a"
            ],
            [
             0.8888888888888888,
             "#fdca26"
            ],
            [
             1,
             "#f0f921"
            ]
           ]
          },
          "colorway": [
           "#636efa",
           "#EF553B",
           "#00cc96",
           "#ab63fa",
           "#FFA15A",
           "#19d3f3",
           "#FF6692",
           "#B6E880",
           "#FF97FF",
           "#FECB52"
          ],
          "font": {
           "color": "#2a3f5f"
          },
          "geo": {
           "bgcolor": "white",
           "lakecolor": "white",
           "landcolor": "#E5ECF6",
           "showlakes": true,
           "showland": true,
           "subunitcolor": "white"
          },
          "hoverlabel": {
           "align": "left"
          },
          "hovermode": "closest",
          "mapbox": {
           "style": "light"
          },
          "paper_bgcolor": "white",
          "plot_bgcolor": "#E5ECF6",
          "polar": {
           "angularaxis": {
            "gridcolor": "white",
            "linecolor": "white",
            "ticks": ""
           },
           "bgcolor": "#E5ECF6",
           "radialaxis": {
            "gridcolor": "white",
            "linecolor": "white",
            "ticks": ""
           }
          },
          "scene": {
           "xaxis": {
            "backgroundcolor": "#E5ECF6",
            "gridcolor": "white",
            "gridwidth": 2,
            "linecolor": "white",
            "showbackground": true,
            "ticks": "",
            "zerolinecolor": "white"
           },
           "yaxis": {
            "backgroundcolor": "#E5ECF6",
            "gridcolor": "white",
            "gridwidth": 2,
            "linecolor": "white",
            "showbackground": true,
            "ticks": "",
            "zerolinecolor": "white"
           },
           "zaxis": {
            "backgroundcolor": "#E5ECF6",
            "gridcolor": "white",
            "gridwidth": 2,
            "linecolor": "white",
            "showbackground": true,
            "ticks": "",
            "zerolinecolor": "white"
           }
          },
          "shapedefaults": {
           "line": {
            "color": "#2a3f5f"
           }
          },
          "ternary": {
           "aaxis": {
            "gridcolor": "white",
            "linecolor": "white",
            "ticks": ""
           },
           "baxis": {
            "gridcolor": "white",
            "linecolor": "white",
            "ticks": ""
           },
           "bgcolor": "#E5ECF6",
           "caxis": {
            "gridcolor": "white",
            "linecolor": "white",
            "ticks": ""
           }
          },
          "title": {
           "x": 0.05
          },
          "xaxis": {
           "automargin": true,
           "gridcolor": "white",
           "linecolor": "white",
           "ticks": "",
           "title": {
            "standoff": 15
           },
           "zerolinecolor": "white",
           "zerolinewidth": 2
          },
          "yaxis": {
           "automargin": true,
           "gridcolor": "white",
           "linecolor": "white",
           "ticks": "",
           "title": {
            "standoff": 15
           },
           "zerolinecolor": "white",
           "zerolinewidth": 2
          }
         }
        },
        "title": {
         "font": {
          "color": "Black",
          "size": 22
         },
         "text": "<b>Similarity Matrix</b>",
         "x": 0.55,
         "xanchor": "center",
         "y": 0.95,
         "yanchor": "top"
        },
        "width": 800,
        "xaxis": {
         "anchor": "y",
         "constrain": "domain",
         "domain": [
          0,
          1
         ],
         "scaleanchor": "y"
        },
        "yaxis": {
         "anchor": "x",
         "autorange": "reversed",
         "constrain": "domain",
         "domain": [
          0,
          1
         ]
        }
       }
      }
     },
     "metadata": {},
     "output_type": "display_data"
    },
    {
     "data": {
      "image/png": "[encoded data removed]",
      "text/plain": [
       "<Figure size 1500x1000 with 3 Axes>"
      ]
     },
     "metadata": {},
     "output_type": "display_data"
    }
   ],
   "source": [
    "# Get the improved topic information\n",
    "topic_info = topic_model.get_topic_info()\n",
    "print(\"\\nImproved Topic Information:\")\n",
    "print(topic_info.head(10))\n",
    "\n",
    "# Print topics with their new labels\n",
    "print(\"\\nCampaign Themes for Ganjar-Mahfud:\")\n",
    "for index, row in topic_info.iterrows():\n",
    "    if row[\"Topic\"] != -1:  # Skip outlier topic\n",
    "        topic_id = row[\"Topic\"]\n",
    "        words = [word[0] for word in topic_model.get_topic(topic_id)[:8]]\n",
    "        print(f\"Theme: {row['Name']}\")\n",
    "        print(f\"Keywords: {', '.join(words)}\")\n",
    "        print(f\"Document count: {row['Count']}\")\n",
    "        print(\"-\" * 50)\n",
    "\n",
    "# Create a topic distribution visualization\n",
    "plt.figure(figsize=(12, 6))\n",
    "topic_counts = topic_info[topic_info[\"Topic\"] != -1][\"Count\"]\n",
    "topic_names = [label for topic, label in topic_labels.items() if topic != -1][:len(topic_counts)]\n",
    "\n",
    "# Plot with better color scheme\n",
    "bars = plt.bar(topic_names, topic_counts, color=plt.cm.viridis(np.linspace(0, 1, len(topic_counts))))\n",
    "\n",
    "# Add count labels on top of bars\n",
    "for bar in bars:\n",
    "    height = bar.get_height()\n",
    "    plt.text(bar.get_x() + bar.get_width()/2., height + 0.5,\n",
    "            f'{int(height)}', ha='center', va='bottom', fontweight='bold')\n",
    "\n",
    "plt.xticks(rotation=45, ha=\"right\")\n",
    "plt.title(\"Distribution of Campaign Themes in Ganjar-Mahfud Tweets\", fontsize=14, fontweight='bold')\n",
    "plt.xlabel(\"Campaign Themes\", fontsize=12)\n",
    "plt.ylabel(\"Number of Tweets\", fontsize=12)\n",
    "plt.tight_layout()\n",
    "plt.grid(axis='y', linestyle='--', alpha=0.7)\n",
    "plt.show()\n",
    "\n",
    "# Display interactive visualizations\n",
    "intertopic_map = topic_model.visualize_topics()\n",
    "display(intertopic_map)\n",
    "\n",
    "# Create hierarchical clustering visualization\n",
    "hierarchy = topic_model.visualize_hierarchy()\n",
    "display(hierarchy)\n",
    "\n",
    "# Create heatmap of topic similarities\n",
    "heatmap = topic_model.visualize_heatmap()\n",
    "display(heatmap)\n",
    "\n",
    "# Create word clouds for top 3 topics\n",
    "plt.figure(figsize=(15, 10))\n",
    "for i, topic_id in enumerate(topic_info[topic_info['Topic'] != -1]['Topic'][:3]):\n",
    "    plt.subplot(1, 3, i+1)\n",
    "    \n",
    "    # Get topic words and weights\n",
    "    words = dict(topic_model.get_topic(topic_id)[:15])\n",
    "    \n",
    "    # Create and display wordcloud\n",
    "    wordcloud = WordCloud(width=400, height=400, background_color='white', \n",
    "                          colormap='viridis', max_words=50).generate_from_frequencies(words)\n",
    "    \n",
    "    plt.imshow(wordcloud, interpolation='bilinear')\n",
    "    plt.title(f\"Topic: {topic_labels[topic_id]}\", fontsize=12)\n",
    "    plt.axis('off')\n",
    "\n",
    "plt.tight_layout()\n",
    "plt.show()"
   ]
  },
  {
   "cell_type": "code",
   "execution_count": 8,
   "metadata": {},
   "outputs": [],
   "source": [
    "from wordcloud import WordCloud\n",
    "import seaborn as sns"
   ]
  },
  {
   "cell_type": "code",
   "execution_count": 9,
   "metadata": {},
   "outputs": [
    {
     "name": "stdout",
     "output_type": "stream",
     "text": [
      "\n",
      "Representative tweets for key campaign themes:\n",
      "\n",
      "--- Theme: 0_politik_cinta_sejahtera_wakil presiden ---\n",
      "1. fokus isu korupsi repot kubu parah kubu ganjar duga libat e kartu tanda duduk gibran adu komisi berantas korupsi ubaidillah badrun lebar partai partai koalisi...\n",
      "2. tabrak prof ketua anggota sangsi ingat keras dkpp proses daftar gibran calon wakil presiden calon wakil presiden 03 ketua komisi pemelihan hasyim asy ari bica pecat langgar...\n",
      "3. yarakat solo penuh sukacita pesan positif doa baik ganjar pranowo prof mahfud kampany3 akbar sejahtera lipat ganda indonesia makmur sentosa...\n",
      "\n",
      "--- Theme: 1_03 menang_pilih 03_03 03_menang 03 ---\n",
      "1. sukses konser salam m3tal 03 menang total malam ganjar sejahtera...\n",
      "2. totalitas dukung pasang calon no 03 hadir konser hajat rakyat gelora karno kali sejahtera indonesia jaya...\n",
      "3. ramai gelora karno gembira dukung pasang calon no 03 ganda sejahtera raih makmur lanjut...\n",
      "\n",
      "--- Theme: 2_partai_juang_suara rakyat_dengar suara ---\n",
      "1. keluarga jokowi tinggal partai demokrasi indonesia juang dukung ganjar mahfud...\n",
      "2. ganjar partai demokrasi indonesia juang demokrasi negeri gaasspooll ganjarmahfud2024...\n",
      "3. oleh suara pasang calon 03 oleh suara partai demokrasi indonesia juang...\n",
      "\n",
      "--- Theme: 3_program program_program kerja_program unggul_lanjut program ---\n",
      "1. ganjar ganjar tuntas ikn program program unggul...\n",
      "2. pilih ganjar mahfud milik program program unggul sejahtera rakyat...\n",
      "3. banget ganjar t3ruskan ikn lanjut program program unggul jokowi...\n",
      "\n",
      "--- Theme: 4_debat_kritik_malam_calon wakil presiden ---\n",
      "1. ganjar mahfud md debat calon presiden calon wakil presiden debatcapres 6fzqzeiogg ganjarbersih kuatkankpk hebat ganjar presiden lanjutgan bansos rakyat...\n",
      "2. antaranews ganjar pranowo senang jalan debat perdana calon presiden calon wakil presiden laksana malam 7igsh2jtae ganjarbersih kuatkankpk hebat ganjar presiden lanjutgan bansos rakyat...\n",
      "3. debat calon presiden calon wakil presiden tarik calon presiden ganjar anies prabowo calon wakil presiden mahfud mas gibran cak imin...\n"
     ]
    }
   ],
   "source": [
    "# Create topic distribution from the existing topic_info\n",
    "topic_distribution = topic_info.set_index(\"Topic\")[\"Count\"]\n",
    "\n",
    "# Get representative documents for key campaign themes\n",
    "print(\"\\nRepresentative tweets for key campaign themes:\")\n",
    "key_topics = [t for t in topic_distribution.index if t != -1][:5]\n",
    "\n",
    "for topic_id in key_topics:\n",
    "    theme_name = topic_model.get_topic_info().loc[topic_model.get_topic_info()[\"Topic\"] == topic_id, \"Name\"].values[0]\n",
    "    print(f\"\\n--- Theme: {theme_name} ---\")\n",
    "    rep_docs = topic_model.get_representative_docs(topic_id)\n",
    "    for i, doc in enumerate(rep_docs[:3]):\n",
    "        print(f\"{i+1}. {doc[:200]}...\")"
   ]
  }
 ],
 "metadata": {
  "kernelspec": {
   "display_name": "Python 3",
   "language": "python",
   "name": "python3"
  },
  "language_info": {
   "codemirror_mode": {
    "name": "ipython",
    "version": 3
   },
   "file_extension": ".py",
   "mimetype": "text/x-python",
   "name": "python",
   "nbconvert_exporter": "python",
   "pygments_lexer": "ipython3",
   "version": "3.10.10"
  }
 },
 "nbformat": 4,
 "nbformat_minor": 5
}
