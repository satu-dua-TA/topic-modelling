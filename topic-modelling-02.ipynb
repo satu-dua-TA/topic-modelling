{
 "cells": [
  {
   "cell_type": "code",
   "execution_count": 1,
   "id": "e4b7ae2a",
   "metadata": {},
   "outputs": [],
   "source": [
    "import os\n",
    "import pandas as pd\n",
    "import numpy as np\n",
    "import matplotlib.pyplot as plt\n",
    "from bertopic import BERTopic\n",
    "from bertopic.vectorizers import ClassTfidfTransformer\n",
    "from bertopic.dimensionality import BaseDimensionalityReduction\n",
    "from sklearn.feature_extraction.text import CountVectorizer\n",
    "from umap import UMAP\n",
    "from hdbscan import HDBSCAN\n",
    "from sentence_transformers import SentenceTransformer"
   ]
  },
  {
   "cell_type": "code",
   "execution_count": 2,
   "metadata": {},
   "outputs": [],
   "source": [
    "df_02 = pd.read_csv('data/stemmed_merged_kubu_02.csv')"
   ]
  },
  {
   "cell_type": "code",
   "execution_count": 3,
   "id": "0dd53691",
   "metadata": {},
   "outputs": [],
   "source": [
    "# Enhanced stopwords list for presidential election dataset\n",
    "indo_stopwords = [\n",
    "    # Basic Indonesian stopwords (keep these)\n",
    "    \"yang\", \"dan\", \"di\", \"dengan\", \"untuk\", \"dari\", \"ke\", \"pada\", \"ini\", \"itu\",\n",
    "    \"atau\", \"ada\", \"juga\", \"dalam\", \"saya\", \"kamu\", \"anda\", \"mereka\", \"kita\", \"kami\",\n",
    "    \"dia\", \"nya\", \"adalah\", \"akan\", \"oleh\", \"seperti\", \"telah\", \"sudah\", \"bisa\", \"dapat\",\n",
    "    \"tidak\", \"tak\", \"jangan\", \"ya\", \"via\", \"yg\", \"dgn\", \"utk\", \"dr\", \"pd\", \"dlm\", \"sdh\", \"tdk\",\n",
    "    \n",
    "    # Common tweet/social media terms\n",
    "    \"via\", \"rt\", \"dm\", \"pm\", \"cc\", \"wkwk\", \"haha\", \"woi\", \"hey\", \"ah\", \"eh\", \"oh\", \"hmm\",\n",
    "    \"uwu\", \"btw\", \"omg\", \"lol\", \"min\", \"admin\", \"hehe\", \"wkwkwk\", \"awokawok\", \"hahaha\",\n",
    "\n",
    "        # Locations \n",
    "    \"indonesia\", \"jakarta\", \"jawa\", \"barat\", \"timur\", \"tengah\", \"sumatra\", \"bali\", \"aceh\", \"selatan\", \n",
    "    \"utara\", \"kota\", \"desa\", \"daerah\", \"wilayah\", \"provinsi\", \"kabupaten\", \"negara\", \"republik\",\n",
    "\n",
    "    \"mas\", \"pak\", \"bu\", \"bapak\", \"ibu\", \"om\", \"tante\", \"mbak\", \"bro\", \"sis\", \"bang\", \"abang\",\n",
    "    \"saudara\", \"laki\", \"wanita\", \"kak\", \"adek\", \"adik\", \"kakak\", \"anak\", \"bung\",\n",
    "\n",
    "    #candidate names\n",
    "    \"prabowo\", \"jokowi\", \"gibran\", \"subianto\", \"rakabuming\", \"anies\", \"ganjar\",\n",
    "    \n",
    "]"
   ]
  },
  {
   "cell_type": "code",
   "execution_count": 4,
   "id": "5c41bd7b",
   "metadata": {},
   "outputs": [
    {
     "name": "stderr",
     "output_type": "stream",
     "text": [
      "2025-05-22 19:25:04,222 - BERTopic - Embedding - Transforming documents to embeddings.\n"
     ]
    },
    {
     "data": {
      "application/vnd.jupyter.widget-view+json": {
       "model_id": "b6a1b3a89cbe43aba0b9a57d611ee1d5",
       "version_major": 2,
       "version_minor": 0
      },
      "text/plain": [
       "Batches:   0%|          | 0/2951 [00:00<?, ?it/s]"
      ]
     },
     "metadata": {},
     "output_type": "display_data"
    },
    {
     "name": "stderr",
     "output_type": "stream",
     "text": [
      "2025-05-22 19:25:19,207 - BERTopic - Embedding - Completed ✓\n",
      "2025-05-22 19:25:19,208 - BERTopic - Dimensionality - Fitting the dimensionality reduction algorithm\n",
      "2025-05-22 19:26:16,727 - BERTopic - Dimensionality - Completed ✓\n",
      "2025-05-22 19:26:16,728 - BERTopic - Cluster - Start clustering the reduced embeddings\n",
      "2025-05-22 22:02:41,757 - BERTopic - Cluster - Completed ✓\n",
      "2025-05-22 22:02:41,758 - BERTopic - Representation - Extracting topics using c-TF-IDF for topic reduction.\n",
      "2025-05-22 22:02:43,611 - BERTopic - Representation - Completed ✓\n",
      "2025-05-22 22:02:43,611 - BERTopic - Topic reduction - Reducing number of topics\n",
      "2025-05-22 22:02:43,661 - BERTopic - Representation - Fine-tuning topics using representation models.\n",
      "2025-05-22 22:02:45,006 - BERTopic - Representation - Completed ✓\n",
      "2025-05-22 22:02:45,011 - BERTopic - Topic reduction - Reduced number of topics from 910 to 15\n"
     ]
    }
   ],
   "source": [
    "\n",
    "vectorizer = CountVectorizer(\n",
    "    stop_words=indo_stopwords,\n",
    "    ngram_range=(1, 3),  # Keep bigrams and trigrams for political phrases\n",
    "    min_df=5,            # Lower threshold to capture more specific topics\n",
    "    max_df=0.7           # Stricter upper bound to remove very common terms\n",
    ")\n",
    "\n",
    "# Configure UMAP for better clustering of political content\n",
    "umap_model = UMAP(\n",
    "    n_neighbors=15,      # Smaller neighborhood for more specific clusters\n",
    "    n_components=5,      \n",
    "    min_dist=0.0,        # Adjusted for better separation\n",
    "    metric='cosine',\n",
    "    random_state=42\n",
    ")\n",
    "\n",
    "# More sensitive clustering for political topics\n",
    "hdbscan_model = HDBSCAN(\n",
    "    min_cluster_size=10,  # Smaller clusters to capture specific campaign themes\n",
    "    min_samples=5,       # More lenient sample requirement\n",
    "    metric='euclidean',\n",
    "    cluster_selection_method='eom',\n",
    "    prediction_data=True\n",
    ")\n",
    "\n",
    "# Improved c-TF-IDF weighting\n",
    "ctfidf_model = ClassTfidfTransformer(\n",
    "    reduce_frequent_words=True,\n",
    "    bm25_weighting=True\n",
    ")\n",
    "\n",
    "embedding_model = SentenceTransformer(\n",
    "    'distiluse-base-multilingual-cased-v1'\n",
    ")\n",
    "\n",
    "# Configure BERTopic for Indonesian political content\n",
    "topic_model = BERTopic(\n",
    "    language=\"multilingual\",  # Keep multilingual for Indonesian\n",
    "    calculate_probabilities=True,\n",
    "    verbose=True,\n",
    "    nr_topics=15,             # Reduced from 15 to get more focused topics\n",
    "    min_topic_size=5,         # Smaller topics to capture campaign themes\n",
    "    umap_model=umap_model,\n",
    "    hdbscan_model=hdbscan_model,\n",
    "    ctfidf_model=ctfidf_model,\n",
    "    vectorizer_model=vectorizer,\n",
    "    embedding_model=embedding_model,\n",
    ")\n",
    "\n",
    "\n",
    "# Fit the model\n",
    "topics, probs = topic_model.fit_transform(df_02['full_text'].tolist())"
   ]
  },
  {
   "cell_type": "code",
   "execution_count": 5,
   "id": "122d2eb6",
   "metadata": {},
   "outputs": [],
   "source": [
    "# Define custom topic labels\n",
    "topic_labels = {}\n",
    "for topic_id in topic_model.get_topic_info()[\"Topic\"]:\n",
    "    if topic_id == -1:\n",
    "        topic_labels[topic_id] = \"Outlier\"\n",
    "        continue\n",
    "        \n",
    "    # Get top words for the topic\n",
    "    words = [word for word, _ in topic_model.get_topic(topic_id)[:5]]\n",
    "    \n",
    "    # Map topics to specific campaign themes\n",
    "    if any(term in words for term in [\"palestina\", \"doa\", \"israel\", \"gaza\"]):\n",
    "        topic_labels[topic_id] = \"Kampanye & Isu Palestina\"\n",
    "    elif any(term in words for term in [\"aceh\", \"warga\", \"sambut\", \"bandara\", \"kedatagan\"]):\n",
    "        topic_labels[topic_id] = \"Kunjungan Kampanye Aceh\"\n",
    "    elif any(term in words for term in [\"sumbar\", \"sumatra\", \"safari\", \"bukittinggi\"]):\n",
    "        topic_labels[topic_id] = \"Kampanye Sumatra Barat\"\n",
    "    elif any(term in words for term in [\"adil\", \"makmur\", \"sejahtera\", \"ekonomi\"]):\n",
    "        topic_labels[topic_id] = \"Visi Ekonomi & Kemakmuran\"\n",
    "    elif any(term in words for term in [\"amin\", \"bismillah\", \"islam\", \"muslim\"]):\n",
    "        topic_labels[topic_id] = \"Dukungan Religius\"\n",
    "    elif any(term in words for term in [\"pesantren\", \"santri\", \"kiai\", \"ulama\"]):\n",
    "        topic_labels[topic_id] = \"Dukungan Pesantren\"\n",
    "    elif any(term in words for term in [\"konstitusi\", \"mk\", \"etik\", \"putus\"]):\n",
    "        topic_labels[topic_id] = \"Polemik Mahkamah Konstitusi\"\n",
    "    elif any(term in words for term in [\"solo\", \"surakarta\", \"wali\"]):\n",
    "        topic_labels[topic_id] = \"Kinerja di Solo\"\n",
    "    elif any(term in words for term in [\"elektabilitas\", \"unggul\", \"menang\", \"putar\"]):\n",
    "        topic_labels[topic_id] = \"Elektabilitas & Polling\"\n",
    "    elif any(term in words for term in [\"joget\", \"pidato\", \"debat\", \"acara\"]):\n",
    "        topic_labels[topic_id] = \"Penampilan Pidato & Debat\"\n",
    "    else:\n",
    "        # Use top 3 words as label for other topics\n",
    "        topic_labels[topic_id] = \" & \".join(words[:3])\n",
    "\n",
    "# Apply custom labels\n",
    "topic_model.set_topic_labels(topic_labels)"
   ]
  },
  {
   "cell_type": "code",
   "execution_count": 6,
   "id": "f18ea077",
   "metadata": {},
   "outputs": [],
   "source": [
    "from wordcloud import WordCloud"
   ]
  },
  {
   "cell_type": "code",
   "execution_count": 7,
   "id": "a5666bfd",
   "metadata": {},
   "outputs": [
    {
     "name": "stdout",
     "output_type": "stream",
     "text": [
      "\n",
      "Improved Topic Information:\n",
      "   Topic  Count                                               Name  \\\n",
      "0     -1  31835       -1_pasang calon 02_calon 02_dukung 02_buzzer   \n",
      "1      0  38598                  0_debat_02 menang_dukung 02_kayak   \n",
      "2      1  15370                1_pilih presiden_survei_putar_kayak   \n",
      "3      2   6642                        2_politik_raka_partai_juang   \n",
      "4      3    916                        3_program_makan_gratis_food   \n",
      "5      4    421           4_palestina_israel_profesional_abu janda   \n",
      "6      5    172               5_ekonomi_tumbuh_infrastruktur_cipta   \n",
      "7      6    123             6_online_direct message_message_direct   \n",
      "8      7     85  7_sistem_alat utama sistem_utama sistem_alat u...   \n",
      "9      8     82                   8_energi_hijau_positif_inspirasi   \n",
      "\n",
      "                                  CustomName  \\\n",
      "0                                    Outlier   \n",
      "1                  Penampilan Pidato & Debat   \n",
      "2                    Elektabilitas & Polling   \n",
      "3                    politik & raka & partai   \n",
      "4                   program & makan & gratis   \n",
      "5                   Kampanye & Isu Palestina   \n",
      "6                  Visi Ekonomi & Kemakmuran   \n",
      "7          online & direct message & message   \n",
      "8  sistem & alat utama sistem & utama sistem   \n",
      "9                   energi & hijau & positif   \n",
      "\n",
      "                                      Representation  \\\n",
      "0  [pasang calon 02, calon 02, dukung 02, buzzer,...   \n",
      "1  [debat, 02 menang, dukung 02, kayak, calon 02,...   \n",
      "2  [pilih presiden, survei, putar, kayak, suara, ...   \n",
      "3  [politik, raka, partai, juang, nasional, tenta...   \n",
      "4  [program, makan, gratis, food, food estate, es...   \n",
      "5  [palestina, israel, profesional, abu janda, ja...   \n",
      "6  [ekonomi, tumbuh, infrastruktur, cipta, pakbow...   \n",
      "7  [online, direct message, message, direct, ojek...   \n",
      "8  [sistem, alat utama sistem, utama sistem, alat...   \n",
      "9  [energi, hijau, positif, inspirasi, pelopor, s...   \n",
      "\n",
      "                                 Representative_Docs  \n",
      "0  [bingung pilih 02 debat ide gagas calon wakil ...  \n",
      "1  [asyik nih calon presiden calon wakil presiden...  \n",
      "2  [prabowo pokok rusak incumbent fasilitas negar...  \n",
      "3  [temu presiden jokowi ketua partai politik usu...  \n",
      "4  [kepincut program makan siang susu gratis bsm ...  \n",
      "5  [bela palestina dukung 02 fix hipokrit peduli ...  \n",
      "6  [prabowo top visi pakprabowo masgibran naik tu...  \n",
      "7  [prabowo direct message direct message kunci, ...  \n",
      "8  [prabowo subianto dana alat utama sistem tahan...  \n",
      "9  [gibran semangat energi hijau contoh, gibran h...  \n",
      "\n",
      "Campaign Themes for Ganjar-Mahfud:\n",
      "Theme: 0_debat_02 menang_dukung 02_kayak\n",
      "Keywords: debat, 02 menang, dukung 02, kayak, calon 02, pasang calon 02, data, presiden 02\n",
      "Document count: 38598\n",
      "--------------------------------------------------\n",
      "Theme: 1_pilih presiden_survei_putar_kayak\n",
      "Keywords: pilih presiden, survei, putar, kayak, suara, kampanye, kerja, maju\n",
      "Document count: 15370\n",
      "--------------------------------------------------\n",
      "Theme: 2_politik_raka_partai_juang\n",
      "Keywords: politik, raka, partai, juang, nasional, tentara nasional, tentara, positif\n",
      "Document count: 6642\n",
      "--------------------------------------------------\n",
      "Theme: 3_program_makan_gratis_food\n",
      "Keywords: program, makan, gratis, food, food estate, estate, makan siang, siang\n",
      "Document count: 916\n",
      "--------------------------------------------------\n",
      "Theme: 4_palestina_israel_profesional_abu janda\n",
      "Keywords: palestina, israel, profesional, abu janda, janda, gaza, bela, abu\n",
      "Document count: 421\n",
      "--------------------------------------------------\n",
      "Theme: 5_ekonomi_tumbuh_infrastruktur_cipta\n",
      "Keywords: ekonomi, tumbuh, infrastruktur, cipta, pakbowopasti, kitamilihnya pakbowopasti, kitamilihnya, pakprabowo masgibran\n",
      "Document count: 172\n",
      "--------------------------------------------------\n",
      "Theme: 6_online_direct message_message_direct\n",
      "Keywords: online, direct message, message, direct, ojek online, ojek, judi online, judi\n",
      "Document count: 123\n",
      "--------------------------------------------------\n",
      "Theme: 7_sistem_alat utama sistem_utama sistem_alat utama\n",
      "Keywords: sistem, alat utama sistem, utama sistem, alat utama, sistem tahan, utama sistem tahan, alat, utama\n",
      "Document count: 85\n",
      "--------------------------------------------------\n",
      "Theme: 8_energi_hijau_positif_inspirasi\n",
      "Keywords: energi, hijau, positif, inspirasi, pelopor, semangat, ide, raja\n",
      "Document count: 82\n",
      "--------------------------------------------------\n",
      "Theme: 9_stres_teori_02 stres_konspirasi\n",
      "Keywords: stres, teori, 02 stres, konspirasi, praktik, handal, khayal, respek\n",
      "Document count: 78\n",
      "--------------------------------------------------\n",
      "Theme: 10_proses_proses hukum_proses pilih_lapor\n",
      "Keywords: proses, proses hukum, proses pilih, lapor, makzul, langgar, curang proses, bawa berkah\n",
      "Document count: 44\n",
      "--------------------------------------------------\n",
      "Theme: 11_sungai_abdul_wangi_besi\n",
      "Keywords: sungai, abdul, wangi, besi, sultan, sri, kucing, istana\n",
      "Document count: 21\n",
      "--------------------------------------------------\n",
      "Theme: 12_daya saing_misi 02_selaras_inklusif\n",
      "Keywords: daya saing, misi 02, selaras, inklusif, perintah dukung, saing, bangun, rakyat milik\n",
      "Document count: 13\n",
      "--------------------------------------------------\n",
      "Theme: 13_amerika_kapitalis_ciut_intelijen\n",
      "Keywords: amerika, kapitalis, ciut, intelijen, telepon, apa dukung, samar, spill\n",
      "Document count: 10\n",
      "--------------------------------------------------\n"
     ]
    },
    {
     "data": {
      "image/png": "[encoded data removed]",
      "text/plain": [
       "<Figure size 1200x600 with 1 Axes>"
      ]
     },
     "metadata": {},
     "output_type": "display_data"
    },
    {
     "data": {
      "application/vnd.plotly.v1+json": {
       "config": {
        "plotlyServerURL": "https://plot.ly"
       },
       "data": [
        {
         "customdata": [
          [
           0,
           "debat | 02 menang | dukung 02 | kayak | calon 02",
           38598
          ],
          [
           1,
           "pilih presiden | survei | putar | kayak | suara",
           15370
          ],
          [
           2,
           "politik | raka | partai | juang | nasional",
           6642
          ],
          [
           3,
           "program | makan | gratis | food | food estate",
           916
          ],
          [
           4,
           "palestina | israel | profesional | abu janda | janda",
           421
          ],
          [
           5,
           "ekonomi | tumbuh | infrastruktur | cipta | pakbowopasti",
           172
          ],
          [
           6,
           "online | direct message | message | direct | ojek online",
           123
          ],
          [
           7,
           "sistem | alat utama sistem | utama sistem | alat utama | sistem tahan",
           85
          ],
          [
           8,
           "energi | hijau | positif | inspirasi | pelopor",
           82
          ],
          [
           9,
           "stres | teori | 02 stres | konspirasi | praktik",
           78
          ],
          [
           10,
           "proses | proses hukum | proses pilih | lapor | makzul",
           44
          ],
          [
           11,
           "sungai | abdul | wangi | besi | sultan",
           21
          ],
          [
           12,
           "daya saing | misi 02 | selaras | inklusif | perintah dukung",
           13
          ],
          [
           13,
           "amerika | kapitalis | ciut | intelijen | telepon",
           10
          ]
         ],
         "hovertemplate": "<b>Topic %{customdata[0]}</b><br>%{customdata[1]}<br>Size: %{customdata[2]}",
         "legendgroup": "",
         "marker": {
          "color": "#B0BEC5",
          "line": {
           "color": "DarkSlateGrey",
           "width": 2
          },
          "size": {
           "bdata": "xpYAAAo8AADyGQAAlAMAAKUBAACsAAAAewAAAFUAAABSAAAATgAAACwAAAAVAAAADQAAAAoAAAA=",
           "dtype": "i4"
          },
          "sizemode": "area",
          "sizeref": 24.12375,
          "symbol": "circle"
         },
         "mode": "markers",
         "name": "",
         "orientation": "v",
         "showlegend": false,
         "type": "scatter",
         "x": {
          "bdata": "oUqKQXt2l0Hnt5JBQU2RQVNwnEHZDpZBmIeUQWz+lEFV/ZlBYaGTQXk8j0GD7otB7keMQeb1lEE=",
          "dtype": "f4"
         },
         "xaxis": "x",
         "y": {
          "bdata": "t9qFQHSM3UA/j8BAYhTzQMrj+kDOir5AfUyUQOuiBUGJhehAGBtsQGdVgEATYmhAgviQQChY4EA=",
          "dtype": "f4"
         },
         "yaxis": "y"
        }
       ],
       "layout": {
        "annotations": [
         {
          "showarrow": false,
          "text": "D1",
          "x": 14.693473815917969,
          "y": 6.34572696685791,
          "yshift": 10
         },
         {
          "showarrow": false,
          "text": "D2",
          "x": 18.590774536132812,
          "xshift": 10,
          "y": 9.60511589050293
         }
        ],
        "height": 650,
        "hoverlabel": {
         "bgcolor": "white",
         "font": {
          "family": "Rockwell",
          "size": 16
         }
        },
        "legend": {
         "itemsizing": "constant",
         "tracegroupgap": 0
        },
        "margin": {
         "t": 60
        },
        "shapes": [
         {
          "line": {
           "color": "#CFD8DC",
           "width": 2
          },
          "type": "line",
          "x0": 18.590774536132812,
          "x1": 18.590774536132812,
          "y0": 3.0863380432128906,
          "y1": 9.60511589050293
         },
         {
          "line": {
           "color": "#9E9E9E",
           "width": 2
          },
          "type": "line",
          "x0": 14.693473815917969,
          "x1": 22.488073348999023,
          "y0": 6.34572696685791,
          "y1": 6.34572696685791
         }
        ],
        "sliders": [
         {
          "active": 0,
          "pad": {
           "t": 50
          },
          "steps": [
           {
            "args": [
             {
              "marker.color": [
               [
                "red",
                "#B0BEC5",
                "#B0BEC5",
                "#B0BEC5",
                "#B0BEC5",
                "#B0BEC5",
                "#B0BEC5",
                "#B0BEC5",
                "#B0BEC5",
                "#B0BEC5",
                "#B0BEC5",
                "#B0BEC5",
                "#B0BEC5",
                "#B0BEC5"
               ]
              ]
             }
            ],
            "label": "Topic 0",
            "method": "update"
           },
           {
            "args": [
             {
              "marker.color": [
               [
                "#B0BEC5",
                "red",
                "#B0BEC5",
                "#B0BEC5",
                "#B0BEC5",
                "#B0BEC5",
                "#B0BEC5",
                "#B0BEC5",
                "#B0BEC5",
                "#B0BEC5",
                "#B0BEC5",
                "#B0BEC5",
                "#B0BEC5",
                "#B0BEC5"
               ]
              ]
             }
            ],
            "label": "Topic 1",
            "method": "update"
           },
           {
            "args": [
             {
              "marker.color": [
               [
                "#B0BEC5",
                "#B0BEC5",
                "red",
                "#B0BEC5",
                "#B0BEC5",
                "#B0BEC5",
                "#B0BEC5",
                "#B0BEC5",
                "#B0BEC5",
                "#B0BEC5",
                "#B0BEC5",
                "#B0BEC5",
                "#B0BEC5",
                "#B0BEC5"
               ]
              ]
             }
            ],
            "label": "Topic 2",
            "method": "update"
           },
           {
            "args": [
             {
              "marker.color": [
               [
                "#B0BEC5",
                "#B0BEC5",
                "#B0BEC5",
                "red",
                "#B0BEC5",
                "#B0BEC5",
                "#B0BEC5",
                "#B0BEC5",
                "#B0BEC5",
                "#B0BEC5",
                "#B0BEC5",
                "#B0BEC5",
                "#B0BEC5",
                "#B0BEC5"
               ]
              ]
             }
            ],
            "label": "Topic 3",
            "method": "update"
           },
           {
            "args": [
             {
              "marker.color": [
               [
                "#B0BEC5",
                "#B0BEC5",
                "#B0BEC5",
                "#B0BEC5",
                "red",
                "#B0BEC5",
                "#B0BEC5",
                "#B0BEC5",
                "#B0BEC5",
                "#B0BEC5",
                "#B0BEC5",
                "#B0BEC5",
                "#B0BEC5",
                "#B0BEC5"
               ]
              ]
             }
            ],
            "label": "Topic 4",
            "method": "update"
           },
           {
            "args": [
             {
              "marker.color": [
               [
                "#B0BEC5",
                "#B0BEC5",
                "#B0BEC5",
                "#B0BEC5",
                "#B0BEC5",
                "red",
                "#B0BEC5",
                "#B0BEC5",
                "#B0BEC5",
                "#B0BEC5",
                "#B0BEC5",
                "#B0BEC5",
                "#B0BEC5",
                "#B0BEC5"
               ]
              ]
             }
            ],
            "label": "Topic 5",
            "method": "update"
           },
           {
            "args": [
             {
              "marker.color": [
               [
                "#B0BEC5",
                "#B0BEC5",
                "#B0BEC5",
                "#B0BEC5",
                "#B0BEC5",
                "#B0BEC5",
                "red",
                "#B0BEC5",
                "#B0BEC5",
                "#B0BEC5",
                "#B0BEC5",
                "#B0BEC5",
                "#B0BEC5",
                "#B0BEC5"
               ]
              ]
             }
            ],
            "label": "Topic 6",
            "method": "update"
           },
           {
            "args": [
             {
              "marker.color": [
               [
                "#B0BEC5",
                "#B0BEC5",
                "#B0BEC5",
                "#B0BEC5",
                "#B0BEC5",
                "#B0BEC5",
                "#B0BEC5",
                "red",
                "#B0BEC5",
                "#B0BEC5",
                "#B0BEC5",
                "#B0BEC5",
                "#B0BEC5",
                "#B0BEC5"
               ]
              ]
             }
            ],
            "label": "Topic 7",
            "method": "update"
           },
           {
            "args": [
             {
              "marker.color": [
               [
                "#B0BEC5",
                "#B0BEC5",
                "#B0BEC5",
                "#B0BEC5",
                "#B0BEC5",
                "#B0BEC5",
                "#B0BEC5",
                "#B0BEC5",
                "red",
                "#B0BEC5",
                "#B0BEC5",
                "#B0BEC5",
                "#B0BEC5",
                "#B0BEC5"
               ]
              ]
             }
            ],
            "label": "Topic 8",
            "method": "update"
           },
           {
            "args": [
             {
              "marker.color": [
               [
                "#B0BEC5",
                "#B0BEC5",
                "#B0BEC5",
                "#B0BEC5",
                "#B0BEC5",
                "#B0BEC5",
                "#B0BEC5",
                "#B0BEC5",
                "#B0BEC5",
                "red",
                "#B0BEC5",
                "#B0BEC5",
                "#B0BEC5",
                "#B0BEC5"
               ]
              ]
             }
            ],
            "label": "Topic 9",
            "method": "update"
           },
           {
            "args": [
             {
              "marker.color": [
               [
                "#B0BEC5",
                "#B0BEC5",
                "#B0BEC5",
                "#B0BEC5",
                "#B0BEC5",
                "#B0BEC5",
                "#B0BEC5",
                "#B0BEC5",
                "#B0BEC5",
                "#B0BEC5",
                "red",
                "#B0BEC5",
                "#B0BEC5",
                "#B0BEC5"
               ]
              ]
             }
            ],
            "label": "Topic 10",
            "method": "update"
           },
           {
            "args": [
             {
              "marker.color": [
               [
                "#B0BEC5",
                "#B0BEC5",
                "#B0BEC5",
                "#B0BEC5",
                "#B0BEC5",
                "#B0BEC5",
                "#B0BEC5",
                "#B0BEC5",
                "#B0BEC5",
                "#B0BEC5",
                "#B0BEC5",
                "red",
                "#B0BEC5",
                "#B0BEC5"
               ]
              ]
             }
            ],
            "label": "Topic 11",
            "method": "update"
           },
           {
            "args": [
             {
              "marker.color": [
               [
                "#B0BEC5",
                "#B0BEC5",
                "#B0BEC5",
                "#B0BEC5",
                "#B0BEC5",
                "#B0BEC5",
                "#B0BEC5",
                "#B0BEC5",
                "#B0BEC5",
                "#B0BEC5",
                "#B0BEC5",
                "#B0BEC5",
                "red",
                "#B0BEC5"
               ]
              ]
             }
            ],
            "label": "Topic 12",
            "method": "update"
           },
           {
            "args": [
             {
              "marker.color": [
               [
                "#B0BEC5",
                "#B0BEC5",
                "#B0BEC5",
                "#B0BEC5",
                "#B0BEC5",
                "#B0BEC5",
                "#B0BEC5",
                "#B0BEC5",
                "#B0BEC5",
                "#B0BEC5",
                "#B0BEC5",
                "#B0BEC5",
                "#B0BEC5",
                "red"
               ]
              ]
             }
            ],
            "label": "Topic 13",
            "method": "update"
           }
          ]
         }
        ],
        "template": {
         "data": {
          "bar": [
           {
            "error_x": {
             "color": "rgb(36,36,36)"
            },
            "error_y": {
             "color": "rgb(36,36,36)"
            },
            "marker": {
             "line": {
              "color": "white",
              "width": 0.5
             },
             "pattern": {
              "fillmode": "overlay",
              "size": 10,
              "solidity": 0.2
             }
            },
            "type": "bar"
           }
          ],
          "barpolar": [
           {
            "marker": {
             "line": {
              "color": "white",
              "width": 0.5
             },
             "pattern": {
              "fillmode": "overlay",
              "size": 10,
              "solidity": 0.2
             }
            },
            "type": "barpolar"
           }
          ],
          "carpet": [
           {
            "aaxis": {
             "endlinecolor": "rgb(36,36,36)",
             "gridcolor": "white",
             "linecolor": "white",
             "minorgridcolor": "white",
             "startlinecolor": "rgb(36,36,36)"
            },
            "baxis": {
             "endlinecolor": "rgb(36,36,36)",
             "gridcolor": "white",
             "linecolor": "white",
             "minorgridcolor": "white",
             "startlinecolor": "rgb(36,36,36)"
            },
            "type": "carpet"
           }
          ],
          "choropleth": [
           {
            "colorbar": {
             "outlinewidth": 1,
             "tickcolor": "rgb(36,36,36)",
             "ticks": "outside"
            },
            "type": "choropleth"
           }
          ],
          "contour": [
           {
            "colorbar": {
             "outlinewidth": 1,
             "tickcolor": "rgb(36,36,36)",
             "ticks": "outside"
            },
            "colorscale": [
             [
              0,
              "#440154"
             ],
             [
              0.1111111111111111,
              "#482878"
             ],
             [
              0.2222222222222222,
              "#3e4989"
             ],
             [
              0.3333333333333333,
              "#31688e"
             ],
             [
              0.4444444444444444,
              "#26828e"
             ],
             [
              0.5555555555555556,
              "#1f9e89"
             ],
             [
              0.6666666666666666,
              "#35b779"
             ],
             [
              0.7777777777777778,
              "#6ece58"
             ],
             [
              0.8888888888888888,
              "#b5de2b"
             ],
             [
              1,
              "#fde725"
             ]
            ],
            "type": "contour"
           }
          ],
          "contourcarpet": [
           {
            "colorbar": {
             "outlinewidth": 1,
             "tickcolor": "rgb(36,36,36)",
             "ticks": "outside"
            },
            "type": "contourcarpet"
           }
          ],
          "heatmap": [
           {
            "colorbar": {
             "outlinewidth": 1,
             "tickcolor": "rgb(36,36,36)",
             "ticks": "outside"
            },
            "colorscale": [
             [
              0,
              "#440154"
             ],
             [
              0.1111111111111111,
              "#482878"
             ],
             [
              0.2222222222222222,
              "#3e4989"
             ],
             [
              0.3333333333333333,
              "#31688e"
             ],
             [
              0.4444444444444444,
              "#26828e"
             ],
             [
              0.5555555555555556,
              "#1f9e89"
             ],
             [
              0.6666666666666666,
              "#35b779"
             ],
             [
              0.7777777777777778,
              "#6ece58"
             ],
             [
              0.8888888888888888,
              "#b5de2b"
             ],
             [
              1,
              "#fde725"
             ]
            ],
            "type": "heatmap"
           }
          ],
          "histogram": [
           {
            "marker": {
             "line": {
              "color": "white",
              "width": 0.6
             }
            },
            "type": "histogram"
           }
          ],
          "histogram2d": [
           {
            "colorbar": {
             "outlinewidth": 1,
             "tickcolor": "rgb(36,36,36)",
             "ticks": "outside"
            },
            "colorscale": [
             [
              0,
              "#440154"
             ],
             [
              0.1111111111111111,
              "#482878"
             ],
             [
              0.2222222222222222,
              "#3e4989"
             ],
             [
              0.3333333333333333,
              "#31688e"
             ],
             [
              0.4444444444444444,
              "#26828e"
             ],
             [
              0.5555555555555556,
              "#1f9e89"
             ],
             [
              0.6666666666666666,
              "#35b779"
             ],
             [
              0.7777777777777778,
              "#6ece58"
             ],
             [
              0.8888888888888888,
              "#b5de2b"
             ],
             [
              1,
              "#fde725"
             ]
            ],
            "type": "histogram2d"
           }
          ],
          "histogram2dcontour": [
           {
            "colorbar": {
             "outlinewidth": 1,
             "tickcolor": "rgb(36,36,36)",
             "ticks": "outside"
            },
            "colorscale": [
             [
              0,
              "#440154"
             ],
             [
              0.1111111111111111,
              "#482878"
             ],
             [
              0.2222222222222222,
              "#3e4989"
             ],
             [
              0.3333333333333333,
              "#31688e"
             ],
             [
              0.4444444444444444,
              "#26828e"
             ],
             [
              0.5555555555555556,
              "#1f9e89"
             ],
             [
              0.6666666666666666,
              "#35b779"
             ],
             [
              0.7777777777777778,
              "#6ece58"
             ],
             [
              0.8888888888888888,
              "#b5de2b"
             ],
             [
              1,
              "#fde725"
             ]
            ],
            "type": "histogram2dcontour"
           }
          ],
          "mesh3d": [
           {
            "colorbar": {
             "outlinewidth": 1,
             "tickcolor": "rgb(36,36,36)",
             "ticks": "outside"
            },
            "type": "mesh3d"
           }
          ],
          "parcoords": [
           {
            "line": {
             "colorbar": {
              "outlinewidth": 1,
              "tickcolor": "rgb(36,36,36)",
              "ticks": "outside"
             }
            },
            "type": "parcoords"
           }
          ],
          "pie": [
           {
            "automargin": true,
            "type": "pie"
           }
          ],
          "scatter": [
           {
            "fillpattern": {
             "fillmode": "overlay",
             "size": 10,
             "solidity": 0.2
            },
            "type": "scatter"
           }
          ],
          "scatter3d": [
           {
            "line": {
             "colorbar": {
              "outlinewidth": 1,
              "tickcolor": "rgb(36,36,36)",
              "ticks": "outside"
             }
            },
            "marker": {
             "colorbar": {
              "outlinewidth": 1,
              "tickcolor": "rgb(36,36,36)",
              "ticks": "outside"
             }
            },
            "type": "scatter3d"
           }
          ],
          "scattercarpet": [
           {
            "marker": {
             "colorbar": {
              "outlinewidth": 1,
              "tickcolor": "rgb(36,36,36)",
              "ticks": "outside"
             }
            },
            "type": "scattercarpet"
           }
          ],
          "scattergeo": [
           {
            "marker": {
             "colorbar": {
              "outlinewidth": 1,
              "tickcolor": "rgb(36,36,36)",
              "ticks": "outside"
             }
            },
            "type": "scattergeo"
           }
          ],
          "scattergl": [
           {
            "marker": {
             "colorbar": {
              "outlinewidth": 1,
              "tickcolor": "rgb(36,36,36)",
              "ticks": "outside"
             }
            },
            "type": "scattergl"
           }
          ],
          "scattermap": [
           {
            "marker": {
             "colorbar": {
              "outlinewidth": 1,
              "tickcolor": "rgb(36,36,36)",
              "ticks": "outside"
             }
            },
            "type": "scattermap"
           }
          ],
          "scattermapbox": [
           {
            "marker": {
             "colorbar": {
              "outlinewidth": 1,
              "tickcolor": "rgb(36,36,36)",
              "ticks": "outside"
             }
            },
            "type": "scattermapbox"
           }
          ],
          "scatterpolar": [
           {
            "marker": {
             "colorbar": {
              "outlinewidth": 1,
              "tickcolor": "rgb(36,36,36)",
              "ticks": "outside"
             }
            },
            "type": "scatterpolar"
           }
          ],
          "scatterpolargl": [
           {
            "marker": {
             "colorbar": {
              "outlinewidth": 1,
              "tickcolor": "rgb(36,36,36)",
              "ticks": "outside"
             }
            },
            "type": "scatterpolargl"
           }
          ],
          "scatterternary": [
           {
            "marker": {
             "colorbar": {
              "outlinewidth": 1,
              "tickcolor": "rgb(36,36,36)",
              "ticks": "outside"
             }
            },
            "type": "scatterternary"
           }
          ],
          "surface": [
           {
            "colorbar": {
             "outlinewidth": 1,
             "tickcolor": "rgb(36,36,36)",
             "ticks": "outside"
            },
            "colorscale": [
             [
              0,
              "#440154"
             ],
             [
              0.1111111111111111,
              "#482878"
             ],
             [
              0.2222222222222222,
              "#3e4989"
             ],
             [
              0.3333333333333333,
              "#31688e"
             ],
             [
              0.4444444444444444,
              "#26828e"
             ],
             [
              0.5555555555555556,
              "#1f9e89"
             ],
             [
              0.6666666666666666,
              "#35b779"
             ],
             [
              0.7777777777777778,
              "#6ece58"
             ],
             [
              0.8888888888888888,
              "#b5de2b"
             ],
             [
              1,
              "#fde725"
             ]
            ],
            "type": "surface"
           }
          ],
          "table": [
           {
            "cells": {
             "fill": {
              "color": "rgb(237,237,237)"
             },
             "line": {
              "color": "white"
             }
            },
            "header": {
             "fill": {
              "color": "rgb(217,217,217)"
             },
             "line": {
              "color": "white"
             }
            },
            "type": "table"
           }
          ]
         },
         "layout": {
          "annotationdefaults": {
           "arrowhead": 0,
           "arrowwidth": 1
          },
          "autotypenumbers": "strict",
          "coloraxis": {
           "colorbar": {
            "outlinewidth": 1,
            "tickcolor": "rgb(36,36,36)",
            "ticks": "outside"
           }
          },
          "colorscale": {
           "diverging": [
            [
             0,
             "rgb(103,0,31)"
            ],
            [
             0.1,
             "rgb(178,24,43)"
            ],
            [
             0.2,
             "rgb(214,96,77)"
            ],
            [
             0.3,
             "rgb(244,165,130)"
            ],
            [
             0.4,
             "rgb(253,219,199)"
            ],
            [
             0.5,
             "rgb(247,247,247)"
            ],
            [
             0.6,
             "rgb(209,229,240)"
            ],
            [
             0.7,
             "rgb(146,197,222)"
            ],
            [
             0.8,
             "rgb(67,147,195)"
            ],
            [
             0.9,
             "rgb(33,102,172)"
            ],
            [
             1,
             "rgb(5,48,97)"
            ]
           ],
           "sequential": [
            [
             0,
             "#440154"
            ],
            [
             0.1111111111111111,
             "#482878"
            ],
            [
             0.2222222222222222,
             "#3e4989"
            ],
            [
             0.3333333333333333,
             "#31688e"
            ],
            [
             0.4444444444444444,
             "#26828e"
            ],
            [
             0.5555555555555556,
             "#1f9e89"
            ],
            [
             0.6666666666666666,
             "#35b779"
            ],
            [
             0.7777777777777778,
             "#6ece58"
            ],
            [
             0.8888888888888888,
             "#b5de2b"
            ],
            [
             1,
             "#fde725"
            ]
           ],
           "sequentialminus": [
            [
             0,
             "#440154"
            ],
            [
             0.1111111111111111,
             "#482878"
            ],
            [
             0.2222222222222222,
             "#3e4989"
            ],
            [
             0.3333333333333333,
             "#31688e"
            ],
            [
             0.4444444444444444,
             "#26828e"
            ],
            [
             0.5555555555555556,
             "#1f9e89"
            ],
            [
             0.6666666666666666,
             "#35b779"
            ],
            [
             0.7777777777777778,
             "#6ece58"
            ],
            [
             0.8888888888888888,
             "#b5de2b"
            ],
            [
             1,
             "#fde725"
            ]
           ]
          },
          "colorway": [
           "#1F77B4",
           "#FF7F0E",
           "#2CA02C",
           "#D62728",
           "#9467BD",
           "#8C564B",
           "#E377C2",
           "#7F7F7F",
           "#BCBD22",
           "#17BECF"
          ],
          "font": {
           "color": "rgb(36,36,36)"
          },
          "geo": {
           "bgcolor": "white",
           "lakecolor": "white",
           "landcolor": "white",
           "showlakes": true,
           "showland": true,
           "subunitcolor": "white"
          },
          "hoverlabel": {
           "align": "left"
          },
          "hovermode": "closest",
          "mapbox": {
           "style": "light"
          },
          "paper_bgcolor": "white",
          "plot_bgcolor": "white",
          "polar": {
           "angularaxis": {
            "gridcolor": "rgb(232,232,232)",
            "linecolor": "rgb(36,36,36)",
            "showgrid": false,
            "showline": true,
            "ticks": "outside"
           },
           "bgcolor": "white",
           "radialaxis": {
            "gridcolor": "rgb(232,232,232)",
            "linecolor": "rgb(36,36,36)",
            "showgrid": false,
            "showline": true,
            "ticks": "outside"
           }
          },
          "scene": {
           "xaxis": {
            "backgroundcolor": "white",
            "gridcolor": "rgb(232,232,232)",
            "gridwidth": 2,
            "linecolor": "rgb(36,36,36)",
            "showbackground": true,
            "showgrid": false,
            "showline": true,
            "ticks": "outside",
            "zeroline": false,
            "zerolinecolor": "rgb(36,36,36)"
           },
           "yaxis": {
            "backgroundcolor": "white",
            "gridcolor": "rgb(232,232,232)",
            "gridwidth": 2,
            "linecolor": "rgb(36,36,36)",
            "showbackground": true,
            "showgrid": false,
            "showline": true,
            "ticks": "outside",
            "zeroline": false,
            "zerolinecolor": "rgb(36,36,36)"
           },
           "zaxis": {
            "backgroundcolor": "white",
            "gridcolor": "rgb(232,232,232)",
            "gridwidth": 2,
            "linecolor": "rgb(36,36,36)",
            "showbackground": true,
            "showgrid": false,
            "showline": true,
            "ticks": "outside",
            "zeroline": false,
            "zerolinecolor": "rgb(36,36,36)"
           }
          },
          "shapedefaults": {
           "fillcolor": "black",
           "line": {
            "width": 0
           },
           "opacity": 0.3
          },
          "ternary": {
           "aaxis": {
            "gridcolor": "rgb(232,232,232)",
            "linecolor": "rgb(36,36,36)",
            "showgrid": false,
            "showline": true,
            "ticks": "outside"
           },
           "baxis": {
            "gridcolor": "rgb(232,232,232)",
            "linecolor": "rgb(36,36,36)",
            "showgrid": false,
            "showline": true,
            "ticks": "outside"
           },
           "bgcolor": "white",
           "caxis": {
            "gridcolor": "rgb(232,232,232)",
            "linecolor": "rgb(36,36,36)",
            "showgrid": false,
            "showline": true,
            "ticks": "outside"
           }
          },
          "title": {
           "x": 0.05
          },
          "xaxis": {
           "automargin": true,
           "gridcolor": "rgb(232,232,232)",
           "linecolor": "rgb(36,36,36)",
           "showgrid": false,
           "showline": true,
           "ticks": "outside",
           "title": {
            "standoff": 15
           },
           "zeroline": false,
           "zerolinecolor": "rgb(36,36,36)"
          },
          "yaxis": {
           "automargin": true,
           "gridcolor": "rgb(232,232,232)",
           "linecolor": "rgb(36,36,36)",
           "showgrid": false,
           "showline": true,
           "ticks": "outside",
           "title": {
            "standoff": 15
           },
           "zeroline": false,
           "zerolinecolor": "rgb(36,36,36)"
          }
         }
        },
        "title": {
         "font": {
          "color": "Black",
          "size": 22
         },
         "text": "<b>Intertopic Distance Map</b>",
         "x": 0.5,
         "xanchor": "center",
         "y": 0.95,
         "yanchor": "top"
        },
        "width": 650,
        "xaxis": {
         "anchor": "y",
         "domain": [
          0,
          1
         ],
         "range": [
          14.693473815917969,
          22.488073348999023
         ],
         "title": {
          "text": ""
         },
         "visible": false
        },
        "yaxis": {
         "anchor": "x",
         "domain": [
          0,
          1
         ],
         "range": [
          3.0863380432128906,
          9.60511589050293
         ],
         "title": {
          "text": ""
         },
         "visible": false
        }
       }
      }
     },
     "metadata": {},
     "output_type": "display_data"
    },
    {
     "data": {
      "application/vnd.plotly.v1+json": {
       "config": {
        "plotlyServerURL": "https://plot.ly"
       },
       "data": [
        {
         "hoverinfo": "text",
         "marker": {
          "color": "rgb(0,116,217)"
         },
         "mode": "lines",
         "type": "scatter",
         "x": {
          "bdata": "AAAAAAAAAAAAAAAAAADwPwAAAAAAAPA/AAAAAAAAAAA=",
          "dtype": "f8"
         },
         "xaxis": "x",
         "y": {
          "bdata": "AAAAAAAAFMAAAAAAAAAUwAAAAAAAAC7AAAAAAAAALsA=",
          "dtype": "f8"
         },
         "yaxis": "y"
        },
        {
         "hoverinfo": "text",
         "marker": {
          "color": "rgb(61,153,112)"
         },
         "mode": "lines",
         "type": "scatter",
         "x": {
          "bdata": "AAAAAAAAAACbnbiaub7tP5uduJq5vu0/AAAAAAAAAAA=",
          "dtype": "f8"
         },
         "xaxis": "x",
         "y": {
          "bdata": "AAAAAAAAOcAAAAAAAAA5wAAAAAAAgEHAAAAAAACAQcA=",
          "dtype": "f8"
         },
         "yaxis": "y"
        },
        {
         "hoverinfo": "text",
         "marker": {
          "color": "rgb(0,116,217)"
         },
         "mode": "lines",
         "type": "scatter",
         "x": {
          "bdata": "AAAAAAAA8D+mP2dxJTvwP6Y/Z3ElO/A/m524mrm+7T8=",
          "dtype": "f8"
         },
         "xaxis": "x",
         "y": {
          "bdata": "AAAAAAAAJMAAAAAAAAAkwAAAAAAAAD7AAAAAAAAAPsA=",
          "dtype": "f8"
         },
         "yaxis": "y"
        },
        {
         "hoverinfo": "text",
         "marker": {
          "color": "rgb(255,65,54)"
         },
         "mode": "lines",
         "type": "scatter",
         "x": {
          "bdata": "AAAAAAAAAABAjIdwJ9S5P0CMh3An1Lk/AAAAAAAAAAA=",
          "dtype": "f8"
         },
         "xaxis": "x",
         "y": {
          "bdata": "AAAAAADAUsAAAAAAAMBSwAAAAAAAQFXAAAAAAABAVcA=",
          "dtype": "f8"
         },
         "yaxis": "y"
        },
        {
         "hoverinfo": "text",
         "marker": {
          "color": "rgb(255,65,54)"
         },
         "mode": "lines",
         "type": "scatter",
         "x": {
          "bdata": "AAAAAAAAAACVPdOcmfe7P5U905yZ97s/QIyHcCfUuT8=",
          "dtype": "f8"
         },
         "xaxis": "x",
         "y": {
          "bdata": "AAAAAABAUMAAAAAAAEBQwAAAAAAAAFTAAAAAAAAAVMA=",
          "dtype": "f8"
         },
         "yaxis": "y"
        },
        {
         "hoverinfo": "text",
         "marker": {
          "color": "rgb(255,65,54)"
         },
         "mode": "lines",
         "type": "scatter",
         "x": {
          "bdata": "lT3TnJn3uz9q+ud6UrzXP2r653pSvNc/AAAAAAAAAAA=",
          "dtype": "f8"
         },
         "xaxis": "x",
         "y": {
          "bdata": "AAAAAAAgUsAAAAAAACBSwAAAAAAAwFfAAAAAAADAV8A=",
          "dtype": "f8"
         },
         "yaxis": "y"
        },
        {
         "hoverinfo": "text",
         "marker": {
          "color": "rgb(255,65,54)"
         },
         "mode": "lines",
         "type": "scatter",
         "x": {
          "bdata": "AAAAAAAAAACxxJ7ZdofkP7HEntl2h+Q/avrnelK81z8=",
          "dtype": "f8"
         },
         "xaxis": "x",
         "y": {
          "bdata": "AAAAAACAS8AAAAAAAIBLwAAAAAAA8FTAAAAAAADwVMA=",
          "dtype": "f8"
         },
         "yaxis": "y"
        },
        {
         "hoverinfo": "text",
         "marker": {
          "color": "rgb(255,65,54)"
         },
         "mode": "lines",
         "type": "scatter",
         "x": {
          "bdata": "scSe2XaH5D+47LSendjmP7jstJ6d2OY/AAAAAAAAAAA=",
          "dtype": "f8"
         },
         "xaxis": "x",
         "y": {
          "bdata": "AAAAAABYUcAAAAAAAFhRwAAAAAAAQFrAAAAAAABAWsA=",
          "dtype": "f8"
         },
         "yaxis": "y"
        },
        {
         "hoverinfo": "text",
         "marker": {
          "color": "rgb(255,65,54)"
         },
         "mode": "lines",
         "type": "scatter",
         "x": {
          "bdata": "AAAAAAAAAABXtORwZQLtP1e05HBlAu0/uOy0np3Y5j8=",
          "dtype": "f8"
         },
         "xaxis": "x",
         "y": {
          "bdata": "AAAAAACARsAAAAAAAIBGwAAAAAAAzFXAAAAAAADMVcA=",
          "dtype": "f8"
         },
         "yaxis": "y"
        },
        {
         "hoverinfo": "text",
         "marker": {
          "color": "rgb(35,205,205)"
         },
         "mode": "lines",
         "type": "scatter",
         "x": {
          "bdata": "AAAAAAAAAADYLq+RpYLtP9gur5Glgu0/AAAAAAAAAAA=",
          "dtype": "f8"
         },
         "xaxis": "x",
         "y": {
          "bdata": "AAAAAADAXMAAAAAAAMBcwAAAAAAAQF/AAAAAAABAX8A=",
          "dtype": "f8"
         },
         "yaxis": "y"
        },
        {
         "hoverinfo": "text",
         "marker": {
          "color": "rgb(35,205,205)"
         },
         "mode": "lines",
         "type": "scatter",
         "x": {
          "bdata": "2C6vkaWC7T87lDQMmSTuPzuUNAyZJO4/AAAAAAAAAAA=",
          "dtype": "f8"
         },
         "xaxis": "x",
         "y": {
          "bdata": "AAAAAAAAXsAAAAAAAABewAAAAAAA4GDAAAAAAADgYMA=",
          "dtype": "f8"
         },
         "yaxis": "y"
        },
        {
         "hoverinfo": "text",
         "marker": {
          "color": "rgb(0,116,217)"
         },
         "mode": "lines",
         "type": "scatter",
         "x": {
          "bdata": "V7TkcGUC7T9h+/XAT1DwP2H79cBPUPA/O5Q0DJkk7j8=",
          "dtype": "f8"
         },
         "xaxis": "x",
         "y": {
          "bdata": "AAAAAACGUMAAAAAAAIZQwAAAAAAA4F/AAAAAAADgX8A=",
          "dtype": "f8"
         },
         "yaxis": "y"
        },
        {
         "hoverinfo": "text",
         "marker": {
          "color": "rgb(0,116,217)"
         },
         "mode": "lines",
         "type": "scatter",
         "x": {
          "bdata": "pj9ncSU78D/3vXDFE5T0P/e9cMUTlPQ/Yfv1wE9Q8D8=",
          "dtype": "f8"
         },
         "xaxis": "x",
         "y": {
          "bdata": "AAAAAAAANMAAAAAAAAA0wAAAAAAAM1jAAAAAAAAzWMA=",
          "dtype": "f8"
         },
         "yaxis": "y"
        }
       ],
       "layout": {
        "autosize": false,
        "height": 410,
        "hoverlabel": {
         "bgcolor": "white",
         "font": {
          "family": "Rockwell",
          "size": 16
         }
        },
        "hovermode": "closest",
        "plot_bgcolor": "#ECEFF1",
        "showlegend": false,
        "template": {
         "data": {
          "bar": [
           {
            "error_x": {
             "color": "#2a3f5f"
            },
            "error_y": {
             "color": "#2a3f5f"
            },
            "marker": {
             "line": {
              "color": "white",
              "width": 0.5
             },
             "pattern": {
              "fillmode": "overlay",
              "size": 10,
              "solidity": 0.2
             }
            },
            "type": "bar"
           }
          ],
          "barpolar": [
           {
            "marker": {
             "line": {
              "color": "white",
              "width": 0.5
             },
             "pattern": {
              "fillmode": "overlay",
              "size": 10,
              "solidity": 0.2
             }
            },
            "type": "barpolar"
           }
          ],
          "carpet": [
           {
            "aaxis": {
             "endlinecolor": "#2a3f5f",
             "gridcolor": "#C8D4E3",
             "linecolor": "#C8D4E3",
             "minorgridcolor": "#C8D4E3",
             "startlinecolor": "#2a3f5f"
            },
            "baxis": {
             "endlinecolor": "#2a3f5f",
             "gridcolor": "#C8D4E3",
             "linecolor": "#C8D4E3",
             "minorgridcolor": "#C8D4E3",
             "startlinecolor": "#2a3f5f"
            },
            "type": "carpet"
           }
          ],
          "choropleth": [
           {
            "colorbar": {
             "outlinewidth": 0,
             "ticks": ""
            },
            "type": "choropleth"
           }
          ],
          "contour": [
           {
            "colorbar": {
             "outlinewidth": 0,
             "ticks": ""
            },
            "colorscale": [
             [
              0,
              "#0d0887"
             ],
             [
              0.1111111111111111,
              "#46039f"
             ],
             [
              0.2222222222222222,
              "#7201a8"
             ],
             [
              0.3333333333333333,
              "#9c179e"
             ],
             [
              0.4444444444444444,
              "#bd3786"
             ],
             [
              0.5555555555555556,
              "#d8576b"
             ],
             [
              0.6666666666666666,
              "#ed7953"
             ],
             [
              0.7777777777777778,
              "#fb9f3a"
             ],
             [
              0.8888888888888888,
              "#fdca26"
             ],
             [
              1,
              "#f0f921"
             ]
            ],
            "type": "contour"
           }
          ],
          "contourcarpet": [
           {
            "colorbar": {
             "outlinewidth": 0,
             "ticks": ""
            },
            "type": "contourcarpet"
           }
          ],
          "heatmap": [
           {
            "colorbar": {
             "outlinewidth": 0,
             "ticks": ""
            },
            "colorscale": [
             [
              0,
              "#0d0887"
             ],
             [
              0.1111111111111111,
              "#46039f"
             ],
             [
              0.2222222222222222,
              "#7201a8"
             ],
             [
              0.3333333333333333,
              "#9c179e"
             ],
             [
              0.4444444444444444,
              "#bd3786"
             ],
             [
              0.5555555555555556,
              "#d8576b"
             ],
             [
              0.6666666666666666,
              "#ed7953"
             ],
             [
              0.7777777777777778,
              "#fb9f3a"
             ],
             [
              0.8888888888888888,
              "#fdca26"
             ],
             [
              1,
              "#f0f921"
             ]
            ],
            "type": "heatmap"
           }
          ],
          "histogram": [
           {
            "marker": {
             "pattern": {
              "fillmode": "overlay",
              "size": 10,
              "solidity": 0.2
             }
            },
            "type": "histogram"
           }
          ],
          "histogram2d": [
           {
            "colorbar": {
             "outlinewidth": 0,
             "ticks": ""
            },
            "colorscale": [
             [
              0,
              "#0d0887"
             ],
             [
              0.1111111111111111,
              "#46039f"
             ],
             [
              0.2222222222222222,
              "#7201a8"
             ],
             [
              0.3333333333333333,
              "#9c179e"
             ],
             [
              0.4444444444444444,
              "#bd3786"
             ],
             [
              0.5555555555555556,
              "#d8576b"
             ],
             [
              0.6666666666666666,
              "#ed7953"
             ],
             [
              0.7777777777777778,
              "#fb9f3a"
             ],
             [
              0.8888888888888888,
              "#fdca26"
             ],
             [
              1,
              "#f0f921"
             ]
            ],
            "type": "histogram2d"
           }
          ],
          "histogram2dcontour": [
           {
            "colorbar": {
             "outlinewidth": 0,
             "ticks": ""
            },
            "colorscale": [
             [
              0,
              "#0d0887"
             ],
             [
              0.1111111111111111,
              "#46039f"
             ],
             [
              0.2222222222222222,
              "#7201a8"
             ],
             [
              0.3333333333333333,
              "#9c179e"
             ],
             [
              0.4444444444444444,
              "#bd3786"
             ],
             [
              0.5555555555555556,
              "#d8576b"
             ],
             [
              0.6666666666666666,
              "#ed7953"
             ],
             [
              0.7777777777777778,
              "#fb9f3a"
             ],
             [
              0.8888888888888888,
              "#fdca26"
             ],
             [
              1,
              "#f0f921"
             ]
            ],
            "type": "histogram2dcontour"
           }
          ],
          "mesh3d": [
           {
            "colorbar": {
             "outlinewidth": 0,
             "ticks": ""
            },
            "type": "mesh3d"
           }
          ],
          "parcoords": [
           {
            "line": {
             "colorbar": {
              "outlinewidth": 0,
              "ticks": ""
             }
            },
            "type": "parcoords"
           }
          ],
          "pie": [
           {
            "automargin": true,
            "type": "pie"
           }
          ],
          "scatter": [
           {
            "fillpattern": {
             "fillmode": "overlay",
             "size": 10,
             "solidity": 0.2
            },
            "type": "scatter"
           }
          ],
          "scatter3d": [
           {
            "line": {
             "colorbar": {
              "outlinewidth": 0,
              "ticks": ""
             }
            },
            "marker": {
             "colorbar": {
              "outlinewidth": 0,
              "ticks": ""
             }
            },
            "type": "scatter3d"
           }
          ],
          "scattercarpet": [
           {
            "marker": {
             "colorbar": {
              "outlinewidth": 0,
              "ticks": ""
             }
            },
            "type": "scattercarpet"
           }
          ],
          "scattergeo": [
           {
            "marker": {
             "colorbar": {
              "outlinewidth": 0,
              "ticks": ""
             }
            },
            "type": "scattergeo"
           }
          ],
          "scattergl": [
           {
            "marker": {
             "colorbar": {
              "outlinewidth": 0,
              "ticks": ""
             }
            },
            "type": "scattergl"
           }
          ],
          "scattermap": [
           {
            "marker": {
             "colorbar": {
              "outlinewidth": 0,
              "ticks": ""
             }
            },
            "type": "scattermap"
           }
          ],
          "scattermapbox": [
           {
            "marker": {
             "colorbar": {
              "outlinewidth": 0,
              "ticks": ""
             }
            },
            "type": "scattermapbox"
           }
          ],
          "scatterpolar": [
           {
            "marker": {
             "colorbar": {
              "outlinewidth": 0,
              "ticks": ""
             }
            },
            "type": "scatterpolar"
           }
          ],
          "scatterpolargl": [
           {
            "marker": {
             "colorbar": {
              "outlinewidth": 0,
              "ticks": ""
             }
            },
            "type": "scatterpolargl"
           }
          ],
          "scatterternary": [
           {
            "marker": {
             "colorbar": {
              "outlinewidth": 0,
              "ticks": ""
             }
            },
            "type": "scatterternary"
           }
          ],
          "surface": [
           {
            "colorbar": {
             "outlinewidth": 0,
             "ticks": ""
            },
            "colorscale": [
             [
              0,
              "#0d0887"
             ],
             [
              0.1111111111111111,
              "#46039f"
             ],
             [
              0.2222222222222222,
              "#7201a8"
             ],
             [
              0.3333333333333333,
              "#9c179e"
             ],
             [
              0.4444444444444444,
              "#bd3786"
             ],
             [
              0.5555555555555556,
              "#d8576b"
             ],
             [
              0.6666666666666666,
              "#ed7953"
             ],
             [
              0.7777777777777778,
              "#fb9f3a"
             ],
             [
              0.8888888888888888,
              "#fdca26"
             ],
             [
              1,
              "#f0f921"
             ]
            ],
            "type": "surface"
           }
          ],
          "table": [
           {
            "cells": {
             "fill": {
              "color": "#EBF0F8"
             },
             "line": {
              "color": "white"
             }
            },
            "header": {
             "fill": {
              "color": "#C8D4E3"
             },
             "line": {
              "color": "white"
             }
            },
            "type": "table"
           }
          ]
         },
         "layout": {
          "annotationdefaults": {
           "arrowcolor": "#2a3f5f",
           "arrowhead": 0,
           "arrowwidth": 1
          },
          "autotypenumbers": "strict",
          "coloraxis": {
           "colorbar": {
            "outlinewidth": 0,
            "ticks": ""
           }
          },
          "colorscale": {
           "diverging": [
            [
             0,
             "#8e0152"
            ],
            [
             0.1,
             "#c51b7d"
            ],
            [
             0.2,
             "#de77ae"
            ],
            [
             0.3,
             "#f1b6da"
            ],
            [
             0.4,
             "#fde0ef"
            ],
            [
             0.5,
             "#f7f7f7"
            ],
            [
             0.6,
             "#e6f5d0"
            ],
            [
             0.7,
             "#b8e186"
            ],
            [
             0.8,
             "#7fbc41"
            ],
            [
             0.9,
             "#4d9221"
            ],
            [
             1,
             "#276419"
            ]
           ],
           "sequential": [
            [
             0,
             "#0d0887"
            ],
            [
             0.1111111111111111,
             "#46039f"
            ],
            [
             0.2222222222222222,
             "#7201a8"
            ],
            [
             0.3333333333333333,
             "#9c179e"
            ],
            [
             0.4444444444444444,
             "#bd3786"
            ],
            [
             0.5555555555555556,
             "#d8576b"
            ],
            [
             0.6666666666666666,
             "#ed7953"
            ],
            [
             0.7777777777777778,
             "#fb9f3a"
            ],
            [
             0.8888888888888888,
             "#fdca26"
            ],
            [
             1,
             "#f0f921"
            ]
           ],
           "sequentialminus": [
            [
             0,
             "#0d0887"
            ],
            [
             0.1111111111111111,
             "#46039f"
            ],
            [
             0.2222222222222222,
             "#7201a8"
            ],
            [
             0.3333333333333333,
             "#9c179e"
            ],
            [
             0.4444444444444444,
             "#bd3786"
            ],
            [
             0.5555555555555556,
             "#d8576b"
            ],
            [
             0.6666666666666666,
             "#ed7953"
            ],
            [
             0.7777777777777778,
             "#fb9f3a"
            ],
            [
             0.8888888888888888,
             "#fdca26"
            ],
            [
             1,
             "#f0f921"
            ]
           ]
          },
          "colorway": [
           "#636efa",
           "#EF553B",
           "#00cc96",
           "#ab63fa",
           "#FFA15A",
           "#19d3f3",
           "#FF6692",
           "#B6E880",
           "#FF97FF",
           "#FECB52"
          ],
          "font": {
           "color": "#2a3f5f"
          },
          "geo": {
           "bgcolor": "white",
           "lakecolor": "white",
           "landcolor": "white",
           "showlakes": true,
           "showland": true,
           "subunitcolor": "#C8D4E3"
          },
          "hoverlabel": {
           "align": "left"
          },
          "hovermode": "closest",
          "mapbox": {
           "style": "light"
          },
          "paper_bgcolor": "white",
          "plot_bgcolor": "white",
          "polar": {
           "angularaxis": {
            "gridcolor": "#EBF0F8",
            "linecolor": "#EBF0F8",
            "ticks": ""
           },
           "bgcolor": "white",
           "radialaxis": {
            "gridcolor": "#EBF0F8",
            "linecolor": "#EBF0F8",
            "ticks": ""
           }
          },
          "scene": {
           "xaxis": {
            "backgroundcolor": "white",
            "gridcolor": "#DFE8F3",
            "gridwidth": 2,
            "linecolor": "#EBF0F8",
            "showbackground": true,
            "ticks": "",
            "zerolinecolor": "#EBF0F8"
           },
           "yaxis": {
            "backgroundcolor": "white",
            "gridcolor": "#DFE8F3",
            "gridwidth": 2,
            "linecolor": "#EBF0F8",
            "showbackground": true,
            "ticks": "",
            "zerolinecolor": "#EBF0F8"
           },
           "zaxis": {
            "backgroundcolor": "white",
            "gridcolor": "#DFE8F3",
            "gridwidth": 2,
            "linecolor": "#EBF0F8",
            "showbackground": true,
            "ticks": "",
            "zerolinecolor": "#EBF0F8"
           }
          },
          "shapedefaults": {
           "line": {
            "color": "#2a3f5f"
           }
          },
          "ternary": {
           "aaxis": {
            "gridcolor": "#DFE8F3",
            "linecolor": "#A2B1C6",
            "ticks": ""
           },
           "baxis": {
            "gridcolor": "#DFE8F3",
            "linecolor": "#A2B1C6",
            "ticks": ""
           },
           "bgcolor": "white",
           "caxis": {
            "gridcolor": "#DFE8F3",
            "linecolor": "#A2B1C6",
            "ticks": ""
           }
          },
          "title": {
           "x": 0.05
          },
          "xaxis": {
           "automargin": true,
           "gridcolor": "#EBF0F8",
           "linecolor": "#EBF0F8",
           "ticks": "",
           "title": {
            "standoff": 15
           },
           "zerolinecolor": "#EBF0F8",
           "zerolinewidth": 2
          },
          "yaxis": {
           "automargin": true,
           "gridcolor": "#EBF0F8",
           "linecolor": "#EBF0F8",
           "ticks": "",
           "title": {
            "standoff": 15
           },
           "zerolinecolor": "#EBF0F8",
           "zerolinewidth": 2
          }
         }
        },
        "title": {
         "font": {
          "color": "Black",
          "size": 22
         },
         "text": "<b>Hierarchical Clustering</b>",
         "x": 0.5,
         "xanchor": "center",
         "yanchor": "top"
        },
        "width": 1000,
        "xaxis": {
         "mirror": "allticks",
         "rangemode": "tozero",
         "showgrid": false,
         "showline": true,
         "showticklabels": true,
         "ticks": "outside",
         "type": "linear",
         "zeroline": false
        },
        "yaxis": {
         "mirror": "allticks",
         "range": [
          -140,
          0
         ],
         "rangemode": "tozero",
         "showgrid": false,
         "showline": true,
         "showticklabels": true,
         "tickmode": "array",
         "ticks": "outside",
         "ticktext": [
          "13_amerika_kapitalis_ciut",
          "11_sungai_abdul_wangi",
          "8_energi_hijau_positif",
          "12_daya saing_misi 02_selaras",
          "7_sistem_alat utama sistem_...",
          "4_palestina_israel_profesio...",
          "0_debat_02 menang_dukung 02",
          "1_pilih presiden_survei_putar",
          "2_politik_raka_partai",
          "3_program_makan_gratis",
          "5_ekonomi_tumbuh_infrastruk...",
          "9_stres_teori_02 stres",
          "6_online_direct message_mes...",
          "10_proses_proses hukum_pros..."
         ],
         "tickvals": [
          -5,
          -15,
          -25,
          -35,
          -45,
          -55,
          -65,
          -75,
          -85,
          -95,
          -105,
          -115,
          -125,
          -135
         ],
         "type": "linear",
         "zeroline": false
        }
       }
      }
     },
     "metadata": {},
     "output_type": "display_data"
    },
    {
     "data": {
      "application/vnd.plotly.v1+json": {
       "config": {
        "plotlyServerURL": "https://plot.ly"
       },
       "data": [
        {
         "coloraxis": "coloraxis",
         "hovertemplate": "x: %{x}<br>y: %{y}<br>Similarity Score: %{z}<extra></extra>",
         "name": "0",
         "type": "heatmap",
         "x": [
          "0_debat_02 menang_dukung 02",
          "1_pilih presiden_survei_putar",
          "2_politik_raka_partai",
          "3_program_makan_gratis",
          "4_palestina_israel_profesio...",
          "5_ekonomi_tumbuh_infrastruk...",
          "6_online_direct message_mes...",
          "7_sistem_alat utama sistem_...",
          "8_energi_hijau_positif",
          "9_stres_teori_02 stres",
          "10_proses_proses hukum_pros...",
          "11_sungai_abdul_wangi",
          "12_daya saing_misi 02_selaras",
          "13_amerika_kapitalis_ciut"
         ],
         "xaxis": "x",
         "y": [
          "0_debat_02 menang_dukung 02",
          "1_pilih presiden_survei_putar",
          "2_politik_raka_partai",
          "3_program_makan_gratis",
          "4_palestina_israel_profesio...",
          "5_ekonomi_tumbuh_infrastruk...",
          "6_online_direct message_mes...",
          "7_sistem_alat utama sistem_...",
          "8_energi_hijau_positif",
          "9_stres_teori_02 stres",
          "10_proses_proses hukum_pros...",
          "11_sungai_abdul_wangi",
          "12_daya saing_misi 02_selaras",
          "13_amerika_kapitalis_ciut"
         ],
         "yaxis": "y",
         "z": {
          "bdata": "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",
          "dtype": "f8",
          "shape": "14, 14"
         }
        }
       ],
       "layout": {
        "coloraxis": {
         "colorbar": {
          "title": {
           "text": "Similarity Score"
          }
         },
         "colorscale": [
          [
           0,
           "rgb(247,252,240)"
          ],
          [
           0.125,
           "rgb(224,243,219)"
          ],
          [
           0.25,
           "rgb(204,235,197)"
          ],
          [
           0.375,
           "rgb(168,221,181)"
          ],
          [
           0.5,
           "rgb(123,204,196)"
          ],
          [
           0.625,
           "rgb(78,179,211)"
          ],
          [
           0.75,
           "rgb(43,140,190)"
          ],
          [
           0.875,
           "rgb(8,104,172)"
          ],
          [
           1,
           "rgb(8,64,129)"
          ]
         ]
        },
        "height": 800,
        "hoverlabel": {
         "bgcolor": "white",
         "font": {
          "family": "Rockwell",
          "size": 16
         }
        },
        "legend": {
         "title": {
          "text": "Trend"
         }
        },
        "margin": {
         "t": 60
        },
        "showlegend": true,
        "template": {
         "data": {
          "bar": [
           {
            "error_x": {
             "color": "#2a3f5f"
            },
            "error_y": {
             "color": "#2a3f5f"
            },
            "marker": {
             "line": {
              "color": "#E5ECF6",
              "width": 0.5
             },
             "pattern": {
              "fillmode": "overlay",
              "size": 10,
              "solidity": 0.2
             }
            },
            "type": "bar"
           }
          ],
          "barpolar": [
           {
            "marker": {
             "line": {
              "color": "#E5ECF6",
              "width": 0.5
             },
             "pattern": {
              "fillmode": "overlay",
              "size": 10,
              "solidity": 0.2
             }
            },
            "type": "barpolar"
           }
          ],
          "carpet": [
           {
            "aaxis": {
             "endlinecolor": "#2a3f5f",
             "gridcolor": "white",
             "linecolor": "white",
             "minorgridcolor": "white",
             "startlinecolor": "#2a3f5f"
            },
            "baxis": {
             "endlinecolor": "#2a3f5f",
             "gridcolor": "white",
             "linecolor": "white",
             "minorgridcolor": "white",
             "startlinecolor": "#2a3f5f"
            },
            "type": "carpet"
           }
          ],
          "choropleth": [
           {
            "colorbar": {
             "outlinewidth": 0,
             "ticks": ""
            },
            "type": "choropleth"
           }
          ],
          "contour": [
           {
            "colorbar": {
             "outlinewidth": 0,
             "ticks": ""
            },
            "colorscale": [
             [
              0,
              "#0d0887"
             ],
             [
              0.1111111111111111,
              "#46039f"
             ],
             [
              0.2222222222222222,
              "#7201a8"
             ],
             [
              0.3333333333333333,
              "#9c179e"
             ],
             [
              0.4444444444444444,
              "#bd3786"
             ],
             [
              0.5555555555555556,
              "#d8576b"
             ],
             [
              0.6666666666666666,
              "#ed7953"
             ],
             [
              0.7777777777777778,
              "#fb9f3a"
             ],
             [
              0.8888888888888888,
              "#fdca26"
             ],
             [
              1,
              "#f0f921"
             ]
            ],
            "type": "contour"
           }
          ],
          "contourcarpet": [
           {
            "colorbar": {
             "outlinewidth": 0,
             "ticks": ""
            },
            "type": "contourcarpet"
           }
          ],
          "heatmap": [
           {
            "colorbar": {
             "outlinewidth": 0,
             "ticks": ""
            },
            "colorscale": [
             [
              0,
              "#0d0887"
             ],
             [
              0.1111111111111111,
              "#46039f"
             ],
             [
              0.2222222222222222,
              "#7201a8"
             ],
             [
              0.3333333333333333,
              "#9c179e"
             ],
             [
              0.4444444444444444,
              "#bd3786"
             ],
             [
              0.5555555555555556,
              "#d8576b"
             ],
             [
              0.6666666666666666,
              "#ed7953"
             ],
             [
              0.7777777777777778,
              "#fb9f3a"
             ],
             [
              0.8888888888888888,
              "#fdca26"
             ],
             [
              1,
              "#f0f921"
             ]
            ],
            "type": "heatmap"
           }
          ],
          "histogram": [
           {
            "marker": {
             "pattern": {
              "fillmode": "overlay",
              "size": 10,
              "solidity": 0.2
             }
            },
            "type": "histogram"
           }
          ],
          "histogram2d": [
           {
            "colorbar": {
             "outlinewidth": 0,
             "ticks": ""
            },
            "colorscale": [
             [
              0,
              "#0d0887"
             ],
             [
              0.1111111111111111,
              "#46039f"
             ],
             [
              0.2222222222222222,
              "#7201a8"
             ],
             [
              0.3333333333333333,
              "#9c179e"
             ],
             [
              0.4444444444444444,
              "#bd3786"
             ],
             [
              0.5555555555555556,
              "#d8576b"
             ],
             [
              0.6666666666666666,
              "#ed7953"
             ],
             [
              0.7777777777777778,
              "#fb9f3a"
             ],
             [
              0.8888888888888888,
              "#fdca26"
             ],
             [
              1,
              "#f0f921"
             ]
            ],
            "type": "histogram2d"
           }
          ],
          "histogram2dcontour": [
           {
            "colorbar": {
             "outlinewidth": 0,
             "ticks": ""
            },
            "colorscale": [
             [
              0,
              "#0d0887"
             ],
             [
              0.1111111111111111,
              "#46039f"
             ],
             [
              0.2222222222222222,
              "#7201a8"
             ],
             [
              0.3333333333333333,
              "#9c179e"
             ],
             [
              0.4444444444444444,
              "#bd3786"
             ],
             [
              0.5555555555555556,
              "#d8576b"
             ],
             [
              0.6666666666666666,
              "#ed7953"
             ],
             [
              0.7777777777777778,
              "#fb9f3a"
             ],
             [
              0.8888888888888888,
              "#fdca26"
             ],
             [
              1,
              "#f0f921"
             ]
            ],
            "type": "histogram2dcontour"
           }
          ],
          "mesh3d": [
           {
            "colorbar": {
             "outlinewidth": 0,
             "ticks": ""
            },
            "type": "mesh3d"
           }
          ],
          "parcoords": [
           {
            "line": {
             "colorbar": {
              "outlinewidth": 0,
              "ticks": ""
             }
            },
            "type": "parcoords"
           }
          ],
          "pie": [
           {
            "automargin": true,
            "type": "pie"
           }
          ],
          "scatter": [
           {
            "fillpattern": {
             "fillmode": "overlay",
             "size": 10,
             "solidity": 0.2
            },
            "type": "scatter"
           }
          ],
          "scatter3d": [
           {
            "line": {
             "colorbar": {
              "outlinewidth": 0,
              "ticks": ""
             }
            },
            "marker": {
             "colorbar": {
              "outlinewidth": 0,
              "ticks": ""
             }
            },
            "type": "scatter3d"
           }
          ],
          "scattercarpet": [
           {
            "marker": {
             "colorbar": {
              "outlinewidth": 0,
              "ticks": ""
             }
            },
            "type": "scattercarpet"
           }
          ],
          "scattergeo": [
           {
            "marker": {
             "colorbar": {
              "outlinewidth": 0,
              "ticks": ""
             }
            },
            "type": "scattergeo"
           }
          ],
          "scattergl": [
           {
            "marker": {
             "colorbar": {
              "outlinewidth": 0,
              "ticks": ""
             }
            },
            "type": "scattergl"
           }
          ],
          "scattermap": [
           {
            "marker": {
             "colorbar": {
              "outlinewidth": 0,
              "ticks": ""
             }
            },
            "type": "scattermap"
           }
          ],
          "scattermapbox": [
           {
            "marker": {
             "colorbar": {
              "outlinewidth": 0,
              "ticks": ""
             }
            },
            "type": "scattermapbox"
           }
          ],
          "scatterpolar": [
           {
            "marker": {
             "colorbar": {
              "outlinewidth": 0,
              "ticks": ""
             }
            },
            "type": "scatterpolar"
           }
          ],
          "scatterpolargl": [
           {
            "marker": {
             "colorbar": {
              "outlinewidth": 0,
              "ticks": ""
             }
            },
            "type": "scatterpolargl"
           }
          ],
          "scatterternary": [
           {
            "marker": {
             "colorbar": {
              "outlinewidth": 0,
              "ticks": ""
             }
            },
            "type": "scatterternary"
           }
          ],
          "surface": [
           {
            "colorbar": {
             "outlinewidth": 0,
             "ticks": ""
            },
            "colorscale": [
             [
              0,
              "#0d0887"
             ],
             [
              0.1111111111111111,
              "#46039f"
             ],
             [
              0.2222222222222222,
              "#7201a8"
             ],
             [
              0.3333333333333333,
              "#9c179e"
             ],
             [
              0.4444444444444444,
              "#bd3786"
             ],
             [
              0.5555555555555556,
              "#d8576b"
             ],
             [
              0.6666666666666666,
              "#ed7953"
             ],
             [
              0.7777777777777778,
              "#fb9f3a"
             ],
             [
              0.8888888888888888,
              "#fdca26"
             ],
             [
              1,
              "#f0f921"
             ]
            ],
            "type": "surface"
           }
          ],
          "table": [
           {
            "cells": {
             "fill": {
              "color": "#EBF0F8"
             },
             "line": {
              "color": "white"
             }
            },
            "header": {
             "fill": {
              "color": "#C8D4E3"
             },
             "line": {
              "color": "white"
             }
            },
            "type": "table"
           }
          ]
         },
         "layout": {
          "annotationdefaults": {
           "arrowcolor": "#2a3f5f",
           "arrowhead": 0,
           "arrowwidth": 1
          },
          "autotypenumbers": "strict",
          "coloraxis": {
           "colorbar": {
            "outlinewidth": 0,
            "ticks": ""
           }
          },
          "colorscale": {
           "diverging": [
            [
             0,
             "#8e0152"
            ],
            [
             0.1,
             "#c51b7d"
            ],
            [
             0.2,
             "#de77ae"
            ],
            [
             0.3,
             "#f1b6da"
            ],
            [
             0.4,
             "#fde0ef"
            ],
            [
             0.5,
             "#f7f7f7"
            ],
            [
             0.6,
             "#e6f5d0"
            ],
            [
             0.7,
             "#b8e186"
            ],
            [
             0.8,
             "#7fbc41"
            ],
            [
             0.9,
             "#4d9221"
            ],
            [
             1,
             "#276419"
            ]
           ],
           "sequential": [
            [
             0,
             "#0d0887"
            ],
            [
             0.1111111111111111,
             "#46039f"
            ],
            [
             0.2222222222222222,
             "#7201a8"
            ],
            [
             0.3333333333333333,
             "#9c179e"
            ],
            [
             0.4444444444444444,
             "#bd3786"
            ],
            [
             0.5555555555555556,
             "#d8576b"
            ],
            [
             0.6666666666666666,
             "#ed7953"
            ],
            [
             0.7777777777777778,
             "#fb9f3a"
            ],
            [
             0.8888888888888888,
             "#fdca26"
            ],
            [
             1,
             "#f0f921"
            ]
           ],
           "sequentialminus": [
            [
             0,
             "#0d0887"
            ],
            [
             0.1111111111111111,
             "#46039f"
            ],
            [
             0.2222222222222222,
             "#7201a8"
            ],
            [
             0.3333333333333333,
             "#9c179e"
            ],
            [
             0.4444444444444444,
             "#bd3786"
            ],
            [
             0.5555555555555556,
             "#d8576b"
            ],
            [
             0.6666666666666666,
             "#ed7953"
            ],
            [
             0.7777777777777778,
             "#fb9f3a"
            ],
            [
             0.8888888888888888,
             "#fdca26"
            ],
            [
             1,
             "#f0f921"
            ]
           ]
          },
          "colorway": [
           "#636efa",
           "#EF553B",
           "#00cc96",
           "#ab63fa",
           "#FFA15A",
           "#19d3f3",
           "#FF6692",
           "#B6E880",
           "#FF97FF",
           "#FECB52"
          ],
          "font": {
           "color": "#2a3f5f"
          },
          "geo": {
           "bgcolor": "white",
           "lakecolor": "white",
           "landcolor": "#E5ECF6",
           "showlakes": true,
           "showland": true,
           "subunitcolor": "white"
          },
          "hoverlabel": {
           "align": "left"
          },
          "hovermode": "closest",
          "mapbox": {
           "style": "light"
          },
          "paper_bgcolor": "white",
          "plot_bgcolor": "#E5ECF6",
          "polar": {
           "angularaxis": {
            "gridcolor": "white",
            "linecolor": "white",
            "ticks": ""
           },
           "bgcolor": "#E5ECF6",
           "radialaxis": {
            "gridcolor": "white",
            "linecolor": "white",
            "ticks": ""
           }
          },
          "scene": {
           "xaxis": {
            "backgroundcolor": "#E5ECF6",
            "gridcolor": "white",
            "gridwidth": 2,
            "linecolor": "white",
            "showbackground": true,
            "ticks": "",
            "zerolinecolor": "white"
           },
           "yaxis": {
            "backgroundcolor": "#E5ECF6",
            "gridcolor": "white",
            "gridwidth": 2,
            "linecolor": "white",
            "showbackground": true,
            "ticks": "",
            "zerolinecolor": "white"
           },
           "zaxis": {
            "backgroundcolor": "#E5ECF6",
            "gridcolor": "white",
            "gridwidth": 2,
            "linecolor": "white",
            "showbackground": true,
            "ticks": "",
            "zerolinecolor": "white"
           }
          },
          "shapedefaults": {
           "line": {
            "color": "#2a3f5f"
           }
          },
          "ternary": {
           "aaxis": {
            "gridcolor": "white",
            "linecolor": "white",
            "ticks": ""
           },
           "baxis": {
            "gridcolor": "white",
            "linecolor": "white",
            "ticks": ""
           },
           "bgcolor": "#E5ECF6",
           "caxis": {
            "gridcolor": "white",
            "linecolor": "white",
            "ticks": ""
           }
          },
          "title": {
           "x": 0.05
          },
          "xaxis": {
           "automargin": true,
           "gridcolor": "white",
           "linecolor": "white",
           "ticks": "",
           "title": {
            "standoff": 15
           },
           "zerolinecolor": "white",
           "zerolinewidth": 2
          },
          "yaxis": {
           "automargin": true,
           "gridcolor": "white",
           "linecolor": "white",
           "ticks": "",
           "title": {
            "standoff": 15
           },
           "zerolinecolor": "white",
           "zerolinewidth": 2
          }
         }
        },
        "title": {
         "font": {
          "color": "Black",
          "size": 22
         },
         "text": "<b>Similarity Matrix</b>",
         "x": 0.55,
         "xanchor": "center",
         "y": 0.95,
         "yanchor": "top"
        },
        "width": 800,
        "xaxis": {
         "anchor": "y",
         "constrain": "domain",
         "domain": [
          0,
          1
         ],
         "scaleanchor": "y"
        },
        "yaxis": {
         "anchor": "x",
         "autorange": "reversed",
         "constrain": "domain",
         "domain": [
          0,
          1
         ]
        }
       }
      }
     },
     "metadata": {},
     "output_type": "display_data"
    },
    {
     "data": {
      "image/png": "[encoded data removed]",
      "text/plain": [
       "<Figure size 1500x1000 with 3 Axes>"
      ]
     },
     "metadata": {},
     "output_type": "display_data"
    }
   ],
   "source": [
    "# Get the improved topic information\n",
    "topic_info = topic_model.get_topic_info()\n",
    "print(\"\\nImproved Topic Information:\")\n",
    "print(topic_info.head(10))\n",
    "\n",
    "# Print topics with their new labels\n",
    "print(\"\\nCampaign Themes for Ganjar-Mahfud:\")\n",
    "for index, row in topic_info.iterrows():\n",
    "    if row[\"Topic\"] != -1:  # Skip outlier topic\n",
    "        topic_id = row[\"Topic\"]\n",
    "        words = [word[0] for word in topic_model.get_topic(topic_id)[:8]]\n",
    "        print(f\"Theme: {row['Name']}\")\n",
    "        print(f\"Keywords: {', '.join(words)}\")\n",
    "        print(f\"Document count: {row['Count']}\")\n",
    "        print(\"-\" * 50)\n",
    "\n",
    "# Create a topic distribution visualization\n",
    "plt.figure(figsize=(12, 6))\n",
    "topic_counts = topic_info[topic_info[\"Topic\"] != -1][\"Count\"]\n",
    "topic_names = [label for topic, label in topic_labels.items() if topic != -1][:len(topic_counts)]\n",
    "\n",
    "# Plot with better color scheme\n",
    "bars = plt.bar(topic_names, topic_counts, color=plt.cm.viridis(np.linspace(0, 1, len(topic_counts))))\n",
    "\n",
    "# Add count labels on top of bars\n",
    "for bar in bars:\n",
    "    height = bar.get_height()\n",
    "    plt.text(bar.get_x() + bar.get_width()/2., height + 0.5,\n",
    "            f'{int(height)}', ha='center', va='bottom', fontweight='bold')\n",
    "\n",
    "plt.xticks(rotation=45, ha=\"right\")\n",
    "plt.title(\"Distribution of Campaign Themes in Ganjar-Mahfud Tweets\", fontsize=14, fontweight='bold')\n",
    "plt.xlabel(\"Campaign Themes\", fontsize=12)\n",
    "plt.ylabel(\"Number of Tweets\", fontsize=12)\n",
    "plt.tight_layout()\n",
    "plt.grid(axis='y', linestyle='--', alpha=0.7)\n",
    "plt.show()\n",
    "\n",
    "# Display interactive visualizations\n",
    "intertopic_map = topic_model.visualize_topics()\n",
    "display(intertopic_map)\n",
    "\n",
    "# Create hierarchical clustering visualization\n",
    "hierarchy = topic_model.visualize_hierarchy()\n",
    "display(hierarchy)\n",
    "\n",
    "# Create heatmap of topic similarities\n",
    "heatmap = topic_model.visualize_heatmap()\n",
    "display(heatmap)\n",
    "\n",
    "# Create word clouds for top 3 topics\n",
    "plt.figure(figsize=(15, 10))\n",
    "for i, topic_id in enumerate(topic_info[topic_info['Topic'] != -1]['Topic'][:3]):\n",
    "    plt.subplot(1, 3, i+1)\n",
    "    \n",
    "    # Get topic words and weights\n",
    "    words = dict(topic_model.get_topic(topic_id)[:15])\n",
    "    \n",
    "    # Create and display wordcloud\n",
    "    wordcloud = WordCloud(width=400, height=400, background_color='white', \n",
    "                          colormap='viridis', max_words=50).generate_from_frequencies(words)\n",
    "    \n",
    "    plt.imshow(wordcloud, interpolation='bilinear')\n",
    "    plt.title(f\"Topic: {topic_labels[topic_id]}\", fontsize=12)\n",
    "    plt.axis('off')\n",
    "\n",
    "plt.tight_layout()\n",
    "plt.show()"
   ]
  },
  {
   "cell_type": "code",
   "execution_count": 8,
   "id": "4500eb6a",
   "metadata": {},
   "outputs": [],
   "source": [
    "from wordcloud import WordCloud\n",
    "import seaborn as sns"
   ]
  },
  {
   "cell_type": "code",
   "execution_count": 9,
   "id": "e3a853b5",
   "metadata": {},
   "outputs": [
    {
     "name": "stdout",
     "output_type": "stream",
     "text": [
      "\n",
      "Representative tweets for key campaign themes:\n",
      "\n",
      "--- Theme: 0_debat_02 menang_dukung 02_kayak ---\n",
      "1. asyik nih calon presiden calon wakil presiden 02 mundur jabat takut kalah sih niat jabat presiden netral...\n",
      "2. periksa in otak pakai mri error pilih calon pimpin calon ngakalin undang undang langgar konstitusi aneh visi misi apa solusi 02 makan siang gratis hilir...\n",
      "3. pas voting isi x hina pndkg 02 maki sumber daya manusia rendah bla bla voting hasil selesai gambar hina sadar sih sumber daya manusia rendah hina bantu urus curang bilang komisi pemelihan hina...\n",
      "\n",
      "--- Theme: 1_pilih presiden_survei_putar_kayak ---\n",
      "1. prabowo pokok rusak incumbent fasilitas negara kampanye legal atur perintah calon presiden calon wakil presiden mundur...\n",
      "2. undur calon presiden calon wakil presiden cuti kerja nusron wahid beliau prabowo gibran putus menteri tahan wali kota kampanye cuti maksimal minggu kali...\n",
      "3. prabowo masuk tuhan tim sukses salut performa sih asam sulfat heran jilat istana juang bersih ketololann terima kasih fakta...\n",
      "\n",
      "--- Theme: 2_politik_raka_partai_juang ---\n",
      "1. temu presiden jokowi ketua partai politik usung calon presiden calon wakil presiden prabowo subianto gibran rakabuming raka lanjut ketua zulkifli hasan...\n",
      "2. istirahat news pasang calon presiden calon wakil presiden koalisi indonesia maju prabowo subianto gibran rakabuming raka prediksi unggul hasil survei baru populi center gambar simulasi tokoh calon pre...\n",
      "3. pasang calon presiden wakil presiden koalisi indonesia maju kim prabowo subianto gibran rakabuming raka salam ketua partai demokrasi indonesia juang megawati soekarno putri...\n",
      "\n",
      "--- Theme: 3_program_makan_gratis_food ---\n",
      "1. kepincut program makan siang susu gratis bsm bayar instusi dukung prabowo gibran gibran...\n",
      "2. faisal basri program prabowo gibran susu makan siang gratis...\n",
      "3. gibran makan siang susu gratis program ada gibran rakabuming raka program makan siang susu gratis gagas program ada...\n",
      "\n",
      "--- Theme: 4_palestina_israel_profesional_abu janda ---\n",
      "1. bela palestina dukung 02 fix hipokrit peduli bantu kasih beliau palestina orang us bantu palestina sisi sumbang senjata israel...\n",
      "2. generalisir dukung 02 profesional israel abu janda profesional israel...\n",
      "3. prabowo langgar bela israel bela palestina...\n"
     ]
    }
   ],
   "source": [
    "# Create topic distribution from the existing topic_info\n",
    "topic_distribution = topic_info.set_index(\"Topic\")[\"Count\"]\n",
    "\n",
    "# Get representative documents for key campaign themes\n",
    "print(\"\\nRepresentative tweets for key campaign themes:\")\n",
    "key_topics = [t for t in topic_distribution.index if t != -1][:5]\n",
    "\n",
    "for topic_id in key_topics:\n",
    "    theme_name = topic_model.get_topic_info().loc[topic_model.get_topic_info()[\"Topic\"] == topic_id, \"Name\"].values[0]\n",
    "    print(f\"\\n--- Theme: {theme_name} ---\")\n",
    "    rep_docs = topic_model.get_representative_docs(topic_id)\n",
    "    for i, doc in enumerate(rep_docs[:3]):\n",
    "        print(f\"{i+1}. {doc[:200]}...\")"
   ]
  }
 ],
 "metadata": {
  "kernelspec": {
   "display_name": "Python 3",
   "language": "python",
   "name": "python3"
  },
  "language_info": {
   "codemirror_mode": {
    "name": "ipython",
    "version": 3
   },
   "file_extension": ".py",
   "mimetype": "text/x-python",
   "name": "python",
   "nbconvert_exporter": "python",
   "pygments_lexer": "ipython3",
   "version": "3.10.10"
  }
 },
 "nbformat": 4,
 "nbformat_minor": 5
}
